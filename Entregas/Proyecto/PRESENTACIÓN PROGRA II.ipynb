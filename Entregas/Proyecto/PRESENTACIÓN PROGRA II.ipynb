{
 "cells": [
  {
   "cell_type": "markdown",
   "metadata": {
    "slideshow": {
     "slide_type": "slide"
    }
   },
   "source": [
    " \n",
    "<center><span style=\"color:darkred; font-size:3em; font:frutiger\"> DATA CLEANING CON R </span> </center>       \n",
    "  \n",
    "  \n",
    "  \n",
    "  \n",
    "  \n",
    "  \n",
    "  \n",
    "  \n",
    "<span style=\"color:darkblue;font: frutiger\">Programación II</span>   \n",
    "\n",
    "\n",
    "Mariela Lizeth Benavides Lázaro  \n",
    "Ernesto René Monterroso Zamora  \n",
    "Allan Fernando Santizo Flores  \n",
    "\n",
    "\n",
    "<div class=\"pull-right\"><img src=\"C:\\Users\\allan\\Desktop\\proyecto\\dcs.png\" width=\"400\" height=\"400\" /></div>\n",
    "\n",
    "\n"
   ]
  },
  {
   "cell_type": "markdown",
   "metadata": {
    "slideshow": {
     "slide_type": "slide"
    }
   },
   "source": [
    "<center><img src=\"C:\\Users\\allan\\Desktop\\proyecto\\dc.jpg\" width=\"600\" height=\"600\" /></center>\n"
   ]
  },
  {
   "cell_type": "markdown",
   "metadata": {
    "slideshow": {
     "slide_type": "slide"
    }
   },
   "source": [
    "<span style=\"color:darkred; font-size:1.5em; font:frutiger\"> Referencia bibliográfica </span>\n",
    "<div class=\"text-justify\">\n",
    "<span style=\"color:blue; font-size:0.5em\"> https://cran.r-project.org/doc/contrib/de_Jonge+van_der_Loo-Introduction_to_data_cleaning_with_R.pdf </span></div>\n",
    "\n",
    "\n",
    "<div class=\"pull-right\"><img src=\"C:\\Users\\allan\\Desktop\\proyecto\\portada.png\" width=\"400\" height=\"400\" /></div>"
   ]
  },
  {
   "cell_type": "markdown",
   "metadata": {
    "slideshow": {
     "slide_type": "slide"
    }
   },
   "source": [
    "<span style=\"color:darkred; font-size:1.5em; font:frutiger\"> INTRODUCCIÓN </span>\n",
    "<div class=\"text-justify\">\n",
    "El análisis de datos es un proceso de inspección, limpieza, transformación y modelado de datos con el objetivo de resaltar información útil, sugerir conclusiones y apoyar la toma de decisiones.</div>\n"
   ]
  },
  {
   "cell_type": "markdown",
   "metadata": {
    "slideshow": {
     "slide_type": "fragment"
    }
   },
   "source": [
    "\n",
    "<div class=\"text-justify\"> Es poco probable que los datos sin procesar con los que se trabaja estén en el formato correcto, sin errores, completos y con las etiquetas y códigos correctos que se necesitan para su análisis. Por lo que, la limpieza de datos es considerada una parte esencial del análisis estadístico ya que se necesitará en la mayoría de casos transformar datos en bruto en datos consistentes para que puedan ser analizados.   </div>  \n"
   ]
  },
  {
   "cell_type": "markdown",
   "metadata": {
    "slideshow": {
     "slide_type": "fragment"
    }
   },
   "source": [
    "\n",
    "<div class=\"text-justify\">En la práctica, a menudo lleva más tiempo que el análisis estadístico en sí. Por lo que, se describirán a continuación una variedad de técnicas, implementadas en el entorno estadístico R, proporcionando elementos para incluir en  scripts de limpieza de datos, para bases que sufren una amplia gama de errores e inconsistencias.    </div>  \n"
   ]
  },
  {
   "cell_type": "markdown",
   "metadata": {
    "slideshow": {
     "slide_type": "fragment"
    }
   },
   "source": [
    "\n",
    "<div class=\"text-justify\">Entre los aspectos considerados se incluyen verificación de datos, localización de errores y una introducción a los métodos de imputación en R. Se presentan los problemas que comunmente es necesario resolver y la forma en que pueden abordarse utilizando distintos paquetes de R.   \n",
    "</div>  "
   ]
  },
  {
   "cell_type": "code",
   "execution_count": 3,
   "metadata": {
    "slideshow": {
     "slide_type": "subslide"
    }
   },
   "outputs": [],
   "source": [
    "#Librerias\n",
    "#install.packages(\"readxl\")\n",
    "library(readxl)\n",
    "#install.packages(\"validate\")\n",
    "library(validate)\n",
    "#install.packages(\"stringr\")\n",
    "library(stringr)\n",
    "#install.packages(\"igraph\")\n",
    "library(igraph)\n",
    "#install.packages(\"editrules\")\n",
    "library(editrules)\n",
    "#install.packages(\"deducorrect\")\n",
    "library(deducorrect)\n",
    "#install.packages(\"lattice\")\n",
    "library(lattice)\n",
    "#install.packages(\"survival\")\n",
    "library(survival)\n",
    "#install.packages(\"Formula\")\n",
    "library(Formula)\n",
    "#install.packages(\"ggplot2\")\n",
    "library(ggplot2)\n",
    "#install.packages(\"Hmisc\")\n",
    "library(Hmisc)\n",
    "#install.packages(\"VIM\")\n",
    "library(VIM)\n",
    "#install.packages(\"colorspace\")\n",
    "library(colorspace)\n",
    "#install.packages(\"grid\")\n",
    "library(grid)\n",
    "#install.packages(\"data.table\")\n",
    "library(data.table)\n",
    "#install.packages(\"rspa\")\n",
    "library(rspa)"
   ]
  },
  {
   "cell_type": "markdown",
   "metadata": {
    "slideshow": {
     "slide_type": "slide"
    }
   },
   "source": [
    "## 1. ASPECTOS GENERALES\n",
    "\n",
    "<span style=\"color:darkred; font-size:1.5em; font:frutiger\"> 1.1. Análisis Estadístico</span>\n",
    "\n",
    "Se tratará el análisis estadístico como el resultado de una serie de pasos de procesamiento de datos donde cada paso aumenta el \"valor de los datos\".  \n",
    "  \n",
    "  \n",
    "El proceso se reduce a un conjunto de pasos:"
   ]
  },
  {
   "cell_type": "markdown",
   "metadata": {
    "slideshow": {
     "slide_type": "subslide"
    }
   },
   "source": [
    "<center><img src=\"C:\\Users\\allan\\Desktop\\proyecto\\diagrama.jpg\" width=\"600\" height=\"400\" /></center>      "
   ]
  },
  {
   "cell_type": "markdown",
   "metadata": {
    "slideshow": {
     "slide_type": "slide"
    }
   },
   "source": [
    "<span style=\"color:darkred; font-size:1.5em\"> 1.2. Valores especiales a considerar en las bases de datos </span>\n",
    "                                                     \n",
    "<div class=\"text-justify\">  \n",
    "Como la mayoría de los lenguajes de programación, R tiene una serie de valores especiales que son excepciones avalores normales de un tipo específico. Estos son NA, NULL, ± Inf y NaN. Existen diferencias entre ellos que será necesario identificar al realizar tratamiento de datos.\n",
    "</div>\n"
   ]
  },
  {
   "cell_type": "markdown",
   "metadata": {
    "slideshow": {
     "slide_type": "fragment"
    }
   },
   "source": [
    "* <div class=\"text-justify\">   NA: utilizado para indicar datos no disponible, NA es un marcador de posición para un valor faltante. Todas las operaciones básicas en R manejan NA sin generar errores en su ejecución y en su mayoría devuelven NA como respuesta siempre que una de las entradas del argumento es NA. Es posible utilizar la función \"is.na\" para detectar valores faltantes.</div>\n"
   ]
  },
  {
   "cell_type": "code",
   "execution_count": 164,
   "metadata": {
    "slideshow": {
     "slide_type": "skip"
    }
   },
   "outputs": [],
   "source": [
    "library(readxl)\n",
    "ENEI20181P <- read_excel(\"C:/Users/IN_CAP02/Desktop/proyecto/ENEI20181P.xlsx\")"
   ]
  },
  {
   "cell_type": "code",
   "execution_count": 6,
   "metadata": {
    "slideshow": {
     "slide_type": "fragment"
    }
   },
   "outputs": [
    {
     "name": "stdout",
     "output_type": "stream",
     "text": [
      "La cantidad de NA en PPA11 es:  13321"
     ]
    }
   ],
   "source": [
    "d= ENEI20181P$PPA11\n",
    "b <- cbind(1,nrow(ENEI20181P))\n",
    "\n",
    "for (i in 1:nrow(ENEI20181P))\n",
    "    {\n",
    "    a=is.na(d[i])\n",
    "    b[i]=a\n",
    "        }\n",
    "\n",
    "cat(\"La cantidad de NA en PPA11 es: \", sum(b))\n"
   ]
  },
  {
   "cell_type": "markdown",
   "metadata": {
    "slideshow": {
     "slide_type": "subslide"
    }
   },
   "source": [
    "* <div class=\"text-justify\"> NULL : Se puede pensar en este tipo de valores como el conjunto vacío de las matemáticas. NULL es especial ya que no tiene clase (su clase es NULL) y tiene una longitud 0, por lo que no ocupa espacio en un vector.  Es posible utilizar la función \"is.null\" para detectar variables NULL. </div>\n"
   ]
  },
  {
   "cell_type": "code",
   "execution_count": 7,
   "metadata": {
    "slideshow": {
     "slide_type": "fragment"
    }
   },
   "outputs": [
    {
     "data": {
      "text/html": [
       "3"
      ],
      "text/latex": [
       "3"
      ],
      "text/markdown": [
       "3"
      ],
      "text/plain": [
       "[1] 3"
      ]
     },
     "metadata": {},
     "output_type": "display_data"
    }
   ],
   "source": [
    "length(c(1, 2, NULL, 4))"
   ]
  },
  {
   "cell_type": "markdown",
   "metadata": {
    "slideshow": {
     "slide_type": "fragment"
    }
   },
   "source": [
    "* <div class=\"text-justify\"> Inf : hace referencia al infinito y solo se aplica a vectores de clase numérica. Un vector de clase entero no puede ser inf, en R Inf esta derivada únicamente para flotantes.   Técnicamente, Inf es un valor numérico válido que resulta de cálculos como la <span style=\"color:red\"> división de un número por cero. </span> Como Inf es un valor numérico, las operaciones entre Inf y un número finito están bien definidos y los operadores de comparación funcionan como se espera </div>"
   ]
  },
  {
   "cell_type": "code",
   "execution_count": 8,
   "metadata": {
    "slideshow": {
     "slide_type": "fragment"
    }
   },
   "outputs": [
    {
     "data": {
      "text/html": [
       "<style>\n",
       ".list-inline {list-style: none; margin:0; padding: 0}\n",
       ".list-inline>li {display: inline-block}\n",
       ".list-inline>li:not(:last-child)::after {content: \"\\00b7\"; padding: 0 .5ex}\n",
       "</style>\n",
       "<ol class=list-inline><li>250</li><li>&lt;NA&gt;</li><li>983.333333333333</li><li>&lt;NA&gt;</li><li>Inf</li><li>Inf</li><li>&lt;NA&gt;</li><li>&lt;NA&gt;</li><li>&lt;NA&gt;</li><li>&lt;NA&gt;</li><li>Inf</li><li>&lt;NA&gt;</li><li>750</li><li>114.814814814815</li><li>&lt;NA&gt;</li></ol>\n"
      ],
      "text/latex": [
       "\\begin{enumerate*}\n",
       "\\item 250\n",
       "\\item <NA>\n",
       "\\item 983.333333333333\n",
       "\\item <NA>\n",
       "\\item Inf\n",
       "\\item Inf\n",
       "\\item <NA>\n",
       "\\item <NA>\n",
       "\\item <NA>\n",
       "\\item <NA>\n",
       "\\item Inf\n",
       "\\item <NA>\n",
       "\\item 750\n",
       "\\item 114.814814814815\n",
       "\\item <NA>\n",
       "\\end{enumerate*}\n"
      ],
      "text/markdown": [
       "1. 250\n",
       "2. &lt;NA&gt;\n",
       "3. 983.333333333333\n",
       "4. &lt;NA&gt;\n",
       "5. Inf\n",
       "6. Inf\n",
       "7. &lt;NA&gt;\n",
       "8. &lt;NA&gt;\n",
       "9. &lt;NA&gt;\n",
       "10. &lt;NA&gt;\n",
       "11. Inf\n",
       "12. &lt;NA&gt;\n",
       "13. 750\n",
       "14. 114.814814814815\n",
       "15. &lt;NA&gt;\n",
       "\n",
       "\n"
      ],
      "text/plain": [
       " [1] 250.0000       NA 983.3333       NA      Inf      Inf       NA       NA\n",
       " [9]       NA       NA      Inf       NA 750.0000 114.8148       NA"
      ]
     },
     "metadata": {},
     "output_type": "display_data"
    }
   ],
   "source": [
    "#Siendo P04C10 = Salario, P04C30= Tiempo de trabajo\n",
    "\n",
    "M= ENEI20181P$P04C10 / ENEI20181P$P04C30\n",
    "M[1:15]"
   ]
  },
  {
   "cell_type": "markdown",
   "metadata": {
    "slideshow": {
     "slide_type": "subslide"
    }
   },
   "source": [
    "* <div class=\"text-justify\"> Nan: Indica que no hay un número. Este es generalmente el resultado de un cálculo cuyo resultado es\n",
    "desconocido, pero seguramente no es un número. En operaciones particulares como <span style=\"color:red\"> 0/0 </span>, Inf-Inf y Inf / Inf resulta en NaN. Técnicamente, NaN es de clase numérica, lo que puede parecer extraño ya que se usa para indicar que algo no es numérico. Cálculos que involucran números y NaN siempre da como resultado NaN. Es posible utilizar la función \"is.nan\" para detectar Nan's. </div>"
   ]
  },
  {
   "cell_type": "code",
   "execution_count": 9,
   "metadata": {
    "scrolled": true,
    "slideshow": {
     "slide_type": "fragment"
    }
   },
   "outputs": [
    {
     "data": {
      "text/html": [
       "<style>\n",
       ".list-inline {list-style: none; margin:0; padding: 0}\n",
       ".list-inline>li {display: inline-block}\n",
       ".list-inline>li:not(:last-child)::after {content: \"\\00b7\"; padding: 0 .5ex}\n",
       "</style>\n",
       "<ol class=list-inline><li>0.0666666666666667</li><li>&lt;NA&gt;</li><li>NaN</li><li>&lt;NA&gt;</li><li>0.0666666666666667</li><li>&lt;NA&gt;</li></ol>\n"
      ],
      "text/latex": [
       "\\begin{enumerate*}\n",
       "\\item 0.0666666666666667\n",
       "\\item <NA>\n",
       "\\item NaN\n",
       "\\item <NA>\n",
       "\\item 0.0666666666666667\n",
       "\\item <NA>\n",
       "\\end{enumerate*}\n"
      ],
      "text/markdown": [
       "1. 0.0666666666666667\n",
       "2. &lt;NA&gt;\n",
       "3. NaN\n",
       "4. &lt;NA&gt;\n",
       "5. 0.0666666666666667\n",
       "6. &lt;NA&gt;\n",
       "\n",
       "\n"
      ],
      "text/plain": [
       "[1] 0.06666667         NA        NaN         NA 0.06666667         NA"
      ]
     },
     "metadata": {},
     "output_type": "display_data"
    }
   ],
   "source": [
    "#Siendo PPA11 = cantidad de hijos , P04C30= nivel educativo\n",
    "\n",
    "\n",
    "A= ENEI20181P$PPA11 / ENEI20181P$P04C30\n",
    "A[145:150]"
   ]
  },
  {
   "cell_type": "markdown",
   "metadata": {
    "slideshow": {
     "slide_type": "slide"
    }
   },
   "source": [
    "## 2. Información bruta $\\to$ Datos técnicamente correctos  \n",
    "  \n",
    "<span style=\"color:darkred; font-size:1.5em; font:frutiger\"> 2.1 Datos técnicamente correctos en R</span>\n",
    "\n",
    "  \n",
    " El ambiente de R es capaz de leer y procesar distintas bases de datos de diferentes archivos. Vamos a referirnos a datos técnicamente correctos a aquellos que cumplen lo siguiente:  \n",
    " \n",
    " 1. Está resguardada en un DataFrame con columnas nombradas,\n",
    " 2. Cada columna del DataFrame es el tipo de R que mejor representa el valor dominante de las variables de la columna.  \n",
    " \n",
    "Antes de empezar a transformar los datos, es recomendable hacer una rápida inspección de los mismos, para lo cual se pueden utilizar las siguientes funciones"
   ]
  },
  {
   "cell_type": "code",
   "execution_count": null,
   "metadata": {
    "slideshow": {
     "slide_type": "skip"
    }
   },
   "outputs": [],
   "source": [
    "#install.packages(\"validate\")\n",
    "#install.packages(\"dplyr\")\n",
    "library(readxl)\n",
    "library(validate)\n",
    "library(stringr)"
   ]
  },
  {
   "cell_type": "code",
   "execution_count": 10,
   "metadata": {
    "slideshow": {
     "slide_type": "subslide"
    }
   },
   "outputs": [
    {
     "data": {
      "text/html": [
       "<style>\n",
       ".list-inline {list-style: none; margin:0; padding: 0}\n",
       ".list-inline>li {display: inline-block}\n",
       ".list-inline>li:not(:last-child)::after {content: \"\\00b7\"; padding: 0 .5ex}\n",
       "</style>\n",
       "<ol class=list-inline><li>'tbl_df'</li><li>'tbl'</li><li>'data.frame'</li></ol>\n"
      ],
      "text/latex": [
       "\\begin{enumerate*}\n",
       "\\item 'tbl\\_df'\n",
       "\\item 'tbl'\n",
       "\\item 'data.frame'\n",
       "\\end{enumerate*}\n"
      ],
      "text/markdown": [
       "1. 'tbl_df'\n",
       "2. 'tbl'\n",
       "3. 'data.frame'\n",
       "\n",
       "\n"
      ],
      "text/plain": [
       "[1] \"tbl_df\"     \"tbl\"        \"data.frame\""
      ]
     },
     "metadata": {},
     "output_type": "display_data"
    },
    {
     "data": {
      "text/html": [
       "<style>\n",
       ".list-inline {list-style: none; margin:0; padding: 0}\n",
       ".list-inline>li {display: inline-block}\n",
       ".list-inline>li:not(:last-child)::after {content: \"\\00b7\"; padding: 0 .5ex}\n",
       "</style>\n",
       "<ol class=list-inline><li>22310</li><li>265</li></ol>\n"
      ],
      "text/latex": [
       "\\begin{enumerate*}\n",
       "\\item 22310\n",
       "\\item 265\n",
       "\\end{enumerate*}\n"
      ],
      "text/markdown": [
       "1. 22310\n",
       "2. 265\n",
       "\n",
       "\n"
      ],
      "text/plain": [
       "[1] 22310   265"
      ]
     },
     "metadata": {},
     "output_type": "display_data"
    },
    {
     "data": {
      "text/html": [
       "<style>\n",
       ".list-inline {list-style: none; margin:0; padding: 0}\n",
       ".list-inline>li {display: inline-block}\n",
       ".list-inline>li:not(:last-child)::after {content: \"\\00b7\"; padding: 0 .5ex}\n",
       "</style>\n",
       "<ol class=list-inline><li>'DOMINIO'</li><li>'AREA'</li><li>'UPM'</li><li>'Factor_expansion'</li><li>'NUM_HOGAR'</li><li>'ID'</li><li>'PPA02'</li><li>'PPA03'</li><li>'PPA04A'</li><li>'PPA04B'</li><li>'PPA04C'</li><li>'PPA05'</li><li>'PPA06'</li><li>'PPA07'</li><li>'PPA08'</li><li>'PPA09'</li><li>'PPA10A'</li><li>'PPA10B'</li><li>'PPA11'</li><li>'PPA12'</li></ol>\n"
      ],
      "text/latex": [
       "\\begin{enumerate*}\n",
       "\\item 'DOMINIO'\n",
       "\\item 'AREA'\n",
       "\\item 'UPM'\n",
       "\\item 'Factor\\_expansion'\n",
       "\\item 'NUM\\_HOGAR'\n",
       "\\item 'ID'\n",
       "\\item 'PPA02'\n",
       "\\item 'PPA03'\n",
       "\\item 'PPA04A'\n",
       "\\item 'PPA04B'\n",
       "\\item 'PPA04C'\n",
       "\\item 'PPA05'\n",
       "\\item 'PPA06'\n",
       "\\item 'PPA07'\n",
       "\\item 'PPA08'\n",
       "\\item 'PPA09'\n",
       "\\item 'PPA10A'\n",
       "\\item 'PPA10B'\n",
       "\\item 'PPA11'\n",
       "\\item 'PPA12'\n",
       "\\end{enumerate*}\n"
      ],
      "text/markdown": [
       "1. 'DOMINIO'\n",
       "2. 'AREA'\n",
       "3. 'UPM'\n",
       "4. 'Factor_expansion'\n",
       "5. 'NUM_HOGAR'\n",
       "6. 'ID'\n",
       "7. 'PPA02'\n",
       "8. 'PPA03'\n",
       "9. 'PPA04A'\n",
       "10. 'PPA04B'\n",
       "11. 'PPA04C'\n",
       "12. 'PPA05'\n",
       "13. 'PPA06'\n",
       "14. 'PPA07'\n",
       "15. 'PPA08'\n",
       "16. 'PPA09'\n",
       "17. 'PPA10A'\n",
       "18. 'PPA10B'\n",
       "19. 'PPA11'\n",
       "20. 'PPA12'\n",
       "\n",
       "\n"
      ],
      "text/plain": [
       " [1] \"DOMINIO\"          \"AREA\"             \"UPM\"              \"Factor_expansion\"\n",
       " [5] \"NUM_HOGAR\"        \"ID\"               \"PPA02\"            \"PPA03\"           \n",
       " [9] \"PPA04A\"           \"PPA04B\"           \"PPA04C\"           \"PPA05\"           \n",
       "[13] \"PPA06\"            \"PPA07\"            \"PPA08\"            \"PPA09\"           \n",
       "[17] \"PPA10A\"           \"PPA10B\"           \"PPA11\"            \"PPA12\"           "
      ]
     },
     "metadata": {},
     "output_type": "display_data"
    }
   ],
   "source": [
    "archivo <- read_xlsx(\"C:/Users/IN_CAP02/Desktop/proyecto/ENEI20181PO.xlsx\")\n",
    "#lectura del archivo de excel, cuyos datos serán utilizados para una rápida inspección.\n",
    "class(archivo) # se consulta la clase del archivo\n",
    "dim(archivo)   # se consulta la dimensión del archivo, primero filas y segundo columnas\n",
    "names(archivo[1:20]) # se consulta el nombre de las columnas del archivo"
   ]
  },
  {
   "cell_type": "code",
   "execution_count": 11,
   "metadata": {
    "slideshow": {
     "slide_type": "fragment"
    }
   },
   "outputs": [
    {
     "name": "stdout",
     "output_type": "stream",
     "text": [
      " num [1:22310] 13 6 25 5 30 13 29 22 28 16 ...\n"
     ]
    },
    {
     "data": {
      "text/plain": [
       "   Min. 1st Qu.  Median    Mean 3rd Qu.    Max. \n",
       "   1.00    8.00   15.00   15.24   22.00   31.00 "
      ]
     },
     "metadata": {},
     "output_type": "display_data"
    }
   ],
   "source": [
    "str(archivo$PPA04A)     # muestra de manera compacta la estructura del DataFrame\n",
    "summary(archivo$PPA04A) # muestra un resumen con datos estadísticos del DataFrame"
   ]
  },
  {
   "cell_type": "code",
   "execution_count": 12,
   "metadata": {
    "slideshow": {
     "slide_type": "subslide"
    }
   },
   "outputs": [
    {
     "data": {
      "text/html": [
       "<table>\n",
       "<caption>A tibble: 3 × 265</caption>\n",
       "<thead>\n",
       "\t<tr><th scope=col>DOMINIO</th><th scope=col>AREA</th><th scope=col>UPM</th><th scope=col>Factor_expansion</th><th scope=col>NUM_HOGAR</th><th scope=col>ID</th><th scope=col>PPA02</th><th scope=col>PPA03</th><th scope=col>PPA04A</th><th scope=col>PPA04B</th><th scope=col>...</th><th scope=col>P05A21A</th><th scope=col>P05A21B</th><th scope=col>ETNICIDAD</th><th scope=col>PET</th><th scope=col>PEA</th><th scope=col>OCUPADOS</th><th scope=col>DESOCUPADOS</th><th scope=col>SUBVISIBLES</th><th scope=col>INACTIVOS</th><th scope=col>FORMAL_INFORMAL</th></tr>\n",
       "\t<tr><th scope=col>&lt;dbl&gt;</th><th scope=col>&lt;dbl&gt;</th><th scope=col>&lt;dbl&gt;</th><th scope=col>&lt;dbl&gt;</th><th scope=col>&lt;dbl&gt;</th><th scope=col>&lt;dbl&gt;</th><th scope=col>&lt;dbl&gt;</th><th scope=col>&lt;dbl&gt;</th><th scope=col>&lt;dbl&gt;</th><th scope=col>&lt;dbl&gt;</th><th scope=col>...</th><th scope=col>&lt;dbl&gt;</th><th scope=col>&lt;dbl&gt;</th><th scope=col>&lt;dbl&gt;</th><th scope=col>&lt;dbl&gt;</th><th scope=col>&lt;dbl&gt;</th><th scope=col>&lt;dbl&gt;</th><th scope=col>&lt;dbl&gt;</th><th scope=col>&lt;dbl&gt;</th><th scope=col>&lt;dbl&gt;</th><th scope=col>&lt;dbl&gt;</th></tr>\n",
       "</thead>\n",
       "<tbody>\n",
       "\t<tr><td>1</td><td>1</td><td>1</td><td>217</td><td>1</td><td>1</td><td>1</td><td>65</td><td>13</td><td> 8</td><td>...</td><td> 2</td><td>NA</td><td>2</td><td>1</td><td>1</td><td>1</td><td>NA</td><td>NA</td><td>NA</td><td>1</td></tr>\n",
       "\t<tr><td>1</td><td>1</td><td>1</td><td>217</td><td>1</td><td>2</td><td>2</td><td>67</td><td> 6</td><td>11</td><td>...</td><td>NA</td><td>NA</td><td>2</td><td>1</td><td>1</td><td>1</td><td>NA</td><td>NA</td><td>NA</td><td>1</td></tr>\n",
       "\t<tr><td>1</td><td>1</td><td>1</td><td>217</td><td>1</td><td>3</td><td>1</td><td>23</td><td>25</td><td> 4</td><td>...</td><td>NA</td><td>NA</td><td>2</td><td>1</td><td>1</td><td>1</td><td>NA</td><td>NA</td><td>NA</td><td>2</td></tr>\n",
       "</tbody>\n",
       "</table>\n"
      ],
      "text/latex": [
       "A tibble: 3 × 265\n",
       "\\begin{tabular}{lllllllllllllllllllll}\n",
       " DOMINIO & AREA & UPM & Factor\\_expansion & NUM\\_HOGAR & ID & PPA02 & PPA03 & PPA04A & PPA04B & ... & P05A21A & P05A21B & ETNICIDAD & PET & PEA & OCUPADOS & DESOCUPADOS & SUBVISIBLES & INACTIVOS & FORMAL\\_INFORMAL\\\\\n",
       " <dbl> & <dbl> & <dbl> & <dbl> & <dbl> & <dbl> & <dbl> & <dbl> & <dbl> & <dbl> & ... & <dbl> & <dbl> & <dbl> & <dbl> & <dbl> & <dbl> & <dbl> & <dbl> & <dbl> & <dbl>\\\\\n",
       "\\hline\n",
       "\t 1 & 1 & 1 & 217 & 1 & 1 & 1 & 65 & 13 &  8 & ... &  2 & NA & 2 & 1 & 1 & 1 & NA & NA & NA & 1\\\\\n",
       "\t 1 & 1 & 1 & 217 & 1 & 2 & 2 & 67 &  6 & 11 & ... & NA & NA & 2 & 1 & 1 & 1 & NA & NA & NA & 1\\\\\n",
       "\t 1 & 1 & 1 & 217 & 1 & 3 & 1 & 23 & 25 &  4 & ... & NA & NA & 2 & 1 & 1 & 1 & NA & NA & NA & 2\\\\\n",
       "\\end{tabular}\n"
      ],
      "text/markdown": [
       "\n",
       "A tibble: 3 × 265\n",
       "\n",
       "| DOMINIO &lt;dbl&gt; | AREA &lt;dbl&gt; | UPM &lt;dbl&gt; | Factor_expansion &lt;dbl&gt; | NUM_HOGAR &lt;dbl&gt; | ID &lt;dbl&gt; | PPA02 &lt;dbl&gt; | PPA03 &lt;dbl&gt; | PPA04A &lt;dbl&gt; | PPA04B &lt;dbl&gt; | ... ... | P05A21A &lt;dbl&gt; | P05A21B &lt;dbl&gt; | ETNICIDAD &lt;dbl&gt; | PET &lt;dbl&gt; | PEA &lt;dbl&gt; | OCUPADOS &lt;dbl&gt; | DESOCUPADOS &lt;dbl&gt; | SUBVISIBLES &lt;dbl&gt; | INACTIVOS &lt;dbl&gt; | FORMAL_INFORMAL &lt;dbl&gt; |\n",
       "|---|---|---|---|---|---|---|---|---|---|---|---|---|---|---|---|---|---|---|---|---|\n",
       "| 1 | 1 | 1 | 217 | 1 | 1 | 1 | 65 | 13 |  8 | ... |  2 | NA | 2 | 1 | 1 | 1 | NA | NA | NA | 1 |\n",
       "| 1 | 1 | 1 | 217 | 1 | 2 | 2 | 67 |  6 | 11 | ... | NA | NA | 2 | 1 | 1 | 1 | NA | NA | NA | 1 |\n",
       "| 1 | 1 | 1 | 217 | 1 | 3 | 1 | 23 | 25 |  4 | ... | NA | NA | 2 | 1 | 1 | 1 | NA | NA | NA | 2 |\n",
       "\n"
      ],
      "text/plain": [
       "  DOMINIO AREA UPM Factor_expansion NUM_HOGAR ID PPA02 PPA03 PPA04A PPA04B ...\n",
       "1 1       1    1   217              1         1  1     65    13      8     ...\n",
       "2 1       1    1   217              1         2  2     67     6     11     ...\n",
       "3 1       1    1   217              1         3  1     23    25      4     ...\n",
       "  P05A21A P05A21B ETNICIDAD PET PEA OCUPADOS DESOCUPADOS SUBVISIBLES INACTIVOS\n",
       "1  2      NA      2         1   1   1        NA          NA          NA       \n",
       "2 NA      NA      2         1   1   1        NA          NA          NA       \n",
       "3 NA      NA      2         1   1   1        NA          NA          NA       \n",
       "  FORMAL_INFORMAL\n",
       "1 1              \n",
       "2 1              \n",
       "3 2              "
      ]
     },
     "metadata": {},
     "output_type": "display_data"
    },
    {
     "data": {
      "text/html": [
       "<table>\n",
       "<caption>A tibble: 3 × 265</caption>\n",
       "<thead>\n",
       "\t<tr><th scope=col>DOMINIO</th><th scope=col>AREA</th><th scope=col>UPM</th><th scope=col>Factor_expansion</th><th scope=col>NUM_HOGAR</th><th scope=col>ID</th><th scope=col>PPA02</th><th scope=col>PPA03</th><th scope=col>PPA04A</th><th scope=col>PPA04B</th><th scope=col>...</th><th scope=col>P05A21A</th><th scope=col>P05A21B</th><th scope=col>ETNICIDAD</th><th scope=col>PET</th><th scope=col>PEA</th><th scope=col>OCUPADOS</th><th scope=col>DESOCUPADOS</th><th scope=col>SUBVISIBLES</th><th scope=col>INACTIVOS</th><th scope=col>FORMAL_INFORMAL</th></tr>\n",
       "\t<tr><th scope=col>&lt;dbl&gt;</th><th scope=col>&lt;dbl&gt;</th><th scope=col>&lt;dbl&gt;</th><th scope=col>&lt;dbl&gt;</th><th scope=col>&lt;dbl&gt;</th><th scope=col>&lt;dbl&gt;</th><th scope=col>&lt;dbl&gt;</th><th scope=col>&lt;dbl&gt;</th><th scope=col>&lt;dbl&gt;</th><th scope=col>&lt;dbl&gt;</th><th scope=col>...</th><th scope=col>&lt;dbl&gt;</th><th scope=col>&lt;dbl&gt;</th><th scope=col>&lt;dbl&gt;</th><th scope=col>&lt;dbl&gt;</th><th scope=col>&lt;dbl&gt;</th><th scope=col>&lt;dbl&gt;</th><th scope=col>&lt;dbl&gt;</th><th scope=col>&lt;dbl&gt;</th><th scope=col>&lt;dbl&gt;</th><th scope=col>&lt;dbl&gt;</th></tr>\n",
       "</thead>\n",
       "<tbody>\n",
       "\t<tr><td>3</td><td>2</td><td>363</td><td>842</td><td>5190</td><td>2</td><td>2</td><td>34</td><td>24</td><td>7</td><td>...</td><td>NA</td><td>NA</td><td>1</td><td> 1</td><td> 1</td><td> 1</td><td>NA</td><td>NA</td><td>NA</td><td> 1</td></tr>\n",
       "\t<tr><td>3</td><td>2</td><td>363</td><td>842</td><td>5190</td><td>3</td><td>2</td><td> 2</td><td>18</td><td>4</td><td>...</td><td>NA</td><td>NA</td><td>1</td><td>NA</td><td>NA</td><td>NA</td><td>NA</td><td>NA</td><td>NA</td><td>NA</td></tr>\n",
       "\t<tr><td>3</td><td>2</td><td>363</td><td>842</td><td>5191</td><td>1</td><td>2</td><td>65</td><td> 6</td><td>6</td><td>...</td><td> 2</td><td>NA</td><td>2</td><td> 1</td><td>NA</td><td>NA</td><td>NA</td><td>NA</td><td> 1</td><td>NA</td></tr>\n",
       "</tbody>\n",
       "</table>\n"
      ],
      "text/latex": [
       "A tibble: 3 × 265\n",
       "\\begin{tabular}{lllllllllllllllllllll}\n",
       " DOMINIO & AREA & UPM & Factor\\_expansion & NUM\\_HOGAR & ID & PPA02 & PPA03 & PPA04A & PPA04B & ... & P05A21A & P05A21B & ETNICIDAD & PET & PEA & OCUPADOS & DESOCUPADOS & SUBVISIBLES & INACTIVOS & FORMAL\\_INFORMAL\\\\\n",
       " <dbl> & <dbl> & <dbl> & <dbl> & <dbl> & <dbl> & <dbl> & <dbl> & <dbl> & <dbl> & ... & <dbl> & <dbl> & <dbl> & <dbl> & <dbl> & <dbl> & <dbl> & <dbl> & <dbl> & <dbl>\\\\\n",
       "\\hline\n",
       "\t 3 & 2 & 363 & 842 & 5190 & 2 & 2 & 34 & 24 & 7 & ... & NA & NA & 1 &  1 &  1 &  1 & NA & NA & NA &  1\\\\\n",
       "\t 3 & 2 & 363 & 842 & 5190 & 3 & 2 &  2 & 18 & 4 & ... & NA & NA & 1 & NA & NA & NA & NA & NA & NA & NA\\\\\n",
       "\t 3 & 2 & 363 & 842 & 5191 & 1 & 2 & 65 &  6 & 6 & ... &  2 & NA & 2 &  1 & NA & NA & NA & NA &  1 & NA\\\\\n",
       "\\end{tabular}\n"
      ],
      "text/markdown": [
       "\n",
       "A tibble: 3 × 265\n",
       "\n",
       "| DOMINIO &lt;dbl&gt; | AREA &lt;dbl&gt; | UPM &lt;dbl&gt; | Factor_expansion &lt;dbl&gt; | NUM_HOGAR &lt;dbl&gt; | ID &lt;dbl&gt; | PPA02 &lt;dbl&gt; | PPA03 &lt;dbl&gt; | PPA04A &lt;dbl&gt; | PPA04B &lt;dbl&gt; | ... ... | P05A21A &lt;dbl&gt; | P05A21B &lt;dbl&gt; | ETNICIDAD &lt;dbl&gt; | PET &lt;dbl&gt; | PEA &lt;dbl&gt; | OCUPADOS &lt;dbl&gt; | DESOCUPADOS &lt;dbl&gt; | SUBVISIBLES &lt;dbl&gt; | INACTIVOS &lt;dbl&gt; | FORMAL_INFORMAL &lt;dbl&gt; |\n",
       "|---|---|---|---|---|---|---|---|---|---|---|---|---|---|---|---|---|---|---|---|---|\n",
       "| 3 | 2 | 363 | 842 | 5190 | 2 | 2 | 34 | 24 | 7 | ... | NA | NA | 1 |  1 |  1 |  1 | NA | NA | NA |  1 |\n",
       "| 3 | 2 | 363 | 842 | 5190 | 3 | 2 |  2 | 18 | 4 | ... | NA | NA | 1 | NA | NA | NA | NA | NA | NA | NA |\n",
       "| 3 | 2 | 363 | 842 | 5191 | 1 | 2 | 65 |  6 | 6 | ... |  2 | NA | 2 |  1 | NA | NA | NA | NA |  1 | NA |\n",
       "\n"
      ],
      "text/plain": [
       "  DOMINIO AREA UPM Factor_expansion NUM_HOGAR ID PPA02 PPA03 PPA04A PPA04B ...\n",
       "1 3       2    363 842              5190      2  2     34    24     7      ...\n",
       "2 3       2    363 842              5190      3  2      2    18     4      ...\n",
       "3 3       2    363 842              5191      1  2     65     6     6      ...\n",
       "  P05A21A P05A21B ETNICIDAD PET PEA OCUPADOS DESOCUPADOS SUBVISIBLES INACTIVOS\n",
       "1 NA      NA      1          1   1   1       NA          NA          NA       \n",
       "2 NA      NA      1         NA  NA  NA       NA          NA          NA       \n",
       "3  2      NA      2          1  NA  NA       NA          NA           1       \n",
       "  FORMAL_INFORMAL\n",
       "1  1             \n",
       "2 NA             \n",
       "3 NA             "
      ]
     },
     "metadata": {},
     "output_type": "display_data"
    }
   ],
   "source": [
    "head(archivo, n=3)  # muestra las primeras n filas del DataFrame\n",
    "tail(archivo, n=3)  # muestra las últimas n filas del DataFrame"
   ]
  },
  {
   "cell_type": "code",
   "execution_count": 13,
   "metadata": {
    "slideshow": {
     "slide_type": "subslide"
    }
   },
   "outputs": [
    {
     "data": {
      "image/png": "[encoded data removed]",
      "text/plain": [
       "Plot with title \"Distribución de edades de los encuestados\""
      ]
     },
     "metadata": {
      "image/png": {
       "height": 420,
       "width": 420
      },
      "text/plain": {
       "height": 420,
       "width": 420
      }
     },
     "output_type": "display_data"
    }
   ],
   "source": [
    "hist(archivo$PPA03, main=\"Distribución de edades de los encuestados\", col=\"Darkred\") # Un histograma de los datos"
   ]
  },
  {
   "cell_type": "markdown",
   "metadata": {
    "slideshow": {
     "slide_type": "subslide"
    }
   },
   "source": [
    "<span style=\"color:darkred; font-size:1.5em; font:frutiger\"> 2.2 Convertir el tipo de los elementos </span>\n",
    "\n",
    "\n",
    "Convertir una variable de un tipo a otro se llama coerción. Al momento de importar un archivo, R intentará determinar la clase según los datos de cada columna, a menos que se le indique desde un principio el tipo al que debe pertenecer."
   ]
  },
  {
   "cell_type": "code",
   "execution_count": 14,
   "metadata": {
    "slideshow": {
     "slide_type": "fragment"
    }
   },
   "outputs": [
    {
     "data": {
      "text/html": [
       "256"
      ],
      "text/latex": [
       "256"
      ],
      "text/markdown": [
       "256"
      ],
      "text/plain": [
       "[1] 256"
      ]
     },
     "metadata": {},
     "output_type": "display_data"
    },
    {
     "data": {
      "text/html": [
       "9"
      ],
      "text/latex": [
       "9"
      ],
      "text/markdown": [
       "9"
      ],
      "text/plain": [
       "[1] 9"
      ]
     },
     "metadata": {},
     "output_type": "display_data"
    }
   ],
   "source": [
    "clases = sapply(archivo, class)\n",
    "# Con este comando se puede verificar el tipo de elemento por cada columna\n",
    "sum(clases==\"numeric\")\n",
    "# Si se tienen demasiadas columnas, es mejor confirmar que todas tengan el tipo deseado\n",
    "sum(clases==\"logical\")\n",
    "# se determinó que varias columnas no tienen el tipo deseado"
   ]
  },
  {
   "cell_type": "code",
   "execution_count": 16,
   "metadata": {
    "slideshow": {
     "slide_type": "fragment"
    }
   },
   "outputs": [
    {
     "data": {
      "text/html": [
       "265"
      ],
      "text/latex": [
       "265"
      ],
      "text/markdown": [
       "265"
      ],
      "text/plain": [
       "[1] 265"
      ]
     },
     "metadata": {},
     "output_type": "display_data"
    }
   ],
   "source": [
    "ENEI20181P <- read_xlsx(\"C:\\\\Users\\\\IN_CAP02\\\\Desktop\\\\proyecto\\\\ENEI20181PO.xlsx\", col_types = \"numeric\")\n",
    "# Se indica el tipo de columnas, para que R entienda cómo deseamos la información\n",
    "sum(sapply(ENEI20181P, class)==\"numeric\")\n",
    "# El número de variables de clase numerica, coincide con el total de columnas del archivo"
   ]
  },
  {
   "cell_type": "markdown",
   "metadata": {
    "slideshow": {
     "slide_type": "subslide"
    }
   },
   "source": [
    " <span style=\"color:darkred; font-size:1.5em; font:frutiger\"> 2.3 Validación de Datos </span>\n",
    "\n",
    "  \n",
    "  <div class=\"text-justify\"> Esta se refiere a la actividad de verificar si un conjunto de datos cumple ciertas condiciones. Por ejemplo, si se tiene información de salarios, no se esperaría encontrar datos negativos, por lo que es una herramienta útil de aplicar para corroborar los datos que se van a procesar.  \n",
    "Las condiciones a probarse pueden ser combinadas, y dependerán del tipo de información con la que se cuenta.</div>"
   ]
  },
  {
   "cell_type": "code",
   "execution_count": 17,
   "metadata": {
    "slideshow": {
     "slide_type": "fragment"
    }
   },
   "outputs": [
    {
     "data": {
      "text/plain": [
       "Object of class 'validation'\n",
       "Call:\n",
       "    confront(dat = migracion, x = reglas)\n",
       "\n",
       "Confrontations: 11\n",
       "With fails    : 0\n",
       "Warnings      : 0\n",
       "Errors        : 0"
      ]
     },
     "metadata": {},
     "output_type": "display_data"
    }
   ],
   "source": [
    "migracion <- read.csv(\"C:\\\\Users\\\\IN_CAP02\\\\Desktop\\\\proyecto\\\\MIGRACION_BDP.csv\")\n",
    "\n",
    "reglas <- validator(DEPARTAMENTO>0,MUNICIPIO>0,COD_MUNICIPIO>0,ZONA>0,AREA>0,NUM_VIVIENDA>0,\n",
    "                    NUM_HOGAR>0, ID_EMIGRACION>0, PEI3>0, PEI4>=0, PEI5>2000)\n",
    "# comando para crear reglas\n",
    "confront(migracion,reglas)\n",
    "# comando para aplicar las reglas a las columnas"
   ]
  },
  {
   "cell_type": "markdown",
   "metadata": {
    "slideshow": {
     "slide_type": "subslide"
    }
   },
   "source": [
    " <span style=\"color:darkred; font-size:1.5em; font:frutiger\">  2.4 Factores de Recodificación  </span>\n",
    "\n",
    "\n",
    "<div class=\"text-justify\"> En algunas bases de datos, el valor de ciertas variables categóricas se almacena en un factor variable. Un factor es un vector de enteros con una tabla especificando el valor de entero correspondiente a cada nivel.  \n",
    "Por ejemplo, en la base de datos \"Migracion\" se encuentra la columna \"PEI3\" que almacena el género de los individuos con los valores 1 y 2. El 1 es para Masculino y el 2 para Femenino. Si en lugar de mostrar 1 y 2, se desea mostrar el texto \"masculino\" y \"femenino\", se puede recodificar la DataFrame como se mostrará a continuación:</div>"
   ]
  },
  {
   "cell_type": "code",
   "execution_count": 18,
   "metadata": {
    "slideshow": {
     "slide_type": "subslide"
    }
   },
   "outputs": [
    {
     "data": {
      "image/png": "[encoded data removed]",
      "text/plain": [
       "plot without title"
      ]
     },
     "metadata": {
      "image/png": {
       "height": 420,
       "width": 420
      },
      "text/plain": {
       "height": 420,
       "width": 420
      }
     },
     "output_type": "display_data"
    }
   ],
   "source": [
    "recode <- c(masculino = 1, femenino = 2)\n",
    "migracion$PEI3 = factor(migracion$PEI3, levels = recode, labels = names(recode))\n",
    "plot(migracion$PEI3)"
   ]
  },
  {
   "cell_type": "markdown",
   "metadata": {
    "slideshow": {
     "slide_type": "subslide"
    }
   },
   "source": [
    "<span style=\"color:darkred; font-size:1.5em; font:frutiger\">  2.5 Otras funciones para transformar texto  </span>\n"
   ]
  },
  {
   "cell_type": "code",
   "execution_count": 19,
   "metadata": {},
   "outputs": [
    {
     "data": {
      "text/html": [
       "'hello world'"
      ],
      "text/latex": [
       "'hello world'"
      ],
      "text/markdown": [
       "'hello world'"
      ],
      "text/plain": [
       "[1] \"hello world\""
      ]
     },
     "metadata": {},
     "output_type": "display_data"
    },
    {
     "data": {
      "text/html": [
       "<span style=white-space:pre-wrap>'  hello world'</span>"
      ],
      "text/latex": [
       "'  hello world'"
      ],
      "text/markdown": [
       "<span style=white-space:pre-wrap>'  hello world'</span>"
      ],
      "text/plain": [
       "[1] \"  hello world\""
      ]
     },
     "metadata": {},
     "output_type": "display_data"
    },
    {
     "data": {
      "text/html": [
       "<span style=white-space:pre-wrap>'hello world  '</span>"
      ],
      "text/latex": [
       "'hello world  '"
      ],
      "text/markdown": [
       "<span style=white-space:pre-wrap>'hello world  '</span>"
      ],
      "text/plain": [
       "[1] \"hello world  \""
      ]
     },
     "metadata": {},
     "output_type": "display_data"
    },
    {
     "data": {
      "text/html": [
       "'000112'"
      ],
      "text/latex": [
       "'000112'"
      ],
      "text/markdown": [
       "'000112'"
      ],
      "text/plain": [
       "[1] \"000112\""
      ]
     },
     "metadata": {},
     "output_type": "display_data"
    },
    {
     "data": {
      "text/html": [
       "'HELLO WORLD'"
      ],
      "text/latex": [
       "'HELLO WORLD'"
      ],
      "text/markdown": [
       "'HELLO WORLD'"
      ],
      "text/plain": [
       "[1] \"HELLO WORLD\""
      ]
     },
     "metadata": {},
     "output_type": "display_data"
    },
    {
     "data": {
      "text/html": [
       "'hello world'"
      ],
      "text/latex": [
       "'hello world'"
      ],
      "text/markdown": [
       "'hello world'"
      ],
      "text/plain": [
       "[1] \"hello world\""
      ]
     },
     "metadata": {},
     "output_type": "display_data"
    }
   ],
   "source": [
    "str_trim(\"  hello world  \") # elimina los espacios que están antes y después de la cadena de texto\n",
    "str_trim(\"  hello world  \", side=\"right\") # elimina los espacios que están después de la cadena de texto\n",
    "str_trim(\"  hello world  \", side=\"left\") # elimina los espacios que están están de la cadena de texto\n",
    "str_pad(112, width = 6, side = \"left\", pad = 0) # modifica el texto al largo deseado\n",
    "toupper(\"Hello world\") # texto en mayúsculas\n",
    "tolower(\"Hello World\") # texto en minúsculas"
   ]
  },
  {
   "cell_type": "code",
   "execution_count": 20,
   "metadata": {
    "slideshow": {
     "slide_type": "subslide"
    }
   },
   "outputs": [
    {
     "data": {
      "text/html": [
       "<style>\n",
       ".list-inline {list-style: none; margin:0; padding: 0}\n",
       ".list-inline>li {display: inline-block}\n",
       ".list-inline>li:not(:last-child)::after {content: \"\\00b7\"; padding: 0 .5ex}\n",
       "</style>\n",
       "<ol class=list-inline><li>FALSE</li><li>TRUE</li><li>TRUE</li><li>TRUE</li></ol>\n"
      ],
      "text/latex": [
       "\\begin{enumerate*}\n",
       "\\item FALSE\n",
       "\\item TRUE\n",
       "\\item TRUE\n",
       "\\item TRUE\n",
       "\\end{enumerate*}\n"
      ],
      "text/markdown": [
       "1. FALSE\n",
       "2. TRUE\n",
       "3. TRUE\n",
       "4. TRUE\n",
       "\n",
       "\n"
      ],
      "text/plain": [
       "[1] FALSE  TRUE  TRUE  TRUE"
      ]
     },
     "metadata": {},
     "output_type": "display_data"
    },
    {
     "data": {
      "text/html": [
       "<style>\n",
       ".list-inline {list-style: none; margin:0; padding: 0}\n",
       ".list-inline>li {display: inline-block}\n",
       ".list-inline>li:not(:last-child)::after {content: \"\\00b7\"; padding: 0 .5ex}\n",
       "</style>\n",
       "<ol class=list-inline><li>2</li><li>3</li><li>4</li></ol>\n"
      ],
      "text/latex": [
       "\\begin{enumerate*}\n",
       "\\item 2\n",
       "\\item 3\n",
       "\\item 4\n",
       "\\end{enumerate*}\n"
      ],
      "text/markdown": [
       "1. 2\n",
       "2. 3\n",
       "3. 4\n",
       "\n",
       "\n"
      ],
      "text/plain": [
       "[1] 2 3 4"
      ]
     },
     "metadata": {},
     "output_type": "display_data"
    },
    {
     "data": {
      "text/html": [
       "<style>\n",
       ".list-inline {list-style: none; margin:0; padding: 0}\n",
       ".list-inline>li {display: inline-block}\n",
       ".list-inline>li:not(:last-child)::after {content: \"\\00b7\"; padding: 0 .5ex}\n",
       "</style>\n",
       "<ol class=list-inline><li>TRUE</li><li>TRUE</li><li>TRUE</li><li>TRUE</li></ol>\n"
      ],
      "text/latex": [
       "\\begin{enumerate*}\n",
       "\\item TRUE\n",
       "\\item TRUE\n",
       "\\item TRUE\n",
       "\\item TRUE\n",
       "\\end{enumerate*}\n"
      ],
      "text/markdown": [
       "1. TRUE\n",
       "2. TRUE\n",
       "3. TRUE\n",
       "4. TRUE\n",
       "\n",
       "\n"
      ],
      "text/plain": [
       "[1] TRUE TRUE TRUE TRUE"
      ]
     },
     "metadata": {},
     "output_type": "display_data"
    },
    {
     "data": {
      "text/html": [
       "<style>\n",
       ".list-inline {list-style: none; margin:0; padding: 0}\n",
       ".list-inline>li {display: inline-block}\n",
       ".list-inline>li:not(:last-child)::after {content: \"\\00b7\"; padding: 0 .5ex}\n",
       "</style>\n",
       "<ol class=list-inline><li>TRUE</li><li>TRUE</li><li>FALSE</li><li>FALSE</li></ol>\n"
      ],
      "text/latex": [
       "\\begin{enumerate*}\n",
       "\\item TRUE\n",
       "\\item TRUE\n",
       "\\item FALSE\n",
       "\\item FALSE\n",
       "\\end{enumerate*}\n"
      ],
      "text/markdown": [
       "1. TRUE\n",
       "2. TRUE\n",
       "3. FALSE\n",
       "4. FALSE\n",
       "\n",
       "\n"
      ],
      "text/plain": [
       "[1]  TRUE  TRUE FALSE FALSE"
      ]
     },
     "metadata": {},
     "output_type": "display_data"
    }
   ],
   "source": [
    "genero <- c(\"M\", \"masculino \", \"Femenino\", \"fem.\")\n",
    "grepl(\"m\", genero) # indica si los elementos contienen el caracter indicado\n",
    "grep(\"m\", genero)  # indica el índice del elemento que contenga el caracter indicado\n",
    "grepl(\"m\", tolower(genero)) # Se pueden usar funciones modificando la cadena de texto a evaluar\n",
    "grepl(\"^m\", genero, ignore.case = TRUE) \n",
    "# con el caracter ^ se le indica a la función que busque en el primer caracter de cada elemento."
   ]
  },
  {
   "cell_type": "markdown",
   "metadata": {
    "slideshow": {
     "slide_type": "slide"
    }
   },
   "source": [
    "## 3. Datos técnicamente correctos $\\to$ Datos consistentes\n",
    "\n",
    "\n",
    "<div class=\"text-justify\">Los datos consistentes son datos técnicamente correctos que son aptos para el análisis estadístico. Son datos en los que se eliminan, corrigen o imputan valores perdidos, valores especiales, errores (obvios) y valores atípicos. Los datos son consistentes con las restricciones basadas en el conocimiento del mundo real sobre el tema que describen los datos.</div>  \n",
    "\n",
    "El proceso para contar con datos consistentes siempre implica los siguientes tres pasos.\n",
    "\n",
    "1. **Detección** de una inconsistencia. Es decir, uno establece qué restricciones son violadas. Por ejemplo, una variable de edad está limitada a valores no negativos.\n",
    "\n",
    "2. **Selección** del campo o campos que causan la inconsistencia. Esto es trivial en el caso de una demanda univariante como en el paso anterior, pero puede ser más engorroso cuando se espera que se mantengan las relaciones entre variables. Por ejemplo, el estado civil de un hijo debe ser soltero. En el caso de una violación, no está claro de inmediato si la edad, el estado civil o ambos están equivocados.\n",
    "\n",
    "3. **Corrección** de los campos que el método de selección considera erróneos. Esto puede hacerse a través de métodos deterministas (basados en modelos) o estocásticos.\n",
    "    "
   ]
  },
  {
   "cell_type": "markdown",
   "metadata": {
    "slideshow": {
     "slide_type": "subslide"
    }
   },
   "source": [
    "<span style=\"color:darkred; font-size:1.5em\"> 3.1 Detección y localización de errores. </span>\n",
    "\n",
    "### 3.1.1 Valores perdidos o faltantes\n",
    "\n",
    "Un valor faltante, representado por NA en R, es un marcador de posición para un dato cuyo tipo es conocido pero su valor no lo es. Por lo tanto, es imposible realizar un análisis estadístico en los datos donde faltan uno o más valores en los datos. Se puede optar por omitir elementos de un conjunto de datos que contienen valores faltantes o imputar un valor, pero la falta es algo que debe abordarse antes de cualquier análisis."
   ]
  },
  {
   "cell_type": "code",
   "execution_count": 21,
   "metadata": {
    "slideshow": {
     "slide_type": "skip"
    }
   },
   "outputs": [],
   "source": [
    "# libreria \"readxl\" \n",
    "library(readxl)\n",
    "\n",
    "# Archivo xlsx\n",
    "BASE <- read_excel(\"C:/Users/IN_CAP02/Desktop/proyecto/ENEI20181P.xlsx\",sheet=\"Sheet1\")"
   ]
  },
  {
   "cell_type": "code",
   "execution_count": 22,
   "metadata": {
    "slideshow": {
     "slide_type": "fragment"
    }
   },
   "outputs": [
    {
     "data": {
      "text/html": [
       "&lt;NA&gt;"
      ],
      "text/latex": [
       "<NA>"
      ],
      "text/markdown": [
       "&lt;NA&gt;"
      ],
      "text/plain": [
       "[1] NA"
      ]
     },
     "metadata": {},
     "output_type": "display_data"
    },
    {
     "data": {
      "text/html": [
       "2501.94596003475"
      ],
      "text/latex": [
       "2501.94596003475"
      ],
      "text/markdown": [
       "2501.94596003475"
      ],
      "text/plain": [
       "[1] 2501.946"
      ]
     },
     "metadata": {},
     "output_type": "display_data"
    }
   ],
   "source": [
    "#No es posible hacer cálculos con valores perdidos.\n",
    "mean(BASE$PPA10B)\n",
    "\n",
    "#Es necesario utilizar la función base na.rm.\n",
    "mean(BASE$P04C10,na.rm = TRUE)"
   ]
  },
  {
   "cell_type": "code",
   "execution_count": 23,
   "metadata": {
    "slideshow": {
     "slide_type": "subslide"
    }
   },
   "outputs": [
    {
     "data": {
      "text/html": [
       "<style>\n",
       ".list-inline {list-style: none; margin:0; padding: 0}\n",
       ".list-inline>li {display: inline-block}\n",
       ".list-inline>li:not(:last-child)::after {content: \"\\00b7\"; padding: 0 .5ex}\n",
       "</style>\n",
       "<ol class=list-inline><li>TRUE</li><li>TRUE</li><li>TRUE</li><li>TRUE</li><li>FALSE</li></ol>\n"
      ],
      "text/latex": [
       "\\begin{enumerate*}\n",
       "\\item TRUE\n",
       "\\item TRUE\n",
       "\\item TRUE\n",
       "\\item TRUE\n",
       "\\item FALSE\n",
       "\\end{enumerate*}\n"
      ],
      "text/markdown": [
       "1. TRUE\n",
       "2. TRUE\n",
       "3. TRUE\n",
       "4. TRUE\n",
       "5. FALSE\n",
       "\n",
       "\n"
      ],
      "text/plain": [
       "[1]  TRUE  TRUE  TRUE  TRUE FALSE"
      ]
     },
     "metadata": {},
     "output_type": "display_data"
    }
   ],
   "source": [
    "#La siguiente función nos ayuda a identificar valores \"NA\".\n",
    "is.na(BASE$PPA10B)[1:5]"
   ]
  },
  {
   "cell_type": "code",
   "execution_count": 24,
   "metadata": {
    "slideshow": {
     "slide_type": "fragment"
    }
   },
   "outputs": [
    {
     "data": {
      "text/html": [
       "<style>\n",
       ".list-inline {list-style: none; margin:0; padding: 0}\n",
       ".list-inline>li {display: inline-block}\n",
       ".list-inline>li:not(:last-child)::after {content: \"\\00b7\"; padding: 0 .5ex}\n",
       "</style>\n",
       "<ol class=list-inline><li>FALSE</li><li>FALSE</li><li>FALSE</li><li>FALSE</li><li>TRUE</li><li>TRUE</li><li>TRUE</li><li>FALSE</li><li>FALSE</li><li>FALSE</li></ol>\n"
      ],
      "text/latex": [
       "\\begin{enumerate*}\n",
       "\\item FALSE\n",
       "\\item FALSE\n",
       "\\item FALSE\n",
       "\\item FALSE\n",
       "\\item TRUE\n",
       "\\item TRUE\n",
       "\\item TRUE\n",
       "\\item FALSE\n",
       "\\item FALSE\n",
       "\\item FALSE\n",
       "\\end{enumerate*}\n"
      ],
      "text/markdown": [
       "1. FALSE\n",
       "2. FALSE\n",
       "3. FALSE\n",
       "4. FALSE\n",
       "5. TRUE\n",
       "6. TRUE\n",
       "7. TRUE\n",
       "8. FALSE\n",
       "9. FALSE\n",
       "10. FALSE\n",
       "\n",
       "\n"
      ],
      "text/plain": [
       " [1] FALSE FALSE FALSE FALSE  TRUE  TRUE  TRUE FALSE FALSE FALSE"
      ]
     },
     "metadata": {},
     "output_type": "display_data"
    }
   ],
   "source": [
    "#La siguiente función determina que si alguna fila de la base de datos tiene valores perdidos.\n",
    "complete.cases(BASE$PPA10B)[1:10]"
   ]
  },
  {
   "cell_type": "code",
   "execution_count": 25,
   "metadata": {
    "slideshow": {
     "slide_type": "subslide"
    }
   },
   "outputs": [
    {
     "data": {
      "text/html": [
       "<style>\n",
       ".list-inline {list-style: none; margin:0; padding: 0}\n",
       ".list-inline>li {display: inline-block}\n",
       ".list-inline>li:not(:last-child)::after {content: \"\\00b7\"; padding: 0 .5ex}\n",
       "</style>\n",
       "<ol class=list-inline><li>1</li><li>1</li><li>1</li><li>2</li><li>2</li><li>2</li><li>2</li><li>2</li><li>2</li><li>2</li><li>2</li><li>3</li><li>1</li><li>3</li><li>1</li><li>1</li><li>1</li><li>4</li><li>2</li><li>2</li></ol>\n"
      ],
      "text/latex": [
       "\\begin{enumerate*}\n",
       "\\item 1\n",
       "\\item 1\n",
       "\\item 1\n",
       "\\item 2\n",
       "\\item 2\n",
       "\\item 2\n",
       "\\item 2\n",
       "\\item 2\n",
       "\\item 2\n",
       "\\item 2\n",
       "\\item 2\n",
       "\\item 3\n",
       "\\item 1\n",
       "\\item 3\n",
       "\\item 1\n",
       "\\item 1\n",
       "\\item 1\n",
       "\\item 4\n",
       "\\item 2\n",
       "\\item 2\n",
       "\\end{enumerate*}\n"
      ],
      "text/markdown": [
       "1. 1\n",
       "2. 1\n",
       "3. 1\n",
       "4. 2\n",
       "5. 2\n",
       "6. 2\n",
       "7. 2\n",
       "8. 2\n",
       "9. 2\n",
       "10. 2\n",
       "11. 2\n",
       "12. 3\n",
       "13. 1\n",
       "14. 3\n",
       "15. 1\n",
       "16. 1\n",
       "17. 1\n",
       "18. 4\n",
       "19. 2\n",
       "20. 2\n",
       "\n",
       "\n"
      ],
      "text/plain": [
       " [1] 1 1 1 2 2 2 2 2 2 2 2 3 1 3 1 1 1 4 2 2"
      ]
     },
     "metadata": {},
     "output_type": "display_data"
    },
    {
     "data": {
      "text/html": [
       "<style>\n",
       ".list-inline {list-style: none; margin:0; padding: 0}\n",
       ".list-inline>li {display: inline-block}\n",
       ".list-inline>li:not(:last-child)::after {content: \"\\00b7\"; padding: 0 .5ex}\n",
       "</style>\n",
       "<ol class=list-inline><li>1</li><li>2</li><li>3</li><li>4</li><li>8</li><li>9</li><li>10</li><li>14</li><li>15</li><li>21</li><li>22</li><li>23</li><li>26</li><li>28</li><li>29</li><li>30</li><li>31</li><li>32</li><li>37</li><li>38</li></ol>\n"
      ],
      "text/latex": [
       "\\begin{enumerate*}\n",
       "\\item 1\n",
       "\\item 2\n",
       "\\item 3\n",
       "\\item 4\n",
       "\\item 8\n",
       "\\item 9\n",
       "\\item 10\n",
       "\\item 14\n",
       "\\item 15\n",
       "\\item 21\n",
       "\\item 22\n",
       "\\item 23\n",
       "\\item 26\n",
       "\\item 28\n",
       "\\item 29\n",
       "\\item 30\n",
       "\\item 31\n",
       "\\item 32\n",
       "\\item 37\n",
       "\\item 38\n",
       "\\end{enumerate*}\n"
      ],
      "text/markdown": [
       "1. 1\n",
       "2. 2\n",
       "3. 3\n",
       "4. 4\n",
       "5. 8\n",
       "6. 9\n",
       "7. 10\n",
       "8. 14\n",
       "9. 15\n",
       "10. 21\n",
       "11. 22\n",
       "12. 23\n",
       "13. 26\n",
       "14. 28\n",
       "15. 29\n",
       "16. 30\n",
       "17. 31\n",
       "18. 32\n",
       "19. 37\n",
       "20. 38\n",
       "\n",
       "\n"
      ],
      "text/plain": [
       " [1]  1  2  3  4  8  9 10 14 15 21 22 23 26 28 29 30 31 32 37 38"
      ]
     },
     "metadata": {},
     "output_type": "display_data"
    }
   ],
   "source": [
    "#La siguiente función omite de la base de datos las filas con valores omisos.\n",
    "head((a <- na.omit(BASE$PPA10B)),20)\n",
    "\n",
    "#La siguiente función muestra que filas fueron extraídas de la base de datos.\n",
    "head(na.action(a),20)"
   ]
  },
  {
   "cell_type": "markdown",
   "metadata": {
    "slideshow": {
     "slide_type": "subslide"
    }
   },
   "source": [
    "### 3.1.2 Valores especiales\n",
    "\n",
    "Los cálculos que involucran valores especiales a menudo resultan en valores especiales, y dado que una afirmación estadística sobre un fenómeno del mundo real nunca debe incluir un valor especial, es deseable manejar valores especiales antes del análisis.\n"
   ]
  },
  {
   "cell_type": "code",
   "execution_count": 26,
   "metadata": {
    "slideshow": {
     "slide_type": "fragment"
    }
   },
   "outputs": [
    {
     "data": {
      "text/html": [
       "<style>\n",
       ".list-inline {list-style: none; margin:0; padding: 0}\n",
       ".list-inline>li {display: inline-block}\n",
       ".list-inline>li:not(:last-child)::after {content: \"\\00b7\"; padding: 0 .5ex}\n",
       "</style>\n",
       "<ol class=list-inline><li>FALSE</li><li>FALSE</li><li>FALSE</li><li>FALSE</li><li>TRUE</li><li>TRUE</li><li>TRUE</li><li>FALSE</li><li>FALSE</li><li>FALSE</li><li>TRUE</li><li>TRUE</li><li>TRUE</li><li>FALSE</li><li>FALSE</li><li>TRUE</li><li>TRUE</li><li>TRUE</li><li>TRUE</li><li>TRUE</li><li>FALSE</li><li>FALSE</li><li>FALSE</li><li>TRUE</li><li>TRUE</li><li>FALSE</li><li>TRUE</li><li>FALSE</li><li>FALSE</li><li>FALSE</li></ol>\n"
      ],
      "text/latex": [
       "\\begin{enumerate*}\n",
       "\\item FALSE\n",
       "\\item FALSE\n",
       "\\item FALSE\n",
       "\\item FALSE\n",
       "\\item TRUE\n",
       "\\item TRUE\n",
       "\\item TRUE\n",
       "\\item FALSE\n",
       "\\item FALSE\n",
       "\\item FALSE\n",
       "\\item TRUE\n",
       "\\item TRUE\n",
       "\\item TRUE\n",
       "\\item FALSE\n",
       "\\item FALSE\n",
       "\\item TRUE\n",
       "\\item TRUE\n",
       "\\item TRUE\n",
       "\\item TRUE\n",
       "\\item TRUE\n",
       "\\item FALSE\n",
       "\\item FALSE\n",
       "\\item FALSE\n",
       "\\item TRUE\n",
       "\\item TRUE\n",
       "\\item FALSE\n",
       "\\item TRUE\n",
       "\\item FALSE\n",
       "\\item FALSE\n",
       "\\item FALSE\n",
       "\\end{enumerate*}\n"
      ],
      "text/markdown": [
       "1. FALSE\n",
       "2. FALSE\n",
       "3. FALSE\n",
       "4. FALSE\n",
       "5. TRUE\n",
       "6. TRUE\n",
       "7. TRUE\n",
       "8. FALSE\n",
       "9. FALSE\n",
       "10. FALSE\n",
       "11. TRUE\n",
       "12. TRUE\n",
       "13. TRUE\n",
       "14. FALSE\n",
       "15. FALSE\n",
       "16. TRUE\n",
       "17. TRUE\n",
       "18. TRUE\n",
       "19. TRUE\n",
       "20. TRUE\n",
       "21. FALSE\n",
       "22. FALSE\n",
       "23. FALSE\n",
       "24. TRUE\n",
       "25. TRUE\n",
       "26. FALSE\n",
       "27. TRUE\n",
       "28. FALSE\n",
       "29. FALSE\n",
       "30. FALSE\n",
       "\n",
       "\n"
      ],
      "text/plain": [
       " [1] FALSE FALSE FALSE FALSE  TRUE  TRUE  TRUE FALSE FALSE FALSE  TRUE  TRUE\n",
       "[13]  TRUE FALSE FALSE  TRUE  TRUE  TRUE  TRUE  TRUE FALSE FALSE FALSE  TRUE\n",
       "[25]  TRUE FALSE  TRUE FALSE FALSE FALSE"
      ]
     },
     "metadata": {},
     "output_type": "display_data"
    }
   ],
   "source": [
    "# La función is.finite determina qué valores son valores 'regulares'.\n",
    "is.finite(BASE$PPA10B)[1:30]"
   ]
  },
  {
   "cell_type": "code",
   "execution_count": 27,
   "metadata": {
    "scrolled": true,
    "slideshow": {
     "slide_type": "subslide"
    }
   },
   "outputs": [
    {
     "data": {
      "text/html": [
       "<table>\n",
       "<caption>A matrix: 5 × 269 of type lgl</caption>\n",
       "<thead>\n",
       "\t<tr><th scope=col>No</th><th scope=col>DOMINIO</th><th scope=col>AREA</th><th scope=col>UPM</th><th scope=col>Factor_expansion</th><th scope=col>NUM_HOGAR</th><th scope=col>ID</th><th scope=col>PPA02</th><th scope=col>SEXO</th><th scope=col>PPA03</th><th scope=col>...</th><th scope=col>P05A21A</th><th scope=col>P05A21B</th><th scope=col>ETNICIDAD</th><th scope=col>PET</th><th scope=col>PEA</th><th scope=col>OCUPADOS</th><th scope=col>DESOCUPADOS</th><th scope=col>SUBVISIBLES</th><th scope=col>INACTIVOS</th><th scope=col>FORMAL_INFORMAL</th></tr>\n",
       "</thead>\n",
       "<tbody>\n",
       "\t<tr><td>FALSE</td><td>FALSE</td><td>FALSE</td><td>FALSE</td><td>FALSE</td><td>FALSE</td><td>FALSE</td><td>FALSE</td><td>FALSE</td><td>FALSE</td><td>...</td><td>FALSE</td><td>TRUE</td><td>FALSE</td><td>FALSE</td><td>FALSE</td><td>FALSE</td><td>TRUE</td><td>TRUE</td><td>TRUE</td><td>FALSE</td></tr>\n",
       "\t<tr><td>FALSE</td><td>FALSE</td><td>FALSE</td><td>FALSE</td><td>FALSE</td><td>FALSE</td><td>FALSE</td><td>FALSE</td><td>FALSE</td><td>FALSE</td><td>...</td><td> TRUE</td><td>TRUE</td><td>FALSE</td><td>FALSE</td><td>FALSE</td><td>FALSE</td><td>TRUE</td><td>TRUE</td><td>TRUE</td><td>FALSE</td></tr>\n",
       "\t<tr><td>FALSE</td><td>FALSE</td><td>FALSE</td><td>FALSE</td><td>FALSE</td><td>FALSE</td><td>FALSE</td><td>FALSE</td><td>FALSE</td><td>FALSE</td><td>...</td><td> TRUE</td><td>TRUE</td><td>FALSE</td><td>FALSE</td><td>FALSE</td><td>FALSE</td><td>TRUE</td><td>TRUE</td><td>TRUE</td><td>FALSE</td></tr>\n",
       "\t<tr><td>FALSE</td><td>FALSE</td><td>FALSE</td><td>FALSE</td><td>FALSE</td><td>FALSE</td><td>FALSE</td><td>FALSE</td><td>FALSE</td><td>FALSE</td><td>...</td><td>FALSE</td><td>TRUE</td><td>FALSE</td><td>FALSE</td><td>FALSE</td><td>FALSE</td><td>TRUE</td><td>TRUE</td><td>TRUE</td><td>FALSE</td></tr>\n",
       "\t<tr><td>FALSE</td><td>FALSE</td><td>FALSE</td><td>FALSE</td><td>FALSE</td><td>FALSE</td><td>FALSE</td><td>FALSE</td><td>FALSE</td><td>FALSE</td><td>...</td><td> TRUE</td><td>TRUE</td><td>FALSE</td><td>FALSE</td><td>FALSE</td><td>FALSE</td><td>TRUE</td><td>TRUE</td><td>TRUE</td><td>FALSE</td></tr>\n",
       "</tbody>\n",
       "</table>\n"
      ],
      "text/latex": [
       "A matrix: 5 × 269 of type lgl\n",
       "\\begin{tabular}{lllllllllllllllllllll}\n",
       " No & DOMINIO & AREA & UPM & Factor\\_expansion & NUM\\_HOGAR & ID & PPA02 & SEXO & PPA03 & ... & P05A21A & P05A21B & ETNICIDAD & PET & PEA & OCUPADOS & DESOCUPADOS & SUBVISIBLES & INACTIVOS & FORMAL\\_INFORMAL\\\\\n",
       "\\hline\n",
       "\t FALSE & FALSE & FALSE & FALSE & FALSE & FALSE & FALSE & FALSE & FALSE & FALSE & ... & FALSE & TRUE & FALSE & FALSE & FALSE & FALSE & TRUE & TRUE & TRUE & FALSE\\\\\n",
       "\t FALSE & FALSE & FALSE & FALSE & FALSE & FALSE & FALSE & FALSE & FALSE & FALSE & ... &  TRUE & TRUE & FALSE & FALSE & FALSE & FALSE & TRUE & TRUE & TRUE & FALSE\\\\\n",
       "\t FALSE & FALSE & FALSE & FALSE & FALSE & FALSE & FALSE & FALSE & FALSE & FALSE & ... &  TRUE & TRUE & FALSE & FALSE & FALSE & FALSE & TRUE & TRUE & TRUE & FALSE\\\\\n",
       "\t FALSE & FALSE & FALSE & FALSE & FALSE & FALSE & FALSE & FALSE & FALSE & FALSE & ... & FALSE & TRUE & FALSE & FALSE & FALSE & FALSE & TRUE & TRUE & TRUE & FALSE\\\\\n",
       "\t FALSE & FALSE & FALSE & FALSE & FALSE & FALSE & FALSE & FALSE & FALSE & FALSE & ... &  TRUE & TRUE & FALSE & FALSE & FALSE & FALSE & TRUE & TRUE & TRUE & FALSE\\\\\n",
       "\\end{tabular}\n"
      ],
      "text/markdown": [
       "\n",
       "A matrix: 5 × 269 of type lgl\n",
       "\n",
       "| No | DOMINIO | AREA | UPM | Factor_expansion | NUM_HOGAR | ID | PPA02 | SEXO | PPA03 | ... | P05A21A | P05A21B | ETNICIDAD | PET | PEA | OCUPADOS | DESOCUPADOS | SUBVISIBLES | INACTIVOS | FORMAL_INFORMAL |\n",
       "|---|---|---|---|---|---|---|---|---|---|---|---|---|---|---|---|---|---|---|---|---|\n",
       "| FALSE | FALSE | FALSE | FALSE | FALSE | FALSE | FALSE | FALSE | FALSE | FALSE | ... | FALSE | TRUE | FALSE | FALSE | FALSE | FALSE | TRUE | TRUE | TRUE | FALSE |\n",
       "| FALSE | FALSE | FALSE | FALSE | FALSE | FALSE | FALSE | FALSE | FALSE | FALSE | ... |  TRUE | TRUE | FALSE | FALSE | FALSE | FALSE | TRUE | TRUE | TRUE | FALSE |\n",
       "| FALSE | FALSE | FALSE | FALSE | FALSE | FALSE | FALSE | FALSE | FALSE | FALSE | ... |  TRUE | TRUE | FALSE | FALSE | FALSE | FALSE | TRUE | TRUE | TRUE | FALSE |\n",
       "| FALSE | FALSE | FALSE | FALSE | FALSE | FALSE | FALSE | FALSE | FALSE | FALSE | ... | FALSE | TRUE | FALSE | FALSE | FALSE | FALSE | TRUE | TRUE | TRUE | FALSE |\n",
       "| FALSE | FALSE | FALSE | FALSE | FALSE | FALSE | FALSE | FALSE | FALSE | FALSE | ... |  TRUE | TRUE | FALSE | FALSE | FALSE | FALSE | TRUE | TRUE | TRUE | FALSE |\n",
       "\n"
      ],
      "text/plain": [
       "     No    DOMINIO AREA  UPM   Factor_expansion NUM_HOGAR ID    PPA02 SEXO \n",
       "[1,] FALSE FALSE   FALSE FALSE FALSE            FALSE     FALSE FALSE FALSE\n",
       "[2,] FALSE FALSE   FALSE FALSE FALSE            FALSE     FALSE FALSE FALSE\n",
       "[3,] FALSE FALSE   FALSE FALSE FALSE            FALSE     FALSE FALSE FALSE\n",
       "[4,] FALSE FALSE   FALSE FALSE FALSE            FALSE     FALSE FALSE FALSE\n",
       "[5,] FALSE FALSE   FALSE FALSE FALSE            FALSE     FALSE FALSE FALSE\n",
       "     PPA03 ... P05A21A P05A21B ETNICIDAD PET   PEA   OCUPADOS DESOCUPADOS\n",
       "[1,] FALSE ... FALSE   TRUE    FALSE     FALSE FALSE FALSE    TRUE       \n",
       "[2,] FALSE ...  TRUE   TRUE    FALSE     FALSE FALSE FALSE    TRUE       \n",
       "[3,] FALSE ...  TRUE   TRUE    FALSE     FALSE FALSE FALSE    TRUE       \n",
       "[4,] FALSE ... FALSE   TRUE    FALSE     FALSE FALSE FALSE    TRUE       \n",
       "[5,] FALSE ...  TRUE   TRUE    FALSE     FALSE FALSE FALSE    TRUE       \n",
       "     SUBVISIBLES INACTIVOS FORMAL_INFORMAL\n",
       "[1,] TRUE        TRUE      FALSE          \n",
       "[2,] TRUE        TRUE      FALSE          \n",
       "[3,] TRUE        TRUE      FALSE          \n",
       "[4,] TRUE        TRUE      FALSE          \n",
       "[5,] TRUE        TRUE      FALSE          "
      ]
     },
     "metadata": {},
     "output_type": "display_data"
    }
   ],
   "source": [
    "#la siguiente función puede usarse para verificar cada columna numérica en un marco de datos.\n",
    "is.special <- function(x){\n",
    "    if (is.numeric(x)) !is.finite(x) else is.na(x)\n",
    "}\n",
    "head(is.special(BASE),5)"
   ]
  },
  {
   "cell_type": "markdown",
   "metadata": {
    "slideshow": {
     "slide_type": "subslide"
    }
   },
   "source": [
    "### 3.1.3 Valores atípicos\n",
    "Existe una gran cantidad de literatura sobre detección de valores atípicos, y existen varias definiciones de valores atípicos. Una definición general de Barnett y Lewis define un valor atípico en un conjunto de datos como una observación (o conjunto de observaciones) que parece ser inconsistente con ese conjunto de datos.\n",
    "\n",
    "La instalación base R viene con la función boxplot.stats, que, entre otras cosas, enumera los valores atípicos."
   ]
  },
  {
   "cell_type": "code",
   "execution_count": 28,
   "metadata": {
    "scrolled": false,
    "slideshow": {
     "slide_type": "subslide"
    }
   },
   "outputs": [
    {
     "data": {
      "text/html": [
       "<style>\n",
       ".list-inline {list-style: none; margin:0; padding: 0}\n",
       ".list-inline>li {display: inline-block}\n",
       ".list-inline>li:not(:last-child)::after {content: \"\\00b7\"; padding: 0 .5ex}\n",
       "</style>\n",
       "<ol class=list-inline><li>7000</li><li>8000</li><li>8000</li><li>7000</li><li>7000</li><li>8000</li><li>10000</li><li>9000</li><li>7000</li><li>9000</li><li>8000</li><li>15000</li><li>6000</li><li>10300</li><li>10000</li><li>15000</li><li>7000</li><li>7000</li><li>9000</li><li>8000</li><li>6100</li><li>6000</li><li>9000</li><li>7000</li><li>7000</li><li>8200</li><li>6500</li><li>7000</li><li>7000</li><li>10000</li><li>9000</li><li>9000</li><li>9000</li><li>10000</li><li>8000</li><li>20000</li><li>7000</li><li>8000</li><li>6000</li><li>6000</li><li>7000</li><li>7000</li><li>10000</li><li>12000</li><li>8000</li><li>11000</li><li>7000</li><li>7000</li><li>12000</li><li>9000</li><li>8000</li><li>35000</li><li>15000</li><li>10000</li><li>8000</li><li>7000</li><li>8000</li><li>7500</li><li>7000</li><li>10000</li><li>10000</li><li>8000</li><li>8000</li><li>7000</li><li>7000</li><li>8000</li><li>9500</li><li>8000</li><li>6000</li><li>50000</li><li>8000</li><li>9000</li><li>9000</li><li>8500</li><li>9000</li><li>6000</li><li>6000</li><li>8000</li><li>7000</li><li>8000</li><li>7000</li><li>15000</li><li>10000</li><li>6500</li><li>10000</li><li>7000</li><li>10000</li><li>7500</li><li>6500</li><li>6500</li><li>6200</li><li>12000</li><li>7000</li><li>10000</li><li>6000</li><li>10000</li><li>10000</li><li>6500</li><li>10000</li><li>10000</li><li>6000</li><li>6000</li><li>10000</li><li>9000</li><li>10000</li><li>6000</li><li>9000</li><li>5900</li><li>6000</li><li>6150</li><li>6000</li><li>12000</li><li>10422</li><li>6000</li><li>6000</li><li>12000</li><li>7500</li><li>6000</li><li>10000</li><li>10000</li><li>7000</li><li>13000</li><li>12000</li><li>6000</li><li>10000</li><li>10000</li><li>6000</li><li>9300</li><li>6000</li><li>5900</li><li>6000</li><li>8000</li><li>12000</li><li>8000</li><li>6000</li><li>12000</li><li>8000</li><li>6000</li><li>6000</li><li>7000</li><li>9000</li><li>8000</li><li>7300</li><li>6000</li><li>6000</li><li>6000</li><li>6000</li><li>8000</li><li>10000</li><li>6000</li><li>8000</li><li>7200</li><li>7000</li><li>10000</li><li>11000</li><li>6000</li><li>17000</li><li>8000</li><li>7000</li><li>6000</li><li>6500</li><li>7000</li><li>6000</li><li>7000</li><li>7200</li><li>7000</li><li>7000</li><li>9000</li><li>6500</li><li>7000</li><li>7000</li><li>7000</li><li>8000</li><li>10000</li><li>7000</li><li>9000</li><li>6000</li><li>6000</li><li>10000</li><li>6000</li><li>11000</li><li>10000</li><li>8000</li><li>15000</li><li>6900</li><li>25000</li><li>15000</li><li>8000</li><li>10000</li><li>14000</li><li>7000</li><li>11000</li><li>5779</li><li>12000</li><li>9000</li><li>6000</li><li>6000</li><li>10000</li><li>8000</li><li>7000</li><li>8000</li><li>10000</li><li>8000</li><li>10000</li><li>7000</li><li>7000</li><li>8000</li><li>7000</li><li>9000</li><li>6000</li><li>15000</li><li>7000</li><li>12000</li><li>6000</li><li>8000</li><li>10000</li><li>7200</li><li>8000</li><li>6680</li><li>13000</li><li>7000</li><li>6000</li><li>7292</li><li>10000</li><li>6300</li><li>12000</li><li>8203</li><li>6380</li><li>7000</li><li>8800</li><li>5800</li><li>6000</li><li>6000</li><li>6000</li><li>7200</li><li>7000</li><li>6000</li><li>6500</li><li>25000</li><li>6000</li><li>6000</li><li>7000</li><li>8000</li><li>8000</li><li>6000</li><li>8000</li><li>8000</li><li>6000</li><li>6600</li><li>8000</li><li>5800</li><li>8000</li><li>6500</li><li>7400</li><li>7200</li><li>8712</li><li>6600</li><li>5800</li><li>5800</li><li>8500</li><li>6587</li><li>6300</li><li>6000</li><li>7220</li><li>5750</li><li>6300</li><li>8000</li><li>8000</li><li>6000</li><li>5800</li><li>7210</li><li>8000</li><li>6000</li><li>7000</li><li>5800</li><li>6000</li><li>6000</li><li>7000</li><li>6000</li><li>7000</li><li>6225</li><li>7100</li><li>8500</li><li>6000</li><li>8000</li><li>6300</li><li>8203</li><li>6000</li><li>8000</li><li>7260</li><li>7260</li><li>6000</li><li>6000</li><li>8000</li><li>14000</li><li>6380</li><li>7000</li><li>8000</li><li>10000</li><li>6000</li><li>6000</li><li>12000</li><li>8500</li><li>11000</li><li>6000</li><li>7000</li><li>6000</li><li>5800</li><li>8000</li><li>6000</li><li>7203</li><li>10000</li><li>6000</li><li>6580</li><li>7200</li><li>11300</li><li>6000</li><li>8000</li><li>6000</li></ol>\n"
      ],
      "text/latex": [
       "\\begin{enumerate*}\n",
       "\\item 7000\n",
       "\\item 8000\n",
       "\\item 8000\n",
       "\\item 7000\n",
       "\\item 7000\n",
       "\\item 8000\n",
       "\\item 10000\n",
       "\\item 9000\n",
       "\\item 7000\n",
       "\\item 9000\n",
       "\\item 8000\n",
       "\\item 15000\n",
       "\\item 6000\n",
       "\\item 10300\n",
       "\\item 10000\n",
       "\\item 15000\n",
       "\\item 7000\n",
       "\\item 7000\n",
       "\\item 9000\n",
       "\\item 8000\n",
       "\\item 6100\n",
       "\\item 6000\n",
       "\\item 9000\n",
       "\\item 7000\n",
       "\\item 7000\n",
       "\\item 8200\n",
       "\\item 6500\n",
       "\\item 7000\n",
       "\\item 7000\n",
       "\\item 10000\n",
       "\\item 9000\n",
       "\\item 9000\n",
       "\\item 9000\n",
       "\\item 10000\n",
       "\\item 8000\n",
       "\\item 20000\n",
       "\\item 7000\n",
       "\\item 8000\n",
       "\\item 6000\n",
       "\\item 6000\n",
       "\\item 7000\n",
       "\\item 7000\n",
       "\\item 10000\n",
       "\\item 12000\n",
       "\\item 8000\n",
       "\\item 11000\n",
       "\\item 7000\n",
       "\\item 7000\n",
       "\\item 12000\n",
       "\\item 9000\n",
       "\\item 8000\n",
       "\\item 35000\n",
       "\\item 15000\n",
       "\\item 10000\n",
       "\\item 8000\n",
       "\\item 7000\n",
       "\\item 8000\n",
       "\\item 7500\n",
       "\\item 7000\n",
       "\\item 10000\n",
       "\\item 10000\n",
       "\\item 8000\n",
       "\\item 8000\n",
       "\\item 7000\n",
       "\\item 7000\n",
       "\\item 8000\n",
       "\\item 9500\n",
       "\\item 8000\n",
       "\\item 6000\n",
       "\\item 50000\n",
       "\\item 8000\n",
       "\\item 9000\n",
       "\\item 9000\n",
       "\\item 8500\n",
       "\\item 9000\n",
       "\\item 6000\n",
       "\\item 6000\n",
       "\\item 8000\n",
       "\\item 7000\n",
       "\\item 8000\n",
       "\\item 7000\n",
       "\\item 15000\n",
       "\\item 10000\n",
       "\\item 6500\n",
       "\\item 10000\n",
       "\\item 7000\n",
       "\\item 10000\n",
       "\\item 7500\n",
       "\\item 6500\n",
       "\\item 6500\n",
       "\\item 6200\n",
       "\\item 12000\n",
       "\\item 7000\n",
       "\\item 10000\n",
       "\\item 6000\n",
       "\\item 10000\n",
       "\\item 10000\n",
       "\\item 6500\n",
       "\\item 10000\n",
       "\\item 10000\n",
       "\\item 6000\n",
       "\\item 6000\n",
       "\\item 10000\n",
       "\\item 9000\n",
       "\\item 10000\n",
       "\\item 6000\n",
       "\\item 9000\n",
       "\\item 5900\n",
       "\\item 6000\n",
       "\\item 6150\n",
       "\\item 6000\n",
       "\\item 12000\n",
       "\\item 10422\n",
       "\\item 6000\n",
       "\\item 6000\n",
       "\\item 12000\n",
       "\\item 7500\n",
       "\\item 6000\n",
       "\\item 10000\n",
       "\\item 10000\n",
       "\\item 7000\n",
       "\\item 13000\n",
       "\\item 12000\n",
       "\\item 6000\n",
       "\\item 10000\n",
       "\\item 10000\n",
       "\\item 6000\n",
       "\\item 9300\n",
       "\\item 6000\n",
       "\\item 5900\n",
       "\\item 6000\n",
       "\\item 8000\n",
       "\\item 12000\n",
       "\\item 8000\n",
       "\\item 6000\n",
       "\\item 12000\n",
       "\\item 8000\n",
       "\\item 6000\n",
       "\\item 6000\n",
       "\\item 7000\n",
       "\\item 9000\n",
       "\\item 8000\n",
       "\\item 7300\n",
       "\\item 6000\n",
       "\\item 6000\n",
       "\\item 6000\n",
       "\\item 6000\n",
       "\\item 8000\n",
       "\\item 10000\n",
       "\\item 6000\n",
       "\\item 8000\n",
       "\\item 7200\n",
       "\\item 7000\n",
       "\\item 10000\n",
       "\\item 11000\n",
       "\\item 6000\n",
       "\\item 17000\n",
       "\\item 8000\n",
       "\\item 7000\n",
       "\\item 6000\n",
       "\\item 6500\n",
       "\\item 7000\n",
       "\\item 6000\n",
       "\\item 7000\n",
       "\\item 7200\n",
       "\\item 7000\n",
       "\\item 7000\n",
       "\\item 9000\n",
       "\\item 6500\n",
       "\\item 7000\n",
       "\\item 7000\n",
       "\\item 7000\n",
       "\\item 8000\n",
       "\\item 10000\n",
       "\\item 7000\n",
       "\\item 9000\n",
       "\\item 6000\n",
       "\\item 6000\n",
       "\\item 10000\n",
       "\\item 6000\n",
       "\\item 11000\n",
       "\\item 10000\n",
       "\\item 8000\n",
       "\\item 15000\n",
       "\\item 6900\n",
       "\\item 25000\n",
       "\\item 15000\n",
       "\\item 8000\n",
       "\\item 10000\n",
       "\\item 14000\n",
       "\\item 7000\n",
       "\\item 11000\n",
       "\\item 5779\n",
       "\\item 12000\n",
       "\\item 9000\n",
       "\\item 6000\n",
       "\\item 6000\n",
       "\\item 10000\n",
       "\\item 8000\n",
       "\\item 7000\n",
       "\\item 8000\n",
       "\\item 10000\n",
       "\\item 8000\n",
       "\\item 10000\n",
       "\\item 7000\n",
       "\\item 7000\n",
       "\\item 8000\n",
       "\\item 7000\n",
       "\\item 9000\n",
       "\\item 6000\n",
       "\\item 15000\n",
       "\\item 7000\n",
       "\\item 12000\n",
       "\\item 6000\n",
       "\\item 8000\n",
       "\\item 10000\n",
       "\\item 7200\n",
       "\\item 8000\n",
       "\\item 6680\n",
       "\\item 13000\n",
       "\\item 7000\n",
       "\\item 6000\n",
       "\\item 7292\n",
       "\\item 10000\n",
       "\\item 6300\n",
       "\\item 12000\n",
       "\\item 8203\n",
       "\\item 6380\n",
       "\\item 7000\n",
       "\\item 8800\n",
       "\\item 5800\n",
       "\\item 6000\n",
       "\\item 6000\n",
       "\\item 6000\n",
       "\\item 7200\n",
       "\\item 7000\n",
       "\\item 6000\n",
       "\\item 6500\n",
       "\\item 25000\n",
       "\\item 6000\n",
       "\\item 6000\n",
       "\\item 7000\n",
       "\\item 8000\n",
       "\\item 8000\n",
       "\\item 6000\n",
       "\\item 8000\n",
       "\\item 8000\n",
       "\\item 6000\n",
       "\\item 6600\n",
       "\\item 8000\n",
       "\\item 5800\n",
       "\\item 8000\n",
       "\\item 6500\n",
       "\\item 7400\n",
       "\\item 7200\n",
       "\\item 8712\n",
       "\\item 6600\n",
       "\\item 5800\n",
       "\\item 5800\n",
       "\\item 8500\n",
       "\\item 6587\n",
       "\\item 6300\n",
       "\\item 6000\n",
       "\\item 7220\n",
       "\\item 5750\n",
       "\\item 6300\n",
       "\\item 8000\n",
       "\\item 8000\n",
       "\\item 6000\n",
       "\\item 5800\n",
       "\\item 7210\n",
       "\\item 8000\n",
       "\\item 6000\n",
       "\\item 7000\n",
       "\\item 5800\n",
       "\\item 6000\n",
       "\\item 6000\n",
       "\\item 7000\n",
       "\\item 6000\n",
       "\\item 7000\n",
       "\\item 6225\n",
       "\\item 7100\n",
       "\\item 8500\n",
       "\\item 6000\n",
       "\\item 8000\n",
       "\\item 6300\n",
       "\\item 8203\n",
       "\\item 6000\n",
       "\\item 8000\n",
       "\\item 7260\n",
       "\\item 7260\n",
       "\\item 6000\n",
       "\\item 6000\n",
       "\\item 8000\n",
       "\\item 14000\n",
       "\\item 6380\n",
       "\\item 7000\n",
       "\\item 8000\n",
       "\\item 10000\n",
       "\\item 6000\n",
       "\\item 6000\n",
       "\\item 12000\n",
       "\\item 8500\n",
       "\\item 11000\n",
       "\\item 6000\n",
       "\\item 7000\n",
       "\\item 6000\n",
       "\\item 5800\n",
       "\\item 8000\n",
       "\\item 6000\n",
       "\\item 7203\n",
       "\\item 10000\n",
       "\\item 6000\n",
       "\\item 6580\n",
       "\\item 7200\n",
       "\\item 11300\n",
       "\\item 6000\n",
       "\\item 8000\n",
       "\\item 6000\n",
       "\\end{enumerate*}\n"
      ],
      "text/markdown": [
       "1. 7000\n",
       "2. 8000\n",
       "3. 8000\n",
       "4. 7000\n",
       "5. 7000\n",
       "6. 8000\n",
       "7. 10000\n",
       "8. 9000\n",
       "9. 7000\n",
       "10. 9000\n",
       "11. 8000\n",
       "12. 15000\n",
       "13. 6000\n",
       "14. 10300\n",
       "15. 10000\n",
       "16. 15000\n",
       "17. 7000\n",
       "18. 7000\n",
       "19. 9000\n",
       "20. 8000\n",
       "21. 6100\n",
       "22. 6000\n",
       "23. 9000\n",
       "24. 7000\n",
       "25. 7000\n",
       "26. 8200\n",
       "27. 6500\n",
       "28. 7000\n",
       "29. 7000\n",
       "30. 10000\n",
       "31. 9000\n",
       "32. 9000\n",
       "33. 9000\n",
       "34. 10000\n",
       "35. 8000\n",
       "36. 20000\n",
       "37. 7000\n",
       "38. 8000\n",
       "39. 6000\n",
       "40. 6000\n",
       "41. 7000\n",
       "42. 7000\n",
       "43. 10000\n",
       "44. 12000\n",
       "45. 8000\n",
       "46. 11000\n",
       "47. 7000\n",
       "48. 7000\n",
       "49. 12000\n",
       "50. 9000\n",
       "51. 8000\n",
       "52. 35000\n",
       "53. 15000\n",
       "54. 10000\n",
       "55. 8000\n",
       "56. 7000\n",
       "57. 8000\n",
       "58. 7500\n",
       "59. 7000\n",
       "60. 10000\n",
       "61. 10000\n",
       "62. 8000\n",
       "63. 8000\n",
       "64. 7000\n",
       "65. 7000\n",
       "66. 8000\n",
       "67. 9500\n",
       "68. 8000\n",
       "69. 6000\n",
       "70. 50000\n",
       "71. 8000\n",
       "72. 9000\n",
       "73. 9000\n",
       "74. 8500\n",
       "75. 9000\n",
       "76. 6000\n",
       "77. 6000\n",
       "78. 8000\n",
       "79. 7000\n",
       "80. 8000\n",
       "81. 7000\n",
       "82. 15000\n",
       "83. 10000\n",
       "84. 6500\n",
       "85. 10000\n",
       "86. 7000\n",
       "87. 10000\n",
       "88. 7500\n",
       "89. 6500\n",
       "90. 6500\n",
       "91. 6200\n",
       "92. 12000\n",
       "93. 7000\n",
       "94. 10000\n",
       "95. 6000\n",
       "96. 10000\n",
       "97. 10000\n",
       "98. 6500\n",
       "99. 10000\n",
       "100. 10000\n",
       "101. 6000\n",
       "102. 6000\n",
       "103. 10000\n",
       "104. 9000\n",
       "105. 10000\n",
       "106. 6000\n",
       "107. 9000\n",
       "108. 5900\n",
       "109. 6000\n",
       "110. 6150\n",
       "111. 6000\n",
       "112. 12000\n",
       "113. 10422\n",
       "114. 6000\n",
       "115. 6000\n",
       "116. 12000\n",
       "117. 7500\n",
       "118. 6000\n",
       "119. 10000\n",
       "120. 10000\n",
       "121. 7000\n",
       "122. 13000\n",
       "123. 12000\n",
       "124. 6000\n",
       "125. 10000\n",
       "126. 10000\n",
       "127. 6000\n",
       "128. 9300\n",
       "129. 6000\n",
       "130. 5900\n",
       "131. 6000\n",
       "132. 8000\n",
       "133. 12000\n",
       "134. 8000\n",
       "135. 6000\n",
       "136. 12000\n",
       "137. 8000\n",
       "138. 6000\n",
       "139. 6000\n",
       "140. 7000\n",
       "141. 9000\n",
       "142. 8000\n",
       "143. 7300\n",
       "144. 6000\n",
       "145. 6000\n",
       "146. 6000\n",
       "147. 6000\n",
       "148. 8000\n",
       "149. 10000\n",
       "150. 6000\n",
       "151. 8000\n",
       "152. 7200\n",
       "153. 7000\n",
       "154. 10000\n",
       "155. 11000\n",
       "156. 6000\n",
       "157. 17000\n",
       "158. 8000\n",
       "159. 7000\n",
       "160. 6000\n",
       "161. 6500\n",
       "162. 7000\n",
       "163. 6000\n",
       "164. 7000\n",
       "165. 7200\n",
       "166. 7000\n",
       "167. 7000\n",
       "168. 9000\n",
       "169. 6500\n",
       "170. 7000\n",
       "171. 7000\n",
       "172. 7000\n",
       "173. 8000\n",
       "174. 10000\n",
       "175. 7000\n",
       "176. 9000\n",
       "177. 6000\n",
       "178. 6000\n",
       "179. 10000\n",
       "180. 6000\n",
       "181. 11000\n",
       "182. 10000\n",
       "183. 8000\n",
       "184. 15000\n",
       "185. 6900\n",
       "186. 25000\n",
       "187. 15000\n",
       "188. 8000\n",
       "189. 10000\n",
       "190. 14000\n",
       "191. 7000\n",
       "192. 11000\n",
       "193. 5779\n",
       "194. 12000\n",
       "195. 9000\n",
       "196. 6000\n",
       "197. 6000\n",
       "198. 10000\n",
       "199. 8000\n",
       "200. 7000\n",
       "201. 8000\n",
       "202. 10000\n",
       "203. 8000\n",
       "204. 10000\n",
       "205. 7000\n",
       "206. 7000\n",
       "207. 8000\n",
       "208. 7000\n",
       "209. 9000\n",
       "210. 6000\n",
       "211. 15000\n",
       "212. 7000\n",
       "213. 12000\n",
       "214. 6000\n",
       "215. 8000\n",
       "216. 10000\n",
       "217. 7200\n",
       "218. 8000\n",
       "219. 6680\n",
       "220. 13000\n",
       "221. 7000\n",
       "222. 6000\n",
       "223. 7292\n",
       "224. 10000\n",
       "225. 6300\n",
       "226. 12000\n",
       "227. 8203\n",
       "228. 6380\n",
       "229. 7000\n",
       "230. 8800\n",
       "231. 5800\n",
       "232. 6000\n",
       "233. 6000\n",
       "234. 6000\n",
       "235. 7200\n",
       "236. 7000\n",
       "237. 6000\n",
       "238. 6500\n",
       "239. 25000\n",
       "240. 6000\n",
       "241. 6000\n",
       "242. 7000\n",
       "243. 8000\n",
       "244. 8000\n",
       "245. 6000\n",
       "246. 8000\n",
       "247. 8000\n",
       "248. 6000\n",
       "249. 6600\n",
       "250. 8000\n",
       "251. 5800\n",
       "252. 8000\n",
       "253. 6500\n",
       "254. 7400\n",
       "255. 7200\n",
       "256. 8712\n",
       "257. 6600\n",
       "258. 5800\n",
       "259. 5800\n",
       "260. 8500\n",
       "261. 6587\n",
       "262. 6300\n",
       "263. 6000\n",
       "264. 7220\n",
       "265. 5750\n",
       "266. 6300\n",
       "267. 8000\n",
       "268. 8000\n",
       "269. 6000\n",
       "270. 5800\n",
       "271. 7210\n",
       "272. 8000\n",
       "273. 6000\n",
       "274. 7000\n",
       "275. 5800\n",
       "276. 6000\n",
       "277. 6000\n",
       "278. 7000\n",
       "279. 6000\n",
       "280. 7000\n",
       "281. 6225\n",
       "282. 7100\n",
       "283. 8500\n",
       "284. 6000\n",
       "285. 8000\n",
       "286. 6300\n",
       "287. 8203\n",
       "288. 6000\n",
       "289. 8000\n",
       "290. 7260\n",
       "291. 7260\n",
       "292. 6000\n",
       "293. 6000\n",
       "294. 8000\n",
       "295. 14000\n",
       "296. 6380\n",
       "297. 7000\n",
       "298. 8000\n",
       "299. 10000\n",
       "300. 6000\n",
       "301. 6000\n",
       "302. 12000\n",
       "303. 8500\n",
       "304. 11000\n",
       "305. 6000\n",
       "306. 7000\n",
       "307. 6000\n",
       "308. 5800\n",
       "309. 8000\n",
       "310. 6000\n",
       "311. 7203\n",
       "312. 10000\n",
       "313. 6000\n",
       "314. 6580\n",
       "315. 7200\n",
       "316. 11300\n",
       "317. 6000\n",
       "318. 8000\n",
       "319. 6000\n",
       "\n",
       "\n"
      ],
      "text/plain": [
       "  [1]  7000  8000  8000  7000  7000  8000 10000  9000  7000  9000  8000 15000\n",
       " [13]  6000 10300 10000 15000  7000  7000  9000  8000  6100  6000  9000  7000\n",
       " [25]  7000  8200  6500  7000  7000 10000  9000  9000  9000 10000  8000 20000\n",
       " [37]  7000  8000  6000  6000  7000  7000 10000 12000  8000 11000  7000  7000\n",
       " [49] 12000  9000  8000 35000 15000 10000  8000  7000  8000  7500  7000 10000\n",
       " [61] 10000  8000  8000  7000  7000  8000  9500  8000  6000 50000  8000  9000\n",
       " [73]  9000  8500  9000  6000  6000  8000  7000  8000  7000 15000 10000  6500\n",
       " [85] 10000  7000 10000  7500  6500  6500  6200 12000  7000 10000  6000 10000\n",
       " [97] 10000  6500 10000 10000  6000  6000 10000  9000 10000  6000  9000  5900\n",
       "[109]  6000  6150  6000 12000 10422  6000  6000 12000  7500  6000 10000 10000\n",
       "[121]  7000 13000 12000  6000 10000 10000  6000  9300  6000  5900  6000  8000\n",
       "[133] 12000  8000  6000 12000  8000  6000  6000  7000  9000  8000  7300  6000\n",
       "[145]  6000  6000  6000  8000 10000  6000  8000  7200  7000 10000 11000  6000\n",
       "[157] 17000  8000  7000  6000  6500  7000  6000  7000  7200  7000  7000  9000\n",
       "[169]  6500  7000  7000  7000  8000 10000  7000  9000  6000  6000 10000  6000\n",
       "[181] 11000 10000  8000 15000  6900 25000 15000  8000 10000 14000  7000 11000\n",
       "[193]  5779 12000  9000  6000  6000 10000  8000  7000  8000 10000  8000 10000\n",
       "[205]  7000  7000  8000  7000  9000  6000 15000  7000 12000  6000  8000 10000\n",
       "[217]  7200  8000  6680 13000  7000  6000  7292 10000  6300 12000  8203  6380\n",
       "[229]  7000  8800  5800  6000  6000  6000  7200  7000  6000  6500 25000  6000\n",
       "[241]  6000  7000  8000  8000  6000  8000  8000  6000  6600  8000  5800  8000\n",
       "[253]  6500  7400  7200  8712  6600  5800  5800  8500  6587  6300  6000  7220\n",
       "[265]  5750  6300  8000  8000  6000  5800  7210  8000  6000  7000  5800  6000\n",
       "[277]  6000  7000  6000  7000  6225  7100  8500  6000  8000  6300  8203  6000\n",
       "[289]  8000  7260  7260  6000  6000  8000 14000  6380  7000  8000 10000  6000\n",
       "[301]  6000 12000  8500 11000  6000  7000  6000  5800  8000  6000  7203 10000\n",
       "[313]  6000  6580  7200 11300  6000  8000  6000"
      ]
     },
     "metadata": {},
     "output_type": "display_data"
    }
   ],
   "source": [
    "# La siguiente función determina datos átipicos\n",
    "boxplot.stats(BASE$P04C10)$out"
   ]
  },
  {
   "cell_type": "code",
   "execution_count": 29,
   "metadata": {
    "slideshow": {
     "slide_type": "subslide"
    }
   },
   "outputs": [
    {
     "data": {
      "text/html": [
       "<style>\n",
       ".list-inline {list-style: none; margin:0; padding: 0}\n",
       ".list-inline>li {display: inline-block}\n",
       ".list-inline>li:not(:last-child)::after {content: \"\\00b7\"; padding: 0 .5ex}\n",
       "</style>\n",
       "<ol class=list-inline><li>10000</li><li>9000</li><li>9000</li><li>15000</li><li>10300</li><li>10000</li><li>15000</li><li>9000</li><li>9000</li><li>10000</li><li>9000</li><li>9000</li><li>9000</li><li>10000</li><li>20000</li><li>10000</li><li>12000</li><li>11000</li><li>12000</li><li>9000</li><li>35000</li><li>15000</li><li>10000</li><li>10000</li><li>10000</li><li>9500</li><li>50000</li><li>9000</li><li>9000</li><li>8500</li><li>9000</li><li>15000</li><li>10000</li><li>10000</li><li>10000</li><li>12000</li><li>10000</li><li>10000</li><li>10000</li><li>10000</li><li>10000</li><li>10000</li><li>9000</li><li>10000</li><li>9000</li><li>12000</li><li>10422</li><li>12000</li><li>10000</li><li>10000</li><li>13000</li><li>12000</li><li>10000</li><li>10000</li><li>9300</li><li>12000</li><li>12000</li><li>9000</li><li>10000</li><li>10000</li><li>11000</li><li>17000</li><li>9000</li><li>10000</li><li>9000</li><li>10000</li><li>11000</li><li>10000</li><li>15000</li><li>25000</li><li>15000</li><li>10000</li><li>14000</li><li>11000</li><li>12000</li><li>9000</li><li>10000</li><li>10000</li><li>10000</li><li>9000</li><li>15000</li><li>12000</li><li>10000</li><li>13000</li><li>10000</li><li>12000</li><li>8800</li><li>25000</li><li>8712</li><li>8500</li><li>8500</li><li>14000</li><li>10000</li><li>12000</li><li>8500</li><li>11000</li><li>10000</li><li>11300</li></ol>\n"
      ],
      "text/latex": [
       "\\begin{enumerate*}\n",
       "\\item 10000\n",
       "\\item 9000\n",
       "\\item 9000\n",
       "\\item 15000\n",
       "\\item 10300\n",
       "\\item 10000\n",
       "\\item 15000\n",
       "\\item 9000\n",
       "\\item 9000\n",
       "\\item 10000\n",
       "\\item 9000\n",
       "\\item 9000\n",
       "\\item 9000\n",
       "\\item 10000\n",
       "\\item 20000\n",
       "\\item 10000\n",
       "\\item 12000\n",
       "\\item 11000\n",
       "\\item 12000\n",
       "\\item 9000\n",
       "\\item 35000\n",
       "\\item 15000\n",
       "\\item 10000\n",
       "\\item 10000\n",
       "\\item 10000\n",
       "\\item 9500\n",
       "\\item 50000\n",
       "\\item 9000\n",
       "\\item 9000\n",
       "\\item 8500\n",
       "\\item 9000\n",
       "\\item 15000\n",
       "\\item 10000\n",
       "\\item 10000\n",
       "\\item 10000\n",
       "\\item 12000\n",
       "\\item 10000\n",
       "\\item 10000\n",
       "\\item 10000\n",
       "\\item 10000\n",
       "\\item 10000\n",
       "\\item 10000\n",
       "\\item 9000\n",
       "\\item 10000\n",
       "\\item 9000\n",
       "\\item 12000\n",
       "\\item 10422\n",
       "\\item 12000\n",
       "\\item 10000\n",
       "\\item 10000\n",
       "\\item 13000\n",
       "\\item 12000\n",
       "\\item 10000\n",
       "\\item 10000\n",
       "\\item 9300\n",
       "\\item 12000\n",
       "\\item 12000\n",
       "\\item 9000\n",
       "\\item 10000\n",
       "\\item 10000\n",
       "\\item 11000\n",
       "\\item 17000\n",
       "\\item 9000\n",
       "\\item 10000\n",
       "\\item 9000\n",
       "\\item 10000\n",
       "\\item 11000\n",
       "\\item 10000\n",
       "\\item 15000\n",
       "\\item 25000\n",
       "\\item 15000\n",
       "\\item 10000\n",
       "\\item 14000\n",
       "\\item 11000\n",
       "\\item 12000\n",
       "\\item 9000\n",
       "\\item 10000\n",
       "\\item 10000\n",
       "\\item 10000\n",
       "\\item 9000\n",
       "\\item 15000\n",
       "\\item 12000\n",
       "\\item 10000\n",
       "\\item 13000\n",
       "\\item 10000\n",
       "\\item 12000\n",
       "\\item 8800\n",
       "\\item 25000\n",
       "\\item 8712\n",
       "\\item 8500\n",
       "\\item 8500\n",
       "\\item 14000\n",
       "\\item 10000\n",
       "\\item 12000\n",
       "\\item 8500\n",
       "\\item 11000\n",
       "\\item 10000\n",
       "\\item 11300\n",
       "\\end{enumerate*}\n"
      ],
      "text/markdown": [
       "1. 10000\n",
       "2. 9000\n",
       "3. 9000\n",
       "4. 15000\n",
       "5. 10300\n",
       "6. 10000\n",
       "7. 15000\n",
       "8. 9000\n",
       "9. 9000\n",
       "10. 10000\n",
       "11. 9000\n",
       "12. 9000\n",
       "13. 9000\n",
       "14. 10000\n",
       "15. 20000\n",
       "16. 10000\n",
       "17. 12000\n",
       "18. 11000\n",
       "19. 12000\n",
       "20. 9000\n",
       "21. 35000\n",
       "22. 15000\n",
       "23. 10000\n",
       "24. 10000\n",
       "25. 10000\n",
       "26. 9500\n",
       "27. 50000\n",
       "28. 9000\n",
       "29. 9000\n",
       "30. 8500\n",
       "31. 9000\n",
       "32. 15000\n",
       "33. 10000\n",
       "34. 10000\n",
       "35. 10000\n",
       "36. 12000\n",
       "37. 10000\n",
       "38. 10000\n",
       "39. 10000\n",
       "40. 10000\n",
       "41. 10000\n",
       "42. 10000\n",
       "43. 9000\n",
       "44. 10000\n",
       "45. 9000\n",
       "46. 12000\n",
       "47. 10422\n",
       "48. 12000\n",
       "49. 10000\n",
       "50. 10000\n",
       "51. 13000\n",
       "52. 12000\n",
       "53. 10000\n",
       "54. 10000\n",
       "55. 9300\n",
       "56. 12000\n",
       "57. 12000\n",
       "58. 9000\n",
       "59. 10000\n",
       "60. 10000\n",
       "61. 11000\n",
       "62. 17000\n",
       "63. 9000\n",
       "64. 10000\n",
       "65. 9000\n",
       "66. 10000\n",
       "67. 11000\n",
       "68. 10000\n",
       "69. 15000\n",
       "70. 25000\n",
       "71. 15000\n",
       "72. 10000\n",
       "73. 14000\n",
       "74. 11000\n",
       "75. 12000\n",
       "76. 9000\n",
       "77. 10000\n",
       "78. 10000\n",
       "79. 10000\n",
       "80. 9000\n",
       "81. 15000\n",
       "82. 12000\n",
       "83. 10000\n",
       "84. 13000\n",
       "85. 10000\n",
       "86. 12000\n",
       "87. 8800\n",
       "88. 25000\n",
       "89. 8712\n",
       "90. 8500\n",
       "91. 8500\n",
       "92. 14000\n",
       "93. 10000\n",
       "94. 12000\n",
       "95. 8500\n",
       "96. 11000\n",
       "97. 10000\n",
       "98. 11300\n",
       "\n",
       "\n"
      ],
      "text/plain": [
       " [1] 10000  9000  9000 15000 10300 10000 15000  9000  9000 10000  9000  9000\n",
       "[13]  9000 10000 20000 10000 12000 11000 12000  9000 35000 15000 10000 10000\n",
       "[25] 10000  9500 50000  9000  9000  8500  9000 15000 10000 10000 10000 12000\n",
       "[37] 10000 10000 10000 10000 10000 10000  9000 10000  9000 12000 10422 12000\n",
       "[49] 10000 10000 13000 12000 10000 10000  9300 12000 12000  9000 10000 10000\n",
       "[61] 11000 17000  9000 10000  9000 10000 11000 10000 15000 25000 15000 10000\n",
       "[73] 14000 11000 12000  9000 10000 10000 10000  9000 15000 12000 10000 13000\n",
       "[85] 10000 12000  8800 25000  8712  8500  8500 14000 10000 12000  8500 11000\n",
       "[97] 10000 11300"
      ]
     },
     "metadata": {},
     "output_type": "display_data"
    }
   ],
   "source": [
    "# Pueden modificarse las condiciones del Boxplot, un coeficiente más alto significa un límite de detección de valores atípicos más altos.\n",
    "boxplot.stats(BASE$P04C10, coef=3)$out"
   ]
  },
  {
   "cell_type": "markdown",
   "metadata": {
    "slideshow": {
     "slide_type": "subslide"
    }
   },
   "source": [
    "### 3.1.4 Inconsistencias obvias\n",
    "Una inconsistencia obvia ocurre cuando un registro contiene un valor o una combinación de valores que no pueden corresponder a una situación del mundo real. Por ejemplo, la edad de una persona no puede ser negativa, un hombre no puede estar embarazado y una persona menor de edad no puede poseer una licencia de conducir.\n",
    "\n",
    "La comprobación de inconsistencias obvias se puede hacer directamente en R usando índices lógicos y reciclaje. Por ejemplo, para verificar qué elementos de x obedecen la regla `x no debe ser negativa ', simplemente se usa lo siguiente."
   ]
  },
  {
   "cell_type": "code",
   "execution_count": 30,
   "metadata": {
    "slideshow": {
     "slide_type": "fragment"
    }
   },
   "outputs": [
    {
     "name": "stdout",
     "output_type": "stream",
     "text": [
      " [1]  TRUE  TRUE  TRUE  TRUE FALSE  TRUE  TRUE  TRUE  TRUE  TRUE\n"
     ]
    }
   ],
   "source": [
    "# La siguiente verificación se realiza con verificaciones lógicas\n",
    "\n",
    "x_nonnegative <- BASE$PPA03 >= 0\n",
    "print(x_nonnegative[1:10])"
   ]
  },
  {
   "cell_type": "markdown",
   "metadata": {
    "slideshow": {
     "slide_type": "subslide"
    }
   },
   "source": [
    "#### Edit Rules\n",
    "<div class=\"text-justify\"> El paquete editrules permite definir reglas sobre conjuntos de datos categóricos, numéricos o de tipo mixto que cada registro debe obedecer. Además, editrules puede verificar qué reglas se obedecen y permite encontrar el conjunto mínimo de variables para adaptarlas de modo que se puedan obedecer todas las reglas. El paquete también implementa una serie de operaciones básicas de reglas que permiten a los usuarios probar conjuntos de reglas en busca de contradicciones y ciertas redundancias.</div>"
   ]
  },
  {
   "cell_type": "code",
   "execution_count": 31,
   "metadata": {
    "slideshow": {
     "slide_type": "skip"
    }
   },
   "outputs": [],
   "source": [
    "#install.packages(\"editrules\")\n",
    "library(editrules)\n",
    "\n",
    "#install.packages(\"igraph\")\n",
    "library(igraph)"
   ]
  },
  {
   "cell_type": "code",
   "execution_count": 32,
   "metadata": {
    "slideshow": {
     "slide_type": "subslide"
    }
   },
   "outputs": [
    {
     "data": {
      "text/plain": [
       "\n",
       "Edit set:\n",
       "num1 : 1939 <= PPA04C\n",
       "num2 : PPA04C <= 2018 "
      ]
     },
     "metadata": {},
     "output_type": "display_data"
    },
    {
     "name": "stdout",
     "output_type": "stream",
     "text": [
      "Edit violations, 22310 observations, 0 completely missing (0%):\n",
      "\n",
      " editname freq  rel\n",
      "     num1  313 1.4%\n",
      "\n",
      "Edit violations per record:\n",
      "\n",
      " errors  freq   rel\n",
      "      0 21997 98.6%\n",
      "      1   313  1.4%\n"
     ]
    }
   ],
   "source": [
    "# La siguiente condición verifica que el campo año de nacimiento contenga valores \"consistentes\". \n",
    "(edad <- editset(c(\"PPA04C >=1939\", \"PPA04C <= 2018\")))\n",
    "#(activo <- editset(c(\"PPA04C >=2012\", \"PEA != NA\")))\n",
    "\n",
    "va <- violatedEdits(edad, BASE)\n",
    "summary(va)"
   ]
  },
  {
   "cell_type": "code",
   "execution_count": 33,
   "metadata": {
    "slideshow": {
     "slide_type": "subslide"
    }
   },
   "outputs": [
    {
     "name": "stdout",
     "output_type": "stream",
     "text": [
      "Edit violations, 22310 observations, 0 completely missing (0%):\n",
      "\n",
      " editname freq  rel\n",
      "     mix2  344 1.5%\n",
      "\n",
      "Edit violations per record:\n",
      "\n",
      " errors  freq   rel\n",
      "      0 21966 98.5%\n",
      "      1   344  1.5%\n"
     ]
    }
   ],
   "source": [
    "# Las reglas pueden ser consignadas en un archivo de texto\n",
    "reglas <- editfile(\"C:/Users/IN_CAP02/Desktop/proyecto/Reglas.txt\")\n",
    "ve<- violatedEdits(reglas,BASE)\n",
    "summary(ve)"
   ]
  },
  {
   "cell_type": "code",
   "execution_count": 34,
   "metadata": {
    "slideshow": {
     "slide_type": "subslide"
    }
   },
   "outputs": [
    {
     "data": {
      "image/png": "[encoded data removed]",
      "text/plain": [
       "Plot with title \"Edit violations per record\""
      ]
     },
     "metadata": {
      "image/png": {
       "height": 420,
       "width": 420
      },
      "text/plain": {
       "height": 420,
       "width": 420
      }
     },
     "output_type": "display_data"
    }
   ],
   "source": [
    "plot(ve)"
   ]
  },
  {
   "cell_type": "markdown",
   "metadata": {
    "slideshow": {
     "slide_type": "subslide"
    }
   },
   "source": [
    "### 3.1.5 Error de localización\n",
    "La interconectividad de las ediciones es lo que hace que la localización de errores sea difícil. Supongamos que modificamos algún campo para que no se viole una regla. Luego corremos el riesgo de violar otras ediciones que contengan edad."
   ]
  },
  {
   "cell_type": "code",
   "execution_count": 36,
   "metadata": {
    "slideshow": {
     "slide_type": "fragment"
    }
   },
   "outputs": [
    {
     "data": {
      "text/plain": [
       "      edit\n",
       "record  num1  num2\n",
       "     1 FALSE FALSE\n",
       "     2  TRUE FALSE"
      ]
     },
     "metadata": {},
     "output_type": "display_data"
    }
   ],
   "source": [
    "id <- c(2,12328)\n",
    "violatedEdits(edad, BASE[id,])\n",
    "le <- localizeErrors(edad, BASE[id, ], method = \"mip\")"
   ]
  },
  {
   "cell_type": "code",
   "execution_count": 37,
   "metadata": {
    "slideshow": {
     "slide_type": "subslide"
    }
   },
   "outputs": [
    {
     "data": {
      "text/html": [
       "<table>\n",
       "<caption>A matrix: 2 × 269 of type lgl</caption>\n",
       "<thead>\n",
       "\t<tr><th></th><th scope=col>No</th><th scope=col>DOMINIO</th><th scope=col>AREA</th><th scope=col>UPM</th><th scope=col>Factor_expansion</th><th scope=col>NUM_HOGAR</th><th scope=col>ID</th><th scope=col>PPA02</th><th scope=col>SEXO</th><th scope=col>PPA03</th><th scope=col>...</th><th scope=col>P05A21A</th><th scope=col>P05A21B</th><th scope=col>ETNICIDAD</th><th scope=col>PET</th><th scope=col>PEA</th><th scope=col>OCUPADOS</th><th scope=col>DESOCUPADOS</th><th scope=col>SUBVISIBLES</th><th scope=col>INACTIVOS</th><th scope=col>FORMAL_INFORMAL</th></tr>\n",
       "</thead>\n",
       "<tbody>\n",
       "\t<tr><th scope=row>1</th><td>FALSE</td><td>FALSE</td><td>FALSE</td><td>FALSE</td><td>FALSE</td><td>FALSE</td><td>FALSE</td><td>FALSE</td><td>FALSE</td><td>FALSE</td><td>...</td><td>FALSE</td><td>FALSE</td><td>FALSE</td><td>FALSE</td><td>FALSE</td><td>FALSE</td><td>FALSE</td><td>FALSE</td><td>FALSE</td><td>FALSE</td></tr>\n",
       "\t<tr><th scope=row>2</th><td>FALSE</td><td>FALSE</td><td>FALSE</td><td>FALSE</td><td>FALSE</td><td>FALSE</td><td>FALSE</td><td>FALSE</td><td>FALSE</td><td>FALSE</td><td>...</td><td>FALSE</td><td>FALSE</td><td>FALSE</td><td>FALSE</td><td>FALSE</td><td>FALSE</td><td>FALSE</td><td>FALSE</td><td>FALSE</td><td>FALSE</td></tr>\n",
       "</tbody>\n",
       "</table>\n"
      ],
      "text/latex": [
       "A matrix: 2 × 269 of type lgl\n",
       "\\begin{tabular}{r|lllllllllllllllllllll}\n",
       "  & No & DOMINIO & AREA & UPM & Factor\\_expansion & NUM\\_HOGAR & ID & PPA02 & SEXO & PPA03 & ... & P05A21A & P05A21B & ETNICIDAD & PET & PEA & OCUPADOS & DESOCUPADOS & SUBVISIBLES & INACTIVOS & FORMAL\\_INFORMAL\\\\\n",
       "\\hline\n",
       "\t1 & FALSE & FALSE & FALSE & FALSE & FALSE & FALSE & FALSE & FALSE & FALSE & FALSE & ... & FALSE & FALSE & FALSE & FALSE & FALSE & FALSE & FALSE & FALSE & FALSE & FALSE\\\\\n",
       "\t2 & FALSE & FALSE & FALSE & FALSE & FALSE & FALSE & FALSE & FALSE & FALSE & FALSE & ... & FALSE & FALSE & FALSE & FALSE & FALSE & FALSE & FALSE & FALSE & FALSE & FALSE\\\\\n",
       "\\end{tabular}\n"
      ],
      "text/markdown": [
       "\n",
       "A matrix: 2 × 269 of type lgl\n",
       "\n",
       "| <!--/--> | No | DOMINIO | AREA | UPM | Factor_expansion | NUM_HOGAR | ID | PPA02 | SEXO | PPA03 | ... | P05A21A | P05A21B | ETNICIDAD | PET | PEA | OCUPADOS | DESOCUPADOS | SUBVISIBLES | INACTIVOS | FORMAL_INFORMAL |\n",
       "|---|---|---|---|---|---|---|---|---|---|---|---|---|---|---|---|---|---|---|---|---|---|\n",
       "| 1 | FALSE | FALSE | FALSE | FALSE | FALSE | FALSE | FALSE | FALSE | FALSE | FALSE | ... | FALSE | FALSE | FALSE | FALSE | FALSE | FALSE | FALSE | FALSE | FALSE | FALSE |\n",
       "| 2 | FALSE | FALSE | FALSE | FALSE | FALSE | FALSE | FALSE | FALSE | FALSE | FALSE | ... | FALSE | FALSE | FALSE | FALSE | FALSE | FALSE | FALSE | FALSE | FALSE | FALSE |\n",
       "\n"
      ],
      "text/plain": [
       "  No    DOMINIO AREA  UPM   Factor_expansion NUM_HOGAR ID    PPA02 SEXO  PPA03\n",
       "1 FALSE FALSE   FALSE FALSE FALSE            FALSE     FALSE FALSE FALSE FALSE\n",
       "2 FALSE FALSE   FALSE FALSE FALSE            FALSE     FALSE FALSE FALSE FALSE\n",
       "  ... P05A21A P05A21B ETNICIDAD PET   PEA   OCUPADOS DESOCUPADOS SUBVISIBLES\n",
       "1 ... FALSE   FALSE   FALSE     FALSE FALSE FALSE    FALSE       FALSE      \n",
       "2 ... FALSE   FALSE   FALSE     FALSE FALSE FALSE    FALSE       FALSE      \n",
       "  INACTIVOS FORMAL_INFORMAL\n",
       "1 FALSE     FALSE          \n",
       "2 FALSE     FALSE          "
      ]
     },
     "metadata": {},
     "output_type": "display_data"
    }
   ],
   "source": [
    "le <- localizeErrors(edad, BASE[id, ], method = \"mip\")\n",
    "le$adapt"
   ]
  },
  {
   "cell_type": "markdown",
   "metadata": {
    "slideshow": {
     "slide_type": "subslide"
    }
   },
   "source": [
    "\n",
    "<span style=\"color:darkred; font-size:1.5em\">3.2 Corrección </span>  \n",
    "\n",
    "Los métodos de corrección apuntan a fijar observaciones inconsistentes al alterar valores no válidos en un registro basado en información de valores válidos. Dependiendo del método, este es un procedimiento de un solo paso o un procedimiento de dos pasos donde primero se usa un método de localización de errores para vaciar ciertos campos, seguido de un paso de imputación."
   ]
  },
  {
   "cell_type": "code",
   "execution_count": 39,
   "metadata": {
    "slideshow": {
     "slide_type": "fragment"
    }
   },
   "outputs": [
    {
     "data": {
      "text/html": [
       "<table>\n",
       "<caption>A data.frame: 5 × 3</caption>\n",
       "<thead>\n",
       "\t<tr><th scope=col>name</th><th scope=col>height</th><th scope=col>unit</th></tr>\n",
       "\t<tr><th scope=col>&lt;chr&gt;</th><th scope=col>&lt;dbl&gt;</th><th scope=col>&lt;chr&gt;</th></tr>\n",
       "</thead>\n",
       "<tbody>\n",
       "\t<tr><td>Diego  </td><td>120.00</td><td>cm  </td></tr>\n",
       "\t<tr><td>Domingo</td><td>  1.30</td><td>m   </td></tr>\n",
       "\t<tr><td>Pablo  </td><td> 75.00</td><td>inch</td></tr>\n",
       "\t<tr><td>Elmer  </td><td>125.00</td><td>cm  </td></tr>\n",
       "\t<tr><td>Polo   </td><td>  6.01</td><td>ft  </td></tr>\n",
       "</tbody>\n",
       "</table>\n"
      ],
      "text/latex": [
       "A data.frame: 5 × 3\n",
       "\\begin{tabular}{lll}\n",
       " name & height & unit\\\\\n",
       " <chr> & <dbl> & <chr>\\\\\n",
       "\\hline\n",
       "\t Diego   & 120.00 & cm  \\\\\n",
       "\t Domingo &   1.30 & m   \\\\\n",
       "\t Pablo   &  75.00 & inch\\\\\n",
       "\t Elmer   & 125.00 & cm  \\\\\n",
       "\t Polo    &   6.01 & ft  \\\\\n",
       "\\end{tabular}\n"
      ],
      "text/markdown": [
       "\n",
       "A data.frame: 5 × 3\n",
       "\n",
       "| name &lt;chr&gt; | height &lt;dbl&gt; | unit &lt;chr&gt; |\n",
       "|---|---|---|\n",
       "| Diego   | 120.00 | cm   |\n",
       "| Domingo |   1.30 | m    |\n",
       "| Pablo   |  75.00 | inch |\n",
       "| Elmer   | 125.00 | cm   |\n",
       "| Polo    |   6.01 | ft   |\n",
       "\n"
      ],
      "text/plain": [
       "  name    height unit\n",
       "1 Diego   120.00 cm  \n",
       "2 Domingo   1.30 m   \n",
       "3 Pablo    75.00 inch\n",
       "4 Elmer   125.00 cm  \n",
       "5 Polo      6.01 ft  "
      ]
     },
     "metadata": {},
     "output_type": "display_data"
    }
   ],
   "source": [
    "(estaturas <- read.csv(\"C:\\\\Users\\\\IN_CAP02\\\\Desktop\\\\proyecto\\\\HNOS.csv\", stringsAsFactors = FALSE))"
   ]
  },
  {
   "cell_type": "markdown",
   "metadata": {
    "slideshow": {
     "slide_type": "subslide"
    }
   },
   "source": [
    "### 3.2.1 Reglas simples de transformación\n",
    "<div class=\"text-justify\"> En la práctica, los procedimientos de limpieza de datos implican muchas transformaciones ad-hoc. Esto puede conducir a grandes secuencias de comandos en las que se seleccionan partes de los datos, se modifican algunas variables, se selecciona otra parte, se modifican algunas variables más, etc. Sin embargo, a medida que los scripts se alargan, es mejor almacenar las reglas de transformación por separado y registrar qué regla se ejecuta en qué registro. El paquete deducorrect ofrece funcionalidad para esto.</div>"
   ]
  },
  {
   "cell_type": "code",
   "execution_count": 40,
   "metadata": {
    "slideshow": {
     "slide_type": "skip"
    }
   },
   "outputs": [],
   "source": [
    "#install.packages(\"deducorrect\")\n",
    "library(deducorrect)"
   ]
  },
  {
   "cell_type": "code",
   "execution_count": 42,
   "metadata": {
    "slideshow": {
     "slide_type": "fragment"
    }
   },
   "outputs": [
    {
     "data": {
      "text/html": [
       "<table>\n",
       "<caption>A data.frame: 5 × 3</caption>\n",
       "<thead>\n",
       "\t<tr><th scope=col>name</th><th scope=col>height</th><th scope=col>unit</th></tr>\n",
       "\t<tr><th scope=col>&lt;chr&gt;</th><th scope=col>&lt;dbl&gt;</th><th scope=col>&lt;chr&gt;</th></tr>\n",
       "</thead>\n",
       "<tbody>\n",
       "\t<tr><td>Diego  </td><td>1.200000</td><td>m</td></tr>\n",
       "\t<tr><td>Domingo</td><td>1.300000</td><td>m</td></tr>\n",
       "\t<tr><td>Pablo  </td><td>1.905004</td><td>m</td></tr>\n",
       "\t<tr><td>Elmer  </td><td>1.250000</td><td>m</td></tr>\n",
       "\t<tr><td>Polo   </td><td>1.832317</td><td>m</td></tr>\n",
       "</tbody>\n",
       "</table>\n"
      ],
      "text/latex": [
       "A data.frame: 5 × 3\n",
       "\\begin{tabular}{lll}\n",
       " name & height & unit\\\\\n",
       " <chr> & <dbl> & <chr>\\\\\n",
       "\\hline\n",
       "\t Diego   & 1.200000 & m\\\\\n",
       "\t Domingo & 1.300000 & m\\\\\n",
       "\t Pablo   & 1.905004 & m\\\\\n",
       "\t Elmer   & 1.250000 & m\\\\\n",
       "\t Polo    & 1.832317 & m\\\\\n",
       "\\end{tabular}\n"
      ],
      "text/markdown": [
       "\n",
       "A data.frame: 5 × 3\n",
       "\n",
       "| name &lt;chr&gt; | height &lt;dbl&gt; | unit &lt;chr&gt; |\n",
       "|---|---|---|\n",
       "| Diego   | 1.200000 | m |\n",
       "| Domingo | 1.300000 | m |\n",
       "| Pablo   | 1.905004 | m |\n",
       "| Elmer   | 1.250000 | m |\n",
       "| Polo    | 1.832317 | m |\n",
       "\n"
      ],
      "text/plain": [
       "  name    height   unit\n",
       "1 Diego   1.200000 m   \n",
       "2 Domingo 1.300000 m   \n",
       "3 Pablo   1.905004 m   \n",
       "4 Elmer   1.250000 m   \n",
       "5 Polo    1.832317 m   "
      ]
     },
     "metadata": {},
     "output_type": "display_data"
    }
   ],
   "source": [
    "R <- correctionRules(\"C:\\\\Users\\\\IN_CAP02\\\\Desktop\\\\proyecto\\\\conversiones.txt\")\n",
    "cor <- correctWithRules(R, estaturas)\n",
    "cor$corrected"
   ]
  },
  {
   "cell_type": "markdown",
   "metadata": {
    "slideshow": {
     "slide_type": "subslide"
    }
   },
   "source": [
    "### 3.2.2 Correción deductiva\n",
    "\n",
    "<div class=\"text-justify\"> Cuando los datos que está analizando son generados por personas en lugar de máquinas, es probable que ocurran ciertos errores típicos generados por humanos. Dado que los datos deben obedecer ciertas reglas de edición, la ocurrencia de tales errores a veces se puede detectar a partir de datos sin procesar con certeza. Ejemplos de errores que se pueden detectar son errores de tipeo en números, errores de redondeo en números y errores de signos de variables. El paquete deducorrect tiene varias funciones disponibles que pueden corregir dichos errores.</div>"
   ]
  },
  {
   "cell_type": "code",
   "execution_count": 43,
   "metadata": {
    "slideshow": {
     "slide_type": "fragment"
    }
   },
   "outputs": [
    {
     "data": {
      "text/html": [
       "<table>\n",
       "<caption>A data.frame: 1 × 3</caption>\n",
       "<thead>\n",
       "\t<tr><th scope=col>x</th><th scope=col>y</th><th scope=col>z</th></tr>\n",
       "\t<tr><th scope=col>&lt;dbl&gt;</th><th scope=col>&lt;dbl&gt;</th><th scope=col>&lt;dbl&gt;</th></tr>\n",
       "</thead>\n",
       "<tbody>\n",
       "\t<tr><td>100</td><td>100</td><td>200</td></tr>\n",
       "</tbody>\n",
       "</table>\n"
      ],
      "text/latex": [
       "A data.frame: 1 × 3\n",
       "\\begin{tabular}{lll}\n",
       " x & y & z\\\\\n",
       " <dbl> & <dbl> & <dbl>\\\\\n",
       "\\hline\n",
       "\t 100 & 100 & 200\\\\\n",
       "\\end{tabular}\n"
      ],
      "text/markdown": [
       "\n",
       "A data.frame: 1 × 3\n",
       "\n",
       "| x &lt;dbl&gt; | y &lt;dbl&gt; | z &lt;dbl&gt; |\n",
       "|---|---|---|\n",
       "| 100 | 100 | 200 |\n",
       "\n"
      ],
      "text/plain": [
       "  x   y   z  \n",
       "1 100 100 200"
      ]
     },
     "metadata": {},
     "output_type": "display_data"
    },
    {
     "data": {
      "text/html": [
       "<table>\n",
       "<caption>A data.frame: 1 × 4</caption>\n",
       "<thead>\n",
       "\t<tr><th scope=col>row</th><th scope=col>variable</th><th scope=col>old</th><th scope=col>new</th></tr>\n",
       "\t<tr><th scope=col>&lt;int&gt;</th><th scope=col>&lt;fct&gt;</th><th scope=col>&lt;dbl&gt;</th><th scope=col>&lt;dbl&gt;</th></tr>\n",
       "</thead>\n",
       "<tbody>\n",
       "\t<tr><td>1</td><td>y</td><td>-100</td><td>100</td></tr>\n",
       "</tbody>\n",
       "</table>\n"
      ],
      "text/latex": [
       "A data.frame: 1 × 4\n",
       "\\begin{tabular}{llll}\n",
       " row & variable & old & new\\\\\n",
       " <int> & <fct> & <dbl> & <dbl>\\\\\n",
       "\\hline\n",
       "\t 1 & y & -100 & 100\\\\\n",
       "\\end{tabular}\n"
      ],
      "text/markdown": [
       "\n",
       "A data.frame: 1 × 4\n",
       "\n",
       "| row &lt;int&gt; | variable &lt;fct&gt; | old &lt;dbl&gt; | new &lt;dbl&gt; |\n",
       "|---|---|---|---|\n",
       "| 1 | y | -100 | 100 |\n",
       "\n"
      ],
      "text/plain": [
       "  row variable old  new\n",
       "1 1   y        -100 100"
      ]
     },
     "metadata": {},
     "output_type": "display_data"
    }
   ],
   "source": [
    "e <- editmatrix(\"x + y == z\")\n",
    "d <- data.frame(x = 100, y = -100, z = 200)\n",
    "cor <- correctSigns(e, d)\n",
    "cor$corrected\n",
    "cor$corrections"
   ]
  },
  {
   "cell_type": "code",
   "execution_count": 49,
   "metadata": {
    "slideshow": {
     "slide_type": "subslide"
    }
   },
   "outputs": [
    {
     "data": {
      "text/html": [
       "<table>\n",
       "<caption>A data.frame: 1 × 3</caption>\n",
       "<thead>\n",
       "\t<tr><th scope=col>x</th><th scope=col>y</th><th scope=col>z</th></tr>\n",
       "\t<tr><th scope=col>&lt;dbl&gt;</th><th scope=col>&lt;dbl&gt;</th><th scope=col>&lt;dbl&gt;</th></tr>\n",
       "</thead>\n",
       "<tbody>\n",
       "\t<tr><td>123</td><td>123</td><td>246</td></tr>\n",
       "</tbody>\n",
       "</table>\n"
      ],
      "text/latex": [
       "A data.frame: 1 × 3\n",
       "\\begin{tabular}{lll}\n",
       " x & y & z\\\\\n",
       " <dbl> & <dbl> & <dbl>\\\\\n",
       "\\hline\n",
       "\t 123 & 123 & 246\\\\\n",
       "\\end{tabular}\n"
      ],
      "text/markdown": [
       "\n",
       "A data.frame: 1 × 3\n",
       "\n",
       "| x &lt;dbl&gt; | y &lt;dbl&gt; | z &lt;dbl&gt; |\n",
       "|---|---|---|\n",
       "| 123 | 123 | 246 |\n",
       "\n"
      ],
      "text/plain": [
       "  x   y   z  \n",
       "1 123 123 246"
      ]
     },
     "metadata": {},
     "output_type": "display_data"
    },
    {
     "data": {
      "text/html": [
       "<table>\n",
       "<caption>A data.frame: 1 × 4</caption>\n",
       "<thead>\n",
       "\t<tr><th scope=col>row</th><th scope=col>variable</th><th scope=col>old</th><th scope=col>new</th></tr>\n",
       "\t<tr><th scope=col>&lt;dbl&gt;</th><th scope=col>&lt;fct&gt;</th><th scope=col>&lt;dbl&gt;</th><th scope=col>&lt;dbl&gt;</th></tr>\n",
       "</thead>\n",
       "<tbody>\n",
       "\t<tr><td>1</td><td>y</td><td>132</td><td>123</td></tr>\n",
       "</tbody>\n",
       "</table>\n"
      ],
      "text/latex": [
       "A data.frame: 1 × 4\n",
       "\\begin{tabular}{llll}\n",
       " row & variable & old & new\\\\\n",
       " <dbl> & <fct> & <dbl> & <dbl>\\\\\n",
       "\\hline\n",
       "\t 1 & y & 132 & 123\\\\\n",
       "\\end{tabular}\n"
      ],
      "text/markdown": [
       "\n",
       "A data.frame: 1 × 4\n",
       "\n",
       "| row &lt;dbl&gt; | variable &lt;fct&gt; | old &lt;dbl&gt; | new &lt;dbl&gt; |\n",
       "|---|---|---|---|\n",
       "| 1 | y | 132 | 123 |\n",
       "\n"
      ],
      "text/plain": [
       "  row variable old new\n",
       "1 1   y        132 123"
      ]
     },
     "metadata": {},
     "output_type": "display_data"
    }
   ],
   "source": [
    "e <- editmatrix(\"x + y == z\")\n",
    "d <- data.frame(x = 123, y = 132, z = 246)\n",
    "cor <- correctTypos(e, d)\n",
    "cor$corrected\n",
    "cor$corrections"
   ]
  },
  {
   "cell_type": "markdown",
   "metadata": {
    "slideshow": {
     "slide_type": "subslide"
    }
   },
   "source": [
    "### 3.2.3 Imputación determinística\n",
    "En algunos casos, se puede determinar un valor faltante porque los valores observados combinados con sus restricciones fuerzan una solución única."
   ]
  },
  {
   "cell_type": "code",
   "execution_count": 53,
   "metadata": {
    "slideshow": {
     "slide_type": "fragment"
    }
   },
   "outputs": [],
   "source": [
    "E <- editmatrix(expression(\n",
    "staff + cleaning + housing == total,\n",
    "staff >= 0,\n",
    "housing >= 0,\n",
    "cleaning >= 0\n",
    "))"
   ]
  },
  {
   "cell_type": "code",
   "execution_count": 60,
   "metadata": {
    "slideshow": {
     "slide_type": "fragment"
    }
   },
   "outputs": [
    {
     "data": {
      "text/html": [
       "<table>\n",
       "<caption>A data.frame: 3 × 4</caption>\n",
       "<thead>\n",
       "\t<tr><th scope=col>staff</th><th scope=col>housing</th><th scope=col>cleaning</th><th scope=col>total</th></tr>\n",
       "\t<tr><th scope=col>&lt;dbl&gt;</th><th scope=col>&lt;dbl&gt;</th><th scope=col>&lt;dbl&gt;</th><th scope=col>&lt;dbl&gt;</th></tr>\n",
       "</thead>\n",
       "<tbody>\n",
       "\t<tr><td>100</td><td> 0</td><td> 0</td><td>100</td></tr>\n",
       "\t<tr><td>100</td><td>50</td><td>30</td><td>180</td></tr>\n",
       "\t<tr><td>100</td><td>25</td><td>75</td><td>200</td></tr>\n",
       "</tbody>\n",
       "</table>\n"
      ],
      "text/latex": [
       "A data.frame: 3 × 4\n",
       "\\begin{tabular}{llll}\n",
       " staff & housing & cleaning & total\\\\\n",
       " <dbl> & <dbl> & <dbl> & <dbl>\\\\\n",
       "\\hline\n",
       "\t 100 &  0 &  0 & 100\\\\\n",
       "\t 100 & 50 & 30 & 180\\\\\n",
       "\t 100 & 25 & 75 & 200\\\\\n",
       "\\end{tabular}\n"
      ],
      "text/markdown": [
       "\n",
       "A data.frame: 3 × 4\n",
       "\n",
       "| staff &lt;dbl&gt; | housing &lt;dbl&gt; | cleaning &lt;dbl&gt; | total &lt;dbl&gt; |\n",
       "|---|---|---|---|\n",
       "| 100 |  0 |  0 | 100 |\n",
       "| 100 | 50 | 30 | 180 |\n",
       "| 100 | 25 | 75 | 200 |\n",
       "\n"
      ],
      "text/plain": [
       "  staff housing cleaning total\n",
       "1 100    0       0       100  \n",
       "2 100   50      30       180  \n",
       "3 100   25      75       200  "
      ]
     },
     "metadata": {},
     "output_type": "display_data"
    }
   ],
   "source": [
    "datos <- data.frame(\n",
    "staff = c(100,100,100),\n",
    "housing = c(NA,50,25),\n",
    "cleaning = c(NA,NA,NA),\n",
    "total = c(100,180,200)\n",
    ")\n",
    "cor <- deduImpute(E,datos)\n",
    "cor$corrected"
   ]
  },
  {
   "cell_type": "markdown",
   "metadata": {
    "slideshow": {
     "slide_type": "slide"
    }
   },
   "source": [
    "<span style=\"color:darkred; font-size:1.5em\"> 3.3. Imputación </span>\n",
    "\n",
    "La imputación es el proceso de estimar o derivar valores para campos donde faltan datos.\n",
    "\n",
    "### 3.3.1 Modelos básicos de imputación numérica\n",
    "\n",
    "A continuación vamos a revisar algunos modelos de imputación numérica."
   ]
  },
  {
   "cell_type": "markdown",
   "metadata": {
    "slideshow": {
     "slide_type": "subslide"
    }
   },
   "source": [
    "Imputación a tráves de la media: \n",
    "\n",
    "<center>$\\widehat{x}_{i} = \\overline{x} $</center>\n",
    "\n",
    "<justify>donde $\\widehat{x}_{i}$ es el valor de imputación y se toma la media sobre los valores observados. La utilización de este modelo es limitada ya que obviamente causa un sesgo en las medidas de generalización estimadas a partir de la muestra después de la imputación.</justify>"
   ]
  },
  {
   "cell_type": "code",
   "execution_count": 65,
   "metadata": {
    "slideshow": {
     "slide_type": "subslide"
    }
   },
   "outputs": [
    {
     "data": {
      "text/html": [
       "<style>\n",
       ".list-inline {list-style: none; margin:0; padding: 0}\n",
       ".list-inline>li {display: inline-block}\n",
       ".list-inline>li:not(:last-child)::after {content: \"\\00b7\"; padding: 0 .5ex}\n",
       "</style>\n",
       "<ol class=list-inline><li>2500</li><li>2501.94596003475</li><li>2950</li><li>2501.94596003475</li><li>1400</li><li>2900</li><li>2501.94596003475</li><li>2501.94596003475</li><li>2501.94596003475</li><li>2501.94596003475</li><li>7000</li><li>2501.94596003475</li><li>3000</li><li>3100</li><li>2501.94596003475</li><li>3000</li><li>2900</li><li>2501.94596003475</li><li>2501.94596003475</li><li>2501.94596003475</li></ol>\n"
      ],
      "text/latex": [
       "\\begin{enumerate*}\n",
       "\\item 2500\n",
       "\\item 2501.94596003475\n",
       "\\item 2950\n",
       "\\item 2501.94596003475\n",
       "\\item 1400\n",
       "\\item 2900\n",
       "\\item 2501.94596003475\n",
       "\\item 2501.94596003475\n",
       "\\item 2501.94596003475\n",
       "\\item 2501.94596003475\n",
       "\\item 7000\n",
       "\\item 2501.94596003475\n",
       "\\item 3000\n",
       "\\item 3100\n",
       "\\item 2501.94596003475\n",
       "\\item 3000\n",
       "\\item 2900\n",
       "\\item 2501.94596003475\n",
       "\\item 2501.94596003475\n",
       "\\item 2501.94596003475\n",
       "\\end{enumerate*}\n"
      ],
      "text/markdown": [
       "1. 2500\n",
       "2. 2501.94596003475\n",
       "3. 2950\n",
       "4. 2501.94596003475\n",
       "5. 1400\n",
       "6. 2900\n",
       "7. 2501.94596003475\n",
       "8. 2501.94596003475\n",
       "9. 2501.94596003475\n",
       "10. 2501.94596003475\n",
       "11. 7000\n",
       "12. 2501.94596003475\n",
       "13. 3000\n",
       "14. 3100\n",
       "15. 2501.94596003475\n",
       "16. 3000\n",
       "17. 2900\n",
       "18. 2501.94596003475\n",
       "19. 2501.94596003475\n",
       "20. 2501.94596003475\n",
       "\n",
       "\n"
      ],
      "text/plain": [
       " [1] 2500.000 2501.946 2950.000 2501.946 1400.000 2900.000 2501.946 2501.946\n",
       " [9] 2501.946 2501.946 7000.000 2501.946 3000.000 3100.000 2501.946 3000.000\n",
       "[17] 2900.000 2501.946 2501.946 2501.946"
      ]
     },
     "metadata": {},
     "output_type": "display_data"
    }
   ],
   "source": [
    "#Con el paquete base podemos imputar datos con las siguientes funciones\n",
    "BASE$P04C10[is.na(BASE$P04C10)] <- mean(BASE$P04C10,na.rm = TRUE)\n",
    "BASE$P04C10[1:20]"
   ]
  },
  {
   "cell_type": "code",
   "execution_count": 66,
   "metadata": {
    "slideshow": {
     "slide_type": "skip"
    }
   },
   "outputs": [],
   "source": [
    "#install.packages(\"Hmisc\")\n",
    "\n",
    "library(lattice)\n",
    "library(survival)\n",
    "library(Formula)\n",
    "library(ggplot2)\n",
    "library(Hmisc)\n"
   ]
  },
  {
   "cell_type": "code",
   "execution_count": 68,
   "metadata": {
    "slideshow": {
     "slide_type": "fragment"
    }
   },
   "outputs": [
    {
     "data": {
      "text/html": [
       "<style>\n",
       ".list-inline {list-style: none; margin:0; padding: 0}\n",
       ".list-inline>li {display: inline-block}\n",
       ".list-inline>li:not(:last-child)::after {content: \"\\00b7\"; padding: 0 .5ex}\n",
       "</style>\n",
       "<ol class=list-inline><li>2500</li><li>2501.94596003475</li><li>2950</li><li>2501.94596003475</li><li>1400</li><li>2900</li><li>2501.94596003475</li><li>2501.94596003475</li><li>2501.94596003475</li><li>2501.94596003475</li><li>7000</li><li>2501.94596003475</li><li>3000</li><li>3100</li><li>2501.94596003475</li><li>3000</li><li>2900</li><li>2501.94596003475</li><li>2501.94596003475</li><li>2501.94596003475</li><li>2501.94596003475</li><li>2501.94596003475</li><li>2501.94596003475</li><li>8000</li><li>2501.94596003475</li><li>2501.94596003475</li><li>2501.94596003475</li><li>8000</li><li>2501.94596003475</li><li>2501.94596003475</li></ol>\n"
      ],
      "text/latex": [
       "\\begin{enumerate*}\n",
       "\\item 2500\n",
       "\\item 2501.94596003475\n",
       "\\item 2950\n",
       "\\item 2501.94596003475\n",
       "\\item 1400\n",
       "\\item 2900\n",
       "\\item 2501.94596003475\n",
       "\\item 2501.94596003475\n",
       "\\item 2501.94596003475\n",
       "\\item 2501.94596003475\n",
       "\\item 7000\n",
       "\\item 2501.94596003475\n",
       "\\item 3000\n",
       "\\item 3100\n",
       "\\item 2501.94596003475\n",
       "\\item 3000\n",
       "\\item 2900\n",
       "\\item 2501.94596003475\n",
       "\\item 2501.94596003475\n",
       "\\item 2501.94596003475\n",
       "\\item 2501.94596003475\n",
       "\\item 2501.94596003475\n",
       "\\item 2501.94596003475\n",
       "\\item 8000\n",
       "\\item 2501.94596003475\n",
       "\\item 2501.94596003475\n",
       "\\item 2501.94596003475\n",
       "\\item 8000\n",
       "\\item 2501.94596003475\n",
       "\\item 2501.94596003475\n",
       "\\end{enumerate*}\n"
      ],
      "text/markdown": [
       "1. 2500\n",
       "2. 2501.94596003475\n",
       "3. 2950\n",
       "4. 2501.94596003475\n",
       "5. 1400\n",
       "6. 2900\n",
       "7. 2501.94596003475\n",
       "8. 2501.94596003475\n",
       "9. 2501.94596003475\n",
       "10. 2501.94596003475\n",
       "11. 7000\n",
       "12. 2501.94596003475\n",
       "13. 3000\n",
       "14. 3100\n",
       "15. 2501.94596003475\n",
       "16. 3000\n",
       "17. 2900\n",
       "18. 2501.94596003475\n",
       "19. 2501.94596003475\n",
       "20. 2501.94596003475\n",
       "21. 2501.94596003475\n",
       "22. 2501.94596003475\n",
       "23. 2501.94596003475\n",
       "24. 8000\n",
       "25. 2501.94596003475\n",
       "26. 2501.94596003475\n",
       "27. 2501.94596003475\n",
       "28. 8000\n",
       "29. 2501.94596003475\n",
       "30. 2501.94596003475\n",
       "\n",
       "\n"
      ],
      "text/plain": [
       " [1] 2500.000 2501.946 2950.000 2501.946 1400.000 2900.000 2501.946 2501.946\n",
       " [9] 2501.946 2501.946 7000.000 2501.946 3000.000 3100.000 2501.946 3000.000\n",
       "[17] 2900.000 2501.946 2501.946 2501.946 2501.946 2501.946 2501.946 8000.000\n",
       "[25] 2501.946 2501.946 2501.946 8000.000 2501.946 2501.946"
      ]
     },
     "metadata": {},
     "output_type": "display_data"
    }
   ],
   "source": [
    "# Utilizando la libreria Hmisc\n",
    "imputm <- impute(BASE$P04C10, fun = mean) # media\n",
    "imputme <- impute(BASE$P04C10, fun = median) # mediana\n",
    "imputm[1:30]"
   ]
  },
  {
   "cell_type": "markdown",
   "metadata": {
    "slideshow": {
     "slide_type": "subslide"
    }
   },
   "source": [
    "El siguiente modelo numérico que tratamos son modelos de regresión lineal (generalizados). En tales modelos, los valores faltantes se imputan de la siguiente manera:\n",
    "\n",
    "<center> $\\widehat{x}_{i} = \\widehat{\\beta}_{0} + \\widehat{\\beta}_{1}y_{1,i} + ... + \\widehat{\\beta}_{k}y_{k,i}$</center>\n",
    "\n",
    "Donde $  \\widehat{\\beta}_{0}  $$  ,\\widehat{\\beta}_{1}y_{1,i}  $$  ...  $$  \\widehat{\\beta}_{k}y_{k,i}  $ se calculan los coeficientes de regresión lineal para cada una de las variables auxiliares $ y_{1},y_{2}...,y_{k}.  $. Calcular modelos lineales es bastante fácil usando lm y predecir en el paquete base de R."
   ]
  },
  {
   "cell_type": "code",
   "execution_count": 87,
   "metadata": {
    "slideshow": {
     "slide_type": "subslide"
    }
   },
   "outputs": [
    {
     "data": {
      "text/html": [
       "<table>\n",
       "<caption>A data.frame: 20 × 5</caption>\n",
       "<thead>\n",
       "\t<tr><th></th><th scope=col>Sepal.Length</th><th scope=col>Sepal.Width</th><th scope=col>Petal.Length</th><th scope=col>Petal.Width</th><th scope=col>Species</th></tr>\n",
       "\t<tr><th></th><th scope=col>&lt;dbl&gt;</th><th scope=col>&lt;dbl&gt;</th><th scope=col>&lt;dbl&gt;</th><th scope=col>&lt;dbl&gt;</th><th scope=col>&lt;fct&gt;</th></tr>\n",
       "</thead>\n",
       "<tbody>\n",
       "\t<tr><th scope=row>1</th><td>6.4</td><td> 3.2</td><td>4.5</td><td>1.5</td><td>versicolor</td></tr>\n",
       "\t<tr><th scope=row>2</th><td>6.3</td><td> 3.3</td><td>6.0</td><td>2.5</td><td>virginica </td></tr>\n",
       "\t<tr><th scope=row>3</th><td>6.2</td><td>  NA</td><td>5.4</td><td>2.3</td><td>virginica </td></tr>\n",
       "\t<tr><th scope=row>4</th><td>5.0</td><td> 3.4</td><td>1.6</td><td>0.4</td><td>setosa    </td></tr>\n",
       "\t<tr><th scope=row>5</th><td>5.7</td><td> 2.6</td><td>3.5</td><td>1.0</td><td>versicolor</td></tr>\n",
       "\t<tr><th scope=row>6</th><td>5.3</td><td>  NA</td><td> NA</td><td>0.2</td><td>setosa    </td></tr>\n",
       "\t<tr><th scope=row>7</th><td>6.4</td><td> 2.7</td><td>5.3</td><td> NA</td><td>virginica </td></tr>\n",
       "\t<tr><th scope=row>8</th><td>5.9</td><td> 3.0</td><td>5.1</td><td>1.8</td><td>virginica </td></tr>\n",
       "\t<tr><th scope=row>9</th><td>5.8</td><td> 2.7</td><td>4.1</td><td>1.0</td><td>versicolor</td></tr>\n",
       "\t<tr><th scope=row>10</th><td>4.8</td><td> 3.1</td><td>1.6</td><td>0.2</td><td>setosa    </td></tr>\n",
       "\t<tr><th scope=row>11</th><td>5.0</td><td> 3.5</td><td>1.6</td><td>0.6</td><td>setosa    </td></tr>\n",
       "\t<tr><th scope=row>12</th><td>6.0</td><td> 2.7</td><td>5.1</td><td>1.6</td><td>versicolor</td></tr>\n",
       "\t<tr><th scope=row>13</th><td>6.0</td><td> 3.0</td><td>4.8</td><td> NA</td><td>virginica </td></tr>\n",
       "\t<tr><th scope=row>14</th><td>6.8</td><td> 2.8</td><td>4.8</td><td>1.4</td><td>versicolor</td></tr>\n",
       "\t<tr><th scope=row>15</th><td> NA</td><td> 3.9</td><td>1.7</td><td>0.4</td><td>setosa    </td></tr>\n",
       "\t<tr><th scope=row>16</th><td>5.0</td><td>-3.0</td><td>3.5</td><td>1.0</td><td>versicolor</td></tr>\n",
       "\t<tr><th scope=row>17</th><td>5.5</td><td>  NA</td><td>4.0</td><td>1.3</td><td>versicolor</td></tr>\n",
       "\t<tr><th scope=row>18</th><td>4.7</td><td> 3.2</td><td>1.3</td><td>0.2</td><td>setosa    </td></tr>\n",
       "\t<tr><th scope=row>19</th><td> NA</td><td> 4.0</td><td> NA</td><td>0.2</td><td>setosa    </td></tr>\n",
       "\t<tr><th scope=row>20</th><td>5.6</td><td>  NA</td><td>4.2</td><td>1.3</td><td>versicolor</td></tr>\n",
       "</tbody>\n",
       "</table>\n"
      ],
      "text/latex": [
       "A data.frame: 20 × 5\n",
       "\\begin{tabular}{r|lllll}\n",
       "  & Sepal.Length & Sepal.Width & Petal.Length & Petal.Width & Species\\\\\n",
       "  & <dbl> & <dbl> & <dbl> & <dbl> & <fct>\\\\\n",
       "\\hline\n",
       "\t1 & 6.4 &  3.2 & 4.5 & 1.5 & versicolor\\\\\n",
       "\t2 & 6.3 &  3.3 & 6.0 & 2.5 & virginica \\\\\n",
       "\t3 & 6.2 &   NA & 5.4 & 2.3 & virginica \\\\\n",
       "\t4 & 5.0 &  3.4 & 1.6 & 0.4 & setosa    \\\\\n",
       "\t5 & 5.7 &  2.6 & 3.5 & 1.0 & versicolor\\\\\n",
       "\t6 & 5.3 &   NA &  NA & 0.2 & setosa    \\\\\n",
       "\t7 & 6.4 &  2.7 & 5.3 &  NA & virginica \\\\\n",
       "\t8 & 5.9 &  3.0 & 5.1 & 1.8 & virginica \\\\\n",
       "\t9 & 5.8 &  2.7 & 4.1 & 1.0 & versicolor\\\\\n",
       "\t10 & 4.8 &  3.1 & 1.6 & 0.2 & setosa    \\\\\n",
       "\t11 & 5.0 &  3.5 & 1.6 & 0.6 & setosa    \\\\\n",
       "\t12 & 6.0 &  2.7 & 5.1 & 1.6 & versicolor\\\\\n",
       "\t13 & 6.0 &  3.0 & 4.8 &  NA & virginica \\\\\n",
       "\t14 & 6.8 &  2.8 & 4.8 & 1.4 & versicolor\\\\\n",
       "\t15 &  NA &  3.9 & 1.7 & 0.4 & setosa    \\\\\n",
       "\t16 & 5.0 & -3.0 & 3.5 & 1.0 & versicolor\\\\\n",
       "\t17 & 5.5 &   NA & 4.0 & 1.3 & versicolor\\\\\n",
       "\t18 & 4.7 &  3.2 & 1.3 & 0.2 & setosa    \\\\\n",
       "\t19 &  NA &  4.0 &  NA & 0.2 & setosa    \\\\\n",
       "\t20 & 5.6 &   NA & 4.2 & 1.3 & versicolor\\\\\n",
       "\\end{tabular}\n"
      ],
      "text/markdown": [
       "\n",
       "A data.frame: 20 × 5\n",
       "\n",
       "| <!--/--> | Sepal.Length &lt;dbl&gt; | Sepal.Width &lt;dbl&gt; | Petal.Length &lt;dbl&gt; | Petal.Width &lt;dbl&gt; | Species &lt;fct&gt; |\n",
       "|---|---|---|---|---|---|\n",
       "| 1 | 6.4 |  3.2 | 4.5 | 1.5 | versicolor |\n",
       "| 2 | 6.3 |  3.3 | 6.0 | 2.5 | virginica  |\n",
       "| 3 | 6.2 |   NA | 5.4 | 2.3 | virginica  |\n",
       "| 4 | 5.0 |  3.4 | 1.6 | 0.4 | setosa     |\n",
       "| 5 | 5.7 |  2.6 | 3.5 | 1.0 | versicolor |\n",
       "| 6 | 5.3 |   NA |  NA | 0.2 | setosa     |\n",
       "| 7 | 6.4 |  2.7 | 5.3 |  NA | virginica  |\n",
       "| 8 | 5.9 |  3.0 | 5.1 | 1.8 | virginica  |\n",
       "| 9 | 5.8 |  2.7 | 4.1 | 1.0 | versicolor |\n",
       "| 10 | 4.8 |  3.1 | 1.6 | 0.2 | setosa     |\n",
       "| 11 | 5.0 |  3.5 | 1.6 | 0.6 | setosa     |\n",
       "| 12 | 6.0 |  2.7 | 5.1 | 1.6 | versicolor |\n",
       "| 13 | 6.0 |  3.0 | 4.8 |  NA | virginica  |\n",
       "| 14 | 6.8 |  2.8 | 4.8 | 1.4 | versicolor |\n",
       "| 15 |  NA |  3.9 | 1.7 | 0.4 | setosa     |\n",
       "| 16 | 5.0 | -3.0 | 3.5 | 1.0 | versicolor |\n",
       "| 17 | 5.5 |   NA | 4.0 | 1.3 | versicolor |\n",
       "| 18 | 4.7 |  3.2 | 1.3 | 0.2 | setosa     |\n",
       "| 19 |  NA |  4.0 |  NA | 0.2 | setosa     |\n",
       "| 20 | 5.6 |   NA | 4.2 | 1.3 | versicolor |\n",
       "\n"
      ],
      "text/plain": [
       "   Sepal.Length Sepal.Width Petal.Length Petal.Width Species   \n",
       "1  6.4           3.2        4.5          1.5         versicolor\n",
       "2  6.3           3.3        6.0          2.5         virginica \n",
       "3  6.2            NA        5.4          2.3         virginica \n",
       "4  5.0           3.4        1.6          0.4         setosa    \n",
       "5  5.7           2.6        3.5          1.0         versicolor\n",
       "6  5.3            NA         NA          0.2         setosa    \n",
       "7  6.4           2.7        5.3           NA         virginica \n",
       "8  5.9           3.0        5.1          1.8         virginica \n",
       "9  5.8           2.7        4.1          1.0         versicolor\n",
       "10 4.8           3.1        1.6          0.2         setosa    \n",
       "11 5.0           3.5        1.6          0.6         setosa    \n",
       "12 6.0           2.7        5.1          1.6         versicolor\n",
       "13 6.0           3.0        4.8           NA         virginica \n",
       "14 6.8           2.8        4.8          1.4         versicolor\n",
       "15  NA           3.9        1.7          0.4         setosa    \n",
       "16 5.0          -3.0        3.5          1.0         versicolor\n",
       "17 5.5            NA        4.0          1.3         versicolor\n",
       "18 4.7           3.2        1.3          0.2         setosa    \n",
       "19  NA           4.0         NA          0.2         setosa    \n",
       "20 5.6            NA        4.2          1.3         versicolor"
      ]
     },
     "metadata": {},
     "output_type": "display_data"
    }
   ],
   "source": [
    "head(read.csv(\"C:\\\\Users\\\\IN_CAP02\\\\Desktop\\\\proyecto\\\\iris.csv\"),20)"
   ]
  },
  {
   "cell_type": "code",
   "execution_count": 88,
   "metadata": {
    "slideshow": {
     "slide_type": "subslide"
    }
   },
   "outputs": [
    {
     "data": {
      "text/html": [
       "<style>\n",
       ".list-inline {list-style: none; margin:0; padding: 0}\n",
       ".list-inline>li {display: inline-block}\n",
       ".list-inline>li:not(:last-child)::after {content: \"\\00b7\"; padding: 0 .5ex}\n",
       "</style>\n",
       "<ol class=list-inline><li>5.07616984041682</li><li>4.87812815408667</li><li>4.95734482861873</li><li>4.9177364913527</li><li>5.11577817768284</li><li>5.42536284195686</li><li>5.13194132938875</li><li>5.03656150315079</li><li>4.83851981682064</li><li>4.82235666511473</li><li>5.4</li><li>4.8</li><li>4.8</li><li>4.3</li><li>5.8</li><li>5.7</li><li>5.4</li><li>5.1</li><li>5.7</li><li>5.1</li><li>5.4</li><li>5.1</li><li>4.6</li><li>5.1</li><li>4.8</li><li>5</li><li>5</li><li>5.2</li><li>5.2</li><li>4.7</li><li>4.8</li><li>5.4</li><li>5.2</li><li>5.5</li><li>4.9</li><li>5</li><li>5.5</li><li>4.9</li><li>4.4</li><li>5.1</li><li>5</li><li>4.5</li><li>4.4</li><li>5</li><li>5.1</li><li>4.8</li><li>5.1</li><li>4.6</li><li>5.3</li><li>5</li><li>7</li><li>6.4</li><li>6.9</li><li>5.5</li><li>6.5</li><li>5.7</li><li>6.3</li><li>4.9</li><li>6.6</li><li>5.2</li><li>5</li><li>5.9</li><li>6</li><li>6.1</li><li>5.6</li><li>6.7</li><li>5.6</li><li>5.8</li><li>6.2</li><li>5.6</li><li>5.9</li><li>6.1</li><li>6.3</li><li>6.1</li><li>6.4</li><li>6.6</li><li>6.8</li><li>6.7</li><li>6</li><li>5.7</li><li>5.5</li><li>5.5</li><li>5.8</li><li>6</li><li>5.4</li><li>6</li><li>6.7</li><li>6.3</li><li>5.6</li><li>5.5</li><li>5.5</li><li>6.1</li><li>5.8</li><li>5</li><li>5.6</li><li>5.7</li><li>5.7</li><li>6.2</li><li>5.1</li><li>5.7</li><li>6.3</li><li>5.8</li><li>7.1</li><li>6.3</li><li>6.5</li><li>7.6</li><li>4.9</li><li>7.3</li><li>6.7</li><li>7.2</li><li>6.5</li><li>6.4</li><li>6.8</li><li>5.7</li><li>5.8</li><li>6.4</li><li>6.5</li><li>7.7</li><li>7.7</li><li>6</li><li>6.9</li><li>5.6</li><li>7.7</li><li>6.3</li><li>6.7</li><li>7.2</li><li>6.2</li><li>6.1</li><li>6.4</li><li>7.2</li><li>7.4</li><li>7.9</li><li>6.4</li><li>6.3</li><li>6.1</li><li>7.7</li><li>6.3</li><li>6.4</li><li>6</li><li>6.9</li><li>6.7</li><li>6.9</li><li>5.8</li><li>6.8</li><li>6.7</li><li>6.7</li><li>6.3</li><li>6.5</li><li>6.2</li><li>5.9</li></ol>\n"
      ],
      "text/latex": [
       "\\begin{enumerate*}\n",
       "\\item 5.07616984041682\n",
       "\\item 4.87812815408667\n",
       "\\item 4.95734482861873\n",
       "\\item 4.9177364913527\n",
       "\\item 5.11577817768284\n",
       "\\item 5.42536284195686\n",
       "\\item 5.13194132938875\n",
       "\\item 5.03656150315079\n",
       "\\item 4.83851981682064\n",
       "\\item 4.82235666511473\n",
       "\\item 5.4\n",
       "\\item 4.8\n",
       "\\item 4.8\n",
       "\\item 4.3\n",
       "\\item 5.8\n",
       "\\item 5.7\n",
       "\\item 5.4\n",
       "\\item 5.1\n",
       "\\item 5.7\n",
       "\\item 5.1\n",
       "\\item 5.4\n",
       "\\item 5.1\n",
       "\\item 4.6\n",
       "\\item 5.1\n",
       "\\item 4.8\n",
       "\\item 5\n",
       "\\item 5\n",
       "\\item 5.2\n",
       "\\item 5.2\n",
       "\\item 4.7\n",
       "\\item 4.8\n",
       "\\item 5.4\n",
       "\\item 5.2\n",
       "\\item 5.5\n",
       "\\item 4.9\n",
       "\\item 5\n",
       "\\item 5.5\n",
       "\\item 4.9\n",
       "\\item 4.4\n",
       "\\item 5.1\n",
       "\\item 5\n",
       "\\item 4.5\n",
       "\\item 4.4\n",
       "\\item 5\n",
       "\\item 5.1\n",
       "\\item 4.8\n",
       "\\item 5.1\n",
       "\\item 4.6\n",
       "\\item 5.3\n",
       "\\item 5\n",
       "\\item 7\n",
       "\\item 6.4\n",
       "\\item 6.9\n",
       "\\item 5.5\n",
       "\\item 6.5\n",
       "\\item 5.7\n",
       "\\item 6.3\n",
       "\\item 4.9\n",
       "\\item 6.6\n",
       "\\item 5.2\n",
       "\\item 5\n",
       "\\item 5.9\n",
       "\\item 6\n",
       "\\item 6.1\n",
       "\\item 5.6\n",
       "\\item 6.7\n",
       "\\item 5.6\n",
       "\\item 5.8\n",
       "\\item 6.2\n",
       "\\item 5.6\n",
       "\\item 5.9\n",
       "\\item 6.1\n",
       "\\item 6.3\n",
       "\\item 6.1\n",
       "\\item 6.4\n",
       "\\item 6.6\n",
       "\\item 6.8\n",
       "\\item 6.7\n",
       "\\item 6\n",
       "\\item 5.7\n",
       "\\item 5.5\n",
       "\\item 5.5\n",
       "\\item 5.8\n",
       "\\item 6\n",
       "\\item 5.4\n",
       "\\item 6\n",
       "\\item 6.7\n",
       "\\item 6.3\n",
       "\\item 5.6\n",
       "\\item 5.5\n",
       "\\item 5.5\n",
       "\\item 6.1\n",
       "\\item 5.8\n",
       "\\item 5\n",
       "\\item 5.6\n",
       "\\item 5.7\n",
       "\\item 5.7\n",
       "\\item 6.2\n",
       "\\item 5.1\n",
       "\\item 5.7\n",
       "\\item 6.3\n",
       "\\item 5.8\n",
       "\\item 7.1\n",
       "\\item 6.3\n",
       "\\item 6.5\n",
       "\\item 7.6\n",
       "\\item 4.9\n",
       "\\item 7.3\n",
       "\\item 6.7\n",
       "\\item 7.2\n",
       "\\item 6.5\n",
       "\\item 6.4\n",
       "\\item 6.8\n",
       "\\item 5.7\n",
       "\\item 5.8\n",
       "\\item 6.4\n",
       "\\item 6.5\n",
       "\\item 7.7\n",
       "\\item 7.7\n",
       "\\item 6\n",
       "\\item 6.9\n",
       "\\item 5.6\n",
       "\\item 7.7\n",
       "\\item 6.3\n",
       "\\item 6.7\n",
       "\\item 7.2\n",
       "\\item 6.2\n",
       "\\item 6.1\n",
       "\\item 6.4\n",
       "\\item 7.2\n",
       "\\item 7.4\n",
       "\\item 7.9\n",
       "\\item 6.4\n",
       "\\item 6.3\n",
       "\\item 6.1\n",
       "\\item 7.7\n",
       "\\item 6.3\n",
       "\\item 6.4\n",
       "\\item 6\n",
       "\\item 6.9\n",
       "\\item 6.7\n",
       "\\item 6.9\n",
       "\\item 5.8\n",
       "\\item 6.8\n",
       "\\item 6.7\n",
       "\\item 6.7\n",
       "\\item 6.3\n",
       "\\item 6.5\n",
       "\\item 6.2\n",
       "\\item 5.9\n",
       "\\end{enumerate*}\n"
      ],
      "text/markdown": [
       "1. 5.07616984041682\n",
       "2. 4.87812815408667\n",
       "3. 4.95734482861873\n",
       "4. 4.9177364913527\n",
       "5. 5.11577817768284\n",
       "6. 5.42536284195686\n",
       "7. 5.13194132938875\n",
       "8. 5.03656150315079\n",
       "9. 4.83851981682064\n",
       "10. 4.82235666511473\n",
       "11. 5.4\n",
       "12. 4.8\n",
       "13. 4.8\n",
       "14. 4.3\n",
       "15. 5.8\n",
       "16. 5.7\n",
       "17. 5.4\n",
       "18. 5.1\n",
       "19. 5.7\n",
       "20. 5.1\n",
       "21. 5.4\n",
       "22. 5.1\n",
       "23. 4.6\n",
       "24. 5.1\n",
       "25. 4.8\n",
       "26. 5\n",
       "27. 5\n",
       "28. 5.2\n",
       "29. 5.2\n",
       "30. 4.7\n",
       "31. 4.8\n",
       "32. 5.4\n",
       "33. 5.2\n",
       "34. 5.5\n",
       "35. 4.9\n",
       "36. 5\n",
       "37. 5.5\n",
       "38. 4.9\n",
       "39. 4.4\n",
       "40. 5.1\n",
       "41. 5\n",
       "42. 4.5\n",
       "43. 4.4\n",
       "44. 5\n",
       "45. 5.1\n",
       "46. 4.8\n",
       "47. 5.1\n",
       "48. 4.6\n",
       "49. 5.3\n",
       "50. 5\n",
       "51. 7\n",
       "52. 6.4\n",
       "53. 6.9\n",
       "54. 5.5\n",
       "55. 6.5\n",
       "56. 5.7\n",
       "57. 6.3\n",
       "58. 4.9\n",
       "59. 6.6\n",
       "60. 5.2\n",
       "61. 5\n",
       "62. 5.9\n",
       "63. 6\n",
       "64. 6.1\n",
       "65. 5.6\n",
       "66. 6.7\n",
       "67. 5.6\n",
       "68. 5.8\n",
       "69. 6.2\n",
       "70. 5.6\n",
       "71. 5.9\n",
       "72. 6.1\n",
       "73. 6.3\n",
       "74. 6.1\n",
       "75. 6.4\n",
       "76. 6.6\n",
       "77. 6.8\n",
       "78. 6.7\n",
       "79. 6\n",
       "80. 5.7\n",
       "81. 5.5\n",
       "82. 5.5\n",
       "83. 5.8\n",
       "84. 6\n",
       "85. 5.4\n",
       "86. 6\n",
       "87. 6.7\n",
       "88. 6.3\n",
       "89. 5.6\n",
       "90. 5.5\n",
       "91. 5.5\n",
       "92. 6.1\n",
       "93. 5.8\n",
       "94. 5\n",
       "95. 5.6\n",
       "96. 5.7\n",
       "97. 5.7\n",
       "98. 6.2\n",
       "99. 5.1\n",
       "100. 5.7\n",
       "101. 6.3\n",
       "102. 5.8\n",
       "103. 7.1\n",
       "104. 6.3\n",
       "105. 6.5\n",
       "106. 7.6\n",
       "107. 4.9\n",
       "108. 7.3\n",
       "109. 6.7\n",
       "110. 7.2\n",
       "111. 6.5\n",
       "112. 6.4\n",
       "113. 6.8\n",
       "114. 5.7\n",
       "115. 5.8\n",
       "116. 6.4\n",
       "117. 6.5\n",
       "118. 7.7\n",
       "119. 7.7\n",
       "120. 6\n",
       "121. 6.9\n",
       "122. 5.6\n",
       "123. 7.7\n",
       "124. 6.3\n",
       "125. 6.7\n",
       "126. 7.2\n",
       "127. 6.2\n",
       "128. 6.1\n",
       "129. 6.4\n",
       "130. 7.2\n",
       "131. 7.4\n",
       "132. 7.9\n",
       "133. 6.4\n",
       "134. 6.3\n",
       "135. 6.1\n",
       "136. 7.7\n",
       "137. 6.3\n",
       "138. 6.4\n",
       "139. 6\n",
       "140. 6.9\n",
       "141. 6.7\n",
       "142. 6.9\n",
       "143. 5.8\n",
       "144. 6.8\n",
       "145. 6.7\n",
       "146. 6.7\n",
       "147. 6.3\n",
       "148. 6.5\n",
       "149. 6.2\n",
       "150. 5.9\n",
       "\n",
       "\n"
      ],
      "text/plain": [
       "  [1] 5.076170 4.878128 4.957345 4.917736 5.115778 5.425363 5.131941 5.036562\n",
       "  [9] 4.838520 4.822357 5.400000 4.800000 4.800000 4.300000 5.800000 5.700000\n",
       " [17] 5.400000 5.100000 5.700000 5.100000 5.400000 5.100000 4.600000 5.100000\n",
       " [25] 4.800000 5.000000 5.000000 5.200000 5.200000 4.700000 4.800000 5.400000\n",
       " [33] 5.200000 5.500000 4.900000 5.000000 5.500000 4.900000 4.400000 5.100000\n",
       " [41] 5.000000 4.500000 4.400000 5.000000 5.100000 4.800000 5.100000 4.600000\n",
       " [49] 5.300000 5.000000 7.000000 6.400000 6.900000 5.500000 6.500000 5.700000\n",
       " [57] 6.300000 4.900000 6.600000 5.200000 5.000000 5.900000 6.000000 6.100000\n",
       " [65] 5.600000 6.700000 5.600000 5.800000 6.200000 5.600000 5.900000 6.100000\n",
       " [73] 6.300000 6.100000 6.400000 6.600000 6.800000 6.700000 6.000000 5.700000\n",
       " [81] 5.500000 5.500000 5.800000 6.000000 5.400000 6.000000 6.700000 6.300000\n",
       " [89] 5.600000 5.500000 5.500000 6.100000 5.800000 5.000000 5.600000 5.700000\n",
       " [97] 5.700000 6.200000 5.100000 5.700000 6.300000 5.800000 7.100000 6.300000\n",
       "[105] 6.500000 7.600000 4.900000 7.300000 6.700000 7.200000 6.500000 6.400000\n",
       "[113] 6.800000 5.700000 5.800000 6.400000 6.500000 7.700000 7.700000 6.000000\n",
       "[121] 6.900000 5.600000 7.700000 6.300000 6.700000 7.200000 6.200000 6.100000\n",
       "[129] 6.400000 7.200000 7.400000 7.900000 6.400000 6.300000 6.100000 7.700000\n",
       "[137] 6.300000 6.400000 6.000000 6.900000 6.700000 6.900000 5.800000 6.800000\n",
       "[145] 6.700000 6.700000 6.300000 6.500000 6.200000 5.900000"
      ]
     },
     "metadata": {},
     "output_type": "display_data"
    }
   ],
   "source": [
    "data(iris)\n",
    "iris$Sepal.Length[1:10] <- NA\n",
    "model <- lm(Sepal.Length ~ Sepal.Width + Petal.Width, data = iris)\n",
    "I <- is.na(iris$Sepal.Length)\n",
    "iris$Sepal.Length[I] <- predict(model, newdata = iris[I, ])\n",
    "iris$Sepal.Length"
   ]
  },
  {
   "cell_type": "markdown",
   "metadata": {
    "slideshow": {
     "slide_type": "subslide"
    }
   },
   "source": [
    "###  3.3.2 Método hot-deck\n",
    "\n",
    "En este método de imputación, los valores faltantes se imputan copiando valores de registros similares en el mismo conjunto de datos.\n",
    "\n",
    "<center>$ \\widehat{x}_{i}=Ry_{i}  $</center>\n",
    "\n",
    "<justify>donde 𝑥 se toma de los valores observados. La imputación por el método hot-deck se puede aplicar a datos numéricos y categóricos, pero solo es viable cuando hay suficientes registros de donantes disponibles. La pregunta principal de esta metodología es cómo elegir el valor de reemplazo 𝑥 de los valores observados.</justify>"
   ]
  },
  {
   "cell_type": "markdown",
   "metadata": {
    "slideshow": {
     "slide_type": "fragment"
    }
   },
   "source": [
    "#### Hot-deck Aleatorio\n",
    "En la imputación aleatoria de hot-deck, un valor se elige de forma aleatoria y uniforme del mismo conjunto de datos. Cuando sea significativo, se pueden aplicar métodos aleatorios de hot deck por estrato."
   ]
  },
  {
   "cell_type": "code",
   "execution_count": 89,
   "metadata": {
    "slideshow": {
     "slide_type": "subslide"
    }
   },
   "outputs": [
    {
     "data": {
      "text/html": [
       "<table>\n",
       "<caption>A data.frame: 20 × 2</caption>\n",
       "<thead>\n",
       "\t<tr><th scope=col>name</th><th scope=col>height</th></tr>\n",
       "\t<tr><th scope=col>&lt;chr&gt;</th><th scope=col>&lt;dbl&gt;</th></tr>\n",
       "</thead>\n",
       "<tbody>\n",
       "\t<tr><td>Kimberly</td><td>1.45</td></tr>\n",
       "\t<tr><td>Galaxia </td><td>1.45</td></tr>\n",
       "\t<tr><td>America </td><td>1.51</td></tr>\n",
       "\t<tr><td>Luisa   </td><td>1.28</td></tr>\n",
       "\t<tr><td>Fernanda</td><td>1.68</td></tr>\n",
       "\t<tr><td>Andrea  </td><td>  NA</td></tr>\n",
       "\t<tr><td>Mary    </td><td>1.35</td></tr>\n",
       "\t<tr><td>Perlita </td><td>1.55</td></tr>\n",
       "\t<tr><td>Betsy   </td><td>1.49</td></tr>\n",
       "\t<tr><td>Dania   </td><td>  NA</td></tr>\n",
       "\t<tr><td>Daniela </td><td>1.25</td></tr>\n",
       "\t<tr><td>Lourdes </td><td>1.36</td></tr>\n",
       "\t<tr><td>Alba    </td><td>1.58</td></tr>\n",
       "\t<tr><td>Joseline</td><td>1.66</td></tr>\n",
       "\t<tr><td>Love    </td><td>1.72</td></tr>\n",
       "\t<tr><td>Shaniqua</td><td>1.55</td></tr>\n",
       "\t<tr><td>Rosa    </td><td>1.27</td></tr>\n",
       "\t<tr><td>Debora  </td><td>1.33</td></tr>\n",
       "\t<tr><td>Dora    </td><td>1.56</td></tr>\n",
       "\t<tr><td>Francia </td><td>1.55</td></tr>\n",
       "</tbody>\n",
       "</table>\n"
      ],
      "text/latex": [
       "A data.frame: 20 × 2\n",
       "\\begin{tabular}{ll}\n",
       " name & height\\\\\n",
       " <chr> & <dbl>\\\\\n",
       "\\hline\n",
       "\t Kimberly & 1.45\\\\\n",
       "\t Galaxia  & 1.45\\\\\n",
       "\t America  & 1.51\\\\\n",
       "\t Luisa    & 1.28\\\\\n",
       "\t Fernanda & 1.68\\\\\n",
       "\t Andrea   &   NA\\\\\n",
       "\t Mary     & 1.35\\\\\n",
       "\t Perlita  & 1.55\\\\\n",
       "\t Betsy    & 1.49\\\\\n",
       "\t Dania    &   NA\\\\\n",
       "\t Daniela  & 1.25\\\\\n",
       "\t Lourdes  & 1.36\\\\\n",
       "\t Alba     & 1.58\\\\\n",
       "\t Joseline & 1.66\\\\\n",
       "\t Love     & 1.72\\\\\n",
       "\t Shaniqua & 1.55\\\\\n",
       "\t Rosa     & 1.27\\\\\n",
       "\t Debora   & 1.33\\\\\n",
       "\t Dora     & 1.56\\\\\n",
       "\t Francia  & 1.55\\\\\n",
       "\\end{tabular}\n"
      ],
      "text/markdown": [
       "\n",
       "A data.frame: 20 × 2\n",
       "\n",
       "| name &lt;chr&gt; | height &lt;dbl&gt; |\n",
       "|---|---|\n",
       "| Kimberly | 1.45 |\n",
       "| Galaxia  | 1.45 |\n",
       "| America  | 1.51 |\n",
       "| Luisa    | 1.28 |\n",
       "| Fernanda | 1.68 |\n",
       "| Andrea   |   NA |\n",
       "| Mary     | 1.35 |\n",
       "| Perlita  | 1.55 |\n",
       "| Betsy    | 1.49 |\n",
       "| Dania    |   NA |\n",
       "| Daniela  | 1.25 |\n",
       "| Lourdes  | 1.36 |\n",
       "| Alba     | 1.58 |\n",
       "| Joseline | 1.66 |\n",
       "| Love     | 1.72 |\n",
       "| Shaniqua | 1.55 |\n",
       "| Rosa     | 1.27 |\n",
       "| Debora   | 1.33 |\n",
       "| Dora     | 1.56 |\n",
       "| Francia  | 1.55 |\n",
       "\n"
      ],
      "text/plain": [
       "   name     height\n",
       "1  Kimberly 1.45  \n",
       "2  Galaxia  1.45  \n",
       "3  America  1.51  \n",
       "4  Luisa    1.28  \n",
       "5  Fernanda 1.68  \n",
       "6  Andrea     NA  \n",
       "7  Mary     1.35  \n",
       "8  Perlita  1.55  \n",
       "9  Betsy    1.49  \n",
       "10 Dania      NA  \n",
       "11 Daniela  1.25  \n",
       "12 Lourdes  1.36  \n",
       "13 Alba     1.58  \n",
       "14 Joseline 1.66  \n",
       "15 Love     1.72  \n",
       "16 Shaniqua 1.55  \n",
       "17 Rosa     1.27  \n",
       "18 Debora   1.33  \n",
       "19 Dora     1.56  \n",
       "20 Francia  1.55  "
      ]
     },
     "metadata": {},
     "output_type": "display_data"
    }
   ],
   "source": [
    "(mujeres <- read.csv(\"C:\\\\Users\\\\IN_CAP02\\\\Desktop\\\\proyecto\\\\Mujeres.csv\", stringsAsFactors = FALSE))"
   ]
  },
  {
   "cell_type": "code",
   "execution_count": 103,
   "metadata": {
    "slideshow": {
     "slide_type": "subslide"
    }
   },
   "outputs": [
    {
     "data": {
      "text/plain": [
       " [1] 1.45  1.45  1.51  1.28  1.68  1.55* 1.35  1.55  1.49  1.45* 1.25  1.36 \n",
       "[13] 1.58  1.66  1.72  1.55  1.27  1.33  1.56  1.55 "
      ]
     },
     "metadata": {},
     "output_type": "display_data"
    },
    {
     "data": {
      "text/html": [
       "<table>\n",
       "<caption>A data.frame: 20 × 2</caption>\n",
       "<thead>\n",
       "\t<tr><th scope=col>name</th><th scope=col>height</th></tr>\n",
       "\t<tr><th scope=col>&lt;chr&gt;</th><th scope=col>&lt;impute&gt;</th></tr>\n",
       "</thead>\n",
       "<tbody>\n",
       "\t<tr><td>Kimberly</td><td>1.45</td></tr>\n",
       "\t<tr><td>Galaxia </td><td>1.45</td></tr>\n",
       "\t<tr><td>America </td><td>1.51</td></tr>\n",
       "\t<tr><td>Luisa   </td><td>1.28</td></tr>\n",
       "\t<tr><td>Fernanda</td><td>1.68</td></tr>\n",
       "\t<tr><td>Andrea  </td><td>1.55</td></tr>\n",
       "\t<tr><td>Mary    </td><td>1.35</td></tr>\n",
       "\t<tr><td>Perlita </td><td>1.55</td></tr>\n",
       "\t<tr><td>Betsy   </td><td>1.49</td></tr>\n",
       "\t<tr><td>Dania   </td><td>1.45</td></tr>\n",
       "\t<tr><td>Daniela </td><td>1.25</td></tr>\n",
       "\t<tr><td>Lourdes </td><td>1.36</td></tr>\n",
       "\t<tr><td>Alba    </td><td>1.58</td></tr>\n",
       "\t<tr><td>Joseline</td><td>1.66</td></tr>\n",
       "\t<tr><td>Love    </td><td>1.72</td></tr>\n",
       "\t<tr><td>Shaniqua</td><td>1.55</td></tr>\n",
       "\t<tr><td>Rosa    </td><td>1.27</td></tr>\n",
       "\t<tr><td>Debora  </td><td>1.33</td></tr>\n",
       "\t<tr><td>Dora    </td><td>1.56</td></tr>\n",
       "\t<tr><td>Francia </td><td>1.55</td></tr>\n",
       "</tbody>\n",
       "</table>\n"
      ],
      "text/latex": [
       "A data.frame: 20 × 2\n",
       "\\begin{tabular}{ll}\n",
       " name & height\\\\\n",
       " <chr> & <impute>\\\\\n",
       "\\hline\n",
       "\t Kimberly & 1.45\\\\\n",
       "\t Galaxia  & 1.45\\\\\n",
       "\t America  & 1.51\\\\\n",
       "\t Luisa    & 1.28\\\\\n",
       "\t Fernanda & 1.68\\\\\n",
       "\t Andrea   & 1.55\\\\\n",
       "\t Mary     & 1.35\\\\\n",
       "\t Perlita  & 1.55\\\\\n",
       "\t Betsy    & 1.49\\\\\n",
       "\t Dania    & 1.45\\\\\n",
       "\t Daniela  & 1.25\\\\\n",
       "\t Lourdes  & 1.36\\\\\n",
       "\t Alba     & 1.58\\\\\n",
       "\t Joseline & 1.66\\\\\n",
       "\t Love     & 1.72\\\\\n",
       "\t Shaniqua & 1.55\\\\\n",
       "\t Rosa     & 1.27\\\\\n",
       "\t Debora   & 1.33\\\\\n",
       "\t Dora     & 1.56\\\\\n",
       "\t Francia  & 1.55\\\\\n",
       "\\end{tabular}\n"
      ],
      "text/markdown": [
       "\n",
       "A data.frame: 20 × 2\n",
       "\n",
       "| name &lt;chr&gt; | height &lt;impute&gt; |\n",
       "|---|---|\n",
       "| Kimberly | 1.45 |\n",
       "| Galaxia  | 1.45 |\n",
       "| America  | 1.51 |\n",
       "| Luisa    | 1.28 |\n",
       "| Fernanda | 1.68 |\n",
       "| Andrea   | 1.55 |\n",
       "| Mary     | 1.35 |\n",
       "| Perlita  | 1.55 |\n",
       "| Betsy    | 1.49 |\n",
       "| Dania    | 1.45 |\n",
       "| Daniela  | 1.25 |\n",
       "| Lourdes  | 1.36 |\n",
       "| Alba     | 1.58 |\n",
       "| Joseline | 1.66 |\n",
       "| Love     | 1.72 |\n",
       "| Shaniqua | 1.55 |\n",
       "| Rosa     | 1.27 |\n",
       "| Debora   | 1.33 |\n",
       "| Dora     | 1.56 |\n",
       "| Francia  | 1.55 |\n",
       "\n"
      ],
      "text/plain": [
       "   name     height\n",
       "1  Kimberly 1.45  \n",
       "2  Galaxia  1.45  \n",
       "3  America  1.51  \n",
       "4  Luisa    1.28  \n",
       "5  Fernanda 1.68  \n",
       "6  Andrea   1.55  \n",
       "7  Mary     1.35  \n",
       "8  Perlita  1.55  \n",
       "9  Betsy    1.49  \n",
       "10 Dania    1.45  \n",
       "11 Daniela  1.25  \n",
       "12 Lourdes  1.36  \n",
       "13 Alba     1.58  \n",
       "14 Joseline 1.66  \n",
       "15 Love     1.72  \n",
       "16 Shaniqua 1.55  \n",
       "17 Rosa     1.27  \n",
       "18 Debora   1.33  \n",
       "19 Dora     1.56  \n",
       "20 Francia  1.55  "
      ]
     },
     "metadata": {},
     "output_type": "display_data"
    }
   ],
   "source": [
    "(mujeres$height <- impute(mujeres$height,\"random\"))\n",
    "mujeres"
   ]
  },
  {
   "cell_type": "markdown",
   "metadata": {
    "slideshow": {
     "slide_type": "subslide"
    }
   },
   "source": [
    "#### Hot-deck secuencial\n",
    "En la imputación secuencial de hot-deck, el vector que contiene los valores faltantes se ordena de acuerdo con una o más variables auxiliares para que los registros que tienen auxiliares similares ocurran secuencialmente en el data.frame. "
   ]
  },
  {
   "cell_type": "code",
   "execution_count": 135,
   "metadata": {
    "slideshow": {
     "slide_type": "fragment"
    }
   },
   "outputs": [],
   "source": [
    "iris <- read.csv(\"iris.csv\", stringsAsFactors=FALSE)"
   ]
  },
  {
   "cell_type": "code",
   "execution_count": 162,
   "metadata": {},
   "outputs": [
    {
     "data": {
      "text/html": [
       "<table>\n",
       "<caption>A data.frame: 15 × 5</caption>\n",
       "<thead>\n",
       "\t<tr><th></th><th scope=col>Sepal.Length</th><th scope=col>Sepal.Width</th><th scope=col>Petal.Length</th><th scope=col>Petal.Width</th><th scope=col>Species</th></tr>\n",
       "\t<tr><th></th><th scope=col>&lt;dbl&gt;</th><th scope=col>&lt;dbl&gt;</th><th scope=col>&lt;dbl&gt;</th><th scope=col>&lt;dbl&gt;</th><th scope=col>&lt;fct&gt;</th></tr>\n",
       "</thead>\n",
       "<tbody>\n",
       "\t<tr><th scope=row>1</th><td>5.1</td><td>3.5</td><td>1.4</td><td>0.2</td><td>setosa</td></tr>\n",
       "\t<tr><th scope=row>2</th><td>4.9</td><td>3.0</td><td>1.4</td><td>0.2</td><td>setosa</td></tr>\n",
       "\t<tr><th scope=row>3</th><td>4.7</td><td>3.2</td><td>1.3</td><td>0.2</td><td>setosa</td></tr>\n",
       "\t<tr><th scope=row>4</th><td>4.6</td><td>3.1</td><td>1.5</td><td>0.2</td><td>setosa</td></tr>\n",
       "\t<tr><th scope=row>5</th><td>5.0</td><td>3.6</td><td>1.4</td><td>0.2</td><td>setosa</td></tr>\n",
       "\t<tr><th scope=row>6</th><td>5.4</td><td>3.9</td><td>1.7</td><td>0.4</td><td>setosa</td></tr>\n",
       "\t<tr><th scope=row>7</th><td>4.6</td><td>3.4</td><td>1.4</td><td> NA</td><td>setosa</td></tr>\n",
       "\t<tr><th scope=row>8</th><td>5.0</td><td>3.4</td><td>1.5</td><td>0.2</td><td>setosa</td></tr>\n",
       "\t<tr><th scope=row>9</th><td>4.4</td><td>2.9</td><td>1.4</td><td>0.2</td><td>setosa</td></tr>\n",
       "\t<tr><th scope=row>10</th><td>4.9</td><td> NA</td><td>1.5</td><td>0.1</td><td>setosa</td></tr>\n",
       "\t<tr><th scope=row>11</th><td>5.4</td><td>3.7</td><td>1.5</td><td>0.2</td><td>setosa</td></tr>\n",
       "\t<tr><th scope=row>12</th><td> NA</td><td>3.4</td><td>1.6</td><td>0.2</td><td>setosa</td></tr>\n",
       "\t<tr><th scope=row>13</th><td>4.8</td><td>3.0</td><td>1.4</td><td>0.1</td><td>setosa</td></tr>\n",
       "\t<tr><th scope=row>14</th><td> NA</td><td>3.0</td><td>1.1</td><td>0.1</td><td>setosa</td></tr>\n",
       "\t<tr><th scope=row>15</th><td>5.8</td><td>4.0</td><td>1.2</td><td>0.2</td><td>setosa</td></tr>\n",
       "</tbody>\n",
       "</table>\n"
      ],
      "text/latex": [
       "A data.frame: 15 × 5\n",
       "\\begin{tabular}{r|lllll}\n",
       "  & Sepal.Length & Sepal.Width & Petal.Length & Petal.Width & Species\\\\\n",
       "  & <dbl> & <dbl> & <dbl> & <dbl> & <fct>\\\\\n",
       "\\hline\n",
       "\t1 & 5.1 & 3.5 & 1.4 & 0.2 & setosa\\\\\n",
       "\t2 & 4.9 & 3.0 & 1.4 & 0.2 & setosa\\\\\n",
       "\t3 & 4.7 & 3.2 & 1.3 & 0.2 & setosa\\\\\n",
       "\t4 & 4.6 & 3.1 & 1.5 & 0.2 & setosa\\\\\n",
       "\t5 & 5.0 & 3.6 & 1.4 & 0.2 & setosa\\\\\n",
       "\t6 & 5.4 & 3.9 & 1.7 & 0.4 & setosa\\\\\n",
       "\t7 & 4.6 & 3.4 & 1.4 &  NA & setosa\\\\\n",
       "\t8 & 5.0 & 3.4 & 1.5 & 0.2 & setosa\\\\\n",
       "\t9 & 4.4 & 2.9 & 1.4 & 0.2 & setosa\\\\\n",
       "\t10 & 4.9 &  NA & 1.5 & 0.1 & setosa\\\\\n",
       "\t11 & 5.4 & 3.7 & 1.5 & 0.2 & setosa\\\\\n",
       "\t12 &  NA & 3.4 & 1.6 & 0.2 & setosa\\\\\n",
       "\t13 & 4.8 & 3.0 & 1.4 & 0.1 & setosa\\\\\n",
       "\t14 &  NA & 3.0 & 1.1 & 0.1 & setosa\\\\\n",
       "\t15 & 5.8 & 4.0 & 1.2 & 0.2 & setosa\\\\\n",
       "\\end{tabular}\n"
      ],
      "text/markdown": [
       "\n",
       "A data.frame: 15 × 5\n",
       "\n",
       "| <!--/--> | Sepal.Length &lt;dbl&gt; | Sepal.Width &lt;dbl&gt; | Petal.Length &lt;dbl&gt; | Petal.Width &lt;dbl&gt; | Species &lt;fct&gt; |\n",
       "|---|---|---|---|---|---|\n",
       "| 1 | 5.1 | 3.5 | 1.4 | 0.2 | setosa |\n",
       "| 2 | 4.9 | 3.0 | 1.4 | 0.2 | setosa |\n",
       "| 3 | 4.7 | 3.2 | 1.3 | 0.2 | setosa |\n",
       "| 4 | 4.6 | 3.1 | 1.5 | 0.2 | setosa |\n",
       "| 5 | 5.0 | 3.6 | 1.4 | 0.2 | setosa |\n",
       "| 6 | 5.4 | 3.9 | 1.7 | 0.4 | setosa |\n",
       "| 7 | 4.6 | 3.4 | 1.4 |  NA | setosa |\n",
       "| 8 | 5.0 | 3.4 | 1.5 | 0.2 | setosa |\n",
       "| 9 | 4.4 | 2.9 | 1.4 | 0.2 | setosa |\n",
       "| 10 | 4.9 |  NA | 1.5 | 0.1 | setosa |\n",
       "| 11 | 5.4 | 3.7 | 1.5 | 0.2 | setosa |\n",
       "| 12 |  NA | 3.4 | 1.6 | 0.2 | setosa |\n",
       "| 13 | 4.8 | 3.0 | 1.4 | 0.1 | setosa |\n",
       "| 14 |  NA | 3.0 | 1.1 | 0.1 | setosa |\n",
       "| 15 | 5.8 | 4.0 | 1.2 | 0.2 | setosa |\n",
       "\n"
      ],
      "text/plain": [
       "   Sepal.Length Sepal.Width Petal.Length Petal.Width Species\n",
       "1  5.1          3.5         1.4          0.2         setosa \n",
       "2  4.9          3.0         1.4          0.2         setosa \n",
       "3  4.7          3.2         1.3          0.2         setosa \n",
       "4  4.6          3.1         1.5          0.2         setosa \n",
       "5  5.0          3.6         1.4          0.2         setosa \n",
       "6  5.4          3.9         1.7          0.4         setosa \n",
       "7  4.6          3.4         1.4           NA         setosa \n",
       "8  5.0          3.4         1.5          0.2         setosa \n",
       "9  4.4          2.9         1.4          0.2         setosa \n",
       "10 4.9           NA         1.5          0.1         setosa \n",
       "11 5.4          3.7         1.5          0.2         setosa \n",
       "12  NA          3.4         1.6          0.2         setosa \n",
       "13 4.8          3.0         1.4          0.1         setosa \n",
       "14  NA          3.0         1.1          0.1         setosa \n",
       "15 5.8          4.0         1.2          0.2         setosa "
      ]
     },
     "metadata": {},
     "output_type": "display_data"
    }
   ],
   "source": [
    "head(iris,15)"
   ]
  },
  {
   "cell_type": "code",
   "execution_count": 137,
   "metadata": {
    "slideshow": {
     "slide_type": "subslide"
    }
   },
   "outputs": [
    {
     "data": {
      "text/html": [
       "<style>\n",
       ".list-inline {list-style: none; margin:0; padding: 0}\n",
       ".list-inline>li {display: inline-block}\n",
       ".list-inline>li:not(:last-child)::after {content: \"\\00b7\"; padding: 0 .5ex}\n",
       "</style>\n",
       "<ol class=list-inline><li>0.4</li><li>0.2</li><li>0.2</li><li>0.6</li><li>0.4</li><li>0.2</li><li>0.2</li><li>0.1</li><li>0.2</li><li>0.1</li><li>0.2</li><li>0.1</li><li>0.2</li><li>0.2</li><li>0.4</li><li>0.2</li><li>0.4</li><li>0.2</li><li>0.2</li><li>0.3</li><li>0.1</li><li>0.2</li><li>0.3</li><li>0.3</li><li>0.3</li><li>0.2</li><li>0.2</li><li>0.2</li><li>0.2</li><li>0.2</li><li>0.2</li><li>0.2</li><li>0.4</li><li>0.4</li><li>0.3</li><li>0.3</li><li>0.2</li><li>0.2</li><li>0.2</li><li>0.3</li><li>0.1</li><li>2</li><li>0.2</li><li>0.3</li><li>0.2</li><li>0.5</li><li>0.2</li><li>0.2</li><li>0.2</li><li>0.2</li><li>1.5</li><li>1</li><li>1</li><li>1.6</li><li>1.4</li><li>1</li><li>1.3</li><li>1.3</li><li>1.5</li><li>1.3</li><li>1.3</li><li>1.3</li><li>1.3</li><li>1.3</li><li>1.5</li><li>1.2</li><li>1.4</li><li>1.6</li><li>1.2</li><li>1.4</li><li>1.6</li><li>1.5</li><li>1.5</li><li>1.5</li><li>1.1</li><li>1.4</li><li>1.5</li><li>1.4</li><li>1.3</li><li>1.3</li><li>1</li><li>1.5</li><li>1.3</li><li>1.7</li><li>1.2</li><li>1.3</li><li>1</li><li>1.3</li><li>1.5</li><li>1.3</li><li>1.2</li><li>1.5</li><li>1.3</li><li>1.1</li><li>1.4</li><li>1</li><li>1.1</li><li>1.4</li><li>1.5</li><li>2.5</li><li>2.5</li><li>2.3</li><li>1.8</li><li>1.8</li><li>1.8</li><li>1.8</li><li>2.5</li><li>2.1</li><li>2</li><li>2</li><li>1.8</li><li>1.8</li><li>1.9</li><li>2</li><li>2.2</li><li>2.2</li><li>2.1</li><li>2.1</li><li>1.9</li><li>1.6</li><li>2.3</li><li>2.3</li><li>2</li><li>2.1</li><li>2.1</li><li>2</li><li>1.4</li><li>2.3</li><li>1.9</li><li>1.8</li><li>1.9</li><li>1.5</li><li>1.5</li><li>2.5</li><li>2</li><li>2</li><li>2.4</li><li>2.1</li><li>2.3</li><li>2.1</li><li>2.3</li><li>2.3</li><li>2.4</li><li>2.3</li><li>1.8</li><li>2.1</li><li>1.8</li><li>2</li><li>2.4</li><li>1.8</li></ol>\n"
      ],
      "text/latex": [
       "\\begin{enumerate*}\n",
       "\\item 0.4\n",
       "\\item 0.2\n",
       "\\item 0.2\n",
       "\\item 0.6\n",
       "\\item 0.4\n",
       "\\item 0.2\n",
       "\\item 0.2\n",
       "\\item 0.1\n",
       "\\item 0.2\n",
       "\\item 0.1\n",
       "\\item 0.2\n",
       "\\item 0.1\n",
       "\\item 0.2\n",
       "\\item 0.2\n",
       "\\item 0.4\n",
       "\\item 0.2\n",
       "\\item 0.4\n",
       "\\item 0.2\n",
       "\\item 0.2\n",
       "\\item 0.3\n",
       "\\item 0.1\n",
       "\\item 0.2\n",
       "\\item 0.3\n",
       "\\item 0.3\n",
       "\\item 0.3\n",
       "\\item 0.2\n",
       "\\item 0.2\n",
       "\\item 0.2\n",
       "\\item 0.2\n",
       "\\item 0.2\n",
       "\\item 0.2\n",
       "\\item 0.2\n",
       "\\item 0.4\n",
       "\\item 0.4\n",
       "\\item 0.3\n",
       "\\item 0.3\n",
       "\\item 0.2\n",
       "\\item 0.2\n",
       "\\item 0.2\n",
       "\\item 0.3\n",
       "\\item 0.1\n",
       "\\item 2\n",
       "\\item 0.2\n",
       "\\item 0.3\n",
       "\\item 0.2\n",
       "\\item 0.5\n",
       "\\item 0.2\n",
       "\\item 0.2\n",
       "\\item 0.2\n",
       "\\item 0.2\n",
       "\\item 1.5\n",
       "\\item 1\n",
       "\\item 1\n",
       "\\item 1.6\n",
       "\\item 1.4\n",
       "\\item 1\n",
       "\\item 1.3\n",
       "\\item 1.3\n",
       "\\item 1.5\n",
       "\\item 1.3\n",
       "\\item 1.3\n",
       "\\item 1.3\n",
       "\\item 1.3\n",
       "\\item 1.3\n",
       "\\item 1.5\n",
       "\\item 1.2\n",
       "\\item 1.4\n",
       "\\item 1.6\n",
       "\\item 1.2\n",
       "\\item 1.4\n",
       "\\item 1.6\n",
       "\\item 1.5\n",
       "\\item 1.5\n",
       "\\item 1.5\n",
       "\\item 1.1\n",
       "\\item 1.4\n",
       "\\item 1.5\n",
       "\\item 1.4\n",
       "\\item 1.3\n",
       "\\item 1.3\n",
       "\\item 1\n",
       "\\item 1.5\n",
       "\\item 1.3\n",
       "\\item 1.7\n",
       "\\item 1.2\n",
       "\\item 1.3\n",
       "\\item 1\n",
       "\\item 1.3\n",
       "\\item 1.5\n",
       "\\item 1.3\n",
       "\\item 1.2\n",
       "\\item 1.5\n",
       "\\item 1.3\n",
       "\\item 1.1\n",
       "\\item 1.4\n",
       "\\item 1\n",
       "\\item 1.1\n",
       "\\item 1.4\n",
       "\\item 1.5\n",
       "\\item 2.5\n",
       "\\item 2.5\n",
       "\\item 2.3\n",
       "\\item 1.8\n",
       "\\item 1.8\n",
       "\\item 1.8\n",
       "\\item 1.8\n",
       "\\item 2.5\n",
       "\\item 2.1\n",
       "\\item 2\n",
       "\\item 2\n",
       "\\item 1.8\n",
       "\\item 1.8\n",
       "\\item 1.9\n",
       "\\item 2\n",
       "\\item 2.2\n",
       "\\item 2.2\n",
       "\\item 2.1\n",
       "\\item 2.1\n",
       "\\item 1.9\n",
       "\\item 1.6\n",
       "\\item 2.3\n",
       "\\item 2.3\n",
       "\\item 2\n",
       "\\item 2.1\n",
       "\\item 2.1\n",
       "\\item 2\n",
       "\\item 1.4\n",
       "\\item 2.3\n",
       "\\item 1.9\n",
       "\\item 1.8\n",
       "\\item 1.9\n",
       "\\item 1.5\n",
       "\\item 1.5\n",
       "\\item 2.5\n",
       "\\item 2\n",
       "\\item 2\n",
       "\\item 2.4\n",
       "\\item 2.1\n",
       "\\item 2.3\n",
       "\\item 2.1\n",
       "\\item 2.3\n",
       "\\item 2.3\n",
       "\\item 2.4\n",
       "\\item 2.3\n",
       "\\item 1.8\n",
       "\\item 2.1\n",
       "\\item 1.8\n",
       "\\item 2\n",
       "\\item 2.4\n",
       "\\item 1.8\n",
       "\\end{enumerate*}\n"
      ],
      "text/markdown": [
       "1. 0.4\n",
       "2. 0.2\n",
       "3. 0.2\n",
       "4. 0.6\n",
       "5. 0.4\n",
       "6. 0.2\n",
       "7. 0.2\n",
       "8. 0.1\n",
       "9. 0.2\n",
       "10. 0.1\n",
       "11. 0.2\n",
       "12. 0.1\n",
       "13. 0.2\n",
       "14. 0.2\n",
       "15. 0.4\n",
       "16. 0.2\n",
       "17. 0.4\n",
       "18. 0.2\n",
       "19. 0.2\n",
       "20. 0.3\n",
       "21. 0.1\n",
       "22. 0.2\n",
       "23. 0.3\n",
       "24. 0.3\n",
       "25. 0.3\n",
       "26. 0.2\n",
       "27. 0.2\n",
       "28. 0.2\n",
       "29. 0.2\n",
       "30. 0.2\n",
       "31. 0.2\n",
       "32. 0.2\n",
       "33. 0.4\n",
       "34. 0.4\n",
       "35. 0.3\n",
       "36. 0.3\n",
       "37. 0.2\n",
       "38. 0.2\n",
       "39. 0.2\n",
       "40. 0.3\n",
       "41. 0.1\n",
       "42. 2\n",
       "43. 0.2\n",
       "44. 0.3\n",
       "45. 0.2\n",
       "46. 0.5\n",
       "47. 0.2\n",
       "48. 0.2\n",
       "49. 0.2\n",
       "50. 0.2\n",
       "51. 1.5\n",
       "52. 1\n",
       "53. 1\n",
       "54. 1.6\n",
       "55. 1.4\n",
       "56. 1\n",
       "57. 1.3\n",
       "58. 1.3\n",
       "59. 1.5\n",
       "60. 1.3\n",
       "61. 1.3\n",
       "62. 1.3\n",
       "63. 1.3\n",
       "64. 1.3\n",
       "65. 1.5\n",
       "66. 1.2\n",
       "67. 1.4\n",
       "68. 1.6\n",
       "69. 1.2\n",
       "70. 1.4\n",
       "71. 1.6\n",
       "72. 1.5\n",
       "73. 1.5\n",
       "74. 1.5\n",
       "75. 1.1\n",
       "76. 1.4\n",
       "77. 1.5\n",
       "78. 1.4\n",
       "79. 1.3\n",
       "80. 1.3\n",
       "81. 1\n",
       "82. 1.5\n",
       "83. 1.3\n",
       "84. 1.7\n",
       "85. 1.2\n",
       "86. 1.3\n",
       "87. 1\n",
       "88. 1.3\n",
       "89. 1.5\n",
       "90. 1.3\n",
       "91. 1.2\n",
       "92. 1.5\n",
       "93. 1.3\n",
       "94. 1.1\n",
       "95. 1.4\n",
       "96. 1\n",
       "97. 1.1\n",
       "98. 1.4\n",
       "99. 1.5\n",
       "100. 2.5\n",
       "101. 2.5\n",
       "102. 2.3\n",
       "103. 1.8\n",
       "104. 1.8\n",
       "105. 1.8\n",
       "106. 1.8\n",
       "107. 2.5\n",
       "108. 2.1\n",
       "109. 2\n",
       "110. 2\n",
       "111. 1.8\n",
       "112. 1.8\n",
       "113. 1.9\n",
       "114. 2\n",
       "115. 2.2\n",
       "116. 2.2\n",
       "117. 2.1\n",
       "118. 2.1\n",
       "119. 1.9\n",
       "120. 1.6\n",
       "121. 2.3\n",
       "122. 2.3\n",
       "123. 2\n",
       "124. 2.1\n",
       "125. 2.1\n",
       "126. 2\n",
       "127. 1.4\n",
       "128. 2.3\n",
       "129. 1.9\n",
       "130. 1.8\n",
       "131. 1.9\n",
       "132. 1.5\n",
       "133. 1.5\n",
       "134. 2.5\n",
       "135. 2\n",
       "136. 2\n",
       "137. 2.4\n",
       "138. 2.1\n",
       "139. 2.3\n",
       "140. 2.1\n",
       "141. 2.3\n",
       "142. 2.3\n",
       "143. 2.4\n",
       "144. 2.3\n",
       "145. 1.8\n",
       "146. 2.1\n",
       "147. 1.8\n",
       "148. 2\n",
       "149. 2.4\n",
       "150. 1.8\n",
       "\n",
       "\n"
      ],
      "text/plain": [
       "  [1] 0.4 0.2 0.2 0.6 0.4 0.2 0.2 0.1 0.2 0.1 0.2 0.1 0.2 0.2 0.4 0.2 0.4 0.2\n",
       " [19] 0.2 0.3 0.1 0.2 0.3 0.3 0.3 0.2 0.2 0.2 0.2 0.2 0.2 0.2 0.4 0.4 0.3 0.3\n",
       " [37] 0.2 0.2 0.2 0.3 0.1 2.0 0.2 0.3 0.2 0.5 0.2 0.2 0.2 0.2 1.5 1.0 1.0 1.6\n",
       " [55] 1.4 1.0 1.3 1.3 1.5 1.3 1.3 1.3 1.3 1.3 1.5 1.2 1.4 1.6 1.2 1.4 1.6 1.5\n",
       " [73] 1.5 1.5 1.1 1.4 1.5 1.4 1.3 1.3 1.0 1.5 1.3 1.7 1.2 1.3 1.0 1.3 1.5 1.3\n",
       " [91] 1.2 1.5 1.3 1.1 1.4 1.0 1.1 1.4 1.5 2.5 2.5 2.3 1.8 1.8 1.8 1.8 2.5 2.1\n",
       "[109] 2.0 2.0 1.8 1.8 1.9 2.0 2.2 2.2 2.1 2.1 1.9 1.6 2.3 2.3 2.0 2.1 2.1 2.0\n",
       "[127] 1.4 2.3 1.9 1.8 1.9 1.5 1.5 2.5 2.0 2.0 2.4 2.1 2.3 2.1 2.3 2.3 2.4 2.3\n",
       "[145] 1.8 2.1 1.8 2.0 2.4 1.8"
      ]
     },
     "metadata": {},
     "output_type": "display_data"
    }
   ],
   "source": [
    "seqImpute <- function(x, last=max(x, na.rm=TRUE)){\n",
    "  n <- length(x)\n",
    "  x <- c(x, last)\n",
    "  i <- is.na(x)\n",
    "  while (any(i)){\n",
    "    x[i] <- x[which(i)+1]\n",
    "    i <- is.na(x)\n",
    "  }\n",
    "  x[1:n]\n",
    "}\n",
    "\n",
    "o <- order(iris$Species)\n",
    "petal_width <- iris$Petal.Width[o]\n",
    "petal_width_hd <- seqImpute(petal_width)\n",
    "petal_width_hd"
   ]
  },
  {
   "cell_type": "code",
   "execution_count": 142,
   "metadata": {
    "slideshow": {
     "slide_type": "subslide"
    }
   },
   "outputs": [
    {
     "data": {
      "text/html": [
       "<table>\n",
       "<caption>A data.frame: 20 × 5</caption>\n",
       "<thead>\n",
       "\t<tr><th></th><th scope=col>Sepal.Length</th><th scope=col>Sepal.Width</th><th scope=col>Petal.Length</th><th scope=col>Petal.Width</th><th scope=col>Species</th></tr>\n",
       "\t<tr><th></th><th scope=col>&lt;dbl&gt;</th><th scope=col>&lt;dbl&gt;</th><th scope=col>&lt;dbl&gt;</th><th scope=col>&lt;dbl&gt;</th><th scope=col>&lt;chr&gt;</th></tr>\n",
       "</thead>\n",
       "<tbody>\n",
       "\t<tr><th scope=row>1</th><td>6.4</td><td> 3.2</td><td>4.5</td><td>1.5</td><td>versicolor</td></tr>\n",
       "\t<tr><th scope=row>2</th><td>6.3</td><td> 3.3</td><td>6.0</td><td>2.5</td><td>virginica </td></tr>\n",
       "\t<tr><th scope=row>3</th><td>6.2</td><td>  NA</td><td>5.4</td><td>2.3</td><td>virginica </td></tr>\n",
       "\t<tr><th scope=row>4</th><td>5.0</td><td> 3.4</td><td>1.6</td><td>0.4</td><td>setosa    </td></tr>\n",
       "\t<tr><th scope=row>5</th><td>5.7</td><td> 2.6</td><td>3.5</td><td>1.0</td><td>versicolor</td></tr>\n",
       "\t<tr><th scope=row>6</th><td>5.3</td><td>  NA</td><td> NA</td><td>0.2</td><td>setosa    </td></tr>\n",
       "\t<tr><th scope=row>7</th><td>6.4</td><td> 2.7</td><td>5.3</td><td>1.8</td><td>virginica </td></tr>\n",
       "\t<tr><th scope=row>8</th><td>5.9</td><td> 3.0</td><td>5.1</td><td>1.8</td><td>virginica </td></tr>\n",
       "\t<tr><th scope=row>9</th><td>5.8</td><td> 2.7</td><td>4.1</td><td>1.0</td><td>versicolor</td></tr>\n",
       "\t<tr><th scope=row>10</th><td>4.8</td><td> 3.1</td><td>1.6</td><td>0.2</td><td>setosa    </td></tr>\n",
       "\t<tr><th scope=row>11</th><td>5.0</td><td> 3.5</td><td>1.6</td><td>0.6</td><td>setosa    </td></tr>\n",
       "\t<tr><th scope=row>12</th><td>6.0</td><td> 2.7</td><td>5.1</td><td>1.6</td><td>versicolor</td></tr>\n",
       "\t<tr><th scope=row>13</th><td>6.0</td><td> 3.0</td><td>4.8</td><td>1.8</td><td>virginica </td></tr>\n",
       "\t<tr><th scope=row>14</th><td>6.8</td><td> 2.8</td><td>4.8</td><td>1.4</td><td>versicolor</td></tr>\n",
       "\t<tr><th scope=row>15</th><td> NA</td><td> 3.9</td><td>1.7</td><td>0.4</td><td>setosa    </td></tr>\n",
       "\t<tr><th scope=row>16</th><td>5.0</td><td>-3.0</td><td>3.5</td><td>1.0</td><td>versicolor</td></tr>\n",
       "\t<tr><th scope=row>17</th><td>5.5</td><td>  NA</td><td>4.0</td><td>1.3</td><td>versicolor</td></tr>\n",
       "\t<tr><th scope=row>18</th><td>4.7</td><td> 3.2</td><td>1.3</td><td>0.2</td><td>setosa    </td></tr>\n",
       "\t<tr><th scope=row>19</th><td> NA</td><td> 4.0</td><td> NA</td><td>0.2</td><td>setosa    </td></tr>\n",
       "\t<tr><th scope=row>20</th><td>5.6</td><td>  NA</td><td>4.2</td><td>1.3</td><td>versicolor</td></tr>\n",
       "</tbody>\n",
       "</table>\n"
      ],
      "text/latex": [
       "A data.frame: 20 × 5\n",
       "\\begin{tabular}{r|lllll}\n",
       "  & Sepal.Length & Sepal.Width & Petal.Length & Petal.Width & Species\\\\\n",
       "  & <dbl> & <dbl> & <dbl> & <dbl> & <chr>\\\\\n",
       "\\hline\n",
       "\t1 & 6.4 &  3.2 & 4.5 & 1.5 & versicolor\\\\\n",
       "\t2 & 6.3 &  3.3 & 6.0 & 2.5 & virginica \\\\\n",
       "\t3 & 6.2 &   NA & 5.4 & 2.3 & virginica \\\\\n",
       "\t4 & 5.0 &  3.4 & 1.6 & 0.4 & setosa    \\\\\n",
       "\t5 & 5.7 &  2.6 & 3.5 & 1.0 & versicolor\\\\\n",
       "\t6 & 5.3 &   NA &  NA & 0.2 & setosa    \\\\\n",
       "\t7 & 6.4 &  2.7 & 5.3 & 1.8 & virginica \\\\\n",
       "\t8 & 5.9 &  3.0 & 5.1 & 1.8 & virginica \\\\\n",
       "\t9 & 5.8 &  2.7 & 4.1 & 1.0 & versicolor\\\\\n",
       "\t10 & 4.8 &  3.1 & 1.6 & 0.2 & setosa    \\\\\n",
       "\t11 & 5.0 &  3.5 & 1.6 & 0.6 & setosa    \\\\\n",
       "\t12 & 6.0 &  2.7 & 5.1 & 1.6 & versicolor\\\\\n",
       "\t13 & 6.0 &  3.0 & 4.8 & 1.8 & virginica \\\\\n",
       "\t14 & 6.8 &  2.8 & 4.8 & 1.4 & versicolor\\\\\n",
       "\t15 &  NA &  3.9 & 1.7 & 0.4 & setosa    \\\\\n",
       "\t16 & 5.0 & -3.0 & 3.5 & 1.0 & versicolor\\\\\n",
       "\t17 & 5.5 &   NA & 4.0 & 1.3 & versicolor\\\\\n",
       "\t18 & 4.7 &  3.2 & 1.3 & 0.2 & setosa    \\\\\n",
       "\t19 &  NA &  4.0 &  NA & 0.2 & setosa    \\\\\n",
       "\t20 & 5.6 &   NA & 4.2 & 1.3 & versicolor\\\\\n",
       "\\end{tabular}\n"
      ],
      "text/markdown": [
       "\n",
       "A data.frame: 20 × 5\n",
       "\n",
       "| <!--/--> | Sepal.Length &lt;dbl&gt; | Sepal.Width &lt;dbl&gt; | Petal.Length &lt;dbl&gt; | Petal.Width &lt;dbl&gt; | Species &lt;chr&gt; |\n",
       "|---|---|---|---|---|---|\n",
       "| 1 | 6.4 |  3.2 | 4.5 | 1.5 | versicolor |\n",
       "| 2 | 6.3 |  3.3 | 6.0 | 2.5 | virginica  |\n",
       "| 3 | 6.2 |   NA | 5.4 | 2.3 | virginica  |\n",
       "| 4 | 5.0 |  3.4 | 1.6 | 0.4 | setosa     |\n",
       "| 5 | 5.7 |  2.6 | 3.5 | 1.0 | versicolor |\n",
       "| 6 | 5.3 |   NA |  NA | 0.2 | setosa     |\n",
       "| 7 | 6.4 |  2.7 | 5.3 | 1.8 | virginica  |\n",
       "| 8 | 5.9 |  3.0 | 5.1 | 1.8 | virginica  |\n",
       "| 9 | 5.8 |  2.7 | 4.1 | 1.0 | versicolor |\n",
       "| 10 | 4.8 |  3.1 | 1.6 | 0.2 | setosa     |\n",
       "| 11 | 5.0 |  3.5 | 1.6 | 0.6 | setosa     |\n",
       "| 12 | 6.0 |  2.7 | 5.1 | 1.6 | versicolor |\n",
       "| 13 | 6.0 |  3.0 | 4.8 | 1.8 | virginica  |\n",
       "| 14 | 6.8 |  2.8 | 4.8 | 1.4 | versicolor |\n",
       "| 15 |  NA |  3.9 | 1.7 | 0.4 | setosa     |\n",
       "| 16 | 5.0 | -3.0 | 3.5 | 1.0 | versicolor |\n",
       "| 17 | 5.5 |   NA | 4.0 | 1.3 | versicolor |\n",
       "| 18 | 4.7 |  3.2 | 1.3 | 0.2 | setosa     |\n",
       "| 19 |  NA |  4.0 |  NA | 0.2 | setosa     |\n",
       "| 20 | 5.6 |   NA | 4.2 | 1.3 | versicolor |\n",
       "\n"
      ],
      "text/plain": [
       "   Sepal.Length Sepal.Width Petal.Length Petal.Width Species   \n",
       "1  6.4           3.2        4.5          1.5         versicolor\n",
       "2  6.3           3.3        6.0          2.5         virginica \n",
       "3  6.2            NA        5.4          2.3         virginica \n",
       "4  5.0           3.4        1.6          0.4         setosa    \n",
       "5  5.7           2.6        3.5          1.0         versicolor\n",
       "6  5.3            NA         NA          0.2         setosa    \n",
       "7  6.4           2.7        5.3          1.8         virginica \n",
       "8  5.9           3.0        5.1          1.8         virginica \n",
       "9  5.8           2.7        4.1          1.0         versicolor\n",
       "10 4.8           3.1        1.6          0.2         setosa    \n",
       "11 5.0           3.5        1.6          0.6         setosa    \n",
       "12 6.0           2.7        5.1          1.6         versicolor\n",
       "13 6.0           3.0        4.8          1.8         virginica \n",
       "14 6.8           2.8        4.8          1.4         versicolor\n",
       "15  NA           3.9        1.7          0.4         setosa    \n",
       "16 5.0          -3.0        3.5          1.0         versicolor\n",
       "17 5.5            NA        4.0          1.3         versicolor\n",
       "18 4.7           3.2        1.3          0.2         setosa    \n",
       "19  NA           4.0         NA          0.2         setosa    \n",
       "20 5.6            NA        4.2          1.3         versicolor"
      ]
     },
     "metadata": {},
     "output_type": "display_data"
    }
   ],
   "source": [
    "iris$Petal.Width[o] = petal_width_hd\n",
    "head(iris,20)"
   ]
  },
  {
   "cell_type": "markdown",
   "metadata": {
    "slideshow": {
     "slide_type": "subslide"
    }
   },
   "source": [
    "###  3.3.2 Imputacion kNN\n",
    "En la imputación $kNN$, se define una función de distancia $𝑑(𝑖, 𝑗)$ que calcula una medida de disimilitud entre los registros. Un valor faltante se imputa al encontrar primero los registros más cercanos al registro con uno o más valores faltantes. El paquete VIM continene la función de distancia de Gowers, para determinar el vecino más próximo: \n",
    "\n",
    "<center>$d_g(i,j)= \\frac{\\sum_k w_{ijk} d_k(i,j)}{\\sum_k w_{ijk}}$<center/>"
   ]
  },
  {
   "cell_type": "markdown",
   "metadata": {
    "slideshow": {
     "slide_type": "fragment"
    }
   },
   "source": [
    "donde $d_k(i,j)$ es la distancia entre los registros $i,j$ para la variable $k$. Para variables categóricas, $d_k(i,j)=0$ cuando los valores de $k$ en los registros $i,j$ son iguales, de lo contrario $d=1$. En el caso de las variables numéricas, la distancia se define como:  \n",
    "  \n",
    "  \n",
    "\n",
    " $d_k(i,j)=\\frac{1-(x_i - x_j)}{max(x)-min(x)}$. El peso $w_{ijk}=0$ cuando la $k$-ésima variable sea faltante en el registro $i$ o el registro $j$ y 1 de cualquier otra forma."
   ]
  },
  {
   "cell_type": "code",
   "execution_count": 146,
   "metadata": {
    "slideshow": {
     "slide_type": "skip"
    }
   },
   "outputs": [],
   "source": [
    "#install.packages(\"VIM\")\n",
    "library(VIM)\n",
    "#install.packages(\"colorspace\")\n",
    "library(colorspace)\n",
    "#install.packages(\"grid\")\n",
    "library(grid)\n",
    "#install.packages(\"data.table\")\n",
    "library(data.table)\n",
    "#install.packages(\"igraph\")\n",
    "library(igraph)\n",
    "#install.packages(\"rspa\")\n",
    "library(rspa)"
   ]
  },
  {
   "cell_type": "code",
   "execution_count": 147,
   "metadata": {
    "slideshow": {
     "slide_type": "fragment"
    }
   },
   "outputs": [],
   "source": [
    "data(iris)\n",
    "n <- nrow(iris)\n",
    "# provide some empty values (10 in each column, randomly)\n",
    "for (i in 1:ncol(iris)) {\n",
    "iris[sample(1:n, 10, replace = FALSE), i] <- NA\n",
    "}"
   ]
  },
  {
   "cell_type": "code",
   "execution_count": 149,
   "metadata": {
    "slideshow": {
     "slide_type": "subslide"
    }
   },
   "outputs": [
    {
     "data": {
      "text/html": [
       "<table>\n",
       "<caption>A data.frame: 15 × 10</caption>\n",
       "<thead>\n",
       "\t<tr><th></th><th scope=col>Sepal.Length</th><th scope=col>Sepal.Width</th><th scope=col>Petal.Length</th><th scope=col>Petal.Width</th><th scope=col>Species</th><th scope=col>Sepal.Length_imp</th><th scope=col>Sepal.Width_imp</th><th scope=col>Petal.Length_imp</th><th scope=col>Petal.Width_imp</th><th scope=col>Species_imp</th></tr>\n",
       "\t<tr><th></th><th scope=col>&lt;dbl&gt;</th><th scope=col>&lt;dbl&gt;</th><th scope=col>&lt;dbl&gt;</th><th scope=col>&lt;dbl&gt;</th><th scope=col>&lt;fct&gt;</th><th scope=col>&lt;lgl&gt;</th><th scope=col>&lt;lgl&gt;</th><th scope=col>&lt;lgl&gt;</th><th scope=col>&lt;lgl&gt;</th><th scope=col>&lt;lgl&gt;</th></tr>\n",
       "</thead>\n",
       "<tbody>\n",
       "\t<tr><th scope=row>1</th><td>5.1</td><td>3.5</td><td>1.4</td><td>0.2</td><td>setosa</td><td>FALSE</td><td>FALSE</td><td>FALSE</td><td>FALSE</td><td>FALSE</td></tr>\n",
       "\t<tr><th scope=row>2</th><td>4.9</td><td>3.0</td><td>1.4</td><td>0.2</td><td>setosa</td><td>FALSE</td><td>FALSE</td><td>FALSE</td><td>FALSE</td><td>FALSE</td></tr>\n",
       "\t<tr><th scope=row>3</th><td>4.7</td><td>3.2</td><td>1.3</td><td>0.2</td><td>setosa</td><td>FALSE</td><td>FALSE</td><td>FALSE</td><td>FALSE</td><td>FALSE</td></tr>\n",
       "\t<tr><th scope=row>4</th><td>4.6</td><td>3.1</td><td>1.5</td><td>0.2</td><td>setosa</td><td>FALSE</td><td>FALSE</td><td>FALSE</td><td>FALSE</td><td>FALSE</td></tr>\n",
       "\t<tr><th scope=row>5</th><td>5.0</td><td>3.6</td><td>1.4</td><td>0.2</td><td>setosa</td><td>FALSE</td><td>FALSE</td><td>FALSE</td><td>FALSE</td><td>FALSE</td></tr>\n",
       "\t<tr><th scope=row>6</th><td>5.4</td><td>3.9</td><td>1.7</td><td>0.4</td><td>setosa</td><td>FALSE</td><td>FALSE</td><td>FALSE</td><td>FALSE</td><td>FALSE</td></tr>\n",
       "\t<tr><th scope=row>7</th><td>4.6</td><td>3.4</td><td>1.4</td><td>0.2</td><td>setosa</td><td>FALSE</td><td>FALSE</td><td>FALSE</td><td> TRUE</td><td>FALSE</td></tr>\n",
       "\t<tr><th scope=row>8</th><td>5.0</td><td>3.4</td><td>1.5</td><td>0.2</td><td>setosa</td><td>FALSE</td><td>FALSE</td><td>FALSE</td><td>FALSE</td><td>FALSE</td></tr>\n",
       "\t<tr><th scope=row>9</th><td>4.4</td><td>2.9</td><td>1.4</td><td>0.2</td><td>setosa</td><td>FALSE</td><td>FALSE</td><td>FALSE</td><td>FALSE</td><td>FALSE</td></tr>\n",
       "\t<tr><th scope=row>10</th><td>4.9</td><td>3.0</td><td>1.5</td><td>0.1</td><td>setosa</td><td>FALSE</td><td> TRUE</td><td>FALSE</td><td>FALSE</td><td>FALSE</td></tr>\n",
       "\t<tr><th scope=row>11</th><td>5.4</td><td>3.7</td><td>1.5</td><td>0.2</td><td>setosa</td><td>FALSE</td><td>FALSE</td><td>FALSE</td><td>FALSE</td><td>FALSE</td></tr>\n",
       "\t<tr><th scope=row>12</th><td>5.2</td><td>3.4</td><td>1.6</td><td>0.2</td><td>setosa</td><td> TRUE</td><td>FALSE</td><td>FALSE</td><td>FALSE</td><td>FALSE</td></tr>\n",
       "\t<tr><th scope=row>13</th><td>4.8</td><td>3.0</td><td>1.4</td><td>0.1</td><td>setosa</td><td>FALSE</td><td>FALSE</td><td>FALSE</td><td>FALSE</td><td>FALSE</td></tr>\n",
       "\t<tr><th scope=row>14</th><td>4.9</td><td>3.0</td><td>1.1</td><td>0.1</td><td>setosa</td><td> TRUE</td><td>FALSE</td><td>FALSE</td><td>FALSE</td><td>FALSE</td></tr>\n",
       "\t<tr><th scope=row>15</th><td>5.8</td><td>4.0</td><td>1.2</td><td>0.2</td><td>setosa</td><td>FALSE</td><td>FALSE</td><td>FALSE</td><td>FALSE</td><td>FALSE</td></tr>\n",
       "</tbody>\n",
       "</table>\n"
      ],
      "text/latex": [
       "A data.frame: 15 × 10\n",
       "\\begin{tabular}{r|llllllllll}\n",
       "  & Sepal.Length & Sepal.Width & Petal.Length & Petal.Width & Species & Sepal.Length\\_imp & Sepal.Width\\_imp & Petal.Length\\_imp & Petal.Width\\_imp & Species\\_imp\\\\\n",
       "  & <dbl> & <dbl> & <dbl> & <dbl> & <fct> & <lgl> & <lgl> & <lgl> & <lgl> & <lgl>\\\\\n",
       "\\hline\n",
       "\t1 & 5.1 & 3.5 & 1.4 & 0.2 & setosa & FALSE & FALSE & FALSE & FALSE & FALSE\\\\\n",
       "\t2 & 4.9 & 3.0 & 1.4 & 0.2 & setosa & FALSE & FALSE & FALSE & FALSE & FALSE\\\\\n",
       "\t3 & 4.7 & 3.2 & 1.3 & 0.2 & setosa & FALSE & FALSE & FALSE & FALSE & FALSE\\\\\n",
       "\t4 & 4.6 & 3.1 & 1.5 & 0.2 & setosa & FALSE & FALSE & FALSE & FALSE & FALSE\\\\\n",
       "\t5 & 5.0 & 3.6 & 1.4 & 0.2 & setosa & FALSE & FALSE & FALSE & FALSE & FALSE\\\\\n",
       "\t6 & 5.4 & 3.9 & 1.7 & 0.4 & setosa & FALSE & FALSE & FALSE & FALSE & FALSE\\\\\n",
       "\t7 & 4.6 & 3.4 & 1.4 & 0.2 & setosa & FALSE & FALSE & FALSE &  TRUE & FALSE\\\\\n",
       "\t8 & 5.0 & 3.4 & 1.5 & 0.2 & setosa & FALSE & FALSE & FALSE & FALSE & FALSE\\\\\n",
       "\t9 & 4.4 & 2.9 & 1.4 & 0.2 & setosa & FALSE & FALSE & FALSE & FALSE & FALSE\\\\\n",
       "\t10 & 4.9 & 3.0 & 1.5 & 0.1 & setosa & FALSE &  TRUE & FALSE & FALSE & FALSE\\\\\n",
       "\t11 & 5.4 & 3.7 & 1.5 & 0.2 & setosa & FALSE & FALSE & FALSE & FALSE & FALSE\\\\\n",
       "\t12 & 5.2 & 3.4 & 1.6 & 0.2 & setosa &  TRUE & FALSE & FALSE & FALSE & FALSE\\\\\n",
       "\t13 & 4.8 & 3.0 & 1.4 & 0.1 & setosa & FALSE & FALSE & FALSE & FALSE & FALSE\\\\\n",
       "\t14 & 4.9 & 3.0 & 1.1 & 0.1 & setosa &  TRUE & FALSE & FALSE & FALSE & FALSE\\\\\n",
       "\t15 & 5.8 & 4.0 & 1.2 & 0.2 & setosa & FALSE & FALSE & FALSE & FALSE & FALSE\\\\\n",
       "\\end{tabular}\n"
      ],
      "text/markdown": [
       "\n",
       "A data.frame: 15 × 10\n",
       "\n",
       "| <!--/--> | Sepal.Length &lt;dbl&gt; | Sepal.Width &lt;dbl&gt; | Petal.Length &lt;dbl&gt; | Petal.Width &lt;dbl&gt; | Species &lt;fct&gt; | Sepal.Length_imp &lt;lgl&gt; | Sepal.Width_imp &lt;lgl&gt; | Petal.Length_imp &lt;lgl&gt; | Petal.Width_imp &lt;lgl&gt; | Species_imp &lt;lgl&gt; |\n",
       "|---|---|---|---|---|---|---|---|---|---|---|\n",
       "| 1 | 5.1 | 3.5 | 1.4 | 0.2 | setosa | FALSE | FALSE | FALSE | FALSE | FALSE |\n",
       "| 2 | 4.9 | 3.0 | 1.4 | 0.2 | setosa | FALSE | FALSE | FALSE | FALSE | FALSE |\n",
       "| 3 | 4.7 | 3.2 | 1.3 | 0.2 | setosa | FALSE | FALSE | FALSE | FALSE | FALSE |\n",
       "| 4 | 4.6 | 3.1 | 1.5 | 0.2 | setosa | FALSE | FALSE | FALSE | FALSE | FALSE |\n",
       "| 5 | 5.0 | 3.6 | 1.4 | 0.2 | setosa | FALSE | FALSE | FALSE | FALSE | FALSE |\n",
       "| 6 | 5.4 | 3.9 | 1.7 | 0.4 | setosa | FALSE | FALSE | FALSE | FALSE | FALSE |\n",
       "| 7 | 4.6 | 3.4 | 1.4 | 0.2 | setosa | FALSE | FALSE | FALSE |  TRUE | FALSE |\n",
       "| 8 | 5.0 | 3.4 | 1.5 | 0.2 | setosa | FALSE | FALSE | FALSE | FALSE | FALSE |\n",
       "| 9 | 4.4 | 2.9 | 1.4 | 0.2 | setosa | FALSE | FALSE | FALSE | FALSE | FALSE |\n",
       "| 10 | 4.9 | 3.0 | 1.5 | 0.1 | setosa | FALSE |  TRUE | FALSE | FALSE | FALSE |\n",
       "| 11 | 5.4 | 3.7 | 1.5 | 0.2 | setosa | FALSE | FALSE | FALSE | FALSE | FALSE |\n",
       "| 12 | 5.2 | 3.4 | 1.6 | 0.2 | setosa |  TRUE | FALSE | FALSE | FALSE | FALSE |\n",
       "| 13 | 4.8 | 3.0 | 1.4 | 0.1 | setosa | FALSE | FALSE | FALSE | FALSE | FALSE |\n",
       "| 14 | 4.9 | 3.0 | 1.1 | 0.1 | setosa |  TRUE | FALSE | FALSE | FALSE | FALSE |\n",
       "| 15 | 5.8 | 4.0 | 1.2 | 0.2 | setosa | FALSE | FALSE | FALSE | FALSE | FALSE |\n",
       "\n"
      ],
      "text/plain": [
       "   Sepal.Length Sepal.Width Petal.Length Petal.Width Species Sepal.Length_imp\n",
       "1  5.1          3.5         1.4          0.2         setosa  FALSE           \n",
       "2  4.9          3.0         1.4          0.2         setosa  FALSE           \n",
       "3  4.7          3.2         1.3          0.2         setosa  FALSE           \n",
       "4  4.6          3.1         1.5          0.2         setosa  FALSE           \n",
       "5  5.0          3.6         1.4          0.2         setosa  FALSE           \n",
       "6  5.4          3.9         1.7          0.4         setosa  FALSE           \n",
       "7  4.6          3.4         1.4          0.2         setosa  FALSE           \n",
       "8  5.0          3.4         1.5          0.2         setosa  FALSE           \n",
       "9  4.4          2.9         1.4          0.2         setosa  FALSE           \n",
       "10 4.9          3.0         1.5          0.1         setosa  FALSE           \n",
       "11 5.4          3.7         1.5          0.2         setosa  FALSE           \n",
       "12 5.2          3.4         1.6          0.2         setosa   TRUE           \n",
       "13 4.8          3.0         1.4          0.1         setosa  FALSE           \n",
       "14 4.9          3.0         1.1          0.1         setosa   TRUE           \n",
       "15 5.8          4.0         1.2          0.2         setosa  FALSE           \n",
       "   Sepal.Width_imp Petal.Length_imp Petal.Width_imp Species_imp\n",
       "1  FALSE           FALSE            FALSE           FALSE      \n",
       "2  FALSE           FALSE            FALSE           FALSE      \n",
       "3  FALSE           FALSE            FALSE           FALSE      \n",
       "4  FALSE           FALSE            FALSE           FALSE      \n",
       "5  FALSE           FALSE            FALSE           FALSE      \n",
       "6  FALSE           FALSE            FALSE           FALSE      \n",
       "7  FALSE           FALSE             TRUE           FALSE      \n",
       "8  FALSE           FALSE            FALSE           FALSE      \n",
       "9  FALSE           FALSE            FALSE           FALSE      \n",
       "10  TRUE           FALSE            FALSE           FALSE      \n",
       "11 FALSE           FALSE            FALSE           FALSE      \n",
       "12 FALSE           FALSE            FALSE           FALSE      \n",
       "13 FALSE           FALSE            FALSE           FALSE      \n",
       "14 FALSE           FALSE            FALSE           FALSE      \n",
       "15 FALSE           FALSE            FALSE           FALSE      "
      ]
     },
     "metadata": {},
     "output_type": "display_data"
    }
   ],
   "source": [
    "iris2 <- kNN(iris)\n",
    "head(iris2,15)"
   ]
  },
  {
   "cell_type": "markdown",
   "metadata": {
    "slideshow": {
     "slide_type": "subslide"
    }
   },
   "source": [
    "### 3.3.4  Valor mínimo de ajuste\n",
    "\n",
    "Una vez que los valores numéricos faltantes se han imputado adecuadamente, existe una buena posibilidad de que los registros resultantes violen una serie de reglas de edición. La razón obvia es que no hay muchos métodos que puedan realizar la imputación bajo restricciones de edición arbitrarias. Por lo tanto, una opción viable es ajustar mínimamente los valores imputados de modo que después del ajuste el registro pase cada verificación de edición dentro de una cierta tolerancia."
   ]
  },
  {
   "cell_type": "markdown",
   "metadata": {
    "slideshow": {
     "slide_type": "fragment"
    }
   },
   "source": [
    "Necesitamos especificar más claramente qué significa el ajuste mínimo aquí. El paquete rspa puede tomar un registro numérico 𝒙 y reemplazarlo con un registro 𝒙, de modo que el valor ponderado\n",
    "\n",
    "distancia euclidiana\n",
    "\n",
    "se minimiza y 𝒙 obedece a un conjunto determinado de restricciones de (in) igualdad\n",
    "𝑨𝒙 ≤ 𝒃."
   ]
  },
  {
   "cell_type": "code",
   "execution_count": 150,
   "metadata": {
    "slideshow": {
     "slide_type": "subslide"
    }
   },
   "outputs": [],
   "source": [
    "library(editrules)\n",
    "library(rspa)\n",
    "E <- editmatrix(expression(x + y == z, x >= 0, y >= 0))\n",
    "d <- data.frame(x = 10, y = 10, z = 21)"
   ]
  },
  {
   "cell_type": "code",
   "execution_count": 160,
   "metadata": {
    "slideshow": {
     "slide_type": "subslide"
    }
   },
   "outputs": [
    {
     "name": "stderr",
     "output_type": "stream",
     "text": [
      "Warning message:\n",
      "\"'adjustRecords' is deprecated.\n",
      "Use 'match_restrictions' instead.\n",
      "See help(\"Deprecated\")\"\n",
      "Warning message:\n",
      "\"'adjust.matrix' is deprecated.\n",
      "Use 'lintools::project' instead.\n",
      "See help(\"Deprecated\")\"\n"
     ]
    },
    {
     "data": {
      "text/html": [
       "<table>\n",
       "<caption>A data.frame: 1 × 3</caption>\n",
       "<thead>\n",
       "\t<tr><th scope=col>x</th><th scope=col>y</th><th scope=col>z</th></tr>\n",
       "\t<tr><th scope=col>&lt;dbl&gt;</th><th scope=col>&lt;dbl&gt;</th><th scope=col>&lt;dbl&gt;</th></tr>\n",
       "</thead>\n",
       "<tbody>\n",
       "\t<tr><td>10.33333</td><td>10.33333</td><td>20.66667</td></tr>\n",
       "</tbody>\n",
       "</table>\n"
      ],
      "text/latex": [
       "A data.frame: 1 × 3\n",
       "\\begin{tabular}{lll}\n",
       " x & y & z\\\\\n",
       " <dbl> & <dbl> & <dbl>\\\\\n",
       "\\hline\n",
       "\t 10.33333 & 10.33333 & 20.66667\\\\\n",
       "\\end{tabular}\n"
      ],
      "text/markdown": [
       "\n",
       "A data.frame: 1 × 3\n",
       "\n",
       "| x &lt;dbl&gt; | y &lt;dbl&gt; | z &lt;dbl&gt; |\n",
       "|---|---|---|\n",
       "| 10.33333 | 10.33333 | 20.66667 |\n",
       "\n"
      ],
      "text/plain": [
       "  x        y        z       \n",
       "1 10.33333 10.33333 20.66667"
      ]
     },
     "metadata": {},
     "output_type": "display_data"
    }
   ],
   "source": [
    "d1 <- adjustRecords(E, d)\n",
    "d1$adjusted\n"
   ]
  },
  {
   "cell_type": "code",
   "execution_count": 153,
   "metadata": {
    "scrolled": true,
    "slideshow": {
     "slide_type": "fragment"
    }
   },
   "outputs": [
    {
     "data": {
      "text/plain": [
       "      edit\n",
       "record  num1  num2  num3\n",
       "     1 FALSE FALSE FALSE"
      ]
     },
     "metadata": {},
     "output_type": "display_data"
    }
   ],
   "source": [
    "violatedEdits(E, d1$adjusted, tol = 0.01)"
   ]
  },
  {
   "cell_type": "code",
   "execution_count": 156,
   "metadata": {
    "scrolled": true,
    "slideshow": {
     "slide_type": "subslide"
    }
   },
   "outputs": [
    {
     "name": "stderr",
     "output_type": "stream",
     "text": [
      "Warning message:\n",
      "\"'adjustRecords' is deprecated.\n",
      "Use 'match_restrictions' instead.\n",
      "See help(\"Deprecated\")\"\n",
      "Warning message:\n",
      "\"'adjust.matrix' is deprecated.\n",
      "Use 'lintools::project' instead.\n",
      "See help(\"Deprecated\")\"\n"
     ]
    },
    {
     "data": {
      "text/html": [
       "<table>\n",
       "<caption>A data.frame: 1 × 3</caption>\n",
       "<thead>\n",
       "\t<tr><th scope=col>x</th><th scope=col>y</th><th scope=col>z</th></tr>\n",
       "\t<tr><th scope=col>&lt;dbl&gt;</th><th scope=col>&lt;dbl&gt;</th><th scope=col>&lt;dbl&gt;</th></tr>\n",
       "</thead>\n",
       "<tbody>\n",
       "\t<tr><td>10</td><td>10</td><td>20</td></tr>\n",
       "</tbody>\n",
       "</table>\n"
      ],
      "text/latex": [
       "A data.frame: 1 × 3\n",
       "\\begin{tabular}{lll}\n",
       " x & y & z\\\\\n",
       " <dbl> & <dbl> & <dbl>\\\\\n",
       "\\hline\n",
       "\t 10 & 10 & 20\\\\\n",
       "\\end{tabular}\n"
      ],
      "text/markdown": [
       "\n",
       "A data.frame: 1 × 3\n",
       "\n",
       "| x &lt;dbl&gt; | y &lt;dbl&gt; | z &lt;dbl&gt; |\n",
       "|---|---|---|\n",
       "| 10 | 10 | 20 |\n",
       "\n"
      ],
      "text/plain": [
       "  x  y  z \n",
       "1 10 10 20"
      ]
     },
     "metadata": {},
     "output_type": "display_data"
    }
   ],
   "source": [
    "A <- array(c(x = FALSE, y = FALSE, z = TRUE), dim = c(1, 3))\n",
    "d2 <- adjustRecords(E, d, adjust = A)\n",
    "d2$adjusted"
   ]
  },
  {
   "cell_type": "markdown",
   "metadata": {
    "slideshow": {
     "slide_type": "subslide"
    }
   },
   "source": [
    "<center><img src=\"C:\\Users\\allan\\Desktop\\proyecto\\FB.jpg\" width=\"600\" height=\"600\" /></center>   "
   ]
  }
 ],
 "metadata": {
  "celltoolbar": "Slideshow",
  "kernelspec": {
   "display_name": "R",
   "language": "R",
   "name": "ir"
  },
  "language_info": {
   "codemirror_mode": "r",
   "file_extension": ".r",
   "mimetype": "text/x-r-source",
   "name": "R",
   "pygments_lexer": "r",
   "version": "3.6.2"
  }
 },
 "nbformat": 4,
 "nbformat_minor": 2
}
