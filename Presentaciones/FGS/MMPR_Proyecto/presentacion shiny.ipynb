{
 "cells": [
  {
   "cell_type": "markdown",
   "metadata": {
    "slideshow": {
     "slide_type": "slide"
    }
   },
   "source": [
    "\n",
    "                                 \n",
    "<center><img src=\"shiny.png\" width=\"400\" height=\"200\" /></center>"
   ]
  },
  {
   "cell_type": "markdown",
   "metadata": {
    "slideshow": {
     "slide_type": "slide"
    }
   },
   "source": [
    "## <center> ¿Qué es Shiny?</center>\n",
    "\n",
    "<p style=\"text-align: justify;\">Shiny es un paquete de R que permite de una manera sencilla e interactiva crear aplicaciones web desde RStudio. Es posible guardar aplicaciones en una pagina web o insertarlas en documentos R Markdown. También es posible extender las Shiny apps con CSS themes, htmlwidgets y JavaScript actions.</p>"
   ]
  },
  {
   "cell_type": "markdown",
   "metadata": {
    "slideshow": {
     "slide_type": "slide"
    }
   },
   "source": [
    "## <center>¿Como crear un shiny app? </center>\n",
    "<p style=\"text-align: justify;\"> Las shiny apps estan contenidas en un script llamado app.R (o en dos scripts llamados ui.R y server.R), la cual tiene 3 componentes: el interfaz de usuario, <strong>ui</strong>, que controla la apariencia  y el layout; la funcion <strong>server</strong>, que contiene las instrucciones para construir la aplicación; y la función <strong>shinyApp</strong> que compila <strong>ui</strong> y <strong>server</strong> para crear la aplicación. Estas funciones cuentan con inputs, los cuales recolectan los datos de los usuarios, y outputs que son los inputs transformado por el <strong>server</strong> y presentados en la interfaz. </p> "
   ]
  },
  {
   "cell_type": "markdown",
   "metadata": {
    "slideshow": {
     "slide_type": "slide"
    }
   },
   "source": [
    " Para crear un shiny app  debemos abrir un nuevo archivo en R studio de tipo<strong> Shiny App</strong>\n",
    "<center><img src=\"primera.png\" width=\"900\" height=\"900\" /></center>"
   ]
  },
  {
   "cell_type": "markdown",
   "metadata": {
    "slideshow": {
     "slide_type": "slide"
    }
   },
   "source": [
    "\n",
    "<p style=\"text-align: justify;\">Son necesarios los paquetes <strong>shiny</strong>  y <strong>rsconnect</strong>  en los archivos ui.R y server.R . Los inputs y outputs del paquete básico son : </p>\n",
    "\n"
   ]
  },
  {
   "cell_type": "markdown",
   "metadata": {
    "slideshow": {
     "slide_type": "subslide"
    }
   },
   "source": [
    "|       INPUTS     |       OUTPUTS      |\n",
    "|:------------------:|:------------------:|\n",
    "|    actionButton    |   dataTableOutput  |\n",
    "|     actionLink     |     imageOutput    |\n",
    "| checkboxGroupInput |     plotOutput     |\n",
    "|    checkboxInput   | verbatimTextOutput |\n",
    "|      dateInput     |     tableOutput    |\n",
    "|   dateRangeInput   |     textOutput     |\n",
    "|      fileInput     |      uiOutput      |\n",
    "|    passwordInput   |     htmlOutput     |\n",
    "|    radioButtons    |                    |\n",
    "|     selectInput    |                    |\n",
    "|     sliderInput    |                    |\n",
    "|    submitButton    |                    |\n",
    "|      textInput     |                    |\n",
    "|                    |                    |"
   ]
  },
  {
   "cell_type": "code",
   "execution_count": 1,
   "metadata": {
    "slideshow": {
     "slide_type": "notes"
    }
   },
   "outputs": [],
   "source": [
    "from IPython.core.display import HTML\n"
   ]
  },
  {
   "cell_type": "code",
   "execution_count": 16,
   "metadata": {
    "slideshow": {
     "slide_type": "slide"
    }
   },
   "outputs": [
    {
     "data": {
      "text/html": [
       "<iframe src=\"https://shiny.rstudio.com/gallery/widget-gallery.html\" width=\"100%\" height=\"600px\"></iframe>\n"
      ],
      "text/plain": [
       "<IPython.core.display.HTML object>"
      ]
     },
     "metadata": {},
     "output_type": "display_data"
    }
   ],
   "source": [
    "%%html\n",
    "<iframe src=\"https://shiny.rstudio.com/gallery/widget-gallery.html\" width=\"100%\" height=\"600px\"></iframe>"
   ]
  },
  {
   "cell_type": "markdown",
   "metadata": {
    "slideshow": {
     "slide_type": "slide"
    }
   },
   "source": [
    "## Ejemplos de aplicaciones interactivas\n",
    "<center><img src=\"aplicacionesweb.png\" width=\"300\" height=\"100\" /></center>\n"
   ]
  },
  {
   "cell_type": "code",
   "execution_count": 17,
   "metadata": {
    "slideshow": {
     "slide_type": "subslide"
    }
   },
   "outputs": [
    {
     "data": {
      "text/html": [
       "<iframe src=\"https://shiny.rstudio.com/gallery/faithful.html\" width=\"100%\" height=\"600px\"></iframe>\n"
      ],
      "text/plain": [
       "<IPython.core.display.HTML object>"
      ]
     },
     "metadata": {},
     "output_type": "display_data"
    }
   ],
   "source": [
    "%%html\n",
    "<iframe src=\"https://shiny.rstudio.com/gallery/faithful.html\" width=\"100%\" height=\"600px\"></iframe>"
   ]
  },
  {
   "cell_type": "code",
   "execution_count": 18,
   "metadata": {
    "slideshow": {
     "slide_type": "subslide"
    }
   },
   "outputs": [
    {
     "data": {
      "text/html": [
       "<iframe src=\"https://roolzpolo.shinyapps.io/regresion_interactiva/\" width=\"100%\" height=\"600px\"></iframe>\n"
      ],
      "text/plain": [
       "<IPython.core.display.HTML object>"
      ]
     },
     "metadata": {},
     "output_type": "display_data"
    }
   ],
   "source": [
    "%%html\n",
    "<iframe src=\"https://roolzpolo.shinyapps.io/regresion_interactiva/\" width=\"100%\" height=\"600px\"></iframe>"
   ]
  },
  {
   "cell_type": "code",
   "execution_count": 19,
   "metadata": {
    "slideshow": {
     "slide_type": "subslide"
    }
   },
   "outputs": [
    {
     "data": {
      "text/html": [
       "<iframe src=\"https://roolzpolo.shinyapps.io/forecast_interactivo/\" width=\"100%\" height=\"600px\"></iframe>\n",
       "\n"
      ],
      "text/plain": [
       "<IPython.core.display.HTML object>"
      ]
     },
     "metadata": {},
     "output_type": "display_data"
    }
   ],
   "source": [
    "%%html\n",
    "<iframe src=\"https://roolzpolo.shinyapps.io/forecast_interactivo/\" width=\"100%\" height=\"600px\"></iframe>\n",
    "\n"
   ]
  },
  {
   "cell_type": "markdown",
   "metadata": {
    "slideshow": {
     "slide_type": "slide"
    }
   },
   "source": [
    " ## Pasos para publicar una Shiny App\n",
    " \n",
    "<center><img src=\"C:\\Users\\IN_CAP02\\Desktop\\shiny app\\prueba\\aplicacion.jpg\" width=\"600\" height=\"400\" /></center>"
   ]
  },
  {
   "cell_type": "markdown",
   "metadata": {
    "slideshow": {
     "slide_type": "subslide"
    }
   },
   "source": [
    "<p style=\"text-align: justify;\"> Se debe crear una cuenta en <strong>shinyapps.io</strong> para poder publicar la aplicacion.</p>\n",
    "<center><img src=\"cuarta.png\" width=\"700\" height=\"600\" /></center>"
   ]
  },
  {
   "cell_type": "markdown",
   "metadata": {
    "slideshow": {
     "slide_type": "subslide"
    }
   },
   "source": [
    "<p style=\"text-align: justify;\">En nuestra cuenta de Shinyapps.io se generara un token \n",
    "    con el que se autoriza a RStudio a publicar en nuestra cuenta. El token generado en nuestra cuenta debe ejecutarse en consola en RStudio \n",
    "o agregarse en el cajon de <strong>Publish</strong>.</p> \n",
    "<center><img src=\"quinta.png\" width=\"3000\" height=\"3000\" /></center>"
   ]
  },
  {
   "cell_type": "markdown",
   "metadata": {
    "slideshow": {
     "slide_type": "subslide"
    }
   },
   "source": [
    "\n",
    "<center><img src=\"sexta.png\" width=\"3000\" height=\"3000\" /></center>"
   ]
  },
  {
   "cell_type": "markdown",
   "metadata": {
    "slideshow": {
     "slide_type": "subslide"
    }
   },
   "source": [
    "<center><img src=\"septima.png\" width=\"3000\" height=\"3000\" /></center>"
   ]
  },
  {
   "cell_type": "markdown",
   "metadata": {
    "slideshow": {
     "slide_type": "subslide"
    }
   },
   "source": [
    "Se ingresa el token en el siguiente campo.\n",
    "<center><img src=\"octava.png\" width=\"3000\" height=\"3000\" /></center>"
   ]
  },
  {
   "cell_type": "markdown",
   "metadata": {
    "slideshow": {
     "slide_type": "slide"
    }
   },
   "source": [
    "[Cheat sheet de Shiny](https://shiny.rstudio.com/images/shiny-cheatsheet.pdf)"
   ]
  }
 ],
 "metadata": {
  "celltoolbar": "Slideshow",
  "kernelspec": {
   "display_name": "Python 3",
   "language": "python",
   "name": "python3"
  },
  "language_info": {
   "codemirror_mode": {
    "name": "ipython",
    "version": 3
   },
   "file_extension": ".py",
   "mimetype": "text/x-python",
   "name": "python",
   "nbconvert_exporter": "python",
   "pygments_lexer": "ipython3",
   "version": "3.7.4"
  }
 },
 "nbformat": 4,
 "nbformat_minor": 2
}
