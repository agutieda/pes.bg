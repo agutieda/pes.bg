{
 "cells": [
  {
   "cell_type": "markdown",
   "metadata": {
    "slideshow": {
     "slide_type": "slide"
    }
   },
   "source": [
    "<center><img src=\"C:\\Users\\IN_CAP02\\Desktop\\Presentación\\Imagen.png\" width: \"400\" height=\"200\"/></center>"
   ]
  },
  {
   "cell_type": "markdown",
   "metadata": {
    "slideshow": {
     "slide_type": "slide"
    }
   },
   "source": [
    "# RIESGO CREDITICIO (Credit Risk)  \n",
    "## *Modelado en R*"
   ]
  },
  {
   "cell_type": "markdown",
   "metadata": {
    "slideshow": {
     "slide_type": "slide"
    }
   },
   "source": [
    "## Introducción"
   ]
  },
  {
   "cell_type": "markdown",
   "metadata": {
    "slideshow": {
     "slide_type": "subslide"
    }
   },
   "source": [
    "<center><img src=\"C:\\Users\\IN_CAP02\\Desktop\\Presentación\\Imagen1.png\" width: \"400\" height=\"200\"/></center>"
   ]
  },
  {
   "cell_type": "markdown",
   "metadata": {
    "slideshow": {
     "slide_type": "subslide"
    }
   },
   "source": [
    "### Definición:  \n",
    "\n",
    "\"Es la posibilidad de pérdida debido al incumplimiento del prestatario o la contraparte en operaciones directas, indirectas o de derivados que conlleva el no pago, el pago parcial o la falta de oportunidad en el pago de las obligaciones pactadas.” \n"
   ]
  },
  {
   "cell_type": "markdown",
   "metadata": {
    "slideshow": {
     "slide_type": "subslide"
    }
   },
   "source": [
    "### Componentes de la Pérdida Esperada: \n",
    "- Probabilidad de incumplimiento (PD)\n",
    "- Exposición de incumplimiento (EAD)\n",
    "- Pérdida dado el incumplimiento (LGD)  \n",
    "\n",
    "\n",
    "\\begin{align}\n",
    "EL & = PD x EAD x LGD\n",
    "\\end{align}"
   ]
  },
  {
   "cell_type": "markdown",
   "metadata": {
    "slideshow": {
     "slide_type": "subslide"
    }
   },
   "source": [
    "### Información utilizada por los bancos\n",
    "\n",
    "- De aplicación:\n",
    "    - Ingresos\n",
    "    - Estado Civil \n",
    "    - Edad\n",
    "\n",
    "- De comportamiento: \n",
    "    - Saldo de cuenta corriente\n",
    "    - Pagos atrasados en el historial de la cuenta \n",
    "    "
   ]
  },
  {
   "cell_type": "markdown",
   "metadata": {
    "slideshow": {
     "slide_type": "skip"
    }
   },
   "source": [
    "## Base de Datos\n",
    "\n",
    "Antes de entrar en cualquier análisis sofisticado, el primer paso es hacer un Análisis exploratorio de Data (EDA) y limpiar los datos. Con el fin de poder generar tablas apropiadas y estadísticas resumidas."
   ]
  },
  {
   "cell_type": "markdown",
   "metadata": {
    "slideshow": {
     "slide_type": "subslide"
    }
   },
   "source": [
    "## Información de Aplicación: \n"
   ]
  },
  {
   "cell_type": "code",
   "execution_count": 27,
   "metadata": {
    "scrolled": false,
    "slideshow": {
     "slide_type": "subslide"
    }
   },
   "outputs": [
    {
     "data": {
      "text/html": [
       "<table>\n",
       "<thead><tr><th scope=col>Propósito del crédito</th><th scope=col>Puntuación</th></tr></thead>\n",
       "<tbody>\n",
       "\t<tr><td>Carro nuevo                </td><td>1                          </td></tr>\n",
       "\t<tr><td>Carro usado                </td><td>2                          </td></tr>\n",
       "\t<tr><td>Mobiliaria y Equipo        </td><td>3                          </td></tr>\n",
       "\t<tr><td>Tecnología                 </td><td>4                          </td></tr>\n",
       "\t<tr><td>Electrodomésticos          </td><td>5                          </td></tr>\n",
       "\t<tr><td>Reparaciones               </td><td>6                          </td></tr>\n",
       "\t<tr><td>Educación                  </td><td>7                          </td></tr>\n",
       "\t<tr><td>Vacaciones                 </td><td>8                          </td></tr>\n",
       "\t<tr><td>Capacitación               </td><td>9                          </td></tr>\n",
       "\t<tr><td>Negocios                   </td><td>10                         </td></tr>\n",
       "\t<tr><td>Otros                      </td><td>0                          </td></tr>\n",
       "\t<tr><td>Monto del Crédito          </td><td>Puntuación                 </td></tr>\n",
       "\t<tr><td>Menor a 500                </td><td>10                         </td></tr>\n",
       "\t<tr><td>500 a 1000                 </td><td>9                          </td></tr>\n",
       "\t<tr><td>1000 a 1500                </td><td>8                          </td></tr>\n",
       "\t<tr><td>1500 a 2500                </td><td>7                          </td></tr>\n",
       "\t<tr><td>2500 a 5000                </td><td>6                          </td></tr>\n",
       "\t<tr><td>5000 a 7500                </td><td>5                          </td></tr>\n",
       "\t<tr><td>7500 a 10000               </td><td>4                          </td></tr>\n",
       "\t<tr><td>10000 a 15000              </td><td>3                          </td></tr>\n",
       "\t<tr><td>15000 a 20000              </td><td>2                          </td></tr>\n",
       "\t<tr><td>Mayor a 20000              </td><td>1                          </td></tr>\n",
       "\t<tr><td>Años de Estabilidad Laboral</td><td>Puntuación                 </td></tr>\n",
       "\t<tr><td>Desempleado                </td><td>1                          </td></tr>\n",
       "\t<tr><td>Menor a 1                  </td><td>2                          </td></tr>\n",
       "\t<tr><td>1 a 4                      </td><td>3                          </td></tr>\n",
       "\t<tr><td>4 a 7                      </td><td>4                          </td></tr>\n",
       "\t<tr><td>Mayor a 7                  </td><td>5                          </td></tr>\n",
       "\t<tr><td>Estado Civil y Sexo        </td><td>Puntuación                 </td></tr>\n",
       "\t<tr><td>Hombre divorciado/vive solo</td><td>1                          </td></tr>\n",
       "\t<tr><td>...</td><td>...</td></tr>\n",
       "\t<tr><td>Mayor a 65                   </td><td>4                            </td></tr>\n",
       "\t<tr><td>Tipo de apartamento          </td><td>Puntuación                   </td></tr>\n",
       "\t<tr><td>Rentado                      </td><td>2                            </td></tr>\n",
       "\t<tr><td>Propietario                  </td><td>3                            </td></tr>\n",
       "\t<tr><td>Apartamento Gratis           </td><td>1                            </td></tr>\n",
       "\t<tr><td>Ocupación                    </td><td>Puntuación                   </td></tr>\n",
       "\t<tr><td>Desempleado                  </td><td>1                            </td></tr>\n",
       "\t<tr><td>Desempleado con vivienda     </td><td>2                            </td></tr>\n",
       "\t<tr><td>Empleado                     </td><td>3                            </td></tr>\n",
       "\t<tr><td>Ejecutivo/Emprendedor        </td><td>4                            </td></tr>\n",
       "\t<tr><td>Número de personas a cargo   </td><td>Puntuación                   </td></tr>\n",
       "\t<tr><td>De 0 a 2                     </td><td>2                            </td></tr>\n",
       "\t<tr><td>3 o más                      </td><td>1                            </td></tr>\n",
       "\t<tr><td>Teléfono                     </td><td>Puntuación                   </td></tr>\n",
       "\t<tr><td>Si                           </td><td>2                            </td></tr>\n",
       "\t<tr><td>No                           </td><td>1                            </td></tr>\n",
       "\t<tr><td>Trabajador extranjero        </td><td>Puntuación                   </td></tr>\n",
       "\t<tr><td>Si                           </td><td>1                            </td></tr>\n",
       "\t<tr><td>No                           </td><td>2                            </td></tr>\n",
       "\t<tr><td>Duración del préstamo (meses)</td><td>Puntuación                   </td></tr>\n",
       "\t<tr><td>Menor a 6                    </td><td>10                           </td></tr>\n",
       "\t<tr><td>6 a 12                       </td><td>9                            </td></tr>\n",
       "\t<tr><td>12 a 18                      </td><td>8                            </td></tr>\n",
       "\t<tr><td>18 a 24                      </td><td>7                            </td></tr>\n",
       "\t<tr><td>24 a 30                      </td><td>6                            </td></tr>\n",
       "\t<tr><td>30 a 36                      </td><td>5                            </td></tr>\n",
       "\t<tr><td>36 a 42                      </td><td>4                            </td></tr>\n",
       "\t<tr><td>42 a 48                      </td><td>3                            </td></tr>\n",
       "\t<tr><td>48 a 54                      </td><td>2                            </td></tr>\n",
       "\t<tr><td>54                           </td><td>1                            </td></tr>\n",
       "</tbody>\n",
       "</table>\n"
      ],
      "text/latex": [
       "\\begin{tabular}{r|ll}\n",
       " Propósito del crédito & Puntuación\\\\\n",
       "\\hline\n",
       "\t Carro nuevo                 & 1                          \\\\\n",
       "\t Carro usado                 & 2                          \\\\\n",
       "\t Mobiliaria y Equipo         & 3                          \\\\\n",
       "\t Tecnología                  & 4                          \\\\\n",
       "\t Electrodomésticos           & 5                          \\\\\n",
       "\t Reparaciones                & 6                          \\\\\n",
       "\t Educación                   & 7                          \\\\\n",
       "\t Vacaciones                  & 8                          \\\\\n",
       "\t Capacitación                & 9                          \\\\\n",
       "\t Negocios                    & 10                         \\\\\n",
       "\t Otros                       & 0                          \\\\\n",
       "\t Monto del Crédito           & Puntuación                 \\\\\n",
       "\t Menor a 500                 & 10                         \\\\\n",
       "\t 500 a 1000                  & 9                          \\\\\n",
       "\t 1000 a 1500                 & 8                          \\\\\n",
       "\t 1500 a 2500                 & 7                          \\\\\n",
       "\t 2500 a 5000                 & 6                          \\\\\n",
       "\t 5000 a 7500                 & 5                          \\\\\n",
       "\t 7500 a 10000                & 4                          \\\\\n",
       "\t 10000 a 15000               & 3                          \\\\\n",
       "\t 15000 a 20000               & 2                          \\\\\n",
       "\t Mayor a 20000               & 1                          \\\\\n",
       "\t Años de Estabilidad Laboral & Puntuación                 \\\\\n",
       "\t Desempleado                 & 1                          \\\\\n",
       "\t Menor a 1                   & 2                          \\\\\n",
       "\t 1 a 4                       & 3                          \\\\\n",
       "\t 4 a 7                       & 4                          \\\\\n",
       "\t Mayor a 7                   & 5                          \\\\\n",
       "\t Estado Civil y Sexo         & Puntuación                 \\\\\n",
       "\t Hombre divorciado/vive solo & 1                          \\\\\n",
       "\t ... & ...\\\\\n",
       "\t Mayor a 65                    & 4                            \\\\\n",
       "\t Tipo de apartamento           & Puntuación                   \\\\\n",
       "\t Rentado                       & 2                            \\\\\n",
       "\t Propietario                   & 3                            \\\\\n",
       "\t Apartamento Gratis            & 1                            \\\\\n",
       "\t Ocupación                     & Puntuación                   \\\\\n",
       "\t Desempleado                   & 1                            \\\\\n",
       "\t Desempleado con vivienda      & 2                            \\\\\n",
       "\t Empleado                      & 3                            \\\\\n",
       "\t Ejecutivo/Emprendedor         & 4                            \\\\\n",
       "\t Número de personas a cargo    & Puntuación                   \\\\\n",
       "\t De 0 a 2                      & 2                            \\\\\n",
       "\t 3 o más                       & 1                            \\\\\n",
       "\t Teléfono                      & Puntuación                   \\\\\n",
       "\t Si                            & 2                            \\\\\n",
       "\t No                            & 1                            \\\\\n",
       "\t Trabajador extranjero         & Puntuación                   \\\\\n",
       "\t Si                            & 1                            \\\\\n",
       "\t No                            & 2                            \\\\\n",
       "\t Duración del préstamo (meses) & Puntuación                   \\\\\n",
       "\t Menor a 6                     & 10                           \\\\\n",
       "\t 6 a 12                        & 9                            \\\\\n",
       "\t 12 a 18                       & 8                            \\\\\n",
       "\t 18 a 24                       & 7                            \\\\\n",
       "\t 24 a 30                       & 6                            \\\\\n",
       "\t 30 a 36                       & 5                            \\\\\n",
       "\t 36 a 42                       & 4                            \\\\\n",
       "\t 42 a 48                       & 3                            \\\\\n",
       "\t 48 a 54                       & 2                            \\\\\n",
       "\t 54                            & 1                            \\\\\n",
       "\\end{tabular}\n"
      ],
      "text/markdown": [
       "\n",
       "| Propósito del crédito | Puntuación |\n",
       "|---|---|\n",
       "| Carro nuevo                 | 1                           |\n",
       "| Carro usado                 | 2                           |\n",
       "| Mobiliaria y Equipo         | 3                           |\n",
       "| Tecnología                  | 4                           |\n",
       "| Electrodomésticos           | 5                           |\n",
       "| Reparaciones                | 6                           |\n",
       "| Educación                   | 7                           |\n",
       "| Vacaciones                  | 8                           |\n",
       "| Capacitación                | 9                           |\n",
       "| Negocios                    | 10                          |\n",
       "| Otros                       | 0                           |\n",
       "| Monto del Crédito           | Puntuación                  |\n",
       "| Menor a 500                 | 10                          |\n",
       "| 500 a 1000                  | 9                           |\n",
       "| 1000 a 1500                 | 8                           |\n",
       "| 1500 a 2500                 | 7                           |\n",
       "| 2500 a 5000                 | 6                           |\n",
       "| 5000 a 7500                 | 5                           |\n",
       "| 7500 a 10000                | 4                           |\n",
       "| 10000 a 15000               | 3                           |\n",
       "| 15000 a 20000               | 2                           |\n",
       "| Mayor a 20000               | 1                           |\n",
       "| Años de Estabilidad Laboral | Puntuación                  |\n",
       "| Desempleado                 | 1                           |\n",
       "| Menor a 1                   | 2                           |\n",
       "| 1 a 4                       | 3                           |\n",
       "| 4 a 7                       | 4                           |\n",
       "| Mayor a 7                   | 5                           |\n",
       "| Estado Civil y Sexo         | Puntuación                  |\n",
       "| Hombre divorciado/vive solo | 1                           |\n",
       "| ... | ... |\n",
       "| Mayor a 65                    | 4                             |\n",
       "| Tipo de apartamento           | Puntuación                    |\n",
       "| Rentado                       | 2                             |\n",
       "| Propietario                   | 3                             |\n",
       "| Apartamento Gratis            | 1                             |\n",
       "| Ocupación                     | Puntuación                    |\n",
       "| Desempleado                   | 1                             |\n",
       "| Desempleado con vivienda      | 2                             |\n",
       "| Empleado                      | 3                             |\n",
       "| Ejecutivo/Emprendedor         | 4                             |\n",
       "| Número de personas a cargo    | Puntuación                    |\n",
       "| De 0 a 2                      | 2                             |\n",
       "| 3 o más                       | 1                             |\n",
       "| Teléfono                      | Puntuación                    |\n",
       "| Si                            | 2                             |\n",
       "| No                            | 1                             |\n",
       "| Trabajador extranjero         | Puntuación                    |\n",
       "| Si                            | 1                             |\n",
       "| No                            | 2                             |\n",
       "| Duración del préstamo (meses) | Puntuación                    |\n",
       "| Menor a 6                     | 10                            |\n",
       "| 6 a 12                        | 9                             |\n",
       "| 12 a 18                       | 8                             |\n",
       "| 18 a 24                       | 7                             |\n",
       "| 24 a 30                       | 6                             |\n",
       "| 30 a 36                       | 5                             |\n",
       "| 36 a 42                       | 4                             |\n",
       "| 42 a 48                       | 3                             |\n",
       "| 48 a 54                       | 2                             |\n",
       "| 54                            | 1                             |\n",
       "\n"
      ],
      "text/plain": [
       "    Propósito del crédito         Puntuación\n",
       "1   Carro nuevo                   1         \n",
       "2   Carro usado                   2         \n",
       "3   Mobiliaria y Equipo           3         \n",
       "4   Tecnología                    4         \n",
       "5   Electrodomésticos             5         \n",
       "6   Reparaciones                  6         \n",
       "7   Educación                     7         \n",
       "8   Vacaciones                    8         \n",
       "9   Capacitación                  9         \n",
       "10  Negocios                      10        \n",
       "11  Otros                         0         \n",
       "12  Monto del Crédito             Puntuación\n",
       "13  Menor a 500                   10        \n",
       "14  500 a 1000                    9         \n",
       "15  1000 a 1500                   8         \n",
       "16  1500 a 2500                   7         \n",
       "17  2500 a 5000                   6         \n",
       "18  5000 a 7500                   5         \n",
       "19  7500 a 10000                  4         \n",
       "20  10000 a 15000                 3         \n",
       "21  15000 a 20000                 2         \n",
       "22  Mayor a 20000                 1         \n",
       "23  Años de Estabilidad Laboral   Puntuación\n",
       "24  Desempleado                   1         \n",
       "25  Menor a 1                     2         \n",
       "26  1 a 4                         3         \n",
       "27  4 a 7                         4         \n",
       "28  Mayor a 7                     5         \n",
       "29  Estado Civil y Sexo           Puntuación\n",
       "30  Hombre divorciado/vive solo   1         \n",
       "... ...                           ...       \n",
       "53  Mayor a 65                    4         \n",
       "54  Tipo de apartamento           Puntuación\n",
       "55  Rentado                       2         \n",
       "56  Propietario                   3         \n",
       "57  Apartamento Gratis            1         \n",
       "58  Ocupación                     Puntuación\n",
       "59  Desempleado                   1         \n",
       "60  Desempleado con vivienda      2         \n",
       "61  Empleado                      3         \n",
       "62  Ejecutivo/Emprendedor         4         \n",
       "63  Número de personas a cargo    Puntuación\n",
       "64  De 0 a 2                      2         \n",
       "65  3 o más                       1         \n",
       "66  Teléfono                      Puntuación\n",
       "67  Si                            2         \n",
       "68  No                            1         \n",
       "69  Trabajador extranjero         Puntuación\n",
       "70  Si                            1         \n",
       "71  No                            2         \n",
       "72  Duración del préstamo (meses) Puntuación\n",
       "73  Menor a 6                     10        \n",
       "74  6 a 12                        9         \n",
       "75  12 a 18                       8         \n",
       "76  18 a 24                       7         \n",
       "77  24 a 30                       6         \n",
       "78  30 a 36                       5         \n",
       "79  36 a 42                       4         \n",
       "80  42 a 48                       3         \n",
       "81  48 a 54                       2         \n",
       "82  54                            1         "
      ]
     },
     "metadata": {},
     "output_type": "display_data"
    }
   ],
   "source": [
    "library(readxl)\n",
    "A1 <- read_excel(\"~/Documents/Programa de estudios superiores/Programacion II/Presentación/Apendice.xlsx\", \n",
    "    sheet = \"Aplicacion\")\n",
    "A1"
   ]
  },
  {
   "cell_type": "markdown",
   "metadata": {
    "slideshow": {
     "slide_type": "subslide"
    }
   },
   "source": [
    "## Información de Comportamiento"
   ]
  },
  {
   "cell_type": "code",
   "execution_count": 28,
   "metadata": {
    "slideshow": {
     "slide_type": "subslide"
    }
   },
   "outputs": [
    {
     "data": {
      "text/html": [
       "<table>\n",
       "<thead><tr><th scope=col>Pago de préstamos anteriores</th><th scope=col>Puntuación</th></tr></thead>\n",
       "<tbody>\n",
       "\t<tr><td>No existen prestamos anteriores                     </td><td>2                                                   </td></tr>\n",
       "\t<tr><td>Créditos pagados (en este banco)                    </td><td>4                                                   </td></tr>\n",
       "\t<tr><td>No existe mora con créditos actuales (en este banco)</td><td>3                                                   </td></tr>\n",
       "\t<tr><td>Pagos pendientes de créditos anteriores             </td><td>0                                                   </td></tr>\n",
       "\t<tr><td>Cuenta corriente problemática                       </td><td>1                                                   </td></tr>\n",
       "\t<tr><td>Saldo de Cuenta Corriente                           </td><td>Puntuación                                          </td></tr>\n",
       "\t<tr><td>No existe saldo o debitos                           </td><td>2                                                   </td></tr>\n",
       "\t<tr><td><span style=white-space:pre-wrap>0 &lt;= x &lt; 200                                        </span></td><td><span style=white-space:pre-wrap>3         </span>                                                </td></tr>\n",
       "\t<tr><td><span style=white-space:pre-wrap>&gt;= 200                                              </span></td><td><span style=white-space:pre-wrap>4         </span>                                             </td></tr>\n",
       "\t<tr><td>No posee cuenta                                     </td><td>1                                                   </td></tr>\n",
       "\t<tr><td>Valor actual de ahorros                             </td><td>Puntuación                                          </td></tr>\n",
       "\t<tr><td>Menores a 100                                       </td><td>2                                                   </td></tr>\n",
       "\t<tr><td>100 a 500                                           </td><td>3                                                   </td></tr>\n",
       "\t<tr><td>500 a 1000                                          </td><td>4                                                   </td></tr>\n",
       "\t<tr><td>Mayores a 1000                                      </td><td>5                                                   </td></tr>\n",
       "\t<tr><td>No posee                                            </td><td>1                                                   </td></tr>\n",
       "\t<tr><td>Porcentaje disponible de ingresos                   </td><td>Puntuación                                          </td></tr>\n",
       "\t<tr><td>Mayor a 35                                          </td><td>1                                                   </td></tr>\n",
       "\t<tr><td>25 a 35                                             </td><td>2                                                   </td></tr>\n",
       "\t<tr><td>20 a 25                                             </td><td>3                                                   </td></tr>\n",
       "\t<tr><td>Menor a 20                                          </td><td>4                                                   </td></tr>\n",
       "\t<tr><td>Créditos actuales                                   </td><td>Puntuación                                          </td></tr>\n",
       "\t<tr><td>En otros bancos                                     </td><td>1                                                   </td></tr>\n",
       "\t<tr><td>En tiendas                                          </td><td>2                                                   </td></tr>\n",
       "\t<tr><td>No créditos actuales                                </td><td>3                                                   </td></tr>\n",
       "\t<tr><td>Número de créditos anteriores                       </td><td>Puntuación                                          </td></tr>\n",
       "\t<tr><td>1                                                   </td><td>1                                                   </td></tr>\n",
       "\t<tr><td>2 o 3                                               </td><td>2                                                   </td></tr>\n",
       "\t<tr><td>4 o 5                                               </td><td>3                                                   </td></tr>\n",
       "\t<tr><td>6 o más                                             </td><td>4                                                   </td></tr>\n",
       "</tbody>\n",
       "</table>\n"
      ],
      "text/latex": [
       "\\begin{tabular}{r|ll}\n",
       " Pago de préstamos anteriores & Puntuación\\\\\n",
       "\\hline\n",
       "\t No existen prestamos anteriores                      & 2                                                   \\\\\n",
       "\t Créditos pagados (en este banco)                     & 4                                                   \\\\\n",
       "\t No existe mora con créditos actuales (en este banco) & 3                                                   \\\\\n",
       "\t Pagos pendientes de créditos anteriores              & 0                                                   \\\\\n",
       "\t Cuenta corriente problemática                        & 1                                                   \\\\\n",
       "\t Saldo de Cuenta Corriente                            & Puntuación                                          \\\\\n",
       "\t No existe saldo o debitos                            & 2                                                   \\\\\n",
       "\t 0 <= x < 200                                         & 3                                                   \\\\\n",
       "\t >= 200                                               & 4                                                   \\\\\n",
       "\t No posee cuenta                                      & 1                                                   \\\\\n",
       "\t Valor actual de ahorros                              & Puntuación                                          \\\\\n",
       "\t Menores a 100                                        & 2                                                   \\\\\n",
       "\t 100 a 500                                            & 3                                                   \\\\\n",
       "\t 500 a 1000                                           & 4                                                   \\\\\n",
       "\t Mayores a 1000                                       & 5                                                   \\\\\n",
       "\t No posee                                             & 1                                                   \\\\\n",
       "\t Porcentaje disponible de ingresos                    & Puntuación                                          \\\\\n",
       "\t Mayor a 35                                           & 1                                                   \\\\\n",
       "\t 25 a 35                                              & 2                                                   \\\\\n",
       "\t 20 a 25                                              & 3                                                   \\\\\n",
       "\t Menor a 20                                           & 4                                                   \\\\\n",
       "\t Créditos actuales                                    & Puntuación                                          \\\\\n",
       "\t En otros bancos                                      & 1                                                   \\\\\n",
       "\t En tiendas                                           & 2                                                   \\\\\n",
       "\t No créditos actuales                                 & 3                                                   \\\\\n",
       "\t Número de créditos anteriores                        & Puntuación                                          \\\\\n",
       "\t 1                                                    & 1                                                   \\\\\n",
       "\t 2 o 3                                                & 2                                                   \\\\\n",
       "\t 4 o 5                                                & 3                                                   \\\\\n",
       "\t 6 o más                                              & 4                                                   \\\\\n",
       "\\end{tabular}\n"
      ],
      "text/markdown": [
       "\n",
       "| Pago de préstamos anteriores | Puntuación |\n",
       "|---|---|\n",
       "| No existen prestamos anteriores                      | 2                                                    |\n",
       "| Créditos pagados (en este banco)                     | 4                                                    |\n",
       "| No existe mora con créditos actuales (en este banco) | 3                                                    |\n",
       "| Pagos pendientes de créditos anteriores              | 0                                                    |\n",
       "| Cuenta corriente problemática                        | 1                                                    |\n",
       "| Saldo de Cuenta Corriente                            | Puntuación                                           |\n",
       "| No existe saldo o debitos                            | 2                                                    |\n",
       "| 0 <= x < 200                                         | 3                                                    |\n",
       "| >= 200                                               | 4                                                    |\n",
       "| No posee cuenta                                      | 1                                                    |\n",
       "| Valor actual de ahorros                              | Puntuación                                           |\n",
       "| Menores a 100                                        | 2                                                    |\n",
       "| 100 a 500                                            | 3                                                    |\n",
       "| 500 a 1000                                           | 4                                                    |\n",
       "| Mayores a 1000                                       | 5                                                    |\n",
       "| No posee                                             | 1                                                    |\n",
       "| Porcentaje disponible de ingresos                    | Puntuación                                           |\n",
       "| Mayor a 35                                           | 1                                                    |\n",
       "| 25 a 35                                              | 2                                                    |\n",
       "| 20 a 25                                              | 3                                                    |\n",
       "| Menor a 20                                           | 4                                                    |\n",
       "| Créditos actuales                                    | Puntuación                                           |\n",
       "| En otros bancos                                      | 1                                                    |\n",
       "| En tiendas                                           | 2                                                    |\n",
       "| No créditos actuales                                 | 3                                                    |\n",
       "| Número de créditos anteriores                        | Puntuación                                           |\n",
       "| 1                                                    | 1                                                    |\n",
       "| 2 o 3                                                | 2                                                    |\n",
       "| 4 o 5                                                | 3                                                    |\n",
       "| 6 o más                                              | 4                                                    |\n",
       "\n"
      ],
      "text/plain": [
       "   Pago de préstamos anteriores                         Puntuación\n",
       "1  No existen prestamos anteriores                      2         \n",
       "2  Créditos pagados (en este banco)                     4         \n",
       "3  No existe mora con créditos actuales (en este banco) 3         \n",
       "4  Pagos pendientes de créditos anteriores              0         \n",
       "5  Cuenta corriente problemática                        1         \n",
       "6  Saldo de Cuenta Corriente                            Puntuación\n",
       "7  No existe saldo o debitos                            2         \n",
       "8  0 <= x < 200                                         3         \n",
       "9  >= 200                                               4         \n",
       "10 No posee cuenta                                      1         \n",
       "11 Valor actual de ahorros                              Puntuación\n",
       "12 Menores a 100                                        2         \n",
       "13 100 a 500                                            3         \n",
       "14 500 a 1000                                           4         \n",
       "15 Mayores a 1000                                       5         \n",
       "16 No posee                                             1         \n",
       "17 Porcentaje disponible de ingresos                    Puntuación\n",
       "18 Mayor a 35                                           1         \n",
       "19 25 a 35                                              2         \n",
       "20 20 a 25                                              3         \n",
       "21 Menor a 20                                           4         \n",
       "22 Créditos actuales                                    Puntuación\n",
       "23 En otros bancos                                      1         \n",
       "24 En tiendas                                           2         \n",
       "25 No créditos actuales                                 3         \n",
       "26 Número de créditos anteriores                        Puntuación\n",
       "27 1                                                    1         \n",
       "28 2 o 3                                                2         \n",
       "29 4 o 5                                                3         \n",
       "30 6 o más                                              4         "
      ]
     },
     "metadata": {},
     "output_type": "display_data"
    }
   ],
   "source": [
    "library(readxl)\n",
    "A2 <- read_excel(\"~/Documents/Programa de estudios superiores/Programacion II/Presentación/Apendice.xlsx\", \n",
    "    sheet = \"Comportamiento\")\n",
    "A2"
   ]
  },
  {
   "cell_type": "markdown",
   "metadata": {
    "slideshow": {
     "slide_type": "subslide"
    }
   },
   "source": [
    "## Resultado"
   ]
  },
  {
   "cell_type": "code",
   "execution_count": 32,
   "metadata": {
    "scrolled": true,
    "slideshow": {
     "slide_type": "subslide"
    }
   },
   "outputs": [
    {
     "data": {
      "text/html": [
       "<table>\n",
       "<thead><tr><th scope=col>Credibilidad</th><th scope=col>Resultado</th></tr></thead>\n",
       "<tbody>\n",
       "\t<tr><td>Bueno (Apto para crédito)  </td><td>1                          </td></tr>\n",
       "\t<tr><td>Malo (No apto para crédito)</td><td>0                          </td></tr>\n",
       "</tbody>\n",
       "</table>\n"
      ],
      "text/latex": [
       "\\begin{tabular}{r|ll}\n",
       " Credibilidad & Resultado\\\\\n",
       "\\hline\n",
       "\t Bueno (Apto para crédito)   & 1                          \\\\\n",
       "\t Malo (No apto para crédito) & 0                          \\\\\n",
       "\\end{tabular}\n"
      ],
      "text/markdown": [
       "\n",
       "| Credibilidad | Resultado |\n",
       "|---|---|\n",
       "| Bueno (Apto para crédito)   | 1                           |\n",
       "| Malo (No apto para crédito) | 0                           |\n",
       "\n"
      ],
      "text/plain": [
       "  Credibilidad                Resultado\n",
       "1 Bueno (Apto para crédito)   1        \n",
       "2 Malo (No apto para crédito) 0        "
      ]
     },
     "metadata": {},
     "output_type": "display_data"
    }
   ],
   "source": [
    "library(readxl)\n",
    "A3 <- read_excel(\"~/Documents/Programa de estudios superiores/Programacion II/Presentación/Apendice.xlsx\", \n",
    "    sheet = \"Resultado\")\n",
    "A3"
   ]
  },
  {
   "cell_type": "markdown",
   "metadata": {
    "slideshow": {
     "slide_type": "slide"
    }
   },
   "source": [
    "## Arboles de decisión "
   ]
  },
  {
   "cell_type": "markdown",
   "metadata": {
    "slideshow": {
     "slide_type": "subslide"
    }
   },
   "source": [
    "Un método muy utilizado para clasificar a los posibles deudores como buenos o malos, con el fin de evitar el Riesgo de Crédito, es el de un árbol de decisiones. La principal razon por la cual son utilizados, es por su fácil interpretación.  "
   ]
  },
  {
   "cell_type": "markdown",
   "metadata": {
    "slideshow": {
     "slide_type": "subslide"
    }
   },
   "source": [
    "### Ejemplo"
   ]
  },
  {
   "cell_type": "markdown",
   "metadata": {
    "slideshow": {
     "slide_type": "subslide"
    }
   },
   "source": [
    "<center><img src=\"C:\\Users\\IN_CAP02\\Desktop\\Presentación\\Imagen2.png\" width: \"400\" height=\"200\"/></center>"
   ]
  },
  {
   "cell_type": "markdown",
   "metadata": {
    "slideshow": {
     "slide_type": "subslide"
    }
   },
   "source": [
    "### Tipos de arbol de decision "
   ]
  },
  {
   "cell_type": "markdown",
   "metadata": {},
   "source": [
    "<center><img src=\"C:\\Users\\IN_CAP02\\Desktop\\Presentación\\Imagen6.png\" width: \"400\" height=\"200\"/></center>"
   ]
  },
  {
   "cell_type": "markdown",
   "metadata": {
    "slideshow": {
     "slide_type": "subslide"
    }
   },
   "source": [
    "## Paso 1: \n",
    "Importar datos y limpiar.  \n",
    "Crear set de Entrenamiento y Test."
   ]
  },
  {
   "cell_type": "markdown",
   "metadata": {
    "slideshow": {
     "slide_type": "subslide"
    }
   },
   "source": [
    "<center><img src=\"C:\\Users\\IN_CAP02\\Desktop\\Presentación\\Imagen3.png\" width: \"400\" height=\"200\"/></center>"
   ]
  },
  {
   "cell_type": "markdown",
   "metadata": {
    "slideshow": {
     "slide_type": "subslide"
    }
   },
   "source": [
    "## Paso 2: \n",
    "Crear algoritmo de Árbol de Decision.  \n",
    "Se crea el arbol de decision usando los datos de Entrenamiento."
   ]
  },
  {
   "cell_type": "markdown",
   "metadata": {
    "slideshow": {
     "slide_type": "subslide"
    }
   },
   "source": [
    "<center><img src=\"C:\\Users\\IN_CAP02\\Desktop\\Presentación\\Imagen4.png\" width: \"400\" height=\"200\"/></center>"
   ]
  },
  {
   "cell_type": "markdown",
   "metadata": {
    "slideshow": {
     "slide_type": "subslide"
    }
   },
   "source": [
    "## Paso 3: \n",
    "Medir precisión del Árbol.  \n",
    "Con las reglas creadas en el árbol, se aplican a los datos de TEST para realizar predicción y medir precisión del árbol."
   ]
  },
  {
   "cell_type": "markdown",
   "metadata": {
    "slideshow": {
     "slide_type": "subslide"
    }
   },
   "source": [
    "<center><img src=\"C:\\Users\\IN_CAP02\\Desktop\\Presentación\\Imagen5.png\" width: \"400\" height=\"200\"/></center>"
   ]
  },
  {
   "cell_type": "markdown",
   "metadata": {
    "slideshow": {
     "slide_type": "subslide"
    }
   },
   "source": [
    "## Paso 4:\n",
    "Graficar Arbol de Decisión."
   ]
  },
  {
   "cell_type": "markdown",
   "metadata": {
    "slideshow": {
     "slide_type": "slide"
    }
   },
   "source": [
    "### Arbol de clasificacion (Variable dependiente cualitativa)"
   ]
  },
  {
   "cell_type": "markdown",
   "metadata": {
    "slideshow": {
     "slide_type": "slide"
    }
   },
   "source": [
    "## Paquete:\n",
    "install.packages(\"tree\")"
   ]
  },
  {
   "cell_type": "markdown",
   "metadata": {
    "slideshow": {
     "slide_type": "subslide"
    }
   },
   "source": [
    "#### Libreria\n",
    "\n",
    "library(tree)"
   ]
  },
  {
   "cell_type": "code",
   "execution_count": 15,
   "metadata": {
    "slideshow": {
     "slide_type": "subslide"
    }
   },
   "outputs": [],
   "source": [
    "#install.packages(\"tree\")\n",
    "library(tree)"
   ]
  },
  {
   "cell_type": "code",
   "execution_count": 16,
   "metadata": {
    "slideshow": {
     "slide_type": "subslide"
    }
   },
   "outputs": [
    {
     "data": {
      "text/html": [
       "<ol class=list-inline>\n",
       "\t<li>1000</li>\n",
       "\t<li>21</li>\n",
       "</ol>\n"
      ],
      "text/latex": [
       "\\begin{enumerate*}\n",
       "\\item 1000\n",
       "\\item 21\n",
       "\\end{enumerate*}\n"
      ],
      "text/markdown": [
       "1. 1000\n",
       "2. 21\n",
       "\n",
       "\n"
      ],
      "text/plain": [
       "[1] 1000   21"
      ]
     },
     "metadata": {},
     "output_type": "display_data"
    }
   ],
   "source": [
    "#Leer la informacion del CSV\n",
    "german_credit = read.csv(\"C:/Users/Mafer/Documents/PROYECTO/BD 2/german_credit.csv\", header = TRUE, sep = \",\")\n",
    "dim(german_credit)"
   ]
  },
  {
   "cell_type": "code",
   "execution_count": 19,
   "metadata": {
    "slideshow": {
     "slide_type": "subslide"
    }
   },
   "outputs": [
    {
     "data": {
      "text/html": [
       "<ol class=list-inline>\n",
       "\t<li>800</li>\n",
       "\t<li>21</li>\n",
       "</ol>\n"
      ],
      "text/latex": [
       "\\begin{enumerate*}\n",
       "\\item 800\n",
       "\\item 21\n",
       "\\end{enumerate*}\n"
      ],
      "text/markdown": [
       "1. 800\n",
       "2. 21\n",
       "\n",
       "\n"
      ],
      "text/plain": [
       "[1] 800  21"
      ]
     },
     "metadata": {},
     "output_type": "display_data"
    },
    {
     "data": {
      "text/html": [
       "<ol class=list-inline>\n",
       "\t<li>200</li>\n",
       "\t<li>21</li>\n",
       "</ol>\n"
      ],
      "text/latex": [
       "\\begin{enumerate*}\n",
       "\\item 200\n",
       "\\item 21\n",
       "\\end{enumerate*}\n"
      ],
      "text/markdown": [
       "1. 200\n",
       "2. 21\n",
       "\n",
       "\n"
      ],
      "text/plain": [
       "[1] 200  21"
      ]
     },
     "metadata": {},
     "output_type": "display_data"
    }
   ],
   "source": [
    "#Creando set de entrenamiento y test\n",
    "indexes = sample(1:nrow(german_credit), size=0.8*nrow(german_credit)) # Muestra aleatoria de 80% \n",
    "Train80 = german_credit[indexes,] # Entrenamiento\n",
    "dim(Train80)\n",
    "Test20 = german_credit[-indexes,] # Test\n",
    "dim(Test20)"
   ]
  },
  {
   "cell_type": "code",
   "execution_count": 20,
   "metadata": {
    "slideshow": {
     "slide_type": "subslide"
    }
   },
   "outputs": [
    {
     "data": {
      "text/plain": [
       "\n",
       "Classification tree:\n",
       "tree(formula = as.factor(Credibilidad) ~ SCC + DP + PPA + PC + \n",
       "    MC + VAA + AEL + PDI + ECS + COF + VMR + AMV + Edad + CA + \n",
       "    TA + NCA + Ocupacion + NPC + Tel, data = Train50, method = \"class\")\n",
       "Variables actually used in tree construction:\n",
       "[1] \"SCC\" \"DP\"  \"AMV\" \"PPA\" \"MC\"  \"VAA\" \"PC\"  \"AEL\"\n",
       "Number of terminal nodes:  13 \n",
       "Residual mean deviance:  0.9336 = 734.7 / 787 \n",
       "Misclassification error rate: 0.2013 = 161 / 800 "
      ]
     },
     "metadata": {},
     "output_type": "display_data"
    },
    {
     "data": {
      "image/png": "[encoded data removed]",
      "text/plain": [
       "plot without title"
      ]
     },
     "metadata": {},
     "output_type": "display_data"
    }
   ],
   "source": [
    "#CREANDO ARBOL\n",
    "Train80_tree = tree(as.factor(Credibilidad) ~ SCC+DP+PPA+PC+MC+VAA+AEL+PDI+ECS+COF+VMR+AMV+Edad+CA+TA+NCA+Ocupacion+NPC+Tel, data=Train50, method=\"class\")\n",
    "summary(Train80_tree)\n",
    "plot(Train80_tree, type= \"uniform\")\n",
    "text(Train80_tree, pretty=0,cex=0.6)"
   ]
  },
  {
   "cell_type": "markdown",
   "metadata": {
    "slideshow": {
     "slide_type": "subslide"
    }
   },
   "source": [
    "<center><img src=\"C:\\Users\\IN_CAP02\\Desktop\\Presentación\\Imagen7.png\" width: \"400\" height=\"50\"/></center>"
   ]
  },
  {
   "cell_type": "code",
   "execution_count": 22,
   "metadata": {
    "slideshow": {
     "slide_type": "subslide"
    }
   },
   "outputs": [
    {
     "name": "stdout",
     "output_type": "stream",
     "text": [
      "[1] \"La exactitud de la prediccion es:  77\"\n",
      "[1] \"El error de la prediccion es:  23\"\n"
     ]
    },
    {
     "data": {
      "text/plain": [
       "   Test20_prune8_pred\n",
       "      0   1\n",
       "  0  39  21\n",
       "  1  22 118"
      ]
     },
     "metadata": {},
     "output_type": "display_data"
    },
    {
     "name": "stdout",
     "output_type": "stream",
     "text": [
      "[1] \"La exactitud de la prediccion es:  78.5\"\n",
      "[1] \"El error de la prediccion es:  21.5\"\n"
     ]
    }
   ],
   "source": [
    "# Prediccion con los datos de test.\n",
    "\n",
    "Test20_pred = predict(Train80_tree, Test20, type=\"class\")\n",
    "\n",
    "MC1 = table(Test20_pred, Test20$Credibilidad)\n",
    "acierto1<-(sum(diag(MC1))/sum(MC1))*100\n",
    "print(paste('La exactitud de la prediccion es: ', acierto1))\n",
    "\n",
    "error1 = 100-acierto1\n",
    "print(paste('El error de la prediccion es: ', error1))\n",
    "\n",
    "Train80_prune8 <- prune.misclass(Train80_tree, best=8)\n",
    "\n",
    "Test20_prune8_pred <- predict(Train80_prune8, Test20, type=\"class\")\n",
    "\n",
    "MC = table(Test20$Credibilidad,Test20_prune8_pred)\n",
    "MC\n",
    "acierto<-(sum(diag(MC))/sum(MC))*100\n",
    "print(paste('La exactitud de la prediccion es: ', acierto))\n",
    "\n",
    "error = 100-acierto\n",
    "print(paste('El error de la prediccion es: ', error))"
   ]
  },
  {
   "cell_type": "markdown",
   "metadata": {
    "slideshow": {
     "slide_type": "slide"
    }
   },
   "source": [
    "## Paquete:\n",
    "install.packages(\"rpart\")  \n",
    "install.packages(\"rpart.plot\")"
   ]
  },
  {
   "cell_type": "markdown",
   "metadata": {
    "slideshow": {
     "slide_type": "subslide"
    }
   },
   "source": [
    "#### Libreria\n",
    "\n",
    "library(rpart)  \n",
    "library(rpart.plot)"
   ]
  },
  {
   "cell_type": "code",
   "execution_count": 2,
   "metadata": {
    "scrolled": true
   },
   "outputs": [
    {
     "name": "stderr",
     "output_type": "stream",
     "text": [
      "Installing package into 'C:/Users/Mafer/Documents/R/win-library/3.6'\n",
      "(as 'lib' is unspecified)\n",
      "Warning message:\n",
      "\"package 'rpart' is in use and will not be installed\"Installing package into 'C:/Users/Mafer/Documents/R/win-library/3.6'\n",
      "(as 'lib' is unspecified)\n",
      "Warning message:\n",
      "\"package 'rpart.plot' is in use and will not be installed\""
     ]
    }
   ],
   "source": [
    "install.packages(\"rpart\")  \n",
    "install.packages(\"rpart.plot\")"
   ]
  },
  {
   "cell_type": "code",
   "execution_count": 3,
   "metadata": {
    "slideshow": {
     "slide_type": "subslide"
    }
   },
   "outputs": [],
   "source": [
    "#Llamando a las librerias \n",
    "library(rpart)  \n",
    "library(rpart.plot)"
   ]
  },
  {
   "cell_type": "code",
   "execution_count": 10,
   "metadata": {
    "slideshow": {
     "slide_type": "subslide"
    }
   },
   "outputs": [
    {
     "name": "stdout",
     "output_type": "stream",
     "text": [
      "'data.frame':\t1000 obs. of  21 variables:\n",
      " $ Credibilidad: int  1 1 1 1 1 1 1 1 1 1 ...\n",
      " $ SCC         : int  1 1 2 1 1 1 1 1 4 2 ...\n",
      " $ DP          : int  18 9 12 12 12 10 8 6 18 24 ...\n",
      " $ PPA         : int  4 4 2 4 4 4 4 4 4 2 ...\n",
      " $ PC          : int  2 0 9 0 0 0 0 0 3 3 ...\n",
      " $ MC          : int  1049 2799 841 2122 2171 2241 3398 1361 1098 3758 ...\n",
      " $ VAA         : int  1 1 2 1 1 1 1 1 1 3 ...\n",
      " $ AEL         : int  2 3 4 3 3 2 4 2 1 1 ...\n",
      " $ PDI         : int  4 2 2 3 4 1 1 2 4 1 ...\n",
      " $ ECS         : int  2 3 2 3 3 3 3 3 2 2 ...\n",
      " $ COF         : int  1 1 1 1 1 1 1 1 1 1 ...\n",
      " $ VMR         : int  4 2 4 2 4 3 4 4 4 4 ...\n",
      " $ AMV         : int  2 1 1 1 2 1 1 1 3 4 ...\n",
      " $ Edad        : int  21 36 23 39 38 48 39 40 65 23 ...\n",
      " $ CA          : int  3 3 3 3 1 3 3 3 3 3 ...\n",
      " $ TA          : int  1 1 1 1 2 1 2 2 2 1 ...\n",
      " $ NCA         : int  1 2 1 2 2 2 2 1 2 1 ...\n",
      " $ Ocupacion   : int  3 3 2 2 2 2 2 2 1 1 ...\n",
      " $ NPC         : int  1 2 1 2 1 2 1 2 1 1 ...\n",
      " $ Tel         : int  1 1 1 1 1 1 1 1 1 1 ...\n",
      " $ TE          : int  1 1 1 2 2 2 2 2 1 1 ...\n"
     ]
    },
    {
     "data": {
      "text/html": [
       "<ol class=list-inline>\n",
       "\t<li>1000</li>\n",
       "\t<li>21</li>\n",
       "</ol>\n"
      ],
      "text/latex": [
       "\\begin{enumerate*}\n",
       "\\item 1000\n",
       "\\item 21\n",
       "\\end{enumerate*}\n"
      ],
      "text/markdown": [
       "1. 1000\n",
       "2. 21\n",
       "\n",
       "\n"
      ],
      "text/plain": [
       "[1] 1000   21"
      ]
     },
     "metadata": {},
     "output_type": "display_data"
    }
   ],
   "source": [
    "#leer la informacion del CSV\n",
    "german_credit = read.csv(\"C:/Users/Mafer/Documents/PROYECTO/BD 2/german_credit.csv\", header = TRUE, sep = \",\")\n",
    "str(german_credit)\n",
    "dim(german_credit)"
   ]
  },
  {
   "cell_type": "code",
   "execution_count": 28,
   "metadata": {
    "slideshow": {
     "slide_type": "subslide"
    }
   },
   "outputs": [
    {
     "data": {
      "text/html": [
       "<ol class=list-inline>\n",
       "\t<li>800</li>\n",
       "\t<li>21</li>\n",
       "</ol>\n"
      ],
      "text/latex": [
       "\\begin{enumerate*}\n",
       "\\item 800\n",
       "\\item 21\n",
       "\\end{enumerate*}\n"
      ],
      "text/markdown": [
       "1. 800\n",
       "2. 21\n",
       "\n",
       "\n"
      ],
      "text/plain": [
       "[1] 800  21"
      ]
     },
     "metadata": {},
     "output_type": "display_data"
    },
    {
     "data": {
      "text/html": [
       "<ol class=list-inline>\n",
       "\t<li>200</li>\n",
       "\t<li>21</li>\n",
       "</ol>\n"
      ],
      "text/latex": [
       "\\begin{enumerate*}\n",
       "\\item 200\n",
       "\\item 21\n",
       "\\end{enumerate*}\n"
      ],
      "text/markdown": [
       "1. 200\n",
       "2. 21\n",
       "\n",
       "\n"
      ],
      "text/plain": [
       "[1] 200  21"
      ]
     },
     "metadata": {},
     "output_type": "display_data"
    }
   ],
   "source": [
    "indexes = sample(1:nrow(g2), size=0.80*nrow(g2)) # Muestra aleatoria de 80% \n",
    "Train80 = german_credit[indexes,] # Entrenamiento\n",
    "dim(Train80)\n",
    "Test20 = german_credit[-indexes,] # Test\n",
    "dim(Test20)"
   ]
  },
  {
   "cell_type": "code",
   "execution_count": 29,
   "metadata": {
    "scrolled": true,
    "slideshow": {
     "slide_type": "subslide"
    }
   },
   "outputs": [
    {
     "data": {
      "text/plain": [
       "\n",
       "  0   1 \n",
       "0.3 0.7 "
      ]
     },
     "metadata": {},
     "output_type": "display_data"
    },
    {
     "data": {
      "text/plain": [
       "\n",
       "  0   1 \n",
       "0.3 0.7 "
      ]
     },
     "metadata": {},
     "output_type": "display_data"
    }
   ],
   "source": [
    "prop.table(table(Train80$Credibilidad))\n",
    "prop.table(table(Test20$Credibilidad))"
   ]
  },
  {
   "cell_type": "code",
   "execution_count": 30,
   "metadata": {
    "scrolled": true,
    "slideshow": {
     "slide_type": "subslide"
    }
   },
   "outputs": [
    {
     "data": {
      "text/plain": [
       "   predict_unseen\n",
       "      0   1\n",
       "  0  28  32\n",
       "  1  25 115"
      ]
     },
     "metadata": {},
     "output_type": "display_data"
    },
    {
     "data": {
      "image/png": "[encoded data removed]",
      "text/plain": [
       "plot without title"
      ]
     },
     "metadata": {},
     "output_type": "display_data"
    }
   ],
   "source": [
    "fit <- rpart(Credibilidad~., data = Train80, method = 'class')\n",
    "rpart.plot(fit,tweak=1.2, extra = 106)\n",
    "predict_unseen <-predict(fit, Test20, type = 'class')\n",
    "table_mat <- table(Test20$Credibilidad, predict_unseen)\n",
    "table_mat"
   ]
  },
  {
   "cell_type": "markdown",
   "metadata": {
    "slideshow": {
     "slide_type": "subslide"
    }
   },
   "source": [
    "<center><img src=\"C:\\Users\\IN_CAP02\\Desktop\\Presentación\\Imagen8.png\" width: \"400\" height=\"50\"/></center>"
   ]
  },
  {
   "cell_type": "code",
   "execution_count": 31,
   "metadata": {
    "slideshow": {
     "slide_type": "subslide"
    }
   },
   "outputs": [
    {
     "name": "stdout",
     "output_type": "stream",
     "text": [
      "[1] \"Exactitud del test:  0.715\"\n"
     ]
    }
   ],
   "source": [
    "# Matriz de confusion \n",
    "\n",
    "accuracy_Test <- sum(diag(table_mat)) / sum(table_mat)\n",
    "print(paste('Exactitud del test: ', accuracy_Test))"
   ]
  },
  {
   "cell_type": "code",
   "execution_count": 32,
   "metadata": {},
   "outputs": [
    {
     "name": "stdout",
     "output_type": "stream",
     "text": [
      "\n",
      "Classification tree:\n",
      "rpart(formula = Credibilidad ~ ., data = Train80, method = \"class\")\n",
      "\n",
      "Variables actually used in tree construction:\n",
      "[1] COF DP  MC  PPA SCC VAA\n",
      "\n",
      "Root node error: 240/800 = 0.3\n",
      "\n",
      "n= 800 \n",
      "\n",
      "        CP nsplit rel error  xerror     xstd\n",
      "1 0.068750      0   1.00000 1.00000 0.054006\n",
      "2 0.050000      2   0.86250 0.95417 0.053270\n",
      "3 0.045833      3   0.81250 0.90833 0.052473\n",
      "4 0.016667      4   0.76667 0.85417 0.051449\n",
      "5 0.012500      9   0.67917 0.84167 0.051200\n",
      "6 0.010000     10   0.66667 0.83333 0.051031\n"
     ]
    },
    {
     "data": {
      "image/png": "[encoded data removed]",
      "text/plain": [
       "plot without title"
      ]
     },
     "metadata": {},
     "output_type": "display_data"
    }
   ],
   "source": [
    "# Examinando la complejidad del plot \n",
    "\n",
    "printcp(fit)\n",
    "plotcp(fit)"
   ]
  },
  {
   "cell_type": "code",
   "execution_count": 33,
   "metadata": {
    "slideshow": {
     "slide_type": "subslide"
    }
   },
   "outputs": [],
   "source": [
    "# Funcion de la certeza del modelo \n",
    "accuracy_tune <- function(fit) {\n",
    "  predict_unseen <- predict(fit, Test20, type = 'class')\n",
    "  table_mat <- table(Test20$Credibilidad, predict_unseen)\n",
    "  accuracy_Test <- sum(diag(table_mat)) / sum(table_mat)\n",
    "  accuracy_Test\n",
    "}"
   ]
  },
  {
   "cell_type": "code",
   "execution_count": 34,
   "metadata": {
    "slideshow": {
     "slide_type": "subslide"
    }
   },
   "outputs": [
    {
     "data": {
      "text/html": [
       "0.73"
      ],
      "text/latex": [
       "0.73"
      ],
      "text/markdown": [
       "0.73"
      ],
      "text/plain": [
       "[1] 0.73"
      ]
     },
     "metadata": {},
     "output_type": "display_data"
    }
   ],
   "source": [
    "# Llamando a la funcion \n",
    "control <- rpart.control(minsplit = 4,\n",
    "                         minbucket = round(5 / 3),\n",
    "                         maxdepth = 3,\n",
    "                         cp = 0)\n",
    "tune_fit <- rpart(Credibilidad~., data = Train80, method = 'class', control = control)\n",
    "accuracy_tune(tune_fit)"
   ]
  },
  {
   "cell_type": "markdown",
   "metadata": {
    "slideshow": {
     "slide_type": "slide"
    }
   },
   "source": [
    "# GRACIAS "
   ]
  }
 ],
 "metadata": {
  "celltoolbar": "Slideshow",
  "kernelspec": {
   "display_name": "R",
   "language": "R",
   "name": "ir"
  },
  "language_info": {
   "codemirror_mode": "r",
   "file_extension": ".r",
   "mimetype": "text/x-r-source",
   "name": "R",
   "pygments_lexer": "r",
   "version": "3.6.1"
  }
 },
 "nbformat": 4,
 "nbformat_minor": 4
}
