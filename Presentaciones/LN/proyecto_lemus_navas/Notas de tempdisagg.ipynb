{
 "cells": [
  {
   "cell_type": "markdown",
   "metadata": {
    "slideshow": {
     "slide_type": "slide"
    }
   },
   "source": [
    "### Programa de Estudios Superiores 2019-2020  \n",
    "### Programación II  \n",
    "### Profesor: Ángelo Gutierrez  \n",
    "  \n",
    "<center> <img src=\"figura1.png\" alt=\"Logo Banco de Guatemala\" style=\"width: 150px;\"/>  \n",
    "  \n",
    "$ Agregación $ $ y $ $ Desagregación $ $ de $ $ series $ $ temporales $ </center>\n",
    "  \n",
    "### Ingregrantes:  \n",
    "* Elmer Humberto Lémus Flores  \n",
    "* Erwin Roberto Navas Solís\n",
    "  \n",
    "#### Banco de Guatemala  "
   ]
  },
  {
   "cell_type": "markdown",
   "metadata": {
    "slideshow": {
     "slide_type": "slide"
    }
   },
   "source": [
    "# Trabajo Basado en:\n",
    "\n",
    "> ### \" *Temporal Disaggregation of Time Series.* \"  \n",
    "**de Christoph Sax and Peter Steiner**"
   ]
  },
  {
   "cell_type": "markdown",
   "metadata": {
    "slideshow": {
     "slide_type": "slide"
    }
   },
   "source": [
    "Estos métodos se usan para desagregar series de tiempo de **baja frecuencia** a series de **frecuencia más alta**, donde la suma, el promedio, el primer o el último valor de la serie de alta frecuencia resultante es consistente con la serie de baja frecuencia.  \n",
    "  \n",
    "La desagregación temporal se puede realizar con o sin una o más series de indicadores de alta frecuencia. El paquete **tempdisagg** es una colección de varios métodos para la desagregación temporal."
   ]
  },
  {
   "cell_type": "markdown",
   "metadata": {
    "slideshow": {
     "slide_type": "slide"
    }
   },
   "source": [
    "# Motivación  \n",
    "\n",
    "No tener una serie temporal en la frecuencia deseada es un problema común para investigadores y analistas. Por ejemplo, en lugar de ventas trimestrales, solo tienen ventas anuales. En lugar de un índice diario del mercado de valores, solo tienen un índice semanal.  \n",
    "  \n",
    "Si bien no hay forma de compensar por completo los datos faltantes, existen soluciones útiles:  \n",
    "  \n",
    ">**Con la ayuda de una o más series de indicadores de alta frecuencia, las series de baja frecuencia pueden desglosarse en una serie de alta frecuencia. Por ejemplo, las exportaciones trimestrales podrían ayudar a desagregar las ventas anuales, y un índice del mercado bursátil extranjero podría ayudar a desglosar el índice bursátil en el país.**"
   ]
  },
  {
   "cell_type": "markdown",
   "metadata": {
    "slideshow": {
     "slide_type": "subslide"
    }
   },
   "source": [
    "# Qué pasa si no tenemos ni variables proxy?  \n",
    "  \n",
    "<center><img src=\"figura2.jfif\" alt=\"Pregunta\" style=\"width: 200px;\"/><center>\n",
    "\n",
    "Incluso cuando no hay series de indicadores de alta frecuencia, uno todavía puede desglosar una serie de baja frecuencia. La precisión será baja, pero puede que valga la pena hacerlo.  \n",
    "  \n",
    "Por ejemplo, estimar un modelo vector-autorregresivo requiere que todas las variables tengan la misma frecuencia. Tener una mala serie de alta frecuencia aún podría ser preferible al cambio a una frecuencia más baja."
   ]
  },
  {
   "cell_type": "markdown",
   "metadata": {
    "slideshow": {
     "slide_type": "slide"
    }
   },
   "source": [
    "## De manera general, el paquete incluye los siguientes métodos  \n",
    "\n",
    "## Métodos de Denton  \n",
    ">   \n",
    "    Denton  \n",
    "    Denton-Cholette  \n",
    "    Uniforme (Caso especial)  \n",
    "    OLS (Minimos Cuadrados)\n",
    "\n",
    "Denton y Denton-Cholette se preocupan principalmente por la preservación del movimiento, generando una serie que es similar a la serie de indicadores, ya sea que el indicador esté o no correlacionado con el nivel bajo serie de frecuencias. Alternativamente, **estos métodos pueden desagregar una serie sin un indicador.** "
   ]
  },
  {
   "cell_type": "markdown",
   "metadata": {
    "slideshow": {
     "slide_type": "subslide"
    }
   },
   "source": [
    "\n",
    "## Métodos basados en regresión\n",
    ">  \n",
    "    Chow-lin-maxlog  \n",
    "    Chow-lin-minrss-ecotrim  \n",
    "    Chow-lin-minrss-quilis  \n",
    "    Chow-lin-fixed  \n",
    "    Fernandez  \n",
    "    Litterman-maxlog  \n",
    "    Litterman-minrss  \n",
    "    Litterman-fixed  \n",
    "\n",
    "Estos métodos obligatoriamente utilizan uno o varios indicadores y realizan una regresión en las series de baja frecuencia. Chow-Lin es adecuado para series estacionarias o cointegradas, mientras que Fernández y Litterman se ocupan de series no cointegradas."
   ]
  },
  {
   "cell_type": "markdown",
   "metadata": {
    "slideshow": {
     "slide_type": "subslide"
    }
   },
   "source": [
    "\n",
    "## Métodos experimentales\n",
    ">  \n",
    "    Dynamic-maxlog  \n",
    "    Dynamic-minrss  \n",
    "    Dynamic-fixed  \n",
    "    "
   ]
  },
  {
   "cell_type": "markdown",
   "metadata": {
    "slideshow": {
     "slide_type": "slide"
    }
   },
   "source": [
    "## Ejemplo de aplicación  \n",
    "Por ejemplo, en Francia, Italia y otros países europeos, las cifras trimestrales del Producto Interno Bruto (PIB) se calculan utilizando métodos de desagregación.  \n",
    "\n",
    "> Fuera de R, hay varios paquetes de software para realizar la desagregación temporal: Ecotrim de Barcellan et al. (2003); una extensión de Matlab de Quilis (2012); y una extensión RATS de Doan (2008)."
   ]
  },
  {
   "cell_type": "markdown",
   "metadata": {
    "slideshow": {
     "slide_type": "subslide"
    }
   },
   "source": [
    "En la Tabla siguiente se ofrece una visión general de las capacidades de los diferentes programas de software.\n",
    "\n",
    "<img src=\"figura3.png\" alt=\"Comparativo de software\" style=\"width: 1000px;\"/>\n"
   ]
  },
  {
   "cell_type": "markdown",
   "metadata": {
    "slideshow": {
     "slide_type": "slide"
    }
   },
   "source": [
    "## Metodología y Teoría  \n",
    "  \n",
    "\n",
    "Primero se deben recopilar los datos para las frecuencias deseadas. Para fines prácticos tomamos las series de alta frecuencia en una **matriz X**. Para facilitar la exposición y sin pérdida de generalidad.  \n",
    "  \n",
    "Dos pasos:\n",
    "1. Se debe determinar una serie trimestrales preliminar `p`.  \n",
    "2. Las diferencias entre los valores anuales de las series preliminares y los valores anuales de las series observadas deben distribuirse entre las series trimestrales preliminares. \n",
    "  \n",
    "La suma de las series trimestrales preliminares y los residuos anuales distribuidos arroja la estimación final de las series trimestrales. Formalmente:  \n",
    "  \n",
    "$$ \\widehat{y} = \\rho + Du_{l} $$  \n",
    "\n",
    "(La notación \"$l$\" corresponde a series de baja frecuencia). D es una matriz de distribución `nxnl`, donde `n` y `nl` indican el número de observaciones trimestrales y anuales, respectivamente. `ul` es un vector de longitud `nl` y contiene las diferencias entre los valores anualizados de `p` y los valores anuales reales, `yl`:  \n",
    "\n",
    "$$ u_{l} \\equiv y_{l} - C\\rho $$  \n"
   ]
  },
  {
   "cell_type": "markdown",
   "metadata": {
    "slideshow": {
     "slide_type": "subslide"
    }
   },
   "source": [
    "Multiplicando la matriz de conversión `nlxn`, C, con una serie trimestral se realiza la anualización. La primera ecuación constituye un marco unificador para todos los métodos de desagregación.  \n",
    "\n",
    "Los métodos difieren en cómo determinan la serie preliminar, `p`, y la matriz de distribución, `D`. La Tabla siguente resume las diferencias en el cálculo de `p` y `D`.  \n",
    "  \n",
    "  <img src=\"figura4.png\" alt=\"Comparativo\" style=\"width: 1000px;\"/>\n",
    "  "
   ]
  },
  {
   "cell_type": "markdown",
   "metadata": {
    "slideshow": {
     "slide_type": "slide"
    }
   },
   "source": [
    "# Serie preliminar `p`  \n",
    "  \n",
    "Los métodos de Denton y Denton-Cholette utilizan un solo indicador como serie preliminar:     \n",
    "\n",
    "$$ \\rho = X $$  \n",
    "  \n",
    "donde X es una matriz `nx1`. Si no se cuenta con una serie de referencia, se debe utilizar una constante."
   ]
  },
  {
   "cell_type": "markdown",
   "metadata": {
    "slideshow": {
     "slide_type": "subslide"
    }
   },
   "source": [
    "Los métodos basados en regresión Chow-Lin, Fernández y Litterman realizan una \"Regresión de mínimos cuadrados generalizados (GLS)\" de los valores anuales, `yl`, en la serie de indicadores trimestrales anualizados, `CX`. En este caso, `X` representa una matriz `nxm`, donde `m` denota el número de indicadores (incluida una posible constante).  \n",
    "  \n",
    "Para una matriz de varianza-covarianza dada, $\\Sigma$ , el estimador GLS, $\\widehat{\\beta}$, se calcula de la manera estándar:  \n",
    "\n",
    "$$\\widehat{\\beta}(\\Sigma)=[X^{'}C^{'}(C\\Sigma C^{'})^{-1}CX]^{-1}X^{'}C^{'}(C\\Sigma C^{'})^{-1}y_{l}$$\n",
    "\n",
    "La suposición crítica de los métodos basados en regresión, es que la relación lineal entre las series anuales `CX` e `yl` también se mantiene entre las series trimestrales `X` e `y`. Por lo tanto, la serie preliminar se calcula como los valores ajustados de la regresión GLS:  \n",
    "  \n",
    "$$ \\rho = \\widehat{\\beta} X$$"
   ]
  },
  {
   "cell_type": "markdown",
   "metadata": {
    "slideshow": {
     "slide_type": "slide"
    }
   },
   "source": [
    "# Matriz de Distribución `D`  \n",
    "  \n",
    "Con la excepción de Denton-Cholette, la matriz de distribución de todos los métodos de desagregación temporal es una función de la matriz de varianza-covarianza, $\\Sigma$:  \n",
    "  \n",
    " $$D = \\Sigma C^{'}(C\\Sigma C^{'})^{-1}$$\n",
    "  \n",
    "Los métodos de Denton minimizan las desviaciones absolutas o relativas al cuadrado de una serie de indicadores (diferenciados), donde el parámetro `h` define el grado de diferenciación. Para los métodos **aditivos** de Denton y para `h = 0`, la suma de las desviaciones absolutas al cuadrado entre el indicador y la serie final se minimiza. Para `h = 1`, las desviaciones de las primeras diferencias se minimizan, y así sucesivamente. Para los métodos proporcionales de Denton, las desviaciones se miden en términos relativos. Para el método aditivo de Denton con h = 1, la matriz de varianza-covarianza tiene lo siguiente estructura:"
   ]
  },
  {
   "cell_type": "markdown",
   "metadata": {
    "slideshow": {
     "slide_type": "subslide"
    }
   },
   "source": [
    "$$\\Sigma_{D}=(\\Delta ^{'}\\Delta )^{-1} =\\begin{bmatrix}\n",
    " 1&  1&  \\ldots& 1\\\\ \n",
    " 1&  2&  \\ldots& 2\\\\ \n",
    "\\vdots&  \\vdots&  \\ddots& \\vdots\\\\ \n",
    " 1&  2&  \\ldots& n\n",
    "\\end{bmatrix}$$\n",
    "  \n",
    "  \n",
    "donde `D` es una matriz de `nxn` diferencia con `1` en su diagonal principal, `-1` en su primer subdiagonal y `0` en otra parte. Para h = 2, $\\Delta$'$\\Delta$ se multiplica por $\\Delta$' desde la izquierda y $\\Delta$ desde el lado derecho. Para `h = 0`, es la matriz de identidad de tamaño `n`. Denton-Cholette es una modificación del enfoque original y elimina el movimiento transitorio espurio al comienzo de la serie resultante.  "
   ]
  },
  {
   "cell_type": "markdown",
   "metadata": {
    "slideshow": {
     "slide_type": "subslide"
    }
   },
   "source": [
    "**Chow-Lin** supone que los residuos trimestrales siguen un proceso autorregresivo de orden 1 `(AR1)`, es decir, $u_{t} = \\rho u_{t-1} + \\epsilon_{t}$, donde $\\epsilon$ es WN(0,$\\sigma_{\\epsilon}$) y |$\\rho$| < 1. La matriz de covarianza resultante tiene la siguiente forma:\n",
    "\n",
    "$$\\Sigma_{CL}(\\rho)= \\frac{\\sigma _{\\epsilon }^{2}}{1-\\rho ^{2}}\\cdot \\begin{bmatrix}\n",
    " 1&  \\rho &  \\ldots& \\rho ^{n-1}\\\\ \n",
    " \\rho&  1&  \\ldots& \\rho ^{n-2}\\\\ \n",
    "\\vdots&  \\vdots&  \\ddots& \\vdots\\\\ \n",
    " \\rho ^{n-1}&  \\rho ^{n-2}&  \\ldots& 1\n",
    "\\end{bmatrix}$$\n",
    "  \n",
    "Por lo tanto, la estimación de $\\Sigma_{CL}$ requiere la estimación de un parámetro `AR1` $\\rho$. La varianza, $\\sigma^2_{\\epsilon}$, se cancela y no afecta el cálculo de `D` ni de $\\widehat{\\beta}$.\n",
    "\n",
    "Los métodos restantes se ocupan de casos en que los indicadores trimestrales y las series anuales no están cointegradas. **Fernández** y **Litterman** suponen que los residuos trimestrales siguen un proceso no estacionario, es decir, $u_{t} = u_{t-1} + v_{t}$, donde `v` es un `AR1` ($v_{t} = \\rho v_{t-1} + \\epsilon_{t}$, donde $\\epsilon$ es WN (0, $\\Sigma_{\\epsilon}$)).\n",
    "\n",
    "Fernández es un caso especial de Litterman, donde $\\rho$ = 0 y, por lo tanto, sigue una caminata aleatoria. La matriz de varianza-covarianza se puede calcular de la siguiente manera:  \n",
    "\n",
    "$$\\Sigma _{L}(\\rho)= \\sigma_{\\epsilon}^{2}[\\Delta^{'}H(\\rho)^{'}H(\\rho)\\Delta]^{-1}$$\n"
   ]
  },
  {
   "cell_type": "markdown",
   "metadata": {
    "slideshow": {
     "slide_type": "subslide"
    }
   },
   "source": [
    "donde $\\Delta$ es la misma matriz de diferencias de `nxn` como en el caso de Denton; H($\\rho$) es una matriz `nxn` con 1 en su diagonal principal, -$\\rho$ en su primer subdiagonal y 0 en otra parte. Para el caso especial de Fernández, con $\\rho$ = 0, la matriz de covarianza resultante tiene la siguiente forma:\n",
    "  \n",
    "$$\\Sigma_{L}(0)=\\sigma_{\\epsilon}^{2}\\cdot(\\Delta^{'}\\Delta)^{-1}=\\sigma_{\\epsilon}^{2}\\cdot \\Sigma_{D}$$"
   ]
  },
  {
   "cell_type": "markdown",
   "metadata": {
    "slideshow": {
     "slide_type": "slide"
    }
   },
   "source": [
    "# Estimación del parámetro autoregresivo  \n",
    "  \n",
    "Hay varias formas de estimar el parámetro autorregresivo $\\rho$ en los métodos de **Chow-Lin** y **Litterman**. Chow y Lin (1971) han propuesto un procedimiento iterativo. Infiere el parámetro de la autocorrelación observada de los residuos de baja frecuencia, `ul`. En un enfoque diferente, Bournay y Laroque (1979, p. 23) sugieren la maximización de la verosimilitud de la regresión GLS:  \n",
    "\n",
    "$$L(\\rho,\\sigma_{\\epsilon}^{2},\\beta)=\\frac{exp[-\\frac{1}{2}u_{l}^{'}(C\\Sigma C^{'})^{-1}u_{l}]}   {(2\\pi)^{n_{l}/2}\\cdot [det(C\\Sigma C^{'})]^{1/2}}$$\n",
    "\n",
    "donde `ul` viene dada por las ecuaciones anteriores. $\\widehat{\\beta}$ resulta ser el estimador GLS. El estimador de máxima verosimilitud del parámetro autorregresivo, $\\widehat{\\rho}$, es un estimador consistente del valor verdadero, por lo tanto, se ha elegido como el estimador predeterminado. Sin embargo, en algunos casos, $\\widehat{\\rho}$ resulta ser negativo incluso si el verdadero $\\rho$ es positivo. Por lo tanto, por defecto, **tempdisagg** restringe el espacio de optimización para $\\rho$ a valores positivos.  "
   ]
  },
  {
   "cell_type": "markdown",
   "metadata": {
    "slideshow": {
     "slide_type": "subslide"
    }
   },
   "source": [
    "Un enfoque final es la minimización de la suma residual ponderada de cuadrados, como ha sido sugerido por Barbone et al. (1981):  \n",
    "\n",
    "$$RSS(\\rho,\\sigma_{\\epsilon}^{2},\\beta)=u_{l}^{'}(C\\Sigma C^{'})^{-1}u_{l}$$\n",
    "\n",
    "Contrariamente al enfoque de máxima verosimilitud, $\\sigma^2_{\\epsilon}$ no se cancela. Los resultados son, por lo tanto, sensibles a la especificación de $\\Sigma$, con diferentes implementaciones que conducen a estimaciones diferentes pero inconsistentes de $\\rho$."
   ]
  },
  {
   "cell_type": "markdown",
   "metadata": {
    "slideshow": {
     "slide_type": "slide"
    }
   },
   "source": [
    "# El código "
   ]
  },
  {
   "cell_type": "markdown",
   "metadata": {
    "slideshow": {
     "slide_type": "slide"
    }
   },
   "source": [
    "# Desagregación"
   ]
  },
  {
   "cell_type": "code",
   "execution_count": 1,
   "metadata": {
    "slideshow": {
     "slide_type": "subslide"
    }
   },
   "outputs": [],
   "source": [
    "# Instalación de paquete\n",
    "\n",
    "#install.packages(\"tempdisagg\")\n",
    "#install.packages(\"readxl\")\n",
    "library(tempdisagg)\n",
    "library(readxl)"
   ]
  },
  {
   "cell_type": "code",
   "execution_count": 2,
   "metadata": {
    "slideshow": {
     "slide_type": "fragment"
    }
   },
   "outputs": [],
   "source": [
    "# --------------------Importación de datos de Excel---------------------------#\n",
    "\n",
    "# Importación de datos en excel\n",
    "\n",
    "# Series de Alta frecuencia (mensual)\n",
    "# Estimación mensual de los cotizantes al IGSS\n",
    "d_af_empleo = read_excel(path = \"Ejemplo.xlsx\", sheet = \"EM_TAC\") \n",
    "# Índice Mensual de la Actividad Económica\n",
    "d_af_IMAE = read_excel(path = \"Ejemplo.xlsx\", sheet = \"IMAE\") \n",
    "\n",
    "# Series de Baja frecuencia (anual)\n",
    "# Vector del Gasto de Consumo Final de los Hogares e ISL\n",
    "d_bf_GCF = read_excel(path = \"Ejemplo.xlsx\", sheet = \"GCFHISL\") \n",
    "# PIB anual por actividad económica\n",
    "d_bf_PIB = read_excel(path = \"Ejemplo.xlsx\", sheet = \"PIB 2001\") \n",
    "\n",
    "# Selección de columnas de trabajo\n",
    "af_empleo = d_af_empleo$Empleo\n",
    "af_IMAE = d_af_IMAE$IMAE\n",
    "\n",
    "bf_GCF = d_bf_GCF$GCFH\n",
    "bf_PIB = d_bf_PIB$PIB"
   ]
  },
  {
   "cell_type": "code",
   "execution_count": 3,
   "metadata": {
    "slideshow": {
     "slide_type": "subslide"
    }
   },
   "outputs": [],
   "source": [
    "# ------------Ejemplo de desagregación de Series temporales-------------------#\n",
    "\n",
    "# -----------------De baja frecuencia a alta frecuencia-----------------------#\n",
    "\n",
    "# Despúes de cargar e identificar los datos que queremos trabajar, ahora debemos\n",
    "# pasarlos a al objeto \"ts\", de Time Series\n",
    "# Atributos del objeto:\n",
    "\n",
    "    # data          corresponde al vector de valores numéricos o matriz de datos\n",
    "                    # un dataframe se convierte a data.matrix\n",
    "\n",
    "    # start         punto de inicio de la serie, puede ser fecha\n",
    "\n",
    "    # end           punto final de la serie\n",
    "\n",
    "    # frequency     numero de observaciones por periodo\n",
    "\n",
    "    # deltat        fración de la uestra del periodo entre las observaciones \n",
    "                    #(ej. mensual 1/12)\n",
    "\n",
    "    # ts.eps        tolerancia de comparación de la serie de tiempo\n",
    "                    # se consideran iguales las series si el valor absoluto de \n",
    "                    # las diferencias es menor que este indicador\n",
    "\n",
    "    # class         ts para serie simple, mts, ts o matrix para series múltiples\n",
    "\n",
    "# -------------Transformación de los datos a series temporales----------------#"
   ]
  },
  {
   "cell_type": "code",
   "execution_count": 4,
   "metadata": {
    "slideshow": {
     "slide_type": "subslide"
    }
   },
   "outputs": [
    {
     "data": {
      "text/html": [
       "'ts'"
      ],
      "text/latex": [
       "'ts'"
      ],
      "text/markdown": [
       "'ts'"
      ],
      "text/plain": [
       "[1] \"ts\""
      ]
     },
     "metadata": {},
     "output_type": "display_data"
    }
   ],
   "source": [
    "# Pasamos los datos anuales a \"Time Series\"\n",
    "tsbf_GCF = ts(bf_GCF, \n",
    "              start= c(2001,1),\n",
    "              end= c(2018,1),\n",
    "              frequency=1,\n",
    "              deltat=1/1,\n",
    "              ts.eps = 0.05,\n",
    "              class = \"ts\"\n",
    "              )\n",
    "\n",
    "class(tsbf_GCF)"
   ]
  },
  {
   "cell_type": "code",
   "execution_count": 5,
   "metadata": {
    "slideshow": {
     "slide_type": "fragment"
    }
   },
   "outputs": [
    {
     "data": {
      "text/html": [
       "A Time Series:<br><ol class=list-inline>\n",
       "\t<li>122599.385815575</li>\n",
       "\t<li>126727.624127966</li>\n",
       "\t<li>131618.976862923</li>\n",
       "\t<li>136688.394163383</li>\n",
       "\t<li>142536.971463475</li>\n",
       "\t<li>149212.204855065</li>\n",
       "\t<li>157254.891097568</li>\n",
       "\t<li>164094.775944518</li>\n",
       "\t<li>163610.151528577</li>\n",
       "\t<li>169249.507737828</li>\n",
       "\t<li>175410.653508074</li>\n",
       "\t<li>180920.835834236</li>\n",
       "\t<li>188612.397957902</li>\n",
       "\t<li>197179.752113211</li>\n",
       "\t<li>207088.71098345</li>\n",
       "\t<li>215818.005447857</li>\n",
       "\t<li>222772.678086193</li>\n",
       "\t<li>&lt;NA&gt;</li>\n",
       "</ol>\n"
      ],
      "text/latex": [
       "A Time Series:\\\\\\begin{enumerate*}\n",
       "\\item 122599.385815575\n",
       "\\item 126727.624127966\n",
       "\\item 131618.976862923\n",
       "\\item 136688.394163383\n",
       "\\item 142536.971463475\n",
       "\\item 149212.204855065\n",
       "\\item 157254.891097568\n",
       "\\item 164094.775944518\n",
       "\\item 163610.151528577\n",
       "\\item 169249.507737828\n",
       "\\item 175410.653508074\n",
       "\\item 180920.835834236\n",
       "\\item 188612.397957902\n",
       "\\item 197179.752113211\n",
       "\\item 207088.71098345\n",
       "\\item 215818.005447857\n",
       "\\item 222772.678086193\n",
       "\\item <NA>\n",
       "\\end{enumerate*}\n"
      ],
      "text/markdown": [
       "A Time Series:  \n",
       "1. 122599.385815575\n",
       "2. 126727.624127966\n",
       "3. 131618.976862923\n",
       "4. 136688.394163383\n",
       "5. 142536.971463475\n",
       "6. 149212.204855065\n",
       "7. 157254.891097568\n",
       "8. 164094.775944518\n",
       "9. 163610.151528577\n",
       "10. 169249.507737828\n",
       "11. 175410.653508074\n",
       "12. 180920.835834236\n",
       "13. 188612.397957902\n",
       "14. 197179.752113211\n",
       "15. 207088.71098345\n",
       "16. 215818.005447857\n",
       "17. 222772.678086193\n",
       "18. &lt;NA&gt;\n",
       "\n",
       "\n"
      ],
      "text/plain": [
       "A Time Series:\n",
       " [1] 122599.4 126727.6 131619.0 136688.4 142537.0 149212.2 157254.9 164094.8\n",
       " [9] 163610.2 169249.5 175410.7 180920.8 188612.4 197179.8 207088.7 215818.0\n",
       "[17] 222772.7       NA"
      ]
     },
     "metadata": {},
     "output_type": "display_data"
    }
   ],
   "source": [
    "tsbf_GCF"
   ]
  },
  {
   "cell_type": "code",
   "execution_count": 6,
   "metadata": {
    "slideshow": {
     "slide_type": "subslide"
    }
   },
   "outputs": [
    {
     "data": {
      "text/html": [
       "'ts'"
      ],
      "text/latex": [
       "'ts'"
      ],
      "text/markdown": [
       "'ts'"
      ],
      "text/plain": [
       "[1] \"ts\""
      ]
     },
     "metadata": {},
     "output_type": "display_data"
    }
   ],
   "source": [
    "tsbf_PIB = ts(bf_PIB, \n",
    "              start= c(2001,1),\n",
    "              end= c(2018,1),\n",
    "              frequency=1,\n",
    "              deltat=1/1,\n",
    "              ts.eps = 0.05,\n",
    "              class = \"ts\"\n",
    "              )\n",
    "\n",
    "class(tsbf_PIB)"
   ]
  },
  {
   "cell_type": "code",
   "execution_count": 7,
   "metadata": {
    "slideshow": {
     "slide_type": "fragment"
    }
   },
   "outputs": [
    {
     "data": {
      "text/html": [
       "A Time Series:<br><ol class=list-inline>\n",
       "\t<li>146977.842932584</li>\n",
       "\t<li>152660.92716399</li>\n",
       "\t<li>156524.454562767</li>\n",
       "\t<li>161458.23351993</li>\n",
       "\t<li>166721.951168977</li>\n",
       "\t<li>175691.219958825</li>\n",
       "\t<li>186766.893796938</li>\n",
       "\t<li>192894.864651441</li>\n",
       "\t<li>193909.574618531</li>\n",
       "\t<li>199473.786083326</li>\n",
       "\t<li>207775.982694937</li>\n",
       "\t<li>213946.633148285</li>\n",
       "\t<li>221857.493153768</li>\n",
       "\t<li>225419.100168712</li>\n",
       "\t<li>231338.008378527</li>\n",
       "\t<li>236479.005178162</li>\n",
       "\t<li>243995.142733612</li>\n",
       "\t<li>&lt;NA&gt;</li>\n",
       "</ol>\n"
      ],
      "text/latex": [
       "A Time Series:\\\\\\begin{enumerate*}\n",
       "\\item 146977.842932584\n",
       "\\item 152660.92716399\n",
       "\\item 156524.454562767\n",
       "\\item 161458.23351993\n",
       "\\item 166721.951168977\n",
       "\\item 175691.219958825\n",
       "\\item 186766.893796938\n",
       "\\item 192894.864651441\n",
       "\\item 193909.574618531\n",
       "\\item 199473.786083326\n",
       "\\item 207775.982694937\n",
       "\\item 213946.633148285\n",
       "\\item 221857.493153768\n",
       "\\item 225419.100168712\n",
       "\\item 231338.008378527\n",
       "\\item 236479.005178162\n",
       "\\item 243995.142733612\n",
       "\\item <NA>\n",
       "\\end{enumerate*}\n"
      ],
      "text/markdown": [
       "A Time Series:  \n",
       "1. 146977.842932584\n",
       "2. 152660.92716399\n",
       "3. 156524.454562767\n",
       "4. 161458.23351993\n",
       "5. 166721.951168977\n",
       "6. 175691.219958825\n",
       "7. 186766.893796938\n",
       "8. 192894.864651441\n",
       "9. 193909.574618531\n",
       "10. 199473.786083326\n",
       "11. 207775.982694937\n",
       "12. 213946.633148285\n",
       "13. 221857.493153768\n",
       "14. 225419.100168712\n",
       "15. 231338.008378527\n",
       "16. 236479.005178162\n",
       "17. 243995.142733612\n",
       "18. &lt;NA&gt;\n",
       "\n",
       "\n"
      ],
      "text/plain": [
       "A Time Series:\n",
       " [1] 146977.8 152660.9 156524.5 161458.2 166722.0 175691.2 186766.9 192894.9\n",
       " [9] 193909.6 199473.8 207776.0 213946.6 221857.5 225419.1 231338.0 236479.0\n",
       "[17] 243995.1       NA"
      ]
     },
     "metadata": {},
     "output_type": "display_data"
    }
   ],
   "source": [
    "tsbf_PIB"
   ]
  },
  {
   "cell_type": "code",
   "execution_count": 8,
   "metadata": {
    "slideshow": {
     "slide_type": "subslide"
    }
   },
   "outputs": [
    {
     "data": {
      "text/html": [
       "'ts'"
      ],
      "text/latex": [
       "'ts'"
      ],
      "text/markdown": [
       "'ts'"
      ],
      "text/plain": [
       "[1] \"ts\""
      ]
     },
     "metadata": {},
     "output_type": "display_data"
    }
   ],
   "source": [
    "# Pasamos los datos mensuales a Time Series\n",
    "tsaf_empleo = ts(af_empleo,\n",
    "                  start= c(2001,1),\n",
    "                  end= c(2018,12),\n",
    "                  frequency=12,\n",
    "                  deltat=1/12,\n",
    "                  ts.eps = 0.05,\n",
    "                  class = \"ts\"\n",
    "                  )\n",
    "\n",
    "class(tsaf_empleo)"
   ]
  },
  {
   "cell_type": "code",
   "execution_count": 9,
   "metadata": {
    "slideshow": {
     "slide_type": "fragment"
    }
   },
   "outputs": [
    {
     "data": {
      "text/html": [
       "<table>\n",
       "<caption>A Time Series: 18 × 12</caption>\n",
       "<thead>\n",
       "\t<tr><th></th><th scope=col>Jan</th><th scope=col>Feb</th><th scope=col>Mar</th><th scope=col>Apr</th><th scope=col>May</th><th scope=col>Jun</th><th scope=col>Jul</th><th scope=col>Aug</th><th scope=col>Sep</th><th scope=col>Oct</th><th scope=col>Nov</th><th scope=col>Dec</th></tr>\n",
       "</thead>\n",
       "<tbody>\n",
       "\t<tr><th scope=row>2001</th><td> 936761</td><td> 937103</td><td> 918436</td><td> 942956</td><td> 926056</td><td> 926385</td><td> 931902</td><td> 904230</td><td> 906416</td><td> 918230</td><td> 925852</td><td> 958753</td></tr>\n",
       "\t<tr><th scope=row>2002</th><td> 949905</td><td> 957072</td><td> 977873</td><td> 945772</td><td> 930876</td><td> 954590</td><td> 950526</td><td> 940156</td><td> 939327</td><td> 943354</td><td> 956236</td><td> 990849</td></tr>\n",
       "\t<tr><th scope=row>2003</th><td> 968095</td><td> 979520</td><td>1005785</td><td> 976796</td><td> 977952</td><td> 957146</td><td> 961076</td><td> 911783</td><td> 940765</td><td> 934820</td><td> 906874</td><td> 974305</td></tr>\n",
       "\t<tr><th scope=row>2004</th><td>1001039</td><td>1013474</td><td>1004869</td><td> 996448</td><td>1005800</td><td> 971787</td><td> 974309</td><td> 959183</td><td> 961021</td><td> 976307</td><td> 993664</td><td>1008803</td></tr>\n",
       "\t<tr><th scope=row>2005</th><td>1028597</td><td>1008246</td><td>1035392</td><td>1023115</td><td>1002595</td><td> 984540</td><td> 998194</td><td> 993464</td><td> 972015</td><td> 978609</td><td>1013202</td><td> 990303</td></tr>\n",
       "\t<tr><th scope=row>2006</th><td>1017817</td><td>1028011</td><td>1028185</td><td>1030880</td><td>1018864</td><td>1019505</td><td>1024423</td><td>1020917</td><td>1006744</td><td>1022391</td><td>1040327</td><td>1058796</td></tr>\n",
       "\t<tr><th scope=row>2007</th><td>1057138</td><td>1072382</td><td>1087169</td><td>1075485</td><td>1068300</td><td>1078481</td><td>1077958</td><td>1066331</td><td>1040653</td><td>1062192</td><td>1080100</td><td>1115307</td></tr>\n",
       "\t<tr><th scope=row>2008</th><td>1103581</td><td>1098966</td><td>1120214</td><td>1109419</td><td>1080512</td><td>1054616</td><td>1045386</td><td>1062261</td><td>1042863</td><td>1027066</td><td>1043291</td><td>1084129</td></tr>\n",
       "\t<tr><th scope=row>2009</th><td>1112617</td><td>1077619</td><td>1095273</td><td>1074115</td><td>1071624</td><td>1044828</td><td>1058973</td><td>1071713</td><td>1085600</td><td>1096152</td><td>1116087</td><td>1156403</td></tr>\n",
       "\t<tr><th scope=row>2010</th><td>1146949</td><td>1107320</td><td>1116277</td><td>1110826</td><td>1107400</td><td>1083997</td><td>1092142</td><td>1087170</td><td>1073659</td><td>1085804</td><td>1115799</td><td>1158957</td></tr>\n",
       "\t<tr><th scope=row>2011</th><td>1169571</td><td>1158876</td><td>1168544</td><td>1155934</td><td>1157371</td><td>1143658</td><td>1137818</td><td>1131465</td><td>1132138</td><td>1137977</td><td>1171922</td><td>1187260</td></tr>\n",
       "\t<tr><th scope=row>2012</th><td>1169845</td><td>1181203</td><td>1188269</td><td>1179442</td><td>1186324</td><td>1164941</td><td>1177545</td><td>1168022</td><td>1172791</td><td>1186805</td><td>1218391</td><td>1236812</td></tr>\n",
       "\t<tr><th scope=row>2013</th><td>1215132</td><td>1219148</td><td>1238983</td><td>1246632</td><td>1243689</td><td>1216405</td><td>1206609</td><td>1197679</td><td>1197284</td><td>1213881</td><td>1218622</td><td>1253532</td></tr>\n",
       "\t<tr><th scope=row>2014</th><td>1216301</td><td>1233872</td><td>1232671</td><td>1264204</td><td>1229118</td><td>1224280</td><td>1219639</td><td>1219821</td><td>1207520</td><td>1238780</td><td>1255018</td><td>1305921</td></tr>\n",
       "\t<tr><th scope=row>2015</th><td>1252128</td><td>1255286</td><td>1292312</td><td>1288999</td><td>1263745</td><td>1269098</td><td>1245398</td><td>1242497</td><td>1234125</td><td>1256758</td><td>1295598</td><td>1313208</td></tr>\n",
       "\t<tr><th scope=row>2016</th><td>1260401</td><td>1298222</td><td>1315578</td><td>1299051</td><td>1306398</td><td>1284604</td><td>1284460</td><td>1286112</td><td>1290568</td><td>1290949</td><td>1331322</td><td>1352347</td></tr>\n",
       "\t<tr><th scope=row>2017</th><td>1276210</td><td>1325917</td><td>1307647</td><td>1333237</td><td>1329656</td><td>1289470</td><td>1302490</td><td>1292703</td><td>1279954</td><td>1346952</td><td>1324685</td><td>1347278</td></tr>\n",
       "\t<tr><th scope=row>2018</th><td>1283037</td><td>1329493</td><td>1316822</td><td>1378621</td><td>1334526</td><td>1321387</td><td>1318505</td><td>1296228</td><td>1290341</td><td>1355580</td><td>1317595</td><td>1364303</td></tr>\n",
       "</tbody>\n",
       "</table>\n"
      ],
      "text/latex": [
       "A Time Series: 18 × 12\n",
       "\\begin{tabular}{r|llllllllllll}\n",
       "  & Jan & Feb & Mar & Apr & May & Jun & Jul & Aug & Sep & Oct & Nov & Dec\\\\\n",
       "\\hline\n",
       "\t2001 &  936761 &  937103 &  918436 &  942956 &  926056 &  926385 &  931902 &  904230 &  906416 &  918230 &  925852 &  958753\\\\\n",
       "\t2002 &  949905 &  957072 &  977873 &  945772 &  930876 &  954590 &  950526 &  940156 &  939327 &  943354 &  956236 &  990849\\\\\n",
       "\t2003 &  968095 &  979520 & 1005785 &  976796 &  977952 &  957146 &  961076 &  911783 &  940765 &  934820 &  906874 &  974305\\\\\n",
       "\t2004 & 1001039 & 1013474 & 1004869 &  996448 & 1005800 &  971787 &  974309 &  959183 &  961021 &  976307 &  993664 & 1008803\\\\\n",
       "\t2005 & 1028597 & 1008246 & 1035392 & 1023115 & 1002595 &  984540 &  998194 &  993464 &  972015 &  978609 & 1013202 &  990303\\\\\n",
       "\t2006 & 1017817 & 1028011 & 1028185 & 1030880 & 1018864 & 1019505 & 1024423 & 1020917 & 1006744 & 1022391 & 1040327 & 1058796\\\\\n",
       "\t2007 & 1057138 & 1072382 & 1087169 & 1075485 & 1068300 & 1078481 & 1077958 & 1066331 & 1040653 & 1062192 & 1080100 & 1115307\\\\\n",
       "\t2008 & 1103581 & 1098966 & 1120214 & 1109419 & 1080512 & 1054616 & 1045386 & 1062261 & 1042863 & 1027066 & 1043291 & 1084129\\\\\n",
       "\t2009 & 1112617 & 1077619 & 1095273 & 1074115 & 1071624 & 1044828 & 1058973 & 1071713 & 1085600 & 1096152 & 1116087 & 1156403\\\\\n",
       "\t2010 & 1146949 & 1107320 & 1116277 & 1110826 & 1107400 & 1083997 & 1092142 & 1087170 & 1073659 & 1085804 & 1115799 & 1158957\\\\\n",
       "\t2011 & 1169571 & 1158876 & 1168544 & 1155934 & 1157371 & 1143658 & 1137818 & 1131465 & 1132138 & 1137977 & 1171922 & 1187260\\\\\n",
       "\t2012 & 1169845 & 1181203 & 1188269 & 1179442 & 1186324 & 1164941 & 1177545 & 1168022 & 1172791 & 1186805 & 1218391 & 1236812\\\\\n",
       "\t2013 & 1215132 & 1219148 & 1238983 & 1246632 & 1243689 & 1216405 & 1206609 & 1197679 & 1197284 & 1213881 & 1218622 & 1253532\\\\\n",
       "\t2014 & 1216301 & 1233872 & 1232671 & 1264204 & 1229118 & 1224280 & 1219639 & 1219821 & 1207520 & 1238780 & 1255018 & 1305921\\\\\n",
       "\t2015 & 1252128 & 1255286 & 1292312 & 1288999 & 1263745 & 1269098 & 1245398 & 1242497 & 1234125 & 1256758 & 1295598 & 1313208\\\\\n",
       "\t2016 & 1260401 & 1298222 & 1315578 & 1299051 & 1306398 & 1284604 & 1284460 & 1286112 & 1290568 & 1290949 & 1331322 & 1352347\\\\\n",
       "\t2017 & 1276210 & 1325917 & 1307647 & 1333237 & 1329656 & 1289470 & 1302490 & 1292703 & 1279954 & 1346952 & 1324685 & 1347278\\\\\n",
       "\t2018 & 1283037 & 1329493 & 1316822 & 1378621 & 1334526 & 1321387 & 1318505 & 1296228 & 1290341 & 1355580 & 1317595 & 1364303\\\\\n",
       "\\end{tabular}\n"
      ],
      "text/markdown": [
       "\n",
       "A Time Series: 18 × 12\n",
       "\n",
       "| <!--/--> | Jan | Feb | Mar | Apr | May | Jun | Jul | Aug | Sep | Oct | Nov | Dec |\n",
       "|---|---|---|---|---|---|---|---|---|---|---|---|---|\n",
       "| 2001 |  936761 |  937103 |  918436 |  942956 |  926056 |  926385 |  931902 |  904230 |  906416 |  918230 |  925852 |  958753 |\n",
       "| 2002 |  949905 |  957072 |  977873 |  945772 |  930876 |  954590 |  950526 |  940156 |  939327 |  943354 |  956236 |  990849 |\n",
       "| 2003 |  968095 |  979520 | 1005785 |  976796 |  977952 |  957146 |  961076 |  911783 |  940765 |  934820 |  906874 |  974305 |\n",
       "| 2004 | 1001039 | 1013474 | 1004869 |  996448 | 1005800 |  971787 |  974309 |  959183 |  961021 |  976307 |  993664 | 1008803 |\n",
       "| 2005 | 1028597 | 1008246 | 1035392 | 1023115 | 1002595 |  984540 |  998194 |  993464 |  972015 |  978609 | 1013202 |  990303 |\n",
       "| 2006 | 1017817 | 1028011 | 1028185 | 1030880 | 1018864 | 1019505 | 1024423 | 1020917 | 1006744 | 1022391 | 1040327 | 1058796 |\n",
       "| 2007 | 1057138 | 1072382 | 1087169 | 1075485 | 1068300 | 1078481 | 1077958 | 1066331 | 1040653 | 1062192 | 1080100 | 1115307 |\n",
       "| 2008 | 1103581 | 1098966 | 1120214 | 1109419 | 1080512 | 1054616 | 1045386 | 1062261 | 1042863 | 1027066 | 1043291 | 1084129 |\n",
       "| 2009 | 1112617 | 1077619 | 1095273 | 1074115 | 1071624 | 1044828 | 1058973 | 1071713 | 1085600 | 1096152 | 1116087 | 1156403 |\n",
       "| 2010 | 1146949 | 1107320 | 1116277 | 1110826 | 1107400 | 1083997 | 1092142 | 1087170 | 1073659 | 1085804 | 1115799 | 1158957 |\n",
       "| 2011 | 1169571 | 1158876 | 1168544 | 1155934 | 1157371 | 1143658 | 1137818 | 1131465 | 1132138 | 1137977 | 1171922 | 1187260 |\n",
       "| 2012 | 1169845 | 1181203 | 1188269 | 1179442 | 1186324 | 1164941 | 1177545 | 1168022 | 1172791 | 1186805 | 1218391 | 1236812 |\n",
       "| 2013 | 1215132 | 1219148 | 1238983 | 1246632 | 1243689 | 1216405 | 1206609 | 1197679 | 1197284 | 1213881 | 1218622 | 1253532 |\n",
       "| 2014 | 1216301 | 1233872 | 1232671 | 1264204 | 1229118 | 1224280 | 1219639 | 1219821 | 1207520 | 1238780 | 1255018 | 1305921 |\n",
       "| 2015 | 1252128 | 1255286 | 1292312 | 1288999 | 1263745 | 1269098 | 1245398 | 1242497 | 1234125 | 1256758 | 1295598 | 1313208 |\n",
       "| 2016 | 1260401 | 1298222 | 1315578 | 1299051 | 1306398 | 1284604 | 1284460 | 1286112 | 1290568 | 1290949 | 1331322 | 1352347 |\n",
       "| 2017 | 1276210 | 1325917 | 1307647 | 1333237 | 1329656 | 1289470 | 1302490 | 1292703 | 1279954 | 1346952 | 1324685 | 1347278 |\n",
       "| 2018 | 1283037 | 1329493 | 1316822 | 1378621 | 1334526 | 1321387 | 1318505 | 1296228 | 1290341 | 1355580 | 1317595 | 1364303 |\n",
       "\n"
      ],
      "text/plain": [
       "     Jan     Feb     Mar     Apr     May     Jun     Jul     Aug     Sep    \n",
       "2001  936761  937103  918436  942956  926056  926385  931902  904230  906416\n",
       "2002  949905  957072  977873  945772  930876  954590  950526  940156  939327\n",
       "2003  968095  979520 1005785  976796  977952  957146  961076  911783  940765\n",
       "2004 1001039 1013474 1004869  996448 1005800  971787  974309  959183  961021\n",
       "2005 1028597 1008246 1035392 1023115 1002595  984540  998194  993464  972015\n",
       "2006 1017817 1028011 1028185 1030880 1018864 1019505 1024423 1020917 1006744\n",
       "2007 1057138 1072382 1087169 1075485 1068300 1078481 1077958 1066331 1040653\n",
       "2008 1103581 1098966 1120214 1109419 1080512 1054616 1045386 1062261 1042863\n",
       "2009 1112617 1077619 1095273 1074115 1071624 1044828 1058973 1071713 1085600\n",
       "2010 1146949 1107320 1116277 1110826 1107400 1083997 1092142 1087170 1073659\n",
       "2011 1169571 1158876 1168544 1155934 1157371 1143658 1137818 1131465 1132138\n",
       "2012 1169845 1181203 1188269 1179442 1186324 1164941 1177545 1168022 1172791\n",
       "2013 1215132 1219148 1238983 1246632 1243689 1216405 1206609 1197679 1197284\n",
       "2014 1216301 1233872 1232671 1264204 1229118 1224280 1219639 1219821 1207520\n",
       "2015 1252128 1255286 1292312 1288999 1263745 1269098 1245398 1242497 1234125\n",
       "2016 1260401 1298222 1315578 1299051 1306398 1284604 1284460 1286112 1290568\n",
       "2017 1276210 1325917 1307647 1333237 1329656 1289470 1302490 1292703 1279954\n",
       "2018 1283037 1329493 1316822 1378621 1334526 1321387 1318505 1296228 1290341\n",
       "     Oct     Nov     Dec    \n",
       "2001  918230  925852  958753\n",
       "2002  943354  956236  990849\n",
       "2003  934820  906874  974305\n",
       "2004  976307  993664 1008803\n",
       "2005  978609 1013202  990303\n",
       "2006 1022391 1040327 1058796\n",
       "2007 1062192 1080100 1115307\n",
       "2008 1027066 1043291 1084129\n",
       "2009 1096152 1116087 1156403\n",
       "2010 1085804 1115799 1158957\n",
       "2011 1137977 1171922 1187260\n",
       "2012 1186805 1218391 1236812\n",
       "2013 1213881 1218622 1253532\n",
       "2014 1238780 1255018 1305921\n",
       "2015 1256758 1295598 1313208\n",
       "2016 1290949 1331322 1352347\n",
       "2017 1346952 1324685 1347278\n",
       "2018 1355580 1317595 1364303"
      ]
     },
     "metadata": {},
     "output_type": "display_data"
    }
   ],
   "source": [
    "tsaf_empleo"
   ]
  },
  {
   "cell_type": "code",
   "execution_count": 10,
   "metadata": {
    "slideshow": {
     "slide_type": "subslide"
    }
   },
   "outputs": [
    {
     "data": {
      "text/html": [
       "'ts'"
      ],
      "text/latex": [
       "'ts'"
      ],
      "text/markdown": [
       "'ts'"
      ],
      "text/plain": [
       "[1] \"ts\""
      ]
     },
     "metadata": {},
     "output_type": "display_data"
    }
   ],
   "source": [
    "tsaf_IMAE = ts(af_IMAE,\n",
    "                 start= c(2001,1),\n",
    "                 end= c(2018,12),\n",
    "                 frequency=12,\n",
    "                 deltat=1/12,\n",
    "                 ts.eps = 0.05,\n",
    "                 class = \"ts\"\n",
    "                 )\n",
    "\n",
    "class(tsaf_IMAE)"
   ]
  },
  {
   "cell_type": "code",
   "execution_count": 11,
   "metadata": {
    "slideshow": {
     "slide_type": "fragment"
    }
   },
   "outputs": [
    {
     "data": {
      "text/html": [
       "<table>\n",
       "<caption>A Time Series: 18 × 12</caption>\n",
       "<thead>\n",
       "\t<tr><th></th><th scope=col>Jan</th><th scope=col>Feb</th><th scope=col>Mar</th><th scope=col>Apr</th><th scope=col>May</th><th scope=col>Jun</th><th scope=col>Jul</th><th scope=col>Aug</th><th scope=col>Sep</th><th scope=col>Oct</th><th scope=col>Nov</th><th scope=col>Dec</th></tr>\n",
       "</thead>\n",
       "<tbody>\n",
       "\t<tr><th scope=row>2001</th><td> 98.35359</td><td> 99.00727</td><td> 96.69531</td><td> 99.11220</td><td> 92.80744</td><td>101.49902</td><td> 96.67218</td><td> 99.55246</td><td>102.61870</td><td>106.75620</td><td>113.35418</td><td>101.48997</td></tr>\n",
       "\t<tr><th scope=row>2002</th><td> 94.89596</td><td>100.52758</td><td> 99.73621</td><td>103.25549</td><td> 96.86302</td><td>106.74053</td><td>101.40364</td><td>105.73809</td><td>107.00027</td><td>110.27847</td><td>118.47027</td><td>106.01896</td></tr>\n",
       "\t<tr><th scope=row>2003</th><td> 98.46457</td><td>104.79270</td><td>103.24565</td><td>105.52176</td><td> 99.78160</td><td>108.68943</td><td>103.40391</td><td>107.10373</td><td>108.50485</td><td>113.14543</td><td>119.27067</td><td>107.84275</td></tr>\n",
       "\t<tr><th scope=row>2004</th><td>102.70190</td><td>106.90271</td><td>105.46959</td><td>106.91944</td><td>104.23791</td><td>113.08991</td><td>106.66053</td><td>110.39310</td><td>113.12202</td><td>115.72612</td><td>125.15907</td><td>110.55623</td></tr>\n",
       "\t<tr><th scope=row>2005</th><td>105.66060</td><td>111.74265</td><td>110.78145</td><td>113.08293</td><td>108.63217</td><td>115.88808</td><td>109.61228</td><td>113.17383</td><td>112.46625</td><td>118.72528</td><td>130.87892</td><td>116.76599</td></tr>\n",
       "\t<tr><th scope=row>2006</th><td>108.89957</td><td>118.98341</td><td>111.44794</td><td>116.89901</td><td>114.07675</td><td>121.92417</td><td>116.13349</td><td>121.51964</td><td>122.38835</td><td>128.15108</td><td>137.24082</td><td>124.65597</td></tr>\n",
       "\t<tr><th scope=row>2007</th><td>118.11907</td><td>126.90497</td><td>120.15247</td><td>125.41830</td><td>123.18165</td><td>130.11834</td><td>125.10102</td><td>126.93302</td><td>126.85368</td><td>135.08192</td><td>142.33711</td><td>130.29078</td></tr>\n",
       "\t<tr><th scope=row>2008</th><td>122.92062</td><td>127.38362</td><td>128.96806</td><td>131.38512</td><td>127.71210</td><td>132.54624</td><td>128.55351</td><td>130.71379</td><td>132.76807</td><td>137.16377</td><td>144.48364</td><td>129.35131</td></tr>\n",
       "\t<tr><th scope=row>2009</th><td>119.53599</td><td>128.09705</td><td>126.36694</td><td>129.77823</td><td>126.03881</td><td>135.03742</td><td>129.58144</td><td>132.93903</td><td>136.25545</td><td>139.77673</td><td>150.41551</td><td>133.06391</td></tr>\n",
       "\t<tr><th scope=row>2010</th><td>123.17238</td><td>134.46513</td><td>129.95495</td><td>134.27668</td><td>132.05257</td><td>136.40509</td><td>130.70299</td><td>135.33254</td><td>138.61020</td><td>144.57492</td><td>155.99151</td><td>138.15992</td></tr>\n",
       "\t<tr><th scope=row>2011</th><td>129.35862</td><td>138.97413</td><td>135.28193</td><td>139.88178</td><td>137.43972</td><td>142.91585</td><td>137.79829</td><td>142.45232</td><td>142.94344</td><td>151.72770</td><td>159.45243</td><td>141.81877</td></tr>\n",
       "\t<tr><th scope=row>2012</th><td>134.51661</td><td>144.33270</td><td>137.27772</td><td>146.02459</td><td>140.89283</td><td>146.62056</td><td>141.42716</td><td>145.31533</td><td>149.36807</td><td>155.31497</td><td>163.85708</td><td>147.89357</td></tr>\n",
       "\t<tr><th scope=row>2013</th><td>139.49811</td><td>145.69578</td><td>147.23977</td><td>151.93802</td><td>145.05928</td><td>152.69814</td><td>147.44221</td><td>150.78108</td><td>154.48693</td><td>160.61596</td><td>168.00570</td><td>152.66748</td></tr>\n",
       "\t<tr><th scope=row>2014</th><td>142.04351</td><td>153.01221</td><td>153.14516</td><td>158.78015</td><td>151.96110</td><td>161.68850</td><td>153.87090</td><td>156.68200</td><td>159.83362</td><td>167.71514</td><td>175.56379</td><td>160.65746</td></tr>\n",
       "\t<tr><th scope=row>2015</th><td>149.71252</td><td>159.95697</td><td>158.29196</td><td>164.19859</td><td>157.92321</td><td>168.63451</td><td>159.39333</td><td>162.92469</td><td>167.40418</td><td>174.19459</td><td>181.79268</td><td>166.97585</td></tr>\n",
       "\t<tr><th scope=row>2016</th><td>154.60294</td><td>162.74050</td><td>163.71686</td><td>170.74908</td><td>163.05820</td><td>170.77566</td><td>164.66669</td><td>168.48371</td><td>170.52451</td><td>179.34088</td><td>190.21973</td><td>171.80358</td></tr>\n",
       "\t<tr><th scope=row>2017</th><td>159.01252</td><td>169.06410</td><td>166.56307</td><td>174.44145</td><td>167.62231</td><td>176.75311</td><td>168.55032</td><td>172.37568</td><td>176.85301</td><td>183.56570</td><td>195.17017</td><td>173.51027</td></tr>\n",
       "\t<tr><th scope=row>2018</th><td>163.28448</td><td>172.07725</td><td>172.57220</td><td>181.09605</td><td>173.20906</td><td>183.00512</td><td>174.92642</td><td>178.60813</td><td>183.90445</td><td>190.77231</td><td>200.28186</td><td>180.71387</td></tr>\n",
       "</tbody>\n",
       "</table>\n"
      ],
      "text/latex": [
       "A Time Series: 18 × 12\n",
       "\\begin{tabular}{r|llllllllllll}\n",
       "  & Jan & Feb & Mar & Apr & May & Jun & Jul & Aug & Sep & Oct & Nov & Dec\\\\\n",
       "\\hline\n",
       "\t2001 &  98.35359 &  99.00727 &  96.69531 &  99.11220 &  92.80744 & 101.49902 &  96.67218 &  99.55246 & 102.61870 & 106.75620 & 113.35418 & 101.48997\\\\\n",
       "\t2002 &  94.89596 & 100.52758 &  99.73621 & 103.25549 &  96.86302 & 106.74053 & 101.40364 & 105.73809 & 107.00027 & 110.27847 & 118.47027 & 106.01896\\\\\n",
       "\t2003 &  98.46457 & 104.79270 & 103.24565 & 105.52176 &  99.78160 & 108.68943 & 103.40391 & 107.10373 & 108.50485 & 113.14543 & 119.27067 & 107.84275\\\\\n",
       "\t2004 & 102.70190 & 106.90271 & 105.46959 & 106.91944 & 104.23791 & 113.08991 & 106.66053 & 110.39310 & 113.12202 & 115.72612 & 125.15907 & 110.55623\\\\\n",
       "\t2005 & 105.66060 & 111.74265 & 110.78145 & 113.08293 & 108.63217 & 115.88808 & 109.61228 & 113.17383 & 112.46625 & 118.72528 & 130.87892 & 116.76599\\\\\n",
       "\t2006 & 108.89957 & 118.98341 & 111.44794 & 116.89901 & 114.07675 & 121.92417 & 116.13349 & 121.51964 & 122.38835 & 128.15108 & 137.24082 & 124.65597\\\\\n",
       "\t2007 & 118.11907 & 126.90497 & 120.15247 & 125.41830 & 123.18165 & 130.11834 & 125.10102 & 126.93302 & 126.85368 & 135.08192 & 142.33711 & 130.29078\\\\\n",
       "\t2008 & 122.92062 & 127.38362 & 128.96806 & 131.38512 & 127.71210 & 132.54624 & 128.55351 & 130.71379 & 132.76807 & 137.16377 & 144.48364 & 129.35131\\\\\n",
       "\t2009 & 119.53599 & 128.09705 & 126.36694 & 129.77823 & 126.03881 & 135.03742 & 129.58144 & 132.93903 & 136.25545 & 139.77673 & 150.41551 & 133.06391\\\\\n",
       "\t2010 & 123.17238 & 134.46513 & 129.95495 & 134.27668 & 132.05257 & 136.40509 & 130.70299 & 135.33254 & 138.61020 & 144.57492 & 155.99151 & 138.15992\\\\\n",
       "\t2011 & 129.35862 & 138.97413 & 135.28193 & 139.88178 & 137.43972 & 142.91585 & 137.79829 & 142.45232 & 142.94344 & 151.72770 & 159.45243 & 141.81877\\\\\n",
       "\t2012 & 134.51661 & 144.33270 & 137.27772 & 146.02459 & 140.89283 & 146.62056 & 141.42716 & 145.31533 & 149.36807 & 155.31497 & 163.85708 & 147.89357\\\\\n",
       "\t2013 & 139.49811 & 145.69578 & 147.23977 & 151.93802 & 145.05928 & 152.69814 & 147.44221 & 150.78108 & 154.48693 & 160.61596 & 168.00570 & 152.66748\\\\\n",
       "\t2014 & 142.04351 & 153.01221 & 153.14516 & 158.78015 & 151.96110 & 161.68850 & 153.87090 & 156.68200 & 159.83362 & 167.71514 & 175.56379 & 160.65746\\\\\n",
       "\t2015 & 149.71252 & 159.95697 & 158.29196 & 164.19859 & 157.92321 & 168.63451 & 159.39333 & 162.92469 & 167.40418 & 174.19459 & 181.79268 & 166.97585\\\\\n",
       "\t2016 & 154.60294 & 162.74050 & 163.71686 & 170.74908 & 163.05820 & 170.77566 & 164.66669 & 168.48371 & 170.52451 & 179.34088 & 190.21973 & 171.80358\\\\\n",
       "\t2017 & 159.01252 & 169.06410 & 166.56307 & 174.44145 & 167.62231 & 176.75311 & 168.55032 & 172.37568 & 176.85301 & 183.56570 & 195.17017 & 173.51027\\\\\n",
       "\t2018 & 163.28448 & 172.07725 & 172.57220 & 181.09605 & 173.20906 & 183.00512 & 174.92642 & 178.60813 & 183.90445 & 190.77231 & 200.28186 & 180.71387\\\\\n",
       "\\end{tabular}\n"
      ],
      "text/markdown": [
       "\n",
       "A Time Series: 18 × 12\n",
       "\n",
       "| <!--/--> | Jan | Feb | Mar | Apr | May | Jun | Jul | Aug | Sep | Oct | Nov | Dec |\n",
       "|---|---|---|---|---|---|---|---|---|---|---|---|---|\n",
       "| 2001 |  98.35359 |  99.00727 |  96.69531 |  99.11220 |  92.80744 | 101.49902 |  96.67218 |  99.55246 | 102.61870 | 106.75620 | 113.35418 | 101.48997 |\n",
       "| 2002 |  94.89596 | 100.52758 |  99.73621 | 103.25549 |  96.86302 | 106.74053 | 101.40364 | 105.73809 | 107.00027 | 110.27847 | 118.47027 | 106.01896 |\n",
       "| 2003 |  98.46457 | 104.79270 | 103.24565 | 105.52176 |  99.78160 | 108.68943 | 103.40391 | 107.10373 | 108.50485 | 113.14543 | 119.27067 | 107.84275 |\n",
       "| 2004 | 102.70190 | 106.90271 | 105.46959 | 106.91944 | 104.23791 | 113.08991 | 106.66053 | 110.39310 | 113.12202 | 115.72612 | 125.15907 | 110.55623 |\n",
       "| 2005 | 105.66060 | 111.74265 | 110.78145 | 113.08293 | 108.63217 | 115.88808 | 109.61228 | 113.17383 | 112.46625 | 118.72528 | 130.87892 | 116.76599 |\n",
       "| 2006 | 108.89957 | 118.98341 | 111.44794 | 116.89901 | 114.07675 | 121.92417 | 116.13349 | 121.51964 | 122.38835 | 128.15108 | 137.24082 | 124.65597 |\n",
       "| 2007 | 118.11907 | 126.90497 | 120.15247 | 125.41830 | 123.18165 | 130.11834 | 125.10102 | 126.93302 | 126.85368 | 135.08192 | 142.33711 | 130.29078 |\n",
       "| 2008 | 122.92062 | 127.38362 | 128.96806 | 131.38512 | 127.71210 | 132.54624 | 128.55351 | 130.71379 | 132.76807 | 137.16377 | 144.48364 | 129.35131 |\n",
       "| 2009 | 119.53599 | 128.09705 | 126.36694 | 129.77823 | 126.03881 | 135.03742 | 129.58144 | 132.93903 | 136.25545 | 139.77673 | 150.41551 | 133.06391 |\n",
       "| 2010 | 123.17238 | 134.46513 | 129.95495 | 134.27668 | 132.05257 | 136.40509 | 130.70299 | 135.33254 | 138.61020 | 144.57492 | 155.99151 | 138.15992 |\n",
       "| 2011 | 129.35862 | 138.97413 | 135.28193 | 139.88178 | 137.43972 | 142.91585 | 137.79829 | 142.45232 | 142.94344 | 151.72770 | 159.45243 | 141.81877 |\n",
       "| 2012 | 134.51661 | 144.33270 | 137.27772 | 146.02459 | 140.89283 | 146.62056 | 141.42716 | 145.31533 | 149.36807 | 155.31497 | 163.85708 | 147.89357 |\n",
       "| 2013 | 139.49811 | 145.69578 | 147.23977 | 151.93802 | 145.05928 | 152.69814 | 147.44221 | 150.78108 | 154.48693 | 160.61596 | 168.00570 | 152.66748 |\n",
       "| 2014 | 142.04351 | 153.01221 | 153.14516 | 158.78015 | 151.96110 | 161.68850 | 153.87090 | 156.68200 | 159.83362 | 167.71514 | 175.56379 | 160.65746 |\n",
       "| 2015 | 149.71252 | 159.95697 | 158.29196 | 164.19859 | 157.92321 | 168.63451 | 159.39333 | 162.92469 | 167.40418 | 174.19459 | 181.79268 | 166.97585 |\n",
       "| 2016 | 154.60294 | 162.74050 | 163.71686 | 170.74908 | 163.05820 | 170.77566 | 164.66669 | 168.48371 | 170.52451 | 179.34088 | 190.21973 | 171.80358 |\n",
       "| 2017 | 159.01252 | 169.06410 | 166.56307 | 174.44145 | 167.62231 | 176.75311 | 168.55032 | 172.37568 | 176.85301 | 183.56570 | 195.17017 | 173.51027 |\n",
       "| 2018 | 163.28448 | 172.07725 | 172.57220 | 181.09605 | 173.20906 | 183.00512 | 174.92642 | 178.60813 | 183.90445 | 190.77231 | 200.28186 | 180.71387 |\n",
       "\n"
      ],
      "text/plain": [
       "     Jan       Feb       Mar       Apr       May       Jun       Jul      \n",
       "2001  98.35359  99.00727  96.69531  99.11220  92.80744 101.49902  96.67218\n",
       "2002  94.89596 100.52758  99.73621 103.25549  96.86302 106.74053 101.40364\n",
       "2003  98.46457 104.79270 103.24565 105.52176  99.78160 108.68943 103.40391\n",
       "2004 102.70190 106.90271 105.46959 106.91944 104.23791 113.08991 106.66053\n",
       "2005 105.66060 111.74265 110.78145 113.08293 108.63217 115.88808 109.61228\n",
       "2006 108.89957 118.98341 111.44794 116.89901 114.07675 121.92417 116.13349\n",
       "2007 118.11907 126.90497 120.15247 125.41830 123.18165 130.11834 125.10102\n",
       "2008 122.92062 127.38362 128.96806 131.38512 127.71210 132.54624 128.55351\n",
       "2009 119.53599 128.09705 126.36694 129.77823 126.03881 135.03742 129.58144\n",
       "2010 123.17238 134.46513 129.95495 134.27668 132.05257 136.40509 130.70299\n",
       "2011 129.35862 138.97413 135.28193 139.88178 137.43972 142.91585 137.79829\n",
       "2012 134.51661 144.33270 137.27772 146.02459 140.89283 146.62056 141.42716\n",
       "2013 139.49811 145.69578 147.23977 151.93802 145.05928 152.69814 147.44221\n",
       "2014 142.04351 153.01221 153.14516 158.78015 151.96110 161.68850 153.87090\n",
       "2015 149.71252 159.95697 158.29196 164.19859 157.92321 168.63451 159.39333\n",
       "2016 154.60294 162.74050 163.71686 170.74908 163.05820 170.77566 164.66669\n",
       "2017 159.01252 169.06410 166.56307 174.44145 167.62231 176.75311 168.55032\n",
       "2018 163.28448 172.07725 172.57220 181.09605 173.20906 183.00512 174.92642\n",
       "     Aug       Sep       Oct       Nov       Dec      \n",
       "2001  99.55246 102.61870 106.75620 113.35418 101.48997\n",
       "2002 105.73809 107.00027 110.27847 118.47027 106.01896\n",
       "2003 107.10373 108.50485 113.14543 119.27067 107.84275\n",
       "2004 110.39310 113.12202 115.72612 125.15907 110.55623\n",
       "2005 113.17383 112.46625 118.72528 130.87892 116.76599\n",
       "2006 121.51964 122.38835 128.15108 137.24082 124.65597\n",
       "2007 126.93302 126.85368 135.08192 142.33711 130.29078\n",
       "2008 130.71379 132.76807 137.16377 144.48364 129.35131\n",
       "2009 132.93903 136.25545 139.77673 150.41551 133.06391\n",
       "2010 135.33254 138.61020 144.57492 155.99151 138.15992\n",
       "2011 142.45232 142.94344 151.72770 159.45243 141.81877\n",
       "2012 145.31533 149.36807 155.31497 163.85708 147.89357\n",
       "2013 150.78108 154.48693 160.61596 168.00570 152.66748\n",
       "2014 156.68200 159.83362 167.71514 175.56379 160.65746\n",
       "2015 162.92469 167.40418 174.19459 181.79268 166.97585\n",
       "2016 168.48371 170.52451 179.34088 190.21973 171.80358\n",
       "2017 172.37568 176.85301 183.56570 195.17017 173.51027\n",
       "2018 178.60813 183.90445 190.77231 200.28186 180.71387"
      ]
     },
     "metadata": {},
     "output_type": "display_data"
    }
   ],
   "source": [
    "tsaf_IMAE"
   ]
  },
  {
   "cell_type": "code",
   "execution_count": 12,
   "metadata": {
    "slideshow": {
     "slide_type": "subslide"
    }
   },
   "outputs": [
    {
     "data": {
      "image/png": "[encoded data removed]",
      "text/plain": [
       "Plot with title \"Serie de Baja Frecuencia\""
      ]
     },
     "metadata": {
      "image/png": {
       "height": 420,
       "width": 420
      },
      "text/plain": {
       "height": 420,
       "width": 420
      }
     },
     "output_type": "display_data"
    }
   ],
   "source": [
    "# Graficamos\n",
    "plot(tsbf_PIB,col = \"red\",lwd = 1,lty= 1, main=\"Serie de Baja Frecuencia\",ylab=\" \")"
   ]
  },
  {
   "cell_type": "code",
   "execution_count": 13,
   "metadata": {
    "slideshow": {
     "slide_type": "subslide"
    }
   },
   "outputs": [
    {
     "data": {
      "image/png": "[encoded data removed]",
      "text/plain": [
       "Plot with title \"Serie de Alta Frecuencia\""
      ]
     },
     "metadata": {
      "image/png": {
       "height": 420,
       "width": 420
      },
      "text/plain": {
       "height": 420,
       "width": 420
      }
     },
     "output_type": "display_data"
    }
   ],
   "source": [
    "plot(tsaf_IMAE,col = \"black\",lwd = 1,lty= 1,main=\"Serie de Alta Frecuencia\",ylab=\" \")"
   ]
  },
  {
   "cell_type": "code",
   "execution_count": 14,
   "metadata": {
    "slideshow": {
     "slide_type": "subslide"
    }
   },
   "outputs": [],
   "source": [
    "#-----------Argumentos para la desagregación de series de tiempo--------------#\n",
    "\n",
    "# Usamos \"td\"\n",
    "# td(serie o conjunto de series,\n",
    "\n",
    "#       conversion = \"sum\" \"average\" \"first\" \"last\",\n",
    "\n",
    "#       to = frecuencia de desagregación con número entero (trimestre = 4),\n",
    "#               si la serie ingresada es objeto ts, el argumento es necesario si\n",
    "#                   no se da indicador.\n",
    "#               Si es una matriz, to debe ser un escalar indicando la frecuencia.\n",
    "\n",
    "#       method = Métodos de Denton\n",
    "#                   1. \"denton-cholette\"\n",
    "#                   2. \"denton\"\n",
    "#                   3. \"uniform\"\n",
    "#                   4. \"ols\"\n",
    "\n",
    "#                Métodos basados en regresión\n",
    "#                   5. \"chow-lin-maxlog\" \n",
    "#                   6. \"chow-lin-minrss-ecotrim\"\n",
    "#                   7. \"chow-lin-minrss-quilis\"\n",
    "#                   8. \"chow-lin-fixed\"\n",
    "#                   9. \"fernandez\"\n",
    "#                   10. \"litterman-maxlog\"\n",
    "#                   11. \"litterman-minrss\"\n",
    "#                   12. \"litterman-fixed\"\n"
   ]
  },
  {
   "cell_type": "code",
   "execution_count": 15,
   "metadata": {
    "slideshow": {
     "slide_type": "subslide"
    }
   },
   "outputs": [
    {
     "name": "stderr",
     "output_type": "stream",
     "text": [
      "Your code contains a unicode char which cannot be displayed in your\n",
      "current locale and R will silently convert it to an escaped form when the\n",
      "R kernel executes this code. This can lead to subtle errors if you use\n",
      "such chars to do comparisons. For more information, please see\n",
      "https://github.com/IRkernel/repr/wiki/Problems-with-unicode-on-windows"
     ]
    }
   ],
   "source": [
    "#                Métodos experimentales\n",
    "#                   13. \"dynamic-maxlog\" (experimental)\n",
    "#                   14. \"dynamic-minrss\" (experimental)\n",
    "#                   15. \"dynamic-fixed\" (experimental)\n",
    "\n",
    "#       truncated.rho =  límite inferior del parámetro autorregresivo ρ.\n",
    "#                0 = (default), no acepta valores negativos\n",
    "#               -1 = truncado.\n",
    "\n",
    "#       fixed.rho = fija el parametro autorregresivo ρ. \n",
    "#               (Solo para \"chow-lin-fixed\" and \"litterman-fixed\")\n",
    "\n",
    "#       start = valor inicial\n",
    "\n",
    "#       end = valor final\n",
    "\n",
    "#------->  Sólo para los métodos de Denton\n",
    "\n",
    "#       criterion = criterio de minimización para los métodos de Denton\n",
    "#               \"proportional\" o \"additive\"\n",
    "\n",
    "#       h = grado de diferenciación para el método Denton"
   ]
  },
  {
   "cell_type": "code",
   "execution_count": 16,
   "metadata": {
    "slideshow": {
     "slide_type": "subslide"
    }
   },
   "outputs": [],
   "source": [
    "#-----------------------------------------------------------------------------#\n",
    "\n",
    "#                                   IMPORTANTE\n",
    "\n",
    "#-----------------------------------------------------------------------------#\n",
    "\n",
    "# 1) La \"conversion\" hace que la serie de alta frecuencia resultante es consistente\n",
    "# con la serie de baja frecuencia. Esta desagregación se puede realizar con o sin\n",
    "# la ayuda de una o más series de indicadores de referencia.\n",
    "\n",
    "# 2) Si los indicadores de alta frecuencia cubren un período de tiempo más largo\n",
    "# que las series de baja frecuencia, se realiza una extrapolación o retropolación\n",
    "# (Wei, 1994, p. 138), utilizando el mismo modelo que para la interpolación.\n",
    "\n",
    "# 3) La selección del modelo de desagregación es similar a la selección del modelo\n",
    "# de regresión lineal. \"td\" refleja de cerca el funcionamiento de la función lm.\n",
    "# El lado izquierdo de la fórmula denota las series de baja frecuencia, \n",
    "# el lado derecho los indicadores. Si no se especifica ningún indicador, el lado\n",
    "# derecho debe establecerse igual a 1. A diferencia de lm, td maneja objetos de \n",
    "# series temporales ts y mts (matriz).\n",
    "\n"
   ]
  },
  {
   "cell_type": "code",
   "execution_count": 17,
   "metadata": {
    "slideshow": {
     "slide_type": "subslide"
    }
   },
   "outputs": [
    {
     "name": "stderr",
     "output_type": "stream",
     "text": [
      "Your code contains a unicode char which cannot be displayed in your\n",
      "current locale and R will silently convert it to an escaped form when the\n",
      "R kernel executes this code. This can lead to subtle errors if you use\n",
      "such chars to do comparisons. For more information, please see\n",
      "https://github.com/IRkernel/repr/wiki/Problems-with-unicode-on-windows"
     ]
    }
   ],
   "source": [
    "#-----------------------------------------------------------------------------#\n",
    "\n",
    "# 4) Para los métodos de mínimos cuadrados generalizados (GLS) \"chow-lin-maxlog\",\n",
    "# \"chow-lin-minrss-ecotrim\", \"chow-lin-minrss-quilis\", \"litterman-maxlog\" y \n",
    "# \"litterman-minrss\"; y para el autorregresivo ρ. El método predeterminado \n",
    "# (y recomendado) es chow-lin-maxlog. Con truncated.rho = 0 (predeterminado), \n",
    "# produce buenos resultados para una amplia gama de aplicaciones.\n",
    "\n",
    "# 5) Los métodos \"dynamic-maxlog\", \"dynamic-minrss\" y \"dynamic-fixed\" son \n",
    "# extensiones dinámicas de Chow-Lin (Santos Silva y Cardoso, 2001). \n",
    "# Si el parámetro autorregresivo ρ es igual a 0, no se agrega el resto de\n",
    "# truncamiento. ESTOS SON MÉTODOS EXPERIMENTALES.\n",
    "\n",
    "# 6) Los métodos de Denton (\"denton\" y \"denton-cholette\") pueden especificarse\n",
    "# con uno o sin indicador. El parámetro \"h\" se puede establecer igual a 0, 1 o 2.\n",
    "# El procedimiento minimiza la suma de cuadrados de las desviaciones del indicador\n",
    "# y la serie resultante. \"denton-cholette\" elimina el movimiento transitorio del\n",
    "# método original \"denton\" al comienzo de la serie resultante.\n",
    "\n",
    "# 7) \"uniforme\" es un caso especial del enfoque \"denton\", con \"h\" igual a 0 y\n",
    "# criterio igual a \"proporcional\". Distribuye los residuos de manera uniforme.\n",
    "# Si no se utiliza ningún indicador, esto conduce a una serie en forma de escalón.\n",
    "\n",
    "# 8) Por último, \"ols\" realiza una regresión ordinaria de mínimos cuadrados (OLS)\n",
    "# y distribuye los residuos de manera uniforme. Es especialmente útil para \n",
    "# comparar los estimadores de regresiones GLS y OLS.\n",
    "\n",
    "#-----------------------------------------------------------------------------#"
   ]
  },
  {
   "cell_type": "code",
   "execution_count": 18,
   "metadata": {
    "slideshow": {
     "slide_type": "subslide"
    }
   },
   "outputs": [],
   "source": [
    "# Indicadores de referencia\n",
    "tsaf1 = tsaf_empleo\n",
    "tsaf2 = tsaf_IMAE\n",
    "\n",
    "#bf = tsbf_GCF\n",
    "bf = tsbf_PIB\n",
    "\n",
    "# Consistente con:\n",
    "criterio = \"average\""
   ]
  },
  {
   "cell_type": "code",
   "execution_count": 19,
   "metadata": {
    "slideshow": {
     "slide_type": "slide"
    }
   },
   "outputs": [],
   "source": [
    "#-----------------------------------------------------------------------------#\n",
    "\n",
    "#                               Métodos de Denton\n",
    "\n",
    "# Por un lado, Denton (Denton, 1971) y Denton-Cholette, se preocupan principalmente\n",
    "# por la preservación del movimiento, generando una serie que es similar a la \n",
    "# serie de indicadores, ya sea que el indicador esté o no correlacionado con el \n",
    "# nivel bajo de frecuencias. Alternativamente, estos métodos pueden desagregar \n",
    "# una serie sin un indicador.\n",
    "\n",
    "#-----------------------------------------------------------------------------#"
   ]
  },
  {
   "cell_type": "code",
   "execution_count": 20,
   "metadata": {
    "slideshow": {
     "slide_type": "slide"
    }
   },
   "outputs": [
    {
     "data": {
      "text/plain": [
       "\n",
       "Call:\n",
       "td(formula = bf ~ 1, conversion = criterio, to = 12, method = \"denton-cholette\", \n",
       "    criterion = \"proportional\", h = 1)\n",
       "\n",
       "Residuals:\n",
       "   Min     1Q Median     3Q    Max \n",
       "146977 166721 193909 221856 243994 \n",
       "\n",
       "No Coefficients\n",
       "\n",
       "'denton-cholette' disaggregation with 'average' conversion\n",
       "17 low-freq. obs. converted to 204 high-freq. obs.\n",
       "criterion: proportional \torder of differencing 'h': 1"
      ]
     },
     "metadata": {},
     "output_type": "display_data"
    }
   ],
   "source": [
    "#-----------------------------------------------------------------------------#\n",
    "#                       Método 1 - \"Denton-Cholette\"\n",
    "#-----------------------------------------------------------------------------#\n",
    "dc_si = td(bf ~ 1,                                # sin indicador\n",
    "            to = 12,                              # mensual\n",
    "            method = \"denton-cholette\",\n",
    "            conversion = criterio,                # consistente con la average\n",
    "            criterion = \"proportional\",           # criterio proporcional\n",
    "            h = 1,                                # primera diferencia\n",
    "            )\n",
    "\n",
    "# Extraemos la serie resultante\n",
    "dc_salida_si = predict(dc_si)\n",
    "\n",
    "# Resumen del método\n",
    "summary(dc_si)"
   ]
  },
  {
   "cell_type": "code",
   "execution_count": 21,
   "metadata": {
    "slideshow": {
     "slide_type": "subslide"
    }
   },
   "outputs": [
    {
     "data": {
      "text/html": [
       "<table>\n",
       "<caption>A Time Series: 17 × 12</caption>\n",
       "<thead>\n",
       "\t<tr><th></th><th scope=col>Jan</th><th scope=col>Feb</th><th scope=col>Mar</th><th scope=col>Apr</th><th scope=col>May</th><th scope=col>Jun</th><th scope=col>Jul</th><th scope=col>Aug</th><th scope=col>Sep</th><th scope=col>Oct</th><th scope=col>Nov</th><th scope=col>Dec</th></tr>\n",
       "</thead>\n",
       "<tbody>\n",
       "\t<tr><th scope=row>2001</th><td>145670.0</td><td>145724.8</td><td>145834.6</td><td>145999.2</td><td>146218.7</td><td>146493.1</td><td>146822.4</td><td>147206.5</td><td>147645.5</td><td>148139.4</td><td>148688.1</td><td>149291.8</td></tr>\n",
       "\t<tr><th scope=row>2002</th><td>149950.3</td><td>150570.6</td><td>151152.6</td><td>151696.4</td><td>152202.0</td><td>152669.4</td><td>153098.5</td><td>153489.4</td><td>153842.1</td><td>154156.5</td><td>154432.7</td><td>154670.7</td></tr>\n",
       "\t<tr><th scope=row>2003</th><td>154870.4</td><td>155093.4</td><td>155339.8</td><td>155609.4</td><td>155902.4</td><td>156218.7</td><td>156558.3</td><td>156921.2</td><td>157307.4</td><td>157716.9</td><td>158149.7</td><td>158605.8</td></tr>\n",
       "\t<tr><th scope=row>2004</th><td>159085.3</td><td>159553.6</td><td>160010.9</td><td>160457.1</td><td>160892.3</td><td>161316.3</td><td>161729.3</td><td>162131.2</td><td>162522.1</td><td>162901.8</td><td>163270.5</td><td>163628.2</td></tr>\n",
       "\t<tr><th scope=row>2005</th><td>163974.7</td><td>164356.5</td><td>164773.7</td><td>165226.1</td><td>165713.8</td><td>166236.9</td><td>166795.2</td><td>167388.8</td><td>168017.8</td><td>168682.0</td><td>169381.5</td><td>170116.3</td></tr>\n",
       "\t<tr><th scope=row>2006</th><td>170886.5</td><td>171680.5</td><td>172498.4</td><td>173340.1</td><td>174205.7</td><td>175095.2</td><td>176008.6</td><td>176945.9</td><td>177907.0</td><td>178892.0</td><td>179900.9</td><td>180933.7</td></tr>\n",
       "\t<tr><th scope=row>2007</th><td>181990.4</td><td>183003.6</td><td>183973.4</td><td>184899.7</td><td>185782.7</td><td>186622.2</td><td>187418.3</td><td>188170.9</td><td>188880.1</td><td>189545.9</td><td>190168.3</td><td>190747.3</td></tr>\n",
       "\t<tr><th scope=row>2008</th><td>191282.8</td><td>191762.4</td><td>192186.0</td><td>192553.7</td><td>192865.4</td><td>193121.3</td><td>193321.1</td><td>193465.1</td><td>193553.0</td><td>193585.1</td><td>193561.2</td><td>193481.3</td></tr>\n",
       "\t<tr><th scope=row>2009</th><td>193345.6</td><td>193264.8</td><td>193239.0</td><td>193268.2</td><td>193352.4</td><td>193491.6</td><td>193685.9</td><td>193935.1</td><td>194239.3</td><td>194598.5</td><td>195012.7</td><td>195481.9</td></tr>\n",
       "\t<tr><th scope=row>2010</th><td>196006.1</td><td>196554.8</td><td>197128.1</td><td>197725.9</td><td>198348.2</td><td>198995.0</td><td>199666.4</td><td>200362.3</td><td>201082.7</td><td>201827.7</td><td>202597.1</td><td>203391.2</td></tr>\n",
       "\t<tr><th scope=row>2011</th><td>204209.7</td><td>204989.0</td><td>205729.0</td><td>206429.7</td><td>207091.3</td><td>207713.5</td><td>208296.5</td><td>208840.2</td><td>209344.7</td><td>209809.9</td><td>210235.8</td><td>210622.5</td></tr>\n",
       "\t<tr><th scope=row>2012</th><td>210970.0</td><td>211362.1</td><td>211799.0</td><td>212280.6</td><td>212806.9</td><td>213377.9</td><td>213993.7</td><td>214654.1</td><td>215359.3</td><td>216109.2</td><td>216903.8</td><td>217743.1</td></tr>\n",
       "\t<tr><th scope=row>2013</th><td>218627.1</td><td>219442.7</td><td>220189.8</td><td>220868.4</td><td>221478.6</td><td>222020.3</td><td>222493.5</td><td>222898.3</td><td>223234.5</td><td>223502.4</td><td>223701.7</td><td>223832.6</td></tr>\n",
       "\t<tr><th scope=row>2014</th><td>223895.0</td><td>224006.9</td><td>224168.4</td><td>224379.5</td><td>224640.1</td><td>224950.2</td><td>225309.9</td><td>225719.2</td><td>226177.9</td><td>226686.3</td><td>227244.2</td><td>227851.6</td></tr>\n",
       "\t<tr><th scope=row>2015</th><td>228508.6</td><td>229132.6</td><td>229723.8</td><td>230282.1</td><td>230807.5</td><td>231300.1</td><td>231759.7</td><td>232186.4</td><td>232580.3</td><td>232941.2</td><td>233269.3</td><td>233564.5</td></tr>\n",
       "\t<tr><th scope=row>2016</th><td>233826.7</td><td>234139.8</td><td>234503.6</td><td>234918.1</td><td>235383.4</td><td>235899.5</td><td>236466.3</td><td>237083.9</td><td>237752.3</td><td>238471.4</td><td>239241.2</td><td>240061.8</td></tr>\n",
       "\t<tr><th scope=row>2017</th><td>240933.2</td><td>241732.0</td><td>242458.1</td><td>243111.7</td><td>243692.6</td><td>244200.9</td><td>244636.6</td><td>244999.6</td><td>245290.1</td><td>245508.0</td><td>245653.2</td><td>245725.8</td></tr>\n",
       "</tbody>\n",
       "</table>\n"
      ],
      "text/latex": [
       "A Time Series: 17 × 12\n",
       "\\begin{tabular}{r|llllllllllll}\n",
       "  & Jan & Feb & Mar & Apr & May & Jun & Jul & Aug & Sep & Oct & Nov & Dec\\\\\n",
       "\\hline\n",
       "\t2001 & 145670.0 & 145724.8 & 145834.6 & 145999.2 & 146218.7 & 146493.1 & 146822.4 & 147206.5 & 147645.5 & 148139.4 & 148688.1 & 149291.8\\\\\n",
       "\t2002 & 149950.3 & 150570.6 & 151152.6 & 151696.4 & 152202.0 & 152669.4 & 153098.5 & 153489.4 & 153842.1 & 154156.5 & 154432.7 & 154670.7\\\\\n",
       "\t2003 & 154870.4 & 155093.4 & 155339.8 & 155609.4 & 155902.4 & 156218.7 & 156558.3 & 156921.2 & 157307.4 & 157716.9 & 158149.7 & 158605.8\\\\\n",
       "\t2004 & 159085.3 & 159553.6 & 160010.9 & 160457.1 & 160892.3 & 161316.3 & 161729.3 & 162131.2 & 162522.1 & 162901.8 & 163270.5 & 163628.2\\\\\n",
       "\t2005 & 163974.7 & 164356.5 & 164773.7 & 165226.1 & 165713.8 & 166236.9 & 166795.2 & 167388.8 & 168017.8 & 168682.0 & 169381.5 & 170116.3\\\\\n",
       "\t2006 & 170886.5 & 171680.5 & 172498.4 & 173340.1 & 174205.7 & 175095.2 & 176008.6 & 176945.9 & 177907.0 & 178892.0 & 179900.9 & 180933.7\\\\\n",
       "\t2007 & 181990.4 & 183003.6 & 183973.4 & 184899.7 & 185782.7 & 186622.2 & 187418.3 & 188170.9 & 188880.1 & 189545.9 & 190168.3 & 190747.3\\\\\n",
       "\t2008 & 191282.8 & 191762.4 & 192186.0 & 192553.7 & 192865.4 & 193121.3 & 193321.1 & 193465.1 & 193553.0 & 193585.1 & 193561.2 & 193481.3\\\\\n",
       "\t2009 & 193345.6 & 193264.8 & 193239.0 & 193268.2 & 193352.4 & 193491.6 & 193685.9 & 193935.1 & 194239.3 & 194598.5 & 195012.7 & 195481.9\\\\\n",
       "\t2010 & 196006.1 & 196554.8 & 197128.1 & 197725.9 & 198348.2 & 198995.0 & 199666.4 & 200362.3 & 201082.7 & 201827.7 & 202597.1 & 203391.2\\\\\n",
       "\t2011 & 204209.7 & 204989.0 & 205729.0 & 206429.7 & 207091.3 & 207713.5 & 208296.5 & 208840.2 & 209344.7 & 209809.9 & 210235.8 & 210622.5\\\\\n",
       "\t2012 & 210970.0 & 211362.1 & 211799.0 & 212280.6 & 212806.9 & 213377.9 & 213993.7 & 214654.1 & 215359.3 & 216109.2 & 216903.8 & 217743.1\\\\\n",
       "\t2013 & 218627.1 & 219442.7 & 220189.8 & 220868.4 & 221478.6 & 222020.3 & 222493.5 & 222898.3 & 223234.5 & 223502.4 & 223701.7 & 223832.6\\\\\n",
       "\t2014 & 223895.0 & 224006.9 & 224168.4 & 224379.5 & 224640.1 & 224950.2 & 225309.9 & 225719.2 & 226177.9 & 226686.3 & 227244.2 & 227851.6\\\\\n",
       "\t2015 & 228508.6 & 229132.6 & 229723.8 & 230282.1 & 230807.5 & 231300.1 & 231759.7 & 232186.4 & 232580.3 & 232941.2 & 233269.3 & 233564.5\\\\\n",
       "\t2016 & 233826.7 & 234139.8 & 234503.6 & 234918.1 & 235383.4 & 235899.5 & 236466.3 & 237083.9 & 237752.3 & 238471.4 & 239241.2 & 240061.8\\\\\n",
       "\t2017 & 240933.2 & 241732.0 & 242458.1 & 243111.7 & 243692.6 & 244200.9 & 244636.6 & 244999.6 & 245290.1 & 245508.0 & 245653.2 & 245725.8\\\\\n",
       "\\end{tabular}\n"
      ],
      "text/markdown": [
       "\n",
       "A Time Series: 17 × 12\n",
       "\n",
       "| <!--/--> | Jan | Feb | Mar | Apr | May | Jun | Jul | Aug | Sep | Oct | Nov | Dec |\n",
       "|---|---|---|---|---|---|---|---|---|---|---|---|---|\n",
       "| 2001 | 145670.0 | 145724.8 | 145834.6 | 145999.2 | 146218.7 | 146493.1 | 146822.4 | 147206.5 | 147645.5 | 148139.4 | 148688.1 | 149291.8 |\n",
       "| 2002 | 149950.3 | 150570.6 | 151152.6 | 151696.4 | 152202.0 | 152669.4 | 153098.5 | 153489.4 | 153842.1 | 154156.5 | 154432.7 | 154670.7 |\n",
       "| 2003 | 154870.4 | 155093.4 | 155339.8 | 155609.4 | 155902.4 | 156218.7 | 156558.3 | 156921.2 | 157307.4 | 157716.9 | 158149.7 | 158605.8 |\n",
       "| 2004 | 159085.3 | 159553.6 | 160010.9 | 160457.1 | 160892.3 | 161316.3 | 161729.3 | 162131.2 | 162522.1 | 162901.8 | 163270.5 | 163628.2 |\n",
       "| 2005 | 163974.7 | 164356.5 | 164773.7 | 165226.1 | 165713.8 | 166236.9 | 166795.2 | 167388.8 | 168017.8 | 168682.0 | 169381.5 | 170116.3 |\n",
       "| 2006 | 170886.5 | 171680.5 | 172498.4 | 173340.1 | 174205.7 | 175095.2 | 176008.6 | 176945.9 | 177907.0 | 178892.0 | 179900.9 | 180933.7 |\n",
       "| 2007 | 181990.4 | 183003.6 | 183973.4 | 184899.7 | 185782.7 | 186622.2 | 187418.3 | 188170.9 | 188880.1 | 189545.9 | 190168.3 | 190747.3 |\n",
       "| 2008 | 191282.8 | 191762.4 | 192186.0 | 192553.7 | 192865.4 | 193121.3 | 193321.1 | 193465.1 | 193553.0 | 193585.1 | 193561.2 | 193481.3 |\n",
       "| 2009 | 193345.6 | 193264.8 | 193239.0 | 193268.2 | 193352.4 | 193491.6 | 193685.9 | 193935.1 | 194239.3 | 194598.5 | 195012.7 | 195481.9 |\n",
       "| 2010 | 196006.1 | 196554.8 | 197128.1 | 197725.9 | 198348.2 | 198995.0 | 199666.4 | 200362.3 | 201082.7 | 201827.7 | 202597.1 | 203391.2 |\n",
       "| 2011 | 204209.7 | 204989.0 | 205729.0 | 206429.7 | 207091.3 | 207713.5 | 208296.5 | 208840.2 | 209344.7 | 209809.9 | 210235.8 | 210622.5 |\n",
       "| 2012 | 210970.0 | 211362.1 | 211799.0 | 212280.6 | 212806.9 | 213377.9 | 213993.7 | 214654.1 | 215359.3 | 216109.2 | 216903.8 | 217743.1 |\n",
       "| 2013 | 218627.1 | 219442.7 | 220189.8 | 220868.4 | 221478.6 | 222020.3 | 222493.5 | 222898.3 | 223234.5 | 223502.4 | 223701.7 | 223832.6 |\n",
       "| 2014 | 223895.0 | 224006.9 | 224168.4 | 224379.5 | 224640.1 | 224950.2 | 225309.9 | 225719.2 | 226177.9 | 226686.3 | 227244.2 | 227851.6 |\n",
       "| 2015 | 228508.6 | 229132.6 | 229723.8 | 230282.1 | 230807.5 | 231300.1 | 231759.7 | 232186.4 | 232580.3 | 232941.2 | 233269.3 | 233564.5 |\n",
       "| 2016 | 233826.7 | 234139.8 | 234503.6 | 234918.1 | 235383.4 | 235899.5 | 236466.3 | 237083.9 | 237752.3 | 238471.4 | 239241.2 | 240061.8 |\n",
       "| 2017 | 240933.2 | 241732.0 | 242458.1 | 243111.7 | 243692.6 | 244200.9 | 244636.6 | 244999.6 | 245290.1 | 245508.0 | 245653.2 | 245725.8 |\n",
       "\n"
      ],
      "text/plain": [
       "     Jan      Feb      Mar      Apr      May      Jun      Jul      Aug     \n",
       "2001 145670.0 145724.8 145834.6 145999.2 146218.7 146493.1 146822.4 147206.5\n",
       "2002 149950.3 150570.6 151152.6 151696.4 152202.0 152669.4 153098.5 153489.4\n",
       "2003 154870.4 155093.4 155339.8 155609.4 155902.4 156218.7 156558.3 156921.2\n",
       "2004 159085.3 159553.6 160010.9 160457.1 160892.3 161316.3 161729.3 162131.2\n",
       "2005 163974.7 164356.5 164773.7 165226.1 165713.8 166236.9 166795.2 167388.8\n",
       "2006 170886.5 171680.5 172498.4 173340.1 174205.7 175095.2 176008.6 176945.9\n",
       "2007 181990.4 183003.6 183973.4 184899.7 185782.7 186622.2 187418.3 188170.9\n",
       "2008 191282.8 191762.4 192186.0 192553.7 192865.4 193121.3 193321.1 193465.1\n",
       "2009 193345.6 193264.8 193239.0 193268.2 193352.4 193491.6 193685.9 193935.1\n",
       "2010 196006.1 196554.8 197128.1 197725.9 198348.2 198995.0 199666.4 200362.3\n",
       "2011 204209.7 204989.0 205729.0 206429.7 207091.3 207713.5 208296.5 208840.2\n",
       "2012 210970.0 211362.1 211799.0 212280.6 212806.9 213377.9 213993.7 214654.1\n",
       "2013 218627.1 219442.7 220189.8 220868.4 221478.6 222020.3 222493.5 222898.3\n",
       "2014 223895.0 224006.9 224168.4 224379.5 224640.1 224950.2 225309.9 225719.2\n",
       "2015 228508.6 229132.6 229723.8 230282.1 230807.5 231300.1 231759.7 232186.4\n",
       "2016 233826.7 234139.8 234503.6 234918.1 235383.4 235899.5 236466.3 237083.9\n",
       "2017 240933.2 241732.0 242458.1 243111.7 243692.6 244200.9 244636.6 244999.6\n",
       "     Sep      Oct      Nov      Dec     \n",
       "2001 147645.5 148139.4 148688.1 149291.8\n",
       "2002 153842.1 154156.5 154432.7 154670.7\n",
       "2003 157307.4 157716.9 158149.7 158605.8\n",
       "2004 162522.1 162901.8 163270.5 163628.2\n",
       "2005 168017.8 168682.0 169381.5 170116.3\n",
       "2006 177907.0 178892.0 179900.9 180933.7\n",
       "2007 188880.1 189545.9 190168.3 190747.3\n",
       "2008 193553.0 193585.1 193561.2 193481.3\n",
       "2009 194239.3 194598.5 195012.7 195481.9\n",
       "2010 201082.7 201827.7 202597.1 203391.2\n",
       "2011 209344.7 209809.9 210235.8 210622.5\n",
       "2012 215359.3 216109.2 216903.8 217743.1\n",
       "2013 223234.5 223502.4 223701.7 223832.6\n",
       "2014 226177.9 226686.3 227244.2 227851.6\n",
       "2015 232580.3 232941.2 233269.3 233564.5\n",
       "2016 237752.3 238471.4 239241.2 240061.8\n",
       "2017 245290.1 245508.0 245653.2 245725.8"
      ]
     },
     "metadata": {},
     "output_type": "display_data"
    }
   ],
   "source": [
    "# Pasamos los datos a Time Series\n",
    "tsbfa_dc_si = ts(dc_salida_si,\n",
    "               start= c(2001,1),\n",
    "               end= c(2017,12),\n",
    "               frequency=12,\n",
    "               deltat=1/12,\n",
    "               ts.eps = 0.05,\n",
    "               class = \"ts\"\n",
    "               )\n",
    "tsbfa_dc_si"
   ]
  },
  {
   "cell_type": "code",
   "execution_count": 22,
   "metadata": {
    "slideshow": {
     "slide_type": "subslide"
    }
   },
   "outputs": [
    {
     "data": {
      "image/png": "[encoded data removed]",
      "text/plain": [
       "Plot with title \"Comparación de serie estimada y de referencia\""
      ]
     },
     "metadata": {
      "image/png": {
       "height": 420,
       "width": 420
      },
      "text/plain": {
       "height": 420,
       "width": 420
      }
     },
     "output_type": "display_data"
    }
   ],
   "source": [
    "# Graficamos para comparar\n",
    "plot(tsbfa_dc_si,col = \"red\", lwd = 1, lty= 2, main=\"Comparación de serie estimada y de referencia\",\n",
    "         ylab=\" \", sub=\"Estimada = Rojo\"); lines(bf,col = \"black\", lwd = 1, lty= 1, ylab=\" \",)"
   ]
  },
  {
   "cell_type": "code",
   "execution_count": 23,
   "metadata": {
    "slideshow": {
     "slide_type": "subslide"
    }
   },
   "outputs": [
    {
     "data": {
      "text/plain": [
       "\n",
       "Call:\n",
       "td(formula = bf ~ 0 + tsaf2, conversion = criterio, to = 12, \n",
       "    method = \"denton-cholette\", criterion = \"proportional\", h = 1)\n",
       "\n",
       "Residuals:\n",
       "   Min     1Q Median     3Q    Max \n",
       "146877 166608 193777 221706 243822 \n",
       "\n",
       "No Coefficients\n",
       "\n",
       "'denton-cholette' disaggregation with 'average' conversion\n",
       "17 low-freq. obs. converted to 216 high-freq. obs.\n",
       "criterion: proportional \torder of differencing 'h': 1"
      ]
     },
     "metadata": {},
     "output_type": "display_data"
    }
   ],
   "source": [
    "dc_ci = td(bf ~ 0 + tsaf2,                     # con indicador\n",
    "        to = 12,                               # mensual\n",
    "        method = \"denton-cholette\",\n",
    "        conversion = criterio,                 # consistente con la average\n",
    "        criterion = \"proportional\",            # criterio proporcional\n",
    "        h = 1                                  # primera diferencia\n",
    "        )\n",
    "# Extraemos la serie resultante\n",
    "dc_salida_ci = predict(dc_ci)\n",
    "\n",
    "# Resumen del método\n",
    "summary(dc_ci)"
   ]
  },
  {
   "cell_type": "code",
   "execution_count": 24,
   "metadata": {
    "slideshow": {
     "slide_type": "subslide"
    }
   },
   "outputs": [
    {
     "data": {
      "text/html": [
       "<table>\n",
       "<caption>A Time Series: 18 × 12</caption>\n",
       "<thead>\n",
       "\t<tr><th></th><th scope=col>Jan</th><th scope=col>Feb</th><th scope=col>Mar</th><th scope=col>Apr</th><th scope=col>May</th><th scope=col>Jun</th><th scope=col>Jul</th><th scope=col>Aug</th><th scope=col>Sep</th><th scope=col>Oct</th><th scope=col>Nov</th><th scope=col>Dec</th></tr>\n",
       "</thead>\n",
       "<tbody>\n",
       "\t<tr><th scope=row>2001</th><td>143520.4</td><td>144477.9</td><td>141111.4</td><td>144649.5</td><td>135461.9</td><td>148166.8</td><td>141142.2</td><td>145373.2</td><td>149881.2</td><td>155960.2</td><td>165641.9</td><td>148347.5</td></tr>\n",
       "\t<tr><th scope=row>2002</th><td>138752.6</td><td>147031.8</td><td>145917.7</td><td>151110.3</td><td>141795.0</td><td>156297.2</td><td>148521.8</td><td>154910.1</td><td>156798.2</td><td>161640.8</td><td>173688.0</td><td>155467.7</td></tr>\n",
       "\t<tr><th scope=row>2003</th><td>144420.6</td><td>153731.7</td><td>151487.8</td><td>154850.2</td><td>146444.9</td><td>159534.9</td><td>151788.9</td><td>157228.9</td><td>159291.3</td><td>166105.7</td><td>175095.7</td><td>158312.7</td></tr>\n",
       "\t<tr><th scope=row>2004</th><td>150756.6</td><td>156910.6</td><td>154792.2</td><td>156902.2</td><td>152947.0</td><td>165910.8</td><td>156452.3</td><td>161897.4</td><td>165865.9</td><td>169646.6</td><td>183430.5</td><td>161986.6</td></tr>\n",
       "\t<tr><th scope=row>2005</th><td>154770.3</td><td>163636.1</td><td>162188.7</td><td>165520.3</td><td>158972.2</td><td>169557.6</td><td>160347.1</td><td>165530.9</td><td>164472.7</td><td>173604.5</td><td>191355.9</td><td>170707.1</td></tr>\n",
       "\t<tr><th scope=row>2006</th><td>159196.1</td><td>173927.6</td><td>162905.3</td><td>170867.8</td><td>166739.3</td><td>178207.9</td><td>169744.8</td><td>177620.3</td><td>178895.2</td><td>187326.3</td><td>200624.3</td><td>182239.7</td></tr>\n",
       "\t<tr><th scope=row>2007</th><td>172697.1</td><td>185565.8</td><td>175722.2</td><td>183463.0</td><td>180238.4</td><td>190446.6</td><td>183168.0</td><td>185924.8</td><td>185891.8</td><td>198047.2</td><td>208797.6</td><td>191240.3</td></tr>\n",
       "\t<tr><th scope=row>2008</th><td>180538.4</td><td>187196.6</td><td>189611.9</td><td>193235.8</td><td>187883.9</td><td>195029.6</td><td>189169.2</td><td>192344.7</td><td>195345.5</td><td>201770.6</td><td>212472.2</td><td>190139.9</td></tr>\n",
       "\t<tr><th scope=row>2009</th><td>175622.0</td><td>188110.4</td><td>185488.5</td><td>190419.8</td><td>184866.4</td><td>198001.2</td><td>189947.8</td><td>194822.4</td><td>199642.2</td><td>204768.7</td><td>220328.1</td><td>194897.3</td></tr>\n",
       "\t<tr><th scope=row>2010</th><td>180403.4</td><td>196941.0</td><td>190337.5</td><td>196674.1</td><td>193427.6</td><td>199819.1</td><td>191486.1</td><td>198293.7</td><td>203126.7</td><td>211904.6</td><td>228683.5</td><td>202588.1</td></tr>\n",
       "\t<tr><th scope=row>2011</th><td>189729.8</td><td>203872.3</td><td>198482.4</td><td>205246.4</td><td>201666.0</td><td>209691.6</td><td>202161.1</td><td>208954.0</td><td>209626.3</td><td>222443.5</td><td>233685.0</td><td>207753.3</td></tr>\n",
       "\t<tr><th scope=row>2012</th><td>196960.0</td><td>211254.7</td><td>200879.9</td><td>213653.5</td><td>206146.9</td><td>214556.1</td><td>207010.8</td><td>212784.7</td><td>218832.2</td><td>227692.3</td><td>240403.8</td><td>217184.6</td></tr>\n",
       "\t<tr><th scope=row>2013</th><td>205072.7</td><td>214337.6</td><td>216687.5</td><td>223602.5</td><td>213401.0</td><td>224476.9</td><td>216513.3</td><td>221094.2</td><td>226114.7</td><td>234566.5</td><td>244719.1</td><td>221704.1</td></tr>\n",
       "\t<tr><th scope=row>2014</th><td>205571.9</td><td>220735.3</td><td>220266.6</td><td>227739.6</td><td>217407.0</td><td>230790.0</td><td>219177.7</td><td>222772.5</td><td>226890.5</td><td>237756.3</td><td>248609.4</td><td>227312.6</td></tr>\n",
       "\t<tr><th scope=row>2015</th><td>211703.4</td><td>226050.3</td><td>223551.2</td><td>231732.8</td><td>222714.0</td><td>237637.8</td><td>224434.5</td><td>229213.6</td><td>235308.3</td><td>244627.8</td><td>255052.7</td><td>234029.7</td></tr>\n",
       "\t<tr><th scope=row>2016</th><td>216461.9</td><td>227652.2</td><td>228850.3</td><td>238543.9</td><td>227707.7</td><td>238427.5</td><td>229881.9</td><td>235231.9</td><td>238142.5</td><td>250561.5</td><td>265921.0</td><td>240365.7</td></tr>\n",
       "\t<tr><th scope=row>2017</th><td>222683.7</td><td>236969.8</td><td>233652.7</td><td>244883.0</td><td>235463.1</td><td>248431.4</td><td>237018.4</td><td>242497.8</td><td>248879.7</td><td>258391.6</td><td>274772.7</td><td>244297.9</td></tr>\n",
       "\t<tr><th scope=row>2018</th><td>229900.3</td><td>242280.3</td><td>242977.1</td><td>254978.5</td><td>243873.8</td><td>257666.4</td><td>246291.8</td><td>251475.6</td><td>258932.7</td><td>268602.4</td><td>281991.6</td><td>254440.4</td></tr>\n",
       "</tbody>\n",
       "</table>\n"
      ],
      "text/latex": [
       "A Time Series: 18 × 12\n",
       "\\begin{tabular}{r|llllllllllll}\n",
       "  & Jan & Feb & Mar & Apr & May & Jun & Jul & Aug & Sep & Oct & Nov & Dec\\\\\n",
       "\\hline\n",
       "\t2001 & 143520.4 & 144477.9 & 141111.4 & 144649.5 & 135461.9 & 148166.8 & 141142.2 & 145373.2 & 149881.2 & 155960.2 & 165641.9 & 148347.5\\\\\n",
       "\t2002 & 138752.6 & 147031.8 & 145917.7 & 151110.3 & 141795.0 & 156297.2 & 148521.8 & 154910.1 & 156798.2 & 161640.8 & 173688.0 & 155467.7\\\\\n",
       "\t2003 & 144420.6 & 153731.7 & 151487.8 & 154850.2 & 146444.9 & 159534.9 & 151788.9 & 157228.9 & 159291.3 & 166105.7 & 175095.7 & 158312.7\\\\\n",
       "\t2004 & 150756.6 & 156910.6 & 154792.2 & 156902.2 & 152947.0 & 165910.8 & 156452.3 & 161897.4 & 165865.9 & 169646.6 & 183430.5 & 161986.6\\\\\n",
       "\t2005 & 154770.3 & 163636.1 & 162188.7 & 165520.3 & 158972.2 & 169557.6 & 160347.1 & 165530.9 & 164472.7 & 173604.5 & 191355.9 & 170707.1\\\\\n",
       "\t2006 & 159196.1 & 173927.6 & 162905.3 & 170867.8 & 166739.3 & 178207.9 & 169744.8 & 177620.3 & 178895.2 & 187326.3 & 200624.3 & 182239.7\\\\\n",
       "\t2007 & 172697.1 & 185565.8 & 175722.2 & 183463.0 & 180238.4 & 190446.6 & 183168.0 & 185924.8 & 185891.8 & 198047.2 & 208797.6 & 191240.3\\\\\n",
       "\t2008 & 180538.4 & 187196.6 & 189611.9 & 193235.8 & 187883.9 & 195029.6 & 189169.2 & 192344.7 & 195345.5 & 201770.6 & 212472.2 & 190139.9\\\\\n",
       "\t2009 & 175622.0 & 188110.4 & 185488.5 & 190419.8 & 184866.4 & 198001.2 & 189947.8 & 194822.4 & 199642.2 & 204768.7 & 220328.1 & 194897.3\\\\\n",
       "\t2010 & 180403.4 & 196941.0 & 190337.5 & 196674.1 & 193427.6 & 199819.1 & 191486.1 & 198293.7 & 203126.7 & 211904.6 & 228683.5 & 202588.1\\\\\n",
       "\t2011 & 189729.8 & 203872.3 & 198482.4 & 205246.4 & 201666.0 & 209691.6 & 202161.1 & 208954.0 & 209626.3 & 222443.5 & 233685.0 & 207753.3\\\\\n",
       "\t2012 & 196960.0 & 211254.7 & 200879.9 & 213653.5 & 206146.9 & 214556.1 & 207010.8 & 212784.7 & 218832.2 & 227692.3 & 240403.8 & 217184.6\\\\\n",
       "\t2013 & 205072.7 & 214337.6 & 216687.5 & 223602.5 & 213401.0 & 224476.9 & 216513.3 & 221094.2 & 226114.7 & 234566.5 & 244719.1 & 221704.1\\\\\n",
       "\t2014 & 205571.9 & 220735.3 & 220266.6 & 227739.6 & 217407.0 & 230790.0 & 219177.7 & 222772.5 & 226890.5 & 237756.3 & 248609.4 & 227312.6\\\\\n",
       "\t2015 & 211703.4 & 226050.3 & 223551.2 & 231732.8 & 222714.0 & 237637.8 & 224434.5 & 229213.6 & 235308.3 & 244627.8 & 255052.7 & 234029.7\\\\\n",
       "\t2016 & 216461.9 & 227652.2 & 228850.3 & 238543.9 & 227707.7 & 238427.5 & 229881.9 & 235231.9 & 238142.5 & 250561.5 & 265921.0 & 240365.7\\\\\n",
       "\t2017 & 222683.7 & 236969.8 & 233652.7 & 244883.0 & 235463.1 & 248431.4 & 237018.4 & 242497.8 & 248879.7 & 258391.6 & 274772.7 & 244297.9\\\\\n",
       "\t2018 & 229900.3 & 242280.3 & 242977.1 & 254978.5 & 243873.8 & 257666.4 & 246291.8 & 251475.6 & 258932.7 & 268602.4 & 281991.6 & 254440.4\\\\\n",
       "\\end{tabular}\n"
      ],
      "text/markdown": [
       "\n",
       "A Time Series: 18 × 12\n",
       "\n",
       "| <!--/--> | Jan | Feb | Mar | Apr | May | Jun | Jul | Aug | Sep | Oct | Nov | Dec |\n",
       "|---|---|---|---|---|---|---|---|---|---|---|---|---|\n",
       "| 2001 | 143520.4 | 144477.9 | 141111.4 | 144649.5 | 135461.9 | 148166.8 | 141142.2 | 145373.2 | 149881.2 | 155960.2 | 165641.9 | 148347.5 |\n",
       "| 2002 | 138752.6 | 147031.8 | 145917.7 | 151110.3 | 141795.0 | 156297.2 | 148521.8 | 154910.1 | 156798.2 | 161640.8 | 173688.0 | 155467.7 |\n",
       "| 2003 | 144420.6 | 153731.7 | 151487.8 | 154850.2 | 146444.9 | 159534.9 | 151788.9 | 157228.9 | 159291.3 | 166105.7 | 175095.7 | 158312.7 |\n",
       "| 2004 | 150756.6 | 156910.6 | 154792.2 | 156902.2 | 152947.0 | 165910.8 | 156452.3 | 161897.4 | 165865.9 | 169646.6 | 183430.5 | 161986.6 |\n",
       "| 2005 | 154770.3 | 163636.1 | 162188.7 | 165520.3 | 158972.2 | 169557.6 | 160347.1 | 165530.9 | 164472.7 | 173604.5 | 191355.9 | 170707.1 |\n",
       "| 2006 | 159196.1 | 173927.6 | 162905.3 | 170867.8 | 166739.3 | 178207.9 | 169744.8 | 177620.3 | 178895.2 | 187326.3 | 200624.3 | 182239.7 |\n",
       "| 2007 | 172697.1 | 185565.8 | 175722.2 | 183463.0 | 180238.4 | 190446.6 | 183168.0 | 185924.8 | 185891.8 | 198047.2 | 208797.6 | 191240.3 |\n",
       "| 2008 | 180538.4 | 187196.6 | 189611.9 | 193235.8 | 187883.9 | 195029.6 | 189169.2 | 192344.7 | 195345.5 | 201770.6 | 212472.2 | 190139.9 |\n",
       "| 2009 | 175622.0 | 188110.4 | 185488.5 | 190419.8 | 184866.4 | 198001.2 | 189947.8 | 194822.4 | 199642.2 | 204768.7 | 220328.1 | 194897.3 |\n",
       "| 2010 | 180403.4 | 196941.0 | 190337.5 | 196674.1 | 193427.6 | 199819.1 | 191486.1 | 198293.7 | 203126.7 | 211904.6 | 228683.5 | 202588.1 |\n",
       "| 2011 | 189729.8 | 203872.3 | 198482.4 | 205246.4 | 201666.0 | 209691.6 | 202161.1 | 208954.0 | 209626.3 | 222443.5 | 233685.0 | 207753.3 |\n",
       "| 2012 | 196960.0 | 211254.7 | 200879.9 | 213653.5 | 206146.9 | 214556.1 | 207010.8 | 212784.7 | 218832.2 | 227692.3 | 240403.8 | 217184.6 |\n",
       "| 2013 | 205072.7 | 214337.6 | 216687.5 | 223602.5 | 213401.0 | 224476.9 | 216513.3 | 221094.2 | 226114.7 | 234566.5 | 244719.1 | 221704.1 |\n",
       "| 2014 | 205571.9 | 220735.3 | 220266.6 | 227739.6 | 217407.0 | 230790.0 | 219177.7 | 222772.5 | 226890.5 | 237756.3 | 248609.4 | 227312.6 |\n",
       "| 2015 | 211703.4 | 226050.3 | 223551.2 | 231732.8 | 222714.0 | 237637.8 | 224434.5 | 229213.6 | 235308.3 | 244627.8 | 255052.7 | 234029.7 |\n",
       "| 2016 | 216461.9 | 227652.2 | 228850.3 | 238543.9 | 227707.7 | 238427.5 | 229881.9 | 235231.9 | 238142.5 | 250561.5 | 265921.0 | 240365.7 |\n",
       "| 2017 | 222683.7 | 236969.8 | 233652.7 | 244883.0 | 235463.1 | 248431.4 | 237018.4 | 242497.8 | 248879.7 | 258391.6 | 274772.7 | 244297.9 |\n",
       "| 2018 | 229900.3 | 242280.3 | 242977.1 | 254978.5 | 243873.8 | 257666.4 | 246291.8 | 251475.6 | 258932.7 | 268602.4 | 281991.6 | 254440.4 |\n",
       "\n"
      ],
      "text/plain": [
       "     Jan      Feb      Mar      Apr      May      Jun      Jul      Aug     \n",
       "2001 143520.4 144477.9 141111.4 144649.5 135461.9 148166.8 141142.2 145373.2\n",
       "2002 138752.6 147031.8 145917.7 151110.3 141795.0 156297.2 148521.8 154910.1\n",
       "2003 144420.6 153731.7 151487.8 154850.2 146444.9 159534.9 151788.9 157228.9\n",
       "2004 150756.6 156910.6 154792.2 156902.2 152947.0 165910.8 156452.3 161897.4\n",
       "2005 154770.3 163636.1 162188.7 165520.3 158972.2 169557.6 160347.1 165530.9\n",
       "2006 159196.1 173927.6 162905.3 170867.8 166739.3 178207.9 169744.8 177620.3\n",
       "2007 172697.1 185565.8 175722.2 183463.0 180238.4 190446.6 183168.0 185924.8\n",
       "2008 180538.4 187196.6 189611.9 193235.8 187883.9 195029.6 189169.2 192344.7\n",
       "2009 175622.0 188110.4 185488.5 190419.8 184866.4 198001.2 189947.8 194822.4\n",
       "2010 180403.4 196941.0 190337.5 196674.1 193427.6 199819.1 191486.1 198293.7\n",
       "2011 189729.8 203872.3 198482.4 205246.4 201666.0 209691.6 202161.1 208954.0\n",
       "2012 196960.0 211254.7 200879.9 213653.5 206146.9 214556.1 207010.8 212784.7\n",
       "2013 205072.7 214337.6 216687.5 223602.5 213401.0 224476.9 216513.3 221094.2\n",
       "2014 205571.9 220735.3 220266.6 227739.6 217407.0 230790.0 219177.7 222772.5\n",
       "2015 211703.4 226050.3 223551.2 231732.8 222714.0 237637.8 224434.5 229213.6\n",
       "2016 216461.9 227652.2 228850.3 238543.9 227707.7 238427.5 229881.9 235231.9\n",
       "2017 222683.7 236969.8 233652.7 244883.0 235463.1 248431.4 237018.4 242497.8\n",
       "2018 229900.3 242280.3 242977.1 254978.5 243873.8 257666.4 246291.8 251475.6\n",
       "     Sep      Oct      Nov      Dec     \n",
       "2001 149881.2 155960.2 165641.9 148347.5\n",
       "2002 156798.2 161640.8 173688.0 155467.7\n",
       "2003 159291.3 166105.7 175095.7 158312.7\n",
       "2004 165865.9 169646.6 183430.5 161986.6\n",
       "2005 164472.7 173604.5 191355.9 170707.1\n",
       "2006 178895.2 187326.3 200624.3 182239.7\n",
       "2007 185891.8 198047.2 208797.6 191240.3\n",
       "2008 195345.5 201770.6 212472.2 190139.9\n",
       "2009 199642.2 204768.7 220328.1 194897.3\n",
       "2010 203126.7 211904.6 228683.5 202588.1\n",
       "2011 209626.3 222443.5 233685.0 207753.3\n",
       "2012 218832.2 227692.3 240403.8 217184.6\n",
       "2013 226114.7 234566.5 244719.1 221704.1\n",
       "2014 226890.5 237756.3 248609.4 227312.6\n",
       "2015 235308.3 244627.8 255052.7 234029.7\n",
       "2016 238142.5 250561.5 265921.0 240365.7\n",
       "2017 248879.7 258391.6 274772.7 244297.9\n",
       "2018 258932.7 268602.4 281991.6 254440.4"
      ]
     },
     "metadata": {},
     "output_type": "display_data"
    }
   ],
   "source": [
    "# Pasamos los datos a Time Series\n",
    "tsbfa_dc_ci = ts(dc_salida_ci,\n",
    "              start= c(2001,1),\n",
    "              end= c(2018,12), # con pronóstico de un año\n",
    "              frequency=12,\n",
    "              deltat=1/12,\n",
    "              ts.eps = 0.05,\n",
    "              class = \"ts\"\n",
    "             )\n",
    "\n",
    "tsbfa_dc_ci"
   ]
  },
  {
   "cell_type": "code",
   "execution_count": 25,
   "metadata": {
    "slideshow": {
     "slide_type": "subslide"
    }
   },
   "outputs": [
    {
     "data": {
      "image/png": "[encoded data removed]",
      "text/plain": [
       "Plot with title \"Serie de referencia\""
      ]
     },
     "metadata": {
      "image/png": {
       "height": 420,
       "width": 420
      },
      "text/plain": {
       "height": 420,
       "width": 420
      }
     },
     "output_type": "display_data"
    }
   ],
   "source": [
    "# Graficamos para comparar\n",
    "par(mfrow=c(2,1))\n",
    "plot(tsbfa_dc_ci, col = \"red\", lwd = 1, lty= 2, main=\"Serie estimada y Original\", ylab=\" \", sub=\"Estimada = Rojo\"\n",
    "        ); lines(bf, col = \"black\", lwd = 1, lty= 1, ylab=\" \",)\n",
    "plot(tsaf_IMAE,col = \"black\", lwd = 1, lty= 2, main=\"Serie de referencia\",ylab=\" \",)"
   ]
  },
  {
   "cell_type": "code",
   "execution_count": 26,
   "metadata": {
    "slideshow": {
     "slide_type": "slide"
    }
   },
   "outputs": [
    {
     "name": "stderr",
     "output_type": "stream",
     "text": [
      "'denton-cholette' removes the transient movement at the beginning of the series and is preferable to the original 'denton' method in most cases.\n",
      "\n"
     ]
    },
    {
     "data": {
      "text/plain": [
       "\n",
       "Call:\n",
       "td(formula = bf ~ 1, conversion = criterio, to = 12, method = \"denton\", \n",
       "    criterion = \"proportional\", h = 1)\n",
       "\n",
       "Residuals:\n",
       "   Min     1Q Median     3Q    Max \n",
       "146977 166721 193909 221856 243994 \n",
       "\n",
       "No Coefficients\n",
       "\n",
       "'denton' disaggregation with 'average' conversion\n",
       "17 low-freq. obs. converted to 204 high-freq. obs.\n",
       "criterion: proportional \torder of differencing 'h': 1"
      ]
     },
     "metadata": {},
     "output_type": "display_data"
    }
   ],
   "source": [
    "# ----------------------------------------------------------------------------#\n",
    "#                               Método 2 - \"Denton\"\n",
    "# ----------------------------------------------------------------------------#\n",
    "d_si = td(bf ~ 1,                         # sin indicador\n",
    "       to = 12,                           # mensual\n",
    "       method = \"denton\",\n",
    "       conversion = criterio,             # consistente con la average\n",
    "       criterion = \"proportional\",        # criterio proporcional\n",
    "       h = 1                              # primera diferencia\n",
    "       )\n",
    "# Extraemos la serie resultante\n",
    "d_salida_si = predict(d_si)\n",
    "\n",
    "# Resumen del método\n",
    "summary(d_si)"
   ]
  },
  {
   "cell_type": "code",
   "execution_count": 27,
   "metadata": {
    "slideshow": {
     "slide_type": "subslide"
    }
   },
   "outputs": [
    {
     "data": {
      "text/html": [
       "<table>\n",
       "<caption>A Time Series: 17 × 12</caption>\n",
       "<thead>\n",
       "\t<tr><th></th><th scope=col>Jan</th><th scope=col>Feb</th><th scope=col>Mar</th><th scope=col>Apr</th><th scope=col>May</th><th scope=col>Jun</th><th scope=col>Jul</th><th scope=col>Aug</th><th scope=col>Sep</th><th scope=col>Oct</th><th scope=col>Nov</th><th scope=col>Dec</th></tr>\n",
       "</thead>\n",
       "<tbody>\n",
       "\t<tr><th scope=row>2001</th><td> 36527.14</td><td> 69258.46</td><td> 98194.97</td><td>123336.67</td><td>144683.55</td><td>162235.62</td><td>175992.88</td><td>185955.33</td><td>192122.96</td><td>194495.78</td><td>193073.79</td><td>187856.98</td></tr>\n",
       "\t<tr><th scope=row>2002</th><td>178845.36</td><td>170814.70</td><td>163765.00</td><td>157696.25</td><td>152608.46</td><td>148501.62</td><td>145375.74</td><td>143230.82</td><td>142066.85</td><td>141883.84</td><td>142681.79</td><td>144460.69</td></tr>\n",
       "\t<tr><th scope=row>2003</th><td>147220.55</td><td>149733.89</td><td>152000.72</td><td>154021.03</td><td>155794.82</td><td>157322.09</td><td>158602.85</td><td>159637.09</td><td>160424.81</td><td>160966.02</td><td>161260.71</td><td>161308.88</td></tr>\n",
       "\t<tr><th scope=row>2004</th><td>161110.54</td><td>160972.55</td><td>160894.93</td><td>160877.67</td><td>160920.76</td><td>161024.22</td><td>161188.04</td><td>161412.22</td><td>161696.76</td><td>162041.66</td><td>162446.92</td><td>162912.54</td></tr>\n",
       "\t<tr><th scope=row>2005</th><td>163438.52</td><td>163980.88</td><td>164539.64</td><td>165114.77</td><td>165706.30</td><td>166314.21</td><td>166938.51</td><td>167579.20</td><td>168236.27</td><td>168909.73</td><td>169599.57</td><td>170305.81</td></tr>\n",
       "\t<tr><th scope=row>2006</th><td>171028.42</td><td>171779.93</td><td>172560.31</td><td>173369.58</td><td>174207.73</td><td>175074.77</td><td>175970.69</td><td>176895.50</td><td>177849.18</td><td>178831.76</td><td>179843.21</td><td>180883.55</td></tr>\n",
       "\t<tr><th scope=row>2007</th><td>181952.77</td><td>182977.25</td><td>183956.96</td><td>184891.93</td><td>185782.14</td><td>186627.60</td><td>187428.31</td><td>188184.26</td><td>188895.46</td><td>189561.91</td><td>190183.60</td><td>190760.54</td></tr>\n",
       "\t<tr><th scope=row>2008</th><td>191292.73</td><td>191769.33</td><td>192190.34</td><td>192555.76</td><td>192865.59</td><td>193119.82</td><td>193318.47</td><td>193461.52</td><td>193548.98</td><td>193580.86</td><td>193557.14</td><td>193477.83</td></tr>\n",
       "\t<tr><th scope=row>2009</th><td>193342.93</td><td>193262.94</td><td>193237.85</td><td>193267.67</td><td>193352.39</td><td>193492.02</td><td>193686.56</td><td>193936.00</td><td>194240.35</td><td>194599.60</td><td>195013.76</td><td>195482.82</td></tr>\n",
       "\t<tr><th scope=row>2010</th><td>196006.79</td><td>196555.31</td><td>197128.39</td><td>197726.01</td><td>198348.19</td><td>198994.92</td><td>199666.21</td><td>200362.04</td><td>201082.43</td><td>201827.37</td><td>202596.86</td><td>203390.91</td></tr>\n",
       "\t<tr><th scope=row>2011</th><td>204209.51</td><td>204988.84</td><td>205728.91</td><td>206429.71</td><td>207091.25</td><td>207713.52</td><td>208296.53</td><td>208840.28</td><td>209344.76</td><td>209809.97</td><td>210235.92</td><td>210622.61</td></tr>\n",
       "\t<tr><th scope=row>2012</th><td>210970.03</td><td>211362.17</td><td>211799.02</td><td>212280.60</td><td>212806.90</td><td>213377.91</td><td>213993.64</td><td>214654.09</td><td>215359.26</td><td>216109.15</td><td>216903.75</td><td>217743.08</td></tr>\n",
       "\t<tr><th scope=row>2013</th><td>218627.12</td><td>219442.69</td><td>220189.80</td><td>220868.43</td><td>221478.59</td><td>222020.29</td><td>222493.51</td><td>222898.27</td><td>223234.55</td><td>223502.37</td><td>223701.71</td><td>223832.59</td></tr>\n",
       "\t<tr><th scope=row>2014</th><td>223894.99</td><td>224006.94</td><td>224168.44</td><td>224379.49</td><td>224640.09</td><td>224950.23</td><td>225309.92</td><td>225719.16</td><td>226177.94</td><td>226686.27</td><td>227244.15</td><td>227851.58</td></tr>\n",
       "\t<tr><th scope=row>2015</th><td>228508.56</td><td>229132.64</td><td>229723.83</td><td>230282.13</td><td>230807.54</td><td>231300.06</td><td>231759.69</td><td>232186.42</td><td>232580.27</td><td>232941.22</td><td>233269.28</td><td>233564.45</td></tr>\n",
       "\t<tr><th scope=row>2016</th><td>233826.73</td><td>234139.77</td><td>234503.57</td><td>234918.12</td><td>235383.43</td><td>235899.50</td><td>236466.33</td><td>237083.92</td><td>237752.26</td><td>238471.36</td><td>239241.22</td><td>240061.84</td></tr>\n",
       "\t<tr><th scope=row>2017</th><td>240933.22</td><td>241731.98</td><td>242458.13</td><td>243111.66</td><td>243692.58</td><td>244200.88</td><td>244636.57</td><td>244999.65</td><td>245290.11</td><td>245507.95</td><td>245653.18</td><td>245725.79</td></tr>\n",
       "</tbody>\n",
       "</table>\n"
      ],
      "text/latex": [
       "A Time Series: 17 × 12\n",
       "\\begin{tabular}{r|llllllllllll}\n",
       "  & Jan & Feb & Mar & Apr & May & Jun & Jul & Aug & Sep & Oct & Nov & Dec\\\\\n",
       "\\hline\n",
       "\t2001 &  36527.14 &  69258.46 &  98194.97 & 123336.67 & 144683.55 & 162235.62 & 175992.88 & 185955.33 & 192122.96 & 194495.78 & 193073.79 & 187856.98\\\\\n",
       "\t2002 & 178845.36 & 170814.70 & 163765.00 & 157696.25 & 152608.46 & 148501.62 & 145375.74 & 143230.82 & 142066.85 & 141883.84 & 142681.79 & 144460.69\\\\\n",
       "\t2003 & 147220.55 & 149733.89 & 152000.72 & 154021.03 & 155794.82 & 157322.09 & 158602.85 & 159637.09 & 160424.81 & 160966.02 & 161260.71 & 161308.88\\\\\n",
       "\t2004 & 161110.54 & 160972.55 & 160894.93 & 160877.67 & 160920.76 & 161024.22 & 161188.04 & 161412.22 & 161696.76 & 162041.66 & 162446.92 & 162912.54\\\\\n",
       "\t2005 & 163438.52 & 163980.88 & 164539.64 & 165114.77 & 165706.30 & 166314.21 & 166938.51 & 167579.20 & 168236.27 & 168909.73 & 169599.57 & 170305.81\\\\\n",
       "\t2006 & 171028.42 & 171779.93 & 172560.31 & 173369.58 & 174207.73 & 175074.77 & 175970.69 & 176895.50 & 177849.18 & 178831.76 & 179843.21 & 180883.55\\\\\n",
       "\t2007 & 181952.77 & 182977.25 & 183956.96 & 184891.93 & 185782.14 & 186627.60 & 187428.31 & 188184.26 & 188895.46 & 189561.91 & 190183.60 & 190760.54\\\\\n",
       "\t2008 & 191292.73 & 191769.33 & 192190.34 & 192555.76 & 192865.59 & 193119.82 & 193318.47 & 193461.52 & 193548.98 & 193580.86 & 193557.14 & 193477.83\\\\\n",
       "\t2009 & 193342.93 & 193262.94 & 193237.85 & 193267.67 & 193352.39 & 193492.02 & 193686.56 & 193936.00 & 194240.35 & 194599.60 & 195013.76 & 195482.82\\\\\n",
       "\t2010 & 196006.79 & 196555.31 & 197128.39 & 197726.01 & 198348.19 & 198994.92 & 199666.21 & 200362.04 & 201082.43 & 201827.37 & 202596.86 & 203390.91\\\\\n",
       "\t2011 & 204209.51 & 204988.84 & 205728.91 & 206429.71 & 207091.25 & 207713.52 & 208296.53 & 208840.28 & 209344.76 & 209809.97 & 210235.92 & 210622.61\\\\\n",
       "\t2012 & 210970.03 & 211362.17 & 211799.02 & 212280.60 & 212806.90 & 213377.91 & 213993.64 & 214654.09 & 215359.26 & 216109.15 & 216903.75 & 217743.08\\\\\n",
       "\t2013 & 218627.12 & 219442.69 & 220189.80 & 220868.43 & 221478.59 & 222020.29 & 222493.51 & 222898.27 & 223234.55 & 223502.37 & 223701.71 & 223832.59\\\\\n",
       "\t2014 & 223894.99 & 224006.94 & 224168.44 & 224379.49 & 224640.09 & 224950.23 & 225309.92 & 225719.16 & 226177.94 & 226686.27 & 227244.15 & 227851.58\\\\\n",
       "\t2015 & 228508.56 & 229132.64 & 229723.83 & 230282.13 & 230807.54 & 231300.06 & 231759.69 & 232186.42 & 232580.27 & 232941.22 & 233269.28 & 233564.45\\\\\n",
       "\t2016 & 233826.73 & 234139.77 & 234503.57 & 234918.12 & 235383.43 & 235899.50 & 236466.33 & 237083.92 & 237752.26 & 238471.36 & 239241.22 & 240061.84\\\\\n",
       "\t2017 & 240933.22 & 241731.98 & 242458.13 & 243111.66 & 243692.58 & 244200.88 & 244636.57 & 244999.65 & 245290.11 & 245507.95 & 245653.18 & 245725.79\\\\\n",
       "\\end{tabular}\n"
      ],
      "text/markdown": [
       "\n",
       "A Time Series: 17 × 12\n",
       "\n",
       "| <!--/--> | Jan | Feb | Mar | Apr | May | Jun | Jul | Aug | Sep | Oct | Nov | Dec |\n",
       "|---|---|---|---|---|---|---|---|---|---|---|---|---|\n",
       "| 2001 |  36527.14 |  69258.46 |  98194.97 | 123336.67 | 144683.55 | 162235.62 | 175992.88 | 185955.33 | 192122.96 | 194495.78 | 193073.79 | 187856.98 |\n",
       "| 2002 | 178845.36 | 170814.70 | 163765.00 | 157696.25 | 152608.46 | 148501.62 | 145375.74 | 143230.82 | 142066.85 | 141883.84 | 142681.79 | 144460.69 |\n",
       "| 2003 | 147220.55 | 149733.89 | 152000.72 | 154021.03 | 155794.82 | 157322.09 | 158602.85 | 159637.09 | 160424.81 | 160966.02 | 161260.71 | 161308.88 |\n",
       "| 2004 | 161110.54 | 160972.55 | 160894.93 | 160877.67 | 160920.76 | 161024.22 | 161188.04 | 161412.22 | 161696.76 | 162041.66 | 162446.92 | 162912.54 |\n",
       "| 2005 | 163438.52 | 163980.88 | 164539.64 | 165114.77 | 165706.30 | 166314.21 | 166938.51 | 167579.20 | 168236.27 | 168909.73 | 169599.57 | 170305.81 |\n",
       "| 2006 | 171028.42 | 171779.93 | 172560.31 | 173369.58 | 174207.73 | 175074.77 | 175970.69 | 176895.50 | 177849.18 | 178831.76 | 179843.21 | 180883.55 |\n",
       "| 2007 | 181952.77 | 182977.25 | 183956.96 | 184891.93 | 185782.14 | 186627.60 | 187428.31 | 188184.26 | 188895.46 | 189561.91 | 190183.60 | 190760.54 |\n",
       "| 2008 | 191292.73 | 191769.33 | 192190.34 | 192555.76 | 192865.59 | 193119.82 | 193318.47 | 193461.52 | 193548.98 | 193580.86 | 193557.14 | 193477.83 |\n",
       "| 2009 | 193342.93 | 193262.94 | 193237.85 | 193267.67 | 193352.39 | 193492.02 | 193686.56 | 193936.00 | 194240.35 | 194599.60 | 195013.76 | 195482.82 |\n",
       "| 2010 | 196006.79 | 196555.31 | 197128.39 | 197726.01 | 198348.19 | 198994.92 | 199666.21 | 200362.04 | 201082.43 | 201827.37 | 202596.86 | 203390.91 |\n",
       "| 2011 | 204209.51 | 204988.84 | 205728.91 | 206429.71 | 207091.25 | 207713.52 | 208296.53 | 208840.28 | 209344.76 | 209809.97 | 210235.92 | 210622.61 |\n",
       "| 2012 | 210970.03 | 211362.17 | 211799.02 | 212280.60 | 212806.90 | 213377.91 | 213993.64 | 214654.09 | 215359.26 | 216109.15 | 216903.75 | 217743.08 |\n",
       "| 2013 | 218627.12 | 219442.69 | 220189.80 | 220868.43 | 221478.59 | 222020.29 | 222493.51 | 222898.27 | 223234.55 | 223502.37 | 223701.71 | 223832.59 |\n",
       "| 2014 | 223894.99 | 224006.94 | 224168.44 | 224379.49 | 224640.09 | 224950.23 | 225309.92 | 225719.16 | 226177.94 | 226686.27 | 227244.15 | 227851.58 |\n",
       "| 2015 | 228508.56 | 229132.64 | 229723.83 | 230282.13 | 230807.54 | 231300.06 | 231759.69 | 232186.42 | 232580.27 | 232941.22 | 233269.28 | 233564.45 |\n",
       "| 2016 | 233826.73 | 234139.77 | 234503.57 | 234918.12 | 235383.43 | 235899.50 | 236466.33 | 237083.92 | 237752.26 | 238471.36 | 239241.22 | 240061.84 |\n",
       "| 2017 | 240933.22 | 241731.98 | 242458.13 | 243111.66 | 243692.58 | 244200.88 | 244636.57 | 244999.65 | 245290.11 | 245507.95 | 245653.18 | 245725.79 |\n",
       "\n"
      ],
      "text/plain": [
       "     Jan       Feb       Mar       Apr       May       Jun       Jul      \n",
       "2001  36527.14  69258.46  98194.97 123336.67 144683.55 162235.62 175992.88\n",
       "2002 178845.36 170814.70 163765.00 157696.25 152608.46 148501.62 145375.74\n",
       "2003 147220.55 149733.89 152000.72 154021.03 155794.82 157322.09 158602.85\n",
       "2004 161110.54 160972.55 160894.93 160877.67 160920.76 161024.22 161188.04\n",
       "2005 163438.52 163980.88 164539.64 165114.77 165706.30 166314.21 166938.51\n",
       "2006 171028.42 171779.93 172560.31 173369.58 174207.73 175074.77 175970.69\n",
       "2007 181952.77 182977.25 183956.96 184891.93 185782.14 186627.60 187428.31\n",
       "2008 191292.73 191769.33 192190.34 192555.76 192865.59 193119.82 193318.47\n",
       "2009 193342.93 193262.94 193237.85 193267.67 193352.39 193492.02 193686.56\n",
       "2010 196006.79 196555.31 197128.39 197726.01 198348.19 198994.92 199666.21\n",
       "2011 204209.51 204988.84 205728.91 206429.71 207091.25 207713.52 208296.53\n",
       "2012 210970.03 211362.17 211799.02 212280.60 212806.90 213377.91 213993.64\n",
       "2013 218627.12 219442.69 220189.80 220868.43 221478.59 222020.29 222493.51\n",
       "2014 223894.99 224006.94 224168.44 224379.49 224640.09 224950.23 225309.92\n",
       "2015 228508.56 229132.64 229723.83 230282.13 230807.54 231300.06 231759.69\n",
       "2016 233826.73 234139.77 234503.57 234918.12 235383.43 235899.50 236466.33\n",
       "2017 240933.22 241731.98 242458.13 243111.66 243692.58 244200.88 244636.57\n",
       "     Aug       Sep       Oct       Nov       Dec      \n",
       "2001 185955.33 192122.96 194495.78 193073.79 187856.98\n",
       "2002 143230.82 142066.85 141883.84 142681.79 144460.69\n",
       "2003 159637.09 160424.81 160966.02 161260.71 161308.88\n",
       "2004 161412.22 161696.76 162041.66 162446.92 162912.54\n",
       "2005 167579.20 168236.27 168909.73 169599.57 170305.81\n",
       "2006 176895.50 177849.18 178831.76 179843.21 180883.55\n",
       "2007 188184.26 188895.46 189561.91 190183.60 190760.54\n",
       "2008 193461.52 193548.98 193580.86 193557.14 193477.83\n",
       "2009 193936.00 194240.35 194599.60 195013.76 195482.82\n",
       "2010 200362.04 201082.43 201827.37 202596.86 203390.91\n",
       "2011 208840.28 209344.76 209809.97 210235.92 210622.61\n",
       "2012 214654.09 215359.26 216109.15 216903.75 217743.08\n",
       "2013 222898.27 223234.55 223502.37 223701.71 223832.59\n",
       "2014 225719.16 226177.94 226686.27 227244.15 227851.58\n",
       "2015 232186.42 232580.27 232941.22 233269.28 233564.45\n",
       "2016 237083.92 237752.26 238471.36 239241.22 240061.84\n",
       "2017 244999.65 245290.11 245507.95 245653.18 245725.79"
      ]
     },
     "metadata": {},
     "output_type": "display_data"
    }
   ],
   "source": [
    "# Pasamos los datos a Time Series\n",
    "tsbfa_d_si = ts(d_salida_si,\n",
    "             start= c(2001,1),\n",
    "             end= c(2017,12),\n",
    "             frequency=12,\n",
    "             deltat=1/12,\n",
    "             ts.eps = 0.05,\n",
    "             class = \"ts\"\n",
    "            )\n",
    "\n",
    "tsbfa_d_si"
   ]
  },
  {
   "cell_type": "code",
   "execution_count": 28,
   "metadata": {
    "slideshow": {
     "slide_type": "subslide"
    }
   },
   "outputs": [
    {
     "data": {
      "image/png": "[encoded data removed]",
      "text/plain": [
       "Plot with title \"Comparación de serie estimada y de referencia\""
      ]
     },
     "metadata": {
      "image/png": {
       "height": 420,
       "width": 420
      },
      "text/plain": {
       "height": 420,
       "width": 420
      }
     },
     "output_type": "display_data"
    }
   ],
   "source": [
    "# Graficamos para comparar\n",
    "plot(tsbfa_d_si,  col = \"red\", lwd = 1, lty= 2, main=\"Comparación de serie estimada y de referencia\",\n",
    "            ylab=\" \", sub=\"Estimada = Rojo\"); lines(bf, col = \"black\", lwd = 1, lty= 1, ylab=\" \",)\n"
   ]
  },
  {
   "cell_type": "code",
   "execution_count": 29,
   "metadata": {
    "slideshow": {
     "slide_type": "subslide"
    }
   },
   "outputs": [
    {
     "name": "stderr",
     "output_type": "stream",
     "text": [
      "'denton-cholette' removes the transient movement at the beginning of the series and is preferable to the original 'denton' method in most cases.\n",
      "\n"
     ]
    },
    {
     "data": {
      "text/plain": [
       "\n",
       "Call:\n",
       "td(formula = bf ~ 0 + tsaf2, conversion = criterio, to = 12, \n",
       "    method = \"denton\", criterion = \"proportional\", h = 1)\n",
       "\n",
       "Residuals:\n",
       "   Min     1Q Median     3Q    Max \n",
       "146877 166608 193777 221706 243822 \n",
       "\n",
       "No Coefficients\n",
       "\n",
       "'denton' disaggregation with 'average' conversion\n",
       "17 low-freq. obs. converted to 216 high-freq. obs.\n",
       "criterion: proportional \torder of differencing 'h': 1"
      ]
     },
     "metadata": {},
     "output_type": "display_data"
    }
   ],
   "source": [
    "d_ci = td(bf ~ 0 + tsaf2,                 # con indicador\n",
    "       to = 12,                           # mensual\n",
    "       method = \"denton\",\n",
    "       conversion = criterio,             # consistente con la average\n",
    "       criterion = \"proportional\",        # criterio proporcional\n",
    "       h = 1                              # primera diferencia\n",
    "        )\n",
    "\n",
    "# Extraemos la serie resultante\n",
    "d_salida_ci = predict(d_ci)\n",
    "\n",
    "# Resumen del método\n",
    "summary(d_ci)"
   ]
  },
  {
   "cell_type": "code",
   "execution_count": 30,
   "metadata": {
    "slideshow": {
     "slide_type": "subslide"
    }
   },
   "outputs": [
    {
     "data": {
      "text/html": [
       "<table>\n",
       "<caption>A Time Series: 18 × 12</caption>\n",
       "<thead>\n",
       "\t<tr><th></th><th scope=col>Jan</th><th scope=col>Feb</th><th scope=col>Mar</th><th scope=col>Apr</th><th scope=col>May</th><th scope=col>Jun</th><th scope=col>Jul</th><th scope=col>Aug</th><th scope=col>Sep</th><th scope=col>Oct</th><th scope=col>Nov</th><th scope=col>Dec</th></tr>\n",
       "</thead>\n",
       "<tbody>\n",
       "\t<tr><th scope=row>2001</th><td> 35216.78</td><td> 67165.43</td><td> 92995.14</td><td>119822.78</td><td>131709.32</td><td>161861.42</td><td>167468.94</td><td>182565.18</td><td>194790.27</td><td>205420.31</td><td>216543.93</td><td>188174.61</td></tr>\n",
       "\t<tr><th scope=row>2002</th><td>167017.07</td><td>168378.70</td><td>159528.46</td><td>158351.28</td><td>143118.58</td><td>152717.91</td><td>141371.09</td><td>144568.67</td><td>144496.14</td><td>148197.24</td><td>159674.26</td><td>144511.73</td></tr>\n",
       "\t<tr><th scope=row>2003</th><td>136715.90</td><td>147905.43</td><td>147817.82</td><td>152945.12</td><td>146127.78</td><td>160537.47</td><td>153746.42</td><td>160021.60</td><td>162607.42</td><td>169767.09</td><td>178835.11</td><td>161266.28</td></tr>\n",
       "\t<tr><th scope=row>2004</th><td>152887.59</td><td>158488.88</td><td>155789.67</td><td>157417.81</td><td>153037.41</td><td>165636.55</td><td>155919.18</td><td>161136.45</td><td>164951.14</td><td>168655.97</td><td>182391.97</td><td>161186.19</td></tr>\n",
       "\t<tr><th scope=row>2005</th><td>154191.40</td><td>163201.49</td><td>161913.67</td><td>165378.31</td><td>158948.99</td><td>169633.15</td><td>160492.80</td><td>165737.67</td><td>164713.53</td><td>173874.31</td><td>191645.11</td><td>170932.98</td></tr>\n",
       "\t<tr><th scope=row>2006</th><td>159356.05</td><td>174052.27</td><td>162980.60</td><td>170908.55</td><td>166747.20</td><td>178188.05</td><td>169704.70</td><td>177561.90</td><td>178825.93</td><td>187249.26</td><td>200544.09</td><td>182176.00</td></tr>\n",
       "\t<tr><th scope=row>2007</th><td>172651.48</td><td>185530.99</td><td>175701.07</td><td>183451.84</td><td>180236.54</td><td>190452.57</td><td>183179.77</td><td>185941.22</td><td>185910.91</td><td>198068.78</td><td>208819.63</td><td>191257.92</td></tr>\n",
       "\t<tr><th scope=row>2008</th><td>180550.92</td><td>187205.86</td><td>189617.87</td><td>193238.85</td><td>187884.37</td><td>195027.90</td><td>189165.91</td><td>192340.21</td><td>195340.15</td><td>201764.76</td><td>212466.29</td><td>190135.29</td></tr>\n",
       "\t<tr><th scope=row>2009</th><td>175618.74</td><td>188107.87</td><td>185486.97</td><td>190418.94</td><td>184866.26</td><td>198001.66</td><td>189948.68</td><td>194823.56</td><td>199643.68</td><td>204770.26</td><td>220329.71</td><td>194898.57</td></tr>\n",
       "\t<tr><th scope=row>2010</th><td>180404.28</td><td>196941.68</td><td>190337.96</td><td>196674.32</td><td>193427.65</td><td>199819.04</td><td>191485.87</td><td>198293.38</td><td>203126.33</td><td>211904.17</td><td>228683.01</td><td>202587.75</td></tr>\n",
       "\t<tr><th scope=row>2011</th><td>189729.60</td><td>203872.12</td><td>198482.24</td><td>205246.38</td><td>201666.02</td><td>209691.63</td><td>202161.18</td><td>208954.05</td><td>209626.37</td><td>222443.65</td><td>233685.10</td><td>207753.44</td></tr>\n",
       "\t<tr><th scope=row>2012</th><td>196960.07</td><td>211254.71</td><td>200879.94</td><td>213653.55</td><td>206146.91</td><td>214556.05</td><td>207010.83</td><td>212784.68</td><td>218832.16</td><td>227692.31</td><td>240403.79</td><td>217184.59</td></tr>\n",
       "\t<tr><th scope=row>2013</th><td>205072.71</td><td>214337.54</td><td>216687.46</td><td>223602.48</td><td>213400.96</td><td>224476.87</td><td>216513.28</td><td>221094.21</td><td>226114.67</td><td>234566.52</td><td>244719.09</td><td>221704.13</td></tr>\n",
       "\t<tr><th scope=row>2014</th><td>205571.93</td><td>220735.33</td><td>220266.61</td><td>227739.57</td><td>217406.96</td><td>230789.95</td><td>219177.65</td><td>222772.48</td><td>226890.51</td><td>237756.25</td><td>248609.40</td><td>227312.55</td></tr>\n",
       "\t<tr><th scope=row>2015</th><td>211703.43</td><td>226050.35</td><td>223551.16</td><td>231732.84</td><td>222714.03</td><td>237637.80</td><td>224434.45</td><td>229213.58</td><td>235308.26</td><td>244627.80</td><td>255052.71</td><td>234029.69</td></tr>\n",
       "\t<tr><th scope=row>2016</th><td>216461.94</td><td>227652.17</td><td>228850.26</td><td>238543.90</td><td>227707.74</td><td>238427.49</td><td>229881.87</td><td>235231.92</td><td>238142.51</td><td>250561.55</td><td>265920.97</td><td>240365.75</td></tr>\n",
       "\t<tr><th scope=row>2017</th><td>222683.68</td><td>236969.80</td><td>233652.68</td><td>244883.04</td><td>235463.07</td><td>248431.38</td><td>237018.39</td><td>242497.83</td><td>248879.65</td><td>258391.56</td><td>274772.68</td><td>244297.93</td></tr>\n",
       "\t<tr><th scope=row>2018</th><td>229900.28</td><td>242280.28</td><td>242977.15</td><td>254978.51</td><td>243873.83</td><td>257666.43</td><td>246291.83</td><td>251475.58</td><td>258932.67</td><td>268602.43</td><td>281991.64</td><td>254440.41</td></tr>\n",
       "</tbody>\n",
       "</table>\n"
      ],
      "text/latex": [
       "A Time Series: 18 × 12\n",
       "\\begin{tabular}{r|llllllllllll}\n",
       "  & Jan & Feb & Mar & Apr & May & Jun & Jul & Aug & Sep & Oct & Nov & Dec\\\\\n",
       "\\hline\n",
       "\t2001 &  35216.78 &  67165.43 &  92995.14 & 119822.78 & 131709.32 & 161861.42 & 167468.94 & 182565.18 & 194790.27 & 205420.31 & 216543.93 & 188174.61\\\\\n",
       "\t2002 & 167017.07 & 168378.70 & 159528.46 & 158351.28 & 143118.58 & 152717.91 & 141371.09 & 144568.67 & 144496.14 & 148197.24 & 159674.26 & 144511.73\\\\\n",
       "\t2003 & 136715.90 & 147905.43 & 147817.82 & 152945.12 & 146127.78 & 160537.47 & 153746.42 & 160021.60 & 162607.42 & 169767.09 & 178835.11 & 161266.28\\\\\n",
       "\t2004 & 152887.59 & 158488.88 & 155789.67 & 157417.81 & 153037.41 & 165636.55 & 155919.18 & 161136.45 & 164951.14 & 168655.97 & 182391.97 & 161186.19\\\\\n",
       "\t2005 & 154191.40 & 163201.49 & 161913.67 & 165378.31 & 158948.99 & 169633.15 & 160492.80 & 165737.67 & 164713.53 & 173874.31 & 191645.11 & 170932.98\\\\\n",
       "\t2006 & 159356.05 & 174052.27 & 162980.60 & 170908.55 & 166747.20 & 178188.05 & 169704.70 & 177561.90 & 178825.93 & 187249.26 & 200544.09 & 182176.00\\\\\n",
       "\t2007 & 172651.48 & 185530.99 & 175701.07 & 183451.84 & 180236.54 & 190452.57 & 183179.77 & 185941.22 & 185910.91 & 198068.78 & 208819.63 & 191257.92\\\\\n",
       "\t2008 & 180550.92 & 187205.86 & 189617.87 & 193238.85 & 187884.37 & 195027.90 & 189165.91 & 192340.21 & 195340.15 & 201764.76 & 212466.29 & 190135.29\\\\\n",
       "\t2009 & 175618.74 & 188107.87 & 185486.97 & 190418.94 & 184866.26 & 198001.66 & 189948.68 & 194823.56 & 199643.68 & 204770.26 & 220329.71 & 194898.57\\\\\n",
       "\t2010 & 180404.28 & 196941.68 & 190337.96 & 196674.32 & 193427.65 & 199819.04 & 191485.87 & 198293.38 & 203126.33 & 211904.17 & 228683.01 & 202587.75\\\\\n",
       "\t2011 & 189729.60 & 203872.12 & 198482.24 & 205246.38 & 201666.02 & 209691.63 & 202161.18 & 208954.05 & 209626.37 & 222443.65 & 233685.10 & 207753.44\\\\\n",
       "\t2012 & 196960.07 & 211254.71 & 200879.94 & 213653.55 & 206146.91 & 214556.05 & 207010.83 & 212784.68 & 218832.16 & 227692.31 & 240403.79 & 217184.59\\\\\n",
       "\t2013 & 205072.71 & 214337.54 & 216687.46 & 223602.48 & 213400.96 & 224476.87 & 216513.28 & 221094.21 & 226114.67 & 234566.52 & 244719.09 & 221704.13\\\\\n",
       "\t2014 & 205571.93 & 220735.33 & 220266.61 & 227739.57 & 217406.96 & 230789.95 & 219177.65 & 222772.48 & 226890.51 & 237756.25 & 248609.40 & 227312.55\\\\\n",
       "\t2015 & 211703.43 & 226050.35 & 223551.16 & 231732.84 & 222714.03 & 237637.80 & 224434.45 & 229213.58 & 235308.26 & 244627.80 & 255052.71 & 234029.69\\\\\n",
       "\t2016 & 216461.94 & 227652.17 & 228850.26 & 238543.90 & 227707.74 & 238427.49 & 229881.87 & 235231.92 & 238142.51 & 250561.55 & 265920.97 & 240365.75\\\\\n",
       "\t2017 & 222683.68 & 236969.80 & 233652.68 & 244883.04 & 235463.07 & 248431.38 & 237018.39 & 242497.83 & 248879.65 & 258391.56 & 274772.68 & 244297.93\\\\\n",
       "\t2018 & 229900.28 & 242280.28 & 242977.15 & 254978.51 & 243873.83 & 257666.43 & 246291.83 & 251475.58 & 258932.67 & 268602.43 & 281991.64 & 254440.41\\\\\n",
       "\\end{tabular}\n"
      ],
      "text/markdown": [
       "\n",
       "A Time Series: 18 × 12\n",
       "\n",
       "| <!--/--> | Jan | Feb | Mar | Apr | May | Jun | Jul | Aug | Sep | Oct | Nov | Dec |\n",
       "|---|---|---|---|---|---|---|---|---|---|---|---|---|\n",
       "| 2001 |  35216.78 |  67165.43 |  92995.14 | 119822.78 | 131709.32 | 161861.42 | 167468.94 | 182565.18 | 194790.27 | 205420.31 | 216543.93 | 188174.61 |\n",
       "| 2002 | 167017.07 | 168378.70 | 159528.46 | 158351.28 | 143118.58 | 152717.91 | 141371.09 | 144568.67 | 144496.14 | 148197.24 | 159674.26 | 144511.73 |\n",
       "| 2003 | 136715.90 | 147905.43 | 147817.82 | 152945.12 | 146127.78 | 160537.47 | 153746.42 | 160021.60 | 162607.42 | 169767.09 | 178835.11 | 161266.28 |\n",
       "| 2004 | 152887.59 | 158488.88 | 155789.67 | 157417.81 | 153037.41 | 165636.55 | 155919.18 | 161136.45 | 164951.14 | 168655.97 | 182391.97 | 161186.19 |\n",
       "| 2005 | 154191.40 | 163201.49 | 161913.67 | 165378.31 | 158948.99 | 169633.15 | 160492.80 | 165737.67 | 164713.53 | 173874.31 | 191645.11 | 170932.98 |\n",
       "| 2006 | 159356.05 | 174052.27 | 162980.60 | 170908.55 | 166747.20 | 178188.05 | 169704.70 | 177561.90 | 178825.93 | 187249.26 | 200544.09 | 182176.00 |\n",
       "| 2007 | 172651.48 | 185530.99 | 175701.07 | 183451.84 | 180236.54 | 190452.57 | 183179.77 | 185941.22 | 185910.91 | 198068.78 | 208819.63 | 191257.92 |\n",
       "| 2008 | 180550.92 | 187205.86 | 189617.87 | 193238.85 | 187884.37 | 195027.90 | 189165.91 | 192340.21 | 195340.15 | 201764.76 | 212466.29 | 190135.29 |\n",
       "| 2009 | 175618.74 | 188107.87 | 185486.97 | 190418.94 | 184866.26 | 198001.66 | 189948.68 | 194823.56 | 199643.68 | 204770.26 | 220329.71 | 194898.57 |\n",
       "| 2010 | 180404.28 | 196941.68 | 190337.96 | 196674.32 | 193427.65 | 199819.04 | 191485.87 | 198293.38 | 203126.33 | 211904.17 | 228683.01 | 202587.75 |\n",
       "| 2011 | 189729.60 | 203872.12 | 198482.24 | 205246.38 | 201666.02 | 209691.63 | 202161.18 | 208954.05 | 209626.37 | 222443.65 | 233685.10 | 207753.44 |\n",
       "| 2012 | 196960.07 | 211254.71 | 200879.94 | 213653.55 | 206146.91 | 214556.05 | 207010.83 | 212784.68 | 218832.16 | 227692.31 | 240403.79 | 217184.59 |\n",
       "| 2013 | 205072.71 | 214337.54 | 216687.46 | 223602.48 | 213400.96 | 224476.87 | 216513.28 | 221094.21 | 226114.67 | 234566.52 | 244719.09 | 221704.13 |\n",
       "| 2014 | 205571.93 | 220735.33 | 220266.61 | 227739.57 | 217406.96 | 230789.95 | 219177.65 | 222772.48 | 226890.51 | 237756.25 | 248609.40 | 227312.55 |\n",
       "| 2015 | 211703.43 | 226050.35 | 223551.16 | 231732.84 | 222714.03 | 237637.80 | 224434.45 | 229213.58 | 235308.26 | 244627.80 | 255052.71 | 234029.69 |\n",
       "| 2016 | 216461.94 | 227652.17 | 228850.26 | 238543.90 | 227707.74 | 238427.49 | 229881.87 | 235231.92 | 238142.51 | 250561.55 | 265920.97 | 240365.75 |\n",
       "| 2017 | 222683.68 | 236969.80 | 233652.68 | 244883.04 | 235463.07 | 248431.38 | 237018.39 | 242497.83 | 248879.65 | 258391.56 | 274772.68 | 244297.93 |\n",
       "| 2018 | 229900.28 | 242280.28 | 242977.15 | 254978.51 | 243873.83 | 257666.43 | 246291.83 | 251475.58 | 258932.67 | 268602.43 | 281991.64 | 254440.41 |\n",
       "\n"
      ],
      "text/plain": [
       "     Jan       Feb       Mar       Apr       May       Jun       Jul      \n",
       "2001  35216.78  67165.43  92995.14 119822.78 131709.32 161861.42 167468.94\n",
       "2002 167017.07 168378.70 159528.46 158351.28 143118.58 152717.91 141371.09\n",
       "2003 136715.90 147905.43 147817.82 152945.12 146127.78 160537.47 153746.42\n",
       "2004 152887.59 158488.88 155789.67 157417.81 153037.41 165636.55 155919.18\n",
       "2005 154191.40 163201.49 161913.67 165378.31 158948.99 169633.15 160492.80\n",
       "2006 159356.05 174052.27 162980.60 170908.55 166747.20 178188.05 169704.70\n",
       "2007 172651.48 185530.99 175701.07 183451.84 180236.54 190452.57 183179.77\n",
       "2008 180550.92 187205.86 189617.87 193238.85 187884.37 195027.90 189165.91\n",
       "2009 175618.74 188107.87 185486.97 190418.94 184866.26 198001.66 189948.68\n",
       "2010 180404.28 196941.68 190337.96 196674.32 193427.65 199819.04 191485.87\n",
       "2011 189729.60 203872.12 198482.24 205246.38 201666.02 209691.63 202161.18\n",
       "2012 196960.07 211254.71 200879.94 213653.55 206146.91 214556.05 207010.83\n",
       "2013 205072.71 214337.54 216687.46 223602.48 213400.96 224476.87 216513.28\n",
       "2014 205571.93 220735.33 220266.61 227739.57 217406.96 230789.95 219177.65\n",
       "2015 211703.43 226050.35 223551.16 231732.84 222714.03 237637.80 224434.45\n",
       "2016 216461.94 227652.17 228850.26 238543.90 227707.74 238427.49 229881.87\n",
       "2017 222683.68 236969.80 233652.68 244883.04 235463.07 248431.38 237018.39\n",
       "2018 229900.28 242280.28 242977.15 254978.51 243873.83 257666.43 246291.83\n",
       "     Aug       Sep       Oct       Nov       Dec      \n",
       "2001 182565.18 194790.27 205420.31 216543.93 188174.61\n",
       "2002 144568.67 144496.14 148197.24 159674.26 144511.73\n",
       "2003 160021.60 162607.42 169767.09 178835.11 161266.28\n",
       "2004 161136.45 164951.14 168655.97 182391.97 161186.19\n",
       "2005 165737.67 164713.53 173874.31 191645.11 170932.98\n",
       "2006 177561.90 178825.93 187249.26 200544.09 182176.00\n",
       "2007 185941.22 185910.91 198068.78 208819.63 191257.92\n",
       "2008 192340.21 195340.15 201764.76 212466.29 190135.29\n",
       "2009 194823.56 199643.68 204770.26 220329.71 194898.57\n",
       "2010 198293.38 203126.33 211904.17 228683.01 202587.75\n",
       "2011 208954.05 209626.37 222443.65 233685.10 207753.44\n",
       "2012 212784.68 218832.16 227692.31 240403.79 217184.59\n",
       "2013 221094.21 226114.67 234566.52 244719.09 221704.13\n",
       "2014 222772.48 226890.51 237756.25 248609.40 227312.55\n",
       "2015 229213.58 235308.26 244627.80 255052.71 234029.69\n",
       "2016 235231.92 238142.51 250561.55 265920.97 240365.75\n",
       "2017 242497.83 248879.65 258391.56 274772.68 244297.93\n",
       "2018 251475.58 258932.67 268602.43 281991.64 254440.41"
      ]
     },
     "metadata": {},
     "output_type": "display_data"
    }
   ],
   "source": [
    "# Pasamos los datos a Time Series\n",
    "tsbfa_d_ci = ts(d_salida_ci,\n",
    "             start= c(2001,1),\n",
    "             end= c(2018,12), # Con pronóstico de un año\n",
    "             frequency=12,\n",
    "             deltat=1/12,\n",
    "             ts.eps = 0.05,\n",
    "             class = \"ts\"\n",
    "            )\n",
    "\n",
    "tsbfa_d_ci"
   ]
  },
  {
   "cell_type": "code",
   "execution_count": 31,
   "metadata": {
    "slideshow": {
     "slide_type": "subslide"
    }
   },
   "outputs": [
    {
     "data": {
      "image/png": "[encoded data removed]",
      "text/plain": [
       "Plot with title \"Serie de referencia\""
      ]
     },
     "metadata": {
      "image/png": {
       "height": 420,
       "width": 420
      },
      "text/plain": {
       "height": 420,
       "width": 420
      }
     },
     "output_type": "display_data"
    }
   ],
   "source": [
    "# Graficamos para comparar\n",
    "par(mfrow=c(2,1))\n",
    "plot(tsbfa_d_ci, col = \"red\", lwd = 1, lty= 2, main=\"Serie estimada y Original\",ylab=\" \", sub=\"Estimada = Rojo\"\n",
    "    ); lines(bf, col = \"black\", lwd = 1, lty= 1, ylab=\" \", )\n",
    "plot(tsaf_IMAE, col = \"black\", lwd = 1, lty= 2, main=\"Serie de referencia\", ylab=\" \",)"
   ]
  },
  {
   "cell_type": "code",
   "execution_count": 32,
   "metadata": {
    "slideshow": {
     "slide_type": "slide"
    }
   },
   "outputs": [
    {
     "data": {
      "text/plain": [
       "\n",
       "Call:\n",
       "td(formula = bf ~ 1, conversion = criterio, to = 12, method = \"uniform\", \n",
       "    criterion = \"proportional\", h = 0)\n",
       "\n",
       "Residuals:\n",
       "   Min     1Q Median     3Q    Max \n",
       "146977 166721 193909 221856 243994 \n",
       "\n",
       "No Coefficients\n",
       "\n",
       "'uniform' disaggregation with 'average' conversion\n",
       "17 low-freq. obs. converted to 204 high-freq. obs.\n",
       "criterion: additive \torder of differencing 'h': 0"
      ]
     },
     "metadata": {},
     "output_type": "display_data"
    }
   ],
   "source": [
    "# ----------------------------------------------------------------------------#\n",
    "#                             Método 3 - \"Uniforme\"\n",
    "# caso especial del enfoque \"denton\", con \"h\" igual a 0 y criterio igual a \n",
    "# \"proporcional\". Distribuye los residuos de manera uniforme. Si no se utiliza \n",
    "# ningún indicador, esto conduce a una serie en forma de escalón.\n",
    "# ----------------------------------------------------------------------------#\n",
    "uni_si = td(bf ~ 1,                         # sin indicador\n",
    "         to = 12,                           # mensual\n",
    "         method = \"uniform\",\n",
    "         conversion = criterio,             # consistente con la average\n",
    "         criterion = \"proportional\",        # criterio proporcional\n",
    "         h = 0                              # de nivel\n",
    "         )\n",
    "# Extraemos la serie resultante\n",
    "uni_salida_si = predict(uni_si)\n",
    "\n",
    "# Resumen del método\n",
    "summary(uni_si)"
   ]
  },
  {
   "cell_type": "code",
   "execution_count": 33,
   "metadata": {
    "slideshow": {
     "slide_type": "subslide"
    }
   },
   "outputs": [
    {
     "data": {
      "text/html": [
       "<table>\n",
       "<caption>A Time Series: 17 × 12</caption>\n",
       "<thead>\n",
       "\t<tr><th></th><th scope=col>Jan</th><th scope=col>Feb</th><th scope=col>Mar</th><th scope=col>Apr</th><th scope=col>May</th><th scope=col>Jun</th><th scope=col>Jul</th><th scope=col>Aug</th><th scope=col>Sep</th><th scope=col>Oct</th><th scope=col>Nov</th><th scope=col>Dec</th></tr>\n",
       "</thead>\n",
       "<tbody>\n",
       "\t<tr><th scope=row>2001</th><td>146977.8</td><td>146977.8</td><td>146977.8</td><td>146977.8</td><td>146977.8</td><td>146977.8</td><td>146977.8</td><td>146977.8</td><td>146977.8</td><td>146977.8</td><td>146977.8</td><td>146977.8</td></tr>\n",
       "\t<tr><th scope=row>2002</th><td>152660.9</td><td>152660.9</td><td>152660.9</td><td>152660.9</td><td>152660.9</td><td>152660.9</td><td>152660.9</td><td>152660.9</td><td>152660.9</td><td>152660.9</td><td>152660.9</td><td>152660.9</td></tr>\n",
       "\t<tr><th scope=row>2003</th><td>156524.5</td><td>156524.5</td><td>156524.5</td><td>156524.5</td><td>156524.5</td><td>156524.5</td><td>156524.5</td><td>156524.5</td><td>156524.5</td><td>156524.5</td><td>156524.5</td><td>156524.5</td></tr>\n",
       "\t<tr><th scope=row>2004</th><td>161458.2</td><td>161458.2</td><td>161458.2</td><td>161458.2</td><td>161458.2</td><td>161458.2</td><td>161458.2</td><td>161458.2</td><td>161458.2</td><td>161458.2</td><td>161458.2</td><td>161458.2</td></tr>\n",
       "\t<tr><th scope=row>2005</th><td>166722.0</td><td>166722.0</td><td>166722.0</td><td>166722.0</td><td>166722.0</td><td>166722.0</td><td>166722.0</td><td>166722.0</td><td>166722.0</td><td>166722.0</td><td>166722.0</td><td>166722.0</td></tr>\n",
       "\t<tr><th scope=row>2006</th><td>175691.2</td><td>175691.2</td><td>175691.2</td><td>175691.2</td><td>175691.2</td><td>175691.2</td><td>175691.2</td><td>175691.2</td><td>175691.2</td><td>175691.2</td><td>175691.2</td><td>175691.2</td></tr>\n",
       "\t<tr><th scope=row>2007</th><td>186766.9</td><td>186766.9</td><td>186766.9</td><td>186766.9</td><td>186766.9</td><td>186766.9</td><td>186766.9</td><td>186766.9</td><td>186766.9</td><td>186766.9</td><td>186766.9</td><td>186766.9</td></tr>\n",
       "\t<tr><th scope=row>2008</th><td>192894.9</td><td>192894.9</td><td>192894.9</td><td>192894.9</td><td>192894.9</td><td>192894.9</td><td>192894.9</td><td>192894.9</td><td>192894.9</td><td>192894.9</td><td>192894.9</td><td>192894.9</td></tr>\n",
       "\t<tr><th scope=row>2009</th><td>193909.6</td><td>193909.6</td><td>193909.6</td><td>193909.6</td><td>193909.6</td><td>193909.6</td><td>193909.6</td><td>193909.6</td><td>193909.6</td><td>193909.6</td><td>193909.6</td><td>193909.6</td></tr>\n",
       "\t<tr><th scope=row>2010</th><td>199473.8</td><td>199473.8</td><td>199473.8</td><td>199473.8</td><td>199473.8</td><td>199473.8</td><td>199473.8</td><td>199473.8</td><td>199473.8</td><td>199473.8</td><td>199473.8</td><td>199473.8</td></tr>\n",
       "\t<tr><th scope=row>2011</th><td>207776.0</td><td>207776.0</td><td>207776.0</td><td>207776.0</td><td>207776.0</td><td>207776.0</td><td>207776.0</td><td>207776.0</td><td>207776.0</td><td>207776.0</td><td>207776.0</td><td>207776.0</td></tr>\n",
       "\t<tr><th scope=row>2012</th><td>213946.6</td><td>213946.6</td><td>213946.6</td><td>213946.6</td><td>213946.6</td><td>213946.6</td><td>213946.6</td><td>213946.6</td><td>213946.6</td><td>213946.6</td><td>213946.6</td><td>213946.6</td></tr>\n",
       "\t<tr><th scope=row>2013</th><td>221857.5</td><td>221857.5</td><td>221857.5</td><td>221857.5</td><td>221857.5</td><td>221857.5</td><td>221857.5</td><td>221857.5</td><td>221857.5</td><td>221857.5</td><td>221857.5</td><td>221857.5</td></tr>\n",
       "\t<tr><th scope=row>2014</th><td>225419.1</td><td>225419.1</td><td>225419.1</td><td>225419.1</td><td>225419.1</td><td>225419.1</td><td>225419.1</td><td>225419.1</td><td>225419.1</td><td>225419.1</td><td>225419.1</td><td>225419.1</td></tr>\n",
       "\t<tr><th scope=row>2015</th><td>231338.0</td><td>231338.0</td><td>231338.0</td><td>231338.0</td><td>231338.0</td><td>231338.0</td><td>231338.0</td><td>231338.0</td><td>231338.0</td><td>231338.0</td><td>231338.0</td><td>231338.0</td></tr>\n",
       "\t<tr><th scope=row>2016</th><td>236479.0</td><td>236479.0</td><td>236479.0</td><td>236479.0</td><td>236479.0</td><td>236479.0</td><td>236479.0</td><td>236479.0</td><td>236479.0</td><td>236479.0</td><td>236479.0</td><td>236479.0</td></tr>\n",
       "\t<tr><th scope=row>2017</th><td>243995.1</td><td>243995.1</td><td>243995.1</td><td>243995.1</td><td>243995.1</td><td>243995.1</td><td>243995.1</td><td>243995.1</td><td>243995.1</td><td>243995.1</td><td>243995.1</td><td>243995.1</td></tr>\n",
       "</tbody>\n",
       "</table>\n"
      ],
      "text/latex": [
       "A Time Series: 17 × 12\n",
       "\\begin{tabular}{r|llllllllllll}\n",
       "  & Jan & Feb & Mar & Apr & May & Jun & Jul & Aug & Sep & Oct & Nov & Dec\\\\\n",
       "\\hline\n",
       "\t2001 & 146977.8 & 146977.8 & 146977.8 & 146977.8 & 146977.8 & 146977.8 & 146977.8 & 146977.8 & 146977.8 & 146977.8 & 146977.8 & 146977.8\\\\\n",
       "\t2002 & 152660.9 & 152660.9 & 152660.9 & 152660.9 & 152660.9 & 152660.9 & 152660.9 & 152660.9 & 152660.9 & 152660.9 & 152660.9 & 152660.9\\\\\n",
       "\t2003 & 156524.5 & 156524.5 & 156524.5 & 156524.5 & 156524.5 & 156524.5 & 156524.5 & 156524.5 & 156524.5 & 156524.5 & 156524.5 & 156524.5\\\\\n",
       "\t2004 & 161458.2 & 161458.2 & 161458.2 & 161458.2 & 161458.2 & 161458.2 & 161458.2 & 161458.2 & 161458.2 & 161458.2 & 161458.2 & 161458.2\\\\\n",
       "\t2005 & 166722.0 & 166722.0 & 166722.0 & 166722.0 & 166722.0 & 166722.0 & 166722.0 & 166722.0 & 166722.0 & 166722.0 & 166722.0 & 166722.0\\\\\n",
       "\t2006 & 175691.2 & 175691.2 & 175691.2 & 175691.2 & 175691.2 & 175691.2 & 175691.2 & 175691.2 & 175691.2 & 175691.2 & 175691.2 & 175691.2\\\\\n",
       "\t2007 & 186766.9 & 186766.9 & 186766.9 & 186766.9 & 186766.9 & 186766.9 & 186766.9 & 186766.9 & 186766.9 & 186766.9 & 186766.9 & 186766.9\\\\\n",
       "\t2008 & 192894.9 & 192894.9 & 192894.9 & 192894.9 & 192894.9 & 192894.9 & 192894.9 & 192894.9 & 192894.9 & 192894.9 & 192894.9 & 192894.9\\\\\n",
       "\t2009 & 193909.6 & 193909.6 & 193909.6 & 193909.6 & 193909.6 & 193909.6 & 193909.6 & 193909.6 & 193909.6 & 193909.6 & 193909.6 & 193909.6\\\\\n",
       "\t2010 & 199473.8 & 199473.8 & 199473.8 & 199473.8 & 199473.8 & 199473.8 & 199473.8 & 199473.8 & 199473.8 & 199473.8 & 199473.8 & 199473.8\\\\\n",
       "\t2011 & 207776.0 & 207776.0 & 207776.0 & 207776.0 & 207776.0 & 207776.0 & 207776.0 & 207776.0 & 207776.0 & 207776.0 & 207776.0 & 207776.0\\\\\n",
       "\t2012 & 213946.6 & 213946.6 & 213946.6 & 213946.6 & 213946.6 & 213946.6 & 213946.6 & 213946.6 & 213946.6 & 213946.6 & 213946.6 & 213946.6\\\\\n",
       "\t2013 & 221857.5 & 221857.5 & 221857.5 & 221857.5 & 221857.5 & 221857.5 & 221857.5 & 221857.5 & 221857.5 & 221857.5 & 221857.5 & 221857.5\\\\\n",
       "\t2014 & 225419.1 & 225419.1 & 225419.1 & 225419.1 & 225419.1 & 225419.1 & 225419.1 & 225419.1 & 225419.1 & 225419.1 & 225419.1 & 225419.1\\\\\n",
       "\t2015 & 231338.0 & 231338.0 & 231338.0 & 231338.0 & 231338.0 & 231338.0 & 231338.0 & 231338.0 & 231338.0 & 231338.0 & 231338.0 & 231338.0\\\\\n",
       "\t2016 & 236479.0 & 236479.0 & 236479.0 & 236479.0 & 236479.0 & 236479.0 & 236479.0 & 236479.0 & 236479.0 & 236479.0 & 236479.0 & 236479.0\\\\\n",
       "\t2017 & 243995.1 & 243995.1 & 243995.1 & 243995.1 & 243995.1 & 243995.1 & 243995.1 & 243995.1 & 243995.1 & 243995.1 & 243995.1 & 243995.1\\\\\n",
       "\\end{tabular}\n"
      ],
      "text/markdown": [
       "\n",
       "A Time Series: 17 × 12\n",
       "\n",
       "| <!--/--> | Jan | Feb | Mar | Apr | May | Jun | Jul | Aug | Sep | Oct | Nov | Dec |\n",
       "|---|---|---|---|---|---|---|---|---|---|---|---|---|\n",
       "| 2001 | 146977.8 | 146977.8 | 146977.8 | 146977.8 | 146977.8 | 146977.8 | 146977.8 | 146977.8 | 146977.8 | 146977.8 | 146977.8 | 146977.8 |\n",
       "| 2002 | 152660.9 | 152660.9 | 152660.9 | 152660.9 | 152660.9 | 152660.9 | 152660.9 | 152660.9 | 152660.9 | 152660.9 | 152660.9 | 152660.9 |\n",
       "| 2003 | 156524.5 | 156524.5 | 156524.5 | 156524.5 | 156524.5 | 156524.5 | 156524.5 | 156524.5 | 156524.5 | 156524.5 | 156524.5 | 156524.5 |\n",
       "| 2004 | 161458.2 | 161458.2 | 161458.2 | 161458.2 | 161458.2 | 161458.2 | 161458.2 | 161458.2 | 161458.2 | 161458.2 | 161458.2 | 161458.2 |\n",
       "| 2005 | 166722.0 | 166722.0 | 166722.0 | 166722.0 | 166722.0 | 166722.0 | 166722.0 | 166722.0 | 166722.0 | 166722.0 | 166722.0 | 166722.0 |\n",
       "| 2006 | 175691.2 | 175691.2 | 175691.2 | 175691.2 | 175691.2 | 175691.2 | 175691.2 | 175691.2 | 175691.2 | 175691.2 | 175691.2 | 175691.2 |\n",
       "| 2007 | 186766.9 | 186766.9 | 186766.9 | 186766.9 | 186766.9 | 186766.9 | 186766.9 | 186766.9 | 186766.9 | 186766.9 | 186766.9 | 186766.9 |\n",
       "| 2008 | 192894.9 | 192894.9 | 192894.9 | 192894.9 | 192894.9 | 192894.9 | 192894.9 | 192894.9 | 192894.9 | 192894.9 | 192894.9 | 192894.9 |\n",
       "| 2009 | 193909.6 | 193909.6 | 193909.6 | 193909.6 | 193909.6 | 193909.6 | 193909.6 | 193909.6 | 193909.6 | 193909.6 | 193909.6 | 193909.6 |\n",
       "| 2010 | 199473.8 | 199473.8 | 199473.8 | 199473.8 | 199473.8 | 199473.8 | 199473.8 | 199473.8 | 199473.8 | 199473.8 | 199473.8 | 199473.8 |\n",
       "| 2011 | 207776.0 | 207776.0 | 207776.0 | 207776.0 | 207776.0 | 207776.0 | 207776.0 | 207776.0 | 207776.0 | 207776.0 | 207776.0 | 207776.0 |\n",
       "| 2012 | 213946.6 | 213946.6 | 213946.6 | 213946.6 | 213946.6 | 213946.6 | 213946.6 | 213946.6 | 213946.6 | 213946.6 | 213946.6 | 213946.6 |\n",
       "| 2013 | 221857.5 | 221857.5 | 221857.5 | 221857.5 | 221857.5 | 221857.5 | 221857.5 | 221857.5 | 221857.5 | 221857.5 | 221857.5 | 221857.5 |\n",
       "| 2014 | 225419.1 | 225419.1 | 225419.1 | 225419.1 | 225419.1 | 225419.1 | 225419.1 | 225419.1 | 225419.1 | 225419.1 | 225419.1 | 225419.1 |\n",
       "| 2015 | 231338.0 | 231338.0 | 231338.0 | 231338.0 | 231338.0 | 231338.0 | 231338.0 | 231338.0 | 231338.0 | 231338.0 | 231338.0 | 231338.0 |\n",
       "| 2016 | 236479.0 | 236479.0 | 236479.0 | 236479.0 | 236479.0 | 236479.0 | 236479.0 | 236479.0 | 236479.0 | 236479.0 | 236479.0 | 236479.0 |\n",
       "| 2017 | 243995.1 | 243995.1 | 243995.1 | 243995.1 | 243995.1 | 243995.1 | 243995.1 | 243995.1 | 243995.1 | 243995.1 | 243995.1 | 243995.1 |\n",
       "\n"
      ],
      "text/plain": [
       "     Jan      Feb      Mar      Apr      May      Jun      Jul      Aug     \n",
       "2001 146977.8 146977.8 146977.8 146977.8 146977.8 146977.8 146977.8 146977.8\n",
       "2002 152660.9 152660.9 152660.9 152660.9 152660.9 152660.9 152660.9 152660.9\n",
       "2003 156524.5 156524.5 156524.5 156524.5 156524.5 156524.5 156524.5 156524.5\n",
       "2004 161458.2 161458.2 161458.2 161458.2 161458.2 161458.2 161458.2 161458.2\n",
       "2005 166722.0 166722.0 166722.0 166722.0 166722.0 166722.0 166722.0 166722.0\n",
       "2006 175691.2 175691.2 175691.2 175691.2 175691.2 175691.2 175691.2 175691.2\n",
       "2007 186766.9 186766.9 186766.9 186766.9 186766.9 186766.9 186766.9 186766.9\n",
       "2008 192894.9 192894.9 192894.9 192894.9 192894.9 192894.9 192894.9 192894.9\n",
       "2009 193909.6 193909.6 193909.6 193909.6 193909.6 193909.6 193909.6 193909.6\n",
       "2010 199473.8 199473.8 199473.8 199473.8 199473.8 199473.8 199473.8 199473.8\n",
       "2011 207776.0 207776.0 207776.0 207776.0 207776.0 207776.0 207776.0 207776.0\n",
       "2012 213946.6 213946.6 213946.6 213946.6 213946.6 213946.6 213946.6 213946.6\n",
       "2013 221857.5 221857.5 221857.5 221857.5 221857.5 221857.5 221857.5 221857.5\n",
       "2014 225419.1 225419.1 225419.1 225419.1 225419.1 225419.1 225419.1 225419.1\n",
       "2015 231338.0 231338.0 231338.0 231338.0 231338.0 231338.0 231338.0 231338.0\n",
       "2016 236479.0 236479.0 236479.0 236479.0 236479.0 236479.0 236479.0 236479.0\n",
       "2017 243995.1 243995.1 243995.1 243995.1 243995.1 243995.1 243995.1 243995.1\n",
       "     Sep      Oct      Nov      Dec     \n",
       "2001 146977.8 146977.8 146977.8 146977.8\n",
       "2002 152660.9 152660.9 152660.9 152660.9\n",
       "2003 156524.5 156524.5 156524.5 156524.5\n",
       "2004 161458.2 161458.2 161458.2 161458.2\n",
       "2005 166722.0 166722.0 166722.0 166722.0\n",
       "2006 175691.2 175691.2 175691.2 175691.2\n",
       "2007 186766.9 186766.9 186766.9 186766.9\n",
       "2008 192894.9 192894.9 192894.9 192894.9\n",
       "2009 193909.6 193909.6 193909.6 193909.6\n",
       "2010 199473.8 199473.8 199473.8 199473.8\n",
       "2011 207776.0 207776.0 207776.0 207776.0\n",
       "2012 213946.6 213946.6 213946.6 213946.6\n",
       "2013 221857.5 221857.5 221857.5 221857.5\n",
       "2014 225419.1 225419.1 225419.1 225419.1\n",
       "2015 231338.0 231338.0 231338.0 231338.0\n",
       "2016 236479.0 236479.0 236479.0 236479.0\n",
       "2017 243995.1 243995.1 243995.1 243995.1"
      ]
     },
     "metadata": {},
     "output_type": "display_data"
    }
   ],
   "source": [
    "# Pasamos los datos a Time Series\n",
    "tsbfa_uni_si = ts(uni_salida_si,\n",
    "           start= c(2001,1),\n",
    "           end= c(2017,12),\n",
    "           frequency=12,\n",
    "           deltat=1/12,\n",
    "           ts.eps = 0.05,\n",
    "           class = \"ts\"\n",
    "            )\n",
    "\n",
    "tsbfa_uni_si"
   ]
  },
  {
   "cell_type": "code",
   "execution_count": 34,
   "metadata": {
    "slideshow": {
     "slide_type": "subslide"
    }
   },
   "outputs": [
    {
     "data": {
      "image/png": "[encoded data removed]",
      "text/plain": [
       "Plot with title \"Comparación de serie estimada y de referencia\""
      ]
     },
     "metadata": {
      "image/png": {
       "height": 420,
       "width": 420
      },
      "text/plain": {
       "height": 420,
       "width": 420
      }
     },
     "output_type": "display_data"
    }
   ],
   "source": [
    "# Graficamos para comparar\n",
    "plot(tsbfa_uni_si, col = \"red\", lwd = 1, lty= 2, main=\"Comparación de serie estimada y de referencia\",\n",
    "            ylab=\" \", sub=\"Estimada = Rojo\" ); lines(bf, col = \"black\", lwd = 1, lty= 1,ylab=\" \",)"
   ]
  },
  {
   "cell_type": "code",
   "execution_count": 35,
   "metadata": {
    "slideshow": {
     "slide_type": "subslide"
    }
   },
   "outputs": [
    {
     "data": {
      "text/plain": [
       "\n",
       "Call:\n",
       "td(formula = bf ~ 0 + tsaf1, conversion = criterio, to = 12, \n",
       "    method = \"uniform\", criterion = \"proportional\", h = 0)\n",
       "\n",
       "Residuals:\n",
       "     Min       1Q   Median       3Q      Max \n",
       "-1069021 -1000442  -894507  -835634  -780779 \n",
       "\n",
       "No Coefficients\n",
       "\n",
       "'uniform' disaggregation with 'average' conversion\n",
       "17 low-freq. obs. converted to 216 high-freq. obs.\n",
       "criterion: additive \torder of differencing 'h': 0"
      ]
     },
     "metadata": {},
     "output_type": "display_data"
    }
   ],
   "source": [
    "uni_ci = td(bf ~ 0 + tsaf1,                 # Con indicador\n",
    "         to = 12,                           # mensual\n",
    "         method = \"uniform\",\n",
    "         conversion = criterio,             # consistente con la average\n",
    "         criterion = \"proportional\",        # criterio proporcional\n",
    "         h = 0                              # de nivel\n",
    "         )\n",
    "# Extraemos la serie resultante\n",
    "uni_salida_ci = predict(uni_ci)\n",
    "\n",
    "# Resumen del método\n",
    "summary(uni_ci)"
   ]
  },
  {
   "cell_type": "code",
   "execution_count": 36,
   "metadata": {
    "scrolled": true,
    "slideshow": {
     "slide_type": "subslide"
    }
   },
   "outputs": [
    {
     "data": {
      "text/html": [
       "<table>\n",
       "<caption>A Time Series: 17 × 12</caption>\n",
       "<thead>\n",
       "\t<tr><th></th><th scope=col>Jan</th><th scope=col>Feb</th><th scope=col>Mar</th><th scope=col>Apr</th><th scope=col>May</th><th scope=col>Jun</th><th scope=col>Jul</th><th scope=col>Aug</th><th scope=col>Sep</th><th scope=col>Oct</th><th scope=col>Nov</th><th scope=col>Dec</th></tr>\n",
       "</thead>\n",
       "<tbody>\n",
       "\t<tr><th scope=row>2001</th><td>155982.2</td><td>156324.2</td><td>137657.2</td><td>162177.2</td><td>145277.2</td><td>145606.2</td><td>151123.2</td><td>123451.2</td><td>125637.2</td><td>137451.2</td><td>145073.2</td><td>177974.2</td></tr>\n",
       "\t<tr><th scope=row>2002</th><td>149521.3</td><td>156688.3</td><td>177489.3</td><td>145388.3</td><td>130492.3</td><td>154206.3</td><td>150142.3</td><td>139772.3</td><td>138943.3</td><td>142970.3</td><td>155852.3</td><td>190465.3</td></tr>\n",
       "\t<tr><th scope=row>2003</th><td>166709.7</td><td>178134.7</td><td>204399.7</td><td>175410.7</td><td>176566.7</td><td>155760.7</td><td>159690.7</td><td>110397.7</td><td>139379.7</td><td>133434.7</td><td>105488.7</td><td>172919.7</td></tr>\n",
       "\t<tr><th scope=row>2004</th><td>173605.2</td><td>186040.2</td><td>177435.2</td><td>169014.2</td><td>178366.2</td><td>144353.2</td><td>146875.2</td><td>131749.2</td><td>133587.2</td><td>148873.2</td><td>166230.2</td><td>181369.2</td></tr>\n",
       "\t<tr><th scope=row>2005</th><td>192963.0</td><td>172612.0</td><td>199758.0</td><td>187481.0</td><td>166961.0</td><td>148906.0</td><td>162560.0</td><td>157830.0</td><td>136381.0</td><td>142975.0</td><td>177568.0</td><td>154669.0</td></tr>\n",
       "\t<tr><th scope=row>2006</th><td>167103.2</td><td>177297.2</td><td>177471.2</td><td>180166.2</td><td>168150.2</td><td>168791.2</td><td>173709.2</td><td>170203.2</td><td>156030.2</td><td>171677.2</td><td>189613.2</td><td>208082.2</td></tr>\n",
       "\t<tr><th scope=row>2007</th><td>170446.9</td><td>185690.9</td><td>200477.9</td><td>188793.9</td><td>181608.9</td><td>191789.9</td><td>191266.9</td><td>179639.9</td><td>153961.9</td><td>175500.9</td><td>193408.9</td><td>228615.9</td></tr>\n",
       "\t<tr><th scope=row>2008</th><td>223783.9</td><td>219168.9</td><td>240416.9</td><td>229621.9</td><td>200714.9</td><td>174818.9</td><td>165588.9</td><td>182463.9</td><td>163065.9</td><td>147268.9</td><td>163493.9</td><td>204331.9</td></tr>\n",
       "\t<tr><th scope=row>2009</th><td>218109.6</td><td>183111.6</td><td>200765.6</td><td>179607.6</td><td>177116.6</td><td>150320.6</td><td>164465.6</td><td>177205.6</td><td>191092.6</td><td>201644.6</td><td>221579.6</td><td>261895.6</td></tr>\n",
       "\t<tr><th scope=row>2010</th><td>239231.1</td><td>199602.1</td><td>208559.1</td><td>203108.1</td><td>199682.1</td><td>176279.1</td><td>184424.1</td><td>179452.1</td><td>165941.1</td><td>178086.1</td><td>208081.1</td><td>251239.1</td></tr>\n",
       "\t<tr><th scope=row>2011</th><td>222969.1</td><td>212274.1</td><td>221942.1</td><td>209332.1</td><td>210769.1</td><td>197056.1</td><td>191216.1</td><td>184863.1</td><td>185536.1</td><td>191375.1</td><td>225320.1</td><td>240658.1</td></tr>\n",
       "\t<tr><th scope=row>2012</th><td>197925.8</td><td>209283.8</td><td>216349.8</td><td>207522.8</td><td>214404.8</td><td>193021.8</td><td>205625.8</td><td>196102.8</td><td>200871.8</td><td>214885.8</td><td>246471.8</td><td>264892.8</td></tr>\n",
       "\t<tr><th scope=row>2013</th><td>214689.8</td><td>218705.8</td><td>238540.8</td><td>246189.8</td><td>243246.8</td><td>215962.8</td><td>206166.8</td><td>197236.8</td><td>196841.8</td><td>213438.8</td><td>218179.8</td><td>253089.8</td></tr>\n",
       "\t<tr><th scope=row>2014</th><td>204458.0</td><td>222029.0</td><td>220828.0</td><td>252361.0</td><td>217275.0</td><td>212437.0</td><td>207796.0</td><td>207978.0</td><td>195677.0</td><td>226937.0</td><td>243175.0</td><td>294078.0</td></tr>\n",
       "\t<tr><th scope=row>2015</th><td>216036.7</td><td>219194.7</td><td>256220.7</td><td>252907.7</td><td>227653.7</td><td>233006.7</td><td>209306.7</td><td>206405.7</td><td>198033.7</td><td>220666.7</td><td>259506.7</td><td>277116.7</td></tr>\n",
       "\t<tr><th scope=row>2016</th><td>196879.0</td><td>234700.0</td><td>252056.0</td><td>235529.0</td><td>242876.0</td><td>221082.0</td><td>220938.0</td><td>222590.0</td><td>227046.0</td><td>227427.0</td><td>267800.0</td><td>288825.0</td></tr>\n",
       "\t<tr><th scope=row>2017</th><td>207188.6</td><td>256895.6</td><td>238625.6</td><td>264215.6</td><td>260634.6</td><td>220448.6</td><td>233468.6</td><td>223681.6</td><td>210932.6</td><td>277930.6</td><td>255663.6</td><td>278256.6</td></tr>\n",
       "</tbody>\n",
       "</table>\n"
      ],
      "text/latex": [
       "A Time Series: 17 × 12\n",
       "\\begin{tabular}{r|llllllllllll}\n",
       "  & Jan & Feb & Mar & Apr & May & Jun & Jul & Aug & Sep & Oct & Nov & Dec\\\\\n",
       "\\hline\n",
       "\t2001 & 155982.2 & 156324.2 & 137657.2 & 162177.2 & 145277.2 & 145606.2 & 151123.2 & 123451.2 & 125637.2 & 137451.2 & 145073.2 & 177974.2\\\\\n",
       "\t2002 & 149521.3 & 156688.3 & 177489.3 & 145388.3 & 130492.3 & 154206.3 & 150142.3 & 139772.3 & 138943.3 & 142970.3 & 155852.3 & 190465.3\\\\\n",
       "\t2003 & 166709.7 & 178134.7 & 204399.7 & 175410.7 & 176566.7 & 155760.7 & 159690.7 & 110397.7 & 139379.7 & 133434.7 & 105488.7 & 172919.7\\\\\n",
       "\t2004 & 173605.2 & 186040.2 & 177435.2 & 169014.2 & 178366.2 & 144353.2 & 146875.2 & 131749.2 & 133587.2 & 148873.2 & 166230.2 & 181369.2\\\\\n",
       "\t2005 & 192963.0 & 172612.0 & 199758.0 & 187481.0 & 166961.0 & 148906.0 & 162560.0 & 157830.0 & 136381.0 & 142975.0 & 177568.0 & 154669.0\\\\\n",
       "\t2006 & 167103.2 & 177297.2 & 177471.2 & 180166.2 & 168150.2 & 168791.2 & 173709.2 & 170203.2 & 156030.2 & 171677.2 & 189613.2 & 208082.2\\\\\n",
       "\t2007 & 170446.9 & 185690.9 & 200477.9 & 188793.9 & 181608.9 & 191789.9 & 191266.9 & 179639.9 & 153961.9 & 175500.9 & 193408.9 & 228615.9\\\\\n",
       "\t2008 & 223783.9 & 219168.9 & 240416.9 & 229621.9 & 200714.9 & 174818.9 & 165588.9 & 182463.9 & 163065.9 & 147268.9 & 163493.9 & 204331.9\\\\\n",
       "\t2009 & 218109.6 & 183111.6 & 200765.6 & 179607.6 & 177116.6 & 150320.6 & 164465.6 & 177205.6 & 191092.6 & 201644.6 & 221579.6 & 261895.6\\\\\n",
       "\t2010 & 239231.1 & 199602.1 & 208559.1 & 203108.1 & 199682.1 & 176279.1 & 184424.1 & 179452.1 & 165941.1 & 178086.1 & 208081.1 & 251239.1\\\\\n",
       "\t2011 & 222969.1 & 212274.1 & 221942.1 & 209332.1 & 210769.1 & 197056.1 & 191216.1 & 184863.1 & 185536.1 & 191375.1 & 225320.1 & 240658.1\\\\\n",
       "\t2012 & 197925.8 & 209283.8 & 216349.8 & 207522.8 & 214404.8 & 193021.8 & 205625.8 & 196102.8 & 200871.8 & 214885.8 & 246471.8 & 264892.8\\\\\n",
       "\t2013 & 214689.8 & 218705.8 & 238540.8 & 246189.8 & 243246.8 & 215962.8 & 206166.8 & 197236.8 & 196841.8 & 213438.8 & 218179.8 & 253089.8\\\\\n",
       "\t2014 & 204458.0 & 222029.0 & 220828.0 & 252361.0 & 217275.0 & 212437.0 & 207796.0 & 207978.0 & 195677.0 & 226937.0 & 243175.0 & 294078.0\\\\\n",
       "\t2015 & 216036.7 & 219194.7 & 256220.7 & 252907.7 & 227653.7 & 233006.7 & 209306.7 & 206405.7 & 198033.7 & 220666.7 & 259506.7 & 277116.7\\\\\n",
       "\t2016 & 196879.0 & 234700.0 & 252056.0 & 235529.0 & 242876.0 & 221082.0 & 220938.0 & 222590.0 & 227046.0 & 227427.0 & 267800.0 & 288825.0\\\\\n",
       "\t2017 & 207188.6 & 256895.6 & 238625.6 & 264215.6 & 260634.6 & 220448.6 & 233468.6 & 223681.6 & 210932.6 & 277930.6 & 255663.6 & 278256.6\\\\\n",
       "\\end{tabular}\n"
      ],
      "text/markdown": [
       "\n",
       "A Time Series: 17 × 12\n",
       "\n",
       "| <!--/--> | Jan | Feb | Mar | Apr | May | Jun | Jul | Aug | Sep | Oct | Nov | Dec |\n",
       "|---|---|---|---|---|---|---|---|---|---|---|---|---|\n",
       "| 2001 | 155982.2 | 156324.2 | 137657.2 | 162177.2 | 145277.2 | 145606.2 | 151123.2 | 123451.2 | 125637.2 | 137451.2 | 145073.2 | 177974.2 |\n",
       "| 2002 | 149521.3 | 156688.3 | 177489.3 | 145388.3 | 130492.3 | 154206.3 | 150142.3 | 139772.3 | 138943.3 | 142970.3 | 155852.3 | 190465.3 |\n",
       "| 2003 | 166709.7 | 178134.7 | 204399.7 | 175410.7 | 176566.7 | 155760.7 | 159690.7 | 110397.7 | 139379.7 | 133434.7 | 105488.7 | 172919.7 |\n",
       "| 2004 | 173605.2 | 186040.2 | 177435.2 | 169014.2 | 178366.2 | 144353.2 | 146875.2 | 131749.2 | 133587.2 | 148873.2 | 166230.2 | 181369.2 |\n",
       "| 2005 | 192963.0 | 172612.0 | 199758.0 | 187481.0 | 166961.0 | 148906.0 | 162560.0 | 157830.0 | 136381.0 | 142975.0 | 177568.0 | 154669.0 |\n",
       "| 2006 | 167103.2 | 177297.2 | 177471.2 | 180166.2 | 168150.2 | 168791.2 | 173709.2 | 170203.2 | 156030.2 | 171677.2 | 189613.2 | 208082.2 |\n",
       "| 2007 | 170446.9 | 185690.9 | 200477.9 | 188793.9 | 181608.9 | 191789.9 | 191266.9 | 179639.9 | 153961.9 | 175500.9 | 193408.9 | 228615.9 |\n",
       "| 2008 | 223783.9 | 219168.9 | 240416.9 | 229621.9 | 200714.9 | 174818.9 | 165588.9 | 182463.9 | 163065.9 | 147268.9 | 163493.9 | 204331.9 |\n",
       "| 2009 | 218109.6 | 183111.6 | 200765.6 | 179607.6 | 177116.6 | 150320.6 | 164465.6 | 177205.6 | 191092.6 | 201644.6 | 221579.6 | 261895.6 |\n",
       "| 2010 | 239231.1 | 199602.1 | 208559.1 | 203108.1 | 199682.1 | 176279.1 | 184424.1 | 179452.1 | 165941.1 | 178086.1 | 208081.1 | 251239.1 |\n",
       "| 2011 | 222969.1 | 212274.1 | 221942.1 | 209332.1 | 210769.1 | 197056.1 | 191216.1 | 184863.1 | 185536.1 | 191375.1 | 225320.1 | 240658.1 |\n",
       "| 2012 | 197925.8 | 209283.8 | 216349.8 | 207522.8 | 214404.8 | 193021.8 | 205625.8 | 196102.8 | 200871.8 | 214885.8 | 246471.8 | 264892.8 |\n",
       "| 2013 | 214689.8 | 218705.8 | 238540.8 | 246189.8 | 243246.8 | 215962.8 | 206166.8 | 197236.8 | 196841.8 | 213438.8 | 218179.8 | 253089.8 |\n",
       "| 2014 | 204458.0 | 222029.0 | 220828.0 | 252361.0 | 217275.0 | 212437.0 | 207796.0 | 207978.0 | 195677.0 | 226937.0 | 243175.0 | 294078.0 |\n",
       "| 2015 | 216036.7 | 219194.7 | 256220.7 | 252907.7 | 227653.7 | 233006.7 | 209306.7 | 206405.7 | 198033.7 | 220666.7 | 259506.7 | 277116.7 |\n",
       "| 2016 | 196879.0 | 234700.0 | 252056.0 | 235529.0 | 242876.0 | 221082.0 | 220938.0 | 222590.0 | 227046.0 | 227427.0 | 267800.0 | 288825.0 |\n",
       "| 2017 | 207188.6 | 256895.6 | 238625.6 | 264215.6 | 260634.6 | 220448.6 | 233468.6 | 223681.6 | 210932.6 | 277930.6 | 255663.6 | 278256.6 |\n",
       "\n"
      ],
      "text/plain": [
       "     Jan      Feb      Mar      Apr      May      Jun      Jul      Aug     \n",
       "2001 155982.2 156324.2 137657.2 162177.2 145277.2 145606.2 151123.2 123451.2\n",
       "2002 149521.3 156688.3 177489.3 145388.3 130492.3 154206.3 150142.3 139772.3\n",
       "2003 166709.7 178134.7 204399.7 175410.7 176566.7 155760.7 159690.7 110397.7\n",
       "2004 173605.2 186040.2 177435.2 169014.2 178366.2 144353.2 146875.2 131749.2\n",
       "2005 192963.0 172612.0 199758.0 187481.0 166961.0 148906.0 162560.0 157830.0\n",
       "2006 167103.2 177297.2 177471.2 180166.2 168150.2 168791.2 173709.2 170203.2\n",
       "2007 170446.9 185690.9 200477.9 188793.9 181608.9 191789.9 191266.9 179639.9\n",
       "2008 223783.9 219168.9 240416.9 229621.9 200714.9 174818.9 165588.9 182463.9\n",
       "2009 218109.6 183111.6 200765.6 179607.6 177116.6 150320.6 164465.6 177205.6\n",
       "2010 239231.1 199602.1 208559.1 203108.1 199682.1 176279.1 184424.1 179452.1\n",
       "2011 222969.1 212274.1 221942.1 209332.1 210769.1 197056.1 191216.1 184863.1\n",
       "2012 197925.8 209283.8 216349.8 207522.8 214404.8 193021.8 205625.8 196102.8\n",
       "2013 214689.8 218705.8 238540.8 246189.8 243246.8 215962.8 206166.8 197236.8\n",
       "2014 204458.0 222029.0 220828.0 252361.0 217275.0 212437.0 207796.0 207978.0\n",
       "2015 216036.7 219194.7 256220.7 252907.7 227653.7 233006.7 209306.7 206405.7\n",
       "2016 196879.0 234700.0 252056.0 235529.0 242876.0 221082.0 220938.0 222590.0\n",
       "2017 207188.6 256895.6 238625.6 264215.6 260634.6 220448.6 233468.6 223681.6\n",
       "     Sep      Oct      Nov      Dec     \n",
       "2001 125637.2 137451.2 145073.2 177974.2\n",
       "2002 138943.3 142970.3 155852.3 190465.3\n",
       "2003 139379.7 133434.7 105488.7 172919.7\n",
       "2004 133587.2 148873.2 166230.2 181369.2\n",
       "2005 136381.0 142975.0 177568.0 154669.0\n",
       "2006 156030.2 171677.2 189613.2 208082.2\n",
       "2007 153961.9 175500.9 193408.9 228615.9\n",
       "2008 163065.9 147268.9 163493.9 204331.9\n",
       "2009 191092.6 201644.6 221579.6 261895.6\n",
       "2010 165941.1 178086.1 208081.1 251239.1\n",
       "2011 185536.1 191375.1 225320.1 240658.1\n",
       "2012 200871.8 214885.8 246471.8 264892.8\n",
       "2013 196841.8 213438.8 218179.8 253089.8\n",
       "2014 195677.0 226937.0 243175.0 294078.0\n",
       "2015 198033.7 220666.7 259506.7 277116.7\n",
       "2016 227046.0 227427.0 267800.0 288825.0\n",
       "2017 210932.6 277930.6 255663.6 278256.6"
      ]
     },
     "metadata": {},
     "output_type": "display_data"
    }
   ],
   "source": [
    "# Pasamos los datos a Time Series\n",
    "tsbfa_uni_ci = ts(uni_salida_ci, \n",
    "           start= c(2001,1),\n",
    "           end= c(2017,12),\n",
    "           frequency=12,\n",
    "           deltat=1/12,\n",
    "           ts.eps = 0.05,\n",
    "           class = \"ts\"\n",
    "            )\n",
    "\n",
    "tsbfa_uni_ci"
   ]
  },
  {
   "cell_type": "code",
   "execution_count": 37,
   "metadata": {
    "slideshow": {
     "slide_type": "subslide"
    }
   },
   "outputs": [
    {
     "data": {
      "image/png": "[encoded data removed]",
      "text/plain": [
       "Plot with title \"Serie de referencia\""
      ]
     },
     "metadata": {
      "image/png": {
       "height": 420,
       "width": 420
      },
      "text/plain": {
       "height": 420,
       "width": 420
      }
     },
     "output_type": "display_data"
    }
   ],
   "source": [
    "# Graficamos para comparar\n",
    "par(mfrow=c(2,1))\n",
    "plot(tsbfa_uni_ci, col = \"red\", lwd = 1, lty= 2, main=\"Serie estimada y Original\", ylab=\" \", sub=\"Estimada = Rojo\"\n",
    "); lines(bf, col = \"black\", lwd = 1, lty= 1, ylab=\" \", )\n",
    "plot(tsaf_IMAE, col = \"black\", lwd = 1, lty= 2, main=\"Serie de referencia\", ylab=\" \",)"
   ]
  },
  {
   "cell_type": "code",
   "execution_count": 38,
   "metadata": {
    "slideshow": {
     "slide_type": "slide"
    }
   },
   "outputs": [
    {
     "name": "stderr",
     "output_type": "stream",
     "text": [
      "Warning message in td(bf ~ 1, to = 12, method = \"ols\", conversion = criterio, criterion = \"proportional\", :\n",
      "\"No indicator specified: denton,\n",
      "               denton-cholette or uniform are recommended.\"\n"
     ]
    }
   ],
   "source": [
    "# ----------------------------------------------------------------------------#\n",
    "#                             Método 4 - \"ols\"\n",
    "# ----------------------------------------------------------------------------#\n",
    "# ------> No recomendado si no existe un indicador de referencia\n",
    "ols_si = td(bf ~ 1,                         # sin indicador\n",
    "         to = 12,                           # mensual\n",
    "         method = \"ols\",\n",
    "         conversion = criterio,             # consistente con la average\n",
    "         criterion = \"proportional\",        # criterio proporcional\n",
    "         h = 0                              # de nivel\n",
    "         )\n",
    "# Extraemos la serie resultante\n",
    "ols_salida_si = predict(ols_si)\n"
   ]
  },
  {
   "cell_type": "code",
   "execution_count": 39,
   "metadata": {
    "slideshow": {
     "slide_type": "subslide"
    }
   },
   "outputs": [
    {
     "data": {
      "text/plain": [
       "\n",
       "Call:\n",
       "td(formula = bf ~ 1, conversion = criterio, to = 12, method = \"ols\", \n",
       "    criterion = \"proportional\", h = 0)\n",
       "\n",
       "Residuals:\n",
       "   Min     1Q Median     3Q    Max \n",
       "-47957 -28213  -1025  26923  49060 \n",
       "\n",
       "Coefficients:\n",
       "            Estimate Std. Error t value Pr(>|t|)    \n",
       "(Intercept)   194935       7568   25.76 1.88e-14 ***\n",
       "---\n",
       "Signif. codes:  0 '***' 0.001 '**' 0.01 '*' 0.05 '.' 0.1 ' ' 1\n",
       "\n",
       "'ols' disaggregation with 'average' conversion\n",
       "17 low-freq. obs. converted to 204 high-freq. obs.\n",
       "Adjusted R-squared: -1.332e-15\tAR1-Parameter:     0"
      ]
     },
     "metadata": {},
     "output_type": "display_data"
    }
   ],
   "source": [
    "# Resumen del método\n",
    "summary(ols_si)"
   ]
  },
  {
   "cell_type": "code",
   "execution_count": 40,
   "metadata": {
    "slideshow": {
     "slide_type": "subslide"
    }
   },
   "outputs": [
    {
     "data": {
      "text/html": [
       "<table>\n",
       "<caption>A Time Series: 17 × 12</caption>\n",
       "<thead>\n",
       "\t<tr><th></th><th scope=col>Jan</th><th scope=col>Feb</th><th scope=col>Mar</th><th scope=col>Apr</th><th scope=col>May</th><th scope=col>Jun</th><th scope=col>Jul</th><th scope=col>Aug</th><th scope=col>Sep</th><th scope=col>Oct</th><th scope=col>Nov</th><th scope=col>Dec</th></tr>\n",
       "</thead>\n",
       "<tbody>\n",
       "\t<tr><th scope=row>2001</th><td>146977.8</td><td>146977.8</td><td>146977.8</td><td>146977.8</td><td>146977.8</td><td>146977.8</td><td>146977.8</td><td>146977.8</td><td>146977.8</td><td>146977.8</td><td>146977.8</td><td>146977.8</td></tr>\n",
       "\t<tr><th scope=row>2002</th><td>152660.9</td><td>152660.9</td><td>152660.9</td><td>152660.9</td><td>152660.9</td><td>152660.9</td><td>152660.9</td><td>152660.9</td><td>152660.9</td><td>152660.9</td><td>152660.9</td><td>152660.9</td></tr>\n",
       "\t<tr><th scope=row>2003</th><td>156524.5</td><td>156524.5</td><td>156524.5</td><td>156524.5</td><td>156524.5</td><td>156524.5</td><td>156524.5</td><td>156524.5</td><td>156524.5</td><td>156524.5</td><td>156524.5</td><td>156524.5</td></tr>\n",
       "\t<tr><th scope=row>2004</th><td>161458.2</td><td>161458.2</td><td>161458.2</td><td>161458.2</td><td>161458.2</td><td>161458.2</td><td>161458.2</td><td>161458.2</td><td>161458.2</td><td>161458.2</td><td>161458.2</td><td>161458.2</td></tr>\n",
       "\t<tr><th scope=row>2005</th><td>166722.0</td><td>166722.0</td><td>166722.0</td><td>166722.0</td><td>166722.0</td><td>166722.0</td><td>166722.0</td><td>166722.0</td><td>166722.0</td><td>166722.0</td><td>166722.0</td><td>166722.0</td></tr>\n",
       "\t<tr><th scope=row>2006</th><td>175691.2</td><td>175691.2</td><td>175691.2</td><td>175691.2</td><td>175691.2</td><td>175691.2</td><td>175691.2</td><td>175691.2</td><td>175691.2</td><td>175691.2</td><td>175691.2</td><td>175691.2</td></tr>\n",
       "\t<tr><th scope=row>2007</th><td>186766.9</td><td>186766.9</td><td>186766.9</td><td>186766.9</td><td>186766.9</td><td>186766.9</td><td>186766.9</td><td>186766.9</td><td>186766.9</td><td>186766.9</td><td>186766.9</td><td>186766.9</td></tr>\n",
       "\t<tr><th scope=row>2008</th><td>192894.9</td><td>192894.9</td><td>192894.9</td><td>192894.9</td><td>192894.9</td><td>192894.9</td><td>192894.9</td><td>192894.9</td><td>192894.9</td><td>192894.9</td><td>192894.9</td><td>192894.9</td></tr>\n",
       "\t<tr><th scope=row>2009</th><td>193909.6</td><td>193909.6</td><td>193909.6</td><td>193909.6</td><td>193909.6</td><td>193909.6</td><td>193909.6</td><td>193909.6</td><td>193909.6</td><td>193909.6</td><td>193909.6</td><td>193909.6</td></tr>\n",
       "\t<tr><th scope=row>2010</th><td>199473.8</td><td>199473.8</td><td>199473.8</td><td>199473.8</td><td>199473.8</td><td>199473.8</td><td>199473.8</td><td>199473.8</td><td>199473.8</td><td>199473.8</td><td>199473.8</td><td>199473.8</td></tr>\n",
       "\t<tr><th scope=row>2011</th><td>207776.0</td><td>207776.0</td><td>207776.0</td><td>207776.0</td><td>207776.0</td><td>207776.0</td><td>207776.0</td><td>207776.0</td><td>207776.0</td><td>207776.0</td><td>207776.0</td><td>207776.0</td></tr>\n",
       "\t<tr><th scope=row>2012</th><td>213946.6</td><td>213946.6</td><td>213946.6</td><td>213946.6</td><td>213946.6</td><td>213946.6</td><td>213946.6</td><td>213946.6</td><td>213946.6</td><td>213946.6</td><td>213946.6</td><td>213946.6</td></tr>\n",
       "\t<tr><th scope=row>2013</th><td>221857.5</td><td>221857.5</td><td>221857.5</td><td>221857.5</td><td>221857.5</td><td>221857.5</td><td>221857.5</td><td>221857.5</td><td>221857.5</td><td>221857.5</td><td>221857.5</td><td>221857.5</td></tr>\n",
       "\t<tr><th scope=row>2014</th><td>225419.1</td><td>225419.1</td><td>225419.1</td><td>225419.1</td><td>225419.1</td><td>225419.1</td><td>225419.1</td><td>225419.1</td><td>225419.1</td><td>225419.1</td><td>225419.1</td><td>225419.1</td></tr>\n",
       "\t<tr><th scope=row>2015</th><td>231338.0</td><td>231338.0</td><td>231338.0</td><td>231338.0</td><td>231338.0</td><td>231338.0</td><td>231338.0</td><td>231338.0</td><td>231338.0</td><td>231338.0</td><td>231338.0</td><td>231338.0</td></tr>\n",
       "\t<tr><th scope=row>2016</th><td>236479.0</td><td>236479.0</td><td>236479.0</td><td>236479.0</td><td>236479.0</td><td>236479.0</td><td>236479.0</td><td>236479.0</td><td>236479.0</td><td>236479.0</td><td>236479.0</td><td>236479.0</td></tr>\n",
       "\t<tr><th scope=row>2017</th><td>243995.1</td><td>243995.1</td><td>243995.1</td><td>243995.1</td><td>243995.1</td><td>243995.1</td><td>243995.1</td><td>243995.1</td><td>243995.1</td><td>243995.1</td><td>243995.1</td><td>243995.1</td></tr>\n",
       "</tbody>\n",
       "</table>\n"
      ],
      "text/latex": [
       "A Time Series: 17 × 12\n",
       "\\begin{tabular}{r|llllllllllll}\n",
       "  & Jan & Feb & Mar & Apr & May & Jun & Jul & Aug & Sep & Oct & Nov & Dec\\\\\n",
       "\\hline\n",
       "\t2001 & 146977.8 & 146977.8 & 146977.8 & 146977.8 & 146977.8 & 146977.8 & 146977.8 & 146977.8 & 146977.8 & 146977.8 & 146977.8 & 146977.8\\\\\n",
       "\t2002 & 152660.9 & 152660.9 & 152660.9 & 152660.9 & 152660.9 & 152660.9 & 152660.9 & 152660.9 & 152660.9 & 152660.9 & 152660.9 & 152660.9\\\\\n",
       "\t2003 & 156524.5 & 156524.5 & 156524.5 & 156524.5 & 156524.5 & 156524.5 & 156524.5 & 156524.5 & 156524.5 & 156524.5 & 156524.5 & 156524.5\\\\\n",
       "\t2004 & 161458.2 & 161458.2 & 161458.2 & 161458.2 & 161458.2 & 161458.2 & 161458.2 & 161458.2 & 161458.2 & 161458.2 & 161458.2 & 161458.2\\\\\n",
       "\t2005 & 166722.0 & 166722.0 & 166722.0 & 166722.0 & 166722.0 & 166722.0 & 166722.0 & 166722.0 & 166722.0 & 166722.0 & 166722.0 & 166722.0\\\\\n",
       "\t2006 & 175691.2 & 175691.2 & 175691.2 & 175691.2 & 175691.2 & 175691.2 & 175691.2 & 175691.2 & 175691.2 & 175691.2 & 175691.2 & 175691.2\\\\\n",
       "\t2007 & 186766.9 & 186766.9 & 186766.9 & 186766.9 & 186766.9 & 186766.9 & 186766.9 & 186766.9 & 186766.9 & 186766.9 & 186766.9 & 186766.9\\\\\n",
       "\t2008 & 192894.9 & 192894.9 & 192894.9 & 192894.9 & 192894.9 & 192894.9 & 192894.9 & 192894.9 & 192894.9 & 192894.9 & 192894.9 & 192894.9\\\\\n",
       "\t2009 & 193909.6 & 193909.6 & 193909.6 & 193909.6 & 193909.6 & 193909.6 & 193909.6 & 193909.6 & 193909.6 & 193909.6 & 193909.6 & 193909.6\\\\\n",
       "\t2010 & 199473.8 & 199473.8 & 199473.8 & 199473.8 & 199473.8 & 199473.8 & 199473.8 & 199473.8 & 199473.8 & 199473.8 & 199473.8 & 199473.8\\\\\n",
       "\t2011 & 207776.0 & 207776.0 & 207776.0 & 207776.0 & 207776.0 & 207776.0 & 207776.0 & 207776.0 & 207776.0 & 207776.0 & 207776.0 & 207776.0\\\\\n",
       "\t2012 & 213946.6 & 213946.6 & 213946.6 & 213946.6 & 213946.6 & 213946.6 & 213946.6 & 213946.6 & 213946.6 & 213946.6 & 213946.6 & 213946.6\\\\\n",
       "\t2013 & 221857.5 & 221857.5 & 221857.5 & 221857.5 & 221857.5 & 221857.5 & 221857.5 & 221857.5 & 221857.5 & 221857.5 & 221857.5 & 221857.5\\\\\n",
       "\t2014 & 225419.1 & 225419.1 & 225419.1 & 225419.1 & 225419.1 & 225419.1 & 225419.1 & 225419.1 & 225419.1 & 225419.1 & 225419.1 & 225419.1\\\\\n",
       "\t2015 & 231338.0 & 231338.0 & 231338.0 & 231338.0 & 231338.0 & 231338.0 & 231338.0 & 231338.0 & 231338.0 & 231338.0 & 231338.0 & 231338.0\\\\\n",
       "\t2016 & 236479.0 & 236479.0 & 236479.0 & 236479.0 & 236479.0 & 236479.0 & 236479.0 & 236479.0 & 236479.0 & 236479.0 & 236479.0 & 236479.0\\\\\n",
       "\t2017 & 243995.1 & 243995.1 & 243995.1 & 243995.1 & 243995.1 & 243995.1 & 243995.1 & 243995.1 & 243995.1 & 243995.1 & 243995.1 & 243995.1\\\\\n",
       "\\end{tabular}\n"
      ],
      "text/markdown": [
       "\n",
       "A Time Series: 17 × 12\n",
       "\n",
       "| <!--/--> | Jan | Feb | Mar | Apr | May | Jun | Jul | Aug | Sep | Oct | Nov | Dec |\n",
       "|---|---|---|---|---|---|---|---|---|---|---|---|---|\n",
       "| 2001 | 146977.8 | 146977.8 | 146977.8 | 146977.8 | 146977.8 | 146977.8 | 146977.8 | 146977.8 | 146977.8 | 146977.8 | 146977.8 | 146977.8 |\n",
       "| 2002 | 152660.9 | 152660.9 | 152660.9 | 152660.9 | 152660.9 | 152660.9 | 152660.9 | 152660.9 | 152660.9 | 152660.9 | 152660.9 | 152660.9 |\n",
       "| 2003 | 156524.5 | 156524.5 | 156524.5 | 156524.5 | 156524.5 | 156524.5 | 156524.5 | 156524.5 | 156524.5 | 156524.5 | 156524.5 | 156524.5 |\n",
       "| 2004 | 161458.2 | 161458.2 | 161458.2 | 161458.2 | 161458.2 | 161458.2 | 161458.2 | 161458.2 | 161458.2 | 161458.2 | 161458.2 | 161458.2 |\n",
       "| 2005 | 166722.0 | 166722.0 | 166722.0 | 166722.0 | 166722.0 | 166722.0 | 166722.0 | 166722.0 | 166722.0 | 166722.0 | 166722.0 | 166722.0 |\n",
       "| 2006 | 175691.2 | 175691.2 | 175691.2 | 175691.2 | 175691.2 | 175691.2 | 175691.2 | 175691.2 | 175691.2 | 175691.2 | 175691.2 | 175691.2 |\n",
       "| 2007 | 186766.9 | 186766.9 | 186766.9 | 186766.9 | 186766.9 | 186766.9 | 186766.9 | 186766.9 | 186766.9 | 186766.9 | 186766.9 | 186766.9 |\n",
       "| 2008 | 192894.9 | 192894.9 | 192894.9 | 192894.9 | 192894.9 | 192894.9 | 192894.9 | 192894.9 | 192894.9 | 192894.9 | 192894.9 | 192894.9 |\n",
       "| 2009 | 193909.6 | 193909.6 | 193909.6 | 193909.6 | 193909.6 | 193909.6 | 193909.6 | 193909.6 | 193909.6 | 193909.6 | 193909.6 | 193909.6 |\n",
       "| 2010 | 199473.8 | 199473.8 | 199473.8 | 199473.8 | 199473.8 | 199473.8 | 199473.8 | 199473.8 | 199473.8 | 199473.8 | 199473.8 | 199473.8 |\n",
       "| 2011 | 207776.0 | 207776.0 | 207776.0 | 207776.0 | 207776.0 | 207776.0 | 207776.0 | 207776.0 | 207776.0 | 207776.0 | 207776.0 | 207776.0 |\n",
       "| 2012 | 213946.6 | 213946.6 | 213946.6 | 213946.6 | 213946.6 | 213946.6 | 213946.6 | 213946.6 | 213946.6 | 213946.6 | 213946.6 | 213946.6 |\n",
       "| 2013 | 221857.5 | 221857.5 | 221857.5 | 221857.5 | 221857.5 | 221857.5 | 221857.5 | 221857.5 | 221857.5 | 221857.5 | 221857.5 | 221857.5 |\n",
       "| 2014 | 225419.1 | 225419.1 | 225419.1 | 225419.1 | 225419.1 | 225419.1 | 225419.1 | 225419.1 | 225419.1 | 225419.1 | 225419.1 | 225419.1 |\n",
       "| 2015 | 231338.0 | 231338.0 | 231338.0 | 231338.0 | 231338.0 | 231338.0 | 231338.0 | 231338.0 | 231338.0 | 231338.0 | 231338.0 | 231338.0 |\n",
       "| 2016 | 236479.0 | 236479.0 | 236479.0 | 236479.0 | 236479.0 | 236479.0 | 236479.0 | 236479.0 | 236479.0 | 236479.0 | 236479.0 | 236479.0 |\n",
       "| 2017 | 243995.1 | 243995.1 | 243995.1 | 243995.1 | 243995.1 | 243995.1 | 243995.1 | 243995.1 | 243995.1 | 243995.1 | 243995.1 | 243995.1 |\n",
       "\n"
      ],
      "text/plain": [
       "     Jan      Feb      Mar      Apr      May      Jun      Jul      Aug     \n",
       "2001 146977.8 146977.8 146977.8 146977.8 146977.8 146977.8 146977.8 146977.8\n",
       "2002 152660.9 152660.9 152660.9 152660.9 152660.9 152660.9 152660.9 152660.9\n",
       "2003 156524.5 156524.5 156524.5 156524.5 156524.5 156524.5 156524.5 156524.5\n",
       "2004 161458.2 161458.2 161458.2 161458.2 161458.2 161458.2 161458.2 161458.2\n",
       "2005 166722.0 166722.0 166722.0 166722.0 166722.0 166722.0 166722.0 166722.0\n",
       "2006 175691.2 175691.2 175691.2 175691.2 175691.2 175691.2 175691.2 175691.2\n",
       "2007 186766.9 186766.9 186766.9 186766.9 186766.9 186766.9 186766.9 186766.9\n",
       "2008 192894.9 192894.9 192894.9 192894.9 192894.9 192894.9 192894.9 192894.9\n",
       "2009 193909.6 193909.6 193909.6 193909.6 193909.6 193909.6 193909.6 193909.6\n",
       "2010 199473.8 199473.8 199473.8 199473.8 199473.8 199473.8 199473.8 199473.8\n",
       "2011 207776.0 207776.0 207776.0 207776.0 207776.0 207776.0 207776.0 207776.0\n",
       "2012 213946.6 213946.6 213946.6 213946.6 213946.6 213946.6 213946.6 213946.6\n",
       "2013 221857.5 221857.5 221857.5 221857.5 221857.5 221857.5 221857.5 221857.5\n",
       "2014 225419.1 225419.1 225419.1 225419.1 225419.1 225419.1 225419.1 225419.1\n",
       "2015 231338.0 231338.0 231338.0 231338.0 231338.0 231338.0 231338.0 231338.0\n",
       "2016 236479.0 236479.0 236479.0 236479.0 236479.0 236479.0 236479.0 236479.0\n",
       "2017 243995.1 243995.1 243995.1 243995.1 243995.1 243995.1 243995.1 243995.1\n",
       "     Sep      Oct      Nov      Dec     \n",
       "2001 146977.8 146977.8 146977.8 146977.8\n",
       "2002 152660.9 152660.9 152660.9 152660.9\n",
       "2003 156524.5 156524.5 156524.5 156524.5\n",
       "2004 161458.2 161458.2 161458.2 161458.2\n",
       "2005 166722.0 166722.0 166722.0 166722.0\n",
       "2006 175691.2 175691.2 175691.2 175691.2\n",
       "2007 186766.9 186766.9 186766.9 186766.9\n",
       "2008 192894.9 192894.9 192894.9 192894.9\n",
       "2009 193909.6 193909.6 193909.6 193909.6\n",
       "2010 199473.8 199473.8 199473.8 199473.8\n",
       "2011 207776.0 207776.0 207776.0 207776.0\n",
       "2012 213946.6 213946.6 213946.6 213946.6\n",
       "2013 221857.5 221857.5 221857.5 221857.5\n",
       "2014 225419.1 225419.1 225419.1 225419.1\n",
       "2015 231338.0 231338.0 231338.0 231338.0\n",
       "2016 236479.0 236479.0 236479.0 236479.0\n",
       "2017 243995.1 243995.1 243995.1 243995.1"
      ]
     },
     "metadata": {},
     "output_type": "display_data"
    }
   ],
   "source": [
    "# Pasamos los datos a Time Series\n",
    "tsbfa_ols_si = ts(ols_salida_si,\n",
    "           start= c(2001,1),\n",
    "           end= c(2017,12),\n",
    "           frequency=12,\n",
    "           deltat=1/12,\n",
    "           ts.eps = 0.05,\n",
    "           class = \"ts\"\n",
    "            )\n",
    "\n",
    "tsbfa_ols_si"
   ]
  },
  {
   "cell_type": "code",
   "execution_count": 41,
   "metadata": {
    "slideshow": {
     "slide_type": "subslide"
    }
   },
   "outputs": [
    {
     "data": {
      "image/png": "[encoded data removed]",
      "text/plain": [
       "Plot with title \"Comparación de serie estimada y de referencia\""
      ]
     },
     "metadata": {
      "image/png": {
       "height": 420,
       "width": 420
      },
      "text/plain": {
       "height": 420,
       "width": 420
      }
     },
     "output_type": "display_data"
    }
   ],
   "source": [
    "# Graficamos para comparar\n",
    "plot(tsbfa_ols_si, col = \"red\", lwd = 1, lty= 2, main=\"Comparación de serie estimada y de referencia\", ylab=\" \",\n",
    "            sub=\"Estimada = Rojo\"); lines(bf, col = \"black\",lwd = 1,lty= 1,ylab=\" \",)"
   ]
  },
  {
   "cell_type": "code",
   "execution_count": 42,
   "metadata": {
    "slideshow": {
     "slide_type": "subslide"
    }
   },
   "outputs": [],
   "source": [
    "ols_ci = td(bf ~ 0 + tsaf1 + tsaf2,         # Con indicador\n",
    "         to = 12,                           # mensual\n",
    "         method = \"ols\",\n",
    "         conversion = criterio,             # consistente con la average\n",
    "         truncated.rho = 0,                 # p autorregresivo no acepta negativos\n",
    "         criterion = \"proportional\",        # criterio proporcional\n",
    "         h = 0                              # de nivel\n",
    "         )\n",
    "# Extraemos la serie resultante\n",
    "ols_salida_ci = predict(ols_ci)\n"
   ]
  },
  {
   "cell_type": "code",
   "execution_count": 43,
   "metadata": {
    "slideshow": {
     "slide_type": "subslide"
    }
   },
   "outputs": [
    {
     "data": {
      "text/plain": [
       "\n",
       "Call:\n",
       "td(formula = bf ~ 0 + tsaf1 + tsaf2, conversion = criterio, to = 12, \n",
       "    method = \"ols\", truncated.rho = 0, criterion = \"proportional\", \n",
       "    h = 0)\n",
       "\n",
       "Residuals:\n",
       "    Min      1Q  Median      3Q     Max \n",
       "-4632.4 -2305.6  -598.2  2903.8  3697.9 \n",
       "\n",
       "Coefficients:\n",
       "       Estimate Std. Error t value Pr(>|t|)    \n",
       "tsaf1 4.230e-02  1.035e-02   4.085 0.000975 ***\n",
       "tsaf2 1.100e+03  8.479e+01  12.972 1.48e-09 ***\n",
       "---\n",
       "Signif. codes:  0 '***' 0.001 '**' 0.01 '*' 0.05 '.' 0.1 ' ' 1\n",
       "\n",
       "'ols' disaggregation with 'average' conversion\n",
       "17 low-freq. obs. converted to 216 high-freq. obs.\n",
       "Adjusted R-squared: 0.9921\tAR1-Parameter:     0"
      ]
     },
     "metadata": {},
     "output_type": "display_data"
    }
   ],
   "source": [
    "# Resumen del método\n",
    "summary(ols_ci)"
   ]
  },
  {
   "cell_type": "code",
   "execution_count": 44,
   "metadata": {
    "slideshow": {
     "slide_type": "subslide"
    }
   },
   "outputs": [
    {
     "data": {
      "text/html": [
       "<table>\n",
       "<caption>A Time Series: 18 × 12</caption>\n",
       "<thead>\n",
       "\t<tr><th></th><th scope=col>Jan</th><th scope=col>Feb</th><th scope=col>Mar</th><th scope=col>Apr</th><th scope=col>May</th><th scope=col>Jun</th><th scope=col>Jul</th><th scope=col>Aug</th><th scope=col>Sep</th><th scope=col>Oct</th><th scope=col>Nov</th><th scope=col>Dec</th></tr>\n",
       "</thead>\n",
       "<tbody>\n",
       "\t<tr><th scope=row>2001</th><td>144822.1</td><td>145555.5</td><td>142223.1</td><td>145918.5</td><td>138269.1</td><td>147842.8</td><td>142767.2</td><td>144764.7</td><td>148229.7</td><td>153280.1</td><td>160859.5</td><td>149201.9</td></tr>\n",
       "\t<tr><th scope=row>2002</th><td>142246.3</td><td>148743.6</td><td>148753.0</td><td>151266.0</td><td>143605.0</td><td>155472.1</td><td>149430.3</td><td>153759.1</td><td>155112.2</td><td>158888.2</td><td>168443.1</td><td>156212.1</td></tr>\n",
       "\t<tr><th scope=row>2003</th><td>147955.3</td><td>155398.7</td><td>154808.0</td><td>156085.4</td><td>149820.7</td><td>158738.3</td><td>153091.1</td><td>155075.5</td><td>157842.4</td><td>162695.1</td><td>168250.1</td><td>158532.8</td></tr>\n",
       "\t<tr><th scope=row>2004</th><td>153858.9</td><td>159005.3</td><td>157065.1</td><td>158303.5</td><td>155749.7</td><td>164047.3</td><td>157082.4</td><td>160548.0</td><td>163627.2</td><td>167138.0</td><td>178247.3</td><td>162826.2</td></tr>\n",
       "\t<tr><th scope=row>2005</th><td>158713.5</td><td>164542.3</td><td>164633.3</td><td>166645.3</td><td>160882.1</td><td>168099.1</td><td>161774.0</td><td>165491.2</td><td>163805.7</td><td>170968.8</td><td>185799.6</td><td>169308.5</td></tr>\n",
       "\t<tr><th scope=row>2006</th><td>162906.1</td><td>174428.4</td><td>166147.6</td><td>172257.1</td><td>168644.7</td><td>177303.1</td><td>171142.0</td><td>176917.9</td><td>177273.9</td><td>184274.0</td><td>195030.3</td><td>181969.6</td></tr>\n",
       "\t<tr><th scope=row>2007</th><td>175713.6</td><td>186021.8</td><td>179220.3</td><td>184517.9</td><td>181753.9</td><td>189814.1</td><td>184273.5</td><td>185796.7</td><td>184623.4</td><td>194584.5</td><td>203321.8</td><td>191561.4</td></tr>\n",
       "\t<tr><th scope=row>2008</th><td>185136.3</td><td>189849.8</td><td>192491.3</td><td>194693.2</td><td>189430.6</td><td>193652.3</td><td>188870.3</td><td>191960.2</td><td>193399.2</td><td>197565.8</td><td>206303.0</td><td>191386.5</td></tr>\n",
       "\t<tr><th scope=row>2009</th><td>180959.6</td><td>188895.5</td><td>187739.3</td><td>190596.4</td><td>186378.1</td><td>195142.2</td><td>189739.5</td><td>193971.3</td><td>198206.4</td><td>202525.7</td><td>215070.3</td><td>197690.7</td></tr>\n",
       "\t<tr><th scope=row>2010</th><td>186890.8</td><td>197635.3</td><td>193053.5</td><td>197576.3</td><td>194985.2</td><td>198782.6</td><td>192855.4</td><td>197737.1</td><td>200770.7</td><td>207844.9</td><td>221670.5</td><td>203883.2</td></tr>\n",
       "\t<tr><th scope=row>2011</th><td>194877.1</td><td>205000.6</td><td>201348.6</td><td>205874.5</td><td>203249.3</td><td>208692.4</td><td>202816.7</td><td>207666.9</td><td>208235.5</td><td>218144.1</td><td>228076.2</td><td>209329.9</td></tr>\n",
       "\t<tr><th scope=row>2012</th><td>200561.5</td><td>211838.5</td><td>204377.7</td><td>213624.9</td><td>208271.6</td><td>213667.0</td><td>208488.0</td><td>212361.7</td><td>217021.0</td><td>224154.6</td><td>234885.9</td><td>218107.1</td></tr>\n",
       "\t<tr><th scope=row>2013</th><td>208525.2</td><td>215511.8</td><td>218048.9</td><td>223540.0</td><td>215849.7</td><td>223097.5</td><td>216902.3</td><td>220196.9</td><td>224256.2</td><td>231699.4</td><td>240027.8</td><td>224634.1</td></tr>\n",
       "\t<tr><th scope=row>2014</th><td>207078.2</td><td>219885.6</td><td>219981.1</td><td>227512.6</td><td>218528.5</td><td>229022.8</td><td>220228.1</td><td>223327.7</td><td>226273.8</td><td>236264.7</td><td>245584.1</td><td>231341.9</td></tr>\n",
       "\t<tr><th scope=row>2015</th><td>214664.3</td><td>226065.6</td><td>225800.4</td><td>232156.8</td><td>224186.5</td><td>236194.1</td><td>225027.5</td><td>228788.8</td><td>233361.6</td><td>241787.6</td><td>251787.4</td><td>236235.4</td></tr>\n",
       "\t<tr><th scope=row>2016</th><td>218723.1</td><td>229273.2</td><td>231081.2</td><td>238116.7</td><td>229968.4</td><td>237534.9</td><td>230809.7</td><td>235077.8</td><td>237510.9</td><td>247224.0</td><td>260897.1</td><td>241530.8</td></tr>\n",
       "\t<tr><th scope=row>2017</th><td>226368.0</td><td>239526.0</td><td>236002.4</td><td>245750.1</td><td>238098.3</td><td>246441.4</td><td>237970.0</td><td>241763.5</td><td>246148.8</td><td>256365.8</td><td>268187.5</td><td>245319.8</td></tr>\n",
       "\t<tr><th scope=row>2018</th><td>233861.6</td><td>245497.6</td><td>245506.0</td><td>257495.1</td><td>246955.3</td><td>257174.1</td><td>248166.6</td><td>251273.8</td><td>256850.1</td><td>267163.3</td><td>276016.1</td><td>256469.2</td></tr>\n",
       "</tbody>\n",
       "</table>\n"
      ],
      "text/latex": [
       "A Time Series: 18 × 12\n",
       "\\begin{tabular}{r|llllllllllll}\n",
       "  & Jan & Feb & Mar & Apr & May & Jun & Jul & Aug & Sep & Oct & Nov & Dec\\\\\n",
       "\\hline\n",
       "\t2001 & 144822.1 & 145555.5 & 142223.1 & 145918.5 & 138269.1 & 147842.8 & 142767.2 & 144764.7 & 148229.7 & 153280.1 & 160859.5 & 149201.9\\\\\n",
       "\t2002 & 142246.3 & 148743.6 & 148753.0 & 151266.0 & 143605.0 & 155472.1 & 149430.3 & 153759.1 & 155112.2 & 158888.2 & 168443.1 & 156212.1\\\\\n",
       "\t2003 & 147955.3 & 155398.7 & 154808.0 & 156085.4 & 149820.7 & 158738.3 & 153091.1 & 155075.5 & 157842.4 & 162695.1 & 168250.1 & 158532.8\\\\\n",
       "\t2004 & 153858.9 & 159005.3 & 157065.1 & 158303.5 & 155749.7 & 164047.3 & 157082.4 & 160548.0 & 163627.2 & 167138.0 & 178247.3 & 162826.2\\\\\n",
       "\t2005 & 158713.5 & 164542.3 & 164633.3 & 166645.3 & 160882.1 & 168099.1 & 161774.0 & 165491.2 & 163805.7 & 170968.8 & 185799.6 & 169308.5\\\\\n",
       "\t2006 & 162906.1 & 174428.4 & 166147.6 & 172257.1 & 168644.7 & 177303.1 & 171142.0 & 176917.9 & 177273.9 & 184274.0 & 195030.3 & 181969.6\\\\\n",
       "\t2007 & 175713.6 & 186021.8 & 179220.3 & 184517.9 & 181753.9 & 189814.1 & 184273.5 & 185796.7 & 184623.4 & 194584.5 & 203321.8 & 191561.4\\\\\n",
       "\t2008 & 185136.3 & 189849.8 & 192491.3 & 194693.2 & 189430.6 & 193652.3 & 188870.3 & 191960.2 & 193399.2 & 197565.8 & 206303.0 & 191386.5\\\\\n",
       "\t2009 & 180959.6 & 188895.5 & 187739.3 & 190596.4 & 186378.1 & 195142.2 & 189739.5 & 193971.3 & 198206.4 & 202525.7 & 215070.3 & 197690.7\\\\\n",
       "\t2010 & 186890.8 & 197635.3 & 193053.5 & 197576.3 & 194985.2 & 198782.6 & 192855.4 & 197737.1 & 200770.7 & 207844.9 & 221670.5 & 203883.2\\\\\n",
       "\t2011 & 194877.1 & 205000.6 & 201348.6 & 205874.5 & 203249.3 & 208692.4 & 202816.7 & 207666.9 & 208235.5 & 218144.1 & 228076.2 & 209329.9\\\\\n",
       "\t2012 & 200561.5 & 211838.5 & 204377.7 & 213624.9 & 208271.6 & 213667.0 & 208488.0 & 212361.7 & 217021.0 & 224154.6 & 234885.9 & 218107.1\\\\\n",
       "\t2013 & 208525.2 & 215511.8 & 218048.9 & 223540.0 & 215849.7 & 223097.5 & 216902.3 & 220196.9 & 224256.2 & 231699.4 & 240027.8 & 224634.1\\\\\n",
       "\t2014 & 207078.2 & 219885.6 & 219981.1 & 227512.6 & 218528.5 & 229022.8 & 220228.1 & 223327.7 & 226273.8 & 236264.7 & 245584.1 & 231341.9\\\\\n",
       "\t2015 & 214664.3 & 226065.6 & 225800.4 & 232156.8 & 224186.5 & 236194.1 & 225027.5 & 228788.8 & 233361.6 & 241787.6 & 251787.4 & 236235.4\\\\\n",
       "\t2016 & 218723.1 & 229273.2 & 231081.2 & 238116.7 & 229968.4 & 237534.9 & 230809.7 & 235077.8 & 237510.9 & 247224.0 & 260897.1 & 241530.8\\\\\n",
       "\t2017 & 226368.0 & 239526.0 & 236002.4 & 245750.1 & 238098.3 & 246441.4 & 237970.0 & 241763.5 & 246148.8 & 256365.8 & 268187.5 & 245319.8\\\\\n",
       "\t2018 & 233861.6 & 245497.6 & 245506.0 & 257495.1 & 246955.3 & 257174.1 & 248166.6 & 251273.8 & 256850.1 & 267163.3 & 276016.1 & 256469.2\\\\\n",
       "\\end{tabular}\n"
      ],
      "text/markdown": [
       "\n",
       "A Time Series: 18 × 12\n",
       "\n",
       "| <!--/--> | Jan | Feb | Mar | Apr | May | Jun | Jul | Aug | Sep | Oct | Nov | Dec |\n",
       "|---|---|---|---|---|---|---|---|---|---|---|---|---|\n",
       "| 2001 | 144822.1 | 145555.5 | 142223.1 | 145918.5 | 138269.1 | 147842.8 | 142767.2 | 144764.7 | 148229.7 | 153280.1 | 160859.5 | 149201.9 |\n",
       "| 2002 | 142246.3 | 148743.6 | 148753.0 | 151266.0 | 143605.0 | 155472.1 | 149430.3 | 153759.1 | 155112.2 | 158888.2 | 168443.1 | 156212.1 |\n",
       "| 2003 | 147955.3 | 155398.7 | 154808.0 | 156085.4 | 149820.7 | 158738.3 | 153091.1 | 155075.5 | 157842.4 | 162695.1 | 168250.1 | 158532.8 |\n",
       "| 2004 | 153858.9 | 159005.3 | 157065.1 | 158303.5 | 155749.7 | 164047.3 | 157082.4 | 160548.0 | 163627.2 | 167138.0 | 178247.3 | 162826.2 |\n",
       "| 2005 | 158713.5 | 164542.3 | 164633.3 | 166645.3 | 160882.1 | 168099.1 | 161774.0 | 165491.2 | 163805.7 | 170968.8 | 185799.6 | 169308.5 |\n",
       "| 2006 | 162906.1 | 174428.4 | 166147.6 | 172257.1 | 168644.7 | 177303.1 | 171142.0 | 176917.9 | 177273.9 | 184274.0 | 195030.3 | 181969.6 |\n",
       "| 2007 | 175713.6 | 186021.8 | 179220.3 | 184517.9 | 181753.9 | 189814.1 | 184273.5 | 185796.7 | 184623.4 | 194584.5 | 203321.8 | 191561.4 |\n",
       "| 2008 | 185136.3 | 189849.8 | 192491.3 | 194693.2 | 189430.6 | 193652.3 | 188870.3 | 191960.2 | 193399.2 | 197565.8 | 206303.0 | 191386.5 |\n",
       "| 2009 | 180959.6 | 188895.5 | 187739.3 | 190596.4 | 186378.1 | 195142.2 | 189739.5 | 193971.3 | 198206.4 | 202525.7 | 215070.3 | 197690.7 |\n",
       "| 2010 | 186890.8 | 197635.3 | 193053.5 | 197576.3 | 194985.2 | 198782.6 | 192855.4 | 197737.1 | 200770.7 | 207844.9 | 221670.5 | 203883.2 |\n",
       "| 2011 | 194877.1 | 205000.6 | 201348.6 | 205874.5 | 203249.3 | 208692.4 | 202816.7 | 207666.9 | 208235.5 | 218144.1 | 228076.2 | 209329.9 |\n",
       "| 2012 | 200561.5 | 211838.5 | 204377.7 | 213624.9 | 208271.6 | 213667.0 | 208488.0 | 212361.7 | 217021.0 | 224154.6 | 234885.9 | 218107.1 |\n",
       "| 2013 | 208525.2 | 215511.8 | 218048.9 | 223540.0 | 215849.7 | 223097.5 | 216902.3 | 220196.9 | 224256.2 | 231699.4 | 240027.8 | 224634.1 |\n",
       "| 2014 | 207078.2 | 219885.6 | 219981.1 | 227512.6 | 218528.5 | 229022.8 | 220228.1 | 223327.7 | 226273.8 | 236264.7 | 245584.1 | 231341.9 |\n",
       "| 2015 | 214664.3 | 226065.6 | 225800.4 | 232156.8 | 224186.5 | 236194.1 | 225027.5 | 228788.8 | 233361.6 | 241787.6 | 251787.4 | 236235.4 |\n",
       "| 2016 | 218723.1 | 229273.2 | 231081.2 | 238116.7 | 229968.4 | 237534.9 | 230809.7 | 235077.8 | 237510.9 | 247224.0 | 260897.1 | 241530.8 |\n",
       "| 2017 | 226368.0 | 239526.0 | 236002.4 | 245750.1 | 238098.3 | 246441.4 | 237970.0 | 241763.5 | 246148.8 | 256365.8 | 268187.5 | 245319.8 |\n",
       "| 2018 | 233861.6 | 245497.6 | 245506.0 | 257495.1 | 246955.3 | 257174.1 | 248166.6 | 251273.8 | 256850.1 | 267163.3 | 276016.1 | 256469.2 |\n",
       "\n"
      ],
      "text/plain": [
       "     Jan      Feb      Mar      Apr      May      Jun      Jul      Aug     \n",
       "2001 144822.1 145555.5 142223.1 145918.5 138269.1 147842.8 142767.2 144764.7\n",
       "2002 142246.3 148743.6 148753.0 151266.0 143605.0 155472.1 149430.3 153759.1\n",
       "2003 147955.3 155398.7 154808.0 156085.4 149820.7 158738.3 153091.1 155075.5\n",
       "2004 153858.9 159005.3 157065.1 158303.5 155749.7 164047.3 157082.4 160548.0\n",
       "2005 158713.5 164542.3 164633.3 166645.3 160882.1 168099.1 161774.0 165491.2\n",
       "2006 162906.1 174428.4 166147.6 172257.1 168644.7 177303.1 171142.0 176917.9\n",
       "2007 175713.6 186021.8 179220.3 184517.9 181753.9 189814.1 184273.5 185796.7\n",
       "2008 185136.3 189849.8 192491.3 194693.2 189430.6 193652.3 188870.3 191960.2\n",
       "2009 180959.6 188895.5 187739.3 190596.4 186378.1 195142.2 189739.5 193971.3\n",
       "2010 186890.8 197635.3 193053.5 197576.3 194985.2 198782.6 192855.4 197737.1\n",
       "2011 194877.1 205000.6 201348.6 205874.5 203249.3 208692.4 202816.7 207666.9\n",
       "2012 200561.5 211838.5 204377.7 213624.9 208271.6 213667.0 208488.0 212361.7\n",
       "2013 208525.2 215511.8 218048.9 223540.0 215849.7 223097.5 216902.3 220196.9\n",
       "2014 207078.2 219885.6 219981.1 227512.6 218528.5 229022.8 220228.1 223327.7\n",
       "2015 214664.3 226065.6 225800.4 232156.8 224186.5 236194.1 225027.5 228788.8\n",
       "2016 218723.1 229273.2 231081.2 238116.7 229968.4 237534.9 230809.7 235077.8\n",
       "2017 226368.0 239526.0 236002.4 245750.1 238098.3 246441.4 237970.0 241763.5\n",
       "2018 233861.6 245497.6 245506.0 257495.1 246955.3 257174.1 248166.6 251273.8\n",
       "     Sep      Oct      Nov      Dec     \n",
       "2001 148229.7 153280.1 160859.5 149201.9\n",
       "2002 155112.2 158888.2 168443.1 156212.1\n",
       "2003 157842.4 162695.1 168250.1 158532.8\n",
       "2004 163627.2 167138.0 178247.3 162826.2\n",
       "2005 163805.7 170968.8 185799.6 169308.5\n",
       "2006 177273.9 184274.0 195030.3 181969.6\n",
       "2007 184623.4 194584.5 203321.8 191561.4\n",
       "2008 193399.2 197565.8 206303.0 191386.5\n",
       "2009 198206.4 202525.7 215070.3 197690.7\n",
       "2010 200770.7 207844.9 221670.5 203883.2\n",
       "2011 208235.5 218144.1 228076.2 209329.9\n",
       "2012 217021.0 224154.6 234885.9 218107.1\n",
       "2013 224256.2 231699.4 240027.8 224634.1\n",
       "2014 226273.8 236264.7 245584.1 231341.9\n",
       "2015 233361.6 241787.6 251787.4 236235.4\n",
       "2016 237510.9 247224.0 260897.1 241530.8\n",
       "2017 246148.8 256365.8 268187.5 245319.8\n",
       "2018 256850.1 267163.3 276016.1 256469.2"
      ]
     },
     "metadata": {},
     "output_type": "display_data"
    }
   ],
   "source": [
    "# Pasamos los datos a Time Series\n",
    "tsbfa_ols_ci = ts(ols_salida_ci, \n",
    "           start= c(2001,1),\n",
    "           end= c(2018,12), # con pronóstico\n",
    "           frequency=12,\n",
    "           deltat=1/12,\n",
    "           ts.eps = 0.05,\n",
    "           class = \"ts\"\n",
    "            )\n",
    "\n",
    "tsbfa_ols_ci"
   ]
  },
  {
   "cell_type": "code",
   "execution_count": 45,
   "metadata": {
    "slideshow": {
     "slide_type": "slide"
    }
   },
   "outputs": [
    {
     "data": {
      "image/png": "[encoded data removed]",
      "text/plain": [
       "Plot with title \"Serie de referencia\""
      ]
     },
     "metadata": {
      "image/png": {
       "height": 420,
       "width": 420
      },
      "text/plain": {
       "height": 420,
       "width": 420
      }
     },
     "output_type": "display_data"
    }
   ],
   "source": [
    "# Graficamos para comparar\n",
    "par(mfrow=c(2,1))\n",
    "plot(tsbfa_ols_ci, col = \"red\",lwd = 1,lty= 2,main=\"Serie estimada y Original\",ylab=\" \",sub=\"Estimada = Rojo\"\n",
    "); lines(bf, col = \"black\",lwd = 1,lty= 1,ylab=\" \",)\n",
    "plot(tsaf_IMAE, col = \"black\",lwd = 1,lty= 2,main=\"Serie de referencia\",ylab=\" \",)"
   ]
  },
  {
   "cell_type": "code",
   "execution_count": 46,
   "metadata": {
    "slideshow": {
     "slide_type": "subslide"
    }
   },
   "outputs": [
    {
     "data": {
      "image/png": "[encoded data removed]",
      "text/plain": [
       "Plot with title \"OLS\""
      ]
     },
     "metadata": {
      "image/png": {
       "height": 420,
       "width": 420
      },
      "text/plain": {
       "height": 420,
       "width": 420
      }
     },
     "output_type": "display_data"
    }
   ],
   "source": [
    "# Comparación de resultados de los Métodos Denton\n",
    "\n",
    "# Series sin indicador\n",
    "par(mfrow=c(2,2))\n",
    "plot(tsbfa_dc_si, lwd = 2, lty= 1, main=\"Denton-Cholette\", ylab=\" \");lines(bf, lwd = 1, lty= 3)\n",
    "plot(tsbfa_d_si, lwd = 2, lty= 1, main=\"Denton\", ylab=\" \");lines(bf, lwd = 1, lty= 3)\n",
    "plot(tsbfa_uni_si, lwd = 2, lty= 1, main=\"Uniforme\", ylab=\" \");lines(bf, lwd = 1, lty= 3)\n",
    "plot(tsbfa_ols_si, lwd = 2, lty= 1, main=\"OLS\", ylab=\" \");lines(bf, lwd = 1, lty= 3)"
   ]
  },
  {
   "cell_type": "code",
   "execution_count": 47,
   "metadata": {
    "slideshow": {
     "slide_type": "subslide"
    }
   },
   "outputs": [
    {
     "data": {
      "image/png": "[encoded data removed]",
      "text/plain": [
       "Plot with title \"OLS\""
      ]
     },
     "metadata": {
      "image/png": {
       "height": 420,
       "width": 420
      },
      "text/plain": {
       "height": 420,
       "width": 420
      }
     },
     "output_type": "display_data"
    }
   ],
   "source": [
    "# Series con indicador\n",
    "par(mfrow=c(2,2))\n",
    "plot(tsbfa_dc_ci, lwd = 2, lty= 1, main=\"Denton-Cholette\", ylab=\" \");lines(bf, lwd = 1, lty= 3)\n",
    "plot(tsbfa_d_ci, lwd = 2, lty= 1, main=\"Denton\", ylab=\" \");lines(bf, lwd = 1, lty= 3)\n",
    "plot(tsbfa_uni_ci, lwd = 2, lty= 1, main=\"Uniforme\", ylab=\" \");lines(bf, lwd = 1, lty= 3)\n",
    "plot(tsbfa_ols_ci, lwd = 2, lty= 1, main=\"OLS\", ylab=\" \");lines(bf, lwd = 1, lty= 3)"
   ]
  },
  {
   "cell_type": "code",
   "execution_count": 48,
   "metadata": {
    "slideshow": {
     "slide_type": "subslide"
    }
   },
   "outputs": [
    {
     "data": {
      "text/html": [
       "146977.842932584"
      ],
      "text/latex": [
       "146977.842932584"
      ],
      "text/markdown": [
       "146977.842932584"
      ],
      "text/plain": [
       "[1] 146977.8"
      ]
     },
     "metadata": {},
     "output_type": "display_data"
    },
    {
     "data": {
      "text/html": [
       "146977.842932582"
      ],
      "text/latex": [
       "146977.842932582"
      ],
      "text/markdown": [
       "146977.842932582"
      ],
      "text/plain": [
       "[1] 146977.8"
      ]
     },
     "metadata": {},
     "output_type": "display_data"
    },
    {
     "data": {
      "text/html": [
       "146977.842932587"
      ],
      "text/latex": [
       "146977.842932587"
      ],
      "text/markdown": [
       "146977.842932587"
      ],
      "text/plain": [
       "[1] 146977.8"
      ]
     },
     "metadata": {},
     "output_type": "display_data"
    },
    {
     "data": {
      "text/html": [
       "146977.842932584"
      ],
      "text/latex": [
       "146977.842932584"
      ],
      "text/markdown": [
       "146977.842932584"
      ],
      "text/plain": [
       "[1] 146977.8"
      ]
     },
     "metadata": {},
     "output_type": "display_data"
    },
    {
     "data": {
      "text/html": [
       "146977.842932584"
      ],
      "text/latex": [
       "146977.842932584"
      ],
      "text/markdown": [
       "146977.842932584"
      ],
      "text/plain": [
       "[1] 146977.8"
      ]
     },
     "metadata": {},
     "output_type": "display_data"
    },
    {
     "data": {
      "text/html": [
       "146977.842932584"
      ],
      "text/latex": [
       "146977.842932584"
      ],
      "text/markdown": [
       "146977.842932584"
      ],
      "text/plain": [
       "[1] 146977.8"
      ]
     },
     "metadata": {},
     "output_type": "display_data"
    },
    {
     "data": {
      "text/html": [
       "146977.842932579"
      ],
      "text/latex": [
       "146977.842932579"
      ],
      "text/markdown": [
       "146977.842932579"
      ],
      "text/plain": [
       "[1] 146977.8"
      ]
     },
     "metadata": {},
     "output_type": "display_data"
    },
    {
     "data": {
      "text/html": [
       "146977.842932584"
      ],
      "text/latex": [
       "146977.842932584"
      ],
      "text/markdown": [
       "146977.842932584"
      ],
      "text/plain": [
       "[1] 146977.8"
      ]
     },
     "metadata": {},
     "output_type": "display_data"
    },
    {
     "data": {
      "text/html": [
       "146977.842932584"
      ],
      "text/latex": [
       "146977.842932584"
      ],
      "text/markdown": [
       "146977.842932584"
      ],
      "text/plain": [
       "[1] 146977.8"
      ]
     },
     "metadata": {},
     "output_type": "display_data"
    }
   ],
   "source": [
    "# Consistencia de la serie estimada, con el promedio\n",
    "bf[1] # primer valor de la serie de baja frecuencia\n",
    "mean(tsbfa_dc_si[1:12])\n",
    "mean(tsbfa_d_si[1:12])\n",
    "mean(tsbfa_uni_si[1:12])\n",
    "mean(tsbfa_ols_si[1:12])\n",
    "mean(tsbfa_dc_ci[1:12])\n",
    "mean(tsbfa_d_ci[1:12])\n",
    "mean(tsbfa_uni_ci[1:12])\n",
    "mean(tsbfa_ols_ci[1:12])"
   ]
  },
  {
   "cell_type": "code",
   "execution_count": 49,
   "metadata": {
    "slideshow": {
     "slide_type": "slide"
    }
   },
   "outputs": [],
   "source": [
    "#-----------------------------------------------------------------------------#\n",
    "#                       Métodos basados en regresión\n",
    "# Por otro lado, Chow-Lin, Fernández y Litterman usan uno o varios indicadores \n",
    "# y realizan una regresión en las series de baja frecuencia. Chow-Lin \n",
    "# (Chow y Lin, 1971) es adecuado para series estacionarias o cointegradas, mientras\n",
    "# que Fernández (Fernández, 1981) y Litterman (Litterman, 1983) se ocupan de series\n",
    "# no cointegradas.\n",
    "#-----------------------------------------------------------------------------#\n",
    "#                             Método 5 - \"chow-lin\"\n",
    "#                   Para series estacionarias o cointegradas\n",
    "#----------> incluye\n",
    "#               a. \"chow-lin-maxlog\" \n",
    "#               b. \"chow-lin-minrss-ecotrim\"\n",
    "#               c. \"chow-lin-minrss-quilis\"\n",
    "#               d. \"chow-lin-fixed\"\n",
    "#----------> Recomendado: chow-lin-maxlog\n",
    "#----------> Con truncated.rho = 0\n",
    "#----------> Sin indicador se recomienda Denton\n",
    "# ----------------------------------------------------------------------------#"
   ]
  },
  {
   "cell_type": "code",
   "execution_count": 50,
   "metadata": {
    "slideshow": {
     "slide_type": "slide"
    }
   },
   "outputs": [],
   "source": [
    "# a. \"chow-lin-maxlog\"\n",
    "cl_ml_a = td(bf ~ 0 + tsaf1 + tsaf2,            # con indicador\n",
    "             to = 12,                           # mensual\n",
    "             method = \"chow-lin-maxlog\",\n",
    "             conversion = criterio,             # consistente con la average\n",
    "             truncated.rho = 0,                 # p autorregresivo no acepta negativos\n",
    "             #fixed.rho = 0.5,                  # p autorregresivo fijo\n",
    "             )\n",
    "\n",
    "# Extraemos la serie resultante\n",
    "cl_ml_a_salida = predict(cl_ml_a)"
   ]
  },
  {
   "cell_type": "code",
   "execution_count": 51,
   "metadata": {
    "slideshow": {
     "slide_type": "subslide"
    }
   },
   "outputs": [
    {
     "data": {
      "text/plain": [
       "\n",
       "Call:\n",
       "td(formula = bf ~ 0 + tsaf1 + tsaf2, conversion = criterio, to = 12, \n",
       "    method = \"chow-lin-maxlog\", truncated.rho = 0)\n",
       "\n",
       "Residuals:\n",
       "    Min      1Q  Median      3Q     Max \n",
       "-4115.2 -1465.5   -32.8  3530.0  4364.8 \n",
       "\n",
       "Coefficients:\n",
       "       Estimate Std. Error t value Pr(>|t|)    \n",
       "tsaf1 3.887e-02  1.578e-02   2.463   0.0263 *  \n",
       "tsaf2 1.123e+03  1.281e+02   8.770 2.73e-07 ***\n",
       "---\n",
       "Signif. codes:  0 '***' 0.001 '**' 0.01 '*' 0.05 '.' 0.1 ' ' 1\n",
       "\n",
       "'chow-lin-maxlog' disaggregation with 'average' conversion\n",
       "17 low-freq. obs. converted to 216 high-freq. obs.\n",
       "Adjusted R-squared: 0.9774\tAR1-Parameter: 0.9749"
      ]
     },
     "metadata": {},
     "output_type": "display_data"
    }
   ],
   "source": [
    "# Resumen del método\n",
    "summary(cl_ml_a)\n",
    "logl_a = summary(cl_ml_a)$logl              # logl\n",
    "rsqrt_a = summary(cl_ml_a)$adj.r.squared    # r cuadrado ajustado\n",
    "rho_a = summary(cl_ml_a)$rho                # rho\n",
    "\n",
    "compa_a = c(logl_a, rsqrt_a, rho_a)"
   ]
  },
  {
   "cell_type": "code",
   "execution_count": 52,
   "metadata": {
    "slideshow": {
     "slide_type": "subslide"
    }
   },
   "outputs": [
    {
     "data": {
      "text/html": [
       "<table>\n",
       "<caption>A Time Series: 18 × 12</caption>\n",
       "<thead>\n",
       "\t<tr><th></th><th scope=col>Jan</th><th scope=col>Feb</th><th scope=col>Mar</th><th scope=col>Apr</th><th scope=col>May</th><th scope=col>Jun</th><th scope=col>Jul</th><th scope=col>Aug</th><th scope=col>Sep</th><th scope=col>Oct</th><th scope=col>Nov</th><th scope=col>Dec</th></tr>\n",
       "</thead>\n",
       "<tbody>\n",
       "\t<tr><th scope=row>2001</th><td>144786.5</td><td>145491.5</td><td>142137.0</td><td>145782.4</td><td>138032.0</td><td>147804.6</td><td>142605.6</td><td>144782.8</td><td>148339.5</td><td>153483.7</td><td>161238.5</td><td>149250.2</td></tr>\n",
       "\t<tr><th scope=row>2002</th><td>141568.6</td><td>148244.4</td><td>148240.3</td><td>151025.2</td><td>143350.6</td><td>155454.4</td><td>149394.7</td><td>153956.3</td><td>155442.5</td><td>159386.0</td><td>169196.8</td><td>156671.5</td></tr>\n",
       "\t<tr><th scope=row>2003</th><td>147420.8</td><td>155076.3</td><td>154449.2</td><td>155954.0</td><td>149612.7</td><td>158855.4</td><td>153104.1</td><td>155361.6</td><td>158065.7</td><td>163036.4</td><td>168805.1</td><td>158552.2</td></tr>\n",
       "\t<tr><th scope=row>2004</th><td>153764.4</td><td>158920.2</td><td>156937.6</td><td>158207.5</td><td>155535.3</td><td>164138.6</td><td>157006.0</td><td>160607.9</td><td>163749.3</td><td>167280.3</td><td>178568.9</td><td>162782.7</td></tr>\n",
       "\t<tr><th scope=row>2005</th><td>158087.4</td><td>164167.7</td><td>164190.1</td><td>166351.3</td><td>160614.9</td><td>168129.2</td><td>161684.7</td><td>165581.2</td><td>164039.7</td><td>171419.7</td><td>186515.4</td><td>169882.1</td></tr>\n",
       "\t<tr><th scope=row>2006</th><td>162231.3</td><td>174059.8</td><td>165701.8</td><td>172019.5</td><td>168465.4</td><td>177379.0</td><td>171133.4</td><td>177105.8</td><td>177582.2</td><td>184706.6</td><td>195649.0</td><td>182260.8</td></tr>\n",
       "\t<tr><th scope=row>2007</th><td>174875.4</td><td>185380.0</td><td>178438.3</td><td>183989.6</td><td>181312.7</td><td>189637.5</td><td>184143.8</td><td>185935.0</td><td>185057.2</td><td>195369.3</td><td>204471.7</td><td>192592.3</td></tr>\n",
       "\t<tr><th scope=row>2008</th><td>184165.2</td><td>189262.1</td><td>192088.6</td><td>194562.4</td><td>189449.7</td><td>193966.7</td><td>189175.4</td><td>192267.4</td><td>193788.2</td><td>198036.6</td><td>206771.8</td><td>191204.3</td></tr>\n",
       "\t<tr><th scope=row>2009</th><td>181086.2</td><td>189165.2</td><td>187757.7</td><td>190641.4</td><td>186244.6</td><td>195234.9</td><td>189607.1</td><td>193848.7</td><td>198113.7</td><td>202504.2</td><td>215278.5</td><td>197432.8</td></tr>\n",
       "\t<tr><th scope=row>2010</th><td>186056.5</td><td>197293.5</td><td>192663.4</td><td>197386.1</td><td>194829.0</td><td>198875.4</td><td>192848.8</td><td>197909.8</td><td>201114.1</td><td>208327.3</td><td>222351.1</td><td>204030.3</td></tr>\n",
       "\t<tr><th scope=row>2011</th><td>194580.5</td><td>204980.2</td><td>201217.9</td><td>205895.8</td><td>203203.6</td><td>208808.8</td><td>202814.7</td><td>207768.6</td><td>208313.0</td><td>218365.5</td><td>228313.4</td><td>209049.8</td></tr>\n",
       "\t<tr><th scope=row>2012</th><td>200109.7</td><td>211538.5</td><td>203876.0</td><td>213367.8</td><td>207906.6</td><td>213567.8</td><td>208308.4</td><td>212413.1</td><td>217282.6</td><td>224663.4</td><td>235666.5</td><td>218659.3</td></tr>\n",
       "\t<tr><th scope=row>2013</th><td>208618.2</td><td>215898.3</td><td>218498.8</td><td>224100.8</td><td>216220.8</td><td>223632.4</td><td>217173.4</td><td>220333.4</td><td>224169.3</td><td>231319.2</td><td>239355.8</td><td>222969.5</td></tr>\n",
       "\t<tr><th scope=row>2014</th><td>209004.9</td><td>221464.6</td><td>221066.6</td><td>228162.5</td><td>218722.6</td><td>229083.9</td><td>219788.1</td><td>222658.3</td><td>225466.2</td><td>235320.2</td><td>244593.7</td><td>229697.6</td></tr>\n",
       "\t<tr><th scope=row>2015</th><td>215221.3</td><td>226743.6</td><td>226192.5</td><td>232563.5</td><td>224385.4</td><td>236461.4</td><td>224984.3</td><td>228646.8</td><td>233147.0</td><td>241433.3</td><td>251241.9</td><td>235035.2</td></tr>\n",
       "\t<tr><th scope=row>2016</th><td>218821.2</td><td>229214.8</td><td>230818.3</td><td>237954.8</td><td>229531.4</td><td>237329.3</td><td>230487.9</td><td>234912.9</td><td>237500.3</td><td>247587.6</td><td>261594.3</td><td>241995.1</td></tr>\n",
       "\t<tr><th scope=row>2017</th><td>224985.7</td><td>238499.2</td><td>235247.8</td><td>245334.8</td><td>237756.7</td><td>246646.0</td><td>238111.8</td><td>242176.9</td><td>246835.8</td><td>257081.8</td><td>269329.0</td><td>245936.0</td></tr>\n",
       "\t<tr><th scope=row>2018</th><td>231986.8</td><td>243700.1</td><td>243794.8</td><td>255800.9</td><td>245258.4</td><td>255779.0</td><td>246621.7</td><td>249918.4</td><td>255664.9</td><td>265940.5</td><td>275170.2</td><td>255032.9</td></tr>\n",
       "</tbody>\n",
       "</table>\n"
      ],
      "text/latex": [
       "A Time Series: 18 × 12\n",
       "\\begin{tabular}{r|llllllllllll}\n",
       "  & Jan & Feb & Mar & Apr & May & Jun & Jul & Aug & Sep & Oct & Nov & Dec\\\\\n",
       "\\hline\n",
       "\t2001 & 144786.5 & 145491.5 & 142137.0 & 145782.4 & 138032.0 & 147804.6 & 142605.6 & 144782.8 & 148339.5 & 153483.7 & 161238.5 & 149250.2\\\\\n",
       "\t2002 & 141568.6 & 148244.4 & 148240.3 & 151025.2 & 143350.6 & 155454.4 & 149394.7 & 153956.3 & 155442.5 & 159386.0 & 169196.8 & 156671.5\\\\\n",
       "\t2003 & 147420.8 & 155076.3 & 154449.2 & 155954.0 & 149612.7 & 158855.4 & 153104.1 & 155361.6 & 158065.7 & 163036.4 & 168805.1 & 158552.2\\\\\n",
       "\t2004 & 153764.4 & 158920.2 & 156937.6 & 158207.5 & 155535.3 & 164138.6 & 157006.0 & 160607.9 & 163749.3 & 167280.3 & 178568.9 & 162782.7\\\\\n",
       "\t2005 & 158087.4 & 164167.7 & 164190.1 & 166351.3 & 160614.9 & 168129.2 & 161684.7 & 165581.2 & 164039.7 & 171419.7 & 186515.4 & 169882.1\\\\\n",
       "\t2006 & 162231.3 & 174059.8 & 165701.8 & 172019.5 & 168465.4 & 177379.0 & 171133.4 & 177105.8 & 177582.2 & 184706.6 & 195649.0 & 182260.8\\\\\n",
       "\t2007 & 174875.4 & 185380.0 & 178438.3 & 183989.6 & 181312.7 & 189637.5 & 184143.8 & 185935.0 & 185057.2 & 195369.3 & 204471.7 & 192592.3\\\\\n",
       "\t2008 & 184165.2 & 189262.1 & 192088.6 & 194562.4 & 189449.7 & 193966.7 & 189175.4 & 192267.4 & 193788.2 & 198036.6 & 206771.8 & 191204.3\\\\\n",
       "\t2009 & 181086.2 & 189165.2 & 187757.7 & 190641.4 & 186244.6 & 195234.9 & 189607.1 & 193848.7 & 198113.7 & 202504.2 & 215278.5 & 197432.8\\\\\n",
       "\t2010 & 186056.5 & 197293.5 & 192663.4 & 197386.1 & 194829.0 & 198875.4 & 192848.8 & 197909.8 & 201114.1 & 208327.3 & 222351.1 & 204030.3\\\\\n",
       "\t2011 & 194580.5 & 204980.2 & 201217.9 & 205895.8 & 203203.6 & 208808.8 & 202814.7 & 207768.6 & 208313.0 & 218365.5 & 228313.4 & 209049.8\\\\\n",
       "\t2012 & 200109.7 & 211538.5 & 203876.0 & 213367.8 & 207906.6 & 213567.8 & 208308.4 & 212413.1 & 217282.6 & 224663.4 & 235666.5 & 218659.3\\\\\n",
       "\t2013 & 208618.2 & 215898.3 & 218498.8 & 224100.8 & 216220.8 & 223632.4 & 217173.4 & 220333.4 & 224169.3 & 231319.2 & 239355.8 & 222969.5\\\\\n",
       "\t2014 & 209004.9 & 221464.6 & 221066.6 & 228162.5 & 218722.6 & 229083.9 & 219788.1 & 222658.3 & 225466.2 & 235320.2 & 244593.7 & 229697.6\\\\\n",
       "\t2015 & 215221.3 & 226743.6 & 226192.5 & 232563.5 & 224385.4 & 236461.4 & 224984.3 & 228646.8 & 233147.0 & 241433.3 & 251241.9 & 235035.2\\\\\n",
       "\t2016 & 218821.2 & 229214.8 & 230818.3 & 237954.8 & 229531.4 & 237329.3 & 230487.9 & 234912.9 & 237500.3 & 247587.6 & 261594.3 & 241995.1\\\\\n",
       "\t2017 & 224985.7 & 238499.2 & 235247.8 & 245334.8 & 237756.7 & 246646.0 & 238111.8 & 242176.9 & 246835.8 & 257081.8 & 269329.0 & 245936.0\\\\\n",
       "\t2018 & 231986.8 & 243700.1 & 243794.8 & 255800.9 & 245258.4 & 255779.0 & 246621.7 & 249918.4 & 255664.9 & 265940.5 & 275170.2 & 255032.9\\\\\n",
       "\\end{tabular}\n"
      ],
      "text/markdown": [
       "\n",
       "A Time Series: 18 × 12\n",
       "\n",
       "| <!--/--> | Jan | Feb | Mar | Apr | May | Jun | Jul | Aug | Sep | Oct | Nov | Dec |\n",
       "|---|---|---|---|---|---|---|---|---|---|---|---|---|\n",
       "| 2001 | 144786.5 | 145491.5 | 142137.0 | 145782.4 | 138032.0 | 147804.6 | 142605.6 | 144782.8 | 148339.5 | 153483.7 | 161238.5 | 149250.2 |\n",
       "| 2002 | 141568.6 | 148244.4 | 148240.3 | 151025.2 | 143350.6 | 155454.4 | 149394.7 | 153956.3 | 155442.5 | 159386.0 | 169196.8 | 156671.5 |\n",
       "| 2003 | 147420.8 | 155076.3 | 154449.2 | 155954.0 | 149612.7 | 158855.4 | 153104.1 | 155361.6 | 158065.7 | 163036.4 | 168805.1 | 158552.2 |\n",
       "| 2004 | 153764.4 | 158920.2 | 156937.6 | 158207.5 | 155535.3 | 164138.6 | 157006.0 | 160607.9 | 163749.3 | 167280.3 | 178568.9 | 162782.7 |\n",
       "| 2005 | 158087.4 | 164167.7 | 164190.1 | 166351.3 | 160614.9 | 168129.2 | 161684.7 | 165581.2 | 164039.7 | 171419.7 | 186515.4 | 169882.1 |\n",
       "| 2006 | 162231.3 | 174059.8 | 165701.8 | 172019.5 | 168465.4 | 177379.0 | 171133.4 | 177105.8 | 177582.2 | 184706.6 | 195649.0 | 182260.8 |\n",
       "| 2007 | 174875.4 | 185380.0 | 178438.3 | 183989.6 | 181312.7 | 189637.5 | 184143.8 | 185935.0 | 185057.2 | 195369.3 | 204471.7 | 192592.3 |\n",
       "| 2008 | 184165.2 | 189262.1 | 192088.6 | 194562.4 | 189449.7 | 193966.7 | 189175.4 | 192267.4 | 193788.2 | 198036.6 | 206771.8 | 191204.3 |\n",
       "| 2009 | 181086.2 | 189165.2 | 187757.7 | 190641.4 | 186244.6 | 195234.9 | 189607.1 | 193848.7 | 198113.7 | 202504.2 | 215278.5 | 197432.8 |\n",
       "| 2010 | 186056.5 | 197293.5 | 192663.4 | 197386.1 | 194829.0 | 198875.4 | 192848.8 | 197909.8 | 201114.1 | 208327.3 | 222351.1 | 204030.3 |\n",
       "| 2011 | 194580.5 | 204980.2 | 201217.9 | 205895.8 | 203203.6 | 208808.8 | 202814.7 | 207768.6 | 208313.0 | 218365.5 | 228313.4 | 209049.8 |\n",
       "| 2012 | 200109.7 | 211538.5 | 203876.0 | 213367.8 | 207906.6 | 213567.8 | 208308.4 | 212413.1 | 217282.6 | 224663.4 | 235666.5 | 218659.3 |\n",
       "| 2013 | 208618.2 | 215898.3 | 218498.8 | 224100.8 | 216220.8 | 223632.4 | 217173.4 | 220333.4 | 224169.3 | 231319.2 | 239355.8 | 222969.5 |\n",
       "| 2014 | 209004.9 | 221464.6 | 221066.6 | 228162.5 | 218722.6 | 229083.9 | 219788.1 | 222658.3 | 225466.2 | 235320.2 | 244593.7 | 229697.6 |\n",
       "| 2015 | 215221.3 | 226743.6 | 226192.5 | 232563.5 | 224385.4 | 236461.4 | 224984.3 | 228646.8 | 233147.0 | 241433.3 | 251241.9 | 235035.2 |\n",
       "| 2016 | 218821.2 | 229214.8 | 230818.3 | 237954.8 | 229531.4 | 237329.3 | 230487.9 | 234912.9 | 237500.3 | 247587.6 | 261594.3 | 241995.1 |\n",
       "| 2017 | 224985.7 | 238499.2 | 235247.8 | 245334.8 | 237756.7 | 246646.0 | 238111.8 | 242176.9 | 246835.8 | 257081.8 | 269329.0 | 245936.0 |\n",
       "| 2018 | 231986.8 | 243700.1 | 243794.8 | 255800.9 | 245258.4 | 255779.0 | 246621.7 | 249918.4 | 255664.9 | 265940.5 | 275170.2 | 255032.9 |\n",
       "\n"
      ],
      "text/plain": [
       "     Jan      Feb      Mar      Apr      May      Jun      Jul      Aug     \n",
       "2001 144786.5 145491.5 142137.0 145782.4 138032.0 147804.6 142605.6 144782.8\n",
       "2002 141568.6 148244.4 148240.3 151025.2 143350.6 155454.4 149394.7 153956.3\n",
       "2003 147420.8 155076.3 154449.2 155954.0 149612.7 158855.4 153104.1 155361.6\n",
       "2004 153764.4 158920.2 156937.6 158207.5 155535.3 164138.6 157006.0 160607.9\n",
       "2005 158087.4 164167.7 164190.1 166351.3 160614.9 168129.2 161684.7 165581.2\n",
       "2006 162231.3 174059.8 165701.8 172019.5 168465.4 177379.0 171133.4 177105.8\n",
       "2007 174875.4 185380.0 178438.3 183989.6 181312.7 189637.5 184143.8 185935.0\n",
       "2008 184165.2 189262.1 192088.6 194562.4 189449.7 193966.7 189175.4 192267.4\n",
       "2009 181086.2 189165.2 187757.7 190641.4 186244.6 195234.9 189607.1 193848.7\n",
       "2010 186056.5 197293.5 192663.4 197386.1 194829.0 198875.4 192848.8 197909.8\n",
       "2011 194580.5 204980.2 201217.9 205895.8 203203.6 208808.8 202814.7 207768.6\n",
       "2012 200109.7 211538.5 203876.0 213367.8 207906.6 213567.8 208308.4 212413.1\n",
       "2013 208618.2 215898.3 218498.8 224100.8 216220.8 223632.4 217173.4 220333.4\n",
       "2014 209004.9 221464.6 221066.6 228162.5 218722.6 229083.9 219788.1 222658.3\n",
       "2015 215221.3 226743.6 226192.5 232563.5 224385.4 236461.4 224984.3 228646.8\n",
       "2016 218821.2 229214.8 230818.3 237954.8 229531.4 237329.3 230487.9 234912.9\n",
       "2017 224985.7 238499.2 235247.8 245334.8 237756.7 246646.0 238111.8 242176.9\n",
       "2018 231986.8 243700.1 243794.8 255800.9 245258.4 255779.0 246621.7 249918.4\n",
       "     Sep      Oct      Nov      Dec     \n",
       "2001 148339.5 153483.7 161238.5 149250.2\n",
       "2002 155442.5 159386.0 169196.8 156671.5\n",
       "2003 158065.7 163036.4 168805.1 158552.2\n",
       "2004 163749.3 167280.3 178568.9 162782.7\n",
       "2005 164039.7 171419.7 186515.4 169882.1\n",
       "2006 177582.2 184706.6 195649.0 182260.8\n",
       "2007 185057.2 195369.3 204471.7 192592.3\n",
       "2008 193788.2 198036.6 206771.8 191204.3\n",
       "2009 198113.7 202504.2 215278.5 197432.8\n",
       "2010 201114.1 208327.3 222351.1 204030.3\n",
       "2011 208313.0 218365.5 228313.4 209049.8\n",
       "2012 217282.6 224663.4 235666.5 218659.3\n",
       "2013 224169.3 231319.2 239355.8 222969.5\n",
       "2014 225466.2 235320.2 244593.7 229697.6\n",
       "2015 233147.0 241433.3 251241.9 235035.2\n",
       "2016 237500.3 247587.6 261594.3 241995.1\n",
       "2017 246835.8 257081.8 269329.0 245936.0\n",
       "2018 255664.9 265940.5 275170.2 255032.9"
      ]
     },
     "metadata": {},
     "output_type": "display_data"
    }
   ],
   "source": [
    "# Pasamos los datos a Time Series\n",
    "tsbfa_cl_ml_a = ts(cl_ml_a_salida,\n",
    "                   start= c(2001,1),\n",
    "                   end= c(2018,12),\n",
    "                   frequency=12,\n",
    "                   deltat=1/12,\n",
    "                   ts.eps = 0.05,\n",
    "                   class = \"ts\"\n",
    "                    )\n",
    "\n",
    "tsbfa_cl_ml_a"
   ]
  },
  {
   "cell_type": "code",
   "execution_count": 53,
   "metadata": {
    "slideshow": {
     "slide_type": "subslide"
    }
   },
   "outputs": [
    {
     "data": {
      "image/png": "[encoded data removed]",
      "text/plain": [
       "Plot with title \"Serie de referencia 2\""
      ]
     },
     "metadata": {
      "image/png": {
       "height": 420,
       "width": 420
      },
      "text/plain": {
       "height": 420,
       "width": 420
      }
     },
     "output_type": "display_data"
    }
   ],
   "source": [
    "# Graficamos para comparar\n",
    "layout(matrix(c(1,1,2,3), 2, 2, byrow = TRUE))\n",
    "plot(tsbfa_cl_ml_a, col = \"red\", lwd = 1, lty= 2,main=\"Serie estimada y Original\",ylab=\" \",sub=\"Estimada = Rojo\"\n",
    "); lines(bf, col = \"black\",lwd = 1,lty= 1,ylab=\" \",)\n",
    "plot(tsaf_IMAE, col = \"black\",lwd = 1,lty= 2,main=\"Serie de referencia 1\",ylab=\" \",)\n",
    "plot(tsaf_empleo, col = \"black\",lwd = 1,lty= 2,main=\"Serie de referencia 2\",ylab=\" \",)"
   ]
  },
  {
   "cell_type": "code",
   "execution_count": 54,
   "metadata": {
    "slideshow": {
     "slide_type": "slide"
    }
   },
   "outputs": [],
   "source": [
    "# b. \"chow-lin-minrss-ecotrim\"\n",
    "cl_ml_b = td(bf ~ 0 + tsaf1 + tsaf2,            # con indicador\n",
    "             to = 12,                           # mensual\n",
    "             method = \"chow-lin-minrss-ecotrim\",\n",
    "             conversion = criterio,             # consistente con la average\n",
    "             truncated.rho = 0,                 # p autorregresivo no acepta negativos\n",
    "             #fixed.rho = 0.5,                  # p autorregresivo fijo\n",
    "             )\n",
    "# Extraemos la serie resultante\n",
    "cl_ml_b_salida = predict(cl_ml_b)\n",
    "\n"
   ]
  },
  {
   "cell_type": "code",
   "execution_count": 55,
   "metadata": {
    "slideshow": {
     "slide_type": "subslide"
    }
   },
   "outputs": [
    {
     "data": {
      "text/plain": [
       "\n",
       "Call:\n",
       "td(formula = bf ~ 0 + tsaf1 + tsaf2, conversion = criterio, to = 12, \n",
       "    method = \"chow-lin-minrss-ecotrim\", truncated.rho = 0)\n",
       "\n",
       "Residuals:\n",
       "   Min     1Q Median     3Q    Max \n",
       " -4422  -1916   -361   3178   3988 \n",
       "\n",
       "Coefficients:\n",
       "       Estimate Std. Error t value Pr(>|t|)    \n",
       "tsaf1 4.059e-02  1.217e-02   3.334  0.00453 ** \n",
       "tsaf2 1.112e+03  9.932e+01  11.193 1.11e-08 ***\n",
       "---\n",
       "Signif. codes:  0 '***' 0.001 '**' 0.01 '*' 0.05 '.' 0.1 ' ' 1\n",
       "\n",
       "'chow-lin-minrss-ecotrim' disaggregation with 'average' conversion\n",
       "17 low-freq. obs. converted to 216 high-freq. obs.\n",
       "Adjusted R-squared: 0.9883\tAR1-Parameter: 0.9413"
      ]
     },
     "metadata": {},
     "output_type": "display_data"
    },
    {
     "data": {
      "text/html": [
       "<ol class=list-inline>\n",
       "\t<li>-149.560342560189</li>\n",
       "\t<li>0.988271202809298</li>\n",
       "\t<li>0.941297235007379</li>\n",
       "</ol>\n"
      ],
      "text/latex": [
       "\\begin{enumerate*}\n",
       "\\item -149.560342560189\n",
       "\\item 0.988271202809298\n",
       "\\item 0.941297235007379\n",
       "\\end{enumerate*}\n"
      ],
      "text/markdown": [
       "1. -149.560342560189\n",
       "2. 0.988271202809298\n",
       "3. 0.941297235007379\n",
       "\n",
       "\n"
      ],
      "text/plain": [
       "[1] -149.5603426    0.9882712    0.9412972"
      ]
     },
     "metadata": {},
     "output_type": "display_data"
    }
   ],
   "source": [
    "# Resumen del método\n",
    "summary(cl_ml_b)\n",
    "logl_b = summary(cl_ml_b)$logl              # logl\n",
    "rsqrt_b = summary(cl_ml_b)$adj.r.squared    # r cuadrado ajustado\n",
    "rho_b = summary(cl_ml_b)$rho                # rho\n",
    "\n",
    "compa_b = c(logl_b, rsqrt_b, rho_b)\n",
    "compa_b"
   ]
  },
  {
   "cell_type": "code",
   "execution_count": 56,
   "metadata": {
    "slideshow": {
     "slide_type": "subslide"
    }
   },
   "outputs": [
    {
     "data": {
      "text/html": [
       "<table>\n",
       "<caption>A Time Series: 18 × 12</caption>\n",
       "<thead>\n",
       "\t<tr><th></th><th scope=col>Jan</th><th scope=col>Feb</th><th scope=col>Mar</th><th scope=col>Apr</th><th scope=col>May</th><th scope=col>Jun</th><th scope=col>Jul</th><th scope=col>Aug</th><th scope=col>Sep</th><th scope=col>Oct</th><th scope=col>Nov</th><th scope=col>Dec</th></tr>\n",
       "</thead>\n",
       "<tbody>\n",
       "\t<tr><th scope=row>2001</th><td>145067.0</td><td>145692.4</td><td>142268.6</td><td>145874.1</td><td>138120.7</td><td>147757.8</td><td>142594.3</td><td>144670.8</td><td>148184.1</td><td>153297.7</td><td>160995.1</td><td>149211.4</td></tr>\n",
       "\t<tr><th scope=row>2002</th><td>141611.5</td><td>148254.2</td><td>148310.2</td><td>151012.8</td><td>143395.6</td><td>155435.8</td><td>149435.9</td><td>153935.0</td><td>155408.6</td><td>159324.0</td><td>169065.3</td><td>156742.2</td></tr>\n",
       "\t<tr><th scope=row>2003</th><td>147539.7</td><td>155142.9</td><td>154577.6</td><td>156005.2</td><td>149729.3</td><td>158832.8</td><td>153146.1</td><td>155274.6</td><td>158010.2</td><td>162915.7</td><td>168564.5</td><td>158554.9</td></tr>\n",
       "\t<tr><th scope=row>2004</th><td>153868.9</td><td>158996.5</td><td>157014.5</td><td>158253.0</td><td>155627.5</td><td>164072.2</td><td>157017.9</td><td>160552.7</td><td>163667.7</td><td>167197.4</td><td>178410.8</td><td>162819.6</td></tr>\n",
       "\t<tr><th scope=row>2005</th><td>158217.4</td><td>164196.2</td><td>164278.1</td><td>166393.4</td><td>160673.4</td><td>168075.2</td><td>161726.4</td><td>165575.4</td><td>164006.8</td><td>171329.3</td><td>186349.6</td><td>169842.4</td></tr>\n",
       "\t<tr><th scope=row>2006</th><td>162334.7</td><td>174070.9</td><td>165802.1</td><td>172064.6</td><td>168523.2</td><td>177349.3</td><td>171178.2</td><td>177083.4</td><td>177525.6</td><td>184611.5</td><td>195481.9</td><td>182269.3</td></tr>\n",
       "\t<tr><th scope=row>2007</th><td>174956.6</td><td>185387.8</td><td>178547.7</td><td>184017.7</td><td>181352.2</td><td>189613.7</td><td>184174.6</td><td>185924.2</td><td>185003.8</td><td>195262.0</td><td>204317.8</td><td>192644.6</td></tr>\n",
       "\t<tr><th scope=row>2008</th><td>184294.3</td><td>189342.0</td><td>192193.4</td><td>194625.4</td><td>189507.4</td><td>193926.2</td><td>189164.8</td><td>192260.6</td><td>193723.5</td><td>197892.6</td><td>206569.1</td><td>191238.9</td></tr>\n",
       "\t<tr><th scope=row>2009</th><td>181274.5</td><td>189191.7</td><td>187831.8</td><td>190639.5</td><td>186281.1</td><td>195124.0</td><td>189584.0</td><td>193811.2</td><td>198064.5</td><td>202435.7</td><td>215126.2</td><td>197550.7</td></tr>\n",
       "\t<tr><th scope=row>2010</th><td>186275.1</td><td>197318.4</td><td>192756.2</td><td>197420.4</td><td>194881.8</td><td>198836.8</td><td>192886.6</td><td>197883.8</td><td>201024.7</td><td>208187.8</td><td>222130.3</td><td>204083.5</td></tr>\n",
       "\t<tr><th scope=row>2011</th><td>194749.3</td><td>205019.0</td><td>201313.6</td><td>205916.5</td><td>203254.0</td><td>208773.3</td><td>202827.9</td><td>207719.0</td><td>208260.3</td><td>218224.5</td><td>228144.7</td><td>209109.7</td></tr>\n",
       "\t<tr><th scope=row>2012</th><td>200224.3</td><td>211561.8</td><td>203991.5</td><td>213367.4</td><td>207974.2</td><td>213530.5</td><td>208347.9</td><td>212387.7</td><td>217214.8</td><td>224547.6</td><td>235504.2</td><td>218707.6</td></tr>\n",
       "\t<tr><th scope=row>2013</th><td>208724.1</td><td>215940.5</td><td>218558.4</td><td>224122.2</td><td>216318.9</td><td>223601.6</td><td>217191.3</td><td>220304.3</td><td>224103.5</td><td>231217.1</td><td>239180.4</td><td>223027.5</td></tr>\n",
       "\t<tr><th scope=row>2014</th><td>209113.6</td><td>221479.0</td><td>221082.4</td><td>228176.6</td><td>218764.2</td><td>229017.4</td><td>219813.1</td><td>222660.7</td><td>225418.6</td><td>235240.5</td><td>244453.0</td><td>229810.0</td></tr>\n",
       "\t<tr><th scope=row>2015</th><td>215357.5</td><td>226763.5</td><td>226292.3</td><td>232590.3</td><td>224441.9</td><td>236408.6</td><td>225000.2</td><td>228622.3</td><td>233061.9</td><td>241313.9</td><td>251105.5</td><td>235098.3</td></tr>\n",
       "\t<tr><th scope=row>2016</th><td>218932.3</td><td>229297.2</td><td>230918.6</td><td>237945.6</td><td>229620.5</td><td>237290.8</td><td>230515.1</td><td>234895.3</td><td>237462.1</td><td>247444.6</td><td>261391.9</td><td>242034.0</td></tr>\n",
       "\t<tr><th scope=row>2017</th><td>225036.8</td><td>238519.7</td><td>235265.4</td><td>245309.3</td><td>237808.4</td><td>246534.8</td><td>238130.6</td><td>242155.1</td><td>246766.5</td><td>257082.6</td><td>269197.7</td><td>246134.8</td></tr>\n",
       "\t<tr><th scope=row>2018</th><td>232243.9</td><td>243985.2</td><td>244096.6</td><td>256152.5</td><td>245661.2</td><td>256081.9</td><td>247042.5</td><td>250287.4</td><td>255989.3</td><td>266322.1</td><td>275399.4</td><td>255583.7</td></tr>\n",
       "</tbody>\n",
       "</table>\n"
      ],
      "text/latex": [
       "A Time Series: 18 × 12\n",
       "\\begin{tabular}{r|llllllllllll}\n",
       "  & Jan & Feb & Mar & Apr & May & Jun & Jul & Aug & Sep & Oct & Nov & Dec\\\\\n",
       "\\hline\n",
       "\t2001 & 145067.0 & 145692.4 & 142268.6 & 145874.1 & 138120.7 & 147757.8 & 142594.3 & 144670.8 & 148184.1 & 153297.7 & 160995.1 & 149211.4\\\\\n",
       "\t2002 & 141611.5 & 148254.2 & 148310.2 & 151012.8 & 143395.6 & 155435.8 & 149435.9 & 153935.0 & 155408.6 & 159324.0 & 169065.3 & 156742.2\\\\\n",
       "\t2003 & 147539.7 & 155142.9 & 154577.6 & 156005.2 & 149729.3 & 158832.8 & 153146.1 & 155274.6 & 158010.2 & 162915.7 & 168564.5 & 158554.9\\\\\n",
       "\t2004 & 153868.9 & 158996.5 & 157014.5 & 158253.0 & 155627.5 & 164072.2 & 157017.9 & 160552.7 & 163667.7 & 167197.4 & 178410.8 & 162819.6\\\\\n",
       "\t2005 & 158217.4 & 164196.2 & 164278.1 & 166393.4 & 160673.4 & 168075.2 & 161726.4 & 165575.4 & 164006.8 & 171329.3 & 186349.6 & 169842.4\\\\\n",
       "\t2006 & 162334.7 & 174070.9 & 165802.1 & 172064.6 & 168523.2 & 177349.3 & 171178.2 & 177083.4 & 177525.6 & 184611.5 & 195481.9 & 182269.3\\\\\n",
       "\t2007 & 174956.6 & 185387.8 & 178547.7 & 184017.7 & 181352.2 & 189613.7 & 184174.6 & 185924.2 & 185003.8 & 195262.0 & 204317.8 & 192644.6\\\\\n",
       "\t2008 & 184294.3 & 189342.0 & 192193.4 & 194625.4 & 189507.4 & 193926.2 & 189164.8 & 192260.6 & 193723.5 & 197892.6 & 206569.1 & 191238.9\\\\\n",
       "\t2009 & 181274.5 & 189191.7 & 187831.8 & 190639.5 & 186281.1 & 195124.0 & 189584.0 & 193811.2 & 198064.5 & 202435.7 & 215126.2 & 197550.7\\\\\n",
       "\t2010 & 186275.1 & 197318.4 & 192756.2 & 197420.4 & 194881.8 & 198836.8 & 192886.6 & 197883.8 & 201024.7 & 208187.8 & 222130.3 & 204083.5\\\\\n",
       "\t2011 & 194749.3 & 205019.0 & 201313.6 & 205916.5 & 203254.0 & 208773.3 & 202827.9 & 207719.0 & 208260.3 & 218224.5 & 228144.7 & 209109.7\\\\\n",
       "\t2012 & 200224.3 & 211561.8 & 203991.5 & 213367.4 & 207974.2 & 213530.5 & 208347.9 & 212387.7 & 217214.8 & 224547.6 & 235504.2 & 218707.6\\\\\n",
       "\t2013 & 208724.1 & 215940.5 & 218558.4 & 224122.2 & 216318.9 & 223601.6 & 217191.3 & 220304.3 & 224103.5 & 231217.1 & 239180.4 & 223027.5\\\\\n",
       "\t2014 & 209113.6 & 221479.0 & 221082.4 & 228176.6 & 218764.2 & 229017.4 & 219813.1 & 222660.7 & 225418.6 & 235240.5 & 244453.0 & 229810.0\\\\\n",
       "\t2015 & 215357.5 & 226763.5 & 226292.3 & 232590.3 & 224441.9 & 236408.6 & 225000.2 & 228622.3 & 233061.9 & 241313.9 & 251105.5 & 235098.3\\\\\n",
       "\t2016 & 218932.3 & 229297.2 & 230918.6 & 237945.6 & 229620.5 & 237290.8 & 230515.1 & 234895.3 & 237462.1 & 247444.6 & 261391.9 & 242034.0\\\\\n",
       "\t2017 & 225036.8 & 238519.7 & 235265.4 & 245309.3 & 237808.4 & 246534.8 & 238130.6 & 242155.1 & 246766.5 & 257082.6 & 269197.7 & 246134.8\\\\\n",
       "\t2018 & 232243.9 & 243985.2 & 244096.6 & 256152.5 & 245661.2 & 256081.9 & 247042.5 & 250287.4 & 255989.3 & 266322.1 & 275399.4 & 255583.7\\\\\n",
       "\\end{tabular}\n"
      ],
      "text/markdown": [
       "\n",
       "A Time Series: 18 × 12\n",
       "\n",
       "| <!--/--> | Jan | Feb | Mar | Apr | May | Jun | Jul | Aug | Sep | Oct | Nov | Dec |\n",
       "|---|---|---|---|---|---|---|---|---|---|---|---|---|\n",
       "| 2001 | 145067.0 | 145692.4 | 142268.6 | 145874.1 | 138120.7 | 147757.8 | 142594.3 | 144670.8 | 148184.1 | 153297.7 | 160995.1 | 149211.4 |\n",
       "| 2002 | 141611.5 | 148254.2 | 148310.2 | 151012.8 | 143395.6 | 155435.8 | 149435.9 | 153935.0 | 155408.6 | 159324.0 | 169065.3 | 156742.2 |\n",
       "| 2003 | 147539.7 | 155142.9 | 154577.6 | 156005.2 | 149729.3 | 158832.8 | 153146.1 | 155274.6 | 158010.2 | 162915.7 | 168564.5 | 158554.9 |\n",
       "| 2004 | 153868.9 | 158996.5 | 157014.5 | 158253.0 | 155627.5 | 164072.2 | 157017.9 | 160552.7 | 163667.7 | 167197.4 | 178410.8 | 162819.6 |\n",
       "| 2005 | 158217.4 | 164196.2 | 164278.1 | 166393.4 | 160673.4 | 168075.2 | 161726.4 | 165575.4 | 164006.8 | 171329.3 | 186349.6 | 169842.4 |\n",
       "| 2006 | 162334.7 | 174070.9 | 165802.1 | 172064.6 | 168523.2 | 177349.3 | 171178.2 | 177083.4 | 177525.6 | 184611.5 | 195481.9 | 182269.3 |\n",
       "| 2007 | 174956.6 | 185387.8 | 178547.7 | 184017.7 | 181352.2 | 189613.7 | 184174.6 | 185924.2 | 185003.8 | 195262.0 | 204317.8 | 192644.6 |\n",
       "| 2008 | 184294.3 | 189342.0 | 192193.4 | 194625.4 | 189507.4 | 193926.2 | 189164.8 | 192260.6 | 193723.5 | 197892.6 | 206569.1 | 191238.9 |\n",
       "| 2009 | 181274.5 | 189191.7 | 187831.8 | 190639.5 | 186281.1 | 195124.0 | 189584.0 | 193811.2 | 198064.5 | 202435.7 | 215126.2 | 197550.7 |\n",
       "| 2010 | 186275.1 | 197318.4 | 192756.2 | 197420.4 | 194881.8 | 198836.8 | 192886.6 | 197883.8 | 201024.7 | 208187.8 | 222130.3 | 204083.5 |\n",
       "| 2011 | 194749.3 | 205019.0 | 201313.6 | 205916.5 | 203254.0 | 208773.3 | 202827.9 | 207719.0 | 208260.3 | 218224.5 | 228144.7 | 209109.7 |\n",
       "| 2012 | 200224.3 | 211561.8 | 203991.5 | 213367.4 | 207974.2 | 213530.5 | 208347.9 | 212387.7 | 217214.8 | 224547.6 | 235504.2 | 218707.6 |\n",
       "| 2013 | 208724.1 | 215940.5 | 218558.4 | 224122.2 | 216318.9 | 223601.6 | 217191.3 | 220304.3 | 224103.5 | 231217.1 | 239180.4 | 223027.5 |\n",
       "| 2014 | 209113.6 | 221479.0 | 221082.4 | 228176.6 | 218764.2 | 229017.4 | 219813.1 | 222660.7 | 225418.6 | 235240.5 | 244453.0 | 229810.0 |\n",
       "| 2015 | 215357.5 | 226763.5 | 226292.3 | 232590.3 | 224441.9 | 236408.6 | 225000.2 | 228622.3 | 233061.9 | 241313.9 | 251105.5 | 235098.3 |\n",
       "| 2016 | 218932.3 | 229297.2 | 230918.6 | 237945.6 | 229620.5 | 237290.8 | 230515.1 | 234895.3 | 237462.1 | 247444.6 | 261391.9 | 242034.0 |\n",
       "| 2017 | 225036.8 | 238519.7 | 235265.4 | 245309.3 | 237808.4 | 246534.8 | 238130.6 | 242155.1 | 246766.5 | 257082.6 | 269197.7 | 246134.8 |\n",
       "| 2018 | 232243.9 | 243985.2 | 244096.6 | 256152.5 | 245661.2 | 256081.9 | 247042.5 | 250287.4 | 255989.3 | 266322.1 | 275399.4 | 255583.7 |\n",
       "\n"
      ],
      "text/plain": [
       "     Jan      Feb      Mar      Apr      May      Jun      Jul      Aug     \n",
       "2001 145067.0 145692.4 142268.6 145874.1 138120.7 147757.8 142594.3 144670.8\n",
       "2002 141611.5 148254.2 148310.2 151012.8 143395.6 155435.8 149435.9 153935.0\n",
       "2003 147539.7 155142.9 154577.6 156005.2 149729.3 158832.8 153146.1 155274.6\n",
       "2004 153868.9 158996.5 157014.5 158253.0 155627.5 164072.2 157017.9 160552.7\n",
       "2005 158217.4 164196.2 164278.1 166393.4 160673.4 168075.2 161726.4 165575.4\n",
       "2006 162334.7 174070.9 165802.1 172064.6 168523.2 177349.3 171178.2 177083.4\n",
       "2007 174956.6 185387.8 178547.7 184017.7 181352.2 189613.7 184174.6 185924.2\n",
       "2008 184294.3 189342.0 192193.4 194625.4 189507.4 193926.2 189164.8 192260.6\n",
       "2009 181274.5 189191.7 187831.8 190639.5 186281.1 195124.0 189584.0 193811.2\n",
       "2010 186275.1 197318.4 192756.2 197420.4 194881.8 198836.8 192886.6 197883.8\n",
       "2011 194749.3 205019.0 201313.6 205916.5 203254.0 208773.3 202827.9 207719.0\n",
       "2012 200224.3 211561.8 203991.5 213367.4 207974.2 213530.5 208347.9 212387.7\n",
       "2013 208724.1 215940.5 218558.4 224122.2 216318.9 223601.6 217191.3 220304.3\n",
       "2014 209113.6 221479.0 221082.4 228176.6 218764.2 229017.4 219813.1 222660.7\n",
       "2015 215357.5 226763.5 226292.3 232590.3 224441.9 236408.6 225000.2 228622.3\n",
       "2016 218932.3 229297.2 230918.6 237945.6 229620.5 237290.8 230515.1 234895.3\n",
       "2017 225036.8 238519.7 235265.4 245309.3 237808.4 246534.8 238130.6 242155.1\n",
       "2018 232243.9 243985.2 244096.6 256152.5 245661.2 256081.9 247042.5 250287.4\n",
       "     Sep      Oct      Nov      Dec     \n",
       "2001 148184.1 153297.7 160995.1 149211.4\n",
       "2002 155408.6 159324.0 169065.3 156742.2\n",
       "2003 158010.2 162915.7 168564.5 158554.9\n",
       "2004 163667.7 167197.4 178410.8 162819.6\n",
       "2005 164006.8 171329.3 186349.6 169842.4\n",
       "2006 177525.6 184611.5 195481.9 182269.3\n",
       "2007 185003.8 195262.0 204317.8 192644.6\n",
       "2008 193723.5 197892.6 206569.1 191238.9\n",
       "2009 198064.5 202435.7 215126.2 197550.7\n",
       "2010 201024.7 208187.8 222130.3 204083.5\n",
       "2011 208260.3 218224.5 228144.7 209109.7\n",
       "2012 217214.8 224547.6 235504.2 218707.6\n",
       "2013 224103.5 231217.1 239180.4 223027.5\n",
       "2014 225418.6 235240.5 244453.0 229810.0\n",
       "2015 233061.9 241313.9 251105.5 235098.3\n",
       "2016 237462.1 247444.6 261391.9 242034.0\n",
       "2017 246766.5 257082.6 269197.7 246134.8\n",
       "2018 255989.3 266322.1 275399.4 255583.7"
      ]
     },
     "metadata": {},
     "output_type": "display_data"
    }
   ],
   "source": [
    "# Pasamos los datos a Time Series\n",
    "tsbfa_cl_ml_b = ts(cl_ml_b_salida,\n",
    "                   start= c(2001,1),\n",
    "                   end= c(2018,12),\n",
    "                   frequency=12,\n",
    "                   deltat=1/12,\n",
    "                   ts.eps = 0.05,\n",
    "                   class = \"ts\"\n",
    "                    )\n",
    "\n",
    "tsbfa_cl_ml_b"
   ]
  },
  {
   "cell_type": "code",
   "execution_count": 57,
   "metadata": {
    "slideshow": {
     "slide_type": "subslide"
    }
   },
   "outputs": [
    {
     "data": {
      "image/png": "[encoded data removed]",
      "text/plain": [
       "Plot with title \"Serie de referencia 2\""
      ]
     },
     "metadata": {
      "image/png": {
       "height": 420,
       "width": 420
      },
      "text/plain": {
       "height": 420,
       "width": 420
      }
     },
     "output_type": "display_data"
    }
   ],
   "source": [
    "# Graficamos para comparar\n",
    "layout(matrix(c(1,1,2,3), 2, 2, byrow = TRUE))\n",
    "plot(tsbfa_cl_ml_b, col = \"red\", lwd = 1,lty= 2,main=\"Serie estimada y Original\",ylab=\" \",sub=\"Estimada = Rojo\"\n",
    "); lines(bf, col = \"black\",lwd = 1,lty= 1,ylab=\" \",)\n",
    "plot(tsaf_IMAE, col = \"black\",lwd = 1,lty= 2,main=\"Serie de referencia 1\",ylab=\" \",)\n",
    "plot(tsaf_empleo, col = \"black\",lwd = 1,lty= 2,main=\"Serie de referencia 2\",ylab=\" \",)"
   ]
  },
  {
   "cell_type": "code",
   "execution_count": 58,
   "metadata": {
    "slideshow": {
     "slide_type": "slide"
    }
   },
   "outputs": [],
   "source": [
    "# c. \"chow-lin-minrss-quilis\"\n",
    "cl_ml_c = td(bf ~ 0 + tsaf1 + tsaf2,            # con indicador\n",
    "             to = 12,                           # mensual\n",
    "             method = \"chow-lin-minrss-quilis\",\n",
    "             conversion = criterio,             # consistente con la average\n",
    "             truncated.rho = 0,                 # p autorregresivo no acepta negativos\n",
    "             #fixed.rho = 0.5,                  # p autorregresivo fijo\n",
    "             )\n",
    "# Extraemos la serie resultante\n",
    "cl_ml_c_salida = predict(cl_ml_c)"
   ]
  },
  {
   "cell_type": "code",
   "execution_count": 59,
   "metadata": {
    "slideshow": {
     "slide_type": "subslide"
    }
   },
   "outputs": [
    {
     "data": {
      "text/plain": [
       "\n",
       "Call:\n",
       "td(formula = bf ~ 0 + tsaf1 + tsaf2, conversion = criterio, to = 12, \n",
       "    method = \"chow-lin-minrss-quilis\", truncated.rho = 0)\n",
       "\n",
       "Residuals:\n",
       "    Min      1Q  Median      3Q     Max \n",
       "-1184.6   889.1  2784.4  6097.2  7189.6 \n",
       "\n",
       "Coefficients:\n",
       "       Estimate Std. Error t value Pr(>|t|)    \n",
       "tsaf1 3.546e-02  2.634e-02   1.346    0.198    \n",
       "tsaf2 1.132e+03  1.916e+02   5.909 2.87e-05 ***\n",
       "---\n",
       "Signif. codes:  0 '***' 0.001 '**' 0.01 '*' 0.05 '.' 0.1 ' ' 1\n",
       "\n",
       "'chow-lin-minrss-quilis' disaggregation with 'average' conversion\n",
       "17 low-freq. obs. converted to 216 high-freq. obs.\n",
       "Adjusted R-squared: 0.917\tAR1-Parameter: 0.999"
      ]
     },
     "metadata": {},
     "output_type": "display_data"
    }
   ],
   "source": [
    "# Resumen del método\n",
    "summary(cl_ml_c)\n",
    "logl_c = summary(cl_ml_c)$logl              # logl\n",
    "rsqrt_c = summary(cl_ml_c)$adj.r.squared    # r cuadrado ajustado\n",
    "rho_c = summary(cl_ml_c)$rho                # rho\n",
    "\n",
    "compa_c = c(logl_c, rsqrt_c, rho_c)"
   ]
  },
  {
   "cell_type": "code",
   "execution_count": 60,
   "metadata": {
    "slideshow": {
     "slide_type": "subslide"
    }
   },
   "outputs": [
    {
     "data": {
      "text/html": [
       "<table>\n",
       "<caption>A Time Series: 18 × 12</caption>\n",
       "<thead>\n",
       "\t<tr><th></th><th scope=col>Jan</th><th scope=col>Feb</th><th scope=col>Mar</th><th scope=col>Apr</th><th scope=col>May</th><th scope=col>Jun</th><th scope=col>Jul</th><th scope=col>Aug</th><th scope=col>Sep</th><th scope=col>Oct</th><th scope=col>Nov</th><th scope=col>Dec</th></tr>\n",
       "</thead>\n",
       "<tbody>\n",
       "\t<tr><th scope=row>2001</th><td>144562.9</td><td>145320.2</td><td>142051.4</td><td>145672.4</td><td>137956.5</td><td>147833.5</td><td>142595.8</td><td>144911.6</td><td>148501.7</td><td>153651.0</td><td>161442.3</td><td>149234.7</td></tr>\n",
       "\t<tr><th scope=row>2002</th><td>141518.2</td><td>148214.3</td><td>148127.0</td><td>151048.5</td><td>143363.7</td><td>155471.1</td><td>149374.4</td><td>154007.2</td><td>155504.8</td><td>159461.3</td><td>169298.8</td><td>156541.9</td></tr>\n",
       "\t<tr><th scope=row>2003</th><td>147299.3</td><td>154971.1</td><td>154240.6</td><td>155865.8</td><td>149471.7</td><td>158868.2</td><td>153060.6</td><td>155524.8</td><td>158148.7</td><td>163188.2</td><td>169115.2</td><td>158539.3</td></tr>\n",
       "\t<tr><th scope=row>2004</th><td>153624.5</td><td>158784.4</td><td>156826.7</td><td>158145.4</td><td>155423.6</td><td>164227.2</td><td>157033.0</td><td>160723.3</td><td>163885.1</td><td>167388.7</td><td>178702.7</td><td>162734.3</td></tr>\n",
       "\t<tr><th scope=row>2005</th><td>157926.3</td><td>164129.3</td><td>164049.7</td><td>166272.8</td><td>160566.4</td><td>168206.9</td><td>161659.7</td><td>165604.1</td><td>164129.5</td><td>171542.7</td><td>186628.5</td><td>169947.3</td></tr>\n",
       "\t<tr><th scope=row>2006</th><td>162131.7</td><td>174016.3</td><td>165592.7</td><td>171953.5</td><td>168420.1</td><td>177407.6</td><td>171100.9</td><td>177141.7</td><td>177683.7</td><td>184816.6</td><td>195790.4</td><td>182239.4</td></tr>\n",
       "\t<tr><th scope=row>2007</th><td>174814.9</td><td>185357.7</td><td>178315.6</td><td>183962.2</td><td>181296.7</td><td>189653.5</td><td>184119.8</td><td>185968.1</td><td>185176.1</td><td>195484.6</td><td>204584.6</td><td>192469.0</td></tr>\n",
       "\t<tr><th scope=row>2008</th><td>184004.9</td><td>189148.2</td><td>191909.1</td><td>194435.9</td><td>189385.5</td><td>194031.9</td><td>189235.9</td><td>192290.5</td><td>193898.3</td><td>198243.9</td><td>206994.5</td><td>191159.7</td></tr>\n",
       "\t<tr><th scope=row>2009</th><td>180865.6</td><td>189148.2</td><td>187671.6</td><td>190663.5</td><td>186246.5</td><td>195412.3</td><td>189690.3</td><td>193920.4</td><td>198168.8</td><td>202555.1</td><td>215355.9</td><td>197216.6</td></tr>\n",
       "\t<tr><th scope=row>2010</th><td>185782.3</td><td>197254.9</td><td>192554.9</td><td>197337.3</td><td>194775.9</td><td>198946.3</td><td>192847.4</td><td>197974.5</td><td>201263.1</td><td>208498.2</td><td>222532.7</td><td>203918.0</td></tr>\n",
       "\t<tr><th scope=row>2011</th><td>194367.0</td><td>204901.6</td><td>201085.0</td><td>205857.7</td><td>203148.5</td><td>208858.2</td><td>202846.2</td><td>207870.1</td><td>208422.5</td><td>218538.4</td><td>228443.3</td><td>208973.3</td></tr>\n",
       "\t<tr><th scope=row>2012</th><td>200029.9</td><td>211510.6</td><td>203765.1</td><td>213369.7</td><td>207844.9</td><td>213636.6</td><td>208294.9</td><td>212474.6</td><td>217372.4</td><td>224767.3</td><td>235748.2</td><td>218545.3</td></tr>\n",
       "\t<tr><th scope=row>2013</th><td>208513.3</td><td>215843.6</td><td>218397.6</td><td>224021.3</td><td>216094.5</td><td>223670.6</td><td>217200.0</td><td>220420.9</td><td>224290.9</td><td>231437.6</td><td>239522.1</td><td>222877.7</td></tr>\n",
       "\t<tr><th scope=row>2014</th><td>208943.3</td><td>221438.1</td><td>221042.5</td><td>228078.0</td><td>218694.5</td><td>229157.0</td><td>219806.3</td><td>222700.9</td><td>225580.2</td><td>235400.3</td><td>244692.5</td><td>229495.5</td></tr>\n",
       "\t<tr><th scope=row>2015</th><td>215112.9</td><td>226722.8</td><td>226036.7</td><td>232477.4</td><td>224335.0</td><td>236493.2</td><td>225019.4</td><td>228727.8</td><td>233301.1</td><td>241575.4</td><td>251324.0</td><td>234930.4</td></tr>\n",
       "\t<tr><th scope=row>2016</th><td>218792.3</td><td>229135.0</td><td>230693.7</td><td>237955.2</td><td>229444.1</td><td>237391.5</td><td>230502.6</td><td>234962.7</td><td>237559.8</td><td>247731.4</td><td>261704.2</td><td>241875.6</td></tr>\n",
       "\t<tr><th scope=row>2017</th><td>225018.6</td><td>238455.7</td><td>235245.3</td><td>245313.1</td><td>237681.1</td><td>246780.6</td><td>238116.7</td><td>242233.8</td><td>246957.0</td><td>257011.2</td><td>269411.2</td><td>245717.4</td></tr>\n",
       "\t<tr><th scope=row>2018</th><td>231861.9</td><td>243461.5</td><td>243571.0</td><td>255410.1</td><td>244916.6</td><td>255539.0</td><td>246289.7</td><td>249666.3</td><td>255451.9</td><td>265538.3</td><td>274955.4</td><td>254457.7</td></tr>\n",
       "</tbody>\n",
       "</table>\n"
      ],
      "text/latex": [
       "A Time Series: 18 × 12\n",
       "\\begin{tabular}{r|llllllllllll}\n",
       "  & Jan & Feb & Mar & Apr & May & Jun & Jul & Aug & Sep & Oct & Nov & Dec\\\\\n",
       "\\hline\n",
       "\t2001 & 144562.9 & 145320.2 & 142051.4 & 145672.4 & 137956.5 & 147833.5 & 142595.8 & 144911.6 & 148501.7 & 153651.0 & 161442.3 & 149234.7\\\\\n",
       "\t2002 & 141518.2 & 148214.3 & 148127.0 & 151048.5 & 143363.7 & 155471.1 & 149374.4 & 154007.2 & 155504.8 & 159461.3 & 169298.8 & 156541.9\\\\\n",
       "\t2003 & 147299.3 & 154971.1 & 154240.6 & 155865.8 & 149471.7 & 158868.2 & 153060.6 & 155524.8 & 158148.7 & 163188.2 & 169115.2 & 158539.3\\\\\n",
       "\t2004 & 153624.5 & 158784.4 & 156826.7 & 158145.4 & 155423.6 & 164227.2 & 157033.0 & 160723.3 & 163885.1 & 167388.7 & 178702.7 & 162734.3\\\\\n",
       "\t2005 & 157926.3 & 164129.3 & 164049.7 & 166272.8 & 160566.4 & 168206.9 & 161659.7 & 165604.1 & 164129.5 & 171542.7 & 186628.5 & 169947.3\\\\\n",
       "\t2006 & 162131.7 & 174016.3 & 165592.7 & 171953.5 & 168420.1 & 177407.6 & 171100.9 & 177141.7 & 177683.7 & 184816.6 & 195790.4 & 182239.4\\\\\n",
       "\t2007 & 174814.9 & 185357.7 & 178315.6 & 183962.2 & 181296.7 & 189653.5 & 184119.8 & 185968.1 & 185176.1 & 195484.6 & 204584.6 & 192469.0\\\\\n",
       "\t2008 & 184004.9 & 189148.2 & 191909.1 & 194435.9 & 189385.5 & 194031.9 & 189235.9 & 192290.5 & 193898.3 & 198243.9 & 206994.5 & 191159.7\\\\\n",
       "\t2009 & 180865.6 & 189148.2 & 187671.6 & 190663.5 & 186246.5 & 195412.3 & 189690.3 & 193920.4 & 198168.8 & 202555.1 & 215355.9 & 197216.6\\\\\n",
       "\t2010 & 185782.3 & 197254.9 & 192554.9 & 197337.3 & 194775.9 & 198946.3 & 192847.4 & 197974.5 & 201263.1 & 208498.2 & 222532.7 & 203918.0\\\\\n",
       "\t2011 & 194367.0 & 204901.6 & 201085.0 & 205857.7 & 203148.5 & 208858.2 & 202846.2 & 207870.1 & 208422.5 & 218538.4 & 228443.3 & 208973.3\\\\\n",
       "\t2012 & 200029.9 & 211510.6 & 203765.1 & 213369.7 & 207844.9 & 213636.6 & 208294.9 & 212474.6 & 217372.4 & 224767.3 & 235748.2 & 218545.3\\\\\n",
       "\t2013 & 208513.3 & 215843.6 & 218397.6 & 224021.3 & 216094.5 & 223670.6 & 217200.0 & 220420.9 & 224290.9 & 231437.6 & 239522.1 & 222877.7\\\\\n",
       "\t2014 & 208943.3 & 221438.1 & 221042.5 & 228078.0 & 218694.5 & 229157.0 & 219806.3 & 222700.9 & 225580.2 & 235400.3 & 244692.5 & 229495.5\\\\\n",
       "\t2015 & 215112.9 & 226722.8 & 226036.7 & 232477.4 & 224335.0 & 236493.2 & 225019.4 & 228727.8 & 233301.1 & 241575.4 & 251324.0 & 234930.4\\\\\n",
       "\t2016 & 218792.3 & 229135.0 & 230693.7 & 237955.2 & 229444.1 & 237391.5 & 230502.6 & 234962.7 & 237559.8 & 247731.4 & 261704.2 & 241875.6\\\\\n",
       "\t2017 & 225018.6 & 238455.7 & 235245.3 & 245313.1 & 237681.1 & 246780.6 & 238116.7 & 242233.8 & 246957.0 & 257011.2 & 269411.2 & 245717.4\\\\\n",
       "\t2018 & 231861.9 & 243461.5 & 243571.0 & 255410.1 & 244916.6 & 255539.0 & 246289.7 & 249666.3 & 255451.9 & 265538.3 & 274955.4 & 254457.7\\\\\n",
       "\\end{tabular}\n"
      ],
      "text/markdown": [
       "\n",
       "A Time Series: 18 × 12\n",
       "\n",
       "| <!--/--> | Jan | Feb | Mar | Apr | May | Jun | Jul | Aug | Sep | Oct | Nov | Dec |\n",
       "|---|---|---|---|---|---|---|---|---|---|---|---|---|\n",
       "| 2001 | 144562.9 | 145320.2 | 142051.4 | 145672.4 | 137956.5 | 147833.5 | 142595.8 | 144911.6 | 148501.7 | 153651.0 | 161442.3 | 149234.7 |\n",
       "| 2002 | 141518.2 | 148214.3 | 148127.0 | 151048.5 | 143363.7 | 155471.1 | 149374.4 | 154007.2 | 155504.8 | 159461.3 | 169298.8 | 156541.9 |\n",
       "| 2003 | 147299.3 | 154971.1 | 154240.6 | 155865.8 | 149471.7 | 158868.2 | 153060.6 | 155524.8 | 158148.7 | 163188.2 | 169115.2 | 158539.3 |\n",
       "| 2004 | 153624.5 | 158784.4 | 156826.7 | 158145.4 | 155423.6 | 164227.2 | 157033.0 | 160723.3 | 163885.1 | 167388.7 | 178702.7 | 162734.3 |\n",
       "| 2005 | 157926.3 | 164129.3 | 164049.7 | 166272.8 | 160566.4 | 168206.9 | 161659.7 | 165604.1 | 164129.5 | 171542.7 | 186628.5 | 169947.3 |\n",
       "| 2006 | 162131.7 | 174016.3 | 165592.7 | 171953.5 | 168420.1 | 177407.6 | 171100.9 | 177141.7 | 177683.7 | 184816.6 | 195790.4 | 182239.4 |\n",
       "| 2007 | 174814.9 | 185357.7 | 178315.6 | 183962.2 | 181296.7 | 189653.5 | 184119.8 | 185968.1 | 185176.1 | 195484.6 | 204584.6 | 192469.0 |\n",
       "| 2008 | 184004.9 | 189148.2 | 191909.1 | 194435.9 | 189385.5 | 194031.9 | 189235.9 | 192290.5 | 193898.3 | 198243.9 | 206994.5 | 191159.7 |\n",
       "| 2009 | 180865.6 | 189148.2 | 187671.6 | 190663.5 | 186246.5 | 195412.3 | 189690.3 | 193920.4 | 198168.8 | 202555.1 | 215355.9 | 197216.6 |\n",
       "| 2010 | 185782.3 | 197254.9 | 192554.9 | 197337.3 | 194775.9 | 198946.3 | 192847.4 | 197974.5 | 201263.1 | 208498.2 | 222532.7 | 203918.0 |\n",
       "| 2011 | 194367.0 | 204901.6 | 201085.0 | 205857.7 | 203148.5 | 208858.2 | 202846.2 | 207870.1 | 208422.5 | 218538.4 | 228443.3 | 208973.3 |\n",
       "| 2012 | 200029.9 | 211510.6 | 203765.1 | 213369.7 | 207844.9 | 213636.6 | 208294.9 | 212474.6 | 217372.4 | 224767.3 | 235748.2 | 218545.3 |\n",
       "| 2013 | 208513.3 | 215843.6 | 218397.6 | 224021.3 | 216094.5 | 223670.6 | 217200.0 | 220420.9 | 224290.9 | 231437.6 | 239522.1 | 222877.7 |\n",
       "| 2014 | 208943.3 | 221438.1 | 221042.5 | 228078.0 | 218694.5 | 229157.0 | 219806.3 | 222700.9 | 225580.2 | 235400.3 | 244692.5 | 229495.5 |\n",
       "| 2015 | 215112.9 | 226722.8 | 226036.7 | 232477.4 | 224335.0 | 236493.2 | 225019.4 | 228727.8 | 233301.1 | 241575.4 | 251324.0 | 234930.4 |\n",
       "| 2016 | 218792.3 | 229135.0 | 230693.7 | 237955.2 | 229444.1 | 237391.5 | 230502.6 | 234962.7 | 237559.8 | 247731.4 | 261704.2 | 241875.6 |\n",
       "| 2017 | 225018.6 | 238455.7 | 235245.3 | 245313.1 | 237681.1 | 246780.6 | 238116.7 | 242233.8 | 246957.0 | 257011.2 | 269411.2 | 245717.4 |\n",
       "| 2018 | 231861.9 | 243461.5 | 243571.0 | 255410.1 | 244916.6 | 255539.0 | 246289.7 | 249666.3 | 255451.9 | 265538.3 | 274955.4 | 254457.7 |\n",
       "\n"
      ],
      "text/plain": [
       "     Jan      Feb      Mar      Apr      May      Jun      Jul      Aug     \n",
       "2001 144562.9 145320.2 142051.4 145672.4 137956.5 147833.5 142595.8 144911.6\n",
       "2002 141518.2 148214.3 148127.0 151048.5 143363.7 155471.1 149374.4 154007.2\n",
       "2003 147299.3 154971.1 154240.6 155865.8 149471.7 158868.2 153060.6 155524.8\n",
       "2004 153624.5 158784.4 156826.7 158145.4 155423.6 164227.2 157033.0 160723.3\n",
       "2005 157926.3 164129.3 164049.7 166272.8 160566.4 168206.9 161659.7 165604.1\n",
       "2006 162131.7 174016.3 165592.7 171953.5 168420.1 177407.6 171100.9 177141.7\n",
       "2007 174814.9 185357.7 178315.6 183962.2 181296.7 189653.5 184119.8 185968.1\n",
       "2008 184004.9 189148.2 191909.1 194435.9 189385.5 194031.9 189235.9 192290.5\n",
       "2009 180865.6 189148.2 187671.6 190663.5 186246.5 195412.3 189690.3 193920.4\n",
       "2010 185782.3 197254.9 192554.9 197337.3 194775.9 198946.3 192847.4 197974.5\n",
       "2011 194367.0 204901.6 201085.0 205857.7 203148.5 208858.2 202846.2 207870.1\n",
       "2012 200029.9 211510.6 203765.1 213369.7 207844.9 213636.6 208294.9 212474.6\n",
       "2013 208513.3 215843.6 218397.6 224021.3 216094.5 223670.6 217200.0 220420.9\n",
       "2014 208943.3 221438.1 221042.5 228078.0 218694.5 229157.0 219806.3 222700.9\n",
       "2015 215112.9 226722.8 226036.7 232477.4 224335.0 236493.2 225019.4 228727.8\n",
       "2016 218792.3 229135.0 230693.7 237955.2 229444.1 237391.5 230502.6 234962.7\n",
       "2017 225018.6 238455.7 235245.3 245313.1 237681.1 246780.6 238116.7 242233.8\n",
       "2018 231861.9 243461.5 243571.0 255410.1 244916.6 255539.0 246289.7 249666.3\n",
       "     Sep      Oct      Nov      Dec     \n",
       "2001 148501.7 153651.0 161442.3 149234.7\n",
       "2002 155504.8 159461.3 169298.8 156541.9\n",
       "2003 158148.7 163188.2 169115.2 158539.3\n",
       "2004 163885.1 167388.7 178702.7 162734.3\n",
       "2005 164129.5 171542.7 186628.5 169947.3\n",
       "2006 177683.7 184816.6 195790.4 182239.4\n",
       "2007 185176.1 195484.6 204584.6 192469.0\n",
       "2008 193898.3 198243.9 206994.5 191159.7\n",
       "2009 198168.8 202555.1 215355.9 197216.6\n",
       "2010 201263.1 208498.2 222532.7 203918.0\n",
       "2011 208422.5 218538.4 228443.3 208973.3\n",
       "2012 217372.4 224767.3 235748.2 218545.3\n",
       "2013 224290.9 231437.6 239522.1 222877.7\n",
       "2014 225580.2 235400.3 244692.5 229495.5\n",
       "2015 233301.1 241575.4 251324.0 234930.4\n",
       "2016 237559.8 247731.4 261704.2 241875.6\n",
       "2017 246957.0 257011.2 269411.2 245717.4\n",
       "2018 255451.9 265538.3 274955.4 254457.7"
      ]
     },
     "metadata": {},
     "output_type": "display_data"
    }
   ],
   "source": [
    "# Pasamos los datos a Time Series\n",
    "tsbfa_cl_ml_c = ts(cl_ml_c_salida,\n",
    "                   start= c(2001,1),\n",
    "                   end= c(2018,12),\n",
    "                   frequency=12,\n",
    "                   deltat=1/12,\n",
    "                   ts.eps = 0.05,\n",
    "                   class = \"ts\"\n",
    "                    )\n",
    "\n",
    "tsbfa_cl_ml_c"
   ]
  },
  {
   "cell_type": "code",
   "execution_count": 61,
   "metadata": {
    "slideshow": {
     "slide_type": "subslide"
    }
   },
   "outputs": [
    {
     "data": {
      "image/png": "[encoded data removed]",
      "text/plain": [
       "Plot with title \"Serie de referencia 2\""
      ]
     },
     "metadata": {
      "image/png": {
       "height": 420,
       "width": 420
      },
      "text/plain": {
       "height": 420,
       "width": 420
      }
     },
     "output_type": "display_data"
    }
   ],
   "source": [
    "# Graficamos para comparar \n",
    "layout(matrix(c(1,1,2,3), 2, 2, byrow = TRUE))\n",
    "plot(tsbfa_cl_ml_c, col = \"red\",lwd = 1,lty= 2,main=\"Serie estimada y Original\",ylab=\" \",sub=\"Estimada = Rojo\"\n",
    "); lines(bf, col = \"black\",lwd = 1,lty= 1,ylab=\" \",)\n",
    "plot(tsaf_IMAE, col = \"black\",lwd = 1,lty= 2,main=\"Serie de referencia 1\",ylab=\" \",)\n",
    "plot(tsaf_empleo, col = \"black\",lwd = 1,lty= 2,main=\"Serie de referencia 2\",ylab=\" \",)"
   ]
  },
  {
   "cell_type": "code",
   "execution_count": 62,
   "metadata": {
    "slideshow": {
     "slide_type": "slide"
    }
   },
   "outputs": [],
   "source": [
    "# d. \"chow-lin-fixed\"\n",
    "cl_ml_d = td(bf ~ 0 + tsaf1 + tsaf2,            # con indicador\n",
    "             to = 12,                           # mensual\n",
    "             method = \"chow-lin-fixed\",\n",
    "             conversion = criterio,             # consistente con la average\n",
    "             truncated.rho = 0,                 # p autorregresivo no acepta negativos\n",
    "             #fixed.rho = 0.5,                  # p autorregresivo fijo\n",
    "             )\n",
    "# Extraemos la serie resultante\n",
    "cl_ml_d_salida = predict(cl_ml_d)"
   ]
  },
  {
   "cell_type": "code",
   "execution_count": 63,
   "metadata": {
    "slideshow": {
     "slide_type": "subslide"
    }
   },
   "outputs": [
    {
     "data": {
      "text/plain": [
       "\n",
       "Call:\n",
       "td(formula = bf ~ 0 + tsaf1 + tsaf2, conversion = criterio, to = 12, \n",
       "    method = \"chow-lin-fixed\", truncated.rho = 0)\n",
       "\n",
       "Residuals:\n",
       "    Min      1Q  Median      3Q     Max \n",
       "-4612.4 -2288.4  -578.8  2921.8  3717.7 \n",
       "\n",
       "Coefficients:\n",
       "       Estimate Std. Error t value Pr(>|t|)    \n",
       "tsaf1 4.226e-02  1.039e-02   4.069  0.00101 ** \n",
       "tsaf2 1.100e+03  8.503e+01  12.936 1.54e-09 ***\n",
       "---\n",
       "Signif. codes:  0 '***' 0.001 '**' 0.01 '*' 0.05 '.' 0.1 ' ' 1\n",
       "\n",
       "'chow-lin-fixed' disaggregation with 'average' conversion\n",
       "17 low-freq. obs. converted to 216 high-freq. obs.\n",
       "Adjusted R-squared: 0.992\tAR1-Parameter:   0.5"
      ]
     },
     "metadata": {},
     "output_type": "display_data"
    }
   ],
   "source": [
    "# Resumen del método\n",
    "summary(cl_ml_d)\n",
    "logl_d = summary(cl_ml_d)$logl              # logl\n",
    "rsqrt_d = summary(cl_ml_d)$adj.r.squared    # r cuadrado ajustado\n",
    "rho_d = summary(cl_ml_d)$rho                # rho\n",
    "\n",
    "compa_d = c(logl_d, rsqrt_d, rho_d)"
   ]
  },
  {
   "cell_type": "code",
   "execution_count": 64,
   "metadata": {
    "slideshow": {
     "slide_type": "subslide"
    }
   },
   "outputs": [
    {
     "data": {
      "text/html": [
       "<table>\n",
       "<caption>A Time Series: 18 × 12</caption>\n",
       "<thead>\n",
       "\t<tr><th></th><th scope=col>Jan</th><th scope=col>Feb</th><th scope=col>Mar</th><th scope=col>Apr</th><th scope=col>May</th><th scope=col>Jun</th><th scope=col>Jul</th><th scope=col>Aug</th><th scope=col>Sep</th><th scope=col>Oct</th><th scope=col>Nov</th><th scope=col>Dec</th></tr>\n",
       "</thead>\n",
       "<tbody>\n",
       "\t<tr><th scope=row>2001</th><td>145657.5</td><td>145860.1</td><td>142262.8</td><td>145825.5</td><td>138110.7</td><td>147654.6</td><td>142566.2</td><td>144565.9</td><td>148045.5</td><td>153131.0</td><td>160783.8</td><td>149270.7</td></tr>\n",
       "\t<tr><th scope=row>2002</th><td>141938.3</td><td>148583.8</td><td>148666.5</td><td>151218.6</td><td>143577.1</td><td>155456.9</td><td>149424.8</td><td>153768.3</td><td>155145.8</td><td>158968.5</td><td>168616.2</td><td>156566.3</td></tr>\n",
       "\t<tr><th scope=row>2003</th><td>147662.2</td><td>155289.8</td><td>154789.9</td><td>156114.2</td><td>149871.5</td><td>158801.7</td><td>153158.0</td><td>155144.6</td><td>157906.7</td><td>162749.8</td><td>168284.9</td><td>158520.1</td></tr>\n",
       "\t<tr><th scope=row>2004</th><td>153906.9</td><td>159009.4</td><td>157047.4</td><td>158275.6</td><td>155716.2</td><td>164014.4</td><td>157049.5</td><td>160519.9</td><td>163608.2</td><td>167136.7</td><td>178282.8</td><td>162931.7</td></tr>\n",
       "\t<tr><th scope=row>2005</th><td>158527.9</td><td>164430.7</td><td>164557.2</td><td>166588.9</td><td>160836.2</td><td>168062.2</td><td>161744.0</td><td>165474.9</td><td>163814.3</td><td>171025.7</td><td>185951.9</td><td>169649.5</td></tr>\n",
       "\t<tr><th scope=row>2006</th><td>162538.6</td><td>174251.7</td><td>166065.0</td><td>172223.2</td><td>168635.7</td><td>177309.3</td><td>171158.0</td><td>176947.0</td><td>177324.0</td><td>184362.8</td><td>195195.5</td><td>182283.8</td></tr>\n",
       "\t<tr><th scope=row>2007</th><td>175325.0</td><td>185785.2</td><td>179058.5</td><td>184396.5</td><td>181654.6</td><td>189731.2</td><td>184207.5</td><td>185759.3</td><td>184639.3</td><td>194704.0</td><td>203647.1</td><td>192294.6</td></tr>\n",
       "\t<tr><th scope=row>2008</th><td>184512.6</td><td>189637.3</td><td>192483.1</td><td>194787.5</td><td>189575.3</td><td>193821.1</td><td>189045.9</td><td>192130.1</td><td>193549.6</td><td>197671.8</td><td>206316.0</td><td>191208.1</td></tr>\n",
       "\t<tr><th scope=row>2009</th><td>181238.3</td><td>188988.0</td><td>187737.0</td><td>190548.5</td><td>186307.0</td><td>195062.9</td><td>189656.3</td><td>193891.4</td><td>198137.4</td><td>202480.9</td><td>215075.5</td><td>197791.7</td></tr>\n",
       "\t<tr><th scope=row>2010</th><td>186710.0</td><td>197556.6</td><td>193023.7</td><td>197572.2</td><td>194993.6</td><td>198799.1</td><td>192875.2</td><td>197761.5</td><td>200801.3</td><td>207885.5</td><td>221730.3</td><td>203976.4</td></tr>\n",
       "\t<tr><th scope=row>2011</th><td>194817.4</td><td>204979.5</td><td>201345.1</td><td>205881.2</td><td>203260.2</td><td>208706.6</td><td>202831.1</td><td>207681.9</td><td>208249.4</td><td>218156.1</td><td>228082.1</td><td>209321.1</td></tr>\n",
       "\t<tr><th scope=row>2012</th><td>200528.5</td><td>211794.5</td><td>204326.8</td><td>213573.0</td><td>208218.6</td><td>213617.1</td><td>208441.6</td><td>212325.7</td><td>217004.9</td><td>224178.0</td><td>234987.8</td><td>218363.1</td></tr>\n",
       "\t<tr><th scope=row>2013</th><td>208525.3</td><td>215668.8</td><td>218282.5</td><td>223810.1</td><td>216132.5</td><td>223379.6</td><td>217164.2</td><td>220412.5</td><td>224374.5</td><td>231620.6</td><td>239554.0</td><td>223365.3</td></tr>\n",
       "\t<tr><th scope=row>2014</th><td>208521.1</td><td>220537.1</td><td>220235.9</td><td>227567.7</td><td>218481.9</td><td>228922.3</td><td>220090.3</td><td>223154.5</td><td>226048.4</td><td>235942.7</td><td>245074.0</td><td>230453.2</td></tr>\n",
       "\t<tr><th scope=row>2015</th><td>215391.2</td><td>226419.1</td><td>225964.6</td><td>232227.2</td><td>224207.6</td><td>236188.1</td><td>224999.5</td><td>228736.0</td><td>233267.4</td><td>241613.6</td><td>251455.3</td><td>235586.5</td></tr>\n",
       "\t<tr><th scope=row>2016</th><td>219115.9</td><td>229351.9</td><td>231003.1</td><td>237963.1</td><td>229777.3</td><td>237332.0</td><td>230608.4</td><td>234896.7</td><td>237376.5</td><td>247187.6</td><td>261056.4</td><td>242079.0</td></tr>\n",
       "\t<tr><th scope=row>2017</th><td>225575.5</td><td>239125.8</td><td>235799.4</td><td>245646.9</td><td>238046.7</td><td>246423.3</td><td>237975.6</td><td>241802.0</td><td>246243.3</td><td>256564.5</td><td>268597.1</td><td>246141.8</td></tr>\n",
       "\t<tr><th scope=row>2018</th><td>233009.8</td><td>245061.2</td><td>245278.1</td><td>257370.2</td><td>246882.8</td><td>257129.3</td><td>248133.8</td><td>251248.7</td><td>256829.1</td><td>267142.8</td><td>275998.8</td><td>256448.2</td></tr>\n",
       "</tbody>\n",
       "</table>\n"
      ],
      "text/latex": [
       "A Time Series: 18 × 12\n",
       "\\begin{tabular}{r|llllllllllll}\n",
       "  & Jan & Feb & Mar & Apr & May & Jun & Jul & Aug & Sep & Oct & Nov & Dec\\\\\n",
       "\\hline\n",
       "\t2001 & 145657.5 & 145860.1 & 142262.8 & 145825.5 & 138110.7 & 147654.6 & 142566.2 & 144565.9 & 148045.5 & 153131.0 & 160783.8 & 149270.7\\\\\n",
       "\t2002 & 141938.3 & 148583.8 & 148666.5 & 151218.6 & 143577.1 & 155456.9 & 149424.8 & 153768.3 & 155145.8 & 158968.5 & 168616.2 & 156566.3\\\\\n",
       "\t2003 & 147662.2 & 155289.8 & 154789.9 & 156114.2 & 149871.5 & 158801.7 & 153158.0 & 155144.6 & 157906.7 & 162749.8 & 168284.9 & 158520.1\\\\\n",
       "\t2004 & 153906.9 & 159009.4 & 157047.4 & 158275.6 & 155716.2 & 164014.4 & 157049.5 & 160519.9 & 163608.2 & 167136.7 & 178282.8 & 162931.7\\\\\n",
       "\t2005 & 158527.9 & 164430.7 & 164557.2 & 166588.9 & 160836.2 & 168062.2 & 161744.0 & 165474.9 & 163814.3 & 171025.7 & 185951.9 & 169649.5\\\\\n",
       "\t2006 & 162538.6 & 174251.7 & 166065.0 & 172223.2 & 168635.7 & 177309.3 & 171158.0 & 176947.0 & 177324.0 & 184362.8 & 195195.5 & 182283.8\\\\\n",
       "\t2007 & 175325.0 & 185785.2 & 179058.5 & 184396.5 & 181654.6 & 189731.2 & 184207.5 & 185759.3 & 184639.3 & 194704.0 & 203647.1 & 192294.6\\\\\n",
       "\t2008 & 184512.6 & 189637.3 & 192483.1 & 194787.5 & 189575.3 & 193821.1 & 189045.9 & 192130.1 & 193549.6 & 197671.8 & 206316.0 & 191208.1\\\\\n",
       "\t2009 & 181238.3 & 188988.0 & 187737.0 & 190548.5 & 186307.0 & 195062.9 & 189656.3 & 193891.4 & 198137.4 & 202480.9 & 215075.5 & 197791.7\\\\\n",
       "\t2010 & 186710.0 & 197556.6 & 193023.7 & 197572.2 & 194993.6 & 198799.1 & 192875.2 & 197761.5 & 200801.3 & 207885.5 & 221730.3 & 203976.4\\\\\n",
       "\t2011 & 194817.4 & 204979.5 & 201345.1 & 205881.2 & 203260.2 & 208706.6 & 202831.1 & 207681.9 & 208249.4 & 218156.1 & 228082.1 & 209321.1\\\\\n",
       "\t2012 & 200528.5 & 211794.5 & 204326.8 & 213573.0 & 208218.6 & 213617.1 & 208441.6 & 212325.7 & 217004.9 & 224178.0 & 234987.8 & 218363.1\\\\\n",
       "\t2013 & 208525.3 & 215668.8 & 218282.5 & 223810.1 & 216132.5 & 223379.6 & 217164.2 & 220412.5 & 224374.5 & 231620.6 & 239554.0 & 223365.3\\\\\n",
       "\t2014 & 208521.1 & 220537.1 & 220235.9 & 227567.7 & 218481.9 & 228922.3 & 220090.3 & 223154.5 & 226048.4 & 235942.7 & 245074.0 & 230453.2\\\\\n",
       "\t2015 & 215391.2 & 226419.1 & 225964.6 & 232227.2 & 224207.6 & 236188.1 & 224999.5 & 228736.0 & 233267.4 & 241613.6 & 251455.3 & 235586.5\\\\\n",
       "\t2016 & 219115.9 & 229351.9 & 231003.1 & 237963.1 & 229777.3 & 237332.0 & 230608.4 & 234896.7 & 237376.5 & 247187.6 & 261056.4 & 242079.0\\\\\n",
       "\t2017 & 225575.5 & 239125.8 & 235799.4 & 245646.9 & 238046.7 & 246423.3 & 237975.6 & 241802.0 & 246243.3 & 256564.5 & 268597.1 & 246141.8\\\\\n",
       "\t2018 & 233009.8 & 245061.2 & 245278.1 & 257370.2 & 246882.8 & 257129.3 & 248133.8 & 251248.7 & 256829.1 & 267142.8 & 275998.8 & 256448.2\\\\\n",
       "\\end{tabular}\n"
      ],
      "text/markdown": [
       "\n",
       "A Time Series: 18 × 12\n",
       "\n",
       "| <!--/--> | Jan | Feb | Mar | Apr | May | Jun | Jul | Aug | Sep | Oct | Nov | Dec |\n",
       "|---|---|---|---|---|---|---|---|---|---|---|---|---|\n",
       "| 2001 | 145657.5 | 145860.1 | 142262.8 | 145825.5 | 138110.7 | 147654.6 | 142566.2 | 144565.9 | 148045.5 | 153131.0 | 160783.8 | 149270.7 |\n",
       "| 2002 | 141938.3 | 148583.8 | 148666.5 | 151218.6 | 143577.1 | 155456.9 | 149424.8 | 153768.3 | 155145.8 | 158968.5 | 168616.2 | 156566.3 |\n",
       "| 2003 | 147662.2 | 155289.8 | 154789.9 | 156114.2 | 149871.5 | 158801.7 | 153158.0 | 155144.6 | 157906.7 | 162749.8 | 168284.9 | 158520.1 |\n",
       "| 2004 | 153906.9 | 159009.4 | 157047.4 | 158275.6 | 155716.2 | 164014.4 | 157049.5 | 160519.9 | 163608.2 | 167136.7 | 178282.8 | 162931.7 |\n",
       "| 2005 | 158527.9 | 164430.7 | 164557.2 | 166588.9 | 160836.2 | 168062.2 | 161744.0 | 165474.9 | 163814.3 | 171025.7 | 185951.9 | 169649.5 |\n",
       "| 2006 | 162538.6 | 174251.7 | 166065.0 | 172223.2 | 168635.7 | 177309.3 | 171158.0 | 176947.0 | 177324.0 | 184362.8 | 195195.5 | 182283.8 |\n",
       "| 2007 | 175325.0 | 185785.2 | 179058.5 | 184396.5 | 181654.6 | 189731.2 | 184207.5 | 185759.3 | 184639.3 | 194704.0 | 203647.1 | 192294.6 |\n",
       "| 2008 | 184512.6 | 189637.3 | 192483.1 | 194787.5 | 189575.3 | 193821.1 | 189045.9 | 192130.1 | 193549.6 | 197671.8 | 206316.0 | 191208.1 |\n",
       "| 2009 | 181238.3 | 188988.0 | 187737.0 | 190548.5 | 186307.0 | 195062.9 | 189656.3 | 193891.4 | 198137.4 | 202480.9 | 215075.5 | 197791.7 |\n",
       "| 2010 | 186710.0 | 197556.6 | 193023.7 | 197572.2 | 194993.6 | 198799.1 | 192875.2 | 197761.5 | 200801.3 | 207885.5 | 221730.3 | 203976.4 |\n",
       "| 2011 | 194817.4 | 204979.5 | 201345.1 | 205881.2 | 203260.2 | 208706.6 | 202831.1 | 207681.9 | 208249.4 | 218156.1 | 228082.1 | 209321.1 |\n",
       "| 2012 | 200528.5 | 211794.5 | 204326.8 | 213573.0 | 208218.6 | 213617.1 | 208441.6 | 212325.7 | 217004.9 | 224178.0 | 234987.8 | 218363.1 |\n",
       "| 2013 | 208525.3 | 215668.8 | 218282.5 | 223810.1 | 216132.5 | 223379.6 | 217164.2 | 220412.5 | 224374.5 | 231620.6 | 239554.0 | 223365.3 |\n",
       "| 2014 | 208521.1 | 220537.1 | 220235.9 | 227567.7 | 218481.9 | 228922.3 | 220090.3 | 223154.5 | 226048.4 | 235942.7 | 245074.0 | 230453.2 |\n",
       "| 2015 | 215391.2 | 226419.1 | 225964.6 | 232227.2 | 224207.6 | 236188.1 | 224999.5 | 228736.0 | 233267.4 | 241613.6 | 251455.3 | 235586.5 |\n",
       "| 2016 | 219115.9 | 229351.9 | 231003.1 | 237963.1 | 229777.3 | 237332.0 | 230608.4 | 234896.7 | 237376.5 | 247187.6 | 261056.4 | 242079.0 |\n",
       "| 2017 | 225575.5 | 239125.8 | 235799.4 | 245646.9 | 238046.7 | 246423.3 | 237975.6 | 241802.0 | 246243.3 | 256564.5 | 268597.1 | 246141.8 |\n",
       "| 2018 | 233009.8 | 245061.2 | 245278.1 | 257370.2 | 246882.8 | 257129.3 | 248133.8 | 251248.7 | 256829.1 | 267142.8 | 275998.8 | 256448.2 |\n",
       "\n"
      ],
      "text/plain": [
       "     Jan      Feb      Mar      Apr      May      Jun      Jul      Aug     \n",
       "2001 145657.5 145860.1 142262.8 145825.5 138110.7 147654.6 142566.2 144565.9\n",
       "2002 141938.3 148583.8 148666.5 151218.6 143577.1 155456.9 149424.8 153768.3\n",
       "2003 147662.2 155289.8 154789.9 156114.2 149871.5 158801.7 153158.0 155144.6\n",
       "2004 153906.9 159009.4 157047.4 158275.6 155716.2 164014.4 157049.5 160519.9\n",
       "2005 158527.9 164430.7 164557.2 166588.9 160836.2 168062.2 161744.0 165474.9\n",
       "2006 162538.6 174251.7 166065.0 172223.2 168635.7 177309.3 171158.0 176947.0\n",
       "2007 175325.0 185785.2 179058.5 184396.5 181654.6 189731.2 184207.5 185759.3\n",
       "2008 184512.6 189637.3 192483.1 194787.5 189575.3 193821.1 189045.9 192130.1\n",
       "2009 181238.3 188988.0 187737.0 190548.5 186307.0 195062.9 189656.3 193891.4\n",
       "2010 186710.0 197556.6 193023.7 197572.2 194993.6 198799.1 192875.2 197761.5\n",
       "2011 194817.4 204979.5 201345.1 205881.2 203260.2 208706.6 202831.1 207681.9\n",
       "2012 200528.5 211794.5 204326.8 213573.0 208218.6 213617.1 208441.6 212325.7\n",
       "2013 208525.3 215668.8 218282.5 223810.1 216132.5 223379.6 217164.2 220412.5\n",
       "2014 208521.1 220537.1 220235.9 227567.7 218481.9 228922.3 220090.3 223154.5\n",
       "2015 215391.2 226419.1 225964.6 232227.2 224207.6 236188.1 224999.5 228736.0\n",
       "2016 219115.9 229351.9 231003.1 237963.1 229777.3 237332.0 230608.4 234896.7\n",
       "2017 225575.5 239125.8 235799.4 245646.9 238046.7 246423.3 237975.6 241802.0\n",
       "2018 233009.8 245061.2 245278.1 257370.2 246882.8 257129.3 248133.8 251248.7\n",
       "     Sep      Oct      Nov      Dec     \n",
       "2001 148045.5 153131.0 160783.8 149270.7\n",
       "2002 155145.8 158968.5 168616.2 156566.3\n",
       "2003 157906.7 162749.8 168284.9 158520.1\n",
       "2004 163608.2 167136.7 178282.8 162931.7\n",
       "2005 163814.3 171025.7 185951.9 169649.5\n",
       "2006 177324.0 184362.8 195195.5 182283.8\n",
       "2007 184639.3 194704.0 203647.1 192294.6\n",
       "2008 193549.6 197671.8 206316.0 191208.1\n",
       "2009 198137.4 202480.9 215075.5 197791.7\n",
       "2010 200801.3 207885.5 221730.3 203976.4\n",
       "2011 208249.4 218156.1 228082.1 209321.1\n",
       "2012 217004.9 224178.0 234987.8 218363.1\n",
       "2013 224374.5 231620.6 239554.0 223365.3\n",
       "2014 226048.4 235942.7 245074.0 230453.2\n",
       "2015 233267.4 241613.6 251455.3 235586.5\n",
       "2016 237376.5 247187.6 261056.4 242079.0\n",
       "2017 246243.3 256564.5 268597.1 246141.8\n",
       "2018 256829.1 267142.8 275998.8 256448.2"
      ]
     },
     "metadata": {},
     "output_type": "display_data"
    }
   ],
   "source": [
    "# Pasamos los datos a Time Series\n",
    "tsbfa_cl_ml_d = ts(cl_ml_d_salida,\n",
    "                   start= c(2001,1),\n",
    "                   end= c(2018,12),\n",
    "                   frequency=12,\n",
    "                   deltat=1/12,\n",
    "                   ts.eps = 0.05,\n",
    "                   class = \"ts\"\n",
    "                    )\n",
    "\n",
    "tsbfa_cl_ml_d"
   ]
  },
  {
   "cell_type": "code",
   "execution_count": 65,
   "metadata": {
    "slideshow": {
     "slide_type": "subslide"
    }
   },
   "outputs": [
    {
     "data": {
      "image/png": "[encoded data removed]",
      "text/plain": [
       "Plot with title \"Serie de referencia 2\""
      ]
     },
     "metadata": {
      "image/png": {
       "height": 420,
       "width": 420
      },
      "text/plain": {
       "height": 420,
       "width": 420
      }
     },
     "output_type": "display_data"
    }
   ],
   "source": [
    "# Graficamos para comparar \n",
    "layout(matrix(c(1,1,2,3), 2, 2, byrow = TRUE))\n",
    "plot(tsbfa_cl_ml_d, col = \"red\",lwd = 1,lty= 2,main=\"Serie estimada y Original\",ylab=\" \",sub=\"Estimada = Rojo\"\n",
    "); lines(bf, col = \"black\",lwd = 1,lty= 1,ylab=\" \",)\n",
    "plot(tsaf_IMAE, col = \"black\",lwd = 1,lty= 2,main=\"Serie de referencia 1\",ylab=\" \",)\n",
    "plot(tsaf_empleo, col = \"black\",lwd = 1,lty= 2,main=\"Serie de referencia 2\",ylab=\" \",)"
   ]
  },
  {
   "cell_type": "code",
   "execution_count": 66,
   "metadata": {
    "slideshow": {
     "slide_type": "slide"
    }
   },
   "outputs": [
    {
     "data": {
      "image/png": "[encoded data removed]",
      "text/plain": [
       "Plot with title \"chow-lin-fixed\""
      ]
     },
     "metadata": {
      "image/png": {
       "height": 420,
       "width": 420
      },
      "text/plain": {
       "height": 420,
       "width": 420
      }
     },
     "output_type": "display_data"
    }
   ],
   "source": [
    "# Comparación de métodos\n",
    "x11()\n",
    "par(mfrow=c(2,2))\n",
    "plot(tsbfa_cl_ml_a, lwd = 2, lty= 1, main=\"chow-lin-maxlog\", ylab=\" \");lines(bf, lwd = 1, lty= 3)\n",
    "plot(tsbfa_cl_ml_b, lwd = 2, lty= 1, main=\"chow-lin-minrss-ecotrim\", ylab=\" \");lines(bf, lwd = 1, lty= 3)\n",
    "plot(tsbfa_cl_ml_c, lwd = 2, lty= 1, main=\"chow-lin-minrss-quilis\", ylab=\" \");lines(bf, lwd = 1, lty= 3)\n",
    "plot(tsbfa_cl_ml_d, lwd = 2, lty= 1, main=\"chow-lin-fixed\", ylab=\" \");lines(bf, lwd = 1, lty= 3)"
   ]
  },
  {
   "cell_type": "code",
   "execution_count": 67,
   "metadata": {
    "slideshow": {
     "slide_type": "subslide"
    }
   },
   "outputs": [
    {
     "data": {
      "text/html": [
       "<table>\n",
       "<caption>A matrix: 3 × 4 of type dbl</caption>\n",
       "<tbody>\n",
       "\t<tr><td>-148.3887805</td><td>-149.5603426</td><td>-150.6102245</td><td>-157.0308601</td></tr>\n",
       "\t<tr><td>   0.9774288</td><td>   0.9882712</td><td>   0.9169879</td><td>   0.9920462</td></tr>\n",
       "\t<tr><td>   0.9749116</td><td>   0.9412972</td><td>   0.9990000</td><td>   0.5000000</td></tr>\n",
       "</tbody>\n",
       "</table>\n"
      ],
      "text/latex": [
       "A matrix: 3 × 4 of type dbl\n",
       "\\begin{tabular}{llll}\n",
       "\t -148.3887805 & -149.5603426 & -150.6102245 & -157.0308601\\\\\n",
       "\t    0.9774288 &    0.9882712 &    0.9169879 &    0.9920462\\\\\n",
       "\t    0.9749116 &    0.9412972 &    0.9990000 &    0.5000000\\\\\n",
       "\\end{tabular}\n"
      ],
      "text/markdown": [
       "\n",
       "A matrix: 3 × 4 of type dbl\n",
       "\n",
       "| -148.3887805 | -149.5603426 | -150.6102245 | -157.0308601 |\n",
       "|    0.9774288 |    0.9882712 |    0.9169879 |    0.9920462 |\n",
       "|    0.9749116 |    0.9412972 |    0.9990000 |    0.5000000 |\n",
       "\n"
      ],
      "text/plain": [
       "     [,1]         [,2]         [,3]         [,4]        \n",
       "[1,] -148.3887805 -149.5603426 -150.6102245 -157.0308601\n",
       "[2,]    0.9774288    0.9882712    0.9169879    0.9920462\n",
       "[3,]    0.9749116    0.9412972    0.9990000    0.5000000"
      ]
     },
     "metadata": {},
     "output_type": "display_data"
    }
   ],
   "source": [
    "# Indicadores de regresión\n",
    "resumen_cl = matrix(c(compa_a,compa_b,compa_c,compa_d),nrow=3,ncol=4)\n",
    "resumen_cl"
   ]
  },
  {
   "cell_type": "code",
   "execution_count": 68,
   "metadata": {
    "slideshow": {
     "slide_type": "slide"
    }
   },
   "outputs": [],
   "source": [
    "# ----------------------------------------------------------------------------#\n",
    "#                             Método 6 - \"fernandez\"\n",
    "#                          Para series no cointegradas\n",
    "#----------> Sin indicador se recomienda Denton\n",
    "# ----------------------------------------------------------------------------#\n",
    "# \"fernandez\"\n",
    "fer = td(bf ~ 0 + tsaf1 + tsaf2,                # con indicador\n",
    "             to = 12,                           # mensual\n",
    "             method = \"fernandez\",\n",
    "             conversion = criterio,             # consistente con la average\n",
    "             truncated.rho = 0,                 # p autorregresivo no acepta negativos\n",
    "             #fixed.rho = 0.5,                  # p autorregresivo fijo\n",
    "            )\n",
    "\n",
    "# Extraemos la serie resultante\n",
    "fer_salida = predict(fer)"
   ]
  },
  {
   "cell_type": "code",
   "execution_count": 69,
   "metadata": {
    "slideshow": {
     "slide_type": "subslide"
    }
   },
   "outputs": [
    {
     "data": {
      "text/plain": [
       "\n",
       "Call:\n",
       "td(formula = bf ~ 0 + tsaf1 + tsaf2, conversion = criterio, to = 12, \n",
       "    method = \"fernandez\", truncated.rho = 0)\n",
       "\n",
       "Residuals:\n",
       "   Min     1Q Median     3Q    Max \n",
       " -1015   1076   2928   6195   7304 \n",
       "\n",
       "Coefficients:\n",
       "       Estimate Std. Error t value Pr(>|t|)    \n",
       "tsaf1 3.608e-02  2.019e-02   1.787   0.0942 .  \n",
       "tsaf2 1.126e+03  1.856e+02   6.068 2.15e-05 ***\n",
       "---\n",
       "Signif. codes:  0 '***' 0.001 '**' 0.01 '*' 0.05 '.' 0.1 ' ' 1\n",
       "\n",
       "'fernandez' disaggregation with 'average' conversion\n",
       "17 low-freq. obs. converted to 216 high-freq. obs.\n",
       "Adjusted R-squared: 0.9101\tAR1-Parameter:     0"
      ]
     },
     "metadata": {},
     "output_type": "display_data"
    }
   ],
   "source": [
    "# Resumen del método\n",
    "summary(fer)\n",
    "logl_fer = summary(fer)$logl              # logl\n",
    "rsqrt_fer = summary(fer)$adj.r.squared    # r cuadrado ajustado\n",
    "rho_fer = summary(fer)$rho                # rho\n",
    "\n",
    "compa_fer = c(logl_fer, rsqrt_fer, rho_fer)"
   ]
  },
  {
   "cell_type": "code",
   "execution_count": 70,
   "metadata": {
    "slideshow": {
     "slide_type": "subslide"
    }
   },
   "outputs": [
    {
     "data": {
      "text/html": [
       "<table>\n",
       "<caption>A Time Series: 18 × 12</caption>\n",
       "<thead>\n",
       "\t<tr><th></th><th scope=col>Jan</th><th scope=col>Feb</th><th scope=col>Mar</th><th scope=col>Apr</th><th scope=col>May</th><th scope=col>Jun</th><th scope=col>Jul</th><th scope=col>Aug</th><th scope=col>Sep</th><th scope=col>Oct</th><th scope=col>Nov</th><th scope=col>Dec</th></tr>\n",
       "</thead>\n",
       "<tbody>\n",
       "\t<tr><th scope=row>2001</th><td>144573.3</td><td>145329.5</td><td>142064.7</td><td>145688.9</td><td>138000.8</td><td>147828.7</td><td>142623.8</td><td>144906.3</td><td>148480.5</td><td>153613.5</td><td>161371.2</td><td>149253.1</td></tr>\n",
       "\t<tr><th scope=row>2002</th><td>141569.0</td><td>148236.5</td><td>148166.7</td><td>151047.7</td><td>143391.1</td><td>155456.2</td><td>149388.6</td><td>153990.5</td><td>155481.1</td><td>159422.2</td><td>169221.4</td><td>156560.2</td></tr>\n",
       "\t<tr><th scope=row>2003</th><td>147348.9</td><td>154992.4</td><td>154288.7</td><td>155883.6</td><td>149524.5</td><td>158856.7</td><td>153082.9</td><td>155494.8</td><td>158128.8</td><td>163137.5</td><td>169011.1</td><td>158543.5</td></tr>\n",
       "\t<tr><th scope=row>2004</th><td>153674.7</td><td>158817.5</td><td>156862.3</td><td>158167.2</td><td>155466.8</td><td>164197.8</td><td>157042.9</td><td>160702.5</td><td>163850.3</td><td>167349.2</td><td>178620.2</td><td>162747.5</td></tr>\n",
       "\t<tr><th scope=row>2005</th><td>157981.8</td><td>164138.1</td><td>164082.6</td><td>166286.1</td><td>160594.5</td><td>168183.2</td><td>161682.9</td><td>165605.4</td><td>164123.5</td><td>171506.3</td><td>186545.1</td><td>169933.9</td></tr>\n",
       "\t<tr><th scope=row>2006</th><td>162183.6</td><td>174017.9</td><td>165640.2</td><td>171972.7</td><td>168449.8</td><td>177393.5</td><td>171124.8</td><td>177133.2</td><td>177662.2</td><td>184772.2</td><td>195705.0</td><td>182239.4</td></tr>\n",
       "\t<tr><th scope=row>2007</th><td>174852.2</td><td>185354.1</td><td>178361.3</td><td>183971.0</td><td>181315.3</td><td>189639.5</td><td>184136.4</td><td>185968.6</td><td>185163.1</td><td>195439.5</td><td>204511.1</td><td>192490.6</td></tr>\n",
       "\t<tr><th scope=row>2008</th><td>184065.0</td><td>189182.1</td><td>191949.3</td><td>194457.1</td><td>189411.4</td><td>194014.4</td><td>189236.6</td><td>192289.4</td><td>193873.1</td><td>198182.6</td><td>206899.9</td><td>191177.6</td></tr>\n",
       "\t<tr><th scope=row>2009</th><td>180956.9</td><td>189166.3</td><td>187709.8</td><td>190667.8</td><td>186270.5</td><td>195366.9</td><td>189685.7</td><td>193904.6</td><td>198143.1</td><td>202516.5</td><td>215269.1</td><td>197257.7</td></tr>\n",
       "\t<tr><th scope=row>2010</th><td>185876.9</td><td>197260.5</td><td>192594.0</td><td>197349.1</td><td>194799.6</td><td>198930.9</td><td>192871.1</td><td>197968.6</td><td>201230.1</td><td>208438.2</td><td>222425.2</td><td>203941.2</td></tr>\n",
       "\t<tr><th scope=row>2011</th><td>194447.8</td><td>204919.5</td><td>201130.3</td><td>205868.2</td><td>203174.2</td><td>208843.5</td><td>202857.9</td><td>207851.1</td><td>208401.4</td><td>218470.4</td><td>228352.3</td><td>208995.2</td></tr>\n",
       "\t<tr><th scope=row>2012</th><td>200084.3</td><td>211515.7</td><td>203816.4</td><td>213365.2</td><td>207875.1</td><td>213620.5</td><td>208317.3</td><td>212468.8</td><td>217346.2</td><td>224715.4</td><td>235666.5</td><td>218568.2</td></tr>\n",
       "\t<tr><th scope=row>2013</th><td>208571.4</td><td>215868.4</td><td>218426.3</td><td>224028.3</td><td>216140.8</td><td>223656.6</td><td>217212.1</td><td>220409.9</td><td>224260.2</td><td>231384.0</td><td>239431.1</td><td>222900.9</td></tr>\n",
       "\t<tr><th scope=row>2014</th><td>209008.4</td><td>221453.4</td><td>221059.2</td><td>228084.4</td><td>218721.3</td><td>229126.7</td><td>219820.9</td><td>222701.3</td><td>225556.6</td><td>235352.3</td><td>244610.7</td><td>229534.0</td></tr>\n",
       "\t<tr><th scope=row>2015</th><td>215182.7</td><td>226736.3</td><td>226084.3</td><td>232489.7</td><td>224368.9</td><td>236469.1</td><td>225035.0</td><td>228721.8</td><td>233264.4</td><td>241513.8</td><td>251243.1</td><td>234947.1</td></tr>\n",
       "\t<tr><th scope=row>2016</th><td>218848.2</td><td>229167.7</td><td>230732.1</td><td>237942.9</td><td>229481.9</td><td>237371.6</td><td>230519.2</td><td>234959.2</td><td>237548.5</td><td>247670.3</td><td>261606.5</td><td>241900.0</td></tr>\n",
       "\t<tr><th scope=row>2017</th><td>225071.5</td><td>238482.9</td><td>235277.3</td><td>245317.0</td><td>237724.1</td><td>246746.9</td><td>238140.6</td><td>242230.9</td><td>246921.6</td><td>256980.3</td><td>269300.3</td><td>245748.3</td></tr>\n",
       "\t<tr><th scope=row>2018</th><td>231913.6</td><td>243492.7</td><td>243592.9</td><td>255422.7</td><td>244948.9</td><td>255507.6</td><td>246305.0</td><td>249647.7</td><td>255400.2</td><td>265489.1</td><td>274828.6</td><td>254475.6</td></tr>\n",
       "</tbody>\n",
       "</table>\n"
      ],
      "text/latex": [
       "A Time Series: 18 × 12\n",
       "\\begin{tabular}{r|llllllllllll}\n",
       "  & Jan & Feb & Mar & Apr & May & Jun & Jul & Aug & Sep & Oct & Nov & Dec\\\\\n",
       "\\hline\n",
       "\t2001 & 144573.3 & 145329.5 & 142064.7 & 145688.9 & 138000.8 & 147828.7 & 142623.8 & 144906.3 & 148480.5 & 153613.5 & 161371.2 & 149253.1\\\\\n",
       "\t2002 & 141569.0 & 148236.5 & 148166.7 & 151047.7 & 143391.1 & 155456.2 & 149388.6 & 153990.5 & 155481.1 & 159422.2 & 169221.4 & 156560.2\\\\\n",
       "\t2003 & 147348.9 & 154992.4 & 154288.7 & 155883.6 & 149524.5 & 158856.7 & 153082.9 & 155494.8 & 158128.8 & 163137.5 & 169011.1 & 158543.5\\\\\n",
       "\t2004 & 153674.7 & 158817.5 & 156862.3 & 158167.2 & 155466.8 & 164197.8 & 157042.9 & 160702.5 & 163850.3 & 167349.2 & 178620.2 & 162747.5\\\\\n",
       "\t2005 & 157981.8 & 164138.1 & 164082.6 & 166286.1 & 160594.5 & 168183.2 & 161682.9 & 165605.4 & 164123.5 & 171506.3 & 186545.1 & 169933.9\\\\\n",
       "\t2006 & 162183.6 & 174017.9 & 165640.2 & 171972.7 & 168449.8 & 177393.5 & 171124.8 & 177133.2 & 177662.2 & 184772.2 & 195705.0 & 182239.4\\\\\n",
       "\t2007 & 174852.2 & 185354.1 & 178361.3 & 183971.0 & 181315.3 & 189639.5 & 184136.4 & 185968.6 & 185163.1 & 195439.5 & 204511.1 & 192490.6\\\\\n",
       "\t2008 & 184065.0 & 189182.1 & 191949.3 & 194457.1 & 189411.4 & 194014.4 & 189236.6 & 192289.4 & 193873.1 & 198182.6 & 206899.9 & 191177.6\\\\\n",
       "\t2009 & 180956.9 & 189166.3 & 187709.8 & 190667.8 & 186270.5 & 195366.9 & 189685.7 & 193904.6 & 198143.1 & 202516.5 & 215269.1 & 197257.7\\\\\n",
       "\t2010 & 185876.9 & 197260.5 & 192594.0 & 197349.1 & 194799.6 & 198930.9 & 192871.1 & 197968.6 & 201230.1 & 208438.2 & 222425.2 & 203941.2\\\\\n",
       "\t2011 & 194447.8 & 204919.5 & 201130.3 & 205868.2 & 203174.2 & 208843.5 & 202857.9 & 207851.1 & 208401.4 & 218470.4 & 228352.3 & 208995.2\\\\\n",
       "\t2012 & 200084.3 & 211515.7 & 203816.4 & 213365.2 & 207875.1 & 213620.5 & 208317.3 & 212468.8 & 217346.2 & 224715.4 & 235666.5 & 218568.2\\\\\n",
       "\t2013 & 208571.4 & 215868.4 & 218426.3 & 224028.3 & 216140.8 & 223656.6 & 217212.1 & 220409.9 & 224260.2 & 231384.0 & 239431.1 & 222900.9\\\\\n",
       "\t2014 & 209008.4 & 221453.4 & 221059.2 & 228084.4 & 218721.3 & 229126.7 & 219820.9 & 222701.3 & 225556.6 & 235352.3 & 244610.7 & 229534.0\\\\\n",
       "\t2015 & 215182.7 & 226736.3 & 226084.3 & 232489.7 & 224368.9 & 236469.1 & 225035.0 & 228721.8 & 233264.4 & 241513.8 & 251243.1 & 234947.1\\\\\n",
       "\t2016 & 218848.2 & 229167.7 & 230732.1 & 237942.9 & 229481.9 & 237371.6 & 230519.2 & 234959.2 & 237548.5 & 247670.3 & 261606.5 & 241900.0\\\\\n",
       "\t2017 & 225071.5 & 238482.9 & 235277.3 & 245317.0 & 237724.1 & 246746.9 & 238140.6 & 242230.9 & 246921.6 & 256980.3 & 269300.3 & 245748.3\\\\\n",
       "\t2018 & 231913.6 & 243492.7 & 243592.9 & 255422.7 & 244948.9 & 255507.6 & 246305.0 & 249647.7 & 255400.2 & 265489.1 & 274828.6 & 254475.6\\\\\n",
       "\\end{tabular}\n"
      ],
      "text/markdown": [
       "\n",
       "A Time Series: 18 × 12\n",
       "\n",
       "| <!--/--> | Jan | Feb | Mar | Apr | May | Jun | Jul | Aug | Sep | Oct | Nov | Dec |\n",
       "|---|---|---|---|---|---|---|---|---|---|---|---|---|\n",
       "| 2001 | 144573.3 | 145329.5 | 142064.7 | 145688.9 | 138000.8 | 147828.7 | 142623.8 | 144906.3 | 148480.5 | 153613.5 | 161371.2 | 149253.1 |\n",
       "| 2002 | 141569.0 | 148236.5 | 148166.7 | 151047.7 | 143391.1 | 155456.2 | 149388.6 | 153990.5 | 155481.1 | 159422.2 | 169221.4 | 156560.2 |\n",
       "| 2003 | 147348.9 | 154992.4 | 154288.7 | 155883.6 | 149524.5 | 158856.7 | 153082.9 | 155494.8 | 158128.8 | 163137.5 | 169011.1 | 158543.5 |\n",
       "| 2004 | 153674.7 | 158817.5 | 156862.3 | 158167.2 | 155466.8 | 164197.8 | 157042.9 | 160702.5 | 163850.3 | 167349.2 | 178620.2 | 162747.5 |\n",
       "| 2005 | 157981.8 | 164138.1 | 164082.6 | 166286.1 | 160594.5 | 168183.2 | 161682.9 | 165605.4 | 164123.5 | 171506.3 | 186545.1 | 169933.9 |\n",
       "| 2006 | 162183.6 | 174017.9 | 165640.2 | 171972.7 | 168449.8 | 177393.5 | 171124.8 | 177133.2 | 177662.2 | 184772.2 | 195705.0 | 182239.4 |\n",
       "| 2007 | 174852.2 | 185354.1 | 178361.3 | 183971.0 | 181315.3 | 189639.5 | 184136.4 | 185968.6 | 185163.1 | 195439.5 | 204511.1 | 192490.6 |\n",
       "| 2008 | 184065.0 | 189182.1 | 191949.3 | 194457.1 | 189411.4 | 194014.4 | 189236.6 | 192289.4 | 193873.1 | 198182.6 | 206899.9 | 191177.6 |\n",
       "| 2009 | 180956.9 | 189166.3 | 187709.8 | 190667.8 | 186270.5 | 195366.9 | 189685.7 | 193904.6 | 198143.1 | 202516.5 | 215269.1 | 197257.7 |\n",
       "| 2010 | 185876.9 | 197260.5 | 192594.0 | 197349.1 | 194799.6 | 198930.9 | 192871.1 | 197968.6 | 201230.1 | 208438.2 | 222425.2 | 203941.2 |\n",
       "| 2011 | 194447.8 | 204919.5 | 201130.3 | 205868.2 | 203174.2 | 208843.5 | 202857.9 | 207851.1 | 208401.4 | 218470.4 | 228352.3 | 208995.2 |\n",
       "| 2012 | 200084.3 | 211515.7 | 203816.4 | 213365.2 | 207875.1 | 213620.5 | 208317.3 | 212468.8 | 217346.2 | 224715.4 | 235666.5 | 218568.2 |\n",
       "| 2013 | 208571.4 | 215868.4 | 218426.3 | 224028.3 | 216140.8 | 223656.6 | 217212.1 | 220409.9 | 224260.2 | 231384.0 | 239431.1 | 222900.9 |\n",
       "| 2014 | 209008.4 | 221453.4 | 221059.2 | 228084.4 | 218721.3 | 229126.7 | 219820.9 | 222701.3 | 225556.6 | 235352.3 | 244610.7 | 229534.0 |\n",
       "| 2015 | 215182.7 | 226736.3 | 226084.3 | 232489.7 | 224368.9 | 236469.1 | 225035.0 | 228721.8 | 233264.4 | 241513.8 | 251243.1 | 234947.1 |\n",
       "| 2016 | 218848.2 | 229167.7 | 230732.1 | 237942.9 | 229481.9 | 237371.6 | 230519.2 | 234959.2 | 237548.5 | 247670.3 | 261606.5 | 241900.0 |\n",
       "| 2017 | 225071.5 | 238482.9 | 235277.3 | 245317.0 | 237724.1 | 246746.9 | 238140.6 | 242230.9 | 246921.6 | 256980.3 | 269300.3 | 245748.3 |\n",
       "| 2018 | 231913.6 | 243492.7 | 243592.9 | 255422.7 | 244948.9 | 255507.6 | 246305.0 | 249647.7 | 255400.2 | 265489.1 | 274828.6 | 254475.6 |\n",
       "\n"
      ],
      "text/plain": [
       "     Jan      Feb      Mar      Apr      May      Jun      Jul      Aug     \n",
       "2001 144573.3 145329.5 142064.7 145688.9 138000.8 147828.7 142623.8 144906.3\n",
       "2002 141569.0 148236.5 148166.7 151047.7 143391.1 155456.2 149388.6 153990.5\n",
       "2003 147348.9 154992.4 154288.7 155883.6 149524.5 158856.7 153082.9 155494.8\n",
       "2004 153674.7 158817.5 156862.3 158167.2 155466.8 164197.8 157042.9 160702.5\n",
       "2005 157981.8 164138.1 164082.6 166286.1 160594.5 168183.2 161682.9 165605.4\n",
       "2006 162183.6 174017.9 165640.2 171972.7 168449.8 177393.5 171124.8 177133.2\n",
       "2007 174852.2 185354.1 178361.3 183971.0 181315.3 189639.5 184136.4 185968.6\n",
       "2008 184065.0 189182.1 191949.3 194457.1 189411.4 194014.4 189236.6 192289.4\n",
       "2009 180956.9 189166.3 187709.8 190667.8 186270.5 195366.9 189685.7 193904.6\n",
       "2010 185876.9 197260.5 192594.0 197349.1 194799.6 198930.9 192871.1 197968.6\n",
       "2011 194447.8 204919.5 201130.3 205868.2 203174.2 208843.5 202857.9 207851.1\n",
       "2012 200084.3 211515.7 203816.4 213365.2 207875.1 213620.5 208317.3 212468.8\n",
       "2013 208571.4 215868.4 218426.3 224028.3 216140.8 223656.6 217212.1 220409.9\n",
       "2014 209008.4 221453.4 221059.2 228084.4 218721.3 229126.7 219820.9 222701.3\n",
       "2015 215182.7 226736.3 226084.3 232489.7 224368.9 236469.1 225035.0 228721.8\n",
       "2016 218848.2 229167.7 230732.1 237942.9 229481.9 237371.6 230519.2 234959.2\n",
       "2017 225071.5 238482.9 235277.3 245317.0 237724.1 246746.9 238140.6 242230.9\n",
       "2018 231913.6 243492.7 243592.9 255422.7 244948.9 255507.6 246305.0 249647.7\n",
       "     Sep      Oct      Nov      Dec     \n",
       "2001 148480.5 153613.5 161371.2 149253.1\n",
       "2002 155481.1 159422.2 169221.4 156560.2\n",
       "2003 158128.8 163137.5 169011.1 158543.5\n",
       "2004 163850.3 167349.2 178620.2 162747.5\n",
       "2005 164123.5 171506.3 186545.1 169933.9\n",
       "2006 177662.2 184772.2 195705.0 182239.4\n",
       "2007 185163.1 195439.5 204511.1 192490.6\n",
       "2008 193873.1 198182.6 206899.9 191177.6\n",
       "2009 198143.1 202516.5 215269.1 197257.7\n",
       "2010 201230.1 208438.2 222425.2 203941.2\n",
       "2011 208401.4 218470.4 228352.3 208995.2\n",
       "2012 217346.2 224715.4 235666.5 218568.2\n",
       "2013 224260.2 231384.0 239431.1 222900.9\n",
       "2014 225556.6 235352.3 244610.7 229534.0\n",
       "2015 233264.4 241513.8 251243.1 234947.1\n",
       "2016 237548.5 247670.3 261606.5 241900.0\n",
       "2017 246921.6 256980.3 269300.3 245748.3\n",
       "2018 255400.2 265489.1 274828.6 254475.6"
      ]
     },
     "metadata": {},
     "output_type": "display_data"
    }
   ],
   "source": [
    "# Pasamos los datos a Time Series\n",
    "tsbfa_fer = ts(fer_salida,\n",
    "                   start= c(2001,1),\n",
    "                   end= c(2018,12),\n",
    "                   frequency=12,\n",
    "                   deltat=1/12,\n",
    "                   ts.eps = 0.05,\n",
    "                   class = \"ts\"\n",
    "                    )\n",
    "\n",
    "tsbfa_fer"
   ]
  },
  {
   "cell_type": "code",
   "execution_count": 71,
   "metadata": {
    "slideshow": {
     "slide_type": "subslide"
    }
   },
   "outputs": [
    {
     "data": {
      "image/png": "[encoded data removed]",
      "text/plain": [
       "Plot with title \"Serie de referencia 2\""
      ]
     },
     "metadata": {
      "image/png": {
       "height": 420,
       "width": 420
      },
      "text/plain": {
       "height": 420,
       "width": 420
      }
     },
     "output_type": "display_data"
    }
   ],
   "source": [
    "# Graficamos para comparar\n",
    "layout(matrix(c(1,1,2,3), 2, 2, byrow = TRUE))\n",
    "plot(tsbfa_fer, col = \"red\",lwd = 1,lty= 2,main=\"Serie estimada y Original\",ylab=\" \",sub=\"Estimada = Rojo\"\n",
    "); lines(bf, col = \"black\",lwd = 1,lty= 1, ylab=\" \",)\n",
    "plot(tsaf_IMAE, col = \"black\",lwd = 1,lty= 2,main=\"Serie de referencia 1\",ylab=\" \",)\n",
    "plot(tsaf_empleo, col = \"black\",lwd = 1,lty= 2,main=\"Serie de referencia 2\",ylab=\" \",)"
   ]
  },
  {
   "cell_type": "code",
   "execution_count": 72,
   "metadata": {
    "slideshow": {
     "slide_type": "slide"
    }
   },
   "outputs": [],
   "source": [
    "# ----------------------------------------------------------------------------#\n",
    "#                             Método 7 - \"litterman\"\n",
    "#                          Para series no cointegradas\n",
    "# Incluye:\n",
    "#       a. \"litterman-maxlog\"\n",
    "#       b. \"litterman-minrss\"\n",
    "#       c. \"litterman-fixed\"\n",
    "#----------> Sin indicador se recomienda Denton\n",
    "# ----------------------------------------------------------------------------#\n",
    "# a. \"litterman-maxlog\"\n",
    "lit_a = td(bf ~ 0 + tsaf1 + tsaf2,          # con indicador\n",
    "         to = 12,                           # mensual\n",
    "         method = \"litterman-maxlog\",\n",
    "         conversion = criterio,             # consistente con la average\n",
    "         truncated.rho = 0,                 # p autorregresivo no acepta negativos\n",
    "         #fixed.rho = 0.5,                  # p autorregresivo fijo\n",
    "         )\n",
    "\n",
    "# Extraemos la serie resultante\n",
    "lit_a_salida = predict(lit_a)\n"
   ]
  },
  {
   "cell_type": "code",
   "execution_count": 73,
   "metadata": {
    "slideshow": {
     "slide_type": "subslide"
    }
   },
   "outputs": [
    {
     "data": {
      "text/plain": [
       "\n",
       "Call:\n",
       "td(formula = bf ~ 0 + tsaf1 + tsaf2, conversion = criterio, to = 12, \n",
       "    method = \"litterman-maxlog\", truncated.rho = 0)\n",
       "\n",
       "Residuals:\n",
       "    Min      1Q  Median      3Q     Max \n",
       "-1524.8   852.7  2499.0  5905.1  6964.6 \n",
       "\n",
       "Coefficients:\n",
       "       Estimate Std. Error t value Pr(>|t|)    \n",
       "tsaf1 3.412e-02  2.060e-02   1.656    0.118    \n",
       "tsaf2 1.144e+03  1.896e+02   6.034 2.29e-05 ***\n",
       "---\n",
       "Signif. codes:  0 '***' 0.001 '**' 0.01 '*' 0.05 '.' 0.1 ' ' 1\n",
       "\n",
       "'litterman-maxlog' disaggregation with 'average' conversion\n",
       "17 low-freq. obs. converted to 216 high-freq. obs.\n",
       "Adjusted R-squared: 0.8998\tAR1-Parameter: 0.6581"
      ]
     },
     "metadata": {},
     "output_type": "display_data"
    }
   ],
   "source": [
    "\n",
    "# Resumen del método\n",
    "summary(lit_a)\n",
    "logl_lit_a = summary(lit_a)$logl              # logl\n",
    "rsqrt_lit_a = summary(lit_a)$adj.r.squared    # r cuadrado ajustado\n",
    "rho_lit_a = summary(lit_a)$rho                # rho\n",
    "\n",
    "compa_lit_a = c(logl_lit_a, rsqrt_lit_a, rho_lit_a)"
   ]
  },
  {
   "cell_type": "code",
   "execution_count": 74,
   "metadata": {
    "slideshow": {
     "slide_type": "subslide"
    }
   },
   "outputs": [
    {
     "data": {
      "text/html": [
       "<table>\n",
       "<caption>A Time Series: 18 × 12</caption>\n",
       "<thead>\n",
       "\t<tr><th></th><th scope=col>Jan</th><th scope=col>Feb</th><th scope=col>Mar</th><th scope=col>Apr</th><th scope=col>May</th><th scope=col>Jun</th><th scope=col>Jul</th><th scope=col>Aug</th><th scope=col>Sep</th><th scope=col>Oct</th><th scope=col>Nov</th><th scope=col>Dec</th></tr>\n",
       "</thead>\n",
       "<tbody>\n",
       "\t<tr><th scope=row>2001</th><td>144516.5</td><td>145284.9</td><td>142015.5</td><td>145635.4</td><td>137866.1</td><td>147849.6</td><td>142545.4</td><td>144932.4</td><td>148555.7</td><td>153737.8</td><td>161597.2</td><td>149197.6</td></tr>\n",
       "\t<tr><th scope=row>2002</th><td>141409.1</td><td>148162.1</td><td>148035.8</td><td>151042.5</td><td>143299.7</td><td>155497.6</td><td>149342.8</td><td>154044.6</td><td>155560.6</td><td>159552.8</td><td>169472.1</td><td>156511.4</td></tr>\n",
       "\t<tr><th scope=row>2003</th><td>147194.1</td><td>154922.1</td><td>154135.2</td><td>155826.2</td><td>149360.2</td><td>158893.2</td><td>153015.2</td><td>155589.3</td><td>158190.9</td><td>163295.0</td><td>169336.0</td><td>158536.1</td></tr>\n",
       "\t<tr><th scope=row>2004</th><td>153535.4</td><td>158734.5</td><td>156770.1</td><td>158114.1</td><td>155341.5</td><td>164292.4</td><td>157009.5</td><td>160759.0</td><td>163945.6</td><td>167455.1</td><td>178856.5</td><td>162685.2</td></tr>\n",
       "\t<tr><th scope=row>2005</th><td>157788.0</td><td>164090.4</td><td>163961.7</td><td>166229.0</td><td>160496.2</td><td>168251.2</td><td>161611.5</td><td>165608.5</td><td>164156.7</td><td>171639.8</td><td>186828.5</td><td>170001.9</td></tr>\n",
       "\t<tr><th scope=row>2006</th><td>162044.3</td><td>174033.1</td><td>165512.6</td><td>171931.7</td><td>168373.5</td><td>177448.2</td><td>171054.2</td><td>177154.3</td><td>177713.7</td><td>184885.0</td><td>195937.8</td><td>182206.2</td></tr>\n",
       "\t<tr><th scope=row>2007</th><td>174713.5</td><td>185344.6</td><td>178197.9</td><td>183922.1</td><td>181238.4</td><td>189668.9</td><td>184079.9</td><td>185973.8</td><td>185223.6</td><td>195610.8</td><td>204776.0</td><td>192453.2</td></tr>\n",
       "\t<tr><th scope=row>2008</th><td>183877.7</td><td>189067.3</td><td>191816.7</td><td>194389.8</td><td>189336.1</td><td>194077.6</td><td>189243.8</td><td>192298.3</td><td>193951.6</td><td>198367.3</td><td>207186.7</td><td>191125.5</td></tr>\n",
       "\t<tr><th scope=row>2009</th><td>180709.7</td><td>189154.7</td><td>187630.1</td><td>190681.3</td><td>186208.5</td><td>195506.9</td><td>189688.0</td><td>193933.2</td><td>198197.0</td><td>202607.3</td><td>215506.2</td><td>197092.0</td></tr>\n",
       "\t<tr><th scope=row>2010</th><td>185531.8</td><td>197191.1</td><td>192428.0</td><td>197279.2</td><td>194706.4</td><td>198973.5</td><td>192806.4</td><td>198008.5</td><td>201365.7</td><td>208666.5</td><td>222807.5</td><td>203921.0</td></tr>\n",
       "\t<tr><th scope=row>2011</th><td>194248.7</td><td>204913.6</td><td>201034.9</td><td>205873.6</td><td>203122.5</td><td>208904.3</td><td>202821.8</td><td>207893.6</td><td>208432.9</td><td>218631.5</td><td>228572.7</td><td>208861.7</td></tr>\n",
       "\t<tr><th scope=row>2012</th><td>199862.2</td><td>211449.8</td><td>203608.6</td><td>213334.4</td><td>207744.4</td><td>213647.1</td><td>208242.9</td><td>212504.9</td><td>217469.6</td><td>224939.5</td><td>235994.1</td><td>218562.1</td></tr>\n",
       "\t<tr><th scope=row>2013</th><td>208409.8</td><td>215795.9</td><td>218343.0</td><td>224019.3</td><td>216015.9</td><td>223719.7</td><td>217188.8</td><td>220446.6</td><td>224342.2</td><td>231521.7</td><td>239678.4</td><td>222808.6</td></tr>\n",
       "\t<tr><th scope=row>2014</th><td>208842.4</td><td>221455.3</td><td>221048.0</td><td>228086.2</td><td>218640.3</td><td>229206.1</td><td>219750.0</td><td>222670.1</td><td>225602.4</td><td>235480.1</td><td>244849.6</td><td>229398.6</td></tr>\n",
       "\t<tr><th scope=row>2015</th><td>214932.0</td><td>226662.6</td><td>225916.6</td><td>232446.8</td><td>224272.4</td><td>236561.7</td><td>225008.1</td><td>228760.0</td><td>233391.6</td><td>241709.8</td><td>251494.0</td><td>234900.4</td></tr>\n",
       "\t<tr><th scope=row>2016</th><td>218708.0</td><td>229103.2</td><td>230641.9</td><td>237997.6</td><td>229368.6</td><td>237427.8</td><td>230456.2</td><td>234956.2</td><td>237569.9</td><td>247845.5</td><td>261888.7</td><td>241784.4</td></tr>\n",
       "\t<tr><th scope=row>2017</th><td>224824.1</td><td>238301.3</td><td>235087.1</td><td>245230.8</td><td>237539.9</td><td>246827.1</td><td>238069.0</td><td>242269.2</td><td>247087.1</td><td>257157.5</td><td>269754.2</td><td>245794.4</td></tr>\n",
       "\t<tr><th scope=row>2018</th><td>231936.8</td><td>243607.3</td><td>243756.9</td><td>255629.8</td><td>245106.8</td><td>255872.5</td><td>246532.6</td><td>249987.4</td><td>255848.3</td><td>265934.3</td><td>275520.4</td><td>254723.0</td></tr>\n",
       "</tbody>\n",
       "</table>\n"
      ],
      "text/latex": [
       "A Time Series: 18 × 12\n",
       "\\begin{tabular}{r|llllllllllll}\n",
       "  & Jan & Feb & Mar & Apr & May & Jun & Jul & Aug & Sep & Oct & Nov & Dec\\\\\n",
       "\\hline\n",
       "\t2001 & 144516.5 & 145284.9 & 142015.5 & 145635.4 & 137866.1 & 147849.6 & 142545.4 & 144932.4 & 148555.7 & 153737.8 & 161597.2 & 149197.6\\\\\n",
       "\t2002 & 141409.1 & 148162.1 & 148035.8 & 151042.5 & 143299.7 & 155497.6 & 149342.8 & 154044.6 & 155560.6 & 159552.8 & 169472.1 & 156511.4\\\\\n",
       "\t2003 & 147194.1 & 154922.1 & 154135.2 & 155826.2 & 149360.2 & 158893.2 & 153015.2 & 155589.3 & 158190.9 & 163295.0 & 169336.0 & 158536.1\\\\\n",
       "\t2004 & 153535.4 & 158734.5 & 156770.1 & 158114.1 & 155341.5 & 164292.4 & 157009.5 & 160759.0 & 163945.6 & 167455.1 & 178856.5 & 162685.2\\\\\n",
       "\t2005 & 157788.0 & 164090.4 & 163961.7 & 166229.0 & 160496.2 & 168251.2 & 161611.5 & 165608.5 & 164156.7 & 171639.8 & 186828.5 & 170001.9\\\\\n",
       "\t2006 & 162044.3 & 174033.1 & 165512.6 & 171931.7 & 168373.5 & 177448.2 & 171054.2 & 177154.3 & 177713.7 & 184885.0 & 195937.8 & 182206.2\\\\\n",
       "\t2007 & 174713.5 & 185344.6 & 178197.9 & 183922.1 & 181238.4 & 189668.9 & 184079.9 & 185973.8 & 185223.6 & 195610.8 & 204776.0 & 192453.2\\\\\n",
       "\t2008 & 183877.7 & 189067.3 & 191816.7 & 194389.8 & 189336.1 & 194077.6 & 189243.8 & 192298.3 & 193951.6 & 198367.3 & 207186.7 & 191125.5\\\\\n",
       "\t2009 & 180709.7 & 189154.7 & 187630.1 & 190681.3 & 186208.5 & 195506.9 & 189688.0 & 193933.2 & 198197.0 & 202607.3 & 215506.2 & 197092.0\\\\\n",
       "\t2010 & 185531.8 & 197191.1 & 192428.0 & 197279.2 & 194706.4 & 198973.5 & 192806.4 & 198008.5 & 201365.7 & 208666.5 & 222807.5 & 203921.0\\\\\n",
       "\t2011 & 194248.7 & 204913.6 & 201034.9 & 205873.6 & 203122.5 & 208904.3 & 202821.8 & 207893.6 & 208432.9 & 218631.5 & 228572.7 & 208861.7\\\\\n",
       "\t2012 & 199862.2 & 211449.8 & 203608.6 & 213334.4 & 207744.4 & 213647.1 & 208242.9 & 212504.9 & 217469.6 & 224939.5 & 235994.1 & 218562.1\\\\\n",
       "\t2013 & 208409.8 & 215795.9 & 218343.0 & 224019.3 & 216015.9 & 223719.7 & 217188.8 & 220446.6 & 224342.2 & 231521.7 & 239678.4 & 222808.6\\\\\n",
       "\t2014 & 208842.4 & 221455.3 & 221048.0 & 228086.2 & 218640.3 & 229206.1 & 219750.0 & 222670.1 & 225602.4 & 235480.1 & 244849.6 & 229398.6\\\\\n",
       "\t2015 & 214932.0 & 226662.6 & 225916.6 & 232446.8 & 224272.4 & 236561.7 & 225008.1 & 228760.0 & 233391.6 & 241709.8 & 251494.0 & 234900.4\\\\\n",
       "\t2016 & 218708.0 & 229103.2 & 230641.9 & 237997.6 & 229368.6 & 237427.8 & 230456.2 & 234956.2 & 237569.9 & 247845.5 & 261888.7 & 241784.4\\\\\n",
       "\t2017 & 224824.1 & 238301.3 & 235087.1 & 245230.8 & 237539.9 & 246827.1 & 238069.0 & 242269.2 & 247087.1 & 257157.5 & 269754.2 & 245794.4\\\\\n",
       "\t2018 & 231936.8 & 243607.3 & 243756.9 & 255629.8 & 245106.8 & 255872.5 & 246532.6 & 249987.4 & 255848.3 & 265934.3 & 275520.4 & 254723.0\\\\\n",
       "\\end{tabular}\n"
      ],
      "text/markdown": [
       "\n",
       "A Time Series: 18 × 12\n",
       "\n",
       "| <!--/--> | Jan | Feb | Mar | Apr | May | Jun | Jul | Aug | Sep | Oct | Nov | Dec |\n",
       "|---|---|---|---|---|---|---|---|---|---|---|---|---|\n",
       "| 2001 | 144516.5 | 145284.9 | 142015.5 | 145635.4 | 137866.1 | 147849.6 | 142545.4 | 144932.4 | 148555.7 | 153737.8 | 161597.2 | 149197.6 |\n",
       "| 2002 | 141409.1 | 148162.1 | 148035.8 | 151042.5 | 143299.7 | 155497.6 | 149342.8 | 154044.6 | 155560.6 | 159552.8 | 169472.1 | 156511.4 |\n",
       "| 2003 | 147194.1 | 154922.1 | 154135.2 | 155826.2 | 149360.2 | 158893.2 | 153015.2 | 155589.3 | 158190.9 | 163295.0 | 169336.0 | 158536.1 |\n",
       "| 2004 | 153535.4 | 158734.5 | 156770.1 | 158114.1 | 155341.5 | 164292.4 | 157009.5 | 160759.0 | 163945.6 | 167455.1 | 178856.5 | 162685.2 |\n",
       "| 2005 | 157788.0 | 164090.4 | 163961.7 | 166229.0 | 160496.2 | 168251.2 | 161611.5 | 165608.5 | 164156.7 | 171639.8 | 186828.5 | 170001.9 |\n",
       "| 2006 | 162044.3 | 174033.1 | 165512.6 | 171931.7 | 168373.5 | 177448.2 | 171054.2 | 177154.3 | 177713.7 | 184885.0 | 195937.8 | 182206.2 |\n",
       "| 2007 | 174713.5 | 185344.6 | 178197.9 | 183922.1 | 181238.4 | 189668.9 | 184079.9 | 185973.8 | 185223.6 | 195610.8 | 204776.0 | 192453.2 |\n",
       "| 2008 | 183877.7 | 189067.3 | 191816.7 | 194389.8 | 189336.1 | 194077.6 | 189243.8 | 192298.3 | 193951.6 | 198367.3 | 207186.7 | 191125.5 |\n",
       "| 2009 | 180709.7 | 189154.7 | 187630.1 | 190681.3 | 186208.5 | 195506.9 | 189688.0 | 193933.2 | 198197.0 | 202607.3 | 215506.2 | 197092.0 |\n",
       "| 2010 | 185531.8 | 197191.1 | 192428.0 | 197279.2 | 194706.4 | 198973.5 | 192806.4 | 198008.5 | 201365.7 | 208666.5 | 222807.5 | 203921.0 |\n",
       "| 2011 | 194248.7 | 204913.6 | 201034.9 | 205873.6 | 203122.5 | 208904.3 | 202821.8 | 207893.6 | 208432.9 | 218631.5 | 228572.7 | 208861.7 |\n",
       "| 2012 | 199862.2 | 211449.8 | 203608.6 | 213334.4 | 207744.4 | 213647.1 | 208242.9 | 212504.9 | 217469.6 | 224939.5 | 235994.1 | 218562.1 |\n",
       "| 2013 | 208409.8 | 215795.9 | 218343.0 | 224019.3 | 216015.9 | 223719.7 | 217188.8 | 220446.6 | 224342.2 | 231521.7 | 239678.4 | 222808.6 |\n",
       "| 2014 | 208842.4 | 221455.3 | 221048.0 | 228086.2 | 218640.3 | 229206.1 | 219750.0 | 222670.1 | 225602.4 | 235480.1 | 244849.6 | 229398.6 |\n",
       "| 2015 | 214932.0 | 226662.6 | 225916.6 | 232446.8 | 224272.4 | 236561.7 | 225008.1 | 228760.0 | 233391.6 | 241709.8 | 251494.0 | 234900.4 |\n",
       "| 2016 | 218708.0 | 229103.2 | 230641.9 | 237997.6 | 229368.6 | 237427.8 | 230456.2 | 234956.2 | 237569.9 | 247845.5 | 261888.7 | 241784.4 |\n",
       "| 2017 | 224824.1 | 238301.3 | 235087.1 | 245230.8 | 237539.9 | 246827.1 | 238069.0 | 242269.2 | 247087.1 | 257157.5 | 269754.2 | 245794.4 |\n",
       "| 2018 | 231936.8 | 243607.3 | 243756.9 | 255629.8 | 245106.8 | 255872.5 | 246532.6 | 249987.4 | 255848.3 | 265934.3 | 275520.4 | 254723.0 |\n",
       "\n"
      ],
      "text/plain": [
       "     Jan      Feb      Mar      Apr      May      Jun      Jul      Aug     \n",
       "2001 144516.5 145284.9 142015.5 145635.4 137866.1 147849.6 142545.4 144932.4\n",
       "2002 141409.1 148162.1 148035.8 151042.5 143299.7 155497.6 149342.8 154044.6\n",
       "2003 147194.1 154922.1 154135.2 155826.2 149360.2 158893.2 153015.2 155589.3\n",
       "2004 153535.4 158734.5 156770.1 158114.1 155341.5 164292.4 157009.5 160759.0\n",
       "2005 157788.0 164090.4 163961.7 166229.0 160496.2 168251.2 161611.5 165608.5\n",
       "2006 162044.3 174033.1 165512.6 171931.7 168373.5 177448.2 171054.2 177154.3\n",
       "2007 174713.5 185344.6 178197.9 183922.1 181238.4 189668.9 184079.9 185973.8\n",
       "2008 183877.7 189067.3 191816.7 194389.8 189336.1 194077.6 189243.8 192298.3\n",
       "2009 180709.7 189154.7 187630.1 190681.3 186208.5 195506.9 189688.0 193933.2\n",
       "2010 185531.8 197191.1 192428.0 197279.2 194706.4 198973.5 192806.4 198008.5\n",
       "2011 194248.7 204913.6 201034.9 205873.6 203122.5 208904.3 202821.8 207893.6\n",
       "2012 199862.2 211449.8 203608.6 213334.4 207744.4 213647.1 208242.9 212504.9\n",
       "2013 208409.8 215795.9 218343.0 224019.3 216015.9 223719.7 217188.8 220446.6\n",
       "2014 208842.4 221455.3 221048.0 228086.2 218640.3 229206.1 219750.0 222670.1\n",
       "2015 214932.0 226662.6 225916.6 232446.8 224272.4 236561.7 225008.1 228760.0\n",
       "2016 218708.0 229103.2 230641.9 237997.6 229368.6 237427.8 230456.2 234956.2\n",
       "2017 224824.1 238301.3 235087.1 245230.8 237539.9 246827.1 238069.0 242269.2\n",
       "2018 231936.8 243607.3 243756.9 255629.8 245106.8 255872.5 246532.6 249987.4\n",
       "     Sep      Oct      Nov      Dec     \n",
       "2001 148555.7 153737.8 161597.2 149197.6\n",
       "2002 155560.6 159552.8 169472.1 156511.4\n",
       "2003 158190.9 163295.0 169336.0 158536.1\n",
       "2004 163945.6 167455.1 178856.5 162685.2\n",
       "2005 164156.7 171639.8 186828.5 170001.9\n",
       "2006 177713.7 184885.0 195937.8 182206.2\n",
       "2007 185223.6 195610.8 204776.0 192453.2\n",
       "2008 193951.6 198367.3 207186.7 191125.5\n",
       "2009 198197.0 202607.3 215506.2 197092.0\n",
       "2010 201365.7 208666.5 222807.5 203921.0\n",
       "2011 208432.9 218631.5 228572.7 208861.7\n",
       "2012 217469.6 224939.5 235994.1 218562.1\n",
       "2013 224342.2 231521.7 239678.4 222808.6\n",
       "2014 225602.4 235480.1 244849.6 229398.6\n",
       "2015 233391.6 241709.8 251494.0 234900.4\n",
       "2016 237569.9 247845.5 261888.7 241784.4\n",
       "2017 247087.1 257157.5 269754.2 245794.4\n",
       "2018 255848.3 265934.3 275520.4 254723.0"
      ]
     },
     "metadata": {},
     "output_type": "display_data"
    }
   ],
   "source": [
    "# Pasamos los datos a Time Series\n",
    "tsbfa_lit_a = ts(lit_a_salida,\n",
    "               start= c(2001,1),\n",
    "               end= c(2018,12),\n",
    "               frequency=12,\n",
    "               deltat=1/12,\n",
    "               ts.eps = 0.05,\n",
    "               class = \"ts\"\n",
    "                )\n",
    "\n",
    "tsbfa_lit_a"
   ]
  },
  {
   "cell_type": "code",
   "execution_count": 75,
   "metadata": {
    "slideshow": {
     "slide_type": "subslide"
    }
   },
   "outputs": [
    {
     "data": {
      "image/png": "[encoded data removed]",
      "text/plain": [
       "Plot with title \"Serie de referencia 2\""
      ]
     },
     "metadata": {
      "image/png": {
       "height": 420,
       "width": 420
      },
      "text/plain": {
       "height": 420,
       "width": 420
      }
     },
     "output_type": "display_data"
    }
   ],
   "source": [
    "# Graficamos para comparar \n",
    "layout(matrix(c(1,1,2,3), 2, 2, byrow = TRUE))\n",
    "plot(tsbfa_lit_a, col = \"red\",lwd = 1,lty= 2,main=\"Serie estimada y Original\",ylab=\" \",sub=\"Estimada = Rojo\"\n",
    "); lines(bf, col = \"black\",lwd = 1,lty= 1,ylab=\" \",)\n",
    "plot(tsaf_IMAE, col = \"black\",lwd = 1,lty= 2,main=\"Serie de referencia 1\",ylab=\" \",)\n",
    "plot(tsaf_empleo, col = \"black\",lwd = 1,lty= 2,main=\"Serie de referencia 2\",ylab=\" \",)"
   ]
  },
  {
   "cell_type": "code",
   "execution_count": 76,
   "metadata": {
    "slideshow": {
     "slide_type": "slide"
    }
   },
   "outputs": [],
   "source": [
    "# b. \"litterman-minrss\"\n",
    "lit_b = td(bf ~ 0 + tsaf1 + tsaf2,            # con indicador\n",
    "           to = 12,                           # mensual\n",
    "           method = \"litterman-minrss\",\n",
    "           conversion = criterio,             # consistente con la average\n",
    "           truncated.rho = 0,                 # p autorregresivo no acepta negativos\n",
    "           #fixed.rho = 0.5,                  # p autorregresivo fijo\n",
    "            )\n",
    "\n",
    "# Extraemos la serie resultante\n",
    "lit_b_salida = predict(lit_b)"
   ]
  },
  {
   "cell_type": "code",
   "execution_count": 77,
   "metadata": {
    "slideshow": {
     "slide_type": "subslide"
    }
   },
   "outputs": [
    {
     "data": {
      "text/plain": [
       "\n",
       "Call:\n",
       "td(formula = bf ~ 0 + tsaf1 + tsaf2, conversion = criterio, to = 12, \n",
       "    method = \"litterman-minrss\", truncated.rho = 0)\n",
       "\n",
       "Residuals:\n",
       "    Min      1Q  Median      3Q     Max \n",
       "-4451.0   117.7  1570.5  4235.6  5013.6 \n",
       "\n",
       "Coefficients:\n",
       "       Estimate Std. Error t value Pr(>|t|)    \n",
       "tsaf1 2.296e-02  2.371e-02   0.968    0.348    \n",
       "tsaf2 1.247e+03  2.186e+02   5.707 4.15e-05 ***\n",
       "---\n",
       "Signif. codes:  0 '***' 0.001 '**' 0.01 '*' 0.05 '.' 0.1 ' ' 1\n",
       "\n",
       "'litterman-minrss' disaggregation with 'average' conversion\n",
       "17 low-freq. obs. converted to 216 high-freq. obs.\n",
       "Adjusted R-squared: 0.5462\tAR1-Parameter: 0.9978"
      ]
     },
     "metadata": {},
     "output_type": "display_data"
    }
   ],
   "source": [
    "\n",
    "# Resumen del método\n",
    "summary(lit_b)\n",
    "logl_lit_b = summary(lit_b)$logl              # logl\n",
    "rsqrt_lit_b = summary(lit_b)$adj.r.squared    # r cuadrado ajustado\n",
    "rho_lit_b = summary(lit_b)$rho                # rho\n",
    "\n",
    "compa_lit_b = c(logl_lit_b, rsqrt_lit_b, rho_lit_b)"
   ]
  },
  {
   "cell_type": "code",
   "execution_count": 78,
   "metadata": {
    "slideshow": {
     "slide_type": "subslide"
    }
   },
   "outputs": [
    {
     "data": {
      "text/html": [
       "<table>\n",
       "<caption>A Time Series: 18 × 12</caption>\n",
       "<thead>\n",
       "\t<tr><th></th><th scope=col>Jan</th><th scope=col>Feb</th><th scope=col>Mar</th><th scope=col>Apr</th><th scope=col>May</th><th scope=col>Jun</th><th scope=col>Jul</th><th scope=col>Aug</th><th scope=col>Sep</th><th scope=col>Oct</th><th scope=col>Nov</th><th scope=col>Dec</th></tr>\n",
       "</thead>\n",
       "<tbody>\n",
       "\t<tr><th scope=row>2001</th><td>144193.9</td><td>145024.6</td><td>141723.5</td><td>145316.5</td><td>137083.3</td><td>147955.5</td><td>142088.6</td><td>145077.3</td><td>148987.7</td><td>154459.8</td><td>162909.0</td><td>148914.4</td></tr>\n",
       "\t<tr><th scope=row>2002</th><td>140539.6</td><td>147786.9</td><td>147340.2</td><td>151060.2</td><td>142816.0</td><td>155756.5</td><td>149084.6</td><td>154333.8</td><td>155971.4</td><td>160235.6</td><td>170831.4</td><td>156175.0</td></tr>\n",
       "\t<tr><th scope=row>2003</th><td>146306.0</td><td>154533.1</td><td>153271.3</td><td>155502.1</td><td>148417.6</td><td>159091.0</td><td>152619.0</td><td>156123.4</td><td>158548.6</td><td>164203.8</td><td>171197.8</td><td>158479.6</td></tr>\n",
       "\t<tr><th scope=row>2004</th><td>152663.3</td><td>158166.6</td><td>156156.3</td><td>157744.7</td><td>154587.3</td><td>164821.4</td><td>156834.9</td><td>161121.7</td><td>164549.8</td><td>168135.8</td><td>180292.8</td><td>162424.1</td></tr>\n",
       "\t<tr><th scope=row>2005</th><td>156777.5</td><td>163909.7</td><td>163355.0</td><td>165972.8</td><td>159986.9</td><td>168667.4</td><td>161204.2</td><td>165595.7</td><td>164283.3</td><td>172308.4</td><td>188331.4</td><td>170271.2</td></tr>\n",
       "\t<tr><th scope=row>2006</th><td>161158.8</td><td>174035.3</td><td>164698.9</td><td>171612.8</td><td>167862.2</td><td>177704.1</td><td>170626.4</td><td>177291.4</td><td>178073.2</td><td>185642.9</td><td>197416.7</td><td>182172.0</td></tr>\n",
       "\t<tr><th scope=row>2007</th><td>174017.9</td><td>185378.1</td><td>177362.9</td><td>183750.3</td><td>180903.4</td><td>189918.7</td><td>183797.6</td><td>185983.7</td><td>185478.8</td><td>196432.5</td><td>206096.2</td><td>192082.5</td></tr>\n",
       "\t<tr><th scope=row>2008</th><td>182818.3</td><td>188463.7</td><td>191092.0</td><td>193997.3</td><td>188860.4</td><td>194371.5</td><td>189221.1</td><td>192310.8</td><td>194402.5</td><td>199467.0</td><td>208887.6</td><td>190846.1</td></tr>\n",
       "\t<tr><th scope=row>2009</th><td>179138.0</td><td>188886.6</td><td>187006.9</td><td>190654.6</td><td>185822.0</td><td>196334.5</td><td>189775.1</td><td>194197.1</td><td>198615.6</td><td>203235.2</td><td>216970.0</td><td>196279.4</td></tr>\n",
       "\t<tr><th scope=row>2010</th><td>183769.6</td><td>197006.4</td><td>191659.2</td><td>197006.9</td><td>194242.4</td><td>199226.2</td><td>192393.5</td><td>198144.9</td><td>202009.4</td><td>209807.6</td><td>224806.4</td><td>203612.7</td></tr>\n",
       "\t<tr><th scope=row>2011</th><td>192921.3</td><td>204696.0</td><td>200320.7</td><td>205758.3</td><td>202716.2</td><td>209185.8</td><td>202606.9</td><td>208192.6</td><td>208738.7</td><td>219744.0</td><td>230075.0</td><td>208356.3</td></tr>\n",
       "\t<tr><th scope=row>2012</th><td>198788.2</td><td>211257.0</td><td>202613.0</td><td>213348.6</td><td>207169.3</td><td>213922.4</td><td>207867.0</td><td>212660.7</td><td>218010.6</td><td>225949.9</td><td>237533.6</td><td>218239.2</td></tr>\n",
       "\t<tr><th scope=row>2013</th><td>207440.4</td><td>215393.9</td><td>217851.7</td><td>223899.1</td><td>215189.9</td><td>223952.6</td><td>216953.1</td><td>220615.9</td><td>224858.4</td><td>232446.6</td><td>241278.5</td><td>222409.8</td></tr>\n",
       "\t<tr><th scope=row>2014</th><td>207737.8</td><td>221249.6</td><td>220822.8</td><td>228033.1</td><td>218213.1</td><td>229769.4</td><td>219494.1</td><td>222639.5</td><td>225976.2</td><td>236264.3</td><td>246213.6</td><td>228615.6</td></tr>\n",
       "\t<tr><th scope=row>2015</th><td>213585.5</td><td>226312.1</td><td>224969.1</td><td>232143.8</td><td>223612.0</td><td>236959.0</td><td>224735.4</td><td>228904.0</td><td>234112.8</td><td>242901.1</td><td>253058.1</td><td>234763.1</td></tr>\n",
       "\t<tr><th scope=row>2016</th><td>217901.7</td><td>228716.2</td><td>230147.6</td><td>238380.9</td><td>228829.1</td><td>237863.9</td><td>230188.6</td><td>234977.1</td><td>237656.3</td><td>248735.2</td><td>263344.9</td><td>241006.5</td></tr>\n",
       "\t<tr><th scope=row>2017</th><td>223486.9</td><td>237377.5</td><td>234073.0</td><td>244741.2</td><td>236421.6</td><td>247168.2</td><td>237523.9</td><td>242365.0</td><td>247955.1</td><td>258166.5</td><td>272430.6</td><td>246232.3</td></tr>\n",
       "\t<tr><th scope=row>2018</th><td>232301.9</td><td>244635.3</td><td>245260.2</td><td>257609.1</td><td>247056.0</td><td>259269.9</td><td>249422.7</td><td>253798.8</td><td>260564.5</td><td>270923.0</td><td>282205.9</td><td>259162.9</td></tr>\n",
       "</tbody>\n",
       "</table>\n"
      ],
      "text/latex": [
       "A Time Series: 18 × 12\n",
       "\\begin{tabular}{r|llllllllllll}\n",
       "  & Jan & Feb & Mar & Apr & May & Jun & Jul & Aug & Sep & Oct & Nov & Dec\\\\\n",
       "\\hline\n",
       "\t2001 & 144193.9 & 145024.6 & 141723.5 & 145316.5 & 137083.3 & 147955.5 & 142088.6 & 145077.3 & 148987.7 & 154459.8 & 162909.0 & 148914.4\\\\\n",
       "\t2002 & 140539.6 & 147786.9 & 147340.2 & 151060.2 & 142816.0 & 155756.5 & 149084.6 & 154333.8 & 155971.4 & 160235.6 & 170831.4 & 156175.0\\\\\n",
       "\t2003 & 146306.0 & 154533.1 & 153271.3 & 155502.1 & 148417.6 & 159091.0 & 152619.0 & 156123.4 & 158548.6 & 164203.8 & 171197.8 & 158479.6\\\\\n",
       "\t2004 & 152663.3 & 158166.6 & 156156.3 & 157744.7 & 154587.3 & 164821.4 & 156834.9 & 161121.7 & 164549.8 & 168135.8 & 180292.8 & 162424.1\\\\\n",
       "\t2005 & 156777.5 & 163909.7 & 163355.0 & 165972.8 & 159986.9 & 168667.4 & 161204.2 & 165595.7 & 164283.3 & 172308.4 & 188331.4 & 170271.2\\\\\n",
       "\t2006 & 161158.8 & 174035.3 & 164698.9 & 171612.8 & 167862.2 & 177704.1 & 170626.4 & 177291.4 & 178073.2 & 185642.9 & 197416.7 & 182172.0\\\\\n",
       "\t2007 & 174017.9 & 185378.1 & 177362.9 & 183750.3 & 180903.4 & 189918.7 & 183797.6 & 185983.7 & 185478.8 & 196432.5 & 206096.2 & 192082.5\\\\\n",
       "\t2008 & 182818.3 & 188463.7 & 191092.0 & 193997.3 & 188860.4 & 194371.5 & 189221.1 & 192310.8 & 194402.5 & 199467.0 & 208887.6 & 190846.1\\\\\n",
       "\t2009 & 179138.0 & 188886.6 & 187006.9 & 190654.6 & 185822.0 & 196334.5 & 189775.1 & 194197.1 & 198615.6 & 203235.2 & 216970.0 & 196279.4\\\\\n",
       "\t2010 & 183769.6 & 197006.4 & 191659.2 & 197006.9 & 194242.4 & 199226.2 & 192393.5 & 198144.9 & 202009.4 & 209807.6 & 224806.4 & 203612.7\\\\\n",
       "\t2011 & 192921.3 & 204696.0 & 200320.7 & 205758.3 & 202716.2 & 209185.8 & 202606.9 & 208192.6 & 208738.7 & 219744.0 & 230075.0 & 208356.3\\\\\n",
       "\t2012 & 198788.2 & 211257.0 & 202613.0 & 213348.6 & 207169.3 & 213922.4 & 207867.0 & 212660.7 & 218010.6 & 225949.9 & 237533.6 & 218239.2\\\\\n",
       "\t2013 & 207440.4 & 215393.9 & 217851.7 & 223899.1 & 215189.9 & 223952.6 & 216953.1 & 220615.9 & 224858.4 & 232446.6 & 241278.5 & 222409.8\\\\\n",
       "\t2014 & 207737.8 & 221249.6 & 220822.8 & 228033.1 & 218213.1 & 229769.4 & 219494.1 & 222639.5 & 225976.2 & 236264.3 & 246213.6 & 228615.6\\\\\n",
       "\t2015 & 213585.5 & 226312.1 & 224969.1 & 232143.8 & 223612.0 & 236959.0 & 224735.4 & 228904.0 & 234112.8 & 242901.1 & 253058.1 & 234763.1\\\\\n",
       "\t2016 & 217901.7 & 228716.2 & 230147.6 & 238380.9 & 228829.1 & 237863.9 & 230188.6 & 234977.1 & 237656.3 & 248735.2 & 263344.9 & 241006.5\\\\\n",
       "\t2017 & 223486.9 & 237377.5 & 234073.0 & 244741.2 & 236421.6 & 247168.2 & 237523.9 & 242365.0 & 247955.1 & 258166.5 & 272430.6 & 246232.3\\\\\n",
       "\t2018 & 232301.9 & 244635.3 & 245260.2 & 257609.1 & 247056.0 & 259269.9 & 249422.7 & 253798.8 & 260564.5 & 270923.0 & 282205.9 & 259162.9\\\\\n",
       "\\end{tabular}\n"
      ],
      "text/markdown": [
       "\n",
       "A Time Series: 18 × 12\n",
       "\n",
       "| <!--/--> | Jan | Feb | Mar | Apr | May | Jun | Jul | Aug | Sep | Oct | Nov | Dec |\n",
       "|---|---|---|---|---|---|---|---|---|---|---|---|---|\n",
       "| 2001 | 144193.9 | 145024.6 | 141723.5 | 145316.5 | 137083.3 | 147955.5 | 142088.6 | 145077.3 | 148987.7 | 154459.8 | 162909.0 | 148914.4 |\n",
       "| 2002 | 140539.6 | 147786.9 | 147340.2 | 151060.2 | 142816.0 | 155756.5 | 149084.6 | 154333.8 | 155971.4 | 160235.6 | 170831.4 | 156175.0 |\n",
       "| 2003 | 146306.0 | 154533.1 | 153271.3 | 155502.1 | 148417.6 | 159091.0 | 152619.0 | 156123.4 | 158548.6 | 164203.8 | 171197.8 | 158479.6 |\n",
       "| 2004 | 152663.3 | 158166.6 | 156156.3 | 157744.7 | 154587.3 | 164821.4 | 156834.9 | 161121.7 | 164549.8 | 168135.8 | 180292.8 | 162424.1 |\n",
       "| 2005 | 156777.5 | 163909.7 | 163355.0 | 165972.8 | 159986.9 | 168667.4 | 161204.2 | 165595.7 | 164283.3 | 172308.4 | 188331.4 | 170271.2 |\n",
       "| 2006 | 161158.8 | 174035.3 | 164698.9 | 171612.8 | 167862.2 | 177704.1 | 170626.4 | 177291.4 | 178073.2 | 185642.9 | 197416.7 | 182172.0 |\n",
       "| 2007 | 174017.9 | 185378.1 | 177362.9 | 183750.3 | 180903.4 | 189918.7 | 183797.6 | 185983.7 | 185478.8 | 196432.5 | 206096.2 | 192082.5 |\n",
       "| 2008 | 182818.3 | 188463.7 | 191092.0 | 193997.3 | 188860.4 | 194371.5 | 189221.1 | 192310.8 | 194402.5 | 199467.0 | 208887.6 | 190846.1 |\n",
       "| 2009 | 179138.0 | 188886.6 | 187006.9 | 190654.6 | 185822.0 | 196334.5 | 189775.1 | 194197.1 | 198615.6 | 203235.2 | 216970.0 | 196279.4 |\n",
       "| 2010 | 183769.6 | 197006.4 | 191659.2 | 197006.9 | 194242.4 | 199226.2 | 192393.5 | 198144.9 | 202009.4 | 209807.6 | 224806.4 | 203612.7 |\n",
       "| 2011 | 192921.3 | 204696.0 | 200320.7 | 205758.3 | 202716.2 | 209185.8 | 202606.9 | 208192.6 | 208738.7 | 219744.0 | 230075.0 | 208356.3 |\n",
       "| 2012 | 198788.2 | 211257.0 | 202613.0 | 213348.6 | 207169.3 | 213922.4 | 207867.0 | 212660.7 | 218010.6 | 225949.9 | 237533.6 | 218239.2 |\n",
       "| 2013 | 207440.4 | 215393.9 | 217851.7 | 223899.1 | 215189.9 | 223952.6 | 216953.1 | 220615.9 | 224858.4 | 232446.6 | 241278.5 | 222409.8 |\n",
       "| 2014 | 207737.8 | 221249.6 | 220822.8 | 228033.1 | 218213.1 | 229769.4 | 219494.1 | 222639.5 | 225976.2 | 236264.3 | 246213.6 | 228615.6 |\n",
       "| 2015 | 213585.5 | 226312.1 | 224969.1 | 232143.8 | 223612.0 | 236959.0 | 224735.4 | 228904.0 | 234112.8 | 242901.1 | 253058.1 | 234763.1 |\n",
       "| 2016 | 217901.7 | 228716.2 | 230147.6 | 238380.9 | 228829.1 | 237863.9 | 230188.6 | 234977.1 | 237656.3 | 248735.2 | 263344.9 | 241006.5 |\n",
       "| 2017 | 223486.9 | 237377.5 | 234073.0 | 244741.2 | 236421.6 | 247168.2 | 237523.9 | 242365.0 | 247955.1 | 258166.5 | 272430.6 | 246232.3 |\n",
       "| 2018 | 232301.9 | 244635.3 | 245260.2 | 257609.1 | 247056.0 | 259269.9 | 249422.7 | 253798.8 | 260564.5 | 270923.0 | 282205.9 | 259162.9 |\n",
       "\n"
      ],
      "text/plain": [
       "     Jan      Feb      Mar      Apr      May      Jun      Jul      Aug     \n",
       "2001 144193.9 145024.6 141723.5 145316.5 137083.3 147955.5 142088.6 145077.3\n",
       "2002 140539.6 147786.9 147340.2 151060.2 142816.0 155756.5 149084.6 154333.8\n",
       "2003 146306.0 154533.1 153271.3 155502.1 148417.6 159091.0 152619.0 156123.4\n",
       "2004 152663.3 158166.6 156156.3 157744.7 154587.3 164821.4 156834.9 161121.7\n",
       "2005 156777.5 163909.7 163355.0 165972.8 159986.9 168667.4 161204.2 165595.7\n",
       "2006 161158.8 174035.3 164698.9 171612.8 167862.2 177704.1 170626.4 177291.4\n",
       "2007 174017.9 185378.1 177362.9 183750.3 180903.4 189918.7 183797.6 185983.7\n",
       "2008 182818.3 188463.7 191092.0 193997.3 188860.4 194371.5 189221.1 192310.8\n",
       "2009 179138.0 188886.6 187006.9 190654.6 185822.0 196334.5 189775.1 194197.1\n",
       "2010 183769.6 197006.4 191659.2 197006.9 194242.4 199226.2 192393.5 198144.9\n",
       "2011 192921.3 204696.0 200320.7 205758.3 202716.2 209185.8 202606.9 208192.6\n",
       "2012 198788.2 211257.0 202613.0 213348.6 207169.3 213922.4 207867.0 212660.7\n",
       "2013 207440.4 215393.9 217851.7 223899.1 215189.9 223952.6 216953.1 220615.9\n",
       "2014 207737.8 221249.6 220822.8 228033.1 218213.1 229769.4 219494.1 222639.5\n",
       "2015 213585.5 226312.1 224969.1 232143.8 223612.0 236959.0 224735.4 228904.0\n",
       "2016 217901.7 228716.2 230147.6 238380.9 228829.1 237863.9 230188.6 234977.1\n",
       "2017 223486.9 237377.5 234073.0 244741.2 236421.6 247168.2 237523.9 242365.0\n",
       "2018 232301.9 244635.3 245260.2 257609.1 247056.0 259269.9 249422.7 253798.8\n",
       "     Sep      Oct      Nov      Dec     \n",
       "2001 148987.7 154459.8 162909.0 148914.4\n",
       "2002 155971.4 160235.6 170831.4 156175.0\n",
       "2003 158548.6 164203.8 171197.8 158479.6\n",
       "2004 164549.8 168135.8 180292.8 162424.1\n",
       "2005 164283.3 172308.4 188331.4 170271.2\n",
       "2006 178073.2 185642.9 197416.7 182172.0\n",
       "2007 185478.8 196432.5 206096.2 192082.5\n",
       "2008 194402.5 199467.0 208887.6 190846.1\n",
       "2009 198615.6 203235.2 216970.0 196279.4\n",
       "2010 202009.4 209807.6 224806.4 203612.7\n",
       "2011 208738.7 219744.0 230075.0 208356.3\n",
       "2012 218010.6 225949.9 237533.6 218239.2\n",
       "2013 224858.4 232446.6 241278.5 222409.8\n",
       "2014 225976.2 236264.3 246213.6 228615.6\n",
       "2015 234112.8 242901.1 253058.1 234763.1\n",
       "2016 237656.3 248735.2 263344.9 241006.5\n",
       "2017 247955.1 258166.5 272430.6 246232.3\n",
       "2018 260564.5 270923.0 282205.9 259162.9"
      ]
     },
     "metadata": {},
     "output_type": "display_data"
    }
   ],
   "source": [
    "# Pasamos los datos a Time Series\n",
    "tsbfa_lit_b = ts(lit_b_salida,\n",
    "                 start= c(2001,1),\n",
    "                 end= c(2018,12),\n",
    "                 frequency=12,\n",
    "                 deltat=1/12,\n",
    "                 ts.eps = 0.05,\n",
    "                 class = \"ts\"\n",
    "                 )\n",
    "\n",
    "tsbfa_lit_b"
   ]
  },
  {
   "cell_type": "code",
   "execution_count": 79,
   "metadata": {
    "slideshow": {
     "slide_type": "subslide"
    }
   },
   "outputs": [
    {
     "data": {
      "image/png": "[encoded data removed]",
      "text/plain": [
       "Plot with title \"Serie de referencia 2\""
      ]
     },
     "metadata": {
      "image/png": {
       "height": 420,
       "width": 420
      },
      "text/plain": {
       "height": 420,
       "width": 420
      }
     },
     "output_type": "display_data"
    }
   ],
   "source": [
    "# Graficamos para comparar\n",
    "layout(matrix(c(1,1,2,3), 2, 2, byrow = TRUE))\n",
    "plot(tsbfa_lit_b, col = \"red\",lwd = 1,lty= 2,main=\"Serie estimada y Original\",ylab=\" \",sub=\"Estimada = Rojo\"\n",
    "); lines(bf, col = \"black\",lwd = 1,lty= 1,ylab=\" \",)\n",
    "plot(tsaf_IMAE, col = \"black\",lwd = 1,lty= 2,main=\"Serie de referencia 1\",ylab=\" \",)\n",
    "plot(tsaf_empleo, col = \"black\",lwd = 1,lty= 2,main=\"Serie de referencia 2\",ylab=\" \",)"
   ]
  },
  {
   "cell_type": "code",
   "execution_count": 80,
   "metadata": {
    "slideshow": {
     "slide_type": "slide"
    }
   },
   "outputs": [],
   "source": [
    "# c. \"litterman-fixed\"\n",
    "lit_c = td(bf ~ 0 + tsaf1 + tsaf2,            # con indicador\n",
    "           to = 12,                           # mensual\n",
    "           method = \"litterman-fixed\",\n",
    "           conversion = criterio,             # consistente con la average\n",
    "           truncated.rho = 0,                 # p autorregresivo no acepta negativos\n",
    "           #fixed.rho = 0.5,                  # p autorregresivo fijo\n",
    "            )\n",
    "\n",
    "# Extraemos la serie resultante\n",
    "lit_c_salida = predict(lit_c)"
   ]
  },
  {
   "cell_type": "code",
   "execution_count": 81,
   "metadata": {
    "slideshow": {
     "slide_type": "subslide"
    }
   },
   "outputs": [
    {
     "data": {
      "text/plain": [
       "\n",
       "Call:\n",
       "td(formula = bf ~ 0 + tsaf1 + tsaf2, conversion = criterio, to = 12, \n",
       "    method = \"litterman-fixed\", truncated.rho = 0)\n",
       "\n",
       "Residuals:\n",
       "    Min      1Q  Median      3Q     Max \n",
       "-1219.5   863.2  2755.8  6079.2  7168.2 \n",
       "\n",
       "Coefficients:\n",
       "       Estimate Std. Error t value Pr(>|t|)    \n",
       "tsaf1 3.529e-02  2.035e-02   1.734    0.103    \n",
       "tsaf2 1.134e+03  1.872e+02   6.055  2.2e-05 ***\n",
       "---\n",
       "Signif. codes:  0 '***' 0.001 '**' 0.01 '*' 0.05 '.' 0.1 ' ' 1\n",
       "\n",
       "'litterman-fixed' disaggregation with 'average' conversion\n",
       "17 low-freq. obs. converted to 216 high-freq. obs.\n",
       "Adjusted R-squared: 0.9062\tAR1-Parameter:   0.5"
      ]
     },
     "metadata": {},
     "output_type": "display_data"
    }
   ],
   "source": [
    "# Resumen del método\n",
    "summary(lit_c)\n",
    "logl_lit_c = summary(lit_c)$logl              # logl\n",
    "rsqrt_lit_c = summary(lit_c)$adj.r.squared    # r cuadrado ajustado\n",
    "rho_lit_c = summary(lit_c)$rho                # rho\n",
    "\n",
    "compa_lit_c = c(logl_lit_c, rsqrt_lit_c, rho_lit_c)\n"
   ]
  },
  {
   "cell_type": "code",
   "execution_count": 82,
   "metadata": {
    "slideshow": {
     "slide_type": "subslide"
    }
   },
   "outputs": [
    {
     "data": {
      "text/html": [
       "<table>\n",
       "<caption>A Time Series: 18 × 12</caption>\n",
       "<thead>\n",
       "\t<tr><th></th><th scope=col>Jan</th><th scope=col>Feb</th><th scope=col>Mar</th><th scope=col>Apr</th><th scope=col>May</th><th scope=col>Jun</th><th scope=col>Jul</th><th scope=col>Aug</th><th scope=col>Sep</th><th scope=col>Oct</th><th scope=col>Nov</th><th scope=col>Dec</th></tr>\n",
       "</thead>\n",
       "<tbody>\n",
       "\t<tr><th scope=row>2001</th><td>144550.0</td><td>145311.5</td><td>142045.0</td><td>145667.5</td><td>137946.6</td><td>147837.4</td><td>142592.3</td><td>144917.0</td><td>148510.9</td><td>153663.6</td><td>161462.2</td><td>149230.1</td></tr>\n",
       "\t<tr><th scope=row>2002</th><td>141503.5</td><td>148205.3</td><td>148112.5</td><td>151044.3</td><td>143352.9</td><td>155471.9</td><td>149369.5</td><td>154012.3</td><td>155514.1</td><td>159476.8</td><td>169325.2</td><td>156542.8</td></tr>\n",
       "\t<tr><th scope=row>2003</th><td>147285.5</td><td>154962.9</td><td>154226.3</td><td>155860.9</td><td>149459.3</td><td>158872.9</td><td>153056.9</td><td>155534.0</td><td>158154.2</td><td>163200.5</td><td>169140.8</td><td>158539.3</td></tr>\n",
       "\t<tr><th scope=row>2004</th><td>153621.0</td><td>158786.8</td><td>156827.1</td><td>158146.7</td><td>155416.4</td><td>164235.5</td><td>157028.5</td><td>160724.1</td><td>163887.4</td><td>167390.5</td><td>178714.1</td><td>162720.8</td></tr>\n",
       "\t<tr><th scope=row>2005</th><td>157902.2</td><td>164117.5</td><td>164032.5</td><td>166261.8</td><td>160553.7</td><td>168209.9</td><td>161653.6</td><td>165606.8</td><td>164137.7</td><td>171561.9</td><td>186662.0</td><td>169963.9</td></tr>\n",
       "\t<tr><th scope=row>2006</th><td>162127.7</td><td>174024.4</td><td>165589.8</td><td>171957.9</td><td>168421.2</td><td>177417.8</td><td>171098.1</td><td>177142.7</td><td>177682.6</td><td>184815.5</td><td>195795.1</td><td>182221.7</td></tr>\n",
       "\t<tr><th scope=row>2007</th><td>174796.3</td><td>185350.1</td><td>178293.6</td><td>183947.9</td><td>181280.0</td><td>189647.0</td><td>184110.0</td><td>185968.8</td><td>185188.4</td><td>195512.9</td><td>204625.3</td><td>192482.3</td></tr>\n",
       "\t<tr><th scope=row>2008</th><td>183985.4</td><td>189131.3</td><td>191894.2</td><td>194431.6</td><td>189385.1</td><td>194045.2</td><td>189244.7</td><td>192296.9</td><td>193906.1</td><td>198255.2</td><td>207010.7</td><td>191152.0</td></tr>\n",
       "\t<tr><th scope=row>2009</th><td>180863.9</td><td>189168.9</td><td>187681.8</td><td>190674.1</td><td>186243.6</td><td>195419.8</td><td>189682.3</td><td>193912.0</td><td>198161.7</td><td>202551.5</td><td>215364.7</td><td>197190.6</td></tr>\n",
       "\t<tr><th scope=row>2010</th><td>185732.4</td><td>197227.5</td><td>192523.5</td><td>197319.2</td><td>194761.8</td><td>198949.0</td><td>192846.6</td><td>197986.8</td><td>201287.3</td><td>208533.0</td><td>222582.3</td><td>203935.8</td></tr>\n",
       "\t<tr><th scope=row>2011</th><td>194369.8</td><td>204919.6</td><td>201094.3</td><td>205872.9</td><td>203155.7</td><td>208870.1</td><td>202844.7</td><td>207868.5</td><td>208412.8</td><td>218532.1</td><td>228435.9</td><td>208935.4</td></tr>\n",
       "\t<tr><th scope=row>2012</th><td>199993.6</td><td>211487.7</td><td>203729.2</td><td>213347.7</td><td>207816.3</td><td>213625.2</td><td>208282.4</td><td>212481.1</td><td>217397.7</td><td>224812.5</td><td>235809.8</td><td>218576.3</td></tr>\n",
       "\t<tr><th scope=row>2013</th><td>208500.8</td><td>215833.4</td><td>218391.3</td><td>224028.0</td><td>216097.1</td><td>223690.5</td><td>217210.8</td><td>220430.5</td><td>224294.9</td><td>231435.6</td><td>239521.9</td><td>222855.1</td></tr>\n",
       "\t<tr><th scope=row>2014</th><td>208951.8</td><td>221465.2</td><td>221060.6</td><td>228085.3</td><td>218684.4</td><td>229151.9</td><td>219784.5</td><td>222681.6</td><td>225570.2</td><td>235402.3</td><td>244709.1</td><td>229482.2</td></tr>\n",
       "\t<tr><th scope=row>2015</th><td>215076.2</td><td>226702.2</td><td>226015.7</td><td>232474.9</td><td>224334.8</td><td>236512.4</td><td>225029.8</td><td>228741.4</td><td>233317.2</td><td>241590.7</td><td>251338.6</td><td>234922.2</td></tr>\n",
       "\t<tr><th scope=row>2016</th><td>218795.7</td><td>229145.5</td><td>230696.2</td><td>237962.3</td><td>229431.1</td><td>237388.3</td><td>230488.2</td><td>234954.2</td><td>237556.4</td><td>247744.2</td><td>261727.0</td><td>241859.0</td></tr>\n",
       "\t<tr><th scope=row>2017</th><td>224963.8</td><td>238401.0</td><td>235195.2</td><td>245280.8</td><td>237651.3</td><td>246783.0</td><td>238116.3</td><td>242251.0</td><td>246992.2</td><td>257054.3</td><td>269484.8</td><td>245768.1</td></tr>\n",
       "\t<tr><th scope=row>2018</th><td>231928.9</td><td>243544.8</td><td>243663.5</td><td>255508.9</td><td>245013.8</td><td>255654.9</td><td>246396.0</td><td>249783.3</td><td>255579.2</td><td>265666.5</td><td>275105.4</td><td>254572.8</td></tr>\n",
       "</tbody>\n",
       "</table>\n"
      ],
      "text/latex": [
       "A Time Series: 18 × 12\n",
       "\\begin{tabular}{r|llllllllllll}\n",
       "  & Jan & Feb & Mar & Apr & May & Jun & Jul & Aug & Sep & Oct & Nov & Dec\\\\\n",
       "\\hline\n",
       "\t2001 & 144550.0 & 145311.5 & 142045.0 & 145667.5 & 137946.6 & 147837.4 & 142592.3 & 144917.0 & 148510.9 & 153663.6 & 161462.2 & 149230.1\\\\\n",
       "\t2002 & 141503.5 & 148205.3 & 148112.5 & 151044.3 & 143352.9 & 155471.9 & 149369.5 & 154012.3 & 155514.1 & 159476.8 & 169325.2 & 156542.8\\\\\n",
       "\t2003 & 147285.5 & 154962.9 & 154226.3 & 155860.9 & 149459.3 & 158872.9 & 153056.9 & 155534.0 & 158154.2 & 163200.5 & 169140.8 & 158539.3\\\\\n",
       "\t2004 & 153621.0 & 158786.8 & 156827.1 & 158146.7 & 155416.4 & 164235.5 & 157028.5 & 160724.1 & 163887.4 & 167390.5 & 178714.1 & 162720.8\\\\\n",
       "\t2005 & 157902.2 & 164117.5 & 164032.5 & 166261.8 & 160553.7 & 168209.9 & 161653.6 & 165606.8 & 164137.7 & 171561.9 & 186662.0 & 169963.9\\\\\n",
       "\t2006 & 162127.7 & 174024.4 & 165589.8 & 171957.9 & 168421.2 & 177417.8 & 171098.1 & 177142.7 & 177682.6 & 184815.5 & 195795.1 & 182221.7\\\\\n",
       "\t2007 & 174796.3 & 185350.1 & 178293.6 & 183947.9 & 181280.0 & 189647.0 & 184110.0 & 185968.8 & 185188.4 & 195512.9 & 204625.3 & 192482.3\\\\\n",
       "\t2008 & 183985.4 & 189131.3 & 191894.2 & 194431.6 & 189385.1 & 194045.2 & 189244.7 & 192296.9 & 193906.1 & 198255.2 & 207010.7 & 191152.0\\\\\n",
       "\t2009 & 180863.9 & 189168.9 & 187681.8 & 190674.1 & 186243.6 & 195419.8 & 189682.3 & 193912.0 & 198161.7 & 202551.5 & 215364.7 & 197190.6\\\\\n",
       "\t2010 & 185732.4 & 197227.5 & 192523.5 & 197319.2 & 194761.8 & 198949.0 & 192846.6 & 197986.8 & 201287.3 & 208533.0 & 222582.3 & 203935.8\\\\\n",
       "\t2011 & 194369.8 & 204919.6 & 201094.3 & 205872.9 & 203155.7 & 208870.1 & 202844.7 & 207868.5 & 208412.8 & 218532.1 & 228435.9 & 208935.4\\\\\n",
       "\t2012 & 199993.6 & 211487.7 & 203729.2 & 213347.7 & 207816.3 & 213625.2 & 208282.4 & 212481.1 & 217397.7 & 224812.5 & 235809.8 & 218576.3\\\\\n",
       "\t2013 & 208500.8 & 215833.4 & 218391.3 & 224028.0 & 216097.1 & 223690.5 & 217210.8 & 220430.5 & 224294.9 & 231435.6 & 239521.9 & 222855.1\\\\\n",
       "\t2014 & 208951.8 & 221465.2 & 221060.6 & 228085.3 & 218684.4 & 229151.9 & 219784.5 & 222681.6 & 225570.2 & 235402.3 & 244709.1 & 229482.2\\\\\n",
       "\t2015 & 215076.2 & 226702.2 & 226015.7 & 232474.9 & 224334.8 & 236512.4 & 225029.8 & 228741.4 & 233317.2 & 241590.7 & 251338.6 & 234922.2\\\\\n",
       "\t2016 & 218795.7 & 229145.5 & 230696.2 & 237962.3 & 229431.1 & 237388.3 & 230488.2 & 234954.2 & 237556.4 & 247744.2 & 261727.0 & 241859.0\\\\\n",
       "\t2017 & 224963.8 & 238401.0 & 235195.2 & 245280.8 & 237651.3 & 246783.0 & 238116.3 & 242251.0 & 246992.2 & 257054.3 & 269484.8 & 245768.1\\\\\n",
       "\t2018 & 231928.9 & 243544.8 & 243663.5 & 255508.9 & 245013.8 & 255654.9 & 246396.0 & 249783.3 & 255579.2 & 265666.5 & 275105.4 & 254572.8\\\\\n",
       "\\end{tabular}\n"
      ],
      "text/markdown": [
       "\n",
       "A Time Series: 18 × 12\n",
       "\n",
       "| <!--/--> | Jan | Feb | Mar | Apr | May | Jun | Jul | Aug | Sep | Oct | Nov | Dec |\n",
       "|---|---|---|---|---|---|---|---|---|---|---|---|---|\n",
       "| 2001 | 144550.0 | 145311.5 | 142045.0 | 145667.5 | 137946.6 | 147837.4 | 142592.3 | 144917.0 | 148510.9 | 153663.6 | 161462.2 | 149230.1 |\n",
       "| 2002 | 141503.5 | 148205.3 | 148112.5 | 151044.3 | 143352.9 | 155471.9 | 149369.5 | 154012.3 | 155514.1 | 159476.8 | 169325.2 | 156542.8 |\n",
       "| 2003 | 147285.5 | 154962.9 | 154226.3 | 155860.9 | 149459.3 | 158872.9 | 153056.9 | 155534.0 | 158154.2 | 163200.5 | 169140.8 | 158539.3 |\n",
       "| 2004 | 153621.0 | 158786.8 | 156827.1 | 158146.7 | 155416.4 | 164235.5 | 157028.5 | 160724.1 | 163887.4 | 167390.5 | 178714.1 | 162720.8 |\n",
       "| 2005 | 157902.2 | 164117.5 | 164032.5 | 166261.8 | 160553.7 | 168209.9 | 161653.6 | 165606.8 | 164137.7 | 171561.9 | 186662.0 | 169963.9 |\n",
       "| 2006 | 162127.7 | 174024.4 | 165589.8 | 171957.9 | 168421.2 | 177417.8 | 171098.1 | 177142.7 | 177682.6 | 184815.5 | 195795.1 | 182221.7 |\n",
       "| 2007 | 174796.3 | 185350.1 | 178293.6 | 183947.9 | 181280.0 | 189647.0 | 184110.0 | 185968.8 | 185188.4 | 195512.9 | 204625.3 | 192482.3 |\n",
       "| 2008 | 183985.4 | 189131.3 | 191894.2 | 194431.6 | 189385.1 | 194045.2 | 189244.7 | 192296.9 | 193906.1 | 198255.2 | 207010.7 | 191152.0 |\n",
       "| 2009 | 180863.9 | 189168.9 | 187681.8 | 190674.1 | 186243.6 | 195419.8 | 189682.3 | 193912.0 | 198161.7 | 202551.5 | 215364.7 | 197190.6 |\n",
       "| 2010 | 185732.4 | 197227.5 | 192523.5 | 197319.2 | 194761.8 | 198949.0 | 192846.6 | 197986.8 | 201287.3 | 208533.0 | 222582.3 | 203935.8 |\n",
       "| 2011 | 194369.8 | 204919.6 | 201094.3 | 205872.9 | 203155.7 | 208870.1 | 202844.7 | 207868.5 | 208412.8 | 218532.1 | 228435.9 | 208935.4 |\n",
       "| 2012 | 199993.6 | 211487.7 | 203729.2 | 213347.7 | 207816.3 | 213625.2 | 208282.4 | 212481.1 | 217397.7 | 224812.5 | 235809.8 | 218576.3 |\n",
       "| 2013 | 208500.8 | 215833.4 | 218391.3 | 224028.0 | 216097.1 | 223690.5 | 217210.8 | 220430.5 | 224294.9 | 231435.6 | 239521.9 | 222855.1 |\n",
       "| 2014 | 208951.8 | 221465.2 | 221060.6 | 228085.3 | 218684.4 | 229151.9 | 219784.5 | 222681.6 | 225570.2 | 235402.3 | 244709.1 | 229482.2 |\n",
       "| 2015 | 215076.2 | 226702.2 | 226015.7 | 232474.9 | 224334.8 | 236512.4 | 225029.8 | 228741.4 | 233317.2 | 241590.7 | 251338.6 | 234922.2 |\n",
       "| 2016 | 218795.7 | 229145.5 | 230696.2 | 237962.3 | 229431.1 | 237388.3 | 230488.2 | 234954.2 | 237556.4 | 247744.2 | 261727.0 | 241859.0 |\n",
       "| 2017 | 224963.8 | 238401.0 | 235195.2 | 245280.8 | 237651.3 | 246783.0 | 238116.3 | 242251.0 | 246992.2 | 257054.3 | 269484.8 | 245768.1 |\n",
       "| 2018 | 231928.9 | 243544.8 | 243663.5 | 255508.9 | 245013.8 | 255654.9 | 246396.0 | 249783.3 | 255579.2 | 265666.5 | 275105.4 | 254572.8 |\n",
       "\n"
      ],
      "text/plain": [
       "     Jan      Feb      Mar      Apr      May      Jun      Jul      Aug     \n",
       "2001 144550.0 145311.5 142045.0 145667.5 137946.6 147837.4 142592.3 144917.0\n",
       "2002 141503.5 148205.3 148112.5 151044.3 143352.9 155471.9 149369.5 154012.3\n",
       "2003 147285.5 154962.9 154226.3 155860.9 149459.3 158872.9 153056.9 155534.0\n",
       "2004 153621.0 158786.8 156827.1 158146.7 155416.4 164235.5 157028.5 160724.1\n",
       "2005 157902.2 164117.5 164032.5 166261.8 160553.7 168209.9 161653.6 165606.8\n",
       "2006 162127.7 174024.4 165589.8 171957.9 168421.2 177417.8 171098.1 177142.7\n",
       "2007 174796.3 185350.1 178293.6 183947.9 181280.0 189647.0 184110.0 185968.8\n",
       "2008 183985.4 189131.3 191894.2 194431.6 189385.1 194045.2 189244.7 192296.9\n",
       "2009 180863.9 189168.9 187681.8 190674.1 186243.6 195419.8 189682.3 193912.0\n",
       "2010 185732.4 197227.5 192523.5 197319.2 194761.8 198949.0 192846.6 197986.8\n",
       "2011 194369.8 204919.6 201094.3 205872.9 203155.7 208870.1 202844.7 207868.5\n",
       "2012 199993.6 211487.7 203729.2 213347.7 207816.3 213625.2 208282.4 212481.1\n",
       "2013 208500.8 215833.4 218391.3 224028.0 216097.1 223690.5 217210.8 220430.5\n",
       "2014 208951.8 221465.2 221060.6 228085.3 218684.4 229151.9 219784.5 222681.6\n",
       "2015 215076.2 226702.2 226015.7 232474.9 224334.8 236512.4 225029.8 228741.4\n",
       "2016 218795.7 229145.5 230696.2 237962.3 229431.1 237388.3 230488.2 234954.2\n",
       "2017 224963.8 238401.0 235195.2 245280.8 237651.3 246783.0 238116.3 242251.0\n",
       "2018 231928.9 243544.8 243663.5 255508.9 245013.8 255654.9 246396.0 249783.3\n",
       "     Sep      Oct      Nov      Dec     \n",
       "2001 148510.9 153663.6 161462.2 149230.1\n",
       "2002 155514.1 159476.8 169325.2 156542.8\n",
       "2003 158154.2 163200.5 169140.8 158539.3\n",
       "2004 163887.4 167390.5 178714.1 162720.8\n",
       "2005 164137.7 171561.9 186662.0 169963.9\n",
       "2006 177682.6 184815.5 195795.1 182221.7\n",
       "2007 185188.4 195512.9 204625.3 192482.3\n",
       "2008 193906.1 198255.2 207010.7 191152.0\n",
       "2009 198161.7 202551.5 215364.7 197190.6\n",
       "2010 201287.3 208533.0 222582.3 203935.8\n",
       "2011 208412.8 218532.1 228435.9 208935.4\n",
       "2012 217397.7 224812.5 235809.8 218576.3\n",
       "2013 224294.9 231435.6 239521.9 222855.1\n",
       "2014 225570.2 235402.3 244709.1 229482.2\n",
       "2015 233317.2 241590.7 251338.6 234922.2\n",
       "2016 237556.4 247744.2 261727.0 241859.0\n",
       "2017 246992.2 257054.3 269484.8 245768.1\n",
       "2018 255579.2 265666.5 275105.4 254572.8"
      ]
     },
     "metadata": {},
     "output_type": "display_data"
    }
   ],
   "source": [
    "# Pasamos los datos a Time Series\n",
    "tsbfa_lit_c = ts(lit_c_salida,\n",
    "                 start= c(2001,1),\n",
    "                 end= c(2018,12),\n",
    "                 frequency=12,\n",
    "                 deltat=1/12,\n",
    "                 ts.eps = 0.05,\n",
    "                 class = \"ts\"\n",
    "                 )\n",
    "\n",
    "tsbfa_lit_c"
   ]
  },
  {
   "cell_type": "code",
   "execution_count": 83,
   "metadata": {
    "slideshow": {
     "slide_type": "subslide"
    }
   },
   "outputs": [
    {
     "data": {
      "image/png": "[encoded data removed]",
      "text/plain": [
       "Plot with title \"Serie de referencia 2\""
      ]
     },
     "metadata": {
      "image/png": {
       "height": 420,
       "width": 420
      },
      "text/plain": {
       "height": 420,
       "width": 420
      }
     },
     "output_type": "display_data"
    }
   ],
   "source": [
    "# Graficamos para comparar\n",
    "layout(matrix(c(1,1,2,3), 2, 2, byrow = TRUE))\n",
    "plot(tsbfa_lit_c, col = \"red\",lwd = 1,lty= 2,main=\"Serie estimada y Original\",ylab=\" \",sub=\"Estimada = Rojo\"\n",
    "); lines(bf, col = \"black\",lwd = 1,lty= 1,ylab=\" \",)\n",
    "plot(tsaf_IMAE, col = \"black\",lwd = 1,lty= 2,main=\"Serie de referencia 1\",ylab=\" \",)\n",
    "plot(tsaf_empleo, col = \"black\",lwd = 1,lty= 2,main=\"Serie de referencia 2\",ylab=\" \",)"
   ]
  },
  {
   "cell_type": "code",
   "execution_count": 84,
   "metadata": {
    "slideshow": {
     "slide_type": "slide"
    }
   },
   "outputs": [
    {
     "data": {
      "image/png": "[encoded data removed]",
      "text/plain": [
       "Plot with title \"litterman-fixed\""
      ]
     },
     "metadata": {
      "image/png": {
       "height": 420,
       "width": 420
      },
      "text/plain": {
       "height": 420,
       "width": 420
      }
     },
     "output_type": "display_data"
    }
   ],
   "source": [
    "# Comparación de métodos para series no cointegradas\n",
    "par(mfrow=c(2,2))\n",
    "plot(tsbfa_fer, lwd = 2, lty= 1, main=\"fernandez\", ylab=\" \");lines(bf, lwd = 1, lty= 3)\n",
    "plot(tsbfa_lit_a, lwd = 2, lty= 1, main=\"litterman-maxlog\", ylab=\" \");lines(bf, lwd = 1, lty= 3)\n",
    "plot(tsbfa_lit_b, lwd = 2, lty= 1, main=\"litterman-minrss\", ylab=\" \");lines(bf, lwd = 1, lty= 3)\n",
    "plot(tsbfa_lit_c, lwd = 2, lty= 1, main=\"litterman-fixed\", ylab=\" \");lines(bf, lwd = 1, lty= 3)"
   ]
  },
  {
   "cell_type": "code",
   "execution_count": 85,
   "metadata": {
    "slideshow": {
     "slide_type": "subslide"
    }
   },
   "outputs": [
    {
     "data": {
      "text/html": [
       "<table>\n",
       "<caption>A matrix: 3 × 4 of type dbl</caption>\n",
       "<tbody>\n",
       "\t<tr><td>-148.2829611</td><td>-148.1618989</td><td>-154.3243355</td><td>-148.1928738</td></tr>\n",
       "\t<tr><td>   0.9100859</td><td>   0.8997501</td><td>   0.5462322</td><td>   0.9061713</td></tr>\n",
       "\t<tr><td>   0.0000000</td><td>   0.6581327</td><td>   0.9978335</td><td>   0.5000000</td></tr>\n",
       "</tbody>\n",
       "</table>\n"
      ],
      "text/latex": [
       "A matrix: 3 × 4 of type dbl\n",
       "\\begin{tabular}{llll}\n",
       "\t -148.2829611 & -148.1618989 & -154.3243355 & -148.1928738\\\\\n",
       "\t    0.9100859 &    0.8997501 &    0.5462322 &    0.9061713\\\\\n",
       "\t    0.0000000 &    0.6581327 &    0.9978335 &    0.5000000\\\\\n",
       "\\end{tabular}\n"
      ],
      "text/markdown": [
       "\n",
       "A matrix: 3 × 4 of type dbl\n",
       "\n",
       "| -148.2829611 | -148.1618989 | -154.3243355 | -148.1928738 |\n",
       "|    0.9100859 |    0.8997501 |    0.5462322 |    0.9061713 |\n",
       "|    0.0000000 |    0.6581327 |    0.9978335 |    0.5000000 |\n",
       "\n"
      ],
      "text/plain": [
       "     [,1]         [,2]         [,3]         [,4]        \n",
       "[1,] -148.2829611 -148.1618989 -154.3243355 -148.1928738\n",
       "[2,]    0.9100859    0.8997501    0.5462322    0.9061713\n",
       "[3,]    0.0000000    0.6581327    0.9978335    0.5000000"
      ]
     },
     "metadata": {},
     "output_type": "display_data"
    }
   ],
   "source": [
    "# Indicadores de regresión\n",
    "resumen_no_coint = matrix(c(compa_fer,compa_lit_a,compa_lit_b,compa_lit_c),nrow=3,ncol=4)\n",
    "resumen_no_coint"
   ]
  },
  {
   "cell_type": "markdown",
   "metadata": {
    "slideshow": {
     "slide_type": "slide"
    }
   },
   "source": [
    "# Agregación"
   ]
  },
  {
   "cell_type": "code",
   "execution_count": 86,
   "metadata": {
    "slideshow": {
     "slide_type": "slide"
    }
   },
   "outputs": [],
   "source": [
    "#install.packages(\"tempdisagg\")\n",
    "library(tempdisagg)\n",
    "library(readxl)"
   ]
  },
  {
   "cell_type": "code",
   "execution_count": 87,
   "metadata": {
    "slideshow": {
     "slide_type": "fragment"
    }
   },
   "outputs": [],
   "source": [
    "# Importación de datos en excel\n",
    "d_af = read_excel(path = \"Mensual.xlsx\")\n",
    "d_bf = read_excel(path = \"Anual.xlsx\")"
   ]
  },
  {
   "cell_type": "code",
   "execution_count": 88,
   "metadata": {
    "slideshow": {
     "slide_type": "fragment"
    }
   },
   "outputs": [],
   "source": [
    "# Selección de columnas de trabajo\n",
    "af = d_af$TOTAL # Serie de alta frecuencia (Mensual)\n",
    "bf = d_bf$TOTAL # Serie de baja frecuencia (Anual), solo ejemplo"
   ]
  },
  {
   "cell_type": "code",
   "execution_count": 89,
   "metadata": {
    "slideshow": {
     "slide_type": "slide"
    }
   },
   "outputs": [],
   "source": [
    "# Ejemplo de Agregación de Series temporale\n",
    "# De alta frecuencia a baja frecuencia\n",
    "\n",
    "# Despúes de cargar e identificar los datos que queremos trabajar, ahora debemos\n",
    "# pasarlos a al objeto \"ts\", de Time Series\n",
    "# Atributos del objeto\n",
    "    # data          corresponde al vector de valores numéricos o matriz de datos\n",
    "                    # un dataframe se convierte a data.matrix\n",
    "    # start         punto de inicio de la serie, puede ser fecha\n",
    "    # end           punto final de la serie\n",
    "    # frequency     numero de observaciones por periodo\n",
    "    # deltat        fración de la uestra del periodo entre las observaciones \n",
    "                    #(ej. mensual 1/12)\n",
    "    # ts.eps        tolerancia de comparación de la serie de tiempo\n",
    "                    # se consideran iguales las series si el valor absoluto de \n",
    "                    # las diferencias es menor que este indicador\n",
    "    # class         ts para serie simple, mts, ts o matrix para series múltiples\n"
   ]
  },
  {
   "cell_type": "code",
   "execution_count": 90,
   "metadata": {
    "slideshow": {
     "slide_type": "subslide"
    }
   },
   "outputs": [
    {
     "data": {
      "text/html": [
       "'ts'"
      ],
      "text/latex": [
       "'ts'"
      ],
      "text/markdown": [
       "'ts'"
      ],
      "text/plain": [
       "[1] \"ts\""
      ]
     },
     "metadata": {},
     "output_type": "display_data"
    },
    {
     "data": {
      "text/html": [
       "<table>\n",
       "<caption>A Time Series: 25 × 12</caption>\n",
       "<thead>\n",
       "\t<tr><th></th><th scope=col>Jan</th><th scope=col>Feb</th><th scope=col>Mar</th><th scope=col>Apr</th><th scope=col>May</th><th scope=col>Jun</th><th scope=col>Jul</th><th scope=col>Aug</th><th scope=col>Sep</th><th scope=col>Oct</th><th scope=col>Nov</th><th scope=col>Dec</th></tr>\n",
       "</thead>\n",
       "<tbody>\n",
       "\t<tr><th scope=row>1995</th><td> 10294.69</td><td> 10484.68</td><td> 11110.65</td><td> 11016.43</td><td> 11403.03</td><td> 11301.38</td><td> 11504.61</td><td> 11897.58</td><td> 12270.32</td><td> 12175.19</td><td> 12415.64</td><td> 12713.50</td></tr>\n",
       "\t<tr><th scope=row>1996</th><td> 13191.75</td><td> 13186.30</td><td> 13300.19</td><td> 13721.39</td><td> 13560.76</td><td> 13699.30</td><td> 13852.90</td><td> 13893.90</td><td> 14034.50</td><td> 14266.80</td><td> 14230.80</td><td> 14877.10</td></tr>\n",
       "\t<tr><th scope=row>1997</th><td> 15239.50</td><td> 15725.50</td><td> 15680.50</td><td> 16158.00</td><td> 16184.40</td><td> 16316.90</td><td> 16654.10</td><td> 17387.10</td><td> 17040.00</td><td> 17894.70</td><td> 18480.70</td><td> 18606.50</td></tr>\n",
       "\t<tr><th scope=row>1998</th><td> 19894.20</td><td> 19243.40</td><td> 20402.70</td><td> 20614.60</td><td> 20675.10</td><td> 21171.40</td><td> 21280.60</td><td> 21638.30</td><td> 21825.80</td><td> 22506.90</td><td> 22353.40</td><td> 22825.40</td></tr>\n",
       "\t<tr><th scope=row>1999</th><td> 22828.80</td><td> 22441.80</td><td> 22849.90</td><td> 23283.50</td><td> 23683.60</td><td> 23823.80</td><td> 23909.90</td><td> 24866.40</td><td> 24542.70</td><td> 24280.40</td><td> 24752.90</td><td> 25500.30</td></tr>\n",
       "\t<tr><th scope=row>2000</th><td> 25486.80</td><td> 25425.40</td><td> 25588.90</td><td> 25607.70</td><td> 25401.60</td><td> 25203.30</td><td> 25750.20</td><td> 26659.10</td><td> 26608.60</td><td> 25760.20</td><td> 26461.20</td><td> 27235.90</td></tr>\n",
       "\t<tr><th scope=row>2001</th><td> 28289.30</td><td> 28393.00</td><td> 29417.90</td><td> 28886.80</td><td> 29065.40</td><td> 29377.00</td><td> 28822.80</td><td> 29356.90</td><td> 30081.60</td><td> 30805.60</td><td> 30444.90</td><td> 31251.70</td></tr>\n",
       "\t<tr><th scope=row>2002</th><td> 30151.60</td><td> 30749.70</td><td> 31693.80</td><td> 30977.50</td><td> 31822.30</td><td> 32769.40</td><td> 31896.30</td><td> 32372.10</td><td> 32533.00</td><td> 31654.40</td><td> 31699.60</td><td> 32680.90</td></tr>\n",
       "\t<tr><th scope=row>2003</th><td> 31936.60</td><td> 32034.10</td><td> 32626.60</td><td> 32305.00</td><td> 33266.70</td><td> 34115.10</td><td> 33374.00</td><td> 34926.40</td><td> 35743.30</td><td> 35293.30</td><td> 35826.70</td><td> 36696.10</td></tr>\n",
       "\t<tr><th scope=row>2004</th><td> 35424.00</td><td> 35602.60</td><td> 36330.70</td><td> 35250.30</td><td> 35772.80</td><td> 36162.70</td><td> 36182.30</td><td> 37135.00</td><td> 37653.70</td><td> 39035.40</td><td> 39148.20</td><td> 40778.00</td></tr>\n",
       "\t<tr><th scope=row>2005</th><td> 40702.30</td><td> 41399.60</td><td> 42116.80</td><td> 43688.30</td><td> 44274.10</td><td> 45674.70</td><td> 45808.90</td><td> 46589.60</td><td> 46894.70</td><td> 47577.80</td><td> 50061.60</td><td> 50543.50</td></tr>\n",
       "\t<tr><th scope=row>2006</th><td> 50359.40</td><td> 51752.50</td><td> 52724.70</td><td> 53878.70</td><td> 55327.80</td><td> 56750.90</td><td> 57697.30</td><td> 59560.50</td><td> 60219.70</td><td> 61002.30</td><td> 62690.00</td><td> 65388.30</td></tr>\n",
       "\t<tr><th scope=row>2007</th><td> 64035.20</td><td> 65774.10</td><td> 66945.80</td><td> 67271.60</td><td> 68323.10</td><td> 70219.70</td><td> 71145.90</td><td> 72805.00</td><td> 74618.80</td><td> 76362.30</td><td> 78345.40</td><td> 81430.30</td></tr>\n",
       "\t<tr><th scope=row>2008</th><td> 79957.90</td><td> 81390.40</td><td> 80979.50</td><td> 81716.10</td><td> 82349.30</td><td> 82727.00</td><td> 81887.60</td><td> 82879.80</td><td> 83247.00</td><td> 84226.50</td><td> 84477.40</td><td> 85982.60</td></tr>\n",
       "\t<tr><th scope=row>2009</th><td> 85265.10</td><td> 86184.70</td><td> 85840.00</td><td> 85571.40</td><td> 85732.80</td><td> 86053.70</td><td> 85552.30</td><td> 86186.30</td><td> 86983.80</td><td> 86860.70</td><td> 87898.70</td><td> 89363.80</td></tr>\n",
       "\t<tr><th scope=row>2010</th><td> 88954.30</td><td> 88615.50</td><td> 87622.00</td><td> 88338.20</td><td> 87908.00</td><td> 90527.50</td><td> 91388.10</td><td> 91850.80</td><td> 93897.50</td><td> 94685.30</td><td> 96659.60</td><td> 99471.70</td></tr>\n",
       "\t<tr><th scope=row>2011</th><td> 98676.90</td><td> 99827.00</td><td> 99923.00</td><td>101428.20</td><td>101862.40</td><td>104795.50</td><td>105865.90</td><td>106195.00</td><td>108696.20</td><td>111055.40</td><td>113158.10</td><td>115488.10</td></tr>\n",
       "\t<tr><th scope=row>2012</th><td>114709.60</td><td>116631.30</td><td>117426.80</td><td>118256.00</td><td>119606.50</td><td>120731.10</td><td>121413.80</td><td>122596.20</td><td>123911.40</td><td>123600.80</td><td>126054.50</td><td>131492.50</td></tr>\n",
       "\t<tr><th scope=row>2013</th><td>130522.20</td><td>133154.10</td><td>133109.50</td><td>133069.50</td><td>134563.20</td><td>135933.50</td><td>137437.90</td><td>140083.80</td><td>142270.30</td><td>143727.10</td><td>147600.50</td><td>147420.70</td></tr>\n",
       "\t<tr><th scope=row>2014</th><td>145225.00</td><td>146638.70</td><td>148639.80</td><td>150778.00</td><td>152572.40</td><td>152982.60</td><td>153166.00</td><td>155051.20</td><td>155882.80</td><td>155881.50</td><td>157893.40</td><td>162608.40</td></tr>\n",
       "\t<tr><th scope=row>2015</th><td>165160.90</td><td>166008.30</td><td>167703.80</td><td>169565.30</td><td>170859.50</td><td>172214.70</td><td>173099.50</td><td>175314.50</td><td>174995.80</td><td>176762.00</td><td>178847.20</td><td>180978.90</td></tr>\n",
       "\t<tr><th scope=row>2016</th><td>181817.60</td><td>181453.50</td><td>180462.60</td><td>180870.10</td><td>180387.80</td><td>180629.70</td><td>180520.70</td><td>180119.50</td><td>181300.00</td><td>181473.30</td><td>185528.10</td><td>190851.50</td></tr>\n",
       "\t<tr><th scope=row>2017</th><td>187099.70</td><td>190612.70</td><td>191230.70</td><td>191603.70</td><td>192023.60</td><td>192603.10</td><td>191986.30</td><td>192052.40</td><td>192638.60</td><td>193122.70</td><td>195493.30</td><td>199373.60</td></tr>\n",
       "\t<tr><th scope=row>2018</th><td>197831.00</td><td>199282.50</td><td>201774.90</td><td>202552.10</td><td>204299.50</td><td>205762.20</td><td>206081.10</td><td>207696.70</td><td>212636.70</td><td>214047.00</td><td>218150.10</td><td>221409.30</td></tr>\n",
       "\t<tr><th scope=row>2019</th><td>219252.40</td><td>221451.30</td><td>223295.50</td><td>225097.10</td><td>226850.60</td><td>227741.20</td><td>227331.30</td><td>228574.30</td><td>230222.30</td><td>230410.00</td><td>233998.70</td><td>236501.10</td></tr>\n",
       "</tbody>\n",
       "</table>\n"
      ],
      "text/latex": [
       "A Time Series: 25 × 12\n",
       "\\begin{tabular}{r|llllllllllll}\n",
       "  & Jan & Feb & Mar & Apr & May & Jun & Jul & Aug & Sep & Oct & Nov & Dec\\\\\n",
       "\\hline\n",
       "\t1995 &  10294.69 &  10484.68 &  11110.65 &  11016.43 &  11403.03 &  11301.38 &  11504.61 &  11897.58 &  12270.32 &  12175.19 &  12415.64 &  12713.50\\\\\n",
       "\t1996 &  13191.75 &  13186.30 &  13300.19 &  13721.39 &  13560.76 &  13699.30 &  13852.90 &  13893.90 &  14034.50 &  14266.80 &  14230.80 &  14877.10\\\\\n",
       "\t1997 &  15239.50 &  15725.50 &  15680.50 &  16158.00 &  16184.40 &  16316.90 &  16654.10 &  17387.10 &  17040.00 &  17894.70 &  18480.70 &  18606.50\\\\\n",
       "\t1998 &  19894.20 &  19243.40 &  20402.70 &  20614.60 &  20675.10 &  21171.40 &  21280.60 &  21638.30 &  21825.80 &  22506.90 &  22353.40 &  22825.40\\\\\n",
       "\t1999 &  22828.80 &  22441.80 &  22849.90 &  23283.50 &  23683.60 &  23823.80 &  23909.90 &  24866.40 &  24542.70 &  24280.40 &  24752.90 &  25500.30\\\\\n",
       "\t2000 &  25486.80 &  25425.40 &  25588.90 &  25607.70 &  25401.60 &  25203.30 &  25750.20 &  26659.10 &  26608.60 &  25760.20 &  26461.20 &  27235.90\\\\\n",
       "\t2001 &  28289.30 &  28393.00 &  29417.90 &  28886.80 &  29065.40 &  29377.00 &  28822.80 &  29356.90 &  30081.60 &  30805.60 &  30444.90 &  31251.70\\\\\n",
       "\t2002 &  30151.60 &  30749.70 &  31693.80 &  30977.50 &  31822.30 &  32769.40 &  31896.30 &  32372.10 &  32533.00 &  31654.40 &  31699.60 &  32680.90\\\\\n",
       "\t2003 &  31936.60 &  32034.10 &  32626.60 &  32305.00 &  33266.70 &  34115.10 &  33374.00 &  34926.40 &  35743.30 &  35293.30 &  35826.70 &  36696.10\\\\\n",
       "\t2004 &  35424.00 &  35602.60 &  36330.70 &  35250.30 &  35772.80 &  36162.70 &  36182.30 &  37135.00 &  37653.70 &  39035.40 &  39148.20 &  40778.00\\\\\n",
       "\t2005 &  40702.30 &  41399.60 &  42116.80 &  43688.30 &  44274.10 &  45674.70 &  45808.90 &  46589.60 &  46894.70 &  47577.80 &  50061.60 &  50543.50\\\\\n",
       "\t2006 &  50359.40 &  51752.50 &  52724.70 &  53878.70 &  55327.80 &  56750.90 &  57697.30 &  59560.50 &  60219.70 &  61002.30 &  62690.00 &  65388.30\\\\\n",
       "\t2007 &  64035.20 &  65774.10 &  66945.80 &  67271.60 &  68323.10 &  70219.70 &  71145.90 &  72805.00 &  74618.80 &  76362.30 &  78345.40 &  81430.30\\\\\n",
       "\t2008 &  79957.90 &  81390.40 &  80979.50 &  81716.10 &  82349.30 &  82727.00 &  81887.60 &  82879.80 &  83247.00 &  84226.50 &  84477.40 &  85982.60\\\\\n",
       "\t2009 &  85265.10 &  86184.70 &  85840.00 &  85571.40 &  85732.80 &  86053.70 &  85552.30 &  86186.30 &  86983.80 &  86860.70 &  87898.70 &  89363.80\\\\\n",
       "\t2010 &  88954.30 &  88615.50 &  87622.00 &  88338.20 &  87908.00 &  90527.50 &  91388.10 &  91850.80 &  93897.50 &  94685.30 &  96659.60 &  99471.70\\\\\n",
       "\t2011 &  98676.90 &  99827.00 &  99923.00 & 101428.20 & 101862.40 & 104795.50 & 105865.90 & 106195.00 & 108696.20 & 111055.40 & 113158.10 & 115488.10\\\\\n",
       "\t2012 & 114709.60 & 116631.30 & 117426.80 & 118256.00 & 119606.50 & 120731.10 & 121413.80 & 122596.20 & 123911.40 & 123600.80 & 126054.50 & 131492.50\\\\\n",
       "\t2013 & 130522.20 & 133154.10 & 133109.50 & 133069.50 & 134563.20 & 135933.50 & 137437.90 & 140083.80 & 142270.30 & 143727.10 & 147600.50 & 147420.70\\\\\n",
       "\t2014 & 145225.00 & 146638.70 & 148639.80 & 150778.00 & 152572.40 & 152982.60 & 153166.00 & 155051.20 & 155882.80 & 155881.50 & 157893.40 & 162608.40\\\\\n",
       "\t2015 & 165160.90 & 166008.30 & 167703.80 & 169565.30 & 170859.50 & 172214.70 & 173099.50 & 175314.50 & 174995.80 & 176762.00 & 178847.20 & 180978.90\\\\\n",
       "\t2016 & 181817.60 & 181453.50 & 180462.60 & 180870.10 & 180387.80 & 180629.70 & 180520.70 & 180119.50 & 181300.00 & 181473.30 & 185528.10 & 190851.50\\\\\n",
       "\t2017 & 187099.70 & 190612.70 & 191230.70 & 191603.70 & 192023.60 & 192603.10 & 191986.30 & 192052.40 & 192638.60 & 193122.70 & 195493.30 & 199373.60\\\\\n",
       "\t2018 & 197831.00 & 199282.50 & 201774.90 & 202552.10 & 204299.50 & 205762.20 & 206081.10 & 207696.70 & 212636.70 & 214047.00 & 218150.10 & 221409.30\\\\\n",
       "\t2019 & 219252.40 & 221451.30 & 223295.50 & 225097.10 & 226850.60 & 227741.20 & 227331.30 & 228574.30 & 230222.30 & 230410.00 & 233998.70 & 236501.10\\\\\n",
       "\\end{tabular}\n"
      ],
      "text/markdown": [
       "\n",
       "A Time Series: 25 × 12\n",
       "\n",
       "| <!--/--> | Jan | Feb | Mar | Apr | May | Jun | Jul | Aug | Sep | Oct | Nov | Dec |\n",
       "|---|---|---|---|---|---|---|---|---|---|---|---|---|\n",
       "| 1995 |  10294.69 |  10484.68 |  11110.65 |  11016.43 |  11403.03 |  11301.38 |  11504.61 |  11897.58 |  12270.32 |  12175.19 |  12415.64 |  12713.50 |\n",
       "| 1996 |  13191.75 |  13186.30 |  13300.19 |  13721.39 |  13560.76 |  13699.30 |  13852.90 |  13893.90 |  14034.50 |  14266.80 |  14230.80 |  14877.10 |\n",
       "| 1997 |  15239.50 |  15725.50 |  15680.50 |  16158.00 |  16184.40 |  16316.90 |  16654.10 |  17387.10 |  17040.00 |  17894.70 |  18480.70 |  18606.50 |\n",
       "| 1998 |  19894.20 |  19243.40 |  20402.70 |  20614.60 |  20675.10 |  21171.40 |  21280.60 |  21638.30 |  21825.80 |  22506.90 |  22353.40 |  22825.40 |\n",
       "| 1999 |  22828.80 |  22441.80 |  22849.90 |  23283.50 |  23683.60 |  23823.80 |  23909.90 |  24866.40 |  24542.70 |  24280.40 |  24752.90 |  25500.30 |\n",
       "| 2000 |  25486.80 |  25425.40 |  25588.90 |  25607.70 |  25401.60 |  25203.30 |  25750.20 |  26659.10 |  26608.60 |  25760.20 |  26461.20 |  27235.90 |\n",
       "| 2001 |  28289.30 |  28393.00 |  29417.90 |  28886.80 |  29065.40 |  29377.00 |  28822.80 |  29356.90 |  30081.60 |  30805.60 |  30444.90 |  31251.70 |\n",
       "| 2002 |  30151.60 |  30749.70 |  31693.80 |  30977.50 |  31822.30 |  32769.40 |  31896.30 |  32372.10 |  32533.00 |  31654.40 |  31699.60 |  32680.90 |\n",
       "| 2003 |  31936.60 |  32034.10 |  32626.60 |  32305.00 |  33266.70 |  34115.10 |  33374.00 |  34926.40 |  35743.30 |  35293.30 |  35826.70 |  36696.10 |\n",
       "| 2004 |  35424.00 |  35602.60 |  36330.70 |  35250.30 |  35772.80 |  36162.70 |  36182.30 |  37135.00 |  37653.70 |  39035.40 |  39148.20 |  40778.00 |\n",
       "| 2005 |  40702.30 |  41399.60 |  42116.80 |  43688.30 |  44274.10 |  45674.70 |  45808.90 |  46589.60 |  46894.70 |  47577.80 |  50061.60 |  50543.50 |\n",
       "| 2006 |  50359.40 |  51752.50 |  52724.70 |  53878.70 |  55327.80 |  56750.90 |  57697.30 |  59560.50 |  60219.70 |  61002.30 |  62690.00 |  65388.30 |\n",
       "| 2007 |  64035.20 |  65774.10 |  66945.80 |  67271.60 |  68323.10 |  70219.70 |  71145.90 |  72805.00 |  74618.80 |  76362.30 |  78345.40 |  81430.30 |\n",
       "| 2008 |  79957.90 |  81390.40 |  80979.50 |  81716.10 |  82349.30 |  82727.00 |  81887.60 |  82879.80 |  83247.00 |  84226.50 |  84477.40 |  85982.60 |\n",
       "| 2009 |  85265.10 |  86184.70 |  85840.00 |  85571.40 |  85732.80 |  86053.70 |  85552.30 |  86186.30 |  86983.80 |  86860.70 |  87898.70 |  89363.80 |\n",
       "| 2010 |  88954.30 |  88615.50 |  87622.00 |  88338.20 |  87908.00 |  90527.50 |  91388.10 |  91850.80 |  93897.50 |  94685.30 |  96659.60 |  99471.70 |\n",
       "| 2011 |  98676.90 |  99827.00 |  99923.00 | 101428.20 | 101862.40 | 104795.50 | 105865.90 | 106195.00 | 108696.20 | 111055.40 | 113158.10 | 115488.10 |\n",
       "| 2012 | 114709.60 | 116631.30 | 117426.80 | 118256.00 | 119606.50 | 120731.10 | 121413.80 | 122596.20 | 123911.40 | 123600.80 | 126054.50 | 131492.50 |\n",
       "| 2013 | 130522.20 | 133154.10 | 133109.50 | 133069.50 | 134563.20 | 135933.50 | 137437.90 | 140083.80 | 142270.30 | 143727.10 | 147600.50 | 147420.70 |\n",
       "| 2014 | 145225.00 | 146638.70 | 148639.80 | 150778.00 | 152572.40 | 152982.60 | 153166.00 | 155051.20 | 155882.80 | 155881.50 | 157893.40 | 162608.40 |\n",
       "| 2015 | 165160.90 | 166008.30 | 167703.80 | 169565.30 | 170859.50 | 172214.70 | 173099.50 | 175314.50 | 174995.80 | 176762.00 | 178847.20 | 180978.90 |\n",
       "| 2016 | 181817.60 | 181453.50 | 180462.60 | 180870.10 | 180387.80 | 180629.70 | 180520.70 | 180119.50 | 181300.00 | 181473.30 | 185528.10 | 190851.50 |\n",
       "| 2017 | 187099.70 | 190612.70 | 191230.70 | 191603.70 | 192023.60 | 192603.10 | 191986.30 | 192052.40 | 192638.60 | 193122.70 | 195493.30 | 199373.60 |\n",
       "| 2018 | 197831.00 | 199282.50 | 201774.90 | 202552.10 | 204299.50 | 205762.20 | 206081.10 | 207696.70 | 212636.70 | 214047.00 | 218150.10 | 221409.30 |\n",
       "| 2019 | 219252.40 | 221451.30 | 223295.50 | 225097.10 | 226850.60 | 227741.20 | 227331.30 | 228574.30 | 230222.30 | 230410.00 | 233998.70 | 236501.10 |\n",
       "\n"
      ],
      "text/plain": [
       "     Jan       Feb       Mar       Apr       May       Jun       Jul      \n",
       "1995  10294.69  10484.68  11110.65  11016.43  11403.03  11301.38  11504.61\n",
       "1996  13191.75  13186.30  13300.19  13721.39  13560.76  13699.30  13852.90\n",
       "1997  15239.50  15725.50  15680.50  16158.00  16184.40  16316.90  16654.10\n",
       "1998  19894.20  19243.40  20402.70  20614.60  20675.10  21171.40  21280.60\n",
       "1999  22828.80  22441.80  22849.90  23283.50  23683.60  23823.80  23909.90\n",
       "2000  25486.80  25425.40  25588.90  25607.70  25401.60  25203.30  25750.20\n",
       "2001  28289.30  28393.00  29417.90  28886.80  29065.40  29377.00  28822.80\n",
       "2002  30151.60  30749.70  31693.80  30977.50  31822.30  32769.40  31896.30\n",
       "2003  31936.60  32034.10  32626.60  32305.00  33266.70  34115.10  33374.00\n",
       "2004  35424.00  35602.60  36330.70  35250.30  35772.80  36162.70  36182.30\n",
       "2005  40702.30  41399.60  42116.80  43688.30  44274.10  45674.70  45808.90\n",
       "2006  50359.40  51752.50  52724.70  53878.70  55327.80  56750.90  57697.30\n",
       "2007  64035.20  65774.10  66945.80  67271.60  68323.10  70219.70  71145.90\n",
       "2008  79957.90  81390.40  80979.50  81716.10  82349.30  82727.00  81887.60\n",
       "2009  85265.10  86184.70  85840.00  85571.40  85732.80  86053.70  85552.30\n",
       "2010  88954.30  88615.50  87622.00  88338.20  87908.00  90527.50  91388.10\n",
       "2011  98676.90  99827.00  99923.00 101428.20 101862.40 104795.50 105865.90\n",
       "2012 114709.60 116631.30 117426.80 118256.00 119606.50 120731.10 121413.80\n",
       "2013 130522.20 133154.10 133109.50 133069.50 134563.20 135933.50 137437.90\n",
       "2014 145225.00 146638.70 148639.80 150778.00 152572.40 152982.60 153166.00\n",
       "2015 165160.90 166008.30 167703.80 169565.30 170859.50 172214.70 173099.50\n",
       "2016 181817.60 181453.50 180462.60 180870.10 180387.80 180629.70 180520.70\n",
       "2017 187099.70 190612.70 191230.70 191603.70 192023.60 192603.10 191986.30\n",
       "2018 197831.00 199282.50 201774.90 202552.10 204299.50 205762.20 206081.10\n",
       "2019 219252.40 221451.30 223295.50 225097.10 226850.60 227741.20 227331.30\n",
       "     Aug       Sep       Oct       Nov       Dec      \n",
       "1995  11897.58  12270.32  12175.19  12415.64  12713.50\n",
       "1996  13893.90  14034.50  14266.80  14230.80  14877.10\n",
       "1997  17387.10  17040.00  17894.70  18480.70  18606.50\n",
       "1998  21638.30  21825.80  22506.90  22353.40  22825.40\n",
       "1999  24866.40  24542.70  24280.40  24752.90  25500.30\n",
       "2000  26659.10  26608.60  25760.20  26461.20  27235.90\n",
       "2001  29356.90  30081.60  30805.60  30444.90  31251.70\n",
       "2002  32372.10  32533.00  31654.40  31699.60  32680.90\n",
       "2003  34926.40  35743.30  35293.30  35826.70  36696.10\n",
       "2004  37135.00  37653.70  39035.40  39148.20  40778.00\n",
       "2005  46589.60  46894.70  47577.80  50061.60  50543.50\n",
       "2006  59560.50  60219.70  61002.30  62690.00  65388.30\n",
       "2007  72805.00  74618.80  76362.30  78345.40  81430.30\n",
       "2008  82879.80  83247.00  84226.50  84477.40  85982.60\n",
       "2009  86186.30  86983.80  86860.70  87898.70  89363.80\n",
       "2010  91850.80  93897.50  94685.30  96659.60  99471.70\n",
       "2011 106195.00 108696.20 111055.40 113158.10 115488.10\n",
       "2012 122596.20 123911.40 123600.80 126054.50 131492.50\n",
       "2013 140083.80 142270.30 143727.10 147600.50 147420.70\n",
       "2014 155051.20 155882.80 155881.50 157893.40 162608.40\n",
       "2015 175314.50 174995.80 176762.00 178847.20 180978.90\n",
       "2016 180119.50 181300.00 181473.30 185528.10 190851.50\n",
       "2017 192052.40 192638.60 193122.70 195493.30 199373.60\n",
       "2018 207696.70 212636.70 214047.00 218150.10 221409.30\n",
       "2019 228574.30 230222.30 230410.00 233998.70 236501.10"
      ]
     },
     "metadata": {},
     "output_type": "display_data"
    }
   ],
   "source": [
    "# Ejemplo de serie mensual\n",
    "tsaf = ts(af, start= c(1995, 1), end= c(2019, 12),  frequency=12, deltat=1/12, ts.eps = 0.05, class = \"ts\")\n",
    "class(tsaf)\n",
    "tsaf"
   ]
  },
  {
   "cell_type": "code",
   "execution_count": 91,
   "metadata": {
    "slideshow": {
     "slide_type": "subslide"
    }
   },
   "outputs": [
    {
     "data": {
      "image/png": "[encoded data removed]",
      "text/plain": [
       "plot without title"
      ]
     },
     "metadata": {
      "image/png": {
       "height": 420,
       "width": 420
      },
      "text/plain": {
       "height": 420,
       "width": 420
      }
     },
     "output_type": "display_data"
    }
   ],
   "source": [
    "# Graficamos\n",
    "plot(tsaf, col = \"red\")"
   ]
  },
  {
   "cell_type": "code",
   "execution_count": 92,
   "metadata": {
    "slideshow": {
     "slide_type": "slide"
    }
   },
   "outputs": [],
   "source": [
    "# Agregación\n",
    "# Usamos ta de Temporal Aggregation\n",
    "# Criterios de agregación\n",
    "    # sum           Para que la agregación indicada sea de forma suma\n",
    "    # average       Para que la agregación sea de tipo promedio\n",
    "    # first         Para que la agregación tome solo el primer valor\n",
    "    # last          Para que la agregación tome solo el último valor\n",
    "\n",
    "# Ejemplo de agregación de serie mensual a diferentes niveles\n",
    "# Agregación\n",
    "    # 1 = anual, 2 = semestral, 3 = cuatrimestre, 4 = trimestre, 6 = bimestre\n"
   ]
  },
  {
   "cell_type": "code",
   "execution_count": 93,
   "metadata": {
    "slideshow": {
     "slide_type": "subslide"
    }
   },
   "outputs": [
    {
     "data": {
      "image/png": "[encoded data removed]",
      "text/plain": [
       "plot without title"
      ]
     },
     "metadata": {
      "image/png": {
       "height": 420,
       "width": 420
      },
      "text/plain": {
       "height": 420,
       "width": 420
      }
     },
     "output_type": "display_data"
    }
   ],
   "source": [
    "# Ejemplo de agregación de serie mensual a diferentes niveles\n",
    "# Agregación\n",
    "    # 1 = anual, 2 = semestral, 3 = cuatrimestre, 4 = trimestre, 6 = bimestre\n",
    "\n",
    "agg = 1\n",
    "\n",
    "ta_suma = ta(tsaf, conversion = \"sum\", to = agg)\n",
    "ta_average = ta(tsaf, conversion = \"average\", to = agg)\n",
    "ta_last = ta(tsaf, conversion = \"last\", to = agg)\n",
    "ta_first = ta(tsaf, conversion = \"first\", to = agg)\n",
    "\n",
    "# Graficas\n",
    "plot(ta_suma, col = \"darkgreen\")\n"
   ]
  },
  {
   "cell_type": "code",
   "execution_count": 94,
   "metadata": {
    "slideshow": {
     "slide_type": "subslide"
    }
   },
   "outputs": [
    {
     "data": {
      "image/png": "[encoded data removed]",
      "text/plain": [
       "plot without title"
      ]
     },
     "metadata": {
      "image/png": {
       "height": 420,
       "width": 420
      },
      "text/plain": {
       "height": 420,
       "width": 420
      }
     },
     "output_type": "display_data"
    }
   ],
   "source": [
    "plot(ta_average, col = \"navyblue\")\n",
    "lines(ta_first, col = \"brown\")\n",
    "lines(ta_last, col = \"red\")\n",
    "\n",
    "# Si aplicamos esta función a una salida de td, el resultado es la serie original."
   ]
  },
  {
   "cell_type": "code",
   "execution_count": 95,
   "metadata": {
    "slideshow": {
     "slide_type": "subslide"
    }
   },
   "outputs": [],
   "source": [
    "# Para grupos de series de tiempo\n",
    "# Matriz\n",
    "\n",
    "# Extraemos los datos\n",
    "af1 = d_af$TOTAL\n",
    "af2 = d_af$PUBLICO\n",
    "af3 = d_af$PRIVADO"
   ]
  },
  {
   "cell_type": "code",
   "execution_count": 96,
   "metadata": {
    "slideshow": {
     "slide_type": "subslide"
    }
   },
   "outputs": [
    {
     "data": {
      "text/html": [
       "<table>\n",
       "<caption>A Time Series: 300 × 3</caption>\n",
       "<thead>\n",
       "\t<tr><th></th><th scope=col>Series 1</th><th scope=col>Series 2</th><th scope=col>Series 3</th></tr>\n",
       "</thead>\n",
       "<tbody>\n",
       "\t<tr><th scope=row>Jan 1995</th><td> 10294.69</td><td>  458.7</td><td>  9835.99</td></tr>\n",
       "\t<tr><th scope=row>Feb 1995</th><td> 10484.68</td><td>  393.9</td><td> 10090.78</td></tr>\n",
       "\t<tr><th scope=row>Mar 1995</th><td> 11110.65</td><td>  698.9</td><td> 10411.75</td></tr>\n",
       "\t<tr><th scope=row>Apr 1995</th><td> 11016.43</td><td>  405.7</td><td> 10610.73</td></tr>\n",
       "\t<tr><th scope=row>May 1995</th><td> 11403.03</td><td>  566.7</td><td> 10836.33</td></tr>\n",
       "\t<tr><th scope=row>Jun 1995</th><td> 11301.38</td><td>  266.7</td><td> 11034.68</td></tr>\n",
       "\t<tr><th scope=row>Jul 1995</th><td> 11504.61</td><td>  354.7</td><td> 11149.91</td></tr>\n",
       "\t<tr><th scope=row>Aug 1995</th><td> 11897.58</td><td>  588.2</td><td> 11309.38</td></tr>\n",
       "\t<tr><th scope=row>Sep 1995</th><td> 12270.32</td><td>  770.1</td><td> 11500.22</td></tr>\n",
       "\t<tr><th scope=row>Oct 1995</th><td> 12175.19</td><td>  307.1</td><td> 11868.09</td></tr>\n",
       "\t<tr><th scope=row>Nov 1995</th><td> 12415.64</td><td>  238.7</td><td> 12176.94</td></tr>\n",
       "\t<tr><th scope=row>Dec 1995</th><td> 12713.50</td><td>  234.1</td><td> 12479.40</td></tr>\n",
       "\t<tr><th scope=row>Jan 1996</th><td> 13191.75</td><td>  520.4</td><td> 12671.35</td></tr>\n",
       "\t<tr><th scope=row>Feb 1996</th><td> 13186.30</td><td>  402.5</td><td> 12783.80</td></tr>\n",
       "\t<tr><th scope=row>Mar 1996</th><td> 13300.19</td><td>  342.6</td><td> 12957.59</td></tr>\n",
       "\t<tr><th scope=row>Apr 1996</th><td> 13721.39</td><td>  620.8</td><td> 13100.59</td></tr>\n",
       "\t<tr><th scope=row>May 1996</th><td> 13560.76</td><td>  357.9</td><td> 13202.86</td></tr>\n",
       "\t<tr><th scope=row>Jun 1996</th><td> 13699.30</td><td>  456.8</td><td> 13242.50</td></tr>\n",
       "\t<tr><th scope=row>Jul 1996</th><td> 13852.90</td><td>  454.5</td><td> 13398.40</td></tr>\n",
       "\t<tr><th scope=row>Aug 1996</th><td> 13893.90</td><td>  520.5</td><td> 13373.40</td></tr>\n",
       "\t<tr><th scope=row>Sep 1996</th><td> 14034.50</td><td>  529.0</td><td> 13505.50</td></tr>\n",
       "\t<tr><th scope=row>Oct 1996</th><td> 14266.80</td><td>  690.1</td><td> 13576.70</td></tr>\n",
       "\t<tr><th scope=row>Nov 1996</th><td> 14230.80</td><td>  552.3</td><td> 13678.50</td></tr>\n",
       "\t<tr><th scope=row>Dec 1996</th><td> 14877.10</td><td>  869.9</td><td> 14007.20</td></tr>\n",
       "\t<tr><th scope=row>Jan 1997</th><td> 15239.50</td><td> 1182.7</td><td> 14056.80</td></tr>\n",
       "\t<tr><th scope=row>Feb 1997</th><td> 15725.50</td><td> 1371.8</td><td> 14353.70</td></tr>\n",
       "\t<tr><th scope=row>Mar 1997</th><td> 15680.50</td><td> 1396.2</td><td> 14284.30</td></tr>\n",
       "\t<tr><th scope=row>Apr 1997</th><td> 16158.00</td><td> 1760.0</td><td> 14398.00</td></tr>\n",
       "\t<tr><th scope=row>May 1997</th><td> 16184.40</td><td> 1805.7</td><td> 14378.70</td></tr>\n",
       "\t<tr><th scope=row>Jun 1997</th><td> 16316.90</td><td> 1830.3</td><td> 14486.60</td></tr>\n",
       "\t<tr><th scope=row>Jul 1997</th><td> 16654.10</td><td> 1890.2</td><td> 14763.90</td></tr>\n",
       "\t<tr><th scope=row>Aug 1997</th><td> 17387.10</td><td> 2347.3</td><td> 15039.80</td></tr>\n",
       "\t<tr><th scope=row>Sep 1997</th><td> 17040.00</td><td> 1756.2</td><td> 15283.80</td></tr>\n",
       "\t<tr><th scope=row>Oct 1997</th><td> 17894.70</td><td> 2246.4</td><td> 15648.30</td></tr>\n",
       "\t<tr><th scope=row>Nov 1997</th><td> 18480.70</td><td> 2250.1</td><td> 16230.60</td></tr>\n",
       "\t<tr><th scope=row>Dec 1997</th><td> 18606.50</td><td> 2002.4</td><td> 16604.10</td></tr>\n",
       "\t<tr><th scope=row>Jan 1998</th><td> 19894.20</td><td> 3105.3</td><td> 16788.90</td></tr>\n",
       "\t<tr><th scope=row>Feb 1998</th><td> 19243.40</td><td> 2049.7</td><td> 17193.70</td></tr>\n",
       "\t<tr><th scope=row>Mar 1998</th><td> 20402.70</td><td> 3038.6</td><td> 17364.10</td></tr>\n",
       "\t<tr><th scope=row>Apr 1998</th><td> 20614.60</td><td> 2868.4</td><td> 17746.20</td></tr>\n",
       "\t<tr><th scope=row>May 1998</th><td> 20675.10</td><td> 2459.4</td><td> 18215.70</td></tr>\n",
       "\t<tr><th scope=row>Jun 1998</th><td> 21171.40</td><td> 2827.6</td><td> 18343.80</td></tr>\n",
       "\t<tr><th scope=row>Jul 1998</th><td> 21280.60</td><td> 2494.5</td><td> 18786.10</td></tr>\n",
       "\t<tr><th scope=row>Aug 1998</th><td> 21638.30</td><td> 2431.1</td><td> 19207.20</td></tr>\n",
       "\t<tr><th scope=row>Sep 1998</th><td> 21825.80</td><td> 1981.1</td><td> 19844.70</td></tr>\n",
       "\t<tr><th scope=row>Oct 1998</th><td> 22506.90</td><td> 1912.8</td><td> 20594.10</td></tr>\n",
       "\t<tr><th scope=row>Nov 1998</th><td> 22353.40</td><td> 1290.8</td><td> 21062.60</td></tr>\n",
       "\t<tr><th scope=row>Dec 1998</th><td> 22825.40</td><td> 1681.0</td><td> 21144.40</td></tr>\n",
       "\t<tr><th scope=row>Jan 1999</th><td> 22828.80</td><td> 1408.5</td><td> 21420.30</td></tr>\n",
       "\t<tr><th scope=row>Feb 1999</th><td> 22441.80</td><td> 1004.2</td><td> 21437.60</td></tr>\n",
       "\t<tr><th scope=row>Mar 1999</th><td> 22849.90</td><td> 1004.6</td><td> 21845.30</td></tr>\n",
       "\t<tr><th scope=row>Apr 1999</th><td> 23283.50</td><td> 1065.1</td><td> 22218.40</td></tr>\n",
       "\t<tr><th scope=row>May 1999</th><td> 23683.60</td><td> 1297.4</td><td> 22386.20</td></tr>\n",
       "\t<tr><th scope=row>Jun 1999</th><td> 23823.80</td><td> 1251.1</td><td> 22572.70</td></tr>\n",
       "\t<tr><th scope=row>Jul 1999</th><td> 23909.90</td><td> 1208.3</td><td> 22701.60</td></tr>\n",
       "\t<tr><th scope=row>Aug 1999</th><td> 24866.40</td><td> 1712.8</td><td> 23153.60</td></tr>\n",
       "\t<tr><th scope=row>Sep 1999</th><td> 24542.70</td><td> 1344.3</td><td> 23198.40</td></tr>\n",
       "\t<tr><th scope=row>Oct 1999</th><td> 24280.40</td><td>  953.8</td><td> 23326.60</td></tr>\n",
       "\t<tr><th scope=row>Nov 1999</th><td> 24752.90</td><td> 1006.3</td><td> 23746.60</td></tr>\n",
       "\t<tr><th scope=row>Dec 1999</th><td> 25500.30</td><td> 1400.4</td><td> 24099.90</td></tr>\n",
       "\t<tr><th scope=row>Jan 2000</th><td> 25486.80</td><td> 1159.1</td><td> 24327.70</td></tr>\n",
       "\t<tr><th scope=row>Feb 2000</th><td> 25425.40</td><td>  959.6</td><td> 24465.80</td></tr>\n",
       "\t<tr><th scope=row>Mar 2000</th><td> 25588.90</td><td> 1401.0</td><td> 24187.90</td></tr>\n",
       "\t<tr><th scope=row>Apr 2000</th><td> 25607.70</td><td> 1478.6</td><td> 24129.10</td></tr>\n",
       "\t<tr><th scope=row>May 2000</th><td> 25401.60</td><td> 1373.6</td><td> 24028.00</td></tr>\n",
       "\t<tr><th scope=row>Jun 2000</th><td> 25203.30</td><td> 1165.3</td><td> 24038.00</td></tr>\n",
       "\t<tr><th scope=row>Jul 2000</th><td> 25750.20</td><td> 1509.1</td><td> 24241.10</td></tr>\n",
       "\t<tr><th scope=row>Aug 2000</th><td> 26659.10</td><td> 1745.9</td><td> 24913.20</td></tr>\n",
       "\t<tr><th scope=row>Sep 2000</th><td> 26608.60</td><td> 1456.7</td><td> 25151.90</td></tr>\n",
       "\t<tr><th scope=row>Oct 2000</th><td> 25760.20</td><td>   72.4</td><td> 25687.80</td></tr>\n",
       "\t<tr><th scope=row>Nov 2000</th><td> 26461.20</td><td>  384.7</td><td> 26076.50</td></tr>\n",
       "\t<tr><th scope=row>Dec 2000</th><td> 27235.90</td><td>  796.0</td><td> 26439.90</td></tr>\n",
       "\t<tr><th scope=row>Jan 2001</th><td> 28289.30</td><td> 1721.2</td><td> 26568.10</td></tr>\n",
       "\t<tr><th scope=row>Feb 2001</th><td> 28393.00</td><td> 1801.7</td><td> 26591.30</td></tr>\n",
       "\t<tr><th scope=row>Mar 2001</th><td> 29417.90</td><td> 2503.8</td><td> 26914.10</td></tr>\n",
       "\t<tr><th scope=row>Apr 2001</th><td> 28886.80</td><td> 1962.0</td><td> 26924.80</td></tr>\n",
       "\t<tr><th scope=row>May 2001</th><td> 29065.40</td><td> 1871.7</td><td> 27193.70</td></tr>\n",
       "\t<tr><th scope=row>Jun 2001</th><td> 29377.00</td><td> 1900.8</td><td> 27476.20</td></tr>\n",
       "\t<tr><th scope=row>Jul 2001</th><td> 28822.80</td><td> 1335.4</td><td> 27487.40</td></tr>\n",
       "\t<tr><th scope=row>Aug 2001</th><td> 29356.90</td><td> 1723.7</td><td> 27633.20</td></tr>\n",
       "\t<tr><th scope=row>Sep 2001</th><td> 30081.60</td><td> 1996.5</td><td> 28085.10</td></tr>\n",
       "\t<tr><th scope=row>Oct 2001</th><td> 30805.60</td><td> 1824.2</td><td> 28981.50</td></tr>\n",
       "\t<tr><th scope=row>Nov 2001</th><td> 30444.90</td><td> 1071.2</td><td> 29373.70</td></tr>\n",
       "\t<tr><th scope=row>Dec 2001</th><td> 31251.70</td><td>  969.8</td><td> 30281.90</td></tr>\n",
       "\t<tr><th scope=row>Jan 2002</th><td> 30151.60</td><td>   31.3</td><td> 30120.30</td></tr>\n",
       "\t<tr><th scope=row>Feb 2002</th><td> 30749.70</td><td>  299.2</td><td> 30450.50</td></tr>\n",
       "\t<tr><th scope=row>Mar 2002</th><td> 31693.80</td><td> 1153.5</td><td> 30540.30</td></tr>\n",
       "\t<tr><th scope=row>Apr 2002</th><td> 30977.50</td><td>  436.4</td><td> 30541.10</td></tr>\n",
       "\t<tr><th scope=row>May 2002</th><td> 31822.30</td><td> 1150.9</td><td> 30671.40</td></tr>\n",
       "\t<tr><th scope=row>Jun 2002</th><td> 32769.40</td><td> 1411.5</td><td> 31357.90</td></tr>\n",
       "\t<tr><th scope=row>Jul 2002</th><td> 31896.30</td><td>  521.0</td><td> 31375.30</td></tr>\n",
       "\t<tr><th scope=row>Aug 2002</th><td> 32372.10</td><td>  870.2</td><td> 31501.90</td></tr>\n",
       "\t<tr><th scope=row>Sep 2002</th><td> 32533.00</td><td> 1082.7</td><td> 31450.30</td></tr>\n",
       "\t<tr><th scope=row>Oct 2002</th><td> 31654.40</td><td>    1.3</td><td> 31653.10</td></tr>\n",
       "\t<tr><th scope=row>Nov 2002</th><td> 31699.60</td><td> -245.8</td><td> 31945.40</td></tr>\n",
       "\t<tr><th scope=row>Dec 2002</th><td> 32680.90</td><td>  149.7</td><td> 32531.20</td></tr>\n",
       "\t<tr><th scope=row>Jan 2003</th><td> 31936.60</td><td> -499.6</td><td> 32436.20</td></tr>\n",
       "\t<tr><th scope=row>Feb 2003</th><td> 32034.10</td><td> -345.5</td><td> 32379.60</td></tr>\n",
       "\t<tr><th scope=row>Mar 2003</th><td> 32626.60</td><td> -180.2</td><td> 32806.80</td></tr>\n",
       "\t<tr><th scope=row>Apr 2003</th><td> 32305.00</td><td> -733.0</td><td> 33038.00</td></tr>\n",
       "\t<tr><th scope=row>May 2003</th><td> 33266.70</td><td> -237.5</td><td> 33504.20</td></tr>\n",
       "\t<tr><th scope=row>Jun 2003</th><td> 34115.10</td><td>  616.5</td><td> 33498.60</td></tr>\n",
       "\t<tr><th scope=row>Jul 2003</th><td> 33374.00</td><td> -130.7</td><td> 33504.70</td></tr>\n",
       "\t<tr><th scope=row>Aug 2003</th><td> 34926.40</td><td> 1085.1</td><td> 33841.30</td></tr>\n",
       "\t<tr><th scope=row>Sep 2003</th><td> 35743.30</td><td> 1514.4</td><td> 34228.90</td></tr>\n",
       "\t<tr><th scope=row>Oct 2003</th><td> 35293.30</td><td>  539.8</td><td> 34753.50</td></tr>\n",
       "\t<tr><th scope=row>Nov 2003</th><td> 35826.70</td><td>  698.4</td><td> 35128.30</td></tr>\n",
       "\t<tr><th scope=row>Dec 2003</th><td> 36696.10</td><td> 1251.9</td><td> 35444.20</td></tr>\n",
       "\t<tr><th scope=row>Jan 2004</th><td> 35424.00</td><td>  964.5</td><td> 35671.70</td></tr>\n",
       "\t<tr><th scope=row>Feb 2004</th><td> 35602.60</td><td> 1022.9</td><td> 35877.60</td></tr>\n",
       "\t<tr><th scope=row>Mar 2004</th><td> 36330.70</td><td> 1551.8</td><td> 36119.30</td></tr>\n",
       "\t<tr><th scope=row>Apr 2004</th><td> 35250.30</td><td>  145.1</td><td> 35105.20</td></tr>\n",
       "\t<tr><th scope=row>May 2004</th><td> 35772.80</td><td>  263.5</td><td> 35509.30</td></tr>\n",
       "\t<tr><th scope=row>Jun 2004</th><td> 36162.70</td><td>  517.8</td><td> 35644.90</td></tr>\n",
       "\t<tr><th scope=row>Jul 2004</th><td> 36182.30</td><td>   75.3</td><td> 36107.00</td></tr>\n",
       "\t<tr><th scope=row>Aug 2004</th><td> 37135.00</td><td> 1007.4</td><td> 36127.60</td></tr>\n",
       "\t<tr><th scope=row>Sep 2004</th><td> 37653.70</td><td>  620.0</td><td> 37033.70</td></tr>\n",
       "\t<tr><th scope=row>Oct 2004</th><td> 39035.40</td><td> 1483.3</td><td> 37552.00</td></tr>\n",
       "\t<tr><th scope=row>Nov 2004</th><td> 39148.20</td><td>  581.4</td><td> 38566.80</td></tr>\n",
       "\t<tr><th scope=row>Dec 2004</th><td> 40778.00</td><td> 1005.7</td><td> 39772.30</td></tr>\n",
       "\t<tr><th scope=row>Jan 2005</th><td> 40702.30</td><td>  688.7</td><td> 40013.60</td></tr>\n",
       "\t<tr><th scope=row>Feb 2005</th><td> 41399.60</td><td>  971.2</td><td> 40428.40</td></tr>\n",
       "\t<tr><th scope=row>Mar 2005</th><td> 42116.80</td><td> 1370.3</td><td> 40746.50</td></tr>\n",
       "\t<tr><th scope=row>Apr 2005</th><td> 43688.30</td><td> 2522.9</td><td> 41165.40</td></tr>\n",
       "\t<tr><th scope=row>May 2005</th><td> 44274.10</td><td> 2722.2</td><td> 41551.90</td></tr>\n",
       "\t<tr><th scope=row>Jun 2005</th><td> 45674.70</td><td> 3169.9</td><td> 42504.80</td></tr>\n",
       "\t<tr><th scope=row>Jul 2005</th><td> 45808.90</td><td> 2565.6</td><td> 43243.30</td></tr>\n",
       "\t<tr><th scope=row>Aug 2005</th><td> 46589.60</td><td> 2918.6</td><td> 43671.00</td></tr>\n",
       "\t<tr><th scope=row>Sep 2005</th><td> 46894.70</td><td> 2588.2</td><td> 44306.50</td></tr>\n",
       "\t<tr><th scope=row>Oct 2005</th><td> 47577.80</td><td> 2283.6</td><td> 45294.20</td></tr>\n",
       "\t<tr><th scope=row>Nov 2005</th><td> 50061.60</td><td> 3112.9</td><td> 46948.70</td></tr>\n",
       "\t<tr><th scope=row>Dec 2005</th><td> 50543.50</td><td> 2266.2</td><td> 48277.30</td></tr>\n",
       "\t<tr><th scope=row>Jan 2006</th><td> 50359.40</td><td> 1394.1</td><td> 48965.30</td></tr>\n",
       "\t<tr><th scope=row>Feb 2006</th><td> 51752.50</td><td> 1763.7</td><td> 49988.80</td></tr>\n",
       "\t<tr><th scope=row>Mar 2006</th><td> 52724.70</td><td> 1803.4</td><td> 50921.30</td></tr>\n",
       "\t<tr><th scope=row>Apr 2006</th><td> 53878.70</td><td> 2038.3</td><td> 51840.40</td></tr>\n",
       "\t<tr><th scope=row>May 2006</th><td> 55327.80</td><td> 2485.4</td><td> 52842.40</td></tr>\n",
       "\t<tr><th scope=row>Jun 2006</th><td> 56750.90</td><td> 2744.1</td><td> 54006.80</td></tr>\n",
       "\t<tr><th scope=row>Jul 2006</th><td> 57697.30</td><td> 2863.7</td><td> 54833.60</td></tr>\n",
       "\t<tr><th scope=row>Aug 2006</th><td> 59560.50</td><td> 3582.4</td><td> 55978.10</td></tr>\n",
       "\t<tr><th scope=row>Sep 2006</th><td> 60219.70</td><td> 3107.5</td><td> 57112.20</td></tr>\n",
       "\t<tr><th scope=row>Oct 2006</th><td> 61002.30</td><td> 2055.0</td><td> 58947.30</td></tr>\n",
       "\t<tr><th scope=row>Nov 2006</th><td> 62690.00</td><td> 2094.6</td><td> 60595.40</td></tr>\n",
       "\t<tr><th scope=row>Dec 2006</th><td> 65388.30</td><td> 3031.1</td><td> 62357.20</td></tr>\n",
       "\t<tr><th scope=row>Jan 2007</th><td> 64035.20</td><td>  613.8</td><td> 63421.40</td></tr>\n",
       "\t<tr><th scope=row>Feb 2007</th><td> 65774.10</td><td> 1393.3</td><td> 64380.80</td></tr>\n",
       "\t<tr><th scope=row>Mar 2007</th><td> 66945.80</td><td> 1447.1</td><td> 65498.70</td></tr>\n",
       "\t<tr><th scope=row>Apr 2007</th><td> 67271.60</td><td> 1186.8</td><td> 66084.80</td></tr>\n",
       "\t<tr><th scope=row>May 2007</th><td> 68323.10</td><td> 1321.8</td><td> 67001.30</td></tr>\n",
       "\t<tr><th scope=row>Jun 2007</th><td> 70219.70</td><td> 1752.0</td><td> 68467.70</td></tr>\n",
       "\t<tr><th scope=row>Jul 2007</th><td> 71145.90</td><td> 1256.7</td><td> 69889.20</td></tr>\n",
       "\t<tr><th scope=row>Aug 2007</th><td> 72805.00</td><td> 1735.8</td><td> 71069.20</td></tr>\n",
       "\t<tr><th scope=row>Sep 2007</th><td> 74618.80</td><td> 2068.2</td><td> 72550.60</td></tr>\n",
       "\t<tr><th scope=row>Oct 2007</th><td> 76362.30</td><td> 1809.7</td><td> 74552.60</td></tr>\n",
       "\t<tr><th scope=row>Nov 2007</th><td> 78345.40</td><td> 1855.2</td><td> 76490.20</td></tr>\n",
       "\t<tr><th scope=row>Dec 2007</th><td> 81430.30</td><td> 2863.3</td><td> 78567.00</td></tr>\n",
       "\t<tr><th scope=row>Jan 2008</th><td> 79957.90</td><td>  994.0</td><td> 78963.90</td></tr>\n",
       "\t<tr><th scope=row>Feb 2008</th><td> 81390.40</td><td> 1766.5</td><td> 79623.90</td></tr>\n",
       "\t<tr><th scope=row>Mar 2008</th><td> 80979.50</td><td>  979.5</td><td> 80000.00</td></tr>\n",
       "\t<tr><th scope=row>Apr 2008</th><td> 81716.10</td><td> 1082.3</td><td> 80633.80</td></tr>\n",
       "\t<tr><th scope=row>May 2008</th><td> 82349.30</td><td> 1150.2</td><td> 81199.10</td></tr>\n",
       "\t<tr><th scope=row>Jun 2008</th><td> 82727.00</td><td>  901.2</td><td> 81825.80</td></tr>\n",
       "\t<tr><th scope=row>Jul 2008</th><td> 81887.60</td><td> -557.0</td><td> 82444.60</td></tr>\n",
       "\t<tr><th scope=row>Aug 2008</th><td> 82879.80</td><td>  -94.3</td><td> 82974.10</td></tr>\n",
       "\t<tr><th scope=row>Sep 2008</th><td> 83247.00</td><td> -589.6</td><td> 83836.60</td></tr>\n",
       "\t<tr><th scope=row>Oct 2008</th><td> 84226.50</td><td> -354.8</td><td> 84581.30</td></tr>\n",
       "\t<tr><th scope=row>Nov 2008</th><td> 84477.40</td><td>-1154.1</td><td> 85631.50</td></tr>\n",
       "\t<tr><th scope=row>Dec 2008</th><td> 85982.60</td><td>-1226.8</td><td> 87209.40</td></tr>\n",
       "\t<tr><th scope=row>Jan 2009</th><td> 85265.10</td><td>-2075.7</td><td> 87340.80</td></tr>\n",
       "\t<tr><th scope=row>Feb 2009</th><td> 86184.70</td><td>-1124.7</td><td> 87309.40</td></tr>\n",
       "\t<tr><th scope=row>Mar 2009</th><td> 85840.00</td><td>-1591.0</td><td> 87431.00</td></tr>\n",
       "\t<tr><th scope=row>Apr 2009</th><td> 85571.40</td><td>-1637.2</td><td> 87208.60</td></tr>\n",
       "\t<tr><th scope=row>May 2009</th><td> 85732.80</td><td>-1310.0</td><td> 87042.80</td></tr>\n",
       "\t<tr><th scope=row>Jun 2009</th><td> 86053.70</td><td>-1050.1</td><td> 87103.80</td></tr>\n",
       "\t<tr><th scope=row>Jul 2009</th><td> 85552.30</td><td>-1506.4</td><td> 87058.70</td></tr>\n",
       "\t<tr><th scope=row>Aug 2009</th><td> 86186.30</td><td>-1083.7</td><td> 87270.00</td></tr>\n",
       "\t<tr><th scope=row>Sep 2009</th><td> 86983.80</td><td> -500.4</td><td> 87484.20</td></tr>\n",
       "\t<tr><th scope=row>Oct 2009</th><td> 86860.70</td><td> -869.3</td><td> 87730.00</td></tr>\n",
       "\t<tr><th scope=row>Nov 2009</th><td> 87898.70</td><td> -142.8</td><td> 88041.50</td></tr>\n",
       "\t<tr><th scope=row>Dec 2009</th><td> 89363.80</td><td> 1174.5</td><td> 88189.30</td></tr>\n",
       "\t<tr><th scope=row>Jan 2010</th><td> 88954.30</td><td>  535.9</td><td> 88418.40</td></tr>\n",
       "\t<tr><th scope=row>Feb 2010</th><td> 88615.50</td><td> 1007.4</td><td> 87608.10</td></tr>\n",
       "\t<tr><th scope=row>Mar 2010</th><td> 87622.00</td><td>  210.9</td><td> 87411.10</td></tr>\n",
       "\t<tr><th scope=row>Apr 2010</th><td> 88338.20</td><td>  469.6</td><td> 87868.60</td></tr>\n",
       "\t<tr><th scope=row>May 2010</th><td> 87908.00</td><td> -406.1</td><td> 88314.10</td></tr>\n",
       "\t<tr><th scope=row>Jun 2010</th><td> 90527.50</td><td> 1871.8</td><td> 88655.70</td></tr>\n",
       "\t<tr><th scope=row>Jul 2010</th><td> 91388.10</td><td> 2881.7</td><td> 88506.40</td></tr>\n",
       "\t<tr><th scope=row>Aug 2010</th><td> 91850.80</td><td> 3413.1</td><td> 88437.70</td></tr>\n",
       "\t<tr><th scope=row>Sep 2010</th><td> 93897.50</td><td> 4481.1</td><td> 89416.40</td></tr>\n",
       "\t<tr><th scope=row>Oct 2010</th><td> 94685.30</td><td> 4499.8</td><td> 90185.50</td></tr>\n",
       "\t<tr><th scope=row>Nov 2010</th><td> 96659.60</td><td> 4445.1</td><td> 92214.50</td></tr>\n",
       "\t<tr><th scope=row>Dec 2010</th><td> 99471.70</td><td> 6221.9</td><td> 93249.80</td></tr>\n",
       "\t<tr><th scope=row>Jan 2011</th><td> 98676.90</td><td> 5087.2</td><td> 93589.70</td></tr>\n",
       "\t<tr><th scope=row>Feb 2011</th><td> 99827.00</td><td> 5806.4</td><td> 94020.60</td></tr>\n",
       "\t<tr><th scope=row>Mar 2011</th><td> 99923.00</td><td> 5447.9</td><td> 94475.10</td></tr>\n",
       "\t<tr><th scope=row>Apr 2011</th><td>101428.20</td><td> 6304.4</td><td> 95123.80</td></tr>\n",
       "\t<tr><th scope=row>May 2011</th><td>101862.40</td><td> 5844.9</td><td> 96017.50</td></tr>\n",
       "\t<tr><th scope=row>Jun 2011</th><td>104795.50</td><td> 7336.6</td><td> 97458.90</td></tr>\n",
       "\t<tr><th scope=row>Jul 2011</th><td>105865.90</td><td> 7717.8</td><td> 98148.10</td></tr>\n",
       "\t<tr><th scope=row>Aug 2011</th><td>106195.00</td><td> 7512.1</td><td> 98682.90</td></tr>\n",
       "\t<tr><th scope=row>Sep 2011</th><td>108696.20</td><td> 7882.6</td><td>100813.60</td></tr>\n",
       "\t<tr><th scope=row>Oct 2011</th><td>111055.40</td><td> 8897.8</td><td>102157.60</td></tr>\n",
       "\t<tr><th scope=row>Nov 2011</th><td>113158.10</td><td> 8406.8</td><td>104751.30</td></tr>\n",
       "\t<tr><th scope=row>Dec 2011</th><td>115488.10</td><td> 9096.3</td><td>106391.80</td></tr>\n",
       "\t<tr><th scope=row>Jan 2012</th><td>114709.60</td><td> 8808.8</td><td>105900.80</td></tr>\n",
       "\t<tr><th scope=row>Feb 2012</th><td>116631.30</td><td> 9320.7</td><td>107310.60</td></tr>\n",
       "\t<tr><th scope=row>Mar 2012</th><td>117426.80</td><td> 8720.2</td><td>108706.60</td></tr>\n",
       "\t<tr><th scope=row>Apr 2012</th><td>118256.00</td><td> 8626.5</td><td>109629.50</td></tr>\n",
       "\t<tr><th scope=row>May 2012</th><td>119606.50</td><td> 8627.4</td><td>110979.10</td></tr>\n",
       "\t<tr><th scope=row>Jun 2012</th><td>120731.10</td><td> 8594.1</td><td>112137.00</td></tr>\n",
       "\t<tr><th scope=row>Jul 2012</th><td>121413.80</td><td> 7851.5</td><td>113562.30</td></tr>\n",
       "\t<tr><th scope=row>Aug 2012</th><td>122596.20</td><td> 6629.4</td><td>115966.80</td></tr>\n",
       "\t<tr><th scope=row>Sep 2012</th><td>123911.40</td><td> 6026.1</td><td>117885.30</td></tr>\n",
       "\t<tr><th scope=row>Oct 2012</th><td>123600.80</td><td> 4609.6</td><td>118991.20</td></tr>\n",
       "\t<tr><th scope=row>Nov 2012</th><td>126054.50</td><td> 4956.8</td><td>121097.70</td></tr>\n",
       "\t<tr><th scope=row>Dec 2012</th><td>131492.50</td><td> 6317.0</td><td>125175.50</td></tr>\n",
       "\t<tr><th scope=row>Jan 2013</th><td>130522.20</td><td> 5573.1</td><td>124949.10</td></tr>\n",
       "\t<tr><th scope=row>Feb 2013</th><td>133154.10</td><td> 7546.9</td><td>125607.20</td></tr>\n",
       "\t<tr><th scope=row>Mar 2013</th><td>133109.50</td><td> 6842.3</td><td>126267.20</td></tr>\n",
       "\t<tr><th scope=row>Apr 2013</th><td>133069.50</td><td> 5809.1</td><td>127260.40</td></tr>\n",
       "\t<tr><th scope=row>May 2013</th><td>134563.20</td><td> 6498.2</td><td>128065.00</td></tr>\n",
       "\t<tr><th scope=row>Jun 2013</th><td>135933.50</td><td> 6616.6</td><td>129316.90</td></tr>\n",
       "\t<tr><th scope=row>Jul 2013</th><td>137437.90</td><td> 5404.9</td><td>132033.00</td></tr>\n",
       "\t<tr><th scope=row>Aug 2013</th><td>140083.80</td><td> 5597.0</td><td>134486.80</td></tr>\n",
       "\t<tr><th scope=row>Sep 2013</th><td>142270.30</td><td> 6360.3</td><td>135910.00</td></tr>\n",
       "\t<tr><th scope=row>Oct 2013</th><td>143727.10</td><td> 6047.9</td><td>137679.20</td></tr>\n",
       "\t<tr><th scope=row>Nov 2013</th><td>147600.50</td><td> 8098.3</td><td>139502.20</td></tr>\n",
       "\t<tr><th scope=row>Dec 2013</th><td>147420.70</td><td> 7262.0</td><td>140158.70</td></tr>\n",
       "\t<tr><th scope=row>Jan 2014</th><td>145225.00</td><td> 5477.2</td><td>139747.80</td></tr>\n",
       "\t<tr><th scope=row>Feb 2014</th><td>146638.70</td><td> 6899.5</td><td>139739.20</td></tr>\n",
       "\t<tr><th scope=row>Mar 2014</th><td>148639.80</td><td> 8387.6</td><td>140252.20</td></tr>\n",
       "\t<tr><th scope=row>Apr 2014</th><td>150778.00</td><td> 8426.8</td><td>142351.20</td></tr>\n",
       "\t<tr><th scope=row>May 2014</th><td>152572.40</td><td> 9374.4</td><td>143198.00</td></tr>\n",
       "\t<tr><th scope=row>Jun 2014</th><td>152982.60</td><td> 8151.2</td><td>144831.40</td></tr>\n",
       "\t<tr><th scope=row>Jul 2014</th><td>153166.00</td><td> 6854.8</td><td>146311.20</td></tr>\n",
       "\t<tr><th scope=row>Aug 2014</th><td>155051.20</td><td> 8270.8</td><td>146780.40</td></tr>\n",
       "\t<tr><th scope=row>Sep 2014</th><td>155882.80</td><td> 8359.7</td><td>147523.10</td></tr>\n",
       "\t<tr><th scope=row>Oct 2014</th><td>155881.50</td><td> 7160.3</td><td>148721.20</td></tr>\n",
       "\t<tr><th scope=row>Nov 2014</th><td>157893.40</td><td> 7660.1</td><td>150233.30</td></tr>\n",
       "\t<tr><th scope=row>Dec 2014</th><td>162608.40</td><td>10153.4</td><td>152455.00</td></tr>\n",
       "\t<tr><th scope=row>Jan 2015</th><td>165160.90</td><td>11691.8</td><td>153469.10</td></tr>\n",
       "\t<tr><th scope=row>Feb 2015</th><td>166008.30</td><td>10385.8</td><td>155622.50</td></tr>\n",
       "\t<tr><th scope=row>Mar 2015</th><td>167703.80</td><td>11120.2</td><td>156583.60</td></tr>\n",
       "\t<tr><th scope=row>Apr 2015</th><td>169565.30</td><td>11012.4</td><td>158552.90</td></tr>\n",
       "\t<tr><th scope=row>May 2015</th><td>170859.50</td><td>10185.9</td><td>160673.60</td></tr>\n",
       "\t<tr><th scope=row>Jun 2015</th><td>172214.70</td><td>10783.5</td><td>161431.20</td></tr>\n",
       "\t<tr><th scope=row>Jul 2015</th><td>173099.50</td><td>10207.2</td><td>162892.30</td></tr>\n",
       "\t<tr><th scope=row>Aug 2015</th><td>175314.50</td><td>10460.9</td><td>164853.60</td></tr>\n",
       "\t<tr><th scope=row>Sep 2015</th><td>174995.80</td><td> 8623.4</td><td>166372.40</td></tr>\n",
       "\t<tr><th scope=row>Oct 2015</th><td>176762.00</td><td> 8339.6</td><td>168422.40</td></tr>\n",
       "\t<tr><th scope=row>Nov 2015</th><td>178847.20</td><td> 8518.7</td><td>170328.50</td></tr>\n",
       "\t<tr><th scope=row>Dec 2015</th><td>180978.90</td><td> 8942.7</td><td>172036.20</td></tr>\n",
       "\t<tr><th scope=row>Jan 2016</th><td>181817.60</td><td> 9095.7</td><td>172721.90</td></tr>\n",
       "\t<tr><th scope=row>Feb 2016</th><td>181453.50</td><td> 8707.9</td><td>172745.60</td></tr>\n",
       "\t<tr><th scope=row>Mar 2016</th><td>180462.60</td><td> 7505.2</td><td>172957.40</td></tr>\n",
       "\t<tr><th scope=row>Apr 2016</th><td>180870.10</td><td> 7663.9</td><td>173206.20</td></tr>\n",
       "\t<tr><th scope=row>May 2016</th><td>180387.80</td><td> 6659.8</td><td>173728.00</td></tr>\n",
       "\t<tr><th scope=row>Jun 2016</th><td>180629.70</td><td> 7121.2</td><td>173508.50</td></tr>\n",
       "\t<tr><th scope=row>Jul 2016</th><td>180520.70</td><td> 6418.2</td><td>174102.50</td></tr>\n",
       "\t<tr><th scope=row>Aug 2016</th><td>180119.50</td><td> 5447.8</td><td>174671.70</td></tr>\n",
       "\t<tr><th scope=row>Sep 2016</th><td>181300.00</td><td> 6109.6</td><td>175190.40</td></tr>\n",
       "\t<tr><th scope=row>Oct 2016</th><td>181473.30</td><td> 5771.2</td><td>175702.10</td></tr>\n",
       "\t<tr><th scope=row>Nov 2016</th><td>185528.10</td><td> 6886.1</td><td>178642.00</td></tr>\n",
       "\t<tr><th scope=row>Dec 2016</th><td>190851.50</td><td> 8652.8</td><td>182198.70</td></tr>\n",
       "\t<tr><th scope=row>Jan 2017</th><td>187099.70</td><td> 5649.0</td><td>181450.70</td></tr>\n",
       "\t<tr><th scope=row>Feb 2017</th><td>190612.70</td><td> 9160.7</td><td>181452.00</td></tr>\n",
       "\t<tr><th scope=row>Mar 2017</th><td>191230.70</td><td> 9293.0</td><td>181937.70</td></tr>\n",
       "\t<tr><th scope=row>Apr 2017</th><td>191603.70</td><td> 8627.2</td><td>182976.50</td></tr>\n",
       "\t<tr><th scope=row>May 2017</th><td>192023.60</td><td> 8911.5</td><td>183112.10</td></tr>\n",
       "\t<tr><th scope=row>Jun 2017</th><td>192603.10</td><td> 8705.2</td><td>183897.90</td></tr>\n",
       "\t<tr><th scope=row>Jul 2017</th><td>191986.30</td><td> 8595.6</td><td>183390.70</td></tr>\n",
       "\t<tr><th scope=row>Aug 2017</th><td>192052.40</td><td> 8455.2</td><td>183597.20</td></tr>\n",
       "\t<tr><th scope=row>Sep 2017</th><td>192638.60</td><td> 8377.2</td><td>184261.40</td></tr>\n",
       "\t<tr><th scope=row>Oct 2017</th><td>193122.70</td><td> 7942.8</td><td>185179.90</td></tr>\n",
       "\t<tr><th scope=row>Nov 2017</th><td>195493.30</td><td> 8093.4</td><td>187399.90</td></tr>\n",
       "\t<tr><th scope=row>Dec 2017</th><td>199373.60</td><td>10330.6</td><td>189043.00</td></tr>\n",
       "\t<tr><th scope=row>Jan 2018</th><td>197831.00</td><td> 9355.2</td><td>188475.80</td></tr>\n",
       "\t<tr><th scope=row>Feb 2018</th><td>199282.50</td><td>10721.3</td><td>188561.20</td></tr>\n",
       "\t<tr><th scope=row>Mar 2018</th><td>201774.90</td><td>11896.1</td><td>189878.80</td></tr>\n",
       "\t<tr><th scope=row>Apr 2018</th><td>202552.10</td><td>12465.0</td><td>190087.10</td></tr>\n",
       "\t<tr><th scope=row>May 2018</th><td>204299.50</td><td>12907.6</td><td>191391.90</td></tr>\n",
       "\t<tr><th scope=row>Jun 2018</th><td>205762.20</td><td>13862.5</td><td>191899.70</td></tr>\n",
       "\t<tr><th scope=row>Jul 2018</th><td>206081.10</td><td>14464.7</td><td>191616.40</td></tr>\n",
       "\t<tr><th scope=row>Aug 2018</th><td>207696.70</td><td>15293.4</td><td>192403.30</td></tr>\n",
       "\t<tr><th scope=row>Sep 2018</th><td>212636.70</td><td>17393.0</td><td>195243.70</td></tr>\n",
       "\t<tr><th scope=row>Oct 2018</th><td>214047.00</td><td>16838.2</td><td>197208.80</td></tr>\n",
       "\t<tr><th scope=row>Nov 2018</th><td>218150.10</td><td>18895.9</td><td>199254.20</td></tr>\n",
       "\t<tr><th scope=row>Dec 2018</th><td>221409.30</td><td>19188.7</td><td>202220.60</td></tr>\n",
       "\t<tr><th scope=row>Jan 2019</th><td>219252.40</td><td>17814.1</td><td>201438.30</td></tr>\n",
       "\t<tr><th scope=row>Feb 2019</th><td>221451.30</td><td>19240.2</td><td>202211.10</td></tr>\n",
       "\t<tr><th scope=row>Mar 2019</th><td>223295.50</td><td>20194.7</td><td>203100.80</td></tr>\n",
       "\t<tr><th scope=row>Apr 2019</th><td>225097.10</td><td>20786.8</td><td>204310.30</td></tr>\n",
       "\t<tr><th scope=row>May 2019</th><td>226850.60</td><td>21649.8</td><td>205200.80</td></tr>\n",
       "\t<tr><th scope=row>Jun 2019</th><td>227741.20</td><td>21933.6</td><td>205807.60</td></tr>\n",
       "\t<tr><th scope=row>Jul 2019</th><td>227331.30</td><td>22391.2</td><td>204940.10</td></tr>\n",
       "\t<tr><th scope=row>Aug 2019</th><td>228574.30</td><td>23305.5</td><td>205268.80</td></tr>\n",
       "\t<tr><th scope=row>Sep 2019</th><td>230222.30</td><td>23120.5</td><td>207101.80</td></tr>\n",
       "\t<tr><th scope=row>Oct 2019</th><td>230410.00</td><td>21482.3</td><td>208927.70</td></tr>\n",
       "\t<tr><th scope=row>Nov 2019</th><td>233998.70</td><td>23204.8</td><td>210793.90</td></tr>\n",
       "\t<tr><th scope=row>Dec 2019</th><td>236501.10</td><td>23672.4</td><td>212828.70</td></tr>\n",
       "</tbody>\n",
       "</table>\n"
      ],
      "text/latex": [
       "A Time Series: 300 × 3\n",
       "\\begin{tabular}{r|lll}\n",
       "  & Series 1 & Series 2 & Series 3\\\\\n",
       "\\hline\n",
       "\tJan 1995 &  10294.69 &   458.7 &   9835.99\\\\\n",
       "\tFeb 1995 &  10484.68 &   393.9 &  10090.78\\\\\n",
       "\tMar 1995 &  11110.65 &   698.9 &  10411.75\\\\\n",
       "\tApr 1995 &  11016.43 &   405.7 &  10610.73\\\\\n",
       "\tMay 1995 &  11403.03 &   566.7 &  10836.33\\\\\n",
       "\tJun 1995 &  11301.38 &   266.7 &  11034.68\\\\\n",
       "\tJul 1995 &  11504.61 &   354.7 &  11149.91\\\\\n",
       "\tAug 1995 &  11897.58 &   588.2 &  11309.38\\\\\n",
       "\tSep 1995 &  12270.32 &   770.1 &  11500.22\\\\\n",
       "\tOct 1995 &  12175.19 &   307.1 &  11868.09\\\\\n",
       "\tNov 1995 &  12415.64 &   238.7 &  12176.94\\\\\n",
       "\tDec 1995 &  12713.50 &   234.1 &  12479.40\\\\\n",
       "\tJan 1996 &  13191.75 &   520.4 &  12671.35\\\\\n",
       "\tFeb 1996 &  13186.30 &   402.5 &  12783.80\\\\\n",
       "\tMar 1996 &  13300.19 &   342.6 &  12957.59\\\\\n",
       "\tApr 1996 &  13721.39 &   620.8 &  13100.59\\\\\n",
       "\tMay 1996 &  13560.76 &   357.9 &  13202.86\\\\\n",
       "\tJun 1996 &  13699.30 &   456.8 &  13242.50\\\\\n",
       "\tJul 1996 &  13852.90 &   454.5 &  13398.40\\\\\n",
       "\tAug 1996 &  13893.90 &   520.5 &  13373.40\\\\\n",
       "\tSep 1996 &  14034.50 &   529.0 &  13505.50\\\\\n",
       "\tOct 1996 &  14266.80 &   690.1 &  13576.70\\\\\n",
       "\tNov 1996 &  14230.80 &   552.3 &  13678.50\\\\\n",
       "\tDec 1996 &  14877.10 &   869.9 &  14007.20\\\\\n",
       "\tJan 1997 &  15239.50 &  1182.7 &  14056.80\\\\\n",
       "\tFeb 1997 &  15725.50 &  1371.8 &  14353.70\\\\\n",
       "\tMar 1997 &  15680.50 &  1396.2 &  14284.30\\\\\n",
       "\tApr 1997 &  16158.00 &  1760.0 &  14398.00\\\\\n",
       "\tMay 1997 &  16184.40 &  1805.7 &  14378.70\\\\\n",
       "\tJun 1997 &  16316.90 &  1830.3 &  14486.60\\\\\n",
       "\tJul 1997 &  16654.10 &  1890.2 &  14763.90\\\\\n",
       "\tAug 1997 &  17387.10 &  2347.3 &  15039.80\\\\\n",
       "\tSep 1997 &  17040.00 &  1756.2 &  15283.80\\\\\n",
       "\tOct 1997 &  17894.70 &  2246.4 &  15648.30\\\\\n",
       "\tNov 1997 &  18480.70 &  2250.1 &  16230.60\\\\\n",
       "\tDec 1997 &  18606.50 &  2002.4 &  16604.10\\\\\n",
       "\tJan 1998 &  19894.20 &  3105.3 &  16788.90\\\\\n",
       "\tFeb 1998 &  19243.40 &  2049.7 &  17193.70\\\\\n",
       "\tMar 1998 &  20402.70 &  3038.6 &  17364.10\\\\\n",
       "\tApr 1998 &  20614.60 &  2868.4 &  17746.20\\\\\n",
       "\tMay 1998 &  20675.10 &  2459.4 &  18215.70\\\\\n",
       "\tJun 1998 &  21171.40 &  2827.6 &  18343.80\\\\\n",
       "\tJul 1998 &  21280.60 &  2494.5 &  18786.10\\\\\n",
       "\tAug 1998 &  21638.30 &  2431.1 &  19207.20\\\\\n",
       "\tSep 1998 &  21825.80 &  1981.1 &  19844.70\\\\\n",
       "\tOct 1998 &  22506.90 &  1912.8 &  20594.10\\\\\n",
       "\tNov 1998 &  22353.40 &  1290.8 &  21062.60\\\\\n",
       "\tDec 1998 &  22825.40 &  1681.0 &  21144.40\\\\\n",
       "\tJan 1999 &  22828.80 &  1408.5 &  21420.30\\\\\n",
       "\tFeb 1999 &  22441.80 &  1004.2 &  21437.60\\\\\n",
       "\tMar 1999 &  22849.90 &  1004.6 &  21845.30\\\\\n",
       "\tApr 1999 &  23283.50 &  1065.1 &  22218.40\\\\\n",
       "\tMay 1999 &  23683.60 &  1297.4 &  22386.20\\\\\n",
       "\tJun 1999 &  23823.80 &  1251.1 &  22572.70\\\\\n",
       "\tJul 1999 &  23909.90 &  1208.3 &  22701.60\\\\\n",
       "\tAug 1999 &  24866.40 &  1712.8 &  23153.60\\\\\n",
       "\tSep 1999 &  24542.70 &  1344.3 &  23198.40\\\\\n",
       "\tOct 1999 &  24280.40 &   953.8 &  23326.60\\\\\n",
       "\tNov 1999 &  24752.90 &  1006.3 &  23746.60\\\\\n",
       "\tDec 1999 &  25500.30 &  1400.4 &  24099.90\\\\\n",
       "\tJan 2000 &  25486.80 &  1159.1 &  24327.70\\\\\n",
       "\tFeb 2000 &  25425.40 &   959.6 &  24465.80\\\\\n",
       "\tMar 2000 &  25588.90 &  1401.0 &  24187.90\\\\\n",
       "\tApr 2000 &  25607.70 &  1478.6 &  24129.10\\\\\n",
       "\tMay 2000 &  25401.60 &  1373.6 &  24028.00\\\\\n",
       "\tJun 2000 &  25203.30 &  1165.3 &  24038.00\\\\\n",
       "\tJul 2000 &  25750.20 &  1509.1 &  24241.10\\\\\n",
       "\tAug 2000 &  26659.10 &  1745.9 &  24913.20\\\\\n",
       "\tSep 2000 &  26608.60 &  1456.7 &  25151.90\\\\\n",
       "\tOct 2000 &  25760.20 &    72.4 &  25687.80\\\\\n",
       "\tNov 2000 &  26461.20 &   384.7 &  26076.50\\\\\n",
       "\tDec 2000 &  27235.90 &   796.0 &  26439.90\\\\\n",
       "\tJan 2001 &  28289.30 &  1721.2 &  26568.10\\\\\n",
       "\tFeb 2001 &  28393.00 &  1801.7 &  26591.30\\\\\n",
       "\tMar 2001 &  29417.90 &  2503.8 &  26914.10\\\\\n",
       "\tApr 2001 &  28886.80 &  1962.0 &  26924.80\\\\\n",
       "\tMay 2001 &  29065.40 &  1871.7 &  27193.70\\\\\n",
       "\tJun 2001 &  29377.00 &  1900.8 &  27476.20\\\\\n",
       "\tJul 2001 &  28822.80 &  1335.4 &  27487.40\\\\\n",
       "\tAug 2001 &  29356.90 &  1723.7 &  27633.20\\\\\n",
       "\tSep 2001 &  30081.60 &  1996.5 &  28085.10\\\\\n",
       "\tOct 2001 &  30805.60 &  1824.2 &  28981.50\\\\\n",
       "\tNov 2001 &  30444.90 &  1071.2 &  29373.70\\\\\n",
       "\tDec 2001 &  31251.70 &   969.8 &  30281.90\\\\\n",
       "\tJan 2002 &  30151.60 &    31.3 &  30120.30\\\\\n",
       "\tFeb 2002 &  30749.70 &   299.2 &  30450.50\\\\\n",
       "\tMar 2002 &  31693.80 &  1153.5 &  30540.30\\\\\n",
       "\tApr 2002 &  30977.50 &   436.4 &  30541.10\\\\\n",
       "\tMay 2002 &  31822.30 &  1150.9 &  30671.40\\\\\n",
       "\tJun 2002 &  32769.40 &  1411.5 &  31357.90\\\\\n",
       "\tJul 2002 &  31896.30 &   521.0 &  31375.30\\\\\n",
       "\tAug 2002 &  32372.10 &   870.2 &  31501.90\\\\\n",
       "\tSep 2002 &  32533.00 &  1082.7 &  31450.30\\\\\n",
       "\tOct 2002 &  31654.40 &     1.3 &  31653.10\\\\\n",
       "\tNov 2002 &  31699.60 &  -245.8 &  31945.40\\\\\n",
       "\tDec 2002 &  32680.90 &   149.7 &  32531.20\\\\\n",
       "\tJan 2003 &  31936.60 &  -499.6 &  32436.20\\\\\n",
       "\tFeb 2003 &  32034.10 &  -345.5 &  32379.60\\\\\n",
       "\tMar 2003 &  32626.60 &  -180.2 &  32806.80\\\\\n",
       "\tApr 2003 &  32305.00 &  -733.0 &  33038.00\\\\\n",
       "\tMay 2003 &  33266.70 &  -237.5 &  33504.20\\\\\n",
       "\tJun 2003 &  34115.10 &   616.5 &  33498.60\\\\\n",
       "\tJul 2003 &  33374.00 &  -130.7 &  33504.70\\\\\n",
       "\tAug 2003 &  34926.40 &  1085.1 &  33841.30\\\\\n",
       "\tSep 2003 &  35743.30 &  1514.4 &  34228.90\\\\\n",
       "\tOct 2003 &  35293.30 &   539.8 &  34753.50\\\\\n",
       "\tNov 2003 &  35826.70 &   698.4 &  35128.30\\\\\n",
       "\tDec 2003 &  36696.10 &  1251.9 &  35444.20\\\\\n",
       "\tJan 2004 &  35424.00 &   964.5 &  35671.70\\\\\n",
       "\tFeb 2004 &  35602.60 &  1022.9 &  35877.60\\\\\n",
       "\tMar 2004 &  36330.70 &  1551.8 &  36119.30\\\\\n",
       "\tApr 2004 &  35250.30 &   145.1 &  35105.20\\\\\n",
       "\tMay 2004 &  35772.80 &   263.5 &  35509.30\\\\\n",
       "\tJun 2004 &  36162.70 &   517.8 &  35644.90\\\\\n",
       "\tJul 2004 &  36182.30 &    75.3 &  36107.00\\\\\n",
       "\tAug 2004 &  37135.00 &  1007.4 &  36127.60\\\\\n",
       "\tSep 2004 &  37653.70 &   620.0 &  37033.70\\\\\n",
       "\tOct 2004 &  39035.40 &  1483.3 &  37552.00\\\\\n",
       "\tNov 2004 &  39148.20 &   581.4 &  38566.80\\\\\n",
       "\tDec 2004 &  40778.00 &  1005.7 &  39772.30\\\\\n",
       "\tJan 2005 &  40702.30 &   688.7 &  40013.60\\\\\n",
       "\tFeb 2005 &  41399.60 &   971.2 &  40428.40\\\\\n",
       "\tMar 2005 &  42116.80 &  1370.3 &  40746.50\\\\\n",
       "\tApr 2005 &  43688.30 &  2522.9 &  41165.40\\\\\n",
       "\tMay 2005 &  44274.10 &  2722.2 &  41551.90\\\\\n",
       "\tJun 2005 &  45674.70 &  3169.9 &  42504.80\\\\\n",
       "\tJul 2005 &  45808.90 &  2565.6 &  43243.30\\\\\n",
       "\tAug 2005 &  46589.60 &  2918.6 &  43671.00\\\\\n",
       "\tSep 2005 &  46894.70 &  2588.2 &  44306.50\\\\\n",
       "\tOct 2005 &  47577.80 &  2283.6 &  45294.20\\\\\n",
       "\tNov 2005 &  50061.60 &  3112.9 &  46948.70\\\\\n",
       "\tDec 2005 &  50543.50 &  2266.2 &  48277.30\\\\\n",
       "\tJan 2006 &  50359.40 &  1394.1 &  48965.30\\\\\n",
       "\tFeb 2006 &  51752.50 &  1763.7 &  49988.80\\\\\n",
       "\tMar 2006 &  52724.70 &  1803.4 &  50921.30\\\\\n",
       "\tApr 2006 &  53878.70 &  2038.3 &  51840.40\\\\\n",
       "\tMay 2006 &  55327.80 &  2485.4 &  52842.40\\\\\n",
       "\tJun 2006 &  56750.90 &  2744.1 &  54006.80\\\\\n",
       "\tJul 2006 &  57697.30 &  2863.7 &  54833.60\\\\\n",
       "\tAug 2006 &  59560.50 &  3582.4 &  55978.10\\\\\n",
       "\tSep 2006 &  60219.70 &  3107.5 &  57112.20\\\\\n",
       "\tOct 2006 &  61002.30 &  2055.0 &  58947.30\\\\\n",
       "\tNov 2006 &  62690.00 &  2094.6 &  60595.40\\\\\n",
       "\tDec 2006 &  65388.30 &  3031.1 &  62357.20\\\\\n",
       "\tJan 2007 &  64035.20 &   613.8 &  63421.40\\\\\n",
       "\tFeb 2007 &  65774.10 &  1393.3 &  64380.80\\\\\n",
       "\tMar 2007 &  66945.80 &  1447.1 &  65498.70\\\\\n",
       "\tApr 2007 &  67271.60 &  1186.8 &  66084.80\\\\\n",
       "\tMay 2007 &  68323.10 &  1321.8 &  67001.30\\\\\n",
       "\tJun 2007 &  70219.70 &  1752.0 &  68467.70\\\\\n",
       "\tJul 2007 &  71145.90 &  1256.7 &  69889.20\\\\\n",
       "\tAug 2007 &  72805.00 &  1735.8 &  71069.20\\\\\n",
       "\tSep 2007 &  74618.80 &  2068.2 &  72550.60\\\\\n",
       "\tOct 2007 &  76362.30 &  1809.7 &  74552.60\\\\\n",
       "\tNov 2007 &  78345.40 &  1855.2 &  76490.20\\\\\n",
       "\tDec 2007 &  81430.30 &  2863.3 &  78567.00\\\\\n",
       "\tJan 2008 &  79957.90 &   994.0 &  78963.90\\\\\n",
       "\tFeb 2008 &  81390.40 &  1766.5 &  79623.90\\\\\n",
       "\tMar 2008 &  80979.50 &   979.5 &  80000.00\\\\\n",
       "\tApr 2008 &  81716.10 &  1082.3 &  80633.80\\\\\n",
       "\tMay 2008 &  82349.30 &  1150.2 &  81199.10\\\\\n",
       "\tJun 2008 &  82727.00 &   901.2 &  81825.80\\\\\n",
       "\tJul 2008 &  81887.60 &  -557.0 &  82444.60\\\\\n",
       "\tAug 2008 &  82879.80 &   -94.3 &  82974.10\\\\\n",
       "\tSep 2008 &  83247.00 &  -589.6 &  83836.60\\\\\n",
       "\tOct 2008 &  84226.50 &  -354.8 &  84581.30\\\\\n",
       "\tNov 2008 &  84477.40 & -1154.1 &  85631.50\\\\\n",
       "\tDec 2008 &  85982.60 & -1226.8 &  87209.40\\\\\n",
       "\tJan 2009 &  85265.10 & -2075.7 &  87340.80\\\\\n",
       "\tFeb 2009 &  86184.70 & -1124.7 &  87309.40\\\\\n",
       "\tMar 2009 &  85840.00 & -1591.0 &  87431.00\\\\\n",
       "\tApr 2009 &  85571.40 & -1637.2 &  87208.60\\\\\n",
       "\tMay 2009 &  85732.80 & -1310.0 &  87042.80\\\\\n",
       "\tJun 2009 &  86053.70 & -1050.1 &  87103.80\\\\\n",
       "\tJul 2009 &  85552.30 & -1506.4 &  87058.70\\\\\n",
       "\tAug 2009 &  86186.30 & -1083.7 &  87270.00\\\\\n",
       "\tSep 2009 &  86983.80 &  -500.4 &  87484.20\\\\\n",
       "\tOct 2009 &  86860.70 &  -869.3 &  87730.00\\\\\n",
       "\tNov 2009 &  87898.70 &  -142.8 &  88041.50\\\\\n",
       "\tDec 2009 &  89363.80 &  1174.5 &  88189.30\\\\\n",
       "\tJan 2010 &  88954.30 &   535.9 &  88418.40\\\\\n",
       "\tFeb 2010 &  88615.50 &  1007.4 &  87608.10\\\\\n",
       "\tMar 2010 &  87622.00 &   210.9 &  87411.10\\\\\n",
       "\tApr 2010 &  88338.20 &   469.6 &  87868.60\\\\\n",
       "\tMay 2010 &  87908.00 &  -406.1 &  88314.10\\\\\n",
       "\tJun 2010 &  90527.50 &  1871.8 &  88655.70\\\\\n",
       "\tJul 2010 &  91388.10 &  2881.7 &  88506.40\\\\\n",
       "\tAug 2010 &  91850.80 &  3413.1 &  88437.70\\\\\n",
       "\tSep 2010 &  93897.50 &  4481.1 &  89416.40\\\\\n",
       "\tOct 2010 &  94685.30 &  4499.8 &  90185.50\\\\\n",
       "\tNov 2010 &  96659.60 &  4445.1 &  92214.50\\\\\n",
       "\tDec 2010 &  99471.70 &  6221.9 &  93249.80\\\\\n",
       "\tJan 2011 &  98676.90 &  5087.2 &  93589.70\\\\\n",
       "\tFeb 2011 &  99827.00 &  5806.4 &  94020.60\\\\\n",
       "\tMar 2011 &  99923.00 &  5447.9 &  94475.10\\\\\n",
       "\tApr 2011 & 101428.20 &  6304.4 &  95123.80\\\\\n",
       "\tMay 2011 & 101862.40 &  5844.9 &  96017.50\\\\\n",
       "\tJun 2011 & 104795.50 &  7336.6 &  97458.90\\\\\n",
       "\tJul 2011 & 105865.90 &  7717.8 &  98148.10\\\\\n",
       "\tAug 2011 & 106195.00 &  7512.1 &  98682.90\\\\\n",
       "\tSep 2011 & 108696.20 &  7882.6 & 100813.60\\\\\n",
       "\tOct 2011 & 111055.40 &  8897.8 & 102157.60\\\\\n",
       "\tNov 2011 & 113158.10 &  8406.8 & 104751.30\\\\\n",
       "\tDec 2011 & 115488.10 &  9096.3 & 106391.80\\\\\n",
       "\tJan 2012 & 114709.60 &  8808.8 & 105900.80\\\\\n",
       "\tFeb 2012 & 116631.30 &  9320.7 & 107310.60\\\\\n",
       "\tMar 2012 & 117426.80 &  8720.2 & 108706.60\\\\\n",
       "\tApr 2012 & 118256.00 &  8626.5 & 109629.50\\\\\n",
       "\tMay 2012 & 119606.50 &  8627.4 & 110979.10\\\\\n",
       "\tJun 2012 & 120731.10 &  8594.1 & 112137.00\\\\\n",
       "\tJul 2012 & 121413.80 &  7851.5 & 113562.30\\\\\n",
       "\tAug 2012 & 122596.20 &  6629.4 & 115966.80\\\\\n",
       "\tSep 2012 & 123911.40 &  6026.1 & 117885.30\\\\\n",
       "\tOct 2012 & 123600.80 &  4609.6 & 118991.20\\\\\n",
       "\tNov 2012 & 126054.50 &  4956.8 & 121097.70\\\\\n",
       "\tDec 2012 & 131492.50 &  6317.0 & 125175.50\\\\\n",
       "\tJan 2013 & 130522.20 &  5573.1 & 124949.10\\\\\n",
       "\tFeb 2013 & 133154.10 &  7546.9 & 125607.20\\\\\n",
       "\tMar 2013 & 133109.50 &  6842.3 & 126267.20\\\\\n",
       "\tApr 2013 & 133069.50 &  5809.1 & 127260.40\\\\\n",
       "\tMay 2013 & 134563.20 &  6498.2 & 128065.00\\\\\n",
       "\tJun 2013 & 135933.50 &  6616.6 & 129316.90\\\\\n",
       "\tJul 2013 & 137437.90 &  5404.9 & 132033.00\\\\\n",
       "\tAug 2013 & 140083.80 &  5597.0 & 134486.80\\\\\n",
       "\tSep 2013 & 142270.30 &  6360.3 & 135910.00\\\\\n",
       "\tOct 2013 & 143727.10 &  6047.9 & 137679.20\\\\\n",
       "\tNov 2013 & 147600.50 &  8098.3 & 139502.20\\\\\n",
       "\tDec 2013 & 147420.70 &  7262.0 & 140158.70\\\\\n",
       "\tJan 2014 & 145225.00 &  5477.2 & 139747.80\\\\\n",
       "\tFeb 2014 & 146638.70 &  6899.5 & 139739.20\\\\\n",
       "\tMar 2014 & 148639.80 &  8387.6 & 140252.20\\\\\n",
       "\tApr 2014 & 150778.00 &  8426.8 & 142351.20\\\\\n",
       "\tMay 2014 & 152572.40 &  9374.4 & 143198.00\\\\\n",
       "\tJun 2014 & 152982.60 &  8151.2 & 144831.40\\\\\n",
       "\tJul 2014 & 153166.00 &  6854.8 & 146311.20\\\\\n",
       "\tAug 2014 & 155051.20 &  8270.8 & 146780.40\\\\\n",
       "\tSep 2014 & 155882.80 &  8359.7 & 147523.10\\\\\n",
       "\tOct 2014 & 155881.50 &  7160.3 & 148721.20\\\\\n",
       "\tNov 2014 & 157893.40 &  7660.1 & 150233.30\\\\\n",
       "\tDec 2014 & 162608.40 & 10153.4 & 152455.00\\\\\n",
       "\tJan 2015 & 165160.90 & 11691.8 & 153469.10\\\\\n",
       "\tFeb 2015 & 166008.30 & 10385.8 & 155622.50\\\\\n",
       "\tMar 2015 & 167703.80 & 11120.2 & 156583.60\\\\\n",
       "\tApr 2015 & 169565.30 & 11012.4 & 158552.90\\\\\n",
       "\tMay 2015 & 170859.50 & 10185.9 & 160673.60\\\\\n",
       "\tJun 2015 & 172214.70 & 10783.5 & 161431.20\\\\\n",
       "\tJul 2015 & 173099.50 & 10207.2 & 162892.30\\\\\n",
       "\tAug 2015 & 175314.50 & 10460.9 & 164853.60\\\\\n",
       "\tSep 2015 & 174995.80 &  8623.4 & 166372.40\\\\\n",
       "\tOct 2015 & 176762.00 &  8339.6 & 168422.40\\\\\n",
       "\tNov 2015 & 178847.20 &  8518.7 & 170328.50\\\\\n",
       "\tDec 2015 & 180978.90 &  8942.7 & 172036.20\\\\\n",
       "\tJan 2016 & 181817.60 &  9095.7 & 172721.90\\\\\n",
       "\tFeb 2016 & 181453.50 &  8707.9 & 172745.60\\\\\n",
       "\tMar 2016 & 180462.60 &  7505.2 & 172957.40\\\\\n",
       "\tApr 2016 & 180870.10 &  7663.9 & 173206.20\\\\\n",
       "\tMay 2016 & 180387.80 &  6659.8 & 173728.00\\\\\n",
       "\tJun 2016 & 180629.70 &  7121.2 & 173508.50\\\\\n",
       "\tJul 2016 & 180520.70 &  6418.2 & 174102.50\\\\\n",
       "\tAug 2016 & 180119.50 &  5447.8 & 174671.70\\\\\n",
       "\tSep 2016 & 181300.00 &  6109.6 & 175190.40\\\\\n",
       "\tOct 2016 & 181473.30 &  5771.2 & 175702.10\\\\\n",
       "\tNov 2016 & 185528.10 &  6886.1 & 178642.00\\\\\n",
       "\tDec 2016 & 190851.50 &  8652.8 & 182198.70\\\\\n",
       "\tJan 2017 & 187099.70 &  5649.0 & 181450.70\\\\\n",
       "\tFeb 2017 & 190612.70 &  9160.7 & 181452.00\\\\\n",
       "\tMar 2017 & 191230.70 &  9293.0 & 181937.70\\\\\n",
       "\tApr 2017 & 191603.70 &  8627.2 & 182976.50\\\\\n",
       "\tMay 2017 & 192023.60 &  8911.5 & 183112.10\\\\\n",
       "\tJun 2017 & 192603.10 &  8705.2 & 183897.90\\\\\n",
       "\tJul 2017 & 191986.30 &  8595.6 & 183390.70\\\\\n",
       "\tAug 2017 & 192052.40 &  8455.2 & 183597.20\\\\\n",
       "\tSep 2017 & 192638.60 &  8377.2 & 184261.40\\\\\n",
       "\tOct 2017 & 193122.70 &  7942.8 & 185179.90\\\\\n",
       "\tNov 2017 & 195493.30 &  8093.4 & 187399.90\\\\\n",
       "\tDec 2017 & 199373.60 & 10330.6 & 189043.00\\\\\n",
       "\tJan 2018 & 197831.00 &  9355.2 & 188475.80\\\\\n",
       "\tFeb 2018 & 199282.50 & 10721.3 & 188561.20\\\\\n",
       "\tMar 2018 & 201774.90 & 11896.1 & 189878.80\\\\\n",
       "\tApr 2018 & 202552.10 & 12465.0 & 190087.10\\\\\n",
       "\tMay 2018 & 204299.50 & 12907.6 & 191391.90\\\\\n",
       "\tJun 2018 & 205762.20 & 13862.5 & 191899.70\\\\\n",
       "\tJul 2018 & 206081.10 & 14464.7 & 191616.40\\\\\n",
       "\tAug 2018 & 207696.70 & 15293.4 & 192403.30\\\\\n",
       "\tSep 2018 & 212636.70 & 17393.0 & 195243.70\\\\\n",
       "\tOct 2018 & 214047.00 & 16838.2 & 197208.80\\\\\n",
       "\tNov 2018 & 218150.10 & 18895.9 & 199254.20\\\\\n",
       "\tDec 2018 & 221409.30 & 19188.7 & 202220.60\\\\\n",
       "\tJan 2019 & 219252.40 & 17814.1 & 201438.30\\\\\n",
       "\tFeb 2019 & 221451.30 & 19240.2 & 202211.10\\\\\n",
       "\tMar 2019 & 223295.50 & 20194.7 & 203100.80\\\\\n",
       "\tApr 2019 & 225097.10 & 20786.8 & 204310.30\\\\\n",
       "\tMay 2019 & 226850.60 & 21649.8 & 205200.80\\\\\n",
       "\tJun 2019 & 227741.20 & 21933.6 & 205807.60\\\\\n",
       "\tJul 2019 & 227331.30 & 22391.2 & 204940.10\\\\\n",
       "\tAug 2019 & 228574.30 & 23305.5 & 205268.80\\\\\n",
       "\tSep 2019 & 230222.30 & 23120.5 & 207101.80\\\\\n",
       "\tOct 2019 & 230410.00 & 21482.3 & 208927.70\\\\\n",
       "\tNov 2019 & 233998.70 & 23204.8 & 210793.90\\\\\n",
       "\tDec 2019 & 236501.10 & 23672.4 & 212828.70\\\\\n",
       "\\end{tabular}\n"
      ],
      "text/markdown": [
       "\n",
       "A Time Series: 300 × 3\n",
       "\n",
       "| <!--/--> | Series 1 | Series 2 | Series 3 |\n",
       "|---|---|---|---|\n",
       "| Jan 1995 |  10294.69 |   458.7 |   9835.99 |\n",
       "| Feb 1995 |  10484.68 |   393.9 |  10090.78 |\n",
       "| Mar 1995 |  11110.65 |   698.9 |  10411.75 |\n",
       "| Apr 1995 |  11016.43 |   405.7 |  10610.73 |\n",
       "| May 1995 |  11403.03 |   566.7 |  10836.33 |\n",
       "| Jun 1995 |  11301.38 |   266.7 |  11034.68 |\n",
       "| Jul 1995 |  11504.61 |   354.7 |  11149.91 |\n",
       "| Aug 1995 |  11897.58 |   588.2 |  11309.38 |\n",
       "| Sep 1995 |  12270.32 |   770.1 |  11500.22 |\n",
       "| Oct 1995 |  12175.19 |   307.1 |  11868.09 |\n",
       "| Nov 1995 |  12415.64 |   238.7 |  12176.94 |\n",
       "| Dec 1995 |  12713.50 |   234.1 |  12479.40 |\n",
       "| Jan 1996 |  13191.75 |   520.4 |  12671.35 |\n",
       "| Feb 1996 |  13186.30 |   402.5 |  12783.80 |\n",
       "| Mar 1996 |  13300.19 |   342.6 |  12957.59 |\n",
       "| Apr 1996 |  13721.39 |   620.8 |  13100.59 |\n",
       "| May 1996 |  13560.76 |   357.9 |  13202.86 |\n",
       "| Jun 1996 |  13699.30 |   456.8 |  13242.50 |\n",
       "| Jul 1996 |  13852.90 |   454.5 |  13398.40 |\n",
       "| Aug 1996 |  13893.90 |   520.5 |  13373.40 |\n",
       "| Sep 1996 |  14034.50 |   529.0 |  13505.50 |\n",
       "| Oct 1996 |  14266.80 |   690.1 |  13576.70 |\n",
       "| Nov 1996 |  14230.80 |   552.3 |  13678.50 |\n",
       "| Dec 1996 |  14877.10 |   869.9 |  14007.20 |\n",
       "| Jan 1997 |  15239.50 |  1182.7 |  14056.80 |\n",
       "| Feb 1997 |  15725.50 |  1371.8 |  14353.70 |\n",
       "| Mar 1997 |  15680.50 |  1396.2 |  14284.30 |\n",
       "| Apr 1997 |  16158.00 |  1760.0 |  14398.00 |\n",
       "| May 1997 |  16184.40 |  1805.7 |  14378.70 |\n",
       "| Jun 1997 |  16316.90 |  1830.3 |  14486.60 |\n",
       "| Jul 1997 |  16654.10 |  1890.2 |  14763.90 |\n",
       "| Aug 1997 |  17387.10 |  2347.3 |  15039.80 |\n",
       "| Sep 1997 |  17040.00 |  1756.2 |  15283.80 |\n",
       "| Oct 1997 |  17894.70 |  2246.4 |  15648.30 |\n",
       "| Nov 1997 |  18480.70 |  2250.1 |  16230.60 |\n",
       "| Dec 1997 |  18606.50 |  2002.4 |  16604.10 |\n",
       "| Jan 1998 |  19894.20 |  3105.3 |  16788.90 |\n",
       "| Feb 1998 |  19243.40 |  2049.7 |  17193.70 |\n",
       "| Mar 1998 |  20402.70 |  3038.6 |  17364.10 |\n",
       "| Apr 1998 |  20614.60 |  2868.4 |  17746.20 |\n",
       "| May 1998 |  20675.10 |  2459.4 |  18215.70 |\n",
       "| Jun 1998 |  21171.40 |  2827.6 |  18343.80 |\n",
       "| Jul 1998 |  21280.60 |  2494.5 |  18786.10 |\n",
       "| Aug 1998 |  21638.30 |  2431.1 |  19207.20 |\n",
       "| Sep 1998 |  21825.80 |  1981.1 |  19844.70 |\n",
       "| Oct 1998 |  22506.90 |  1912.8 |  20594.10 |\n",
       "| Nov 1998 |  22353.40 |  1290.8 |  21062.60 |\n",
       "| Dec 1998 |  22825.40 |  1681.0 |  21144.40 |\n",
       "| Jan 1999 |  22828.80 |  1408.5 |  21420.30 |\n",
       "| Feb 1999 |  22441.80 |  1004.2 |  21437.60 |\n",
       "| Mar 1999 |  22849.90 |  1004.6 |  21845.30 |\n",
       "| Apr 1999 |  23283.50 |  1065.1 |  22218.40 |\n",
       "| May 1999 |  23683.60 |  1297.4 |  22386.20 |\n",
       "| Jun 1999 |  23823.80 |  1251.1 |  22572.70 |\n",
       "| Jul 1999 |  23909.90 |  1208.3 |  22701.60 |\n",
       "| Aug 1999 |  24866.40 |  1712.8 |  23153.60 |\n",
       "| Sep 1999 |  24542.70 |  1344.3 |  23198.40 |\n",
       "| Oct 1999 |  24280.40 |   953.8 |  23326.60 |\n",
       "| Nov 1999 |  24752.90 |  1006.3 |  23746.60 |\n",
       "| Dec 1999 |  25500.30 |  1400.4 |  24099.90 |\n",
       "| Jan 2000 |  25486.80 |  1159.1 |  24327.70 |\n",
       "| Feb 2000 |  25425.40 |   959.6 |  24465.80 |\n",
       "| Mar 2000 |  25588.90 |  1401.0 |  24187.90 |\n",
       "| Apr 2000 |  25607.70 |  1478.6 |  24129.10 |\n",
       "| May 2000 |  25401.60 |  1373.6 |  24028.00 |\n",
       "| Jun 2000 |  25203.30 |  1165.3 |  24038.00 |\n",
       "| Jul 2000 |  25750.20 |  1509.1 |  24241.10 |\n",
       "| Aug 2000 |  26659.10 |  1745.9 |  24913.20 |\n",
       "| Sep 2000 |  26608.60 |  1456.7 |  25151.90 |\n",
       "| Oct 2000 |  25760.20 |    72.4 |  25687.80 |\n",
       "| Nov 2000 |  26461.20 |   384.7 |  26076.50 |\n",
       "| Dec 2000 |  27235.90 |   796.0 |  26439.90 |\n",
       "| Jan 2001 |  28289.30 |  1721.2 |  26568.10 |\n",
       "| Feb 2001 |  28393.00 |  1801.7 |  26591.30 |\n",
       "| Mar 2001 |  29417.90 |  2503.8 |  26914.10 |\n",
       "| Apr 2001 |  28886.80 |  1962.0 |  26924.80 |\n",
       "| May 2001 |  29065.40 |  1871.7 |  27193.70 |\n",
       "| Jun 2001 |  29377.00 |  1900.8 |  27476.20 |\n",
       "| Jul 2001 |  28822.80 |  1335.4 |  27487.40 |\n",
       "| Aug 2001 |  29356.90 |  1723.7 |  27633.20 |\n",
       "| Sep 2001 |  30081.60 |  1996.5 |  28085.10 |\n",
       "| Oct 2001 |  30805.60 |  1824.2 |  28981.50 |\n",
       "| Nov 2001 |  30444.90 |  1071.2 |  29373.70 |\n",
       "| Dec 2001 |  31251.70 |   969.8 |  30281.90 |\n",
       "| Jan 2002 |  30151.60 |    31.3 |  30120.30 |\n",
       "| Feb 2002 |  30749.70 |   299.2 |  30450.50 |\n",
       "| Mar 2002 |  31693.80 |  1153.5 |  30540.30 |\n",
       "| Apr 2002 |  30977.50 |   436.4 |  30541.10 |\n",
       "| May 2002 |  31822.30 |  1150.9 |  30671.40 |\n",
       "| Jun 2002 |  32769.40 |  1411.5 |  31357.90 |\n",
       "| Jul 2002 |  31896.30 |   521.0 |  31375.30 |\n",
       "| Aug 2002 |  32372.10 |   870.2 |  31501.90 |\n",
       "| Sep 2002 |  32533.00 |  1082.7 |  31450.30 |\n",
       "| Oct 2002 |  31654.40 |     1.3 |  31653.10 |\n",
       "| Nov 2002 |  31699.60 |  -245.8 |  31945.40 |\n",
       "| Dec 2002 |  32680.90 |   149.7 |  32531.20 |\n",
       "| Jan 2003 |  31936.60 |  -499.6 |  32436.20 |\n",
       "| Feb 2003 |  32034.10 |  -345.5 |  32379.60 |\n",
       "| Mar 2003 |  32626.60 |  -180.2 |  32806.80 |\n",
       "| Apr 2003 |  32305.00 |  -733.0 |  33038.00 |\n",
       "| May 2003 |  33266.70 |  -237.5 |  33504.20 |\n",
       "| Jun 2003 |  34115.10 |   616.5 |  33498.60 |\n",
       "| Jul 2003 |  33374.00 |  -130.7 |  33504.70 |\n",
       "| Aug 2003 |  34926.40 |  1085.1 |  33841.30 |\n",
       "| Sep 2003 |  35743.30 |  1514.4 |  34228.90 |\n",
       "| Oct 2003 |  35293.30 |   539.8 |  34753.50 |\n",
       "| Nov 2003 |  35826.70 |   698.4 |  35128.30 |\n",
       "| Dec 2003 |  36696.10 |  1251.9 |  35444.20 |\n",
       "| Jan 2004 |  35424.00 |   964.5 |  35671.70 |\n",
       "| Feb 2004 |  35602.60 |  1022.9 |  35877.60 |\n",
       "| Mar 2004 |  36330.70 |  1551.8 |  36119.30 |\n",
       "| Apr 2004 |  35250.30 |   145.1 |  35105.20 |\n",
       "| May 2004 |  35772.80 |   263.5 |  35509.30 |\n",
       "| Jun 2004 |  36162.70 |   517.8 |  35644.90 |\n",
       "| Jul 2004 |  36182.30 |    75.3 |  36107.00 |\n",
       "| Aug 2004 |  37135.00 |  1007.4 |  36127.60 |\n",
       "| Sep 2004 |  37653.70 |   620.0 |  37033.70 |\n",
       "| Oct 2004 |  39035.40 |  1483.3 |  37552.00 |\n",
       "| Nov 2004 |  39148.20 |   581.4 |  38566.80 |\n",
       "| Dec 2004 |  40778.00 |  1005.7 |  39772.30 |\n",
       "| Jan 2005 |  40702.30 |   688.7 |  40013.60 |\n",
       "| Feb 2005 |  41399.60 |   971.2 |  40428.40 |\n",
       "| Mar 2005 |  42116.80 |  1370.3 |  40746.50 |\n",
       "| Apr 2005 |  43688.30 |  2522.9 |  41165.40 |\n",
       "| May 2005 |  44274.10 |  2722.2 |  41551.90 |\n",
       "| Jun 2005 |  45674.70 |  3169.9 |  42504.80 |\n",
       "| Jul 2005 |  45808.90 |  2565.6 |  43243.30 |\n",
       "| Aug 2005 |  46589.60 |  2918.6 |  43671.00 |\n",
       "| Sep 2005 |  46894.70 |  2588.2 |  44306.50 |\n",
       "| Oct 2005 |  47577.80 |  2283.6 |  45294.20 |\n",
       "| Nov 2005 |  50061.60 |  3112.9 |  46948.70 |\n",
       "| Dec 2005 |  50543.50 |  2266.2 |  48277.30 |\n",
       "| Jan 2006 |  50359.40 |  1394.1 |  48965.30 |\n",
       "| Feb 2006 |  51752.50 |  1763.7 |  49988.80 |\n",
       "| Mar 2006 |  52724.70 |  1803.4 |  50921.30 |\n",
       "| Apr 2006 |  53878.70 |  2038.3 |  51840.40 |\n",
       "| May 2006 |  55327.80 |  2485.4 |  52842.40 |\n",
       "| Jun 2006 |  56750.90 |  2744.1 |  54006.80 |\n",
       "| Jul 2006 |  57697.30 |  2863.7 |  54833.60 |\n",
       "| Aug 2006 |  59560.50 |  3582.4 |  55978.10 |\n",
       "| Sep 2006 |  60219.70 |  3107.5 |  57112.20 |\n",
       "| Oct 2006 |  61002.30 |  2055.0 |  58947.30 |\n",
       "| Nov 2006 |  62690.00 |  2094.6 |  60595.40 |\n",
       "| Dec 2006 |  65388.30 |  3031.1 |  62357.20 |\n",
       "| Jan 2007 |  64035.20 |   613.8 |  63421.40 |\n",
       "| Feb 2007 |  65774.10 |  1393.3 |  64380.80 |\n",
       "| Mar 2007 |  66945.80 |  1447.1 |  65498.70 |\n",
       "| Apr 2007 |  67271.60 |  1186.8 |  66084.80 |\n",
       "| May 2007 |  68323.10 |  1321.8 |  67001.30 |\n",
       "| Jun 2007 |  70219.70 |  1752.0 |  68467.70 |\n",
       "| Jul 2007 |  71145.90 |  1256.7 |  69889.20 |\n",
       "| Aug 2007 |  72805.00 |  1735.8 |  71069.20 |\n",
       "| Sep 2007 |  74618.80 |  2068.2 |  72550.60 |\n",
       "| Oct 2007 |  76362.30 |  1809.7 |  74552.60 |\n",
       "| Nov 2007 |  78345.40 |  1855.2 |  76490.20 |\n",
       "| Dec 2007 |  81430.30 |  2863.3 |  78567.00 |\n",
       "| Jan 2008 |  79957.90 |   994.0 |  78963.90 |\n",
       "| Feb 2008 |  81390.40 |  1766.5 |  79623.90 |\n",
       "| Mar 2008 |  80979.50 |   979.5 |  80000.00 |\n",
       "| Apr 2008 |  81716.10 |  1082.3 |  80633.80 |\n",
       "| May 2008 |  82349.30 |  1150.2 |  81199.10 |\n",
       "| Jun 2008 |  82727.00 |   901.2 |  81825.80 |\n",
       "| Jul 2008 |  81887.60 |  -557.0 |  82444.60 |\n",
       "| Aug 2008 |  82879.80 |   -94.3 |  82974.10 |\n",
       "| Sep 2008 |  83247.00 |  -589.6 |  83836.60 |\n",
       "| Oct 2008 |  84226.50 |  -354.8 |  84581.30 |\n",
       "| Nov 2008 |  84477.40 | -1154.1 |  85631.50 |\n",
       "| Dec 2008 |  85982.60 | -1226.8 |  87209.40 |\n",
       "| Jan 2009 |  85265.10 | -2075.7 |  87340.80 |\n",
       "| Feb 2009 |  86184.70 | -1124.7 |  87309.40 |\n",
       "| Mar 2009 |  85840.00 | -1591.0 |  87431.00 |\n",
       "| Apr 2009 |  85571.40 | -1637.2 |  87208.60 |\n",
       "| May 2009 |  85732.80 | -1310.0 |  87042.80 |\n",
       "| Jun 2009 |  86053.70 | -1050.1 |  87103.80 |\n",
       "| Jul 2009 |  85552.30 | -1506.4 |  87058.70 |\n",
       "| Aug 2009 |  86186.30 | -1083.7 |  87270.00 |\n",
       "| Sep 2009 |  86983.80 |  -500.4 |  87484.20 |\n",
       "| Oct 2009 |  86860.70 |  -869.3 |  87730.00 |\n",
       "| Nov 2009 |  87898.70 |  -142.8 |  88041.50 |\n",
       "| Dec 2009 |  89363.80 |  1174.5 |  88189.30 |\n",
       "| Jan 2010 |  88954.30 |   535.9 |  88418.40 |\n",
       "| Feb 2010 |  88615.50 |  1007.4 |  87608.10 |\n",
       "| Mar 2010 |  87622.00 |   210.9 |  87411.10 |\n",
       "| Apr 2010 |  88338.20 |   469.6 |  87868.60 |\n",
       "| May 2010 |  87908.00 |  -406.1 |  88314.10 |\n",
       "| Jun 2010 |  90527.50 |  1871.8 |  88655.70 |\n",
       "| Jul 2010 |  91388.10 |  2881.7 |  88506.40 |\n",
       "| Aug 2010 |  91850.80 |  3413.1 |  88437.70 |\n",
       "| Sep 2010 |  93897.50 |  4481.1 |  89416.40 |\n",
       "| Oct 2010 |  94685.30 |  4499.8 |  90185.50 |\n",
       "| Nov 2010 |  96659.60 |  4445.1 |  92214.50 |\n",
       "| Dec 2010 |  99471.70 |  6221.9 |  93249.80 |\n",
       "| Jan 2011 |  98676.90 |  5087.2 |  93589.70 |\n",
       "| Feb 2011 |  99827.00 |  5806.4 |  94020.60 |\n",
       "| Mar 2011 |  99923.00 |  5447.9 |  94475.10 |\n",
       "| Apr 2011 | 101428.20 |  6304.4 |  95123.80 |\n",
       "| May 2011 | 101862.40 |  5844.9 |  96017.50 |\n",
       "| Jun 2011 | 104795.50 |  7336.6 |  97458.90 |\n",
       "| Jul 2011 | 105865.90 |  7717.8 |  98148.10 |\n",
       "| Aug 2011 | 106195.00 |  7512.1 |  98682.90 |\n",
       "| Sep 2011 | 108696.20 |  7882.6 | 100813.60 |\n",
       "| Oct 2011 | 111055.40 |  8897.8 | 102157.60 |\n",
       "| Nov 2011 | 113158.10 |  8406.8 | 104751.30 |\n",
       "| Dec 2011 | 115488.10 |  9096.3 | 106391.80 |\n",
       "| Jan 2012 | 114709.60 |  8808.8 | 105900.80 |\n",
       "| Feb 2012 | 116631.30 |  9320.7 | 107310.60 |\n",
       "| Mar 2012 | 117426.80 |  8720.2 | 108706.60 |\n",
       "| Apr 2012 | 118256.00 |  8626.5 | 109629.50 |\n",
       "| May 2012 | 119606.50 |  8627.4 | 110979.10 |\n",
       "| Jun 2012 | 120731.10 |  8594.1 | 112137.00 |\n",
       "| Jul 2012 | 121413.80 |  7851.5 | 113562.30 |\n",
       "| Aug 2012 | 122596.20 |  6629.4 | 115966.80 |\n",
       "| Sep 2012 | 123911.40 |  6026.1 | 117885.30 |\n",
       "| Oct 2012 | 123600.80 |  4609.6 | 118991.20 |\n",
       "| Nov 2012 | 126054.50 |  4956.8 | 121097.70 |\n",
       "| Dec 2012 | 131492.50 |  6317.0 | 125175.50 |\n",
       "| Jan 2013 | 130522.20 |  5573.1 | 124949.10 |\n",
       "| Feb 2013 | 133154.10 |  7546.9 | 125607.20 |\n",
       "| Mar 2013 | 133109.50 |  6842.3 | 126267.20 |\n",
       "| Apr 2013 | 133069.50 |  5809.1 | 127260.40 |\n",
       "| May 2013 | 134563.20 |  6498.2 | 128065.00 |\n",
       "| Jun 2013 | 135933.50 |  6616.6 | 129316.90 |\n",
       "| Jul 2013 | 137437.90 |  5404.9 | 132033.00 |\n",
       "| Aug 2013 | 140083.80 |  5597.0 | 134486.80 |\n",
       "| Sep 2013 | 142270.30 |  6360.3 | 135910.00 |\n",
       "| Oct 2013 | 143727.10 |  6047.9 | 137679.20 |\n",
       "| Nov 2013 | 147600.50 |  8098.3 | 139502.20 |\n",
       "| Dec 2013 | 147420.70 |  7262.0 | 140158.70 |\n",
       "| Jan 2014 | 145225.00 |  5477.2 | 139747.80 |\n",
       "| Feb 2014 | 146638.70 |  6899.5 | 139739.20 |\n",
       "| Mar 2014 | 148639.80 |  8387.6 | 140252.20 |\n",
       "| Apr 2014 | 150778.00 |  8426.8 | 142351.20 |\n",
       "| May 2014 | 152572.40 |  9374.4 | 143198.00 |\n",
       "| Jun 2014 | 152982.60 |  8151.2 | 144831.40 |\n",
       "| Jul 2014 | 153166.00 |  6854.8 | 146311.20 |\n",
       "| Aug 2014 | 155051.20 |  8270.8 | 146780.40 |\n",
       "| Sep 2014 | 155882.80 |  8359.7 | 147523.10 |\n",
       "| Oct 2014 | 155881.50 |  7160.3 | 148721.20 |\n",
       "| Nov 2014 | 157893.40 |  7660.1 | 150233.30 |\n",
       "| Dec 2014 | 162608.40 | 10153.4 | 152455.00 |\n",
       "| Jan 2015 | 165160.90 | 11691.8 | 153469.10 |\n",
       "| Feb 2015 | 166008.30 | 10385.8 | 155622.50 |\n",
       "| Mar 2015 | 167703.80 | 11120.2 | 156583.60 |\n",
       "| Apr 2015 | 169565.30 | 11012.4 | 158552.90 |\n",
       "| May 2015 | 170859.50 | 10185.9 | 160673.60 |\n",
       "| Jun 2015 | 172214.70 | 10783.5 | 161431.20 |\n",
       "| Jul 2015 | 173099.50 | 10207.2 | 162892.30 |\n",
       "| Aug 2015 | 175314.50 | 10460.9 | 164853.60 |\n",
       "| Sep 2015 | 174995.80 |  8623.4 | 166372.40 |\n",
       "| Oct 2015 | 176762.00 |  8339.6 | 168422.40 |\n",
       "| Nov 2015 | 178847.20 |  8518.7 | 170328.50 |\n",
       "| Dec 2015 | 180978.90 |  8942.7 | 172036.20 |\n",
       "| Jan 2016 | 181817.60 |  9095.7 | 172721.90 |\n",
       "| Feb 2016 | 181453.50 |  8707.9 | 172745.60 |\n",
       "| Mar 2016 | 180462.60 |  7505.2 | 172957.40 |\n",
       "| Apr 2016 | 180870.10 |  7663.9 | 173206.20 |\n",
       "| May 2016 | 180387.80 |  6659.8 | 173728.00 |\n",
       "| Jun 2016 | 180629.70 |  7121.2 | 173508.50 |\n",
       "| Jul 2016 | 180520.70 |  6418.2 | 174102.50 |\n",
       "| Aug 2016 | 180119.50 |  5447.8 | 174671.70 |\n",
       "| Sep 2016 | 181300.00 |  6109.6 | 175190.40 |\n",
       "| Oct 2016 | 181473.30 |  5771.2 | 175702.10 |\n",
       "| Nov 2016 | 185528.10 |  6886.1 | 178642.00 |\n",
       "| Dec 2016 | 190851.50 |  8652.8 | 182198.70 |\n",
       "| Jan 2017 | 187099.70 |  5649.0 | 181450.70 |\n",
       "| Feb 2017 | 190612.70 |  9160.7 | 181452.00 |\n",
       "| Mar 2017 | 191230.70 |  9293.0 | 181937.70 |\n",
       "| Apr 2017 | 191603.70 |  8627.2 | 182976.50 |\n",
       "| May 2017 | 192023.60 |  8911.5 | 183112.10 |\n",
       "| Jun 2017 | 192603.10 |  8705.2 | 183897.90 |\n",
       "| Jul 2017 | 191986.30 |  8595.6 | 183390.70 |\n",
       "| Aug 2017 | 192052.40 |  8455.2 | 183597.20 |\n",
       "| Sep 2017 | 192638.60 |  8377.2 | 184261.40 |\n",
       "| Oct 2017 | 193122.70 |  7942.8 | 185179.90 |\n",
       "| Nov 2017 | 195493.30 |  8093.4 | 187399.90 |\n",
       "| Dec 2017 | 199373.60 | 10330.6 | 189043.00 |\n",
       "| Jan 2018 | 197831.00 |  9355.2 | 188475.80 |\n",
       "| Feb 2018 | 199282.50 | 10721.3 | 188561.20 |\n",
       "| Mar 2018 | 201774.90 | 11896.1 | 189878.80 |\n",
       "| Apr 2018 | 202552.10 | 12465.0 | 190087.10 |\n",
       "| May 2018 | 204299.50 | 12907.6 | 191391.90 |\n",
       "| Jun 2018 | 205762.20 | 13862.5 | 191899.70 |\n",
       "| Jul 2018 | 206081.10 | 14464.7 | 191616.40 |\n",
       "| Aug 2018 | 207696.70 | 15293.4 | 192403.30 |\n",
       "| Sep 2018 | 212636.70 | 17393.0 | 195243.70 |\n",
       "| Oct 2018 | 214047.00 | 16838.2 | 197208.80 |\n",
       "| Nov 2018 | 218150.10 | 18895.9 | 199254.20 |\n",
       "| Dec 2018 | 221409.30 | 19188.7 | 202220.60 |\n",
       "| Jan 2019 | 219252.40 | 17814.1 | 201438.30 |\n",
       "| Feb 2019 | 221451.30 | 19240.2 | 202211.10 |\n",
       "| Mar 2019 | 223295.50 | 20194.7 | 203100.80 |\n",
       "| Apr 2019 | 225097.10 | 20786.8 | 204310.30 |\n",
       "| May 2019 | 226850.60 | 21649.8 | 205200.80 |\n",
       "| Jun 2019 | 227741.20 | 21933.6 | 205807.60 |\n",
       "| Jul 2019 | 227331.30 | 22391.2 | 204940.10 |\n",
       "| Aug 2019 | 228574.30 | 23305.5 | 205268.80 |\n",
       "| Sep 2019 | 230222.30 | 23120.5 | 207101.80 |\n",
       "| Oct 2019 | 230410.00 | 21482.3 | 208927.70 |\n",
       "| Nov 2019 | 233998.70 | 23204.8 | 210793.90 |\n",
       "| Dec 2019 | 236501.10 | 23672.4 | 212828.70 |\n",
       "\n"
      ],
      "text/plain": [
       "         Series 1  Series 2 Series 3 \n",
       "Jan 1995  10294.69   458.7    9835.99\n",
       "Feb 1995  10484.68   393.9   10090.78\n",
       "Mar 1995  11110.65   698.9   10411.75\n",
       "Apr 1995  11016.43   405.7   10610.73\n",
       "May 1995  11403.03   566.7   10836.33\n",
       "Jun 1995  11301.38   266.7   11034.68\n",
       "Jul 1995  11504.61   354.7   11149.91\n",
       "Aug 1995  11897.58   588.2   11309.38\n",
       "Sep 1995  12270.32   770.1   11500.22\n",
       "Oct 1995  12175.19   307.1   11868.09\n",
       "Nov 1995  12415.64   238.7   12176.94\n",
       "Dec 1995  12713.50   234.1   12479.40\n",
       "Jan 1996  13191.75   520.4   12671.35\n",
       "Feb 1996  13186.30   402.5   12783.80\n",
       "Mar 1996  13300.19   342.6   12957.59\n",
       "Apr 1996  13721.39   620.8   13100.59\n",
       "May 1996  13560.76   357.9   13202.86\n",
       "Jun 1996  13699.30   456.8   13242.50\n",
       "Jul 1996  13852.90   454.5   13398.40\n",
       "Aug 1996  13893.90   520.5   13373.40\n",
       "Sep 1996  14034.50   529.0   13505.50\n",
       "Oct 1996  14266.80   690.1   13576.70\n",
       "Nov 1996  14230.80   552.3   13678.50\n",
       "Dec 1996  14877.10   869.9   14007.20\n",
       "Jan 1997  15239.50  1182.7   14056.80\n",
       "Feb 1997  15725.50  1371.8   14353.70\n",
       "Mar 1997  15680.50  1396.2   14284.30\n",
       "Apr 1997  16158.00  1760.0   14398.00\n",
       "May 1997  16184.40  1805.7   14378.70\n",
       "Jun 1997  16316.90  1830.3   14486.60\n",
       "Jul 1997  16654.10  1890.2   14763.90\n",
       "Aug 1997  17387.10  2347.3   15039.80\n",
       "Sep 1997  17040.00  1756.2   15283.80\n",
       "Oct 1997  17894.70  2246.4   15648.30\n",
       "Nov 1997  18480.70  2250.1   16230.60\n",
       "Dec 1997  18606.50  2002.4   16604.10\n",
       "Jan 1998  19894.20  3105.3   16788.90\n",
       "Feb 1998  19243.40  2049.7   17193.70\n",
       "Mar 1998  20402.70  3038.6   17364.10\n",
       "Apr 1998  20614.60  2868.4   17746.20\n",
       "May 1998  20675.10  2459.4   18215.70\n",
       "Jun 1998  21171.40  2827.6   18343.80\n",
       "Jul 1998  21280.60  2494.5   18786.10\n",
       "Aug 1998  21638.30  2431.1   19207.20\n",
       "Sep 1998  21825.80  1981.1   19844.70\n",
       "Oct 1998  22506.90  1912.8   20594.10\n",
       "Nov 1998  22353.40  1290.8   21062.60\n",
       "Dec 1998  22825.40  1681.0   21144.40\n",
       "Jan 1999  22828.80  1408.5   21420.30\n",
       "Feb 1999  22441.80  1004.2   21437.60\n",
       "Mar 1999  22849.90  1004.6   21845.30\n",
       "Apr 1999  23283.50  1065.1   22218.40\n",
       "May 1999  23683.60  1297.4   22386.20\n",
       "Jun 1999  23823.80  1251.1   22572.70\n",
       "Jul 1999  23909.90  1208.3   22701.60\n",
       "Aug 1999  24866.40  1712.8   23153.60\n",
       "Sep 1999  24542.70  1344.3   23198.40\n",
       "Oct 1999  24280.40   953.8   23326.60\n",
       "Nov 1999  24752.90  1006.3   23746.60\n",
       "Dec 1999  25500.30  1400.4   24099.90\n",
       "Jan 2000  25486.80  1159.1   24327.70\n",
       "Feb 2000  25425.40   959.6   24465.80\n",
       "Mar 2000  25588.90  1401.0   24187.90\n",
       "Apr 2000  25607.70  1478.6   24129.10\n",
       "May 2000  25401.60  1373.6   24028.00\n",
       "Jun 2000  25203.30  1165.3   24038.00\n",
       "Jul 2000  25750.20  1509.1   24241.10\n",
       "Aug 2000  26659.10  1745.9   24913.20\n",
       "Sep 2000  26608.60  1456.7   25151.90\n",
       "Oct 2000  25760.20    72.4   25687.80\n",
       "Nov 2000  26461.20   384.7   26076.50\n",
       "Dec 2000  27235.90   796.0   26439.90\n",
       "Jan 2001  28289.30  1721.2   26568.10\n",
       "Feb 2001  28393.00  1801.7   26591.30\n",
       "Mar 2001  29417.90  2503.8   26914.10\n",
       "Apr 2001  28886.80  1962.0   26924.80\n",
       "May 2001  29065.40  1871.7   27193.70\n",
       "Jun 2001  29377.00  1900.8   27476.20\n",
       "Jul 2001  28822.80  1335.4   27487.40\n",
       "Aug 2001  29356.90  1723.7   27633.20\n",
       "Sep 2001  30081.60  1996.5   28085.10\n",
       "Oct 2001  30805.60  1824.2   28981.50\n",
       "Nov 2001  30444.90  1071.2   29373.70\n",
       "Dec 2001  31251.70   969.8   30281.90\n",
       "Jan 2002  30151.60    31.3   30120.30\n",
       "Feb 2002  30749.70   299.2   30450.50\n",
       "Mar 2002  31693.80  1153.5   30540.30\n",
       "Apr 2002  30977.50   436.4   30541.10\n",
       "May 2002  31822.30  1150.9   30671.40\n",
       "Jun 2002  32769.40  1411.5   31357.90\n",
       "Jul 2002  31896.30   521.0   31375.30\n",
       "Aug 2002  32372.10   870.2   31501.90\n",
       "Sep 2002  32533.00  1082.7   31450.30\n",
       "Oct 2002  31654.40     1.3   31653.10\n",
       "Nov 2002  31699.60  -245.8   31945.40\n",
       "Dec 2002  32680.90   149.7   32531.20\n",
       "Jan 2003  31936.60  -499.6   32436.20\n",
       "Feb 2003  32034.10  -345.5   32379.60\n",
       "Mar 2003  32626.60  -180.2   32806.80\n",
       "Apr 2003  32305.00  -733.0   33038.00\n",
       "May 2003  33266.70  -237.5   33504.20\n",
       "Jun 2003  34115.10   616.5   33498.60\n",
       "Jul 2003  33374.00  -130.7   33504.70\n",
       "Aug 2003  34926.40  1085.1   33841.30\n",
       "Sep 2003  35743.30  1514.4   34228.90\n",
       "Oct 2003  35293.30   539.8   34753.50\n",
       "Nov 2003  35826.70   698.4   35128.30\n",
       "Dec 2003  36696.10  1251.9   35444.20\n",
       "Jan 2004  35424.00   964.5   35671.70\n",
       "Feb 2004  35602.60  1022.9   35877.60\n",
       "Mar 2004  36330.70  1551.8   36119.30\n",
       "Apr 2004  35250.30   145.1   35105.20\n",
       "May 2004  35772.80   263.5   35509.30\n",
       "Jun 2004  36162.70   517.8   35644.90\n",
       "Jul 2004  36182.30    75.3   36107.00\n",
       "Aug 2004  37135.00  1007.4   36127.60\n",
       "Sep 2004  37653.70   620.0   37033.70\n",
       "Oct 2004  39035.40  1483.3   37552.00\n",
       "Nov 2004  39148.20   581.4   38566.80\n",
       "Dec 2004  40778.00  1005.7   39772.30\n",
       "Jan 2005  40702.30   688.7   40013.60\n",
       "Feb 2005  41399.60   971.2   40428.40\n",
       "Mar 2005  42116.80  1370.3   40746.50\n",
       "Apr 2005  43688.30  2522.9   41165.40\n",
       "May 2005  44274.10  2722.2   41551.90\n",
       "Jun 2005  45674.70  3169.9   42504.80\n",
       "Jul 2005  45808.90  2565.6   43243.30\n",
       "Aug 2005  46589.60  2918.6   43671.00\n",
       "Sep 2005  46894.70  2588.2   44306.50\n",
       "Oct 2005  47577.80  2283.6   45294.20\n",
       "Nov 2005  50061.60  3112.9   46948.70\n",
       "Dec 2005  50543.50  2266.2   48277.30\n",
       "Jan 2006  50359.40  1394.1   48965.30\n",
       "Feb 2006  51752.50  1763.7   49988.80\n",
       "Mar 2006  52724.70  1803.4   50921.30\n",
       "Apr 2006  53878.70  2038.3   51840.40\n",
       "May 2006  55327.80  2485.4   52842.40\n",
       "Jun 2006  56750.90  2744.1   54006.80\n",
       "Jul 2006  57697.30  2863.7   54833.60\n",
       "Aug 2006  59560.50  3582.4   55978.10\n",
       "Sep 2006  60219.70  3107.5   57112.20\n",
       "Oct 2006  61002.30  2055.0   58947.30\n",
       "Nov 2006  62690.00  2094.6   60595.40\n",
       "Dec 2006  65388.30  3031.1   62357.20\n",
       "Jan 2007  64035.20   613.8   63421.40\n",
       "Feb 2007  65774.10  1393.3   64380.80\n",
       "Mar 2007  66945.80  1447.1   65498.70\n",
       "Apr 2007  67271.60  1186.8   66084.80\n",
       "May 2007  68323.10  1321.8   67001.30\n",
       "Jun 2007  70219.70  1752.0   68467.70\n",
       "Jul 2007  71145.90  1256.7   69889.20\n",
       "Aug 2007  72805.00  1735.8   71069.20\n",
       "Sep 2007  74618.80  2068.2   72550.60\n",
       "Oct 2007  76362.30  1809.7   74552.60\n",
       "Nov 2007  78345.40  1855.2   76490.20\n",
       "Dec 2007  81430.30  2863.3   78567.00\n",
       "Jan 2008  79957.90   994.0   78963.90\n",
       "Feb 2008  81390.40  1766.5   79623.90\n",
       "Mar 2008  80979.50   979.5   80000.00\n",
       "Apr 2008  81716.10  1082.3   80633.80\n",
       "May 2008  82349.30  1150.2   81199.10\n",
       "Jun 2008  82727.00   901.2   81825.80\n",
       "Jul 2008  81887.60  -557.0   82444.60\n",
       "Aug 2008  82879.80   -94.3   82974.10\n",
       "Sep 2008  83247.00  -589.6   83836.60\n",
       "Oct 2008  84226.50  -354.8   84581.30\n",
       "Nov 2008  84477.40 -1154.1   85631.50\n",
       "Dec 2008  85982.60 -1226.8   87209.40\n",
       "Jan 2009  85265.10 -2075.7   87340.80\n",
       "Feb 2009  86184.70 -1124.7   87309.40\n",
       "Mar 2009  85840.00 -1591.0   87431.00\n",
       "Apr 2009  85571.40 -1637.2   87208.60\n",
       "May 2009  85732.80 -1310.0   87042.80\n",
       "Jun 2009  86053.70 -1050.1   87103.80\n",
       "Jul 2009  85552.30 -1506.4   87058.70\n",
       "Aug 2009  86186.30 -1083.7   87270.00\n",
       "Sep 2009  86983.80  -500.4   87484.20\n",
       "Oct 2009  86860.70  -869.3   87730.00\n",
       "Nov 2009  87898.70  -142.8   88041.50\n",
       "Dec 2009  89363.80  1174.5   88189.30\n",
       "Jan 2010  88954.30   535.9   88418.40\n",
       "Feb 2010  88615.50  1007.4   87608.10\n",
       "Mar 2010  87622.00   210.9   87411.10\n",
       "Apr 2010  88338.20   469.6   87868.60\n",
       "May 2010  87908.00  -406.1   88314.10\n",
       "Jun 2010  90527.50  1871.8   88655.70\n",
       "Jul 2010  91388.10  2881.7   88506.40\n",
       "Aug 2010  91850.80  3413.1   88437.70\n",
       "Sep 2010  93897.50  4481.1   89416.40\n",
       "Oct 2010  94685.30  4499.8   90185.50\n",
       "Nov 2010  96659.60  4445.1   92214.50\n",
       "Dec 2010  99471.70  6221.9   93249.80\n",
       "Jan 2011  98676.90  5087.2   93589.70\n",
       "Feb 2011  99827.00  5806.4   94020.60\n",
       "Mar 2011  99923.00  5447.9   94475.10\n",
       "Apr 2011 101428.20  6304.4   95123.80\n",
       "May 2011 101862.40  5844.9   96017.50\n",
       "Jun 2011 104795.50  7336.6   97458.90\n",
       "Jul 2011 105865.90  7717.8   98148.10\n",
       "Aug 2011 106195.00  7512.1   98682.90\n",
       "Sep 2011 108696.20  7882.6  100813.60\n",
       "Oct 2011 111055.40  8897.8  102157.60\n",
       "Nov 2011 113158.10  8406.8  104751.30\n",
       "Dec 2011 115488.10  9096.3  106391.80\n",
       "Jan 2012 114709.60  8808.8  105900.80\n",
       "Feb 2012 116631.30  9320.7  107310.60\n",
       "Mar 2012 117426.80  8720.2  108706.60\n",
       "Apr 2012 118256.00  8626.5  109629.50\n",
       "May 2012 119606.50  8627.4  110979.10\n",
       "Jun 2012 120731.10  8594.1  112137.00\n",
       "Jul 2012 121413.80  7851.5  113562.30\n",
       "Aug 2012 122596.20  6629.4  115966.80\n",
       "Sep 2012 123911.40  6026.1  117885.30\n",
       "Oct 2012 123600.80  4609.6  118991.20\n",
       "Nov 2012 126054.50  4956.8  121097.70\n",
       "Dec 2012 131492.50  6317.0  125175.50\n",
       "Jan 2013 130522.20  5573.1  124949.10\n",
       "Feb 2013 133154.10  7546.9  125607.20\n",
       "Mar 2013 133109.50  6842.3  126267.20\n",
       "Apr 2013 133069.50  5809.1  127260.40\n",
       "May 2013 134563.20  6498.2  128065.00\n",
       "Jun 2013 135933.50  6616.6  129316.90\n",
       "Jul 2013 137437.90  5404.9  132033.00\n",
       "Aug 2013 140083.80  5597.0  134486.80\n",
       "Sep 2013 142270.30  6360.3  135910.00\n",
       "Oct 2013 143727.10  6047.9  137679.20\n",
       "Nov 2013 147600.50  8098.3  139502.20\n",
       "Dec 2013 147420.70  7262.0  140158.70\n",
       "Jan 2014 145225.00  5477.2  139747.80\n",
       "Feb 2014 146638.70  6899.5  139739.20\n",
       "Mar 2014 148639.80  8387.6  140252.20\n",
       "Apr 2014 150778.00  8426.8  142351.20\n",
       "May 2014 152572.40  9374.4  143198.00\n",
       "Jun 2014 152982.60  8151.2  144831.40\n",
       "Jul 2014 153166.00  6854.8  146311.20\n",
       "Aug 2014 155051.20  8270.8  146780.40\n",
       "Sep 2014 155882.80  8359.7  147523.10\n",
       "Oct 2014 155881.50  7160.3  148721.20\n",
       "Nov 2014 157893.40  7660.1  150233.30\n",
       "Dec 2014 162608.40 10153.4  152455.00\n",
       "Jan 2015 165160.90 11691.8  153469.10\n",
       "Feb 2015 166008.30 10385.8  155622.50\n",
       "Mar 2015 167703.80 11120.2  156583.60\n",
       "Apr 2015 169565.30 11012.4  158552.90\n",
       "May 2015 170859.50 10185.9  160673.60\n",
       "Jun 2015 172214.70 10783.5  161431.20\n",
       "Jul 2015 173099.50 10207.2  162892.30\n",
       "Aug 2015 175314.50 10460.9  164853.60\n",
       "Sep 2015 174995.80  8623.4  166372.40\n",
       "Oct 2015 176762.00  8339.6  168422.40\n",
       "Nov 2015 178847.20  8518.7  170328.50\n",
       "Dec 2015 180978.90  8942.7  172036.20\n",
       "Jan 2016 181817.60  9095.7  172721.90\n",
       "Feb 2016 181453.50  8707.9  172745.60\n",
       "Mar 2016 180462.60  7505.2  172957.40\n",
       "Apr 2016 180870.10  7663.9  173206.20\n",
       "May 2016 180387.80  6659.8  173728.00\n",
       "Jun 2016 180629.70  7121.2  173508.50\n",
       "Jul 2016 180520.70  6418.2  174102.50\n",
       "Aug 2016 180119.50  5447.8  174671.70\n",
       "Sep 2016 181300.00  6109.6  175190.40\n",
       "Oct 2016 181473.30  5771.2  175702.10\n",
       "Nov 2016 185528.10  6886.1  178642.00\n",
       "Dec 2016 190851.50  8652.8  182198.70\n",
       "Jan 2017 187099.70  5649.0  181450.70\n",
       "Feb 2017 190612.70  9160.7  181452.00\n",
       "Mar 2017 191230.70  9293.0  181937.70\n",
       "Apr 2017 191603.70  8627.2  182976.50\n",
       "May 2017 192023.60  8911.5  183112.10\n",
       "Jun 2017 192603.10  8705.2  183897.90\n",
       "Jul 2017 191986.30  8595.6  183390.70\n",
       "Aug 2017 192052.40  8455.2  183597.20\n",
       "Sep 2017 192638.60  8377.2  184261.40\n",
       "Oct 2017 193122.70  7942.8  185179.90\n",
       "Nov 2017 195493.30  8093.4  187399.90\n",
       "Dec 2017 199373.60 10330.6  189043.00\n",
       "Jan 2018 197831.00  9355.2  188475.80\n",
       "Feb 2018 199282.50 10721.3  188561.20\n",
       "Mar 2018 201774.90 11896.1  189878.80\n",
       "Apr 2018 202552.10 12465.0  190087.10\n",
       "May 2018 204299.50 12907.6  191391.90\n",
       "Jun 2018 205762.20 13862.5  191899.70\n",
       "Jul 2018 206081.10 14464.7  191616.40\n",
       "Aug 2018 207696.70 15293.4  192403.30\n",
       "Sep 2018 212636.70 17393.0  195243.70\n",
       "Oct 2018 214047.00 16838.2  197208.80\n",
       "Nov 2018 218150.10 18895.9  199254.20\n",
       "Dec 2018 221409.30 19188.7  202220.60\n",
       "Jan 2019 219252.40 17814.1  201438.30\n",
       "Feb 2019 221451.30 19240.2  202211.10\n",
       "Mar 2019 223295.50 20194.7  203100.80\n",
       "Apr 2019 225097.10 20786.8  204310.30\n",
       "May 2019 226850.60 21649.8  205200.80\n",
       "Jun 2019 227741.20 21933.6  205807.60\n",
       "Jul 2019 227331.30 22391.2  204940.10\n",
       "Aug 2019 228574.30 23305.5  205268.80\n",
       "Sep 2019 230222.30 23120.5  207101.80\n",
       "Oct 2019 230410.00 21482.3  208927.70\n",
       "Nov 2019 233998.70 23204.8  210793.90\n",
       "Dec 2019 236501.10 23672.4  212828.70"
      ]
     },
     "metadata": {},
     "output_type": "display_data"
    }
   ],
   "source": [
    "# Creamos el objeto matrix, según las series a incluir, el punto inicial de la fecha\n",
    "# y la cantidad de observaciones a incluir. IMPORTANTE, COLOCAR LA FRECUENCIA\n",
    "series = ts(matrix(c(af1,af2,af3), 300, 3), start= c(1995, 1),  frequency=12)\n",
    "series"
   ]
  },
  {
   "cell_type": "code",
   "execution_count": 97,
   "metadata": {
    "slideshow": {
     "slide_type": "subslide"
    }
   },
   "outputs": [
    {
     "data": {
      "image/png": "[encoded data removed]",
      "text/plain": [
       "plot without title"
      ]
     },
     "metadata": {
      "image/png": {
       "height": 420,
       "width": 420
      },
      "text/plain": {
       "height": 420,
       "width": 420
      }
     },
     "output_type": "display_data"
    }
   ],
   "source": [
    "# Ahora podemos ver la gráfica\n",
    "plot(series[,1], col = \"black\")"
   ]
  },
  {
   "cell_type": "code",
   "execution_count": 98,
   "metadata": {
    "slideshow": {
     "slide_type": "subslide"
    }
   },
   "outputs": [
    {
     "data": {
      "image/png": "[encoded data removed]",
      "text/plain": [
       "plot without title"
      ]
     },
     "metadata": {
      "image/png": {
       "height": 420,
       "width": 420
      },
      "text/plain": {
       "height": 420,
       "width": 420
      }
     },
     "output_type": "display_data"
    }
   ],
   "source": [
    "plot(series)"
   ]
  },
  {
   "cell_type": "code",
   "execution_count": 99,
   "metadata": {
    "slideshow": {
     "slide_type": "subslide"
    }
   },
   "outputs": [
    {
     "data": {
      "text/html": [
       "<table>\n",
       "<caption>A Time Series: 100 × 3</caption>\n",
       "<thead>\n",
       "\t<tr><th></th><th scope=col>Series 1</th><th scope=col>Series 2</th><th scope=col>Series 3</th></tr>\n",
       "</thead>\n",
       "<tbody>\n",
       "\t<tr><th scope=row>1995 Q1</th><td> 10630.01</td><td>  517.16667</td><td> 10112.84</td></tr>\n",
       "\t<tr><th scope=row>1995 Q2</th><td> 11240.28</td><td>  413.03333</td><td> 10827.25</td></tr>\n",
       "\t<tr><th scope=row>1995 Q3</th><td> 11890.84</td><td>  571.00000</td><td> 11319.84</td></tr>\n",
       "\t<tr><th scope=row>1995 Q4</th><td> 12434.78</td><td>  259.96667</td><td> 12174.81</td></tr>\n",
       "\t<tr><th scope=row>1996 Q1</th><td> 13226.08</td><td>  421.83333</td><td> 12804.24</td></tr>\n",
       "\t<tr><th scope=row>1996 Q2</th><td> 13660.48</td><td>  478.50000</td><td> 13181.98</td></tr>\n",
       "\t<tr><th scope=row>1996 Q3</th><td> 13927.10</td><td>  501.33333</td><td> 13425.77</td></tr>\n",
       "\t<tr><th scope=row>1996 Q4</th><td> 14458.23</td><td>  704.10000</td><td> 13754.13</td></tr>\n",
       "\t<tr><th scope=row>1997 Q1</th><td> 15548.50</td><td> 1316.90000</td><td> 14231.60</td></tr>\n",
       "\t<tr><th scope=row>1997 Q2</th><td> 16219.77</td><td> 1798.66667</td><td> 14421.10</td></tr>\n",
       "\t<tr><th scope=row>1997 Q3</th><td> 17027.07</td><td> 1997.90000</td><td> 15029.17</td></tr>\n",
       "\t<tr><th scope=row>1997 Q4</th><td> 18327.30</td><td> 2166.30000</td><td> 16161.00</td></tr>\n",
       "\t<tr><th scope=row>1998 Q1</th><td> 19846.77</td><td> 2731.20000</td><td> 17115.57</td></tr>\n",
       "\t<tr><th scope=row>1998 Q2</th><td> 20820.37</td><td> 2718.46667</td><td> 18101.90</td></tr>\n",
       "\t<tr><th scope=row>1998 Q3</th><td> 21581.57</td><td> 2302.23333</td><td> 19279.33</td></tr>\n",
       "\t<tr><th scope=row>1998 Q4</th><td> 22561.90</td><td> 1628.20000</td><td> 20933.70</td></tr>\n",
       "\t<tr><th scope=row>1999 Q1</th><td> 22706.83</td><td> 1139.10000</td><td> 21567.73</td></tr>\n",
       "\t<tr><th scope=row>1999 Q2</th><td> 23596.97</td><td> 1204.53333</td><td> 22392.43</td></tr>\n",
       "\t<tr><th scope=row>1999 Q3</th><td> 24439.67</td><td> 1421.80000</td><td> 23017.87</td></tr>\n",
       "\t<tr><th scope=row>1999 Q4</th><td> 24844.53</td><td> 1120.16667</td><td> 23724.37</td></tr>\n",
       "\t<tr><th scope=row>2000 Q1</th><td> 25500.37</td><td> 1173.23333</td><td> 24327.13</td></tr>\n",
       "\t<tr><th scope=row>2000 Q2</th><td> 25404.20</td><td> 1339.16667</td><td> 24065.03</td></tr>\n",
       "\t<tr><th scope=row>2000 Q3</th><td> 26339.30</td><td> 1570.56667</td><td> 24768.73</td></tr>\n",
       "\t<tr><th scope=row>2000 Q4</th><td> 26485.77</td><td>  417.70000</td><td> 26068.07</td></tr>\n",
       "\t<tr><th scope=row>2001 Q1</th><td> 28700.07</td><td> 2008.90000</td><td> 26691.17</td></tr>\n",
       "\t<tr><th scope=row>2001 Q2</th><td> 29109.73</td><td> 1911.50000</td><td> 27198.23</td></tr>\n",
       "\t<tr><th scope=row>2001 Q3</th><td> 29420.43</td><td> 1685.20000</td><td> 27735.23</td></tr>\n",
       "\t<tr><th scope=row>2001 Q4</th><td> 30834.07</td><td> 1288.40000</td><td> 29545.70</td></tr>\n",
       "\t<tr><th scope=row>2002 Q1</th><td> 30865.03</td><td>  494.66667</td><td> 30370.37</td></tr>\n",
       "\t<tr><th scope=row>2002 Q2</th><td> 31856.40</td><td>  999.60000</td><td> 30856.80</td></tr>\n",
       "\t<tr><th scope=row>2002 Q3</th><td> 32267.13</td><td>  824.63333</td><td> 31442.50</td></tr>\n",
       "\t<tr><th scope=row>2002 Q4</th><td> 32011.63</td><td>  -31.60000</td><td> 32043.23</td></tr>\n",
       "\t<tr><th scope=row>2003 Q1</th><td> 32199.10</td><td> -341.76667</td><td> 32540.87</td></tr>\n",
       "\t<tr><th scope=row>2003 Q2</th><td> 33228.93</td><td> -118.00000</td><td> 33346.93</td></tr>\n",
       "\t<tr><th scope=row>2003 Q3</th><td> 34681.23</td><td>  822.93333</td><td> 33858.30</td></tr>\n",
       "\t<tr><th scope=row>2003 Q4</th><td> 35938.70</td><td>  830.03333</td><td> 35108.67</td></tr>\n",
       "\t<tr><th scope=row>2004 Q1</th><td> 35785.77</td><td> 1179.73333</td><td> 35889.53</td></tr>\n",
       "\t<tr><th scope=row>2004 Q2</th><td> 35728.60</td><td>  308.80000</td><td> 35419.80</td></tr>\n",
       "\t<tr><th scope=row>2004 Q3</th><td> 36990.33</td><td>  567.56667</td><td> 36422.77</td></tr>\n",
       "\t<tr><th scope=row>2004 Q4</th><td> 39653.87</td><td> 1023.46667</td><td> 38630.37</td></tr>\n",
       "\t<tr><th scope=row>2005 Q1</th><td> 41406.23</td><td> 1010.06667</td><td> 40396.17</td></tr>\n",
       "\t<tr><th scope=row>2005 Q2</th><td> 44545.70</td><td> 2805.00000</td><td> 41740.70</td></tr>\n",
       "\t<tr><th scope=row>2005 Q3</th><td> 46431.07</td><td> 2690.80000</td><td> 43740.27</td></tr>\n",
       "\t<tr><th scope=row>2005 Q4</th><td> 49394.30</td><td> 2554.23333</td><td> 46840.07</td></tr>\n",
       "\t<tr><th scope=row>2006 Q1</th><td> 51612.20</td><td> 1653.73333</td><td> 49958.47</td></tr>\n",
       "\t<tr><th scope=row>2006 Q2</th><td> 55319.13</td><td> 2422.60000</td><td> 52896.53</td></tr>\n",
       "\t<tr><th scope=row>2006 Q3</th><td> 59159.17</td><td> 3184.53333</td><td> 55974.63</td></tr>\n",
       "\t<tr><th scope=row>2006 Q4</th><td> 63026.87</td><td> 2393.56667</td><td> 60633.30</td></tr>\n",
       "\t<tr><th scope=row>2007 Q1</th><td> 65585.03</td><td> 1151.40000</td><td> 64433.63</td></tr>\n",
       "\t<tr><th scope=row>2007 Q2</th><td> 68604.80</td><td> 1420.20000</td><td> 67184.60</td></tr>\n",
       "\t<tr><th scope=row>2007 Q3</th><td> 72856.57</td><td> 1686.90000</td><td> 71169.67</td></tr>\n",
       "\t<tr><th scope=row>2007 Q4</th><td> 78712.67</td><td> 2176.06667</td><td> 76536.60</td></tr>\n",
       "\t<tr><th scope=row>2008 Q1</th><td> 80775.93</td><td> 1246.66667</td><td> 79529.27</td></tr>\n",
       "\t<tr><th scope=row>2008 Q2</th><td> 82264.13</td><td> 1044.56667</td><td> 81219.57</td></tr>\n",
       "\t<tr><th scope=row>2008 Q3</th><td> 82671.47</td><td> -413.63333</td><td> 83085.10</td></tr>\n",
       "\t<tr><th scope=row>2008 Q4</th><td> 84895.50</td><td> -911.90000</td><td> 85807.40</td></tr>\n",
       "\t<tr><th scope=row>2009 Q1</th><td> 85763.27</td><td>-1597.13333</td><td> 87360.40</td></tr>\n",
       "\t<tr><th scope=row>2009 Q2</th><td> 85785.97</td><td>-1332.43333</td><td> 87118.40</td></tr>\n",
       "\t<tr><th scope=row>2009 Q3</th><td> 86240.80</td><td>-1030.16667</td><td> 87270.97</td></tr>\n",
       "\t<tr><th scope=row>2009 Q4</th><td> 88041.07</td><td>   54.13333</td><td> 87986.93</td></tr>\n",
       "\t<tr><th scope=row>2010 Q1</th><td> 88397.27</td><td>  584.73333</td><td> 87812.53</td></tr>\n",
       "\t<tr><th scope=row>2010 Q2</th><td> 88924.57</td><td>  645.10000</td><td> 88279.47</td></tr>\n",
       "\t<tr><th scope=row>2010 Q3</th><td> 92378.80</td><td> 3591.96667</td><td> 88786.83</td></tr>\n",
       "\t<tr><th scope=row>2010 Q4</th><td> 96938.87</td><td> 5055.60000</td><td> 91883.27</td></tr>\n",
       "\t<tr><th scope=row>2011 Q1</th><td> 99475.63</td><td> 5447.16667</td><td> 94028.47</td></tr>\n",
       "\t<tr><th scope=row>2011 Q2</th><td>102695.37</td><td> 6495.30000</td><td> 96200.07</td></tr>\n",
       "\t<tr><th scope=row>2011 Q3</th><td>106919.03</td><td> 7704.16667</td><td> 99214.87</td></tr>\n",
       "\t<tr><th scope=row>2011 Q4</th><td>113233.87</td><td> 8800.30000</td><td>104433.57</td></tr>\n",
       "\t<tr><th scope=row>2012 Q1</th><td>116255.90</td><td> 8949.90000</td><td>107306.00</td></tr>\n",
       "\t<tr><th scope=row>2012 Q2</th><td>119531.20</td><td> 8616.00000</td><td>110915.20</td></tr>\n",
       "\t<tr><th scope=row>2012 Q3</th><td>122640.47</td><td> 6835.66667</td><td>115804.80</td></tr>\n",
       "\t<tr><th scope=row>2012 Q4</th><td>127049.27</td><td> 5294.46667</td><td>121754.80</td></tr>\n",
       "\t<tr><th scope=row>2013 Q1</th><td>132261.93</td><td> 6654.10000</td><td>125607.83</td></tr>\n",
       "\t<tr><th scope=row>2013 Q2</th><td>134522.07</td><td> 6307.96667</td><td>128214.10</td></tr>\n",
       "\t<tr><th scope=row>2013 Q3</th><td>139930.67</td><td> 5787.40000</td><td>134143.27</td></tr>\n",
       "\t<tr><th scope=row>2013 Q4</th><td>146249.43</td><td> 7136.06667</td><td>139113.37</td></tr>\n",
       "\t<tr><th scope=row>2014 Q1</th><td>146834.50</td><td> 6921.43333</td><td>139913.07</td></tr>\n",
       "\t<tr><th scope=row>2014 Q2</th><td>152111.00</td><td> 8650.80000</td><td>143460.20</td></tr>\n",
       "\t<tr><th scope=row>2014 Q3</th><td>154700.00</td><td> 7828.43333</td><td>146871.57</td></tr>\n",
       "\t<tr><th scope=row>2014 Q4</th><td>158794.43</td><td> 8324.60000</td><td>150469.83</td></tr>\n",
       "\t<tr><th scope=row>2015 Q1</th><td>166291.00</td><td>11065.93333</td><td>155225.07</td></tr>\n",
       "\t<tr><th scope=row>2015 Q2</th><td>170879.83</td><td>10660.60000</td><td>160219.23</td></tr>\n",
       "\t<tr><th scope=row>2015 Q3</th><td>174469.93</td><td> 9763.83333</td><td>164706.10</td></tr>\n",
       "\t<tr><th scope=row>2015 Q4</th><td>178862.70</td><td> 8600.33333</td><td>170262.37</td></tr>\n",
       "\t<tr><th scope=row>2016 Q1</th><td>181244.57</td><td> 8436.26667</td><td>172808.30</td></tr>\n",
       "\t<tr><th scope=row>2016 Q2</th><td>180629.20</td><td> 7148.30000</td><td>173480.90</td></tr>\n",
       "\t<tr><th scope=row>2016 Q3</th><td>180646.73</td><td> 5991.86667</td><td>174654.87</td></tr>\n",
       "\t<tr><th scope=row>2016 Q4</th><td>185950.97</td><td> 7103.36667</td><td>178847.60</td></tr>\n",
       "\t<tr><th scope=row>2017 Q1</th><td>189647.70</td><td> 8034.23333</td><td>181613.47</td></tr>\n",
       "\t<tr><th scope=row>2017 Q2</th><td>192076.80</td><td> 8747.96667</td><td>183328.83</td></tr>\n",
       "\t<tr><th scope=row>2017 Q3</th><td>192225.77</td><td> 8476.00000</td><td>183749.77</td></tr>\n",
       "\t<tr><th scope=row>2017 Q4</th><td>195996.53</td><td> 8788.93333</td><td>187207.60</td></tr>\n",
       "\t<tr><th scope=row>2018 Q1</th><td>199629.47</td><td>10657.53333</td><td>188971.93</td></tr>\n",
       "\t<tr><th scope=row>2018 Q2</th><td>204204.60</td><td>13078.36667</td><td>191126.23</td></tr>\n",
       "\t<tr><th scope=row>2018 Q3</th><td>208804.83</td><td>15717.03333</td><td>193087.80</td></tr>\n",
       "\t<tr><th scope=row>2018 Q4</th><td>217868.80</td><td>18307.60000</td><td>199561.20</td></tr>\n",
       "\t<tr><th scope=row>2019 Q1</th><td>221333.07</td><td>19083.00000</td><td>202250.07</td></tr>\n",
       "\t<tr><th scope=row>2019 Q2</th><td>226562.97</td><td>21456.73333</td><td>205106.23</td></tr>\n",
       "\t<tr><th scope=row>2019 Q3</th><td>228709.30</td><td>22939.06667</td><td>205770.23</td></tr>\n",
       "\t<tr><th scope=row>2019 Q4</th><td>233636.60</td><td>22786.50000</td><td>210850.10</td></tr>\n",
       "</tbody>\n",
       "</table>\n"
      ],
      "text/latex": [
       "A Time Series: 100 × 3\n",
       "\\begin{tabular}{r|lll}\n",
       "  & Series 1 & Series 2 & Series 3\\\\\n",
       "\\hline\n",
       "\t1995 Q1 &  10630.01 &   517.16667 &  10112.84\\\\\n",
       "\t1995 Q2 &  11240.28 &   413.03333 &  10827.25\\\\\n",
       "\t1995 Q3 &  11890.84 &   571.00000 &  11319.84\\\\\n",
       "\t1995 Q4 &  12434.78 &   259.96667 &  12174.81\\\\\n",
       "\t1996 Q1 &  13226.08 &   421.83333 &  12804.24\\\\\n",
       "\t1996 Q2 &  13660.48 &   478.50000 &  13181.98\\\\\n",
       "\t1996 Q3 &  13927.10 &   501.33333 &  13425.77\\\\\n",
       "\t1996 Q4 &  14458.23 &   704.10000 &  13754.13\\\\\n",
       "\t1997 Q1 &  15548.50 &  1316.90000 &  14231.60\\\\\n",
       "\t1997 Q2 &  16219.77 &  1798.66667 &  14421.10\\\\\n",
       "\t1997 Q3 &  17027.07 &  1997.90000 &  15029.17\\\\\n",
       "\t1997 Q4 &  18327.30 &  2166.30000 &  16161.00\\\\\n",
       "\t1998 Q1 &  19846.77 &  2731.20000 &  17115.57\\\\\n",
       "\t1998 Q2 &  20820.37 &  2718.46667 &  18101.90\\\\\n",
       "\t1998 Q3 &  21581.57 &  2302.23333 &  19279.33\\\\\n",
       "\t1998 Q4 &  22561.90 &  1628.20000 &  20933.70\\\\\n",
       "\t1999 Q1 &  22706.83 &  1139.10000 &  21567.73\\\\\n",
       "\t1999 Q2 &  23596.97 &  1204.53333 &  22392.43\\\\\n",
       "\t1999 Q3 &  24439.67 &  1421.80000 &  23017.87\\\\\n",
       "\t1999 Q4 &  24844.53 &  1120.16667 &  23724.37\\\\\n",
       "\t2000 Q1 &  25500.37 &  1173.23333 &  24327.13\\\\\n",
       "\t2000 Q2 &  25404.20 &  1339.16667 &  24065.03\\\\\n",
       "\t2000 Q3 &  26339.30 &  1570.56667 &  24768.73\\\\\n",
       "\t2000 Q4 &  26485.77 &   417.70000 &  26068.07\\\\\n",
       "\t2001 Q1 &  28700.07 &  2008.90000 &  26691.17\\\\\n",
       "\t2001 Q2 &  29109.73 &  1911.50000 &  27198.23\\\\\n",
       "\t2001 Q3 &  29420.43 &  1685.20000 &  27735.23\\\\\n",
       "\t2001 Q4 &  30834.07 &  1288.40000 &  29545.70\\\\\n",
       "\t2002 Q1 &  30865.03 &   494.66667 &  30370.37\\\\\n",
       "\t2002 Q2 &  31856.40 &   999.60000 &  30856.80\\\\\n",
       "\t2002 Q3 &  32267.13 &   824.63333 &  31442.50\\\\\n",
       "\t2002 Q4 &  32011.63 &   -31.60000 &  32043.23\\\\\n",
       "\t2003 Q1 &  32199.10 &  -341.76667 &  32540.87\\\\\n",
       "\t2003 Q2 &  33228.93 &  -118.00000 &  33346.93\\\\\n",
       "\t2003 Q3 &  34681.23 &   822.93333 &  33858.30\\\\\n",
       "\t2003 Q4 &  35938.70 &   830.03333 &  35108.67\\\\\n",
       "\t2004 Q1 &  35785.77 &  1179.73333 &  35889.53\\\\\n",
       "\t2004 Q2 &  35728.60 &   308.80000 &  35419.80\\\\\n",
       "\t2004 Q3 &  36990.33 &   567.56667 &  36422.77\\\\\n",
       "\t2004 Q4 &  39653.87 &  1023.46667 &  38630.37\\\\\n",
       "\t2005 Q1 &  41406.23 &  1010.06667 &  40396.17\\\\\n",
       "\t2005 Q2 &  44545.70 &  2805.00000 &  41740.70\\\\\n",
       "\t2005 Q3 &  46431.07 &  2690.80000 &  43740.27\\\\\n",
       "\t2005 Q4 &  49394.30 &  2554.23333 &  46840.07\\\\\n",
       "\t2006 Q1 &  51612.20 &  1653.73333 &  49958.47\\\\\n",
       "\t2006 Q2 &  55319.13 &  2422.60000 &  52896.53\\\\\n",
       "\t2006 Q3 &  59159.17 &  3184.53333 &  55974.63\\\\\n",
       "\t2006 Q4 &  63026.87 &  2393.56667 &  60633.30\\\\\n",
       "\t2007 Q1 &  65585.03 &  1151.40000 &  64433.63\\\\\n",
       "\t2007 Q2 &  68604.80 &  1420.20000 &  67184.60\\\\\n",
       "\t2007 Q3 &  72856.57 &  1686.90000 &  71169.67\\\\\n",
       "\t2007 Q4 &  78712.67 &  2176.06667 &  76536.60\\\\\n",
       "\t2008 Q1 &  80775.93 &  1246.66667 &  79529.27\\\\\n",
       "\t2008 Q2 &  82264.13 &  1044.56667 &  81219.57\\\\\n",
       "\t2008 Q3 &  82671.47 &  -413.63333 &  83085.10\\\\\n",
       "\t2008 Q4 &  84895.50 &  -911.90000 &  85807.40\\\\\n",
       "\t2009 Q1 &  85763.27 & -1597.13333 &  87360.40\\\\\n",
       "\t2009 Q2 &  85785.97 & -1332.43333 &  87118.40\\\\\n",
       "\t2009 Q3 &  86240.80 & -1030.16667 &  87270.97\\\\\n",
       "\t2009 Q4 &  88041.07 &    54.13333 &  87986.93\\\\\n",
       "\t2010 Q1 &  88397.27 &   584.73333 &  87812.53\\\\\n",
       "\t2010 Q2 &  88924.57 &   645.10000 &  88279.47\\\\\n",
       "\t2010 Q3 &  92378.80 &  3591.96667 &  88786.83\\\\\n",
       "\t2010 Q4 &  96938.87 &  5055.60000 &  91883.27\\\\\n",
       "\t2011 Q1 &  99475.63 &  5447.16667 &  94028.47\\\\\n",
       "\t2011 Q2 & 102695.37 &  6495.30000 &  96200.07\\\\\n",
       "\t2011 Q3 & 106919.03 &  7704.16667 &  99214.87\\\\\n",
       "\t2011 Q4 & 113233.87 &  8800.30000 & 104433.57\\\\\n",
       "\t2012 Q1 & 116255.90 &  8949.90000 & 107306.00\\\\\n",
       "\t2012 Q2 & 119531.20 &  8616.00000 & 110915.20\\\\\n",
       "\t2012 Q3 & 122640.47 &  6835.66667 & 115804.80\\\\\n",
       "\t2012 Q4 & 127049.27 &  5294.46667 & 121754.80\\\\\n",
       "\t2013 Q1 & 132261.93 &  6654.10000 & 125607.83\\\\\n",
       "\t2013 Q2 & 134522.07 &  6307.96667 & 128214.10\\\\\n",
       "\t2013 Q3 & 139930.67 &  5787.40000 & 134143.27\\\\\n",
       "\t2013 Q4 & 146249.43 &  7136.06667 & 139113.37\\\\\n",
       "\t2014 Q1 & 146834.50 &  6921.43333 & 139913.07\\\\\n",
       "\t2014 Q2 & 152111.00 &  8650.80000 & 143460.20\\\\\n",
       "\t2014 Q3 & 154700.00 &  7828.43333 & 146871.57\\\\\n",
       "\t2014 Q4 & 158794.43 &  8324.60000 & 150469.83\\\\\n",
       "\t2015 Q1 & 166291.00 & 11065.93333 & 155225.07\\\\\n",
       "\t2015 Q2 & 170879.83 & 10660.60000 & 160219.23\\\\\n",
       "\t2015 Q3 & 174469.93 &  9763.83333 & 164706.10\\\\\n",
       "\t2015 Q4 & 178862.70 &  8600.33333 & 170262.37\\\\\n",
       "\t2016 Q1 & 181244.57 &  8436.26667 & 172808.30\\\\\n",
       "\t2016 Q2 & 180629.20 &  7148.30000 & 173480.90\\\\\n",
       "\t2016 Q3 & 180646.73 &  5991.86667 & 174654.87\\\\\n",
       "\t2016 Q4 & 185950.97 &  7103.36667 & 178847.60\\\\\n",
       "\t2017 Q1 & 189647.70 &  8034.23333 & 181613.47\\\\\n",
       "\t2017 Q2 & 192076.80 &  8747.96667 & 183328.83\\\\\n",
       "\t2017 Q3 & 192225.77 &  8476.00000 & 183749.77\\\\\n",
       "\t2017 Q4 & 195996.53 &  8788.93333 & 187207.60\\\\\n",
       "\t2018 Q1 & 199629.47 & 10657.53333 & 188971.93\\\\\n",
       "\t2018 Q2 & 204204.60 & 13078.36667 & 191126.23\\\\\n",
       "\t2018 Q3 & 208804.83 & 15717.03333 & 193087.80\\\\\n",
       "\t2018 Q4 & 217868.80 & 18307.60000 & 199561.20\\\\\n",
       "\t2019 Q1 & 221333.07 & 19083.00000 & 202250.07\\\\\n",
       "\t2019 Q2 & 226562.97 & 21456.73333 & 205106.23\\\\\n",
       "\t2019 Q3 & 228709.30 & 22939.06667 & 205770.23\\\\\n",
       "\t2019 Q4 & 233636.60 & 22786.50000 & 210850.10\\\\\n",
       "\\end{tabular}\n"
      ],
      "text/markdown": [
       "\n",
       "A Time Series: 100 × 3\n",
       "\n",
       "| <!--/--> | Series 1 | Series 2 | Series 3 |\n",
       "|---|---|---|---|\n",
       "| 1995 Q1 |  10630.01 |   517.16667 |  10112.84 |\n",
       "| 1995 Q2 |  11240.28 |   413.03333 |  10827.25 |\n",
       "| 1995 Q3 |  11890.84 |   571.00000 |  11319.84 |\n",
       "| 1995 Q4 |  12434.78 |   259.96667 |  12174.81 |\n",
       "| 1996 Q1 |  13226.08 |   421.83333 |  12804.24 |\n",
       "| 1996 Q2 |  13660.48 |   478.50000 |  13181.98 |\n",
       "| 1996 Q3 |  13927.10 |   501.33333 |  13425.77 |\n",
       "| 1996 Q4 |  14458.23 |   704.10000 |  13754.13 |\n",
       "| 1997 Q1 |  15548.50 |  1316.90000 |  14231.60 |\n",
       "| 1997 Q2 |  16219.77 |  1798.66667 |  14421.10 |\n",
       "| 1997 Q3 |  17027.07 |  1997.90000 |  15029.17 |\n",
       "| 1997 Q4 |  18327.30 |  2166.30000 |  16161.00 |\n",
       "| 1998 Q1 |  19846.77 |  2731.20000 |  17115.57 |\n",
       "| 1998 Q2 |  20820.37 |  2718.46667 |  18101.90 |\n",
       "| 1998 Q3 |  21581.57 |  2302.23333 |  19279.33 |\n",
       "| 1998 Q4 |  22561.90 |  1628.20000 |  20933.70 |\n",
       "| 1999 Q1 |  22706.83 |  1139.10000 |  21567.73 |\n",
       "| 1999 Q2 |  23596.97 |  1204.53333 |  22392.43 |\n",
       "| 1999 Q3 |  24439.67 |  1421.80000 |  23017.87 |\n",
       "| 1999 Q4 |  24844.53 |  1120.16667 |  23724.37 |\n",
       "| 2000 Q1 |  25500.37 |  1173.23333 |  24327.13 |\n",
       "| 2000 Q2 |  25404.20 |  1339.16667 |  24065.03 |\n",
       "| 2000 Q3 |  26339.30 |  1570.56667 |  24768.73 |\n",
       "| 2000 Q4 |  26485.77 |   417.70000 |  26068.07 |\n",
       "| 2001 Q1 |  28700.07 |  2008.90000 |  26691.17 |\n",
       "| 2001 Q2 |  29109.73 |  1911.50000 |  27198.23 |\n",
       "| 2001 Q3 |  29420.43 |  1685.20000 |  27735.23 |\n",
       "| 2001 Q4 |  30834.07 |  1288.40000 |  29545.70 |\n",
       "| 2002 Q1 |  30865.03 |   494.66667 |  30370.37 |\n",
       "| 2002 Q2 |  31856.40 |   999.60000 |  30856.80 |\n",
       "| 2002 Q3 |  32267.13 |   824.63333 |  31442.50 |\n",
       "| 2002 Q4 |  32011.63 |   -31.60000 |  32043.23 |\n",
       "| 2003 Q1 |  32199.10 |  -341.76667 |  32540.87 |\n",
       "| 2003 Q2 |  33228.93 |  -118.00000 |  33346.93 |\n",
       "| 2003 Q3 |  34681.23 |   822.93333 |  33858.30 |\n",
       "| 2003 Q4 |  35938.70 |   830.03333 |  35108.67 |\n",
       "| 2004 Q1 |  35785.77 |  1179.73333 |  35889.53 |\n",
       "| 2004 Q2 |  35728.60 |   308.80000 |  35419.80 |\n",
       "| 2004 Q3 |  36990.33 |   567.56667 |  36422.77 |\n",
       "| 2004 Q4 |  39653.87 |  1023.46667 |  38630.37 |\n",
       "| 2005 Q1 |  41406.23 |  1010.06667 |  40396.17 |\n",
       "| 2005 Q2 |  44545.70 |  2805.00000 |  41740.70 |\n",
       "| 2005 Q3 |  46431.07 |  2690.80000 |  43740.27 |\n",
       "| 2005 Q4 |  49394.30 |  2554.23333 |  46840.07 |\n",
       "| 2006 Q1 |  51612.20 |  1653.73333 |  49958.47 |\n",
       "| 2006 Q2 |  55319.13 |  2422.60000 |  52896.53 |\n",
       "| 2006 Q3 |  59159.17 |  3184.53333 |  55974.63 |\n",
       "| 2006 Q4 |  63026.87 |  2393.56667 |  60633.30 |\n",
       "| 2007 Q1 |  65585.03 |  1151.40000 |  64433.63 |\n",
       "| 2007 Q2 |  68604.80 |  1420.20000 |  67184.60 |\n",
       "| 2007 Q3 |  72856.57 |  1686.90000 |  71169.67 |\n",
       "| 2007 Q4 |  78712.67 |  2176.06667 |  76536.60 |\n",
       "| 2008 Q1 |  80775.93 |  1246.66667 |  79529.27 |\n",
       "| 2008 Q2 |  82264.13 |  1044.56667 |  81219.57 |\n",
       "| 2008 Q3 |  82671.47 |  -413.63333 |  83085.10 |\n",
       "| 2008 Q4 |  84895.50 |  -911.90000 |  85807.40 |\n",
       "| 2009 Q1 |  85763.27 | -1597.13333 |  87360.40 |\n",
       "| 2009 Q2 |  85785.97 | -1332.43333 |  87118.40 |\n",
       "| 2009 Q3 |  86240.80 | -1030.16667 |  87270.97 |\n",
       "| 2009 Q4 |  88041.07 |    54.13333 |  87986.93 |\n",
       "| 2010 Q1 |  88397.27 |   584.73333 |  87812.53 |\n",
       "| 2010 Q2 |  88924.57 |   645.10000 |  88279.47 |\n",
       "| 2010 Q3 |  92378.80 |  3591.96667 |  88786.83 |\n",
       "| 2010 Q4 |  96938.87 |  5055.60000 |  91883.27 |\n",
       "| 2011 Q1 |  99475.63 |  5447.16667 |  94028.47 |\n",
       "| 2011 Q2 | 102695.37 |  6495.30000 |  96200.07 |\n",
       "| 2011 Q3 | 106919.03 |  7704.16667 |  99214.87 |\n",
       "| 2011 Q4 | 113233.87 |  8800.30000 | 104433.57 |\n",
       "| 2012 Q1 | 116255.90 |  8949.90000 | 107306.00 |\n",
       "| 2012 Q2 | 119531.20 |  8616.00000 | 110915.20 |\n",
       "| 2012 Q3 | 122640.47 |  6835.66667 | 115804.80 |\n",
       "| 2012 Q4 | 127049.27 |  5294.46667 | 121754.80 |\n",
       "| 2013 Q1 | 132261.93 |  6654.10000 | 125607.83 |\n",
       "| 2013 Q2 | 134522.07 |  6307.96667 | 128214.10 |\n",
       "| 2013 Q3 | 139930.67 |  5787.40000 | 134143.27 |\n",
       "| 2013 Q4 | 146249.43 |  7136.06667 | 139113.37 |\n",
       "| 2014 Q1 | 146834.50 |  6921.43333 | 139913.07 |\n",
       "| 2014 Q2 | 152111.00 |  8650.80000 | 143460.20 |\n",
       "| 2014 Q3 | 154700.00 |  7828.43333 | 146871.57 |\n",
       "| 2014 Q4 | 158794.43 |  8324.60000 | 150469.83 |\n",
       "| 2015 Q1 | 166291.00 | 11065.93333 | 155225.07 |\n",
       "| 2015 Q2 | 170879.83 | 10660.60000 | 160219.23 |\n",
       "| 2015 Q3 | 174469.93 |  9763.83333 | 164706.10 |\n",
       "| 2015 Q4 | 178862.70 |  8600.33333 | 170262.37 |\n",
       "| 2016 Q1 | 181244.57 |  8436.26667 | 172808.30 |\n",
       "| 2016 Q2 | 180629.20 |  7148.30000 | 173480.90 |\n",
       "| 2016 Q3 | 180646.73 |  5991.86667 | 174654.87 |\n",
       "| 2016 Q4 | 185950.97 |  7103.36667 | 178847.60 |\n",
       "| 2017 Q1 | 189647.70 |  8034.23333 | 181613.47 |\n",
       "| 2017 Q2 | 192076.80 |  8747.96667 | 183328.83 |\n",
       "| 2017 Q3 | 192225.77 |  8476.00000 | 183749.77 |\n",
       "| 2017 Q4 | 195996.53 |  8788.93333 | 187207.60 |\n",
       "| 2018 Q1 | 199629.47 | 10657.53333 | 188971.93 |\n",
       "| 2018 Q2 | 204204.60 | 13078.36667 | 191126.23 |\n",
       "| 2018 Q3 | 208804.83 | 15717.03333 | 193087.80 |\n",
       "| 2018 Q4 | 217868.80 | 18307.60000 | 199561.20 |\n",
       "| 2019 Q1 | 221333.07 | 19083.00000 | 202250.07 |\n",
       "| 2019 Q2 | 226562.97 | 21456.73333 | 205106.23 |\n",
       "| 2019 Q3 | 228709.30 | 22939.06667 | 205770.23 |\n",
       "| 2019 Q4 | 233636.60 | 22786.50000 | 210850.10 |\n",
       "\n"
      ],
      "text/plain": [
       "        Series 1  Series 2    Series 3 \n",
       "1995 Q1  10630.01   517.16667  10112.84\n",
       "1995 Q2  11240.28   413.03333  10827.25\n",
       "1995 Q3  11890.84   571.00000  11319.84\n",
       "1995 Q4  12434.78   259.96667  12174.81\n",
       "1996 Q1  13226.08   421.83333  12804.24\n",
       "1996 Q2  13660.48   478.50000  13181.98\n",
       "1996 Q3  13927.10   501.33333  13425.77\n",
       "1996 Q4  14458.23   704.10000  13754.13\n",
       "1997 Q1  15548.50  1316.90000  14231.60\n",
       "1997 Q2  16219.77  1798.66667  14421.10\n",
       "1997 Q3  17027.07  1997.90000  15029.17\n",
       "1997 Q4  18327.30  2166.30000  16161.00\n",
       "1998 Q1  19846.77  2731.20000  17115.57\n",
       "1998 Q2  20820.37  2718.46667  18101.90\n",
       "1998 Q3  21581.57  2302.23333  19279.33\n",
       "1998 Q4  22561.90  1628.20000  20933.70\n",
       "1999 Q1  22706.83  1139.10000  21567.73\n",
       "1999 Q2  23596.97  1204.53333  22392.43\n",
       "1999 Q3  24439.67  1421.80000  23017.87\n",
       "1999 Q4  24844.53  1120.16667  23724.37\n",
       "2000 Q1  25500.37  1173.23333  24327.13\n",
       "2000 Q2  25404.20  1339.16667  24065.03\n",
       "2000 Q3  26339.30  1570.56667  24768.73\n",
       "2000 Q4  26485.77   417.70000  26068.07\n",
       "2001 Q1  28700.07  2008.90000  26691.17\n",
       "2001 Q2  29109.73  1911.50000  27198.23\n",
       "2001 Q3  29420.43  1685.20000  27735.23\n",
       "2001 Q4  30834.07  1288.40000  29545.70\n",
       "2002 Q1  30865.03   494.66667  30370.37\n",
       "2002 Q2  31856.40   999.60000  30856.80\n",
       "2002 Q3  32267.13   824.63333  31442.50\n",
       "2002 Q4  32011.63   -31.60000  32043.23\n",
       "2003 Q1  32199.10  -341.76667  32540.87\n",
       "2003 Q2  33228.93  -118.00000  33346.93\n",
       "2003 Q3  34681.23   822.93333  33858.30\n",
       "2003 Q4  35938.70   830.03333  35108.67\n",
       "2004 Q1  35785.77  1179.73333  35889.53\n",
       "2004 Q2  35728.60   308.80000  35419.80\n",
       "2004 Q3  36990.33   567.56667  36422.77\n",
       "2004 Q4  39653.87  1023.46667  38630.37\n",
       "2005 Q1  41406.23  1010.06667  40396.17\n",
       "2005 Q2  44545.70  2805.00000  41740.70\n",
       "2005 Q3  46431.07  2690.80000  43740.27\n",
       "2005 Q4  49394.30  2554.23333  46840.07\n",
       "2006 Q1  51612.20  1653.73333  49958.47\n",
       "2006 Q2  55319.13  2422.60000  52896.53\n",
       "2006 Q3  59159.17  3184.53333  55974.63\n",
       "2006 Q4  63026.87  2393.56667  60633.30\n",
       "2007 Q1  65585.03  1151.40000  64433.63\n",
       "2007 Q2  68604.80  1420.20000  67184.60\n",
       "2007 Q3  72856.57  1686.90000  71169.67\n",
       "2007 Q4  78712.67  2176.06667  76536.60\n",
       "2008 Q1  80775.93  1246.66667  79529.27\n",
       "2008 Q2  82264.13  1044.56667  81219.57\n",
       "2008 Q3  82671.47  -413.63333  83085.10\n",
       "2008 Q4  84895.50  -911.90000  85807.40\n",
       "2009 Q1  85763.27 -1597.13333  87360.40\n",
       "2009 Q2  85785.97 -1332.43333  87118.40\n",
       "2009 Q3  86240.80 -1030.16667  87270.97\n",
       "2009 Q4  88041.07    54.13333  87986.93\n",
       "2010 Q1  88397.27   584.73333  87812.53\n",
       "2010 Q2  88924.57   645.10000  88279.47\n",
       "2010 Q3  92378.80  3591.96667  88786.83\n",
       "2010 Q4  96938.87  5055.60000  91883.27\n",
       "2011 Q1  99475.63  5447.16667  94028.47\n",
       "2011 Q2 102695.37  6495.30000  96200.07\n",
       "2011 Q3 106919.03  7704.16667  99214.87\n",
       "2011 Q4 113233.87  8800.30000 104433.57\n",
       "2012 Q1 116255.90  8949.90000 107306.00\n",
       "2012 Q2 119531.20  8616.00000 110915.20\n",
       "2012 Q3 122640.47  6835.66667 115804.80\n",
       "2012 Q4 127049.27  5294.46667 121754.80\n",
       "2013 Q1 132261.93  6654.10000 125607.83\n",
       "2013 Q2 134522.07  6307.96667 128214.10\n",
       "2013 Q3 139930.67  5787.40000 134143.27\n",
       "2013 Q4 146249.43  7136.06667 139113.37\n",
       "2014 Q1 146834.50  6921.43333 139913.07\n",
       "2014 Q2 152111.00  8650.80000 143460.20\n",
       "2014 Q3 154700.00  7828.43333 146871.57\n",
       "2014 Q4 158794.43  8324.60000 150469.83\n",
       "2015 Q1 166291.00 11065.93333 155225.07\n",
       "2015 Q2 170879.83 10660.60000 160219.23\n",
       "2015 Q3 174469.93  9763.83333 164706.10\n",
       "2015 Q4 178862.70  8600.33333 170262.37\n",
       "2016 Q1 181244.57  8436.26667 172808.30\n",
       "2016 Q2 180629.20  7148.30000 173480.90\n",
       "2016 Q3 180646.73  5991.86667 174654.87\n",
       "2016 Q4 185950.97  7103.36667 178847.60\n",
       "2017 Q1 189647.70  8034.23333 181613.47\n",
       "2017 Q2 192076.80  8747.96667 183328.83\n",
       "2017 Q3 192225.77  8476.00000 183749.77\n",
       "2017 Q4 195996.53  8788.93333 187207.60\n",
       "2018 Q1 199629.47 10657.53333 188971.93\n",
       "2018 Q2 204204.60 13078.36667 191126.23\n",
       "2018 Q3 208804.83 15717.03333 193087.80\n",
       "2018 Q4 217868.80 18307.60000 199561.20\n",
       "2019 Q1 221333.07 19083.00000 202250.07\n",
       "2019 Q2 226562.97 21456.73333 205106.23\n",
       "2019 Q3 228709.30 22939.06667 205770.23\n",
       "2019 Q4 233636.60 22786.50000 210850.10"
      ]
     },
     "metadata": {},
     "output_type": "display_data"
    }
   ],
   "source": [
    "# Aplicamos el proceso de agregación, según lo que deseamos.\n",
    "# para el ejemplo, criterio de agregación trimestral, con promedio\n",
    "aggm = 4\n",
    "mta = ta(series, conversion = \"average\", to = aggm)\n",
    "mta"
   ]
  },
  {
   "cell_type": "code",
   "execution_count": 100,
   "metadata": {
    "slideshow": {
     "slide_type": "subslide"
    }
   },
   "outputs": [
    {
     "data": {
      "image/png": "[encoded data removed]",
      "text/plain": [
       "plot without title"
      ]
     },
     "metadata": {
      "image/png": {
       "height": 420,
       "width": 420
      },
      "text/plain": {
       "height": 420,
       "width": 420
      }
     },
     "output_type": "display_data"
    }
   ],
   "source": [
    "# Ahora podemos ver la gráfica\n",
    "plot(mta[,1], col = \"red\")\n",
    "lines(series[,1])"
   ]
  },
  {
   "cell_type": "code",
   "execution_count": 101,
   "metadata": {
    "slideshow": {
     "slide_type": "subslide"
    }
   },
   "outputs": [
    {
     "data": {
      "image/png": "[encoded data removed]",
      "text/plain": [
       "plot without title"
      ]
     },
     "metadata": {
      "image/png": {
       "height": 420,
       "width": 420
      },
      "text/plain": {
       "height": 420,
       "width": 420
      }
     },
     "output_type": "display_data"
    }
   ],
   "source": [
    "plot(mta)"
   ]
  },
  {
   "cell_type": "markdown",
   "metadata": {
    "slideshow": {
     "slide_type": "slide"
    }
   },
   "source": [
    "# Gracias"
   ]
  }
 ],
 "metadata": {
  "celltoolbar": "Slideshow",
  "kernelspec": {
   "display_name": "R",
   "language": "R",
   "name": "ir"
  },
  "language_info": {
   "codemirror_mode": "r",
   "file_extension": ".r",
   "mimetype": "text/x-r-source",
   "name": "R",
   "pygments_lexer": "r",
   "version": "3.6.2"
  }
 },
 "nbformat": 4,
 "nbformat_minor": 2
}
