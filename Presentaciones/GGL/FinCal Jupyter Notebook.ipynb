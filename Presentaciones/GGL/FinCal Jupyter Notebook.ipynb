{
 "cells": [
  {
   "cell_type": "markdown",
   "metadata": {
    "slideshow": {
     "slide_type": "slide"
    }
   },
   "source": [
    "# Proyecto Final: Librería FinCal\n",
    "\n",
    "Programacion II\n",
    "\n",
    "Programa de Estudios Superiores\n",
    "\n",
    "Banco de Guatemala\n",
    "\n",
    "# Integrantes:\n",
    "\n",
    "Marianna Guzmán \n",
    "\n",
    "Joaquín Gordillo Sajbín \n",
    "\n",
    "Luis Lemus Mackay"
   ]
  },
  {
   "cell_type": "code",
   "execution_count": null,
   "metadata": {
    "slideshow": {
     "slide_type": "skip"
    }
   },
   "outputs": [],
   "source": [
    "graphics.off(); rm(list=ls());\n",
    "ls()"
   ]
  },
  {
   "cell_type": "markdown",
   "metadata": {
    "slideshow": {
     "slide_type": "slide"
    }
   },
   "source": [
    "# FinCal\n",
    "\n",
    "Es un paquete para el cálculo del valor del dinero en el tiempo, análisis de series temporales y finanzas computacionales.\n",
    "\n",
    "LIBRERÍA A UTILIZAR\n",
    "\n",
    "FinCal está disponible en [CRAN] (http://cran.r-project.org/web/packages/FinCal/) \n"
   ]
  },
  {
   "cell_type": "code",
   "execution_count": 1,
   "metadata": {
    "slideshow": {
     "slide_type": "fragment"
    }
   },
   "outputs": [
    {
     "name": "stderr",
     "output_type": "stream",
     "text": [
      "Installing package into 'C:/Users/IN_CAP02/Documents/R/win-library/3.6'\n",
      "(as 'lib' is unspecified)\n",
      "\n"
     ]
    },
    {
     "name": "stdout",
     "output_type": "stream",
     "text": [
      "package 'FinCal' successfully unpacked and MD5 sums checked\n",
      "\n",
      "The downloaded binary packages are in\n",
      "\tC:\\Users\\IN_CAP02\\AppData\\Local\\Temp\\RtmpsB5cEQ\\downloaded_packages\n"
     ]
    }
   ],
   "source": [
    "install.packages(\"FinCal\",dependencies=TRUE)\n",
    "library(\"FinCal\")"
   ]
  },
  {
   "cell_type": "markdown",
   "metadata": {
    "slideshow": {
     "slide_type": "subslide"
    }
   },
   "source": [
    "La librería también se puede descargar directamente desde GitHub"
   ]
  },
  {
   "cell_type": "code",
   "execution_count": 2,
   "metadata": {
    "slideshow": {
     "slide_type": "subslide"
    }
   },
   "outputs": [
    {
     "name": "stderr",
     "output_type": "stream",
     "text": [
      "Loading required package: usethis\n",
      "\n",
      "Downloading GitHub repo felixfan/FinCal@master\n",
      "\n"
     ]
    },
    {
     "name": "stdout",
     "output_type": "stream",
     "text": [
      "rlang   (0.4.2 -> 0.4.4) [CRAN]\n",
      "stringi (1.4.4 -> 1.4.5) [CRAN]\n",
      "vctrs   (0.2.1 -> 0.2.2) [CRAN]\n"
     ]
    },
    {
     "name": "stderr",
     "output_type": "stream",
     "text": [
      "Installing 3 packages: rlang, stringi, vctrs\n",
      "\n",
      "Installing packages into 'C:/Users/Luis Mackay/Documents/R/win-library/3.6'\n",
      "(as 'lib' is unspecified)\n",
      "\n"
     ]
    },
    {
     "name": "stdout",
     "output_type": "stream",
     "text": [
      "\n",
      "  There are binary versions available but the source versions are later:\n",
      "        binary source needs_compilation\n",
      "rlang    0.4.2  0.4.4              TRUE\n",
      "stringi  1.4.4  1.4.5              TRUE\n",
      "\n",
      "package 'vctrs' successfully unpacked and MD5 sums checked\n",
      "\n",
      "The downloaded binary packages are in\n",
      "\tC:\\Users\\Luis Mackay\\AppData\\Local\\Temp\\RtmpGug5Hh\\downloaded_packages\n"
     ]
    },
    {
     "name": "stderr",
     "output_type": "stream",
     "text": [
      "installing the source packages 'rlang', 'stringi'\n",
      "\n",
      "\n"
     ]
    },
    {
     "ename": "ERROR",
     "evalue": "Error: Failed to install 'FinCal' from GitHub:\n  (convertido del aviso) installation of package 'rlang' had non-zero exit status\n",
     "output_type": "error",
     "traceback": [
      "Error: Failed to install 'FinCal' from GitHub:\n  (convertido del aviso) installation of package 'rlang' had non-zero exit status\nTraceback:\n",
      "1. install_github(\"felixfan/FinCal\")",
      "2. pkgbuild::with_build_tools({\n .     ellipsis::check_dots_used(action = getOption(\"devtools.ellipsis_action\", \n .         rlang::warn))\n .     {\n .         remotes <- lapply(repo, github_remote, ref = ref, subdir = subdir, \n .             auth_token = auth_token, host = host)\n .         install_remotes(remotes, auth_token = auth_token, host = host, \n .             dependencies = dependencies, upgrade = upgrade, force = force, \n .             quiet = quiet, build = build, build_opts = build_opts, \n .             build_manual = build_manual, build_vignettes = build_vignettes, \n .             repos = repos, type = type, ...)\n .     }\n . }, required = FALSE)",
      "3. withr::with_path(rtools_path(), code)",
      "4. force(code)",
      "5. install_remotes(remotes, auth_token = auth_token, host = host, \n .     dependencies = dependencies, upgrade = upgrade, force = force, \n .     quiet = quiet, build = build, build_opts = build_opts, build_manual = build_manual, \n .     build_vignettes = build_vignettes, repos = repos, type = type, \n .     ...)",
      "6. tryCatch(res[[i]] <- install_remote(remotes[[i]], ...), error = function(e) {\n .     stop(remote_install_error(remotes[[i]], e))\n . })",
      "7. tryCatchList(expr, classes, parentenv, handlers)",
      "8. tryCatchOne(expr, names, parentenv, handlers[[1L]])",
      "9. value[[3L]](cond)"
     ]
    }
   ],
   "source": [
    "library(\"devtools\")\n",
    "install_github(\"felixfan/FinCal\") "
   ]
  },
  {
   "cell_type": "markdown",
   "metadata": {
    "slideshow": {
     "slide_type": "slide"
    }
   },
   "source": [
    "FinCal cuenta con múltiples funciones. Para ver el listado o repertorio de las mismas, se puede utilizar el siguiente comando"
   ]
  },
  {
   "cell_type": "code",
   "execution_count": 4,
   "metadata": {
    "slideshow": {
     "slide_type": "fragment"
    }
   },
   "outputs": [
    {
     "data": {
      "text/html": [
       "<style>\n",
       ".list-inline {list-style: none; margin:0; padding: 0}\n",
       ".list-inline>li {display: inline-block}\n",
       ".list-inline>li:not(:last-child)::after {content: \"\\00b7\"; padding: 0 .5ex}\n",
       "</style>\n",
       "<ol class=list-inline><li>'bdy'</li><li>'bdy2mmy'</li><li>'candlestickChart'</li><li>'cash.ratio'</li><li>'coefficient.variation'</li><li>'cogs'</li><li>'current.ratio'</li><li>'ddb'</li><li>'debt.ratio'</li><li>'diluted.EPS'</li><li>'discount.rate'</li><li>'ear'</li><li>'ear.continuous'</li><li>'ear2bey'</li><li>'ear2hpr'</li><li>'EIR'</li><li>'EPS'</li><li>'financial.leverage'</li><li>'fv'</li><li>'fv.annuity'</li><li>'fv.simple'</li><li>'fv.uneven'</li><li>'geometric.mean'</li><li>'get.ohlc.google'</li><li>'get.ohlc.yahoo'</li><li>'get.ohlcs.google'</li><li>'get.ohlcs.yahoo'</li><li>'gpm'</li><li>'harmonic.mean'</li><li>'hpr'</li><li>'hpr2bey'</li><li>'hpr2ear'</li><li>'hpr2mmy'</li><li>'irr'</li><li>'irr2'</li><li>'iss'</li><li>'lineChart'</li><li>'lineChartMult'</li><li>'lt.d2e'</li><li>'mmy2hpr'</li><li>'n.period'</li><li>'npm'</li><li>'npv'</li><li>'pmt'</li><li>'pv'</li><li>'pv.annuity'</li><li>'pv.perpetuity'</li><li>'pv.simple'</li><li>'pv.uneven'</li><li>'quick.ratio'</li><li>'r.continuous'</li><li>'r.norminal'</li><li>'r.perpetuity'</li><li>'sampling.error'</li><li>'SFRatio'</li><li>'Sharpe.ratio'</li><li>'slde'</li><li>'total.d2e'</li><li>'twrr'</li><li>'volumeChart'</li><li>'was'</li><li>'wpr'</li></ol>\n"
      ],
      "text/latex": [
       "\\begin{enumerate*}\n",
       "\\item 'bdy'\n",
       "\\item 'bdy2mmy'\n",
       "\\item 'candlestickChart'\n",
       "\\item 'cash.ratio'\n",
       "\\item 'coefficient.variation'\n",
       "\\item 'cogs'\n",
       "\\item 'current.ratio'\n",
       "\\item 'ddb'\n",
       "\\item 'debt.ratio'\n",
       "\\item 'diluted.EPS'\n",
       "\\item 'discount.rate'\n",
       "\\item 'ear'\n",
       "\\item 'ear.continuous'\n",
       "\\item 'ear2bey'\n",
       "\\item 'ear2hpr'\n",
       "\\item 'EIR'\n",
       "\\item 'EPS'\n",
       "\\item 'financial.leverage'\n",
       "\\item 'fv'\n",
       "\\item 'fv.annuity'\n",
       "\\item 'fv.simple'\n",
       "\\item 'fv.uneven'\n",
       "\\item 'geometric.mean'\n",
       "\\item 'get.ohlc.google'\n",
       "\\item 'get.ohlc.yahoo'\n",
       "\\item 'get.ohlcs.google'\n",
       "\\item 'get.ohlcs.yahoo'\n",
       "\\item 'gpm'\n",
       "\\item 'harmonic.mean'\n",
       "\\item 'hpr'\n",
       "\\item 'hpr2bey'\n",
       "\\item 'hpr2ear'\n",
       "\\item 'hpr2mmy'\n",
       "\\item 'irr'\n",
       "\\item 'irr2'\n",
       "\\item 'iss'\n",
       "\\item 'lineChart'\n",
       "\\item 'lineChartMult'\n",
       "\\item 'lt.d2e'\n",
       "\\item 'mmy2hpr'\n",
       "\\item 'n.period'\n",
       "\\item 'npm'\n",
       "\\item 'npv'\n",
       "\\item 'pmt'\n",
       "\\item 'pv'\n",
       "\\item 'pv.annuity'\n",
       "\\item 'pv.perpetuity'\n",
       "\\item 'pv.simple'\n",
       "\\item 'pv.uneven'\n",
       "\\item 'quick.ratio'\n",
       "\\item 'r.continuous'\n",
       "\\item 'r.norminal'\n",
       "\\item 'r.perpetuity'\n",
       "\\item 'sampling.error'\n",
       "\\item 'SFRatio'\n",
       "\\item 'Sharpe.ratio'\n",
       "\\item 'slde'\n",
       "\\item 'total.d2e'\n",
       "\\item 'twrr'\n",
       "\\item 'volumeChart'\n",
       "\\item 'was'\n",
       "\\item 'wpr'\n",
       "\\end{enumerate*}\n"
      ],
      "text/markdown": [
       "1. 'bdy'\n",
       "2. 'bdy2mmy'\n",
       "3. 'candlestickChart'\n",
       "4. 'cash.ratio'\n",
       "5. 'coefficient.variation'\n",
       "6. 'cogs'\n",
       "7. 'current.ratio'\n",
       "8. 'ddb'\n",
       "9. 'debt.ratio'\n",
       "10. 'diluted.EPS'\n",
       "11. 'discount.rate'\n",
       "12. 'ear'\n",
       "13. 'ear.continuous'\n",
       "14. 'ear2bey'\n",
       "15. 'ear2hpr'\n",
       "16. 'EIR'\n",
       "17. 'EPS'\n",
       "18. 'financial.leverage'\n",
       "19. 'fv'\n",
       "20. 'fv.annuity'\n",
       "21. 'fv.simple'\n",
       "22. 'fv.uneven'\n",
       "23. 'geometric.mean'\n",
       "24. 'get.ohlc.google'\n",
       "25. 'get.ohlc.yahoo'\n",
       "26. 'get.ohlcs.google'\n",
       "27. 'get.ohlcs.yahoo'\n",
       "28. 'gpm'\n",
       "29. 'harmonic.mean'\n",
       "30. 'hpr'\n",
       "31. 'hpr2bey'\n",
       "32. 'hpr2ear'\n",
       "33. 'hpr2mmy'\n",
       "34. 'irr'\n",
       "35. 'irr2'\n",
       "36. 'iss'\n",
       "37. 'lineChart'\n",
       "38. 'lineChartMult'\n",
       "39. 'lt.d2e'\n",
       "40. 'mmy2hpr'\n",
       "41. 'n.period'\n",
       "42. 'npm'\n",
       "43. 'npv'\n",
       "44. 'pmt'\n",
       "45. 'pv'\n",
       "46. 'pv.annuity'\n",
       "47. 'pv.perpetuity'\n",
       "48. 'pv.simple'\n",
       "49. 'pv.uneven'\n",
       "50. 'quick.ratio'\n",
       "51. 'r.continuous'\n",
       "52. 'r.norminal'\n",
       "53. 'r.perpetuity'\n",
       "54. 'sampling.error'\n",
       "55. 'SFRatio'\n",
       "56. 'Sharpe.ratio'\n",
       "57. 'slde'\n",
       "58. 'total.d2e'\n",
       "59. 'twrr'\n",
       "60. 'volumeChart'\n",
       "61. 'was'\n",
       "62. 'wpr'\n",
       "\n",
       "\n"
      ],
      "text/plain": [
       " [1] \"bdy\"                   \"bdy2mmy\"               \"candlestickChart\"     \n",
       " [4] \"cash.ratio\"            \"coefficient.variation\" \"cogs\"                 \n",
       " [7] \"current.ratio\"         \"ddb\"                   \"debt.ratio\"           \n",
       "[10] \"diluted.EPS\"           \"discount.rate\"         \"ear\"                  \n",
       "[13] \"ear.continuous\"        \"ear2bey\"               \"ear2hpr\"              \n",
       "[16] \"EIR\"                   \"EPS\"                   \"financial.leverage\"   \n",
       "[19] \"fv\"                    \"fv.annuity\"            \"fv.simple\"            \n",
       "[22] \"fv.uneven\"             \"geometric.mean\"        \"get.ohlc.google\"      \n",
       "[25] \"get.ohlc.yahoo\"        \"get.ohlcs.google\"      \"get.ohlcs.yahoo\"      \n",
       "[28] \"gpm\"                   \"harmonic.mean\"         \"hpr\"                  \n",
       "[31] \"hpr2bey\"               \"hpr2ear\"               \"hpr2mmy\"              \n",
       "[34] \"irr\"                   \"irr2\"                  \"iss\"                  \n",
       "[37] \"lineChart\"             \"lineChartMult\"         \"lt.d2e\"               \n",
       "[40] \"mmy2hpr\"               \"n.period\"              \"npm\"                  \n",
       "[43] \"npv\"                   \"pmt\"                   \"pv\"                   \n",
       "[46] \"pv.annuity\"            \"pv.perpetuity\"         \"pv.simple\"            \n",
       "[49] \"pv.uneven\"             \"quick.ratio\"           \"r.continuous\"         \n",
       "[52] \"r.norminal\"            \"r.perpetuity\"          \"sampling.error\"       \n",
       "[55] \"SFRatio\"               \"Sharpe.ratio\"          \"slde\"                 \n",
       "[58] \"total.d2e\"             \"twrr\"                  \"volumeChart\"          \n",
       "[61] \"was\"                   \"wpr\"                  "
      ]
     },
     "metadata": {},
     "output_type": "display_data"
    }
   ],
   "source": [
    "ls(\"package:FinCal\")"
   ]
  },
  {
   "cell_type": "markdown",
   "metadata": {
    "slideshow": {
     "slide_type": "subslide"
    }
   },
   "source": [
    "Para obtener ayuda con alguna de las funciones se pueden emplear los siguientes comandos "
   ]
  },
  {
   "cell_type": "code",
   "execution_count": 5,
   "metadata": {
    "slideshow": {
     "slide_type": "fragment"
    }
   },
   "outputs": [
    {
     "data": {
      "text/html": [
       "<pre class=language-r><code>function (r, n, fv = 0, pmt = 0, type = 0) \n",
       "NULL</code></pre>"
      ],
      "text/latex": [
       "\\begin{minted}{r}\n",
       "function (r, n, fv = 0, pmt = 0, type = 0) \n",
       "NULL\n",
       "\\end{minted}"
      ],
      "text/markdown": [
       "```r\n",
       "function (r, n, fv = 0, pmt = 0, type = 0) \n",
       "NULL\n",
       "```"
      ],
      "text/plain": [
       "function (r, n, fv = 0, pmt = 0, type = 0) \n",
       "NULL"
      ]
     },
     "metadata": {},
     "output_type": "display_data"
    },
    {
     "name": "stdout",
     "output_type": "stream",
     "text": [
      "\n",
      "pv> pv(0.07,10,1000,10)\n",
      "[1] -578.5851\n",
      "\n",
      "pv> pv(r=0.05,n=20,fv=1000,pmt=10,type=1)\n",
      "[1] -507.7427\n"
     ]
    }
   ],
   "source": [
    "help(pv)    # display the documentation for the function\n",
    "args(pv)    # see arguments of the function\n",
    "example(pv) # see example of using the function"
   ]
  },
  {
   "cell_type": "markdown",
   "metadata": {
    "slideshow": {
     "slide_type": "slide"
    }
   },
   "source": [
    "Este link es una especie de manual o diccionario de todas la funciones https://cran.r-project.org/web/packages/FinCal/FinCal.pdf\n",
    "\n",
    "A continuación se proporciona un ejemplo de algunas de las funciones empleando estos comandos. Se acompañan con una breve descripción en español.\n",
    "\n",
    "Nota: Para todos los ejemplos los ingresos son positivos mientras que los egresos negativos. "
   ]
  },
  {
   "cell_type": "markdown",
   "metadata": {
    "slideshow": {
     "slide_type": "skip"
    }
   },
   "source": [
    "# Rendimiento de descuento bancario (BDY): \n",
    "\n",
    "La tasa de descuento bancario (o Discount Bank Yield en inglés) es una de las formas en las que se puede presentar la rentabilidad de un título de mercado monetario emitido al descuento.\n",
    "\n",
    "Este descuento es la diferencia entre el precio de cotización y el valor nominal del título anualizado.\n",
    "\n",
    "Cuando se adquiere un instrumento de mercado monetario emitido al descuento, el vendedor estipula la cantidad que será reembolsada al vencimiento y el comprador paga un precio menor. La diferencia entre esos dos precios sería lo que ganaría el inversor. Pero si calculamos así la rentabilidad, no estaríamos obteniendo una rentabilidad anualizada, que es la que se suele utilizar para medir la rentabilidad de estos activos.\n",
    "\n",
    "Su fórmula es la siguiente RBD=(D/F)*(360/t)\n",
    "\n",
    "Rbd = Rentabilidad anualizada utilizando la tasa de descuento bancaria.\n",
    "\n",
    "D= Descuento sobre el valor nominal (se obtiene de restar al valor facial el precio de cotización del instrumento)\n",
    "\n",
    "F= Valor facial del título.\n",
    "\n",
    "t= Días hasta el vencimiento del título."
   ]
  },
  {
   "cell_type": "code",
   "execution_count": 6,
   "metadata": {
    "slideshow": {
     "slide_type": "skip"
    }
   },
   "outputs": [
    {
     "data": {
      "text/html": [
       "<pre class=language-r><code>function (d, f, t) \n",
       "NULL</code></pre>"
      ],
      "text/latex": [
       "\\begin{minted}{r}\n",
       "function (d, f, t) \n",
       "NULL\n",
       "\\end{minted}"
      ],
      "text/markdown": [
       "```r\n",
       "function (d, f, t) \n",
       "NULL\n",
       "```"
      ],
      "text/plain": [
       "function (d, f, t) \n",
       "NULL"
      ]
     },
     "metadata": {},
     "output_type": "display_data"
    },
    {
     "name": "stdout",
     "output_type": "stream",
     "text": [
      "\n",
      "bdy> bdy(d=1500,f=100000,t=120)\n",
      "[1] 0.045\n"
     ]
    }
   ],
   "source": [
    "#help(\"bdy\")    \n",
    "args(bdy)    \n",
    "example(bdy)"
   ]
  },
  {
   "cell_type": "markdown",
   "metadata": {
    "slideshow": {
     "slide_type": "skip"
    }
   },
   "source": [
    "Ejemplo: Se nos requiere calcular la tasa de descuento bancario de un bono cupón cero emitido al descuento. El precio del bono es de 978,5 € con un valor facial de 1.000 € y éste vence en 135 días."
   ]
  },
  {
   "cell_type": "code",
   "execution_count": 7,
   "metadata": {
    "slideshow": {
     "slide_type": "skip"
    }
   },
   "outputs": [
    {
     "data": {
      "text/html": [
       "0.0573333333333333"
      ],
      "text/latex": [
       "0.0573333333333333"
      ],
      "text/markdown": [
       "0.0573333333333333"
      ],
      "text/plain": [
       "[1] 0.05733333"
      ]
     },
     "metadata": {},
     "output_type": "display_data"
    }
   ],
   "source": [
    "bdy(d=1000-978.5, f=1000, t=135)"
   ]
  },
  {
   "cell_type": "markdown",
   "metadata": {
    "slideshow": {
     "slide_type": "skip"
    }
   },
   "source": [
    "# Convirtiendo el RDB a Rendimiento del mercado monetario (MMY)\n",
    "\n",
    "El rendimiento del mercado monetario es la tasa de rendimiento de las inversiones altamente líquidas con un vencimiento inferior a un año. Se calcula multiplicando el rendimiento del período de tenencia con un factor de 360/t donde t es el número de días entre la fecha de emisión y la fecha de vencimiento de la inversión."
   ]
  },
  {
   "cell_type": "code",
   "execution_count": 8,
   "metadata": {
    "slideshow": {
     "slide_type": "skip"
    }
   },
   "outputs": [
    {
     "data": {
      "text/html": [
       "<pre class=language-r><code>function (bdy, t) \n",
       "NULL</code></pre>"
      ],
      "text/latex": [
       "\\begin{minted}{r}\n",
       "function (bdy, t) \n",
       "NULL\n",
       "\\end{minted}"
      ],
      "text/markdown": [
       "```r\n",
       "function (bdy, t) \n",
       "NULL\n",
       "```"
      ],
      "text/plain": [
       "function (bdy, t) \n",
       "NULL"
      ]
     },
     "metadata": {},
     "output_type": "display_data"
    }
   ],
   "source": [
    "#help(\"bdy2mmy\")    \n",
    "args(bdy2mmy)"
   ]
  },
  {
   "cell_type": "markdown",
   "metadata": {
    "slideshow": {
     "slide_type": "skip"
    }
   },
   "source": [
    "¿Cuál es el rendimiento del mercado monetario para un T-Bill de 120 días que tiene un rendimiento de descuento bancario del 4.50%?"
   ]
  },
  {
   "cell_type": "code",
   "execution_count": 9,
   "metadata": {
    "slideshow": {
     "slide_type": "skip"
    }
   },
   "outputs": [
    {
     "name": "stdout",
     "output_type": "stream",
     "text": [
      "\n",
      "bdy2mm> bdy2mmy(bdy=0.045,t=120)\n",
      "[1] 0.04568528\n"
     ]
    }
   ],
   "source": [
    "example(bdy2mmy)"
   ]
  },
  {
   "cell_type": "markdown",
   "metadata": {
    "slideshow": {
     "slide_type": "subslide"
    }
   },
   "source": [
    "# Tasa Anual Efectiva (EAR por sus siglas en inglés) \n",
    "\n",
    "La TEA es el indicador con el que se calcula la tasa de interés en el plazo de un año. Es importante comprender que este cálculo puede hacerse para conocer tanto la rentabilidad de una cuenta como el costo de un préstamo o crédito. Cuanto mayor sea la TEA, mayor será el interés que recibirás mientras ahorres tu dinero y, por ende, tus ahorros crecerán más. Por el contrario, mientras más alta sea la Tasa Efectiva Anual en un crédito, mayores serán los intereses que tendrás que pagar y más caro te saldrá el préstamo. "
   ]
  },
  {
   "cell_type": "code",
   "execution_count": 10,
   "metadata": {
    "slideshow": {
     "slide_type": "skip"
    }
   },
   "outputs": [
    {
     "data": {
      "text/html": [
       "<pre class=language-r><code>function (r, m) \n",
       "NULL</code></pre>"
      ],
      "text/latex": [
       "\\begin{minted}{r}\n",
       "function (r, m) \n",
       "NULL\n",
       "\\end{minted}"
      ],
      "text/markdown": [
       "```r\n",
       "function (r, m) \n",
       "NULL\n",
       "```"
      ],
      "text/plain": [
       "function (r, m) \n",
       "NULL"
      ]
     },
     "metadata": {},
     "output_type": "display_data"
    }
   ],
   "source": [
    "#help(\"ear\")    \n",
    "args(ear)"
   ]
  },
  {
   "cell_type": "markdown",
   "metadata": {
    "slideshow": {
     "slide_type": "fragment"
    }
   },
   "source": [
    "Usando una tasa de 4.25%, calcule las tasas anuales efectivas para capitalización semestral, trimestral, mensual y diaria."
   ]
  },
  {
   "cell_type": "code",
   "execution_count": 11,
   "metadata": {
    "slideshow": {
     "slide_type": "fragment"
    }
   },
   "outputs": [
    {
     "data": {
      "text/html": [
       "0.0429515624999999"
      ],
      "text/latex": [
       "0.0429515624999999"
      ],
      "text/markdown": [
       "0.0429515624999999"
      ],
      "text/plain": [
       "[1] 0.04295156"
      ]
     },
     "metadata": {},
     "output_type": "display_data"
    },
    {
     "data": {
      "text/html": [
       "0.0431821543458561"
      ],
      "text/latex": [
       "0.0431821543458561"
      ],
      "text/markdown": [
       "0.0431821543458561"
      ],
      "text/plain": [
       "[1] 0.04318215"
      ]
     },
     "metadata": {},
     "output_type": "display_data"
    },
    {
     "data": {
      "text/html": [
       "0.0433377163096169"
      ],
      "text/latex": [
       "0.0433377163096169"
      ],
      "text/markdown": [
       "0.0433377163096169"
      ],
      "text/plain": [
       "[1] 0.04333772"
      ]
     },
     "metadata": {},
     "output_type": "display_data"
    },
    {
     "data": {
      "text/html": [
       "0.0434134748372301"
      ],
      "text/latex": [
       "0.0434134748372301"
      ],
      "text/markdown": [
       "0.0434134748372301"
      ],
      "text/plain": [
       "[1] 0.04341347"
      ]
     },
     "metadata": {},
     "output_type": "display_data"
    }
   ],
   "source": [
    "ear(0.0425, 2)\n",
    "ear(0.0425, 4)\n",
    "ear(0.0425, 12)\n",
    "ear(0.0425, 365)"
   ]
  },
  {
   "cell_type": "markdown",
   "metadata": {
    "slideshow": {
     "slide_type": "subslide"
    }
   },
   "source": [
    "# Valor Futuro \n",
    "\n",
    "El valor futuro (VF) es el valor que tendrá en el futuro un determinado monto de dinero que mantenemos en la actualidad o que decidimos invertir en un proyecto determinado.\n",
    "\n",
    "El valor futuro (VF) nos permite calcular cómo se modificará el valor del dinero que tenemos actualmente (en el día de hoy) considerando las distintas alternativas de inversión que tenemos disponibles. Para poder calcular el VF necesitamos conocer el valor de nuestro dinero es el momento actual y la tasa de interés que se le aplicará en los períodos venideros.\n",
    "\n",
    "El Valor futuro se utiliza para evaluar la mejor alternativa en cuanto a qué hacer con nuestro dinero hoy. También para ver cómo cambia el valor del dinero en el futuro.\n"
   ]
  },
  {
   "cell_type": "code",
   "execution_count": 12,
   "metadata": {
    "slideshow": {
     "slide_type": "skip"
    }
   },
   "outputs": [
    {
     "data": {
      "text/html": [
       "<pre class=language-r><code>function (r, n, pv) \n",
       "NULL</code></pre>"
      ],
      "text/latex": [
       "\\begin{minted}{r}\n",
       "function (r, n, pv) \n",
       "NULL\n",
       "\\end{minted}"
      ],
      "text/markdown": [
       "```r\n",
       "function (r, n, pv) \n",
       "NULL\n",
       "```"
      ],
      "text/plain": [
       "function (r, n, pv) \n",
       "NULL"
      ]
     },
     "metadata": {},
     "output_type": "display_data"
    }
   ],
   "source": [
    "#help(\"fv.simple\")    \n",
    "args(fv.simple)"
   ]
  },
  {
   "cell_type": "markdown",
   "metadata": {
    "slideshow": {
     "slide_type": "subslide"
    }
   },
   "source": [
    "Calcule el valor futuro de una inversión de $ 300 al final de diez años si obtiene una tasa de rendimiento compuesta anual del 8%.\n",
    "\n",
    "Calcule el valor futuro de una inversión de $ 50,000 al final de veinte años si obtiene una tasa de rendimiento compuesta anual del 4%."
   ]
  },
  {
   "cell_type": "code",
   "execution_count": 13,
   "metadata": {
    "slideshow": {
     "slide_type": "fragment"
    }
   },
   "outputs": [
    {
     "data": {
      "text/html": [
       "647.677499181836"
      ],
      "text/latex": [
       "647.677499181836"
      ],
      "text/markdown": [
       "647.677499181836"
      ],
      "text/plain": [
       "[1] 647.6775"
      ]
     },
     "metadata": {},
     "output_type": "display_data"
    },
    {
     "data": {
      "text/html": [
       "109556.157151671"
      ],
      "text/latex": [
       "109556.157151671"
      ],
      "text/markdown": [
       "109556.157151671"
      ],
      "text/plain": [
       "[1] 109556.2"
      ]
     },
     "metadata": {},
     "output_type": "display_data"
    }
   ],
   "source": [
    "fv(0.08,10,-300)\n",
    "fv(r=0.04,n=20,pv=-50000)"
   ]
  },
  {
   "cell_type": "markdown",
   "metadata": {
    "slideshow": {
     "slide_type": "subslide"
    }
   },
   "source": [
    "# Valor presente \n",
    "\n",
    "El valor presente (VP) es el valor que tiene a día de hoy un determinado flujo de dinero que recibiremos en el futuro.\n",
    "\n",
    "Es decir, el valor presente es una fórmula que nos permite calcular cuál es el valor de hoy que tiene un monto de dinero que no recibiremos ahora mismo, sino más adelante."
   ]
  },
  {
   "cell_type": "code",
   "execution_count": 14,
   "metadata": {
    "slideshow": {
     "slide_type": "skip"
    }
   },
   "outputs": [
    {
     "data": {
      "text/html": [
       "<pre class=language-r><code>function (r, n, fv) \n",
       "NULL</code></pre>"
      ],
      "text/latex": [
       "\\begin{minted}{r}\n",
       "function (r, n, fv) \n",
       "NULL\n",
       "\\end{minted}"
      ],
      "text/markdown": [
       "```r\n",
       "function (r, n, fv) \n",
       "NULL\n",
       "```"
      ],
      "text/plain": [
       "function (r, n, fv) \n",
       "NULL"
      ]
     },
     "metadata": {},
     "output_type": "display_data"
    }
   ],
   "source": [
    "#help(\"pv.simple\")    \n",
    "args(pv.simple)"
   ]
  },
  {
   "cell_type": "markdown",
   "metadata": {
    "slideshow": {
     "slide_type": "fragment"
    }
   },
   "source": [
    "Dada una tasa de descuento del 7%, calcule el valor presente de un flujo de efectivo de $ 100,000 que se recibirá en diez años.\n",
    "\n",
    "Dada una tasa de descuento del 3%, calcule el valor presente de un flujo de efectivo de $ 1,000,000 que se recibirá en tres años."
   ]
  },
  {
   "cell_type": "code",
   "execution_count": 15,
   "metadata": {
    "slideshow": {
     "slide_type": "fragment"
    }
   },
   "outputs": [
    {
     "data": {
      "text/html": [
       "-50834.9292134718"
      ],
      "text/latex": [
       "-50834.9292134718"
      ],
      "text/markdown": [
       "-50834.9292134718"
      ],
      "text/plain": [
       "[1] -50834.93"
      ]
     },
     "metadata": {},
     "output_type": "display_data"
    },
    {
     "data": {
      "text/html": [
       "-915141.65935316"
      ],
      "text/latex": [
       "-915141.65935316"
      ],
      "text/markdown": [
       "-915141.65935316"
      ],
      "text/plain": [
       "[1] -915141.7"
      ]
     },
     "metadata": {},
     "output_type": "display_data"
    }
   ],
   "source": [
    "pv(0.07,10,100000)\n",
    "pv(r=0.03,n=3,fv=1000000)"
   ]
  },
  {
   "cell_type": "markdown",
   "metadata": {
    "slideshow": {
     "slide_type": "subslide"
    }
   },
   "source": [
    "# Valor futuro de una anualidad ordinaria \n",
    "\n",
    "Definición de anualidad: Una anualidad es una serie de pagos que cumple con las siguientes condiciones:\n",
    "\n",
    "Todos los pagos son de igual valor.\n",
    "\n",
    "Todos los pagos se hacen a iguales intervalos de tiempo.\n",
    "\n",
    "Todos los pagos son llevados al principio o al final de la serie a la misma tasa.\n",
    "\n",
    "El número de pagos debe ser igual al número de periodos."
   ]
  },
  {
   "cell_type": "code",
   "execution_count": 16,
   "metadata": {
    "slideshow": {
     "slide_type": "skip"
    }
   },
   "outputs": [
    {
     "data": {
      "text/html": [
       "<pre class=language-r><code>function (r, n, pmt, type = 0) \n",
       "NULL</code></pre>"
      ],
      "text/latex": [
       "\\begin{minted}{r}\n",
       "function (r, n, pmt, type = 0) \n",
       "NULL\n",
       "\\end{minted}"
      ],
      "text/markdown": [
       "```r\n",
       "function (r, n, pmt, type = 0) \n",
       "NULL\n",
       "```"
      ],
      "text/plain": [
       "function (r, n, pmt, type = 0) \n",
       "NULL"
      ]
     },
     "metadata": {},
     "output_type": "display_data"
    }
   ],
   "source": [
    "#help(\"fv.annuity\")    \n",
    "args(fv.annuity)"
   ]
  },
  {
   "cell_type": "markdown",
   "metadata": {
    "slideshow": {
     "slide_type": "fragment"
    }
   },
   "source": [
    "¿Cuál es el valor futuro de una anualidad ordinaria que paga $ 15,000 por año al final de cada uno de los próximos 25 años, dado que se espera que la inversión obtenga una tasa de rendimiento del 6%?"
   ]
  },
  {
   "cell_type": "code",
   "execution_count": 17,
   "metadata": {
    "slideshow": {
     "slide_type": "fragment"
    }
   },
   "outputs": [
    {
     "data": {
      "text/html": [
       "822967.679935872"
      ],
      "text/latex": [
       "822967.679935872"
      ],
      "text/markdown": [
       "822967.679935872"
      ],
      "text/plain": [
       "[1] 822967.7"
      ]
     },
     "metadata": {},
     "output_type": "display_data"
    }
   ],
   "source": [
    "fv.annuity(r = 0.06, n = 25, pmt = -15000, type = 0)"
   ]
  },
  {
   "cell_type": "markdown",
   "metadata": {
    "slideshow": {
     "slide_type": "subslide"
    }
   },
   "source": [
    "¿Cuál es el valor futuro de una anualidad que paga $ 10,000 por año, al comienzo de cada uno de los próximos tres años, a partir de hoy, si los flujos de efectivo pueden invertirse a una tasa anual del 5%?"
   ]
  },
  {
   "cell_type": "code",
   "execution_count": 18,
   "metadata": {
    "slideshow": {
     "slide_type": "fragment"
    }
   },
   "outputs": [
    {
     "data": {
      "text/html": [
       "33101.25"
      ],
      "text/latex": [
       "33101.25"
      ],
      "text/markdown": [
       "33101.25"
      ],
      "text/plain": [
       "[1] 33101.25"
      ]
     },
     "metadata": {},
     "output_type": "display_data"
    }
   ],
   "source": [
    "fv.annuity(r = 0.05, n = 3, pmt = -10000, type = 1)"
   ]
  },
  {
   "cell_type": "markdown",
   "metadata": {
    "slideshow": {
     "slide_type": "skip"
    }
   },
   "source": [
    "# Valor presente de una anualidad ordinaria \n"
   ]
  },
  {
   "cell_type": "code",
   "execution_count": 19,
   "metadata": {
    "slideshow": {
     "slide_type": "skip"
    }
   },
   "outputs": [
    {
     "data": {
      "text/html": [
       "<pre class=language-r><code>function (r, n, pmt, type = 0) \n",
       "NULL</code></pre>"
      ],
      "text/latex": [
       "\\begin{minted}{r}\n",
       "function (r, n, pmt, type = 0) \n",
       "NULL\n",
       "\\end{minted}"
      ],
      "text/markdown": [
       "```r\n",
       "function (r, n, pmt, type = 0) \n",
       "NULL\n",
       "```"
      ],
      "text/plain": [
       "function (r, n, pmt, type = 0) \n",
       "NULL"
      ]
     },
     "metadata": {},
     "output_type": "display_data"
    }
   ],
   "source": [
    "#help(\"pv.annuity\")    \n",
    "args(pv.annuity)"
   ]
  },
  {
   "cell_type": "markdown",
   "metadata": {
    "slideshow": {
     "slide_type": "skip"
    }
   },
   "source": [
    "¿Cuál es el valor presente de una anualidad que paga $ 20,000 por año al final de cada uno de los próximos 25 años, dada una tasa de descuento del 6%?"
   ]
  },
  {
   "cell_type": "code",
   "execution_count": 20,
   "metadata": {
    "slideshow": {
     "slide_type": "skip"
    }
   },
   "outputs": [
    {
     "data": {
      "text/html": [
       "255667.123165368"
      ],
      "text/latex": [
       "255667.123165368"
      ],
      "text/markdown": [
       "255667.123165368"
      ],
      "text/plain": [
       "[1] 255667.1"
      ]
     },
     "metadata": {},
     "output_type": "display_data"
    }
   ],
   "source": [
    "pv.annuity(r = 0.06, n = 25, pmt = -20000, type = 0)"
   ]
  },
  {
   "cell_type": "markdown",
   "metadata": {
    "slideshow": {
     "slide_type": "skip"
    }
   },
   "source": [
    "Dada una tasa de descuento del 10%, ¿cuál es el valor presente de una anualidad de 10 años que realiza una serie de pagos de $ 1000 al comienzo de cada uno de los próximos tres años, a partir de hoy?"
   ]
  },
  {
   "cell_type": "code",
   "execution_count": 21,
   "metadata": {
    "slideshow": {
     "slide_type": "skip"
    }
   },
   "outputs": [
    {
     "data": {
      "text/html": [
       "6759.02381627515"
      ],
      "text/latex": [
       "6759.02381627515"
      ],
      "text/markdown": [
       "6759.02381627515"
      ],
      "text/plain": [
       "[1] 6759.024"
      ]
     },
     "metadata": {},
     "output_type": "display_data"
    }
   ],
   "source": [
    "pv.annuity(r = 0.1, n = 10, pmt = -1000, type = 1)"
   ]
  },
  {
   "cell_type": "markdown",
   "metadata": {
    "slideshow": {
     "slide_type": "skip"
    }
   },
   "source": [
    "# Valor presente de una perpetuidad \n",
    "\n",
    "Es el valor de un flujo de pagos perpetuos, o que se estima no serán interrumpidos ni modificados nunca."
   ]
  },
  {
   "cell_type": "code",
   "execution_count": 22,
   "metadata": {
    "slideshow": {
     "slide_type": "skip"
    }
   },
   "outputs": [
    {
     "data": {
      "text/html": [
       "<pre class=language-r><code>function (r, pmt, g = 0, type = 0) \n",
       "NULL</code></pre>"
      ],
      "text/latex": [
       "\\begin{minted}{r}\n",
       "function (r, pmt, g = 0, type = 0) \n",
       "NULL\n",
       "\\end{minted}"
      ],
      "text/markdown": [
       "```r\n",
       "function (r, pmt, g = 0, type = 0) \n",
       "NULL\n",
       "```"
      ],
      "text/plain": [
       "function (r, pmt, g = 0, type = 0) \n",
       "NULL"
      ]
     },
     "metadata": {},
     "output_type": "display_data"
    }
   ],
   "source": [
    "#help(\"pv.perpetuity\")    \n",
    "args(pv.perpetuity)"
   ]
  },
  {
   "cell_type": "markdown",
   "metadata": {
    "slideshow": {
     "slide_type": "skip"
    }
   },
   "source": [
    "Una acción preferente que pagará $ 2.50 por año en dividendos anuales a partir del próximo año y planea seguir esta política de dividendos para siempre. Dada una tasa de rendimiento del 10%, ¿cuál es el valor de esta acción preferida hoy?"
   ]
  },
  {
   "cell_type": "code",
   "execution_count": 23,
   "metadata": {
    "slideshow": {
     "slide_type": "skip"
    }
   },
   "outputs": [
    {
     "data": {
      "text/html": [
       "-25"
      ],
      "text/latex": [
       "-25"
      ],
      "text/markdown": [
       "-25"
      ],
      "text/plain": [
       "[1] -25"
      ]
     },
     "metadata": {},
     "output_type": "display_data"
    }
   ],
   "source": [
    "pv.perpetuity(r = 0.1, pmt = 2.5, type = 0)"
   ]
  },
  {
   "cell_type": "markdown",
   "metadata": {
    "slideshow": {
     "slide_type": "skip"
    }
   },
   "source": [
    "# Tasa de retorno de una perpetuidad"
   ]
  },
  {
   "cell_type": "code",
   "execution_count": 24,
   "metadata": {
    "slideshow": {
     "slide_type": "skip"
    }
   },
   "outputs": [
    {
     "data": {
      "text/html": [
       "<pre class=language-r><code>function (pmt, pv) \n",
       "NULL</code></pre>"
      ],
      "text/latex": [
       "\\begin{minted}{r}\n",
       "function (pmt, pv) \n",
       "NULL\n",
       "\\end{minted}"
      ],
      "text/markdown": [
       "```r\n",
       "function (pmt, pv) \n",
       "NULL\n",
       "```"
      ],
      "text/plain": [
       "function (pmt, pv) \n",
       "NULL"
      ]
     },
     "metadata": {},
     "output_type": "display_data"
    }
   ],
   "source": [
    "#help(\"r.perpetuity\")    \n",
    "args(r.perpetuity)"
   ]
  },
  {
   "cell_type": "markdown",
   "metadata": {
    "slideshow": {
     "slide_type": "skip"
    }
   },
   "source": [
    "Utilizando las acciones preferidas descritas en el ejemplo anterior, determine la tasa de rendimiento que un inversor se daría cuenta si pagara $ 75 por acción por las acciones."
   ]
  },
  {
   "cell_type": "code",
   "execution_count": 25,
   "metadata": {
    "slideshow": {
     "slide_type": "skip"
    }
   },
   "outputs": [
    {
     "data": {
      "text/html": [
       "0.0333333333333333"
      ],
      "text/latex": [
       "0.0333333333333333"
      ],
      "text/markdown": [
       "0.0333333333333333"
      ],
      "text/plain": [
       "[1] 0.03333333"
      ]
     },
     "metadata": {},
     "output_type": "display_data"
    }
   ],
   "source": [
    "r.perpetuity(pmt = 2.5, pv = -75)"
   ]
  },
  {
   "cell_type": "markdown",
   "metadata": {
    "slideshow": {
     "slide_type": "skip"
    }
   },
   "source": [
    "# Valor presente de los flujos de efectivo de un bono"
   ]
  },
  {
   "cell_type": "code",
   "execution_count": 26,
   "metadata": {
    "slideshow": {
     "slide_type": "skip"
    }
   },
   "outputs": [
    {
     "data": {
      "text/html": [
       "<pre class=language-r><code>function (r, n, fv = 0, pmt = 0, type = 0) \n",
       "NULL</code></pre>"
      ],
      "text/latex": [
       "\\begin{minted}{r}\n",
       "function (r, n, fv = 0, pmt = 0, type = 0) \n",
       "NULL\n",
       "\\end{minted}"
      ],
      "text/markdown": [
       "```r\n",
       "function (r, n, fv = 0, pmt = 0, type = 0) \n",
       "NULL\n",
       "```"
      ],
      "text/plain": [
       "function (r, n, fv = 0, pmt = 0, type = 0) \n",
       "NULL"
      ]
     },
     "metadata": {},
     "output_type": "display_data"
    }
   ],
   "source": [
    "#help(\"pv\")    \n",
    "args(pv)"
   ]
  },
  {
   "cell_type": "markdown",
   "metadata": {
    "slideshow": {
     "slide_type": "skip"
    }
   },
   "source": [
    "Un bono realizará pagos de intereses de cupones de 70 HK (dólar hongkonés) (7% de su valor nominal) al final de cada año y también pagará su valor nominal de 1,000 HK al vencimiento en 10 años. Si la tasa de descuento apropiada es del 6%, ¿cuál es el valor presente de los flujos de efectivo prometidos del bono?"
   ]
  },
  {
   "cell_type": "code",
   "execution_count": 27,
   "metadata": {
    "slideshow": {
     "slide_type": "skip"
    }
   },
   "outputs": [
    {
     "data": {
      "text/html": [
       "-1073.60087051415"
      ],
      "text/latex": [
       "-1073.60087051415"
      ],
      "text/markdown": [
       "-1073.60087051415"
      ],
      "text/plain": [
       "[1] -1073.601"
      ]
     },
     "metadata": {},
     "output_type": "display_data"
    }
   ],
   "source": [
    "pv(r = 0.06, n = 10, fv = 1000, pmt = 70, type = 0)"
   ]
  },
  {
   "cell_type": "markdown",
   "metadata": {
    "slideshow": {
     "slide_type": "subslide"
    }
   },
   "source": [
    "# Valor presente y futuro de un flujo de efectivo desigual \n",
    "\n",
    "Cuando una corriente de flujo de efectivo es desigual, el valor presente (PV) y/o el valor futuro (FV) de la corriente se calculan al encontrar la PV o FV de cada flujo de efectivo individual y sumarlos.\n",
    "\n",
    "Una corriente de flujos de efectivo es desigual cuando:Todos los montos en la serie de flujos de efectivo no son iguales, y/o hay un tiempo desigual entre dos flujos de efectivo."
   ]
  },
  {
   "cell_type": "code",
   "execution_count": 28,
   "metadata": {
    "slideshow": {
     "slide_type": "skip"
    }
   },
   "outputs": [
    {
     "data": {
      "text/html": [
       "<pre class=language-r><code>function (r, cf) \n",
       "NULL</code></pre>"
      ],
      "text/latex": [
       "\\begin{minted}{r}\n",
       "function (r, cf) \n",
       "NULL\n",
       "\\end{minted}"
      ],
      "text/markdown": [
       "```r\n",
       "function (r, cf) \n",
       "NULL\n",
       "```"
      ],
      "text/plain": [
       "function (r, cf) \n",
       "NULL"
      ]
     },
     "metadata": {},
     "output_type": "display_data"
    }
   ],
   "source": [
    "#help(\"fv.uneven\")    \n",
    "args(fv.uneven)"
   ]
  },
  {
   "cell_type": "markdown",
   "metadata": {
    "slideshow": {
     "slide_type": "fragment"
    }
   },
   "source": [
    "Utilizando una tasa de rendimiento del 6%, calcule el valor futuro del flujo de efectivo desigual de 6 años que se produjo al final de cada año. (-10000,-5000, 2000, 4000, 6000, 8000)"
   ]
  },
  {
   "cell_type": "code",
   "execution_count": 29,
   "metadata": {
    "slideshow": {
     "slide_type": "fragment"
    }
   },
   "outputs": [
    {
     "data": {
      "text/html": [
       "-1541.791424"
      ],
      "text/latex": [
       "-1541.791424"
      ],
      "text/markdown": [
       "-1541.791424"
      ],
      "text/plain": [
       "[1] -1541.791"
      ]
     },
     "metadata": {},
     "output_type": "display_data"
    }
   ],
   "source": [
    "fv.uneven(r = 0.06, cf = c(-10000, -5000, 2000, 4000, 6000, 8000))"
   ]
  },
  {
   "cell_type": "code",
   "execution_count": 30,
   "metadata": {
    "slideshow": {
     "slide_type": "skip"
    }
   },
   "outputs": [
    {
     "data": {
      "text/html": [
       "<pre class=language-r><code>function (r, cf) \n",
       "NULL</code></pre>"
      ],
      "text/latex": [
       "\\begin{minted}{r}\n",
       "function (r, cf) \n",
       "NULL\n",
       "\\end{minted}"
      ],
      "text/markdown": [
       "```r\n",
       "function (r, cf) \n",
       "NULL\n",
       "```"
      ],
      "text/plain": [
       "function (r, cf) \n",
       "NULL"
      ]
     },
     "metadata": {},
     "output_type": "display_data"
    }
   ],
   "source": [
    "#help(\"pv.uneven\")    \n",
    "args(pv.uneven)"
   ]
  },
  {
   "cell_type": "markdown",
   "metadata": {
    "slideshow": {
     "slide_type": "subslide"
    }
   },
   "source": [
    "Calcule el valor presente de este flujo de caja desigual de 6 años descrito anteriormente utilizando una tasa de rendimiento del 10%."
   ]
  },
  {
   "cell_type": "code",
   "execution_count": 31,
   "metadata": {
    "slideshow": {
     "slide_type": "fragment"
    }
   },
   "outputs": [
    {
     "data": {
      "text/html": [
       "747.137693819182"
      ],
      "text/latex": [
       "747.137693819182"
      ],
      "text/markdown": [
       "747.137693819182"
      ],
      "text/plain": [
       "[1] 747.1377"
      ]
     },
     "metadata": {},
     "output_type": "display_data"
    }
   ],
   "source": [
    "pv.uneven(r = 0.1, cf = c(-10000, -5000, 2000, 4000, 6000, 8000))"
   ]
  },
  {
   "cell_type": "markdown",
   "metadata": {
    "slideshow": {
     "slide_type": "subslide"
    }
   },
   "source": [
    "# Cálculo del pago del préstamo"
   ]
  },
  {
   "cell_type": "code",
   "execution_count": 32,
   "metadata": {
    "slideshow": {
     "slide_type": "fragment"
    }
   },
   "outputs": [
    {
     "data": {
      "text/html": [
       "<pre class=language-r><code>function (r, n, pv, fv, type = 0) \n",
       "NULL</code></pre>"
      ],
      "text/latex": [
       "\\begin{minted}{r}\n",
       "function (r, n, pv, fv, type = 0) \n",
       "NULL\n",
       "\\end{minted}"
      ],
      "text/markdown": [
       "```r\n",
       "function (r, n, pv, fv, type = 0) \n",
       "NULL\n",
       "```"
      ],
      "text/plain": [
       "function (r, n, pv, fv, type = 0) \n",
       "NULL"
      ]
     },
     "metadata": {},
     "output_type": "display_data"
    }
   ],
   "source": [
    "#help(\"pmt\")    \n",
    "args(pmt)"
   ]
  },
  {
   "cell_type": "markdown",
   "metadata": {
    "slideshow": {
     "slide_type": "subslide"
    }
   },
   "source": [
    "Una compañía planea pedir prestados $ 500,000 por cinco años. El banco de la compañía prestará el dinero a una tasa del 6% y exige que el préstamo se pague en cinco pagos iguales de fin de año. Calcule el monto del pago que la compañía debe hacer para amortizar completamente este préstamo en cinco años."
   ]
  },
  {
   "cell_type": "code",
   "execution_count": 33,
   "metadata": {
    "slideshow": {
     "slide_type": "fragment"
    }
   },
   "outputs": [
    {
     "data": {
      "text/html": [
       "-118698.200215595"
      ],
      "text/latex": [
       "-118698.200215595"
      ],
      "text/markdown": [
       "-118698.200215595"
      ],
      "text/plain": [
       "[1] -118698.2"
      ]
     },
     "metadata": {},
     "output_type": "display_data"
    }
   ],
   "source": [
    "pmt(r = 0.06, n = 5, pv = 5e+05, fv = 0, type=0)"
   ]
  },
  {
   "cell_type": "markdown",
   "metadata": {
    "slideshow": {
     "slide_type": "subslide"
    }
   },
   "source": [
    "# Calcular el número de períodos en una anualidad"
   ]
  },
  {
   "cell_type": "code",
   "execution_count": 34,
   "metadata": {
    "slideshow": {
     "slide_type": "skip"
    }
   },
   "outputs": [
    {
     "data": {
      "text/html": [
       "<pre class=language-r><code>function (r, pv, fv, pmt, type = 0) \n",
       "NULL</code></pre>"
      ],
      "text/latex": [
       "\\begin{minted}{r}\n",
       "function (r, pv, fv, pmt, type = 0) \n",
       "NULL\n",
       "\\end{minted}"
      ],
      "text/markdown": [
       "```r\n",
       "function (r, pv, fv, pmt, type = 0) \n",
       "NULL\n",
       "```"
      ],
      "text/plain": [
       "function (r, pv, fv, pmt, type = 0) \n",
       "NULL"
      ]
     },
     "metadata": {},
     "output_type": "display_data"
    }
   ],
   "source": [
    "#help(\"n.period\")    \n",
    "args(n.period)"
   ]
  },
  {
   "cell_type": "markdown",
   "metadata": {
    "slideshow": {
     "slide_type": "fragment"
    }
   },
   "source": [
    "¿Cuántos pagos de 1000 a fin de año son requeridos para acumular 10,000 si la tasa de descuento es del 9%?"
   ]
  },
  {
   "cell_type": "code",
   "execution_count": 35,
   "metadata": {
    "slideshow": {
     "slide_type": "fragment"
    }
   },
   "outputs": [
    {
     "data": {
      "text/html": [
       "7.44802790245204"
      ],
      "text/latex": [
       "7.44802790245204"
      ],
      "text/markdown": [
       "7.44802790245204"
      ],
      "text/plain": [
       "[1] 7.448028"
      ]
     },
     "metadata": {},
     "output_type": "display_data"
    }
   ],
   "source": [
    "n.period(r = 0.09, pv = 0, fv = 10000, pmt = -1000, type = 0)"
   ]
  },
  {
   "cell_type": "markdown",
   "metadata": {
    "slideshow": {
     "slide_type": "skip"
    }
   },
   "source": [
    "# Calcular la tasa de rendimiento por un período"
   ]
  },
  {
   "cell_type": "code",
   "execution_count": 36,
   "metadata": {
    "slideshow": {
     "slide_type": "skip"
    }
   },
   "outputs": [
    {
     "data": {
      "text/html": [
       "<pre class=language-r><code>function (n, pv, fv, pmt, type = 0) \n",
       "NULL</code></pre>"
      ],
      "text/latex": [
       "\\begin{minted}{r}\n",
       "function (n, pv, fv, pmt, type = 0) \n",
       "NULL\n",
       "\\end{minted}"
      ],
      "text/markdown": [
       "```r\n",
       "function (n, pv, fv, pmt, type = 0) \n",
       "NULL\n",
       "```"
      ],
      "text/plain": [
       "function (n, pv, fv, pmt, type = 0) \n",
       "NULL"
      ]
     },
     "metadata": {},
     "output_type": "display_data"
    }
   ],
   "source": [
    "#help(\"discount.rate\")    \n",
    "args(discount.rate)"
   ]
  },
  {
   "cell_type": "markdown",
   "metadata": {
    "slideshow": {
     "slide_type": "skip"
    }
   },
   "source": [
    "Suppose you have the opponunity to invest 1000 at the end of each of the next five years in exchange for $6000 at the end of the fifth year. What is the annual rate of return on this investment?"
   ]
  },
  {
   "cell_type": "code",
   "execution_count": 37,
   "metadata": {
    "slideshow": {
     "slide_type": "skip"
    }
   },
   "outputs": [
    {
     "data": {
      "text/html": [
       "0.0913009137865297"
      ],
      "text/latex": [
       "0.0913009137865297"
      ],
      "text/markdown": [
       "0.0913009137865297"
      ],
      "text/plain": [
       "[1] 0.09130091"
      ]
     },
     "metadata": {},
     "output_type": "display_data"
    }
   ],
   "source": [
    "discount.rate(n = 5, fv = 6000, pmt = -1000, pv = 0, type = 0)"
   ]
  },
  {
   "cell_type": "markdown",
   "metadata": {
    "slideshow": {
     "slide_type": "subslide"
    }
   },
   "source": [
    "# Cálculo del Valor Presente Neto (NPV por sus siglas en inglés)\n",
    "\n",
    "El valor presente neto (VPN) de un proyecto representa el cambio en el patrimonio neto/patrimonio de una empresa que resultaría de la aceptación del proyecto a lo largo de su vida. Es igual al valor presente de las entradas netas de efectivo del proyecto menos el desembolso de inversión inicial. Es una de las técnicas más confiables utilizadas en el presupuesto de capital porque se basa en el enfoque de flujo de efectivo descontado.\n",
    "\n",
    "Los cálculos del valor presente neto requieren las siguientes tres entradas:\n",
    "\n",
    "Flujos de efectivo netos proyectados después de impuestos en cada período del proyecto.\n",
    "\n",
    "Desembolso de inversión inicial\n",
    "\n",
    "Tasa de descuento adecuada, es decir, la tasa de obstáculo."
   ]
  },
  {
   "cell_type": "code",
   "execution_count": 38,
   "metadata": {
    "slideshow": {
     "slide_type": "skip"
    }
   },
   "outputs": [
    {
     "data": {
      "text/html": [
       "<pre class=language-r><code>function (r, cf) \n",
       "NULL</code></pre>"
      ],
      "text/latex": [
       "\\begin{minted}{r}\n",
       "function (r, cf) \n",
       "NULL\n",
       "\\end{minted}"
      ],
      "text/markdown": [
       "```r\n",
       "function (r, cf) \n",
       "NULL\n",
       "```"
      ],
      "text/plain": [
       "function (r, cf) \n",
       "NULL"
      ]
     },
     "metadata": {},
     "output_type": "display_data"
    }
   ],
   "source": [
    "#help(\"npv\")    \n",
    "args(npv)"
   ]
  },
  {
   "cell_type": "markdown",
   "metadata": {
    "slideshow": {
     "slide_type": "subslide"
    }
   },
   "source": [
    "Ejemplo: \n",
    "\n",
    "Calcule el VPN de un proyecto de inversión que tiene un costo inicial de 6 millones y un flujo de efectivo positivo de 2.6 millones al final del año 1, 2.4 millones al final del año 2 y 3.8 millones al final del año 3. Use una tasa de descuento del 8%.  "
   ]
  },
  {
   "cell_type": "code",
   "execution_count": 39,
   "metadata": {
    "slideshow": {
     "slide_type": "fragment"
    }
   },
   "outputs": [
    {
     "data": {
      "text/html": [
       "1.48158309200833"
      ],
      "text/latex": [
       "1.48158309200833"
      ],
      "text/markdown": [
       "1.48158309200833"
      ],
      "text/plain": [
       "[1] 1.481583"
      ]
     },
     "metadata": {},
     "output_type": "display_data"
    }
   ],
   "source": [
    "npv(r = 0.08, cf = c(-6, 2.6, 2.4, 3.8))"
   ]
  },
  {
   "cell_type": "markdown",
   "metadata": {
    "slideshow": {
     "slide_type": "subslide"
    }
   },
   "source": [
    "# Tasa interna de rendimiento (TIR)\n",
    "\n",
    "En el presupuesto de capital, el conflicto entre VPN y TIR se refiere a una situación en la cual el método de VPN clasifica los proyectos de manera diferente al método de TIR. En caso de tal diferencia, una empresa debe aceptar proyectos con mayor VPN.\n",
    "\n",
    "El valor actual neto (VAN o VPN) y la tasa interna de rendimiento (TIR) son dos de las técnicas de análisis de inversión y presupuesto de capital más utilizadas. Son similares en el sentido de que ambos son modelos de flujo de efectivo descontados, es decir, incorporan el valor temporal del dinero. Pero también difieren en su enfoque principal y sus fortalezas y debilidades. El VPN es una medida absoluta, es decir, es la cantidad en dólares de valor agregado o perdido al emprender un proyecto. La TIR, por otro lado, es una medida relativa, es decir, es la tasa de rendimiento que ofrece un proyecto a lo largo de su vida útil."
   ]
  },
  {
   "cell_type": "code",
   "execution_count": 40,
   "metadata": {
    "slideshow": {
     "slide_type": "skip"
    }
   },
   "outputs": [
    {
     "data": {
      "text/html": [
       "<pre class=language-r><code>function (cf) \n",
       "NULL</code></pre>"
      ],
      "text/latex": [
       "\\begin{minted}{r}\n",
       "function (cf) \n",
       "NULL\n",
       "\\end{minted}"
      ],
      "text/markdown": [
       "```r\n",
       "function (cf) \n",
       "NULL\n",
       "```"
      ],
      "text/plain": [
       "function (cf) \n",
       "NULL"
      ]
     },
     "metadata": {},
     "output_type": "display_data"
    }
   ],
   "source": [
    "#help(\"irr\")    \n",
    "args(irr)"
   ]
  },
  {
   "cell_type": "markdown",
   "metadata": {
    "slideshow": {
     "slide_type": "fragment"
    }
   },
   "source": [
    "Ejemplo:\n",
    "¿Cuál es la TIR de la inversión descrita en el ejemplo anterior?"
   ]
  },
  {
   "cell_type": "code",
   "execution_count": 41,
   "metadata": {
    "slideshow": {
     "slide_type": "fragment"
    }
   },
   "outputs": [
    {
     "data": {
      "text/html": [
       "0.203257884400731"
      ],
      "text/latex": [
       "0.203257884400731"
      ],
      "text/markdown": [
       "0.203257884400731"
      ],
      "text/plain": [
       "[1] 0.2032579"
      ]
     },
     "metadata": {},
     "output_type": "display_data"
    },
    {
     "data": {
      "text/html": [
       "0.155191134544828"
      ],
      "text/latex": [
       "0.155191134544828"
      ],
      "text/markdown": [
       "0.155191134544828"
      ],
      "text/plain": [
       "[1] 0.1551911"
      ]
     },
     "metadata": {},
     "output_type": "display_data"
    }
   ],
   "source": [
    "irr(cf = c(-6, 2.6, 2.4, 3.8))\n",
    "\n",
    "irr(cf=c(-5, 1.6, 2.4, 2.8))"
   ]
  },
  {
   "cell_type": "markdown",
   "metadata": {
    "slideshow": {
     "slide_type": "skip"
    }
   },
   "source": [
    "# Cálculo del rendimiento del período de tenencia \n",
    "\n",
    "El rendimiento del período de tenencia es el rendimiento total ganado en una inversión durante todo su período de tenencia expresado como un porcentaje del valor inicial de la inversión. Se calcula como la suma de la ganancia de capital y los ingresos divididos por el valor de apertura de la inversión.\n",
    "\n",
    "Hay dos fuentes de rendimiento para cualquier inversión en bonos, acciones, bienes raíces, etc.: (a) ganancia de capital e (b) ingresos. La ganancia o pérdida de capital resulta del movimiento en el valor de la inversión desde la fecha decompra hasta la fecha en que se calcula el rendimiento del período de tenencia. El ingreso resulta de pagos de cupones, dividendos, alquileres, etc.\n",
    "\n",
    "El rendimiento del período de mantenimiento no es una medida estandarizada de rendimiento. Un período de espera dado puede ser por un solo día o un período de 5 años y no lo sabremos. La comparación entre el rendimiento del período de tenencia de diferentes inversiones directamente no es apropiada. Necesitamos averiguar el tiempo total durante el cual se calcula el rendimiento y luego convertirlo al rendimiento del período de tenencia anualizado."
   ]
  },
  {
   "cell_type": "code",
   "execution_count": 42,
   "metadata": {
    "slideshow": {
     "slide_type": "skip"
    }
   },
   "outputs": [
    {
     "data": {
      "text/html": [
       "<pre class=language-r><code>function (ev, bv, cfr = 0) \n",
       "NULL</code></pre>"
      ],
      "text/latex": [
       "\\begin{minted}{r}\n",
       "function (ev, bv, cfr = 0) \n",
       "NULL\n",
       "\\end{minted}"
      ],
      "text/markdown": [
       "```r\n",
       "function (ev, bv, cfr = 0) \n",
       "NULL\n",
       "```"
      ],
      "text/plain": [
       "function (ev, bv, cfr = 0) \n",
       "NULL"
      ]
     },
     "metadata": {},
     "output_type": "display_data"
    }
   ],
   "source": [
    "#help(hpr)\n",
    "args(hpr)"
   ]
  },
  {
   "cell_type": "markdown",
   "metadata": {
    "slideshow": {
     "slide_type": "skip"
    }
   },
   "source": [
    "Ejemplo: \n",
    "\n",
    "Supongamos que una acción se compra por 3 y se vende por 4 seis meses después, tiempo durante el cual pagó 0,50 en dividendos. ¿Cuál es el retorno del período de retención?"
   ]
  },
  {
   "cell_type": "code",
   "execution_count": 43,
   "metadata": {
    "slideshow": {
     "slide_type": "skip"
    }
   },
   "outputs": [
    {
     "data": {
      "text/html": [
       "0.5"
      ],
      "text/latex": [
       "0.5"
      ],
      "text/markdown": [
       "0.5"
      ],
      "text/plain": [
       "[1] 0.5"
      ]
     },
     "metadata": {},
     "output_type": "display_data"
    }
   ],
   "source": [
    "hpr(ev = 4, bv = 3, cfr = 0.5)"
   ]
  },
  {
   "cell_type": "markdown",
   "metadata": {
    "slideshow": {
     "slide_type": "skip"
    }
   },
   "source": [
    "# Convetir el retorno del período de tenencia a la tasa anual efectiva"
   ]
  },
  {
   "cell_type": "code",
   "execution_count": 44,
   "metadata": {
    "slideshow": {
     "slide_type": "skip"
    }
   },
   "outputs": [
    {
     "data": {
      "text/html": [
       "<pre class=language-r><code>function (hpr, t) \n",
       "NULL</code></pre>"
      ],
      "text/latex": [
       "\\begin{minted}{r}\n",
       "function (hpr, t) \n",
       "NULL\n",
       "\\end{minted}"
      ],
      "text/markdown": [
       "```r\n",
       "function (hpr, t) \n",
       "NULL\n",
       "```"
      ],
      "text/plain": [
       "function (hpr, t) \n",
       "NULL"
      ]
     },
     "metadata": {},
     "output_type": "display_data"
    }
   ],
   "source": [
    "#help(hpr2ear)\n",
    "args(hpr2ear)"
   ]
  },
  {
   "cell_type": "markdown",
   "metadata": {
    "slideshow": {
     "slide_type": "skip"
    }
   },
   "source": [
    "Calcule la tasa efectiva anual usando el retorno del periodo de 120 días de 2.85%"
   ]
  },
  {
   "cell_type": "code",
   "execution_count": 45,
   "metadata": {
    "slideshow": {
     "slide_type": "skip"
    }
   },
   "outputs": [
    {
     "data": {
      "text/html": [
       "0.0892345297518926"
      ],
      "text/latex": [
       "0.0892345297518926"
      ],
      "text/markdown": [
       "0.0892345297518926"
      ],
      "text/plain": [
       "[1] 0.08923453"
      ]
     },
     "metadata": {},
     "output_type": "display_data"
    }
   ],
   "source": [
    "hpr2ear(hpr = 0.0285, t = 120)"
   ]
  },
  {
   "cell_type": "markdown",
   "metadata": {
    "slideshow": {
     "slide_type": "subslide"
    }
   },
   "source": [
    "# La tasa de rendimiento ponderada en el tiempo (TWR) \n",
    "\n",
    "Es una medida de la tasa de crecimiento compuesta en una cartera. La medida TWRa menudo se usa para comparar los retornos de las inversiones porque elimina los efectos distorsionadores sobre las tasas de crecimiento creados por las entradas y salidas de dinero. El rendimiento ponderado en el tiempo divide el rendimiento de una cartera de inversiones en intervalos separados en función de si se agregó o retiró dinero del fondo.\n",
    "\n",
    "La medida de rendimiento ponderada en el tiempo también se denomina rendimiento medio geométrico, que es una forma complicada de afirmar que los rendimientos de cada subperíodo se multiplican entre sí."
   ]
  },
  {
   "cell_type": "code",
   "execution_count": 46,
   "metadata": {
    "slideshow": {
     "slide_type": "fragment"
    }
   },
   "outputs": [
    {
     "data": {
      "text/html": [
       "<pre class=language-r><code>function (ev, bv, cfr) \n",
       "NULL</code></pre>"
      ],
      "text/latex": [
       "\\begin{minted}{r}\n",
       "function (ev, bv, cfr) \n",
       "NULL\n",
       "\\end{minted}"
      ],
      "text/markdown": [
       "```r\n",
       "function (ev, bv, cfr) \n",
       "NULL\n",
       "```"
      ],
      "text/plain": [
       "function (ev, bv, cfr) \n",
       "NULL"
      ]
     },
     "metadata": {},
     "output_type": "display_data"
    }
   ],
   "source": [
    "#help(twrr)\n",
    "args(twrr)"
   ]
  },
  {
   "cell_type": "markdown",
   "metadata": {
    "slideshow": {
     "slide_type": "subslide"
    }
   },
   "source": [
    "Ejemplo: \n",
    "\n",
    "Un inversionista compra una acción en t = 0 por 200. Al final del año (en t = 1) el inversionista compra una acción adicional de la misma acción, esta vez por 220. Luego vende ambas acciones al final del segundo año por 230 cada uno. También recibió dividendos anuales de 3 por acción al final de cada año. Calcule la tasa de rendimiento anual ponderada en el tiempo de su inversión\n",
    "\n",
    "Primero, desglosamos el período de 2 años en dos períodos de 1 año:\n",
    "\n",
    "Periodo 1:\n",
    "    \n",
    "Valor inicial = 200\n",
    "\n",
    "Dividendos pagados = 3\n",
    "\n",
    "Valor final = 220\n",
    "\n",
    "Periodo 2:\n",
    "    \n",
    "Valor inicial = 440 (2 acciones * 220)\n",
    "\n",
    "Dividendos pagados = 6 (2 acciones * 3)\n",
    "\n",
    "Valor final = 460 (2 acciones * 230)"
   ]
  },
  {
   "cell_type": "code",
   "execution_count": 47,
   "metadata": {
    "slideshow": {
     "slide_type": "subslide"
    }
   },
   "outputs": [
    {
     "data": {
      "text/html": [
       "0.086685954467234"
      ],
      "text/latex": [
       "0.086685954467234"
      ],
      "text/markdown": [
       "0.086685954467234"
      ],
      "text/plain": [
       "[1] 0.08668595"
      ]
     },
     "metadata": {},
     "output_type": "display_data"
    }
   ],
   "source": [
    "twrr(ev=c(220,2*230), bv=c(200,2*220), cfr=c(3,2*3))"
   ]
  },
  {
   "cell_type": "markdown",
   "metadata": {
    "slideshow": {
     "slide_type": "skip"
    }
   },
   "source": [
    "# Convirtiendo entre Tasa Efectiva Anual (EAR), rendimiento del periodo de tenencia (HPR) y Rendimiento del mercado monetario (MMY)"
   ]
  },
  {
   "cell_type": "markdown",
   "metadata": {
    "slideshow": {
     "slide_type": "skip"
    }
   },
   "source": [
    "Suponga que el precio de un bono del tesoro de 10.000  que vence en 150 días es de 9.800. El rendimiento del mercado monetario cotizado es 4.898%. Calcule la tasa efectiva anual y el rendimiento anual."
   ]
  },
  {
   "cell_type": "code",
   "execution_count": 48,
   "metadata": {
    "slideshow": {
     "slide_type": "skip"
    }
   },
   "outputs": [
    {
     "data": {
      "text/html": [
       "0.0204083333333333"
      ],
      "text/latex": [
       "0.0204083333333333"
      ],
      "text/markdown": [
       "0.0204083333333333"
      ],
      "text/plain": [
       "[1] 0.02040833"
      ]
     },
     "metadata": {},
     "output_type": "display_data"
    },
    {
     "data": {
      "text/html": [
       "0.0204081632653061"
      ],
      "text/latex": [
       "0.0204081632653061"
      ],
      "text/markdown": [
       "0.0204081632653061"
      ],
      "text/plain": [
       "[1] 0.02040816"
      ]
     },
     "metadata": {},
     "output_type": "display_data"
    },
    {
     "data": {
      "text/html": [
       "0.0503887425961882"
      ],
      "text/latex": [
       "0.0503887425961882"
      ],
      "text/markdown": [
       "0.0503887425961882"
      ],
      "text/plain": [
       "[1] 0.05038874"
      ]
     },
     "metadata": {},
     "output_type": "display_data"
    },
    {
     "data": {
      "text/html": [
       "0.0204083333333334"
      ],
      "text/latex": [
       "0.0204083333333334"
      ],
      "text/markdown": [
       "0.0204083333333334"
      ],
      "text/plain": [
       "[1] 0.02040833"
      ]
     },
     "metadata": {},
     "output_type": "display_data"
    }
   ],
   "source": [
    "mmy2hpr(mmy = 0.04898, t = 150)\n",
    "hpr(ev = 10000, bv = 9800)\n",
    "hpr2ear(hpr = mmy2hpr(mmy = 0.04898, t = 150), t = 150)\n",
    "ear2hpr(ear = hpr2ear(hpr = mmy2hpr(mmy = 0.04898, t = 150), t = 150), t = 150)"
   ]
  },
  {
   "cell_type": "markdown",
   "metadata": {
    "slideshow": {
     "slide_type": "skip"
    }
   },
   "source": [
    "# Cálculo del Rendimiento equivalente de bonos - BEY\n",
    "\n",
    "El rendimiento equivalente de bonos (BEY) permite que los valores de renta fija cuyos pagos no sean anuales se puedan comparar con valores con rendimientos anuales. El BEY es un cálculo para reexpresar los rendimientos de bonos o notas con descuento semestral, trimestral o mensual en un rendimiento anual, y es el rendimiento cotizado en los periódicos. \n",
    "\n",
    "Las empresas pueden recaudar capital de dos maneras principales: deuda o capital. El patrimonio se distribuye a los inversores en forma de acciones ordinarias; ocupa el segundo lugar de la deuda en caso de quiebra o incumplimiento, y puede no proporcionar al inversor un rendimiento si la empresa falla. Por el contrario, la deuda se considera más barata para la empresa y es más segura que el capital para los inversores. Aún así, la deuda debe ser pagada por la empresa, independientemente del crecimiento de las ganancias. De esta manera, proporciona un flujo de ingresos más confiable para el inversionista de bonos.\n",
    "\n",
    "Sin embargo, no todos los bonos son iguales. La mayoría de los bonos pagan a los inversores pagos de intereses anuales o semestrales. Algunos bonos, denominados bonos de cupón cero, no pagan intereses en absoluto, sino que se emiten con un profundo descuento a la par. El inversor obtiene un rendimiento cuando vence el bono. Para comparar el rendimiento de los valores descontados con otras inversiones en términos relativos, los analistas utilizan la fórmula de rendimiento equivalente de bonos."
   ]
  },
  {
   "cell_type": "code",
   "execution_count": 49,
   "metadata": {
    "slideshow": {
     "slide_type": "skip"
    }
   },
   "outputs": [
    {
     "data": {
      "text/html": [
       "<pre class=language-r><code>function (hpr, t) \n",
       "NULL</code></pre>"
      ],
      "text/latex": [
       "\\begin{minted}{r}\n",
       "function (hpr, t) \n",
       "NULL\n",
       "\\end{minted}"
      ],
      "text/markdown": [
       "```r\n",
       "function (hpr, t) \n",
       "NULL\n",
       "```"
      ],
      "text/plain": [
       "function (hpr, t) \n",
       "NULL"
      ]
     },
     "metadata": {},
     "output_type": "display_data"
    }
   ],
   "source": [
    "#help(hpr2bey)\n",
    "args(hpr2bey)"
   ]
  },
  {
   "cell_type": "markdown",
   "metadata": {
    "slideshow": {
     "slide_type": "skip"
    }
   },
   "source": [
    "# Ejemplo:\n",
    "\n",
    "¿Cuál es el rendimiento sobre una base equivalente a bonos de un préstamo a 3 meses que tiene un rendimiento del 4% en el período de tenencia?"
   ]
  },
  {
   "cell_type": "code",
   "execution_count": 50,
   "metadata": {
    "slideshow": {
     "slide_type": "skip"
    }
   },
   "outputs": [
    {
     "data": {
      "text/html": [
       "0.1632"
      ],
      "text/latex": [
       "0.1632"
      ],
      "text/markdown": [
       "0.1632"
      ],
      "text/plain": [
       "[1] 0.1632"
      ]
     },
     "metadata": {},
     "output_type": "display_data"
    }
   ],
   "source": [
    "hpr2bey(hpr = 0.04, t = 3)"
   ]
  },
  {
   "cell_type": "code",
   "execution_count": 51,
   "metadata": {
    "slideshow": {
     "slide_type": "skip"
    }
   },
   "outputs": [
    {
     "data": {
      "text/html": [
       "<pre class=language-r><code>function (ear) \n",
       "NULL</code></pre>"
      ],
      "text/latex": [
       "\\begin{minted}{r}\n",
       "function (ear) \n",
       "NULL\n",
       "\\end{minted}"
      ],
      "text/markdown": [
       "```r\n",
       "function (ear) \n",
       "NULL\n",
       "```"
      ],
      "text/plain": [
       "function (ear) \n",
       "NULL"
      ]
     },
     "metadata": {},
     "output_type": "display_data"
    }
   ],
   "source": [
    "#help(\"ear2bey\")\n",
    "args(ear2bey)"
   ]
  },
  {
   "cell_type": "markdown",
   "metadata": {
    "slideshow": {
     "slide_type": "skip"
    }
   },
   "source": [
    "¿Cuál es el rendimiento sobre una base equivalente de bonos de una inversión con un rendimiento anual efectivo del 6%?"
   ]
  },
  {
   "cell_type": "code",
   "execution_count": 52,
   "metadata": {
    "slideshow": {
     "slide_type": "skip"
    }
   },
   "outputs": [
    {
     "data": {
      "text/html": [
       "0.0591260281974"
      ],
      "text/latex": [
       "0.0591260281974"
      ],
      "text/markdown": [
       "0.0591260281974"
      ],
      "text/plain": [
       "[1] 0.05912603"
      ]
     },
     "metadata": {},
     "output_type": "display_data"
    }
   ],
   "source": [
    "ear2bey(ear = 0.06)"
   ]
  },
  {
   "cell_type": "markdown",
   "metadata": {
    "slideshow": {
     "slide_type": "subslide"
    }
   },
   "source": [
    "# Cálculo de la media ponderada como retorno de cartera"
   ]
  },
  {
   "cell_type": "code",
   "execution_count": 53,
   "metadata": {
    "slideshow": {
     "slide_type": "skip"
    }
   },
   "outputs": [
    {
     "data": {
      "text/html": [
       "<pre class=language-r><code>function (r, w) \n",
       "NULL</code></pre>"
      ],
      "text/latex": [
       "\\begin{minted}{r}\n",
       "function (r, w) \n",
       "NULL\n",
       "\\end{minted}"
      ],
      "text/markdown": [
       "```r\n",
       "function (r, w) \n",
       "NULL\n",
       "```"
      ],
      "text/plain": [
       "function (r, w) \n",
       "NULL"
      ]
     },
     "metadata": {},
     "output_type": "display_data"
    }
   ],
   "source": [
    "#help(wpr)\n",
    "args(wpr)"
   ]
  },
  {
   "cell_type": "markdown",
   "metadata": {
    "slideshow": {
     "slide_type": "fragment"
    }
   },
   "source": [
    "Una cartera consta de 40% de acciones ordinarias, 50% de bonos y 10% de efectivo. Si el rendimiento de las acciones ordinarias es del 9%, el rendimiento de los bonos es del 6% y el rendimiento del efectivo es del 1%, ¿cuál es el rendimiento de la cartera?"
   ]
  },
  {
   "cell_type": "code",
   "execution_count": 54,
   "metadata": {
    "slideshow": {
     "slide_type": "fragment"
    }
   },
   "outputs": [
    {
     "data": {
      "text/html": [
       "0.067"
      ],
      "text/latex": [
       "0.067"
      ],
      "text/markdown": [
       "0.067"
      ],
      "text/plain": [
       "[1] 0.067"
      ]
     },
     "metadata": {},
     "output_type": "display_data"
    }
   ],
   "source": [
    "wpr(r = c(0.09, 0.06, 0.01), w = c(0.4, 0.5, 0.1))"
   ]
  },
  {
   "cell_type": "markdown",
   "metadata": {
    "slideshow": {
     "slide_type": "skip"
    }
   },
   "source": [
    "# Retorno medio geométrico\n",
    "\n",
    "La tasa geométrica de rentabilidad es especialmente útil para medir la rentabilidad media de las operaciones financieras en las que las revalorizaciones o desvalorizaciones son acumulativas. Por tanto, esta medida es la adecuada y correcta en lugar de la rentabilidad media calculada, como es más habitual, mediante la media simple o aritmética. La tasa geométrica de rentabilidad se corresponde con la rentabilidad que se deduciría mediante la aplicación de la capitalización compuesta\n",
    "\n",
    "La rentabilidad geométrica o tasa geométrica de rentabilidad (TGR) se utiliza para conocer la rentabilidad de los activos financieros de la empresa de una forma más real a lo largo del tiempo que a través de una media aritmética. Sirve para conocer la rentabilidad de aquellos activos que hayan sufrido revalorizaciones o desvalorizaciones de forma acumulativa.\n",
    "\n",
    "La tasa de rentabilidad geométrica coincide con la rentabilidad que el inversor obtiene tras aplicar la capitalización compuesta en su inversión."
   ]
  },
  {
   "cell_type": "code",
   "execution_count": 55,
   "metadata": {
    "slideshow": {
     "slide_type": "skip"
    }
   },
   "outputs": [
    {
     "data": {
      "text/html": [
       "<pre class=language-r><code>function (r) \n",
       "NULL</code></pre>"
      ],
      "text/latex": [
       "\\begin{minted}{r}\n",
       "function (r) \n",
       "NULL\n",
       "\\end{minted}"
      ],
      "text/markdown": [
       "```r\n",
       "function (r) \n",
       "NULL\n",
       "```"
      ],
      "text/plain": [
       "function (r) \n",
       "NULL"
      ]
     },
     "metadata": {},
     "output_type": "display_data"
    }
   ],
   "source": [
    "#help(\"geometric.mean\")\n",
    "args(geometric.mean)"
   ]
  },
  {
   "cell_type": "markdown",
   "metadata": {
    "slideshow": {
     "slide_type": "skip"
    }
   },
   "source": [
    "# Ejemplo: \n",
    "\n",
    "Durante los últimos tres años, los rendimientos de las acciones ordinarias de Acme Corporation han sido de -5%, 11% y 9%. Calcule la tasa de rendimiento anual compuesta durante el período de 3 años."
   ]
  },
  {
   "cell_type": "code",
   "execution_count": 56,
   "metadata": {
    "slideshow": {
     "slide_type": "skip"
    }
   },
   "outputs": [
    {
     "data": {
      "text/html": [
       "0.0475088335123137"
      ],
      "text/latex": [
       "0.0475088335123137"
      ],
      "text/markdown": [
       "0.0475088335123137"
      ],
      "text/plain": [
       "[1] 0.04750883"
      ]
     },
     "metadata": {},
     "output_type": "display_data"
    }
   ],
   "source": [
    "geometric.mean(r = c(-0.05, 0.11, 0.09))"
   ]
  },
  {
   "cell_type": "markdown",
   "metadata": {
    "slideshow": {
     "slide_type": "skip"
    }
   },
   "source": [
    "# Calcular el costo promedio con la media armónica"
   ]
  },
  {
   "cell_type": "code",
   "execution_count": 57,
   "metadata": {
    "slideshow": {
     "slide_type": "skip"
    }
   },
   "outputs": [
    {
     "data": {
      "text/html": [
       "<pre class=language-r><code>function (p) \n",
       "NULL</code></pre>"
      ],
      "text/latex": [
       "\\begin{minted}{r}\n",
       "function (p) \n",
       "NULL\n",
       "\\end{minted}"
      ],
      "text/markdown": [
       "```r\n",
       "function (p) \n",
       "NULL\n",
       "```"
      ],
      "text/plain": [
       "function (p) \n",
       "NULL"
      ]
     },
     "metadata": {},
     "output_type": "display_data"
    }
   ],
   "source": [
    "#help(\"harmonic.mean\")\n",
    "args(harmonic.mean)"
   ]
  },
  {
   "cell_type": "markdown",
   "metadata": {
    "slideshow": {
     "slide_type": "skip"
    }
   },
   "source": [
    "Un inversor compra 10,000 acciones cada mes, y en los últimos tres meses los precios pagados por acción fueron 4.5, 5.2 y 4.8. ¿Cuál es el costo promedio por acción de las acciones adquiridas?"
   ]
  },
  {
   "cell_type": "code",
   "execution_count": 58,
   "metadata": {
    "slideshow": {
     "slide_type": "skip"
    }
   },
   "outputs": [
    {
     "data": {
      "text/html": [
       "4.81646655231561"
      ],
      "text/latex": [
       "4.81646655231561"
      ],
      "text/markdown": [
       "4.81646655231561"
      ],
      "text/plain": [
       "[1] 4.816467"
      ]
     },
     "metadata": {},
     "output_type": "display_data"
    }
   ],
   "source": [
    "harmonic.mean(p = c(4.5, 5.2, 4.8))"
   ]
  },
  {
   "cell_type": "markdown",
   "metadata": {
    "slideshow": {
     "slide_type": "subslide"
    }
   },
   "source": [
    "# Costo de venta bajo 3 métodos diferentes"
   ]
  },
  {
   "cell_type": "markdown",
   "metadata": {
    "slideshow": {
     "slide_type": "fragment"
    }
   },
   "source": [
    "Una de las principales decisiones contables que deben tomar las empresas que venden productos es qué método utilizar para registrar el costo de los gastos de venta de bienes, que es la suma de los costos de los productos vendidos a los clientes durante el período. Se deduce el costo de los bienes vendidos de los ingresos por ventas para determinar el margen bruto. El costo de los bienes vendidos es una cifra muy importante porque si el margen bruto es incorrecto, el beneficio final (ingreso neto) es incorrecto."
   ]
  },
  {
   "cell_type": "markdown",
   "metadata": {
    "slideshow": {
     "slide_type": "fragment"
    }
   },
   "source": [
    "Los costos del producto se ingresan en la cuenta del activo de inventario en el orden en que se adquirieron, pero no necesariamente se sacan de la cuenta del activo de inventario en el mismo orden. Puede elegir entre varios métodos para registrar el costo de los bienes vendidos y el saldo de costos que permanece en su cuenta de activos de inventario:"
   ]
  },
  {
   "cell_type": "markdown",
   "metadata": {
    "slideshow": {
     "slide_type": "subslide"
    }
   },
   "source": [
    "El método FIFO (primero en entrar, primero en salir): Usted cobra los costos del producto al costo de los bienes vendidos en el orden cronológico en el que los adquirió. El procedimiento es así de simple. Es como si las primeras personas en la fila que vieran una película entraran al cine primero. El tomador de boletos recoge los boletos en el orden en que fueron comprados.\n",
    "\n",
    "\n",
    "El método LIFO (último en entrar, primero en salir): La característica principal del método LIFO es que selecciona el último artículo que compró primero y luego funciona hacia atrás hasta que tenga el costo total por el número total de unidades vendidas durante el período.\n",
    "\n",
    "\n",
    "El método de costo promedio: en comparación con los métodos FIFO y LIFO, el método de costo promedio parece ofrecer lo mejor de ambos mundos. Los costos de muchas cosas en el mundo de los negocios fluctúan, por lo que puede decidir centrarse en el costo promedio del producto durante un período de tiempo. Además, el promedio de los costos de los productos durante un período de tiempo tiene un efecto de suavización deseable que evita que el costo de los bienes vendidos dependa demasiado de los cambios bruscos de una o dos adquisiciones."
   ]
  },
  {
   "cell_type": "code",
   "execution_count": 59,
   "metadata": {
    "slideshow": {
     "slide_type": "subslide"
    }
   },
   "outputs": [
    {
     "data": {
      "text/html": [
       "<dl>\n",
       "\t<dt>$costOfGoods</dt>\n",
       "\t\t<dd>23</dd>\n",
       "\t<dt>$endingInventory</dt>\n",
       "\t\t<dd>15</dd>\n",
       "</dl>\n"
      ],
      "text/latex": [
       "\\begin{description}\n",
       "\\item[\\$costOfGoods] 23\n",
       "\\item[\\$endingInventory] 15\n",
       "\\end{description}\n"
      ],
      "text/markdown": [
       "$costOfGoods\n",
       ":   23\n",
       "$endingInventory\n",
       ":   15\n",
       "\n",
       "\n"
      ],
      "text/plain": [
       "$costOfGoods\n",
       "[1] 23\n",
       "\n",
       "$endingInventory\n",
       "[1] 15\n"
      ]
     },
     "metadata": {},
     "output_type": "display_data"
    },
    {
     "data": {
      "text/html": [
       "<dl>\n",
       "\t<dt>$costOfGoods</dt>\n",
       "\t\t<dd>31</dd>\n",
       "\t<dt>$endingInventory</dt>\n",
       "\t\t<dd>7</dd>\n",
       "</dl>\n"
      ],
      "text/latex": [
       "\\begin{description}\n",
       "\\item[\\$costOfGoods] 31\n",
       "\\item[\\$endingInventory] 7\n",
       "\\end{description}\n"
      ],
      "text/markdown": [
       "$costOfGoods\n",
       ":   31\n",
       "$endingInventory\n",
       ":   7\n",
       "\n",
       "\n"
      ],
      "text/plain": [
       "$costOfGoods\n",
       "[1] 31\n",
       "\n",
       "$endingInventory\n",
       "[1] 7\n"
      ]
     },
     "metadata": {},
     "output_type": "display_data"
    },
    {
     "data": {
      "text/html": [
       "<dl>\n",
       "\t<dt>$costOfGoods</dt>\n",
       "\t\t<dd>26.6</dd>\n",
       "\t<dt>$endingInventory</dt>\n",
       "\t\t<dd>11.4</dd>\n",
       "</dl>\n"
      ],
      "text/latex": [
       "\\begin{description}\n",
       "\\item[\\$costOfGoods] 26.6\n",
       "\\item[\\$endingInventory] 11.4\n",
       "\\end{description}\n"
      ],
      "text/markdown": [
       "$costOfGoods\n",
       ":   26.6\n",
       "$endingInventory\n",
       ":   11.4\n",
       "\n",
       "\n"
      ],
      "text/plain": [
       "$costOfGoods\n",
       "[1] 26.6\n",
       "\n",
       "$endingInventory\n",
       "[1] 11.4\n"
      ]
     },
     "metadata": {},
     "output_type": "display_data"
    }
   ],
   "source": [
    "cogs(uinv=2,pinv=2,units=c(3,5),price=c(3,5),sinv=7,method=\"FIFO\")\n",
    "cogs(uinv=2,pinv=2,units=c(3,5),price=c(3,5),sinv=7,method=\"LIFO\")\n",
    "cogs(uinv=2,pinv=2,units=c(3,5),price=c(3,5),sinv=7,method=\"WAC\")"
   ]
  },
  {
   "cell_type": "markdown",
   "metadata": {
    "slideshow": {
     "slide_type": "skip"
    }
   },
   "source": [
    "# Download historical ﬁnancial data from Yahoo finance and Google Finance\n",
    "\n",
    "Aparentemente antes esta opción era viable con el paquete FinCal pero no funciona. Cabe resaltar que el paquete es de 2013 y su última actualización fue en 2016. \n",
    "\n",
    "\n"
   ]
  },
  {
   "cell_type": "code",
   "execution_count": 60,
   "metadata": {
    "slideshow": {
     "slide_type": "skip"
    }
   },
   "outputs": [
    {
     "name": "stderr",
     "output_type": "stream",
     "text": [
      "Warning message in file(file, \"rt\"):\n",
      "\"cannot open URL 'http://ichart.finance.yahoo.com/table.csv?s=GOOG&a=06&b=01&c=2013&d=07&e=01&f=2019&g=d': HTTP status was '404 Not Found'\"\n"
     ]
    },
    {
     "ename": "ERROR",
     "evalue": "Error in file(file, \"rt\"): no se puede abrir la conexión\n",
     "output_type": "error",
     "traceback": [
      "Error in file(file, \"rt\"): no se puede abrir la conexión\nTraceback:\n",
      "1. get.ohlc.yahoo(\"GOOG\", start = \"2013-07-01\", end = \"2019-08-01\")",
      "2. read.csv(URL)",
      "3. read.table(file = file, header = header, sep = sep, quote = quote, \n .     dec = dec, fill = fill, comment.char = comment.char, ...)",
      "4. file(file, \"rt\")"
     ]
    },
    {
     "ename": "ERROR",
     "evalue": "Error in as.Date(ohlc$date): objeto 'google' no encontrado\n",
     "output_type": "error",
     "traceback": [
      "Error in as.Date(ohlc$date): objeto 'google' no encontrado\nTraceback:\n",
      "1. candlestickChart(google)",
      "2. as.Date(ohlc$date)"
     ]
    }
   ],
   "source": [
    "google <- get.ohlc.yahoo(\"GOOG\",start=\"2013-07-01\",end=\"2019-08-01\"); candlestickChart(google)\n",
    "apple <- get.ohlc.google(\"AAPL\",start=\"2013-07-01\",end=\"2019-08-01\"); candlestickChart(apple)"
   ]
  },
  {
   "cell_type": "markdown",
   "metadata": {
    "slideshow": {
     "slide_type": "skip"
    }
   },
   "source": [
    "Es por ello que se recurre a otros parquetes para lograr este objetivo. \n",
    "\n",
    "https://cran.r-project.org/web/packages/BatchGetSymbols/BatchGetSymbols.pdf"
   ]
  },
  {
   "cell_type": "code",
   "execution_count": 2,
   "metadata": {
    "slideshow": {
     "slide_type": "skip"
    }
   },
   "outputs": [
    {
     "name": "stderr",
     "output_type": "stream",
     "text": [
      "Installing package into 'C:/Users/IN_CAP02/Documents/R/win-library/3.6'\n",
      "(as 'lib' is unspecified)\n",
      "\n"
     ]
    },
    {
     "name": "stdout",
     "output_type": "stream",
     "text": [
      "package 'BatchGetSymbols' successfully unpacked and MD5 sums checked\n",
      "\n",
      "The downloaded binary packages are in\n",
      "\tC:\\Users\\IN_CAP02\\AppData\\Local\\Temp\\Rtmpkfei2J\\downloaded_packages\n"
     ]
    },
    {
     "name": "stderr",
     "output_type": "stream",
     "text": [
      "Loading required package: rvest\n",
      "\n",
      "Loading required package: xml2\n",
      "\n",
      "Loading required package: dplyr\n",
      "\n",
      "\n",
      "Attaching package: 'dplyr'\n",
      "\n",
      "\n",
      "The following objects are masked from 'package:stats':\n",
      "\n",
      "    filter, lag\n",
      "\n",
      "\n",
      "The following objects are masked from 'package:base':\n",
      "\n",
      "    intersect, setdiff, setequal, union\n",
      "\n",
      "\n",
      "\n",
      "\n"
     ]
    }
   ],
   "source": [
    "install.packages('BatchGetSymbols')\n",
    "library(BatchGetSymbols)"
   ]
  },
  {
   "cell_type": "markdown",
   "metadata": {
    "slideshow": {
     "slide_type": "skip"
    }
   },
   "source": [
    "# BatchGetSymbols Function to download financial data\n",
    "\n",
    "Esta función está diseñada para realizar descargas por lotes de datos financieros utilizando getSymbols. Basado en un conjunto de tickers y un período de tiempo, la función descargará los datos para cada ticker y devolverá un informe del proceso, junto con los datos reales en el formato de marco de datos largo. La principal ventaja de la función es que reconoce automáticamente la fuente del conjunto de datos a partir del ticker y estructura los datos resultantes de diferentes fuentes en el formato largo. Un sistema de almacenamiento en caché también está presente, lo que lo hace muy rápido."
   ]
  },
  {
   "cell_type": "code",
   "execution_count": 1,
   "metadata": {
    "slideshow": {
     "slide_type": "skip"
    }
   },
   "outputs": [
    {
     "ename": "ERROR",
     "evalue": "Error in args(BatchGetSymbols): objeto 'BatchGetSymbols' no encontrado\n",
     "output_type": "error",
     "traceback": [
      "Error in args(BatchGetSymbols): objeto 'BatchGetSymbols' no encontrado\nTraceback:\n",
      "1. args(BatchGetSymbols)"
     ]
    }
   ],
   "source": [
    "#help(\"BatchGetSymbols\")\n",
    "args(BatchGetSymbols)\n",
    "\n",
    "tickers <- c('FB','MMM')\n",
    "first.date <- Sys.Date()-30\n",
    "last.date <- Sys.Date()\n",
    "l.out <- BatchGetSymbols(tickers = tickers,\n",
    "                         first.date = first.date,\n",
    "                         last.date = last.date, do.cache=FALSE)"
   ]
  },
  {
   "cell_type": "code",
   "execution_count": 3,
   "metadata": {
    "slideshow": {
     "slide_type": "skip"
    }
   },
   "outputs": [
    {
     "name": "stdout",
     "output_type": "stream",
     "text": [
      "\u001b[90m# A tibble: 0 x 0\u001b[39m\n",
      "\u001b[90m# A tibble: 0 x 2\u001b[39m\n",
      "\u001b[90m# ... with 2 variables: ret.adjusted.prices \u001b[3m\u001b[90m<dbl>\u001b[90m\u001b[23m, ret.closing.prices \u001b[3m\u001b[90m<dbl>\u001b[90m\u001b[23m\u001b[39m\n"
     ]
    }
   ],
   "source": [
    "print(l.out$df.control)\n",
    "print(l.out$df.tickers)"
   ]
  },
  {
   "cell_type": "code",
   "execution_count": 90,
   "metadata": {
    "slideshow": {
     "slide_type": "skip"
    }
   },
   "outputs": [
    {
     "name": "stderr",
     "output_type": "stream",
     "text": [
      "\n",
      "Running BatchGetSymbols for:\n",
      "\n",
      "   tickers =FB, MMM, PETR4.SA, abcdef\n",
      "\n",
      "   Downloading data for benchmark ticker\n",
      "\n",
      "^GSPC | yahoo (1|1)\n",
      " | Not Cached\n",
      " - Error in download..\n",
      "\n",
      "FB | yahoo (1|4)\n",
      " | Not Cached\n",
      " - Error in download..\n",
      "\n",
      "MMM | yahoo (2|4)\n",
      " | Not Cached\n",
      " - Error in download..\n",
      "\n",
      "PETR4.SA | yahoo (3|4)\n",
      " | Not Cached\n",
      " - Error in download..\n",
      "\n",
      "abcdef | yahoo (4|4)\n",
      " | Not Cached\n",
      " - Error in download..\n"
     ]
    }
   ],
   "source": [
    "# set dates\n",
    "first.date <- Sys.Date() - 60\n",
    "last.date <- Sys.Date()\n",
    "freq.data <- 'daily'\n",
    "# set tickers\n",
    "tickers <- c('FB','MMM','PETR4.SA','abcdef')\n",
    "\n",
    "l.out <- BatchGetSymbols(tickers = tickers, \n",
    "                         first.date = first.date,\n",
    "                         last.date = last.date, \n",
    "                         freq.data = freq.data,\n",
    "                         cache.folder = file.path(tempdir(), \n",
    "                                                  'BGS_Cache') ) # cache in tempdir()"
   ]
  },
  {
   "cell_type": "code",
   "execution_count": 91,
   "metadata": {
    "slideshow": {
     "slide_type": "skip"
    }
   },
   "outputs": [
    {
     "name": "stdout",
     "output_type": "stream",
     "text": [
      "\u001b[90m# A tibble: 0 x 0\u001b[39m\n"
     ]
    }
   ],
   "source": [
    "print(l.out$df.control)"
   ]
  },
  {
   "cell_type": "code",
   "execution_count": 96,
   "metadata": {
    "slideshow": {
     "slide_type": "skip"
    }
   },
   "outputs": [
    {
     "name": "stderr",
     "output_type": "stream",
     "text": [
      "Installing package into 'C:/Users/Luis Mackay/Documents/R/win-library/3.6'\n",
      "(as 'lib' is unspecified)\n",
      "\n",
      "also installing the dependency 'rlang'\n",
      "\n",
      "\n"
     ]
    },
    {
     "name": "stdout",
     "output_type": "stream",
     "text": [
      "\n",
      "  There is a binary version available but the source version is later:\n",
      "      binary source needs_compilation\n",
      "rlang  0.4.2  0.4.4              TRUE\n",
      "\n",
      "  Binaries will be installed\n",
      "package 'rlang' successfully unpacked and MD5 sums checked\n",
      "\n",
      "The downloaded binary packages are in\n",
      "\tC:\\Users\\Luis Mackay\\AppData\\Local\\Temp\\RtmpGug5Hh\\downloaded_packages\n"
     ]
    }
   ],
   "source": [
    "install.packages('ggplot2')\n",
    "library(ggplot2)"
   ]
  },
  {
   "cell_type": "code",
   "execution_count": 97,
   "metadata": {
    "slideshow": {
     "slide_type": "skip"
    }
   },
   "outputs": [
    {
     "data": {
      "image/png": "[encoded data removed]",
      "text/plain": [
       "plot without title"
      ]
     },
     "metadata": {
      "image/png": {
       "height": 420,
       "width": 420
      },
      "text/plain": {
       "height": 420,
       "width": 420
      }
     },
     "output_type": "display_data"
    }
   ],
   "source": [
    "p <- ggplot(l.out$df.tickers, aes(x = ref.date, y = price.close))\n",
    "p <- p + geom_line()\n",
    "p <- p + facet_wrap(~ticker, scales = 'free_y') \n",
    "print(p)"
   ]
  },
  {
   "cell_type": "markdown",
   "metadata": {
    "slideshow": {
     "slide_type": "skip"
    }
   },
   "source": [
    "# get.clean.data\n",
    "# Get clean data from yahoo/google"
   ]
  },
  {
   "cell_type": "code",
   "execution_count": 65,
   "metadata": {
    "slideshow": {
     "slide_type": "skip"
    }
   },
   "outputs": [
    {
     "data": {
      "text/html": [
       "<table>\n",
       "<caption>A data.frame: 2285 × 8</caption>\n",
       "<thead>\n",
       "\t<tr><th scope=col>price.open</th><th scope=col>price.high</th><th scope=col>price.low</th><th scope=col>price.close</th><th scope=col>volume</th><th scope=col>price.adjusted</th><th scope=col>ref.date</th><th scope=col>ticker</th></tr>\n",
       "\t<tr><th scope=col>&lt;dbl&gt;</th><th scope=col>&lt;dbl&gt;</th><th scope=col>&lt;dbl&gt;</th><th scope=col>&lt;dbl&gt;</th><th scope=col>&lt;dbl&gt;</th><th scope=col>&lt;dbl&gt;</th><th scope=col>&lt;date&gt;</th><th scope=col>&lt;chr&gt;</th></tr>\n",
       "</thead>\n",
       "<tbody>\n",
       "\t<tr><td>1116.56</td><td>1133.87</td><td>1116.56</td><td>1132.99</td><td>3991400000</td><td>1132.99</td><td>2010-01-04</td><td>^GSPC</td></tr>\n",
       "\t<tr><td>1132.66</td><td>1136.63</td><td>1129.66</td><td>1136.52</td><td>2491020000</td><td>1136.52</td><td>2010-01-05</td><td>^GSPC</td></tr>\n",
       "\t<tr><td>1135.71</td><td>1139.19</td><td>1133.95</td><td>1137.14</td><td>4972660000</td><td>1137.14</td><td>2010-01-06</td><td>^GSPC</td></tr>\n",
       "\t<tr><td>1136.27</td><td>1142.46</td><td>1131.32</td><td>1141.69</td><td>5270680000</td><td>1141.69</td><td>2010-01-07</td><td>^GSPC</td></tr>\n",
       "\t<tr><td>1140.52</td><td>1145.39</td><td>1136.22</td><td>1144.98</td><td>4389590000</td><td>1144.98</td><td>2010-01-08</td><td>^GSPC</td></tr>\n",
       "\t<tr><td>1145.96</td><td>1149.74</td><td>1142.02</td><td>1146.98</td><td>4255780000</td><td>1146.98</td><td>2010-01-11</td><td>^GSPC</td></tr>\n",
       "\t<tr><td>1143.81</td><td>1143.81</td><td>1131.77</td><td>1136.22</td><td>4716160000</td><td>1136.22</td><td>2010-01-12</td><td>^GSPC</td></tr>\n",
       "\t<tr><td>1137.31</td><td>1148.40</td><td>1133.18</td><td>1145.68</td><td>4170360000</td><td>1145.68</td><td>2010-01-13</td><td>^GSPC</td></tr>\n",
       "\t<tr><td>1145.68</td><td>1150.41</td><td>1143.80</td><td>1148.46</td><td>3915200000</td><td>1148.46</td><td>2010-01-14</td><td>^GSPC</td></tr>\n",
       "\t<tr><td>1147.72</td><td>1147.77</td><td>1131.39</td><td>1136.03</td><td>4758730000</td><td>1136.03</td><td>2010-01-15</td><td>^GSPC</td></tr>\n",
       "\t<tr><td>1136.03</td><td>1150.45</td><td>1135.77</td><td>1150.23</td><td>4724830000</td><td>1150.23</td><td>2010-01-19</td><td>^GSPC</td></tr>\n",
       "\t<tr><td>1147.95</td><td>1147.95</td><td>1129.25</td><td>1138.04</td><td>4810560000</td><td>1138.04</td><td>2010-01-20</td><td>^GSPC</td></tr>\n",
       "\t<tr><td>1138.68</td><td>1141.58</td><td>1114.84</td><td>1116.48</td><td>6874290000</td><td>1116.48</td><td>2010-01-21</td><td>^GSPC</td></tr>\n",
       "\t<tr><td>1115.49</td><td>1115.49</td><td>1090.18</td><td>1091.76</td><td>6208650000</td><td>1091.76</td><td>2010-01-22</td><td>^GSPC</td></tr>\n",
       "\t<tr><td>1092.40</td><td>1102.97</td><td>1092.40</td><td>1096.78</td><td>4481390000</td><td>1096.78</td><td>2010-01-25</td><td>^GSPC</td></tr>\n",
       "\t<tr><td>1095.80</td><td>1103.69</td><td>1089.86</td><td>1092.17</td><td>4731910000</td><td>1092.17</td><td>2010-01-26</td><td>^GSPC</td></tr>\n",
       "\t<tr><td>1091.94</td><td>1099.51</td><td>1083.11</td><td>1097.50</td><td>5319120000</td><td>1097.50</td><td>2010-01-27</td><td>^GSPC</td></tr>\n",
       "\t<tr><td>1096.93</td><td>1100.22</td><td>1078.46</td><td>1084.53</td><td>5452400000</td><td>1084.53</td><td>2010-01-28</td><td>^GSPC</td></tr>\n",
       "\t<tr><td>1087.61</td><td>1096.45</td><td>1071.59</td><td>1073.87</td><td>5412850000</td><td>1073.87</td><td>2010-01-29</td><td>^GSPC</td></tr>\n",
       "\t<tr><td>1073.89</td><td>1089.38</td><td>1073.89</td><td>1089.19</td><td>4077610000</td><td>1089.19</td><td>2010-02-01</td><td>^GSPC</td></tr>\n",
       "\t<tr><td>1090.05</td><td>1104.73</td><td>1087.96</td><td>1103.32</td><td>4749540000</td><td>1103.32</td><td>2010-02-02</td><td>^GSPC</td></tr>\n",
       "\t<tr><td>1100.67</td><td>1102.72</td><td>1093.97</td><td>1097.28</td><td>4285450000</td><td>1097.28</td><td>2010-02-03</td><td>^GSPC</td></tr>\n",
       "\t<tr><td>1097.25</td><td>1097.25</td><td>1062.78</td><td>1063.11</td><td>5859690000</td><td>1063.11</td><td>2010-02-04</td><td>^GSPC</td></tr>\n",
       "\t<tr><td>1064.12</td><td>1067.13</td><td>1044.50</td><td>1066.19</td><td>6438900000</td><td>1066.19</td><td>2010-02-05</td><td>^GSPC</td></tr>\n",
       "\t<tr><td>1065.51</td><td>1071.20</td><td>1056.51</td><td>1056.74</td><td>4089820000</td><td>1056.74</td><td>2010-02-08</td><td>^GSPC</td></tr>\n",
       "\t<tr><td>1060.06</td><td>1079.28</td><td>1060.06</td><td>1070.52</td><td>5114260000</td><td>1070.52</td><td>2010-02-09</td><td>^GSPC</td></tr>\n",
       "\t<tr><td>1069.68</td><td>1073.67</td><td>1059.34</td><td>1068.13</td><td>4251450000</td><td>1068.13</td><td>2010-02-10</td><td>^GSPC</td></tr>\n",
       "\t<tr><td>1067.10</td><td>1080.04</td><td>1060.59</td><td>1078.47</td><td>4400870000</td><td>1078.47</td><td>2010-02-11</td><td>^GSPC</td></tr>\n",
       "\t<tr><td>1075.95</td><td>1077.81</td><td>1062.97</td><td>1075.51</td><td>4160680000</td><td>1075.51</td><td>2010-02-12</td><td>^GSPC</td></tr>\n",
       "\t<tr><td>1079.13</td><td>1095.67</td><td>1079.13</td><td>1094.87</td><td>4080770000</td><td>1094.87</td><td>2010-02-16</td><td>^GSPC</td></tr>\n",
       "\t<tr><td>...</td><td>...</td><td>...</td><td>...</td><td>...</td><td>...</td><td>...</td><td>...</td></tr>\n",
       "\t<tr><td>2559.90</td><td>2573.99</td><td>2528.71</td><td>2546.16</td><td>4470880000</td><td>2546.16</td><td>2018-12-18</td><td>^GSPC</td></tr>\n",
       "\t<tr><td>2547.05</td><td>2585.29</td><td>2488.96</td><td>2506.96</td><td>5127940000</td><td>2506.96</td><td>2018-12-19</td><td>^GSPC</td></tr>\n",
       "\t<tr><td>2496.77</td><td>2509.63</td><td>2441.18</td><td>2467.42</td><td>5585780000</td><td>2467.42</td><td>2018-12-20</td><td>^GSPC</td></tr>\n",
       "\t<tr><td>2465.38</td><td>2504.41</td><td>2408.55</td><td>2416.62</td><td>7609010000</td><td>2416.62</td><td>2018-12-21</td><td>^GSPC</td></tr>\n",
       "\t<tr><td>2400.56</td><td>2410.34</td><td>2351.10</td><td>2351.10</td><td>2613930000</td><td>2351.10</td><td>2018-12-24</td><td>^GSPC</td></tr>\n",
       "\t<tr><td>2363.12</td><td>2467.76</td><td>2346.58</td><td>2467.70</td><td>4233990000</td><td>2467.70</td><td>2018-12-26</td><td>^GSPC</td></tr>\n",
       "\t<tr><td>2442.50</td><td>2489.10</td><td>2397.94</td><td>2488.83</td><td>4096610000</td><td>2488.83</td><td>2018-12-27</td><td>^GSPC</td></tr>\n",
       "\t<tr><td>2498.77</td><td>2520.27</td><td>2472.89</td><td>2485.74</td><td>3702620000</td><td>2485.74</td><td>2018-12-28</td><td>^GSPC</td></tr>\n",
       "\t<tr><td>2498.94</td><td>2509.24</td><td>2482.82</td><td>2506.85</td><td>3442870000</td><td>2506.85</td><td>2018-12-31</td><td>^GSPC</td></tr>\n",
       "\t<tr><td>2476.96</td><td>2519.49</td><td>2467.47</td><td>2510.03</td><td>3733160000</td><td>2510.03</td><td>2019-01-02</td><td>^GSPC</td></tr>\n",
       "\t<tr><td>2491.92</td><td>2493.14</td><td>2443.96</td><td>2447.89</td><td>3822860000</td><td>2447.89</td><td>2019-01-03</td><td>^GSPC</td></tr>\n",
       "\t<tr><td>2474.33</td><td>2538.07</td><td>2474.33</td><td>2531.94</td><td>4213410000</td><td>2531.94</td><td>2019-01-04</td><td>^GSPC</td></tr>\n",
       "\t<tr><td>2535.61</td><td>2566.16</td><td>2524.56</td><td>2549.69</td><td>4104710000</td><td>2549.69</td><td>2019-01-07</td><td>^GSPC</td></tr>\n",
       "\t<tr><td>2568.11</td><td>2579.82</td><td>2547.56</td><td>2574.41</td><td>4083030000</td><td>2574.41</td><td>2019-01-08</td><td>^GSPC</td></tr>\n",
       "\t<tr><td>2580.00</td><td>2595.32</td><td>2568.89</td><td>2584.96</td><td>4052480000</td><td>2584.96</td><td>2019-01-09</td><td>^GSPC</td></tr>\n",
       "\t<tr><td>2573.51</td><td>2597.82</td><td>2562.02</td><td>2596.64</td><td>3704500000</td><td>2596.64</td><td>2019-01-10</td><td>^GSPC</td></tr>\n",
       "\t<tr><td>2588.11</td><td>2596.27</td><td>2577.40</td><td>2596.26</td><td>3434490000</td><td>2596.26</td><td>2019-01-11</td><td>^GSPC</td></tr>\n",
       "\t<tr><td>2580.31</td><td>2589.32</td><td>2570.41</td><td>2582.61</td><td>3664450000</td><td>2582.61</td><td>2019-01-14</td><td>^GSPC</td></tr>\n",
       "\t<tr><td>2585.10</td><td>2613.08</td><td>2585.10</td><td>2610.30</td><td>3572330000</td><td>2610.30</td><td>2019-01-15</td><td>^GSPC</td></tr>\n",
       "\t<tr><td>2614.75</td><td>2625.76</td><td>2612.68</td><td>2616.10</td><td>3863770000</td><td>2616.10</td><td>2019-01-16</td><td>^GSPC</td></tr>\n",
       "\t<tr><td>2609.28</td><td>2645.06</td><td>2606.36</td><td>2635.96</td><td>3772270000</td><td>2635.96</td><td>2019-01-17</td><td>^GSPC</td></tr>\n",
       "\t<tr><td>2651.27</td><td>2675.47</td><td>2647.58</td><td>2670.71</td><td>3986730000</td><td>2670.71</td><td>2019-01-18</td><td>^GSPC</td></tr>\n",
       "\t<tr><td>2657.88</td><td>2657.88</td><td>2617.27</td><td>2632.90</td><td>3908030000</td><td>2632.90</td><td>2019-01-22</td><td>^GSPC</td></tr>\n",
       "\t<tr><td>2643.48</td><td>2653.19</td><td>2612.86</td><td>2638.70</td><td>3335610000</td><td>2638.70</td><td>2019-01-23</td><td>^GSPC</td></tr>\n",
       "\t<tr><td>2638.84</td><td>2647.20</td><td>2627.01</td><td>2642.33</td><td>3433250000</td><td>2642.33</td><td>2019-01-24</td><td>^GSPC</td></tr>\n",
       "\t<tr><td>2657.44</td><td>2672.38</td><td>2657.33</td><td>2664.76</td><td>3814080000</td><td>2664.76</td><td>2019-01-25</td><td>^GSPC</td></tr>\n",
       "\t<tr><td>2644.97</td><td>2644.97</td><td>2624.06</td><td>2643.85</td><td>3612810000</td><td>2643.85</td><td>2019-01-28</td><td>^GSPC</td></tr>\n",
       "\t<tr><td>2644.89</td><td>2650.93</td><td>2631.05</td><td>2640.00</td><td>3504200000</td><td>2640.00</td><td>2019-01-29</td><td>^GSPC</td></tr>\n",
       "\t<tr><td>2653.62</td><td>2690.44</td><td>2648.34</td><td>2681.05</td><td>3867810000</td><td>2681.05</td><td>2019-01-30</td><td>^GSPC</td></tr>\n",
       "\t<tr><td>2685.49</td><td>2708.95</td><td>2678.65</td><td>2704.10</td><td>4917650000</td><td>2704.10</td><td>2019-01-31</td><td>^GSPC</td></tr>\n",
       "</tbody>\n",
       "</table>\n"
      ],
      "text/latex": [
       "A data.frame: 2285 × 8\n",
       "\\begin{tabular}{llllllll}\n",
       " price.open & price.high & price.low & price.close & volume & price.adjusted & ref.date & ticker\\\\\n",
       " <dbl> & <dbl> & <dbl> & <dbl> & <dbl> & <dbl> & <date> & <chr>\\\\\n",
       "\\hline\n",
       "\t 1116.56 & 1133.87 & 1116.56 & 1132.99 & 3991400000 & 1132.99 & 2010-01-04 & \\textasciicircum{}GSPC\\\\\n",
       "\t 1132.66 & 1136.63 & 1129.66 & 1136.52 & 2491020000 & 1136.52 & 2010-01-05 & \\textasciicircum{}GSPC\\\\\n",
       "\t 1135.71 & 1139.19 & 1133.95 & 1137.14 & 4972660000 & 1137.14 & 2010-01-06 & \\textasciicircum{}GSPC\\\\\n",
       "\t 1136.27 & 1142.46 & 1131.32 & 1141.69 & 5270680000 & 1141.69 & 2010-01-07 & \\textasciicircum{}GSPC\\\\\n",
       "\t 1140.52 & 1145.39 & 1136.22 & 1144.98 & 4389590000 & 1144.98 & 2010-01-08 & \\textasciicircum{}GSPC\\\\\n",
       "\t 1145.96 & 1149.74 & 1142.02 & 1146.98 & 4255780000 & 1146.98 & 2010-01-11 & \\textasciicircum{}GSPC\\\\\n",
       "\t 1143.81 & 1143.81 & 1131.77 & 1136.22 & 4716160000 & 1136.22 & 2010-01-12 & \\textasciicircum{}GSPC\\\\\n",
       "\t 1137.31 & 1148.40 & 1133.18 & 1145.68 & 4170360000 & 1145.68 & 2010-01-13 & \\textasciicircum{}GSPC\\\\\n",
       "\t 1145.68 & 1150.41 & 1143.80 & 1148.46 & 3915200000 & 1148.46 & 2010-01-14 & \\textasciicircum{}GSPC\\\\\n",
       "\t 1147.72 & 1147.77 & 1131.39 & 1136.03 & 4758730000 & 1136.03 & 2010-01-15 & \\textasciicircum{}GSPC\\\\\n",
       "\t 1136.03 & 1150.45 & 1135.77 & 1150.23 & 4724830000 & 1150.23 & 2010-01-19 & \\textasciicircum{}GSPC\\\\\n",
       "\t 1147.95 & 1147.95 & 1129.25 & 1138.04 & 4810560000 & 1138.04 & 2010-01-20 & \\textasciicircum{}GSPC\\\\\n",
       "\t 1138.68 & 1141.58 & 1114.84 & 1116.48 & 6874290000 & 1116.48 & 2010-01-21 & \\textasciicircum{}GSPC\\\\\n",
       "\t 1115.49 & 1115.49 & 1090.18 & 1091.76 & 6208650000 & 1091.76 & 2010-01-22 & \\textasciicircum{}GSPC\\\\\n",
       "\t 1092.40 & 1102.97 & 1092.40 & 1096.78 & 4481390000 & 1096.78 & 2010-01-25 & \\textasciicircum{}GSPC\\\\\n",
       "\t 1095.80 & 1103.69 & 1089.86 & 1092.17 & 4731910000 & 1092.17 & 2010-01-26 & \\textasciicircum{}GSPC\\\\\n",
       "\t 1091.94 & 1099.51 & 1083.11 & 1097.50 & 5319120000 & 1097.50 & 2010-01-27 & \\textasciicircum{}GSPC\\\\\n",
       "\t 1096.93 & 1100.22 & 1078.46 & 1084.53 & 5452400000 & 1084.53 & 2010-01-28 & \\textasciicircum{}GSPC\\\\\n",
       "\t 1087.61 & 1096.45 & 1071.59 & 1073.87 & 5412850000 & 1073.87 & 2010-01-29 & \\textasciicircum{}GSPC\\\\\n",
       "\t 1073.89 & 1089.38 & 1073.89 & 1089.19 & 4077610000 & 1089.19 & 2010-02-01 & \\textasciicircum{}GSPC\\\\\n",
       "\t 1090.05 & 1104.73 & 1087.96 & 1103.32 & 4749540000 & 1103.32 & 2010-02-02 & \\textasciicircum{}GSPC\\\\\n",
       "\t 1100.67 & 1102.72 & 1093.97 & 1097.28 & 4285450000 & 1097.28 & 2010-02-03 & \\textasciicircum{}GSPC\\\\\n",
       "\t 1097.25 & 1097.25 & 1062.78 & 1063.11 & 5859690000 & 1063.11 & 2010-02-04 & \\textasciicircum{}GSPC\\\\\n",
       "\t 1064.12 & 1067.13 & 1044.50 & 1066.19 & 6438900000 & 1066.19 & 2010-02-05 & \\textasciicircum{}GSPC\\\\\n",
       "\t 1065.51 & 1071.20 & 1056.51 & 1056.74 & 4089820000 & 1056.74 & 2010-02-08 & \\textasciicircum{}GSPC\\\\\n",
       "\t 1060.06 & 1079.28 & 1060.06 & 1070.52 & 5114260000 & 1070.52 & 2010-02-09 & \\textasciicircum{}GSPC\\\\\n",
       "\t 1069.68 & 1073.67 & 1059.34 & 1068.13 & 4251450000 & 1068.13 & 2010-02-10 & \\textasciicircum{}GSPC\\\\\n",
       "\t 1067.10 & 1080.04 & 1060.59 & 1078.47 & 4400870000 & 1078.47 & 2010-02-11 & \\textasciicircum{}GSPC\\\\\n",
       "\t 1075.95 & 1077.81 & 1062.97 & 1075.51 & 4160680000 & 1075.51 & 2010-02-12 & \\textasciicircum{}GSPC\\\\\n",
       "\t 1079.13 & 1095.67 & 1079.13 & 1094.87 & 4080770000 & 1094.87 & 2010-02-16 & \\textasciicircum{}GSPC\\\\\n",
       "\t ... & ... & ... & ... & ... & ... & ... & ...\\\\\n",
       "\t 2559.90 & 2573.99 & 2528.71 & 2546.16 & 4470880000 & 2546.16 & 2018-12-18 & \\textasciicircum{}GSPC\\\\\n",
       "\t 2547.05 & 2585.29 & 2488.96 & 2506.96 & 5127940000 & 2506.96 & 2018-12-19 & \\textasciicircum{}GSPC\\\\\n",
       "\t 2496.77 & 2509.63 & 2441.18 & 2467.42 & 5585780000 & 2467.42 & 2018-12-20 & \\textasciicircum{}GSPC\\\\\n",
       "\t 2465.38 & 2504.41 & 2408.55 & 2416.62 & 7609010000 & 2416.62 & 2018-12-21 & \\textasciicircum{}GSPC\\\\\n",
       "\t 2400.56 & 2410.34 & 2351.10 & 2351.10 & 2613930000 & 2351.10 & 2018-12-24 & \\textasciicircum{}GSPC\\\\\n",
       "\t 2363.12 & 2467.76 & 2346.58 & 2467.70 & 4233990000 & 2467.70 & 2018-12-26 & \\textasciicircum{}GSPC\\\\\n",
       "\t 2442.50 & 2489.10 & 2397.94 & 2488.83 & 4096610000 & 2488.83 & 2018-12-27 & \\textasciicircum{}GSPC\\\\\n",
       "\t 2498.77 & 2520.27 & 2472.89 & 2485.74 & 3702620000 & 2485.74 & 2018-12-28 & \\textasciicircum{}GSPC\\\\\n",
       "\t 2498.94 & 2509.24 & 2482.82 & 2506.85 & 3442870000 & 2506.85 & 2018-12-31 & \\textasciicircum{}GSPC\\\\\n",
       "\t 2476.96 & 2519.49 & 2467.47 & 2510.03 & 3733160000 & 2510.03 & 2019-01-02 & \\textasciicircum{}GSPC\\\\\n",
       "\t 2491.92 & 2493.14 & 2443.96 & 2447.89 & 3822860000 & 2447.89 & 2019-01-03 & \\textasciicircum{}GSPC\\\\\n",
       "\t 2474.33 & 2538.07 & 2474.33 & 2531.94 & 4213410000 & 2531.94 & 2019-01-04 & \\textasciicircum{}GSPC\\\\\n",
       "\t 2535.61 & 2566.16 & 2524.56 & 2549.69 & 4104710000 & 2549.69 & 2019-01-07 & \\textasciicircum{}GSPC\\\\\n",
       "\t 2568.11 & 2579.82 & 2547.56 & 2574.41 & 4083030000 & 2574.41 & 2019-01-08 & \\textasciicircum{}GSPC\\\\\n",
       "\t 2580.00 & 2595.32 & 2568.89 & 2584.96 & 4052480000 & 2584.96 & 2019-01-09 & \\textasciicircum{}GSPC\\\\\n",
       "\t 2573.51 & 2597.82 & 2562.02 & 2596.64 & 3704500000 & 2596.64 & 2019-01-10 & \\textasciicircum{}GSPC\\\\\n",
       "\t 2588.11 & 2596.27 & 2577.40 & 2596.26 & 3434490000 & 2596.26 & 2019-01-11 & \\textasciicircum{}GSPC\\\\\n",
       "\t 2580.31 & 2589.32 & 2570.41 & 2582.61 & 3664450000 & 2582.61 & 2019-01-14 & \\textasciicircum{}GSPC\\\\\n",
       "\t 2585.10 & 2613.08 & 2585.10 & 2610.30 & 3572330000 & 2610.30 & 2019-01-15 & \\textasciicircum{}GSPC\\\\\n",
       "\t 2614.75 & 2625.76 & 2612.68 & 2616.10 & 3863770000 & 2616.10 & 2019-01-16 & \\textasciicircum{}GSPC\\\\\n",
       "\t 2609.28 & 2645.06 & 2606.36 & 2635.96 & 3772270000 & 2635.96 & 2019-01-17 & \\textasciicircum{}GSPC\\\\\n",
       "\t 2651.27 & 2675.47 & 2647.58 & 2670.71 & 3986730000 & 2670.71 & 2019-01-18 & \\textasciicircum{}GSPC\\\\\n",
       "\t 2657.88 & 2657.88 & 2617.27 & 2632.90 & 3908030000 & 2632.90 & 2019-01-22 & \\textasciicircum{}GSPC\\\\\n",
       "\t 2643.48 & 2653.19 & 2612.86 & 2638.70 & 3335610000 & 2638.70 & 2019-01-23 & \\textasciicircum{}GSPC\\\\\n",
       "\t 2638.84 & 2647.20 & 2627.01 & 2642.33 & 3433250000 & 2642.33 & 2019-01-24 & \\textasciicircum{}GSPC\\\\\n",
       "\t 2657.44 & 2672.38 & 2657.33 & 2664.76 & 3814080000 & 2664.76 & 2019-01-25 & \\textasciicircum{}GSPC\\\\\n",
       "\t 2644.97 & 2644.97 & 2624.06 & 2643.85 & 3612810000 & 2643.85 & 2019-01-28 & \\textasciicircum{}GSPC\\\\\n",
       "\t 2644.89 & 2650.93 & 2631.05 & 2640.00 & 3504200000 & 2640.00 & 2019-01-29 & \\textasciicircum{}GSPC\\\\\n",
       "\t 2653.62 & 2690.44 & 2648.34 & 2681.05 & 3867810000 & 2681.05 & 2019-01-30 & \\textasciicircum{}GSPC\\\\\n",
       "\t 2685.49 & 2708.95 & 2678.65 & 2704.10 & 4917650000 & 2704.10 & 2019-01-31 & \\textasciicircum{}GSPC\\\\\n",
       "\\end{tabular}\n"
      ],
      "text/markdown": [
       "\n",
       "A data.frame: 2285 × 8\n",
       "\n",
       "| price.open &lt;dbl&gt; | price.high &lt;dbl&gt; | price.low &lt;dbl&gt; | price.close &lt;dbl&gt; | volume &lt;dbl&gt; | price.adjusted &lt;dbl&gt; | ref.date &lt;date&gt; | ticker &lt;chr&gt; |\n",
       "|---|---|---|---|---|---|---|---|\n",
       "| 1116.56 | 1133.87 | 1116.56 | 1132.99 | 3991400000 | 1132.99 | 2010-01-04 | ^GSPC |\n",
       "| 1132.66 | 1136.63 | 1129.66 | 1136.52 | 2491020000 | 1136.52 | 2010-01-05 | ^GSPC |\n",
       "| 1135.71 | 1139.19 | 1133.95 | 1137.14 | 4972660000 | 1137.14 | 2010-01-06 | ^GSPC |\n",
       "| 1136.27 | 1142.46 | 1131.32 | 1141.69 | 5270680000 | 1141.69 | 2010-01-07 | ^GSPC |\n",
       "| 1140.52 | 1145.39 | 1136.22 | 1144.98 | 4389590000 | 1144.98 | 2010-01-08 | ^GSPC |\n",
       "| 1145.96 | 1149.74 | 1142.02 | 1146.98 | 4255780000 | 1146.98 | 2010-01-11 | ^GSPC |\n",
       "| 1143.81 | 1143.81 | 1131.77 | 1136.22 | 4716160000 | 1136.22 | 2010-01-12 | ^GSPC |\n",
       "| 1137.31 | 1148.40 | 1133.18 | 1145.68 | 4170360000 | 1145.68 | 2010-01-13 | ^GSPC |\n",
       "| 1145.68 | 1150.41 | 1143.80 | 1148.46 | 3915200000 | 1148.46 | 2010-01-14 | ^GSPC |\n",
       "| 1147.72 | 1147.77 | 1131.39 | 1136.03 | 4758730000 | 1136.03 | 2010-01-15 | ^GSPC |\n",
       "| 1136.03 | 1150.45 | 1135.77 | 1150.23 | 4724830000 | 1150.23 | 2010-01-19 | ^GSPC |\n",
       "| 1147.95 | 1147.95 | 1129.25 | 1138.04 | 4810560000 | 1138.04 | 2010-01-20 | ^GSPC |\n",
       "| 1138.68 | 1141.58 | 1114.84 | 1116.48 | 6874290000 | 1116.48 | 2010-01-21 | ^GSPC |\n",
       "| 1115.49 | 1115.49 | 1090.18 | 1091.76 | 6208650000 | 1091.76 | 2010-01-22 | ^GSPC |\n",
       "| 1092.40 | 1102.97 | 1092.40 | 1096.78 | 4481390000 | 1096.78 | 2010-01-25 | ^GSPC |\n",
       "| 1095.80 | 1103.69 | 1089.86 | 1092.17 | 4731910000 | 1092.17 | 2010-01-26 | ^GSPC |\n",
       "| 1091.94 | 1099.51 | 1083.11 | 1097.50 | 5319120000 | 1097.50 | 2010-01-27 | ^GSPC |\n",
       "| 1096.93 | 1100.22 | 1078.46 | 1084.53 | 5452400000 | 1084.53 | 2010-01-28 | ^GSPC |\n",
       "| 1087.61 | 1096.45 | 1071.59 | 1073.87 | 5412850000 | 1073.87 | 2010-01-29 | ^GSPC |\n",
       "| 1073.89 | 1089.38 | 1073.89 | 1089.19 | 4077610000 | 1089.19 | 2010-02-01 | ^GSPC |\n",
       "| 1090.05 | 1104.73 | 1087.96 | 1103.32 | 4749540000 | 1103.32 | 2010-02-02 | ^GSPC |\n",
       "| 1100.67 | 1102.72 | 1093.97 | 1097.28 | 4285450000 | 1097.28 | 2010-02-03 | ^GSPC |\n",
       "| 1097.25 | 1097.25 | 1062.78 | 1063.11 | 5859690000 | 1063.11 | 2010-02-04 | ^GSPC |\n",
       "| 1064.12 | 1067.13 | 1044.50 | 1066.19 | 6438900000 | 1066.19 | 2010-02-05 | ^GSPC |\n",
       "| 1065.51 | 1071.20 | 1056.51 | 1056.74 | 4089820000 | 1056.74 | 2010-02-08 | ^GSPC |\n",
       "| 1060.06 | 1079.28 | 1060.06 | 1070.52 | 5114260000 | 1070.52 | 2010-02-09 | ^GSPC |\n",
       "| 1069.68 | 1073.67 | 1059.34 | 1068.13 | 4251450000 | 1068.13 | 2010-02-10 | ^GSPC |\n",
       "| 1067.10 | 1080.04 | 1060.59 | 1078.47 | 4400870000 | 1078.47 | 2010-02-11 | ^GSPC |\n",
       "| 1075.95 | 1077.81 | 1062.97 | 1075.51 | 4160680000 | 1075.51 | 2010-02-12 | ^GSPC |\n",
       "| 1079.13 | 1095.67 | 1079.13 | 1094.87 | 4080770000 | 1094.87 | 2010-02-16 | ^GSPC |\n",
       "| ... | ... | ... | ... | ... | ... | ... | ... |\n",
       "| 2559.90 | 2573.99 | 2528.71 | 2546.16 | 4470880000 | 2546.16 | 2018-12-18 | ^GSPC |\n",
       "| 2547.05 | 2585.29 | 2488.96 | 2506.96 | 5127940000 | 2506.96 | 2018-12-19 | ^GSPC |\n",
       "| 2496.77 | 2509.63 | 2441.18 | 2467.42 | 5585780000 | 2467.42 | 2018-12-20 | ^GSPC |\n",
       "| 2465.38 | 2504.41 | 2408.55 | 2416.62 | 7609010000 | 2416.62 | 2018-12-21 | ^GSPC |\n",
       "| 2400.56 | 2410.34 | 2351.10 | 2351.10 | 2613930000 | 2351.10 | 2018-12-24 | ^GSPC |\n",
       "| 2363.12 | 2467.76 | 2346.58 | 2467.70 | 4233990000 | 2467.70 | 2018-12-26 | ^GSPC |\n",
       "| 2442.50 | 2489.10 | 2397.94 | 2488.83 | 4096610000 | 2488.83 | 2018-12-27 | ^GSPC |\n",
       "| 2498.77 | 2520.27 | 2472.89 | 2485.74 | 3702620000 | 2485.74 | 2018-12-28 | ^GSPC |\n",
       "| 2498.94 | 2509.24 | 2482.82 | 2506.85 | 3442870000 | 2506.85 | 2018-12-31 | ^GSPC |\n",
       "| 2476.96 | 2519.49 | 2467.47 | 2510.03 | 3733160000 | 2510.03 | 2019-01-02 | ^GSPC |\n",
       "| 2491.92 | 2493.14 | 2443.96 | 2447.89 | 3822860000 | 2447.89 | 2019-01-03 | ^GSPC |\n",
       "| 2474.33 | 2538.07 | 2474.33 | 2531.94 | 4213410000 | 2531.94 | 2019-01-04 | ^GSPC |\n",
       "| 2535.61 | 2566.16 | 2524.56 | 2549.69 | 4104710000 | 2549.69 | 2019-01-07 | ^GSPC |\n",
       "| 2568.11 | 2579.82 | 2547.56 | 2574.41 | 4083030000 | 2574.41 | 2019-01-08 | ^GSPC |\n",
       "| 2580.00 | 2595.32 | 2568.89 | 2584.96 | 4052480000 | 2584.96 | 2019-01-09 | ^GSPC |\n",
       "| 2573.51 | 2597.82 | 2562.02 | 2596.64 | 3704500000 | 2596.64 | 2019-01-10 | ^GSPC |\n",
       "| 2588.11 | 2596.27 | 2577.40 | 2596.26 | 3434490000 | 2596.26 | 2019-01-11 | ^GSPC |\n",
       "| 2580.31 | 2589.32 | 2570.41 | 2582.61 | 3664450000 | 2582.61 | 2019-01-14 | ^GSPC |\n",
       "| 2585.10 | 2613.08 | 2585.10 | 2610.30 | 3572330000 | 2610.30 | 2019-01-15 | ^GSPC |\n",
       "| 2614.75 | 2625.76 | 2612.68 | 2616.10 | 3863770000 | 2616.10 | 2019-01-16 | ^GSPC |\n",
       "| 2609.28 | 2645.06 | 2606.36 | 2635.96 | 3772270000 | 2635.96 | 2019-01-17 | ^GSPC |\n",
       "| 2651.27 | 2675.47 | 2647.58 | 2670.71 | 3986730000 | 2670.71 | 2019-01-18 | ^GSPC |\n",
       "| 2657.88 | 2657.88 | 2617.27 | 2632.90 | 3908030000 | 2632.90 | 2019-01-22 | ^GSPC |\n",
       "| 2643.48 | 2653.19 | 2612.86 | 2638.70 | 3335610000 | 2638.70 | 2019-01-23 | ^GSPC |\n",
       "| 2638.84 | 2647.20 | 2627.01 | 2642.33 | 3433250000 | 2642.33 | 2019-01-24 | ^GSPC |\n",
       "| 2657.44 | 2672.38 | 2657.33 | 2664.76 | 3814080000 | 2664.76 | 2019-01-25 | ^GSPC |\n",
       "| 2644.97 | 2644.97 | 2624.06 | 2643.85 | 3612810000 | 2643.85 | 2019-01-28 | ^GSPC |\n",
       "| 2644.89 | 2650.93 | 2631.05 | 2640.00 | 3504200000 | 2640.00 | 2019-01-29 | ^GSPC |\n",
       "| 2653.62 | 2690.44 | 2648.34 | 2681.05 | 3867810000 | 2681.05 | 2019-01-30 | ^GSPC |\n",
       "| 2685.49 | 2708.95 | 2678.65 | 2704.10 | 4917650000 | 2704.10 | 2019-01-31 | ^GSPC |\n",
       "\n"
      ],
      "text/plain": [
       "     price.open price.high price.low price.close volume     price.adjusted\n",
       "1    1116.56    1133.87    1116.56   1132.99     3991400000 1132.99       \n",
       "2    1132.66    1136.63    1129.66   1136.52     2491020000 1136.52       \n",
       "3    1135.71    1139.19    1133.95   1137.14     4972660000 1137.14       \n",
       "4    1136.27    1142.46    1131.32   1141.69     5270680000 1141.69       \n",
       "5    1140.52    1145.39    1136.22   1144.98     4389590000 1144.98       \n",
       "6    1145.96    1149.74    1142.02   1146.98     4255780000 1146.98       \n",
       "7    1143.81    1143.81    1131.77   1136.22     4716160000 1136.22       \n",
       "8    1137.31    1148.40    1133.18   1145.68     4170360000 1145.68       \n",
       "9    1145.68    1150.41    1143.80   1148.46     3915200000 1148.46       \n",
       "10   1147.72    1147.77    1131.39   1136.03     4758730000 1136.03       \n",
       "11   1136.03    1150.45    1135.77   1150.23     4724830000 1150.23       \n",
       "12   1147.95    1147.95    1129.25   1138.04     4810560000 1138.04       \n",
       "13   1138.68    1141.58    1114.84   1116.48     6874290000 1116.48       \n",
       "14   1115.49    1115.49    1090.18   1091.76     6208650000 1091.76       \n",
       "15   1092.40    1102.97    1092.40   1096.78     4481390000 1096.78       \n",
       "16   1095.80    1103.69    1089.86   1092.17     4731910000 1092.17       \n",
       "17   1091.94    1099.51    1083.11   1097.50     5319120000 1097.50       \n",
       "18   1096.93    1100.22    1078.46   1084.53     5452400000 1084.53       \n",
       "19   1087.61    1096.45    1071.59   1073.87     5412850000 1073.87       \n",
       "20   1073.89    1089.38    1073.89   1089.19     4077610000 1089.19       \n",
       "21   1090.05    1104.73    1087.96   1103.32     4749540000 1103.32       \n",
       "22   1100.67    1102.72    1093.97   1097.28     4285450000 1097.28       \n",
       "23   1097.25    1097.25    1062.78   1063.11     5859690000 1063.11       \n",
       "24   1064.12    1067.13    1044.50   1066.19     6438900000 1066.19       \n",
       "25   1065.51    1071.20    1056.51   1056.74     4089820000 1056.74       \n",
       "26   1060.06    1079.28    1060.06   1070.52     5114260000 1070.52       \n",
       "27   1069.68    1073.67    1059.34   1068.13     4251450000 1068.13       \n",
       "28   1067.10    1080.04    1060.59   1078.47     4400870000 1078.47       \n",
       "29   1075.95    1077.81    1062.97   1075.51     4160680000 1075.51       \n",
       "30   1079.13    1095.67    1079.13   1094.87     4080770000 1094.87       \n",
       "...  ...        ...        ...       ...         ...        ...           \n",
       "2256 2559.90    2573.99    2528.71   2546.16     4470880000 2546.16       \n",
       "2257 2547.05    2585.29    2488.96   2506.96     5127940000 2506.96       \n",
       "2258 2496.77    2509.63    2441.18   2467.42     5585780000 2467.42       \n",
       "2259 2465.38    2504.41    2408.55   2416.62     7609010000 2416.62       \n",
       "2260 2400.56    2410.34    2351.10   2351.10     2613930000 2351.10       \n",
       "2261 2363.12    2467.76    2346.58   2467.70     4233990000 2467.70       \n",
       "2262 2442.50    2489.10    2397.94   2488.83     4096610000 2488.83       \n",
       "2263 2498.77    2520.27    2472.89   2485.74     3702620000 2485.74       \n",
       "2264 2498.94    2509.24    2482.82   2506.85     3442870000 2506.85       \n",
       "2265 2476.96    2519.49    2467.47   2510.03     3733160000 2510.03       \n",
       "2266 2491.92    2493.14    2443.96   2447.89     3822860000 2447.89       \n",
       "2267 2474.33    2538.07    2474.33   2531.94     4213410000 2531.94       \n",
       "2268 2535.61    2566.16    2524.56   2549.69     4104710000 2549.69       \n",
       "2269 2568.11    2579.82    2547.56   2574.41     4083030000 2574.41       \n",
       "2270 2580.00    2595.32    2568.89   2584.96     4052480000 2584.96       \n",
       "2271 2573.51    2597.82    2562.02   2596.64     3704500000 2596.64       \n",
       "2272 2588.11    2596.27    2577.40   2596.26     3434490000 2596.26       \n",
       "2273 2580.31    2589.32    2570.41   2582.61     3664450000 2582.61       \n",
       "2274 2585.10    2613.08    2585.10   2610.30     3572330000 2610.30       \n",
       "2275 2614.75    2625.76    2612.68   2616.10     3863770000 2616.10       \n",
       "2276 2609.28    2645.06    2606.36   2635.96     3772270000 2635.96       \n",
       "2277 2651.27    2675.47    2647.58   2670.71     3986730000 2670.71       \n",
       "2278 2657.88    2657.88    2617.27   2632.90     3908030000 2632.90       \n",
       "2279 2643.48    2653.19    2612.86   2638.70     3335610000 2638.70       \n",
       "2280 2638.84    2647.20    2627.01   2642.33     3433250000 2642.33       \n",
       "2281 2657.44    2672.38    2657.33   2664.76     3814080000 2664.76       \n",
       "2282 2644.97    2644.97    2624.06   2643.85     3612810000 2643.85       \n",
       "2283 2644.89    2650.93    2631.05   2640.00     3504200000 2640.00       \n",
       "2284 2653.62    2690.44    2648.34   2681.05     3867810000 2681.05       \n",
       "2285 2685.49    2708.95    2678.65   2704.10     4917650000 2704.10       \n",
       "     ref.date   ticker\n",
       "1    2010-01-04 ^GSPC \n",
       "2    2010-01-05 ^GSPC \n",
       "3    2010-01-06 ^GSPC \n",
       "4    2010-01-07 ^GSPC \n",
       "5    2010-01-08 ^GSPC \n",
       "6    2010-01-11 ^GSPC \n",
       "7    2010-01-12 ^GSPC \n",
       "8    2010-01-13 ^GSPC \n",
       "9    2010-01-14 ^GSPC \n",
       "10   2010-01-15 ^GSPC \n",
       "11   2010-01-19 ^GSPC \n",
       "12   2010-01-20 ^GSPC \n",
       "13   2010-01-21 ^GSPC \n",
       "14   2010-01-22 ^GSPC \n",
       "15   2010-01-25 ^GSPC \n",
       "16   2010-01-26 ^GSPC \n",
       "17   2010-01-27 ^GSPC \n",
       "18   2010-01-28 ^GSPC \n",
       "19   2010-01-29 ^GSPC \n",
       "20   2010-02-01 ^GSPC \n",
       "21   2010-02-02 ^GSPC \n",
       "22   2010-02-03 ^GSPC \n",
       "23   2010-02-04 ^GSPC \n",
       "24   2010-02-05 ^GSPC \n",
       "25   2010-02-08 ^GSPC \n",
       "26   2010-02-09 ^GSPC \n",
       "27   2010-02-10 ^GSPC \n",
       "28   2010-02-11 ^GSPC \n",
       "29   2010-02-12 ^GSPC \n",
       "30   2010-02-16 ^GSPC \n",
       "...  ...        ...   \n",
       "2256 2018-12-18 ^GSPC \n",
       "2257 2018-12-19 ^GSPC \n",
       "2258 2018-12-20 ^GSPC \n",
       "2259 2018-12-21 ^GSPC \n",
       "2260 2018-12-24 ^GSPC \n",
       "2261 2018-12-26 ^GSPC \n",
       "2262 2018-12-27 ^GSPC \n",
       "2263 2018-12-28 ^GSPC \n",
       "2264 2018-12-31 ^GSPC \n",
       "2265 2019-01-02 ^GSPC \n",
       "2266 2019-01-03 ^GSPC \n",
       "2267 2019-01-04 ^GSPC \n",
       "2268 2019-01-07 ^GSPC \n",
       "2269 2019-01-08 ^GSPC \n",
       "2270 2019-01-09 ^GSPC \n",
       "2271 2019-01-10 ^GSPC \n",
       "2272 2019-01-11 ^GSPC \n",
       "2273 2019-01-14 ^GSPC \n",
       "2274 2019-01-15 ^GSPC \n",
       "2275 2019-01-16 ^GSPC \n",
       "2276 2019-01-17 ^GSPC \n",
       "2277 2019-01-18 ^GSPC \n",
       "2278 2019-01-22 ^GSPC \n",
       "2279 2019-01-23 ^GSPC \n",
       "2280 2019-01-24 ^GSPC \n",
       "2281 2019-01-25 ^GSPC \n",
       "2282 2019-01-28 ^GSPC \n",
       "2283 2019-01-29 ^GSPC \n",
       "2284 2019-01-30 ^GSPC \n",
       "2285 2019-01-31 ^GSPC "
      ]
     },
     "metadata": {},
     "output_type": "display_data"
    }
   ],
   "source": [
    "#help(\"get.clean.data\")\n",
    "\n",
    "df.sp500 <- get.clean.data('^GSPC',\n",
    "                           first.date = as.Date('2010-01-01'),\n",
    "                           last.date = as.Date('2019-02-01'))\n",
    "df.sp500"
   ]
  },
  {
   "cell_type": "markdown",
   "metadata": {
    "slideshow": {
     "slide_type": "skip"
    }
   },
   "source": [
    "# GetFTSE100Stocks \n",
    "Function to download the current components of the FTSE100 index from Wikipedia\n",
    "\n",
    "This function scrapes the stocks that constitute the FTSE100 index from the wikipedia page at <https://en.wikipedia.org/wiki/FTSE_100_Index#List_of_FTSE_100_companies>."
   ]
  },
  {
   "cell_type": "code",
   "execution_count": 66,
   "metadata": {
    "slideshow": {
     "slide_type": "skip"
    }
   },
   "outputs": [
    {
     "data": {
      "text/html": [
       "<table>\n",
       "<caption>A data.frame: 100 × 3</caption>\n",
       "<thead>\n",
       "\t<tr><th scope=col>company</th><th scope=col>tickers</th><th scope=col>ICB.sector</th></tr>\n",
       "\t<tr><th scope=col>&lt;chr&gt;</th><th scope=col>&lt;chr&gt;</th><th scope=col>&lt;chr&gt;</th></tr>\n",
       "</thead>\n",
       "<tbody>\n",
       "\t<tr><td>3i                        </td><td>III </td><td>Financial Services                 </td></tr>\n",
       "\t<tr><td>Admiral Group             </td><td>ADM </td><td>Nonlife Insurance                  </td></tr>\n",
       "\t<tr><td>Anglo American plc        </td><td>AAL </td><td>Mining                             </td></tr>\n",
       "\t<tr><td>Antofagasta               </td><td>ANTO</td><td>Mining                             </td></tr>\n",
       "\t<tr><td>Ashtead Group             </td><td>AHT </td><td>Support Services                   </td></tr>\n",
       "\t<tr><td>Associated British Foods  </td><td>ABF </td><td>Food Producers                     </td></tr>\n",
       "\t<tr><td><span style=white-space:pre-wrap>AstraZeneca               </span></td><td>AZN </td><td><span style=white-space:pre-wrap>Pharmaceuticals &amp; Biotechnology    </span></td></tr>\n",
       "\t<tr><td>Auto Trader Group         </td><td>AUTO</td><td>Media                              </td></tr>\n",
       "\t<tr><td><span style=white-space:pre-wrap>Aveva                     </span></td><td>AVV </td><td><span style=white-space:pre-wrap>Software &amp; Computer Services       </span></td></tr>\n",
       "\t<tr><td>Aviva                     </td><td>AV. </td><td>Life Insurance                     </td></tr>\n",
       "\t<tr><td><span style=white-space:pre-wrap>BAE Systems               </span></td><td>BA. </td><td><span style=white-space:pre-wrap>Aerospace &amp; Defence                </span></td></tr>\n",
       "\t<tr><td>Barclays                  </td><td>BARC</td><td>Banks                              </td></tr>\n",
       "\t<tr><td><span style=white-space:pre-wrap>Barratt Developments      </span></td><td>BDEV</td><td>Household Goods &amp; Home Construction</td></tr>\n",
       "\t<tr><td><span style=white-space:pre-wrap>Berkeley Group Holdings   </span></td><td>BKG </td><td>Household Goods &amp; Home Construction</td></tr>\n",
       "\t<tr><td>BHP                       </td><td>BHP </td><td>Mining                             </td></tr>\n",
       "\t<tr><td><span style=white-space:pre-wrap>BP                        </span></td><td>BP. </td><td><span style=white-space:pre-wrap>Oil &amp; Gas Producers                </span></td></tr>\n",
       "\t<tr><td>British American Tobacco  </td><td>BATS</td><td>Tobacco                            </td></tr>\n",
       "\t<tr><td>British Land              </td><td>BLND</td><td>Real Estate Investment Trusts      </td></tr>\n",
       "\t<tr><td>BT Group                  </td><td>BT.A</td><td>Fixed Line Telecommunications      </td></tr>\n",
       "\t<tr><td>Bunzl                     </td><td>BNZL</td><td>Support Services                   </td></tr>\n",
       "\t<tr><td>Burberry                  </td><td>BRBY</td><td>Personal Goods                     </td></tr>\n",
       "\t<tr><td>Carnival Corporation &amp; plc</td><td>CCL </td><td><span style=white-space:pre-wrap>Travel &amp; Leisure                   </span></td></tr>\n",
       "\t<tr><td><span style=white-space:pre-wrap>Centrica                  </span></td><td>CNA </td><td><span style=white-space:pre-wrap>Gas, Water &amp; Multi-utilities       </span></td></tr>\n",
       "\t<tr><td>Coca-Cola HBC             </td><td>CCH </td><td>Beverages                          </td></tr>\n",
       "\t<tr><td>Compass Group             </td><td>CPG </td><td>Support Services                   </td></tr>\n",
       "\t<tr><td><span style=white-space:pre-wrap>CRH plc                   </span></td><td>CRH </td><td><span style=white-space:pre-wrap>Construction &amp; Materials           </span></td></tr>\n",
       "\t<tr><td>Croda International       </td><td>CRDA</td><td>Chemicals                          </td></tr>\n",
       "\t<tr><td>DCC plc                   </td><td>DCC </td><td>Support Services                   </td></tr>\n",
       "\t<tr><td>Diageo                    </td><td>DGE </td><td>Beverages                          </td></tr>\n",
       "\t<tr><td><span style=white-space:pre-wrap>EasyJet                   </span></td><td>EZJ </td><td><span style=white-space:pre-wrap>Travel &amp; Leisure                   </span></td></tr>\n",
       "\t<tr><td>...</td><td>...</td><td>...</td></tr>\n",
       "\t<tr><td>Rentokil Initial                  </td><td>RTO </td><td>Support Services                   </td></tr>\n",
       "\t<tr><td>Rio Tinto Group                   </td><td>RIO </td><td>Mining                             </td></tr>\n",
       "\t<tr><td>Rightmove                         </td><td>RMV </td><td>Media                              </td></tr>\n",
       "\t<tr><td><span style=white-space:pre-wrap>Rolls-Royce Holdings              </span></td><td>RR. </td><td><span style=white-space:pre-wrap>Aerospace &amp; Defence                </span></td></tr>\n",
       "\t<tr><td>Royal Bank of Scotland Group      </td><td>RBS </td><td>Banks                              </td></tr>\n",
       "\t<tr><td><span style=white-space:pre-wrap>Royal Dutch Shell                 </span></td><td>RDSA</td><td><span style=white-space:pre-wrap>Oil &amp; Gas Producers                </span></td></tr>\n",
       "\t<tr><td>RSA Insurance Group               </td><td>RSA </td><td>Nonlife Insurance                  </td></tr>\n",
       "\t<tr><td><span style=white-space:pre-wrap>Sage Group                        </span></td><td>SGE </td><td><span style=white-space:pre-wrap>Software &amp; Computer Services       </span></td></tr>\n",
       "\t<tr><td><span style=white-space:pre-wrap>Sainsbury's                       </span></td><td>SBRY</td><td><span style=white-space:pre-wrap>Food &amp; Drug Retailers              </span></td></tr>\n",
       "\t<tr><td>Schroders                         </td><td>SDR </td><td>Financial Services                 </td></tr>\n",
       "\t<tr><td>Scottish Mortgage Investment Trust</td><td>SMT </td><td>Equity Investment Instruments      </td></tr>\n",
       "\t<tr><td>Segro                             </td><td>SGRO</td><td>Real Estate Investment Trusts      </td></tr>\n",
       "\t<tr><td><span style=white-space:pre-wrap>Severn Trent                      </span></td><td>SVT </td><td><span style=white-space:pre-wrap>Gas, Water &amp; Multi-utilities       </span></td></tr>\n",
       "\t<tr><td><span style=white-space:pre-wrap>Smith &amp; Nephew                    </span></td><td>SN. </td><td><span style=white-space:pre-wrap>Health Care Equipment &amp; Services   </span></td></tr>\n",
       "\t<tr><td>DS Smith                          </td><td>SMDS</td><td>General Industrials                </td></tr>\n",
       "\t<tr><td>Smiths Group                      </td><td>SMIN</td><td>General Industrials                </td></tr>\n",
       "\t<tr><td>Smurfit Kappa                     </td><td>SKG </td><td>General Industrials                </td></tr>\n",
       "\t<tr><td>Spirax-Sarco Engineering          </td><td>SPX </td><td>Industrial Engineering             </td></tr>\n",
       "\t<tr><td>SSE plc                           </td><td>SSE </td><td>Electricity                        </td></tr>\n",
       "\t<tr><td>Standard Chartered                </td><td>STAN</td><td>Banks                              </td></tr>\n",
       "\t<tr><td>Standard Life Aberdeen            </td><td>SLA </td><td>Financial Services                 </td></tr>\n",
       "\t<tr><td>St. James's Place plc             </td><td>STJ </td><td>Life Insurance                     </td></tr>\n",
       "\t<tr><td><span style=white-space:pre-wrap>Taylor Wimpey                     </span></td><td>TW. </td><td>Household Goods &amp; Home Construction</td></tr>\n",
       "\t<tr><td><span style=white-space:pre-wrap>Tesco                             </span></td><td>TSCO</td><td><span style=white-space:pre-wrap>Food &amp; Drug Retailers              </span></td></tr>\n",
       "\t<tr><td><span style=white-space:pre-wrap>TUI Group                         </span></td><td>TUI </td><td><span style=white-space:pre-wrap>Travel &amp; Leisure                   </span></td></tr>\n",
       "\t<tr><td>Unilever                          </td><td>ULVR</td><td>Personal Goods                     </td></tr>\n",
       "\t<tr><td><span style=white-space:pre-wrap>United Utilities                  </span></td><td>UU. </td><td><span style=white-space:pre-wrap>Gas, Water &amp; Multi-utilities       </span></td></tr>\n",
       "\t<tr><td>Vodafone Group                    </td><td>VOD </td><td>Mobile Telecommunications          </td></tr>\n",
       "\t<tr><td>Whitbread                         </td><td>WTB </td><td>Retail hospitality                 </td></tr>\n",
       "\t<tr><td>WPP plc                           </td><td>WPP </td><td>Media                              </td></tr>\n",
       "</tbody>\n",
       "</table>\n"
      ],
      "text/latex": [
       "A data.frame: 100 × 3\n",
       "\\begin{tabular}{lll}\n",
       " company & tickers & ICB.sector\\\\\n",
       " <chr> & <chr> & <chr>\\\\\n",
       "\\hline\n",
       "\t 3i                         & III  & Financial Services                 \\\\\n",
       "\t Admiral Group              & ADM  & Nonlife Insurance                  \\\\\n",
       "\t Anglo American plc         & AAL  & Mining                             \\\\\n",
       "\t Antofagasta                & ANTO & Mining                             \\\\\n",
       "\t Ashtead Group              & AHT  & Support Services                   \\\\\n",
       "\t Associated British Foods   & ABF  & Food Producers                     \\\\\n",
       "\t AstraZeneca                & AZN  & Pharmaceuticals \\& Biotechnology    \\\\\n",
       "\t Auto Trader Group          & AUTO & Media                              \\\\\n",
       "\t Aveva                      & AVV  & Software \\& Computer Services       \\\\\n",
       "\t Aviva                      & AV.  & Life Insurance                     \\\\\n",
       "\t BAE Systems                & BA.  & Aerospace \\& Defence                \\\\\n",
       "\t Barclays                   & BARC & Banks                              \\\\\n",
       "\t Barratt Developments       & BDEV & Household Goods \\& Home Construction\\\\\n",
       "\t Berkeley Group Holdings    & BKG  & Household Goods \\& Home Construction\\\\\n",
       "\t BHP                        & BHP  & Mining                             \\\\\n",
       "\t BP                         & BP.  & Oil \\& Gas Producers                \\\\\n",
       "\t British American Tobacco   & BATS & Tobacco                            \\\\\n",
       "\t British Land               & BLND & Real Estate Investment Trusts      \\\\\n",
       "\t BT Group                   & BT.A & Fixed Line Telecommunications      \\\\\n",
       "\t Bunzl                      & BNZL & Support Services                   \\\\\n",
       "\t Burberry                   & BRBY & Personal Goods                     \\\\\n",
       "\t Carnival Corporation \\& plc & CCL  & Travel \\& Leisure                   \\\\\n",
       "\t Centrica                   & CNA  & Gas, Water \\& Multi-utilities       \\\\\n",
       "\t Coca-Cola HBC              & CCH  & Beverages                          \\\\\n",
       "\t Compass Group              & CPG  & Support Services                   \\\\\n",
       "\t CRH plc                    & CRH  & Construction \\& Materials           \\\\\n",
       "\t Croda International        & CRDA & Chemicals                          \\\\\n",
       "\t DCC plc                    & DCC  & Support Services                   \\\\\n",
       "\t Diageo                     & DGE  & Beverages                          \\\\\n",
       "\t EasyJet                    & EZJ  & Travel \\& Leisure                   \\\\\n",
       "\t ... & ... & ...\\\\\n",
       "\t Rentokil Initial                   & RTO  & Support Services                   \\\\\n",
       "\t Rio Tinto Group                    & RIO  & Mining                             \\\\\n",
       "\t Rightmove                          & RMV  & Media                              \\\\\n",
       "\t Rolls-Royce Holdings               & RR.  & Aerospace \\& Defence                \\\\\n",
       "\t Royal Bank of Scotland Group       & RBS  & Banks                              \\\\\n",
       "\t Royal Dutch Shell                  & RDSA & Oil \\& Gas Producers                \\\\\n",
       "\t RSA Insurance Group                & RSA  & Nonlife Insurance                  \\\\\n",
       "\t Sage Group                         & SGE  & Software \\& Computer Services       \\\\\n",
       "\t Sainsbury's                        & SBRY & Food \\& Drug Retailers              \\\\\n",
       "\t Schroders                          & SDR  & Financial Services                 \\\\\n",
       "\t Scottish Mortgage Investment Trust & SMT  & Equity Investment Instruments      \\\\\n",
       "\t Segro                              & SGRO & Real Estate Investment Trusts      \\\\\n",
       "\t Severn Trent                       & SVT  & Gas, Water \\& Multi-utilities       \\\\\n",
       "\t Smith \\& Nephew                     & SN.  & Health Care Equipment \\& Services   \\\\\n",
       "\t DS Smith                           & SMDS & General Industrials                \\\\\n",
       "\t Smiths Group                       & SMIN & General Industrials                \\\\\n",
       "\t Smurfit Kappa                      & SKG  & General Industrials                \\\\\n",
       "\t Spirax-Sarco Engineering           & SPX  & Industrial Engineering             \\\\\n",
       "\t SSE plc                            & SSE  & Electricity                        \\\\\n",
       "\t Standard Chartered                 & STAN & Banks                              \\\\\n",
       "\t Standard Life Aberdeen             & SLA  & Financial Services                 \\\\\n",
       "\t St. James's Place plc              & STJ  & Life Insurance                     \\\\\n",
       "\t Taylor Wimpey                      & TW.  & Household Goods \\& Home Construction\\\\\n",
       "\t Tesco                              & TSCO & Food \\& Drug Retailers              \\\\\n",
       "\t TUI Group                          & TUI  & Travel \\& Leisure                   \\\\\n",
       "\t Unilever                           & ULVR & Personal Goods                     \\\\\n",
       "\t United Utilities                   & UU.  & Gas, Water \\& Multi-utilities       \\\\\n",
       "\t Vodafone Group                     & VOD  & Mobile Telecommunications          \\\\\n",
       "\t Whitbread                          & WTB  & Retail hospitality                 \\\\\n",
       "\t WPP plc                            & WPP  & Media                              \\\\\n",
       "\\end{tabular}\n"
      ],
      "text/markdown": [
       "\n",
       "A data.frame: 100 × 3\n",
       "\n",
       "| company &lt;chr&gt; | tickers &lt;chr&gt; | ICB.sector &lt;chr&gt; |\n",
       "|---|---|---|\n",
       "| 3i                         | III  | Financial Services                  |\n",
       "| Admiral Group              | ADM  | Nonlife Insurance                   |\n",
       "| Anglo American plc         | AAL  | Mining                              |\n",
       "| Antofagasta                | ANTO | Mining                              |\n",
       "| Ashtead Group              | AHT  | Support Services                    |\n",
       "| Associated British Foods   | ABF  | Food Producers                      |\n",
       "| AstraZeneca                | AZN  | Pharmaceuticals &amp; Biotechnology     |\n",
       "| Auto Trader Group          | AUTO | Media                               |\n",
       "| Aveva                      | AVV  | Software &amp; Computer Services        |\n",
       "| Aviva                      | AV.  | Life Insurance                      |\n",
       "| BAE Systems                | BA.  | Aerospace &amp; Defence                 |\n",
       "| Barclays                   | BARC | Banks                               |\n",
       "| Barratt Developments       | BDEV | Household Goods &amp; Home Construction |\n",
       "| Berkeley Group Holdings    | BKG  | Household Goods &amp; Home Construction |\n",
       "| BHP                        | BHP  | Mining                              |\n",
       "| BP                         | BP.  | Oil &amp; Gas Producers                 |\n",
       "| British American Tobacco   | BATS | Tobacco                             |\n",
       "| British Land               | BLND | Real Estate Investment Trusts       |\n",
       "| BT Group                   | BT.A | Fixed Line Telecommunications       |\n",
       "| Bunzl                      | BNZL | Support Services                    |\n",
       "| Burberry                   | BRBY | Personal Goods                      |\n",
       "| Carnival Corporation &amp; plc | CCL  | Travel &amp; Leisure                    |\n",
       "| Centrica                   | CNA  | Gas, Water &amp; Multi-utilities        |\n",
       "| Coca-Cola HBC              | CCH  | Beverages                           |\n",
       "| Compass Group              | CPG  | Support Services                    |\n",
       "| CRH plc                    | CRH  | Construction &amp; Materials            |\n",
       "| Croda International        | CRDA | Chemicals                           |\n",
       "| DCC plc                    | DCC  | Support Services                    |\n",
       "| Diageo                     | DGE  | Beverages                           |\n",
       "| EasyJet                    | EZJ  | Travel &amp; Leisure                    |\n",
       "| ... | ... | ... |\n",
       "| Rentokil Initial                   | RTO  | Support Services                    |\n",
       "| Rio Tinto Group                    | RIO  | Mining                              |\n",
       "| Rightmove                          | RMV  | Media                               |\n",
       "| Rolls-Royce Holdings               | RR.  | Aerospace &amp; Defence                 |\n",
       "| Royal Bank of Scotland Group       | RBS  | Banks                               |\n",
       "| Royal Dutch Shell                  | RDSA | Oil &amp; Gas Producers                 |\n",
       "| RSA Insurance Group                | RSA  | Nonlife Insurance                   |\n",
       "| Sage Group                         | SGE  | Software &amp; Computer Services        |\n",
       "| Sainsbury's                        | SBRY | Food &amp; Drug Retailers               |\n",
       "| Schroders                          | SDR  | Financial Services                  |\n",
       "| Scottish Mortgage Investment Trust | SMT  | Equity Investment Instruments       |\n",
       "| Segro                              | SGRO | Real Estate Investment Trusts       |\n",
       "| Severn Trent                       | SVT  | Gas, Water &amp; Multi-utilities        |\n",
       "| Smith &amp; Nephew                     | SN.  | Health Care Equipment &amp; Services    |\n",
       "| DS Smith                           | SMDS | General Industrials                 |\n",
       "| Smiths Group                       | SMIN | General Industrials                 |\n",
       "| Smurfit Kappa                      | SKG  | General Industrials                 |\n",
       "| Spirax-Sarco Engineering           | SPX  | Industrial Engineering              |\n",
       "| SSE plc                            | SSE  | Electricity                         |\n",
       "| Standard Chartered                 | STAN | Banks                               |\n",
       "| Standard Life Aberdeen             | SLA  | Financial Services                  |\n",
       "| St. James's Place plc              | STJ  | Life Insurance                      |\n",
       "| Taylor Wimpey                      | TW.  | Household Goods &amp; Home Construction |\n",
       "| Tesco                              | TSCO | Food &amp; Drug Retailers               |\n",
       "| TUI Group                          | TUI  | Travel &amp; Leisure                    |\n",
       "| Unilever                           | ULVR | Personal Goods                      |\n",
       "| United Utilities                   | UU.  | Gas, Water &amp; Multi-utilities        |\n",
       "| Vodafone Group                     | VOD  | Mobile Telecommunications           |\n",
       "| Whitbread                          | WTB  | Retail hospitality                  |\n",
       "| WPP plc                            | WPP  | Media                               |\n",
       "\n"
      ],
      "text/plain": [
       "    company                            tickers\n",
       "1   3i                                 III    \n",
       "2   Admiral Group                      ADM    \n",
       "3   Anglo American plc                 AAL    \n",
       "4   Antofagasta                        ANTO   \n",
       "5   Ashtead Group                      AHT    \n",
       "6   Associated British Foods           ABF    \n",
       "7   AstraZeneca                        AZN    \n",
       "8   Auto Trader Group                  AUTO   \n",
       "9   Aveva                              AVV    \n",
       "10  Aviva                              AV.    \n",
       "11  BAE Systems                        BA.    \n",
       "12  Barclays                           BARC   \n",
       "13  Barratt Developments               BDEV   \n",
       "14  Berkeley Group Holdings            BKG    \n",
       "15  BHP                                BHP    \n",
       "16  BP                                 BP.    \n",
       "17  British American Tobacco           BATS   \n",
       "18  British Land                       BLND   \n",
       "19  BT Group                           BT.A   \n",
       "20  Bunzl                              BNZL   \n",
       "21  Burberry                           BRBY   \n",
       "22  Carnival Corporation & plc         CCL    \n",
       "23  Centrica                           CNA    \n",
       "24  Coca-Cola HBC                      CCH    \n",
       "25  Compass Group                      CPG    \n",
       "26  CRH plc                            CRH    \n",
       "27  Croda International                CRDA   \n",
       "28  DCC plc                            DCC    \n",
       "29  Diageo                             DGE    \n",
       "30  EasyJet                            EZJ    \n",
       "... ...                                ...    \n",
       "71  Rentokil Initial                   RTO    \n",
       "72  Rio Tinto Group                    RIO    \n",
       "73  Rightmove                          RMV    \n",
       "74  Rolls-Royce Holdings               RR.    \n",
       "75  Royal Bank of Scotland Group       RBS    \n",
       "76  Royal Dutch Shell                  RDSA   \n",
       "77  RSA Insurance Group                RSA    \n",
       "78  Sage Group                         SGE    \n",
       "79  Sainsbury's                        SBRY   \n",
       "80  Schroders                          SDR    \n",
       "81  Scottish Mortgage Investment Trust SMT    \n",
       "82  Segro                              SGRO   \n",
       "83  Severn Trent                       SVT    \n",
       "84  Smith & Nephew                     SN.    \n",
       "85  DS Smith                           SMDS   \n",
       "86  Smiths Group                       SMIN   \n",
       "87  Smurfit Kappa                      SKG    \n",
       "88  Spirax-Sarco Engineering           SPX    \n",
       "89  SSE plc                            SSE    \n",
       "90  Standard Chartered                 STAN   \n",
       "91  Standard Life Aberdeen             SLA    \n",
       "92  St. James's Place plc              STJ    \n",
       "93  Taylor Wimpey                      TW.    \n",
       "94  Tesco                              TSCO   \n",
       "95  TUI Group                          TUI    \n",
       "96  Unilever                           ULVR   \n",
       "97  United Utilities                   UU.    \n",
       "98  Vodafone Group                     VOD    \n",
       "99  Whitbread                          WTB    \n",
       "100 WPP plc                            WPP    \n",
       "    ICB.sector                         \n",
       "1   Financial Services                 \n",
       "2   Nonlife Insurance                  \n",
       "3   Mining                             \n",
       "4   Mining                             \n",
       "5   Support Services                   \n",
       "6   Food Producers                     \n",
       "7   Pharmaceuticals & Biotechnology    \n",
       "8   Media                              \n",
       "9   Software & Computer Services       \n",
       "10  Life Insurance                     \n",
       "11  Aerospace & Defence                \n",
       "12  Banks                              \n",
       "13  Household Goods & Home Construction\n",
       "14  Household Goods & Home Construction\n",
       "15  Mining                             \n",
       "16  Oil & Gas Producers                \n",
       "17  Tobacco                            \n",
       "18  Real Estate Investment Trusts      \n",
       "19  Fixed Line Telecommunications      \n",
       "20  Support Services                   \n",
       "21  Personal Goods                     \n",
       "22  Travel & Leisure                   \n",
       "23  Gas, Water & Multi-utilities       \n",
       "24  Beverages                          \n",
       "25  Support Services                   \n",
       "26  Construction & Materials           \n",
       "27  Chemicals                          \n",
       "28  Support Services                   \n",
       "29  Beverages                          \n",
       "30  Travel & Leisure                   \n",
       "... ...                                \n",
       "71  Support Services                   \n",
       "72  Mining                             \n",
       "73  Media                              \n",
       "74  Aerospace & Defence                \n",
       "75  Banks                              \n",
       "76  Oil & Gas Producers                \n",
       "77  Nonlife Insurance                  \n",
       "78  Software & Computer Services       \n",
       "79  Food & Drug Retailers              \n",
       "80  Financial Services                 \n",
       "81  Equity Investment Instruments      \n",
       "82  Real Estate Investment Trusts      \n",
       "83  Gas, Water & Multi-utilities       \n",
       "84  Health Care Equipment & Services   \n",
       "85  General Industrials                \n",
       "86  General Industrials                \n",
       "87  General Industrials                \n",
       "88  Industrial Engineering             \n",
       "89  Electricity                        \n",
       "90  Banks                              \n",
       "91  Financial Services                 \n",
       "92  Life Insurance                     \n",
       "93  Household Goods & Home Construction\n",
       "94  Food & Drug Retailers              \n",
       "95  Travel & Leisure                   \n",
       "96  Personal Goods                     \n",
       "97  Gas, Water & Multi-utilities       \n",
       "98  Mobile Telecommunications          \n",
       "99  Retail hospitality                 \n",
       "100 Media                              "
      ]
     },
     "metadata": {},
     "output_type": "display_data"
    },
    {
     "name": "stdout",
     "output_type": "stream",
     "text": [
      "  [1] \"III\"  \"ADM\"  \"AAL\"  \"ANTO\" \"AHT\"  \"ABF\"  \"AZN\"  \"AUTO\" \"AVV\"  \"AV.\" \n",
      " [11] \"BA.\"  \"BARC\" \"BDEV\" \"BKG\"  \"BHP\"  \"BP.\"  \"BATS\" \"BLND\" \"BT.A\" \"BNZL\"\n",
      " [21] \"BRBY\" \"CCL\"  \"CNA\"  \"CCH\"  \"CPG\"  \"CRH\"  \"CRDA\" \"DCC\"  \"DGE\"  \"EZJ\" \n",
      " [31] \"EVR\"  \"EXPN\" \"FERG\" \"FLTR\" \"GSK\"  \"GLEN\" \"HLMA\" \"HL.\"  \"HSBA\" \"HIK\" \n",
      " [41] \"IMB\"  \"INF\"  \"IHG\"  \"IAG\"  \"ITRK\" \"ITV\"  \"JD.\"  \"JMAT\" \"JE.\"  \"KGF\" \n",
      " [51] \"LAND\" \"LGEN\" \"LLOY\" \"LSE\"  \"MNG\"  \"MGGT\" \"MRO\"  \"MNDI\" \"MRW\"  \"NG.\" \n",
      " [61] \"NXT\"  \"NMC\"  \"OCDO\" \"PSON\" \"PSN\"  \"PHNX\" \"POLY\" \"PRU\"  \"RB.\"  \"REL\" \n",
      " [71] \"RTO\"  \"RIO\"  \"RMV\"  \"RR.\"  \"RBS\"  \"RDSA\" \"RSA\"  \"SGE\"  \"SBRY\" \"SDR\" \n",
      " [81] \"SMT\"  \"SGRO\" \"SVT\"  \"SN.\"  \"SMDS\" \"SMIN\" \"SKG\"  \"SPX\"  \"SSE\"  \"STAN\"\n",
      " [91] \"SLA\"  \"STJ\"  \"TW.\"  \"TSCO\" \"TUI\"  \"ULVR\" \"UU.\"  \"VOD\"  \"WTB\"  \"WPP\" \n"
     ]
    }
   ],
   "source": [
    "df.FTSE100 <- GetFTSE100Stocks()\n",
    "df.FTSE100\n",
    "print(df.FTSE100$tickers)"
   ]
  },
  {
   "cell_type": "markdown",
   "metadata": {
    "slideshow": {
     "slide_type": "skip"
    }
   },
   "source": [
    "# GetSP500Stocks \n",
    "# Function to download the current components of the SP500 index from Wikipedia"
   ]
  },
  {
   "cell_type": "code",
   "execution_count": 67,
   "metadata": {
    "slideshow": {
     "slide_type": "skip"
    }
   },
   "outputs": [
    {
     "data": {
      "text/html": [
       "<table>\n",
       "<caption>A data.frame: 505 × 9</caption>\n",
       "<thead>\n",
       "\t<tr><th scope=col>Tickers</th><th scope=col>Company</th><th scope=col>SEC.filings</th><th scope=col>GICS.Sector</th><th scope=col>GICS.Sub.Industry</th><th scope=col>HQ.Location</th><th scope=col>Date.First.Added</th><th scope=col>CIK</th><th scope=col>Founded</th></tr>\n",
       "\t<tr><th scope=col>&lt;chr&gt;</th><th scope=col>&lt;chr&gt;</th><th scope=col>&lt;chr&gt;</th><th scope=col>&lt;chr&gt;</th><th scope=col>&lt;chr&gt;</th><th scope=col>&lt;chr&gt;</th><th scope=col>&lt;chr&gt;</th><th scope=col>&lt;int&gt;</th><th scope=col>&lt;chr&gt;</th></tr>\n",
       "</thead>\n",
       "<tbody>\n",
       "\t<tr><td>MMM  </td><td>3M Company                     </td><td>reports</td><td>Industrials           </td><td>Industrial Conglomerates                    </td><td>St. Paul, Minnesota             </td><td>          </td><td>  66740</td><td>1902       </td></tr>\n",
       "\t<tr><td>ABT  </td><td>Abbott Laboratories            </td><td>reports</td><td>Health Care           </td><td>Health Care Equipment                       </td><td>North Chicago, Illinois         </td><td>1964-03-31</td><td>   1800</td><td>1888       </td></tr>\n",
       "\t<tr><td>ABBV </td><td>AbbVie Inc.                    </td><td>reports</td><td>Health Care           </td><td>Pharmaceuticals                             </td><td>North Chicago, Illinois         </td><td>2012-12-31</td><td>1551152</td><td>2013 (1888)</td></tr>\n",
       "\t<tr><td>ABMD </td><td>ABIOMED Inc                    </td><td>reports</td><td>Health Care           </td><td>Health Care Equipment                       </td><td>Danvers, Massachusetts          </td><td>2018-05-31</td><td> 815094</td><td>1981       </td></tr>\n",
       "\t<tr><td><span style=white-space:pre-wrap>ACN  </span></td><td><span style=white-space:pre-wrap>Accenture plc                  </span></td><td>reports</td><td>Information Technology</td><td><span style=white-space:pre-wrap>IT Consulting &amp; Other Services              </span></td><td><span style=white-space:pre-wrap>Dublin, Ireland                 </span></td><td>2011-07-06</td><td>1467373</td><td><span style=white-space:pre-wrap>1989       </span></td></tr>\n",
       "\t<tr><td>ATVI </td><td>Activision Blizzard            </td><td>reports</td><td>Communication Services</td><td>Interactive Home Entertainment              </td><td>Santa Monica, California        </td><td>2015-08-31</td><td> 718877</td><td>2008       </td></tr>\n",
       "\t<tr><td>ADBE </td><td>Adobe Systems Inc              </td><td>reports</td><td>Information Technology</td><td>Application Software                        </td><td>San Jose, California            </td><td>1997-05-05</td><td> 796343</td><td>1982       </td></tr>\n",
       "\t<tr><td>AMD  </td><td>Advanced Micro Devices Inc     </td><td>reports</td><td>Information Technology</td><td>Semiconductors                              </td><td>Santa Clara, California         </td><td>2017-03-20</td><td>   2488</td><td>1969       </td></tr>\n",
       "\t<tr><td>AAP  </td><td>Advance Auto Parts             </td><td>reports</td><td>Consumer Discretionary</td><td>Automotive Retail                           </td><td>Raleigh, North Carolina         </td><td>2015-07-09</td><td>1158449</td><td>1932       </td></tr>\n",
       "\t<tr><td><span style=white-space:pre-wrap>AES  </span></td><td><span style=white-space:pre-wrap>AES Corp                       </span></td><td>reports</td><td><span style=white-space:pre-wrap>Utilities             </span></td><td>Independent Power Producers &amp; Energy Traders</td><td><span style=white-space:pre-wrap>Arlington, Virginia             </span></td><td>1998-10-02</td><td> 874761</td><td><span style=white-space:pre-wrap>1981       </span></td></tr>\n",
       "\t<tr><td><span style=white-space:pre-wrap>AFL  </span></td><td><span style=white-space:pre-wrap>AFLAC Inc                      </span></td><td>reports</td><td><span style=white-space:pre-wrap>Financials            </span></td><td><span style=white-space:pre-wrap>Life &amp; Health Insurance                     </span></td><td><span style=white-space:pre-wrap>Columbus, Georgia               </span></td><td>1999-05-28</td><td><span style=white-space:pre-wrap>   4977</span></td><td><span style=white-space:pre-wrap>1955       </span></td></tr>\n",
       "\t<tr><td>A    </td><td>Agilent Technologies Inc       </td><td>reports</td><td>Health Care           </td><td>Health Care Equipment                       </td><td>Santa Clara, California         </td><td>2000-06-05</td><td>1090872</td><td>1999       </td></tr>\n",
       "\t<tr><td><span style=white-space:pre-wrap>APD  </span></td><td><span style=white-space:pre-wrap>Air Products &amp; Chemicals Inc   </span></td><td>reports</td><td><span style=white-space:pre-wrap>Materials             </span></td><td><span style=white-space:pre-wrap>Industrial Gases                            </span></td><td><span style=white-space:pre-wrap>Allentown, Pennsylvania         </span></td><td>1985-04-30</td><td><span style=white-space:pre-wrap>   2969</span></td><td><span style=white-space:pre-wrap>1940       </span></td></tr>\n",
       "\t<tr><td>AKAM </td><td><span style=white-space:pre-wrap>Akamai Technologies Inc        </span></td><td>reports</td><td>Information Technology</td><td><span style=white-space:pre-wrap>Internet Services &amp; Infrastructure          </span></td><td><span style=white-space:pre-wrap>Cambridge, Massachusetts        </span></td><td>2007-07-12</td><td>1086222</td><td><span style=white-space:pre-wrap>1998       </span></td></tr>\n",
       "\t<tr><td>ALK  </td><td>Alaska Air Group Inc           </td><td>reports</td><td>Industrials           </td><td>Airlines                                    </td><td>Seattle, Washington             </td><td>2016-05-13</td><td> 766421</td><td>1985       </td></tr>\n",
       "\t<tr><td>ALB  </td><td>Albemarle Corp                 </td><td>reports</td><td>Materials             </td><td>Specialty Chemicals                         </td><td>Charlotte, North Carolina       </td><td>2016-07-01</td><td> 915913</td><td>1994       </td></tr>\n",
       "\t<tr><td>ARE  </td><td>Alexandria Real Estate Equities</td><td>reports</td><td>Real Estate           </td><td>Office REITs                                </td><td>Pasadena, California            </td><td>2017-03-20</td><td>1035443</td><td>1994       </td></tr>\n",
       "\t<tr><td>ALXN </td><td>Alexion Pharmaceuticals        </td><td>reports</td><td>Health Care           </td><td>Biotechnology                               </td><td>Boston, Massachusetts           </td><td>2012-05-25</td><td> 899866</td><td>1992       </td></tr>\n",
       "\t<tr><td>ALGN </td><td>Align Technology               </td><td>reports</td><td>Health Care           </td><td>Health Care Supplies                        </td><td>San Jose, California            </td><td>2017-06-19</td><td>1097149</td><td>1997       </td></tr>\n",
       "\t<tr><td>ALLE </td><td>Allegion                       </td><td>reports</td><td>Industrials           </td><td>Building Products                           </td><td>Dublin, Ireland                 </td><td>2013-12-02</td><td>1579241</td><td>1908       </td></tr>\n",
       "\t<tr><td>AGN  </td><td>Allergan, plc                  </td><td>reports</td><td>Health Care           </td><td>Pharmaceuticals                             </td><td>Dublin, Ireland                 </td><td>1999-04-12</td><td>1578845</td><td>1983       </td></tr>\n",
       "\t<tr><td><span style=white-space:pre-wrap>ADS  </span></td><td><span style=white-space:pre-wrap>Alliance Data Systems          </span></td><td>reports</td><td>Information Technology</td><td><span style=white-space:pre-wrap>Data Processing &amp; Outsourced Services       </span></td><td><span style=white-space:pre-wrap>Plano, Texas                    </span></td><td>2013-12-23</td><td>1101215</td><td><span style=white-space:pre-wrap>1996       </span></td></tr>\n",
       "\t<tr><td>LNT  </td><td>Alliant Energy Corp            </td><td>reports</td><td>Utilities             </td><td>Electric Utilities                          </td><td>Madison, Wisconsin              </td><td>2016-07-01</td><td> 352541</td><td>1917       </td></tr>\n",
       "\t<tr><td><span style=white-space:pre-wrap>ALL  </span></td><td><span style=white-space:pre-wrap>Allstate Corp                  </span></td><td>reports</td><td><span style=white-space:pre-wrap>Financials            </span></td><td><span style=white-space:pre-wrap>Property &amp; Casualty Insurance               </span></td><td><span style=white-space:pre-wrap>Northfield Township, Illinois   </span></td><td>1995-07-13</td><td> 899051</td><td><span style=white-space:pre-wrap>1931       </span></td></tr>\n",
       "\t<tr><td>GOOGL</td><td><span style=white-space:pre-wrap>Alphabet Inc Class A           </span></td><td>reports</td><td>Communication Services</td><td><span style=white-space:pre-wrap>Interactive Media &amp; Services                </span></td><td><span style=white-space:pre-wrap>Mountain View, California       </span></td><td>2014-04-03</td><td>1652044</td><td><span style=white-space:pre-wrap>1998       </span></td></tr>\n",
       "\t<tr><td>GOOG </td><td><span style=white-space:pre-wrap>Alphabet Inc Class C           </span></td><td>reports</td><td>Communication Services</td><td><span style=white-space:pre-wrap>Interactive Media &amp; Services                </span></td><td><span style=white-space:pre-wrap>Mountain View, California       </span></td><td>2006-04-03</td><td>1652044</td><td><span style=white-space:pre-wrap>1998       </span></td></tr>\n",
       "\t<tr><td>MO   </td><td>Altria Group Inc               </td><td>reports</td><td>Consumer Staples      </td><td>Tobacco                                     </td><td>Richmond, Virginia              </td><td>          </td><td> 764180</td><td>1985       </td></tr>\n",
       "\t<tr><td>AMZN </td><td><span style=white-space:pre-wrap>Amazon.com Inc.                </span></td><td>reports</td><td>Consumer Discretionary</td><td><span style=white-space:pre-wrap>Internet &amp; Direct Marketing Retail          </span></td><td><span style=white-space:pre-wrap>Seattle, Washington             </span></td><td>2005-11-18</td><td>1018724</td><td><span style=white-space:pre-wrap>1994       </span></td></tr>\n",
       "\t<tr><td>AMCR </td><td>Amcor plc                      </td><td>reports</td><td>Materials             </td><td>Paper Packaging                             </td><td>Warmley, Bristol, United Kingdom</td><td>2019-06-07</td><td>1748790</td><td>           </td></tr>\n",
       "\t<tr><td>AEE  </td><td>Ameren Corp                    </td><td>reports</td><td>Utilities             </td><td>Multi-Utilities                             </td><td>St. Louis, Missouri             </td><td>1991-09-19</td><td>1002910</td><td>1902       </td></tr>\n",
       "\t<tr><td>...</td><td>...</td><td>...</td><td>...</td><td>...</td><td>...</td><td>...</td><td>...</td><td>...</td></tr>\n",
       "\t<tr><td>VNO </td><td>Vornado Realty Trust     </td><td>reports</td><td>Real Estate           </td><td>Office REITs                              </td><td>New York, New York       </td><td>          </td><td> 899689</td><td>    </td></tr>\n",
       "\t<tr><td>VMC </td><td>Vulcan Materials         </td><td>reports</td><td>Materials             </td><td>Construction Materials                    </td><td>Birmingham, Alabama      </td><td>1999-06-30</td><td>1396009</td><td>    </td></tr>\n",
       "\t<tr><td>WRB </td><td>W. R. Berkley Corporation</td><td>reports</td><td><span style=white-space:pre-wrap>Financials            </span></td><td><span style=white-space:pre-wrap>Property &amp; Casualty Insurance             </span></td><td><span style=white-space:pre-wrap>Greenwich, Connecticut   </span></td><td>2019-12-05</td><td><span style=white-space:pre-wrap>  11544</span></td><td>1967</td></tr>\n",
       "\t<tr><td>WAB </td><td><span style=white-space:pre-wrap>Wabtec Corporation       </span></td><td>reports</td><td><span style=white-space:pre-wrap>Industrials           </span></td><td><span style=white-space:pre-wrap>Construction Machinery &amp; Heavy Trucks     </span></td><td>Wilmerding, Pennsylvania </td><td>2019-02-27</td><td> 943452</td><td><span style=white-space:pre-wrap>    </span></td></tr>\n",
       "\t<tr><td>WMT </td><td><span style=white-space:pre-wrap>Walmart                  </span></td><td>reports</td><td><span style=white-space:pre-wrap>Consumer Staples      </span></td><td><span style=white-space:pre-wrap>Hypermarkets &amp; Super Centers              </span></td><td><span style=white-space:pre-wrap>Bentonville, Arkansas    </span></td><td>1982-08-31</td><td> 104169</td><td><span style=white-space:pre-wrap>    </span></td></tr>\n",
       "\t<tr><td>WBA </td><td>Walgreens Boots Alliance </td><td>reports</td><td>Consumer Staples      </td><td>Drug Retail                               </td><td>Deerfield, Illinois      </td><td>1979-12-31</td><td>1618921</td><td>    </td></tr>\n",
       "\t<tr><td>DIS </td><td><span style=white-space:pre-wrap>The Walt Disney Company  </span></td><td>reports</td><td>Communication Services</td><td><span style=white-space:pre-wrap>Movies &amp; Entertainment                    </span></td><td><span style=white-space:pre-wrap>Burbank, California      </span></td><td>1976-06-30</td><td>1001039</td><td><span style=white-space:pre-wrap>    </span></td></tr>\n",
       "\t<tr><td><span style=white-space:pre-wrap>WM  </span></td><td><span style=white-space:pre-wrap>Waste Management Inc.    </span></td><td>reports</td><td><span style=white-space:pre-wrap>Industrials           </span></td><td><span style=white-space:pre-wrap>Environmental &amp; Facilities Services       </span></td><td><span style=white-space:pre-wrap>Houston, Texas           </span></td><td><span style=white-space:pre-wrap>          </span></td><td> 823768</td><td>1968</td></tr>\n",
       "\t<tr><td>WAT </td><td>Waters Corporation       </td><td>reports</td><td>Health Care           </td><td>Health Care Distributors                  </td><td>Milford, Massachusetts   </td><td>          </td><td>1000697</td><td>1958</td></tr>\n",
       "\t<tr><td>WEC </td><td>Wec Energy Group Inc     </td><td>reports</td><td>Utilities             </td><td>Electric Utilities                        </td><td>Milwaukee, Wisconsin     </td><td>2008-10-31</td><td> 783325</td><td>    </td></tr>\n",
       "\t<tr><td>WCG </td><td>WellCare                 </td><td>reports</td><td>Health Care           </td><td>Managed Health Care                       </td><td>Tampa, Florida           </td><td>1985      </td><td>1279363</td><td>    </td></tr>\n",
       "\t<tr><td>WFC </td><td>Wells Fargo              </td><td>reports</td><td>Financials            </td><td>Diversified Banks                         </td><td>San Francisco, California</td><td>1976-06-30</td><td>  72971</td><td>    </td></tr>\n",
       "\t<tr><td>WELL</td><td>Welltower Inc.           </td><td>reports</td><td>Real Estate           </td><td>Health Care REITs                         </td><td>Toledo, Ohio             </td><td>2009-01-30</td><td> 766704</td><td>    </td></tr>\n",
       "\t<tr><td>WDC </td><td><span style=white-space:pre-wrap>Western Digital          </span></td><td>reports</td><td>Information Technology</td><td>Technology Hardware, Storage &amp; Peripherals</td><td><span style=white-space:pre-wrap>Irvine, California       </span></td><td>2009-07-01</td><td> 106040</td><td><span style=white-space:pre-wrap>    </span></td></tr>\n",
       "\t<tr><td><span style=white-space:pre-wrap>WU  </span></td><td><span style=white-space:pre-wrap>Western Union Co         </span></td><td>reports</td><td>Information Technology</td><td><span style=white-space:pre-wrap>Data Processing &amp; Outsourced Services     </span></td><td><span style=white-space:pre-wrap>Englewood, Colorado      </span></td><td><span style=white-space:pre-wrap>          </span></td><td>1365135</td><td>1851</td></tr>\n",
       "\t<tr><td>WRK </td><td>WestRock                 </td><td>reports</td><td>Materials             </td><td>Paper Packaging                           </td><td>Richmond, Virginia       </td><td>          </td><td>1636023</td><td>    </td></tr>\n",
       "\t<tr><td>WY  </td><td>Weyerhaeuser             </td><td>reports</td><td>Real Estate           </td><td>Specialized REITs                         </td><td>Federal Way, Washington  </td><td>          </td><td> 106535</td><td>    </td></tr>\n",
       "\t<tr><td>WHR </td><td>Whirlpool Corp.          </td><td>reports</td><td>Consumer Discretionary</td><td>Household Appliances                      </td><td>Benton Harbor, Michigan  </td><td>          </td><td> 106640</td><td>1911</td></tr>\n",
       "\t<tr><td>WMB </td><td><span style=white-space:pre-wrap>Williams Cos.            </span></td><td>reports</td><td><span style=white-space:pre-wrap>Energy                </span></td><td><span style=white-space:pre-wrap>Oil &amp; Gas Storage &amp; Transportation        </span></td><td><span style=white-space:pre-wrap>Tulsa, Oklahoma          </span></td><td>1975-03-31</td><td> 107263</td><td><span style=white-space:pre-wrap>    </span></td></tr>\n",
       "\t<tr><td>WLTW</td><td>Willis Towers Watson     </td><td>reports</td><td>Financials            </td><td>Insurance Brokers                         </td><td>London, United Kingdom   </td><td>2016-01-05</td><td>1140536</td><td>    </td></tr>\n",
       "\t<tr><td>WYNN</td><td><span style=white-space:pre-wrap>Wynn Resorts Ltd         </span></td><td>reports</td><td>Consumer Discretionary</td><td><span style=white-space:pre-wrap>Casinos &amp; Gaming                          </span></td><td><span style=white-space:pre-wrap>Paradise, Nevada         </span></td><td>2008-11-14</td><td>1174922</td><td><span style=white-space:pre-wrap>    </span></td></tr>\n",
       "\t<tr><td>XEL </td><td>Xcel Energy Inc          </td><td>reports</td><td>Utilities             </td><td>Multi-Utilities                           </td><td>Minneapolis, Minnesota   </td><td>          </td><td>  72903</td><td>1909</td></tr>\n",
       "\t<tr><td>XRX </td><td><span style=white-space:pre-wrap>Xerox                    </span></td><td>reports</td><td>Information Technology</td><td>Technology Hardware, Storage &amp; Peripherals</td><td><span style=white-space:pre-wrap>Norwalk, Connecticut     </span></td><td><span style=white-space:pre-wrap>          </span></td><td> 108772</td><td>1906</td></tr>\n",
       "\t<tr><td>XLNX</td><td>Xilinx                   </td><td>reports</td><td>Information Technology</td><td>Semiconductors                            </td><td>San Jose, California     </td><td>1999-11-08</td><td> 743988</td><td>    </td></tr>\n",
       "\t<tr><td>XYL </td><td>Xylem Inc.               </td><td>reports</td><td>Industrials           </td><td>Industrial Machinery                      </td><td>White Plains, New York   </td><td>2011-11-01</td><td>1524472</td><td>    </td></tr>\n",
       "\t<tr><td>YUM </td><td>Yum! Brands Inc          </td><td>reports</td><td>Consumer Discretionary</td><td>Restaurants                               </td><td>Louisville, Kentucky     </td><td>1997-10-06</td><td>1041061</td><td>    </td></tr>\n",
       "\t<tr><td>ZBRA</td><td><span style=white-space:pre-wrap>Zebra Technologies       </span></td><td>reports</td><td>Information Technology</td><td><span style=white-space:pre-wrap>Electronic Equipment &amp; Instruments        </span></td><td><span style=white-space:pre-wrap>Lincolnshire, Illinois   </span></td><td>2019-12-23</td><td> 877212</td><td>1969</td></tr>\n",
       "\t<tr><td>ZBH </td><td>Zimmer Biomet Holdings   </td><td>reports</td><td>Health Care           </td><td>Health Care Equipment                     </td><td>Warsaw, Indiana          </td><td>2001-08-07</td><td>1136869</td><td>    </td></tr>\n",
       "\t<tr><td>ZION</td><td>Zions Bancorp            </td><td>reports</td><td>Financials            </td><td>Regional Banks                            </td><td>Salt Lake City, Utah     </td><td>2001-06-22</td><td> 109380</td><td>    </td></tr>\n",
       "\t<tr><td>ZTS </td><td>Zoetis                   </td><td>reports</td><td>Health Care           </td><td>Pharmaceuticals                           </td><td>Florham Park, New Jersey </td><td>2013-06-21</td><td>1555280</td><td>    </td></tr>\n",
       "</tbody>\n",
       "</table>\n"
      ],
      "text/latex": [
       "A data.frame: 505 × 9\n",
       "\\begin{tabular}{lllllllll}\n",
       " Tickers & Company & SEC.filings & GICS.Sector & GICS.Sub.Industry & HQ.Location & Date.First.Added & CIK & Founded\\\\\n",
       " <chr> & <chr> & <chr> & <chr> & <chr> & <chr> & <chr> & <int> & <chr>\\\\\n",
       "\\hline\n",
       "\t MMM   & 3M Company                      & reports & Industrials            & Industrial Conglomerates                     & St. Paul, Minnesota              &            &   66740 & 1902       \\\\\n",
       "\t ABT   & Abbott Laboratories             & reports & Health Care            & Health Care Equipment                        & North Chicago, Illinois          & 1964-03-31 &    1800 & 1888       \\\\\n",
       "\t ABBV  & AbbVie Inc.                     & reports & Health Care            & Pharmaceuticals                              & North Chicago, Illinois          & 2012-12-31 & 1551152 & 2013 (1888)\\\\\n",
       "\t ABMD  & ABIOMED Inc                     & reports & Health Care            & Health Care Equipment                        & Danvers, Massachusetts           & 2018-05-31 &  815094 & 1981       \\\\\n",
       "\t ACN   & Accenture plc                   & reports & Information Technology & IT Consulting \\& Other Services               & Dublin, Ireland                  & 2011-07-06 & 1467373 & 1989       \\\\\n",
       "\t ATVI  & Activision Blizzard             & reports & Communication Services & Interactive Home Entertainment               & Santa Monica, California         & 2015-08-31 &  718877 & 2008       \\\\\n",
       "\t ADBE  & Adobe Systems Inc               & reports & Information Technology & Application Software                         & San Jose, California             & 1997-05-05 &  796343 & 1982       \\\\\n",
       "\t AMD   & Advanced Micro Devices Inc      & reports & Information Technology & Semiconductors                               & Santa Clara, California          & 2017-03-20 &    2488 & 1969       \\\\\n",
       "\t AAP   & Advance Auto Parts              & reports & Consumer Discretionary & Automotive Retail                            & Raleigh, North Carolina          & 2015-07-09 & 1158449 & 1932       \\\\\n",
       "\t AES   & AES Corp                        & reports & Utilities              & Independent Power Producers \\& Energy Traders & Arlington, Virginia              & 1998-10-02 &  874761 & 1981       \\\\\n",
       "\t AFL   & AFLAC Inc                       & reports & Financials             & Life \\& Health Insurance                      & Columbus, Georgia                & 1999-05-28 &    4977 & 1955       \\\\\n",
       "\t A     & Agilent Technologies Inc        & reports & Health Care            & Health Care Equipment                        & Santa Clara, California          & 2000-06-05 & 1090872 & 1999       \\\\\n",
       "\t APD   & Air Products \\& Chemicals Inc    & reports & Materials              & Industrial Gases                             & Allentown, Pennsylvania          & 1985-04-30 &    2969 & 1940       \\\\\n",
       "\t AKAM  & Akamai Technologies Inc         & reports & Information Technology & Internet Services \\& Infrastructure           & Cambridge, Massachusetts         & 2007-07-12 & 1086222 & 1998       \\\\\n",
       "\t ALK   & Alaska Air Group Inc            & reports & Industrials            & Airlines                                     & Seattle, Washington              & 2016-05-13 &  766421 & 1985       \\\\\n",
       "\t ALB   & Albemarle Corp                  & reports & Materials              & Specialty Chemicals                          & Charlotte, North Carolina        & 2016-07-01 &  915913 & 1994       \\\\\n",
       "\t ARE   & Alexandria Real Estate Equities & reports & Real Estate            & Office REITs                                 & Pasadena, California             & 2017-03-20 & 1035443 & 1994       \\\\\n",
       "\t ALXN  & Alexion Pharmaceuticals         & reports & Health Care            & Biotechnology                                & Boston, Massachusetts            & 2012-05-25 &  899866 & 1992       \\\\\n",
       "\t ALGN  & Align Technology                & reports & Health Care            & Health Care Supplies                         & San Jose, California             & 2017-06-19 & 1097149 & 1997       \\\\\n",
       "\t ALLE  & Allegion                        & reports & Industrials            & Building Products                            & Dublin, Ireland                  & 2013-12-02 & 1579241 & 1908       \\\\\n",
       "\t AGN   & Allergan, plc                   & reports & Health Care            & Pharmaceuticals                              & Dublin, Ireland                  & 1999-04-12 & 1578845 & 1983       \\\\\n",
       "\t ADS   & Alliance Data Systems           & reports & Information Technology & Data Processing \\& Outsourced Services        & Plano, Texas                     & 2013-12-23 & 1101215 & 1996       \\\\\n",
       "\t LNT   & Alliant Energy Corp             & reports & Utilities              & Electric Utilities                           & Madison, Wisconsin               & 2016-07-01 &  352541 & 1917       \\\\\n",
       "\t ALL   & Allstate Corp                   & reports & Financials             & Property \\& Casualty Insurance                & Northfield Township, Illinois    & 1995-07-13 &  899051 & 1931       \\\\\n",
       "\t GOOGL & Alphabet Inc Class A            & reports & Communication Services & Interactive Media \\& Services                 & Mountain View, California        & 2014-04-03 & 1652044 & 1998       \\\\\n",
       "\t GOOG  & Alphabet Inc Class C            & reports & Communication Services & Interactive Media \\& Services                 & Mountain View, California        & 2006-04-03 & 1652044 & 1998       \\\\\n",
       "\t MO    & Altria Group Inc                & reports & Consumer Staples       & Tobacco                                      & Richmond, Virginia               &            &  764180 & 1985       \\\\\n",
       "\t AMZN  & Amazon.com Inc.                 & reports & Consumer Discretionary & Internet \\& Direct Marketing Retail           & Seattle, Washington              & 2005-11-18 & 1018724 & 1994       \\\\\n",
       "\t AMCR  & Amcor plc                       & reports & Materials              & Paper Packaging                              & Warmley, Bristol, United Kingdom & 2019-06-07 & 1748790 &            \\\\\n",
       "\t AEE   & Ameren Corp                     & reports & Utilities              & Multi-Utilities                              & St. Louis, Missouri              & 1991-09-19 & 1002910 & 1902       \\\\\n",
       "\t ... & ... & ... & ... & ... & ... & ... & ... & ...\\\\\n",
       "\t VNO  & Vornado Realty Trust      & reports & Real Estate            & Office REITs                               & New York, New York        &            &  899689 &     \\\\\n",
       "\t VMC  & Vulcan Materials          & reports & Materials              & Construction Materials                     & Birmingham, Alabama       & 1999-06-30 & 1396009 &     \\\\\n",
       "\t WRB  & W. R. Berkley Corporation & reports & Financials             & Property \\& Casualty Insurance              & Greenwich, Connecticut    & 2019-12-05 &   11544 & 1967\\\\\n",
       "\t WAB  & Wabtec Corporation        & reports & Industrials            & Construction Machinery \\& Heavy Trucks      & Wilmerding, Pennsylvania  & 2019-02-27 &  943452 &     \\\\\n",
       "\t WMT  & Walmart                   & reports & Consumer Staples       & Hypermarkets \\& Super Centers               & Bentonville, Arkansas     & 1982-08-31 &  104169 &     \\\\\n",
       "\t WBA  & Walgreens Boots Alliance  & reports & Consumer Staples       & Drug Retail                                & Deerfield, Illinois       & 1979-12-31 & 1618921 &     \\\\\n",
       "\t DIS  & The Walt Disney Company   & reports & Communication Services & Movies \\& Entertainment                     & Burbank, California       & 1976-06-30 & 1001039 &     \\\\\n",
       "\t WM   & Waste Management Inc.     & reports & Industrials            & Environmental \\& Facilities Services        & Houston, Texas            &            &  823768 & 1968\\\\\n",
       "\t WAT  & Waters Corporation        & reports & Health Care            & Health Care Distributors                   & Milford, Massachusetts    &            & 1000697 & 1958\\\\\n",
       "\t WEC  & Wec Energy Group Inc      & reports & Utilities              & Electric Utilities                         & Milwaukee, Wisconsin      & 2008-10-31 &  783325 &     \\\\\n",
       "\t WCG  & WellCare                  & reports & Health Care            & Managed Health Care                        & Tampa, Florida            & 1985       & 1279363 &     \\\\\n",
       "\t WFC  & Wells Fargo               & reports & Financials             & Diversified Banks                          & San Francisco, California & 1976-06-30 &   72971 &     \\\\\n",
       "\t WELL & Welltower Inc.            & reports & Real Estate            & Health Care REITs                          & Toledo, Ohio              & 2009-01-30 &  766704 &     \\\\\n",
       "\t WDC  & Western Digital           & reports & Information Technology & Technology Hardware, Storage \\& Peripherals & Irvine, California        & 2009-07-01 &  106040 &     \\\\\n",
       "\t WU   & Western Union Co          & reports & Information Technology & Data Processing \\& Outsourced Services      & Englewood, Colorado       &            & 1365135 & 1851\\\\\n",
       "\t WRK  & WestRock                  & reports & Materials              & Paper Packaging                            & Richmond, Virginia        &            & 1636023 &     \\\\\n",
       "\t WY   & Weyerhaeuser              & reports & Real Estate            & Specialized REITs                          & Federal Way, Washington   &            &  106535 &     \\\\\n",
       "\t WHR  & Whirlpool Corp.           & reports & Consumer Discretionary & Household Appliances                       & Benton Harbor, Michigan   &            &  106640 & 1911\\\\\n",
       "\t WMB  & Williams Cos.             & reports & Energy                 & Oil \\& Gas Storage \\& Transportation         & Tulsa, Oklahoma           & 1975-03-31 &  107263 &     \\\\\n",
       "\t WLTW & Willis Towers Watson      & reports & Financials             & Insurance Brokers                          & London, United Kingdom    & 2016-01-05 & 1140536 &     \\\\\n",
       "\t WYNN & Wynn Resorts Ltd          & reports & Consumer Discretionary & Casinos \\& Gaming                           & Paradise, Nevada          & 2008-11-14 & 1174922 &     \\\\\n",
       "\t XEL  & Xcel Energy Inc           & reports & Utilities              & Multi-Utilities                            & Minneapolis, Minnesota    &            &   72903 & 1909\\\\\n",
       "\t XRX  & Xerox                     & reports & Information Technology & Technology Hardware, Storage \\& Peripherals & Norwalk, Connecticut      &            &  108772 & 1906\\\\\n",
       "\t XLNX & Xilinx                    & reports & Information Technology & Semiconductors                             & San Jose, California      & 1999-11-08 &  743988 &     \\\\\n",
       "\t XYL  & Xylem Inc.                & reports & Industrials            & Industrial Machinery                       & White Plains, New York    & 2011-11-01 & 1524472 &     \\\\\n",
       "\t YUM  & Yum! Brands Inc           & reports & Consumer Discretionary & Restaurants                                & Louisville, Kentucky      & 1997-10-06 & 1041061 &     \\\\\n",
       "\t ZBRA & Zebra Technologies        & reports & Information Technology & Electronic Equipment \\& Instruments         & Lincolnshire, Illinois    & 2019-12-23 &  877212 & 1969\\\\\n",
       "\t ZBH  & Zimmer Biomet Holdings    & reports & Health Care            & Health Care Equipment                      & Warsaw, Indiana           & 2001-08-07 & 1136869 &     \\\\\n",
       "\t ZION & Zions Bancorp             & reports & Financials             & Regional Banks                             & Salt Lake City, Utah      & 2001-06-22 &  109380 &     \\\\\n",
       "\t ZTS  & Zoetis                    & reports & Health Care            & Pharmaceuticals                            & Florham Park, New Jersey  & 2013-06-21 & 1555280 &     \\\\\n",
       "\\end{tabular}\n"
      ],
      "text/markdown": [
       "\n",
       "A data.frame: 505 × 9\n",
       "\n",
       "| Tickers &lt;chr&gt; | Company &lt;chr&gt; | SEC.filings &lt;chr&gt; | GICS.Sector &lt;chr&gt; | GICS.Sub.Industry &lt;chr&gt; | HQ.Location &lt;chr&gt; | Date.First.Added &lt;chr&gt; | CIK &lt;int&gt; | Founded &lt;chr&gt; |\n",
       "|---|---|---|---|---|---|---|---|---|\n",
       "| MMM   | 3M Company                      | reports | Industrials            | Industrial Conglomerates                     | St. Paul, Minnesota              | <!----> |   66740 | 1902        |\n",
       "| ABT   | Abbott Laboratories             | reports | Health Care            | Health Care Equipment                        | North Chicago, Illinois          | 1964-03-31 |    1800 | 1888        |\n",
       "| ABBV  | AbbVie Inc.                     | reports | Health Care            | Pharmaceuticals                              | North Chicago, Illinois          | 2012-12-31 | 1551152 | 2013 (1888) |\n",
       "| ABMD  | ABIOMED Inc                     | reports | Health Care            | Health Care Equipment                        | Danvers, Massachusetts           | 2018-05-31 |  815094 | 1981        |\n",
       "| ACN   | Accenture plc                   | reports | Information Technology | IT Consulting &amp; Other Services               | Dublin, Ireland                  | 2011-07-06 | 1467373 | 1989        |\n",
       "| ATVI  | Activision Blizzard             | reports | Communication Services | Interactive Home Entertainment               | Santa Monica, California         | 2015-08-31 |  718877 | 2008        |\n",
       "| ADBE  | Adobe Systems Inc               | reports | Information Technology | Application Software                         | San Jose, California             | 1997-05-05 |  796343 | 1982        |\n",
       "| AMD   | Advanced Micro Devices Inc      | reports | Information Technology | Semiconductors                               | Santa Clara, California          | 2017-03-20 |    2488 | 1969        |\n",
       "| AAP   | Advance Auto Parts              | reports | Consumer Discretionary | Automotive Retail                            | Raleigh, North Carolina          | 2015-07-09 | 1158449 | 1932        |\n",
       "| AES   | AES Corp                        | reports | Utilities              | Independent Power Producers &amp; Energy Traders | Arlington, Virginia              | 1998-10-02 |  874761 | 1981        |\n",
       "| AFL   | AFLAC Inc                       | reports | Financials             | Life &amp; Health Insurance                      | Columbus, Georgia                | 1999-05-28 |    4977 | 1955        |\n",
       "| A     | Agilent Technologies Inc        | reports | Health Care            | Health Care Equipment                        | Santa Clara, California          | 2000-06-05 | 1090872 | 1999        |\n",
       "| APD   | Air Products &amp; Chemicals Inc    | reports | Materials              | Industrial Gases                             | Allentown, Pennsylvania          | 1985-04-30 |    2969 | 1940        |\n",
       "| AKAM  | Akamai Technologies Inc         | reports | Information Technology | Internet Services &amp; Infrastructure           | Cambridge, Massachusetts         | 2007-07-12 | 1086222 | 1998        |\n",
       "| ALK   | Alaska Air Group Inc            | reports | Industrials            | Airlines                                     | Seattle, Washington              | 2016-05-13 |  766421 | 1985        |\n",
       "| ALB   | Albemarle Corp                  | reports | Materials              | Specialty Chemicals                          | Charlotte, North Carolina        | 2016-07-01 |  915913 | 1994        |\n",
       "| ARE   | Alexandria Real Estate Equities | reports | Real Estate            | Office REITs                                 | Pasadena, California             | 2017-03-20 | 1035443 | 1994        |\n",
       "| ALXN  | Alexion Pharmaceuticals         | reports | Health Care            | Biotechnology                                | Boston, Massachusetts            | 2012-05-25 |  899866 | 1992        |\n",
       "| ALGN  | Align Technology                | reports | Health Care            | Health Care Supplies                         | San Jose, California             | 2017-06-19 | 1097149 | 1997        |\n",
       "| ALLE  | Allegion                        | reports | Industrials            | Building Products                            | Dublin, Ireland                  | 2013-12-02 | 1579241 | 1908        |\n",
       "| AGN   | Allergan, plc                   | reports | Health Care            | Pharmaceuticals                              | Dublin, Ireland                  | 1999-04-12 | 1578845 | 1983        |\n",
       "| ADS   | Alliance Data Systems           | reports | Information Technology | Data Processing &amp; Outsourced Services        | Plano, Texas                     | 2013-12-23 | 1101215 | 1996        |\n",
       "| LNT   | Alliant Energy Corp             | reports | Utilities              | Electric Utilities                           | Madison, Wisconsin               | 2016-07-01 |  352541 | 1917        |\n",
       "| ALL   | Allstate Corp                   | reports | Financials             | Property &amp; Casualty Insurance                | Northfield Township, Illinois    | 1995-07-13 |  899051 | 1931        |\n",
       "| GOOGL | Alphabet Inc Class A            | reports | Communication Services | Interactive Media &amp; Services                 | Mountain View, California        | 2014-04-03 | 1652044 | 1998        |\n",
       "| GOOG  | Alphabet Inc Class C            | reports | Communication Services | Interactive Media &amp; Services                 | Mountain View, California        | 2006-04-03 | 1652044 | 1998        |\n",
       "| MO    | Altria Group Inc                | reports | Consumer Staples       | Tobacco                                      | Richmond, Virginia               | <!----> |  764180 | 1985        |\n",
       "| AMZN  | Amazon.com Inc.                 | reports | Consumer Discretionary | Internet &amp; Direct Marketing Retail           | Seattle, Washington              | 2005-11-18 | 1018724 | 1994        |\n",
       "| AMCR  | Amcor plc                       | reports | Materials              | Paper Packaging                              | Warmley, Bristol, United Kingdom | 2019-06-07 | 1748790 | <!----> |\n",
       "| AEE   | Ameren Corp                     | reports | Utilities              | Multi-Utilities                              | St. Louis, Missouri              | 1991-09-19 | 1002910 | 1902        |\n",
       "| ... | ... | ... | ... | ... | ... | ... | ... | ... |\n",
       "| VNO  | Vornado Realty Trust      | reports | Real Estate            | Office REITs                               | New York, New York        | <!----> |  899689 | <!----> |\n",
       "| VMC  | Vulcan Materials          | reports | Materials              | Construction Materials                     | Birmingham, Alabama       | 1999-06-30 | 1396009 | <!----> |\n",
       "| WRB  | W. R. Berkley Corporation | reports | Financials             | Property &amp; Casualty Insurance              | Greenwich, Connecticut    | 2019-12-05 |   11544 | 1967 |\n",
       "| WAB  | Wabtec Corporation        | reports | Industrials            | Construction Machinery &amp; Heavy Trucks      | Wilmerding, Pennsylvania  | 2019-02-27 |  943452 | <!----> |\n",
       "| WMT  | Walmart                   | reports | Consumer Staples       | Hypermarkets &amp; Super Centers               | Bentonville, Arkansas     | 1982-08-31 |  104169 | <!----> |\n",
       "| WBA  | Walgreens Boots Alliance  | reports | Consumer Staples       | Drug Retail                                | Deerfield, Illinois       | 1979-12-31 | 1618921 | <!----> |\n",
       "| DIS  | The Walt Disney Company   | reports | Communication Services | Movies &amp; Entertainment                     | Burbank, California       | 1976-06-30 | 1001039 | <!----> |\n",
       "| WM   | Waste Management Inc.     | reports | Industrials            | Environmental &amp; Facilities Services        | Houston, Texas            | <!----> |  823768 | 1968 |\n",
       "| WAT  | Waters Corporation        | reports | Health Care            | Health Care Distributors                   | Milford, Massachusetts    | <!----> | 1000697 | 1958 |\n",
       "| WEC  | Wec Energy Group Inc      | reports | Utilities              | Electric Utilities                         | Milwaukee, Wisconsin      | 2008-10-31 |  783325 | <!----> |\n",
       "| WCG  | WellCare                  | reports | Health Care            | Managed Health Care                        | Tampa, Florida            | 1985       | 1279363 | <!----> |\n",
       "| WFC  | Wells Fargo               | reports | Financials             | Diversified Banks                          | San Francisco, California | 1976-06-30 |   72971 | <!----> |\n",
       "| WELL | Welltower Inc.            | reports | Real Estate            | Health Care REITs                          | Toledo, Ohio              | 2009-01-30 |  766704 | <!----> |\n",
       "| WDC  | Western Digital           | reports | Information Technology | Technology Hardware, Storage &amp; Peripherals | Irvine, California        | 2009-07-01 |  106040 | <!----> |\n",
       "| WU   | Western Union Co          | reports | Information Technology | Data Processing &amp; Outsourced Services      | Englewood, Colorado       | <!----> | 1365135 | 1851 |\n",
       "| WRK  | WestRock                  | reports | Materials              | Paper Packaging                            | Richmond, Virginia        | <!----> | 1636023 | <!----> |\n",
       "| WY   | Weyerhaeuser              | reports | Real Estate            | Specialized REITs                          | Federal Way, Washington   | <!----> |  106535 | <!----> |\n",
       "| WHR  | Whirlpool Corp.           | reports | Consumer Discretionary | Household Appliances                       | Benton Harbor, Michigan   | <!----> |  106640 | 1911 |\n",
       "| WMB  | Williams Cos.             | reports | Energy                 | Oil &amp; Gas Storage &amp; Transportation         | Tulsa, Oklahoma           | 1975-03-31 |  107263 | <!----> |\n",
       "| WLTW | Willis Towers Watson      | reports | Financials             | Insurance Brokers                          | London, United Kingdom    | 2016-01-05 | 1140536 | <!----> |\n",
       "| WYNN | Wynn Resorts Ltd          | reports | Consumer Discretionary | Casinos &amp; Gaming                           | Paradise, Nevada          | 2008-11-14 | 1174922 | <!----> |\n",
       "| XEL  | Xcel Energy Inc           | reports | Utilities              | Multi-Utilities                            | Minneapolis, Minnesota    | <!----> |   72903 | 1909 |\n",
       "| XRX  | Xerox                     | reports | Information Technology | Technology Hardware, Storage &amp; Peripherals | Norwalk, Connecticut      | <!----> |  108772 | 1906 |\n",
       "| XLNX | Xilinx                    | reports | Information Technology | Semiconductors                             | San Jose, California      | 1999-11-08 |  743988 | <!----> |\n",
       "| XYL  | Xylem Inc.                | reports | Industrials            | Industrial Machinery                       | White Plains, New York    | 2011-11-01 | 1524472 | <!----> |\n",
       "| YUM  | Yum! Brands Inc           | reports | Consumer Discretionary | Restaurants                                | Louisville, Kentucky      | 1997-10-06 | 1041061 | <!----> |\n",
       "| ZBRA | Zebra Technologies        | reports | Information Technology | Electronic Equipment &amp; Instruments         | Lincolnshire, Illinois    | 2019-12-23 |  877212 | 1969 |\n",
       "| ZBH  | Zimmer Biomet Holdings    | reports | Health Care            | Health Care Equipment                      | Warsaw, Indiana           | 2001-08-07 | 1136869 | <!----> |\n",
       "| ZION | Zions Bancorp             | reports | Financials             | Regional Banks                             | Salt Lake City, Utah      | 2001-06-22 |  109380 | <!----> |\n",
       "| ZTS  | Zoetis                    | reports | Health Care            | Pharmaceuticals                            | Florham Park, New Jersey  | 2013-06-21 | 1555280 | <!----> |\n",
       "\n"
      ],
      "text/plain": [
       "    Tickers Company                         SEC.filings GICS.Sector           \n",
       "1   MMM     3M Company                      reports     Industrials           \n",
       "2   ABT     Abbott Laboratories             reports     Health Care           \n",
       "3   ABBV    AbbVie Inc.                     reports     Health Care           \n",
       "4   ABMD    ABIOMED Inc                     reports     Health Care           \n",
       "5   ACN     Accenture plc                   reports     Information Technology\n",
       "6   ATVI    Activision Blizzard             reports     Communication Services\n",
       "7   ADBE    Adobe Systems Inc               reports     Information Technology\n",
       "8   AMD     Advanced Micro Devices Inc      reports     Information Technology\n",
       "9   AAP     Advance Auto Parts              reports     Consumer Discretionary\n",
       "10  AES     AES Corp                        reports     Utilities             \n",
       "11  AFL     AFLAC Inc                       reports     Financials            \n",
       "12  A       Agilent Technologies Inc        reports     Health Care           \n",
       "13  APD     Air Products & Chemicals Inc    reports     Materials             \n",
       "14  AKAM    Akamai Technologies Inc         reports     Information Technology\n",
       "15  ALK     Alaska Air Group Inc            reports     Industrials           \n",
       "16  ALB     Albemarle Corp                  reports     Materials             \n",
       "17  ARE     Alexandria Real Estate Equities reports     Real Estate           \n",
       "18  ALXN    Alexion Pharmaceuticals         reports     Health Care           \n",
       "19  ALGN    Align Technology                reports     Health Care           \n",
       "20  ALLE    Allegion                        reports     Industrials           \n",
       "21  AGN     Allergan, plc                   reports     Health Care           \n",
       "22  ADS     Alliance Data Systems           reports     Information Technology\n",
       "23  LNT     Alliant Energy Corp             reports     Utilities             \n",
       "24  ALL     Allstate Corp                   reports     Financials            \n",
       "25  GOOGL   Alphabet Inc Class A            reports     Communication Services\n",
       "26  GOOG    Alphabet Inc Class C            reports     Communication Services\n",
       "27  MO      Altria Group Inc                reports     Consumer Staples      \n",
       "28  AMZN    Amazon.com Inc.                 reports     Consumer Discretionary\n",
       "29  AMCR    Amcor plc                       reports     Materials             \n",
       "30  AEE     Ameren Corp                     reports     Utilities             \n",
       "... ...     ...                             ...         ...                   \n",
       "476 VNO     Vornado Realty Trust            reports     Real Estate           \n",
       "477 VMC     Vulcan Materials                reports     Materials             \n",
       "478 WRB     W. R. Berkley Corporation       reports     Financials            \n",
       "479 WAB     Wabtec Corporation              reports     Industrials           \n",
       "480 WMT     Walmart                         reports     Consumer Staples      \n",
       "481 WBA     Walgreens Boots Alliance        reports     Consumer Staples      \n",
       "482 DIS     The Walt Disney Company         reports     Communication Services\n",
       "483 WM      Waste Management Inc.           reports     Industrials           \n",
       "484 WAT     Waters Corporation              reports     Health Care           \n",
       "485 WEC     Wec Energy Group Inc            reports     Utilities             \n",
       "486 WCG     WellCare                        reports     Health Care           \n",
       "487 WFC     Wells Fargo                     reports     Financials            \n",
       "488 WELL    Welltower Inc.                  reports     Real Estate           \n",
       "489 WDC     Western Digital                 reports     Information Technology\n",
       "490 WU      Western Union Co                reports     Information Technology\n",
       "491 WRK     WestRock                        reports     Materials             \n",
       "492 WY      Weyerhaeuser                    reports     Real Estate           \n",
       "493 WHR     Whirlpool Corp.                 reports     Consumer Discretionary\n",
       "494 WMB     Williams Cos.                   reports     Energy                \n",
       "495 WLTW    Willis Towers Watson            reports     Financials            \n",
       "496 WYNN    Wynn Resorts Ltd                reports     Consumer Discretionary\n",
       "497 XEL     Xcel Energy Inc                 reports     Utilities             \n",
       "498 XRX     Xerox                           reports     Information Technology\n",
       "499 XLNX    Xilinx                          reports     Information Technology\n",
       "500 XYL     Xylem Inc.                      reports     Industrials           \n",
       "501 YUM     Yum! Brands Inc                 reports     Consumer Discretionary\n",
       "502 ZBRA    Zebra Technologies              reports     Information Technology\n",
       "503 ZBH     Zimmer Biomet Holdings          reports     Health Care           \n",
       "504 ZION    Zions Bancorp                   reports     Financials            \n",
       "505 ZTS     Zoetis                          reports     Health Care           \n",
       "    GICS.Sub.Industry                           \n",
       "1   Industrial Conglomerates                    \n",
       "2   Health Care Equipment                       \n",
       "3   Pharmaceuticals                             \n",
       "4   Health Care Equipment                       \n",
       "5   IT Consulting & Other Services              \n",
       "6   Interactive Home Entertainment              \n",
       "7   Application Software                        \n",
       "8   Semiconductors                              \n",
       "9   Automotive Retail                           \n",
       "10  Independent Power Producers & Energy Traders\n",
       "11  Life & Health Insurance                     \n",
       "12  Health Care Equipment                       \n",
       "13  Industrial Gases                            \n",
       "14  Internet Services & Infrastructure          \n",
       "15  Airlines                                    \n",
       "16  Specialty Chemicals                         \n",
       "17  Office REITs                                \n",
       "18  Biotechnology                               \n",
       "19  Health Care Supplies                        \n",
       "20  Building Products                           \n",
       "21  Pharmaceuticals                             \n",
       "22  Data Processing & Outsourced Services       \n",
       "23  Electric Utilities                          \n",
       "24  Property & Casualty Insurance               \n",
       "25  Interactive Media & Services                \n",
       "26  Interactive Media & Services                \n",
       "27  Tobacco                                     \n",
       "28  Internet & Direct Marketing Retail          \n",
       "29  Paper Packaging                             \n",
       "30  Multi-Utilities                             \n",
       "... ...                                         \n",
       "476 Office REITs                                \n",
       "477 Construction Materials                      \n",
       "478 Property & Casualty Insurance               \n",
       "479 Construction Machinery & Heavy Trucks       \n",
       "480 Hypermarkets & Super Centers                \n",
       "481 Drug Retail                                 \n",
       "482 Movies & Entertainment                      \n",
       "483 Environmental & Facilities Services         \n",
       "484 Health Care Distributors                    \n",
       "485 Electric Utilities                          \n",
       "486 Managed Health Care                         \n",
       "487 Diversified Banks                           \n",
       "488 Health Care REITs                           \n",
       "489 Technology Hardware, Storage & Peripherals  \n",
       "490 Data Processing & Outsourced Services       \n",
       "491 Paper Packaging                             \n",
       "492 Specialized REITs                           \n",
       "493 Household Appliances                        \n",
       "494 Oil & Gas Storage & Transportation          \n",
       "495 Insurance Brokers                           \n",
       "496 Casinos & Gaming                            \n",
       "497 Multi-Utilities                             \n",
       "498 Technology Hardware, Storage & Peripherals  \n",
       "499 Semiconductors                              \n",
       "500 Industrial Machinery                        \n",
       "501 Restaurants                                 \n",
       "502 Electronic Equipment & Instruments          \n",
       "503 Health Care Equipment                       \n",
       "504 Regional Banks                              \n",
       "505 Pharmaceuticals                             \n",
       "    HQ.Location                      Date.First.Added CIK     Founded    \n",
       "1   St. Paul, Minnesota                                 66740 1902       \n",
       "2   North Chicago, Illinois          1964-03-31          1800 1888       \n",
       "3   North Chicago, Illinois          2012-12-31       1551152 2013 (1888)\n",
       "4   Danvers, Massachusetts           2018-05-31        815094 1981       \n",
       "5   Dublin, Ireland                  2011-07-06       1467373 1989       \n",
       "6   Santa Monica, California         2015-08-31        718877 2008       \n",
       "7   San Jose, California             1997-05-05        796343 1982       \n",
       "8   Santa Clara, California          2017-03-20          2488 1969       \n",
       "9   Raleigh, North Carolina          2015-07-09       1158449 1932       \n",
       "10  Arlington, Virginia              1998-10-02        874761 1981       \n",
       "11  Columbus, Georgia                1999-05-28          4977 1955       \n",
       "12  Santa Clara, California          2000-06-05       1090872 1999       \n",
       "13  Allentown, Pennsylvania          1985-04-30          2969 1940       \n",
       "14  Cambridge, Massachusetts         2007-07-12       1086222 1998       \n",
       "15  Seattle, Washington              2016-05-13        766421 1985       \n",
       "16  Charlotte, North Carolina        2016-07-01        915913 1994       \n",
       "17  Pasadena, California             2017-03-20       1035443 1994       \n",
       "18  Boston, Massachusetts            2012-05-25        899866 1992       \n",
       "19  San Jose, California             2017-06-19       1097149 1997       \n",
       "20  Dublin, Ireland                  2013-12-02       1579241 1908       \n",
       "21  Dublin, Ireland                  1999-04-12       1578845 1983       \n",
       "22  Plano, Texas                     2013-12-23       1101215 1996       \n",
       "23  Madison, Wisconsin               2016-07-01        352541 1917       \n",
       "24  Northfield Township, Illinois    1995-07-13        899051 1931       \n",
       "25  Mountain View, California        2014-04-03       1652044 1998       \n",
       "26  Mountain View, California        2006-04-03       1652044 1998       \n",
       "27  Richmond, Virginia                                 764180 1985       \n",
       "28  Seattle, Washington              2005-11-18       1018724 1994       \n",
       "29  Warmley, Bristol, United Kingdom 2019-06-07       1748790            \n",
       "30  St. Louis, Missouri              1991-09-19       1002910 1902       \n",
       "... ...                              ...              ...     ...        \n",
       "476 New York, New York                                 899689            \n",
       "477 Birmingham, Alabama              1999-06-30       1396009            \n",
       "478 Greenwich, Connecticut           2019-12-05         11544 1967       \n",
       "479 Wilmerding, Pennsylvania         2019-02-27        943452            \n",
       "480 Bentonville, Arkansas            1982-08-31        104169            \n",
       "481 Deerfield, Illinois              1979-12-31       1618921            \n",
       "482 Burbank, California              1976-06-30       1001039            \n",
       "483 Houston, Texas                                     823768 1968       \n",
       "484 Milford, Massachusetts                            1000697 1958       \n",
       "485 Milwaukee, Wisconsin             2008-10-31        783325            \n",
       "486 Tampa, Florida                   1985             1279363            \n",
       "487 San Francisco, California        1976-06-30         72971            \n",
       "488 Toledo, Ohio                     2009-01-30        766704            \n",
       "489 Irvine, California               2009-07-01        106040            \n",
       "490 Englewood, Colorado                               1365135 1851       \n",
       "491 Richmond, Virginia                                1636023            \n",
       "492 Federal Way, Washington                            106535            \n",
       "493 Benton Harbor, Michigan                            106640 1911       \n",
       "494 Tulsa, Oklahoma                  1975-03-31        107263            \n",
       "495 London, United Kingdom           2016-01-05       1140536            \n",
       "496 Paradise, Nevada                 2008-11-14       1174922            \n",
       "497 Minneapolis, Minnesota                              72903 1909       \n",
       "498 Norwalk, Connecticut                               108772 1906       \n",
       "499 San Jose, California             1999-11-08        743988            \n",
       "500 White Plains, New York           2011-11-01       1524472            \n",
       "501 Louisville, Kentucky             1997-10-06       1041061            \n",
       "502 Lincolnshire, Illinois           2019-12-23        877212 1969       \n",
       "503 Warsaw, Indiana                  2001-08-07       1136869            \n",
       "504 Salt Lake City, Utah             2001-06-22        109380            \n",
       "505 Florham Park, New Jersey         2013-06-21       1555280            "
      ]
     },
     "metadata": {},
     "output_type": "display_data"
    },
    {
     "name": "stdout",
     "output_type": "stream",
     "text": [
      "  [1] \"MMM\"   \"ABT\"   \"ABBV\"  \"ABMD\"  \"ACN\"   \"ATVI\"  \"ADBE\"  \"AMD\"   \"AAP\"  \n",
      " [10] \"AES\"   \"AFL\"   \"A\"     \"APD\"   \"AKAM\"  \"ALK\"   \"ALB\"   \"ARE\"   \"ALXN\" \n",
      " [19] \"ALGN\"  \"ALLE\"  \"AGN\"   \"ADS\"   \"LNT\"   \"ALL\"   \"GOOGL\" \"GOOG\"  \"MO\"   \n",
      " [28] \"AMZN\"  \"AMCR\"  \"AEE\"   \"AAL\"   \"AEP\"   \"AXP\"   \"AIG\"   \"AMT\"   \"AWK\"  \n",
      " [37] \"AMP\"   \"ABC\"   \"AME\"   \"AMGN\"  \"APH\"   \"ADI\"   \"ANSS\"  \"ANTM\"  \"AON\"  \n",
      " [46] \"AOS\"   \"APA\"   \"AIV\"   \"AAPL\"  \"AMAT\"  \"APTV\"  \"ADM\"   \"ARNC\"  \"ANET\" \n",
      " [55] \"AJG\"   \"AIZ\"   \"ATO\"   \"T\"     \"ADSK\"  \"ADP\"   \"AZO\"   \"AVB\"   \"AVY\"  \n",
      " [64] \"BKR\"   \"BLL\"   \"BAC\"   \"BK\"    \"BAX\"   \"BDX\"   \"BRK.B\" \"BBY\"   \"BIIB\" \n",
      " [73] \"BLK\"   \"BA\"    \"BKNG\"  \"BWA\"   \"BXP\"   \"BSX\"   \"BMY\"   \"AVGO\"  \"BR\"   \n",
      " [82] \"BF.B\"  \"CHRW\"  \"COG\"   \"CDNS\"  \"CPB\"   \"COF\"   \"CPRI\"  \"CAH\"   \"KMX\"  \n",
      " [91] \"CCL\"   \"CAT\"   \"CBOE\"  \"CBRE\"  \"CDW\"   \"CE\"    \"CNC\"   \"CNP\"   \"CTL\"  \n",
      "[100] \"CERN\"  \"CF\"    \"SCHW\"  \"CHTR\"  \"CVX\"   \"CMG\"   \"CB\"    \"CHD\"   \"CI\"   \n",
      "[109] \"XEC\"   \"CINF\"  \"CTAS\"  \"CSCO\"  \"C\"     \"CFG\"   \"CTXS\"  \"CLX\"   \"CME\"  \n",
      "[118] \"CMS\"   \"KO\"    \"CTSH\"  \"CL\"    \"CMCSA\" \"CMA\"   \"CAG\"   \"CXO\"   \"COP\"  \n",
      "[127] \"ED\"    \"STZ\"   \"COO\"   \"CPRT\"  \"GLW\"   \"CTVA\"  \"COST\"  \"COTY\"  \"CCI\"  \n",
      "[136] \"CSX\"   \"CMI\"   \"CVS\"   \"DHI\"   \"DHR\"   \"DRI\"   \"DVA\"   \"DE\"    \"DAL\"  \n",
      "[145] \"XRAY\"  \"DVN\"   \"FANG\"  \"DLR\"   \"DFS\"   \"DISCA\" \"DISCK\" \"DISH\"  \"DG\"   \n",
      "[154] \"DLTR\"  \"D\"     \"DOV\"   \"DOW\"   \"DTE\"   \"DUK\"   \"DRE\"   \"DD\"    \"DXC\"  \n",
      "[163] \"ETFC\"  \"EMN\"   \"ETN\"   \"EBAY\"  \"ECL\"   \"EIX\"   \"EW\"    \"EA\"    \"EMR\"  \n",
      "[172] \"ETR\"   \"EOG\"   \"EFX\"   \"EQIX\"  \"EQR\"   \"ESS\"   \"EL\"    \"EVRG\"  \"ES\"   \n",
      "[181] \"RE\"    \"EXC\"   \"EXPE\"  \"EXPD\"  \"EXR\"   \"XOM\"   \"FFIV\"  \"FB\"    \"FAST\" \n",
      "[190] \"FRT\"   \"FDX\"   \"FIS\"   \"FITB\"  \"FE\"    \"FRC\"   \"FISV\"  \"FLT\"   \"FLIR\" \n",
      "[199] \"FLS\"   \"FMC\"   \"F\"     \"FTNT\"  \"FTV\"   \"FBHS\"  \"FOXA\"  \"FOX\"   \"BEN\"  \n",
      "[208] \"FCX\"   \"GPS\"   \"GRMN\"  \"IT\"    \"GD\"    \"GE\"    \"GIS\"   \"GM\"    \"GPC\"  \n",
      "[217] \"GILD\"  \"GL\"    \"GPN\"   \"GS\"    \"GWW\"   \"HRB\"   \"HAL\"   \"HBI\"   \"HOG\"  \n",
      "[226] \"HIG\"   \"HAS\"   \"HCA\"   \"PEAK\"  \"HP\"    \"HSIC\"  \"HSY\"   \"HES\"   \"HPE\"  \n",
      "[235] \"HLT\"   \"HFC\"   \"HOLX\"  \"HD\"    \"HON\"   \"HRL\"   \"HST\"   \"HPQ\"   \"HUM\"  \n",
      "[244] \"HBAN\"  \"HII\"   \"IEX\"   \"IDXX\"  \"INFO\"  \"ITW\"   \"ILMN\"  \"IR\"    \"INTC\" \n",
      "[253] \"ICE\"   \"IBM\"   \"INCY\"  \"IP\"    \"IPG\"   \"IFF\"   \"INTU\"  \"ISRG\"  \"IVZ\"  \n",
      "[262] \"IPGP\"  \"IQV\"   \"IRM\"   \"JKHY\"  \"J\"     \"JBHT\"  \"SJM\"   \"JNJ\"   \"JCI\"  \n",
      "[271] \"JPM\"   \"JNPR\"  \"KSU\"   \"K\"     \"KEY\"   \"KEYS\"  \"KMB\"   \"KIM\"   \"KMI\"  \n",
      "[280] \"KLAC\"  \"KSS\"   \"KHC\"   \"KR\"    \"LB\"    \"LHX\"   \"LH\"    \"LRCX\"  \"LW\"   \n",
      "[289] \"LVS\"   \"LEG\"   \"LDOS\"  \"LEN\"   \"LLY\"   \"LNC\"   \"LIN\"   \"LYV\"   \"LKQ\"  \n",
      "[298] \"LMT\"   \"L\"     \"LOW\"   \"LYB\"   \"MTB\"   \"M\"     \"MRO\"   \"MPC\"   \"MKTX\" \n",
      "[307] \"MAR\"   \"MMC\"   \"MLM\"   \"MAS\"   \"MA\"    \"MKC\"   \"MXIM\"  \"MCD\"   \"MCK\"  \n",
      "[316] \"MDT\"   \"MRK\"   \"MET\"   \"MTD\"   \"MGM\"   \"MCHP\"  \"MU\"    \"MSFT\"  \"MAA\"  \n",
      "[325] \"MHK\"   \"TAP\"   \"MDLZ\"  \"MNST\"  \"MCO\"   \"MS\"    \"MOS\"   \"MSI\"   \"MSCI\" \n",
      "[334] \"MYL\"   \"NDAQ\"  \"NOV\"   \"NTAP\"  \"NFLX\"  \"NWL\"   \"NEM\"   \"NWSA\"  \"NWS\"  \n",
      "[343] \"NEE\"   \"NLSN\"  \"NKE\"   \"NI\"    \"NBL\"   \"JWN\"   \"NSC\"   \"NTRS\"  \"NOC\"  \n",
      "[352] \"NLOK\"  \"NCLH\"  \"NRG\"   \"NUE\"   \"NVDA\"  \"NVR\"   \"ORLY\"  \"OXY\"   \"ODFL\" \n",
      "[361] \"OMC\"   \"OKE\"   \"ORCL\"  \"PCAR\"  \"PKG\"   \"PH\"    \"PAYX\"  \"PYPL\"  \"PNR\"  \n",
      "[370] \"PBCT\"  \"PEP\"   \"PKI\"   \"PRGO\"  \"PFE\"   \"PM\"    \"PSX\"   \"PNW\"   \"PXD\"  \n",
      "[379] \"PNC\"   \"PPG\"   \"PPL\"   \"PFG\"   \"PG\"    \"PGR\"   \"PLD\"   \"PRU\"   \"PEG\"  \n",
      "[388] \"PSA\"   \"PHM\"   \"PVH\"   \"QRVO\"  \"PWR\"   \"QCOM\"  \"DGX\"   \"RL\"    \"RJF\"  \n",
      "[397] \"RTN\"   \"O\"     \"REG\"   \"REGN\"  \"RF\"    \"RSG\"   \"RMD\"   \"RHI\"   \"ROK\"  \n",
      "[406] \"ROL\"   \"ROP\"   \"ROST\"  \"RCL\"   \"SPGI\"  \"CRM\"   \"SBAC\"  \"SLB\"   \"STX\"  \n",
      "[415] \"SEE\"   \"SRE\"   \"NOW\"   \"SHW\"   \"SPG\"   \"SWKS\"  \"SLG\"   \"SNA\"   \"SO\"   \n",
      "[424] \"LUV\"   \"SWK\"   \"SBUX\"  \"STT\"   \"STE\"   \"SYK\"   \"SIVB\"  \"SYF\"   \"SNPS\" \n",
      "[433] \"SYY\"   \"TMUS\"  \"TROW\"  \"TTWO\"  \"TPR\"   \"TGT\"   \"TEL\"   \"FTI\"   \"TFX\"  \n",
      "[442] \"TXN\"   \"TXT\"   \"TMO\"   \"TIF\"   \"TJX\"   \"TSCO\"  \"TDG\"   \"TRV\"   \"TFC\"  \n",
      "[451] \"TWTR\"  \"TSN\"   \"UDR\"   \"ULTA\"  \"USB\"   \"UAA\"   \"UA\"    \"UNP\"   \"UAL\"  \n",
      "[460] \"UNH\"   \"UPS\"   \"URI\"   \"UTX\"   \"UHS\"   \"UNM\"   \"VFC\"   \"VLO\"   \"VAR\"  \n",
      "[469] \"VTR\"   \"VRSN\"  \"VRSK\"  \"VZ\"    \"VRTX\"  \"VIAC\"  \"V\"     \"VNO\"   \"VMC\"  \n",
      "[478] \"WRB\"   \"WAB\"   \"WMT\"   \"WBA\"   \"DIS\"   \"WM\"    \"WAT\"   \"WEC\"   \"WCG\"  \n",
      "[487] \"WFC\"   \"WELL\"  \"WDC\"   \"WU\"    \"WRK\"   \"WY\"    \"WHR\"   \"WMB\"   \"WLTW\" \n",
      "[496] \"WYNN\"  \"XEL\"   \"XRX\"   \"XLNX\"  \"XYL\"   \"YUM\"   \"ZBRA\"  \"ZBH\"   \"ZION\" \n",
      "[505] \"ZTS\"  \n"
     ]
    }
   ],
   "source": [
    "df.SP500 <- GetSP500Stocks()\n",
    "df.SP500\n",
    "print(df.SP500$Tickers)"
   ]
  },
  {
   "cell_type": "markdown",
   "metadata": {
    "slideshow": {
     "slide_type": "slide"
    }
   },
   "source": [
    "# Ejemplos prácticos "
   ]
  },
  {
   "cell_type": "code",
   "execution_count": 1,
   "metadata": {
    "slideshow": {
     "slide_type": "fragment"
    }
   },
   "outputs": [
    {
     "name": "stderr",
     "output_type": "stream",
     "text": [
      "Installing package into 'C:/Users/IN_CAP02/Documents/R/win-library/3.6'\n",
      "(as 'lib' is unspecified)\n",
      "\n"
     ]
    },
    {
     "name": "stdout",
     "output_type": "stream",
     "text": [
      "package 'readxl' successfully unpacked and MD5 sums checked\n",
      "\n",
      "The downloaded binary packages are in\n",
      "\tC:\\Users\\IN_CAP02\\AppData\\Local\\Temp\\RtmpUBRTAL\\downloaded_packages\n"
     ]
    }
   ],
   "source": [
    "# Instalemos la libreria \"readxl\" \n",
    "#install.packages(\"readxl\")\n",
    "library(readxl)\n",
    "library(\"FinCal\")"
   ]
  },
  {
   "cell_type": "markdown",
   "metadata": {
    "slideshow": {
     "slide_type": "subslide"
    }
   },
   "source": [
    "# Cálculo del VPN y la TIR"
   ]
  },
  {
   "cell_type": "code",
   "execution_count": 2,
   "metadata": {
    "slideshow": {
     "slide_type": "fragment"
    }
   },
   "outputs": [
    {
     "name": "stderr",
     "output_type": "stream",
     "text": [
      "New names:\n",
      "* Depreciaciones -> Depreciaciones...6\n",
      "* Depreciaciones -> Depreciaciones...16\n",
      "\n"
     ]
    },
    {
     "data": {
      "text/html": [
       "<table>\n",
       "<caption>A tibble: 6 × 17</caption>\n",
       "<thead>\n",
       "\t<tr><th scope=col>Año</th><th scope=col>Ventas</th><th scope=col>Costos (Balance Personal)</th><th scope=col>Utilidad marginal</th><th scope=col>Gastos (Mantenimiento)</th><th scope=col>Depreciaciones...6</th><th scope=col>UAII</th><th scope=col>Intereses(16.5%)</th><th scope=col>Utilidad antes de impuestos</th><th scope=col>Impuestos (25%)</th><th scope=col>Utilidad Neta</th><th scope=col>Inversiones*</th><th scope=col>Amortizaciones</th><th scope=col>Préstamos</th><th scope=col>Venta de activos</th><th scope=col>Depreciaciones...16</th><th scope=col>FCN</th></tr>\n",
       "\t<tr><th scope=col>&lt;dbl&gt;</th><th scope=col>&lt;dbl&gt;</th><th scope=col>&lt;dbl&gt;</th><th scope=col>&lt;dbl&gt;</th><th scope=col>&lt;dbl&gt;</th><th scope=col>&lt;dbl&gt;</th><th scope=col>&lt;dbl&gt;</th><th scope=col>&lt;dbl&gt;</th><th scope=col>&lt;dbl&gt;</th><th scope=col>&lt;dbl&gt;</th><th scope=col>&lt;dbl&gt;</th><th scope=col>&lt;dbl&gt;</th><th scope=col>&lt;dbl&gt;</th><th scope=col>&lt;dbl&gt;</th><th scope=col>&lt;dbl&gt;</th><th scope=col>&lt;dbl&gt;</th><th scope=col>&lt;dbl&gt;</th></tr>\n",
       "</thead>\n",
       "<tbody>\n",
       "\t<tr><td>0</td><td>    NA</td><td>    NA</td><td>    NA</td><td>  NA</td><td>      NA</td><td>      NA</td><td>       NA</td><td>      NA</td><td>      NA</td><td>      NA</td><td>653550</td><td>     NA</td><td>98032.5</td><td>       NA</td><td>      NA</td><td>-555517.50</td></tr>\n",
       "\t<tr><td>1</td><td>372000</td><td>275100</td><td> 96900</td><td>9644</td><td>53153.33</td><td>34102.67</td><td>16175.363</td><td>17927.30</td><td>    0.00</td><td>17927.30</td><td>     0</td><td>19606.5</td><td>     NA</td><td>    0.000</td><td>53153.33</td><td>  51474.14</td></tr>\n",
       "\t<tr><td>2</td><td>405000</td><td>275100</td><td>129900</td><td>9644</td><td>53153.33</td><td>67102.67</td><td>12940.290</td><td>54162.38</td><td>13540.59</td><td>40621.78</td><td>120550</td><td>19606.5</td><td>     NA</td><td>    0.000</td><td>53153.33</td><td> -46381.38</td></tr>\n",
       "\t<tr><td>3</td><td>405000</td><td>275100</td><td>129900</td><td>9644</td><td>53153.33</td><td>67102.67</td><td> 9705.218</td><td>57397.45</td><td>14349.36</td><td>43048.09</td><td>  4600</td><td>19606.5</td><td>     NA</td><td> 1533.333</td><td>53153.33</td><td>  73528.25</td></tr>\n",
       "\t<tr><td>4</td><td>405000</td><td>275100</td><td>129900</td><td>9644</td><td>53153.33</td><td>67102.67</td><td> 6470.145</td><td>60632.52</td><td>15158.13</td><td>45474.39</td><td>     0</td><td>19606.5</td><td>     NA</td><td>    0.000</td><td>53153.33</td><td>  79021.22</td></tr>\n",
       "\t<tr><td>5</td><td>405000</td><td>275100</td><td>129900</td><td>9644</td><td>53153.33</td><td>67102.67</td><td> 3235.073</td><td>63867.59</td><td>15966.90</td><td>47900.70</td><td>258100</td><td>19606.5</td><td>     NA</td><td>51620.000</td><td>53153.33</td><td>-125032.47</td></tr>\n",
       "</tbody>\n",
       "</table>\n"
      ],
      "text/latex": [
       "A tibble: 6 × 17\n",
       "\\begin{tabular}{lllllllllllllllll}\n",
       " Año & Ventas & Costos (Balance Personal) & Utilidad marginal & Gastos (Mantenimiento) & Depreciaciones...6 & UAII & Intereses(16.5\\%) & Utilidad antes de impuestos & Impuestos (25\\%) & Utilidad Neta & Inversiones* & Amortizaciones & Préstamos & Venta de activos & Depreciaciones...16 & FCN\\\\\n",
       " <dbl> & <dbl> & <dbl> & <dbl> & <dbl> & <dbl> & <dbl> & <dbl> & <dbl> & <dbl> & <dbl> & <dbl> & <dbl> & <dbl> & <dbl> & <dbl> & <dbl>\\\\\n",
       "\\hline\n",
       "\t 0 &     NA &     NA &     NA &   NA &       NA &       NA &        NA &       NA &       NA &       NA & 653550 &      NA & 98032.5 &        NA &       NA & -555517.50\\\\\n",
       "\t 1 & 372000 & 275100 &  96900 & 9644 & 53153.33 & 34102.67 & 16175.363 & 17927.30 &     0.00 & 17927.30 &      0 & 19606.5 &      NA &     0.000 & 53153.33 &   51474.14\\\\\n",
       "\t 2 & 405000 & 275100 & 129900 & 9644 & 53153.33 & 67102.67 & 12940.290 & 54162.38 & 13540.59 & 40621.78 & 120550 & 19606.5 &      NA &     0.000 & 53153.33 &  -46381.38\\\\\n",
       "\t 3 & 405000 & 275100 & 129900 & 9644 & 53153.33 & 67102.67 &  9705.218 & 57397.45 & 14349.36 & 43048.09 &   4600 & 19606.5 &      NA &  1533.333 & 53153.33 &   73528.25\\\\\n",
       "\t 4 & 405000 & 275100 & 129900 & 9644 & 53153.33 & 67102.67 &  6470.145 & 60632.52 & 15158.13 & 45474.39 &      0 & 19606.5 &      NA &     0.000 & 53153.33 &   79021.22\\\\\n",
       "\t 5 & 405000 & 275100 & 129900 & 9644 & 53153.33 & 67102.67 &  3235.073 & 63867.59 & 15966.90 & 47900.70 & 258100 & 19606.5 &      NA & 51620.000 & 53153.33 & -125032.47\\\\\n",
       "\\end{tabular}\n"
      ],
      "text/markdown": [
       "\n",
       "A tibble: 6 × 17\n",
       "\n",
       "| Año &lt;dbl&gt; | Ventas &lt;dbl&gt; | Costos (Balance Personal) &lt;dbl&gt; | Utilidad marginal &lt;dbl&gt; | Gastos (Mantenimiento) &lt;dbl&gt; | Depreciaciones...6 &lt;dbl&gt; | UAII &lt;dbl&gt; | Intereses(16.5%) &lt;dbl&gt; | Utilidad antes de impuestos &lt;dbl&gt; | Impuestos (25%) &lt;dbl&gt; | Utilidad Neta &lt;dbl&gt; | Inversiones* &lt;dbl&gt; | Amortizaciones &lt;dbl&gt; | Préstamos &lt;dbl&gt; | Venta de activos &lt;dbl&gt; | Depreciaciones...16 &lt;dbl&gt; | FCN &lt;dbl&gt; |\n",
       "|---|---|---|---|---|---|---|---|---|---|---|---|---|---|---|---|---|\n",
       "| 0 |     NA |     NA |     NA |   NA |       NA |       NA |        NA |       NA |       NA |       NA | 653550 |      NA | 98032.5 |        NA |       NA | -555517.50 |\n",
       "| 1 | 372000 | 275100 |  96900 | 9644 | 53153.33 | 34102.67 | 16175.363 | 17927.30 |     0.00 | 17927.30 |      0 | 19606.5 |      NA |     0.000 | 53153.33 |   51474.14 |\n",
       "| 2 | 405000 | 275100 | 129900 | 9644 | 53153.33 | 67102.67 | 12940.290 | 54162.38 | 13540.59 | 40621.78 | 120550 | 19606.5 |      NA |     0.000 | 53153.33 |  -46381.38 |\n",
       "| 3 | 405000 | 275100 | 129900 | 9644 | 53153.33 | 67102.67 |  9705.218 | 57397.45 | 14349.36 | 43048.09 |   4600 | 19606.5 |      NA |  1533.333 | 53153.33 |   73528.25 |\n",
       "| 4 | 405000 | 275100 | 129900 | 9644 | 53153.33 | 67102.67 |  6470.145 | 60632.52 | 15158.13 | 45474.39 |      0 | 19606.5 |      NA |     0.000 | 53153.33 |   79021.22 |\n",
       "| 5 | 405000 | 275100 | 129900 | 9644 | 53153.33 | 67102.67 |  3235.073 | 63867.59 | 15966.90 | 47900.70 | 258100 | 19606.5 |      NA | 51620.000 | 53153.33 | -125032.47 |\n",
       "\n"
      ],
      "text/plain": [
       "  Año Ventas Costos (Balance Personal) Utilidad marginal Gastos (Mantenimiento)\n",
       "1 0       NA     NA                        NA              NA                  \n",
       "2 1   372000 275100                     96900            9644                  \n",
       "3 2   405000 275100                    129900            9644                  \n",
       "4 3   405000 275100                    129900            9644                  \n",
       "5 4   405000 275100                    129900            9644                  \n",
       "6 5   405000 275100                    129900            9644                  \n",
       "  Depreciaciones...6 UAII     Intereses(16.5%) Utilidad antes de impuestos\n",
       "1       NA                 NA        NA              NA                   \n",
       "2 53153.33           34102.67 16175.363        17927.30                   \n",
       "3 53153.33           67102.67 12940.290        54162.38                   \n",
       "4 53153.33           67102.67  9705.218        57397.45                   \n",
       "5 53153.33           67102.67  6470.145        60632.52                   \n",
       "6 53153.33           67102.67  3235.073        63867.59                   \n",
       "  Impuestos (25%) Utilidad Neta Inversiones* Amortizaciones Préstamos\n",
       "1       NA              NA      653550            NA        98032.5  \n",
       "2     0.00        17927.30           0       19606.5             NA  \n",
       "3 13540.59        40621.78      120550       19606.5             NA  \n",
       "4 14349.36        43048.09        4600       19606.5             NA  \n",
       "5 15158.13        45474.39           0       19606.5             NA  \n",
       "6 15966.90        47900.70      258100       19606.5             NA  \n",
       "  Venta de activos Depreciaciones...16 FCN       \n",
       "1        NA              NA            -555517.50\n",
       "2     0.000        53153.33              51474.14\n",
       "3     0.000        53153.33             -46381.38\n",
       "4  1533.333        53153.33              73528.25\n",
       "5     0.000        53153.33              79021.22\n",
       "6 51620.000        53153.33            -125032.47"
      ]
     },
     "metadata": {},
     "output_type": "display_data"
    },
    {
     "data": {
      "text/html": [
       "<style>\n",
       ".list-inline {list-style: none; margin:0; padding: 0}\n",
       ".list-inline>li {display: inline-block}\n",
       ".list-inline>li:not(:last-child)::after {content: \"\\00b7\"; padding: 0 .5ex}\n",
       "</style>\n",
       "<ol class=list-inline><li>-555517.5</li><li>51474.1375</li><li>-46381.3841666667</li><li>73528.2535416667</li><li>79021.2245833333</li><li>-125032.471041667</li></ol>\n"
      ],
      "text/latex": [
       "\\begin{enumerate*}\n",
       "\\item -555517.5\n",
       "\\item 51474.1375\n",
       "\\item -46381.3841666667\n",
       "\\item 73528.2535416667\n",
       "\\item 79021.2245833333\n",
       "\\item -125032.471041667\n",
       "\\end{enumerate*}\n"
      ],
      "text/markdown": [
       "1. -555517.5\n",
       "2. 51474.1375\n",
       "3. -46381.3841666667\n",
       "4. 73528.2535416667\n",
       "5. 79021.2245833333\n",
       "6. -125032.471041667\n",
       "\n",
       "\n"
      ],
      "text/plain": [
       "[1] -555517.50   51474.14  -46381.38   73528.25   79021.22 -125032.47"
      ]
     },
     "metadata": {},
     "output_type": "display_data"
    }
   ],
   "source": [
    "Wacc = 0.1419\n",
    "\n",
    "datos.desde.xls  <- read_excel(\"Datos2.xlsx\") \n",
    "datos.desde.xls\n",
    "\n",
    "# Definimos esta variable como el flujo de caja del Proyecto 1\n",
    "fcn=datos.desde.xls$`FCN`\n",
    "fcn"
   ]
  },
  {
   "cell_type": "code",
   "execution_count": 71,
   "metadata": {
    "slideshow": {
     "slide_type": "subslide"
    }
   },
   "outputs": [
    {
     "data": {
      "text/html": [
       "450609.709695948"
      ],
      "text/latex": [
       "450609.709695948"
      ],
      "text/markdown": [
       "450609.709695948"
      ],
      "text/plain": [
       "[1] 450609.7"
      ]
     },
     "metadata": {},
     "output_type": "display_data"
    },
    {
     "data": {
      "text/html": [
       "-1.00010455765464"
      ],
      "text/latex": [
       "-1.00010455765464"
      ],
      "text/markdown": [
       "-1.00010455765464"
      ],
      "text/plain": [
       "[1] -1.000105"
      ]
     },
     "metadata": {},
     "output_type": "display_data"
    }
   ],
   "source": [
    "# Retorna el valor presente de el flujo de caja\n",
    "pv.uneven(r = Wacc, cf = fcn2)\n",
    "# Regresa la tasa interna de retorno del Proyecto 1\n",
    "irr(fcn2)"
   ]
  },
  {
   "cell_type": "markdown",
   "metadata": {
    "slideshow": {
     "slide_type": "subslide"
    }
   },
   "source": [
    "# Cálculo del pago del préstamo "
   ]
  },
  {
   "cell_type": "code",
   "execution_count": 72,
   "metadata": {
    "slideshow": {
     "slide_type": "fragment"
    }
   },
   "outputs": [
    {
     "data": {
      "text/html": [
       "-100966.649968732"
      ],
      "text/latex": [
       "-100966.649968732"
      ],
      "text/markdown": [
       "-100966.649968732"
      ],
      "text/plain": [
       "[1] -100966.6"
      ]
     },
     "metadata": {},
     "output_type": "display_data"
    }
   ],
   "source": [
    "# Comparación de dos estructuras de deuda utilizando la funcion PMT\n",
    "#Estructura de 50% de prestamo y 50% financiamiento propio\n",
    "pmt(r = 0.165, n = 5, pv = -326775, fv = 0, type=0)"
   ]
  },
  {
   "cell_type": "code",
   "execution_count": 73,
   "metadata": {
    "slideshow": {
     "slide_type": "fragment"
    }
   },
   "outputs": [
    {
     "data": {
      "text/html": [
       "-30290.1494801766"
      ],
      "text/latex": [
       "-30290.1494801766"
      ],
      "text/markdown": [
       "-30290.1494801766"
      ],
      "text/plain": [
       "[1] -30290.15"
      ]
     },
     "metadata": {},
     "output_type": "display_data"
    }
   ],
   "source": [
    "#Estructura de 15% de prestamo y 85% financiamiento propio.\n",
    "pmt(r = 0.165, n = 5, pv = -98033, fv = 0, type=0)"
   ]
  },
  {
   "cell_type": "markdown",
   "metadata": {
    "slideshow": {
     "slide_type": "subslide"
    }
   },
   "source": [
    "# Evaluación y selección de proyectos"
   ]
  },
  {
   "cell_type": "code",
   "execution_count": 74,
   "metadata": {
    "slideshow": {
     "slide_type": "subslide"
    }
   },
   "outputs": [
    {
     "data": {
      "text/html": [
       "<table>\n",
       "<caption>A tibble: 5 × 4</caption>\n",
       "<thead>\n",
       "\t<tr><th scope=col>AÑO</th><th scope=col>PROYECTO A</th><th scope=col>PROYECTO B</th><th scope=col>PROYECTO C</th></tr>\n",
       "\t<tr><th scope=col>&lt;dbl&gt;</th><th scope=col>&lt;dbl&gt;</th><th scope=col>&lt;dbl&gt;</th><th scope=col>&lt;dbl&gt;</th></tr>\n",
       "</thead>\n",
       "<tbody>\n",
       "\t<tr><td>0</td><td>-1e+07</td><td>-2e+07</td><td>-1.6e+07</td></tr>\n",
       "\t<tr><td>1</td><td> 0e+00</td><td> 4e+06</td><td> 5.0e+06</td></tr>\n",
       "\t<tr><td>2</td><td> 6e+06</td><td> 5e+06</td><td> 8.0e+06</td></tr>\n",
       "\t<tr><td>3</td><td> 6e+06</td><td> 6e+06</td><td> 3.0e+06</td></tr>\n",
       "\t<tr><td>4</td><td> 8e+06</td><td> 8e+06</td><td> 3.0e+06</td></tr>\n",
       "</tbody>\n",
       "</table>\n"
      ],
      "text/latex": [
       "A tibble: 5 × 4\n",
       "\\begin{tabular}{llll}\n",
       " AÑO & PROYECTO A & PROYECTO B & PROYECTO C\\\\\n",
       " <dbl> & <dbl> & <dbl> & <dbl>\\\\\n",
       "\\hline\n",
       "\t 0 & -1e+07 & -2e+07 & -1.6e+07\\\\\n",
       "\t 1 &  0e+00 &  4e+06 &  5.0e+06\\\\\n",
       "\t 2 &  6e+06 &  5e+06 &  8.0e+06\\\\\n",
       "\t 3 &  6e+06 &  6e+06 &  3.0e+06\\\\\n",
       "\t 4 &  8e+06 &  8e+06 &  3.0e+06\\\\\n",
       "\\end{tabular}\n"
      ],
      "text/markdown": [
       "\n",
       "A tibble: 5 × 4\n",
       "\n",
       "| AÑO &lt;dbl&gt; | PROYECTO A &lt;dbl&gt; | PROYECTO B &lt;dbl&gt; | PROYECTO C &lt;dbl&gt; |\n",
       "|---|---|---|---|\n",
       "| 0 | -1e+07 | -2e+07 | -1.6e+07 |\n",
       "| 1 |  0e+00 |  4e+06 |  5.0e+06 |\n",
       "| 2 |  6e+06 |  5e+06 |  8.0e+06 |\n",
       "| 3 |  6e+06 |  6e+06 |  3.0e+06 |\n",
       "| 4 |  8e+06 |  8e+06 |  3.0e+06 |\n",
       "\n"
      ],
      "text/plain": [
       "  AÑO PROYECTO A PROYECTO B PROYECTO C\n",
       "1 0   -1e+07     -2e+07     -1.6e+07  \n",
       "2 1    0e+00      4e+06      5.0e+06  \n",
       "3 2    6e+06      5e+06      8.0e+06  \n",
       "4 3    6e+06      6e+06      3.0e+06  \n",
       "5 4    8e+06      8e+06      3.0e+06  "
      ]
     },
     "metadata": {},
     "output_type": "display_data"
    },
    {
     "data": {
      "text/html": [
       "<style>\n",
       ".list-inline {list-style: none; margin:0; padding: 0}\n",
       ".list-inline>li {display: inline-block}\n",
       ".list-inline>li:not(:last-child)::after {content: \"\\00b7\"; padding: 0 .5ex}\n",
       "</style>\n",
       "<ol class=list-inline><li>-1e+07</li><li>0</li><li>6e+06</li><li>6e+06</li><li>8e+06</li></ol>\n"
      ],
      "text/latex": [
       "\\begin{enumerate*}\n",
       "\\item -1e+07\n",
       "\\item 0\n",
       "\\item 6e+06\n",
       "\\item 6e+06\n",
       "\\item 8e+06\n",
       "\\end{enumerate*}\n"
      ],
      "text/markdown": [
       "1. -1e+07\n",
       "2. 0\n",
       "3. 6e+06\n",
       "4. 6e+06\n",
       "5. 8e+06\n",
       "\n",
       "\n"
      ],
      "text/plain": [
       "[1] -1e+07  0e+00  6e+06  6e+06  8e+06"
      ]
     },
     "metadata": {},
     "output_type": "display_data"
    },
    {
     "data": {
      "text/html": [
       "<style>\n",
       ".list-inline {list-style: none; margin:0; padding: 0}\n",
       ".list-inline>li {display: inline-block}\n",
       ".list-inline>li:not(:last-child)::after {content: \"\\00b7\"; padding: 0 .5ex}\n",
       "</style>\n",
       "<ol class=list-inline><li>-2e+07</li><li>4e+06</li><li>5e+06</li><li>6e+06</li><li>8e+06</li></ol>\n"
      ],
      "text/latex": [
       "\\begin{enumerate*}\n",
       "\\item -2e+07\n",
       "\\item 4e+06\n",
       "\\item 5e+06\n",
       "\\item 6e+06\n",
       "\\item 8e+06\n",
       "\\end{enumerate*}\n"
      ],
      "text/markdown": [
       "1. -2e+07\n",
       "2. 4e+06\n",
       "3. 5e+06\n",
       "4. 6e+06\n",
       "5. 8e+06\n",
       "\n",
       "\n"
      ],
      "text/plain": [
       "[1] -2e+07  4e+06  5e+06  6e+06  8e+06"
      ]
     },
     "metadata": {},
     "output_type": "display_data"
    },
    {
     "data": {
      "text/html": [
       "<style>\n",
       ".list-inline {list-style: none; margin:0; padding: 0}\n",
       ".list-inline>li {display: inline-block}\n",
       ".list-inline>li:not(:last-child)::after {content: \"\\00b7\"; padding: 0 .5ex}\n",
       "</style>\n",
       "<ol class=list-inline><li>-1.6e+07</li><li>5e+06</li><li>8e+06</li><li>3e+06</li><li>3e+06</li></ol>\n"
      ],
      "text/latex": [
       "\\begin{enumerate*}\n",
       "\\item -1.6e+07\n",
       "\\item 5e+06\n",
       "\\item 8e+06\n",
       "\\item 3e+06\n",
       "\\item 3e+06\n",
       "\\end{enumerate*}\n"
      ],
      "text/markdown": [
       "1. -1.6e+07\n",
       "2. 5e+06\n",
       "3. 8e+06\n",
       "4. 3e+06\n",
       "5. 3e+06\n",
       "\n",
       "\n"
      ],
      "text/plain": [
       "[1] -1.6e+07  5.0e+06  8.0e+06  3.0e+06  3.0e+06"
      ]
     },
     "metadata": {},
     "output_type": "display_data"
    }
   ],
   "source": [
    "#Importamos desde excel los flujos de efectivo de 3 diferentes proyectos.\n",
    "#Cada proyecto tiene una distinta inversión inicial\n",
    "datos.desde.xls3  <- read_excel(\"Proyectos.xlsx\") \n",
    "datos.desde.xls3\n",
    "\n",
    "#Cargamos los datos de cada Proyecto\n",
    "PA=datos.desde.xls3$`PROYECTO A`\n",
    "PA\n",
    "\n",
    "PB=datos.desde.xls3$`PROYECTO B`\n",
    "PB\n",
    "\n",
    "PC=datos.desde.xls3$`PROYECTO C`\n",
    "PC"
   ]
  },
  {
   "cell_type": "code",
   "execution_count": 75,
   "metadata": {
    "slideshow": {
     "slide_type": "subslide"
    }
   },
   "outputs": [
    {
     "data": {
      "text/html": [
       "6241581.32736458"
      ],
      "text/latex": [
       "6241581.32736458"
      ],
      "text/markdown": [
       "6241581.32736458"
      ],
      "text/plain": [
       "[1] 6241581"
      ]
     },
     "metadata": {},
     "output_type": "display_data"
    },
    {
     "data": {
      "text/html": [
       "-893539.643899284"
      ],
      "text/latex": [
       "-893539.643899284"
      ],
      "text/markdown": [
       "-893539.643899284"
      ],
      "text/plain": [
       "[1] -893539.6"
      ]
     },
     "metadata": {},
     "output_type": "display_data"
    },
    {
     "data": {
      "text/html": [
       "397986.289262503"
      ],
      "text/latex": [
       "397986.289262503"
      ],
      "text/markdown": [
       "397986.289262503"
      ],
      "text/plain": [
       "[1] 397986.3"
      ]
     },
     "metadata": {},
     "output_type": "display_data"
    }
   ],
   "source": [
    "#Valor presente neto de los tres proyectos dado una tasa de descuento.\n",
    "VANPA=npv(0.07,PA)\n",
    "VANPB=npv(0.07,PB)\n",
    "VANPC=npv(0.07,PC)\n",
    "VANPA\n",
    "VANPB\n",
    "VANPC"
   ]
  },
  {
   "cell_type": "code",
   "execution_count": 76,
   "metadata": {
    "slideshow": {
     "slide_type": "skip"
    }
   },
   "outputs": [
    {
     "data": {
      "text/html": [
       "6241581.32736458"
      ],
      "text/latex": [
       "6241581.32736458"
      ],
      "text/markdown": [
       "6241581.32736458"
      ],
      "text/plain": [
       "[1] 6241581"
      ]
     },
     "metadata": {},
     "output_type": "display_data"
    }
   ],
   "source": [
    "#Un inversionista puede comparar los diferentes proyectos para decidir en cual invertir\n",
    "max(c(VANPA,VANPB,VANPC))"
   ]
  },
  {
   "cell_type": "markdown",
   "metadata": {
    "slideshow": {
     "slide_type": "skip"
    }
   },
   "source": [
    "# Media ponderada del retorno de una cartera en especifico.\n"
   ]
  },
  {
   "cell_type": "code",
   "execution_count": 77,
   "metadata": {
    "slideshow": {
     "slide_type": "skip"
    }
   },
   "outputs": [
    {
     "data": {
      "text/html": [
       "0.77"
      ],
      "text/latex": [
       "0.77"
      ],
      "text/markdown": [
       "0.77"
      ],
      "text/plain": [
       "[1] 0.77"
      ]
     },
     "metadata": {},
     "output_type": "display_data"
    }
   ],
   "source": [
    "Retornos= c(0.4,0.7,0.9)\n",
    "Portafolios = c(0.1, 0.4, 0.5)\n",
    "\n",
    "wpr(r=Retornos, w=Portafolios)"
   ]
  },
  {
   "cell_type": "markdown",
   "metadata": {
    "slideshow": {
     "slide_type": "slide"
    }
   },
   "source": [
    "# Simulacion proceso AR(1) sobre el precio de mercado de computadoras"
   ]
  },
  {
   "cell_type": "markdown",
   "metadata": {
    "slideshow": {
     "slide_type": "fragment"
    }
   },
   "source": [
    "Por ejemplo una compañia estudia la introduccion de un nuevo producto: computadoras\n",
    "\n",
    "Entre los elementos de simulacion se pueden incluir:\n",
    "\n",
    "Cantidad de unidades a producir\n",
    "\n",
    "Precio de mercado\n",
    "\n",
    "Costos unitarios de produccion\n",
    "\n",
    "Costos unitarios de venta\n",
    "\n",
    "Precio de compra de maquinaria para fabricar nuevo producto\n",
    "\n",
    "Costo de capital\n",
    "\n"
   ]
  },
  {
   "cell_type": "code",
   "execution_count": 67,
   "metadata": {
    "slideshow": {
     "slide_type": "subslide"
    }
   },
   "outputs": [],
   "source": [
    "#Parametros\n",
    "\n",
    "nSim=10000 #Numero de simulaciones\n",
    "nT=10 #Numero de periodos del cashflow\n",
    "tasa_desc=0.18 #Tasa de descuento (costo de capital)"
   ]
  },
  {
   "cell_type": "code",
   "execution_count": 68,
   "metadata": {
    "slideshow": {
     "slide_type": "subslide"
    }
   },
   "outputs": [],
   "source": [
    "#Funcion para calcular el cash flow\n",
    "\n",
    "#q= cantidad ofertada\n",
    "#p= precio de mercado del producto\n",
    "#cp= costo unitario de produccion\n",
    "#cv= costo unitario de ventas\n",
    "#kT= cambio en el capital de trabajo\n",
    "#ISR= tasa fiscal\n",
    "#dep= depreciacion de maquinaria\n",
    "\n",
    "cash_flow=function(q,p,cp,cv,kT,ISR,dep) {\n",
    "    FCN = (q*p-q*(cv+cp)-dep)*(1-ISR)+dep-kT\n",
    "    return(FCN) #Devuelve el cash flow de un periodo\n",
    "}"
   ]
  },
  {
   "cell_type": "code",
   "execution_count": 69,
   "metadata": {
    "slideshow": {
     "slide_type": "subslide"
    }
   },
   "outputs": [],
   "source": [
    "#Como no podemos definir nuestro precio de mercado, se hace un proceso AR(1) \n",
    "#sobre el precio historico del producto\n",
    "\n",
    "#Obtenemos de excel los precios historicos de computadoras \n",
    "#con una periodicidad mensual de febrero 1992 a noviembre 2019\n",
    "#un total de 334 observaciones\n",
    "\n",
    "\n",
    "Datos=read.csv(\"Precio_electronicos.csv\")\n",
    "#Definimos nuestro precio como todos los datos de la columna correspondiente a\n",
    "#los precios de computadoras\n",
    "Precio=Datos$A34HNO"
   ]
  },
  {
   "cell_type": "code",
   "execution_count": 70,
   "metadata": {
    "slideshow": {
     "slide_type": "subslide"
    }
   },
   "outputs": [
    {
     "data": {
      "image/png": "[encoded data removed]",
      "text/plain": [
       "plot without title"
      ]
     },
     "metadata": {
      "image/png": {
       "height": 420,
       "width": 420
      },
      "text/plain": {
       "height": 420,
       "width": 420
      }
     },
     "output_type": "display_data"
    }
   ],
   "source": [
    "#Graficamos los precios de las computadoras\n",
    "plot(Precio,type=\"l\",xlab=\"t\",col=\"#00aebc\")"
   ]
  },
  {
   "cell_type": "code",
   "execution_count": 71,
   "metadata": {
    "slideshow": {
     "slide_type": "subslide"
    }
   },
   "outputs": [
    {
     "data": {
      "text/plain": [
       "\n",
       "Call:\n",
       "ar.ols(x = Precio, aic = TRUE, order.max = 1)\n",
       "\n",
       "Coefficients:\n",
       "     1  \n",
       "0.9411  \n",
       "\n",
       "Intercept: 1.603 (16.15) \n",
       "\n",
       "Order selected 1  sigma^2 estimated as  86861"
      ]
     },
     "metadata": {},
     "output_type": "display_data"
    }
   ],
   "source": [
    "#Calculamos un AR(1)\n",
    "Modelo_AR= ar.ols(Precio,aic=TRUE,order.max=1)\n",
    "Modelo_AR"
   ]
  },
  {
   "cell_type": "code",
   "execution_count": 72,
   "metadata": {
    "slideshow": {
     "slide_type": "fragment"
    }
   },
   "outputs": [],
   "source": [
    "#El modelo AR(1) de los precios es: Yt= intercepto + rho*Yt-1+epsilont\n",
    "\n",
    "#Le damos el valor al intercepto del Modelo AR(1)\n",
    "intercepto=Modelo_AR$x.intercept\n",
    "\n",
    "#Le damos valor al coeficiente del Modelo AR(1)\n",
    "rho=Modelo_AR$ar\n",
    "\n",
    "#El numero de observaciones usadas para estimar el Modelo AR(1)\n",
    "obs=Modelo_AR$n.obs\n",
    "\n",
    "#Definimos a sigma del error como la desv estandar de los residuos\n",
    "sigma=sd(Modelo_AR$resid[2:obs])"
   ]
  },
  {
   "cell_type": "code",
   "execution_count": 73,
   "metadata": {
    "slideshow": {
     "slide_type": "subslide"
    }
   },
   "outputs": [
    {
     "data": {
      "text/html": [
       "3416.65130660518"
      ],
      "text/latex": [
       "3416.65130660518"
      ],
      "text/markdown": [
       "3416.65130660518"
      ],
      "text/plain": [
       ", , 1\n",
       "\n",
       "         [,1]\n",
       "[1,] 3416.651\n"
      ]
     },
     "metadata": {},
     "output_type": "display_data"
    }
   ],
   "source": [
    "#Funcion para simular el precio de computadoras\n",
    "simular_AR1=function(intercept,rho_sim){\n",
    "    epsilon_sim=rnorm(1,mean=0,sd=sigma) #Simulamos epsilon\n",
    "    y=intercept+rho_sim*Precio[obs]+epsilon_sim\n",
    "    \n",
    "    return(y)\n",
    "}\n",
    "\n",
    "Precio_sim=simular_AR1(intercepto,rho)\n",
    "Precio_sim"
   ]
  },
  {
   "cell_type": "markdown",
   "metadata": {
    "slideshow": {
     "slide_type": "slide"
    }
   },
   "source": [
    "# SIMULACION DE VPNs DE DISTINTOS ESCENARIOS DEL PROYECTO "
   ]
  },
  {
   "cell_type": "code",
   "execution_count": 74,
   "metadata": {
    "slideshow": {
     "slide_type": "fragment"
    }
   },
   "outputs": [],
   "source": [
    "#Vector vacio donde se van a guardar los VPNs\n",
    "vec_vpn=rep(NaN,nSim)\n",
    "\n",
    "#Vector vacio donde se van a guardar las diferentes inversiones iniciales\n",
    "inv_inic= rep(NaN,nSim)"
   ]
  },
  {
   "cell_type": "code",
   "execution_count": 75,
   "metadata": {
    "slideshow": {
     "slide_type": "subslide"
    }
   },
   "outputs": [],
   "source": [
    "#Para cada simulacion\n",
    "for (t in 1:nSim){\n",
    "    #Sabemos que nuestra inversion inicial estara entre 100,000 y 1,000,000\n",
    "    inv_inic[t]=sample(100000:1000000,1) #Simulamos la inversion inicial\n",
    "    #Vector vacio en donde se va a guardar cada cashflow por el numero de periodos nT\n",
    "    vec_cashflow=rep(NaN,nT)\n",
    "    #El primer elemento del cashflow va a ser la inversion inicial pero en negativo\n",
    "    vec_cashflow[1]=-inv_inic[t]\n",
    "    #La depreciacion es el 20% de la inversion (maquinaria que vamos a comprar)\n",
    "    depreciacion=-vec_cashflow[1]*0.2\n",
    "    #El impuesto\n",
    "    ISR=0.25\n",
    "    for (i in 2:nT){\n",
    "        #Simulamos las siguientes variables:\n",
    "        #Sabemos que la cantidad del producto a ofertar va a estar entre 1,000 y 700 unidades al año\n",
    "        q=cantidad=sample(100:700,1)\n",
    "        #Sabemos el rango de nuestro cambio en el capital de trabajo\n",
    "        ckt=cambio_Ktrabajo=sample(-2000:2000,1)\n",
    "        #Como no podemos definir nuestro precio de mercado, se simula el precio de mercado\n",
    "        p=simular_AR1(intercepto,rho)\n",
    "        #Sabemos que nuestro costo unitario de produccion es el 60% del precio\n",
    "        cp=costo_unitario_prod=0.60*p\n",
    "        #Sabemos que nuestro costo unitario de venta es el 25% del precio\n",
    "        cv=costo_unitario_venta=0.25*p\n",
    "        #Cada cashflow se agrega al vector de cash flows de nT periodos\n",
    "        vec_cashflow[i]=cash_flow(q,p,cp,cv,ckt,ISR,depreciacion)\n",
    "    }\n",
    "    #Se calcula el VPN para cada vector de cashflows para 10,000 simulaciones\n",
    "    vec_vpn[t]=npv(r=tasa_desc,cf=vec_cashflow)\n",
    "}"
   ]
  },
  {
   "cell_type": "code",
   "execution_count": 76,
   "metadata": {
    "slideshow": {
     "slide_type": "skip"
    }
   },
   "outputs": [
    {
     "data": {
      "text/html": [
       "<style>\n",
       ".list-inline {list-style: none; margin:0; padding: 0}\n",
       ".list-inline>li {display: inline-block}\n",
       ".list-inline>li:not(:last-child)::after {content: \"\\00b7\"; padding: 0 .5ex}\n",
       "</style>\n",
       "<ol class=list-inline><li>148037.268194854</li><li>240839.171905856</li><li>592850.086671686</li><li>344677.758210731</li><li>455954.710467969</li><li>174295.813581711</li><li>226473.284021029</li><li>48163.3299491333</li><li>393157.447135387</li><li>75501.064196175</li><li>475581.482038014</li><li>714813.128224557</li><li>441621.746503878</li><li>200551.675176984</li><li>668821.807729255</li><li>-53107.8221822756</li><li>216171.421107857</li><li>336580.970894833</li><li>340105.006972457</li><li>337590.475949887</li><li>520525.385452647</li><li>194563.271883159</li><li>286875.257750688</li><li>170505.40826365</li><li>257854.067932017</li><li>-303650.636629394</li><li>285717.062971595</li><li>627842.327801924</li><li>279456.770236945</li><li>159630.680335777</li><li>296155.079066854</li><li>140311.351472149</li><li>220206.388420882</li><li>574473.239810059</li><li>400968.317368578</li><li>448812.358403865</li><li>611163.796941629</li><li>637274.952048176</li><li>33537.6108498099</li><li>103048.071052979</li><li>66715.0799454799</li><li>269841.497697008</li><li>560165.702003099</li><li>387225.941815641</li><li>274251.90786208</li><li>97919.8631372127</li><li>455041.799806083</li><li>352849.694192551</li><li>93180.2499446246</li><li>396297.978713922</li><li>-106709.809367106</li><li>595924.927818038</li><li>138074.168165888</li><li>691647.801387755</li><li>452000.840475032</li><li>419858.358862554</li><li>301634.89091621</li><li>664546.028064479</li><li>376787.662522963</li><li>-178746.557071402</li><li>153589.687001264</li><li>640961.901670122</li><li>208043.890193355</li><li>268631.659280292</li><li>286928.421164313</li><li>10151.6367996826</li><li>89797.8771764571</li><li>198296.71344408</li><li>24967.3724092627</li><li>132136.097370002</li><li>380208.695573366</li><li>637274.063748384</li><li>70754.1942996628</li><li>277881.458091219</li><li>680339.920881467</li><li>221598.302352092</li><li>104092.250713095</li><li>150376.140224123</li><li>226903.130585229</li><li>150767.062749241</li><li>107230.063413952</li><li>470976.292081253</li><li>427018.460070127</li><li>319917.770494659</li><li>346661.41526721</li><li>334496.754668151</li><li>596180.773724574</li><li>524810.268767764</li><li>267292.091964547</li><li>668761.531685048</li><li>-271571.86967289</li><li>438691.444969639</li><li>159368.74727452</li><li>398959.769441133</li><li>564709.811152593</li><li>306348.312164715</li><li>347342.059498224</li><li>583435.042770836</li><li>199486.883660807</li><li>51653.1400327653</li><li>-130166.450934139</li><li>119961.956633554</li><li>66859.6542540258</li><li>85725.5626307713</li><li>-138993.56879557</li><li>466094.99470442</li><li>214496.91409489</li><li>32882.8429140445</li><li>342197.291414364</li><li>-68458.8474421803</li><li>37086.449513715</li><li>575466.933535254</li><li>375754.89517091</li><li>92848.0401107346</li><li>162152.184957831</li><li>401292.225841062</li><li>438637.699430648</li><li>190711.094443782</li><li>-19477.9958639953</li><li>464997.258449483</li><li>353948.400083773</li><li>239733.334694696</li><li>248680.245217563</li><li>403593.135345037</li><li>240807.907305708</li><li>839403.305200595</li><li>592369.652486881</li><li>410565.769510881</li><li>414724.898826159</li><li>153788.105422394</li><li>384912.162420665</li><li>617897.430227341</li><li>-81091.2733539512</li><li>45216.6249250831</li><li>330506.410203201</li><li>383384.287068141</li><li>222263.884656647</li><li>50676.7043792753</li><li>734259.113083852</li><li>-122784.863423016</li><li>336657.021221888</li><li>54629.9589885717</li><li>304399.28889241</li><li>75520.9771571358</li><li>393783.297568728</li><li>317106.816108003</li><li>105070.046939019</li><li>362205.229954837</li><li>-207936.926804672</li><li>309255.770245556</li><li>268157.971078386</li><li>3455.79748183803</li><li>-26341.7112127763</li><li>590838.447234706</li><li>115045.844046696</li><li>536497.559733067</li><li>528664.278070416</li><li>473507.313176292</li><li>214955.320693694</li><li>387659.300565462</li><li>372403.005919132</li><li>252924.81691409</li><li>383779.157548653</li><li>174825.006042313</li><li>289321.438678521</li><li>206730.13567414</li><li>560267.939098335</li><li>40105.5813534972</li><li>467484.654913369</li><li>97773.7287775016</li><li>116882.093991595</li><li>356145.621242442</li><li>410594.764169302</li><li>235423.667972123</li><li>318995.900724636</li><li>123624.8638186</li><li>424919.030057019</li><li>684786.100908073</li><li>371391.788678637</li><li>651384.503175866</li><li>-16882.3245901825</li><li>43908.4471991172</li><li>61430.4967477772</li><li>180676.134515089</li><li>205470.284085365</li><li>124879.830880301</li><li>350545.670836422</li><li>187512.342164695</li><li>395675.151719959</li><li>-38225.4244682782</li><li>-19724.8349568457</li><li>631370.93581767</li><li>747352.589350928</li><li>322591.84381765</li><li>571114.767569074</li><li>636243.472440197</li><li>-101637.303129676</li><li>152566.521132568</li><li>480877.384830737</li><li>95978.2360421744</li><li>...</li><li>452813.632073834</li><li>303730.517307853</li><li>180896.292474847</li><li>427417.816193195</li><li>-21456.6121221015</li><li>118740.404261477</li><li>536332.552583274</li><li>80744.0655051811</li><li>615674.97835778</li><li>192638.360472196</li><li>379227.658756389</li><li>271009.387395454</li><li>461603.743186332</li><li>320643.961157087</li><li>-64865.2294865623</li><li>583777.485964485</li><li>155295.63297261</li><li>302544.114317587</li><li>350997.281664032</li><li>222523.479283245</li><li>445935.900972946</li><li>452187.07796699</li><li>226005.639987611</li><li>489499.731935738</li><li>63307.0339739604</li><li>269803.174539748</li><li>674456.545443732</li><li>309917.113201521</li><li>351524.936876127</li><li>89895.5677654453</li><li>25589.8774922213</li><li>-4223.76521748188</li><li>320044.052019258</li><li>-121713.488524169</li><li>547073.852728425</li><li>151512.71773476</li><li>253337.797678064</li><li>293456.976151336</li><li>186424.5250672</li><li>582741.541983709</li><li>361287.476303773</li><li>512019.660312</li><li>237270.775594174</li><li>573804.074674779</li><li>634395.684702321</li><li>556772.657959987</li><li>-85228.331515702</li><li>576563.444672069</li><li>516225.33413215</li><li>349618.276172747</li><li>88984.6158836146</li><li>483152.919090255</li><li>71245.8743540364</li><li>49498.2531274706</li><li>-48070.2695749735</li><li>1558.31501520192</li><li>225759.542896353</li><li>388483.857682413</li><li>475568.397865576</li><li>454704.303205857</li><li>47474.5951806089</li><li>702844.872611644</li><li>577513.846110585</li><li>156626.401002208</li><li>38755.3149498783</li><li>397498.659058562</li><li>589122.473497432</li><li>139168.634856466</li><li>521368.038618745</li><li>277048.574988021</li><li>-153624.914823303</li><li>27735.7013506957</li><li>551728.726736093</li><li>15811.2721521233</li><li>309202.549032074</li><li>-58883.515569473</li><li>-39660.4005184672</li><li>394907.422615487</li><li>232816.075313837</li><li>380355.966866771</li><li>-183605.379458798</li><li>394271.719896775</li><li>528883.418481673</li><li>193737.923936609</li><li>-179001.875481235</li><li>40430.1501923387</li><li>422213.431244525</li><li>581151.498616265</li><li>700080.715101781</li><li>93533.1948023166</li><li>523689.84051741</li><li>321216.235642743</li><li>601937.523087512</li><li>291736.979764997</li><li>718335.464295361</li><li>706847.014449451</li><li>332747.561523227</li><li>91615.2176637833</li><li>407383.397526728</li><li>398085.536694742</li><li>459783.288420415</li><li>233715.075115846</li><li>-106095.168325475</li><li>228813.012086636</li><li>250853.027652275</li><li>-49226.1547966806</li><li>-60062.4102348407</li><li>-14761.6278111894</li><li>302269.540769215</li><li>221105.477868403</li><li>-109176.083284547</li><li>270446.353773068</li><li>-86673.0416732972</li><li>468198.980950017</li><li>654990.206498905</li><li>228086.239298673</li><li>580744.382433847</li><li>-122318.426137572</li><li>295425.332881213</li><li>287761.299228778</li><li>411214.684558944</li><li>170968.057994097</li><li>332563.207593067</li><li>116801.774356495</li><li>162974.172439607</li><li>562076.256350863</li><li>426838.73311869</li><li>455573.596507995</li><li>87801.1165868802</li><li>409001.919773079</li><li>110065.047469661</li><li>511302.252236815</li><li>11851.2005192423</li><li>59009.558197167</li><li>-57181.2845943265</li><li>188582.802669109</li><li>420596.088083886</li><li>507413.157819787</li><li>447351.189961273</li><li>-6851.56002269057</li><li>-158137.203342971</li><li>102405.933918168</li><li>256175.629420106</li><li>324484.183054778</li><li>529365.085122815</li><li>392271.668105014</li><li>677707.550991659</li><li>74104.6743768697</li><li>226245.805071059</li><li>-129185.373305777</li><li>283765.799408076</li><li>230274.090735698</li><li>452953.429484918</li><li>527223.334981364</li><li>516622.522014876</li><li>-185516.990609714</li><li>405823.523210983</li><li>361561.366060495</li><li>535640.99910394</li><li>-156334.897846202</li><li>671233.047991055</li><li>618751.09729352</li><li>251306.266354374</li><li>667199.292948348</li><li>251117.638435845</li><li>102815.375077562</li><li>145422.2880367</li><li>434967.071405668</li><li>385667.225617229</li><li>189182.276171775</li><li>162222.825981061</li><li>180170.906977735</li><li>408231.324905106</li><li>403270.175945621</li><li>285680.945062411</li><li>222176.807672213</li><li>545501.516229131</li><li>132635.719381462</li><li>506788.762733339</li><li>9993.39251212508</li><li>154617.243333605</li><li>255002.067829783</li><li>194258.358859186</li><li>397757.281845784</li><li>481957.631353008</li><li>-112912.886794105</li><li>484830.568863876</li><li>-27037.6316034535</li><li>171077.652082321</li><li>-39353.4277979094</li><li>537661.110324479</li><li>58561.6933512671</li><li>37219.3334527198</li><li>41096.1973717713</li><li>4771.41980663547</li><li>275993.869410269</li><li>-52003.2949708626</li><li>-25497.2715985783</li><li>23464.2340033199</li><li>-38430.1081013104</li></ol>\n"
      ],
      "text/latex": [
       "\\begin{enumerate*}\n",
       "\\item 148037.268194854\n",
       "\\item 240839.171905856\n",
       "\\item 592850.086671686\n",
       "\\item 344677.758210731\n",
       "\\item 455954.710467969\n",
       "\\item 174295.813581711\n",
       "\\item 226473.284021029\n",
       "\\item 48163.3299491333\n",
       "\\item 393157.447135387\n",
       "\\item 75501.064196175\n",
       "\\item 475581.482038014\n",
       "\\item 714813.128224557\n",
       "\\item 441621.746503878\n",
       "\\item 200551.675176984\n",
       "\\item 668821.807729255\n",
       "\\item -53107.8221822756\n",
       "\\item 216171.421107857\n",
       "\\item 336580.970894833\n",
       "\\item 340105.006972457\n",
       "\\item 337590.475949887\n",
       "\\item 520525.385452647\n",
       "\\item 194563.271883159\n",
       "\\item 286875.257750688\n",
       "\\item 170505.40826365\n",
       "\\item 257854.067932017\n",
       "\\item -303650.636629394\n",
       "\\item 285717.062971595\n",
       "\\item 627842.327801924\n",
       "\\item 279456.770236945\n",
       "\\item 159630.680335777\n",
       "\\item 296155.079066854\n",
       "\\item 140311.351472149\n",
       "\\item 220206.388420882\n",
       "\\item 574473.239810059\n",
       "\\item 400968.317368578\n",
       "\\item 448812.358403865\n",
       "\\item 611163.796941629\n",
       "\\item 637274.952048176\n",
       "\\item 33537.6108498099\n",
       "\\item 103048.071052979\n",
       "\\item 66715.0799454799\n",
       "\\item 269841.497697008\n",
       "\\item 560165.702003099\n",
       "\\item 387225.941815641\n",
       "\\item 274251.90786208\n",
       "\\item 97919.8631372127\n",
       "\\item 455041.799806083\n",
       "\\item 352849.694192551\n",
       "\\item 93180.2499446246\n",
       "\\item 396297.978713922\n",
       "\\item -106709.809367106\n",
       "\\item 595924.927818038\n",
       "\\item 138074.168165888\n",
       "\\item 691647.801387755\n",
       "\\item 452000.840475032\n",
       "\\item 419858.358862554\n",
       "\\item 301634.89091621\n",
       "\\item 664546.028064479\n",
       "\\item 376787.662522963\n",
       "\\item -178746.557071402\n",
       "\\item 153589.687001264\n",
       "\\item 640961.901670122\n",
       "\\item 208043.890193355\n",
       "\\item 268631.659280292\n",
       "\\item 286928.421164313\n",
       "\\item 10151.6367996826\n",
       "\\item 89797.8771764571\n",
       "\\item 198296.71344408\n",
       "\\item 24967.3724092627\n",
       "\\item 132136.097370002\n",
       "\\item 380208.695573366\n",
       "\\item 637274.063748384\n",
       "\\item 70754.1942996628\n",
       "\\item 277881.458091219\n",
       "\\item 680339.920881467\n",
       "\\item 221598.302352092\n",
       "\\item 104092.250713095\n",
       "\\item 150376.140224123\n",
       "\\item 226903.130585229\n",
       "\\item 150767.062749241\n",
       "\\item 107230.063413952\n",
       "\\item 470976.292081253\n",
       "\\item 427018.460070127\n",
       "\\item 319917.770494659\n",
       "\\item 346661.41526721\n",
       "\\item 334496.754668151\n",
       "\\item 596180.773724574\n",
       "\\item 524810.268767764\n",
       "\\item 267292.091964547\n",
       "\\item 668761.531685048\n",
       "\\item -271571.86967289\n",
       "\\item 438691.444969639\n",
       "\\item 159368.74727452\n",
       "\\item 398959.769441133\n",
       "\\item 564709.811152593\n",
       "\\item 306348.312164715\n",
       "\\item 347342.059498224\n",
       "\\item 583435.042770836\n",
       "\\item 199486.883660807\n",
       "\\item 51653.1400327653\n",
       "\\item -130166.450934139\n",
       "\\item 119961.956633554\n",
       "\\item 66859.6542540258\n",
       "\\item 85725.5626307713\n",
       "\\item -138993.56879557\n",
       "\\item 466094.99470442\n",
       "\\item 214496.91409489\n",
       "\\item 32882.8429140445\n",
       "\\item 342197.291414364\n",
       "\\item -68458.8474421803\n",
       "\\item 37086.449513715\n",
       "\\item 575466.933535254\n",
       "\\item 375754.89517091\n",
       "\\item 92848.0401107346\n",
       "\\item 162152.184957831\n",
       "\\item 401292.225841062\n",
       "\\item 438637.699430648\n",
       "\\item 190711.094443782\n",
       "\\item -19477.9958639953\n",
       "\\item 464997.258449483\n",
       "\\item 353948.400083773\n",
       "\\item 239733.334694696\n",
       "\\item 248680.245217563\n",
       "\\item 403593.135345037\n",
       "\\item 240807.907305708\n",
       "\\item 839403.305200595\n",
       "\\item 592369.652486881\n",
       "\\item 410565.769510881\n",
       "\\item 414724.898826159\n",
       "\\item 153788.105422394\n",
       "\\item 384912.162420665\n",
       "\\item 617897.430227341\n",
       "\\item -81091.2733539512\n",
       "\\item 45216.6249250831\n",
       "\\item 330506.410203201\n",
       "\\item 383384.287068141\n",
       "\\item 222263.884656647\n",
       "\\item 50676.7043792753\n",
       "\\item 734259.113083852\n",
       "\\item -122784.863423016\n",
       "\\item 336657.021221888\n",
       "\\item 54629.9589885717\n",
       "\\item 304399.28889241\n",
       "\\item 75520.9771571358\n",
       "\\item 393783.297568728\n",
       "\\item 317106.816108003\n",
       "\\item 105070.046939019\n",
       "\\item 362205.229954837\n",
       "\\item -207936.926804672\n",
       "\\item 309255.770245556\n",
       "\\item 268157.971078386\n",
       "\\item 3455.79748183803\n",
       "\\item -26341.7112127763\n",
       "\\item 590838.447234706\n",
       "\\item 115045.844046696\n",
       "\\item 536497.559733067\n",
       "\\item 528664.278070416\n",
       "\\item 473507.313176292\n",
       "\\item 214955.320693694\n",
       "\\item 387659.300565462\n",
       "\\item 372403.005919132\n",
       "\\item 252924.81691409\n",
       "\\item 383779.157548653\n",
       "\\item 174825.006042313\n",
       "\\item 289321.438678521\n",
       "\\item 206730.13567414\n",
       "\\item 560267.939098335\n",
       "\\item 40105.5813534972\n",
       "\\item 467484.654913369\n",
       "\\item 97773.7287775016\n",
       "\\item 116882.093991595\n",
       "\\item 356145.621242442\n",
       "\\item 410594.764169302\n",
       "\\item 235423.667972123\n",
       "\\item 318995.900724636\n",
       "\\item 123624.8638186\n",
       "\\item 424919.030057019\n",
       "\\item 684786.100908073\n",
       "\\item 371391.788678637\n",
       "\\item 651384.503175866\n",
       "\\item -16882.3245901825\n",
       "\\item 43908.4471991172\n",
       "\\item 61430.4967477772\n",
       "\\item 180676.134515089\n",
       "\\item 205470.284085365\n",
       "\\item 124879.830880301\n",
       "\\item 350545.670836422\n",
       "\\item 187512.342164695\n",
       "\\item 395675.151719959\n",
       "\\item -38225.4244682782\n",
       "\\item -19724.8349568457\n",
       "\\item 631370.93581767\n",
       "\\item 747352.589350928\n",
       "\\item 322591.84381765\n",
       "\\item 571114.767569074\n",
       "\\item 636243.472440197\n",
       "\\item -101637.303129676\n",
       "\\item 152566.521132568\n",
       "\\item 480877.384830737\n",
       "\\item 95978.2360421744\n",
       "\\item ...\n",
       "\\item 452813.632073834\n",
       "\\item 303730.517307853\n",
       "\\item 180896.292474847\n",
       "\\item 427417.816193195\n",
       "\\item -21456.6121221015\n",
       "\\item 118740.404261477\n",
       "\\item 536332.552583274\n",
       "\\item 80744.0655051811\n",
       "\\item 615674.97835778\n",
       "\\item 192638.360472196\n",
       "\\item 379227.658756389\n",
       "\\item 271009.387395454\n",
       "\\item 461603.743186332\n",
       "\\item 320643.961157087\n",
       "\\item -64865.2294865623\n",
       "\\item 583777.485964485\n",
       "\\item 155295.63297261\n",
       "\\item 302544.114317587\n",
       "\\item 350997.281664032\n",
       "\\item 222523.479283245\n",
       "\\item 445935.900972946\n",
       "\\item 452187.07796699\n",
       "\\item 226005.639987611\n",
       "\\item 489499.731935738\n",
       "\\item 63307.0339739604\n",
       "\\item 269803.174539748\n",
       "\\item 674456.545443732\n",
       "\\item 309917.113201521\n",
       "\\item 351524.936876127\n",
       "\\item 89895.5677654453\n",
       "\\item 25589.8774922213\n",
       "\\item -4223.76521748188\n",
       "\\item 320044.052019258\n",
       "\\item -121713.488524169\n",
       "\\item 547073.852728425\n",
       "\\item 151512.71773476\n",
       "\\item 253337.797678064\n",
       "\\item 293456.976151336\n",
       "\\item 186424.5250672\n",
       "\\item 582741.541983709\n",
       "\\item 361287.476303773\n",
       "\\item 512019.660312\n",
       "\\item 237270.775594174\n",
       "\\item 573804.074674779\n",
       "\\item 634395.684702321\n",
       "\\item 556772.657959987\n",
       "\\item -85228.331515702\n",
       "\\item 576563.444672069\n",
       "\\item 516225.33413215\n",
       "\\item 349618.276172747\n",
       "\\item 88984.6158836146\n",
       "\\item 483152.919090255\n",
       "\\item 71245.8743540364\n",
       "\\item 49498.2531274706\n",
       "\\item -48070.2695749735\n",
       "\\item 1558.31501520192\n",
       "\\item 225759.542896353\n",
       "\\item 388483.857682413\n",
       "\\item 475568.397865576\n",
       "\\item 454704.303205857\n",
       "\\item 47474.5951806089\n",
       "\\item 702844.872611644\n",
       "\\item 577513.846110585\n",
       "\\item 156626.401002208\n",
       "\\item 38755.3149498783\n",
       "\\item 397498.659058562\n",
       "\\item 589122.473497432\n",
       "\\item 139168.634856466\n",
       "\\item 521368.038618745\n",
       "\\item 277048.574988021\n",
       "\\item -153624.914823303\n",
       "\\item 27735.7013506957\n",
       "\\item 551728.726736093\n",
       "\\item 15811.2721521233\n",
       "\\item 309202.549032074\n",
       "\\item -58883.515569473\n",
       "\\item -39660.4005184672\n",
       "\\item 394907.422615487\n",
       "\\item 232816.075313837\n",
       "\\item 380355.966866771\n",
       "\\item -183605.379458798\n",
       "\\item 394271.719896775\n",
       "\\item 528883.418481673\n",
       "\\item 193737.923936609\n",
       "\\item -179001.875481235\n",
       "\\item 40430.1501923387\n",
       "\\item 422213.431244525\n",
       "\\item 581151.498616265\n",
       "\\item 700080.715101781\n",
       "\\item 93533.1948023166\n",
       "\\item 523689.84051741\n",
       "\\item 321216.235642743\n",
       "\\item 601937.523087512\n",
       "\\item 291736.979764997\n",
       "\\item 718335.464295361\n",
       "\\item 706847.014449451\n",
       "\\item 332747.561523227\n",
       "\\item 91615.2176637833\n",
       "\\item 407383.397526728\n",
       "\\item 398085.536694742\n",
       "\\item 459783.288420415\n",
       "\\item 233715.075115846\n",
       "\\item -106095.168325475\n",
       "\\item 228813.012086636\n",
       "\\item 250853.027652275\n",
       "\\item -49226.1547966806\n",
       "\\item -60062.4102348407\n",
       "\\item -14761.6278111894\n",
       "\\item 302269.540769215\n",
       "\\item 221105.477868403\n",
       "\\item -109176.083284547\n",
       "\\item 270446.353773068\n",
       "\\item -86673.0416732972\n",
       "\\item 468198.980950017\n",
       "\\item 654990.206498905\n",
       "\\item 228086.239298673\n",
       "\\item 580744.382433847\n",
       "\\item -122318.426137572\n",
       "\\item 295425.332881213\n",
       "\\item 287761.299228778\n",
       "\\item 411214.684558944\n",
       "\\item 170968.057994097\n",
       "\\item 332563.207593067\n",
       "\\item 116801.774356495\n",
       "\\item 162974.172439607\n",
       "\\item 562076.256350863\n",
       "\\item 426838.73311869\n",
       "\\item 455573.596507995\n",
       "\\item 87801.1165868802\n",
       "\\item 409001.919773079\n",
       "\\item 110065.047469661\n",
       "\\item 511302.252236815\n",
       "\\item 11851.2005192423\n",
       "\\item 59009.558197167\n",
       "\\item -57181.2845943265\n",
       "\\item 188582.802669109\n",
       "\\item 420596.088083886\n",
       "\\item 507413.157819787\n",
       "\\item 447351.189961273\n",
       "\\item -6851.56002269057\n",
       "\\item -158137.203342971\n",
       "\\item 102405.933918168\n",
       "\\item 256175.629420106\n",
       "\\item 324484.183054778\n",
       "\\item 529365.085122815\n",
       "\\item 392271.668105014\n",
       "\\item 677707.550991659\n",
       "\\item 74104.6743768697\n",
       "\\item 226245.805071059\n",
       "\\item -129185.373305777\n",
       "\\item 283765.799408076\n",
       "\\item 230274.090735698\n",
       "\\item 452953.429484918\n",
       "\\item 527223.334981364\n",
       "\\item 516622.522014876\n",
       "\\item -185516.990609714\n",
       "\\item 405823.523210983\n",
       "\\item 361561.366060495\n",
       "\\item 535640.99910394\n",
       "\\item -156334.897846202\n",
       "\\item 671233.047991055\n",
       "\\item 618751.09729352\n",
       "\\item 251306.266354374\n",
       "\\item 667199.292948348\n",
       "\\item 251117.638435845\n",
       "\\item 102815.375077562\n",
       "\\item 145422.2880367\n",
       "\\item 434967.071405668\n",
       "\\item 385667.225617229\n",
       "\\item 189182.276171775\n",
       "\\item 162222.825981061\n",
       "\\item 180170.906977735\n",
       "\\item 408231.324905106\n",
       "\\item 403270.175945621\n",
       "\\item 285680.945062411\n",
       "\\item 222176.807672213\n",
       "\\item 545501.516229131\n",
       "\\item 132635.719381462\n",
       "\\item 506788.762733339\n",
       "\\item 9993.39251212508\n",
       "\\item 154617.243333605\n",
       "\\item 255002.067829783\n",
       "\\item 194258.358859186\n",
       "\\item 397757.281845784\n",
       "\\item 481957.631353008\n",
       "\\item -112912.886794105\n",
       "\\item 484830.568863876\n",
       "\\item -27037.6316034535\n",
       "\\item 171077.652082321\n",
       "\\item -39353.4277979094\n",
       "\\item 537661.110324479\n",
       "\\item 58561.6933512671\n",
       "\\item 37219.3334527198\n",
       "\\item 41096.1973717713\n",
       "\\item 4771.41980663547\n",
       "\\item 275993.869410269\n",
       "\\item -52003.2949708626\n",
       "\\item -25497.2715985783\n",
       "\\item 23464.2340033199\n",
       "\\item -38430.1081013104\n",
       "\\end{enumerate*}\n"
      ],
      "text/markdown": [
       "1. 148037.268194854\n",
       "2. 240839.171905856\n",
       "3. 592850.086671686\n",
       "4. 344677.758210731\n",
       "5. 455954.710467969\n",
       "6. 174295.813581711\n",
       "7. 226473.284021029\n",
       "8. 48163.3299491333\n",
       "9. 393157.447135387\n",
       "10. 75501.064196175\n",
       "11. 475581.482038014\n",
       "12. 714813.128224557\n",
       "13. 441621.746503878\n",
       "14. 200551.675176984\n",
       "15. 668821.807729255\n",
       "16. -53107.8221822756\n",
       "17. 216171.421107857\n",
       "18. 336580.970894833\n",
       "19. 340105.006972457\n",
       "20. 337590.475949887\n",
       "21. 520525.385452647\n",
       "22. 194563.271883159\n",
       "23. 286875.257750688\n",
       "24. 170505.40826365\n",
       "25. 257854.067932017\n",
       "26. -303650.636629394\n",
       "27. 285717.062971595\n",
       "28. 627842.327801924\n",
       "29. 279456.770236945\n",
       "30. 159630.680335777\n",
       "31. 296155.079066854\n",
       "32. 140311.351472149\n",
       "33. 220206.388420882\n",
       "34. 574473.239810059\n",
       "35. 400968.317368578\n",
       "36. 448812.358403865\n",
       "37. 611163.796941629\n",
       "38. 637274.952048176\n",
       "39. 33537.6108498099\n",
       "40. 103048.071052979\n",
       "41. 66715.0799454799\n",
       "42. 269841.497697008\n",
       "43. 560165.702003099\n",
       "44. 387225.941815641\n",
       "45. 274251.90786208\n",
       "46. 97919.8631372127\n",
       "47. 455041.799806083\n",
       "48. 352849.694192551\n",
       "49. 93180.2499446246\n",
       "50. 396297.978713922\n",
       "51. -106709.809367106\n",
       "52. 595924.927818038\n",
       "53. 138074.168165888\n",
       "54. 691647.801387755\n",
       "55. 452000.840475032\n",
       "56. 419858.358862554\n",
       "57. 301634.89091621\n",
       "58. 664546.028064479\n",
       "59. 376787.662522963\n",
       "60. -178746.557071402\n",
       "61. 153589.687001264\n",
       "62. 640961.901670122\n",
       "63. 208043.890193355\n",
       "64. 268631.659280292\n",
       "65. 286928.421164313\n",
       "66. 10151.6367996826\n",
       "67. 89797.8771764571\n",
       "68. 198296.71344408\n",
       "69. 24967.3724092627\n",
       "70. 132136.097370002\n",
       "71. 380208.695573366\n",
       "72. 637274.063748384\n",
       "73. 70754.1942996628\n",
       "74. 277881.458091219\n",
       "75. 680339.920881467\n",
       "76. 221598.302352092\n",
       "77. 104092.250713095\n",
       "78. 150376.140224123\n",
       "79. 226903.130585229\n",
       "80. 150767.062749241\n",
       "81. 107230.063413952\n",
       "82. 470976.292081253\n",
       "83. 427018.460070127\n",
       "84. 319917.770494659\n",
       "85. 346661.41526721\n",
       "86. 334496.754668151\n",
       "87. 596180.773724574\n",
       "88. 524810.268767764\n",
       "89. 267292.091964547\n",
       "90. 668761.531685048\n",
       "91. -271571.86967289\n",
       "92. 438691.444969639\n",
       "93. 159368.74727452\n",
       "94. 398959.769441133\n",
       "95. 564709.811152593\n",
       "96. 306348.312164715\n",
       "97. 347342.059498224\n",
       "98. 583435.042770836\n",
       "99. 199486.883660807\n",
       "100. 51653.1400327653\n",
       "101. -130166.450934139\n",
       "102. 119961.956633554\n",
       "103. 66859.6542540258\n",
       "104. 85725.5626307713\n",
       "105. -138993.56879557\n",
       "106. 466094.99470442\n",
       "107. 214496.91409489\n",
       "108. 32882.8429140445\n",
       "109. 342197.291414364\n",
       "110. -68458.8474421803\n",
       "111. 37086.449513715\n",
       "112. 575466.933535254\n",
       "113. 375754.89517091\n",
       "114. 92848.0401107346\n",
       "115. 162152.184957831\n",
       "116. 401292.225841062\n",
       "117. 438637.699430648\n",
       "118. 190711.094443782\n",
       "119. -19477.9958639953\n",
       "120. 464997.258449483\n",
       "121. 353948.400083773\n",
       "122. 239733.334694696\n",
       "123. 248680.245217563\n",
       "124. 403593.135345037\n",
       "125. 240807.907305708\n",
       "126. 839403.305200595\n",
       "127. 592369.652486881\n",
       "128. 410565.769510881\n",
       "129. 414724.898826159\n",
       "130. 153788.105422394\n",
       "131. 384912.162420665\n",
       "132. 617897.430227341\n",
       "133. -81091.2733539512\n",
       "134. 45216.6249250831\n",
       "135. 330506.410203201\n",
       "136. 383384.287068141\n",
       "137. 222263.884656647\n",
       "138. 50676.7043792753\n",
       "139. 734259.113083852\n",
       "140. -122784.863423016\n",
       "141. 336657.021221888\n",
       "142. 54629.9589885717\n",
       "143. 304399.28889241\n",
       "144. 75520.9771571358\n",
       "145. 393783.297568728\n",
       "146. 317106.816108003\n",
       "147. 105070.046939019\n",
       "148. 362205.229954837\n",
       "149. -207936.926804672\n",
       "150. 309255.770245556\n",
       "151. 268157.971078386\n",
       "152. 3455.79748183803\n",
       "153. -26341.7112127763\n",
       "154. 590838.447234706\n",
       "155. 115045.844046696\n",
       "156. 536497.559733067\n",
       "157. 528664.278070416\n",
       "158. 473507.313176292\n",
       "159. 214955.320693694\n",
       "160. 387659.300565462\n",
       "161. 372403.005919132\n",
       "162. 252924.81691409\n",
       "163. 383779.157548653\n",
       "164. 174825.006042313\n",
       "165. 289321.438678521\n",
       "166. 206730.13567414\n",
       "167. 560267.939098335\n",
       "168. 40105.5813534972\n",
       "169. 467484.654913369\n",
       "170. 97773.7287775016\n",
       "171. 116882.093991595\n",
       "172. 356145.621242442\n",
       "173. 410594.764169302\n",
       "174. 235423.667972123\n",
       "175. 318995.900724636\n",
       "176. 123624.8638186\n",
       "177. 424919.030057019\n",
       "178. 684786.100908073\n",
       "179. 371391.788678637\n",
       "180. 651384.503175866\n",
       "181. -16882.3245901825\n",
       "182. 43908.4471991172\n",
       "183. 61430.4967477772\n",
       "184. 180676.134515089\n",
       "185. 205470.284085365\n",
       "186. 124879.830880301\n",
       "187. 350545.670836422\n",
       "188. 187512.342164695\n",
       "189. 395675.151719959\n",
       "190. -38225.4244682782\n",
       "191. -19724.8349568457\n",
       "192. 631370.93581767\n",
       "193. 747352.589350928\n",
       "194. 322591.84381765\n",
       "195. 571114.767569074\n",
       "196. 636243.472440197\n",
       "197. -101637.303129676\n",
       "198. 152566.521132568\n",
       "199. 480877.384830737\n",
       "200. 95978.2360421744\n",
       "201. ...\n",
       "202. 452813.632073834\n",
       "203. 303730.517307853\n",
       "204. 180896.292474847\n",
       "205. 427417.816193195\n",
       "206. -21456.6121221015\n",
       "207. 118740.404261477\n",
       "208. 536332.552583274\n",
       "209. 80744.0655051811\n",
       "210. 615674.97835778\n",
       "211. 192638.360472196\n",
       "212. 379227.658756389\n",
       "213. 271009.387395454\n",
       "214. 461603.743186332\n",
       "215. 320643.961157087\n",
       "216. -64865.2294865623\n",
       "217. 583777.485964485\n",
       "218. 155295.63297261\n",
       "219. 302544.114317587\n",
       "220. 350997.281664032\n",
       "221. 222523.479283245\n",
       "222. 445935.900972946\n",
       "223. 452187.07796699\n",
       "224. 226005.639987611\n",
       "225. 489499.731935738\n",
       "226. 63307.0339739604\n",
       "227. 269803.174539748\n",
       "228. 674456.545443732\n",
       "229. 309917.113201521\n",
       "230. 351524.936876127\n",
       "231. 89895.5677654453\n",
       "232. 25589.8774922213\n",
       "233. -4223.76521748188\n",
       "234. 320044.052019258\n",
       "235. -121713.488524169\n",
       "236. 547073.852728425\n",
       "237. 151512.71773476\n",
       "238. 253337.797678064\n",
       "239. 293456.976151336\n",
       "240. 186424.5250672\n",
       "241. 582741.541983709\n",
       "242. 361287.476303773\n",
       "243. 512019.660312\n",
       "244. 237270.775594174\n",
       "245. 573804.074674779\n",
       "246. 634395.684702321\n",
       "247. 556772.657959987\n",
       "248. -85228.331515702\n",
       "249. 576563.444672069\n",
       "250. 516225.33413215\n",
       "251. 349618.276172747\n",
       "252. 88984.6158836146\n",
       "253. 483152.919090255\n",
       "254. 71245.8743540364\n",
       "255. 49498.2531274706\n",
       "256. -48070.2695749735\n",
       "257. 1558.31501520192\n",
       "258. 225759.542896353\n",
       "259. 388483.857682413\n",
       "260. 475568.397865576\n",
       "261. 454704.303205857\n",
       "262. 47474.5951806089\n",
       "263. 702844.872611644\n",
       "264. 577513.846110585\n",
       "265. 156626.401002208\n",
       "266. 38755.3149498783\n",
       "267. 397498.659058562\n",
       "268. 589122.473497432\n",
       "269. 139168.634856466\n",
       "270. 521368.038618745\n",
       "271. 277048.574988021\n",
       "272. -153624.914823303\n",
       "273. 27735.7013506957\n",
       "274. 551728.726736093\n",
       "275. 15811.2721521233\n",
       "276. 309202.549032074\n",
       "277. -58883.515569473\n",
       "278. -39660.4005184672\n",
       "279. 394907.422615487\n",
       "280. 232816.075313837\n",
       "281. 380355.966866771\n",
       "282. -183605.379458798\n",
       "283. 394271.719896775\n",
       "284. 528883.418481673\n",
       "285. 193737.923936609\n",
       "286. -179001.875481235\n",
       "287. 40430.1501923387\n",
       "288. 422213.431244525\n",
       "289. 581151.498616265\n",
       "290. 700080.715101781\n",
       "291. 93533.1948023166\n",
       "292. 523689.84051741\n",
       "293. 321216.235642743\n",
       "294. 601937.523087512\n",
       "295. 291736.979764997\n",
       "296. 718335.464295361\n",
       "297. 706847.014449451\n",
       "298. 332747.561523227\n",
       "299. 91615.2176637833\n",
       "300. 407383.397526728\n",
       "301. 398085.536694742\n",
       "302. 459783.288420415\n",
       "303. 233715.075115846\n",
       "304. -106095.168325475\n",
       "305. 228813.012086636\n",
       "306. 250853.027652275\n",
       "307. -49226.1547966806\n",
       "308. -60062.4102348407\n",
       "309. -14761.6278111894\n",
       "310. 302269.540769215\n",
       "311. 221105.477868403\n",
       "312. -109176.083284547\n",
       "313. 270446.353773068\n",
       "314. -86673.0416732972\n",
       "315. 468198.980950017\n",
       "316. 654990.206498905\n",
       "317. 228086.239298673\n",
       "318. 580744.382433847\n",
       "319. -122318.426137572\n",
       "320. 295425.332881213\n",
       "321. 287761.299228778\n",
       "322. 411214.684558944\n",
       "323. 170968.057994097\n",
       "324. 332563.207593067\n",
       "325. 116801.774356495\n",
       "326. 162974.172439607\n",
       "327. 562076.256350863\n",
       "328. 426838.73311869\n",
       "329. 455573.596507995\n",
       "330. 87801.1165868802\n",
       "331. 409001.919773079\n",
       "332. 110065.047469661\n",
       "333. 511302.252236815\n",
       "334. 11851.2005192423\n",
       "335. 59009.558197167\n",
       "336. -57181.2845943265\n",
       "337. 188582.802669109\n",
       "338. 420596.088083886\n",
       "339. 507413.157819787\n",
       "340. 447351.189961273\n",
       "341. -6851.56002269057\n",
       "342. -158137.203342971\n",
       "343. 102405.933918168\n",
       "344. 256175.629420106\n",
       "345. 324484.183054778\n",
       "346. 529365.085122815\n",
       "347. 392271.668105014\n",
       "348. 677707.550991659\n",
       "349. 74104.6743768697\n",
       "350. 226245.805071059\n",
       "351. -129185.373305777\n",
       "352. 283765.799408076\n",
       "353. 230274.090735698\n",
       "354. 452953.429484918\n",
       "355. 527223.334981364\n",
       "356. 516622.522014876\n",
       "357. -185516.990609714\n",
       "358. 405823.523210983\n",
       "359. 361561.366060495\n",
       "360. 535640.99910394\n",
       "361. -156334.897846202\n",
       "362. 671233.047991055\n",
       "363. 618751.09729352\n",
       "364. 251306.266354374\n",
       "365. 667199.292948348\n",
       "366. 251117.638435845\n",
       "367. 102815.375077562\n",
       "368. 145422.2880367\n",
       "369. 434967.071405668\n",
       "370. 385667.225617229\n",
       "371. 189182.276171775\n",
       "372. 162222.825981061\n",
       "373. 180170.906977735\n",
       "374. 408231.324905106\n",
       "375. 403270.175945621\n",
       "376. 285680.945062411\n",
       "377. 222176.807672213\n",
       "378. 545501.516229131\n",
       "379. 132635.719381462\n",
       "380. 506788.762733339\n",
       "381. 9993.39251212508\n",
       "382. 154617.243333605\n",
       "383. 255002.067829783\n",
       "384. 194258.358859186\n",
       "385. 397757.281845784\n",
       "386. 481957.631353008\n",
       "387. -112912.886794105\n",
       "388. 484830.568863876\n",
       "389. -27037.6316034535\n",
       "390. 171077.652082321\n",
       "391. -39353.4277979094\n",
       "392. 537661.110324479\n",
       "393. 58561.6933512671\n",
       "394. 37219.3334527198\n",
       "395. 41096.1973717713\n",
       "396. 4771.41980663547\n",
       "397. 275993.869410269\n",
       "398. -52003.2949708626\n",
       "399. -25497.2715985783\n",
       "400. 23464.2340033199\n",
       "401. -38430.1081013104\n",
       "\n",
       "\n"
      ],
      "text/plain": [
       "    [1]  148037.2682  240839.1719  592850.0867  344677.7582  455954.7105\n",
       "    [6]  174295.8136  226473.2840   48163.3299  393157.4471   75501.0642\n",
       "   [11]  475581.4820  714813.1282  441621.7465  200551.6752  668821.8077\n",
       "   [16]  -53107.8222  216171.4211  336580.9709  340105.0070  337590.4759\n",
       "   [21]  520525.3855  194563.2719  286875.2578  170505.4083  257854.0679\n",
       "   [26] -303650.6366  285717.0630  627842.3278  279456.7702  159630.6803\n",
       "   [31]  296155.0791  140311.3515  220206.3884  574473.2398  400968.3174\n",
       "   [36]  448812.3584  611163.7969  637274.9520   33537.6108  103048.0711\n",
       "   [41]   66715.0799  269841.4977  560165.7020  387225.9418  274251.9079\n",
       "   [46]   97919.8631  455041.7998  352849.6942   93180.2499  396297.9787\n",
       "   [51] -106709.8094  595924.9278  138074.1682  691647.8014  452000.8405\n",
       "   [56]  419858.3589  301634.8909  664546.0281  376787.6625 -178746.5571\n",
       "   [61]  153589.6870  640961.9017  208043.8902  268631.6593  286928.4212\n",
       "   [66]   10151.6368   89797.8772  198296.7134   24967.3724  132136.0974\n",
       "   [71]  380208.6956  637274.0637   70754.1943  277881.4581  680339.9209\n",
       "   [76]  221598.3024  104092.2507  150376.1402  226903.1306  150767.0627\n",
       "   [81]  107230.0634  470976.2921  427018.4601  319917.7705  346661.4153\n",
       "   [86]  334496.7547  596180.7737  524810.2688  267292.0920  668761.5317\n",
       "   [91] -271571.8697  438691.4450  159368.7473  398959.7694  564709.8112\n",
       "   [96]  306348.3122  347342.0595  583435.0428  199486.8837   51653.1400\n",
       "  [101] -130166.4509  119961.9566   66859.6543   85725.5626 -138993.5688\n",
       "  [106]  466094.9947  214496.9141   32882.8429  342197.2914  -68458.8474\n",
       "  [111]   37086.4495  575466.9335  375754.8952   92848.0401  162152.1850\n",
       "  [116]  401292.2258  438637.6994  190711.0944  -19477.9959  464997.2584\n",
       "  [121]  353948.4001  239733.3347  248680.2452  403593.1353  240807.9073\n",
       "  [126]  839403.3052  592369.6525  410565.7695  414724.8988  153788.1054\n",
       "  [131]  384912.1624  617897.4302  -81091.2734   45216.6249  330506.4102\n",
       "  [136]  383384.2871  222263.8847   50676.7044  734259.1131 -122784.8634\n",
       "  [141]  336657.0212   54629.9590  304399.2889   75520.9772  393783.2976\n",
       "  [146]  317106.8161  105070.0469  362205.2300 -207936.9268  309255.7702\n",
       "  [151]  268157.9711    3455.7975  -26341.7112  590838.4472  115045.8440\n",
       "  [156]  536497.5597  528664.2781  473507.3132  214955.3207  387659.3006\n",
       "  [161]  372403.0059  252924.8169  383779.1575  174825.0060  289321.4387\n",
       "  [166]  206730.1357  560267.9391   40105.5814  467484.6549   97773.7288\n",
       "  [171]  116882.0940  356145.6212  410594.7642  235423.6680  318995.9007\n",
       "  [176]  123624.8638  424919.0301  684786.1009  371391.7887  651384.5032\n",
       "  [181]  -16882.3246   43908.4472   61430.4967  180676.1345  205470.2841\n",
       "  [186]  124879.8309  350545.6708  187512.3422  395675.1517  -38225.4245\n",
       "  [191]  -19724.8350  631370.9358  747352.5894  322591.8438  571114.7676\n",
       "  [196]  636243.4724 -101637.3031  152566.5211  480877.3848   95978.2360\n",
       "  [201]  724621.8221  639759.2358  212597.6392  596402.2543   30633.1925\n",
       "  [206]  304617.5959  543963.2902  478920.3229  495862.1078  122892.9621\n",
       "  [211]  -16798.9054  704651.1322  433637.8625   42982.8822   96128.4550\n",
       "  [216]  504474.2227  628483.3832  259119.0342  -26577.1995  -86412.3773\n",
       "  [221]  174790.6609  165397.0071  650120.1767 -145706.0969  353542.8759\n",
       "  [226]  699238.9365  455122.4439  -97235.9134  -10420.8894  159423.6084\n",
       "  [231]  516315.3385  807870.4197  139722.1897  565105.7112  518177.0004\n",
       "  [236]  150917.3211  262031.2051   -8099.5146 -208663.9743   48662.7594\n",
       "  [241]  153042.9496    1868.6113  235927.3126  179497.5807  487468.6068\n",
       "  [246]  259010.4065  312803.2137 -192171.9314  175295.4067  561873.5448\n",
       "  [251]  -49941.1112  246718.0777   77565.1542 -211974.1326   74244.2419\n",
       "  [256]  513453.8620  170786.2506 -146764.5968  -66485.4448  541072.7156\n",
       "  [261]   67108.6565  183316.6095  574031.0395  830520.3579 -113274.7481\n",
       "  [266]  695238.0229  458286.8748   14373.5723  312530.6780  114915.6157\n",
       "  [271]  652252.2926  466973.9355  868814.7989  184461.1769   34334.9054\n",
       "  [276]  339904.8767  365176.2031  791924.4538  483433.7354  468785.3914\n",
       "  [281]  384240.7759  752407.1472  -78997.0365  393348.4934  732380.3330\n",
       "  [286]  198371.3601  522002.6026  337253.0709  -72620.0062  212569.7855\n",
       "  [291]  536088.4236  294869.2925  316396.2897   46178.9725  124568.6600\n",
       "  [296]   13570.9890  451454.8699  521897.6296   50080.5438    7926.6988\n",
       "  [301]  451078.9898  135664.3337  -81423.7371 -189503.2092  -91568.8478\n",
       "  [306]  405972.8038   54321.8026   18264.6408 -119690.4604   95320.5238\n",
       "  [311]  238478.5191  -29384.1238   79378.0849  383503.5137  280011.4063\n",
       "  [316]  542386.0032  548637.3439  508616.5513  191536.8159  -62272.2293\n",
       "  [321]  -34136.3797  502238.5985   54568.6013  -71752.8268  444454.6671\n",
       "  [326]   80881.7761  -89719.6605   37562.3920  449058.1263  413211.0196\n",
       "  [331]  295342.2600  157969.8348   24076.5454  186929.2481  156149.7907\n",
       "  [336]  297229.7696  459077.3443  290735.9766  206875.6064  220409.3167\n",
       "  [341]  759750.8655  760173.7528  228366.8354  362464.6053  324559.2280\n",
       "  [346]  265431.1590  193909.3839  151753.6538  -71865.6251  533330.6392\n",
       "  [351]  -27928.6034   53041.1857  513308.6285  165891.7886  289679.9714\n",
       "  [356]  261186.6009  408984.6026  208151.5589  155950.6544    9955.5337\n",
       "  [361]  524412.7707  288775.3688  254323.0187   77155.9513  292374.1651\n",
       "  [366]  185093.7407  -18164.4478  594884.8596 -152836.1000  415587.2911\n",
       "  [371]  499158.7812  106942.4585  244826.8510  292255.7786  430487.2658\n",
       "  [376]   75141.1518  435586.3277  104046.7462  291737.0807  391076.2217\n",
       "  [381]  297749.0553  735916.5571  135134.8206 -250514.4437  351797.2889\n",
       "  [386]  232724.0170  239853.9765  -48941.5714  348601.2474   66613.7314\n",
       "  [391]  360399.8047  288152.5452  499787.8490  374146.8991   78510.7455\n",
       "  [396]   71779.9810  354051.5098  356127.1654  262485.2042  577020.0516\n",
       "  [401]  743560.7765  341200.9481  158467.2520  739920.9501  191949.1597\n",
       "  [406]  236245.6918  631640.1850  469264.2803  488466.9894  348628.8661\n",
       "  [411]   95431.2400  229822.2266   61940.7871   38181.4236  253994.5503\n",
       "  [416]  214225.7856   81229.0774  612757.8819  153356.0212  401595.7627\n",
       "  [421]  148817.4544  482889.8532  149588.5765  663451.8225   97485.2502\n",
       "  [426]  148315.1362   -7797.5281  199783.7607  261358.3378  251457.3219\n",
       "  [431]  -54462.5577   68250.2930  545097.8800  309507.7678  579906.5077\n",
       "  [436]  317408.9305   93788.8984  221038.1192  577264.9589  305146.7240\n",
       "  [441] -154566.8083  -74690.7660  614524.9731  934453.1870   90218.4363\n",
       "  [446]  429476.8290  543662.8355  175017.7264  144532.2342  288032.2972\n",
       "  [451]  437300.3968  204141.9749  545949.7137  311544.1762  289267.9934\n",
       "  [456]  576394.4756  330473.9278  212547.7694  478514.1232  226300.3573\n",
       "  [461]  -16348.2589  231668.3536  572132.7272  511965.8762    9943.5499\n",
       "  [466]  502312.3270  437472.9907  437731.3969  563838.7325  177025.4588\n",
       "  [471]  228069.8613  266673.3713  184401.1559   25981.6310    9728.0304\n",
       "  [476]  340202.0939   97088.3805  504895.4968  348170.4781  297580.7242\n",
       "  [481]  389268.8752  -63479.5142  160596.8097   97098.4953  716745.5022\n",
       "  [486]  186889.2378 -109325.7969   24856.4746  444424.5043  738443.7760\n",
       "  [491]  245293.7544   71235.7603  397677.2360 -171015.0149  644042.5191\n",
       "  [496] -113792.0709  338958.3182  263655.9230  549655.5858  316841.3770\n",
       "  [501]  144043.4420 -103860.3847  294043.7812  -91891.0661  -96924.5945\n",
       "  [506]  442706.6078  278927.5355  340480.1640  245408.9384  721887.5391\n",
       "  [511]  344693.6177  376433.2857  433523.6096  283036.7887  275737.1874\n",
       "  [516]  500897.9034  307507.2453  236394.3789 -166660.0660  600802.8297\n",
       "  [521]  670390.4315  140281.1865   44280.1729   72194.7348   93195.0437\n",
       "  [526]  610972.1270  162230.0328  535893.1478   25135.1255  208050.1923\n",
       "  [531]  426478.3921   89795.9643  219490.5419   56142.8297  866548.5965\n",
       "  [536]   81086.0810  261080.1763 -150335.1474  443551.9803   13859.3516\n",
       "  [541]  663737.4664  239477.3594  584408.7164  320674.9682   54184.0803\n",
       "  [546]  172703.3128  575332.8034  121848.4350  369582.7411  293545.9531\n",
       "  [551]  502591.7956  436070.4753   33674.9990  279779.2453  -51095.3996\n",
       "  [556]   11827.1415  268100.4721  536420.9718  475570.2267  370330.2896\n",
       "  [561]  216509.9409  470108.9998  200253.8976   64172.5847  464631.8196\n",
       "  [566]  425934.8116  278707.7624   27761.5364  -44032.4919  277040.5214\n",
       "  [571]  668763.8442   87777.0103  110028.9258  239464.6926   74892.4314\n",
       "  [576]  576607.4170  175454.3323   88426.0516  129617.0472  -82584.8887\n",
       "  [581]  243080.9321  -43043.2734  263647.8372  445411.6682  223300.0382\n",
       "  [586]   -8116.1547  236062.0452  508064.9845  250491.9240  101014.6599\n",
       "  [591]  365210.1710  614063.4547  709577.7056  189108.6141  292140.0674\n",
       "  [596]  372396.0003  554827.1774  194870.4972  717309.6459  -58819.8230\n",
       "  [601]  164367.8535   10364.0502  395562.3048  244508.3755  219813.0460\n",
       "  [606]    3234.8692  183946.0105  439892.6268  -12989.9079  534819.7105\n",
       "  [611] -218687.1257  533452.3094 -138275.8302   93635.2108  347687.1892\n",
       "  [616]  411413.0316  609363.3041 -224223.5572  311003.5089  -20958.1617\n",
       "  [621]  290960.3691  100936.1840  -45420.3534  601008.5107  356481.0835\n",
       "  [626]  777225.8978 -146996.8568  154017.9711  511186.6370  152752.2720\n",
       "  [631]  129924.3139  134003.6261  454133.4887  437042.2161  -69294.2687\n",
       "  [636]  209540.1303  196845.9089  718214.9507  560241.1809  546451.3917\n",
       "  [641]  470209.1047  219846.4400  154094.6876  612339.2464  325925.1950\n",
       "  [646]  451037.6941  -83405.1236  397406.4253  399985.4909  542635.7682\n",
       "  [651]  157268.2860  176076.8048  135972.2469  127179.3842  528654.8885\n",
       "  [656]  192257.9332  118087.6843  521804.0311  843780.7940  461077.2564\n",
       "  [661]  405863.4499  294880.3070  316330.8642  428149.1533  235091.6210\n",
       "  [666]  193512.9941  227567.0017  296570.0668  339920.6422  720111.7002\n",
       "  [671]  643387.4598 -139642.1620  240929.0082  471297.4685  569401.4505\n",
       "  [676]  773638.9345  584135.9683  288454.4415  462255.3754  503025.4663\n",
       "  [681]  411392.4695  444975.3404  506628.9235  357978.6741   63215.1063\n",
       "  [686]  -63444.8801  500106.2786   85729.0090  360168.3984   73022.5176\n",
       "  [691]  150965.1250  366015.2388  473468.4502  383708.6929  616028.6535\n",
       "  [696]  338784.7228 -147751.3229   19206.1737  168503.1434  233301.6794\n",
       "  [701]   36528.1143  184843.9866  705863.0786 -185139.5663  203755.7302\n",
       "  [706]  -37532.6378  697081.9976 -153324.1788  455874.7786  562913.5493\n",
       "  [711]   15641.6993  598173.8381  355033.7814  207319.0409  299685.5114\n",
       "  [716]  365526.3228  374356.9844  -10039.9051  527492.1261  378413.8875\n",
       "  [721]  422119.7150  102791.4099  428083.8451  103017.0913  132862.6648\n",
       "  [726]  471987.6634  691210.5072  -69719.1668  216741.1529  366643.9843\n",
       "  [731]   75368.7531  892557.8503  102496.6340  762464.3892  593985.4380\n",
       "  [736]  379210.8254   91067.2906  227940.2140  114628.8689  -15027.4261\n",
       "  [741]  515922.3755  483398.6700  238956.5222  199320.9765  -86814.1103\n",
       "  [746]  443243.2344  414057.0897  419377.2703  397376.3427    4055.7551\n",
       "  [751]  655787.0910 -271555.1903  137599.6026  760563.3370  540503.6817\n",
       "  [756]  454151.5984  195386.2753  447855.6576  811847.1784  358500.8446\n",
       "  [761]  492325.2797   -8862.8879  362075.0169  460497.2859  154944.7501\n",
       "  [766]  331890.1571  372511.7757  246664.8232  119651.2059   27941.0704\n",
       "  [771]  456814.0820  357021.6460  685764.0219  351676.5824  363318.4176\n",
       "  [776]   29613.1291  421208.2265  198096.2925  384570.5657   15716.7432\n",
       "  [781]  633080.1391  247196.3855   48767.2831  452006.0837   11581.9792\n",
       "  [786]  -33505.8038  315999.3135 -105889.5627  468657.1680  559175.6344\n",
       "  [791]  555012.5890  513217.7936  704611.4775  187718.4377  126797.3524\n",
       "  [796]  244524.3152  291771.2609   28289.5664 -115907.9484  404300.8725\n",
       "  [801]  329762.5417  -77576.7339   92406.7847   67494.1228  504368.7660\n",
       "  [806]  120694.8654     936.3512  598863.2434  263982.1977  128378.4242\n",
       "  [811]  192871.1256  373678.0962  342537.1361  190421.7539   63303.6386\n",
       "  [816]  347181.8069   71043.9381  -10484.5053  153517.5808  482190.7841\n",
       "  [821]  588075.2668  208949.0835  476684.1521  182160.8741   84451.4868\n",
       "  [826] -172406.7344  559944.8820  631079.8856  426710.5281  359149.5721\n",
       "  [831]  662274.4988  398578.4924  648870.4238  428080.4649  620712.4764\n",
       "  [836]  527434.0255  580001.3513  -87923.1360  194869.3120  327611.1635\n",
       "  [841]   65499.3422  -67942.4511   99775.9752   -7108.9751   86354.6262\n",
       "  [846]  258439.7560   61833.9603  -28944.3035  470398.7986  620506.7566\n",
       "  [851]  361686.4233  376089.4996  312719.3477  127621.2305   52240.5453\n",
       "  [856]   47772.6450  451552.8221  387471.3442  382073.0929  382610.1495\n",
       "  [861]  158274.1029  181145.8484   90751.3986  258912.3283  119853.9068\n",
       "  [866]   12573.4669  373837.7473  290503.9324  473567.3997  406455.0088\n",
       "  [871]  298148.6221  151520.8700  125229.8653  488282.8532  284572.9200\n",
       "  [876]  238206.2513  -76670.1956  186726.1923 -138763.7920  818444.5540\n",
       "  [881]  365331.0016  295128.7177    7731.6407  466333.4858 -204182.9054\n",
       "  [886]  225807.4989  346725.2056  525918.3975  360035.9475  241771.0452\n",
       "  [891]  -77291.4542  189454.5886  687795.0366  447143.5141  256567.6737\n",
       "  [896]  148341.1190  402717.9004  361874.5773  536912.9072  711612.3154\n",
       "  [901]  420860.2019  486558.8901  233366.2327  344364.8924  -70854.3609\n",
       "  [906]  208374.1606   53159.7952  353948.9178  -82501.1039  612161.6127\n",
       "  [911]  356022.5299  334133.8377  133581.5002  -50182.2024  581564.6337\n",
       "  [916]  495497.5094  424078.8560  563095.1700  560136.2259  -62090.9165\n",
       "  [921]  347690.0988  385912.0280  493747.3829  347341.6658  108427.9489\n",
       "  [926]  160140.3683   18590.7131  154859.2255   12718.5228  183259.1619\n",
       "  [931]  270159.6723  461152.5575  321391.5868  225097.0075  665189.6544\n",
       "  [936]  109059.4519  554124.2772  663888.5820  156810.0071   17922.4363\n",
       "  [941]  691059.9617  407681.5837  644614.6706  657027.5830   84851.2766\n",
       "  [946]  173434.7913  291511.4586  316201.5081  310372.7503  -70634.7424\n",
       "  [951]  442440.8967   49697.9821  209215.1778 -139926.1098  283809.6241\n",
       "  [956]  175554.7699  -28041.4091  312594.1460  110500.7643  468384.9749\n",
       "  [961]  378516.5356  441901.4576   60224.7879  -49887.3406  220328.7096\n",
       "  [966]  266371.9402   99631.2732   21079.7710  -77487.5179  143953.5782\n",
       "  [971]  572387.6637  -72196.5272  217871.6613  -51506.6183  379442.4128\n",
       "  [976]  774436.3725  465262.2606  181731.6340  272470.2979  231206.9098\n",
       "  [981]  197343.9492   10436.7995  332937.8815  683079.4192  390240.9033\n",
       "  [986]  109529.1048  174020.8578  414704.0911  -71892.6375  431735.4072\n",
       "  [991]  353176.0978  123253.5684  -54273.9652  260237.7869  150944.8526\n",
       "  [996]  415988.2382  211184.5246  196145.3596  -25471.7232  433259.3262\n",
       " [1001]   10992.4097  662230.8773  405560.4947  284382.7441  138897.6319\n",
       " [1006]  238757.0979  154094.8481  341662.9420  -79436.5370  447521.4017\n",
       " [1011]  -79944.9609  488732.6806   16678.8802   84571.8326  610696.3799\n",
       " [1016]   11472.5544  732241.5964  317904.4092   78764.1165  340443.9666\n",
       " [1021]  318255.3513  380962.6172  781849.8269  523533.5056  615639.7277\n",
       " [1026]   97526.6297  655360.1947  388447.4464   32332.0396  290033.5587\n",
       " [1031]  293421.0531   20160.6344  699048.2084  787162.0908  500657.4073\n",
       " [1036] -210272.3477  450843.1703  402795.1152  437783.2886  232501.3541\n",
       " [1041]  502973.6396  428155.4633  550566.6383   -7833.8952  715034.1937\n",
       " [1046]   42350.8040  438605.9059  554233.4688   33203.9424   84378.0141\n",
       " [1051]  397974.9109  -86067.8234  483284.9055  295943.4822  444620.7452\n",
       " [1056]  306809.0178  316524.2102  510189.0957  569557.9659  430451.5454\n",
       " [1061]  520498.4633  458655.3232   47785.0535  582103.2751  869410.4132\n",
       " [1066] -114584.7922  -44761.3859  659809.6962  167661.0414  -47320.7195\n",
       " [1071]  639201.3650  626451.7933   52379.2566  668518.1481  248709.8929\n",
       " [1076]  729143.7105  426234.2696  787859.7294  323343.4581  -73029.9343\n",
       " [1081]  -63768.8594  379025.6486  308995.3725  -31822.2375  -12258.7410\n",
       " [1086]  -37776.6576  337131.4154  172632.2161  186176.0698  222961.0559\n",
       " [1091]  565460.5406  409374.8525   32241.2750   10044.7472  293795.4599\n",
       " [1096]  459380.5178  583498.1479  650168.0541  -75268.1554  296772.9393\n",
       " [1101]  504719.0470  545283.8829  301866.5506  249883.4543  366949.0939\n",
       " [1106]  557385.2295  298825.7815  330510.2410   88781.6638  795822.9420\n",
       " [1111]  330145.9682  540352.5604  722637.6503   -4243.5169  328377.1472\n",
       " [1116]  260341.3982  333561.4502  -43672.3620   72870.8842  121442.2131\n",
       " [1121]  674031.0944  348785.4537  286468.6084  634112.4004   30193.9920\n",
       " [1126]   71281.9591  717669.8949   43192.9775  681030.6185  -35597.1005\n",
       " [1131]  566984.6076  543591.7837  509256.0966   64377.8903  349690.1883\n",
       " [1136]  465109.9496  538225.0365  341307.0457  213076.8584  484661.1567\n",
       " [1141]  186711.3531  202232.7204  427196.2059  392674.3720  204579.3743\n",
       " [1146]  592601.5377  283257.2430  -61991.1394   70959.2740  433589.9118\n",
       " [1151]  775786.0400   92917.3207  105877.8285 -177546.6408  326166.5443\n",
       " [1156]  508260.1294  334005.0878  132749.6762  373861.2873 -228014.0870\n",
       " [1161]  -20403.0642  501056.1025  307910.9515  540896.6788  453990.3159\n",
       " [1166]  259375.0611  627802.5803  299763.6377  359575.9178  268481.9417\n",
       " [1171]  456619.7754   81115.9194 -282281.8690  675732.4854  100581.8813\n",
       " [1176] -246341.1499  562884.8118  168633.4718  416575.4976  505080.1587\n",
       " [1181]   60074.6964  454641.9291  598636.2251  432809.9777  259624.8478\n",
       " [1186]  593616.1342  671891.6210  404975.8433  -38687.9573   64689.7999\n",
       " [1191]  294231.1660  794054.4549  205334.7445  742773.1176  533433.6706\n",
       " [1196]  465367.3393  165682.9888  678545.4076  -69554.6702  679255.1566\n",
       " [1201]  661795.8774 -133307.0808  460919.5854  495827.3689  189458.9655\n",
       " [1206]  123254.4099  506846.9544  232961.6646  154010.5374  125850.4430\n",
       " [1211]   -7394.6617 -125588.0769  137031.9666  768040.3727  344106.6853\n",
       " [1216]  -23217.6518  440415.2913  157265.5163   15642.6325  478488.0884\n",
       " [1221]  -32888.4854  358453.0727  644668.2540  315949.0330  477295.6360\n",
       " [1226]  291254.2138  238370.4382  161970.2270  584503.6209  404508.7700\n",
       " [1231]  437275.9749  685985.9335  126339.2710  487421.7055  589228.3563\n",
       " [1236]  158946.7204  246594.5002  194553.4759  261200.2275  264002.5468\n",
       " [1241]  561049.5016  256057.3547  390207.0344  -96974.9980  573780.8044\n",
       " [1246]   54858.4412  215853.2518  419635.4533  180743.3063  615837.5523\n",
       " [1251]  261032.3240  439560.9004  -51663.5721  312813.4047  368387.3492\n",
       " [1256]  441678.7325  367021.7919 -157187.7036  142614.1776  637797.0891\n",
       " [1261]  220769.3310   49585.4006  532117.0331  251063.7244  144052.7723\n",
       " [1266]  230520.9986  403663.4802  102472.7287 -153745.4083  168320.4053\n",
       " [1271]  539941.1879  466927.1940  485051.0830  402194.6850 -156062.4012\n",
       " [1276]  515925.4520  553881.7051  454746.9229  316112.6721  202554.6083\n",
       " [1281]   73518.4752  713936.4611  415071.9631  364751.9638  437403.9474\n",
       " [1286]  630372.4125  539822.5818  176394.9210  303601.5668  114971.3966\n",
       " [1291]  169099.5794  -84193.8675   11306.7001  294926.8144  528519.0080\n",
       " [1296]  418240.2607  630926.9376  109723.7269  546380.9703  613443.8573\n",
       " [1301]  462517.7386  372192.5742  555511.3534   45784.4283   -1205.4111\n",
       " [1306]   87548.1459  471833.5120  497726.5913  492879.7403  295054.5719\n",
       " [1311]  277532.2395  248549.5073   13022.6043  216615.0968  667526.0085\n",
       " [1316]    7861.9614  446627.4766  208484.2416  184189.1749  179345.7142\n",
       " [1321]  477891.9876   74801.6336  127845.9188  275189.5597  162469.3511\n",
       " [1326]  410970.3506  325234.6727  183116.0438  592454.7146  703716.2626\n",
       " [1331]  499180.9866  657442.6190  325614.9737  220915.6381  485464.3279\n",
       " [1336]  522480.3426  226847.1250   64621.8981    1825.9312  606829.8613\n",
       " [1341]  290881.0649  318026.8551  394155.0961  323130.0620  340771.9344\n",
       " [1346]  383068.9815  271738.7857  -29518.6111  345539.2108  279749.5330\n",
       " [1351]  359496.8480  553967.0792  -44408.4722  288194.0517   95252.2638\n",
       " [1356]  561379.5287  456610.5612  615313.8465  215224.0197  186067.0559\n",
       " [1361]  296067.4254  312986.4972  143564.8820  196586.6499  627259.2406\n",
       " [1366]  546693.4153  499771.7846  371734.0122 -158243.1201  385770.4427\n",
       " [1371]  138638.4677   26285.5650  488581.9852  330761.7449  148450.3867\n",
       " [1376] -140127.8103  377012.4476  146349.4674  522124.6045   60959.4576\n",
       " [1381]   58455.8864  -30573.5718  620030.7672  161857.7820 -117335.2361\n",
       " [1386]  379445.1057  389051.9382  110599.6530  352906.5875   55310.7824\n",
       " [1391]  -16181.4171  488254.1647  662381.9998   34183.2979  457077.2340\n",
       " [1396]  169373.3069  -88920.1856  705858.4819  409824.7985  337498.9188\n",
       " [1401]  372179.1926  410370.2389  231075.0103  129982.4010  676765.0299\n",
       " [1406]  555757.8282  138970.2461 -106996.6350  399995.8575  128245.6111\n",
       " [1411]  -51343.4529  369269.6850  216858.5588  523220.7333  465513.8143\n",
       " [1416]  -85863.8138  421954.1686  494274.5636  615418.7409  460084.6627\n",
       " [1421]  118888.4065  500586.9589  119665.5043  466464.3206  141291.7337\n",
       " [1426]  168267.3277  128471.0721  474594.5748   11097.3578  197231.6510\n",
       " [1431]  156652.0736  364137.7171  488122.0743  350287.7976 -185437.3753\n",
       " [1436]  725119.7753  250527.2888  309630.3837  174905.6153   -1304.0878\n",
       " [1441]  276495.9282  473003.9170  260720.5101  176097.9315  193548.9859\n",
       " [1446]  143847.3678  113937.5650 -245975.9227  -22106.8735  405193.9297\n",
       " [1451]  428132.1044  714187.5249  303627.5114  279429.5942  524687.9750\n",
       " [1456]  190442.3925  -86703.9496  249421.5615  511998.6802  268046.4687\n",
       " [1461]  -97465.1472  724131.4326  -30728.9798  373255.2147  720626.3495\n",
       " [1466]  100143.2136  388740.9201  465804.6841  159150.3085  260575.8039\n",
       " [1471]  142253.3650  451409.4678  113084.3443  322324.4135  501117.0972\n",
       " [1476]  478217.7986  499661.8528  117166.0534 -117298.6648  634298.4714\n",
       " [1481]  252527.5151  305668.4039  142626.3213  346088.7023  359291.2733\n",
       " [1486]  235939.5784  210461.6902   90070.5518  525115.9203  138222.4059\n",
       " [1491]  207578.0978  547296.9397  -37493.7043  618449.9162  585707.9723\n",
       " [1496]  143200.8324  299173.4951    7285.4216  467993.3966  154941.0748\n",
       " [1501]  372359.6042 -198714.1273  632465.5249  117884.5967  692278.3845\n",
       " [1506]  614958.3651  390402.2187  395434.6505 -137542.5331  -63460.4717\n",
       " [1511]   72320.0469  401306.6383  690798.1783   98108.1003  786362.9435\n",
       " [1516]  300786.4943  630942.0606  286598.1405  494162.8818  117593.0607\n",
       " [1521]  113173.0359  691979.7288  128961.1259  326556.6199   59817.3323\n",
       " [1526]  507773.8579  370251.6220  161432.9968  577198.9155  449423.3090\n",
       " [1531]  327167.3094  329923.8659  325767.7994  495820.0602  829429.5655\n",
       " [1536]  205935.8865  430611.3837  592661.8078   20471.5144    3274.0841\n",
       " [1541]  529399.7779 -172967.0462  -49121.4150  430667.3918  436737.4343\n",
       " [1546]  189425.1126  -42326.3186  431252.4544   34168.4922  112196.4886\n",
       " [1551]   17753.0033   93072.8454  185850.5764  357474.0173  109116.4533\n",
       " [1556]   -5778.6365 -178455.9204  512739.5587  193897.5909   69581.7797\n",
       " [1561]  207754.2686   17923.0041  367975.1207  -85329.8975   65610.6315\n",
       " [1566]  113623.4853  428125.4291  359586.2544  341841.6114  249455.2856\n",
       " [1571]  421349.0761  488683.3399  602095.8490  410630.8240  469050.8105\n",
       " [1576]  704425.3594  690344.3225  406557.7281   20215.7706  589258.1532\n",
       " [1581]  106161.3763  577732.9424  302603.8276 -194724.8761  463876.0569\n",
       " [1586]  222409.7295  -73957.5384  127326.9889  330223.5119  321316.9583\n",
       " [1591] -124036.3604  216648.5618  393974.5075  211018.2676  239962.2731\n",
       " [1596]  610531.5191  225358.1508  480559.4377   34937.5837  -65114.4074\n",
       " [1601]  489735.3300  386922.3135  584274.9688    4215.9968  125161.4681\n",
       " [1606]  439626.2624  129111.3084 -117795.4352  310737.5098  285387.7555\n",
       " [1611]  647315.7472  -64917.8188  442322.9281  490206.8190  576075.9579\n",
       " [1616]  410029.9909  307271.1108  655706.9357   59650.5841  402090.4221\n",
       " [1621]  345198.0451  567780.5640 -374615.7975  412402.3064  332169.4161\n",
       " [1626]  342969.3258  438305.0928  550143.5605  -71885.9358  -12755.5786\n",
       " [1631]  496137.2441 -108689.3833  117319.0957  586943.7711  -53469.0803\n",
       " [1636]  492809.6795  234098.9375  -96924.0851 -133714.4418  439638.1254\n",
       " [1641]  458086.4850  365873.3861  498089.5866  167199.3871  346569.9602\n",
       " [1646]  358303.6335  660761.5426  361161.8506  411057.8910  455017.1579\n",
       " [1651]  449721.5276  495047.9888  251289.5009  523730.8075  367943.9886\n",
       " [1656]  566957.4898   88362.8659   29035.7489  744575.3140  448230.1137\n",
       " [1661]  269882.9422  343531.5388  340380.8662    2244.1427   30035.0220\n",
       " [1666]  236600.3479  532670.5757  486907.0147  633034.1532  392969.8383\n",
       " [1671]  263220.3752  649301.9619  536973.0242  278996.4510  354997.6842\n",
       " [1676]  127575.1895   37933.2485  238781.6643  -50735.0740   84034.6431\n",
       " [1681]  427499.4997  380615.8630   25605.1900  106698.6610  -14248.0002\n",
       " [1686]  680641.4713  795122.7052  143471.8379  472713.2216   15125.2766\n",
       " [1691]  480772.5059  160917.0456  172254.5972  192470.9935 -268935.6930\n",
       " [1696]  493010.3349  573747.5134  372614.7957  213107.6770  -46354.1583\n",
       " [1701]  368559.2819  667882.5876  294606.7760  490200.6985 -175596.5640\n",
       " [1706]  477841.5597  295871.0284  366388.5849  328045.4120  489287.3937\n",
       " [1711]  186577.9166  240921.0875  135083.3113  241377.1267 -223371.8930\n",
       " [1716]  588911.9747  300727.6404  118106.0271  420003.1249  344553.7997\n",
       " [1721]  322867.5348 -145441.4192  618903.1510  288267.7754  407561.5952\n",
       " [1726]    4496.8306  746144.3829  171815.6566  331158.4283  248631.0126\n",
       " [1731]  184149.9607  193151.5560  -62045.9330  468457.9873  637096.6813\n",
       " [1736]  288653.3308  153260.0183  157999.6607  -23442.6282  -96716.5938\n",
       " [1741]  219342.5957  507102.5045   31027.9853  306366.4606  413329.1599\n",
       " [1746]  686047.2037  691533.7681  494317.0476  445995.7962  -77193.4524\n",
       " [1751]  159323.5501   48953.2772  234971.5139  688271.8538  217219.9762\n",
       " [1756]  101966.0953  -41328.0410   41759.3658  376679.8062  -28336.5381\n",
       " [1761]  407939.2927 -120408.4164  -27558.5445  343659.7002 -116815.9493\n",
       " [1766]  388759.1346 -153984.4506  248550.2821  126604.5596  749027.9520\n",
       " [1771]   97877.2701  244855.4998  564520.0745  206395.2967  503969.2707\n",
       " [1776]  423573.5585  226986.8946  -40082.0055  171750.1725  458536.9317\n",
       " [1781]  105196.0407  -84696.5834  424715.4672    8897.7983  529065.5836\n",
       " [1786]  633013.9864   33812.5069  243108.7394  381239.8467  -89604.4099\n",
       " [1791]  260056.9034   65326.4733  401552.8636  134674.0072  466098.6404\n",
       " [1796]   63595.4960  358599.5312  434806.4708  274158.3760  468898.5052\n",
       " [1801]  531890.2941   50693.7622  258404.3785  -90006.9584  169943.3401\n",
       " [1806] -183894.1508  274558.5773  102865.6909   63501.9089   -6505.3016\n",
       " [1811]  580354.7729  214639.9608  378460.0640  427431.8183  -11710.3276\n",
       " [1816]  598428.6184  -23473.7892  112835.9769    7492.4431 -134962.3663\n",
       " [1821]  518283.4809  287648.5266  113489.0665  433255.4985  838064.0505\n",
       " [1826]  252028.9870  100548.3926  131425.9649   99236.7017  285780.5732\n",
       " [1831] -167304.3956  508088.1906   -5531.3194  425846.6072  250820.1724\n",
       " [1836]  181184.7735  485899.0225  729207.0938  197145.1870 -215192.8601\n",
       " [1841]  -20429.2548 -201434.4348 -149069.3576 -142066.6977  340779.1009\n",
       " [1846]  299874.0639  127521.3553  596157.0240  260912.0562  148228.7296\n",
       " [1851]  681806.7931 -146526.7096  111662.2881  509306.5728  542116.6433\n",
       " [1856]   20529.5288  555798.0085  606948.6312 -324835.9644  591204.5802\n",
       " [1861]  278392.6319  542749.9222  684240.7342  235731.6109 -193739.4975\n",
       " [1866]   53880.4981  144167.9720  106856.6114  482066.7185  145620.2251\n",
       " [1871]  610914.9337  363524.8125  276703.8118   10382.9829  631622.7142\n",
       " [1876]   50471.3065   55140.2376  268406.0936 -173163.6211  622443.0740\n",
       " [1881]   65278.6525  277757.5197    5638.8294  149753.5221  157805.0941\n",
       " [1886]  422080.0967  469388.5543  142889.6823  572059.6373  355117.8052\n",
       " [1891]  463280.4754   -7399.4566  333838.4459  710589.1038  512092.5734\n",
       " [1896]  136012.7008  551161.6708  153744.9631  384594.5254  -30527.5115\n",
       " [1901]  637383.2983  397934.7319  159034.1931  575168.4096  423206.8234\n",
       " [1906]  -42351.9065  391853.6484  245005.9349  -12993.4375  328758.7306\n",
       " [1911]  -91220.4574  191267.6843  347991.8771  677830.8533  777081.8148\n",
       " [1916]  141487.9369  284656.4299  427971.2767  228573.8717  103467.5868\n",
       " [1921]  309822.3312  -41880.3023   79594.1643   -8314.1918  229323.2705\n",
       " [1926]  170230.9337  114529.6018  363531.1503  546249.4294  669153.8783\n",
       " [1931]  -58108.7227  140846.1368   44275.7582   53403.6491  439944.1172\n",
       " [1936]  372351.2566  356821.9571   85634.7821  279779.0884  594692.0059\n",
       " [1941]  171459.0108  233289.6033  380729.0599  111746.5204  548559.8368\n",
       " [1946]  710720.2237  545485.4518  610338.6471   -6475.1637  524617.0893\n",
       " [1951]  268014.2157 -177202.5052   10116.1327  203417.7932  485272.8149\n",
       " [1956]    8897.2958   83703.2172   71871.4882  189147.1577   39230.5301\n",
       " [1961]  310358.8826 -117642.9457  335941.9021  138792.7260  184871.6615\n",
       " [1966]  288235.0060  290818.5763  126922.6193  266629.5055  487929.5819\n",
       " [1971]  362969.5018  142628.3034  625781.3462 -157133.1055  513934.0289\n",
       " [1976] -125275.8059  168952.4342  283650.6693  435871.9771  706867.1503\n",
       " [1981]  149637.9591 -128459.6080  495127.4365  304444.8652  -62518.0318\n",
       " [1986]   74972.3285  729920.9370  -45866.9292  303840.9615  461989.4217\n",
       " [1991]  335599.5505  509409.3121  429298.1329   79191.3919  581244.7787\n",
       " [1996]   11250.2953  247648.0619  497797.8781  718905.5885  -86421.8230\n",
       " [2001]  621714.7453  357638.7712  -63208.0690  758150.4269  130019.9504\n",
       " [2006]  558823.3927  113353.3937  684618.9939  -92143.2052  470969.4581\n",
       " [2011] -123627.5432  526182.1348  822045.3968  444389.9435   64040.3899\n",
       " [2016]  487795.7110  728939.4439  814627.0383  203396.1861  141924.5080\n",
       " [2021]   96905.6272  145118.0632  412999.8028  190462.3725   -8919.6207\n",
       " [2026]   69349.9960  190921.5649  -49550.1340  179681.0817  -37051.6335\n",
       " [2031]   53963.1063  179069.2461  394114.8519  508696.2133  522523.7670\n",
       " [2036]  308398.0966  219037.4612 -129837.1378  507507.0977  113911.5195\n",
       " [2041]  395946.7258  371868.6818  778071.5373  547317.8807  364093.4048\n",
       " [2046]  493977.1454  412776.6332  354783.7782  556265.4459 -145095.6490\n",
       " [2051]  320238.8647  103608.8318  662598.9424   91456.2550  286653.4530\n",
       " [2056]  118699.3316  620859.4733  336320.6874  379001.2719  687248.6840\n",
       " [2061]  224584.5108   16300.6870   96027.0473   34824.2029  304674.5042\n",
       " [2066]   50796.8199  534074.5416   90277.0719  -11615.6074  777501.4783\n",
       " [2071]  459634.5301  359158.2989  485702.3421 -296746.0152  444135.0838\n",
       " [2076]  483501.3341  -26036.9681 -209412.0596  436750.9966   97084.6277\n",
       " [2081]  530121.2474  217162.1158  654805.2232  374558.5458  268246.0279\n",
       " [2086]  586411.7983 -232681.3823   17172.6233  332897.7934  285808.2475\n",
       " [2091]  120128.8056  677404.0723   85566.1148  547632.6825  770530.5292\n",
       " [2096]  621116.6425  250353.4565  438607.2455  -16617.3248   75974.5719\n",
       " [2101]   75143.8829  496964.4609  213330.7874  666844.5842  336021.2459\n",
       " [2106]  460027.7147  327164.6100  -91787.0576  365078.9871  353337.0250\n",
       " [2111]  740586.0278  629007.6522  193148.3769  -24752.1998  185666.1360\n",
       " [2116]   72672.5030  395343.0147  145302.2730  341307.4319  289667.3601\n",
       " [2121]  337385.8122  138240.5036  570176.0406  584457.1817  244913.2401\n",
       " [2126]  457796.8396  440419.5304   21629.4329  569492.2545  145108.3374\n",
       " [2131]  614890.3269  497187.7126  309105.8113  860346.5110   55381.6643\n",
       " [2136]  500608.2209  220819.9490  280559.9400   98653.6435  309455.4584\n",
       " [2141] -192732.1131  322205.2385  -87244.4861  518023.7489  151940.2091\n",
       " [2146]  152024.7619  406104.7356  -20550.4147  563601.4046  224999.7976\n",
       " [2151]  380592.5702  283566.4039  471745.8839  618468.3614  236867.9217\n",
       " [2156]  378063.4568  335747.7058  517159.4431 -176725.3532  361832.6524\n",
       " [2161]  705432.0670  220556.7694  248727.8509  248606.4522  123082.1231\n",
       " [2166]   30271.6964  682526.6553   -4557.3371  372158.4019 -166194.5110\n",
       " [2171]  363136.6499 -146830.2688   35595.6792  139555.6585  166316.3665\n",
       " [2176]  313710.1654 -179725.6555  340343.0026   23619.7974  186620.1091\n",
       " [2181]  -96813.5317   51724.1009  312686.2089  539758.6224  125050.7281\n",
       " [2186]  529474.1320  440945.6215  592918.5848 -123942.3389  446441.0656\n",
       " [2191]  -11350.1344  -94948.8768  149905.3529  171161.9095   84269.1304\n",
       " [2196]  369103.0258  157287.7543  787141.5553  -48233.4323   98491.4283\n",
       " [2201]  -17915.0548  338128.0137  782825.3725  129323.8561  706998.4328\n",
       " [2206]  244848.3381  228673.6148  385916.0874  324701.6719  121306.0156\n",
       " [2211]  122862.7271  634657.7551  778757.5891  291154.5641  531940.8240\n",
       " [2216]  -86749.7752  755318.3809  335792.6312  171317.9042  303961.8101\n",
       " [2221]  641025.6982  115933.3019   -4679.2368  135863.1484  238153.0922\n",
       " [2226]   55648.9006   65036.4860  749884.3314  319645.2823  280214.6363\n",
       " [2231]   28808.6820  334965.4695   76038.4701  372448.5326  590559.7622\n",
       " [2236]  -84941.2600   10025.6581  121690.5935  -14638.2008  327592.6024\n",
       " [2241]  622510.9073  457211.6734  458624.7390  114746.9759 -119037.4770\n",
       " [2246]   47460.3414  564567.5769  459532.5404  331591.3699  636700.0438\n",
       " [2251]  435004.4810  301003.0186  673333.2043   32721.4854  373556.7443\n",
       " [2256]  197612.8689  -79074.9687  108303.9279  240293.6989  -59562.6390\n",
       " [2261]  594120.3497  513701.0980   19204.9665 -104658.0136  149932.0156\n",
       " [2266]   47219.3339  241416.2372   94098.5149  382460.9711  646344.2965\n",
       " [2271]   60455.6564  582715.2224  223325.3047   86837.9099     548.9924\n",
       " [2276]  521949.6742  204860.5715  -10107.0648  683282.0712   29066.8264\n",
       " [2281]  515469.3145  338606.8658  356392.2116  229017.6637  504230.0223\n",
       " [2286]   87673.9854  595467.3867  115915.0343   -6757.0873  174696.8772\n",
       " [2291]  406006.5287  -12046.7862  468235.4872  292960.3441  479958.9114\n",
       " [2296]   53719.3994  376892.3366  672520.4639  183740.1435  -99152.7814\n",
       " [2301]  109578.6691  420838.3891   57777.6402  585672.7737 -126125.2420\n",
       " [2306]  459663.0123  603787.3036  315661.4894  577283.8709  342068.4677\n",
       " [2311]  394344.7385  -36552.8831  446489.7583  346995.9511  367838.9746\n",
       " [2316]   32177.8753  -23053.1749  420428.0675  -36903.0307   52928.9526\n",
       " [2321]  235318.9356  299712.3611  462079.8672  439666.1994  365343.7616\n",
       " [2326]  398489.2248  132145.9920  244663.1033  116170.3003  276730.3395\n",
       " [2331]  568018.2451  444013.4319   54725.0980  381985.3035 -114970.7076\n",
       " [2336]   73875.9451  275777.1897  243561.1036  223206.0139  675780.1339\n",
       " [2341]  677102.1089  527002.0568  -73429.4142  265022.3386  376034.5151\n",
       " [2346]  687040.2113  -14897.4026   87994.9249  511514.3789  421256.3197\n",
       " [2351]   24055.8486  261675.4180  192362.8304  297827.8266  -70100.0700\n",
       " [2356]  593686.7771  400563.3220   31408.0605  287654.4300  206499.0612\n",
       " [2361]  566988.1949  139776.6658  -45282.3099  341977.6590  450529.2098\n",
       " [2366]  339411.7444   39974.5281  269427.4243  342048.0389   70635.4424\n",
       " [2371]  145257.8677   10503.3369  142214.7508   66274.4851   -9169.0152\n",
       " [2376]  368192.6096  344801.1051  -90492.5819  139686.7248  236093.6298\n",
       " [2381]   94592.8392   63192.3581  324535.1416  734802.1288  230535.8381\n",
       " [2386]  567295.1391  333811.1933  426469.8077  491592.6148  332072.4697\n",
       " [2391]  157040.4019  185275.8757  677072.4947  344372.1881 -130022.0681\n",
       " [2396]  159761.6474  640964.4755  660437.4940   94450.6932  521637.5183\n",
       " [2401]  487033.5929  306273.3127  489078.8268  269126.6356  607611.1095\n",
       " [2406]  285203.8363  -46405.6596 -103962.1142  415527.3298  423063.0644\n",
       " [2411]  104536.0410  328268.5399  399695.0329  -44413.4352  318899.3432\n",
       " [2416]  392012.8737  -93582.1267  474205.4041  109879.9821  -58026.4174\n",
       " [2421]  468157.3298  527513.7088  345744.4057  534940.9207  283144.9910\n",
       " [2426]  165186.3198  140712.0979    8141.0666  444862.3038  494336.3278\n",
       " [2431]   56965.9736  304141.0603  198001.0095  152097.8783  308953.4054\n",
       " [2436]  304590.7475  705055.4893   14152.0864  596066.3587  562690.4467\n",
       " [2441]  124528.3469  494626.2898  324387.6600  478448.3644   86381.4387\n",
       " [2446]  128173.9131   12425.4501  317478.3975  464186.8801  278771.7608\n",
       " [2451]  331378.5016  460957.2579  659632.3865  544159.4290  415032.9513\n",
       " [2456]   81354.0086  251701.8435   15009.9679  480361.9733  291291.0381\n",
       " [2461]  -90862.3437  164224.4166  361310.2828  147385.7062  283153.5965\n",
       " [2466]  203133.0703   -7030.6463  408750.1131   70259.6260  352890.5747\n",
       " [2471]  545621.7255  -25404.2398  346575.9098  432173.0554  602160.4297\n",
       " [2476]  197495.9062  686222.6612  335687.5383  -19592.4667  707585.9137\n",
       " [2481]  185705.9908  522532.9398  355234.7311  199949.7632  355492.1997\n",
       " [2486]  386895.0160  277516.1064   33062.2084  642509.8398  509203.2362\n",
       " [2491]  122069.2835  311733.3755   65109.0224   63715.6935  452997.0484\n",
       " [2496]  169652.8920  249564.2974  117952.6995  -94348.9021 -114772.0785\n",
       " [2501]  141602.9117  -97528.5120  177430.3091  572581.2551   25934.6950\n",
       " [2506] -240651.0226   51425.2183  242767.2706  450294.8583  314377.9942\n",
       " [2511]  185463.1850  426627.5509  583264.2405  424941.6526  623284.0736\n",
       " [2516]  694860.1644  592222.1292  177714.2437  682452.4330  536368.8887\n",
       " [2521]  399735.1035  653278.2645 -107502.3338  371241.1798  212208.2386\n",
       " [2526]  629778.3763   99229.1064  526418.7406  178920.3094   57666.1424\n",
       " [2531]   19149.1598  295919.3096  582193.9855  500570.6008  812303.5528\n",
       " [2536]   73746.2057  774409.7908 -130198.1190   37392.8870  112025.6408\n",
       " [2541]  152826.2284  407215.9601  254683.5883  545162.1817   85544.2553\n",
       " [2546]  473154.9606  119623.4091  555011.0388  646763.1568  -48371.9490\n",
       " [2551]  259514.7389  129603.9854  621671.9785  -49025.0589  510658.6468\n",
       " [2556]   -6752.7815  593023.3655   41668.3281  187825.6577  304022.2081\n",
       " [2561]  187883.7037  607027.2743  142867.5140  354767.6739  580909.3554\n",
       " [2566]  458016.3354  460594.6905  532651.5706  485680.1165   85389.5605\n",
       " [2571]  424886.1710 -200141.7879  113517.5689  280482.6700    5327.9635\n",
       " [2576]  -56290.1951  281707.9030  375743.5350 -146800.7536  446513.1818\n",
       " [2581]  202136.8666  301519.2999  247134.2973  222821.2216  -84519.2433\n",
       " [2586]   87422.9332   93888.8728  248837.7054  554456.1574  449571.2317\n",
       " [2591]  298442.7375  287790.0810  524087.3502  203404.4609  -41402.9958\n",
       " [2596]  480288.6863  673457.9302  392978.7215  140505.0580  583070.0814\n",
       " [2601]  559150.7321  137011.8748   82461.4587  299516.4489  122679.9920\n",
       " [2606]  490913.2193  663308.5074  -94120.7060  363505.5843  275992.8243\n",
       " [2611]  251954.4469   82982.8021  574064.9635  173499.8234  494189.0313\n",
       " [2616]  792593.4425   59119.3803  278548.8675  291226.5270  304317.1982\n",
       " [2621]  337090.9217   96619.3587   73096.9673  -67347.7027   76643.7713\n",
       " [2626]  379868.8451  195759.5185  741259.8970  151144.8898   34116.7065\n",
       " [2631]  264720.8070  -60664.8455  516611.8941  456895.1001   51191.6182\n",
       " [2636]   65189.1295  185549.2750  615626.6551  246665.2236   64530.3376\n",
       " [2641]   20144.7040  265983.2565  449650.3528  257044.1190  365910.3823\n",
       " [2646]  346640.2470  221369.0016  382906.6943  557431.7541  -58563.1988\n",
       " [2651]  141995.5808  -31997.5964  428957.5230 -172950.3930   66115.1694\n",
       " [2656]  -87418.3583  587536.9768  525949.0397  262204.4864  556328.7637\n",
       " [2661]   30189.3849  497608.0497  615099.3325 -147872.5551 -154395.9195\n",
       " [2666]  101762.5050  372864.8152  293219.7265  108195.9960  559807.4934\n",
       " [2671]  -60845.9809  145284.7510  -24757.6385 -225013.0717  489756.8551\n",
       " [2676]  503345.1226 -184885.8561  210025.4707  283510.2986  383968.5687\n",
       " [2681]  191200.5733  -15310.2669   92935.1645  152261.2396   70001.4070\n",
       " [2686]  -89771.7569  462343.3829  169729.4405  142129.6592  580200.3172\n",
       " [2691]  444313.7293  198561.5406  334330.4910  321821.4178  427431.6206\n",
       " [2696]  541536.2918  197812.9328  445478.9608  567928.2230  501053.6816\n",
       " [2701]  515448.4230  271348.8954  349465.7559  329407.8683  606687.6601\n",
       " [2706]  154632.6905  274730.5295  419084.3957 -236292.1260  269379.8469\n",
       " [2711]  112897.4334  -29992.3160  410414.9868  504516.1653  -31114.9536\n",
       " [2716]  262756.2025  294325.0299  132174.5527  167652.6675  206992.8328\n",
       " [2721]   76470.8396  179226.6695  321145.0141  521381.6940   45085.8829\n",
       " [2726]  105582.9406  133204.3819  653065.9075  169335.9849  524318.3470\n",
       " [2731]  352900.9076  459959.2533  351561.1054 -136797.3538  481433.5925\n",
       " [2736]  234093.0821  531496.3683   34699.6095  263371.1801  221096.5753\n",
       " [2741]  240492.1091 -181806.7319  826429.7034  311302.8951  330714.2758\n",
       " [2746]  372594.0831  -20377.2703  299812.2841  291492.7576  361953.8159\n",
       " [2751]  153646.5114  429404.2627  -58487.9889  598818.9963  776710.9605\n",
       " [2756]  239011.4084  324622.3580   86943.9921  331428.7117  208477.2632\n",
       " [2761]  579754.2163    4161.9504 -221803.7062  -51005.6207  577253.7605\n",
       " [2766]  601784.3008  520957.9634  242472.2717  232385.0906  209066.0881\n",
       " [2771]  -66399.4100  155774.3170  522664.0898  268700.2401  -33011.7536\n",
       " [2776]  156246.2940   81272.1960  443121.2885  297693.0962  420522.2992\n",
       " [2781]  392751.4203  353623.9182  667619.1291  238548.0334  361718.5415\n",
       " [2786]  277457.9354  248063.6725   51887.4945  553497.8693  288610.2315\n",
       " [2791]  198901.9506  461431.6282  -78830.0889  165297.4229  171346.8813\n",
       " [2796]  -13837.2713  -67629.8292  621362.8312 -196079.4049  209215.0816\n",
       " [2801]  545410.0738  -26459.8664  -97849.6368  284477.2725  316708.6115\n",
       " [2806]  197737.4298   26014.5369  375034.2372  411962.1767   43238.9388\n",
       " [2811]  541491.9921  641706.6182  470987.1419   10850.6997  167262.1132\n",
       " [2816]  783347.8747 -283673.2844  159790.5963  566304.1080  312729.4607\n",
       " [2821]  479858.9841  324796.4656   66883.4192  548861.6911  330303.1521\n",
       " [2826]  310388.8809  280776.3172  470677.9701  558862.7875  -35349.3362\n",
       " [2831]  705991.7381  -73771.5694  686695.5736  448644.3807  481197.4674\n",
       " [2836]  219864.9763  -98686.8621  514665.9595 -185103.0445  300601.8441\n",
       " [2841]  -55764.3167  567621.7736  342244.4246  218088.8813  -70313.9428\n",
       " [2846]   -5371.3478  288025.6153   62580.8942  499215.1254  389623.9116\n",
       " [2851]  174875.2511  345882.3698  386633.4654  548498.6533  541041.9762\n",
       " [2856]  -54973.1839   29744.4014  -21959.9035  -87377.2189  215918.8858\n",
       " [2861]  -67360.1082  -29884.8755    8410.4482  312840.0846  565671.0843\n",
       " [2866]  384897.7812   43728.5389  666397.2308  -58762.5537  630140.5024\n",
       " [2871]  199276.0342   43293.8476  540947.2945  581399.9390  193824.3220\n",
       " [2876]  -96585.1813  296326.2971  224195.0242  465160.4975  715615.0639\n",
       " [2881]   65992.7705   76549.3225  271465.4496  290308.3930  439007.9619\n",
       " [2886]  265893.7143 -139670.7250  360367.2311   14941.5650 -216645.4113\n",
       " [2891]  625938.2015  -26034.5836  121249.7362   39648.5329  399329.0696\n",
       " [2896]  406553.6662  -79843.3833  -19505.5849  452694.3846  249587.4534\n",
       " [2901]  325957.9809    -178.3016  223468.1654 -117068.5765  208502.0583\n",
       " [2906]  450155.6042  460241.6648  626533.3196   58107.2199  244467.8796\n",
       " [2911]  399632.7889  103719.6106  114204.0988  -50738.1578  120046.2098\n",
       " [2916]  521570.4518  511640.6107  589265.0430  741705.4145  -22281.4747\n",
       " [2921]  306844.7280  246932.8077  164881.2409  425157.4625  531748.2972\n",
       " [2926]  315395.5890  544146.0552   11464.6913   33173.7353  260597.4621\n",
       " [2931]  434638.4497  695734.6356  395829.5151  136202.6001  263623.7269\n",
       " [2936]  348227.2141 -217591.2960  618490.5922  454569.1159  363837.9894\n",
       " [2941]  486358.7050  293769.6911   80251.7345  461797.5267  163348.2756\n",
       " [2946]  354119.4961  461006.9479 -122855.9975  117065.4601  116177.9542\n",
       " [2951]  389415.9342  486967.5510  105061.2086  351128.2702   35973.0059\n",
       " [2956]  -17542.1952   47197.0798  283650.2890  156078.8672  143099.3339\n",
       " [2961]  -79651.2097  -76503.3237  547793.5271  297133.0420  284498.5053\n",
       " [2966]   40744.7976  103976.9026  578918.2623  684312.5182 -165558.9502\n",
       " [2971]   10828.4409  437404.2404  208356.2742  378663.4011  -93273.5034\n",
       " [2976]  701861.7688   86712.4780   76691.9057  469243.0431 -153736.1276\n",
       " [2981] -130739.9936   33025.6387   74959.8273  554184.3320  720978.9440\n",
       " [2986]  -80217.0171  -12614.3568 -273451.1595   -6873.5310  478257.9912\n",
       " [2991]  656137.8099  319859.4037  501393.8594  541401.7448  414994.5459\n",
       " [2996]  536744.1216  299645.7045   78320.4830  381171.7844  163102.9886\n",
       " [3001]  -19341.3798   82098.9395  682474.8381  295458.3817  -38940.9454\n",
       " [3006]  305818.4495  360702.0251  -58973.4831  614892.5975  609356.8445\n",
       " [3011]  680291.1068  475471.6599  492949.9854  127861.3483  500795.9555\n",
       " [3016]  355258.8836 -170653.2561  344681.6041  597738.1545  136656.2885\n",
       " [3021]  315716.9797  721648.0296    3066.3055  331431.6930  226097.1469\n",
       " [3026]  367474.8173  537322.7425  131663.3864  -13073.3287  432984.3290\n",
       " [3031]  527506.3084  448058.1951  145658.9098  418969.0171  133508.5330\n",
       " [3036]  -25530.1043  366238.4553  434990.5509  243159.4510  111435.5805\n",
       " [3041]   62505.1333  214090.5493  675932.9953   44533.8045  137286.8989\n",
       " [3046]  614368.7789  223093.4444  147750.1305  546568.6737  355942.2929\n",
       " [3051]   99082.1930  453235.5946  419255.8421  153767.1764  566407.7535\n",
       " [3056]  292583.8527  336065.1396   48488.3835  474670.9648   43360.9369\n",
       " [3061]  108685.7134  290261.8769  657909.1810  206585.5193  520173.8705\n",
       " [3066]  449138.3759  237579.7034  208220.2018  365461.3409  665356.5776\n",
       " [3071]  575333.0410  143111.0916  282810.9872  499551.7800      31.5773\n",
       " [3076]  342943.0847  278285.9454  293748.7096   38019.7659  -27765.8809\n",
       " [3081]  650867.2662  -90588.8037 -277787.1232   76484.0253  509825.7597\n",
       " [3086]  587195.5425   47333.1119  152406.3210  428069.8333  -64851.5022\n",
       " [3091]   27715.7814  265814.9438   74287.4574  501361.8196  487737.3397\n",
       " [3096]  383846.1087     860.0496  550781.4741  -65663.4113   66933.1514\n",
       " [3101]  375902.7268  580879.7221  564476.1918  176980.9067   23801.7505\n",
       " [3106]  418813.1726  108870.5274  251922.8200 -154276.7528  573736.8199\n",
       " [3111]  329767.3462  574644.2137  421730.0477  447204.0915  187921.5750\n",
       " [3116]  348645.1729  493687.8149  500569.0247  504327.0481  519358.7141\n",
       " [3121]   92174.9871  576989.6984  168356.6478  184997.9907   34433.8991\n",
       " [3126]  453703.2527  554721.1858  -55736.4202  475104.1272  547833.4686\n",
       " [3131]  267100.4342  523004.3925  307946.2279   82609.7066  182357.3940\n",
       " [3136]  157309.8734  452574.8715  188772.0454   57379.4312  312217.4089\n",
       " [3141]  146794.0678  435250.8081 -122875.1583  189010.5989   36163.4511\n",
       " [3146] -181514.1631  -32409.3653  663348.8885  160045.6648  331828.2175\n",
       " [3151] -171881.5070  365084.9558  -84461.3411   11521.8178  198718.5195\n",
       " [3156]  563566.8490   87251.3214  298673.3221  224159.8199  235331.5846\n",
       " [3161]  439729.6185  105990.1221  526819.8593  197552.1092  122113.4160\n",
       " [3166]  -61785.2442  272837.7535   93013.2587  572176.8115  232777.9181\n",
       " [3171]  253761.9808  388031.9914  138896.1528   58374.8205  488710.5294\n",
       " [3176]  379091.2731  527257.6837   -6484.8399     812.7381  306687.3951\n",
       " [3181]  141257.5420  620003.2379  146976.1151   25472.7402   46352.9458\n",
       " [3186]  197747.2882  486497.5609   92304.2397   80067.2877  149326.5033\n",
       " [3191]  483471.2260 -144408.6630  280472.2590  288392.4691  300939.4664\n",
       " [3196]  292511.0415  121495.8996  240020.2334  404451.9206  641914.7772\n",
       " [3201]  -38533.7824  169303.7987  401393.3873  592542.3918  280010.9512\n",
       " [3206]  518054.8365  353163.3938  653858.9320  245773.2515  282699.4507\n",
       " [3211]  -66744.3419  403361.5403  113605.3019  178428.9089  -33029.4312\n",
       " [3216] -178381.2897  163177.4394  123393.0877   31073.6970  341245.3264\n",
       " [3221]  605352.6599  570580.9159  406531.8695  629885.1004  595729.9749\n",
       " [3226]  174815.0493  400533.1726  328773.5445  479305.5584  274157.8170\n",
       " [3231]  202394.8092  107443.6964  298103.2735  192302.2974  256220.8867\n",
       " [3236]   78241.9266  705232.0231  316717.4457  383384.1657   19131.6885\n",
       " [3241]   46775.5037  119023.6586  514254.3206  296751.2129  627666.3450\n",
       " [3246]  438415.5746  501704.4749  280185.3737    -958.9753  638635.6427\n",
       " [3251]  147508.4959   33710.5019  -93776.8523  297406.5316  426998.5647\n",
       " [3256]  326245.5997  517825.6540  -43469.7856  -71317.9763  389129.5819\n",
       " [3261]  571858.3264 -217344.7749  604852.5586  239673.9141  465125.9428\n",
       " [3266]  -95324.4489  566205.8040  -90701.3752  526339.9930  -40749.2925\n",
       " [3271]    7594.4885   12326.6311  190976.2412  384001.8711   30156.1901\n",
       " [3276]  472612.3934  -88868.5533  422706.8503  650298.9703  205873.0249\n",
       " [3281]  507328.9034  303981.0898  623243.8766  311083.8305  154394.4617\n",
       " [3286]  369155.1454  -45512.6219  417831.3250 -162586.2786  461899.2597\n",
       " [3291]  -85391.6054  156355.8203   -9876.1404  417939.0277  711484.3869\n",
       " [3296]  521925.9298  -11763.5237  160332.5167  633006.5100  429438.5988\n",
       " [3301]   76279.3680  555326.7274  314834.7242   66804.1622  523700.1204\n",
       " [3306]   56070.8231  100793.2263   60235.8277  -42370.6763  461510.8842\n",
       " [3311]  541004.4421   61817.0915  264019.3731  -88610.8368  187545.5257\n",
       " [3316]   39245.7888  518681.4080  439596.4789  169605.2345  233322.2176\n",
       " [3321]  172467.0222  528602.3773  286171.3659  229616.9653  398111.6428\n",
       " [3326]  562833.9682 -136692.5152  444299.1173  225747.9903  321900.1183\n",
       " [3331]  482994.2391  391606.2739  434159.0892  141745.4901  211584.1627\n",
       " [3336]  357830.1098  639461.5944  -77925.3111  273120.2698  135494.3176\n",
       " [3341]  321951.6986  516593.4578  239515.0838  501216.7989  566051.6013\n",
       " [3346]  313834.7669   -1164.7374  553731.4174  473568.5669  571099.1073\n",
       " [3351]  431374.9489  382420.8201  371585.2702  316228.0391 -205061.8121\n",
       " [3356]  144191.2708  192116.9924   63766.3905  423617.9543  662560.0220\n",
       " [3361]  425401.7390  516179.3113  521214.9170   -9632.9102  132660.5242\n",
       " [3366] -204418.8306  -46870.5635  556862.0737  693698.8388  601249.6190\n",
       " [3371]  508087.5202  672534.7869  577938.8837  348887.2736  -54936.0063\n",
       " [3376]  447739.1777  638015.8972  305662.9938  753719.0811  318747.3655\n",
       " [3381]  302826.0622 -116423.6409  253793.7266  152708.5573  -11970.2796\n",
       " [3386]  463078.9940    8997.3215  718793.3151  -10304.1778  705389.8121\n",
       " [3391]  556404.2226  571801.3743  627938.1664  504639.3132  477390.7314\n",
       " [3396]  277920.1776  263955.1921  323359.7842  508837.8812  276953.7221\n",
       " [3401] -254643.5701  128660.1877   22082.9243  596926.4414  259956.6892\n",
       " [3406]  274895.0310  112488.3197  117385.6851  654139.0345  287641.2504\n",
       " [3411]  533997.5821  551409.2731  -99945.1717  461593.2604  814816.6476\n",
       " [3416]   69946.7380  405856.4287  -86637.0885  361665.9377  510539.7297\n",
       " [3421]   91540.9510  105723.5099  827488.0209  203059.2776  409947.2482\n",
       " [3426]  246778.8200 -172596.9330  372780.0697  346130.5071  450766.9307\n",
       " [3431]  389925.8218  -21731.2382  151798.8732  -79954.5420  139106.1854\n",
       " [3436]  487787.8771   32118.5136   85031.3455  617433.1294  267499.9259\n",
       " [3441]   74274.0635  211334.5329   45268.6472  450847.7884  599032.3770\n",
       " [3446]  452489.3957  299486.7949 -109418.9873  -29633.0656  237831.3519\n",
       " [3451]  415840.1205  648079.8133  385041.3501  599942.3136  113713.7007\n",
       " [3456]  530894.5178  493499.0840  399668.5942   -7320.5012  426986.0829\n",
       " [3461]   70027.8102  690230.6072  -46670.9993  607282.3386  205190.8021\n",
       " [3466]  264209.4344  251791.7426  356058.0678  522921.1558  168098.9056\n",
       " [3471]   25810.4558  633875.7165  199117.8832 -209469.3606  212452.8744\n",
       " [3476]  417883.6785  535683.5208  211684.6947  230813.8209  603639.7581\n",
       " [3481]  114820.0340  393479.0164  414115.2054  -60347.3668  652313.0902\n",
       " [3486]  356969.6414  381885.7360  427739.6640  405018.9134   75972.1342\n",
       " [3491]  417777.8894   28773.8403  -22837.2577  558098.3558  272603.1008\n",
       " [3496]  147343.3403  472467.7815  560348.5729  200724.9425  411980.0422\n",
       " [3501]  -32154.6586  108905.9648   63870.7911  557706.1612  428840.6713\n",
       " [3506]   54147.9233   64944.9698  426028.9522  -74807.7094  416691.4845\n",
       " [3511]  398057.3450  669723.1908  468482.2546  430745.5166  206682.2231\n",
       " [3516]  343648.9995  569067.4769 -159203.3423  561733.0920  462431.3293\n",
       " [3521]  452849.2909  182216.3732  253097.8867   -9437.0386  295688.1028\n",
       " [3526]   65418.6771  426895.5730  -79595.2193  187301.4782  432849.5480\n",
       " [3531]  655394.3878  200924.5428  127673.8819  102229.1689  -14856.9828\n",
       " [3536]  170156.3573  177976.2856  235510.2189  162406.4444  537233.8895\n",
       " [3541]  217525.9152  585852.6347   46735.7198  185120.1143   69294.8364\n",
       " [3546]  603250.3507  434387.5886  142598.5096  109227.3748  226030.4033\n",
       " [3551]  276424.5722  483212.0815  340796.8960   32800.0643  401940.9511\n",
       " [3556]  246817.3242  123747.3755  462592.5299  502387.7648  285008.7528\n",
       " [3561] -189793.7645  592557.2394  117960.6653  271744.4789  781112.4822\n",
       " [3566]  358242.0101  -14951.5514  -62757.9930  507075.3864  618074.7678\n",
       " [3571]  404977.5617  361805.5142  300844.8947  543495.5370  593801.3046\n",
       " [3576]  316459.9030  667778.8069  251778.7281     396.5742    3196.6625\n",
       " [3581]  304164.2885   88033.3769  241563.7531  236939.3365  211016.8087\n",
       " [3586]  198238.1862    4501.3574  415674.1937  348020.8168   48659.3565\n",
       " [3591]  393566.8482  117993.6967  388778.1307   -5969.3532     390.9933\n",
       " [3596] -232999.2770  640512.1791  452126.1825  657938.1869  232375.8366\n",
       " [3601]  -27754.3447  377603.5817  422415.8039   62739.5465   65710.1237\n",
       " [3606]  285127.0999  783832.0751  -80051.4382  587090.1302  679595.9296\n",
       " [3611]  234194.6204  550652.6851  506847.3168  -35758.2185  438961.6592\n",
       " [3616]  593868.2024  377308.3575  100389.5249  237080.1561  399421.0838\n",
       " [3621]  327870.4222  129796.6206  116453.8630  395461.9952   -1230.0959\n",
       " [3626]  351542.8693   24611.5557  135630.7677   30208.8395  -61014.6312\n",
       " [3631]  647947.6117  461130.8924  525044.0222  547916.6268  298190.4738\n",
       " [3636]  532851.0319   81197.5158  591461.9042  257463.2311  279626.2312\n",
       " [3641]  322571.6274   79249.0429  237744.4747  488510.8108  515242.3986\n",
       " [3646]  811317.5814  318488.5472  487033.8025  642492.2058  587400.6746\n",
       " [3651]  275413.7789  671823.6681  750667.5872  251865.9497  422181.4877\n",
       " [3656]  286520.4381  256507.9044  667860.4159   31575.2478  221833.9139\n",
       " [3661]  -28944.8180  224810.9592  250162.6951  160200.6312  703369.5375\n",
       " [3666]  -48836.7601  372976.9605   86443.9195  494615.4943  116650.4601\n",
       " [3671]  599003.2417  607553.2366  280690.1262  602242.0789  179817.7482\n",
       " [3676]   98738.2407   -6969.0464  277469.5053  663036.4305   -9365.9787\n",
       " [3681]  -35247.0289  350466.3229  186537.2602   17821.7101  261942.0604\n",
       " [3686]  634236.4275  -47225.6079  368337.4865  351801.2502  108339.1173\n",
       " [3691]  236001.6392   85213.5039  131696.7576  313801.2493  547520.7927\n",
       " [3696]  421669.7886  169987.6864  207274.8219  655180.6052  140465.2446\n",
       " [3701]   16385.8764  399607.5825  521466.3027  293583.3237  579891.2620\n",
       " [3706]  457546.6017  389093.5075  386040.3850  163708.0597  169151.7146\n",
       " [3711]   10576.7293  365911.0714  463392.2228  684441.4455  399975.2623\n",
       " [3716]  245092.0982  111674.0931   25979.6882  214783.4810  300059.9929\n",
       " [3721]  566946.6142  -69286.3759  598022.4978  -58208.7219  197907.0423\n",
       " [3726]  684799.7871  280095.4462   91227.8389   26670.7783 -166397.9356\n",
       " [3731]  647604.6545  177643.5733  462335.5936  110517.8852  485509.5309\n",
       " [3736]  536262.5399  -35306.5541  286334.5042  180812.4876  146943.2767\n",
       " [3741]  324396.7382  811845.4835  503118.2751  306222.3451  612555.4397\n",
       " [3746]   56194.2468  558638.3604  575099.6542 -135287.1398    5608.5390\n",
       " [3751]  447342.1530  556795.0975  254033.9128  -69763.6888  392445.3479\n",
       " [3756]  400895.1390   27313.0404  168580.1814  424337.7115   44733.0505\n",
       " [3761]  -81451.5407   25458.7216  301004.3105  466987.2553  204514.7293\n",
       " [3766]  112892.7522  138314.8537  187770.0881  261175.6811  -54625.3316\n",
       " [3771]  -76270.0131  476848.2003  368531.4329     359.0461  310678.4846\n",
       " [3776]  321655.0478  331150.5980   65593.2320   -4582.8607  217562.6453\n",
       " [3781]  154388.1793  185765.2561   43078.1462  757201.1719  470096.0395\n",
       " [3786]  750976.3721  127772.0344  120024.9645  101229.2370  582421.8983\n",
       " [3791]  314478.9061  505783.8147   39603.5500  594730.4457 -152597.2316\n",
       " [3796]  197033.9822  510844.1611  -15782.0391   32165.0576  343561.4054\n",
       " [3801]   80206.8795  -32000.2145  387075.3097  393647.2758  475609.8255\n",
       " [3806]  426516.1266  259668.2562   76584.0796  436485.1465  -13363.1418\n",
       " [3811]  561014.7901  392261.2471  420153.7561  459581.6464  209355.0317\n",
       " [3816]  236953.1560  293857.0090  378018.2041  176259.5761  256105.4183\n",
       " [3821]  120522.7218  614417.9763 -169544.0713  -30667.0026  378573.8110\n",
       " [3826]  614072.5077   15063.8819 -205228.2351  394752.5165  400897.6052\n",
       " [3831]  216786.7303    3928.1175  338633.0233  490126.2242  348500.7528\n",
       " [3836]  161420.9049  326933.5091  645391.5336  -33082.6932 -124331.0672\n",
       " [3841]  416100.4889  634546.5054  632402.8529  237071.6021  362912.1098\n",
       " [3846]  170482.7806  348794.3164  700606.7635  520065.7966  284908.0963\n",
       " [3851]  264462.6117   94049.7123  529960.9040  416669.7850  498527.2786\n",
       " [3856]    3181.2210  565343.6241  368263.8863  654758.0059  610789.7404\n",
       " [3861] -110282.8539  453973.3707   33479.0914   47423.0554  507989.4348\n",
       " [3866]  130182.0038   49311.2274  294604.7487  482001.3232  342506.6838\n",
       " [3871]  464047.2477   96224.6385  284016.0939   -2627.8128  -14625.2677\n",
       " [3876]  582171.0093  192042.0124  143196.8967 -110433.0222  377550.7151\n",
       " [3881]  407686.5364   83928.0798  646067.4679  597709.1731  386398.4625\n",
       " [3886]  649388.8146  -10570.6500  108124.6570  298169.3285  200744.6125\n",
       " [3891]  375488.9933  154715.0891  546426.9111    2512.5498  589947.0000\n",
       " [3896]  600712.8953  363431.6145  204472.0271  166160.3261  835958.5022\n",
       " [3901]  324624.8543 -130324.1061  270215.8358  278715.5889  579367.5184\n",
       " [3906]  226067.2870  386181.3807  483447.6015   86745.6069  401731.8533\n",
       " [3911]  582801.6591  261834.6710 -159507.9683  -39185.5007  585687.3952\n",
       " [3916]  478057.9011  112434.5438  584153.1809  646715.3130   91965.4998\n",
       " [3921]  260031.7579  419625.7592  229406.3933 -132488.8537   94003.7615\n",
       " [3926]   88584.8274    3754.2454   81818.8808  189403.4461  433882.6335\n",
       " [3931]  570725.3943  -32931.6974  109327.3756   93380.4793 -109432.6110\n",
       " [3936]  219342.0380  208583.1683  447261.7392   61165.5856   17908.5770\n",
       " [3941]  268498.2483  -98141.4607  661723.4281  -80311.1270  160691.3148\n",
       " [3946]    8695.0045  361052.4569  275726.8810  233013.6329  676903.5456\n",
       " [3951]   84005.6019   -7884.7991  196310.5737  648985.8655  656235.7567\n",
       " [3956]   54368.5437  281975.0808  191274.9370  467747.8934  333815.0695\n",
       " [3961]  -87917.4797  620799.6838  243431.6408 -329106.5891  177113.3916\n",
       " [3966]  208387.7518  336131.0152   -1897.1746  485907.4193  549380.3056\n",
       " [3971]   66873.4868  205984.8409  680823.0732   30225.0473  383153.4765\n",
       " [3976]  348578.6473  165873.6818  448829.9240   44131.8303  674422.8601\n",
       " [3981] -104677.0478  126992.1646  227402.6205  130872.7688  297390.8069\n",
       " [3986]  696335.1570 -111173.7921  404965.8725  326077.4189 -187232.5201\n",
       " [3991]  628284.0134  543859.0969 -124108.3229   63227.6863  105318.5981\n",
       " [3996]  415713.7779  628368.8888  519489.7936  676355.9515  512300.8037\n",
       " [4001] -178136.5807   21655.2838  370095.3918  -43649.3438  274797.6451\n",
       " [4006]  717780.0260  532397.3832  477165.1935  113925.1931  659992.9110\n",
       " [4011]  -20312.1486  152415.5056  123741.9106  617855.7657  -53567.4070\n",
       " [4016]  684488.4974  444791.0105  207592.1122  138997.3373  315127.2296\n",
       " [4021]  149479.6966  405414.8331  552342.0390   45123.0323  212404.5663\n",
       " [4026]   67874.9021  278213.6591  324411.9697   53229.2056   93876.8884\n",
       " [4031]   81218.3076  344692.2227  216016.4578  100576.0155  427115.6459\n",
       " [4036]  402182.3048  180946.5841  324727.4322  159933.4721  155758.3903\n",
       " [4041]  611559.5856  247358.2451  134481.3550  125212.0171  243104.8182\n",
       " [4046]  202807.8074  494631.8111  191014.6903  462683.6971  406297.0095\n",
       " [4051]  349446.9279  608092.3615  469985.2723  -73044.4705  426278.7125\n",
       " [4056]  452828.9312  223023.1066  178390.8570  329751.0630  295791.3255\n",
       " [4061]  494981.3802  501615.1376  455223.3919  527856.2153  112459.1948\n",
       " [4066]  369872.6876  231204.2438  181419.8123  113049.2926   81270.6660\n",
       " [4071]   89324.6851  483940.7727  220054.5906  -30816.5034  496292.2670\n",
       " [4076]  330905.5731  439180.4968  671963.3747  432661.6868  611075.0368\n",
       " [4081]  -47563.9037  701153.9895   57168.1833   16160.3599  474735.2126\n",
       " [4086]  197983.0881  117625.8704  602092.6534  189186.3923  126384.6268\n",
       " [4091]  259026.2752  759496.1328  384366.8519   84116.3340  342874.4573\n",
       " [4096]  728407.9204  192095.5929  548417.8657  216578.5023  658864.5644\n",
       " [4101]  673953.5145  677050.8484  678458.8909  657655.2338  317340.8571\n",
       " [4106]  155562.2058 -139775.5394  -99796.2119  -74877.0834  165366.2994\n",
       " [4111]  366792.3307  213214.8274  429151.0845   77462.8775  532672.9904\n",
       " [4116]  -30726.6363  737218.3193  469967.7180  736329.6532  461385.6244\n",
       " [4121]  327640.3211  100563.8009  290691.9655  517121.8102   31897.5161\n",
       " [4126]  413799.9483  151435.6639  168135.4610  123208.8911  283503.6366\n",
       " [4131]  301945.4247  262449.8309  528770.6640  363374.4456  548507.6718\n",
       " [4136]  514172.0125  457044.1280  -89302.8396  771493.9980   50942.0765\n",
       " [4141]  249454.7563  172033.7103  100613.3370  470243.1691  148175.4479\n",
       " [4146]  -17305.7053   95353.4130   89916.9387   75164.6426   82770.6991\n",
       " [4151]  189774.6268  387021.6111  241255.3606  359307.2247  118732.1314\n",
       " [4156]  482527.7659  129689.3755  767853.9367  -24688.5474  224331.6754\n",
       " [4161]  -11753.3544  337325.8090  326731.5147  -28626.0558   65101.8115\n",
       " [4166]   63322.6973  603071.1213  310450.6618  591506.6340   -9579.6168\n",
       " [4171]  533180.6105  449572.3970  156682.6178  434036.4700    4102.9343\n",
       " [4176]  104701.3910  394383.1567  543393.3302   47278.3358   81584.2551\n",
       " [4181]  634701.6463  402253.6187  303723.4309  190926.8381   76963.4716\n",
       " [4186]  338955.5845  311725.6322  462082.4417  125851.0704  391203.9914\n",
       " [4191]  140146.0441  566085.8663  535844.2387  230015.6043  253547.7308\n",
       " [4196]  572220.1445  101008.0851  275178.5057  252951.8045  358917.6358\n",
       " [4201]  223461.8283  135075.8774  552498.7161  -57422.2147  465183.1791\n",
       " [4206]  507162.0570  513902.9772   16836.6121  405352.6969  338692.7727\n",
       " [4211]   96096.3992  661937.2591  122861.3029  123044.0517  614781.6656\n",
       " [4216]  185072.4815   46986.8096  488950.6357  214313.1776  423129.3414\n",
       " [4221] -229322.3513  540401.3649  524738.1984  409814.5533  170369.0320\n",
       " [4226]  641222.0682   27139.5891   31153.4928  124267.5620  507023.3696\n",
       " [4231]  414315.1038  109632.4839   27054.6002  272510.9029  239023.1891\n",
       " [4236]  684853.5390  618816.8050 -154800.2500  602876.6991  405404.8012\n",
       " [4241]  147624.5216  246784.7023  570404.2649 -199427.5331  713938.8709\n",
       " [4246]  308169.8911   58233.6937  -15460.1282  161033.1248 -196259.5084\n",
       " [4251]  197306.3148  493355.5019  -80919.6121  309183.2044  -35601.8089\n",
       " [4256]  504503.4066   33669.8081  535314.6676  601384.9629  233399.9353\n",
       " [4261]  411982.9402  710453.8959  342804.7766  308294.5830  644429.1480\n",
       " [4266]   99443.9612  414582.4946  342903.0846  510026.9984  538063.1209\n",
       " [4271]  274395.0167  257952.4241   -2022.7478  -16982.8566  189835.9247\n",
       " [4276]  670318.6142  593653.4625  639484.2022   29797.7433  120819.9441\n",
       " [4281]   44964.0143  650045.3983  458379.1476  -23052.6843  545896.9541\n",
       " [4286] -118825.4021  182128.7239  109014.0940 -169555.7192   -6924.8628\n",
       " [4291]  427372.6694  105548.8445 -106499.4220  240137.5728  359379.7291\n",
       " [4296]  316362.4158  714769.2270   67374.3409  365899.0621 -132277.2890\n",
       " [4301]  -22702.4673  425172.7100  113300.4738   79862.5221   74563.8997\n",
       " [4306]  174849.4458  153979.2819  164282.7842  347698.8425  265001.0785\n",
       " [4311]  236939.1210  344520.9156  224859.3380   66665.6201     330.0731\n",
       " [4316]  246856.5395  528959.6977  107736.4118  189443.0536  256294.1003\n",
       " [4321]  622758.1242  168035.3808   48895.5098  -14088.5161  -25150.5458\n",
       " [4326]  335671.9081  411641.0987  379085.4905  407966.5607  266040.6222\n",
       " [4331]  597331.3415  -36683.8296  250091.4733  343092.0409  433279.5169\n",
       " [4336]  406273.3639  108131.1728  684099.0945  151628.7760  205904.4756\n",
       " [4341]  565432.1425  352394.8305  526529.4666  493799.1603  162933.8107\n",
       " [4346]   58062.9132  514399.6388  127190.9473  -28719.1418  197196.1573\n",
       " [4351]  -86911.4889  260817.3501  216754.1864 -152643.1850  704429.0236\n",
       " [4356]  370176.9402  315806.6866  157741.4471  -63979.7863  211269.0747\n",
       " [4361]  331304.8544  174769.8908  200726.9080  220133.4548  466284.0372\n",
       " [4366]  305257.3858  161239.2255  745550.0524  364603.2489  284781.9425\n",
       " [4371]  664024.5027  559992.0875  126624.6221  211113.1221   33979.4356\n",
       " [4376]   64398.5207  -23443.7461   82951.9179  463031.3220  -63652.8776\n",
       " [4381]  443065.6192  -89959.7446  642256.5186  -26781.7669   47060.6880\n",
       " [4386]  401946.9906  165082.5291  370160.9618  168954.6680  247562.9053\n",
       " [4391]  136703.5640    9154.3067  -22468.5056  189995.3457   29446.9602\n",
       " [4396]  194445.1670  576225.8188  172530.6917  544106.0460  351151.0668\n",
       " [4401]  296489.7584  248630.4662  235287.7651   78102.5218  -79507.9261\n",
       " [4406]  277263.6228  202771.1461   55753.8442   87152.0613  422972.5686\n",
       " [4411]  -70562.9636  662320.4073 -120724.6355  295844.2669  179932.1026\n",
       " [4416]   23106.4246  566868.3769  -55517.5071 -213387.4594  -97636.7356\n",
       " [4421]  371082.2561   94487.1363  -65193.4657  693774.2264  296969.5735\n",
       " [4426]  339867.3125  428953.0488  498235.5290    -338.4726   83171.7937\n",
       " [4431]  -15198.1797  410918.5753  203085.7694  501858.3789  427127.4516\n",
       " [4436]  -28120.3782  286504.6653  150250.7124  169335.5448  236953.2439\n",
       " [4441]  -44676.5787  551311.7168  542955.9946  350372.5386  713056.4236\n",
       " [4446]  390390.0747  525841.4199  182905.5154  499511.3102  288744.9365\n",
       " [4451]  393818.2061  156899.5010   53618.8031 -169229.3193  332064.5161\n",
       " [4456]  328778.1614  140530.6125  181096.9969  393823.4443  310525.3653\n",
       " [4461]  -23950.5037  105127.7993  497355.3419  318915.3845  136225.7321\n",
       " [4466]  521195.8905  432967.6931   93897.3005  289798.5568  164339.1666\n",
       " [4471]  -69374.6117  385812.0302  605250.5948 -111026.3476   78607.2002\n",
       " [4476]  103936.9807  190681.1655   32750.8405 -227766.1162  -78560.4494\n",
       " [4481]   65914.6251  347463.8289  146453.6231   30420.6608   94281.1470\n",
       " [4486]  224986.7363   23324.9014  153528.6154  260788.2479  677562.6167\n",
       " [4491]  399754.4598  336473.8843  331781.9795 -115673.3030  516509.6293\n",
       " [4496]   57746.5995  398565.6003  647529.1372   20586.2469  196129.9226\n",
       " [4501]  530962.6292  321412.0304  274927.8115  484911.8735  275815.2889\n",
       " [4506]  544429.1596  -40633.4078  408464.1452  180412.7808  118616.5631\n",
       " [4511]  210027.7737  752909.6408   79272.2015  448495.6017 -250386.0765\n",
       " [4516]  195994.5876  456102.0475   46303.8439  -15332.2191 -117604.5390\n",
       " [4521]    6764.8428   -3147.4784  390510.3994   21300.7007  339701.0040\n",
       " [4526]  625745.4670  520079.3121  457217.2553  329543.3787   86197.2180\n",
       " [4531]  150889.9761  551726.6262  375738.8097  348693.5628  732330.1967\n",
       " [4536]  -34045.6892  132717.2169  604702.1881  739258.3312  266530.7257\n",
       " [4541]  364149.4431  -85695.2408  157174.9978   29833.8031    3094.8835\n",
       " [4546]  116323.9785  392364.1299   39743.5851  437396.5596  409620.5479\n",
       " [4551]   43825.3074   54884.4689  257740.8806  177693.5447  797316.6739\n",
       " [4556]  280149.4645   80442.4769  249684.8293  223854.1585  283172.7649\n",
       " [4561]   83068.1931  271701.3468  -16414.0539  595263.5670  144913.8858\n",
       " [4566]  -83621.9208  -39247.7432  208513.6578  469163.5855  108316.3045\n",
       " [4571]  724889.5532  385058.9362  554962.6237  439376.6388  726772.2464\n",
       " [4576]  -61049.6594  288292.7570  460310.4606  260675.3068  406188.2108\n",
       " [4581]  -42754.4877  568295.9567  222924.8662  134859.0636  211362.2504\n",
       " [4586]  678888.8239  864187.1807  508882.0799  117982.9870  685928.8702\n",
       " [4591]  377686.4489  267339.6719  112563.2254  293276.6178  424428.7983\n",
       " [4596]  403265.4325  422331.2428   69465.1419  416308.5198  197420.7846\n",
       " [4601]  524278.2037  704394.0848  240977.8990  122509.0848  143045.2321\n",
       " [4606]  333837.9753  307109.4956  518344.8272  406669.3943  448616.3081\n",
       " [4611]  615076.7460  555333.5325  777181.6454 -140549.3063  591745.4683\n",
       " [4616]  458576.7049  414796.6978    6441.1834  165951.1695  482111.6780\n",
       " [4621]  272083.6737  512795.3077  245805.6412  704656.4348  127953.5609\n",
       " [4626]   83245.1852   68000.7140   24675.7033   45646.7394  458552.3507\n",
       " [4631]  203462.1935  460730.5364  482423.0922  646983.0669  387751.5992\n",
       " [4636]  223051.3579  442588.3832  -56527.6657  100281.0317  456384.5818\n",
       " [4641]  -31224.4995  710649.1048  315576.0761  244582.0754  375232.2159\n",
       " [4646]  138927.0654    9651.6500  436083.2093  256627.8320  -74028.5183\n",
       " [4651]  112246.1677  560330.5497 -126554.4855  -70860.9022  561392.7633\n",
       " [4656]  361868.2984  516311.1924  719077.6192 -208744.7332  491669.6433\n",
       " [4661]  772108.2614  644694.6846  353946.5746  466645.7393  281474.2467\n",
       " [4666]  451047.3379  299878.2711  -85084.1481  668858.4294 -126317.7913\n",
       " [4671]  503477.7976  291880.8065  298670.4344  268951.2537  339244.9441\n",
       " [4676]  578478.0905   67460.0620  587586.0656  633347.2685 -124954.5630\n",
       " [4681]  108485.6456  107055.5637  301686.4866  143580.8694  -43224.8858\n",
       " [4686]  217411.6420  250135.7053  185102.8320  574613.2778  -19927.9782\n",
       " [4691]  337445.4345  464614.6036  -44824.9764  708164.2707   47204.8255\n",
       " [4696]  303192.2017  190238.1514  304682.9863  783580.6539   65860.6106\n",
       " [4701]  153344.4092  101312.2467  553027.7309  389184.3756  420318.5082\n",
       " [4706]  414141.3978  181082.0993  -12817.6386  446691.5036  120859.4063\n",
       " [4711]  382443.3911  131124.2635   64772.4424  578690.9664  330327.0152\n",
       " [4716]  667007.7532  747117.2004  353432.0843 -106116.0244  790417.7417\n",
       " [4721]  106833.4997  383854.6054  161854.1156  353681.5188   48495.1303\n",
       " [4726]  -37450.6276  136601.0950  528277.5591  133545.8815   44736.5190\n",
       " [4731]  217545.6255  656362.4882 -149309.6845  112910.7436  484301.3596\n",
       " [4736]  -37487.6783  181978.3885  381273.7470  484829.0822  358295.7933\n",
       " [4741]  419609.0019  331097.4393  502922.3602  180999.5201  273319.6033\n",
       " [4746]  477866.7551  614218.8590  606182.6855  661671.9060  246545.3152\n",
       " [4751]  107411.2516  233142.0908 -149603.8995  205397.9808    3923.9991\n",
       " [4756]  369474.1235  625845.8314  470857.8664  134604.4854  625279.3383\n",
       " [4761]  469935.2365  331648.8445  472697.0135   70289.5252  -83097.4194\n",
       " [4766]  407984.7443   18163.9772  285199.2362  -30053.3158  556859.7949\n",
       " [4771]  324012.0012  -12629.7401  614192.8562  570307.1685  122850.8680\n",
       " [4776]  649215.4435  260457.3487  649044.6272  326756.4415  546249.2972\n",
       " [4781]  229203.6686  162100.9491  -46348.6532  334773.2340   80741.7531\n",
       " [4786]  115805.9621  224847.2539  434598.0234  808967.7689  -16045.5828\n",
       " [4791]  180955.4509  373337.2732  -44619.9610   86519.9625  399561.7498\n",
       " [4796]   67953.0438  790239.6845  -39474.1897  447071.3350   30499.6284\n",
       " [4801]  549888.3078  413413.5601  154473.9893   63950.5151  323342.7878\n",
       " [4806]   37422.1260  188420.0735  116957.3334  387287.9771  711301.3710\n",
       " [4811] -121904.8055  118174.3386  496652.8798  262673.7437  682004.4682\n",
       " [4816]  633772.7879  107841.8974  454898.6470  545914.4794  491668.9749\n",
       " [4821]  341695.9768  245392.4978  732109.0580  314384.6887  256005.1431\n",
       " [4826]  607912.3111  345851.9895  122687.7738   25512.7213 -130881.8216\n",
       " [4831]  -18346.1356     472.9401  -56316.8347  288462.9382  645950.4570\n",
       " [4836]  -56490.3558  237551.4795  498479.3755  -76168.3105  602860.0965\n",
       " [4841]  489587.2609  674375.2341  -65685.3525  164816.7340  474856.6428\n",
       " [4846]  586318.6440  -48632.9749  619262.1949  240649.0113  285030.9486\n",
       " [4851]  523809.2145   36216.4365  653491.6571  652505.7935  351103.8489\n",
       " [4856]  599910.6153   34215.8827   76063.8903  412068.4413  483354.6482\n",
       " [4861]   17514.3792  482272.4991  286251.2488  543692.8162  306519.7073\n",
       " [4866]  649675.5891  320890.8974 -103709.0393   77077.9437  697951.2331\n",
       " [4871]  170003.6619  265445.6530  446000.5139  242598.0160  141307.6366\n",
       " [4876]  108557.2203  407135.7463  170904.1384  -79376.6579  684804.2613\n",
       " [4881]  185906.2324  237815.3399  270153.4035  363812.3798  419355.6273\n",
       " [4886]  455043.5230  311270.1684  617435.2582  547430.0873   99008.1876\n",
       " [4891]  419758.2831  259911.8514  360038.1764  931677.3215  472748.3504\n",
       " [4896]  490112.2539  447133.9336  348347.6605 -101404.5883  206139.1045\n",
       " [4901]   70408.3866   78286.5628  466877.0050  622538.7623  441871.9170\n",
       " [4906]  817436.4190  305055.0665   30116.3938  584647.1775  284261.8656\n",
       " [4911]  302005.9470  247672.4122  573605.3440 -124433.7591  570372.8529\n",
       " [4916]  738428.1360  373379.1010  211461.1253  398940.2386  153914.9017\n",
       " [4921]  309519.7220  401339.2489 -147515.1180  131511.7027  503537.3896\n",
       " [4926]  467119.4827  338335.2921   73665.5652   36640.5617  205739.9144\n",
       " [4931]  107834.1579  241355.8880  320650.1695  -23367.9784  614710.2998\n",
       " [4936]  530266.8470  136191.2287  -71022.3965  172209.7658  243558.1166\n",
       " [4941]  486613.7955   17379.1663  380877.8457  515937.0849  474087.0437\n",
       " [4946]  538940.6800   46653.7497   57328.7474  556976.2240  -10857.9866\n",
       " [4951]  780730.3343   21791.4909   15952.8611  319728.5433  484334.2666\n",
       " [4956]  303537.0769  -35632.6894  -29744.2828  496756.3084  192356.1415\n",
       " [4961]  467240.8407  511877.0063  604391.1498  -62407.6726  326251.4915\n",
       " [4966]  559386.6011    3262.1880  119311.4218  -50357.9863  239390.8703\n",
       " [4971]  294737.3648  824588.3923  219518.1656  430836.2772  -49478.4079\n",
       " [4976]  629533.7591  385744.8156  143156.3351    6963.4991  442877.4469\n",
       " [4981]  387236.5659  556134.2584  243730.4265  -14596.0990   26392.9503\n",
       " [4986]    5507.4834  257421.3194  507760.9499  750337.9152  461915.7844\n",
       " [4991]  423472.1122  317035.4221  221538.1933  -34295.0860  235021.1321\n",
       " [4996]   56829.0881  -62440.5660  362053.4083 -119935.4097   29643.1377\n",
       " [5001]  220720.4221  508871.6350  238361.3808  -33653.9725  -66492.2866\n",
       " [5006]  621117.6121  243565.9753  305465.5009   37778.6098    1571.9986\n",
       " [5011]  366299.4894  182171.2976  398169.2110 -158995.6838  -14639.8264\n",
       " [5016]  452876.0850  131174.4215  289409.6443  245070.1196  242772.3890\n",
       " [5021]  566396.4950  240227.0068  652923.7352  234939.6273  248651.6827\n",
       " [5026]  461153.1350   96118.1649   99755.1197  569203.5305  353273.4857\n",
       " [5031]  312312.2365  408710.9446  569342.6413  865401.5249  451630.2651\n",
       " [5036] -135256.1300   14893.7192   66721.9952  -42087.2179  129443.8163\n",
       " [5041]  344906.7638  239495.3079  585104.9505  436443.0645  114323.3993\n",
       " [5046]  326736.9140   66251.7379  488701.8687  370196.2070 -122917.8258\n",
       " [5051]  547584.0630  -41985.6851  219732.5187  791630.9335  554905.4260\n",
       " [5056]  574487.6116  181277.6885  412080.7807  498435.5168  295029.6324\n",
       " [5061]  696657.8441   11882.8267 -164559.8188 -128857.3701 -103860.4816\n",
       " [5066]  -68936.3921  635037.0427  262145.8586  429554.9555  588747.3340\n",
       " [5071]  101376.0409  296302.2589  129120.5835  -36764.4565  547683.0589\n",
       " [5076]   21814.7070  564745.2727   74837.2911  386626.6144  583423.1381\n",
       " [5081]  128475.2854  490306.4023  393056.7284  517083.3064  506111.1057\n",
       " [5086]  423470.9436  -76713.9792  191626.2698  160147.6952  146741.6720\n",
       " [5091]   24049.5590  183630.0462  -62686.7280  111485.1413  255215.7117\n",
       " [5096]  644277.7494   55131.7798   86208.2043  422839.6669  453936.2672\n",
       " [5101] -233726.6565  540854.6173  118441.7440   70034.2561  212195.7532\n",
       " [5106]  -12270.7384  551665.4761  709482.0821  467641.8720  257256.9088\n",
       " [5111]  187056.2004   11451.7789  192654.2704  158233.9329  193066.9257\n",
       " [5116]  150918.8440  -15653.2506  627826.5816 -183227.5257   65229.5147\n",
       " [5121]  231320.0739  767004.6384  313287.2657  -60673.4045  596573.0936\n",
       " [5126]  154424.1690  149627.6326   23786.0034 -213011.2857 -116997.8071\n",
       " [5131]  531959.5692  475836.1436  260883.5920    2523.9617  422757.7482\n",
       " [5136] -260601.3156   93544.1773 -120743.5374  202357.1947  571083.2636\n",
       " [5141]  329860.2376  199504.2211  409030.9738  -24927.0846  -10318.8578\n",
       " [5146]  210315.2718  -31547.1477  370149.7812  458208.4998  334794.8099\n",
       " [5151]  322593.3563  364030.3697  -94751.3475  550260.2315 -105195.9407\n",
       " [5156]  720865.6630  250207.3156 -199249.8111  526536.6284  556750.7984\n",
       " [5161]   27000.0842   80163.4672  540258.4386  382264.7723  394530.8100\n",
       " [5166]  -78986.8840  400932.5616  -55016.8791  615403.8939  393254.1438\n",
       " [5171]  -50362.1587  117338.3897  538708.1574  431704.2429 -194306.3329\n",
       " [5176]  224138.7997  -67151.0579  585535.2901  234823.5127  -17658.3151\n",
       " [5181]   98534.6234   46488.8491   -7941.7814   15624.5460  -38191.2658\n",
       " [5186]  377612.7538  162334.9236  416118.8692  665530.4962  564390.2643\n",
       " [5191]  678960.3868  236467.9152   50327.2986  -94287.4995  182717.0524\n",
       " [5196]   67248.1714  648034.0772  312796.2399  468788.9184   15354.5704\n",
       " [5201]  454465.3459  725055.8284  470344.2943  411190.4201  -65250.9492\n",
       " [5206]  543345.2884  297273.3691 -129112.3257  175877.2584 -102220.1772\n",
       " [5211]   41991.4311   49857.0434  102987.4409   95756.8727  -23538.7705\n",
       " [5216]  197634.5168  560066.5318  132720.9977  176961.5734  272028.2502\n",
       " [5221]  205864.1782  146506.7525   78254.2548  653285.1235  328199.7183\n",
       " [5226]  243704.4804   86967.6302   86205.3467    9430.1516  256113.3402\n",
       " [5231]  -81444.9511  549610.3787   60069.7540 -155174.5519   49517.8049\n",
       " [5236]  -10487.3060   74955.0133  331175.1540  443220.7526   68638.8849\n",
       " [5241]  646027.3807 -181954.3450  411378.9800  492188.1250  522761.5525\n",
       " [5246]  317797.0999  198557.8507  402099.3627  395670.4521  -24358.6989\n",
       " [5251]   -2337.7544   32860.3944  315573.2554  547724.7380  116208.4228\n",
       " [5256]  263290.9520  427964.4453  174263.1312  296879.2571  371089.4956\n",
       " [5261]  574826.7366  -15815.7412   -8920.2833    7257.9172  103705.4409\n",
       " [5266]   88266.2508  249125.3831   50609.9098 -171233.2875  -49396.5324\n",
       " [5271]  554187.6026  222139.1064  545748.8707  705895.7240  458646.8563\n",
       " [5276]  109328.7312  420568.7638  216002.4699   99812.4775  280646.5113\n",
       " [5281]   18683.9677    8596.3024  240964.3441  304042.8658  498204.1133\n",
       " [5286] -177989.6224  -27373.2342  486632.5481  533903.0075  147064.3594\n",
       " [5291]  206593.6573  574239.5192  259346.6011  170345.6946  497598.4556\n",
       " [5296]  195733.8364  106915.0471  530524.0711  210076.3829  515106.4327\n",
       " [5301]  476043.0792  223383.0762  291722.2201  117873.2727  445164.5601\n",
       " [5306]  580109.5260  399473.8526  282482.2430  164241.4691  -81579.3782\n",
       " [5311]  362169.0591  -18235.3485  515414.5783   20764.8081  534616.3104\n",
       " [5316]  385872.2071  383167.1261  478392.2508  272272.6082  485089.6300\n",
       " [5321]  110600.5520  696431.7720  584903.5000  493143.6059  429793.4343\n",
       " [5326]  361804.3483  564741.3160  215506.9051 -138989.5047   67458.7365\n",
       " [5331]  460437.2153  615704.7125   61288.5389  225374.6667  629825.5512\n",
       " [5336]  295841.2400 -172245.8619  759937.9092  641941.4822  181921.2933\n",
       " [5341]  688606.2673  -80933.8743  399488.0118  562488.9992    1930.4562\n",
       " [5346]  676361.1745  324174.0392  218679.9411   28746.0934  130075.8255\n",
       " [5351]  660282.8471  173317.2282  391608.8238  200588.5808  589956.2244\n",
       " [5356]  551460.3528  -36766.0205  323880.0336  173461.3164  393385.8986\n",
       " [5361]  105617.9963  -27801.0394  -65023.3972  465218.8747  439478.9002\n",
       " [5366]  508706.0346  215375.5641   19106.2987  385754.5315  101413.5172\n",
       " [5371]  176509.0414  308044.2343  293263.4710  159891.0252  184292.1893\n",
       " [5376]  565637.3804  444455.0537  382219.5146 -153808.4959  426479.3058\n",
       " [5381]  437428.7652 -154234.2532  491867.9987  442606.1782  412169.2521\n",
       " [5386]  368808.7435   39728.8789  384023.3080  -85472.8976  513758.0484\n",
       " [5391]   92253.1675  574939.2068  295224.5608  233821.8803 -346627.6098\n",
       " [5396]  435098.5899  574164.9764    5077.3712  598730.2340  561230.6247\n",
       " [5401]  483262.2513  -74365.6895  333132.3792  357451.8686  225779.4163\n",
       " [5406]  117922.0175 -177485.7474  321987.0462  -26115.2775  309561.9662\n",
       " [5411]  495309.2692  246902.0016  183756.7866  365780.3781  682279.6997\n",
       " [5416]  221307.3820  310751.0765   27236.5696  152494.3152  600866.4514\n",
       " [5421]  102289.6539  159626.6719 -238633.6810  535359.2532  450202.1274\n",
       " [5426]  -18520.2042  263072.6151  513731.4879  -16407.0117  399819.2882\n",
       " [5431]  171976.3610  336718.7639  370178.0647  350506.9077  330302.1996\n",
       " [5436]  319782.9280  248404.6306  563910.8572  490179.4121  682593.5330\n",
       " [5441]  -17081.3030  416482.5116  590222.9977   44465.7020  445021.9737\n",
       " [5446]  696289.8916   37933.3687 -134825.0760  279359.1030  441064.1573\n",
       " [5451]  378128.7774  320631.0018  151546.7073   20507.2865  -79621.1622\n",
       " [5456]  403091.8834  -34657.2285  231571.6791  454304.2196  441008.0342\n",
       " [5461]  267534.2562  -34957.8894  548128.6965  -17890.0269  387434.2123\n",
       " [5466]  290395.1861   93900.9792  273699.6801  396587.3189  -83645.7323\n",
       " [5471]  187684.2335  451427.8419  478173.9693  537419.8723  -98897.8786\n",
       " [5476]  747931.9987  322453.8187 -144281.7164  312410.0223   65707.5759\n",
       " [5481] -119969.5880  322834.9870   37391.5564  303018.9928   50415.4892\n",
       " [5486]   89235.5189  395137.3615 -123721.1581  456289.5707  196410.1225\n",
       " [5491]  339046.3302  751430.9783  110443.1360  189948.3487  246936.1532\n",
       " [5496]  506048.1777  -36746.7277  650272.3261  -86065.4389  340140.8428\n",
       " [5501]  -25632.9785  101542.7575   92984.7604  390108.8068  646965.0898\n",
       " [5506]  260631.3056   81501.7034  547082.5192  -75178.0235  164332.6362\n",
       " [5511]  326507.1304  577038.1291  155115.5723   64579.5833   56321.6053\n",
       " [5516]  -46221.1723  179493.3092   48326.4936  178270.4862  614693.8703\n",
       " [5521]  100574.8271  609067.1473   -1459.3247  765777.2963  217575.4853\n",
       " [5526]  144197.9103  561321.9975  344337.4898  536411.9221  395044.7246\n",
       " [5531]  385978.9407  277075.8880  -58063.6741  568501.7471  340825.0621\n",
       " [5536]  433808.5402  325777.9528  146667.2593  294138.1566  -82768.2612\n",
       " [5541]   -5656.4504  146057.1178   23897.1861  597060.8778  256808.9181\n",
       " [5546]  503329.5873   35355.1842  258742.8556   23283.2021  323379.7604\n",
       " [5551]  367036.7488  109363.5523  516462.9879  174200.6412  252678.3211\n",
       " [5556]  317414.6499  641744.4923  232859.9814  282219.8586  453181.8411\n",
       " [5561]  617574.7688  281179.1124  317788.9932  184360.7537   84905.7114\n",
       " [5566]  -49585.9137  183278.7002  651957.4690  654111.7117  443168.3528\n",
       " [5571]   54709.0468 -193442.3741  330342.9071  359585.7440   51770.7890\n",
       " [5576]  155557.0296  -39504.7371 -139787.4256   95792.0031  628455.1757\n",
       " [5581] -144082.7218    3063.0401  396142.7586  487808.0918  360149.8420\n",
       " [5586]  709748.2509  297315.6267  570783.9823 -190559.2184  571535.5637\n",
       " [5591]   37256.7914  467839.0119   42740.5834   96822.2337  556078.9250\n",
       " [5596]  253161.7897  455840.4965  335057.6861  340283.5306   71406.8986\n",
       " [5601]  310242.6289  557236.7098  456400.8306   82059.1910  454885.3962\n",
       " [5606]  129259.4692   64304.4548  -84055.4114  624526.4123    -840.2563\n",
       " [5611]  -54258.6533  618104.7888  500527.0844  -93709.1744  507428.6350\n",
       " [5616]  120111.9907  -75565.2110  705007.2260  257956.3766  560949.2064\n",
       " [5621]  282166.6982 -215472.1435  422205.6356  -38845.3660  452106.9528\n",
       " [5626]  492560.1590  342978.0173  -60821.5506  253815.9108  363454.1534\n",
       " [5631]  -54687.2652  676867.7949  348548.4687  445180.1181  -30972.9271\n",
       " [5636]  -95195.6020  -56677.8915  468290.0316  -20483.8957  355447.3238\n",
       " [5641]  162584.7072   17329.5947   26378.4727    5118.6208   22303.5110\n",
       " [5646]   22349.8449  529788.2962  396838.4661  521586.8136  231135.2505\n",
       " [5651]  356156.6157  591584.5689  184555.3112  431892.9218  325919.5473\n",
       " [5656]  184145.6665  115599.2625  502701.7598  356053.6198  321477.3830\n",
       " [5661]  325497.5954  152333.5095  102286.8843  719538.9930  156076.4909\n",
       " [5666]  294886.6916  432276.5549  587720.8514  -74357.1738  220724.4730\n",
       " [5671]  106109.9522  223751.7638  -76671.2226  -60260.9269  735825.2290\n",
       " [5676]  226096.1112  148768.5230  509945.1120  559305.7867   80129.8469\n",
       " [5681]  771570.4462  535368.6665   26970.1356   54144.3504  169195.6404\n",
       " [5686]   97070.1379  515054.6966  324474.8049  522322.5738   38442.9080\n",
       " [5691]  282766.9175  130719.1549  401249.6663 -296294.4952  586077.7491\n",
       " [5696]  444939.7981  650619.4637   43415.3118  472576.7118  388208.3577\n",
       " [5701]  -61643.6818   92526.3949  181799.2472  208212.4427   78112.7205\n",
       " [5706]  134028.6491  459912.4250  259832.8009  590493.6326  549466.2143\n",
       " [5711]  315576.4917  162642.2914   72602.9161  479549.5331  330685.6117\n",
       " [5716]  340002.6046  453587.3766  427247.4787  120114.9448  458141.0161\n",
       " [5721]  370860.7173  438942.7407   59827.9759  281941.5961  630827.2866\n",
       " [5726]   49370.9245  412750.1453  -93840.9543   65995.5027  470527.6748\n",
       " [5731]  -40511.7555  278974.6999  -28653.1464 -102362.2329   56570.5043\n",
       " [5736]  362852.6248  445106.8409  707413.3477  475702.1253  -81571.0163\n",
       " [5741] -104922.0478  209714.0696  492800.7142  140708.9515  226020.5244\n",
       " [5746]  179775.1879  468555.1397  711430.0691  279262.2442  686642.5417\n",
       " [5751]  483310.1692  208534.2469   -3377.5388  174315.6079  328440.3821\n",
       " [5756]  -11437.3691  503638.7625  527340.3518  258785.5109  309973.4135\n",
       " [5761]   51904.8443  216212.9935  594254.0783  121297.5334    6451.5822\n",
       " [5766] -163914.4804  332341.6904  315152.8508  284802.9734  108246.4704\n",
       " [5771]  307244.7905   60718.8983  233335.6607  278404.8596  384028.0944\n",
       " [5776]  407511.4464  569331.0843  276910.9564  130268.2401  242766.0996\n",
       " [5781]  319534.6179  300380.5410  619000.9992  307304.8142  411787.5909\n",
       " [5786]  529160.8288 -246443.2356  311163.6270  643825.4232   48785.1229\n",
       " [5791]   70863.4507  317147.8654  349124.3158  751450.5294  -21833.1643\n",
       " [5796]  217488.2897  295407.2558   83098.4974  260986.8730  203489.9574\n",
       " [5801]  585620.6905 -150662.9384 -127778.2344  358550.0674  513951.8181\n",
       " [5806]  207444.0579   44108.7852   -7086.4906  179212.4428  186774.5058\n",
       " [5811]  343141.2685  227267.4832  647295.4351   32227.2673  427117.2502\n",
       " [5816]  511402.4301  294858.6282  326046.4368  327006.5596  422736.0499\n",
       " [5821]  151951.1410   17826.4775  517576.2841  215922.9605  681032.7640\n",
       " [5826]  239137.3783  419172.0278  229462.0609  171788.7789  513217.0244\n",
       " [5831]  480572.5818  206870.5451  627125.6824  537443.8902  131424.9241\n",
       " [5836]  -99271.6214  185947.7205  410605.9397  -18892.6781  264447.8705\n",
       " [5841]  554364.3169  -71893.3478  360402.1445  218062.2658  450047.4696\n",
       " [5846]   52100.0841  540133.8628  344830.9224   -5536.9435  483200.6714\n",
       " [5851]   76056.7827  521804.5019  467936.8751  102332.8371   17669.0827\n",
       " [5856]  578368.3247  332001.4698  503470.8434  552839.1734  300869.8075\n",
       " [5861]  195969.2020  107929.2040 -141938.2221  146498.5396   75402.2133\n",
       " [5866]  139597.2151  330260.5759   42460.8203  453246.9567  427473.0914\n",
       " [5871]  257161.8937  341971.2571  193618.9697  119107.6155  406857.5843\n",
       " [5876] -118715.8043  541800.2565 -136880.8552  175829.5790   51220.6995\n",
       " [5881]  361565.5275  113024.6865  722235.5666  253706.8784  313665.0593\n",
       " [5886]  -64806.8272  -47301.6692  184137.5922  334173.3838  308951.5384\n",
       " [5891] -175626.7392  116920.7399  203501.1227  271230.9622 -143491.3234\n",
       " [5896]  394822.8151  530313.4930  219958.1726  469851.4535  645480.3556\n",
       " [5901]  750323.9243  165437.2170  451870.9378  524045.5807  153032.2254\n",
       " [5906]   41179.3032  380100.7656  222773.7906  761180.9185  805161.7682\n",
       " [5911]  517655.3964   89286.8043  214877.8984  508333.8338  128213.2990\n",
       " [5916]  298260.9774  228572.3349   14265.7197    7449.4241   67944.7384\n",
       " [5921]   69398.0434  443483.4384  524426.0511  512066.9938  415018.4870\n",
       " [5926]  226147.0432  422244.7210 -205233.4684   19767.7431  -68625.8347\n",
       " [5931]  243487.5048  424773.5680  361433.7221  253090.2032  421372.8680\n",
       " [5936]  446988.0302  340943.4538  451212.1706  -55687.2941 -107533.0449\n",
       " [5941]  533197.6583  109474.0011  589032.8047  204125.7282  302248.7007\n",
       " [5946]  393509.6641  674575.9682  204269.4225  702576.1879   89936.4290\n",
       " [5951]  502940.5726  658755.3337  356441.6614  410770.4724  468701.7010\n",
       " [5956]  241509.1283  743276.1795  -62149.8275  728376.7430  152566.8659\n",
       " [5961]  577927.0997  484335.6405  437367.4974  147496.5651 -172091.7063\n",
       " [5966]   47336.1840  256127.6985  563448.3032  116427.1547  126251.7433\n",
       " [5971]  213418.3120  125161.1872  335747.5226  146776.0765   73290.4993\n",
       " [5976]  218263.8436  396030.7876  475577.1093  229842.2061  150935.4364\n",
       " [5981]  408210.0446  122671.4459   40503.0600  220166.0026   13958.9218\n",
       " [5986]  617670.7227  440002.7014  113669.0609  236141.9218  370187.6957\n",
       " [5991]  444966.3567  538790.2258  211876.9167   62266.6128  429894.2070\n",
       " [5996]  244377.3196  530465.6703  159888.6587  753822.8159  574160.6357\n",
       " [6001]  -29895.9871  305669.5850  184909.3690 -168184.7264  274474.6995\n",
       " [6006]  474145.4158  188947.2600   70673.8042  252077.5751  196928.5220\n",
       " [6011]  676520.7893  595705.3924  160383.2394  203855.4362  210155.0452\n",
       " [6016]  -75191.9519  322841.9295 -189459.8723  -98473.6997  629185.8225\n",
       " [6021]  390805.3776  -72965.9439  608097.5016  208362.5172  613838.6664\n",
       " [6026]  354050.5238  370940.0961  466183.8541  -50670.8888  -46913.1429\n",
       " [6031]  100006.2028  534678.3194   36052.3837   47099.8779  454479.5487\n",
       " [6036]   33103.0117  335422.3745  575982.7215  -14166.2734  405211.7093\n",
       " [6041]  240124.6692  255852.3202  249438.9516   76107.6081   99183.6884\n",
       " [6046] -227942.3916  450344.6463  321276.6858  150028.3158   57133.8116\n",
       " [6051]  526737.7650  473095.5327  -96763.4530  191683.7804  146049.8339\n",
       " [6056] -176400.9705  261857.4855  241907.3570  535729.9528  270844.1171\n",
       " [6061]  -44833.9477  702118.5059  300568.0624   38075.9714   59087.8223\n",
       " [6066]  300850.6858  366074.0510  171468.6978   48635.8452   37338.8436\n",
       " [6071]  463037.3860  414468.9901  594106.8166  387709.8313    -424.0900\n",
       " [6076]   17550.7762  479921.7581  150136.3613  408504.3404  306793.8015\n",
       " [6081]  250083.8575  569645.0893  222757.3472  264102.4782  503809.8681\n",
       " [6086]   89129.2390  -61744.2957  708690.4592  703354.2627  413563.3159\n",
       " [6091]  319981.9153  462484.2241  111568.6734  -80437.4637  114801.7056\n",
       " [6096]  444019.9699   44514.0390  559781.4165  777403.3362  219637.6777\n",
       " [6101]   77996.1796  530087.3369  326269.4390  -61703.7066  530448.4112\n",
       " [6106]  679821.5018  379482.9578  -71120.8622  162192.4890  277440.1022\n",
       " [6111]  250324.2248  476066.6263 -106285.1394  441780.5329  424451.1886\n",
       " [6116]  422012.0182  181330.0138  -94389.2687  353959.9834   90283.7229\n",
       " [6121]   70830.5865   29265.2943   14431.8446  336335.8354  691844.0806\n",
       " [6126]  613598.3576  297112.8588  514255.5708  359934.9894  173119.9924\n",
       " [6131]  221160.4040  501902.8283  152056.6996  449425.7662  112548.0185\n",
       " [6136]  563748.0842  501373.7859  224604.5796   11709.8873  179482.9984\n",
       " [6141]  321963.6034  646515.2671  499756.0372 -149620.5076  122941.7495\n",
       " [6146]  313688.3682  560061.6691 -182611.7297  101624.9990  160347.5459\n",
       " [6151] -139603.9894  463797.5730  -51599.6613  153068.9914  520931.1341\n",
       " [6156]  171794.9971  295549.8453   26264.3189  508722.2220  453649.3001\n",
       " [6161]  302964.0599  611329.9646   91742.1351   47894.5153   59179.8795\n",
       " [6166]   35490.2722  146498.8799  158559.9971 -128376.9352  300582.5154\n",
       " [6171]  150665.1252  108328.2021   57790.7186  246054.0396  283593.9909\n",
       " [6176]  -74904.3298  400371.3396   35822.8206  301553.3504  -59489.0375\n",
       " [6181]  104498.1850  408098.3053   78133.4820  400255.4802  341590.6386\n",
       " [6186]  394456.2579  434208.2595   66621.5723  473744.7055  506807.0676\n",
       " [6191]  613290.5317  614162.0270  260009.5746  807259.1607  686089.8882\n",
       " [6196]  140796.3778  496152.6770  604821.4042   37695.0061  -56525.3606\n",
       " [6201]  307016.6847  168583.6133  417653.9413  464870.7266  -44350.2422\n",
       " [6206]  387085.7609  630751.5146  544526.0399  114982.0633  736077.6553\n",
       " [6211]  338817.7975  488402.0552  459516.0521  473800.7394  479576.0762\n",
       " [6216]  381286.0861 -101056.3233  -98719.9026  130544.8246  300873.3470\n",
       " [6221]  -39157.0653   69965.8924  -40970.0623  142959.9855  677711.2230\n",
       " [6226]  457567.2434  100762.5595   24546.8955  701806.1124  355240.3049\n",
       " [6231]  268948.1509  129782.3567  441436.1570  469032.2926  -19069.4184\n",
       " [6236]  183708.3856  415070.5793  407593.7119  281589.7509  623218.8905\n",
       " [6241]  384869.6114   51479.1233  478080.4839   64062.8024  -28163.2647\n",
       " [6246]   39542.8717  618296.9823   67669.2969  -17542.5215   18108.8910\n",
       " [6251]  676227.2736    4214.9280  593472.4350  197924.7638  503096.2894\n",
       " [6256]  544083.5270   96063.3894  214222.1978  350110.8822  331299.7379\n",
       " [6261]  456313.5434  300644.9983  -41514.3815  243712.0881  510371.1955\n",
       " [6266]   15858.7167  601801.6155    1258.0595  135932.9603 -144711.5323\n",
       " [6271]  615998.4149  599416.5141  605993.9006   -6439.6504  370428.8319\n",
       " [6276] -213968.5005  299404.6995  -97604.3541  302824.1259  550283.9293\n",
       " [6281]  368875.4568  263486.6822   61988.2271  474783.5153  596272.9749\n",
       " [6286]  296419.6272  527455.7278  181076.2337  250070.3104  355561.5106\n",
       " [6291]  650540.5934  255219.0240  174817.5629 -105166.1044   86317.9331\n",
       " [6296]  497132.6276  273267.5183  236706.5481  539310.8510  292638.0441\n",
       " [6301]  625413.1676 -101955.4782  548633.5350  528760.5573  380867.1639\n",
       " [6306]  129858.9155  197529.5735  -85206.1981  355012.2911  688581.0108\n",
       " [6311]  369881.2493  218152.8048  223416.3964  295664.9908 -139017.6341\n",
       " [6316]  113261.9037  391809.4465   87707.2872  490930.8012  364072.3887\n",
       " [6321]  236642.5857  129969.8309  108359.2662   19585.4321  190899.3507\n",
       " [6326]  302062.3061 -269838.1607  502407.1603  210064.6747  305703.1845\n",
       " [6331]  515891.7670  183704.1415  512852.1449  -42220.5427  229315.9652\n",
       " [6336]  597973.4688  758876.0195  444500.4407  364768.8544  -79980.2988\n",
       " [6341]  615235.0900  515231.4994  313678.9445  146568.9872  348067.5277\n",
       " [6346]  443605.0848 -182293.2189  -19060.1389  498103.3356  140502.6974\n",
       " [6351] -266347.2482  573917.3653  115489.2893  342068.1291   10315.0741\n",
       " [6356]  554129.7077  305664.8951   53234.0280  368036.3857  502263.4484\n",
       " [6361]  306273.9137 -102840.8146  515578.5738  -79324.3678   -3697.8127\n",
       " [6366]   61477.9708   65919.5246  659096.6088  658723.2536  746811.3594\n",
       " [6371]  -51066.7813  307142.4970  266093.7083  365413.4604  390964.5331\n",
       " [6376]  154387.6772  251419.2402  333222.7987  546783.7743  500503.3095\n",
       " [6381]  327344.1772  273264.8830  126989.5820  455937.4704    7159.5562\n",
       " [6386]  313179.3503   66874.5772   40126.3102  263220.9848  435553.0687\n",
       " [6391]  185716.5138  318005.9130  390991.5134  149111.9736  371054.8697\n",
       " [6396]  571785.7210 -179188.0246  451589.9203  337743.5390  438433.1009\n",
       " [6401]  -16706.2770  494149.4998    3010.1710  227728.0476  267514.6812\n",
       " [6406]  -74354.8037  190769.8203  348993.2319  148148.5488   21397.6409\n",
       " [6411]  557747.2634  380561.3506  618527.2638  203037.0560  462875.9342\n",
       " [6416]  282021.9276  106483.6458   25213.5209  266907.9680  137948.4637\n",
       " [6421]  331977.3787  534874.2876  537607.1307  606454.5062  351252.8038\n",
       " [6426]   18513.1924   19249.1230 -121973.4812  280401.1931  215836.0977\n",
       " [6431]  209332.3795  -12628.2794  683826.4059    6628.2249  280371.5461\n",
       " [6436]  634777.8385  363033.2568  533471.2371  546330.5718   68054.4158\n",
       " [6441]  208353.3210  298496.3528   99675.9921  673955.4975  521752.0274\n",
       " [6446]  560056.5510  571677.3234   26257.3523  586659.3484  412393.6740\n",
       " [6451]  245907.6261   48447.9796   30896.2643  447815.9364  348027.1063\n",
       " [6456]  313557.4157  809674.7570  328103.6971  258203.0658   65646.7212\n",
       " [6461]  400168.7497  245584.3298  -54314.8419  553090.3584   33034.7828\n",
       " [6466]  223948.5018  250029.7966  541262.0976  197322.6626   77768.3928\n",
       " [6471]  578690.5128  419558.6112  210626.1450  263238.5180  357846.0878\n",
       " [6476]  504624.1496  579756.0462  143428.7745  684779.5889  489480.4637\n",
       " [6481]  430133.4059  163787.1240  212512.4746  924317.8570  395111.2883\n",
       " [6486]  262718.5887  535585.8660  537731.5398  447761.1431  266822.9503\n",
       " [6491]   39883.9198  139726.0861  302317.8504  190461.2702  521741.9218\n",
       " [6496]  674561.1747  331534.4219 -159354.6118   89661.1897  176677.5247\n",
       " [6501]  584479.4636  144130.2700  170943.7939  559309.5078  479577.0395\n",
       " [6506]  317989.7858  287120.6367  668779.7765  225552.5532   82289.3451\n",
       " [6511]  395082.6445  363368.7603  -75861.3742  104980.7809  375008.8215\n",
       " [6516]  417990.0580   15874.7062  523719.4004  394775.3005  227112.2288\n",
       " [6521]  647302.9034  630372.8149  740650.2407  -72473.3875   43803.2197\n",
       " [6526]  234802.5025  -34254.8985  255522.8822  333064.2408  492229.2721\n",
       " [6531]  321570.8248  538757.6376  454550.5610  170638.2514  277869.6740\n",
       " [6536]  435426.2449  189028.9595   21303.8251  366011.8247  395134.7514\n",
       " [6541]  379711.7066  125113.8006 -142012.1857  361301.6321 -136948.6924\n",
       " [6546]  209985.5476  220211.4033  136572.1097  685158.7843   91697.8574\n",
       " [6551]  249192.1118   59535.0208  278991.4718  184303.0440  271888.3741\n",
       " [6556]  260660.2807  433618.9881  883355.1203  282434.3022  -34995.7661\n",
       " [6561]  230264.5546 -188637.8513   11057.4646  549286.9409  414774.8647\n",
       " [6566]    7218.2472  712364.5292  603851.9456   89523.5598  418241.4406\n",
       " [6571]  275983.9291  362175.7373  191967.1159  158115.1023  658749.4493\n",
       " [6576]  497911.4065  514596.1443  350710.8219  665310.1138  574919.3752\n",
       " [6581]  709942.6043  283109.8611  155924.7641  531716.0090   32249.0030\n",
       " [6586]  272023.0163  537433.6715  690616.0270  106987.8484  357395.3375\n",
       " [6591]  558558.9335  182860.4241   12898.6885  572324.6455  320971.7916\n",
       " [6596] -145686.6182  -46796.6784  -80993.8305  137661.9949  103653.7233\n",
       " [6601]  117363.8961  306177.6820  202651.5710  -41090.2838  272823.7799\n",
       " [6606]  302297.8521  633034.3432  665122.2297  298225.2731  331905.4191\n",
       " [6611]  285206.2993  380159.8947 -137477.1912  282082.3997  315494.0510\n",
       " [6616]  317968.2778   12802.3824  336730.1470  262870.0704  -38373.8499\n",
       " [6621]  175609.2830  807700.7484  -20525.7412  521728.4129   41202.1397\n",
       " [6626]  373040.4652  168909.1282  239568.1423  420027.6372  559120.8353\n",
       " [6631]  347071.9411  679641.3861  772764.4861  407168.0254  141176.8943\n",
       " [6636]  346538.1636   23812.9863  225281.4548  199559.6220  226791.7384\n",
       " [6641]  293257.4112  148538.4323 -168107.0460   30061.8838   90178.7782\n",
       " [6646]  445786.8540  526016.2340  371041.2405  214316.4609 -150176.0276\n",
       " [6651]  403560.7599  231153.8149  334547.6332  250225.3700  176108.0302\n",
       " [6656]  489912.0720  -50852.7204  132658.6368  200713.9873  345439.5376\n",
       " [6661] -156417.3858  789024.1903  217293.1360  556939.8113  707211.9069\n",
       " [6666]  411297.8548   38032.2930 -117711.9506  530730.8585  264352.7810\n",
       " [6671]  291690.1071   -5475.7680  -90483.8501  680443.8527  361702.5296\n",
       " [6676]  369975.0990  595517.3880   16992.2881  142914.4527  477139.2278\n",
       " [6681]  245552.6207  131404.1864  606416.4658  426550.6967  244827.8008\n",
       " [6686]  474126.7722   67381.1625  390861.3929  427970.5856  212692.6655\n",
       " [6691]  641486.7958  374676.6372  235053.1180  608294.9106 -223232.1419\n",
       " [6696]  304211.3718  -20455.5575  627474.5227  331330.3246  346819.8615\n",
       " [6701]  256315.0627  418698.1094  487609.9835  -31028.9861   24486.7449\n",
       " [6706]  172111.2281  331603.9249  804596.2241 -127452.0463  189083.8565\n",
       " [6711]  171318.0562  676081.2272  628934.8097  598700.7547  674089.8556\n",
       " [6716]  265631.4116  301987.8627  482732.4545  334381.2896  727520.3112\n",
       " [6721]  -59143.5838  555501.0178  643821.7893  244491.3568  492928.9397\n",
       " [6726] -123573.5468  234727.0261  336023.9854  223086.1192   98284.4974\n",
       " [6731]  -20094.8644 -172509.0211  -41038.0830   50320.1976  349785.5566\n",
       " [6736]  278001.9542  305773.5314  483149.8574  317313.0233  341834.2045\n",
       " [6741]  688491.5311  679222.5851   83284.5837  485224.7518  457687.4221\n",
       " [6746]  175937.0933   23524.7017  158656.1011  221914.7204  117436.9983\n",
       " [6751]  373239.5391  150123.8444  251059.7600  607928.7476  298968.3292\n",
       " [6756]  297455.9621  661386.3554  315829.3478  -61103.2236   59650.3417\n",
       " [6761]  321929.1818   88441.5014  426206.9287    1888.2572   78581.5384\n",
       " [6766]  -93398.4878  252013.6494  -36973.7923  235169.8931  339747.6265\n",
       " [6771]  255311.3871  -66364.1013  636133.8931  566488.4844  -73868.1865\n",
       " [6776]  405103.2943  -23552.0939  311343.5338  555787.8730   95010.5406\n",
       " [6781]  244711.6133  155556.9022 -147382.9829  509615.9804  276862.8096\n",
       " [6786]   63219.5983  -82776.0584  596837.0784  232989.5250  216692.6787\n",
       " [6791]     772.7002 -200420.3342  667183.5826  340110.0036  240024.4773\n",
       " [6796]  224297.7193  718804.5918  491615.4257  -15457.5495  486429.8156\n",
       " [6801]  102841.2442  479624.6520  292678.6578  728629.8834  374609.3647\n",
       " [6806]  495248.0115  334040.8362  615714.2762  328300.4729  630426.6246\n",
       " [6811]  250497.7118  354997.5937  328801.3117  267870.5164  397954.7027\n",
       " [6816]  326478.7923  -44424.8851   29619.6557  422888.3809  256608.6835\n",
       " [6821]  286002.2143  542219.8380 -126147.1596  537400.0694  -67675.9531\n",
       " [6826]  355464.9368  544759.7522  462476.3382  306801.2474  371581.7220\n",
       " [6831]  334653.3148 -104020.1082  595239.7441  136603.3902 -123550.5015\n",
       " [6836]  204889.7121  429180.2149  343433.6090  188168.6792   47651.4367\n",
       " [6841]  336163.1648  182885.9184  233976.0491  282888.9619  711444.4177\n",
       " [6846]  452686.2078  274019.7170  271901.9024  254794.5665  616510.4260\n",
       " [6851]  -42261.4316  246112.4257  289574.4990 -160662.5450  109244.2690\n",
       " [6856]  370978.1380  722359.3329  457424.2794  -16338.2415  -41879.7460\n",
       " [6861]  381890.8468  528976.3374  -79987.9720  313491.9341 -168852.3681\n",
       " [6866]  386342.3892   77210.0853  256049.9735  243533.4703  692331.9366\n",
       " [6871]  281151.8530    9929.1881  409910.2917  189460.8782  587497.5926\n",
       " [6876]  205807.4507  264564.9971  495383.0291  201528.9098   56030.8327\n",
       " [6881]  -61268.4847  387688.6389  582695.9422  -72042.8570  367474.8559\n",
       " [6886]   79100.7833  415354.8631  604696.0612   -8841.0811 -147216.6630\n",
       " [6891]  246582.0949  767247.1334  629854.9336   86399.7951  443441.2765\n",
       " [6896]  575932.9284  334807.3537  188216.9712  455489.2335   74824.5562\n",
       " [6901]  621826.1265  414843.8150 -117682.6103  401728.9332   67790.4530\n",
       " [6906]   43994.8906  389538.1905  385100.1445  496172.4090  -42207.0807\n",
       " [6911]  139941.0390  133198.3489  352764.7805  448330.6717  -64513.6946\n",
       " [6916]  523971.9700  -13795.2683  574026.9825  391749.3546  312634.9683\n",
       " [6921]  318297.5949  117909.8117  205932.4294  391215.0772  489728.4499\n",
       " [6926]  175553.8047   81364.3595  445827.4916  432003.9400  622456.6510\n",
       " [6931]  652043.9129  442456.0613 -144581.9901   86398.3819  439970.6373\n",
       " [6936]  162830.8312  510161.5152  290964.9493  -50129.7814  445385.6590\n",
       " [6941]  359521.4981  147865.9969  645914.5459  349996.0318  -87141.1627\n",
       " [6946]  628238.3764  515167.8648  283992.3020   69537.6802  312501.2362\n",
       " [6951]  278440.9654   64357.1748  482505.7789  633247.0472  281472.2016\n",
       " [6956]  465877.8546  514030.6162  149762.9923   80463.4754  238917.4708\n",
       " [6961]  652157.8308  384916.7638  -24533.3083  172777.5862  428618.6368\n",
       " [6966]  868049.7166  188824.7683  175729.5141  -56168.6405  542637.7070\n",
       " [6971]  162592.3365  618295.5560  482844.1078  181578.4484  594675.5667\n",
       " [6976]  557078.5732  195616.3294  236293.5701  497987.1547  768660.1048\n",
       " [6981]  319619.7178  378891.0632    7041.3402  577377.2749   30980.3751\n",
       " [6986]  246648.2269  394028.4977  173281.2463  602461.8340  124435.0118\n",
       " [6991]  -37987.0841  411971.3182  241872.9684  235548.6660 -277334.0599\n",
       " [6996]  102662.5150  347888.6629  196968.8378  355984.6783  559663.7369\n",
       " [7001]   88438.5635  -46692.4656  141416.8485  788981.4693 -263331.8222\n",
       " [7006]  199323.0483  162731.1930  188997.4840  355459.8153  225935.3330\n",
       " [7011]  406137.5218   32958.0199   35585.9659  301994.0440  465691.4195\n",
       " [7016]  308390.2619  -16930.0380  471437.4067  280715.9198  110842.3354\n",
       " [7021]  288174.1263   -1418.5674  457509.8105  298290.9995  464654.3902\n",
       " [7026]  -22787.5509 -105995.5861  396632.8408 -130968.5420  -28899.5458\n",
       " [7031]  732455.4501 -230058.5531  746221.4446  347314.1104  548356.9712\n",
       " [7036]  255648.0059  274764.3582  656925.1117  311148.4692  477723.4791\n",
       " [7041]  274166.9621  687983.8161  505531.0140  454883.6657  427796.0181\n",
       " [7046]  137310.0513 -125625.1032  620065.0585  269129.9069  430803.5807\n",
       " [7051]  109304.9848  487217.1433 -100732.7232  486730.4520  287900.1747\n",
       " [7056]  485189.9302  516500.1561  585832.6627    1063.9356  624835.0133\n",
       " [7061] -198117.9751  554282.1217 -230823.8041   26047.9990  287237.2216\n",
       " [7066]   19898.0231  618936.3087 -231879.0913  593223.2528  144191.8467\n",
       " [7071] -138718.3341  117241.4623  377587.7039  476238.6719  835781.6415\n",
       " [7076]  488525.2116  147301.1445  334568.3175  479869.0183   13729.1706\n",
       " [7081]  371128.0032  612455.7799  -62166.6814  110988.2173  375025.7351\n",
       " [7086]  340982.1839  260644.5301  226729.4579  358351.9262  263895.5543\n",
       " [7091]  394567.9475  592474.2014  637512.2728  301626.1129  228231.8245\n",
       " [7096]  511558.5684  504165.6994   51272.0551   97974.1368  505975.2966\n",
       " [7101]  181303.9770   93081.7902 -114491.5775  154590.3807  -40607.7498\n",
       " [7106]  227698.3232  255621.1294  428964.8862  723426.2864  125246.4502\n",
       " [7111] -136758.7926  187362.9354 -119526.9707  306416.0601  227798.6615\n",
       " [7116]  -42508.8375  298421.5848  179955.1347  536681.1951  227417.8818\n",
       " [7121]  310023.3517 -279488.1081  299481.2175 -176811.6365  316683.8233\n",
       " [7126]   40259.7956  242346.4569  -56245.6986  393960.3640  -87187.0335\n",
       " [7131]  231873.4256  388657.6138  165195.5743  467793.5418  635187.1226\n",
       " [7136]  380923.6660  568471.4294    3065.3643  451870.2861  242001.6185\n",
       " [7141]  430689.5014  305219.9886 -206899.8328  660084.9387  333425.1307\n",
       " [7146]  214547.1928  194969.1174  394635.9819  152741.4452  604883.0096\n",
       " [7151]   69936.0135  240694.2121  732346.6120  528394.3880  516890.5121\n",
       " [7156]  458057.7173  212105.2564   -2462.4236  647547.7208  323505.5427\n",
       " [7161]  655034.3131  576937.2552   73299.8615  447938.0558  383799.3688\n",
       " [7166]  140971.0537  514592.7095  444635.3541  473333.3080  571245.3900\n",
       " [7171]   85077.4122   88262.5899  571835.4837  397417.8748  -27987.4285\n",
       " [7176]  591065.9151  239667.5830  599138.3700  366913.0532  414836.8806\n",
       " [7181]  618086.1385  459224.7007  -21938.2301  728998.5765   86266.4648\n",
       " [7186]  150350.9552    5185.4138  519961.1829   81616.8637  626243.4779\n",
       " [7191]   -3716.0052   79493.8924   23167.2943   11518.3441  309721.7003\n",
       " [7196]  410278.2440  219933.4817  645878.7729  461884.3571  313221.8748\n",
       " [7201]  191107.5604  307572.8728  350458.2018   79239.5957  450792.2768\n",
       " [7206]  109398.9232  704138.7327  517266.2261  582060.8921  153791.2370\n",
       " [7211]  407767.7086   67115.0725  245172.3879  271193.3826  104338.7371\n",
       " [7216]   68526.8496  139760.8662  466296.4327  215183.4424  328027.0973\n",
       " [7221]  687105.5524  476721.0323  769919.0913  667098.7354  119153.1313\n",
       " [7226]   64187.3113  240816.8698   83405.2830  387684.7365  505861.4642\n",
       " [7231]  592962.4633  543927.1417  -56005.4613  339873.7900 -138758.1196\n",
       " [7236]  163547.5286  487055.8039  356486.2757  289904.6914  439220.3851\n",
       " [7241]  470904.0105  477601.5823  -11832.3941  527965.2034  -40524.9587\n",
       " [7246]  488354.3173  114704.0098  430743.1293   48095.2686  553424.6535\n",
       " [7251]  -12321.0764  -43318.4549  372733.4797   45791.5590  521779.8038\n",
       " [7256]  255431.9220  140096.1680  148768.6782  448195.0836  409443.7352\n",
       " [7261]   63210.7300  429002.7911  377718.3616  -32052.8768  -11675.0264\n",
       " [7266]  221811.2267   49559.9364  745928.9513  264490.3030  216787.7638\n",
       " [7271]    1322.2001 -183091.1639  532089.0510  751961.7818  275892.5252\n",
       " [7276]  331328.1662  445595.5558 -179942.6304  205944.2936  -74034.2582\n",
       " [7281]  411856.0297  357396.1966  120809.7727  791611.6243  -43907.0508\n",
       " [7286]  658306.5459  201825.8534   52205.9771  510907.6989  189169.8392\n",
       " [7291]  338163.9730 -212095.9974  121669.2413  390718.9182 -183879.5776\n",
       " [7296]  128964.5768  422416.8492  -51639.2141  290198.2025  212906.1714\n",
       " [7301]  424854.2148   81143.9686  554043.8854  279282.1704  598508.5318\n",
       " [7306]  476601.7077  558341.1295  674021.4436  411365.2194  131647.4746\n",
       " [7311]  205154.9320  101413.9455  601070.8786   66337.5727  296127.7140\n",
       " [7316]  255275.6222  424584.9067  743420.2890   68761.3505   98394.9996\n",
       " [7321]   33293.8562  239669.4422  488806.3855  149398.3904  110549.7530\n",
       " [7326]  361549.5971  498714.3148  386105.2081  497819.4796  118023.3217\n",
       " [7331]  230503.0902  606209.3057  240655.6762  305943.5258  -26071.8198\n",
       " [7336]  550037.2349  193183.6685  262124.4898  571803.2540  117237.4808\n",
       " [7341]  483279.6935  159873.3989  310144.9156  667520.2459  242014.8996\n",
       " [7346]  471607.7631  605292.8352  602568.3860  481635.8085  -98025.3018\n",
       " [7351]   91492.2540  319934.4861  350479.9923  711067.3684   90867.9408\n",
       " [7356]  629918.9289  303772.7826  253934.7840  240074.4229  417035.0341\n",
       " [7361]  267874.2552  406826.0302   15317.9070  558511.3436  -81931.5764\n",
       " [7366]   65832.6923  697556.4020  274692.9750  102265.2249  -10582.9728\n",
       " [7371]  114418.2021  -26486.8137  365673.0345  -32664.2230  623032.4937\n",
       " [7376]  134615.0464  105839.8828 -165112.0117  136285.2178  339210.7335\n",
       " [7381]  346610.5566  108304.4975  149247.0198  162434.0997   13876.0651\n",
       " [7386]  339768.4484  346365.3351  249314.4674  254324.2612  528029.5552\n",
       " [7391]  618235.0916  -62062.4401  418133.7569  -31006.0399  532519.2079\n",
       " [7396]  453465.6803  442236.1823  339446.2954  159069.7155  587937.5831\n",
       " [7401]  579312.5164  271179.7413  446745.4233  600105.8803  365615.6076\n",
       " [7406]  541257.6763   81099.2838  103920.8751  -10112.2915  248957.3753\n",
       " [7411]  721110.1423   48525.8308  346923.7305  186776.7827  115050.3589\n",
       " [7416]  235752.5216  458754.0796  650891.4163  105758.2979  -15385.4300\n",
       " [7421]  509439.7450  454160.1271  365408.6621  452380.4680   27697.2136\n",
       " [7426]  433094.0245  363364.9225  664877.6908  136736.6492  376750.5606\n",
       " [7431]  184784.1803  517456.5961  380241.5671  396742.0220  596483.2894\n",
       " [7436]  637975.8869  211456.6104  161833.8951  242206.9356  146546.8102\n",
       " [7441]  584528.6190  354610.0212  116917.4798  194059.1833  124673.2653\n",
       " [7446]  409378.5859  474184.7141  268117.7417  162354.6160  139360.9946\n",
       " [7451]  128733.2466  -77398.3759  170076.9380  300332.4868  160044.7883\n",
       " [7456] -109375.4910  135968.2013  105745.6916   90513.3418   43953.2150\n",
       " [7461]  193239.6081  706926.9734  124724.0381  632510.0187  -15467.5257\n",
       " [7466]  518721.8469  109472.0879 -153019.0044  162072.8088  427993.7775\n",
       " [7471]  700043.7713  610959.3056  340896.3208   13484.7413  -57495.1136\n",
       " [7476]  401527.1836   96545.0855  155489.4069   -3070.0322  164465.6822\n",
       " [7481]  250605.2985  491260.5418  178245.3086  431561.7084  569544.2239\n",
       " [7486]  596460.5565  252101.1297 -184172.3497  332094.1682  209339.3690\n",
       " [7491]  450505.7241  112891.5518  589117.8079  260588.2364  747858.8041\n",
       " [7496]  408984.9141   55532.6824  175749.5970  184465.1358  645190.8884\n",
       " [7501]  255589.4161  139532.6848  304901.1904  155833.4755  105802.1004\n",
       " [7506]  516301.1983  441155.1423   14965.1436   80908.2400  164928.7023\n",
       " [7511]  -39837.1672  553848.8509  484216.3821   27936.6544  682713.3301\n",
       " [7516]  110205.3724  172655.2185  585671.4992  459512.3298  303580.1437\n",
       " [7521]  578317.6437  359323.4581  103517.0017  203700.8231  412707.0084\n",
       " [7526]  295256.3587  424275.4289  546423.0352  446570.6000  -43857.0061\n",
       " [7531]  250507.7150  471633.8668  358835.1701  -33810.0726  340313.2206\n",
       " [7536]  344576.1040  601636.2783  517659.8634  710992.8698  353851.7945\n",
       " [7541]   -1408.9950    4724.7260  396137.3739  264350.8252  493268.4114\n",
       " [7546]  150638.9620  195927.5346  712309.8545  382497.1242  146852.0167\n",
       " [7551]  489640.7597  320977.8516  715822.6721   14437.6193  179808.2554\n",
       " [7556]  470262.3989  425375.1588   92657.1206  828288.7644   72130.7162\n",
       " [7561]  249902.7510  414400.2589  350331.6400  633219.2298  268853.7798\n",
       " [7566]  564065.0540  174706.8398  -51822.6850  130666.5887  298350.4557\n",
       " [7571]  201928.2157  200677.5698  373858.8447  200197.7041  291928.5013\n",
       " [7576]  250547.8975  561949.7693  446456.9972  785897.7682  244379.1392\n",
       " [7581]  341453.8567  156882.1350  -87841.7708  208662.2391  563700.2972\n",
       " [7586]   -4389.6514  661376.4550  779879.1655  106188.3061  292198.5612\n",
       " [7591]  615482.7519  489019.9545  219504.7567  402285.6525  433464.1314\n",
       " [7596]  123170.5699  323654.2005   99217.1973  248026.2405  214791.8647\n",
       " [7601]  247692.1737  115282.3319   61293.5770  250111.5680   85234.1953\n",
       " [7606]  566837.2290 -156955.5431    3181.6004  759984.6757   30971.1870\n",
       " [7611]   44705.0548  175882.3996  471755.9772  720162.3683  172532.7097\n",
       " [7616]  -38038.2784  471342.4667  531466.8922   49860.0861  683829.2907\n",
       " [7621]  115201.6765  -96432.5709  159449.1094   -9844.0472  263236.7086\n",
       " [7626]  -45277.4014  -73662.4326  118296.3726  449276.2989 -213145.2216\n",
       " [7631]  456630.3385  331279.1844  400938.3452  685822.2844  746223.4212\n",
       " [7636]  -13096.5533    8778.8021  722439.7131  641386.2645  -14716.7159\n",
       " [7641]  282533.4732  -37811.2505  248314.9321  445298.2349  349715.7397\n",
       " [7646]  642611.4660  213210.5685   59116.4006  189128.7665  -60064.7277\n",
       " [7651]  142458.9623  253441.0209  258177.5377    -549.2644  444111.8652\n",
       " [7656]  454623.7092  156212.2948  -41047.5190  793355.9116  386658.4989\n",
       " [7661]  -43764.6348  677844.0220  342444.6345  221081.8361  347828.9681\n",
       " [7666]   72425.7701  256634.1881  258832.8512  286288.7599   23213.9681\n",
       " [7671]    7313.9847   54269.6480   79583.7767  705601.2735  542272.3926\n",
       " [7676]  514999.7801   13870.8638  440697.5250  148878.3843  315406.4895\n",
       " [7681]  370969.8345  481199.9068  507125.7508  224822.3767 -245580.8137\n",
       " [7686]  122948.6488  218630.7847  234915.3566  595517.9586  884628.4505\n",
       " [7691]  295397.9505  166240.1902 -115326.4165  197026.3648  -37134.8392\n",
       " [7696]  500664.9523  634791.6709  240615.7993  356503.5980  116911.1718\n",
       " [7701]  602992.6675   10980.4166  199686.9017   13442.6495  -21396.4037\n",
       " [7706]  450270.2337  106194.8175   24976.6590  735784.5345  129611.6203\n",
       " [7711]  -70469.5047  192517.4140  240606.9144  161001.0032  159875.4842\n",
       " [7716]  408325.8543  208153.5798  354796.5664   53684.4678 -164230.1187\n",
       " [7721]  475586.4649  618006.4564   98762.2546   87475.9856  -11151.3034\n",
       " [7726] -248221.1653   13897.9841   77719.8325  151629.5557  465631.5539\n",
       " [7731]  189779.6058  502854.5461  102081.6458  102775.6067  391651.1752\n",
       " [7736]   -7043.3414   77229.3389 -198494.0331  252111.1118   78578.5405\n",
       " [7741]  164606.9888   86343.0489  208376.4731  659506.0301  500413.0574\n",
       " [7746]  412961.2612  239449.4245  140103.9247  333637.9934  614488.1763\n",
       " [7751]  436391.7951 -221329.6197  831439.1183  579643.4531 -101225.9134\n",
       " [7756]  272875.2363  182185.6464  441890.0926   65977.4693  -23587.4821\n",
       " [7761]   93757.0965   70566.7145  269124.4581  693449.8369  131754.3146\n",
       " [7766]  111762.3473  141505.2693  213720.9552  303871.2240  289421.1092\n",
       " [7771]  609288.8223  477737.8823  375532.5290  157723.6432   96097.2073\n",
       " [7776]   61761.6360  405375.9984   20400.5418  489530.2914  305471.6557\n",
       " [7781]  -96311.5789  369677.3031  196284.2625  -13847.0414  181208.7574\n",
       " [7786]  424423.6565  557992.1387 -172823.0865  350261.3186   56429.2201\n",
       " [7791]  580341.8341  448773.0889  365014.9345  503283.1998  -23895.2804\n",
       " [7796]   22730.9143  134250.1089  196965.2261  714914.2742  322413.1637\n",
       " [7801]  417888.1227  444008.3238  251734.0683  -31384.0521  -18322.1639\n",
       " [7806] -115226.3896  106277.6211  344762.2570  -37268.0986  656082.4356\n",
       " [7811]  -77770.2565  761334.1535   89569.0995  -57042.9850  203603.8124\n",
       " [7816]   34039.7388  632541.9494  120520.4801  103773.9659 -100540.3166\n",
       " [7821]  365498.1602  350777.7458  532392.4973  251902.3682  282696.5868\n",
       " [7826]  550302.9717  264301.7487  150892.0993  106616.6564  314261.8033\n",
       " [7831]  462201.3611  622522.4974  142315.4220  245252.5050   60463.3349\n",
       " [7836]  237042.3508   17539.7522  309809.4734  504408.5946  575034.4767\n",
       " [7841]  378059.7026 -122345.4087  -86309.8056  150437.2829  392002.6194\n",
       " [7846]  543041.0578  -15455.8776  209441.2051  358198.5217  661390.5739\n",
       " [7851]  400022.6606 -182404.6452  437044.6884  437595.9665  583847.2727\n",
       " [7856]  386719.6140  350842.6671  555713.0809  463973.0961  450454.2213\n",
       " [7861]  209983.6365  314889.8248  321772.6140  -28317.9938  521438.3586\n",
       " [7866]  350746.7755  474238.2408  387466.4318  618778.8845   57583.1769\n",
       " [7871]  669577.0882   94484.9368  241351.3894  321936.0819  783204.3830\n",
       " [7876]  306466.0962   25476.6762  150652.8358  401003.2073  206375.6307\n",
       " [7881]  753448.2023  666786.8913  569944.7154   -6829.9113  521093.9744\n",
       " [7886]  534011.3477  553526.8269  559235.0727  168579.3947  745317.7809\n",
       " [7891]  571167.7516  323352.7841   54213.0946  356787.2407  383843.7182\n",
       " [7896]  386582.6720  284753.8550   32402.3100  138664.4322 -120099.5754\n",
       " [7901]   19444.3304  430283.4306 -126206.5458  242751.4459   50747.5000\n",
       " [7906]  303128.3946  238406.6483  131340.0241  226235.5937  577221.3655\n",
       " [7911]  181967.6666  429684.9149  562347.7496  145684.9494   58390.0037\n",
       " [7916]  601570.1413  279241.0467  287337.3491  247798.2937   29111.7579\n",
       " [7921] -126900.7063  285014.0504  581349.6670  374294.3390  244505.7600\n",
       " [7926]  641850.5079  431374.3666  110090.2741  106037.2550  752554.8638\n",
       " [7931]  311756.0586  -55364.5826   38212.2423  329679.4446  296953.1382\n",
       " [7936]   99814.8305  551241.6152  259120.5309  188835.5538  220961.2914\n",
       " [7941]  -32356.8348  229572.1643  806816.5008   23914.2754  207824.6020\n",
       " [7946]  225693.0323  359905.3314  714759.7866  365655.6729   19010.0521\n",
       " [7951]  100938.6268  -79265.7581  311367.1865   91183.4326  340893.6200\n",
       " [7956]  -33880.1889  289551.8858  402220.4928  487474.0710  -87767.8316\n",
       " [7961]  147867.7902  295062.5268  214113.8519  216620.4060  272149.3280\n",
       " [7966]  299138.4830  528277.2815  267187.3045   30544.3311  -19337.8601\n",
       " [7971]  629655.0695  543402.4093   79935.5554  458926.6806  474414.5997\n",
       " [7976]  408224.2291  442423.5390   62605.2671  210645.1621  207619.4435\n",
       " [7981]  584577.1745  555806.7806  632853.8776  148167.3067  357582.5966\n",
       " [7986]  268775.0877  354675.8018  226529.4683   38366.0318  399737.4930\n",
       " [7991]   79056.0845  282442.0920  307930.4760  212828.4779  496152.7151\n",
       " [7996]  448598.5898  488072.9520  655470.0610  399780.8315  132988.4370\n",
       " [8001]  235355.0902   26690.1302  268876.1708  221822.4757  421298.5969\n",
       " [8006]  625357.3232  548386.6261   16656.3068  584349.4910  237182.3107\n",
       " [8011] -174254.9556   78605.7754  380092.0521  702634.8499  699500.7158\n",
       " [8016]  590793.5218  216005.3987  178331.4416  349332.9995  552744.4470\n",
       " [8021]    7112.3370  607986.4303   78793.6199  384203.8763  292671.8929\n",
       " [8026]  522329.5611   97308.0105  334667.8205  410884.0013  485344.7650\n",
       " [8031]  462171.3726  466767.4756  -21275.0700  306115.6009 -215028.2738\n",
       " [8036]  128789.3630  163968.7128   98637.5088 -104870.1948  559420.1486\n",
       " [8041]  459495.7303  299240.2402   42702.3941 -174443.4803  284633.6428\n",
       " [8046]  284621.5537  635183.8072  562208.1122  319395.2342  438291.9788\n",
       " [8051]  154434.5732   22709.6408  374735.6114    8006.3315  450147.3367\n",
       " [8056]  162261.8740   -6200.3509   83082.5303  527498.6705  325029.1437\n",
       " [8061]   91558.9063  -69805.8955  498717.3204   87727.0501  570564.1207\n",
       " [8066]  207431.7705  313812.6321  362056.1569  133192.3499   82214.9750\n",
       " [8071]  303563.2779  602267.6676    8408.3379  287492.6331   -8754.0245\n",
       " [8076] -117149.3233  466946.4438  641626.5675  598494.9486  -83978.9563\n",
       " [8081]  295989.0383   92182.5521 -144543.7015  110393.1751 -190965.7115\n",
       " [8086]  676727.7286  324934.4482  459840.9915  484085.3465  247718.9501\n",
       " [8091]  229805.1287  528014.9907  750846.6377  520746.5426  118858.8439\n",
       " [8096]  411853.4908   59875.1285  -12699.9923  265498.8147  369812.2346\n",
       " [8101]  -94281.2454  434921.4479    7117.5513  547610.2789  -19633.3263\n",
       " [8106]  376738.5682  510773.7903  -69802.7464  256296.7612  255921.6096\n",
       " [8111]  714862.4758  377091.5464  768979.6093  139275.5172   59381.1897\n",
       " [8116]  495707.1595  170919.2813 -112840.0992  283247.3280  648731.6356\n",
       " [8121]  229242.6746  340894.8861  283372.4026  266457.6275   43940.1459\n",
       " [8126]  415199.2734  130765.2102  447390.1885  333993.7100  757062.8668\n",
       " [8131]  411006.7706  462766.8638  256043.9217  392839.3359  138488.8071\n",
       " [8136]  228733.2248  131851.1832  464655.4452  215512.1577   19983.9286\n",
       " [8141]  779597.2984  194876.0539  167655.0443  249466.4931  249726.7388\n",
       " [8146]  583754.1345  575209.6698  748108.9941  250631.7722  248282.4826\n",
       " [8151]  341339.7892 -259917.1005  470915.1886  436248.4403  512101.4725\n",
       " [8156]  -20536.5236  292299.4391  471665.9073  221380.1665  103427.0999\n",
       " [8161] -232084.3028   82242.5486    4212.2272  159894.1517  501317.5633\n",
       " [8166]   99727.9670  569167.3796  272962.4495   56828.6969  287988.9300\n",
       " [8171]   88173.0542  -28971.6475 -222844.3733  206868.5422  546983.8322\n",
       " [8176]  -28894.4217  -41849.2964 -111394.9090  451281.3397  201279.7249\n",
       " [8181]   -2669.2936  180195.7641  470898.9459  191019.1572 -174330.5807\n",
       " [8186]  389647.5995  150607.8071  292807.5191  362297.5024  140474.8577\n",
       " [8191]  323068.3961  419576.8707  279357.3507  633214.1434  321680.8360\n",
       " [8196]  193011.9662  321630.4654  663926.6212  287132.0270  -50722.9360\n",
       " [8201]   70294.0597  595017.2645  273982.7660   95375.8240  369090.6193\n",
       " [8206]  135822.9846  461655.1471  -62355.6336  -30854.3235  604894.0179\n",
       " [8211]  306803.1161  277583.3453 -117927.2237  301376.7682  127256.7109\n",
       " [8216]  -63698.6161  136749.5246   89725.5869  245976.4197  622903.2451\n",
       " [8221]   44468.1855  380374.5564  287721.8322   43436.3614  174796.0291\n",
       " [8226]  -10328.5475  448324.0392   10905.0647   90579.7134  535842.2362\n",
       " [8231]  465597.8570  218302.1645  417114.2898  389112.5022  -25754.7021\n",
       " [8236]  437499.4222  168833.1275 -205782.8193  260194.0157  301360.9139\n",
       " [8241]  195627.8283  234381.4558  436768.2097 -172195.7034  461267.5731\n",
       " [8246]  405878.7304  563996.1740  567676.7422  758524.8860  322915.4313\n",
       " [8251]  645272.1944  -62213.7940  488312.7815  485136.1955  792188.4243\n",
       " [8256]  -53608.4906  657369.0771  338821.4345  151822.3160 -267790.4111\n",
       " [8261]  256084.2709   46073.6626   24650.5664  524791.4219  492353.8117\n",
       " [8266]  600935.3219  364807.4112  464565.4454  100874.5630  -96311.5192\n",
       " [8271]   69992.1566  586879.7943  364079.1697  531607.1118  139508.7103\n",
       " [8276]  -40080.3727  318347.4094   80252.2005  492614.1137  -31752.9424\n",
       " [8281]  321414.2607  441636.5567   18329.5266  338894.7862  386781.8348\n",
       " [8286]  528153.0464  325015.5786  473015.0308  633313.3521  -36113.9630\n",
       " [8291]  233813.9610  199168.5185  566718.3930   93064.6855 -182500.9219\n",
       " [8296]  304158.5399    8638.7066  400118.1498  195233.4514  455748.3749\n",
       " [8301]  120643.4225   98533.0880   18050.1032  547308.1874  542123.1892\n",
       " [8306]  328505.6371  102297.3770  125441.7598  -79208.1718  666287.0347\n",
       " [8311]  635533.2318  262118.7047  426414.7294  432040.1800  532897.0428\n",
       " [8316]  -29405.2513   83601.4176  -33378.8075  455703.9641  337203.1381\n",
       " [8321]  481598.0541 -106976.0602   27918.4021  689172.6297 -103667.7996\n",
       " [8326]  341076.5548   94833.8210  261654.2722  473114.2542  518549.4332\n",
       " [8331]  151071.8671  459040.9084   -9449.3318  331378.7130   -3704.5182\n",
       " [8336]  313645.2813  584521.6748  462011.7265   12275.2909  721607.8676\n",
       " [8341]  -37487.3509 -104007.4621  390760.0746  147930.5361  423908.3915\n",
       " [8346]   59037.9670  160290.0772  -60849.8685  483729.6653   47055.1644\n",
       " [8351]  589148.6317  162089.7954  595342.5388  169727.4532   73939.8148\n",
       " [8356]  263784.0483  293497.5864  -64545.2176  277225.9024   24624.0683\n",
       " [8361]  602637.7896  346377.4490  310221.9264  416420.2434  712874.9583\n",
       " [8366]    2311.0345  251720.5619   67827.0081  321302.9687  510414.9982\n",
       " [8371]  349335.4821  488399.1241  314511.1849   -6294.7222  298742.1231\n",
       " [8376]   43062.7302  134091.2547  432332.3137  467836.0445  311197.5731\n",
       " [8381]  406960.0185  592241.9737  348153.6477  489993.3461   24888.3871\n",
       " [8386]  351300.8672 -179947.8478  196290.1603  418259.1052   19469.1074\n",
       " [8391] -140005.1856  316709.3231  244583.8404  509193.8543  235605.1446\n",
       " [8396]  392857.1647   64613.9212   58424.0057  471304.0617  359431.9163\n",
       " [8401]  273189.0666  205322.2532  245981.3583  460334.3320  157911.4528\n",
       " [8406]   72308.0512  219319.4525  331559.1211  226125.0151 -199804.9830\n",
       " [8411] -191209.7146  542267.2938  652678.6746  492945.8854  141793.7511\n",
       " [8416]   77695.7876  179669.8498   13081.5508  123267.1928  413137.7206\n",
       " [8421]  316542.9776   88188.2879  268840.8009  158712.8311  633511.2751\n",
       " [8426]    2170.2585  490701.8139  426343.3241  600751.9282  294972.3516\n",
       " [8431]  367752.9586  372483.4740  358177.1413  445370.7532  421923.4863\n",
       " [8436]   -5984.9600  181599.3002  366316.6926  390157.0127  155307.1421\n",
       " [8441]  621567.0298  286428.0767  359394.7606  533593.3181  183176.1018\n",
       " [8446]  410153.7651   80244.7985  515136.3197   83160.0315  266275.5567\n",
       " [8451]  305634.3763  675001.1063  458783.7909  283637.3190  474670.5878\n",
       " [8456]   26811.7971   -4454.2496  243740.5223  108251.0041  119479.5210\n",
       " [8461]  347120.5610 -118104.5056  502097.5764  209443.8384  486211.5327\n",
       " [8466]  133252.2185  -43355.5689  303430.0748  471538.1209  403041.1070\n",
       " [8471]  373096.1751  345734.5837  239434.0986  381265.3188   71201.5851\n",
       " [8476]  354200.6816  638473.0327  691865.1997  177978.1919  214069.0328\n",
       " [8481]  566221.0384  297966.3601  591343.0572  670608.1856  585758.8434\n",
       " [8486]  577990.9335  473866.9439  405779.2246  704305.6262  281844.6033\n",
       " [8491]  745048.5448 -117404.5024  419633.6337    4045.7757  125034.2915\n",
       " [8496]  449080.0588  524999.9541   14219.6288  -29581.0190  621844.5116\n",
       " [8501]   -7656.4945  458287.3007  396576.5754  541083.0440  731604.1035\n",
       " [8506]  295706.2633  379819.8536  347107.1761  500354.6762  211488.1301\n",
       " [8511]  200508.0797  837848.1800   65977.4098  259356.6702  298359.1924\n",
       " [8516]  525258.6492  465362.8615  172233.8942  400736.2660   84574.7265\n",
       " [8521]  595220.4831  -98209.7403  323266.0918  389506.1303  112318.4845\n",
       " [8526]  660972.2908  563403.0209   58451.8800  243767.4895  144962.3691\n",
       " [8531]   24988.4190  115999.5344  234865.7929  113910.3582  -33700.5733\n",
       " [8536]  342439.3224  191637.6497  429729.4158  130481.5557 -244193.8661\n",
       " [8541]  -32215.2208  555561.9746   75912.7994  240164.2784   22992.3456\n",
       " [8546]  105487.8846  591554.9890  813663.2115  130885.8444  363343.7942\n",
       " [8551]  376800.7173  381521.5079  378164.8504  725737.5040  -17284.5167\n",
       " [8556]  317650.6273  489527.1056    3446.4978   39180.5063  -17487.0174\n",
       " [8561] -149641.3641   41037.3408    9621.8948  315937.7100  481188.0201\n",
       " [8566]  473927.0034  191945.5116  267311.9144  -18269.1963  236086.3367\n",
       " [8571]  456736.7643  483797.2836  186273.0032   29146.6851  177571.2893\n",
       " [8576]  336576.2803  453066.3046   12691.4376   50387.7753  234879.2113\n",
       " [8581]  442549.5503  166230.1428   72336.0527  649571.1718  -90640.7896\n",
       " [8586]  666048.8415  198076.8085  323560.1651  111704.5719  478422.4799\n",
       " [8591]  466176.9924  129667.9739  332325.0567  -19819.6689  -18891.3099\n",
       " [8596]  301762.9224   49171.1645  -34966.7387  437715.7091  115834.6861\n",
       " [8601]  233299.9974  564284.9517  312735.0354  420831.3556  304564.1014\n",
       " [8606]  224677.2311  347816.1718  397471.2518  185398.6217 -163010.6818\n",
       " [8611]  302684.6619  455617.5197  498908.3183  383210.6218   74729.5391\n",
       " [8616]   18442.1791  412999.6864  -22375.4321  165983.6532  513885.9142\n",
       " [8621]  584920.3208  -79695.3069  290062.2955  587439.7601   77051.9613\n",
       " [8626] -168518.6577  455546.9790  343130.6804   34364.0484  141014.8045\n",
       " [8631]  232881.2986  704196.8896   29727.8306  745733.0736   51955.6577\n",
       " [8636]  587762.2007   57541.7060  450424.6506  304781.8416  702931.8540\n",
       " [8641]  549197.0664  163900.6479  260415.4509  767321.6073  133949.5125\n",
       " [8646]  273565.8660  378931.6698  461425.9731  333357.9586  695577.3291\n",
       " [8651]  385560.0179  -34945.3785  363640.4632  241386.5201  333438.5632\n",
       " [8656]  251863.2637  -42131.3478 -141821.5490 -144959.4659  285604.7207\n",
       " [8661]  648233.5114  362426.1770  -48605.4781  -21375.5868  221243.2081\n",
       " [8666]  561095.8815  429328.6529  479538.3023  764058.7029   12963.4503\n",
       " [8671]  202617.8218  276349.9956  189427.1728   68179.7055   49533.0312\n",
       " [8676]  444534.9538  332599.0374 -130061.5351  606440.4626  341058.8428\n",
       " [8681] -195853.5867  330990.8835  514643.2098  376000.7778   48101.3552\n",
       " [8686]  457439.7101  414514.6010  266000.0649  623614.1800  539140.4271\n",
       " [8691]  295153.3314  157429.4393 -124653.0850 -214477.1968   83138.9143\n",
       " [8696]  101272.0677  118737.6737  550598.4305  -65436.2390  734370.7010\n",
       " [8701]  -51669.5598 -112335.7174  112862.5506  355546.9605   98806.8192\n",
       " [8706]  227381.2515  131953.2858  568803.1639  121380.2694  274648.3141\n",
       " [8711]  648152.1935  559515.7552  118593.3974  118567.7867  180630.6219\n",
       " [8716]   59009.2928  106619.0050  185678.1856  464882.0773  288479.4373\n",
       " [8721] -102184.0571  281180.0215  471373.8187  202293.1414   35447.5918\n",
       " [8726]  220160.8545  694094.0815   15067.4680  430835.0296  530946.1096\n",
       " [8731]   38463.6132  689530.8266 -112148.7967   97405.1695   14840.9468\n",
       " [8736]  460457.3771  347994.2984   66710.2430  552661.9884   37157.6831\n",
       " [8741]   18303.5031  575753.8458  274231.1462  269415.9354  163411.7670\n",
       " [8746]  -26584.1024  618870.6494  114111.7701  369802.0032   81962.0433\n",
       " [8751]  591447.1488  497289.1850  514808.7707  541532.0845  -23661.3245\n",
       " [8756]  -57488.4023  497275.0707  330620.7143  178325.4570   43063.9108\n",
       " [8761]  125491.6190  137206.3376  163534.8108  271469.9365  383897.3430\n",
       " [8766]  394981.1852  -35783.0468  119575.3422  100382.0967  388271.3015\n",
       " [8771]  346761.6379  598270.1372  317672.1230  209065.9258  102133.3174\n",
       " [8776]  213172.3696  160296.7413  178069.9381  412923.3550   70531.2970\n",
       " [8781]   -6869.2341  538039.4338 -115146.5624 -390058.1700  661216.7469\n",
       " [8786]  352792.3792  -68338.0863   48216.8110  188133.4094  558349.2851\n",
       " [8791]   23925.5350  569247.4942  -29133.1956  540335.6384  287663.2934\n",
       " [8796]  648370.9315  200084.6051  421421.7072  329575.6490   38058.7199\n",
       " [8801]  414536.6682   10876.3212  383599.9496  571317.2090  747845.4511\n",
       " [8806] -209317.5660  -62035.7562   79408.1324  311307.9522  181526.1134\n",
       " [8811]  260048.1781  163663.9205 -183233.8074 -139207.4978   53874.2155\n",
       " [8816]  -35681.7026  143763.5463  357570.6144  470197.5649  197623.1483\n",
       " [8821]  556618.5661  275365.1512  143790.9793  212325.1466  197724.7749\n",
       " [8826]  146968.4307  387042.6362   42972.6893  364272.3053  563969.3832\n",
       " [8831]  622271.8799  107218.0992 -224325.7222 -134760.8674  279060.2598\n",
       " [8836]  657672.3824  334859.5493  113282.2716  121011.2924   45246.5748\n",
       " [8841]  627969.5100 -236686.9983  -24611.1113  431393.3791  613839.8894\n",
       " [8846]  376613.4775  405705.7882  -72326.8735  176848.3871  639770.2861\n",
       " [8851]   61050.1001  282689.2849  318773.9743  339324.6355 -183464.7332\n",
       " [8856]  -59650.5563  197294.9004  491752.4695  448867.9656  443644.3504\n",
       " [8861]  -54604.1120  261042.9601  364839.8335  580535.8556  260476.9304\n",
       " [8866]  244920.5252  506635.7550  481477.9912  -15384.1840  585526.9731\n",
       " [8871]  466609.1526  586592.1784  471098.8863 -201854.0765  195001.2433\n",
       " [8876]   27036.4711  342657.5981 -152619.7556  545847.6762  376798.3386\n",
       " [8881]  330977.1800  383760.2357  196900.5600   31587.3466  139302.7771\n",
       " [8886]   59796.5060  122314.2929  301706.5876  416758.3881   34932.5153\n",
       " [8891]   52565.1888  -29286.0096  168993.9983  266888.3412   81749.9202\n",
       " [8896]  342500.0389  129143.3945  -86709.2821  407808.9168  138338.0739\n",
       " [8901]    -387.7722  198248.8839  318561.2047  460587.6870  489322.3835\n",
       " [8906]  681725.9275  -48873.0675  416643.5992  226670.9856  203188.2713\n",
       " [8911]   86756.5899  193266.7581  180053.4802  166339.2483  154225.9698\n",
       " [8916]  237624.7468   82727.0560  210879.5863  439768.1838  227634.3587\n",
       " [8921]  415236.3412  168984.4774  269545.7326   86172.3313   25225.2598\n",
       " [8926]  579963.6323  568911.4633  480785.1673  255781.5751  365976.9157\n",
       " [8931]  394075.1653  416430.9456  654031.4498  201625.5902  588348.0500\n",
       " [8936]  406039.9709   27658.5415  342316.3309  283346.6830  780078.9993\n",
       " [8941]  667453.3753  510549.2782  154587.8636  382853.0262  251463.0541\n",
       " [8946]  477803.6008  274794.6140  467253.4191  205518.8355  855880.6195\n",
       " [8951]  740095.0399  618902.0773  444913.9650   68754.2683  176591.8933\n",
       " [8956]  -62455.3656  484946.0216  456808.0007  249047.2893   72109.8043\n",
       " [8961]  581409.3637  485508.5892  663414.5241  168097.2127  326302.1941\n",
       " [8966]  382288.1219  375356.7285  522387.1895  575695.1971  500645.6544\n",
       " [8971] -121479.1484  576919.8018  542177.0882  193685.2602  124401.0256\n",
       " [8976]  146645.9269  -27302.0163  290677.7975  429817.1369  -33621.0118\n",
       " [8981]  489964.2281  -65573.5205  332923.1539  104802.1212  223468.7243\n",
       " [8986]  238928.5132  343873.7488  367306.3984  400218.6732  226986.5475\n",
       " [8991]   11421.1548  553417.3936  755510.1119  223452.7711   44358.0958\n",
       " [8996]  263893.5120  247613.0411  -96729.7885  197457.7619  361010.1851\n",
       " [9001]  396571.5252  138996.2817     863.8255  182102.7484  570900.0877\n",
       " [9006]  887063.4380  494523.7263  301453.3479   40274.6084  718260.5197\n",
       " [9011]   33564.0737  314607.8391  366519.6472  467060.7570  340562.1821\n",
       " [9016]  -39997.9986   33805.0034   10621.8723 -112554.4730  667918.6440\n",
       " [9021]  -46240.9987  654854.6750  305442.0366  521085.5244  477395.3144\n",
       " [9026]   28131.6184  327448.0395  368095.3570  174473.5095  286904.2958\n",
       " [9031]  407328.0862   19415.5660  382047.0303  239718.5202  457757.9346\n",
       " [9036]  122614.9772   97754.9968  244862.5975  713426.4489 -240107.7874\n",
       " [9041]  714894.3852   99313.1614 -140110.1022  585588.5696   56706.6622\n",
       " [9046]  331255.6182  331357.8740  327596.7491  177687.7526  253455.6304\n",
       " [9051]  453512.1846  394565.9354  487658.7958  430943.1027   82138.3069\n",
       " [9056]  490789.8499  -76971.6253  511609.8723  106646.3798  177578.0633\n",
       " [9061]  258794.5271   72487.3268   63128.0065  162889.4220  607390.3733\n",
       " [9066]  763865.9478  539945.4138   67950.0507  161701.1766  478163.6829\n",
       " [9071]  529482.1877  160645.1314  494934.9875  630960.2819  -63845.4986\n",
       " [9076]  564167.9800  357317.1204  401074.6299  406893.2333  424360.7564\n",
       " [9081]   37924.4910  188995.7683   79774.4355   17384.6085  577719.4891\n",
       " [9086]  391160.6868  404068.8338   39348.0076  -44256.3704   86514.3434\n",
       " [9091]  157824.1165  735293.6409   83193.2651  460762.7808  361307.4418\n",
       " [9096]  270756.3457  694855.4518   39818.5250  289876.3872 -295463.9177\n",
       " [9101]  212613.4792  525737.0272  460234.8417  -32075.9600  230845.5871\n",
       " [9106]  205159.1462   85112.5519  483278.5350  309538.1285 -280694.5169\n",
       " [9111]   74227.3899  600282.4726  368162.2389  644570.5873  561516.3073\n",
       " [9116]  647096.2239  206300.5884   62069.2205  302487.8595  237798.6376\n",
       " [9121]  558854.8801  249882.0930  505704.8074  414408.8934  456536.8972\n",
       " [9126]  750983.3058  273757.1758  153260.1553  -39280.5950  166006.4125\n",
       " [9131] -274201.5918  167815.9548  359068.0329  446805.1913  338343.0753\n",
       " [9136]   54496.5443  687060.0191  628330.4801  324992.7779  290305.6838\n",
       " [9141]  262670.1421   92372.7503  336059.3018  257223.5823  317463.5579\n",
       " [9146]  504923.3698  186399.6430  659525.7399  386251.5867  111639.8071\n",
       " [9151]   56831.5468  490677.9184  297511.0307  140595.5679  211108.6535\n",
       " [9156]  686311.0600  379958.5553  131744.5899   92552.2652  193013.2569\n",
       " [9161]  138864.8748  210640.6991  339446.7593 -167859.7759     398.5280\n",
       " [9166]  341094.4395   23696.1798   75655.4303    8243.7607  788462.4006\n",
       " [9171]  550158.7744  491012.7551  555314.4761   25113.7672  639302.1025\n",
       " [9176]  507428.0700  660377.8532  612606.3182  560306.5925  671634.7589\n",
       " [9181]  337089.9176  160238.9370  108246.3250  321792.6055  432999.4515\n",
       " [9186]  344856.1139  630839.4844   92357.7291  652341.2672  168579.6051\n",
       " [9191]  -26892.6608  627820.7415  -41569.2259  439368.1660  338579.4913\n",
       " [9196]  295625.2482  109236.4934  242760.6120   98276.9588  640506.9614\n",
       " [9201]  278085.9474  559379.8188  -78557.3733  650340.8548 -154998.7626\n",
       " [9206]  502929.2674    9074.7663  628488.2982  279068.6181  154704.3185\n",
       " [9211]   98464.4702   21337.5218  547304.7351  415179.5912  199118.4319\n",
       " [9216]  180248.5539   79817.3067   71913.0586  103384.2698  -69442.2963\n",
       " [9221]  409818.7538 -165110.6962  532473.1817  502458.6393  171880.6432\n",
       " [9226]  367644.5020  177966.9050   77400.9552  -68060.0641  529558.5792\n",
       " [9231]  326005.1617   71948.2309   85805.0843  -19623.5213  354955.2619\n",
       " [9236]  413179.3609  211787.1928   82806.1937 -105614.2237  563170.8783\n",
       " [9241]  239640.3634  410186.6413  431591.2528 -140230.6313  -12740.4766\n",
       " [9246] -205812.6180  -40289.2075  -21786.6569  394961.9704   24846.3344\n",
       " [9251]  596672.0866  554871.0104  166356.6895  390402.7235  495396.5834\n",
       " [9256]  383246.1744  174202.6963  176575.1809  240167.1177  365851.2815\n",
       " [9261]  536671.8597  228849.1282   39175.7372  156267.4998   38519.4988\n",
       " [9266]  122170.4286  319146.9362  463573.2055  282496.0489  141961.7781\n",
       " [9271]  439158.1945  787903.0407  123507.4983  228587.2585  392173.4029\n",
       " [9276]  136922.0913  145395.4935  217351.3046  242268.5978   70275.0584\n",
       " [9281]  543757.2370  626169.7840  394935.0823  248359.8084    1354.7670\n",
       " [9286]  490251.2290  692454.1858  198491.6435  498778.4251  334365.5838\n",
       " [9291]  183565.5521 -231854.5256  546473.0790  469908.0144  583131.1961\n",
       " [9296]  -97757.1338  697781.4870  509598.7001 -140620.8069  190040.0633\n",
       " [9301]  633068.1594  500036.1274  674821.6031  103393.5749  121276.1548\n",
       " [9306]  327412.5920  243030.0265  588428.0187  213529.1524   33810.2097\n",
       " [9311]  469768.2568  372949.5914  207166.6004  171058.5129  330058.2945\n",
       " [9316]  430081.3930  244265.2136  542914.3414  485728.0104  313177.5936\n",
       " [9321]  459550.1800   77098.8662  504950.6143  128492.8295  457195.9970\n",
       " [9326]  156093.3127  235737.3570  753810.6596  278821.7803   41239.6485\n",
       " [9331]  218116.1916  240227.5603  183779.7250   33565.7048  163247.3654\n",
       " [9336]  468640.4990  536458.2666  120584.3879  427758.3424   87607.4259\n",
       " [9341]  196841.6441  253898.2693  638980.2491  162778.6503  136045.8951\n",
       " [9346]  252493.3884  726805.8070  338470.9631  519677.8955  549439.0120\n",
       " [9351]  322286.3464  483519.6464  653339.8085  599093.8934   97424.3725\n",
       " [9356]   91694.8623   81336.8514  524275.3426  216532.5484 -138248.2329\n",
       " [9361]  -11158.4298  368178.9325  254535.5473  230278.3043  770295.0979\n",
       " [9366]  322556.1620  -31056.4192  511769.6782  401734.0456   97772.2898\n",
       " [9371]  644853.7633  350238.1907   25764.0818  722825.3204  289501.2537\n",
       " [9376]   26956.9805  507807.1121  618090.8673  649653.5627  413688.7835\n",
       " [9381]  758672.3125  606186.9703  472577.6411  681860.2949  -51969.9796\n",
       " [9386]  361052.5322   81659.8275  166572.7913  611299.4773  336327.0883\n",
       " [9391]  465615.2564  586245.1730   54278.0417 -159420.7364  333951.3272\n",
       " [9396]  -86018.8713  464924.0703  507735.5821 -221513.5493  586253.2231\n",
       " [9401]  410149.1077  120311.1016  463278.6890  -34447.0869  751180.3260\n",
       " [9406]  302813.3673  328588.6855  614194.0268  508955.7958  410462.3997\n",
       " [9411] -199559.8250  -40811.9149  607169.3856  589670.8363  486341.5989\n",
       " [9416]  -61393.2631  351928.8466   40850.9452  379223.0949  522604.2490\n",
       " [9421]  328494.1817 -119700.5358  523490.8395  113486.6030  217912.1300\n",
       " [9426]  -30740.7731  -57578.7609  -51507.0536   11925.8299  589931.6703\n",
       " [9431]  198569.5898  594884.7443  657877.7320 -230581.1774  505655.6160\n",
       " [9436]  184190.6941  470753.8106  347161.4445  329787.3851  544299.3865\n",
       " [9441]  408058.2477  161470.2981  149079.2128  540995.1993   51191.2368\n",
       " [9446]  622307.0465  651391.4379  515579.4471  557270.5495   38515.3575\n",
       " [9451]  372519.9022   -5695.2382 -206113.2365  525120.0226  321169.7706\n",
       " [9456]  430483.0520  481101.6395  293608.7863  328667.7958  174410.5734\n",
       " [9461]  755814.0630  686012.8147  190435.8438  433469.6136  473808.9737\n",
       " [9466]  181466.7996  524589.5058  284851.2310  517973.7303  273416.0979\n",
       " [9471]  309503.2985   29275.8409  292287.2144  450221.4744  -19971.4475\n",
       " [9476]   55467.6753 -150914.9792  447011.2009 -124030.1599  407904.0845\n",
       " [9481]  161558.8758  112519.3820  377802.1231  439867.4363   67896.0686\n",
       " [9486]  298926.8040  495734.1175  446477.1346  414491.0074  697475.7882\n",
       " [9491]  561539.1178 -160770.7884  209264.6709  341453.3665  369969.6820\n",
       " [9496] -154830.4416  423830.2450  427810.2550  370802.2098  573346.9178\n",
       " [9501]  -94080.6139  179499.6385  562430.0211   47368.1995  164930.3159\n",
       " [9506] -262482.6497  501768.1939  580019.8187  421552.7134  649504.5088\n",
       " [9511]  363839.2678  742754.7842  409437.3680 -128183.9106  435355.8885\n",
       " [9516]  161989.9795   36568.7578  268167.6205  162316.2188  186150.5337\n",
       " [9521]  128472.0331  101516.0414  178577.6578  128197.7633  261030.9778\n",
       " [9526]  378404.1343  129654.0227  285365.7947  229965.7614  802276.7852\n",
       " [9531]  403382.4274  457765.0691   -1247.6992  229727.4583  219702.6232\n",
       " [9536]  237556.9175  511860.9681  244716.9434  580513.1950  121580.9641\n",
       " [9541]  441116.3395  -37022.3795  480219.2321  378643.0103  502648.2960\n",
       " [9546]  412016.6785  152863.7822  314671.1440  187633.2189  126047.2935\n",
       " [9551]  574416.0567  494624.2006   54862.9598  146982.1412  342509.9045\n",
       " [9556]  324205.3442  590360.3405  500812.5579   91234.5956  -51802.2515\n",
       " [9561]  308096.0655   74041.9443  473983.2997  403783.4944  345531.1236\n",
       " [9566]  359010.9872  464883.3339  315393.7581  190539.4414  364436.7857\n",
       " [9571]  326421.2520  392491.9066  675407.2317  651331.7722  100659.1079\n",
       " [9576]  373363.7238  -66222.8593  391931.5787  346634.3554  153548.9193\n",
       " [9581]  182853.2977  385986.5522   81790.3543  519821.1038  498016.2724\n",
       " [9586]  394661.5805  -40097.1341  188009.3013  546211.5133  175900.5131\n",
       " [9591]  164962.9110  302225.7939  655604.4984  332529.8798  380019.2097\n",
       " [9596]  336708.4472  283975.9408   17733.5375  121954.8029  576890.8165\n",
       " [9601]  125149.4890  -76125.2985  229558.9648  332398.0904   65970.1330\n",
       " [9606]  393561.9258   21632.0859  519105.8259  680030.2829  102339.5981\n",
       " [9611]  135386.0097  352482.8171  635803.6963  389038.5852  393130.4040\n",
       " [9616]  121819.7645 -186407.3970  -21502.7052  293456.7572   12684.0631\n",
       " [9621]  656659.8826  440869.7877  574405.5321   58927.0783  667338.8978\n",
       " [9626]  148389.9587  156121.9378  375073.8770  529514.5156  721803.3948\n",
       " [9631]  409742.4071  146639.8432 -107555.4431  266244.0693  303254.2136\n",
       " [9636]  204900.6745  342479.2665   -2568.6696 -163919.3976  213445.9051\n",
       " [9641]  306916.7052  612297.5672  402914.9181  282742.0862  448972.8620\n",
       " [9646]  118297.1859  -53266.9778  102264.0762  641663.6613  187056.6885\n",
       " [9651] -134933.2576  389968.0285  305312.2975  462611.8415  162003.4510\n",
       " [9656]  236028.2102  137241.9920  -41616.5148  667120.8117  339992.1294\n",
       " [9661]  456406.5884  543961.2955   96318.2004  187805.5388  -50784.1876\n",
       " [9666]  141763.6972  112259.3548  632652.7268  292276.0374  281449.6505\n",
       " [9671]  278377.3402   81022.6796  266760.4014  211378.3605  -39773.4108\n",
       " [9676]   50968.2668  368546.9912 -157218.5998  365128.5344   76004.6247\n",
       " [9681]  444953.3688  375599.0434  511859.9404  608617.6638  352808.4091\n",
       " [9686]  262339.5164  560613.1131  491192.7082  410215.5796  473002.6530\n",
       " [9691]   35141.4907   77898.8146   87489.9553  -78880.8101  140354.4383\n",
       " [9696]  122680.9952   37369.1762  202015.1796  239347.7881  312728.3235\n",
       " [9701]  592386.3836  374040.9467  494304.0713  286516.8380  440131.8829\n",
       " [9706] -105167.8213  499050.4870  344829.9765  316459.8158  583918.6047\n",
       " [9711]  294822.0779  430598.3460  593787.0375  393303.0694  509447.3334\n",
       " [9716]  741041.3356   33654.9504  166135.2335 -144590.0883  366709.5368\n",
       " [9721]   50536.5350  337502.9431  638076.8682  296295.7425  202898.6202\n",
       " [9726]  522986.4223  284726.2686  193270.2889  -90419.9156  746745.2796\n",
       " [9731]  446110.8366  -11474.8206 -122060.6167  238659.3209  415408.0434\n",
       " [9736]  725069.5068 -131175.9724  720301.7861  -43960.1220  102883.0194\n",
       " [9741]  -80863.8593   74153.9351  226910.0307  248982.5032  313255.9819\n",
       " [9746]  -48864.7498  342772.1576  423073.3768  210192.2141  337577.3302\n",
       " [9751]  795775.4776  688019.2777  676936.1895  589275.7637  302391.5880\n",
       " [9756]  127516.6364  245971.9087  382453.6907   54265.7974  241431.4302\n",
       " [9761]  492945.0129   22118.3952 -118300.0097  345879.1059   55469.0354\n",
       " [9766]  518184.6231  294802.3803   54741.5545  101484.0454  193026.3754\n",
       " [9771]  474926.1268  117976.7183  468717.8936  145516.8110  349251.0096\n",
       " [9776]  232028.5291  171316.3032 -221660.5694   42439.4204   81162.9694\n",
       " [9781]  431932.2100  665155.2702  364866.2719  412686.1988  536032.2353\n",
       " [9786]  171969.3024  -10996.7280  319135.6487  -45430.6590  310352.0804\n",
       " [9791]  294717.2206  487207.0353  119220.7094  -51132.5354  584277.9964\n",
       " [9796]   36166.7816  285931.5066  296172.9466  344321.4029  397701.5179\n",
       " [9801]  452813.6321  303730.5173  180896.2925  427417.8162  -21456.6121\n",
       " [9806]  118740.4043  536332.5526   80744.0655  615674.9784  192638.3605\n",
       " [9811]  379227.6588  271009.3874  461603.7432  320643.9612  -64865.2295\n",
       " [9816]  583777.4860  155295.6330  302544.1143  350997.2817  222523.4793\n",
       " [9821]  445935.9010  452187.0780  226005.6400  489499.7319   63307.0340\n",
       " [9826]  269803.1745  674456.5454  309917.1132  351524.9369   89895.5678\n",
       " [9831]   25589.8775   -4223.7652  320044.0520 -121713.4885  547073.8527\n",
       " [9836]  151512.7177  253337.7977  293456.9762  186424.5251  582741.5420\n",
       " [9841]  361287.4763  512019.6603  237270.7756  573804.0747  634395.6847\n",
       " [9846]  556772.6580  -85228.3315  576563.4447  516225.3341  349618.2762\n",
       " [9851]   88984.6159  483152.9191   71245.8744   49498.2531  -48070.2696\n",
       " [9856]    1558.3150  225759.5429  388483.8577  475568.3979  454704.3032\n",
       " [9861]   47474.5952  702844.8726  577513.8461  156626.4010   38755.3149\n",
       " [9866]  397498.6591  589122.4735  139168.6349  521368.0386  277048.5750\n",
       " [9871] -153624.9148   27735.7014  551728.7267   15811.2722  309202.5490\n",
       " [9876]  -58883.5156  -39660.4005  394907.4226  232816.0753  380355.9669\n",
       " [9881] -183605.3795  394271.7199  528883.4185  193737.9239 -179001.8755\n",
       " [9886]   40430.1502  422213.4312  581151.4986  700080.7151   93533.1948\n",
       " [9891]  523689.8405  321216.2356  601937.5231  291736.9798  718335.4643\n",
       " [9896]  706847.0144  332747.5615   91615.2177  407383.3975  398085.5367\n",
       " [9901]  459783.2884  233715.0751 -106095.1683  228813.0121  250853.0277\n",
       " [9906]  -49226.1548  -60062.4102  -14761.6278  302269.5408  221105.4779\n",
       " [9911] -109176.0833  270446.3538  -86673.0417  468198.9810  654990.2065\n",
       " [9916]  228086.2393  580744.3824 -122318.4261  295425.3329  287761.2992\n",
       " [9921]  411214.6846  170968.0580  332563.2076  116801.7744  162974.1724\n",
       " [9926]  562076.2564  426838.7331  455573.5965   87801.1166  409001.9198\n",
       " [9931]  110065.0475  511302.2522   11851.2005   59009.5582  -57181.2846\n",
       " [9936]  188582.8027  420596.0881  507413.1578  447351.1900   -6851.5600\n",
       " [9941] -158137.2033  102405.9339  256175.6294  324484.1831  529365.0851\n",
       " [9946]  392271.6681  677707.5510   74104.6744  226245.8051 -129185.3733\n",
       " [9951]  283765.7994  230274.0907  452953.4295  527223.3350  516622.5220\n",
       " [9956] -185516.9906  405823.5232  361561.3661  535640.9991 -156334.8978\n",
       " [9961]  671233.0480  618751.0973  251306.2664  667199.2929  251117.6384\n",
       " [9966]  102815.3751  145422.2880  434967.0714  385667.2256  189182.2762\n",
       " [9971]  162222.8260  180170.9070  408231.3249  403270.1759  285680.9451\n",
       " [9976]  222176.8077  545501.5162  132635.7194  506788.7627    9993.3925\n",
       " [9981]  154617.2433  255002.0678  194258.3589  397757.2818  481957.6314\n",
       " [9986] -112912.8868  484830.5689  -27037.6316  171077.6521  -39353.4278\n",
       " [9991]  537661.1103   58561.6934   37219.3335   41096.1974    4771.4198\n",
       " [9996]  275993.8694  -52003.2950  -25497.2716   23464.2340  -38430.1081"
      ]
     },
     "metadata": {},
     "output_type": "display_data"
    }
   ],
   "source": [
    "vec_vpn"
   ]
  },
  {
   "cell_type": "code",
   "execution_count": 77,
   "metadata": {
    "slideshow": {
     "slide_type": "subslide"
    }
   },
   "outputs": [
    {
     "data": {
      "text/html": [
       "280418.215300895"
      ],
      "text/latex": [
       "280418.215300895"
      ],
      "text/markdown": [
       "280418.215300895"
      ],
      "text/plain": [
       "[1] 280418.2"
      ]
     },
     "metadata": {},
     "output_type": "display_data"
    },
    {
     "data": {
      "image/png": "[encoded data removed]",
      "text/plain": [
       "Plot with title \"Histogram of vec_vpn\""
      ]
     },
     "metadata": {
      "image/png": {
       "height": 420,
       "width": 420
      },
      "text/plain": {
       "height": 420,
       "width": 420
      }
     },
     "output_type": "display_data"
    }
   ],
   "source": [
    "#Media de VPNs \n",
    "mean(vec_vpn)\n",
    "\n",
    "#Graficamos la distribucion de los VPNs\n",
    "hist(vec_vpn,col=\"#f39200\")"
   ]
  },
  {
   "cell_type": "code",
   "execution_count": 78,
   "metadata": {
    "slideshow": {
     "slide_type": "subslide"
    }
   },
   "outputs": [
    {
     "data": {
      "text/html": [
       "0.1301"
      ],
      "text/latex": [
       "0.1301"
      ],
      "text/markdown": [
       "0.1301"
      ],
      "text/plain": [
       "[1] 0.1301"
      ]
     },
     "metadata": {},
     "output_type": "display_data"
    }
   ],
   "source": [
    "#Vector vacio donde se va a guardar 1 si el VPN es positivo y 0 si es negativo\n",
    "vec_prob=rep(NaN,nSim)\n",
    "\n",
    "#Funcion de probabilidad que el VPN sea menor a un numero\n",
    "Menor = function(a){\n",
    "    for (i in 1:nSim) {\n",
    "        if (vec_vpn[i] < a)\n",
    "            vec_prob[i]=1\n",
    "        else\n",
    "            vec_prob[i]=0\n",
    "    }\n",
    "    Probabilidad = sum(vec_prob)/nSim\n",
    "    return(Probabilidad)\n",
    "}\n",
    "\n",
    "#La probabilidad que el VPN sea negativo\n",
    "Menor(0)"
   ]
  },
  {
   "cell_type": "code",
   "execution_count": 79,
   "metadata": {
    "slideshow": {
     "slide_type": "subslide"
    }
   },
   "outputs": [
    {
     "data": {
      "text/html": [
       "0.8699"
      ],
      "text/latex": [
       "0.8699"
      ],
      "text/markdown": [
       "0.8699"
      ],
      "text/plain": [
       "[1] 0.8699"
      ]
     },
     "metadata": {},
     "output_type": "display_data"
    },
    {
     "data": {
      "text/html": [
       "0.2003"
      ],
      "text/latex": [
       "0.2003"
      ],
      "text/markdown": [
       "0.2003"
      ],
      "text/plain": [
       "[1] 0.2003"
      ]
     },
     "metadata": {},
     "output_type": "display_data"
    }
   ],
   "source": [
    "#Funcion de probabilidad que el VPN sea mayor a un numero\n",
    "Mayor = function(a){\n",
    "    for (i in 1:nSim) {\n",
    "        if (vec_vpn[i] > a)\n",
    "            vec_prob[i]=1\n",
    "        else\n",
    "            vec_prob[i]=0\n",
    "    }\n",
    "    Probabilidad = sum(vec_prob)/nSim\n",
    "    return(Probabilidad)\n",
    "}\n",
    "\n",
    "#La probabilidad que el VPN sea positivo\n",
    "Mayor(0)\n",
    "\n",
    "#La probabilidad que el VPN sea mayor a 500,000\n",
    "Mayor(500000)\n"
   ]
  },
  {
   "cell_type": "markdown",
   "metadata": {
    "slideshow": {
     "slide_type": "slide"
    }
   },
   "source": [
    "# EJEMPLO ANALISIS SENSIBILIDAD #\n",
    "# Variable: Precio del Producto #"
   ]
  },
  {
   "cell_type": "code",
   "execution_count": 80,
   "metadata": {
    "slideshow": {
     "slide_type": "fragment"
    }
   },
   "outputs": [],
   "source": [
    "vec_vpn2=rep(NaN,nSim) #Creamos un vector que va a guardar todos los VPN por cada simulacion\n",
    "\n",
    "inv_ini2=-sample(50000:200000,1) #Esta es la inversion inicial\n",
    "q2=sample(100:700,1)\n",
    "p2=simular_AR1(intercepto,rho)\n",
    "cp2=0.60*p2 #Costo unitario de producción FIJO\n",
    "cv2=0.25*p2 #Costo unitario por venta FIJO\n",
    "ckt2=sample(-2000:2000,1) #Cambio de capital trabajo FIJO\n",
    "depreciacion2=-inv_ini2*0.2 #Esta es la depreciacion de la maquinaria que se va a comprar con la inversion inicial\n",
    "ISR=0.25\n",
    "\n",
    "vec_precio=rep(NaN,nSim)"
   ]
  },
  {
   "cell_type": "code",
   "execution_count": 82,
   "metadata": {
    "slideshow": {
     "slide_type": "subslide"
    }
   },
   "outputs": [],
   "source": [
    "for (t in 1:nSim){\n",
    "    vec_cashflow=rep(NaN,nT) #En este vector se guarda cada cashflow por la cantidad de periodos\n",
    "    vec_cashflow[1]=-inv_ini2 #Valor inicial de la inversión\n",
    "    vec_precio[t]=simular_AR1(intercepto,rho) #Vector de precios que se simulara para el analisis de sensibilidad\n",
    "    \n",
    "    for (i in 2:nT){\n",
    "        \n",
    "        #Agregamos al vector de cashflows el calculo del cashflow por cada periodo (nT)    \n",
    "        vec_cashflow[i]=cash_flow(q2,vec_precio[t],cp2,cv2,ckt2,ISR,depreciacion2)\n",
    "        \n",
    "        \n",
    "    }\n",
    "    #Agregamos al vector de VPNs el calculo del VPN por cada vector de cashflow\n",
    "    vec_vpn2[t]=npv(r=tasa_desc,cf=vec_cashflow)\n",
    "    \n",
    "}"
   ]
  },
  {
   "cell_type": "code",
   "execution_count": 83,
   "metadata": {
    "slideshow": {
     "slide_type": "skip"
    }
   },
   "outputs": [
    {
     "data": {
      "text/html": [
       "<style>\n",
       ".list-inline {list-style: none; margin:0; padding: 0}\n",
       ".list-inline>li {display: inline-block}\n",
       ".list-inline>li:not(:last-child)::after {content: \"\\00b7\"; padding: 0 .5ex}\n",
       "</style>\n",
       "<ol class=list-inline><li>819695.988406467</li><li>948270.280627429</li><li>605405.501371528</li><li>733979.793592491</li><li>391115.01433659</li><li>541118.355261047</li><li>969699.329330923</li><li>948270.280627429</li><li>991128.378034417</li><li>862554.085813454</li><li>669692.64748201</li><li>541118.355261047</li><li>412544.063040084</li><li>862554.085813454</li><li>905412.183220442</li><li>1012557.42673791</li><li>733979.793592491</li><li>519689.306557553</li><li>733979.793592491</li><li>712550.744888997</li><li>562547.403964541</li><li>348256.916929602</li><li>1033986.4754414</li><li>369685.965633096</li><li>819695.988406467</li><li>348256.916929602</li><li>948270.280627429</li><li>583976.452668034</li><li>498260.257854059</li><li>1012557.42673791</li><li>862554.085813454</li><li>648263.598778516</li><li>1012557.42673791</li><li>348256.916929602</li><li>541118.355261047</li><li>776837.890999479</li><li>1033986.4754414</li><li>498260.257854059</li><li>755408.842295985</li><li>991128.378034417</li><li>519689.306557553</li><li>905412.183220442</li><li>991128.378034417</li><li>691121.696185504</li><li>798266.939702973</li><li>626834.550075022</li><li>476831.209150565</li><li>948270.280627429</li><li>541118.355261047</li><li>412544.063040084</li><li>348256.916929602</li><li>733979.793592491</li><li>969699.329330923</li><li>776837.890999479</li><li>691121.696185504</li><li>498260.257854059</li><li>476831.209150565</li><li>455402.160447071</li><li>733979.793592491</li><li>819695.988406467</li><li>412544.063040084</li><li>519689.306557553</li><li>819695.988406467</li><li>669692.64748201</li><li>819695.988406467</li><li>605405.501371528</li><li>412544.063040084</li><li>969699.329330923</li><li>455402.160447071</li><li>991128.378034417</li><li>905412.183220442</li><li>905412.183220442</li><li>691121.696185504</li><li>819695.988406467</li><li>391115.01433659</li><li>669692.64748201</li><li>712550.744888997</li><li>391115.01433659</li><li>691121.696185504</li><li>583976.452668034</li><li>348256.916929602</li><li>348256.916929602</li><li>648263.598778516</li><li>691121.696185504</li><li>905412.183220442</li><li>798266.939702973</li><li>883983.134516948</li><li>476831.209150565</li><li>798266.939702973</li><li>562547.403964541</li><li>391115.01433659</li><li>498260.257854059</li><li>369685.965633096</li><li>519689.306557553</li><li>562547.403964541</li><li>733979.793592491</li><li>412544.063040084</li><li>498260.257854059</li><li>648263.598778516</li><li>412544.063040084</li><li>348256.916929602</li><li>841125.03710996</li><li>391115.01433659</li><li>819695.988406467</li><li>283969.770819121</li><li>969699.329330923</li><li>819695.988406467</li><li>819695.988406467</li><li>691121.696185504</li><li>948270.280627429</li><li>862554.085813454</li><li>626834.550075022</li><li>883983.134516948</li><li>498260.257854059</li><li>348256.916929602</li><li>283969.770819121</li><li>798266.939702973</li><li>733979.793592491</li><li>1012557.42673791</li><li>969699.329330923</li><li>455402.160447071</li><li>476831.209150565</li><li>391115.01433659</li><li>326827.868226109</li><li>541118.355261047</li><li>541118.355261047</li><li>541118.355261047</li><li>391115.01433659</li><li>369685.965633096</li><li>755408.842295985</li><li>733979.793592491</li><li>819695.988406467</li><li>755408.842295985</li><li>669692.64748201</li><li>391115.01433659</li><li>862554.085813454</li><li>712550.744888997</li><li>755408.842295985</li><li>798266.939702973</li><li>626834.550075022</li><li>369685.965633096</li><li>648263.598778516</li><li>433973.111743578</li><li>498260.257854059</li><li>755408.842295985</li><li>926841.231923936</li><li>841125.03710996</li><li>455402.160447071</li><li>948270.280627429</li><li>776837.890999479</li><li>391115.01433659</li><li>905412.183220442</li><li>326827.868226109</li><li>841125.03710996</li><li>648263.598778516</li><li>626834.550075022</li><li>476831.209150565</li><li>326827.868226109</li><li>798266.939702973</li><li>948270.280627429</li><li>519689.306557553</li><li>583976.452668034</li><li>755408.842295985</li><li>305398.819522615</li><li>605405.501371528</li><li>369685.965633096</li><li>841125.03710996</li><li>476831.209150565</li><li>562547.403964541</li><li>519689.306557553</li><li>605405.501371528</li><li>369685.965633096</li><li>905412.183220442</li><li>498260.257854059</li><li>648263.598778516</li><li>776837.890999479</li><li>433973.111743578</li><li>669692.64748201</li><li>1012557.42673791</li><li>969699.329330923</li><li>862554.085813454</li><li>348256.916929602</li><li>326827.868226109</li><li>991128.378034417</li><li>498260.257854059</li><li>991128.378034417</li><li>926841.231923936</li><li>605405.501371528</li><li>455402.160447071</li><li>305398.819522615</li><li>926841.231923936</li><li>476831.209150565</li><li>798266.939702973</li><li>541118.355261047</li><li>991128.378034417</li><li>926841.231923936</li><li>819695.988406467</li><li>733979.793592491</li><li>798266.939702973</li><li>798266.939702973</li><li>...</li><li>433973.111743578</li><li>755408.842295985</li><li>648263.598778516</li><li>712550.744888997</li><li>605405.501371528</li><li>841125.03710996</li><li>455402.160447071</li><li>862554.085813454</li><li>991128.378034417</li><li>541118.355261047</li><li>626834.550075022</li><li>733979.793592491</li><li>798266.939702973</li><li>648263.598778516</li><li>776837.890999479</li><li>605405.501371528</li><li>583976.452668034</li><li>498260.257854059</li><li>841125.03710996</li><li>433973.111743578</li><li>1033986.4754414</li><li>926841.231923936</li><li>455402.160447071</li><li>583976.452668034</li><li>691121.696185504</li><li>433973.111743578</li><li>476831.209150565</li><li>348256.916929602</li><li>776837.890999479</li><li>669692.64748201</li><li>691121.696185504</li><li>669692.64748201</li><li>433973.111743578</li><li>755408.842295985</li><li>948270.280627429</li><li>691121.696185504</li><li>755408.842295985</li><li>948270.280627429</li><li>391115.01433659</li><li>648263.598778516</li><li>883983.134516948</li><li>948270.280627429</li><li>1033986.4754414</li><li>712550.744888997</li><li>626834.550075022</li><li>326827.868226109</li><li>712550.744888997</li><li>498260.257854059</li><li>862554.085813454</li><li>605405.501371528</li><li>348256.916929602</li><li>626834.550075022</li><li>433973.111743578</li><li>883983.134516948</li><li>669692.64748201</li><li>626834.550075022</li><li>776837.890999479</li><li>926841.231923936</li><li>969699.329330923</li><li>562547.403964541</li><li>1033986.4754414</li><li>841125.03710996</li><li>283969.770819121</li><li>305398.819522615</li><li>305398.819522615</li><li>1012557.42673791</li><li>733979.793592491</li><li>605405.501371528</li><li>1012557.42673791</li><li>1033986.4754414</li><li>519689.306557553</li><li>605405.501371528</li><li>498260.257854059</li><li>605405.501371528</li><li>391115.01433659</li><li>283969.770819121</li><li>305398.819522615</li><li>305398.819522615</li><li>519689.306557553</li><li>498260.257854059</li><li>755408.842295985</li><li>862554.085813454</li><li>326827.868226109</li><li>819695.988406467</li><li>991128.378034417</li><li>776837.890999479</li><li>283969.770819121</li><li>433973.111743578</li><li>712550.744888997</li><li>969699.329330923</li><li>455402.160447071</li><li>691121.696185504</li><li>305398.819522615</li><li>562547.403964541</li><li>648263.598778516</li><li>1033986.4754414</li><li>841125.03710996</li><li>369685.965633096</li><li>391115.01433659</li><li>369685.965633096</li><li>583976.452668034</li><li>648263.598778516</li><li>476831.209150565</li><li>948270.280627429</li><li>776837.890999479</li><li>733979.793592491</li><li>798266.939702973</li><li>605405.501371528</li><li>519689.306557553</li><li>905412.183220442</li><li>883983.134516948</li><li>498260.257854059</li><li>283969.770819121</li><li>883983.134516948</li><li>541118.355261047</li><li>733979.793592491</li><li>883983.134516948</li><li>1033986.4754414</li><li>626834.550075022</li><li>519689.306557553</li><li>391115.01433659</li><li>841125.03710996</li><li>819695.988406467</li><li>669692.64748201</li><li>991128.378034417</li><li>819695.988406467</li><li>1012557.42673791</li><li>562547.403964541</li><li>733979.793592491</li><li>1012557.42673791</li><li>391115.01433659</li><li>712550.744888997</li><li>691121.696185504</li><li>883983.134516948</li><li>669692.64748201</li><li>541118.355261047</li><li>969699.329330923</li><li>669692.64748201</li><li>541118.355261047</li><li>305398.819522615</li><li>626834.550075022</li><li>433973.111743578</li><li>605405.501371528</li><li>583976.452668034</li><li>519689.306557553</li><li>905412.183220442</li><li>498260.257854059</li><li>669692.64748201</li><li>305398.819522615</li><li>541118.355261047</li><li>1033986.4754414</li><li>305398.819522615</li><li>883983.134516948</li><li>1012557.42673791</li><li>948270.280627429</li><li>476831.209150565</li><li>905412.183220442</li><li>498260.257854059</li><li>755408.842295985</li><li>669692.64748201</li><li>476831.209150565</li><li>905412.183220442</li><li>433973.111743578</li><li>948270.280627429</li><li>305398.819522615</li><li>776837.890999479</li><li>498260.257854059</li><li>862554.085813454</li><li>669692.64748201</li><li>541118.355261047</li><li>798266.939702973</li><li>455402.160447071</li><li>948270.280627429</li><li>648263.598778516</li><li>991128.378034417</li><li>669692.64748201</li><li>712550.744888997</li><li>476831.209150565</li><li>991128.378034417</li><li>755408.842295985</li><li>669692.64748201</li><li>755408.842295985</li><li>712550.744888997</li><li>369685.965633096</li><li>733979.793592491</li><li>562547.403964541</li><li>776837.890999479</li><li>305398.819522615</li><li>712550.744888997</li><li>883983.134516948</li><li>1012557.42673791</li><li>348256.916929602</li><li>326827.868226109</li><li>305398.819522615</li><li>283969.770819121</li><li>991128.378034417</li><li>455402.160447071</li><li>626834.550075022</li><li>1033986.4754414</li><li>583976.452668034</li></ol>\n"
      ],
      "text/latex": [
       "\\begin{enumerate*}\n",
       "\\item 819695.988406467\n",
       "\\item 948270.280627429\n",
       "\\item 605405.501371528\n",
       "\\item 733979.793592491\n",
       "\\item 391115.01433659\n",
       "\\item 541118.355261047\n",
       "\\item 969699.329330923\n",
       "\\item 948270.280627429\n",
       "\\item 991128.378034417\n",
       "\\item 862554.085813454\n",
       "\\item 669692.64748201\n",
       "\\item 541118.355261047\n",
       "\\item 412544.063040084\n",
       "\\item 862554.085813454\n",
       "\\item 905412.183220442\n",
       "\\item 1012557.42673791\n",
       "\\item 733979.793592491\n",
       "\\item 519689.306557553\n",
       "\\item 733979.793592491\n",
       "\\item 712550.744888997\n",
       "\\item 562547.403964541\n",
       "\\item 348256.916929602\n",
       "\\item 1033986.4754414\n",
       "\\item 369685.965633096\n",
       "\\item 819695.988406467\n",
       "\\item 348256.916929602\n",
       "\\item 948270.280627429\n",
       "\\item 583976.452668034\n",
       "\\item 498260.257854059\n",
       "\\item 1012557.42673791\n",
       "\\item 862554.085813454\n",
       "\\item 648263.598778516\n",
       "\\item 1012557.42673791\n",
       "\\item 348256.916929602\n",
       "\\item 541118.355261047\n",
       "\\item 776837.890999479\n",
       "\\item 1033986.4754414\n",
       "\\item 498260.257854059\n",
       "\\item 755408.842295985\n",
       "\\item 991128.378034417\n",
       "\\item 519689.306557553\n",
       "\\item 905412.183220442\n",
       "\\item 991128.378034417\n",
       "\\item 691121.696185504\n",
       "\\item 798266.939702973\n",
       "\\item 626834.550075022\n",
       "\\item 476831.209150565\n",
       "\\item 948270.280627429\n",
       "\\item 541118.355261047\n",
       "\\item 412544.063040084\n",
       "\\item 348256.916929602\n",
       "\\item 733979.793592491\n",
       "\\item 969699.329330923\n",
       "\\item 776837.890999479\n",
       "\\item 691121.696185504\n",
       "\\item 498260.257854059\n",
       "\\item 476831.209150565\n",
       "\\item 455402.160447071\n",
       "\\item 733979.793592491\n",
       "\\item 819695.988406467\n",
       "\\item 412544.063040084\n",
       "\\item 519689.306557553\n",
       "\\item 819695.988406467\n",
       "\\item 669692.64748201\n",
       "\\item 819695.988406467\n",
       "\\item 605405.501371528\n",
       "\\item 412544.063040084\n",
       "\\item 969699.329330923\n",
       "\\item 455402.160447071\n",
       "\\item 991128.378034417\n",
       "\\item 905412.183220442\n",
       "\\item 905412.183220442\n",
       "\\item 691121.696185504\n",
       "\\item 819695.988406467\n",
       "\\item 391115.01433659\n",
       "\\item 669692.64748201\n",
       "\\item 712550.744888997\n",
       "\\item 391115.01433659\n",
       "\\item 691121.696185504\n",
       "\\item 583976.452668034\n",
       "\\item 348256.916929602\n",
       "\\item 348256.916929602\n",
       "\\item 648263.598778516\n",
       "\\item 691121.696185504\n",
       "\\item 905412.183220442\n",
       "\\item 798266.939702973\n",
       "\\item 883983.134516948\n",
       "\\item 476831.209150565\n",
       "\\item 798266.939702973\n",
       "\\item 562547.403964541\n",
       "\\item 391115.01433659\n",
       "\\item 498260.257854059\n",
       "\\item 369685.965633096\n",
       "\\item 519689.306557553\n",
       "\\item 562547.403964541\n",
       "\\item 733979.793592491\n",
       "\\item 412544.063040084\n",
       "\\item 498260.257854059\n",
       "\\item 648263.598778516\n",
       "\\item 412544.063040084\n",
       "\\item 348256.916929602\n",
       "\\item 841125.03710996\n",
       "\\item 391115.01433659\n",
       "\\item 819695.988406467\n",
       "\\item 283969.770819121\n",
       "\\item 969699.329330923\n",
       "\\item 819695.988406467\n",
       "\\item 819695.988406467\n",
       "\\item 691121.696185504\n",
       "\\item 948270.280627429\n",
       "\\item 862554.085813454\n",
       "\\item 626834.550075022\n",
       "\\item 883983.134516948\n",
       "\\item 498260.257854059\n",
       "\\item 348256.916929602\n",
       "\\item 283969.770819121\n",
       "\\item 798266.939702973\n",
       "\\item 733979.793592491\n",
       "\\item 1012557.42673791\n",
       "\\item 969699.329330923\n",
       "\\item 455402.160447071\n",
       "\\item 476831.209150565\n",
       "\\item 391115.01433659\n",
       "\\item 326827.868226109\n",
       "\\item 541118.355261047\n",
       "\\item 541118.355261047\n",
       "\\item 541118.355261047\n",
       "\\item 391115.01433659\n",
       "\\item 369685.965633096\n",
       "\\item 755408.842295985\n",
       "\\item 733979.793592491\n",
       "\\item 819695.988406467\n",
       "\\item 755408.842295985\n",
       "\\item 669692.64748201\n",
       "\\item 391115.01433659\n",
       "\\item 862554.085813454\n",
       "\\item 712550.744888997\n",
       "\\item 755408.842295985\n",
       "\\item 798266.939702973\n",
       "\\item 626834.550075022\n",
       "\\item 369685.965633096\n",
       "\\item 648263.598778516\n",
       "\\item 433973.111743578\n",
       "\\item 498260.257854059\n",
       "\\item 755408.842295985\n",
       "\\item 926841.231923936\n",
       "\\item 841125.03710996\n",
       "\\item 455402.160447071\n",
       "\\item 948270.280627429\n",
       "\\item 776837.890999479\n",
       "\\item 391115.01433659\n",
       "\\item 905412.183220442\n",
       "\\item 326827.868226109\n",
       "\\item 841125.03710996\n",
       "\\item 648263.598778516\n",
       "\\item 626834.550075022\n",
       "\\item 476831.209150565\n",
       "\\item 326827.868226109\n",
       "\\item 798266.939702973\n",
       "\\item 948270.280627429\n",
       "\\item 519689.306557553\n",
       "\\item 583976.452668034\n",
       "\\item 755408.842295985\n",
       "\\item 305398.819522615\n",
       "\\item 605405.501371528\n",
       "\\item 369685.965633096\n",
       "\\item 841125.03710996\n",
       "\\item 476831.209150565\n",
       "\\item 562547.403964541\n",
       "\\item 519689.306557553\n",
       "\\item 605405.501371528\n",
       "\\item 369685.965633096\n",
       "\\item 905412.183220442\n",
       "\\item 498260.257854059\n",
       "\\item 648263.598778516\n",
       "\\item 776837.890999479\n",
       "\\item 433973.111743578\n",
       "\\item 669692.64748201\n",
       "\\item 1012557.42673791\n",
       "\\item 969699.329330923\n",
       "\\item 862554.085813454\n",
       "\\item 348256.916929602\n",
       "\\item 326827.868226109\n",
       "\\item 991128.378034417\n",
       "\\item 498260.257854059\n",
       "\\item 991128.378034417\n",
       "\\item 926841.231923936\n",
       "\\item 605405.501371528\n",
       "\\item 455402.160447071\n",
       "\\item 305398.819522615\n",
       "\\item 926841.231923936\n",
       "\\item 476831.209150565\n",
       "\\item 798266.939702973\n",
       "\\item 541118.355261047\n",
       "\\item 991128.378034417\n",
       "\\item 926841.231923936\n",
       "\\item 819695.988406467\n",
       "\\item 733979.793592491\n",
       "\\item 798266.939702973\n",
       "\\item 798266.939702973\n",
       "\\item ...\n",
       "\\item 433973.111743578\n",
       "\\item 755408.842295985\n",
       "\\item 648263.598778516\n",
       "\\item 712550.744888997\n",
       "\\item 605405.501371528\n",
       "\\item 841125.03710996\n",
       "\\item 455402.160447071\n",
       "\\item 862554.085813454\n",
       "\\item 991128.378034417\n",
       "\\item 541118.355261047\n",
       "\\item 626834.550075022\n",
       "\\item 733979.793592491\n",
       "\\item 798266.939702973\n",
       "\\item 648263.598778516\n",
       "\\item 776837.890999479\n",
       "\\item 605405.501371528\n",
       "\\item 583976.452668034\n",
       "\\item 498260.257854059\n",
       "\\item 841125.03710996\n",
       "\\item 433973.111743578\n",
       "\\item 1033986.4754414\n",
       "\\item 926841.231923936\n",
       "\\item 455402.160447071\n",
       "\\item 583976.452668034\n",
       "\\item 691121.696185504\n",
       "\\item 433973.111743578\n",
       "\\item 476831.209150565\n",
       "\\item 348256.916929602\n",
       "\\item 776837.890999479\n",
       "\\item 669692.64748201\n",
       "\\item 691121.696185504\n",
       "\\item 669692.64748201\n",
       "\\item 433973.111743578\n",
       "\\item 755408.842295985\n",
       "\\item 948270.280627429\n",
       "\\item 691121.696185504\n",
       "\\item 755408.842295985\n",
       "\\item 948270.280627429\n",
       "\\item 391115.01433659\n",
       "\\item 648263.598778516\n",
       "\\item 883983.134516948\n",
       "\\item 948270.280627429\n",
       "\\item 1033986.4754414\n",
       "\\item 712550.744888997\n",
       "\\item 626834.550075022\n",
       "\\item 326827.868226109\n",
       "\\item 712550.744888997\n",
       "\\item 498260.257854059\n",
       "\\item 862554.085813454\n",
       "\\item 605405.501371528\n",
       "\\item 348256.916929602\n",
       "\\item 626834.550075022\n",
       "\\item 433973.111743578\n",
       "\\item 883983.134516948\n",
       "\\item 669692.64748201\n",
       "\\item 626834.550075022\n",
       "\\item 776837.890999479\n",
       "\\item 926841.231923936\n",
       "\\item 969699.329330923\n",
       "\\item 562547.403964541\n",
       "\\item 1033986.4754414\n",
       "\\item 841125.03710996\n",
       "\\item 283969.770819121\n",
       "\\item 305398.819522615\n",
       "\\item 305398.819522615\n",
       "\\item 1012557.42673791\n",
       "\\item 733979.793592491\n",
       "\\item 605405.501371528\n",
       "\\item 1012557.42673791\n",
       "\\item 1033986.4754414\n",
       "\\item 519689.306557553\n",
       "\\item 605405.501371528\n",
       "\\item 498260.257854059\n",
       "\\item 605405.501371528\n",
       "\\item 391115.01433659\n",
       "\\item 283969.770819121\n",
       "\\item 305398.819522615\n",
       "\\item 305398.819522615\n",
       "\\item 519689.306557553\n",
       "\\item 498260.257854059\n",
       "\\item 755408.842295985\n",
       "\\item 862554.085813454\n",
       "\\item 326827.868226109\n",
       "\\item 819695.988406467\n",
       "\\item 991128.378034417\n",
       "\\item 776837.890999479\n",
       "\\item 283969.770819121\n",
       "\\item 433973.111743578\n",
       "\\item 712550.744888997\n",
       "\\item 969699.329330923\n",
       "\\item 455402.160447071\n",
       "\\item 691121.696185504\n",
       "\\item 305398.819522615\n",
       "\\item 562547.403964541\n",
       "\\item 648263.598778516\n",
       "\\item 1033986.4754414\n",
       "\\item 841125.03710996\n",
       "\\item 369685.965633096\n",
       "\\item 391115.01433659\n",
       "\\item 369685.965633096\n",
       "\\item 583976.452668034\n",
       "\\item 648263.598778516\n",
       "\\item 476831.209150565\n",
       "\\item 948270.280627429\n",
       "\\item 776837.890999479\n",
       "\\item 733979.793592491\n",
       "\\item 798266.939702973\n",
       "\\item 605405.501371528\n",
       "\\item 519689.306557553\n",
       "\\item 905412.183220442\n",
       "\\item 883983.134516948\n",
       "\\item 498260.257854059\n",
       "\\item 283969.770819121\n",
       "\\item 883983.134516948\n",
       "\\item 541118.355261047\n",
       "\\item 733979.793592491\n",
       "\\item 883983.134516948\n",
       "\\item 1033986.4754414\n",
       "\\item 626834.550075022\n",
       "\\item 519689.306557553\n",
       "\\item 391115.01433659\n",
       "\\item 841125.03710996\n",
       "\\item 819695.988406467\n",
       "\\item 669692.64748201\n",
       "\\item 991128.378034417\n",
       "\\item 819695.988406467\n",
       "\\item 1012557.42673791\n",
       "\\item 562547.403964541\n",
       "\\item 733979.793592491\n",
       "\\item 1012557.42673791\n",
       "\\item 391115.01433659\n",
       "\\item 712550.744888997\n",
       "\\item 691121.696185504\n",
       "\\item 883983.134516948\n",
       "\\item 669692.64748201\n",
       "\\item 541118.355261047\n",
       "\\item 969699.329330923\n",
       "\\item 669692.64748201\n",
       "\\item 541118.355261047\n",
       "\\item 305398.819522615\n",
       "\\item 626834.550075022\n",
       "\\item 433973.111743578\n",
       "\\item 605405.501371528\n",
       "\\item 583976.452668034\n",
       "\\item 519689.306557553\n",
       "\\item 905412.183220442\n",
       "\\item 498260.257854059\n",
       "\\item 669692.64748201\n",
       "\\item 305398.819522615\n",
       "\\item 541118.355261047\n",
       "\\item 1033986.4754414\n",
       "\\item 305398.819522615\n",
       "\\item 883983.134516948\n",
       "\\item 1012557.42673791\n",
       "\\item 948270.280627429\n",
       "\\item 476831.209150565\n",
       "\\item 905412.183220442\n",
       "\\item 498260.257854059\n",
       "\\item 755408.842295985\n",
       "\\item 669692.64748201\n",
       "\\item 476831.209150565\n",
       "\\item 905412.183220442\n",
       "\\item 433973.111743578\n",
       "\\item 948270.280627429\n",
       "\\item 305398.819522615\n",
       "\\item 776837.890999479\n",
       "\\item 498260.257854059\n",
       "\\item 862554.085813454\n",
       "\\item 669692.64748201\n",
       "\\item 541118.355261047\n",
       "\\item 798266.939702973\n",
       "\\item 455402.160447071\n",
       "\\item 948270.280627429\n",
       "\\item 648263.598778516\n",
       "\\item 991128.378034417\n",
       "\\item 669692.64748201\n",
       "\\item 712550.744888997\n",
       "\\item 476831.209150565\n",
       "\\item 991128.378034417\n",
       "\\item 755408.842295985\n",
       "\\item 669692.64748201\n",
       "\\item 755408.842295985\n",
       "\\item 712550.744888997\n",
       "\\item 369685.965633096\n",
       "\\item 733979.793592491\n",
       "\\item 562547.403964541\n",
       "\\item 776837.890999479\n",
       "\\item 305398.819522615\n",
       "\\item 712550.744888997\n",
       "\\item 883983.134516948\n",
       "\\item 1012557.42673791\n",
       "\\item 348256.916929602\n",
       "\\item 326827.868226109\n",
       "\\item 305398.819522615\n",
       "\\item 283969.770819121\n",
       "\\item 991128.378034417\n",
       "\\item 455402.160447071\n",
       "\\item 626834.550075022\n",
       "\\item 1033986.4754414\n",
       "\\item 583976.452668034\n",
       "\\end{enumerate*}\n"
      ],
      "text/markdown": [
       "1. 819695.988406467\n",
       "2. 948270.280627429\n",
       "3. 605405.501371528\n",
       "4. 733979.793592491\n",
       "5. 391115.01433659\n",
       "6. 541118.355261047\n",
       "7. 969699.329330923\n",
       "8. 948270.280627429\n",
       "9. 991128.378034417\n",
       "10. 862554.085813454\n",
       "11. 669692.64748201\n",
       "12. 541118.355261047\n",
       "13. 412544.063040084\n",
       "14. 862554.085813454\n",
       "15. 905412.183220442\n",
       "16. 1012557.42673791\n",
       "17. 733979.793592491\n",
       "18. 519689.306557553\n",
       "19. 733979.793592491\n",
       "20. 712550.744888997\n",
       "21. 562547.403964541\n",
       "22. 348256.916929602\n",
       "23. 1033986.4754414\n",
       "24. 369685.965633096\n",
       "25. 819695.988406467\n",
       "26. 348256.916929602\n",
       "27. 948270.280627429\n",
       "28. 583976.452668034\n",
       "29. 498260.257854059\n",
       "30. 1012557.42673791\n",
       "31. 862554.085813454\n",
       "32. 648263.598778516\n",
       "33. 1012557.42673791\n",
       "34. 348256.916929602\n",
       "35. 541118.355261047\n",
       "36. 776837.890999479\n",
       "37. 1033986.4754414\n",
       "38. 498260.257854059\n",
       "39. 755408.842295985\n",
       "40. 991128.378034417\n",
       "41. 519689.306557553\n",
       "42. 905412.183220442\n",
       "43. 991128.378034417\n",
       "44. 691121.696185504\n",
       "45. 798266.939702973\n",
       "46. 626834.550075022\n",
       "47. 476831.209150565\n",
       "48. 948270.280627429\n",
       "49. 541118.355261047\n",
       "50. 412544.063040084\n",
       "51. 348256.916929602\n",
       "52. 733979.793592491\n",
       "53. 969699.329330923\n",
       "54. 776837.890999479\n",
       "55. 691121.696185504\n",
       "56. 498260.257854059\n",
       "57. 476831.209150565\n",
       "58. 455402.160447071\n",
       "59. 733979.793592491\n",
       "60. 819695.988406467\n",
       "61. 412544.063040084\n",
       "62. 519689.306557553\n",
       "63. 819695.988406467\n",
       "64. 669692.64748201\n",
       "65. 819695.988406467\n",
       "66. 605405.501371528\n",
       "67. 412544.063040084\n",
       "68. 969699.329330923\n",
       "69. 455402.160447071\n",
       "70. 991128.378034417\n",
       "71. 905412.183220442\n",
       "72. 905412.183220442\n",
       "73. 691121.696185504\n",
       "74. 819695.988406467\n",
       "75. 391115.01433659\n",
       "76. 669692.64748201\n",
       "77. 712550.744888997\n",
       "78. 391115.01433659\n",
       "79. 691121.696185504\n",
       "80. 583976.452668034\n",
       "81. 348256.916929602\n",
       "82. 348256.916929602\n",
       "83. 648263.598778516\n",
       "84. 691121.696185504\n",
       "85. 905412.183220442\n",
       "86. 798266.939702973\n",
       "87. 883983.134516948\n",
       "88. 476831.209150565\n",
       "89. 798266.939702973\n",
       "90. 562547.403964541\n",
       "91. 391115.01433659\n",
       "92. 498260.257854059\n",
       "93. 369685.965633096\n",
       "94. 519689.306557553\n",
       "95. 562547.403964541\n",
       "96. 733979.793592491\n",
       "97. 412544.063040084\n",
       "98. 498260.257854059\n",
       "99. 648263.598778516\n",
       "100. 412544.063040084\n",
       "101. 348256.916929602\n",
       "102. 841125.03710996\n",
       "103. 391115.01433659\n",
       "104. 819695.988406467\n",
       "105. 283969.770819121\n",
       "106. 969699.329330923\n",
       "107. 819695.988406467\n",
       "108. 819695.988406467\n",
       "109. 691121.696185504\n",
       "110. 948270.280627429\n",
       "111. 862554.085813454\n",
       "112. 626834.550075022\n",
       "113. 883983.134516948\n",
       "114. 498260.257854059\n",
       "115. 348256.916929602\n",
       "116. 283969.770819121\n",
       "117. 798266.939702973\n",
       "118. 733979.793592491\n",
       "119. 1012557.42673791\n",
       "120. 969699.329330923\n",
       "121. 455402.160447071\n",
       "122. 476831.209150565\n",
       "123. 391115.01433659\n",
       "124. 326827.868226109\n",
       "125. 541118.355261047\n",
       "126. 541118.355261047\n",
       "127. 541118.355261047\n",
       "128. 391115.01433659\n",
       "129. 369685.965633096\n",
       "130. 755408.842295985\n",
       "131. 733979.793592491\n",
       "132. 819695.988406467\n",
       "133. 755408.842295985\n",
       "134. 669692.64748201\n",
       "135. 391115.01433659\n",
       "136. 862554.085813454\n",
       "137. 712550.744888997\n",
       "138. 755408.842295985\n",
       "139. 798266.939702973\n",
       "140. 626834.550075022\n",
       "141. 369685.965633096\n",
       "142. 648263.598778516\n",
       "143. 433973.111743578\n",
       "144. 498260.257854059\n",
       "145. 755408.842295985\n",
       "146. 926841.231923936\n",
       "147. 841125.03710996\n",
       "148. 455402.160447071\n",
       "149. 948270.280627429\n",
       "150. 776837.890999479\n",
       "151. 391115.01433659\n",
       "152. 905412.183220442\n",
       "153. 326827.868226109\n",
       "154. 841125.03710996\n",
       "155. 648263.598778516\n",
       "156. 626834.550075022\n",
       "157. 476831.209150565\n",
       "158. 326827.868226109\n",
       "159. 798266.939702973\n",
       "160. 948270.280627429\n",
       "161. 519689.306557553\n",
       "162. 583976.452668034\n",
       "163. 755408.842295985\n",
       "164. 305398.819522615\n",
       "165. 605405.501371528\n",
       "166. 369685.965633096\n",
       "167. 841125.03710996\n",
       "168. 476831.209150565\n",
       "169. 562547.403964541\n",
       "170. 519689.306557553\n",
       "171. 605405.501371528\n",
       "172. 369685.965633096\n",
       "173. 905412.183220442\n",
       "174. 498260.257854059\n",
       "175. 648263.598778516\n",
       "176. 776837.890999479\n",
       "177. 433973.111743578\n",
       "178. 669692.64748201\n",
       "179. 1012557.42673791\n",
       "180. 969699.329330923\n",
       "181. 862554.085813454\n",
       "182. 348256.916929602\n",
       "183. 326827.868226109\n",
       "184. 991128.378034417\n",
       "185. 498260.257854059\n",
       "186. 991128.378034417\n",
       "187. 926841.231923936\n",
       "188. 605405.501371528\n",
       "189. 455402.160447071\n",
       "190. 305398.819522615\n",
       "191. 926841.231923936\n",
       "192. 476831.209150565\n",
       "193. 798266.939702973\n",
       "194. 541118.355261047\n",
       "195. 991128.378034417\n",
       "196. 926841.231923936\n",
       "197. 819695.988406467\n",
       "198. 733979.793592491\n",
       "199. 798266.939702973\n",
       "200. 798266.939702973\n",
       "201. ...\n",
       "202. 433973.111743578\n",
       "203. 755408.842295985\n",
       "204. 648263.598778516\n",
       "205. 712550.744888997\n",
       "206. 605405.501371528\n",
       "207. 841125.03710996\n",
       "208. 455402.160447071\n",
       "209. 862554.085813454\n",
       "210. 991128.378034417\n",
       "211. 541118.355261047\n",
       "212. 626834.550075022\n",
       "213. 733979.793592491\n",
       "214. 798266.939702973\n",
       "215. 648263.598778516\n",
       "216. 776837.890999479\n",
       "217. 605405.501371528\n",
       "218. 583976.452668034\n",
       "219. 498260.257854059\n",
       "220. 841125.03710996\n",
       "221. 433973.111743578\n",
       "222. 1033986.4754414\n",
       "223. 926841.231923936\n",
       "224. 455402.160447071\n",
       "225. 583976.452668034\n",
       "226. 691121.696185504\n",
       "227. 433973.111743578\n",
       "228. 476831.209150565\n",
       "229. 348256.916929602\n",
       "230. 776837.890999479\n",
       "231. 669692.64748201\n",
       "232. 691121.696185504\n",
       "233. 669692.64748201\n",
       "234. 433973.111743578\n",
       "235. 755408.842295985\n",
       "236. 948270.280627429\n",
       "237. 691121.696185504\n",
       "238. 755408.842295985\n",
       "239. 948270.280627429\n",
       "240. 391115.01433659\n",
       "241. 648263.598778516\n",
       "242. 883983.134516948\n",
       "243. 948270.280627429\n",
       "244. 1033986.4754414\n",
       "245. 712550.744888997\n",
       "246. 626834.550075022\n",
       "247. 326827.868226109\n",
       "248. 712550.744888997\n",
       "249. 498260.257854059\n",
       "250. 862554.085813454\n",
       "251. 605405.501371528\n",
       "252. 348256.916929602\n",
       "253. 626834.550075022\n",
       "254. 433973.111743578\n",
       "255. 883983.134516948\n",
       "256. 669692.64748201\n",
       "257. 626834.550075022\n",
       "258. 776837.890999479\n",
       "259. 926841.231923936\n",
       "260. 969699.329330923\n",
       "261. 562547.403964541\n",
       "262. 1033986.4754414\n",
       "263. 841125.03710996\n",
       "264. 283969.770819121\n",
       "265. 305398.819522615\n",
       "266. 305398.819522615\n",
       "267. 1012557.42673791\n",
       "268. 733979.793592491\n",
       "269. 605405.501371528\n",
       "270. 1012557.42673791\n",
       "271. 1033986.4754414\n",
       "272. 519689.306557553\n",
       "273. 605405.501371528\n",
       "274. 498260.257854059\n",
       "275. 605405.501371528\n",
       "276. 391115.01433659\n",
       "277. 283969.770819121\n",
       "278. 305398.819522615\n",
       "279. 305398.819522615\n",
       "280. 519689.306557553\n",
       "281. 498260.257854059\n",
       "282. 755408.842295985\n",
       "283. 862554.085813454\n",
       "284. 326827.868226109\n",
       "285. 819695.988406467\n",
       "286. 991128.378034417\n",
       "287. 776837.890999479\n",
       "288. 283969.770819121\n",
       "289. 433973.111743578\n",
       "290. 712550.744888997\n",
       "291. 969699.329330923\n",
       "292. 455402.160447071\n",
       "293. 691121.696185504\n",
       "294. 305398.819522615\n",
       "295. 562547.403964541\n",
       "296. 648263.598778516\n",
       "297. 1033986.4754414\n",
       "298. 841125.03710996\n",
       "299. 369685.965633096\n",
       "300. 391115.01433659\n",
       "301. 369685.965633096\n",
       "302. 583976.452668034\n",
       "303. 648263.598778516\n",
       "304. 476831.209150565\n",
       "305. 948270.280627429\n",
       "306. 776837.890999479\n",
       "307. 733979.793592491\n",
       "308. 798266.939702973\n",
       "309. 605405.501371528\n",
       "310. 519689.306557553\n",
       "311. 905412.183220442\n",
       "312. 883983.134516948\n",
       "313. 498260.257854059\n",
       "314. 283969.770819121\n",
       "315. 883983.134516948\n",
       "316. 541118.355261047\n",
       "317. 733979.793592491\n",
       "318. 883983.134516948\n",
       "319. 1033986.4754414\n",
       "320. 626834.550075022\n",
       "321. 519689.306557553\n",
       "322. 391115.01433659\n",
       "323. 841125.03710996\n",
       "324. 819695.988406467\n",
       "325. 669692.64748201\n",
       "326. 991128.378034417\n",
       "327. 819695.988406467\n",
       "328. 1012557.42673791\n",
       "329. 562547.403964541\n",
       "330. 733979.793592491\n",
       "331. 1012557.42673791\n",
       "332. 391115.01433659\n",
       "333. 712550.744888997\n",
       "334. 691121.696185504\n",
       "335. 883983.134516948\n",
       "336. 669692.64748201\n",
       "337. 541118.355261047\n",
       "338. 969699.329330923\n",
       "339. 669692.64748201\n",
       "340. 541118.355261047\n",
       "341. 305398.819522615\n",
       "342. 626834.550075022\n",
       "343. 433973.111743578\n",
       "344. 605405.501371528\n",
       "345. 583976.452668034\n",
       "346. 519689.306557553\n",
       "347. 905412.183220442\n",
       "348. 498260.257854059\n",
       "349. 669692.64748201\n",
       "350. 305398.819522615\n",
       "351. 541118.355261047\n",
       "352. 1033986.4754414\n",
       "353. 305398.819522615\n",
       "354. 883983.134516948\n",
       "355. 1012557.42673791\n",
       "356. 948270.280627429\n",
       "357. 476831.209150565\n",
       "358. 905412.183220442\n",
       "359. 498260.257854059\n",
       "360. 755408.842295985\n",
       "361. 669692.64748201\n",
       "362. 476831.209150565\n",
       "363. 905412.183220442\n",
       "364. 433973.111743578\n",
       "365. 948270.280627429\n",
       "366. 305398.819522615\n",
       "367. 776837.890999479\n",
       "368. 498260.257854059\n",
       "369. 862554.085813454\n",
       "370. 669692.64748201\n",
       "371. 541118.355261047\n",
       "372. 798266.939702973\n",
       "373. 455402.160447071\n",
       "374. 948270.280627429\n",
       "375. 648263.598778516\n",
       "376. 991128.378034417\n",
       "377. 669692.64748201\n",
       "378. 712550.744888997\n",
       "379. 476831.209150565\n",
       "380. 991128.378034417\n",
       "381. 755408.842295985\n",
       "382. 669692.64748201\n",
       "383. 755408.842295985\n",
       "384. 712550.744888997\n",
       "385. 369685.965633096\n",
       "386. 733979.793592491\n",
       "387. 562547.403964541\n",
       "388. 776837.890999479\n",
       "389. 305398.819522615\n",
       "390. 712550.744888997\n",
       "391. 883983.134516948\n",
       "392. 1012557.42673791\n",
       "393. 348256.916929602\n",
       "394. 326827.868226109\n",
       "395. 305398.819522615\n",
       "396. 283969.770819121\n",
       "397. 991128.378034417\n",
       "398. 455402.160447071\n",
       "399. 626834.550075022\n",
       "400. 1033986.4754414\n",
       "401. 583976.452668034\n",
       "\n",
       "\n"
      ],
      "text/plain": [
       "    [1]  819696.0  948270.3  605405.5  733979.8  391115.0  541118.4  969699.3\n",
       "    [8]  948270.3  991128.4  862554.1  669692.6  541118.4  412544.1  862554.1\n",
       "   [15]  905412.2 1012557.4  733979.8  519689.3  733979.8  712550.7  562547.4\n",
       "   [22]  348256.9 1033986.5  369686.0  819696.0  348256.9  948270.3  583976.5\n",
       "   [29]  498260.3 1012557.4  862554.1  648263.6 1012557.4  348256.9  541118.4\n",
       "   [36]  776837.9 1033986.5  498260.3  755408.8  991128.4  519689.3  905412.2\n",
       "   [43]  991128.4  691121.7  798266.9  626834.6  476831.2  948270.3  541118.4\n",
       "   [50]  412544.1  348256.9  733979.8  969699.3  776837.9  691121.7  498260.3\n",
       "   [57]  476831.2  455402.2  733979.8  819696.0  412544.1  519689.3  819696.0\n",
       "   [64]  669692.6  819696.0  605405.5  412544.1  969699.3  455402.2  991128.4\n",
       "   [71]  905412.2  905412.2  691121.7  819696.0  391115.0  669692.6  712550.7\n",
       "   [78]  391115.0  691121.7  583976.5  348256.9  348256.9  648263.6  691121.7\n",
       "   [85]  905412.2  798266.9  883983.1  476831.2  798266.9  562547.4  391115.0\n",
       "   [92]  498260.3  369686.0  519689.3  562547.4  733979.8  412544.1  498260.3\n",
       "   [99]  648263.6  412544.1  348256.9  841125.0  391115.0  819696.0  283969.8\n",
       "  [106]  969699.3  819696.0  819696.0  691121.7  948270.3  862554.1  626834.6\n",
       "  [113]  883983.1  498260.3  348256.9  283969.8  798266.9  733979.8 1012557.4\n",
       "  [120]  969699.3  455402.2  476831.2  391115.0  326827.9  541118.4  541118.4\n",
       "  [127]  541118.4  391115.0  369686.0  755408.8  733979.8  819696.0  755408.8\n",
       "  [134]  669692.6  391115.0  862554.1  712550.7  755408.8  798266.9  626834.6\n",
       "  [141]  369686.0  648263.6  433973.1  498260.3  755408.8  926841.2  841125.0\n",
       "  [148]  455402.2  948270.3  776837.9  391115.0  905412.2  326827.9  841125.0\n",
       "  [155]  648263.6  626834.6  476831.2  326827.9  798266.9  948270.3  519689.3\n",
       "  [162]  583976.5  755408.8  305398.8  605405.5  369686.0  841125.0  476831.2\n",
       "  [169]  562547.4  519689.3  605405.5  369686.0  905412.2  498260.3  648263.6\n",
       "  [176]  776837.9  433973.1  669692.6 1012557.4  969699.3  862554.1  348256.9\n",
       "  [183]  326827.9  991128.4  498260.3  991128.4  926841.2  605405.5  455402.2\n",
       "  [190]  305398.8  926841.2  476831.2  798266.9  541118.4  991128.4  926841.2\n",
       "  [197]  819696.0  733979.8  798266.9  798266.9  712550.7  712550.7  755408.8\n",
       "  [204]  519689.3  841125.0  969699.3  969699.3  691121.7  562547.4  626834.6\n",
       "  [211] 1033986.5  305398.8  883983.1  498260.3  391115.0  776837.9  669692.6\n",
       "  [218]  583976.5  776837.9  712550.7  412544.1  948270.3  841125.0 1012557.4\n",
       "  [225]  669692.6 1012557.4  326827.9  841125.0  369686.0  562547.4  348256.9\n",
       "  [232] 1033986.5  498260.3  905412.2  776837.9  969699.3  926841.2  862554.1\n",
       "  [239]  305398.8  841125.0  969699.3  562547.4  283969.8  433973.1  819696.0\n",
       "  [246]  969699.3  391115.0  841125.0  648263.6  948270.3  605405.5  326827.9\n",
       "  [253]  455402.2  991128.4 1012557.4  969699.3  583976.5  519689.3  605405.5\n",
       "  [260]  776837.9  798266.9  948270.3  841125.0  969699.3  733979.8  669692.6\n",
       "  [267]  433973.1  691121.7  883983.1  326827.9  541118.4  326827.9  712550.7\n",
       "  [274]  883983.1  776837.9  905412.2  305398.8  991128.4  283969.8  926841.2\n",
       "  [281]  691121.7  583976.5  305398.8  905412.2  326827.9  541118.4  883983.1\n",
       "  [288]  712550.7  991128.4  948270.3  519689.3  455402.2  391115.0  969699.3\n",
       "  [295] 1033986.5  305398.8  991128.4  776837.9  455402.2  669692.6  369686.0\n",
       "  [302]  562547.4  862554.1  776837.9  926841.2  712550.7  905412.2  926841.2\n",
       "  [309]  605405.5  926841.2  305398.8  755408.8  326827.9  369686.0  326827.9\n",
       "  [316] 1033986.5  519689.3  991128.4  283969.8  798266.9  562547.4  926841.2\n",
       "  [323]  455402.2  948270.3  498260.3  626834.6  305398.8  691121.7  862554.1\n",
       "  [330]  455402.2  541118.4  819696.0  605405.5  776837.9  541118.4  562547.4\n",
       "  [337]  605405.5  326827.9  583976.5  948270.3  305398.8  926841.2  391115.0\n",
       "  [344]  369686.0  519689.3 1012557.4  776837.9  905412.2  391115.0  476831.2\n",
       "  [351]  991128.4  948270.3  948270.3  476831.2  412544.1  519689.3  348256.9\n",
       "  [358]  776837.9 1033986.5  733979.8  433973.1  519689.3  755408.8  283969.8\n",
       "  [365]  498260.3  755408.8  733979.8  733979.8  283969.8  626834.6  455402.2\n",
       "  [372]  326827.9  433973.1  991128.4  733979.8  369686.0  819696.0  626834.6\n",
       "  [379]  755408.8  391115.0  669692.6  283969.8  348256.9  862554.1 1033986.5\n",
       "  [386]  776837.9  391115.0  455402.2  733979.8  412544.1  883983.1  648263.6\n",
       "  [393]  948270.3  283969.8  755408.8  519689.3  562547.4  883983.1  862554.1\n",
       "  [400]  626834.6  412544.1  433973.1  948270.3  583976.5 1012557.4  519689.3\n",
       "  [407]  369686.0  648263.6  412544.1  969699.3  562547.4  862554.1  819696.0\n",
       "  [414] 1012557.4  305398.8 1033986.5  991128.4  776837.9 1012557.4  755408.8\n",
       "  [421]  626834.6  305398.8  412544.1  455402.2  498260.3  669692.6  391115.0\n",
       "  [428]  755408.8  755408.8  626834.6  648263.6 1033986.5  562547.4  691121.7\n",
       "  [435]  455402.2  391115.0  476831.2  841125.0  669692.6  776837.9  841125.0\n",
       "  [442] 1033986.5  519689.3  498260.3  733979.8  305398.8  712550.7  326827.9\n",
       "  [449]  969699.3  948270.3  305398.8  605405.5  948270.3  691121.7  455402.2\n",
       "  [456]  798266.9  926841.2  626834.6  669692.6  926841.2  991128.4  798266.9\n",
       "  [463]  926841.2  455402.2  755408.8  755408.8  283969.8  733979.8  755408.8\n",
       "  [470]  862554.1  348256.9  969699.3  369686.0  883983.1  283969.8  326827.9\n",
       "  [477]  712550.7  369686.0  391115.0  348256.9  905412.2  819696.0  305398.8\n",
       "  [484]  776837.9  669692.6  991128.4  712550.7  369686.0  776837.9  433973.1\n",
       "  [491]  583976.5  476831.2  948270.3  326827.9  541118.4  583976.5  433973.1\n",
       "  [498]  433973.1  648263.6  969699.3  326827.9  819696.0  476831.2  991128.4\n",
       "  [505]  476831.2  691121.7  776837.9  691121.7  991128.4  519689.3  412544.1\n",
       "  [512]  733979.8  498260.3  991128.4  862554.1  862554.1  605405.5  433973.1\n",
       "  [519]  433973.1  369686.0  969699.3  562547.4  862554.1  755408.8  583976.5\n",
       "  [526]  583976.5 1033986.5  305398.8  905412.2  733979.8  969699.3  626834.6\n",
       "  [533]  905412.2  712550.7  648263.6  905412.2  862554.1  969699.3  755408.8\n",
       "  [540]  583976.5  991128.4  283969.8  583976.5  476831.2  519689.3  476831.2\n",
       "  [547]  926841.2  433973.1  991128.4  969699.3  305398.8  433973.1  519689.3\n",
       "  [554]  712550.7  283969.8  305398.8  905412.2  391115.0  883983.1  691121.7\n",
       "  [561]  669692.6  476831.2  991128.4  626834.6  326827.9  498260.3  605405.5\n",
       "  [568]  798266.9  283969.8  305398.8  348256.9  969699.3  948270.3  862554.1\n",
       "  [575]  476831.2  755408.8  733979.8  948270.3  626834.6  669692.6  369686.0\n",
       "  [582]  905412.2  991128.4  691121.7  519689.3  326827.9  348256.9  412544.1\n",
       "  [589]  369686.0  283969.8  369686.0  669692.6  841125.0  369686.0  841125.0\n",
       "  [596]  605405.5  391115.0  648263.6  519689.3  669692.6  733979.8  798266.9\n",
       "  [603]  776837.9  819696.0  819696.0  348256.9 1033986.5  819696.0  583976.5\n",
       "  [610]  433973.1  776837.9  476831.2  626834.6  648263.6  626834.6  969699.3\n",
       "  [617]  948270.3  541118.4  476831.2  541118.4  562547.4  348256.9  476831.2\n",
       "  [624]  819696.0  819696.0  669692.6  776837.9  369686.0  798266.9  433973.1\n",
       "  [631]  862554.1  669692.6  605405.5  862554.1  669692.6  991128.4 1012557.4\n",
       "  [638]  283969.8  948270.3  776837.9  583976.5  519689.3  776837.9  969699.3\n",
       "  [645]  798266.9 1033986.5  433973.1  712550.7  776837.9  412544.1 1033986.5\n",
       "  [652] 1012557.4  883983.1  948270.3  991128.4  648263.6  648263.6  755408.8\n",
       "  [659]  326827.9  905412.2  948270.3  455402.2  326827.9  905412.2  541118.4\n",
       "  [666]  905412.2  519689.3  948270.3  348256.9 1012557.4  862554.1  991128.4\n",
       "  [673]  605405.5 1033986.5  883983.1  476831.2  283969.8  948270.3  326827.9\n",
       "  [680]  733979.8  776837.9  883983.1  648263.6  841125.0  798266.9  669692.6\n",
       "  [687]  541118.4 1012557.4  283969.8  991128.4  991128.4  841125.0  562547.4\n",
       "  [694]  798266.9  883983.1  798266.9  391115.0 1012557.4  948270.3  776837.9\n",
       "  [701]  648263.6  626834.6  669692.6  948270.3  776837.9  433973.1  776837.9\n",
       "  [708]  926841.2  669692.6  969699.3  605405.5  948270.3  305398.8  691121.7\n",
       "  [715]  412544.1  391115.0  755408.8  391115.0  326827.9  798266.9  391115.0\n",
       "  [722]  583976.5 1033986.5  305398.8  862554.1  283969.8  819696.0  798266.9\n",
       "  [729]  755408.8  583976.5  519689.3 1033986.5  755408.8  819696.0  583976.5\n",
       "  [736]  455402.2  519689.3  562547.4  605405.5  926841.2  991128.4  733979.8\n",
       "  [743]  948270.3  498260.3  862554.1  969699.3  969699.3  326827.9  991128.4\n",
       "  [750]  669692.6 1012557.4  305398.8  433973.1  691121.7  305398.8  391115.0\n",
       "  [757]  583976.5  776837.9  648263.6  669692.6  391115.0  905412.2  648263.6\n",
       "  [764]  433973.1  926841.2  583976.5  776837.9  712550.7  648263.6  798266.9\n",
       "  [771]  562547.4  733979.8  969699.3  969699.3  626834.6  733979.8  348256.9\n",
       "  [778]  626834.6  626834.6  369686.0  455402.2  883983.1  991128.4  348256.9\n",
       "  [785]  862554.1  519689.3  669692.6 1012557.4  412544.1  669692.6  755408.8\n",
       "  [792]  391115.0  905412.2  326827.9  583976.5 1012557.4  798266.9  283969.8\n",
       "  [799]  305398.8  391115.0  519689.3  648263.6  305398.8  691121.7 1033986.5\n",
       "  [806]  369686.0  583976.5  541118.4  669692.6  583976.5  412544.1 1033986.5\n",
       "  [813]  798266.9  326827.9  669692.6 1033986.5  541118.4  369686.0 1012557.4\n",
       "  [820]  948270.3  391115.0  733979.8  498260.3  733979.8  455402.2  948270.3\n",
       "  [827]  433973.1  283969.8  391115.0  326827.9  905412.2  326827.9  348256.9\n",
       "  [834]  455402.2  283969.8  712550.7  519689.3  519689.3  541118.4  326827.9\n",
       "  [841]  798266.9  841125.0  862554.1  583976.5  969699.3  733979.8  712550.7\n",
       "  [848]  283969.8  626834.6  369686.0  669692.6  733979.8  776837.9 1033986.5\n",
       "  [855]  433973.1  433973.1  348256.9  562547.4  626834.6  326827.9  348256.9\n",
       "  [862]  562547.4  476831.2  541118.4  348256.9  348256.9  691121.7  391115.0\n",
       "  [869] 1033986.5  605405.5  476831.2 1033986.5  841125.0  412544.1  969699.3\n",
       "  [876]  991128.4  862554.1  412544.1 1012557.4  969699.3  969699.3  583976.5\n",
       "  [883]  562547.4  283969.8  455402.2  926841.2  433973.1  798266.9  776837.9\n",
       "  [890]  862554.1  712550.7  733979.8  541118.4  455402.2  391115.0  283969.8\n",
       "  [897]  476831.2  412544.1  433973.1  283969.8  412544.1  991128.4 1033986.5\n",
       "  [904]  948270.3  948270.3  969699.3 1033986.5  776837.9  712550.7  348256.9\n",
       "  [911]  755408.8  326827.9  798266.9 1012557.4  433973.1  369686.0  798266.9\n",
       "  [918]  369686.0  969699.3  391115.0  305398.8  905412.2  326827.9  583976.5\n",
       "  [925]  605405.5  883983.1  541118.4  583976.5  519689.3  926841.2  969699.3\n",
       "  [932]  926841.2  755408.8  862554.1  669692.6  691121.7  391115.0  991128.4\n",
       "  [939]  712550.7  562547.4  691121.7  498260.3  326827.9 1012557.4  605405.5\n",
       "  [946]  626834.6  476831.2  626834.6  455402.2  498260.3  412544.1  798266.9\n",
       "  [953]  776837.9  348256.9  755408.8  348256.9  541118.4  776837.9  583976.5\n",
       "  [960]  669692.6 1012557.4  883983.1  498260.3  948270.3  991128.4  519689.3\n",
       "  [967]  862554.1  905412.2  776837.9  498260.3  541118.4  605405.5  905412.2\n",
       "  [974]  391115.0  348256.9  648263.6  626834.6  969699.3  305398.8  498260.3\n",
       "  [981]  883983.1  369686.0  905412.2  712550.7  348256.9  969699.3  562547.4\n",
       "  [988]  712550.7  498260.3  733979.8 1012557.4  476831.2  283969.8  391115.0\n",
       "  [995]  648263.6  433973.1  926841.2  626834.6  969699.3  926841.2  541118.4\n",
       " [1002]  691121.7  755408.8  862554.1  969699.3  519689.3  991128.4  369686.0\n",
       " [1009]  991128.4  412544.1  733979.8 1033986.5  519689.3  455402.2  991128.4\n",
       " [1016]  498260.3  605405.5  798266.9  755408.8  819696.0  283969.8  841125.0\n",
       " [1023]  541118.4  841125.0  819696.0  519689.3  283969.8  433973.1  819696.0\n",
       " [1030]  541118.4  669692.6  926841.2 1012557.4  733979.8  391115.0  755408.8\n",
       " [1037]  626834.6  733979.8  369686.0  326827.9  562547.4  369686.0  948270.3\n",
       " [1044]  755408.8  991128.4  648263.6  305398.8  583976.5  369686.0  326827.9\n",
       " [1051]  733979.8  305398.8  991128.4  798266.9  648263.6  755408.8  883983.1\n",
       " [1058]  391115.0  991128.4  948270.3  669692.6  648263.6  669692.6  412544.1\n",
       " [1065]  326827.9  991128.4  969699.3  326827.9  926841.2  391115.0  712550.7\n",
       " [1072]  433973.1  583976.5  541118.4  733979.8  841125.0  691121.7  583976.5\n",
       " [1079]  926841.2  305398.8  691121.7  948270.3  991128.4  755408.8  562547.4\n",
       " [1086]  326827.9  798266.9  819696.0  841125.0  991128.4  948270.3  905412.2\n",
       " [1093]  626834.6  883983.1  348256.9  669692.6  798266.9  412544.1  305398.8\n",
       " [1100]  433973.1  498260.3  305398.8  498260.3  819696.0  562547.4  498260.3\n",
       " [1107]  283969.8  648263.6  283969.8  862554.1  905412.2  348256.9  712550.7\n",
       " [1114]  348256.9  733979.8 1012557.4  883983.1  562547.4  712550.7  948270.3\n",
       " [1121]  391115.0  326827.9  283969.8  583976.5  648263.6  626834.6  433973.1\n",
       " [1128] 1033986.5  969699.3  905412.2  926841.2  798266.9  305398.8  519689.3\n",
       " [1135]  455402.2  305398.8  819696.0  862554.1  969699.3  626834.6  969699.3\n",
       " [1142]  862554.1  819696.0  712550.7  326827.9  691121.7 1012557.4  883983.1\n",
       " [1149]  883983.1  283969.8  391115.0  948270.3  948270.3  433973.1  519689.3\n",
       " [1156]  583976.5  391115.0  948270.3  926841.2  519689.3  883983.1  648263.6\n",
       " [1163]  391115.0  669692.6  283969.8  433973.1  991128.4  841125.0  883983.1\n",
       " [1170]  391115.0  905412.2  948270.3  712550.7  562547.4  498260.3  391115.0\n",
       " [1177]  905412.2  305398.8  305398.8  562547.4  926841.2  841125.0  991128.4\n",
       " [1184]  348256.9  776837.9  755408.8  583976.5  391115.0  626834.6  391115.0\n",
       " [1191]  605405.5  648263.6  369686.0  283969.8  926841.2 1033986.5  648263.6\n",
       " [1198]  841125.0  776837.9  391115.0  798266.9  862554.1  969699.3  433973.1\n",
       " [1205]  819696.0  626834.6  369686.0  498260.3  798266.9  412544.1  541118.4\n",
       " [1212]  926841.2  969699.3  498260.3  541118.4  712550.7  605405.5  819696.0\n",
       " [1219]  733979.8  648263.6  519689.3  391115.0  305398.8  883983.1  991128.4\n",
       " [1226]  755408.8  841125.0  498260.3  369686.0  648263.6  798266.9  669692.6\n",
       " [1233]  391115.0  519689.3  605405.5  283969.8  798266.9  669692.6  712550.7\n",
       " [1240]  883983.1  541118.4  283969.8  733979.8  391115.0  433973.1  648263.6\n",
       " [1247] 1033986.5  348256.9  519689.3 1033986.5  905412.2  733979.8  691121.7\n",
       " [1254]  305398.8 1033986.5  583976.5  283969.8  455402.2  476831.2  755408.8\n",
       " [1261]  541118.4 1033986.5  969699.3  948270.3  433973.1  669692.6  991128.4\n",
       " [1268]  798266.9 1012557.4  862554.1  776837.9  948270.3  712550.7  883983.1\n",
       " [1275]  798266.9  648263.6  498260.3 1012557.4  583976.5  691121.7 1033986.5\n",
       " [1282]  926841.2  991128.4  862554.1 1033986.5  348256.9  326827.9  433973.1\n",
       " [1289]  798266.9  583976.5 1033986.5 1033986.5  583976.5 1033986.5  776837.9\n",
       " [1296]  605405.5  305398.8  626834.6  326827.9  862554.1  519689.3  841125.0\n",
       " [1303]  519689.3  948270.3  433973.1  969699.3  476831.2  283969.8  348256.9\n",
       " [1310]  391115.0  348256.9  691121.7 1033986.5  905412.2  476831.2  969699.3\n",
       " [1317]  841125.0  648263.6  691121.7  391115.0  883983.1  348256.9  733979.8\n",
       " [1324]  798266.9  862554.1  605405.5  391115.0  348256.9  626834.6  712550.7\n",
       " [1331]  733979.8  626834.6  283969.8  991128.4  798266.9  691121.7  691121.7\n",
       " [1338]  905412.2  498260.3  305398.8 1033986.5  862554.1  583976.5  433973.1\n",
       " [1345]  819696.0  969699.3  455402.2  583976.5 1012557.4  412544.1  348256.9\n",
       " [1352]  991128.4  305398.8  626834.6  841125.0  948270.3 1033986.5  991128.4\n",
       " [1359]  669692.6  926841.2 1012557.4  412544.1  991128.4 1033986.5  926841.2\n",
       " [1366]  648263.6  712550.7  433973.1  948270.3  926841.2  283969.8 1012557.4\n",
       " [1373] 1012557.4  519689.3  412544.1  412544.1 1033986.5  305398.8  348256.9\n",
       " [1380]  798266.9  498260.3  819696.0  798266.9  476831.2  948270.3  626834.6\n",
       " [1387]  841125.0  348256.9  755408.8  348256.9  391115.0  905412.2  883983.1\n",
       " [1394]  991128.4  626834.6  755408.8  862554.1  305398.8  991128.4  712550.7\n",
       " [1401]  498260.3  991128.4  819696.0  626834.6  583976.5  391115.0  669692.6\n",
       " [1408]  905412.2 1012557.4  991128.4  562547.4  883983.1  583976.5  541118.4\n",
       " [1415]  626834.6  733979.8  626834.6  498260.3  669692.6  905412.2  412544.1\n",
       " [1422]  905412.2  433973.1  562547.4  905412.2  562547.4  369686.0 1012557.4\n",
       " [1429]  883983.1  905412.2  926841.2 1012557.4  562547.4  648263.6  948270.3\n",
       " [1436]  948270.3  433973.1  476831.2  369686.0  519689.3  283969.8  862554.1\n",
       " [1443]  905412.2  412544.1  969699.3  648263.6  541118.4  841125.0  926841.2\n",
       " [1450]  391115.0  498260.3  369686.0  926841.2  776837.9  648263.6  391115.0\n",
       " [1457]  841125.0  605405.5  776837.9  626834.6  905412.2  583976.5 1033986.5\n",
       " [1464]  369686.0  541118.4  755408.8  605405.5  305398.8  733979.8  305398.8\n",
       " [1471]  905412.2  669692.6  326827.9  733979.8  326827.9  391115.0  305398.8\n",
       " [1478]  476831.2  862554.1  712550.7  562547.4  348256.9  862554.1  455402.2\n",
       " [1485]  798266.9  626834.6  755408.8  433973.1  326827.9  948270.3  476831.2\n",
       " [1492]  883983.1  412544.1  648263.6  691121.7  991128.4  583976.5  926841.2\n",
       " [1499]  776837.9  733979.8  712550.7  926841.2  583976.5  883983.1  712550.7\n",
       " [1506]  519689.3  969699.3  412544.1  433973.1  391115.0  519689.3  562547.4\n",
       " [1513]  476831.2  412544.1  519689.3  969699.3  583976.5  476831.2  926841.2\n",
       " [1520]  541118.4  455402.2  583976.5  283969.8  883983.1  948270.3  969699.3\n",
       " [1527]  626834.6  776837.9  605405.5  776837.9  476831.2  369686.0  776837.9\n",
       " [1534]  562547.4  948270.3  733979.8  562547.4  648263.6  348256.9  883983.1\n",
       " [1541]  519689.3  391115.0  969699.3  391115.0  991128.4  626834.6  348256.9\n",
       " [1548]  883983.1  926841.2  498260.3  948270.3  433973.1  798266.9  391115.0\n",
       " [1555]  669692.6  712550.7  369686.0  412544.1  326827.9  283969.8  991128.4\n",
       " [1562]  733979.8  455402.2  326827.9  905412.2  348256.9  798266.9  776837.9\n",
       " [1569]  562547.4  948270.3  798266.9  348256.9  326827.9  883983.1  562547.4\n",
       " [1576]  883983.1  969699.3  883983.1  712550.7  562547.4  669692.6  691121.7\n",
       " [1583]  433973.1  391115.0  498260.3  776837.9  648263.6  691121.7  455402.2\n",
       " [1590]  776837.9  626834.6  541118.4  905412.2 1033986.5  905412.2  755408.8\n",
       " [1597]  669692.6  326827.9  626834.6  369686.0  712550.7  369686.0  519689.3\n",
       " [1604]  798266.9  562547.4  948270.3  755408.8  776837.9  369686.0  948270.3\n",
       " [1611] 1012557.4  498260.3  348256.9  519689.3  562547.4  862554.1  605405.5\n",
       " [1618]  541118.4  712550.7  476831.2  776837.9  326827.9  583976.5  305398.8\n",
       " [1625]  433973.1  562547.4 1033986.5  648263.6  519689.3  862554.1  669692.6\n",
       " [1632]  476831.2  733979.8  391115.0  691121.7  433973.1  369686.0  776837.9\n",
       " [1639]  583976.5  755408.8  669692.6  562547.4  733979.8  905412.2  776837.9\n",
       " [1646]  348256.9  455402.2  755408.8  498260.3  841125.0  326827.9  391115.0\n",
       " [1653]  691121.7  648263.6 1012557.4  562547.4  926841.2 1033986.5  391115.0\n",
       " [1660]  841125.0  905412.2  733979.8  476831.2  776837.9  733979.8  926841.2\n",
       " [1667]  626834.6  755408.8  498260.3 1012557.4  369686.0  669692.6  798266.9\n",
       " [1674]  733979.8  862554.1  498260.3  776837.9 1033986.5  819696.0  905412.2\n",
       " [1681]  905412.2 1033986.5  819696.0  369686.0  926841.2  991128.4  948270.3\n",
       " [1688] 1033986.5  755408.8 1033986.5  519689.3  626834.6  883983.1  969699.3\n",
       " [1695]  305398.8  669692.6  819696.0  948270.3  476831.2  412544.1  841125.0\n",
       " [1702]  776837.9  541118.4  605405.5  712550.7  455402.2  605405.5  733979.8\n",
       " [1709]  798266.9  476831.2  819696.0  776837.9  883983.1  348256.9  455402.2\n",
       " [1716]  455402.2  733979.8  969699.3  991128.4  498260.3  541118.4  926841.2\n",
       " [1723]  948270.3  562547.4  862554.1  669692.6  862554.1  605405.5  841125.0\n",
       " [1730]  819696.0  905412.2  583976.5  819696.0  348256.9  969699.3  476831.2\n",
       " [1737]  648263.6  969699.3  519689.3  733979.8  712550.7  283969.8  798266.9\n",
       " [1744]  819696.0  905412.2  819696.0  476831.2  283969.8  433973.1  691121.7\n",
       " [1751]  369686.0 1033986.5  883983.1  433973.1  283969.8  476831.2  712550.7\n",
       " [1758]  819696.0  455402.2  455402.2  969699.3  412544.1  755408.8  733979.8\n",
       " [1765]  905412.2  626834.6  283969.8  883983.1  305398.8  776837.9  348256.9\n",
       " [1772]  776837.9  969699.3  948270.3  776837.9  948270.3  605405.5  476831.2\n",
       " [1779]  819696.0  541118.4  326827.9  391115.0  498260.3  326827.9  648263.6\n",
       " [1786]  991128.4  283969.8  733979.8  926841.2  755408.8 1012557.4  433973.1\n",
       " [1793]  755408.8  776837.9  991128.4  583976.5  348256.9  305398.8  583976.5\n",
       " [1800]  476831.2  369686.0  391115.0  519689.3  605405.5  391115.0  948270.3\n",
       " [1807]  948270.3  476831.2  433973.1  541118.4  626834.6  712550.7  948270.3\n",
       " [1814]  926841.2  862554.1  305398.8  733979.8  862554.1  862554.1  305398.8\n",
       " [1821]  605405.5  391115.0  348256.9  283969.8  712550.7  326827.9  412544.1\n",
       " [1828] 1033986.5  948270.3  691121.7  776837.9  883983.1 1033986.5  926841.2\n",
       " [1835]  648263.6  948270.3  541118.4  476831.2  798266.9  969699.3  841125.0\n",
       " [1842]  305398.8  412544.1  712550.7  948270.3  626834.6  283969.8 1033986.5\n",
       " [1849]  326827.9  755408.8  498260.3  455402.2  562547.4  883983.1  819696.0\n",
       " [1856]  841125.0  819696.0  712550.7  755408.8  391115.0  326827.9  305398.8\n",
       " [1863]  819696.0  369686.0  305398.8  583976.5  305398.8  541118.4  391115.0\n",
       " [1870] 1033986.5  776837.9  433973.1  541118.4  691121.7  455402.2 1033986.5\n",
       " [1877]  883983.1  926841.2  348256.9  776837.9  733979.8  669692.6  283969.8\n",
       " [1884]  669692.6  519689.3  283969.8  455402.2  862554.1  391115.0  369686.0\n",
       " [1891]  819696.0  991128.4  626834.6  841125.0  819696.0  969699.3  648263.6\n",
       " [1898]  455402.2  862554.1  862554.1  476831.2  691121.7  283969.8  926841.2\n",
       " [1905]  583976.5  819696.0  348256.9  926841.2  626834.6  776837.9  948270.3\n",
       " [1912]  969699.3  926841.2  283969.8  369686.0  541118.4  348256.9  348256.9\n",
       " [1919]  326827.9  733979.8  562547.4  819696.0  733979.8  905412.2  391115.0\n",
       " [1926]  391115.0  283969.8 1033986.5  755408.8  433973.1  562547.4  733979.8\n",
       " [1933]  969699.3  669692.6  498260.3  755408.8  283969.8  369686.0  391115.0\n",
       " [1940]  391115.0  476831.2  969699.3  776837.9  926841.2  605405.5  391115.0\n",
       " [1947]  626834.6  862554.1  626834.6  541118.4  476831.2 1012557.4  283969.8\n",
       " [1954]  948270.3  798266.9  498260.3  648263.6  712550.7  498260.3  433973.1\n",
       " [1961]  541118.4  991128.4  498260.3  948270.3  798266.9  669692.6  605405.5\n",
       " [1968]  648263.6  541118.4  433973.1  412544.1  305398.8  798266.9  541118.4\n",
       " [1975]  648263.6  969699.3  648263.6  648263.6  498260.3  883983.1  305398.8\n",
       " [1982]  841125.0  969699.3  541118.4  348256.9  733979.8  841125.0  798266.9\n",
       " [1989]  669692.6  583976.5  712550.7  605405.5  519689.3  841125.0  926841.2\n",
       " [1996]  755408.8  926841.2  391115.0  862554.1  712550.7  905412.2  326827.9\n",
       " [2003]  926841.2  862554.1  326827.9  605405.5  283969.8  948270.3  798266.9\n",
       " [2010]  369686.0  991128.4  541118.4  733979.8  733979.8  283969.8  369686.0\n",
       " [2017]  562547.4  841125.0  883983.1  905412.2  348256.9  433973.1  626834.6\n",
       " [2024]  626834.6  498260.3  583976.5  476831.2  605405.5  391115.0  369686.0\n",
       " [2031]  476831.2  412544.1  476831.2  948270.3  583976.5  605405.5  476831.2\n",
       " [2038]  991128.4  883983.1 1012557.4  391115.0  991128.4 1012557.4  626834.6\n",
       " [2045]  819696.0  948270.3  905412.2 1033986.5  733979.8  433973.1  476831.2\n",
       " [2052]  391115.0  669692.6  498260.3  798266.9  283969.8  905412.2  712550.7\n",
       " [2059]  305398.8  562547.4 1033986.5  798266.9  326827.9  862554.1  669692.6\n",
       " [2066]  412544.1  305398.8 1012557.4  583976.5  948270.3  391115.0  541118.4\n",
       " [2073]  562547.4  862554.1  519689.3  541118.4  433973.1 1012557.4  412544.1\n",
       " [2080]  562547.4  691121.7  991128.4  626834.6  283969.8  776837.9  755408.8\n",
       " [2087]  648263.6  776837.9  283969.8  433973.1 1012557.4 1033986.5  862554.1\n",
       " [2094]  433973.1  498260.3  905412.2  712550.7  433973.1  541118.4  476831.2\n",
       " [2101]  819696.0  926841.2  433973.1  669692.6  905412.2  691121.7  798266.9\n",
       " [2108]  583976.5  883983.1 1012557.4  755408.8  648263.6  862554.1  519689.3\n",
       " [2115]  926841.2  776837.9  969699.3  733979.8  391115.0  969699.3 1012557.4\n",
       " [2122]  712550.7  755408.8  776837.9  626834.6  969699.3  476831.2  326827.9\n",
       " [2129]  733979.8  605405.5  862554.1  669692.6  905412.2  948270.3  541118.4\n",
       " [2136]  776837.9  283969.8  819696.0  433973.1  755408.8  712550.7  776837.9\n",
       " [2143]  905412.2  969699.3  283969.8  605405.5  776837.9  991128.4 1033986.5\n",
       " [2150]  862554.1  648263.6  326827.9  969699.3  369686.0  969699.3  776837.9\n",
       " [2157]  969699.3  798266.9  841125.0  519689.3  755408.8 1033986.5  605405.5\n",
       " [2164]  948270.3  562547.4  948270.3  819696.0  305398.8  755408.8  669692.6\n",
       " [2171]  626834.6  691121.7  969699.3  755408.8  969699.3  862554.1  412544.1\n",
       " [2178]  948270.3  776837.9  948270.3  583976.5  455402.2  283969.8  476831.2\n",
       " [2185]  541118.4  883983.1  733979.8  476831.2  862554.1  819696.0  883983.1\n",
       " [2192]  841125.0  841125.0  326827.9  712550.7  841125.0  776837.9  326827.9\n",
       " [2199]  712550.7  412544.1  283969.8  905412.2  669692.6  583976.5  733979.8\n",
       " [2206]  369686.0  498260.3  819696.0  583976.5  455402.2  305398.8  519689.3\n",
       " [2213]  862554.1  991128.4  905412.2 1012557.4  369686.0  283969.8  626834.6\n",
       " [2220]  862554.1  369686.0  369686.0  605405.5  391115.0  991128.4  841125.0\n",
       " [2227] 1012557.4  562547.4  326827.9 1012557.4  819696.0  755408.8  519689.3\n",
       " [2234]  541118.4  776837.9  391115.0  283969.8  991128.4  862554.1  541118.4\n",
       " [2241]  648263.6  648263.6  348256.9  476831.2  455402.2  648263.6 1012557.4\n",
       " [2248]  541118.4  733979.8  348256.9  626834.6  562547.4  669692.6  455402.2\n",
       " [2255]  862554.1  991128.4  305398.8 1012557.4  541118.4  712550.7 1033986.5\n",
       " [2262]  305398.8  905412.2  948270.3  605405.5  283969.8  776837.9  712550.7\n",
       " [2269]  991128.4  991128.4  819696.0  326827.9  498260.3  562547.4  819696.0\n",
       " [2276]  541118.4  369686.0 1033986.5  755408.8  626834.6  948270.3  541118.4\n",
       " [2283]  969699.3  305398.8  541118.4  519689.3  905412.2  305398.8  841125.0\n",
       " [2290]  991128.4  819696.0  883983.1  755408.8  862554.1  562547.4  541118.4\n",
       " [2297]  733979.8  883983.1  648263.6  562547.4  348256.9  519689.3  433973.1\n",
       " [2304]  348256.9  562547.4 1033986.5  583976.5  841125.0  605405.5  476831.2\n",
       " [2311]  498260.3  755408.8  841125.0  626834.6  841125.0  755408.8  669692.6\n",
       " [2318]  498260.3  776837.9 1012557.4  905412.2  841125.0  776837.9  348256.9\n",
       " [2325]  498260.3  905412.2  626834.6  476831.2  391115.0  583976.5  669692.6\n",
       " [2332] 1012557.4  669692.6  819696.0  691121.7  841125.0  948270.3  305398.8\n",
       " [2339] 1012557.4  348256.9  305398.8  691121.7  412544.1  498260.3  733979.8\n",
       " [2346]  669692.6  733979.8 1012557.4  305398.8 1033986.5  455402.2  948270.3\n",
       " [2353]  648263.6  391115.0  433973.1  519689.3  369686.0  905412.2  926841.2\n",
       " [2360]  541118.4 1012557.4  691121.7  369686.0  991128.4  476831.2  283969.8\n",
       " [2367]  712550.7  841125.0  926841.2  755408.8  391115.0  905412.2  626834.6\n",
       " [2374]  498260.3  583976.5  283969.8  841125.0  369686.0  841125.0  369686.0\n",
       " [2381]  305398.8  369686.0  669692.6  669692.6  883983.1  391115.0  691121.7\n",
       " [2388]  626834.6  862554.1 1033986.5  391115.0  755408.8  498260.3  605405.5\n",
       " [2395]  883983.1  883983.1  991128.4  369686.0  369686.0  305398.8  926841.2\n",
       " [2402] 1033986.5  862554.1 1033986.5  455402.2  455402.2  626834.6  798266.9\n",
       " [2409]  841125.0  926841.2  969699.3  412544.1  391115.0  991128.4 1033986.5\n",
       " [2416]  991128.4  669692.6  862554.1  305398.8  905412.2  883983.1  669692.6\n",
       " [2423]  498260.3  541118.4  991128.4  476831.2  905412.2  433973.1  883983.1\n",
       " [2430]  862554.1  562547.4  391115.0  669692.6  776837.9  583976.5  626834.6\n",
       " [2437]  283969.8  926841.2  691121.7  305398.8  969699.3  433973.1  583976.5\n",
       " [2444] 1012557.4  348256.9  862554.1  883983.1  841125.0  519689.3  905412.2\n",
       " [2451] 1012557.4  305398.8  541118.4  348256.9  562547.4  541118.4 1033986.5\n",
       " [2458]  991128.4  776837.9  562547.4  541118.4  583976.5  755408.8  455402.2\n",
       " [2465]  541118.4  433973.1 1033986.5  369686.0  476831.2  733979.8  755408.8\n",
       " [2472]  841125.0  969699.3  412544.1  562547.4  283969.8  583976.5  755408.8\n",
       " [2479]  819696.0 1033986.5  305398.8 1033986.5  712550.7  669692.6  626834.6\n",
       " [2486]  776837.9 1012557.4  948270.3  498260.3  605405.5 1012557.4 1012557.4\n",
       " [2493]  412544.1  305398.8  583976.5  412544.1  691121.7  433973.1  841125.0\n",
       " [2500]  862554.1  991128.4  969699.3  926841.2  455402.2  948270.3  691121.7\n",
       " [2507]  905412.2  969699.3  583976.5  541118.4  283969.8  776837.9  669692.6\n",
       " [2514]  476831.2  755408.8  519689.3  926841.2 1012557.4  905412.2  841125.0\n",
       " [2521]  733979.8 1033986.5  883983.1  691121.7  391115.0 1033986.5  712550.7\n",
       " [2528]  669692.6  712550.7  883983.1  348256.9  841125.0  455402.2  991128.4\n",
       " [2535]  969699.3  455402.2  862554.1  798266.9  391115.0  305398.8  648263.6\n",
       " [2542] 1012557.4  841125.0  669692.6  733979.8  541118.4  648263.6  648263.6\n",
       " [2549]  691121.7  755408.8  883983.1  948270.3 1012557.4  819696.0  605405.5\n",
       " [2556]  391115.0  283969.8  626834.6  862554.1  841125.0  562547.4  883983.1\n",
       " [2563]  691121.7  948270.3  412544.1  583976.5  926841.2  712550.7  755408.8\n",
       " [2570]  841125.0  583976.5  669692.6  948270.3  519689.3  326827.9  755408.8\n",
       " [2577]  969699.3  605405.5  648263.6  712550.7  519689.3  348256.9  798266.9\n",
       " [2584]  841125.0  733979.8  648263.6  583976.5  905412.2  755408.8  519689.3\n",
       " [2591]  755408.8  326827.9  798266.9  326827.9  391115.0  798266.9  433973.1\n",
       " [2598]  755408.8  348256.9  562547.4  948270.3  905412.2  498260.3  733979.8\n",
       " [2605]  969699.3  841125.0  991128.4  476831.2  412544.1  305398.8  605405.5\n",
       " [2612] 1033986.5  369686.0  819696.0  541118.4  948270.3  326827.9  905412.2\n",
       " [2619]  819696.0  991128.4  648263.6  626834.6  691121.7  412544.1  776837.9\n",
       " [2626]  691121.7  583976.5  819696.0  733979.8  305398.8 1033986.5  283969.8\n",
       " [2633]  305398.8  519689.3  991128.4  798266.9  305398.8  648263.6  862554.1\n",
       " [2640]  648263.6 1012557.4  305398.8  905412.2 1012557.4  498260.3  455402.2\n",
       " [2647]  669692.6  369686.0  412544.1  991128.4  819696.0  433973.1  905412.2\n",
       " [2654]  476831.2  926841.2  669692.6  648263.6  369686.0  283969.8  498260.3\n",
       " [2661] 1033986.5  562547.4  476831.2  862554.1  369686.0  476831.2  519689.3\n",
       " [2668]  283969.8  755408.8  433973.1  733979.8  905412.2  883983.1  626834.6\n",
       " [2675]  433973.1  541118.4  669692.6  948270.3 1012557.4  648263.6  348256.9\n",
       " [2682]  391115.0  283969.8  583976.5  519689.3  798266.9  326827.9  712550.7\n",
       " [2689]  583976.5  498260.3  541118.4  283969.8  348256.9  305398.8  712550.7\n",
       " [2696]  798266.9  969699.3  948270.3  412544.1  541118.4  733979.8  605405.5\n",
       " [2703]  648263.6  433973.1  776837.9  991128.4  991128.4  798266.9  583976.5\n",
       " [2710]  883983.1  326827.9  498260.3  862554.1  498260.3  862554.1  369686.0\n",
       " [2717]  969699.3  648263.6  541118.4  755408.8  905412.2  776837.9  733979.8\n",
       " [2724]  691121.7  648263.6  948270.3  412544.1  862554.1  733979.8  841125.0\n",
       " [2731]  648263.6  369686.0  305398.8  626834.6 1012557.4  476831.2  691121.7\n",
       " [2738] 1012557.4  305398.8  391115.0  991128.4  691121.7  712550.7 1033986.5\n",
       " [2745]  669692.6 1012557.4  776837.9  305398.8  862554.1  776837.9  926841.2\n",
       " [2752]  433973.1  841125.0  905412.2  648263.6  776837.9  476831.2  926841.2\n",
       " [2759]  605405.5  455402.2 1033986.5  862554.1  455402.2  926841.2  883983.1\n",
       " [2766]  433973.1  391115.0  605405.5 1012557.4 1033986.5 1033986.5  626834.6\n",
       " [2773]  305398.8  862554.1  519689.3  819696.0  948270.3  755408.8  412544.1\n",
       " [2780] 1012557.4  669692.6  519689.3  733979.8  283969.8  883983.1  991128.4\n",
       " [2787]  862554.1  391115.0  991128.4  433973.1  541118.4  519689.3 1033986.5\n",
       " [2794] 1012557.4  326827.9  348256.9  326827.9  498260.3  541118.4  498260.3\n",
       " [2801]  991128.4  905412.2  519689.3  326827.9  562547.4  712550.7  348256.9\n",
       " [2808]  841125.0  691121.7  712550.7 1012557.4  476831.2  755408.8  841125.0\n",
       " [2815]  948270.3  669692.6  391115.0  433973.1  626834.6  776837.9  991128.4\n",
       " [2822]  776837.9  626834.6  348256.9  305398.8  776837.9  498260.3  648263.6\n",
       " [2829]  648263.6  948270.3  541118.4  862554.1 1012557.4  819696.0  776837.9\n",
       " [2836]  669692.6  455402.2  562547.4  305398.8  776837.9  605405.5  991128.4\n",
       " [2843]  369686.0  991128.4  583976.5  841125.0  969699.3  648263.6  841125.0\n",
       " [2850]  326827.9  433973.1  283969.8  455402.2  969699.3  305398.8  605405.5\n",
       " [2857]  305398.8  841125.0  562547.4  733979.8  733979.8  819696.0  412544.1\n",
       " [2864]  605405.5  755408.8  348256.9  369686.0  541118.4  476831.2  733979.8\n",
       " [2871]  776837.9  605405.5  626834.6  926841.2  776837.9  862554.1  605405.5\n",
       " [2878] 1033986.5  391115.0 1033986.5  519689.3  348256.9  305398.8  905412.2\n",
       " [2885]  605405.5  391115.0  691121.7 1033986.5  326827.9  776837.9  412544.1\n",
       " [2892]  926841.2 1012557.4  498260.3  948270.3  305398.8  712550.7  991128.4\n",
       " [2899]  819696.0  905412.2  369686.0  776837.9  348256.9  283969.8  519689.3\n",
       " [2906]  648263.6  498260.3  326827.9 1033986.5  905412.2  776837.9  541118.4\n",
       " [2913]  498260.3  755408.8 1012557.4  305398.8 1012557.4  391115.0  712550.7\n",
       " [2920]  541118.4  305398.8  948270.3  669692.6  391115.0 1033986.5  648263.6\n",
       " [2927]  519689.3  369686.0  605405.5  519689.3  433973.1  519689.3  626834.6\n",
       " [2934]  669692.6  883983.1  455402.2  905412.2  283969.8  305398.8  691121.7\n",
       " [2941]  841125.0  926841.2  369686.0  519689.3  305398.8  626834.6  776837.9\n",
       " [2948]  369686.0  883983.1 1033986.5 1012557.4  519689.3  926841.2  476831.2\n",
       " [2955]  776837.9  841125.0  519689.3  841125.0  841125.0  755408.8  476831.2\n",
       " [2962]  326827.9 1012557.4  348256.9  369686.0 1012557.4  283969.8  283969.8\n",
       " [2969]  691121.7  498260.3  348256.9  862554.1  391115.0  433973.1  455402.2\n",
       " [2976] 1033986.5  733979.8  391115.0  519689.3  605405.5  883983.1  412544.1\n",
       " [2983]  305398.8  412544.1  519689.3  691121.7  498260.3  519689.3  583976.5\n",
       " [2990]  391115.0  691121.7  969699.3 1012557.4  348256.9  926841.2  926841.2\n",
       " [2997]  498260.3  755408.8 1033986.5 1033986.5  391115.0  798266.9  626834.6\n",
       " [3004]  969699.3  926841.2  562547.4  733979.8  648263.6  819696.0  712550.7\n",
       " [3011]  712550.7  583976.5  819696.0  626834.6  733979.8  605405.5  391115.0\n",
       " [3018]  305398.8  883983.1  969699.3  369686.0  626834.6  305398.8  412544.1\n",
       " [3025]  841125.0  283969.8  519689.3  691121.7  412544.1 1033986.5  369686.0\n",
       " [3032]  669692.6  348256.9 1033986.5  669692.6  733979.8  905412.2  776837.9\n",
       " [3039]  691121.7  305398.8  969699.3  476831.2  776837.9  541118.4  283969.8\n",
       " [3046]  841125.0  519689.3  862554.1  562547.4  669692.6  541118.4  733979.8\n",
       " [3053]  626834.6  669692.6  519689.3  391115.0  883983.1  305398.8  412544.1\n",
       " [3060]  498260.3  948270.3  841125.0 1033986.5 1012557.4  991128.4  648263.6\n",
       " [3067]  583976.5  476831.2  819696.0  605405.5  733979.8  498260.3  905412.2\n",
       " [3074]  369686.0  841125.0  862554.1  648263.6  669692.6  305398.8  669692.6\n",
       " [3081]  776837.9  626834.6  948270.3  819696.0  691121.7  691121.7  969699.3\n",
       " [3088]  433973.1  283969.8  583976.5  862554.1  733979.8  691121.7  455402.2\n",
       " [3095]  691121.7  562547.4 1033986.5  326827.9 1033986.5  283969.8  369686.0\n",
       " [3102]  905412.2  819696.0  283969.8  798266.9  669692.6  305398.8  562547.4\n",
       " [3109]  991128.4  883983.1  541118.4  712550.7  905412.2  583976.5  691121.7\n",
       " [3116]  948270.3  519689.3  819696.0  305398.8  562547.4  905412.2  755408.8\n",
       " [3123]  433973.1  283969.8 1012557.4 1033986.5  348256.9  519689.3  819696.0\n",
       " [3130]  391115.0 1033986.5  348256.9  798266.9  583976.5  348256.9  498260.3\n",
       " [3137]  926841.2  798266.9  348256.9  648263.6  498260.3  626834.6  883983.1\n",
       " [3144]  798266.9  991128.4  412544.1  883983.1  433973.1  905412.2  283969.8\n",
       " [3151]  605405.5  926841.2  712550.7  626834.6  669692.6  926841.2  626834.6\n",
       " [3158]  819696.0  905412.2  605405.5  369686.0  562547.4  519689.3  648263.6\n",
       " [3165]  498260.3  626834.6  433973.1  948270.3  755408.8 1033986.5  819696.0\n",
       " [3172]  541118.4  476831.2 1012557.4  948270.3  391115.0  905412.2  905412.2\n",
       " [3179]  605405.5  519689.3  605405.5 1012557.4  862554.1  583976.5  991128.4\n",
       " [3186]  412544.1  841125.0  412544.1  626834.6  348256.9  712550.7  305398.8\n",
       " [3193]  648263.6  691121.7  412544.1  948270.3  583976.5  626834.6  733979.8\n",
       " [3200]  433973.1  712550.7  969699.3  369686.0  648263.6  712550.7  455402.2\n",
       " [3207]  862554.1  283969.8  498260.3  433973.1  476831.2  283969.8  326827.9\n",
       " [3214]  541118.4  498260.3  841125.0  326827.9  926841.2  733979.8  541118.4\n",
       " [3221]  455402.2  455402.2  905412.2  541118.4  348256.9  712550.7  369686.0\n",
       " [3228]  562547.4  283969.8 1033986.5  841125.0  991128.4  733979.8  326827.9\n",
       " [3235]  562547.4  926841.2  541118.4  433973.1  326827.9  712550.7 1033986.5\n",
       " [3242]  648263.6  712550.7  476831.2  455402.2  476831.2  605405.5  969699.3\n",
       " [3249]  326827.9  991128.4  476831.2  883983.1  862554.1  455402.2  583976.5\n",
       " [3256]  476831.2  476831.2  583976.5  626834.6  862554.1  305398.8  412544.1\n",
       " [3263]  948270.3  498260.3  841125.0  798266.9  562547.4  948270.3  905412.2\n",
       " [3270]  669692.6  626834.6  476831.2 1012557.4  798266.9  369686.0  583976.5\n",
       " [3277]  583976.5  326827.9  583976.5  776837.9  348256.9  776837.9  605405.5\n",
       " [3284]  433973.1  691121.7  926841.2  391115.0  969699.3  283969.8  733979.8\n",
       " [3291]  391115.0  605405.5  391115.0  969699.3  883983.1  648263.6  605405.5\n",
       " [3298] 1012557.4 1012557.4  648263.6  648263.6  819696.0  883983.1  326827.9\n",
       " [3305]  412544.1  991128.4  433973.1  433973.1  391115.0  369686.0  691121.7\n",
       " [3312]  841125.0  733979.8  733979.8 1033986.5  305398.8  369686.0  755408.8\n",
       " [3319]  712550.7  691121.7 1012557.4  841125.0  476831.2  712550.7  583976.5\n",
       " [3326]  648263.6  391115.0  476831.2  391115.0  905412.2  905412.2  283969.8\n",
       " [3333] 1033986.5  905412.2  583976.5  626834.6  798266.9 1033986.5 1033986.5\n",
       " [3340]  541118.4  691121.7  348256.9  519689.3  776837.9 1033986.5  433973.1\n",
       " [3347]  669692.6  819696.0  648263.6  519689.3 1012557.4  305398.8  369686.0\n",
       " [3354]  498260.3  562547.4  476831.2  583976.5  926841.2  626834.6  583976.5\n",
       " [3361]  905412.2  391115.0  691121.7  391115.0  948270.3  519689.3  905412.2\n",
       " [3368]  712550.7  605405.5  926841.2  519689.3  562547.4 1012557.4  712550.7\n",
       " [3375]  326827.9  348256.9  648263.6  755408.8  519689.3  841125.0 1012557.4\n",
       " [3382]  305398.8  369686.0  776837.9  691121.7  798266.9  519689.3  519689.3\n",
       " [3389]  562547.4  348256.9  798266.9  391115.0  669692.6  498260.3  412544.1\n",
       " [3396]  498260.3  391115.0  712550.7  969699.3  305398.8  326827.9  433973.1\n",
       " [3403]  455402.2 1012557.4  498260.3  798266.9 1012557.4  391115.0  626834.6\n",
       " [3410]  669692.6  776837.9  798266.9  326827.9  283969.8  305398.8  991128.4\n",
       " [3417]  369686.0  562547.4  455402.2  841125.0  305398.8  605405.5  648263.6\n",
       " [3424]  283969.8  669692.6  583976.5  798266.9  648263.6  712550.7  369686.0\n",
       " [3431]  991128.4  691121.7  819696.0  476831.2  626834.6  605405.5  669692.6\n",
       " [3438]  626834.6  326827.9  562547.4  583976.5  819696.0  733979.8  691121.7\n",
       " [3445]  283969.8  626834.6  926841.2  841125.0  948270.3  798266.9  605405.5\n",
       " [3452]  905412.2  712550.7  605405.5  391115.0  541118.4  841125.0  562547.4\n",
       " [3459]  348256.9  819696.0  969699.3  905412.2  476831.2  348256.9  412544.1\n",
       " [3466]  583976.5  926841.2  991128.4  583976.5  562547.4  305398.8  862554.1\n",
       " [3473]  605405.5  519689.3  991128.4  283969.8  991128.4  948270.3  348256.9\n",
       " [3480] 1012557.4 1012557.4  712550.7  733979.8  648263.6  691121.7  305398.8\n",
       " [3487]  541118.4  391115.0  391115.0  969699.3  776837.9  819696.0  626834.6\n",
       " [3494]  969699.3  391115.0  348256.9  691121.7  433973.1  305398.8  326827.9\n",
       " [3501]  283969.8  369686.0  369686.0  841125.0  348256.9  776837.9  455402.2\n",
       " [3508]  883983.1  476831.2  562547.4  969699.3  798266.9  776837.9  991128.4\n",
       " [3515]  691121.7  455402.2  455402.2  391115.0  348256.9  733979.8  691121.7\n",
       " [3522]  948270.3  583976.5  841125.0  476831.2  948270.3  862554.1  841125.0\n",
       " [3529]  562547.4  348256.9  669692.6 1033986.5  841125.0  562547.4  691121.7\n",
       " [3536]  883983.1  819696.0  305398.8  712550.7  948270.3  862554.1  648263.6\n",
       " [3543]  798266.9  969699.3  819696.0  819696.0  412544.1  391115.0  841125.0\n",
       " [3550]  819696.0  862554.1  541118.4  326827.9  498260.3  948270.3  991128.4\n",
       " [3557]  883983.1 1012557.4  883983.1 1012557.4  733979.8  669692.6  305398.8\n",
       " [3564]  669692.6  433973.1  412544.1  626834.6  455402.2 1033986.5  519689.3\n",
       " [3571]  841125.0  369686.0  712550.7  412544.1  583976.5  991128.4  541118.4\n",
       " [3578]  841125.0  669692.6  648263.6  283969.8  883983.1  283969.8  905412.2\n",
       " [3585]  283969.8  905412.2  305398.8  862554.1  648263.6  541118.4  562547.4\n",
       " [3592]  283969.8  348256.9  391115.0  626834.6  605405.5  969699.3  412544.1\n",
       " [3599]  712550.7  712550.7  519689.3  498260.3  326827.9  841125.0  519689.3\n",
       " [3606]  369686.0  283969.8  455402.2  819696.0  733979.8  605405.5  819696.0\n",
       " [3613]  691121.7 1033986.5  841125.0  326827.9  819696.0  605405.5  391115.0\n",
       " [3620]  905412.2 1012557.4  669692.6  369686.0  798266.9  969699.3  798266.9\n",
       " [3627]  733979.8  626834.6  691121.7  905412.2  305398.8  519689.3  433973.1\n",
       " [3634]  498260.3  669692.6  969699.3  412544.1  883983.1  626834.6  669692.6\n",
       " [3641]  412544.1  283969.8  862554.1  519689.3  883983.1  991128.4  476831.2\n",
       " [3648]  776837.9  519689.3  755408.8  519689.3  841125.0  498260.3  648263.6\n",
       " [3655] 1012557.4 1033986.5  562547.4  883983.1  691121.7  455402.2  862554.1\n",
       " [3662]  798266.9  626834.6  519689.3  948270.3  369686.0  948270.3  626834.6\n",
       " [3669]  433973.1  648263.6  948270.3  605405.5  305398.8  476831.2  819696.0\n",
       " [3676]  283969.8  798266.9  476831.2  626834.6  369686.0  819696.0  498260.3\n",
       " [3683]  369686.0  819696.0  476831.2  369686.0  519689.3  541118.4 1012557.4\n",
       " [3690]  926841.2  819696.0  455402.2  733979.8  669692.6  841125.0  755408.8\n",
       " [3697]  712550.7  862554.1  626834.6  433973.1  712550.7  883983.1  691121.7\n",
       " [3704]  455402.2  948270.3  455402.2  326827.9  969699.3  541118.4  498260.3\n",
       " [3711]  883983.1  583976.5  798266.9  476831.2  562547.4  369686.0  305398.8\n",
       " [3718] 1012557.4  755408.8  326827.9  755408.8  776837.9 1012557.4  391115.0\n",
       " [3725]  541118.4  862554.1 1012557.4  583976.5  562547.4  691121.7 1033986.5\n",
       " [3732] 1012557.4  433973.1  605405.5  905412.2  283969.8  391115.0  519689.3\n",
       " [3739]  905412.2  862554.1  969699.3  948270.3  776837.9  433973.1  455402.2\n",
       " [3746]  648263.6  348256.9  626834.6  283969.8  519689.3  862554.1  455402.2\n",
       " [3753] 1012557.4  819696.0  991128.4  926841.2  283969.8  755408.8  798266.9\n",
       " [3760]  819696.0  991128.4  541118.4  455402.2  948270.3  948270.3  969699.3\n",
       " [3767] 1033986.5  455402.2  905412.2  498260.3  283969.8  841125.0  498260.3\n",
       " [3774]  455402.2  883983.1  798266.9  798266.9  326827.9  926841.2  498260.3\n",
       " [3781]  991128.4  605405.5  412544.1  455402.2  776837.9  369686.0  691121.7\n",
       " [3788]  969699.3  605405.5  926841.2  669692.6  755408.8  691121.7  755408.8\n",
       " [3795]  476831.2 1033986.5  626834.6  562547.4  669692.6  433973.1  926841.2\n",
       " [3802] 1033986.5  369686.0  412544.1  498260.3 1012557.4  905412.2  883983.1\n",
       " [3809]  519689.3  348256.9  969699.3  283969.8  819696.0 1033986.5  798266.9\n",
       " [3816]  991128.4  519689.3  691121.7  412544.1  626834.6  905412.2  691121.7\n",
       " [3823]  905412.2  305398.8  776837.9  605405.5  369686.0  883983.1  562547.4\n",
       " [3830]  455402.2  819696.0  691121.7  455402.2  883983.1  305398.8  541118.4\n",
       " [3837]  733979.8  862554.1  433973.1  862554.1  862554.1 1033986.5  969699.3\n",
       " [3844]  348256.9  283969.8  883983.1  755408.8  841125.0  669692.6  562547.4\n",
       " [3851] 1033986.5  798266.9  498260.3  519689.3  326827.9  369686.0  605405.5\n",
       " [3858] 1012557.4  519689.3  755408.8  476831.2  433973.1  283969.8  969699.3\n",
       " [3865]  541118.4  433973.1  712550.7  541118.4 1012557.4  733979.8  862554.1\n",
       " [3872]  862554.1  626834.6 1012557.4  498260.3  798266.9  433973.1  798266.9\n",
       " [3879]  476831.2  541118.4  583976.5  562547.4  433973.1  605405.5  519689.3\n",
       " [3886]  455402.2  283969.8  391115.0  776837.9  326827.9  348256.9  283969.8\n",
       " [3893]  369686.0  733979.8  283969.8  819696.0  283969.8  433973.1  519689.3\n",
       " [3900]  862554.1  991128.4  626834.6  948270.3  648263.6  626834.6  712550.7\n",
       " [3907]  926841.2  841125.0  305398.8  583976.5  583976.5  819696.0  369686.0\n",
       " [3914]  583976.5  391115.0  498260.3  648263.6  905412.2  776837.9  648263.6\n",
       " [3921]  519689.3  412544.1  819696.0  348256.9  391115.0  326827.9 1033986.5\n",
       " [3928]  369686.0  541118.4  733979.8  305398.8  926841.2  926841.2  605405.5\n",
       " [3935]  412544.1 1033986.5  348256.9  862554.1  691121.7  412544.1  305398.8\n",
       " [3942]  819696.0  583976.5  883983.1 1033986.5  283969.8  455402.2  476831.2\n",
       " [3949]  412544.1  862554.1  326827.9  541118.4  326827.9  326827.9  776837.9\n",
       " [3956]  776837.9  562547.4  476831.2  733979.8  498260.3  348256.9  991128.4\n",
       " [3963]  733979.8  883983.1  733979.8  669692.6  283969.8  305398.8  733979.8\n",
       " [3970]  562547.4  283969.8  648263.6  776837.9  926841.2  841125.0  305398.8\n",
       " [3977]  326827.9  691121.7  691121.7  391115.0  669692.6  369686.0  305398.8\n",
       " [3984]  498260.3  305398.8  991128.4  691121.7  583976.5  969699.3  283969.8\n",
       " [3991]  348256.9  648263.6  476831.2  969699.3  969699.3  841125.0  326827.9\n",
       " [3998] 1033986.5  948270.3  583976.5  991128.4  562547.4  883983.1  991128.4\n",
       " [4005]  776837.9  476831.2 1012557.4 1012557.4  476831.2  498260.3  841125.0\n",
       " [4012]  541118.4  755408.8  712550.7  283969.8  733979.8  883983.1  755408.8\n",
       " [4019]  819696.0 1012557.4  305398.8  841125.0  348256.9  841125.0 1033986.5\n",
       " [4026]  862554.1  433973.1  305398.8  305398.8  369686.0  798266.9  691121.7\n",
       " [4033]  905412.2  798266.9  519689.3  348256.9  519689.3  991128.4  605405.5\n",
       " [4040]  691121.7  969699.3  948270.3  412544.1  605405.5  648263.6  648263.6\n",
       " [4047]  691121.7  669692.6  669692.6  926841.2  755408.8  433973.1  883983.1\n",
       " [4054]  776837.9  455402.2  819696.0  841125.0  391115.0  776837.9  541118.4\n",
       " [4061]  733979.8  305398.8  926841.2  541118.4  562547.4  691121.7  841125.0\n",
       " [4068]  498260.3  305398.8  712550.7  476831.2  562547.4  883983.1  455402.2\n",
       " [4075]  348256.9 1012557.4  348256.9  798266.9  326827.9  605405.5  733979.8\n",
       " [4082]  733979.8  733979.8  841125.0  519689.3  519689.3  433973.1  712550.7\n",
       " [4089]  841125.0  626834.6  712550.7 1033986.5  433973.1  326827.9  626834.6\n",
       " [4096]  369686.0  798266.9  991128.4 1012557.4  991128.4  969699.3  369686.0\n",
       " [4103]  841125.0  755408.8  519689.3  433973.1  476831.2  648263.6  712550.7\n",
       " [4110]  948270.3  926841.2  391115.0  691121.7  926841.2  305398.8  712550.7\n",
       " [4117]  369686.0  519689.3  691121.7  498260.3  905412.2  541118.4  883983.1\n",
       " [4124]  519689.3  883983.1  691121.7  819696.0  755408.8  926841.2  883983.1\n",
       " [4131]  905412.2  969699.3  605405.5  798266.9 1033986.5  733979.8 1012557.4\n",
       " [4138]  669692.6  712550.7  883983.1  455402.2  326827.9  991128.4  798266.9\n",
       " [4145]  541118.4  476831.2  498260.3 1012557.4  283969.8  305398.8  648263.6\n",
       " [4152]  626834.6  519689.3 1012557.4 1033986.5  605405.5  305398.8  755408.8\n",
       " [4159]  991128.4  455402.2  755408.8  369686.0  626834.6  326827.9  562547.4\n",
       " [4166]  412544.1  562547.4  583976.5  733979.8  391115.0  733979.8  326827.9\n",
       " [4173]  541118.4 1033986.5  991128.4  626834.6  905412.2  541118.4  991128.4\n",
       " [4180]  712550.7  519689.3  626834.6  476831.2  991128.4  648263.6  648263.6\n",
       " [4187]  733979.8  691121.7  948270.3  905412.2 1033986.5  755408.8  733979.8\n",
       " [4194]  669692.6  433973.1 1012557.4  991128.4  412544.1  626834.6  519689.3\n",
       " [4201]  369686.0  712550.7  969699.3  691121.7 1012557.4  605405.5  883983.1\n",
       " [4208]  712550.7  733979.8  948270.3  455402.2  541118.4  841125.0  455402.2\n",
       " [4215]  348256.9 1012557.4  326827.9  798266.9  969699.3  862554.1  905412.2\n",
       " [4222]  541118.4  326827.9  712550.7  369686.0  476831.2  455402.2  648263.6\n",
       " [4229]  583976.5  755408.8  541118.4  412544.1  305398.8  562547.4 1012557.4\n",
       " [4236]  498260.3  755408.8  712550.7  498260.3  583976.5  498260.3  326827.9\n",
       " [4243]  519689.3  605405.5  712550.7  498260.3  841125.0  455402.2  283969.8\n",
       " [4250]  583976.5  498260.3  369686.0  691121.7  733979.8  476831.2  691121.7\n",
       " [4257]  991128.4  348256.9  519689.3  841125.0 1012557.4  691121.7  605405.5\n",
       " [4264]  348256.9  348256.9  498260.3  348256.9  991128.4  433973.1  669692.6\n",
       " [4271]  433973.1  605405.5  733979.8  369686.0  883983.1  691121.7  391115.0\n",
       " [4278]  733979.8  369686.0  905412.2  391115.0  541118.4  755408.8  391115.0\n",
       " [4285]  691121.7  926841.2  541118.4  776837.9  969699.3  798266.9  883983.1\n",
       " [4292]  776837.9  391115.0  391115.0  883983.1  412544.1  541118.4  691121.7\n",
       " [4299]  498260.3  541118.4  883983.1  283969.8  991128.4  283969.8 1033986.5\n",
       " [4306]  305398.8  412544.1  562547.4  498260.3  648263.6  305398.8  412544.1\n",
       " [4313]  605405.5  883983.1  841125.0  648263.6  905412.2  583976.5  498260.3\n",
       " [4320]  476831.2  798266.9  455402.2  733979.8  862554.1 1033986.5 1012557.4\n",
       " [4327]  883983.1  326827.9  433973.1  712550.7  883983.1  648263.6  583976.5\n",
       " [4334]  541118.4  712550.7  862554.1  541118.4  626834.6  991128.4  841125.0\n",
       " [4341]  305398.8  733979.8  626834.6  519689.3  776837.9  455402.2  326827.9\n",
       " [4348]  391115.0  648263.6  969699.3  476831.2  819696.0  819696.0  883983.1\n",
       " [4355]  712550.7  883983.1  541118.4  391115.0  862554.1  433973.1  883983.1\n",
       " [4362]  733979.8  476831.2  905412.2  562547.4  969699.3  583976.5  776837.9\n",
       " [4369]  841125.0  305398.8  841125.0  369686.0  391115.0  819696.0  412544.1\n",
       " [4376]  369686.0  433973.1  648263.6  391115.0  305398.8  455402.2 1012557.4\n",
       " [4383]  583976.5  691121.7  433973.1  455402.2 1033986.5  476831.2  648263.6\n",
       " [4390]  562547.4  283969.8  455402.2  669692.6  348256.9  691121.7  948270.3\n",
       " [4397] 1033986.5  519689.3  969699.3  626834.6  776837.9  583976.5 1033986.5\n",
       " [4404]  712550.7  583976.5  819696.0  776837.9  819696.0  605405.5  455402.2\n",
       " [4411]  541118.4 1033986.5  476831.2  369686.0  948270.3  776837.9  733979.8\n",
       " [4418]  798266.9  391115.0  883983.1  305398.8  883983.1  669692.6  883983.1\n",
       " [4425]  541118.4  648263.6  605405.5  605405.5  305398.8  326827.9  819696.0\n",
       " [4432]  669692.6  476831.2  691121.7  519689.3 1012557.4  841125.0  776837.9\n",
       " [4439]  969699.3  883983.1  691121.7  326827.9  369686.0 1012557.4  455402.2\n",
       " [4446]  541118.4  969699.3  883983.1  691121.7  991128.4  455402.2  648263.6\n",
       " [4453]  648263.6  819696.0  326827.9  348256.9  562547.4 1012557.4  991128.4\n",
       " [4460]  412544.1  305398.8  926841.2  841125.0  326827.9  733979.8  712550.7\n",
       " [4467]  648263.6  969699.3  819696.0  348256.9  283969.8  926841.2  991128.4\n",
       " [4474]  755408.8  391115.0  476831.2  326827.9  476831.2  455402.2  455402.2\n",
       " [4481]  391115.0  626834.6  326827.9  305398.8  926841.2  519689.3  562547.4\n",
       " [4488]  691121.7  755408.8  369686.0  412544.1  605405.5 1012557.4  819696.0\n",
       " [4495]  776837.9  948270.3  691121.7  712550.7  926841.2  862554.1  798266.9\n",
       " [4502]  733979.8  991128.4  562547.4  369686.0  476831.2  712550.7  369686.0\n",
       " [4509]  498260.3  648263.6  733979.8  883983.1  562547.4  283969.8  841125.0\n",
       " [4516]  583976.5  798266.9  498260.3  733979.8  733979.8  562547.4  712550.7\n",
       " [4523]  948270.3  391115.0  348256.9  305398.8  969699.3  498260.3  991128.4\n",
       " [4530]  476831.2  348256.9  776837.9  305398.8  905412.2  926841.2  605405.5\n",
       " [4537]  648263.6 1033986.5  605405.5  926841.2  991128.4  348256.9  926841.2\n",
       " [4544]  476831.2  819696.0  712550.7  369686.0  541118.4  669692.6  605405.5\n",
       " [4551]  369686.0  691121.7  369686.0  433973.1  969699.3  605405.5  605405.5\n",
       " [4558]  991128.4  412544.1  412544.1  969699.3  391115.0  841125.0  498260.3\n",
       " [4565]  326827.9  605405.5  519689.3  412544.1  562547.4  305398.8  626834.6\n",
       " [4572] 1033986.5  348256.9  626834.6  562547.4  391115.0  733979.8  369686.0\n",
       " [4579]  905412.2  562547.4  326827.9  691121.7  326827.9  755408.8  283969.8\n",
       " [4586]  412544.1  498260.3  498260.3  969699.3 1012557.4  819696.0  476831.2\n",
       " [4593]  733979.8  605405.5 1012557.4  841125.0  605405.5  691121.7  562547.4\n",
       " [4600]  948270.3  541118.4  326827.9  283969.8  605405.5  605405.5  391115.0\n",
       " [4607]  326827.9  541118.4  883983.1  712550.7  991128.4  305398.8  841125.0\n",
       " [4614]  498260.3  369686.0  733979.8  348256.9  519689.3  326827.9  519689.3\n",
       " [4621]  926841.2  969699.3  305398.8  605405.5  412544.1  605405.5  691121.7\n",
       " [4628]  305398.8  819696.0  519689.3  498260.3  755408.8 1012557.4  905412.2\n",
       " [4635]  776837.9 1033986.5  626834.6  733979.8  755408.8  498260.3  605405.5\n",
       " [4642] 1033986.5  541118.4  991128.4  883983.1  283969.8  519689.3  883983.1\n",
       " [4649]  498260.3  969699.3  583976.5  905412.2  391115.0  648263.6  648263.6\n",
       " [4656]  369686.0 1033986.5  755408.8  948270.3  819696.0  691121.7  691121.7\n",
       " [4663]  862554.1  433973.1  883983.1  562547.4  562547.4  455402.2  776837.9\n",
       " [4670]  348256.9  412544.1  969699.3  948270.3  605405.5  541118.4  669692.6\n",
       " [4677]  798266.9  669692.6  926841.2  305398.8  948270.3  691121.7  519689.3\n",
       " [4684]  476831.2  926841.2  798266.9  455402.2  669692.6  583976.5  969699.3\n",
       " [4691]  648263.6  433973.1  755408.8  841125.0  348256.9  733979.8  776837.9\n",
       " [4698]  733979.8  669692.6  819696.0  712550.7  583976.5  969699.3  369686.0\n",
       " [4705]  733979.8  819696.0  605405.5  305398.8  305398.8  433973.1  691121.7\n",
       " [4712]  991128.4  455402.2  326827.9  391115.0  626834.6  283969.8  626834.6\n",
       " [4719]  476831.2  776837.9  883983.1  283969.8  541118.4  691121.7  412544.1\n",
       " [4726]  776837.9  433973.1 1012557.4  798266.9  819696.0  348256.9  348256.9\n",
       " [4733]  583976.5  862554.1  541118.4  733979.8  776837.9  305398.8  348256.9\n",
       " [4740]  283969.8  669692.6 1012557.4  348256.9  969699.3  862554.1  841125.0\n",
       " [4747]  969699.3  905412.2  691121.7  819696.0  562547.4  712550.7  755408.8\n",
       " [4754]  283969.8 1012557.4  991128.4  648263.6  969699.3  712550.7  519689.3\n",
       " [4761]  691121.7  455402.2  433973.1  391115.0  369686.0  926841.2 1012557.4\n",
       " [4768]  326827.9  583976.5  283969.8  476831.2  755408.8  991128.4  476831.2\n",
       " [4775]  776837.9  283969.8  669692.6  519689.3  755408.8  969699.3  648263.6\n",
       " [4782]  905412.2  391115.0  541118.4  562547.4  862554.1  712550.7  648263.6\n",
       " [4789]  648263.6  691121.7  369686.0 1012557.4  926841.2  305398.8  305398.8\n",
       " [4796]  883983.1  905412.2  305398.8  991128.4  391115.0  626834.6  412544.1\n",
       " [4803]  562547.4  348256.9  348256.9  905412.2  969699.3  626834.6  883983.1\n",
       " [4810]  991128.4  926841.2  455402.2  883983.1  498260.3 1033986.5  948270.3\n",
       " [4817]  776837.9  305398.8  948270.3  819696.0  348256.9  348256.9  883983.1\n",
       " [4824]  412544.1  605405.5  883983.1  433973.1  369686.0  326827.9  776837.9\n",
       " [4831]  883983.1  883983.1  841125.0  455402.2  798266.9  541118.4 1033986.5\n",
       " [4838]  798266.9  883983.1  991128.4  712550.7  969699.3  991128.4  348256.9\n",
       " [4845]  669692.6  969699.3  305398.8  391115.0  691121.7  455402.2  562547.4\n",
       " [4852]  862554.1  969699.3  326827.9  733979.8  519689.3  883983.1  969699.3\n",
       " [4859]  648263.6 1033986.5  326827.9  476831.2  519689.3 1012557.4 1012557.4\n",
       " [4866]  476831.2  605405.5  948270.3  605405.5 1012557.4  926841.2  455402.2\n",
       " [4873]  326827.9  948270.3  776837.9  283969.8  991128.4  583976.5  776837.9\n",
       " [4880]  283969.8  733979.8  862554.1  498260.3  369686.0  369686.0  412544.1\n",
       " [4887]  519689.3 1033986.5  541118.4  733979.8  733979.8  519689.3  476831.2\n",
       " [4894]  733979.8  369686.0  948270.3  412544.1  326827.9  283969.8  862554.1\n",
       " [4901]  819696.0  969699.3  391115.0  583976.5  648263.6  412544.1  776837.9\n",
       " [4908]  841125.0  648263.6  948270.3  862554.1  862554.1  733979.8  691121.7\n",
       " [4915]  755408.8  455402.2  519689.3  883983.1 1033986.5 1033986.5  305398.8\n",
       " [4922]  905412.2  776837.9  433973.1  348256.9  326827.9  798266.9  926841.2\n",
       " [4929]  541118.4  991128.4  712550.7  305398.8  498260.3  519689.3  583976.5\n",
       " [4936]  926841.2  476831.2  498260.3  669692.6  348256.9  541118.4  305398.8\n",
       " [4943]  283969.8  648263.6  712550.7  348256.9 1033986.5  948270.3  991128.4\n",
       " [4950]  412544.1  583976.5  991128.4  669692.6  305398.8  862554.1  691121.7\n",
       " [4957]  819696.0  433973.1  348256.9  755408.8  541118.4  648263.6  819696.0\n",
       " [4964]  283969.8  991128.4 1033986.5  455402.2  798266.9 1012557.4  776837.9\n",
       " [4971]  991128.4  326827.9  476831.2  883983.1  926841.2  498260.3  412544.1\n",
       " [4978]  819696.0  755408.8  798266.9  862554.1  519689.3  412544.1  476831.2\n",
       " [4985]  733979.8  969699.3  455402.2  776837.9  476831.2  798266.9  605405.5\n",
       " [4992]  691121.7  883983.1 1012557.4 1012557.4  583976.5  733979.8  755408.8\n",
       " [4999]  455402.2  819696.0  948270.3  841125.0  541118.4  948270.3  369686.0\n",
       " [5006]  541118.4  519689.3  541118.4  391115.0  626834.6  519689.3  755408.8\n",
       " [5013]  926841.2  433973.1  755408.8  412544.1  883983.1  583976.5  883983.1\n",
       " [5020]  733979.8  562547.4  669692.6  283969.8  283969.8  391115.0  348256.9\n",
       " [5027]  819696.0  841125.0  498260.3  648263.6  691121.7  626834.6  841125.0\n",
       " [5034]  776837.9  562547.4  798266.9  969699.3  583976.5  519689.3  562547.4\n",
       " [5041]  305398.8  369686.0  841125.0  755408.8  691121.7 1033986.5  648263.6\n",
       " [5048]  626834.6  498260.3  562547.4  348256.9  455402.2  283969.8  283969.8\n",
       " [5055]  926841.2  583976.5  433973.1  369686.0 1033986.5  862554.1  669692.6\n",
       " [5062]  348256.9  712550.7  519689.3  326827.9  733979.8  519689.3  583976.5\n",
       " [5069] 1033986.5 1033986.5  305398.8  476831.2  541118.4  626834.6  412544.1\n",
       " [5076]  841125.0  905412.2  519689.3  819696.0  798266.9  369686.0  391115.0\n",
       " [5083]  798266.9  648263.6  283969.8  412544.1  305398.8  991128.4  969699.3\n",
       " [5090]  605405.5  905412.2  776837.9  755408.8  476831.2  798266.9  369686.0\n",
       " [5097]  583976.5  776837.9  926841.2  905412.2  755408.8  283969.8  348256.9\n",
       " [5104]  498260.3  691121.7  562547.4  283969.8  991128.4  712550.7  819696.0\n",
       " [5111]  305398.8  905412.2  776837.9  948270.3  455402.2  605405.5  391115.0\n",
       " [5118]  519689.3  841125.0  476831.2  883983.1  948270.3  819696.0 1012557.4\n",
       " [5125]  541118.4  412544.1  283969.8  712550.7  862554.1  562547.4  991128.4\n",
       " [5132]  691121.7  669692.6  841125.0  948270.3 1012557.4  583976.5  541118.4\n",
       " [5139]  583976.5  455402.2  433973.1  648263.6  948270.3  626834.6  776837.9\n",
       " [5146]  948270.3  519689.3 1033986.5  283969.8  948270.3  883983.1  519689.3\n",
       " [5153]  841125.0  326827.9  798266.9  283969.8  733979.8  541118.4  519689.3\n",
       " [5160]  283969.8  369686.0  541118.4  991128.4  669692.6  755408.8  969699.3\n",
       " [5167]  926841.2  476831.2  948270.3  926841.2  862554.1  969699.3  541118.4\n",
       " [5174]  348256.9  626834.6  348256.9  605405.5  926841.2  348256.9  476831.2\n",
       " [5181]  733979.8  541118.4  905412.2  348256.9  562547.4  733979.8  648263.6\n",
       " [5188]  798266.9  969699.3  369686.0  348256.9  583976.5  819696.0  841125.0\n",
       " [5195]  862554.1  562547.4  326827.9  669692.6  326827.9  605405.5  283969.8\n",
       " [5202]  691121.7  733979.8  648263.6  905412.2  455402.2  776837.9  412544.1\n",
       " [5209]  733979.8  519689.3  433973.1  841125.0  948270.3  926841.2  433973.1\n",
       " [5216]  562547.4 1012557.4  455402.2  369686.0  498260.3  798266.9  883983.1\n",
       " [5223]  476831.2  562547.4 1012557.4  733979.8  776837.9  755408.8  583976.5\n",
       " [5230]  626834.6  326827.9  905412.2  798266.9  541118.4  305398.8  348256.9\n",
       " [5237]  348256.9  969699.3  305398.8  905412.2 1033986.5 1012557.4  798266.9\n",
       " [5244]  583976.5  476831.2  412544.1  948270.3  712550.7  905412.2  883983.1\n",
       " [5251]  326827.9  583976.5  948270.3  648263.6  369686.0  798266.9  712550.7\n",
       " [5258]  326827.9  991128.4  948270.3  369686.0  776837.9  669692.6 1012557.4\n",
       " [5265]  541118.4  841125.0  391115.0  712550.7  712550.7  498260.3 1033986.5\n",
       " [5272]  605405.5  433973.1  733979.8  605405.5  691121.7  626834.6  562547.4\n",
       " [5279]  412544.1  862554.1  626834.6  498260.3  712550.7  948270.3 1012557.4\n",
       " [5286]  412544.1  776837.9  626834.6  583976.5  733979.8  605405.5  776837.9\n",
       " [5293]  648263.6  841125.0  283969.8  776837.9  862554.1  648263.6  862554.1\n",
       " [5300]  905412.2  862554.1  862554.1  305398.8  605405.5  541118.4  476831.2\n",
       " [5307]  476831.2  798266.9  798266.9  305398.8  969699.3  733979.8  541118.4\n",
       " [5314]  862554.1  562547.4  541118.4  991128.4  476831.2  926841.2  926841.2\n",
       " [5321] 1012557.4  926841.2  819696.0  883983.1  862554.1  648263.6  905412.2\n",
       " [5328]  862554.1  926841.2  412544.1  498260.3  776837.9  991128.4  519689.3\n",
       " [5335]  391115.0  755408.8  819696.0  733979.8  755408.8  326827.9  905412.2\n",
       " [5342]  326827.9  691121.7  669692.6  905412.2  969699.3  326827.9  733979.8\n",
       " [5349]  648263.6  583976.5  948270.3  541118.4  305398.8  326827.9  369686.0\n",
       " [5356]  798266.9  712550.7  455402.2  669692.6  776837.9  755408.8  669692.6\n",
       " [5363]  562547.4  498260.3  841125.0  926841.2  326827.9  948270.3  798266.9\n",
       " [5370]  841125.0  541118.4  305398.8  969699.3  691121.7  991128.4  519689.3\n",
       " [5377]  348256.9  712550.7  348256.9  519689.3  691121.7  455402.2  841125.0\n",
       " [5384]  948270.3  648263.6  433973.1  369686.0 1012557.4  455402.2  862554.1\n",
       " [5391]  391115.0  991128.4  691121.7  798266.9  348256.9  755408.8  648263.6\n",
       " [5398]  755408.8  433973.1  455402.2  648263.6  862554.1  862554.1  755408.8\n",
       " [5405]  691121.7  862554.1  819696.0  283969.8  583976.5  476831.2  712550.7\n",
       " [5412]  283969.8  969699.3  733979.8  498260.3  798266.9  926841.2  541118.4\n",
       " [5419]  326827.9  969699.3  412544.1  283969.8  648263.6  476831.2 1033986.5\n",
       " [5426]  691121.7  583976.5  755408.8  391115.0  798266.9  348256.9 1033986.5\n",
       " [5433]  841125.0  669692.6  712550.7  562547.4  519689.3  369686.0  905412.2\n",
       " [5440]  562547.4  798266.9  948270.3  498260.3  841125.0  391115.0  905412.2\n",
       " [5447]  519689.3  605405.5  733979.8  841125.0  755408.8  433973.1  476831.2\n",
       " [5454] 1033986.5  819696.0  326827.9  669692.6  905412.2  283969.8  391115.0\n",
       " [5461]  605405.5  626834.6  883983.1  348256.9  305398.8  412544.1  605405.5\n",
       " [5468]  305398.8  583976.5  433973.1  326827.9  391115.0  862554.1  691121.7\n",
       " [5475]  498260.3  283969.8  948270.3  691121.7  433973.1  562547.4 1033986.5\n",
       " [5482]  819696.0  733979.8  348256.9  798266.9  755408.8  326827.9  948270.3\n",
       " [5489]  969699.3  626834.6 1012557.4  562547.4  905412.2  883983.1  798266.9\n",
       " [5496]  541118.4  798266.9  369686.0  755408.8  926841.2  348256.9  991128.4\n",
       " [5503]  798266.9  476831.2  926841.2  841125.0  969699.3  605405.5  841125.0\n",
       " [5510]  712550.7  283969.8  626834.6  305398.8  541118.4  776837.9  798266.9\n",
       " [5517] 1033986.5  369686.0  669692.6  305398.8  691121.7  905412.2  776837.9\n",
       " [5524]  455402.2  755408.8  326827.9  948270.3  519689.3  669692.6  755408.8\n",
       " [5531]  348256.9  541118.4  498260.3  862554.1  733979.8  583976.5  841125.0\n",
       " [5538]  841125.0  926841.2  776837.9  391115.0  691121.7  305398.8  369686.0\n",
       " [5545]  498260.3  819696.0  776837.9  755408.8  476831.2  905412.2  283969.8\n",
       " [5552]  669692.6  283969.8  476831.2  948270.3  348256.9  626834.6  498260.3\n",
       " [5559]  626834.6  562547.4  841125.0  348256.9 1012557.4  648263.6  305398.8\n",
       " [5566]  412544.1  841125.0  348256.9  926841.2  969699.3  712550.7  369686.0\n",
       " [5573]  391115.0  776837.9  433973.1  498260.3  326827.9  391115.0  733979.8\n",
       " [5580]  348256.9 1012557.4  498260.3  305398.8  841125.0  819696.0  798266.9\n",
       " [5587]  776837.9  583976.5  969699.3  498260.3  755408.8  605405.5  841125.0\n",
       " [5594]  776837.9  948270.3  433973.1  905412.2  819696.0  926841.2  905412.2\n",
       " [5601]  305398.8  369686.0  519689.3  433973.1  541118.4  798266.9  433973.1\n",
       " [5608]  691121.7 1012557.4  733979.8  348256.9  669692.6  519689.3  562547.4\n",
       " [5615]  305398.8  605405.5  348256.9  819696.0  326827.9  476831.2 1033986.5\n",
       " [5622]  926841.2 1012557.4  991128.4  948270.3 1012557.4  648263.6  991128.4\n",
       " [5629]  712550.7  712550.7  605405.5  862554.1  498260.3  862554.1  841125.0\n",
       " [5636] 1012557.4  948270.3  948270.3  326827.9  991128.4  669692.6  969699.3\n",
       " [5643]  348256.9  991128.4  948270.3  519689.3  798266.9  648263.6  326827.9\n",
       " [5650] 1012557.4  733979.8 1033986.5  283969.8  476831.2  626834.6 1033986.5\n",
       " [5657]  498260.3  412544.1  305398.8  583976.5  519689.3  841125.0  391115.0\n",
       " [5664]  541118.4  455402.2  391115.0 1033986.5  433973.1  583976.5  733979.8\n",
       " [5671]  412544.1  391115.0  519689.3  883983.1  948270.3  926841.2  691121.7\n",
       " [5678]  305398.8  819696.0  969699.3  412544.1  819696.0  926841.2  519689.3\n",
       " [5685]  991128.4  412544.1  348256.9  819696.0  519689.3  498260.3  283969.8\n",
       " [5692]  819696.0  391115.0  455402.2  605405.5  712550.7  841125.0  455402.2\n",
       " [5699]  541118.4  776837.9  348256.9 1033986.5  948270.3  862554.1  733979.8\n",
       " [5706]  755408.8  841125.0  969699.3  605405.5  455402.2  733979.8  412544.1\n",
       " [5713]  369686.0  862554.1  283969.8  926841.2  369686.0  712550.7 1033986.5\n",
       " [5720]  283969.8  283969.8  969699.3  776837.9  733979.8  541118.4  776837.9\n",
       " [5727]  862554.1  969699.3  605405.5  712550.7  583976.5  691121.7  391115.0\n",
       " [5734]  369686.0  905412.2  776837.9  991128.4  948270.3  369686.0  412544.1\n",
       " [5741]  348256.9  455402.2  883983.1  605405.5  819696.0  326827.9  626834.6\n",
       " [5748]  283969.8  455402.2  926841.2  412544.1  733979.8  669692.6  733979.8\n",
       " [5755]  926841.2  841125.0 1033986.5  862554.1  391115.0  755408.8  433973.1\n",
       " [5762] 1012557.4  862554.1  691121.7  862554.1  712550.7  991128.4  991128.4\n",
       " [5769]  369686.0 1033986.5  841125.0  948270.3  862554.1  583976.5  883983.1\n",
       " [5776]  519689.3  519689.3  562547.4  498260.3  283969.8  712550.7  862554.1\n",
       " [5783]  541118.4  905412.2  883983.1  733979.8  391115.0  776837.9  883983.1\n",
       " [5790]  712550.7  605405.5  583976.5  798266.9 1033986.5  862554.1  498260.3\n",
       " [5797]  412544.1  605405.5  562547.4  926841.2  305398.8  969699.3  562547.4\n",
       " [5804]  776837.9  862554.1  369686.0  476831.2  519689.3  583976.5  691121.7\n",
       " [5811]  841125.0  691121.7 1012557.4  476831.2  369686.0  305398.8  562547.4\n",
       " [5818]  776837.9  626834.6  476831.2  433973.1  819696.0  905412.2  798266.9\n",
       " [5825]  712550.7  883983.1  498260.3  541118.4  926841.2  755408.8  648263.6\n",
       " [5832]  433973.1  969699.3  562547.4  626834.6 1012557.4  412544.1  476831.2\n",
       " [5839]  541118.4  733979.8  648263.6  476831.2  905412.2  798266.9  862554.1\n",
       " [5846]  819696.0  926841.2 1033986.5  519689.3  476831.2  669692.6  541118.4\n",
       " [5853]  605405.5  755408.8  841125.0  948270.3  326827.9  283969.8  648263.6\n",
       " [5860] 1033986.5  455402.2  412544.1  691121.7  498260.3  305398.8  605405.5\n",
       " [5867]  412544.1  605405.5  798266.9 1033986.5  819696.0  883983.1  369686.0\n",
       " [5874]  841125.0  283969.8  476831.2  455402.2  562547.4  391115.0  969699.3\n",
       " [5881]  926841.2  841125.0  755408.8  776837.9  562547.4  412544.1  862554.1\n",
       " [5888]  283969.8  948270.3  883983.1  326827.9  433973.1  283969.8  712550.7\n",
       " [5895]  969699.3  648263.6  412544.1  519689.3  841125.0  712550.7  583976.5\n",
       " [5902]  755408.8  412544.1  519689.3  776837.9  883983.1  283969.8  412544.1\n",
       " [5909]  476831.2  648263.6  733979.8  712550.7  648263.6  776837.9  948270.3\n",
       " [5916]  669692.6  369686.0  433973.1  798266.9  455402.2  326827.9  369686.0\n",
       " [5923]  926841.2  476831.2  883983.1  691121.7  948270.3  476831.2  883983.1\n",
       " [5930]  776837.9  348256.9  476831.2  519689.3  819696.0  348256.9  326827.9\n",
       " [5937]  948270.3  369686.0  755408.8  412544.1  862554.1 1033986.5  969699.3\n",
       " [5944]  862554.1  519689.3  626834.6  905412.2  476831.2  391115.0  283969.8\n",
       " [5951]  283969.8  648263.6  305398.8  648263.6  476831.2  305398.8  862554.1\n",
       " [5958]  841125.0  369686.0  905412.2  948270.3 1012557.4  626834.6  305398.8\n",
       " [5965]  498260.3  391115.0  433973.1  776837.9  926841.2  369686.0  348256.9\n",
       " [5972]  926841.2  862554.1  755408.8  583976.5  305398.8  476831.2  948270.3\n",
       " [5979]  691121.7  798266.9  648263.6  348256.9  498260.3  626834.6  455402.2\n",
       " [5986]  776837.9  476831.2  433973.1  455402.2  369686.0  562547.4  733979.8\n",
       " [5993]  305398.8  583976.5  326827.9  498260.3  691121.7  755408.8  991128.4\n",
       " [6000]  519689.3  926841.2  669692.6  948270.3  948270.3  348256.9 1033986.5\n",
       " [6007]  326827.9  691121.7  326827.9  755408.8  926841.2  583976.5  776837.9\n",
       " [6014]  583976.5  798266.9 1012557.4  776837.9  562547.4  926841.2  498260.3\n",
       " [6021]  433973.1  669692.6  605405.5  326827.9  948270.3  498260.3  305398.8\n",
       " [6028]  348256.9  648263.6  841125.0  819696.0  776837.9 1033986.5  562547.4\n",
       " [6035]  305398.8  691121.7  712550.7  369686.0  969699.3  369686.0  498260.3\n",
       " [6042]  519689.3  326827.9  541118.4  305398.8  733979.8  412544.1  498260.3\n",
       " [6049] 1033986.5  991128.4  476831.2  776837.9  498260.3  669692.6  969699.3\n",
       " [6056]  691121.7  841125.0  391115.0  326827.9  605405.5  841125.0  648263.6\n",
       " [6063]  712550.7  412544.1  498260.3  669692.6  841125.0  412544.1  926841.2\n",
       " [6070]  412544.1  305398.8  969699.3  862554.1  626834.6  305398.8  841125.0\n",
       " [6077]  433973.1  283969.8  455402.2  562547.4  583976.5  412544.1  541118.4\n",
       " [6084]  969699.3  755408.8  776837.9  455402.2  455402.2  712550.7  926841.2\n",
       " [6091]  498260.3  948270.3  605405.5  648263.6  476831.2  391115.0  605405.5\n",
       " [6098]  755408.8  498260.3  391115.0  305398.8  798266.9  541118.4  348256.9\n",
       " [6105]  391115.0  369686.0  926841.2  626834.6  991128.4  541118.4  819696.0\n",
       " [6112]  476831.2  669692.6  712550.7  476831.2  562547.4  326827.9  926841.2\n",
       " [6119]  605405.5  712550.7  991128.4  712550.7 1033986.5  541118.4  326827.9\n",
       " [6126]  991128.4  455402.2  369686.0  476831.2  819696.0  905412.2  819696.0\n",
       " [6133]  712550.7  905412.2  926841.2  991128.4 1033986.5  562547.4  348256.9\n",
       " [6140]  455402.2  948270.3  541118.4  476831.2  819696.0  733979.8  283969.8\n",
       " [6147]  583976.5 1033986.5  841125.0  562547.4  305398.8  712550.7  348256.9\n",
       " [6154]  605405.5  326827.9  691121.7  712550.7  305398.8  391115.0  862554.1\n",
       " [6161]  433973.1  305398.8  948270.3  969699.3  626834.6  326827.9  498260.3\n",
       " [6168]  691121.7  669692.6  841125.0  626834.6  476831.2  948270.3  669692.6\n",
       " [6175]  433973.1  283969.8 1012557.4  498260.3  755408.8  648263.6  583976.5\n",
       " [6182] 1033986.5  541118.4  476831.2  305398.8  669692.6  305398.8  819696.0\n",
       " [6189]  841125.0  648263.6  755408.8  948270.3  755408.8  841125.0  969699.3\n",
       " [6196]  369686.0  583976.5  391115.0  691121.7  648263.6  841125.0  498260.3\n",
       " [6203]  798266.9  605405.5  798266.9  648263.6  776837.9  883983.1 1033986.5\n",
       " [6210]  991128.4  348256.9  712550.7  969699.3  691121.7  348256.9  626834.6\n",
       " [6217]  669692.6  476831.2  733979.8  433973.1  755408.8  305398.8 1012557.4\n",
       " [6224]  626834.6  648263.6  776837.9  455402.2  733979.8  969699.3  583976.5\n",
       " [6231]  669692.6  798266.9  626834.6  562547.4 1033986.5  712550.7  369686.0\n",
       " [6238]  841125.0  819696.0  283969.8  819696.0 1012557.4  648263.6  755408.8\n",
       " [6245]  498260.3  841125.0  455402.2  391115.0  348256.9  669692.6  455402.2\n",
       " [6252]  541118.4 1012557.4  455402.2  283969.8  498260.3  519689.3  883983.1\n",
       " [6259]  948270.3  948270.3  626834.6  905412.2  776837.9  369686.0  669692.6\n",
       " [6266]  369686.0  412544.1  562547.4  498260.3  755408.8  669692.6  948270.3\n",
       " [6273]  948270.3  926841.2  819696.0  755408.8  926841.2  412544.1  305398.8\n",
       " [6280]  541118.4  841125.0  755408.8  862554.1  948270.3  648263.6  519689.3\n",
       " [6287]  605405.5  648263.6  755408.8  605405.5  283969.8  905412.2  433973.1\n",
       " [6294]  562547.4  562547.4  605405.5  562547.4  476831.2  755408.8  712550.7\n",
       " [6301]  926841.2  969699.3  991128.4  369686.0 1012557.4  626834.6  798266.9\n",
       " [6308]  841125.0  476831.2  862554.1  455402.2  283969.8  391115.0  305398.8\n",
       " [6315]  883983.1  583976.5  562547.4  948270.3 1033986.5  755408.8 1033986.5\n",
       " [6322]  433973.1  412544.1  412544.1  326827.9  691121.7  669692.6  433973.1\n",
       " [6329]  412544.1  348256.9  841125.0  755408.8  476831.2  669692.6  348256.9\n",
       " [6336]  883983.1  733979.8 1033986.5  412544.1  755408.8  626834.6  498260.3\n",
       " [6343]  776837.9 1033986.5  412544.1  476831.2  841125.0  841125.0  541118.4\n",
       " [6350]  626834.6  455402.2 1033986.5  562547.4  841125.0  305398.8  283969.8\n",
       " [6357]  862554.1  905412.2  926841.2  841125.0  691121.7  991128.4  412544.1\n",
       " [6364]  948270.3 1012557.4  605405.5  648263.6  455402.2  926841.2  433973.1\n",
       " [6371]  455402.2  326827.9  755408.8  948270.3  883983.1  905412.2  626834.6\n",
       " [6378]  883983.1  648263.6  948270.3  326827.9  519689.3  455402.2  498260.3\n",
       " [6385]  583976.5  691121.7  862554.1  841125.0  969699.3  862554.1  605405.5\n",
       " [6392]  926841.2  948270.3  862554.1  519689.3  412544.1  305398.8  583976.5\n",
       " [6399]  798266.9  648263.6  819696.0 1033986.5  691121.7  798266.9  969699.3\n",
       " [6406]  391115.0  926841.2  798266.9  755408.8  648263.6  498260.3  798266.9\n",
       " [6413]  883983.1  305398.8  476831.2  412544.1  305398.8  412544.1  948270.3\n",
       " [6420]  412544.1  669692.6  926841.2  991128.4  626834.6  883983.1  455402.2\n",
       " [6427]  969699.3  798266.9  991128.4  669692.6  926841.2  369686.0  733979.8\n",
       " [6434]  755408.8  798266.9  476831.2  648263.6  326827.9  626834.6  305398.8\n",
       " [6441]  519689.3 1033986.5  948270.3  798266.9  755408.8  562547.4  348256.9\n",
       " [6448]  283969.8  841125.0  605405.5  841125.0  455402.2  326827.9  562547.4\n",
       " [6455]  862554.1  369686.0  476831.2  476831.2  905412.2  605405.5  348256.9\n",
       " [6462]  498260.3  691121.7  476831.2  883983.1  283969.8  798266.9  883983.1\n",
       " [6469]  862554.1  798266.9  562547.4  348256.9  498260.3  326827.9  733979.8\n",
       " [6476] 1033986.5  905412.2  455402.2  905412.2  283969.8  455402.2  626834.6\n",
       " [6483]  862554.1  969699.3  926841.2  455402.2  369686.0  648263.6  926841.2\n",
       " [6490]  583976.5  669692.6  391115.0  433973.1  626834.6  348256.9  498260.3\n",
       " [6497]  626834.6  605405.5  605405.5 1012557.4  862554.1 1033986.5  626834.6\n",
       " [6504]  691121.7  755408.8  819696.0  905412.2  283969.8  498260.3  476831.2\n",
       " [6511]  412544.1  819696.0  455402.2  755408.8  862554.1  798266.9  969699.3\n",
       " [6518]  648263.6  883983.1  841125.0  326827.9  883983.1  498260.3  669692.6\n",
       " [6525]  305398.8  412544.1  498260.3  991128.4 1033986.5  626834.6  455402.2\n",
       " [6532]  583976.5  455402.2  969699.3  755408.8  476831.2  969699.3  798266.9\n",
       " [6539]  755408.8  798266.9  583976.5  776837.9  562547.4  905412.2  476831.2\n",
       " [6546]  305398.8  712550.7  798266.9  776837.9  905412.2 1033986.5  798266.9\n",
       " [6553]  776837.9  412544.1  905412.2  626834.6  862554.1  476831.2  541118.4\n",
       " [6560]  862554.1  669692.6  562547.4  648263.6  433973.1  948270.3  412544.1\n",
       " [6567]  798266.9  905412.2  476831.2  862554.1  305398.8  605405.5  391115.0\n",
       " [6574]  883983.1  991128.4  391115.0  669692.6  905412.2  648263.6  776837.9\n",
       " [6581]  862554.1  755408.8  305398.8  519689.3  819696.0  733979.8  562547.4\n",
       " [6588]  862554.1  798266.9  648263.6  626834.6  391115.0  776837.9  648263.6\n",
       " [6595]  669692.6  476831.2  648263.6  541118.4  819696.0  326827.9  455402.2\n",
       " [6602]  926841.2  498260.3  926841.2  626834.6  798266.9  348256.9  969699.3\n",
       " [6609]  326827.9  776837.9  326827.9 1012557.4  605405.5 1012557.4  305398.8\n",
       " [6616]  648263.6  412544.1  498260.3  305398.8  391115.0  433973.1  605405.5\n",
       " [6623]  412544.1  583976.5  926841.2  948270.3  648263.6  519689.3  862554.1\n",
       " [6630]  455402.2 1033986.5  583976.5  391115.0  691121.7  455402.2  412544.1\n",
       " [6637]  583976.5  969699.3  883983.1  669692.6  969699.3  776837.9  926841.2\n",
       " [6644]  412544.1  712550.7  455402.2  455402.2  498260.3  776837.9  755408.8\n",
       " [6651]  712550.7  776837.9  412544.1  391115.0  905412.2  926841.2  862554.1\n",
       " [6658]  562547.4  455402.2  562547.4  605405.5  369686.0  669692.6  862554.1\n",
       " [6665]  862554.1 1033986.5  562547.4  626834.6  498260.3  583976.5  841125.0\n",
       " [6672]  991128.4  991128.4  433973.1  819696.0  883983.1  283969.8  498260.3\n",
       " [6679]  541118.4  776837.9  862554.1  626834.6  476831.2 1012557.4  776837.9\n",
       " [6686]  476831.2 1012557.4 1033986.5  326827.9 1012557.4 1012557.4  819696.0\n",
       " [6693]  583976.5 1033986.5  433973.1  648263.6  755408.8  369686.0  391115.0\n",
       " [6700]  733979.8  369686.0  969699.3  433973.1  455402.2  755408.8  712550.7\n",
       " [6707]  969699.3  755408.8  476831.2  755408.8  841125.0  605405.5  283969.8\n",
       " [6714] 1012557.4  348256.9  969699.3  455402.2  283969.8  905412.2  391115.0\n",
       " [6721]  498260.3  412544.1  926841.2  605405.5  776837.9  862554.1  841125.0\n",
       " [6728]  541118.4  905412.2  669692.6 1033986.5  819696.0  948270.3  369686.0\n",
       " [6735]  669692.6  712550.7  648263.6  862554.1  283969.8  926841.2 1012557.4\n",
       " [6742]  819696.0  948270.3  691121.7  283969.8  541118.4  798266.9  969699.3\n",
       " [6749]  712550.7  948270.3  991128.4  391115.0  412544.1  283969.8  369686.0\n",
       " [6756]  412544.1  969699.3  562547.4  712550.7  862554.1  648263.6  819696.0\n",
       " [6763]  348256.9  712550.7  969699.3  326827.9  776837.9  798266.9  862554.1\n",
       " [6770]  669692.6  776837.9 1012557.4  476831.2  412544.1 1012557.4  433973.1\n",
       " [6777] 1033986.5  326827.9  305398.8  755408.8  541118.4  626834.6  648263.6\n",
       " [6784]  862554.1  648263.6  669692.6 1033986.5  733979.8  476831.2  476831.2\n",
       " [6791]  326827.9  433973.1  948270.3  305398.8  819696.0  412544.1  712550.7\n",
       " [6798]  691121.7  969699.3 1033986.5  841125.0  305398.8  498260.3  626834.6\n",
       " [6805]  991128.4  733979.8  326827.9  991128.4 1012557.4  541118.4  519689.3\n",
       " [6812]  326827.9  798266.9  305398.8  948270.3  433973.1  348256.9  948270.3\n",
       " [6819]  669692.6  433973.1  648263.6  348256.9 1012557.4  883983.1  969699.3\n",
       " [6826]  819696.0  691121.7  991128.4  712550.7  519689.3  991128.4  648263.6\n",
       " [6833]  583976.5  455402.2  648263.6  605405.5  948270.3  819696.0  326827.9\n",
       " [6840]  433973.1  391115.0  926841.2  798266.9  648263.6  283969.8 1033986.5\n",
       " [6847]  626834.6  755408.8  433973.1  626834.6  819696.0  626834.6  283969.8\n",
       " [6854]  326827.9  519689.3  391115.0  841125.0  541118.4  926841.2  519689.3\n",
       " [6861]  669692.6  391115.0  498260.3  326827.9  605405.5  433973.1  562547.4\n",
       " [6868]  605405.5  841125.0  305398.8  305398.8  798266.9 1012557.4  369686.0\n",
       " [6875]  926841.2  841125.0  476831.2  626834.6  905412.2  519689.3  969699.3\n",
       " [6882]  648263.6  648263.6  283969.8  305398.8  391115.0  991128.4  841125.0\n",
       " [6889]  498260.3  348256.9  669692.6  519689.3  433973.1  841125.0  991128.4\n",
       " [6896]  712550.7  541118.4  905412.2  969699.3  519689.3  562547.4  669692.6\n",
       " [6903]  648263.6 1033986.5 1033986.5  519689.3 1012557.4  819696.0  583976.5\n",
       " [6910]  948270.3  733979.8 1033986.5  326827.9  283969.8  433973.1  305398.8\n",
       " [6917] 1012557.4  562547.4  476831.2  476831.2  498260.3  605405.5  498260.3\n",
       " [6924]  326827.9  369686.0  348256.9  626834.6  498260.3  626834.6  412544.1\n",
       " [6931]  605405.5  776837.9  305398.8  905412.2  348256.9  326827.9  476831.2\n",
       " [6938]  819696.0  712550.7  669692.6  605405.5  905412.2  369686.0  476831.2\n",
       " [6945]  883983.1  926841.2  991128.4  712550.7  926841.2  455402.2  712550.7\n",
       " [6952]  369686.0  605405.5  283969.8  841125.0  776837.9 1012557.4  905412.2\n",
       " [6959]  755408.8  841125.0  541118.4  883983.1  948270.3  991128.4  776837.9\n",
       " [6966]  905412.2 1012557.4  926841.2  326827.9 1012557.4  305398.8 1033986.5\n",
       " [6973]  605405.5  283969.8  755408.8 1012557.4  283969.8  669692.6  776837.9\n",
       " [6980]  369686.0  519689.3  905412.2  905412.2  433973.1  733979.8  326827.9\n",
       " [6987] 1033986.5 1033986.5  755408.8  905412.2  841125.0  326827.9  991128.4\n",
       " [6994]  476831.2  605405.5  498260.3  476831.2  969699.3  369686.0  755408.8\n",
       " [7001]  883983.1  905412.2  712550.7  991128.4  583976.5  841125.0  541118.4\n",
       " [7008]  369686.0  798266.9  948270.3  669692.6  305398.8  541118.4  691121.7\n",
       " [7015]  283969.8  476831.2  433973.1  626834.6 1012557.4  305398.8  926841.2\n",
       " [7022]  562547.4  498260.3  862554.1  583976.5  948270.3  969699.3  883983.1\n",
       " [7029]  455402.2  326827.9  326827.9  798266.9  733979.8  626834.6  519689.3\n",
       " [7036] 1012557.4  369686.0  498260.3  755408.8  819696.0  433973.1  541118.4\n",
       " [7043]  391115.0  369686.0  948270.3  519689.3  648263.6  605405.5  605405.5\n",
       " [7050]  348256.9  905412.2  798266.9  305398.8  819696.0  348256.9  905412.2\n",
       " [7057]  755408.8  498260.3  883983.1  669692.6  905412.2  605405.5  326827.9\n",
       " [7064]  391115.0  476831.2  391115.0  841125.0  541118.4  798266.9  605405.5\n",
       " [7071]  412544.1  541118.4  519689.3  326827.9  712550.7  433973.1  798266.9\n",
       " [7078]  798266.9  841125.0  733979.8  776837.9  776837.9 1012557.4  369686.0\n",
       " [7085]  519689.3  519689.3  883983.1  498260.3  433973.1  669692.6  433973.1\n",
       " [7092]  798266.9  305398.8  948270.3  819696.0  948270.3  648263.6  391115.0\n",
       " [7099]  712550.7  883983.1  562547.4  455402.2  712550.7  948270.3  883983.1\n",
       " [7106]  498260.3  305398.8  883983.1  583976.5  669692.6  519689.3  519689.3\n",
       " [7113]  519689.3  969699.3  691121.7  798266.9  562547.4  326827.9  969699.3\n",
       " [7120]  733979.8  798266.9  991128.4  969699.3  755408.8  883983.1  283969.8\n",
       " [7127]  691121.7  905412.2  283969.8  326827.9  905412.2  583976.5  476831.2\n",
       " [7134]  926841.2  433973.1  326827.9 1033986.5  412544.1  605405.5  733979.8\n",
       " [7141]  412544.1  669692.6  348256.9  969699.3  305398.8  841125.0  326827.9\n",
       " [7148]  969699.3  733979.8  969699.3  626834.6  841125.0  283969.8  562547.4\n",
       " [7155]  648263.6  605405.5  755408.8  733979.8  412544.1  883983.1  519689.3\n",
       " [7162]  648263.6  841125.0  391115.0  369686.0  391115.0  519689.3  326827.9\n",
       " [7169]  669692.6  583976.5  412544.1  626834.6  369686.0  755408.8  519689.3\n",
       " [7176]  798266.9  583976.5  498260.3  541118.4  433973.1  369686.0 1033986.5\n",
       " [7183]  433973.1  648263.6  969699.3  626834.6  369686.0  819696.0  883983.1\n",
       " [7190]  369686.0  712550.7  841125.0  519689.3  755408.8 1012557.4  776837.9\n",
       " [7197]  519689.3  476831.2  348256.9  583976.5  712550.7  455402.2  798266.9\n",
       " [7204]  926841.2  948270.3  391115.0  841125.0  583976.5  391115.0  369686.0\n",
       " [7211]  283969.8  712550.7  455402.2  755408.8  819696.0  433973.1  948270.3\n",
       " [7218]  498260.3  348256.9  905412.2 1012557.4  776837.9  412544.1  326827.9\n",
       " [7225]  541118.4  476831.2  926841.2  841125.0  948270.3  819696.0  562547.4\n",
       " [7232]  433973.1  348256.9  841125.0  583976.5  412544.1  369686.0  841125.0\n",
       " [7239]  433973.1  519689.3  283969.8  712550.7  669692.6 1012557.4  455402.2\n",
       " [7246]  905412.2  326827.9  348256.9  391115.0  369686.0  326827.9  776837.9\n",
       " [7253]  476831.2  305398.8  433973.1  733979.8  841125.0  283969.8  883983.1\n",
       " [7260]  455402.2  905412.2  969699.3  648263.6  776837.9  519689.3  348256.9\n",
       " [7267]  519689.3  283969.8  391115.0 1033986.5 1012557.4  626834.6  755408.8\n",
       " [7274]  541118.4  283969.8  519689.3  712550.7  605405.5  562547.4  583976.5\n",
       " [7281]  926841.2  476831.2  519689.3  776837.9 1033986.5  969699.3  369686.0\n",
       " [7288]  583976.5  562547.4  605405.5  433973.1  562547.4  841125.0  433973.1\n",
       " [7295]  926841.2  948270.3  369686.0  305398.8  648263.6  819696.0  669692.6\n",
       " [7302]  626834.6  883983.1  455402.2  583976.5  348256.9  691121.7  969699.3\n",
       " [7309]  798266.9  476831.2  755408.8  498260.3  476831.2  455402.2  391115.0\n",
       " [7316]  841125.0  541118.4  883983.1  369686.0  819696.0  819696.0  798266.9\n",
       " [7323]  412544.1  798266.9  562547.4  926841.2  305398.8 1012557.4  798266.9\n",
       " [7330]  305398.8  991128.4  841125.0  283969.8  926841.2  691121.7  626834.6\n",
       " [7337]  562547.4 1012557.4  476831.2  519689.3  455402.2  755408.8  798266.9\n",
       " [7344]  948270.3  626834.6  819696.0  605405.5  841125.0  669692.6 1012557.4\n",
       " [7351]  369686.0  733979.8  498260.3  776837.9  305398.8  776837.9  733979.8\n",
       " [7358]  669692.6  455402.2  562547.4 1012557.4  798266.9  326827.9  369686.0\n",
       " [7365]  369686.0  605405.5  905412.2  669692.6  755408.8  733979.8  648263.6\n",
       " [7372]  733979.8  433973.1  348256.9  369686.0  369686.0  841125.0  455402.2\n",
       " [7379]  562547.4  776837.9  862554.1 1033986.5  541118.4  369686.0  369686.0\n",
       " [7386]  541118.4  819696.0  991128.4  455402.2  283969.8  283969.8  862554.1\n",
       " [7393]  433973.1  776837.9  969699.3  648263.6  776837.9  669692.6  562547.4\n",
       " [7400] 1012557.4  905412.2  969699.3  305398.8  669692.6  905412.2  841125.0\n",
       " [7407]  841125.0  862554.1  348256.9  605405.5 1012557.4  755408.8  648263.6\n",
       " [7414] 1012557.4  412544.1 1033986.5 1012557.4  605405.5  841125.0  605405.5\n",
       " [7421]  948270.3  305398.8  433973.1  626834.6  926841.2  819696.0  733979.8\n",
       " [7428]  283969.8  733979.8  926841.2  669692.6  562547.4  798266.9  391115.0\n",
       " [7435]  841125.0  412544.1  626834.6  369686.0  562547.4  733979.8  583976.5\n",
       " [7442] 1033986.5  583976.5  648263.6  583976.5 1033986.5  476831.2  948270.3\n",
       " [7449]  541118.4  412544.1  733979.8  798266.9  433973.1  798266.9  883983.1\n",
       " [7456]  305398.8  455402.2  883983.1 1033986.5  391115.0  948270.3  819696.0\n",
       " [7463] 1012557.4  948270.3  391115.0  433973.1  691121.7  433973.1  369686.0\n",
       " [7470]  562547.4  862554.1  519689.3 1012557.4  712550.7  905412.2  691121.7\n",
       " [7477]  283969.8  433973.1  883983.1  776837.9  498260.3  948270.3  733979.8\n",
       " [7484]  798266.9  605405.5  712550.7  991128.4  412544.1  498260.3 1033986.5\n",
       " [7491]  433973.1  669692.6  733979.8  669692.6  691121.7  862554.1  455402.2\n",
       " [7498]  305398.8  605405.5  841125.0  755408.8  691121.7  326827.9  712550.7\n",
       " [7505]  283969.8  648263.6  755408.8  862554.1 1033986.5  733979.8  391115.0\n",
       " [7512]  476831.2  498260.3  883983.1  283969.8 1033986.5  669692.6  369686.0\n",
       " [7519]  733979.8  305398.8  455402.2  669692.6  326827.9  626834.6  541118.4\n",
       " [7526]  991128.4  991128.4  283969.8  305398.8  819696.0  348256.9  583976.5\n",
       " [7533] 1033986.5 1033986.5  369686.0  583976.5  626834.6  798266.9  455402.2\n",
       " [7540]  755408.8  969699.3  862554.1  691121.7  991128.4  583976.5  412544.1\n",
       " [7547]  283969.8  498260.3  412544.1  669692.6  348256.9  348256.9  841125.0\n",
       " [7554]  798266.9 1033986.5  583976.5  991128.4  969699.3  648263.6  605405.5\n",
       " [7561]  969699.3  991128.4  648263.6  433973.1  605405.5  733979.8  883983.1\n",
       " [7568]  283969.8  476831.2  841125.0  819696.0 1033986.5  369686.0  326827.9\n",
       " [7575]  305398.8  283969.8  969699.3  926841.2  883983.1  733979.8  583976.5\n",
       " [7582]  433973.1  819696.0 1012557.4  862554.1  348256.9  455402.2  926841.2\n",
       " [7589]  519689.3  862554.1  519689.3  669692.6  755408.8 1012557.4  691121.7\n",
       " [7596]  369686.0  841125.0  798266.9  883983.1  391115.0  562547.4 1012557.4\n",
       " [7603]  669692.6  305398.8  369686.0  519689.3  541118.4  862554.1  498260.3\n",
       " [7610]  369686.0  605405.5  776837.9  905412.2  733979.8  991128.4  305398.8\n",
       " [7617]  712550.7  519689.3  605405.5  583976.5  541118.4  369686.0  905412.2\n",
       " [7624]  541118.4  798266.9  691121.7  755408.8  776837.9  326827.9  862554.1\n",
       " [7631]  476831.2  883983.1  455402.2  519689.3  669692.6 1012557.4 1012557.4\n",
       " [7638]  326827.9  369686.0  991128.4  605405.5  348256.9  862554.1  733979.8\n",
       " [7645]  969699.3  283969.8  433973.1  991128.4  905412.2  541118.4  326827.9\n",
       " [7652]  391115.0  605405.5 1033986.5  969699.3  283969.8  733979.8  498260.3\n",
       " [7659]  605405.5  605405.5  348256.9  326827.9  969699.3  541118.4  498260.3\n",
       " [7666]  562547.4  841125.0  305398.8  369686.0  369686.0  712550.7  691121.7\n",
       " [7673]  326827.9  819696.0  605405.5  669692.6  733979.8  926841.2  991128.4\n",
       " [7680]  562547.4  369686.0  369686.0 1012557.4  498260.3  433973.1  283969.8\n",
       " [7687]  755408.8  326827.9  305398.8  905412.2  305398.8  433973.1  948270.3\n",
       " [7694]  926841.2  862554.1  583976.5  498260.3 1012557.4  391115.0 1033986.5\n",
       " [7701]  412544.1  476831.2  669692.6  883983.1 1033986.5  991128.4  583976.5\n",
       " [7708]  862554.1  648263.6  305398.8  562547.4  583976.5  498260.3  541118.4\n",
       " [7715]  883983.1  648263.6  562547.4  819696.0  969699.3  862554.1  926841.2\n",
       " [7722]  755408.8 1012557.4  391115.0  369686.0  455402.2  691121.7  348256.9\n",
       " [7729]  391115.0  412544.1  776837.9  605405.5  991128.4  969699.3  755408.8\n",
       " [7736]  562547.4 1033986.5  412544.1  305398.8 1033986.5  991128.4  326827.9\n",
       " [7743]  455402.2  369686.0  519689.3  841125.0  926841.2  476831.2  519689.3\n",
       " [7750]  583976.5  648263.6  883983.1  283969.8  798266.9  776837.9  626834.6\n",
       " [7757]  519689.3  648263.6  691121.7  412544.1  819696.0  583976.5  712550.7\n",
       " [7764]  369686.0  991128.4  798266.9  755408.8  305398.8  669692.6  519689.3\n",
       " [7771]  991128.4  498260.3  776837.9 1033986.5  648263.6  862554.1  519689.3\n",
       " [7778]  626834.6  369686.0  605405.5  391115.0  476831.2  755408.8  648263.6\n",
       " [7785]  498260.3  455402.2  562547.4  326827.9  626834.6  412544.1  733979.8\n",
       " [7792]  969699.3  755408.8  433973.1  819696.0  883983.1  412544.1  519689.3\n",
       " [7799]  541118.4  819696.0  519689.3  519689.3  283969.8  712550.7  605405.5\n",
       " [7806]  712550.7  583976.5  498260.3  605405.5  391115.0  541118.4  412544.1\n",
       " [7813]  498260.3  819696.0  626834.6  691121.7  669692.6  476831.2  605405.5\n",
       " [7820]  348256.9  991128.4  283969.8  391115.0  755408.8  883983.1  969699.3\n",
       " [7827]  776837.9  969699.3  326827.9  712550.7  926841.2  391115.0  669692.6\n",
       " [7834]  755408.8  648263.6  626834.6  348256.9  755408.8  433973.1  626834.6\n",
       " [7841]  798266.9  348256.9  433973.1  883983.1  648263.6  755408.8  755408.8\n",
       " [7848]  348256.9  498260.3  733979.8  755408.8  412544.1  862554.1  883983.1\n",
       " [7855] 1012557.4  519689.3  776837.9  733979.8  412544.1 1033986.5  562547.4\n",
       " [7862]  841125.0  798266.9  798266.9  348256.9  305398.8  969699.3  691121.7\n",
       " [7869]  648263.6  476831.2  883983.1  841125.0  841125.0  755408.8  691121.7\n",
       " [7876]  926841.2  583976.5  926841.2  433973.1  498260.3  926841.2  991128.4\n",
       " [7883]  369686.0  412544.1  476831.2  883983.1  412544.1  391115.0  626834.6\n",
       " [7890]  541118.4  283969.8  583976.5  476831.2  476831.2  712550.7  519689.3\n",
       " [7897] 1033986.5  669692.6  562547.4  733979.8 1033986.5  926841.2  712550.7\n",
       " [7904]  283969.8  755408.8  476831.2  283969.8  669692.6  691121.7  541118.4\n",
       " [7911]  391115.0  583976.5  883983.1  412544.1  605405.5  433973.1 1012557.4\n",
       " [7918]  412544.1  862554.1  476831.2  776837.9  326827.9 1012557.4  348256.9\n",
       " [7925] 1033986.5  841125.0  776837.9  626834.6  369686.0  583976.5  283969.8\n",
       " [7932]  776837.9  691121.7  433973.1  862554.1  326827.9  969699.3  798266.9\n",
       " [7939]  669692.6 1012557.4  648263.6  348256.9  348256.9  348256.9  412544.1\n",
       " [7946]  991128.4  819696.0  348256.9  412544.1  798266.9  476831.2  991128.4\n",
       " [7953]  926841.2  326827.9  391115.0 1033986.5  348256.9  691121.7  348256.9\n",
       " [7960]  583976.5  948270.3  498260.3  519689.3  905412.2  283969.8  283969.8\n",
       " [7967]  348256.9  991128.4 1012557.4  798266.9  305398.8  348256.9  305398.8\n",
       " [7974]  755408.8  755408.8  862554.1  798266.9  476831.2  733979.8  755408.8\n",
       " [7981]  326827.9  712550.7  905412.2  391115.0  991128.4  369686.0  669692.6\n",
       " [7988]  626834.6  455402.2  905412.2  283969.8  605405.5  776837.9  862554.1\n",
       " [7995]  841125.0  562547.4  948270.3  862554.1  862554.1  969699.3  412544.1\n",
       " [8002]  776837.9  669692.6  498260.3  712550.7  712550.7  905412.2  305398.8\n",
       " [8009] 1033986.5  326827.9  605405.5  669692.6  948270.3  541118.4  862554.1\n",
       " [8016]  841125.0  776837.9  391115.0  562547.4  605405.5  583976.5  562547.4\n",
       " [8023]  433973.1  669692.6  583976.5  712550.7  712550.7  712550.7  605405.5\n",
       " [8030]  691121.7 1033986.5  326827.9  691121.7  991128.4  948270.3  755408.8\n",
       " [8037]  519689.3  326827.9  369686.0  798266.9  326827.9  969699.3  455402.2\n",
       " [8044]  433973.1  948270.3  905412.2  926841.2  733979.8  498260.3  326827.9\n",
       " [8051]  798266.9  433973.1  819696.0  519689.3  605405.5  498260.3  412544.1\n",
       " [8058]  283969.8  819696.0  755408.8  969699.3  326827.9  562547.4  455402.2\n",
       " [8065]  712550.7  412544.1  326827.9  926841.2  883983.1  926841.2  733979.8\n",
       " [8072]  841125.0  991128.4  691121.7  498260.3  498260.3  498260.3  348256.9\n",
       " [8079]  755408.8  541118.4  326827.9  305398.8  541118.4  541118.4 1033986.5\n",
       " [8086]  476831.2 1033986.5  412544.1  691121.7  541118.4  841125.0  819696.0\n",
       " [8093]  326827.9  991128.4  391115.0  412544.1 1012557.4  819696.0  819696.0\n",
       " [8100]  348256.9  583976.5  969699.3  412544.1  905412.2  326827.9  541118.4\n",
       " [8107] 1033986.5  862554.1  905412.2 1012557.4  626834.6  969699.3  712550.7\n",
       " [8114]  476831.2 1012557.4  926841.2  391115.0  626834.6  819696.0  755408.8\n",
       " [8121]  841125.0  541118.4  605405.5  969699.3  305398.8  669692.6  433973.1\n",
       " [8128]  798266.9  733979.8  498260.3  348256.9  455402.2  498260.3  905412.2\n",
       " [8135]  455402.2  348256.9  755408.8  433973.1  926841.2  455402.2  583976.5\n",
       " [8142]  519689.3  776837.9  455402.2  926841.2  283969.8  648263.6  348256.9\n",
       " [8149]  412544.1  369686.0  455402.2  455402.2  326827.9  926841.2  498260.3\n",
       " [8156]  583976.5  926841.2  905412.2  283969.8  541118.4  369686.0  948270.3\n",
       " [8163]  819696.0  883983.1 1012557.4  562547.4  798266.9  498260.3  841125.0\n",
       " [8170] 1012557.4  991128.4  691121.7  905412.2  391115.0  562547.4  798266.9\n",
       " [8177]  691121.7  326827.9  926841.2  626834.6  798266.9  369686.0  991128.4\n",
       " [8184]  283969.8  562547.4  476831.2  519689.3  369686.0  712550.7  476831.2\n",
       " [8191]  819696.0  669692.6  583976.5  969699.3  669692.6  969699.3  883983.1\n",
       " [8198]  476831.2  841125.0  605405.5 1012557.4  948270.3  648263.6  583976.5\n",
       " [8205]  648263.6  283969.8  776837.9  969699.3  862554.1  862554.1  648263.6\n",
       " [8212]  948270.3 1012557.4  798266.9  541118.4  562547.4  733979.8  541118.4\n",
       " [8219]  348256.9  626834.6  969699.3  605405.5  562547.4  691121.7  691121.7\n",
       " [8226]  519689.3  712550.7 1012557.4  948270.3  712550.7  841125.0  926841.2\n",
       " [8233]  712550.7  926841.2  969699.3  626834.6  798266.9  841125.0  626834.6\n",
       " [8240]  433973.1  755408.8  476831.2  905412.2  326827.9  841125.0  326827.9\n",
       " [8247]  712550.7  433973.1  283969.8  541118.4  626834.6  326827.9  841125.0\n",
       " [8254]  669692.6  969699.3  476831.2  433973.1 1012557.4 1033986.5  519689.3\n",
       " [8261]  691121.7  883983.1  669692.6  283969.8 1012557.4  305398.8  562547.4\n",
       " [8268]  991128.4  583976.5  648263.6 1012557.4  369686.0  605405.5  605405.5\n",
       " [8275]  841125.0  819696.0  776837.9  605405.5  926841.2  905412.2  733979.8\n",
       " [8282]  326827.9 1033986.5  991128.4  648263.6  476831.2  819696.0 1033986.5\n",
       " [8289]  498260.3  626834.6  712550.7  626834.6  433973.1  562547.4  948270.3\n",
       " [8296]  369686.0  905412.2  433973.1  712550.7  605405.5  348256.9  626834.6\n",
       " [8303]  626834.6  969699.3  583976.5  819696.0  626834.6  412544.1  648263.6\n",
       " [8310]  798266.9  991128.4  798266.9  391115.0  433973.1  798266.9  476831.2\n",
       " [8317]  862554.1  776837.9  648263.6  991128.4  948270.3  841125.0  626834.6\n",
       " [8324]  798266.9  948270.3  283969.8  648263.6  648263.6 1012557.4  905412.2\n",
       " [8331]  776837.9  862554.1  605405.5  541118.4  348256.9  476831.2  905412.2\n",
       " [8338]  391115.0  755408.8  412544.1  926841.2  348256.9  498260.3  605405.5\n",
       " [8345]  883983.1  583976.5  883983.1  583976.5 1033986.5  455402.2  948270.3\n",
       " [8352]  605405.5  712550.7  969699.3  605405.5  498260.3  412544.1  605405.5\n",
       " [8359]  433973.1  369686.0  433973.1  348256.9  541118.4  369686.0  412544.1\n",
       " [8366]  819696.0  519689.3  819696.0  498260.3  905412.2  305398.8  776837.9\n",
       " [8373]  433973.1  733979.8  691121.7  541118.4  562547.4  969699.3  798266.9\n",
       " [8380]  969699.3  519689.3  305398.8 1033986.5  969699.3  819696.0  326827.9\n",
       " [8387]  755408.8  541118.4  433973.1 1012557.4  519689.3  498260.3  883983.1\n",
       " [8394]  733979.8  391115.0  369686.0  733979.8  798266.9  819696.0  412544.1\n",
       " [8401]  541118.4  326827.9  969699.3  948270.3  412544.1  798266.9  926841.2\n",
       " [8408]  798266.9  669692.6  519689.3  733979.8  519689.3  691121.7  926841.2\n",
       " [8415]  583976.5  541118.4 1012557.4  476831.2  883983.1  669692.6  969699.3\n",
       " [8422]  712550.7  691121.7  841125.0  605405.5  348256.9  626834.6  391115.0\n",
       " [8429]  926841.2  669692.6  883983.1  412544.1  348256.9  712550.7  369686.0\n",
       " [8436]  498260.3  691121.7  883983.1  476831.2  669692.6  412544.1  776837.9\n",
       " [8443]  562547.4  476831.2  948270.3  926841.2  326827.9  648263.6  755408.8\n",
       " [8450]  283969.8  905412.2  391115.0  798266.9  369686.0  498260.3  455402.2\n",
       " [8457]  433973.1  905412.2  948270.3  733979.8  348256.9  862554.1  348256.9\n",
       " [8464]  541118.4  391115.0  391115.0  948270.3  841125.0  583976.5  841125.0\n",
       " [8471]  583976.5  712550.7  905412.2  519689.3  326827.9  776837.9  776837.9\n",
       " [8478]  283969.8  305398.8  862554.1  648263.6  691121.7  562547.4  348256.9\n",
       " [8485]  283969.8  498260.3  862554.1  541118.4  412544.1  476831.2  841125.0\n",
       " [8492]  626834.6  391115.0  926841.2  369686.0  905412.2  562547.4  326827.9\n",
       " [8499]  433973.1  712550.7  369686.0  991128.4  283969.8  283969.8  776837.9\n",
       " [8506]  283969.8  348256.9  883983.1  455402.2  733979.8  583976.5  841125.0\n",
       " [8513]  583976.5  348256.9  455402.2  626834.6  476831.2  669692.6  348256.9\n",
       " [8520]  948270.3  283969.8  712550.7  733979.8  733979.8  776837.9  841125.0\n",
       " [8527]  776837.9  755408.8  348256.9 1012557.4  541118.4  391115.0  519689.3\n",
       " [8534]  369686.0  862554.1  712550.7 1033986.5  648263.6  283969.8  476831.2\n",
       " [8541]  819696.0  498260.3  412544.1  691121.7  883983.1  905412.2  991128.4\n",
       " [8548]  369686.0  948270.3  798266.9  926841.2  519689.3  326827.9  498260.3\n",
       " [8555]  391115.0  819696.0  862554.1  969699.3  991128.4  626834.6  883983.1\n",
       " [8562]  819696.0  541118.4 1033986.5  712550.7  562547.4  391115.0  305398.8\n",
       " [8569]  433973.1  626834.6  755408.8  348256.9  455402.2  883983.1  948270.3\n",
       " [8576]  733979.8  605405.5  948270.3  476831.2  776837.9  712550.7  841125.0\n",
       " [8583]  776837.9  669692.6  841125.0  926841.2 1033986.5  755408.8  541118.4\n",
       " [8590]  755408.8  541118.4  991128.4  776837.9  519689.3  562547.4  755408.8\n",
       " [8597]  819696.0  391115.0  991128.4  648263.6  583976.5  905412.2  883983.1\n",
       " [8604]  348256.9  862554.1  476831.2  348256.9  391115.0  691121.7  369686.0\n",
       " [8611]  583976.5  455402.2  819696.0  669692.6  626834.6  712550.7  926841.2\n",
       " [8618]  433973.1  433973.1 1033986.5  455402.2  626834.6  862554.1  476831.2\n",
       " [8625]  648263.6  883983.1  776837.9  991128.4  712550.7  326827.9  648263.6\n",
       " [8632]  541118.4  562547.4  841125.0  605405.5  283969.8  776837.9  348256.9\n",
       " [8639]  541118.4  691121.7  369686.0  476831.2  519689.3  862554.1  369686.0\n",
       " [8646]  348256.9  305398.8  969699.3  433973.1  626834.6  948270.3  519689.3\n",
       " [8653]  326827.9 1012557.4  348256.9  841125.0  841125.0  969699.3  626834.6\n",
       " [8660]  283969.8  991128.4  991128.4  433973.1  819696.0  455402.2  733979.8\n",
       " [8667]  562547.4  776837.9  283969.8  391115.0  776837.9  819696.0  669692.6\n",
       " [8674] 1033986.5  562547.4  305398.8  691121.7  326827.9  733979.8  776837.9\n",
       " [8681]  455402.2  969699.3  476831.2  305398.8  283969.8  583976.5  926841.2\n",
       " [8688]  755408.8 1033986.5  498260.3  948270.3  776837.9  626834.6  391115.0\n",
       " [8695]  541118.4  369686.0  348256.9 1033986.5  412544.1  541118.4  455402.2\n",
       " [8702]  712550.7 1012557.4  776837.9  455402.2  348256.9  562547.4  391115.0\n",
       " [8709]  926841.2  862554.1  883983.1  498260.3  305398.8  733979.8  412544.1\n",
       " [8716]  305398.8  691121.7  862554.1  583976.5  755408.8  669692.6  755408.8\n",
       " [8723]  519689.3  519689.3  669692.6  455402.2  391115.0  455402.2  305398.8\n",
       " [8730]  583976.5  733979.8  948270.3  412544.1  969699.3  905412.2  648263.6\n",
       " [8737]  776837.9  755408.8  455402.2  369686.0  991128.4  819696.0  691121.7\n",
       " [8744]  819696.0  562547.4  755408.8  476831.2  648263.6  905412.2  862554.1\n",
       " [8751]  905412.2  841125.0  798266.9  755408.8  926841.2 1012557.4  712550.7\n",
       " [8758]  562547.4  948270.3  433973.1  605405.5  391115.0  369686.0  476831.2\n",
       " [8765]  819696.0  519689.3  498260.3  712550.7  926841.2  991128.4  905412.2\n",
       " [8772]  776837.9  691121.7  926841.2  969699.3  648263.6  348256.9  326827.9\n",
       " [8779] 1033986.5  519689.3  862554.1  798266.9  926841.2  755408.8  991128.4\n",
       " [8786]  819696.0  455402.2  819696.0  305398.8  712550.7  648263.6  712550.7\n",
       " [8793]  626834.6  991128.4  969699.3  948270.3  348256.9  305398.8  969699.3\n",
       " [8800]  305398.8  691121.7  712550.7  326827.9  541118.4  841125.0  862554.1\n",
       " [8807]  755408.8  369686.0  455402.2  798266.9  583976.5  519689.3  926841.2\n",
       " [8814]  755408.8  669692.6  755408.8 1012557.4  926841.2  733979.8  798266.9\n",
       " [8821]  712550.7  605405.5  691121.7  476831.2  519689.3  326827.9  819696.0\n",
       " [8828]  712550.7  905412.2  841125.0 1033986.5  476831.2  883983.1  969699.3\n",
       " [8835] 1012557.4  862554.1  605405.5  541118.4  712550.7 1033986.5  283969.8\n",
       " [8842]  819696.0  798266.9  519689.3  476831.2  691121.7  712550.7  776837.9\n",
       " [8849]  498260.3  926841.2  862554.1  798266.9  755408.8  648263.6  819696.0\n",
       " [8856]  776837.9  991128.4  948270.3  991128.4  283969.8  669692.6  283969.8\n",
       " [8863]  648263.6  283969.8  648263.6  691121.7  819696.0  626834.6 1012557.4\n",
       " [8870]  883983.1  562547.4 1012557.4  455402.2  283969.8  305398.8  519689.3\n",
       " [8877]  476831.2  583976.5  519689.3  969699.3  926841.2  348256.9  733979.8\n",
       " [8884]  883983.1 1012557.4  541118.4  648263.6 1012557.4  562547.4  605405.5\n",
       " [8891]  305398.8  455402.2  605405.5  541118.4  691121.7  819696.0  733979.8\n",
       " [8898]  305398.8  969699.3  562547.4  283969.8  776837.9  798266.9  498260.3\n",
       " [8905]  626834.6  283969.8  305398.8  691121.7 1012557.4  755408.8  755408.8\n",
       " [8912]  926841.2  476831.2  498260.3  819696.0  476831.2  798266.9  648263.6\n",
       " [8919]  798266.9  391115.0  841125.0  755408.8  819696.0  583976.5  669692.6\n",
       " [8926]  412544.1  283969.8  755408.8  733979.8  733979.8 1033986.5  733979.8\n",
       " [8933]  348256.9  948270.3  969699.3  841125.0  391115.0  948270.3  755408.8\n",
       " [8940]  498260.3  433973.1  712550.7  648263.6  862554.1  455402.2  498260.3\n",
       " [8947]  883983.1  519689.3  969699.3  862554.1  755408.8  669692.6  541118.4\n",
       " [8954]  841125.0  369686.0  455402.2  326827.9  626834.6  369686.0  348256.9\n",
       " [8961]  669692.6  369686.0  669692.6  283969.8  283969.8  883983.1 1012557.4\n",
       " [8968]  562547.4  519689.3  905412.2  283969.8  798266.9  669692.6  755408.8\n",
       " [8975]  498260.3  305398.8  455402.2  776837.9  433973.1  712550.7  369686.0\n",
       " [8982]  991128.4  433973.1  305398.8  562547.4  476831.2  755408.8 1012557.4\n",
       " [8989]  883983.1  541118.4  519689.3  733979.8  755408.8  948270.3  305398.8\n",
       " [8996] 1033986.5  991128.4  798266.9  541118.4  648263.6  605405.5  562547.4\n",
       " [9003]  562547.4  798266.9  305398.8  948270.3  862554.1  969699.3  862554.1\n",
       " [9010]  369686.0  412544.1  412544.1  905412.2  455402.2  519689.3  326827.9\n",
       " [9017]  626834.6  391115.0  926841.2  691121.7  776837.9  583976.5  905412.2\n",
       " [9024]  905412.2  455402.2  969699.3  626834.6  755408.8  605405.5  691121.7\n",
       " [9031]  476831.2  519689.3  541118.4  541118.4  455402.2  562547.4  691121.7\n",
       " [9038]  926841.2  841125.0  862554.1 1012557.4  669692.6  283969.8  905412.2\n",
       " [9045]  305398.8  476831.2  498260.3  348256.9  519689.3  883983.1  562547.4\n",
       " [9052]  519689.3  819696.0  948270.3  605405.5  369686.0  605405.5  498260.3\n",
       " [9059]  391115.0  433973.1  669692.6  969699.3  969699.3  755408.8  841125.0\n",
       " [9066]  862554.1  305398.8  755408.8  391115.0  862554.1  905412.2  455402.2\n",
       " [9073]  391115.0  905412.2  669692.6  969699.3  905412.2  283969.8  841125.0\n",
       " [9080]  691121.7  605405.5  326827.9  712550.7  948270.3  648263.6  776837.9\n",
       " [9087]  391115.0  541118.4  348256.9  283969.8  776837.9  669692.6  412544.1\n",
       " [9094]  669692.6  691121.7  862554.1  776837.9  883983.1  819696.0  862554.1\n",
       " [9101]  605405.5  883983.1  991128.4  691121.7  369686.0  455402.2  305398.8\n",
       " [9108]  583976.5  369686.0  905412.2  841125.0  819696.0  776837.9  648263.6\n",
       " [9115]  755408.8  819696.0  283969.8  455402.2  905412.2  626834.6  433973.1\n",
       " [9122]  712550.7  519689.3  626834.6  455402.2  819696.0  476831.2  712550.7\n",
       " [9129]  991128.4  348256.9  648263.6  648263.6  819696.0  948270.3  283969.8\n",
       " [9136] 1012557.4  455402.2  926841.2  691121.7  969699.3  391115.0  883983.1\n",
       " [9143]  283969.8  369686.0  305398.8 1012557.4  991128.4  541118.4 1012557.4\n",
       " [9150]  926841.2  969699.3  776837.9  519689.3  605405.5  348256.9  562547.4\n",
       " [9157]  648263.6  755408.8  733979.8  369686.0  648263.6  412544.1  798266.9\n",
       " [9164]  755408.8  391115.0  969699.3  733979.8  969699.3  733979.8  969699.3\n",
       " [9171]  283969.8  755408.8  348256.9  691121.7  819696.0  433973.1  948270.3\n",
       " [9178]  369686.0  326827.9  369686.0  691121.7  476831.2  862554.1  476831.2\n",
       " [9185]  283969.8  476831.2  755408.8  969699.3 1033986.5  798266.9  369686.0\n",
       " [9192] 1012557.4  541118.4  755408.8  819696.0  948270.3  669692.6  776837.9\n",
       " [9199]  691121.7  476831.2  712550.7  455402.2  841125.0  648263.6  991128.4\n",
       " [9206]  326827.9  583976.5  519689.3  305398.8  819696.0  905412.2 1033986.5\n",
       " [9213]  991128.4  948270.3  883983.1  562547.4  476831.2  948270.3  669692.6\n",
       " [9220]  455402.2  776837.9  583976.5  905412.2  733979.8  948270.3  669692.6\n",
       " [9227]  733979.8  391115.0  433973.1  905412.2  476831.2  841125.0  733979.8\n",
       " [9234]  583976.5  905412.2  562547.4  862554.1  948270.3  648263.6  733979.8\n",
       " [9241]  369686.0  798266.9  605405.5  991128.4  691121.7 1012557.4  283969.8\n",
       " [9248]  969699.3  648263.6  305398.8  776837.9  969699.3  498260.3  733979.8\n",
       " [9255]  498260.3  605405.5  883983.1  883983.1  969699.3  541118.4  626834.6\n",
       " [9262]  648263.6  626834.6  369686.0  948270.3  433973.1  798266.9  669692.6\n",
       " [9269]  476831.2  626834.6  369686.0  841125.0  369686.0  626834.6  712550.7\n",
       " [9276]  605405.5  991128.4  991128.4  326827.9  283969.8  755408.8  883983.1\n",
       " [9283] 1033986.5  605405.5  519689.3  669692.6  648263.6  348256.9  283969.8\n",
       " [9290]  476831.2  926841.2  476831.2 1012557.4  776837.9  841125.0  476831.2\n",
       " [9297]  583976.5  733979.8  669692.6  455402.2  733979.8  476831.2  283969.8\n",
       " [9304]  541118.4  283969.8  433973.1  433973.1  626834.6  326827.9  776837.9\n",
       " [9311]  819696.0  498260.3  498260.3  648263.6  991128.4  519689.3  283969.8\n",
       " [9318]  626834.6  455402.2  283969.8  433973.1  755408.8  733979.8  819696.0\n",
       " [9325]  583976.5  841125.0  391115.0  712550.7  712550.7  712550.7  455402.2\n",
       " [9332]  841125.0  991128.4  433973.1  305398.8  905412.2  562547.4  412544.1\n",
       " [9339]  798266.9  819696.0  498260.3  305398.8 1012557.4  648263.6  776837.9\n",
       " [9346]  798266.9  776837.9  905412.2  648263.6  991128.4  583976.5  433973.1\n",
       " [9353]  819696.0  348256.9  798266.9  733979.8  326827.9  326827.9  283969.8\n",
       " [9360]  498260.3  541118.4  969699.3  969699.3  733979.8  819696.0  476831.2\n",
       " [9367]  691121.7  755408.8  883983.1  283969.8  519689.3 1033986.5  519689.3\n",
       " [9374]  819696.0  991128.4  305398.8  841125.0 1012557.4  412544.1  691121.7\n",
       " [9381]  369686.0  455402.2 1033986.5  841125.0  391115.0  305398.8  755408.8\n",
       " [9388] 1012557.4  733979.8  583976.5  369686.0  562547.4  369686.0  562547.4\n",
       " [9395]  755408.8  369686.0  733979.8  969699.3 1033986.5  519689.3  776837.9\n",
       " [9402]  626834.6  991128.4  883983.1  905412.2  391115.0  498260.3  519689.3\n",
       " [9409]  883983.1  433973.1  519689.3  862554.1  626834.6  669692.6  648263.6\n",
       " [9416]  926841.2  476831.2  841125.0 1033986.5  583976.5  905412.2  433973.1\n",
       " [9423]  733979.8  776837.9  541118.4  841125.0  669692.6  691121.7  455402.2\n",
       " [9430]  562547.4  648263.6  841125.0  862554.1  433973.1  605405.5  498260.3\n",
       " [9437]  583976.5  776837.9  498260.3  326827.9  733979.8  519689.3  798266.9\n",
       " [9444]  841125.0  412544.1  648263.6  776837.9  991128.4  819696.0  562547.4\n",
       " [9451]  755408.8  498260.3  691121.7  926841.2  476831.2  348256.9  433973.1\n",
       " [9458] 1033986.5  905412.2  798266.9  583976.5  883983.1  391115.0  541118.4\n",
       " [9465]  798266.9  626834.6  626834.6  926841.2  841125.0  498260.3  348256.9\n",
       " [9472]  519689.3  562547.4  391115.0  412544.1  476831.2  969699.3  326827.9\n",
       " [9479] 1012557.4  669692.6  476831.2  819696.0  733979.8  712550.7  819696.0\n",
       " [9486]  862554.1  669692.6  305398.8  969699.3  819696.0  412544.1  969699.3\n",
       " [9493]  541118.4  712550.7  648263.6  798266.9  712550.7  776837.9  583976.5\n",
       " [9500]  712550.7  498260.3  305398.8  733979.8  369686.0  926841.2  991128.4\n",
       " [9507]  798266.9  691121.7  605405.5  326827.9  969699.3  905412.2  969699.3\n",
       " [9514]  755408.8  991128.4  991128.4  948270.3  583976.5  326827.9  562547.4\n",
       " [9521]  455402.2  583976.5  562547.4  412544.1  498260.3  391115.0  862554.1\n",
       " [9528]  605405.5  562547.4  369686.0  905412.2  841125.0  455402.2  583976.5\n",
       " [9535]  819696.0  283969.8  733979.8  541118.4  412544.1  476831.2  862554.1\n",
       " [9542]  541118.4  433973.1 1012557.4  476831.2  455402.2  691121.7  498260.3\n",
       " [9549]  883983.1  348256.9  712550.7  712550.7  541118.4  862554.1  948270.3\n",
       " [9556]  798266.9  819696.0  433973.1  433973.1 1012557.4  905412.2  433973.1\n",
       " [9563]  733979.8  455402.2  433973.1  583976.5  519689.3  819696.0  669692.6\n",
       " [9570]  969699.3  755408.8  755408.8  626834.6  926841.2  819696.0  755408.8\n",
       " [9577]  348256.9  605405.5  991128.4  283969.8  905412.2  369686.0  691121.7\n",
       " [9584]  583976.5  519689.3  369686.0  305398.8  691121.7  926841.2  883983.1\n",
       " [9591]  969699.3  348256.9  412544.1  562547.4  305398.8  369686.0  562547.4\n",
       " [9598]  733979.8  326827.9  905412.2  541118.4  326827.9  583976.5  926841.2\n",
       " [9605]  755408.8  798266.9  455402.2  969699.3  283969.8  305398.8  605405.5\n",
       " [9612]  433973.1  991128.4  433973.1  519689.3  991128.4  433973.1 1033986.5\n",
       " [9619]  412544.1  669692.6  883983.1  455402.2  519689.3  626834.6  691121.7\n",
       " [9626]  369686.0  605405.5  326827.9  883983.1  583976.5  798266.9 1033986.5\n",
       " [9633]  519689.3  776837.9  412544.1  369686.0  819696.0  841125.0  669692.6\n",
       " [9640]  948270.3  712550.7  776837.9  969699.3  841125.0  841125.0  348256.9\n",
       " [9647]  626834.6  776837.9  905412.2  991128.4  519689.3 1012557.4  648263.6\n",
       " [9654]  926841.2  326827.9  969699.3  391115.0  626834.6  562547.4  369686.0\n",
       " [9661]  648263.6  991128.4  541118.4  733979.8  412544.1  433973.1  519689.3\n",
       " [9668]  776837.9  648263.6 1033986.5  776837.9  519689.3  648263.6  862554.1\n",
       " [9675]  283969.8 1033986.5  755408.8  776837.9  948270.3  476831.2 1012557.4\n",
       " [9682]  562547.4  648263.6  669692.6  691121.7  841125.0  412544.1  755408.8\n",
       " [9689]  691121.7  862554.1  712550.7  305398.8  348256.9  348256.9  948270.3\n",
       " [9696]  883983.1  733979.8  691121.7  476831.2  883983.1  883983.1 1033986.5\n",
       " [9703]  776837.9  583976.5  798266.9  519689.3 1012557.4  691121.7  669692.6\n",
       " [9710]  648263.6  412544.1  862554.1  926841.2  905412.2  433973.1  605405.5\n",
       " [9717]  733979.8  541118.4  369686.0  926841.2  669692.6  819696.0  391115.0\n",
       " [9724]  712550.7  841125.0  583976.5  669692.6 1012557.4  819696.0  498260.3\n",
       " [9731]  669692.6  283969.8  712550.7  691121.7  283969.8  412544.1  991128.4\n",
       " [9738]  776837.9 1012557.4  476831.2  755408.8  712550.7  412544.1  433973.1\n",
       " [9745]  519689.3  755408.8  326827.9  519689.3  541118.4  883983.1  862554.1\n",
       " [9752]  991128.4  391115.0  948270.3  841125.0  883983.1  326827.9  326827.9\n",
       " [9759]  755408.8  691121.7  541118.4  948270.3  691121.7  369686.0  776837.9\n",
       " [9766]  626834.6 1033986.5  412544.1  562547.4  455402.2  712550.7  905412.2\n",
       " [9773]  841125.0  412544.1  669692.6  862554.1  476831.2  519689.3  519689.3\n",
       " [9780]  541118.4  369686.0  583976.5  755408.8  905412.2  648263.6  755408.8\n",
       " [9787]  283969.8  433973.1  519689.3  776837.9  348256.9  455402.2  969699.3\n",
       " [9794]  905412.2  326827.9  841125.0  519689.3  798266.9  926841.2  798266.9\n",
       " [9801]  433973.1  755408.8  648263.6  712550.7  605405.5  841125.0  455402.2\n",
       " [9808]  862554.1  991128.4  541118.4  626834.6  733979.8  798266.9  648263.6\n",
       " [9815]  776837.9  605405.5  583976.5  498260.3  841125.0  433973.1 1033986.5\n",
       " [9822]  926841.2  455402.2  583976.5  691121.7  433973.1  476831.2  348256.9\n",
       " [9829]  776837.9  669692.6  691121.7  669692.6  433973.1  755408.8  948270.3\n",
       " [9836]  691121.7  755408.8  948270.3  391115.0  648263.6  883983.1  948270.3\n",
       " [9843] 1033986.5  712550.7  626834.6  326827.9  712550.7  498260.3  862554.1\n",
       " [9850]  605405.5  348256.9  626834.6  433973.1  883983.1  669692.6  626834.6\n",
       " [9857]  776837.9  926841.2  969699.3  562547.4 1033986.5  841125.0  283969.8\n",
       " [9864]  305398.8  305398.8 1012557.4  733979.8  605405.5 1012557.4 1033986.5\n",
       " [9871]  519689.3  605405.5  498260.3  605405.5  391115.0  283969.8  305398.8\n",
       " [9878]  305398.8  519689.3  498260.3  755408.8  862554.1  326827.9  819696.0\n",
       " [9885]  991128.4  776837.9  283969.8  433973.1  712550.7  969699.3  455402.2\n",
       " [9892]  691121.7  305398.8  562547.4  648263.6 1033986.5  841125.0  369686.0\n",
       " [9899]  391115.0  369686.0  583976.5  648263.6  476831.2  948270.3  776837.9\n",
       " [9906]  733979.8  798266.9  605405.5  519689.3  905412.2  883983.1  498260.3\n",
       " [9913]  283969.8  883983.1  541118.4  733979.8  883983.1 1033986.5  626834.6\n",
       " [9920]  519689.3  391115.0  841125.0  819696.0  669692.6  991128.4  819696.0\n",
       " [9927] 1012557.4  562547.4  733979.8 1012557.4  391115.0  712550.7  691121.7\n",
       " [9934]  883983.1  669692.6  541118.4  969699.3  669692.6  541118.4  305398.8\n",
       " [9941]  626834.6  433973.1  605405.5  583976.5  519689.3  905412.2  498260.3\n",
       " [9948]  669692.6  305398.8  541118.4 1033986.5  305398.8  883983.1 1012557.4\n",
       " [9955]  948270.3  476831.2  905412.2  498260.3  755408.8  669692.6  476831.2\n",
       " [9962]  905412.2  433973.1  948270.3  305398.8  776837.9  498260.3  862554.1\n",
       " [9969]  669692.6  541118.4  798266.9  455402.2  948270.3  648263.6  991128.4\n",
       " [9976]  669692.6  712550.7  476831.2  991128.4  755408.8  669692.6  755408.8\n",
       " [9983]  712550.7  369686.0  733979.8  562547.4  776837.9  305398.8  712550.7\n",
       " [9990]  883983.1 1012557.4  348256.9  326827.9  305398.8  283969.8  991128.4\n",
       " [9997]  455402.2  626834.6 1033986.5  583976.5"
      ]
     },
     "metadata": {},
     "output_type": "display_data"
    }
   ],
   "source": [
    "vec_vpn2 #Cambios en el valor presente neto ante cambio en el precio"
   ]
  },
  {
   "cell_type": "code",
   "execution_count": 84,
   "metadata": {
    "slideshow": {
     "slide_type": "subslide"
    }
   },
   "outputs": [
    {
     "data": {
      "image/png": "[encoded data removed]",
      "text/plain": [
       "Plot with title \"Análisis de sensibilidad de precio\""
      ]
     },
     "metadata": {
      "image/png": {
       "height": 420,
       "width": 420
      },
      "text/plain": {
       "height": 420,
       "width": 420
      }
     },
     "output_type": "display_data"
    }
   ],
   "source": [
    "# Gráficas de sensibilidad de precios\n",
    "x11();plot(vec_precio,vec_vpn2,type=\"l\",xlim=c(2000,8000),xlab = \"Precio\",ylab=\"VPN\", main = \"Análisis de sensibilidad de precio\")"
   ]
  }
 ],
 "metadata": {
  "celltoolbar": "Slideshow",
  "kernelspec": {
   "display_name": "R",
   "language": "R",
   "name": "ir"
  },
  "language_info": {
   "codemirror_mode": "r",
   "file_extension": ".r",
   "mimetype": "text/x-r-source",
   "name": "R",
   "pygments_lexer": "r",
   "version": "3.6.2"
  }
 },
 "nbformat": 4,
 "nbformat_minor": 2
}
