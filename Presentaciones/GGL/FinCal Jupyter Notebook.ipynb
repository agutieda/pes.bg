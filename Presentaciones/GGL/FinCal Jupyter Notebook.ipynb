{
 "cells": [
  {
   "cell_type": "markdown",
   "metadata": {
    "slideshow": {
     "slide_type": "slide"
    }
   },
   "source": [
    "# Proyecto Final: Librería FinCal\n",
    "\n",
    "Programacion II\n",
    "\n",
    "Programa de Estudios Superiores\n",
    "\n",
    "Banco de Guatemala\n",
    "\n",
    "# Integrantes:\n",
    "\n",
    "Marianna Guzmán \n",
    "\n",
    "Joaquín Gordillo Sajbín \n",
    "\n",
    "Luis Lemus Mackay"
   ]
  },
  {
   "cell_type": "code",
   "execution_count": null,
   "metadata": {
    "slideshow": {
     "slide_type": "skip"
    }
   },
   "outputs": [],
   "source": [
    "graphics.off(); rm(list=ls());\n",
    "ls()"
   ]
  },
  {
   "cell_type": "markdown",
   "metadata": {
    "slideshow": {
     "slide_type": "slide"
    }
   },
   "source": [
    "# FinCal\n",
    "\n",
    "Es un paquete para el cálculo del valor del dinero en el tiempo, análisis de series temporales y finanzas computacionales.\n",
    "\n",
    "LIBRERÍA A UTILIZAR\n",
    "\n",
    "FinCal está disponible en [CRAN] (http://cran.r-project.org/web/packages/FinCal/) \n"
   ]
  },
  {
   "cell_type": "code",
   "execution_count": 1,
   "metadata": {
    "slideshow": {
     "slide_type": "fragment"
    }
   },
   "outputs": [
    {
     "name": "stderr",
     "output_type": "stream",
     "text": [
      "Installing package into 'C:/Users/IN_CAP02/Documents/R/win-library/3.6'\n",
      "(as 'lib' is unspecified)\n",
      "\n"
     ]
    },
    {
     "name": "stdout",
     "output_type": "stream",
     "text": [
      "package 'FinCal' successfully unpacked and MD5 sums checked\n",
      "\n",
      "The downloaded binary packages are in\n",
      "\tC:\\Users\\IN_CAP02\\AppData\\Local\\Temp\\Rtmp6Nfz0c\\downloaded_packages\n"
     ]
    }
   ],
   "source": [
    "install.packages(\"FinCal\",dependencies=TRUE)\n",
    "library(\"FinCal\")"
   ]
  },
  {
   "cell_type": "markdown",
   "metadata": {
    "slideshow": {
     "slide_type": "subslide"
    }
   },
   "source": [
    "La librería también se puede descargar directamente desde GitHub"
   ]
  },
  {
   "cell_type": "code",
   "execution_count": 2,
   "metadata": {
    "slideshow": {
     "slide_type": "subslide"
    }
   },
   "outputs": [
    {
     "name": "stderr",
     "output_type": "stream",
     "text": [
      "Loading required package: usethis\n",
      "\n",
      "Downloading GitHub repo felixfan/FinCal@master\n",
      "\n"
     ]
    },
    {
     "name": "stdout",
     "output_type": "stream",
     "text": [
      "rlang   (0.4.2 -> 0.4.4) [CRAN]\n",
      "stringi (1.4.4 -> 1.4.5) [CRAN]\n",
      "vctrs   (0.2.1 -> 0.2.2) [CRAN]\n"
     ]
    },
    {
     "name": "stderr",
     "output_type": "stream",
     "text": [
      "Installing 3 packages: rlang, stringi, vctrs\n",
      "\n",
      "Installing packages into 'C:/Users/Luis Mackay/Documents/R/win-library/3.6'\n",
      "(as 'lib' is unspecified)\n",
      "\n"
     ]
    },
    {
     "name": "stdout",
     "output_type": "stream",
     "text": [
      "\n",
      "  There are binary versions available but the source versions are later:\n",
      "        binary source needs_compilation\n",
      "rlang    0.4.2  0.4.4              TRUE\n",
      "stringi  1.4.4  1.4.5              TRUE\n",
      "\n",
      "package 'vctrs' successfully unpacked and MD5 sums checked\n",
      "\n",
      "The downloaded binary packages are in\n",
      "\tC:\\Users\\Luis Mackay\\AppData\\Local\\Temp\\RtmpGug5Hh\\downloaded_packages\n"
     ]
    },
    {
     "name": "stderr",
     "output_type": "stream",
     "text": [
      "installing the source packages 'rlang', 'stringi'\n",
      "\n",
      "\n"
     ]
    },
    {
     "ename": "ERROR",
     "evalue": "Error: Failed to install 'FinCal' from GitHub:\n  (convertido del aviso) installation of package 'rlang' had non-zero exit status\n",
     "output_type": "error",
     "traceback": [
      "Error: Failed to install 'FinCal' from GitHub:\n  (convertido del aviso) installation of package 'rlang' had non-zero exit status\nTraceback:\n",
      "1. install_github(\"felixfan/FinCal\")",
      "2. pkgbuild::with_build_tools({\n .     ellipsis::check_dots_used(action = getOption(\"devtools.ellipsis_action\", \n .         rlang::warn))\n .     {\n .         remotes <- lapply(repo, github_remote, ref = ref, subdir = subdir, \n .             auth_token = auth_token, host = host)\n .         install_remotes(remotes, auth_token = auth_token, host = host, \n .             dependencies = dependencies, upgrade = upgrade, force = force, \n .             quiet = quiet, build = build, build_opts = build_opts, \n .             build_manual = build_manual, build_vignettes = build_vignettes, \n .             repos = repos, type = type, ...)\n .     }\n . }, required = FALSE)",
      "3. withr::with_path(rtools_path(), code)",
      "4. force(code)",
      "5. install_remotes(remotes, auth_token = auth_token, host = host, \n .     dependencies = dependencies, upgrade = upgrade, force = force, \n .     quiet = quiet, build = build, build_opts = build_opts, build_manual = build_manual, \n .     build_vignettes = build_vignettes, repos = repos, type = type, \n .     ...)",
      "6. tryCatch(res[[i]] <- install_remote(remotes[[i]], ...), error = function(e) {\n .     stop(remote_install_error(remotes[[i]], e))\n . })",
      "7. tryCatchList(expr, classes, parentenv, handlers)",
      "8. tryCatchOne(expr, names, parentenv, handlers[[1L]])",
      "9. value[[3L]](cond)"
     ]
    }
   ],
   "source": [
    "library(\"devtools\")\n",
    "install_github(\"felixfan/FinCal\") "
   ]
  },
  {
   "cell_type": "markdown",
   "metadata": {
    "slideshow": {
     "slide_type": "slide"
    }
   },
   "source": [
    "FinCal cuenta con múltiples funciones. Para ver el listado o repertorio de las mismas, se puede utilizar el siguiente comando"
   ]
  },
  {
   "cell_type": "code",
   "execution_count": 4,
   "metadata": {
    "slideshow": {
     "slide_type": "fragment"
    }
   },
   "outputs": [
    {
     "data": {
      "text/html": [
       "<style>\n",
       ".list-inline {list-style: none; margin:0; padding: 0}\n",
       ".list-inline>li {display: inline-block}\n",
       ".list-inline>li:not(:last-child)::after {content: \"\\00b7\"; padding: 0 .5ex}\n",
       "</style>\n",
       "<ol class=list-inline><li>'bdy'</li><li>'bdy2mmy'</li><li>'candlestickChart'</li><li>'cash.ratio'</li><li>'coefficient.variation'</li><li>'cogs'</li><li>'current.ratio'</li><li>'ddb'</li><li>'debt.ratio'</li><li>'diluted.EPS'</li><li>'discount.rate'</li><li>'ear'</li><li>'ear.continuous'</li><li>'ear2bey'</li><li>'ear2hpr'</li><li>'EIR'</li><li>'EPS'</li><li>'financial.leverage'</li><li>'fv'</li><li>'fv.annuity'</li><li>'fv.simple'</li><li>'fv.uneven'</li><li>'geometric.mean'</li><li>'get.ohlc.google'</li><li>'get.ohlc.yahoo'</li><li>'get.ohlcs.google'</li><li>'get.ohlcs.yahoo'</li><li>'gpm'</li><li>'harmonic.mean'</li><li>'hpr'</li><li>'hpr2bey'</li><li>'hpr2ear'</li><li>'hpr2mmy'</li><li>'irr'</li><li>'irr2'</li><li>'iss'</li><li>'lineChart'</li><li>'lineChartMult'</li><li>'lt.d2e'</li><li>'mmy2hpr'</li><li>'n.period'</li><li>'npm'</li><li>'npv'</li><li>'pmt'</li><li>'pv'</li><li>'pv.annuity'</li><li>'pv.perpetuity'</li><li>'pv.simple'</li><li>'pv.uneven'</li><li>'quick.ratio'</li><li>'r.continuous'</li><li>'r.norminal'</li><li>'r.perpetuity'</li><li>'sampling.error'</li><li>'SFRatio'</li><li>'Sharpe.ratio'</li><li>'slde'</li><li>'total.d2e'</li><li>'twrr'</li><li>'volumeChart'</li><li>'was'</li><li>'wpr'</li></ol>\n"
      ],
      "text/latex": [
       "\\begin{enumerate*}\n",
       "\\item 'bdy'\n",
       "\\item 'bdy2mmy'\n",
       "\\item 'candlestickChart'\n",
       "\\item 'cash.ratio'\n",
       "\\item 'coefficient.variation'\n",
       "\\item 'cogs'\n",
       "\\item 'current.ratio'\n",
       "\\item 'ddb'\n",
       "\\item 'debt.ratio'\n",
       "\\item 'diluted.EPS'\n",
       "\\item 'discount.rate'\n",
       "\\item 'ear'\n",
       "\\item 'ear.continuous'\n",
       "\\item 'ear2bey'\n",
       "\\item 'ear2hpr'\n",
       "\\item 'EIR'\n",
       "\\item 'EPS'\n",
       "\\item 'financial.leverage'\n",
       "\\item 'fv'\n",
       "\\item 'fv.annuity'\n",
       "\\item 'fv.simple'\n",
       "\\item 'fv.uneven'\n",
       "\\item 'geometric.mean'\n",
       "\\item 'get.ohlc.google'\n",
       "\\item 'get.ohlc.yahoo'\n",
       "\\item 'get.ohlcs.google'\n",
       "\\item 'get.ohlcs.yahoo'\n",
       "\\item 'gpm'\n",
       "\\item 'harmonic.mean'\n",
       "\\item 'hpr'\n",
       "\\item 'hpr2bey'\n",
       "\\item 'hpr2ear'\n",
       "\\item 'hpr2mmy'\n",
       "\\item 'irr'\n",
       "\\item 'irr2'\n",
       "\\item 'iss'\n",
       "\\item 'lineChart'\n",
       "\\item 'lineChartMult'\n",
       "\\item 'lt.d2e'\n",
       "\\item 'mmy2hpr'\n",
       "\\item 'n.period'\n",
       "\\item 'npm'\n",
       "\\item 'npv'\n",
       "\\item 'pmt'\n",
       "\\item 'pv'\n",
       "\\item 'pv.annuity'\n",
       "\\item 'pv.perpetuity'\n",
       "\\item 'pv.simple'\n",
       "\\item 'pv.uneven'\n",
       "\\item 'quick.ratio'\n",
       "\\item 'r.continuous'\n",
       "\\item 'r.norminal'\n",
       "\\item 'r.perpetuity'\n",
       "\\item 'sampling.error'\n",
       "\\item 'SFRatio'\n",
       "\\item 'Sharpe.ratio'\n",
       "\\item 'slde'\n",
       "\\item 'total.d2e'\n",
       "\\item 'twrr'\n",
       "\\item 'volumeChart'\n",
       "\\item 'was'\n",
       "\\item 'wpr'\n",
       "\\end{enumerate*}\n"
      ],
      "text/markdown": [
       "1. 'bdy'\n",
       "2. 'bdy2mmy'\n",
       "3. 'candlestickChart'\n",
       "4. 'cash.ratio'\n",
       "5. 'coefficient.variation'\n",
       "6. 'cogs'\n",
       "7. 'current.ratio'\n",
       "8. 'ddb'\n",
       "9. 'debt.ratio'\n",
       "10. 'diluted.EPS'\n",
       "11. 'discount.rate'\n",
       "12. 'ear'\n",
       "13. 'ear.continuous'\n",
       "14. 'ear2bey'\n",
       "15. 'ear2hpr'\n",
       "16. 'EIR'\n",
       "17. 'EPS'\n",
       "18. 'financial.leverage'\n",
       "19. 'fv'\n",
       "20. 'fv.annuity'\n",
       "21. 'fv.simple'\n",
       "22. 'fv.uneven'\n",
       "23. 'geometric.mean'\n",
       "24. 'get.ohlc.google'\n",
       "25. 'get.ohlc.yahoo'\n",
       "26. 'get.ohlcs.google'\n",
       "27. 'get.ohlcs.yahoo'\n",
       "28. 'gpm'\n",
       "29. 'harmonic.mean'\n",
       "30. 'hpr'\n",
       "31. 'hpr2bey'\n",
       "32. 'hpr2ear'\n",
       "33. 'hpr2mmy'\n",
       "34. 'irr'\n",
       "35. 'irr2'\n",
       "36. 'iss'\n",
       "37. 'lineChart'\n",
       "38. 'lineChartMult'\n",
       "39. 'lt.d2e'\n",
       "40. 'mmy2hpr'\n",
       "41. 'n.period'\n",
       "42. 'npm'\n",
       "43. 'npv'\n",
       "44. 'pmt'\n",
       "45. 'pv'\n",
       "46. 'pv.annuity'\n",
       "47. 'pv.perpetuity'\n",
       "48. 'pv.simple'\n",
       "49. 'pv.uneven'\n",
       "50. 'quick.ratio'\n",
       "51. 'r.continuous'\n",
       "52. 'r.norminal'\n",
       "53. 'r.perpetuity'\n",
       "54. 'sampling.error'\n",
       "55. 'SFRatio'\n",
       "56. 'Sharpe.ratio'\n",
       "57. 'slde'\n",
       "58. 'total.d2e'\n",
       "59. 'twrr'\n",
       "60. 'volumeChart'\n",
       "61. 'was'\n",
       "62. 'wpr'\n",
       "\n",
       "\n"
      ],
      "text/plain": [
       " [1] \"bdy\"                   \"bdy2mmy\"               \"candlestickChart\"     \n",
       " [4] \"cash.ratio\"            \"coefficient.variation\" \"cogs\"                 \n",
       " [7] \"current.ratio\"         \"ddb\"                   \"debt.ratio\"           \n",
       "[10] \"diluted.EPS\"           \"discount.rate\"         \"ear\"                  \n",
       "[13] \"ear.continuous\"        \"ear2bey\"               \"ear2hpr\"              \n",
       "[16] \"EIR\"                   \"EPS\"                   \"financial.leverage\"   \n",
       "[19] \"fv\"                    \"fv.annuity\"            \"fv.simple\"            \n",
       "[22] \"fv.uneven\"             \"geometric.mean\"        \"get.ohlc.google\"      \n",
       "[25] \"get.ohlc.yahoo\"        \"get.ohlcs.google\"      \"get.ohlcs.yahoo\"      \n",
       "[28] \"gpm\"                   \"harmonic.mean\"         \"hpr\"                  \n",
       "[31] \"hpr2bey\"               \"hpr2ear\"               \"hpr2mmy\"              \n",
       "[34] \"irr\"                   \"irr2\"                  \"iss\"                  \n",
       "[37] \"lineChart\"             \"lineChartMult\"         \"lt.d2e\"               \n",
       "[40] \"mmy2hpr\"               \"n.period\"              \"npm\"                  \n",
       "[43] \"npv\"                   \"pmt\"                   \"pv\"                   \n",
       "[46] \"pv.annuity\"            \"pv.perpetuity\"         \"pv.simple\"            \n",
       "[49] \"pv.uneven\"             \"quick.ratio\"           \"r.continuous\"         \n",
       "[52] \"r.norminal\"            \"r.perpetuity\"          \"sampling.error\"       \n",
       "[55] \"SFRatio\"               \"Sharpe.ratio\"          \"slde\"                 \n",
       "[58] \"total.d2e\"             \"twrr\"                  \"volumeChart\"          \n",
       "[61] \"was\"                   \"wpr\"                  "
      ]
     },
     "metadata": {},
     "output_type": "display_data"
    }
   ],
   "source": [
    "ls(\"package:FinCal\")"
   ]
  },
  {
   "cell_type": "markdown",
   "metadata": {
    "slideshow": {
     "slide_type": "subslide"
    }
   },
   "source": [
    "Para obtener ayuda con alguna de las funciones se pueden emplear los siguientes comandos "
   ]
  },
  {
   "cell_type": "code",
   "execution_count": 5,
   "metadata": {
    "slideshow": {
     "slide_type": "fragment"
    }
   },
   "outputs": [
    {
     "data": {
      "text/html": [
       "<pre class=language-r><code>function (r, n, fv = 0, pmt = 0, type = 0) \n",
       "NULL</code></pre>"
      ],
      "text/latex": [
       "\\begin{minted}{r}\n",
       "function (r, n, fv = 0, pmt = 0, type = 0) \n",
       "NULL\n",
       "\\end{minted}"
      ],
      "text/markdown": [
       "```r\n",
       "function (r, n, fv = 0, pmt = 0, type = 0) \n",
       "NULL\n",
       "```"
      ],
      "text/plain": [
       "function (r, n, fv = 0, pmt = 0, type = 0) \n",
       "NULL"
      ]
     },
     "metadata": {},
     "output_type": "display_data"
    },
    {
     "name": "stdout",
     "output_type": "stream",
     "text": [
      "\n",
      "pv> pv(0.07,10,1000,10)\n",
      "[1] -578.5851\n",
      "\n",
      "pv> pv(r=0.05,n=20,fv=1000,pmt=10,type=1)\n",
      "[1] -507.7427\n"
     ]
    }
   ],
   "source": [
    "help(pv)    # display the documentation for the function\n",
    "args(pv)    # see arguments of the function\n",
    "example(pv) # see example of using the function"
   ]
  },
  {
   "cell_type": "markdown",
   "metadata": {
    "slideshow": {
     "slide_type": "slide"
    }
   },
   "source": [
    "Este link es una especie de manual o diccionario de todas la funciones https://cran.r-project.org/web/packages/FinCal/FinCal.pdf\n",
    "\n",
    "A continuación se proporciona un ejemplo de algunas de las funciones empleando estos comandos. Se acompañan con una breve descripción en español.\n",
    "\n",
    "Nota: Para todos los ejemplos los ingresos son positivos mientras que los egresos negativos. "
   ]
  },
  {
   "cell_type": "markdown",
   "metadata": {
    "slideshow": {
     "slide_type": "skip"
    }
   },
   "source": [
    "# Rendimiento de descuento bancario (BDY): \n",
    "\n",
    "La tasa de descuento bancario (o Discount Bank Yield en inglés) es una de las formas en las que se puede presentar la rentabilidad de un título de mercado monetario emitido al descuento.\n",
    "\n",
    "Este descuento es la diferencia entre el precio de cotización y el valor nominal del título anualizado.\n",
    "\n",
    "Cuando se adquiere un instrumento de mercado monetario emitido al descuento, el vendedor estipula la cantidad que será reembolsada al vencimiento y el comprador paga un precio menor. La diferencia entre esos dos precios sería lo que ganaría el inversor. Pero si calculamos así la rentabilidad, no estaríamos obteniendo una rentabilidad anualizada, que es la que se suele utilizar para medir la rentabilidad de estos activos.\n",
    "\n",
    "Su fórmula es la siguiente RBD=(D/F)*(360/t)\n",
    "\n",
    "Rbd = Rentabilidad anualizada utilizando la tasa de descuento bancaria.\n",
    "\n",
    "D= Descuento sobre el valor nominal (se obtiene de restar al valor facial el precio de cotización del instrumento)\n",
    "\n",
    "F= Valor facial del título.\n",
    "\n",
    "t= Días hasta el vencimiento del título."
   ]
  },
  {
   "cell_type": "code",
   "execution_count": 6,
   "metadata": {
    "slideshow": {
     "slide_type": "skip"
    }
   },
   "outputs": [
    {
     "data": {
      "text/html": [
       "<pre class=language-r><code>function (d, f, t) \n",
       "NULL</code></pre>"
      ],
      "text/latex": [
       "\\begin{minted}{r}\n",
       "function (d, f, t) \n",
       "NULL\n",
       "\\end{minted}"
      ],
      "text/markdown": [
       "```r\n",
       "function (d, f, t) \n",
       "NULL\n",
       "```"
      ],
      "text/plain": [
       "function (d, f, t) \n",
       "NULL"
      ]
     },
     "metadata": {},
     "output_type": "display_data"
    },
    {
     "name": "stdout",
     "output_type": "stream",
     "text": [
      "\n",
      "bdy> bdy(d=1500,f=100000,t=120)\n",
      "[1] 0.045\n"
     ]
    }
   ],
   "source": [
    "#help(\"bdy\")    \n",
    "args(bdy)    \n",
    "example(bdy)"
   ]
  },
  {
   "cell_type": "markdown",
   "metadata": {
    "slideshow": {
     "slide_type": "skip"
    }
   },
   "source": [
    "Ejemplo: Se nos requiere calcular la tasa de descuento bancario de un bono cupón cero emitido al descuento. El precio del bono es de 978,5 € con un valor facial de 1.000 € y éste vence en 135 días."
   ]
  },
  {
   "cell_type": "code",
   "execution_count": 7,
   "metadata": {
    "slideshow": {
     "slide_type": "skip"
    }
   },
   "outputs": [
    {
     "data": {
      "text/html": [
       "0.0573333333333333"
      ],
      "text/latex": [
       "0.0573333333333333"
      ],
      "text/markdown": [
       "0.0573333333333333"
      ],
      "text/plain": [
       "[1] 0.05733333"
      ]
     },
     "metadata": {},
     "output_type": "display_data"
    }
   ],
   "source": [
    "bdy(d=1000-978.5, f=1000, t=135)"
   ]
  },
  {
   "cell_type": "markdown",
   "metadata": {
    "slideshow": {
     "slide_type": "skip"
    }
   },
   "source": [
    "# Convirtiendo el RDB a Rendimiento del mercado monetario (MMY)\n",
    "\n",
    "El rendimiento del mercado monetario es la tasa de rendimiento de las inversiones altamente líquidas con un vencimiento inferior a un año. Se calcula multiplicando el rendimiento del período de tenencia con un factor de 360/t donde t es el número de días entre la fecha de emisión y la fecha de vencimiento de la inversión."
   ]
  },
  {
   "cell_type": "code",
   "execution_count": 8,
   "metadata": {
    "slideshow": {
     "slide_type": "skip"
    }
   },
   "outputs": [
    {
     "data": {
      "text/html": [
       "<pre class=language-r><code>function (bdy, t) \n",
       "NULL</code></pre>"
      ],
      "text/latex": [
       "\\begin{minted}{r}\n",
       "function (bdy, t) \n",
       "NULL\n",
       "\\end{minted}"
      ],
      "text/markdown": [
       "```r\n",
       "function (bdy, t) \n",
       "NULL\n",
       "```"
      ],
      "text/plain": [
       "function (bdy, t) \n",
       "NULL"
      ]
     },
     "metadata": {},
     "output_type": "display_data"
    }
   ],
   "source": [
    "#help(\"bdy2mmy\")    \n",
    "args(bdy2mmy)"
   ]
  },
  {
   "cell_type": "markdown",
   "metadata": {
    "slideshow": {
     "slide_type": "skip"
    }
   },
   "source": [
    "¿Cuál es el rendimiento del mercado monetario para un T-Bill de 120 días que tiene un rendimiento de descuento bancario del 4.50%?"
   ]
  },
  {
   "cell_type": "code",
   "execution_count": 9,
   "metadata": {
    "slideshow": {
     "slide_type": "skip"
    }
   },
   "outputs": [
    {
     "name": "stdout",
     "output_type": "stream",
     "text": [
      "\n",
      "bdy2mm> bdy2mmy(bdy=0.045,t=120)\n",
      "[1] 0.04568528\n"
     ]
    }
   ],
   "source": [
    "example(bdy2mmy)"
   ]
  },
  {
   "cell_type": "markdown",
   "metadata": {
    "slideshow": {
     "slide_type": "subslide"
    }
   },
   "source": [
    "# Tasa Anual Efectiva (EAR por sus siglas en inglés) \n",
    "\n",
    "La TEA es el indicador con el que se calcula la tasa de interés en el plazo de un año. Es importante comprender que este cálculo puede hacerse para conocer tanto la rentabilidad de una cuenta como el costo de un préstamo o crédito. Cuanto mayor sea la TEA, mayor será el interés que recibirás mientras ahorres tu dinero y, por ende, tus ahorros crecerán más. Por el contrario, mientras más alta sea la Tasa Efectiva Anual en un crédito, mayores serán los intereses que tendrás que pagar y más caro te saldrá el préstamo. "
   ]
  },
  {
   "cell_type": "code",
   "execution_count": 10,
   "metadata": {
    "slideshow": {
     "slide_type": "skip"
    }
   },
   "outputs": [
    {
     "data": {
      "text/html": [
       "<pre class=language-r><code>function (r, m) \n",
       "NULL</code></pre>"
      ],
      "text/latex": [
       "\\begin{minted}{r}\n",
       "function (r, m) \n",
       "NULL\n",
       "\\end{minted}"
      ],
      "text/markdown": [
       "```r\n",
       "function (r, m) \n",
       "NULL\n",
       "```"
      ],
      "text/plain": [
       "function (r, m) \n",
       "NULL"
      ]
     },
     "metadata": {},
     "output_type": "display_data"
    }
   ],
   "source": [
    "#help(\"ear\")    \n",
    "args(ear)"
   ]
  },
  {
   "cell_type": "markdown",
   "metadata": {
    "slideshow": {
     "slide_type": "fragment"
    }
   },
   "source": [
    "Usando una tasa de 4.25%, calcule las tasas anuales efectivas para capitalización semestral, trimestral, mensual y diaria."
   ]
  },
  {
   "cell_type": "code",
   "execution_count": 11,
   "metadata": {
    "slideshow": {
     "slide_type": "fragment"
    }
   },
   "outputs": [
    {
     "data": {
      "text/html": [
       "0.0429515624999999"
      ],
      "text/latex": [
       "0.0429515624999999"
      ],
      "text/markdown": [
       "0.0429515624999999"
      ],
      "text/plain": [
       "[1] 0.04295156"
      ]
     },
     "metadata": {},
     "output_type": "display_data"
    },
    {
     "data": {
      "text/html": [
       "0.0431821543458561"
      ],
      "text/latex": [
       "0.0431821543458561"
      ],
      "text/markdown": [
       "0.0431821543458561"
      ],
      "text/plain": [
       "[1] 0.04318215"
      ]
     },
     "metadata": {},
     "output_type": "display_data"
    },
    {
     "data": {
      "text/html": [
       "0.0433377163096169"
      ],
      "text/latex": [
       "0.0433377163096169"
      ],
      "text/markdown": [
       "0.0433377163096169"
      ],
      "text/plain": [
       "[1] 0.04333772"
      ]
     },
     "metadata": {},
     "output_type": "display_data"
    },
    {
     "data": {
      "text/html": [
       "0.0434134748372301"
      ],
      "text/latex": [
       "0.0434134748372301"
      ],
      "text/markdown": [
       "0.0434134748372301"
      ],
      "text/plain": [
       "[1] 0.04341347"
      ]
     },
     "metadata": {},
     "output_type": "display_data"
    }
   ],
   "source": [
    "ear(0.0425, 2)\n",
    "ear(0.0425, 4)\n",
    "ear(0.0425, 12)\n",
    "ear(0.0425, 365)"
   ]
  },
  {
   "cell_type": "markdown",
   "metadata": {
    "slideshow": {
     "slide_type": "subslide"
    }
   },
   "source": [
    "# Valor Futuro \n",
    "\n",
    "El valor futuro (VF) es el valor que tendrá en el futuro un determinado monto de dinero que mantenemos en la actualidad o que decidimos invertir en un proyecto determinado.\n",
    "\n",
    "El valor futuro (VF) nos permite calcular cómo se modificará el valor del dinero que tenemos actualmente (en el día de hoy) considerando las distintas alternativas de inversión que tenemos disponibles. Para poder calcular el VF necesitamos conocer el valor de nuestro dinero es el momento actual y la tasa de interés que se le aplicará en los períodos venideros.\n",
    "\n",
    "El Valor futuro se utiliza para evaluar la mejor alternativa en cuanto a qué hacer con nuestro dinero hoy. También para ver cómo cambia el valor del dinero en el futuro.\n"
   ]
  },
  {
   "cell_type": "code",
   "execution_count": 12,
   "metadata": {
    "slideshow": {
     "slide_type": "skip"
    }
   },
   "outputs": [
    {
     "data": {
      "text/html": [
       "<pre class=language-r><code>function (r, n, pv) \n",
       "NULL</code></pre>"
      ],
      "text/latex": [
       "\\begin{minted}{r}\n",
       "function (r, n, pv) \n",
       "NULL\n",
       "\\end{minted}"
      ],
      "text/markdown": [
       "```r\n",
       "function (r, n, pv) \n",
       "NULL\n",
       "```"
      ],
      "text/plain": [
       "function (r, n, pv) \n",
       "NULL"
      ]
     },
     "metadata": {},
     "output_type": "display_data"
    }
   ],
   "source": [
    "#help(\"fv.simple\")    \n",
    "args(fv.simple)"
   ]
  },
  {
   "cell_type": "markdown",
   "metadata": {
    "slideshow": {
     "slide_type": "subslide"
    }
   },
   "source": [
    "Calcule el valor futuro de una inversión de $ 300 al final de diez años si obtiene una tasa de rendimiento compuesta anual del 8%.\n",
    "\n",
    "Calcule el valor futuro de una inversión de $ 50,000 al final de veinte años si obtiene una tasa de rendimiento compuesta anual del 4%."
   ]
  },
  {
   "cell_type": "code",
   "execution_count": 13,
   "metadata": {
    "slideshow": {
     "slide_type": "fragment"
    }
   },
   "outputs": [
    {
     "data": {
      "text/html": [
       "647.677499181836"
      ],
      "text/latex": [
       "647.677499181836"
      ],
      "text/markdown": [
       "647.677499181836"
      ],
      "text/plain": [
       "[1] 647.6775"
      ]
     },
     "metadata": {},
     "output_type": "display_data"
    },
    {
     "data": {
      "text/html": [
       "109556.157151671"
      ],
      "text/latex": [
       "109556.157151671"
      ],
      "text/markdown": [
       "109556.157151671"
      ],
      "text/plain": [
       "[1] 109556.2"
      ]
     },
     "metadata": {},
     "output_type": "display_data"
    }
   ],
   "source": [
    "fv(0.08,10,-300)\n",
    "fv(r=0.04,n=20,pv=-50000)"
   ]
  },
  {
   "cell_type": "markdown",
   "metadata": {
    "slideshow": {
     "slide_type": "subslide"
    }
   },
   "source": [
    "# Valor presente \n",
    "\n",
    "El valor presente (VP) es el valor que tiene a día de hoy un determinado flujo de dinero que recibiremos en el futuro.\n",
    "\n",
    "Es decir, el valor presente es una fórmula que nos permite calcular cuál es el valor de hoy que tiene un monto de dinero que no recibiremos ahora mismo, sino más adelante."
   ]
  },
  {
   "cell_type": "code",
   "execution_count": 14,
   "metadata": {
    "slideshow": {
     "slide_type": "skip"
    }
   },
   "outputs": [
    {
     "data": {
      "text/html": [
       "<pre class=language-r><code>function (r, n, fv) \n",
       "NULL</code></pre>"
      ],
      "text/latex": [
       "\\begin{minted}{r}\n",
       "function (r, n, fv) \n",
       "NULL\n",
       "\\end{minted}"
      ],
      "text/markdown": [
       "```r\n",
       "function (r, n, fv) \n",
       "NULL\n",
       "```"
      ],
      "text/plain": [
       "function (r, n, fv) \n",
       "NULL"
      ]
     },
     "metadata": {},
     "output_type": "display_data"
    }
   ],
   "source": [
    "#help(\"pv.simple\")    \n",
    "args(pv.simple)"
   ]
  },
  {
   "cell_type": "markdown",
   "metadata": {
    "slideshow": {
     "slide_type": "fragment"
    }
   },
   "source": [
    "Dada una tasa de descuento del 7%, calcule el valor presente de un flujo de efectivo de $ 100,000 que se recibirá en diez años.\n",
    "\n",
    "Dada una tasa de descuento del 3%, calcule el valor presente de un flujo de efectivo de $ 1,000,000 que se recibirá en tres años."
   ]
  },
  {
   "cell_type": "code",
   "execution_count": 15,
   "metadata": {
    "slideshow": {
     "slide_type": "fragment"
    }
   },
   "outputs": [
    {
     "data": {
      "text/html": [
       "-50834.9292134718"
      ],
      "text/latex": [
       "-50834.9292134718"
      ],
      "text/markdown": [
       "-50834.9292134718"
      ],
      "text/plain": [
       "[1] -50834.93"
      ]
     },
     "metadata": {},
     "output_type": "display_data"
    },
    {
     "data": {
      "text/html": [
       "-915141.65935316"
      ],
      "text/latex": [
       "-915141.65935316"
      ],
      "text/markdown": [
       "-915141.65935316"
      ],
      "text/plain": [
       "[1] -915141.7"
      ]
     },
     "metadata": {},
     "output_type": "display_data"
    }
   ],
   "source": [
    "pv(0.07,10,100000)\n",
    "pv(r=0.03,n=3,fv=1000000)"
   ]
  },
  {
   "cell_type": "markdown",
   "metadata": {
    "slideshow": {
     "slide_type": "subslide"
    }
   },
   "source": [
    "# Valor futuro de una anualidad ordinaria \n",
    "\n",
    "Definición de anualidad: Una anualidad es una serie de pagos que cumple con las siguientes condiciones:\n",
    "\n",
    "Todos los pagos son de igual valor.\n",
    "\n",
    "Todos los pagos se hacen a iguales intervalos de tiempo.\n",
    "\n",
    "Todos los pagos son llevados al principio o al final de la serie a la misma tasa.\n",
    "\n",
    "El número de pagos debe ser igual al número de periodos."
   ]
  },
  {
   "cell_type": "code",
   "execution_count": 16,
   "metadata": {
    "slideshow": {
     "slide_type": "skip"
    }
   },
   "outputs": [
    {
     "data": {
      "text/html": [
       "<pre class=language-r><code>function (r, n, pmt, type = 0) \n",
       "NULL</code></pre>"
      ],
      "text/latex": [
       "\\begin{minted}{r}\n",
       "function (r, n, pmt, type = 0) \n",
       "NULL\n",
       "\\end{minted}"
      ],
      "text/markdown": [
       "```r\n",
       "function (r, n, pmt, type = 0) \n",
       "NULL\n",
       "```"
      ],
      "text/plain": [
       "function (r, n, pmt, type = 0) \n",
       "NULL"
      ]
     },
     "metadata": {},
     "output_type": "display_data"
    }
   ],
   "source": [
    "#help(\"fv.annuity\")    \n",
    "args(fv.annuity)"
   ]
  },
  {
   "cell_type": "markdown",
   "metadata": {
    "slideshow": {
     "slide_type": "fragment"
    }
   },
   "source": [
    "¿Cuál es el valor futuro de una anualidad ordinaria que paga $ 15,000 por año al final de cada uno de los próximos 25 años, dado que se espera que la inversión obtenga una tasa de rendimiento del 6%?"
   ]
  },
  {
   "cell_type": "code",
   "execution_count": 17,
   "metadata": {
    "slideshow": {
     "slide_type": "fragment"
    }
   },
   "outputs": [
    {
     "data": {
      "text/html": [
       "822967.679935872"
      ],
      "text/latex": [
       "822967.679935872"
      ],
      "text/markdown": [
       "822967.679935872"
      ],
      "text/plain": [
       "[1] 822967.7"
      ]
     },
     "metadata": {},
     "output_type": "display_data"
    }
   ],
   "source": [
    "fv.annuity(r = 0.06, n = 25, pmt = -15000, type = 0)"
   ]
  },
  {
   "cell_type": "markdown",
   "metadata": {
    "slideshow": {
     "slide_type": "subslide"
    }
   },
   "source": [
    "¿Cuál es el valor futuro de una anualidad que paga $ 10,000 por año, al comienzo de cada uno de los próximos tres años, a partir de hoy, si los flujos de efectivo pueden invertirse a una tasa anual del 5%?"
   ]
  },
  {
   "cell_type": "code",
   "execution_count": 18,
   "metadata": {
    "slideshow": {
     "slide_type": "fragment"
    }
   },
   "outputs": [
    {
     "data": {
      "text/html": [
       "33101.25"
      ],
      "text/latex": [
       "33101.25"
      ],
      "text/markdown": [
       "33101.25"
      ],
      "text/plain": [
       "[1] 33101.25"
      ]
     },
     "metadata": {},
     "output_type": "display_data"
    }
   ],
   "source": [
    "fv.annuity(r = 0.05, n = 3, pmt = -10000, type = 1)"
   ]
  },
  {
   "cell_type": "markdown",
   "metadata": {
    "slideshow": {
     "slide_type": "skip"
    }
   },
   "source": [
    "# Valor presente de una anualidad ordinaria \n"
   ]
  },
  {
   "cell_type": "code",
   "execution_count": 19,
   "metadata": {
    "slideshow": {
     "slide_type": "skip"
    }
   },
   "outputs": [
    {
     "data": {
      "text/html": [
       "<pre class=language-r><code>function (r, n, pmt, type = 0) \n",
       "NULL</code></pre>"
      ],
      "text/latex": [
       "\\begin{minted}{r}\n",
       "function (r, n, pmt, type = 0) \n",
       "NULL\n",
       "\\end{minted}"
      ],
      "text/markdown": [
       "```r\n",
       "function (r, n, pmt, type = 0) \n",
       "NULL\n",
       "```"
      ],
      "text/plain": [
       "function (r, n, pmt, type = 0) \n",
       "NULL"
      ]
     },
     "metadata": {},
     "output_type": "display_data"
    }
   ],
   "source": [
    "#help(\"pv.annuity\")    \n",
    "args(pv.annuity)"
   ]
  },
  {
   "cell_type": "markdown",
   "metadata": {
    "slideshow": {
     "slide_type": "skip"
    }
   },
   "source": [
    "¿Cuál es el valor presente de una anualidad que paga $ 20,000 por año al final de cada uno de los próximos 25 años, dada una tasa de descuento del 6%?"
   ]
  },
  {
   "cell_type": "code",
   "execution_count": 20,
   "metadata": {
    "slideshow": {
     "slide_type": "skip"
    }
   },
   "outputs": [
    {
     "data": {
      "text/html": [
       "255667.123165368"
      ],
      "text/latex": [
       "255667.123165368"
      ],
      "text/markdown": [
       "255667.123165368"
      ],
      "text/plain": [
       "[1] 255667.1"
      ]
     },
     "metadata": {},
     "output_type": "display_data"
    }
   ],
   "source": [
    "pv.annuity(r = 0.06, n = 25, pmt = -20000, type = 0)"
   ]
  },
  {
   "cell_type": "markdown",
   "metadata": {
    "slideshow": {
     "slide_type": "skip"
    }
   },
   "source": [
    "Dada una tasa de descuento del 10%, ¿cuál es el valor presente de una anualidad de 10 años que realiza una serie de pagos de $ 1000 al comienzo de cada uno de los próximos tres años, a partir de hoy?"
   ]
  },
  {
   "cell_type": "code",
   "execution_count": 21,
   "metadata": {
    "slideshow": {
     "slide_type": "skip"
    }
   },
   "outputs": [
    {
     "data": {
      "text/html": [
       "6759.02381627515"
      ],
      "text/latex": [
       "6759.02381627515"
      ],
      "text/markdown": [
       "6759.02381627515"
      ],
      "text/plain": [
       "[1] 6759.024"
      ]
     },
     "metadata": {},
     "output_type": "display_data"
    }
   ],
   "source": [
    "pv.annuity(r = 0.1, n = 10, pmt = -1000, type = 1)"
   ]
  },
  {
   "cell_type": "markdown",
   "metadata": {
    "slideshow": {
     "slide_type": "skip"
    }
   },
   "source": [
    "# Valor presente de una perpetuidad \n",
    "\n",
    "Es el valor de un flujo de pagos perpetuos, o que se estima no serán interrumpidos ni modificados nunca."
   ]
  },
  {
   "cell_type": "code",
   "execution_count": 22,
   "metadata": {
    "slideshow": {
     "slide_type": "skip"
    }
   },
   "outputs": [
    {
     "data": {
      "text/html": [
       "<pre class=language-r><code>function (r, pmt, g = 0, type = 0) \n",
       "NULL</code></pre>"
      ],
      "text/latex": [
       "\\begin{minted}{r}\n",
       "function (r, pmt, g = 0, type = 0) \n",
       "NULL\n",
       "\\end{minted}"
      ],
      "text/markdown": [
       "```r\n",
       "function (r, pmt, g = 0, type = 0) \n",
       "NULL\n",
       "```"
      ],
      "text/plain": [
       "function (r, pmt, g = 0, type = 0) \n",
       "NULL"
      ]
     },
     "metadata": {},
     "output_type": "display_data"
    }
   ],
   "source": [
    "#help(\"pv.perpetuity\")    \n",
    "args(pv.perpetuity)"
   ]
  },
  {
   "cell_type": "markdown",
   "metadata": {
    "slideshow": {
     "slide_type": "skip"
    }
   },
   "source": [
    "Una acción preferente que pagará $ 2.50 por año en dividendos anuales a partir del próximo año y planea seguir esta política de dividendos para siempre. Dada una tasa de rendimiento del 10%, ¿cuál es el valor de esta acción preferida hoy?"
   ]
  },
  {
   "cell_type": "code",
   "execution_count": 23,
   "metadata": {
    "slideshow": {
     "slide_type": "skip"
    }
   },
   "outputs": [
    {
     "data": {
      "text/html": [
       "-25"
      ],
      "text/latex": [
       "-25"
      ],
      "text/markdown": [
       "-25"
      ],
      "text/plain": [
       "[1] -25"
      ]
     },
     "metadata": {},
     "output_type": "display_data"
    }
   ],
   "source": [
    "pv.perpetuity(r = 0.1, pmt = 2.5, type = 0)"
   ]
  },
  {
   "cell_type": "markdown",
   "metadata": {
    "slideshow": {
     "slide_type": "skip"
    }
   },
   "source": [
    "# Tasa de retorno de una perpetuidad"
   ]
  },
  {
   "cell_type": "code",
   "execution_count": 24,
   "metadata": {
    "slideshow": {
     "slide_type": "skip"
    }
   },
   "outputs": [
    {
     "data": {
      "text/html": [
       "<pre class=language-r><code>function (pmt, pv) \n",
       "NULL</code></pre>"
      ],
      "text/latex": [
       "\\begin{minted}{r}\n",
       "function (pmt, pv) \n",
       "NULL\n",
       "\\end{minted}"
      ],
      "text/markdown": [
       "```r\n",
       "function (pmt, pv) \n",
       "NULL\n",
       "```"
      ],
      "text/plain": [
       "function (pmt, pv) \n",
       "NULL"
      ]
     },
     "metadata": {},
     "output_type": "display_data"
    }
   ],
   "source": [
    "#help(\"r.perpetuity\")    \n",
    "args(r.perpetuity)"
   ]
  },
  {
   "cell_type": "markdown",
   "metadata": {
    "slideshow": {
     "slide_type": "skip"
    }
   },
   "source": [
    "Utilizando las acciones preferidas descritas en el ejemplo anterior, determine la tasa de rendimiento que un inversor se daría cuenta si pagara $ 75 por acción por las acciones."
   ]
  },
  {
   "cell_type": "code",
   "execution_count": 25,
   "metadata": {
    "slideshow": {
     "slide_type": "skip"
    }
   },
   "outputs": [
    {
     "data": {
      "text/html": [
       "0.0333333333333333"
      ],
      "text/latex": [
       "0.0333333333333333"
      ],
      "text/markdown": [
       "0.0333333333333333"
      ],
      "text/plain": [
       "[1] 0.03333333"
      ]
     },
     "metadata": {},
     "output_type": "display_data"
    }
   ],
   "source": [
    "r.perpetuity(pmt = 2.5, pv = -75)"
   ]
  },
  {
   "cell_type": "markdown",
   "metadata": {
    "slideshow": {
     "slide_type": "skip"
    }
   },
   "source": [
    "# Valor presente de los flujos de efectivo de un bono"
   ]
  },
  {
   "cell_type": "code",
   "execution_count": 26,
   "metadata": {
    "slideshow": {
     "slide_type": "skip"
    }
   },
   "outputs": [
    {
     "data": {
      "text/html": [
       "<pre class=language-r><code>function (r, n, fv = 0, pmt = 0, type = 0) \n",
       "NULL</code></pre>"
      ],
      "text/latex": [
       "\\begin{minted}{r}\n",
       "function (r, n, fv = 0, pmt = 0, type = 0) \n",
       "NULL\n",
       "\\end{minted}"
      ],
      "text/markdown": [
       "```r\n",
       "function (r, n, fv = 0, pmt = 0, type = 0) \n",
       "NULL\n",
       "```"
      ],
      "text/plain": [
       "function (r, n, fv = 0, pmt = 0, type = 0) \n",
       "NULL"
      ]
     },
     "metadata": {},
     "output_type": "display_data"
    }
   ],
   "source": [
    "#help(\"pv\")    \n",
    "args(pv)"
   ]
  },
  {
   "cell_type": "markdown",
   "metadata": {
    "slideshow": {
     "slide_type": "skip"
    }
   },
   "source": [
    "Un bono realizará pagos de intereses de cupones de 70 HK (dólar hongkonés) (7% de su valor nominal) al final de cada año y también pagará su valor nominal de 1,000 HK al vencimiento en 10 años. Si la tasa de descuento apropiada es del 6%, ¿cuál es el valor presente de los flujos de efectivo prometidos del bono?"
   ]
  },
  {
   "cell_type": "code",
   "execution_count": 27,
   "metadata": {
    "slideshow": {
     "slide_type": "skip"
    }
   },
   "outputs": [
    {
     "data": {
      "text/html": [
       "-1073.60087051415"
      ],
      "text/latex": [
       "-1073.60087051415"
      ],
      "text/markdown": [
       "-1073.60087051415"
      ],
      "text/plain": [
       "[1] -1073.601"
      ]
     },
     "metadata": {},
     "output_type": "display_data"
    }
   ],
   "source": [
    "pv(r = 0.06, n = 10, fv = 1000, pmt = 70, type = 0)"
   ]
  },
  {
   "cell_type": "markdown",
   "metadata": {
    "slideshow": {
     "slide_type": "subslide"
    }
   },
   "source": [
    "# Valor presente y futuro de un flujo de efectivo desigual \n",
    "\n",
    "Cuando una corriente de flujo de efectivo es desigual, el valor presente (PV) y/o el valor futuro (FV) de la corriente se calculan al encontrar la PV o FV de cada flujo de efectivo individual y sumarlos.\n",
    "\n",
    "Una corriente de flujos de efectivo es desigual cuando:Todos los montos en la serie de flujos de efectivo no son iguales, y/o hay un tiempo desigual entre dos flujos de efectivo."
   ]
  },
  {
   "cell_type": "code",
   "execution_count": 28,
   "metadata": {
    "slideshow": {
     "slide_type": "skip"
    }
   },
   "outputs": [
    {
     "data": {
      "text/html": [
       "<pre class=language-r><code>function (r, cf) \n",
       "NULL</code></pre>"
      ],
      "text/latex": [
       "\\begin{minted}{r}\n",
       "function (r, cf) \n",
       "NULL\n",
       "\\end{minted}"
      ],
      "text/markdown": [
       "```r\n",
       "function (r, cf) \n",
       "NULL\n",
       "```"
      ],
      "text/plain": [
       "function (r, cf) \n",
       "NULL"
      ]
     },
     "metadata": {},
     "output_type": "display_data"
    }
   ],
   "source": [
    "#help(\"fv.uneven\")    \n",
    "args(fv.uneven)"
   ]
  },
  {
   "cell_type": "markdown",
   "metadata": {
    "slideshow": {
     "slide_type": "fragment"
    }
   },
   "source": [
    "Utilizando una tasa de rendimiento del 6%, calcule el valor futuro del flujo de efectivo desigual de 6 años que se produjo al final de cada año. (-10000,-5000, 2000, 4000, 6000, 8000)"
   ]
  },
  {
   "cell_type": "code",
   "execution_count": 29,
   "metadata": {
    "slideshow": {
     "slide_type": "fragment"
    }
   },
   "outputs": [
    {
     "data": {
      "text/html": [
       "-1541.791424"
      ],
      "text/latex": [
       "-1541.791424"
      ],
      "text/markdown": [
       "-1541.791424"
      ],
      "text/plain": [
       "[1] -1541.791"
      ]
     },
     "metadata": {},
     "output_type": "display_data"
    }
   ],
   "source": [
    "fv.uneven(r = 0.06, cf = c(-10000, -5000, 2000, 4000, 6000, 8000))"
   ]
  },
  {
   "cell_type": "code",
   "execution_count": 30,
   "metadata": {
    "slideshow": {
     "slide_type": "skip"
    }
   },
   "outputs": [
    {
     "data": {
      "text/html": [
       "<pre class=language-r><code>function (r, cf) \n",
       "NULL</code></pre>"
      ],
      "text/latex": [
       "\\begin{minted}{r}\n",
       "function (r, cf) \n",
       "NULL\n",
       "\\end{minted}"
      ],
      "text/markdown": [
       "```r\n",
       "function (r, cf) \n",
       "NULL\n",
       "```"
      ],
      "text/plain": [
       "function (r, cf) \n",
       "NULL"
      ]
     },
     "metadata": {},
     "output_type": "display_data"
    }
   ],
   "source": [
    "#help(\"pv.uneven\")    \n",
    "args(pv.uneven)"
   ]
  },
  {
   "cell_type": "markdown",
   "metadata": {
    "slideshow": {
     "slide_type": "subslide"
    }
   },
   "source": [
    "Calcule el valor presente de este flujo de caja desigual de 6 años descrito anteriormente utilizando una tasa de rendimiento del 10%."
   ]
  },
  {
   "cell_type": "code",
   "execution_count": 31,
   "metadata": {
    "slideshow": {
     "slide_type": "fragment"
    }
   },
   "outputs": [
    {
     "data": {
      "text/html": [
       "747.137693819182"
      ],
      "text/latex": [
       "747.137693819182"
      ],
      "text/markdown": [
       "747.137693819182"
      ],
      "text/plain": [
       "[1] 747.1377"
      ]
     },
     "metadata": {},
     "output_type": "display_data"
    }
   ],
   "source": [
    "pv.uneven(r = 0.1, cf = c(-10000, -5000, 2000, 4000, 6000, 8000))"
   ]
  },
  {
   "cell_type": "markdown",
   "metadata": {
    "slideshow": {
     "slide_type": "subslide"
    }
   },
   "source": [
    "# Cálculo del pago del préstamo"
   ]
  },
  {
   "cell_type": "code",
   "execution_count": 32,
   "metadata": {
    "slideshow": {
     "slide_type": "fragment"
    }
   },
   "outputs": [
    {
     "data": {
      "text/html": [
       "<pre class=language-r><code>function (r, n, pv, fv, type = 0) \n",
       "NULL</code></pre>"
      ],
      "text/latex": [
       "\\begin{minted}{r}\n",
       "function (r, n, pv, fv, type = 0) \n",
       "NULL\n",
       "\\end{minted}"
      ],
      "text/markdown": [
       "```r\n",
       "function (r, n, pv, fv, type = 0) \n",
       "NULL\n",
       "```"
      ],
      "text/plain": [
       "function (r, n, pv, fv, type = 0) \n",
       "NULL"
      ]
     },
     "metadata": {},
     "output_type": "display_data"
    }
   ],
   "source": [
    "#help(\"pmt\")    \n",
    "args(pmt)"
   ]
  },
  {
   "cell_type": "markdown",
   "metadata": {
    "slideshow": {
     "slide_type": "subslide"
    }
   },
   "source": [
    "Una compañía planea pedir prestados $ 500,000 por cinco años. El banco de la compañía prestará el dinero a una tasa del 6% y exige que el préstamo se pague en cinco pagos iguales de fin de año. Calcule el monto del pago que la compañía debe hacer para amortizar completamente este préstamo en cinco años."
   ]
  },
  {
   "cell_type": "code",
   "execution_count": 33,
   "metadata": {
    "slideshow": {
     "slide_type": "fragment"
    }
   },
   "outputs": [
    {
     "data": {
      "text/html": [
       "-118698.200215595"
      ],
      "text/latex": [
       "-118698.200215595"
      ],
      "text/markdown": [
       "-118698.200215595"
      ],
      "text/plain": [
       "[1] -118698.2"
      ]
     },
     "metadata": {},
     "output_type": "display_data"
    }
   ],
   "source": [
    "pmt(r = 0.06, n = 5, pv = 5e+05, fv = 0, type=0)"
   ]
  },
  {
   "cell_type": "markdown",
   "metadata": {
    "slideshow": {
     "slide_type": "subslide"
    }
   },
   "source": [
    "# Calcular el número de períodos en una anualidad"
   ]
  },
  {
   "cell_type": "code",
   "execution_count": 34,
   "metadata": {
    "slideshow": {
     "slide_type": "skip"
    }
   },
   "outputs": [
    {
     "data": {
      "text/html": [
       "<pre class=language-r><code>function (r, pv, fv, pmt, type = 0) \n",
       "NULL</code></pre>"
      ],
      "text/latex": [
       "\\begin{minted}{r}\n",
       "function (r, pv, fv, pmt, type = 0) \n",
       "NULL\n",
       "\\end{minted}"
      ],
      "text/markdown": [
       "```r\n",
       "function (r, pv, fv, pmt, type = 0) \n",
       "NULL\n",
       "```"
      ],
      "text/plain": [
       "function (r, pv, fv, pmt, type = 0) \n",
       "NULL"
      ]
     },
     "metadata": {},
     "output_type": "display_data"
    }
   ],
   "source": [
    "#help(\"n.period\")    \n",
    "args(n.period)"
   ]
  },
  {
   "cell_type": "markdown",
   "metadata": {
    "slideshow": {
     "slide_type": "fragment"
    }
   },
   "source": [
    "¿Cuántos pagos de 1000 a fin de año son requeridos para acumular 10,000 si la tasa de descuento es del 9%?"
   ]
  },
  {
   "cell_type": "code",
   "execution_count": 35,
   "metadata": {
    "slideshow": {
     "slide_type": "fragment"
    }
   },
   "outputs": [
    {
     "data": {
      "text/html": [
       "7.44802790245204"
      ],
      "text/latex": [
       "7.44802790245204"
      ],
      "text/markdown": [
       "7.44802790245204"
      ],
      "text/plain": [
       "[1] 7.448028"
      ]
     },
     "metadata": {},
     "output_type": "display_data"
    }
   ],
   "source": [
    "n.period(r = 0.09, pv = 0, fv = 10000, pmt = -1000, type = 0)"
   ]
  },
  {
   "cell_type": "markdown",
   "metadata": {
    "slideshow": {
     "slide_type": "skip"
    }
   },
   "source": [
    "# Calcular la tasa de rendimiento por un período"
   ]
  },
  {
   "cell_type": "code",
   "execution_count": 36,
   "metadata": {
    "slideshow": {
     "slide_type": "skip"
    }
   },
   "outputs": [
    {
     "data": {
      "text/html": [
       "<pre class=language-r><code>function (n, pv, fv, pmt, type = 0) \n",
       "NULL</code></pre>"
      ],
      "text/latex": [
       "\\begin{minted}{r}\n",
       "function (n, pv, fv, pmt, type = 0) \n",
       "NULL\n",
       "\\end{minted}"
      ],
      "text/markdown": [
       "```r\n",
       "function (n, pv, fv, pmt, type = 0) \n",
       "NULL\n",
       "```"
      ],
      "text/plain": [
       "function (n, pv, fv, pmt, type = 0) \n",
       "NULL"
      ]
     },
     "metadata": {},
     "output_type": "display_data"
    }
   ],
   "source": [
    "#help(\"discount.rate\")    \n",
    "args(discount.rate)"
   ]
  },
  {
   "cell_type": "markdown",
   "metadata": {
    "slideshow": {
     "slide_type": "skip"
    }
   },
   "source": [
    "Suppose you have the opponunity to invest 1000 at the end of each of the next five years in exchange for $6000 at the end of the fifth year. What is the annual rate of return on this investment?"
   ]
  },
  {
   "cell_type": "code",
   "execution_count": 37,
   "metadata": {
    "slideshow": {
     "slide_type": "skip"
    }
   },
   "outputs": [
    {
     "data": {
      "text/html": [
       "0.0913009137865297"
      ],
      "text/latex": [
       "0.0913009137865297"
      ],
      "text/markdown": [
       "0.0913009137865297"
      ],
      "text/plain": [
       "[1] 0.09130091"
      ]
     },
     "metadata": {},
     "output_type": "display_data"
    }
   ],
   "source": [
    "discount.rate(n = 5, fv = 6000, pmt = -1000, pv = 0, type = 0)"
   ]
  },
  {
   "cell_type": "markdown",
   "metadata": {
    "slideshow": {
     "slide_type": "subslide"
    }
   },
   "source": [
    "# Cálculo del Valor Presente Neto (NPV por sus siglas en inglés)\n",
    "\n",
    "El valor presente neto (VPN) de un proyecto representa el cambio en el patrimonio neto/patrimonio de una empresa que resultaría de la aceptación del proyecto a lo largo de su vida. Es igual al valor presente de las entradas netas de efectivo del proyecto menos el desembolso de inversión inicial. Es una de las técnicas más confiables utilizadas en el presupuesto de capital porque se basa en el enfoque de flujo de efectivo descontado.\n",
    "\n",
    "Los cálculos del valor presente neto requieren las siguientes tres entradas:\n",
    "\n",
    "Flujos de efectivo netos proyectados después de impuestos en cada período del proyecto.\n",
    "\n",
    "Desembolso de inversión inicial\n",
    "\n",
    "Tasa de descuento adecuada, es decir, la tasa de obstáculo."
   ]
  },
  {
   "cell_type": "code",
   "execution_count": 38,
   "metadata": {
    "slideshow": {
     "slide_type": "skip"
    }
   },
   "outputs": [
    {
     "data": {
      "text/html": [
       "<pre class=language-r><code>function (r, cf) \n",
       "NULL</code></pre>"
      ],
      "text/latex": [
       "\\begin{minted}{r}\n",
       "function (r, cf) \n",
       "NULL\n",
       "\\end{minted}"
      ],
      "text/markdown": [
       "```r\n",
       "function (r, cf) \n",
       "NULL\n",
       "```"
      ],
      "text/plain": [
       "function (r, cf) \n",
       "NULL"
      ]
     },
     "metadata": {},
     "output_type": "display_data"
    }
   ],
   "source": [
    "#help(\"npv\")    \n",
    "args(npv)"
   ]
  },
  {
   "cell_type": "markdown",
   "metadata": {
    "slideshow": {
     "slide_type": "subslide"
    }
   },
   "source": [
    "Ejemplo: \n",
    "\n",
    "Calcule el VPN de un proyecto de inversión que tiene un costo inicial de 6 millones y un flujo de efectivo positivo de 2.6 millones al final del año 1, 2.4 millones al final del año 2 y 3.8 millones al final del año 3. Use una tasa de descuento del 8%.  "
   ]
  },
  {
   "cell_type": "code",
   "execution_count": 39,
   "metadata": {
    "slideshow": {
     "slide_type": "fragment"
    }
   },
   "outputs": [
    {
     "data": {
      "text/html": [
       "1.48158309200833"
      ],
      "text/latex": [
       "1.48158309200833"
      ],
      "text/markdown": [
       "1.48158309200833"
      ],
      "text/plain": [
       "[1] 1.481583"
      ]
     },
     "metadata": {},
     "output_type": "display_data"
    }
   ],
   "source": [
    "npv(r = 0.08, cf = c(-6, 2.6, 2.4, 3.8))"
   ]
  },
  {
   "cell_type": "markdown",
   "metadata": {
    "slideshow": {
     "slide_type": "subslide"
    }
   },
   "source": [
    "# Tasa interna de rendimiento (TIR)\n",
    "\n",
    "En el presupuesto de capital, el conflicto entre VPN y TIR se refiere a una situación en la cual el método de VPN clasifica los proyectos de manera diferente al método de TIR. En caso de tal diferencia, una empresa debe aceptar proyectos con mayor VPN.\n",
    "\n",
    "El valor actual neto (VAN o VPN) y la tasa interna de rendimiento (TIR) son dos de las técnicas de análisis de inversión y presupuesto de capital más utilizadas. Son similares en el sentido de que ambos son modelos de flujo de efectivo descontados, es decir, incorporan el valor temporal del dinero. Pero también difieren en su enfoque principal y sus fortalezas y debilidades. El VPN es una medida absoluta, es decir, es la cantidad en dólares de valor agregado o perdido al emprender un proyecto. La TIR, por otro lado, es una medida relativa, es decir, es la tasa de rendimiento que ofrece un proyecto a lo largo de su vida útil."
   ]
  },
  {
   "cell_type": "code",
   "execution_count": 40,
   "metadata": {
    "slideshow": {
     "slide_type": "skip"
    }
   },
   "outputs": [
    {
     "data": {
      "text/html": [
       "<pre class=language-r><code>function (cf) \n",
       "NULL</code></pre>"
      ],
      "text/latex": [
       "\\begin{minted}{r}\n",
       "function (cf) \n",
       "NULL\n",
       "\\end{minted}"
      ],
      "text/markdown": [
       "```r\n",
       "function (cf) \n",
       "NULL\n",
       "```"
      ],
      "text/plain": [
       "function (cf) \n",
       "NULL"
      ]
     },
     "metadata": {},
     "output_type": "display_data"
    }
   ],
   "source": [
    "#help(\"irr\")    \n",
    "args(irr)"
   ]
  },
  {
   "cell_type": "markdown",
   "metadata": {
    "slideshow": {
     "slide_type": "fragment"
    }
   },
   "source": [
    "Ejemplo:\n",
    "¿Cuál es la TIR de la inversión descrita en el ejemplo anterior?"
   ]
  },
  {
   "cell_type": "code",
   "execution_count": 41,
   "metadata": {
    "slideshow": {
     "slide_type": "fragment"
    }
   },
   "outputs": [
    {
     "data": {
      "text/html": [
       "0.203257884400731"
      ],
      "text/latex": [
       "0.203257884400731"
      ],
      "text/markdown": [
       "0.203257884400731"
      ],
      "text/plain": [
       "[1] 0.2032579"
      ]
     },
     "metadata": {},
     "output_type": "display_data"
    },
    {
     "data": {
      "text/html": [
       "0.155191134544828"
      ],
      "text/latex": [
       "0.155191134544828"
      ],
      "text/markdown": [
       "0.155191134544828"
      ],
      "text/plain": [
       "[1] 0.1551911"
      ]
     },
     "metadata": {},
     "output_type": "display_data"
    }
   ],
   "source": [
    "irr(cf = c(-6, 2.6, 2.4, 3.8))\n",
    "\n",
    "irr(cf=c(-5, 1.6, 2.4, 2.8))"
   ]
  },
  {
   "cell_type": "markdown",
   "metadata": {
    "slideshow": {
     "slide_type": "skip"
    }
   },
   "source": [
    "# Cálculo del rendimiento del período de tenencia \n",
    "\n",
    "El rendimiento del período de tenencia es el rendimiento total ganado en una inversión durante todo su período de tenencia expresado como un porcentaje del valor inicial de la inversión. Se calcula como la suma de la ganancia de capital y los ingresos divididos por el valor de apertura de la inversión.\n",
    "\n",
    "Hay dos fuentes de rendimiento para cualquier inversión en bonos, acciones, bienes raíces, etc.: (a) ganancia de capital e (b) ingresos. La ganancia o pérdida de capital resulta del movimiento en el valor de la inversión desde la fecha decompra hasta la fecha en que se calcula el rendimiento del período de tenencia. El ingreso resulta de pagos de cupones, dividendos, alquileres, etc.\n",
    "\n",
    "El rendimiento del período de mantenimiento no es una medida estandarizada de rendimiento. Un período de espera dado puede ser por un solo día o un período de 5 años y no lo sabremos. La comparación entre el rendimiento del período de tenencia de diferentes inversiones directamente no es apropiada. Necesitamos averiguar el tiempo total durante el cual se calcula el rendimiento y luego convertirlo al rendimiento del período de tenencia anualizado."
   ]
  },
  {
   "cell_type": "code",
   "execution_count": 42,
   "metadata": {
    "slideshow": {
     "slide_type": "skip"
    }
   },
   "outputs": [
    {
     "data": {
      "text/html": [
       "<pre class=language-r><code>function (ev, bv, cfr = 0) \n",
       "NULL</code></pre>"
      ],
      "text/latex": [
       "\\begin{minted}{r}\n",
       "function (ev, bv, cfr = 0) \n",
       "NULL\n",
       "\\end{minted}"
      ],
      "text/markdown": [
       "```r\n",
       "function (ev, bv, cfr = 0) \n",
       "NULL\n",
       "```"
      ],
      "text/plain": [
       "function (ev, bv, cfr = 0) \n",
       "NULL"
      ]
     },
     "metadata": {},
     "output_type": "display_data"
    }
   ],
   "source": [
    "#help(hpr)\n",
    "args(hpr)"
   ]
  },
  {
   "cell_type": "markdown",
   "metadata": {
    "slideshow": {
     "slide_type": "skip"
    }
   },
   "source": [
    "Ejemplo: \n",
    "\n",
    "Supongamos que una acción se compra por 3 y se vende por 4 seis meses después, tiempo durante el cual pagó 0,50 en dividendos. ¿Cuál es el retorno del período de retención?"
   ]
  },
  {
   "cell_type": "code",
   "execution_count": 43,
   "metadata": {
    "slideshow": {
     "slide_type": "skip"
    }
   },
   "outputs": [
    {
     "data": {
      "text/html": [
       "0.5"
      ],
      "text/latex": [
       "0.5"
      ],
      "text/markdown": [
       "0.5"
      ],
      "text/plain": [
       "[1] 0.5"
      ]
     },
     "metadata": {},
     "output_type": "display_data"
    }
   ],
   "source": [
    "hpr(ev = 4, bv = 3, cfr = 0.5)"
   ]
  },
  {
   "cell_type": "markdown",
   "metadata": {
    "slideshow": {
     "slide_type": "skip"
    }
   },
   "source": [
    "# Convetir el retorno del período de tenencia a la tasa anual efectiva"
   ]
  },
  {
   "cell_type": "code",
   "execution_count": 44,
   "metadata": {
    "slideshow": {
     "slide_type": "skip"
    }
   },
   "outputs": [
    {
     "data": {
      "text/html": [
       "<pre class=language-r><code>function (hpr, t) \n",
       "NULL</code></pre>"
      ],
      "text/latex": [
       "\\begin{minted}{r}\n",
       "function (hpr, t) \n",
       "NULL\n",
       "\\end{minted}"
      ],
      "text/markdown": [
       "```r\n",
       "function (hpr, t) \n",
       "NULL\n",
       "```"
      ],
      "text/plain": [
       "function (hpr, t) \n",
       "NULL"
      ]
     },
     "metadata": {},
     "output_type": "display_data"
    }
   ],
   "source": [
    "#help(hpr2ear)\n",
    "args(hpr2ear)"
   ]
  },
  {
   "cell_type": "markdown",
   "metadata": {
    "slideshow": {
     "slide_type": "skip"
    }
   },
   "source": [
    "Calcule la tasa efectiva anual usando el retorno del periodo de 120 días de 2.85%"
   ]
  },
  {
   "cell_type": "code",
   "execution_count": 45,
   "metadata": {
    "slideshow": {
     "slide_type": "skip"
    }
   },
   "outputs": [
    {
     "data": {
      "text/html": [
       "0.0892345297518926"
      ],
      "text/latex": [
       "0.0892345297518926"
      ],
      "text/markdown": [
       "0.0892345297518926"
      ],
      "text/plain": [
       "[1] 0.08923453"
      ]
     },
     "metadata": {},
     "output_type": "display_data"
    }
   ],
   "source": [
    "hpr2ear(hpr = 0.0285, t = 120)"
   ]
  },
  {
   "cell_type": "markdown",
   "metadata": {
    "slideshow": {
     "slide_type": "subslide"
    }
   },
   "source": [
    "# La tasa de rendimiento ponderada en el tiempo (TWR) \n",
    "\n",
    "Es una medida de la tasa de crecimiento compuesta en una cartera. La medida TWRa menudo se usa para comparar los retornos de las inversiones porque elimina los efectos distorsionadores sobre las tasas de crecimiento creados por las entradas y salidas de dinero. El rendimiento ponderado en el tiempo divide el rendimiento de una cartera de inversiones en intervalos separados en función de si se agregó o retiró dinero del fondo.\n",
    "\n",
    "La medida de rendimiento ponderada en el tiempo también se denomina rendimiento medio geométrico, que es una forma complicada de afirmar que los rendimientos de cada subperíodo se multiplican entre sí."
   ]
  },
  {
   "cell_type": "code",
   "execution_count": 46,
   "metadata": {
    "slideshow": {
     "slide_type": "fragment"
    }
   },
   "outputs": [
    {
     "data": {
      "text/html": [
       "<pre class=language-r><code>function (ev, bv, cfr) \n",
       "NULL</code></pre>"
      ],
      "text/latex": [
       "\\begin{minted}{r}\n",
       "function (ev, bv, cfr) \n",
       "NULL\n",
       "\\end{minted}"
      ],
      "text/markdown": [
       "```r\n",
       "function (ev, bv, cfr) \n",
       "NULL\n",
       "```"
      ],
      "text/plain": [
       "function (ev, bv, cfr) \n",
       "NULL"
      ]
     },
     "metadata": {},
     "output_type": "display_data"
    }
   ],
   "source": [
    "#help(twrr)\n",
    "args(twrr)"
   ]
  },
  {
   "cell_type": "markdown",
   "metadata": {
    "slideshow": {
     "slide_type": "subslide"
    }
   },
   "source": [
    "Ejemplo: \n",
    "\n",
    "Un inversionista compra una acción en t = 0 por 200. Al final del año (en t = 1) el inversionista compra una acción adicional de la misma acción, esta vez por 220. Luego vende ambas acciones al final del segundo año por 230 cada uno. También recibió dividendos anuales de 3 por acción al final de cada año. Calcule la tasa de rendimiento anual ponderada en el tiempo de su inversión\n",
    "\n",
    "Primero, desglosamos el período de 2 años en dos períodos de 1 año:\n",
    "\n",
    "Periodo 1:\n",
    "    \n",
    "Valor inicial = 200\n",
    "\n",
    "Dividendos pagados = 3\n",
    "\n",
    "Valor final = 220\n",
    "\n",
    "Periodo 2:\n",
    "    \n",
    "Valor inicial = 440 (2 acciones * 220)\n",
    "\n",
    "Dividendos pagados = 6 (2 acciones * 3)\n",
    "\n",
    "Valor final = 460 (2 acciones * 230)"
   ]
  },
  {
   "cell_type": "code",
   "execution_count": 47,
   "metadata": {
    "slideshow": {
     "slide_type": "subslide"
    }
   },
   "outputs": [
    {
     "data": {
      "text/html": [
       "0.086685954467234"
      ],
      "text/latex": [
       "0.086685954467234"
      ],
      "text/markdown": [
       "0.086685954467234"
      ],
      "text/plain": [
       "[1] 0.08668595"
      ]
     },
     "metadata": {},
     "output_type": "display_data"
    }
   ],
   "source": [
    "twrr(ev=c(220,2*230), bv=c(200,2*220), cfr=c(3,2*3))"
   ]
  },
  {
   "cell_type": "markdown",
   "metadata": {
    "slideshow": {
     "slide_type": "skip"
    }
   },
   "source": [
    "# Convirtiendo entre Tasa Efectiva Anual (EAR), rendimiento del periodo de tenencia (HPR) y Rendimiento del mercado monetario (MMY)"
   ]
  },
  {
   "cell_type": "markdown",
   "metadata": {
    "slideshow": {
     "slide_type": "skip"
    }
   },
   "source": [
    "Suponga que el precio de un bono del tesoro de 10.000  que vence en 150 días es de 9.800. El rendimiento del mercado monetario cotizado es 4.898%. Calcule la tasa efectiva anual y el rendimiento anual."
   ]
  },
  {
   "cell_type": "code",
   "execution_count": 48,
   "metadata": {
    "slideshow": {
     "slide_type": "skip"
    }
   },
   "outputs": [
    {
     "data": {
      "text/html": [
       "0.0204083333333333"
      ],
      "text/latex": [
       "0.0204083333333333"
      ],
      "text/markdown": [
       "0.0204083333333333"
      ],
      "text/plain": [
       "[1] 0.02040833"
      ]
     },
     "metadata": {},
     "output_type": "display_data"
    },
    {
     "data": {
      "text/html": [
       "0.0204081632653061"
      ],
      "text/latex": [
       "0.0204081632653061"
      ],
      "text/markdown": [
       "0.0204081632653061"
      ],
      "text/plain": [
       "[1] 0.02040816"
      ]
     },
     "metadata": {},
     "output_type": "display_data"
    },
    {
     "data": {
      "text/html": [
       "0.0503887425961882"
      ],
      "text/latex": [
       "0.0503887425961882"
      ],
      "text/markdown": [
       "0.0503887425961882"
      ],
      "text/plain": [
       "[1] 0.05038874"
      ]
     },
     "metadata": {},
     "output_type": "display_data"
    },
    {
     "data": {
      "text/html": [
       "0.0204083333333334"
      ],
      "text/latex": [
       "0.0204083333333334"
      ],
      "text/markdown": [
       "0.0204083333333334"
      ],
      "text/plain": [
       "[1] 0.02040833"
      ]
     },
     "metadata": {},
     "output_type": "display_data"
    }
   ],
   "source": [
    "mmy2hpr(mmy = 0.04898, t = 150)\n",
    "hpr(ev = 10000, bv = 9800)\n",
    "hpr2ear(hpr = mmy2hpr(mmy = 0.04898, t = 150), t = 150)\n",
    "ear2hpr(ear = hpr2ear(hpr = mmy2hpr(mmy = 0.04898, t = 150), t = 150), t = 150)"
   ]
  },
  {
   "cell_type": "markdown",
   "metadata": {
    "slideshow": {
     "slide_type": "skip"
    }
   },
   "source": [
    "# Cálculo del Rendimiento equivalente de bonos - BEY\n",
    "\n",
    "El rendimiento equivalente de bonos (BEY) permite que los valores de renta fija cuyos pagos no sean anuales se puedan comparar con valores con rendimientos anuales. El BEY es un cálculo para reexpresar los rendimientos de bonos o notas con descuento semestral, trimestral o mensual en un rendimiento anual, y es el rendimiento cotizado en los periódicos. \n",
    "\n",
    "Las empresas pueden recaudar capital de dos maneras principales: deuda o capital. El patrimonio se distribuye a los inversores en forma de acciones ordinarias; ocupa el segundo lugar de la deuda en caso de quiebra o incumplimiento, y puede no proporcionar al inversor un rendimiento si la empresa falla. Por el contrario, la deuda se considera más barata para la empresa y es más segura que el capital para los inversores. Aún así, la deuda debe ser pagada por la empresa, independientemente del crecimiento de las ganancias. De esta manera, proporciona un flujo de ingresos más confiable para el inversionista de bonos.\n",
    "\n",
    "Sin embargo, no todos los bonos son iguales. La mayoría de los bonos pagan a los inversores pagos de intereses anuales o semestrales. Algunos bonos, denominados bonos de cupón cero, no pagan intereses en absoluto, sino que se emiten con un profundo descuento a la par. El inversor obtiene un rendimiento cuando vence el bono. Para comparar el rendimiento de los valores descontados con otras inversiones en términos relativos, los analistas utilizan la fórmula de rendimiento equivalente de bonos."
   ]
  },
  {
   "cell_type": "code",
   "execution_count": 49,
   "metadata": {
    "slideshow": {
     "slide_type": "skip"
    }
   },
   "outputs": [
    {
     "data": {
      "text/html": [
       "<pre class=language-r><code>function (hpr, t) \n",
       "NULL</code></pre>"
      ],
      "text/latex": [
       "\\begin{minted}{r}\n",
       "function (hpr, t) \n",
       "NULL\n",
       "\\end{minted}"
      ],
      "text/markdown": [
       "```r\n",
       "function (hpr, t) \n",
       "NULL\n",
       "```"
      ],
      "text/plain": [
       "function (hpr, t) \n",
       "NULL"
      ]
     },
     "metadata": {},
     "output_type": "display_data"
    }
   ],
   "source": [
    "#help(hpr2bey)\n",
    "args(hpr2bey)"
   ]
  },
  {
   "cell_type": "markdown",
   "metadata": {
    "slideshow": {
     "slide_type": "skip"
    }
   },
   "source": [
    "# Ejemplo:\n",
    "\n",
    "¿Cuál es el rendimiento sobre una base equivalente a bonos de un préstamo a 3 meses que tiene un rendimiento del 4% en el período de tenencia?"
   ]
  },
  {
   "cell_type": "code",
   "execution_count": 50,
   "metadata": {
    "slideshow": {
     "slide_type": "skip"
    }
   },
   "outputs": [
    {
     "data": {
      "text/html": [
       "0.1632"
      ],
      "text/latex": [
       "0.1632"
      ],
      "text/markdown": [
       "0.1632"
      ],
      "text/plain": [
       "[1] 0.1632"
      ]
     },
     "metadata": {},
     "output_type": "display_data"
    }
   ],
   "source": [
    "hpr2bey(hpr = 0.04, t = 3)"
   ]
  },
  {
   "cell_type": "code",
   "execution_count": 51,
   "metadata": {
    "slideshow": {
     "slide_type": "skip"
    }
   },
   "outputs": [
    {
     "data": {
      "text/html": [
       "<pre class=language-r><code>function (ear) \n",
       "NULL</code></pre>"
      ],
      "text/latex": [
       "\\begin{minted}{r}\n",
       "function (ear) \n",
       "NULL\n",
       "\\end{minted}"
      ],
      "text/markdown": [
       "```r\n",
       "function (ear) \n",
       "NULL\n",
       "```"
      ],
      "text/plain": [
       "function (ear) \n",
       "NULL"
      ]
     },
     "metadata": {},
     "output_type": "display_data"
    }
   ],
   "source": [
    "#help(\"ear2bey\")\n",
    "args(ear2bey)"
   ]
  },
  {
   "cell_type": "markdown",
   "metadata": {
    "slideshow": {
     "slide_type": "skip"
    }
   },
   "source": [
    "¿Cuál es el rendimiento sobre una base equivalente de bonos de una inversión con un rendimiento anual efectivo del 6%?"
   ]
  },
  {
   "cell_type": "code",
   "execution_count": 52,
   "metadata": {
    "slideshow": {
     "slide_type": "skip"
    }
   },
   "outputs": [
    {
     "data": {
      "text/html": [
       "0.0591260281974"
      ],
      "text/latex": [
       "0.0591260281974"
      ],
      "text/markdown": [
       "0.0591260281974"
      ],
      "text/plain": [
       "[1] 0.05912603"
      ]
     },
     "metadata": {},
     "output_type": "display_data"
    }
   ],
   "source": [
    "ear2bey(ear = 0.06)"
   ]
  },
  {
   "cell_type": "markdown",
   "metadata": {
    "slideshow": {
     "slide_type": "subslide"
    }
   },
   "source": [
    "# Cálculo de la media ponderada como retorno de cartera"
   ]
  },
  {
   "cell_type": "code",
   "execution_count": 53,
   "metadata": {
    "slideshow": {
     "slide_type": "skip"
    }
   },
   "outputs": [
    {
     "data": {
      "text/html": [
       "<pre class=language-r><code>function (r, w) \n",
       "NULL</code></pre>"
      ],
      "text/latex": [
       "\\begin{minted}{r}\n",
       "function (r, w) \n",
       "NULL\n",
       "\\end{minted}"
      ],
      "text/markdown": [
       "```r\n",
       "function (r, w) \n",
       "NULL\n",
       "```"
      ],
      "text/plain": [
       "function (r, w) \n",
       "NULL"
      ]
     },
     "metadata": {},
     "output_type": "display_data"
    }
   ],
   "source": [
    "#help(wpr)\n",
    "args(wpr)"
   ]
  },
  {
   "cell_type": "markdown",
   "metadata": {
    "slideshow": {
     "slide_type": "fragment"
    }
   },
   "source": [
    "Una cartera consta de 40% de acciones ordinarias, 50% de bonos y 10% de efectivo. Si el rendimiento de las acciones ordinarias es del 9%, el rendimiento de los bonos es del 6% y el rendimiento del efectivo es del 1%, ¿cuál es el rendimiento de la cartera?"
   ]
  },
  {
   "cell_type": "code",
   "execution_count": 54,
   "metadata": {
    "slideshow": {
     "slide_type": "fragment"
    }
   },
   "outputs": [
    {
     "data": {
      "text/html": [
       "0.067"
      ],
      "text/latex": [
       "0.067"
      ],
      "text/markdown": [
       "0.067"
      ],
      "text/plain": [
       "[1] 0.067"
      ]
     },
     "metadata": {},
     "output_type": "display_data"
    }
   ],
   "source": [
    "wpr(r = c(0.09, 0.06, 0.01), w = c(0.4, 0.5, 0.1))"
   ]
  },
  {
   "cell_type": "markdown",
   "metadata": {
    "slideshow": {
     "slide_type": "skip"
    }
   },
   "source": [
    "# Retorno medio geométrico\n",
    "\n",
    "La tasa geométrica de rentabilidad es especialmente útil para medir la rentabilidad media de las operaciones financieras en las que las revalorizaciones o desvalorizaciones son acumulativas. Por tanto, esta medida es la adecuada y correcta en lugar de la rentabilidad media calculada, como es más habitual, mediante la media simple o aritmética. La tasa geométrica de rentabilidad se corresponde con la rentabilidad que se deduciría mediante la aplicación de la capitalización compuesta\n",
    "\n",
    "La rentabilidad geométrica o tasa geométrica de rentabilidad (TGR) se utiliza para conocer la rentabilidad de los activos financieros de la empresa de una forma más real a lo largo del tiempo que a través de una media aritmética. Sirve para conocer la rentabilidad de aquellos activos que hayan sufrido revalorizaciones o desvalorizaciones de forma acumulativa.\n",
    "\n",
    "La tasa de rentabilidad geométrica coincide con la rentabilidad que el inversor obtiene tras aplicar la capitalización compuesta en su inversión."
   ]
  },
  {
   "cell_type": "code",
   "execution_count": 55,
   "metadata": {
    "slideshow": {
     "slide_type": "skip"
    }
   },
   "outputs": [
    {
     "data": {
      "text/html": [
       "<pre class=language-r><code>function (r) \n",
       "NULL</code></pre>"
      ],
      "text/latex": [
       "\\begin{minted}{r}\n",
       "function (r) \n",
       "NULL\n",
       "\\end{minted}"
      ],
      "text/markdown": [
       "```r\n",
       "function (r) \n",
       "NULL\n",
       "```"
      ],
      "text/plain": [
       "function (r) \n",
       "NULL"
      ]
     },
     "metadata": {},
     "output_type": "display_data"
    }
   ],
   "source": [
    "#help(\"geometric.mean\")\n",
    "args(geometric.mean)"
   ]
  },
  {
   "cell_type": "markdown",
   "metadata": {
    "slideshow": {
     "slide_type": "skip"
    }
   },
   "source": [
    "# Ejemplo: \n",
    "\n",
    "Durante los últimos tres años, los rendimientos de las acciones ordinarias de Acme Corporation han sido de -5%, 11% y 9%. Calcule la tasa de rendimiento anual compuesta durante el período de 3 años."
   ]
  },
  {
   "cell_type": "code",
   "execution_count": 56,
   "metadata": {
    "slideshow": {
     "slide_type": "skip"
    }
   },
   "outputs": [
    {
     "data": {
      "text/html": [
       "0.0475088335123137"
      ],
      "text/latex": [
       "0.0475088335123137"
      ],
      "text/markdown": [
       "0.0475088335123137"
      ],
      "text/plain": [
       "[1] 0.04750883"
      ]
     },
     "metadata": {},
     "output_type": "display_data"
    }
   ],
   "source": [
    "geometric.mean(r = c(-0.05, 0.11, 0.09))"
   ]
  },
  {
   "cell_type": "markdown",
   "metadata": {
    "slideshow": {
     "slide_type": "skip"
    }
   },
   "source": [
    "# Calcular el costo promedio con la media armónica"
   ]
  },
  {
   "cell_type": "code",
   "execution_count": 57,
   "metadata": {
    "slideshow": {
     "slide_type": "skip"
    }
   },
   "outputs": [
    {
     "data": {
      "text/html": [
       "<pre class=language-r><code>function (p) \n",
       "NULL</code></pre>"
      ],
      "text/latex": [
       "\\begin{minted}{r}\n",
       "function (p) \n",
       "NULL\n",
       "\\end{minted}"
      ],
      "text/markdown": [
       "```r\n",
       "function (p) \n",
       "NULL\n",
       "```"
      ],
      "text/plain": [
       "function (p) \n",
       "NULL"
      ]
     },
     "metadata": {},
     "output_type": "display_data"
    }
   ],
   "source": [
    "#help(\"harmonic.mean\")\n",
    "args(harmonic.mean)"
   ]
  },
  {
   "cell_type": "markdown",
   "metadata": {
    "slideshow": {
     "slide_type": "skip"
    }
   },
   "source": [
    "Un inversor compra 10,000 acciones cada mes, y en los últimos tres meses los precios pagados por acción fueron 4.5, 5.2 y 4.8. ¿Cuál es el costo promedio por acción de las acciones adquiridas?"
   ]
  },
  {
   "cell_type": "code",
   "execution_count": 58,
   "metadata": {
    "slideshow": {
     "slide_type": "skip"
    }
   },
   "outputs": [
    {
     "data": {
      "text/html": [
       "4.81646655231561"
      ],
      "text/latex": [
       "4.81646655231561"
      ],
      "text/markdown": [
       "4.81646655231561"
      ],
      "text/plain": [
       "[1] 4.816467"
      ]
     },
     "metadata": {},
     "output_type": "display_data"
    }
   ],
   "source": [
    "harmonic.mean(p = c(4.5, 5.2, 4.8))"
   ]
  },
  {
   "cell_type": "markdown",
   "metadata": {
    "slideshow": {
     "slide_type": "subslide"
    }
   },
   "source": [
    "# Costo de venta bajo 3 métodos diferentes"
   ]
  },
  {
   "cell_type": "markdown",
   "metadata": {
    "slideshow": {
     "slide_type": "fragment"
    }
   },
   "source": [
    "Una de las principales decisiones contables que deben tomar las empresas que venden productos es qué método utilizar para registrar el costo de los gastos de venta de bienes, que es la suma de los costos de los productos vendidos a los clientes durante el período. Se deduce el costo de los bienes vendidos de los ingresos por ventas para determinar el margen bruto. El costo de los bienes vendidos es una cifra muy importante porque si el margen bruto es incorrecto, el beneficio final (ingreso neto) es incorrecto."
   ]
  },
  {
   "cell_type": "markdown",
   "metadata": {
    "slideshow": {
     "slide_type": "fragment"
    }
   },
   "source": [
    "Los costos del producto se ingresan en la cuenta del activo de inventario en el orden en que se adquirieron, pero no necesariamente se sacan de la cuenta del activo de inventario en el mismo orden. Puede elegir entre varios métodos para registrar el costo de los bienes vendidos y el saldo de costos que permanece en su cuenta de activos de inventario:"
   ]
  },
  {
   "cell_type": "markdown",
   "metadata": {
    "slideshow": {
     "slide_type": "subslide"
    }
   },
   "source": [
    "El método FIFO (primero en entrar, primero en salir): Usted cobra los costos del producto al costo de los bienes vendidos en el orden cronológico en el que los adquirió. El procedimiento es así de simple. Es como si las primeras personas en la fila que vieran una película entraran al cine primero. El tomador de boletos recoge los boletos en el orden en que fueron comprados.\n",
    "\n",
    "\n",
    "El método LIFO (último en entrar, primero en salir): La característica principal del método LIFO es que selecciona el último artículo que compró primero y luego funciona hacia atrás hasta que tenga el costo total por el número total de unidades vendidas durante el período.\n",
    "\n",
    "\n",
    "El método de costo promedio: en comparación con los métodos FIFO y LIFO, el método de costo promedio parece ofrecer lo mejor de ambos mundos. Los costos de muchas cosas en el mundo de los negocios fluctúan, por lo que puede decidir centrarse en el costo promedio del producto durante un período de tiempo. Además, el promedio de los costos de los productos durante un período de tiempo tiene un efecto de suavización deseable que evita que el costo de los bienes vendidos dependa demasiado de los cambios bruscos de una o dos adquisiciones."
   ]
  },
  {
   "cell_type": "code",
   "execution_count": 59,
   "metadata": {
    "slideshow": {
     "slide_type": "subslide"
    }
   },
   "outputs": [
    {
     "data": {
      "text/html": [
       "<dl>\n",
       "\t<dt>$costOfGoods</dt>\n",
       "\t\t<dd>23</dd>\n",
       "\t<dt>$endingInventory</dt>\n",
       "\t\t<dd>15</dd>\n",
       "</dl>\n"
      ],
      "text/latex": [
       "\\begin{description}\n",
       "\\item[\\$costOfGoods] 23\n",
       "\\item[\\$endingInventory] 15\n",
       "\\end{description}\n"
      ],
      "text/markdown": [
       "$costOfGoods\n",
       ":   23\n",
       "$endingInventory\n",
       ":   15\n",
       "\n",
       "\n"
      ],
      "text/plain": [
       "$costOfGoods\n",
       "[1] 23\n",
       "\n",
       "$endingInventory\n",
       "[1] 15\n"
      ]
     },
     "metadata": {},
     "output_type": "display_data"
    },
    {
     "data": {
      "text/html": [
       "<dl>\n",
       "\t<dt>$costOfGoods</dt>\n",
       "\t\t<dd>31</dd>\n",
       "\t<dt>$endingInventory</dt>\n",
       "\t\t<dd>7</dd>\n",
       "</dl>\n"
      ],
      "text/latex": [
       "\\begin{description}\n",
       "\\item[\\$costOfGoods] 31\n",
       "\\item[\\$endingInventory] 7\n",
       "\\end{description}\n"
      ],
      "text/markdown": [
       "$costOfGoods\n",
       ":   31\n",
       "$endingInventory\n",
       ":   7\n",
       "\n",
       "\n"
      ],
      "text/plain": [
       "$costOfGoods\n",
       "[1] 31\n",
       "\n",
       "$endingInventory\n",
       "[1] 7\n"
      ]
     },
     "metadata": {},
     "output_type": "display_data"
    },
    {
     "data": {
      "text/html": [
       "<dl>\n",
       "\t<dt>$costOfGoods</dt>\n",
       "\t\t<dd>26.6</dd>\n",
       "\t<dt>$endingInventory</dt>\n",
       "\t\t<dd>11.4</dd>\n",
       "</dl>\n"
      ],
      "text/latex": [
       "\\begin{description}\n",
       "\\item[\\$costOfGoods] 26.6\n",
       "\\item[\\$endingInventory] 11.4\n",
       "\\end{description}\n"
      ],
      "text/markdown": [
       "$costOfGoods\n",
       ":   26.6\n",
       "$endingInventory\n",
       ":   11.4\n",
       "\n",
       "\n"
      ],
      "text/plain": [
       "$costOfGoods\n",
       "[1] 26.6\n",
       "\n",
       "$endingInventory\n",
       "[1] 11.4\n"
      ]
     },
     "metadata": {},
     "output_type": "display_data"
    }
   ],
   "source": [
    "cogs(uinv=2,pinv=2,units=c(3,5),price=c(3,5),sinv=7,method=\"FIFO\")\n",
    "cogs(uinv=2,pinv=2,units=c(3,5),price=c(3,5),sinv=7,method=\"LIFO\")\n",
    "cogs(uinv=2,pinv=2,units=c(3,5),price=c(3,5),sinv=7,method=\"WAC\")"
   ]
  },
  {
   "cell_type": "markdown",
   "metadata": {
    "slideshow": {
     "slide_type": "slide"
    }
   },
   "source": [
    "# Ejemplos prácticos "
   ]
  },
  {
   "cell_type": "code",
   "execution_count": 3,
   "metadata": {
    "slideshow": {
     "slide_type": "fragment"
    }
   },
   "outputs": [],
   "source": [
    "# Instalemos la libreria \"readxl\" \n",
    "#install.packages(\"readxl\")\n",
    "library(readxl)\n",
    "library(\"FinCal\")"
   ]
  },
  {
   "cell_type": "markdown",
   "metadata": {
    "slideshow": {
     "slide_type": "subslide"
    }
   },
   "source": [
    "# Cálculo del VPN y la TIR"
   ]
  },
  {
   "cell_type": "code",
   "execution_count": 4,
   "metadata": {
    "slideshow": {
     "slide_type": "fragment"
    }
   },
   "outputs": [
    {
     "name": "stderr",
     "output_type": "stream",
     "text": [
      "New names:\n",
      "* Depreciaciones -> Depreciaciones...6\n",
      "* Depreciaciones -> Depreciaciones...16\n",
      "\n"
     ]
    },
    {
     "data": {
      "text/html": [
       "<table>\n",
       "<caption>A tibble: 6 × 17</caption>\n",
       "<thead>\n",
       "\t<tr><th scope=col>Año</th><th scope=col>Ventas</th><th scope=col>Costos (Balance Personal)</th><th scope=col>Utilidad marginal</th><th scope=col>Gastos (Mantenimiento)</th><th scope=col>Depreciaciones...6</th><th scope=col>UAII</th><th scope=col>Intereses(16.5%)</th><th scope=col>Utilidad antes de impuestos</th><th scope=col>Impuestos (25%)</th><th scope=col>Utilidad Neta</th><th scope=col>Inversiones*</th><th scope=col>Amortizaciones</th><th scope=col>Préstamos</th><th scope=col>Venta de activos</th><th scope=col>Depreciaciones...16</th><th scope=col>FCN</th></tr>\n",
       "\t<tr><th scope=col>&lt;dbl&gt;</th><th scope=col>&lt;dbl&gt;</th><th scope=col>&lt;dbl&gt;</th><th scope=col>&lt;dbl&gt;</th><th scope=col>&lt;dbl&gt;</th><th scope=col>&lt;dbl&gt;</th><th scope=col>&lt;dbl&gt;</th><th scope=col>&lt;dbl&gt;</th><th scope=col>&lt;dbl&gt;</th><th scope=col>&lt;dbl&gt;</th><th scope=col>&lt;dbl&gt;</th><th scope=col>&lt;dbl&gt;</th><th scope=col>&lt;dbl&gt;</th><th scope=col>&lt;dbl&gt;</th><th scope=col>&lt;dbl&gt;</th><th scope=col>&lt;dbl&gt;</th><th scope=col>&lt;dbl&gt;</th></tr>\n",
       "</thead>\n",
       "<tbody>\n",
       "\t<tr><td>0</td><td>    NA</td><td>    NA</td><td>    NA</td><td>  NA</td><td>      NA</td><td>      NA</td><td>       NA</td><td>      NA</td><td>      NA</td><td>      NA</td><td>653550</td><td>     NA</td><td>98032.5</td><td>       NA</td><td>      NA</td><td>-555517.50</td></tr>\n",
       "\t<tr><td>1</td><td>372000</td><td>275100</td><td> 96900</td><td>9644</td><td>53153.33</td><td>34102.67</td><td>16175.363</td><td>17927.30</td><td>    0.00</td><td>17927.30</td><td>     0</td><td>19606.5</td><td>     NA</td><td>    0.000</td><td>53153.33</td><td>  51474.14</td></tr>\n",
       "\t<tr><td>2</td><td>405000</td><td>275100</td><td>129900</td><td>9644</td><td>53153.33</td><td>67102.67</td><td>12940.290</td><td>54162.38</td><td>13540.59</td><td>40621.78</td><td>120550</td><td>19606.5</td><td>     NA</td><td>    0.000</td><td>53153.33</td><td> -46381.38</td></tr>\n",
       "\t<tr><td>3</td><td>405000</td><td>275100</td><td>129900</td><td>9644</td><td>53153.33</td><td>67102.67</td><td> 9705.218</td><td>57397.45</td><td>14349.36</td><td>43048.09</td><td>  4600</td><td>19606.5</td><td>     NA</td><td> 1533.333</td><td>53153.33</td><td>  73528.25</td></tr>\n",
       "\t<tr><td>4</td><td>405000</td><td>275100</td><td>129900</td><td>9644</td><td>53153.33</td><td>67102.67</td><td> 6470.145</td><td>60632.52</td><td>15158.13</td><td>45474.39</td><td>     0</td><td>19606.5</td><td>     NA</td><td>    0.000</td><td>53153.33</td><td>  79021.22</td></tr>\n",
       "\t<tr><td>5</td><td>405000</td><td>275100</td><td>129900</td><td>9644</td><td>53153.33</td><td>67102.67</td><td> 3235.073</td><td>63867.59</td><td>15966.90</td><td>47900.70</td><td>258100</td><td>19606.5</td><td>     NA</td><td>51620.000</td><td>53153.33</td><td>-125032.47</td></tr>\n",
       "</tbody>\n",
       "</table>\n"
      ],
      "text/latex": [
       "A tibble: 6 × 17\n",
       "\\begin{tabular}{lllllllllllllllll}\n",
       " Año & Ventas & Costos (Balance Personal) & Utilidad marginal & Gastos (Mantenimiento) & Depreciaciones...6 & UAII & Intereses(16.5\\%) & Utilidad antes de impuestos & Impuestos (25\\%) & Utilidad Neta & Inversiones* & Amortizaciones & Préstamos & Venta de activos & Depreciaciones...16 & FCN\\\\\n",
       " <dbl> & <dbl> & <dbl> & <dbl> & <dbl> & <dbl> & <dbl> & <dbl> & <dbl> & <dbl> & <dbl> & <dbl> & <dbl> & <dbl> & <dbl> & <dbl> & <dbl>\\\\\n",
       "\\hline\n",
       "\t 0 &     NA &     NA &     NA &   NA &       NA &       NA &        NA &       NA &       NA &       NA & 653550 &      NA & 98032.5 &        NA &       NA & -555517.50\\\\\n",
       "\t 1 & 372000 & 275100 &  96900 & 9644 & 53153.33 & 34102.67 & 16175.363 & 17927.30 &     0.00 & 17927.30 &      0 & 19606.5 &      NA &     0.000 & 53153.33 &   51474.14\\\\\n",
       "\t 2 & 405000 & 275100 & 129900 & 9644 & 53153.33 & 67102.67 & 12940.290 & 54162.38 & 13540.59 & 40621.78 & 120550 & 19606.5 &      NA &     0.000 & 53153.33 &  -46381.38\\\\\n",
       "\t 3 & 405000 & 275100 & 129900 & 9644 & 53153.33 & 67102.67 &  9705.218 & 57397.45 & 14349.36 & 43048.09 &   4600 & 19606.5 &      NA &  1533.333 & 53153.33 &   73528.25\\\\\n",
       "\t 4 & 405000 & 275100 & 129900 & 9644 & 53153.33 & 67102.67 &  6470.145 & 60632.52 & 15158.13 & 45474.39 &      0 & 19606.5 &      NA &     0.000 & 53153.33 &   79021.22\\\\\n",
       "\t 5 & 405000 & 275100 & 129900 & 9644 & 53153.33 & 67102.67 &  3235.073 & 63867.59 & 15966.90 & 47900.70 & 258100 & 19606.5 &      NA & 51620.000 & 53153.33 & -125032.47\\\\\n",
       "\\end{tabular}\n"
      ],
      "text/markdown": [
       "\n",
       "A tibble: 6 × 17\n",
       "\n",
       "| Año &lt;dbl&gt; | Ventas &lt;dbl&gt; | Costos (Balance Personal) &lt;dbl&gt; | Utilidad marginal &lt;dbl&gt; | Gastos (Mantenimiento) &lt;dbl&gt; | Depreciaciones...6 &lt;dbl&gt; | UAII &lt;dbl&gt; | Intereses(16.5%) &lt;dbl&gt; | Utilidad antes de impuestos &lt;dbl&gt; | Impuestos (25%) &lt;dbl&gt; | Utilidad Neta &lt;dbl&gt; | Inversiones* &lt;dbl&gt; | Amortizaciones &lt;dbl&gt; | Préstamos &lt;dbl&gt; | Venta de activos &lt;dbl&gt; | Depreciaciones...16 &lt;dbl&gt; | FCN &lt;dbl&gt; |\n",
       "|---|---|---|---|---|---|---|---|---|---|---|---|---|---|---|---|---|\n",
       "| 0 |     NA |     NA |     NA |   NA |       NA |       NA |        NA |       NA |       NA |       NA | 653550 |      NA | 98032.5 |        NA |       NA | -555517.50 |\n",
       "| 1 | 372000 | 275100 |  96900 | 9644 | 53153.33 | 34102.67 | 16175.363 | 17927.30 |     0.00 | 17927.30 |      0 | 19606.5 |      NA |     0.000 | 53153.33 |   51474.14 |\n",
       "| 2 | 405000 | 275100 | 129900 | 9644 | 53153.33 | 67102.67 | 12940.290 | 54162.38 | 13540.59 | 40621.78 | 120550 | 19606.5 |      NA |     0.000 | 53153.33 |  -46381.38 |\n",
       "| 3 | 405000 | 275100 | 129900 | 9644 | 53153.33 | 67102.67 |  9705.218 | 57397.45 | 14349.36 | 43048.09 |   4600 | 19606.5 |      NA |  1533.333 | 53153.33 |   73528.25 |\n",
       "| 4 | 405000 | 275100 | 129900 | 9644 | 53153.33 | 67102.67 |  6470.145 | 60632.52 | 15158.13 | 45474.39 |      0 | 19606.5 |      NA |     0.000 | 53153.33 |   79021.22 |\n",
       "| 5 | 405000 | 275100 | 129900 | 9644 | 53153.33 | 67102.67 |  3235.073 | 63867.59 | 15966.90 | 47900.70 | 258100 | 19606.5 |      NA | 51620.000 | 53153.33 | -125032.47 |\n",
       "\n"
      ],
      "text/plain": [
       "  Año Ventas Costos (Balance Personal) Utilidad marginal Gastos (Mantenimiento)\n",
       "1 0       NA     NA                        NA              NA                  \n",
       "2 1   372000 275100                     96900            9644                  \n",
       "3 2   405000 275100                    129900            9644                  \n",
       "4 3   405000 275100                    129900            9644                  \n",
       "5 4   405000 275100                    129900            9644                  \n",
       "6 5   405000 275100                    129900            9644                  \n",
       "  Depreciaciones...6 UAII     Intereses(16.5%) Utilidad antes de impuestos\n",
       "1       NA                 NA        NA              NA                   \n",
       "2 53153.33           34102.67 16175.363        17927.30                   \n",
       "3 53153.33           67102.67 12940.290        54162.38                   \n",
       "4 53153.33           67102.67  9705.218        57397.45                   \n",
       "5 53153.33           67102.67  6470.145        60632.52                   \n",
       "6 53153.33           67102.67  3235.073        63867.59                   \n",
       "  Impuestos (25%) Utilidad Neta Inversiones* Amortizaciones Préstamos\n",
       "1       NA              NA      653550            NA        98032.5  \n",
       "2     0.00        17927.30           0       19606.5             NA  \n",
       "3 13540.59        40621.78      120550       19606.5             NA  \n",
       "4 14349.36        43048.09        4600       19606.5             NA  \n",
       "5 15158.13        45474.39           0       19606.5             NA  \n",
       "6 15966.90        47900.70      258100       19606.5             NA  \n",
       "  Venta de activos Depreciaciones...16 FCN       \n",
       "1        NA              NA            -555517.50\n",
       "2     0.000        53153.33              51474.14\n",
       "3     0.000        53153.33             -46381.38\n",
       "4  1533.333        53153.33              73528.25\n",
       "5     0.000        53153.33              79021.22\n",
       "6 51620.000        53153.33            -125032.47"
      ]
     },
     "metadata": {},
     "output_type": "display_data"
    },
    {
     "data": {
      "text/html": [
       "<style>\n",
       ".list-inline {list-style: none; margin:0; padding: 0}\n",
       ".list-inline>li {display: inline-block}\n",
       ".list-inline>li:not(:last-child)::after {content: \"\\00b7\"; padding: 0 .5ex}\n",
       "</style>\n",
       "<ol class=list-inline><li>-555517.5</li><li>51474.1375</li><li>-46381.3841666667</li><li>73528.2535416667</li><li>79021.2245833333</li><li>-125032.471041667</li></ol>\n"
      ],
      "text/latex": [
       "\\begin{enumerate*}\n",
       "\\item -555517.5\n",
       "\\item 51474.1375\n",
       "\\item -46381.3841666667\n",
       "\\item 73528.2535416667\n",
       "\\item 79021.2245833333\n",
       "\\item -125032.471041667\n",
       "\\end{enumerate*}\n"
      ],
      "text/markdown": [
       "1. -555517.5\n",
       "2. 51474.1375\n",
       "3. -46381.3841666667\n",
       "4. 73528.2535416667\n",
       "5. 79021.2245833333\n",
       "6. -125032.471041667\n",
       "\n",
       "\n"
      ],
      "text/plain": [
       "[1] -555517.50   51474.14  -46381.38   73528.25   79021.22 -125032.47"
      ]
     },
     "metadata": {},
     "output_type": "display_data"
    }
   ],
   "source": [
    "Wacc = 0.1419\n",
    "\n",
    "datos.desde.xls  <- read_excel(\"Datos2.xlsx\") \n",
    "datos.desde.xls\n",
    "\n",
    "# Definimos esta variable como el flujo de caja del Proyecto 1\n",
    "fcn=datos.desde.xls$`FCN`\n",
    "fcn"
   ]
  },
  {
   "cell_type": "code",
   "execution_count": 5,
   "metadata": {
    "slideshow": {
     "slide_type": "subslide"
    }
   },
   "outputs": [
    {
     "data": {
      "text/html": [
       "450609.709695948"
      ],
      "text/latex": [
       "450609.709695948"
      ],
      "text/markdown": [
       "450609.709695948"
      ],
      "text/plain": [
       "[1] 450609.7"
      ]
     },
     "metadata": {},
     "output_type": "display_data"
    },
    {
     "data": {
      "text/html": [
       "-1.00010455765464"
      ],
      "text/latex": [
       "-1.00010455765464"
      ],
      "text/markdown": [
       "-1.00010455765464"
      ],
      "text/plain": [
       "[1] -1.000105"
      ]
     },
     "metadata": {},
     "output_type": "display_data"
    }
   ],
   "source": [
    "# Retorna el valor presente de el flujo de caja\n",
    "pv.uneven(r = Wacc, cf = fcn)\n",
    "# Regresa la tasa interna de retorno del Proyecto 1\n",
    "irr(fcn)"
   ]
  },
  {
   "cell_type": "markdown",
   "metadata": {
    "slideshow": {
     "slide_type": "subslide"
    }
   },
   "source": [
    "# Cálculo del pago del préstamo "
   ]
  },
  {
   "cell_type": "code",
   "execution_count": 5,
   "metadata": {
    "slideshow": {
     "slide_type": "fragment"
    }
   },
   "outputs": [
    {
     "data": {
      "text/html": [
       "100966.649968732"
      ],
      "text/latex": [
       "100966.649968732"
      ],
      "text/markdown": [
       "100966.649968732"
      ],
      "text/plain": [
       "[1] 100966.6"
      ]
     },
     "metadata": {},
     "output_type": "display_data"
    }
   ],
   "source": [
    "# Comparación de dos estructuras de deuda utilizando la funcion PMT\n",
    "#Estructura de 50% de prestamo y 50% financiamiento propio\n",
    "pmt(r = 0.165, n = 5, pv = -326775, fv = 0, type=0)"
   ]
  },
  {
   "cell_type": "code",
   "execution_count": 6,
   "metadata": {
    "slideshow": {
     "slide_type": "fragment"
    }
   },
   "outputs": [
    {
     "data": {
      "text/html": [
       "30290.1494801766"
      ],
      "text/latex": [
       "30290.1494801766"
      ],
      "text/markdown": [
       "30290.1494801766"
      ],
      "text/plain": [
       "[1] 30290.15"
      ]
     },
     "metadata": {},
     "output_type": "display_data"
    }
   ],
   "source": [
    "#Estructura de 15% de prestamo y 85% financiamiento propio.\n",
    "pmt(r = 0.165, n = 5, pv = -98033, fv = 0, type=0)"
   ]
  },
  {
   "cell_type": "markdown",
   "metadata": {
    "slideshow": {
     "slide_type": "subslide"
    }
   },
   "source": [
    "# Evaluación y selección de proyectos"
   ]
  },
  {
   "cell_type": "code",
   "execution_count": 7,
   "metadata": {
    "slideshow": {
     "slide_type": "subslide"
    }
   },
   "outputs": [
    {
     "data": {
      "text/html": [
       "<table>\n",
       "<caption>A tibble: 5 × 4</caption>\n",
       "<thead>\n",
       "\t<tr><th scope=col>AÑO</th><th scope=col>PROYECTO A</th><th scope=col>PROYECTO B</th><th scope=col>PROYECTO C</th></tr>\n",
       "\t<tr><th scope=col>&lt;dbl&gt;</th><th scope=col>&lt;dbl&gt;</th><th scope=col>&lt;dbl&gt;</th><th scope=col>&lt;dbl&gt;</th></tr>\n",
       "</thead>\n",
       "<tbody>\n",
       "\t<tr><td>0</td><td>-1e+07</td><td>-2e+07</td><td>-1.6e+07</td></tr>\n",
       "\t<tr><td>1</td><td> 0e+00</td><td> 4e+06</td><td> 5.0e+06</td></tr>\n",
       "\t<tr><td>2</td><td> 6e+06</td><td> 5e+06</td><td> 8.0e+06</td></tr>\n",
       "\t<tr><td>3</td><td> 6e+06</td><td> 6e+06</td><td> 3.0e+06</td></tr>\n",
       "\t<tr><td>4</td><td> 8e+06</td><td> 8e+06</td><td> 3.0e+06</td></tr>\n",
       "</tbody>\n",
       "</table>\n"
      ],
      "text/latex": [
       "A tibble: 5 × 4\n",
       "\\begin{tabular}{llll}\n",
       " AÑO & PROYECTO A & PROYECTO B & PROYECTO C\\\\\n",
       " <dbl> & <dbl> & <dbl> & <dbl>\\\\\n",
       "\\hline\n",
       "\t 0 & -1e+07 & -2e+07 & -1.6e+07\\\\\n",
       "\t 1 &  0e+00 &  4e+06 &  5.0e+06\\\\\n",
       "\t 2 &  6e+06 &  5e+06 &  8.0e+06\\\\\n",
       "\t 3 &  6e+06 &  6e+06 &  3.0e+06\\\\\n",
       "\t 4 &  8e+06 &  8e+06 &  3.0e+06\\\\\n",
       "\\end{tabular}\n"
      ],
      "text/markdown": [
       "\n",
       "A tibble: 5 × 4\n",
       "\n",
       "| AÑO &lt;dbl&gt; | PROYECTO A &lt;dbl&gt; | PROYECTO B &lt;dbl&gt; | PROYECTO C &lt;dbl&gt; |\n",
       "|---|---|---|---|\n",
       "| 0 | -1e+07 | -2e+07 | -1.6e+07 |\n",
       "| 1 |  0e+00 |  4e+06 |  5.0e+06 |\n",
       "| 2 |  6e+06 |  5e+06 |  8.0e+06 |\n",
       "| 3 |  6e+06 |  6e+06 |  3.0e+06 |\n",
       "| 4 |  8e+06 |  8e+06 |  3.0e+06 |\n",
       "\n"
      ],
      "text/plain": [
       "  AÑO PROYECTO A PROYECTO B PROYECTO C\n",
       "1 0   -1e+07     -2e+07     -1.6e+07  \n",
       "2 1    0e+00      4e+06      5.0e+06  \n",
       "3 2    6e+06      5e+06      8.0e+06  \n",
       "4 3    6e+06      6e+06      3.0e+06  \n",
       "5 4    8e+06      8e+06      3.0e+06  "
      ]
     },
     "metadata": {},
     "output_type": "display_data"
    },
    {
     "data": {
      "text/html": [
       "<style>\n",
       ".list-inline {list-style: none; margin:0; padding: 0}\n",
       ".list-inline>li {display: inline-block}\n",
       ".list-inline>li:not(:last-child)::after {content: \"\\00b7\"; padding: 0 .5ex}\n",
       "</style>\n",
       "<ol class=list-inline><li>-1e+07</li><li>0</li><li>6e+06</li><li>6e+06</li><li>8e+06</li></ol>\n"
      ],
      "text/latex": [
       "\\begin{enumerate*}\n",
       "\\item -1e+07\n",
       "\\item 0\n",
       "\\item 6e+06\n",
       "\\item 6e+06\n",
       "\\item 8e+06\n",
       "\\end{enumerate*}\n"
      ],
      "text/markdown": [
       "1. -1e+07\n",
       "2. 0\n",
       "3. 6e+06\n",
       "4. 6e+06\n",
       "5. 8e+06\n",
       "\n",
       "\n"
      ],
      "text/plain": [
       "[1] -1e+07  0e+00  6e+06  6e+06  8e+06"
      ]
     },
     "metadata": {},
     "output_type": "display_data"
    },
    {
     "data": {
      "text/html": [
       "<style>\n",
       ".list-inline {list-style: none; margin:0; padding: 0}\n",
       ".list-inline>li {display: inline-block}\n",
       ".list-inline>li:not(:last-child)::after {content: \"\\00b7\"; padding: 0 .5ex}\n",
       "</style>\n",
       "<ol class=list-inline><li>-2e+07</li><li>4e+06</li><li>5e+06</li><li>6e+06</li><li>8e+06</li></ol>\n"
      ],
      "text/latex": [
       "\\begin{enumerate*}\n",
       "\\item -2e+07\n",
       "\\item 4e+06\n",
       "\\item 5e+06\n",
       "\\item 6e+06\n",
       "\\item 8e+06\n",
       "\\end{enumerate*}\n"
      ],
      "text/markdown": [
       "1. -2e+07\n",
       "2. 4e+06\n",
       "3. 5e+06\n",
       "4. 6e+06\n",
       "5. 8e+06\n",
       "\n",
       "\n"
      ],
      "text/plain": [
       "[1] -2e+07  4e+06  5e+06  6e+06  8e+06"
      ]
     },
     "metadata": {},
     "output_type": "display_data"
    },
    {
     "data": {
      "text/html": [
       "<style>\n",
       ".list-inline {list-style: none; margin:0; padding: 0}\n",
       ".list-inline>li {display: inline-block}\n",
       ".list-inline>li:not(:last-child)::after {content: \"\\00b7\"; padding: 0 .5ex}\n",
       "</style>\n",
       "<ol class=list-inline><li>-1.6e+07</li><li>5e+06</li><li>8e+06</li><li>3e+06</li><li>3e+06</li></ol>\n"
      ],
      "text/latex": [
       "\\begin{enumerate*}\n",
       "\\item -1.6e+07\n",
       "\\item 5e+06\n",
       "\\item 8e+06\n",
       "\\item 3e+06\n",
       "\\item 3e+06\n",
       "\\end{enumerate*}\n"
      ],
      "text/markdown": [
       "1. -1.6e+07\n",
       "2. 5e+06\n",
       "3. 8e+06\n",
       "4. 3e+06\n",
       "5. 3e+06\n",
       "\n",
       "\n"
      ],
      "text/plain": [
       "[1] -1.6e+07  5.0e+06  8.0e+06  3.0e+06  3.0e+06"
      ]
     },
     "metadata": {},
     "output_type": "display_data"
    }
   ],
   "source": [
    "#Importamos desde excel los flujos de efectivo de 3 diferentes proyectos.\n",
    "#Cada proyecto tiene una distinta inversión inicial\n",
    "datos.desde.xls3  <- read_excel(\"Proyectos.xlsx\") \n",
    "datos.desde.xls3\n",
    "\n",
    "#Cargamos los datos de cada Proyecto\n",
    "PA=datos.desde.xls3$`PROYECTO A`\n",
    "PA\n",
    "\n",
    "PB=datos.desde.xls3$`PROYECTO B`\n",
    "PB\n",
    "\n",
    "PC=datos.desde.xls3$`PROYECTO C`\n",
    "PC"
   ]
  },
  {
   "cell_type": "code",
   "execution_count": 8,
   "metadata": {
    "slideshow": {
     "slide_type": "subslide"
    }
   },
   "outputs": [
    {
     "data": {
      "text/html": [
       "6241581.32736458"
      ],
      "text/latex": [
       "6241581.32736458"
      ],
      "text/markdown": [
       "6241581.32736458"
      ],
      "text/plain": [
       "[1] 6241581"
      ]
     },
     "metadata": {},
     "output_type": "display_data"
    },
    {
     "data": {
      "text/html": [
       "-893539.643899284"
      ],
      "text/latex": [
       "-893539.643899284"
      ],
      "text/markdown": [
       "-893539.643899284"
      ],
      "text/plain": [
       "[1] -893539.6"
      ]
     },
     "metadata": {},
     "output_type": "display_data"
    },
    {
     "data": {
      "text/html": [
       "397986.289262503"
      ],
      "text/latex": [
       "397986.289262503"
      ],
      "text/markdown": [
       "397986.289262503"
      ],
      "text/plain": [
       "[1] 397986.3"
      ]
     },
     "metadata": {},
     "output_type": "display_data"
    }
   ],
   "source": [
    "#Valor presente neto de los tres proyectos dado una tasa de descuento.\n",
    "VANPA=npv(0.07,PA)\n",
    "VANPB=npv(0.07,PB)\n",
    "VANPC=npv(0.07,PC)\n",
    "VANPA\n",
    "VANPB\n",
    "VANPC"
   ]
  },
  {
   "cell_type": "code",
   "execution_count": 9,
   "metadata": {
    "slideshow": {
     "slide_type": "skip"
    }
   },
   "outputs": [
    {
     "data": {
      "text/html": [
       "6241581.32736458"
      ],
      "text/latex": [
       "6241581.32736458"
      ],
      "text/markdown": [
       "6241581.32736458"
      ],
      "text/plain": [
       "[1] 6241581"
      ]
     },
     "metadata": {},
     "output_type": "display_data"
    }
   ],
   "source": [
    "#Un inversionista puede comparar los diferentes proyectos para decidir en cual invertir\n",
    "max(c(VANPA,VANPB,VANPC))"
   ]
  },
  {
   "cell_type": "markdown",
   "metadata": {
    "slideshow": {
     "slide_type": "skip"
    }
   },
   "source": [
    "# Media ponderada del retorno de una cartera en especifico.\n"
   ]
  },
  {
   "cell_type": "code",
   "execution_count": 10,
   "metadata": {
    "slideshow": {
     "slide_type": "skip"
    }
   },
   "outputs": [
    {
     "data": {
      "text/html": [
       "0.77"
      ],
      "text/latex": [
       "0.77"
      ],
      "text/markdown": [
       "0.77"
      ],
      "text/plain": [
       "[1] 0.77"
      ]
     },
     "metadata": {},
     "output_type": "display_data"
    }
   ],
   "source": [
    "Retornos= c(0.4,0.7,0.9)\n",
    "Portafolios = c(0.1, 0.4, 0.5)\n",
    "\n",
    "wpr(r=Retornos, w=Portafolios)"
   ]
  },
  {
   "cell_type": "markdown",
   "metadata": {
    "slideshow": {
     "slide_type": "slide"
    }
   },
   "source": [
    "# Simulacion proceso AR(1) sobre el precio de mercado de computadoras"
   ]
  },
  {
   "cell_type": "markdown",
   "metadata": {
    "slideshow": {
     "slide_type": "fragment"
    }
   },
   "source": [
    "Por ejemplo una compañia estudia la introduccion de un nuevo producto: computadoras\n",
    "\n",
    "Entre los elementos de simulacion se pueden incluir:\n",
    "\n",
    "Cantidad de unidades a producir\n",
    "\n",
    "Precio de mercado\n",
    "\n",
    "Costos unitarios de produccion\n",
    "\n",
    "Costos unitarios de venta\n",
    "\n",
    "Precio de compra de maquinaria para fabricar nuevo producto\n",
    "\n",
    "Costo de capital\n",
    "\n"
   ]
  },
  {
   "cell_type": "code",
   "execution_count": 11,
   "metadata": {
    "slideshow": {
     "slide_type": "subslide"
    }
   },
   "outputs": [],
   "source": [
    "#Parametros\n",
    "\n",
    "nSim=10000 #Numero de simulaciones\n",
    "nT=10 #Numero de periodos del cashflow\n",
    "tasa_desc=0.18 #Tasa de descuento (costo de capital)"
   ]
  },
  {
   "cell_type": "code",
   "execution_count": 12,
   "metadata": {
    "slideshow": {
     "slide_type": "subslide"
    }
   },
   "outputs": [],
   "source": [
    "#Funcion para calcular el cash flow\n",
    "\n",
    "#q= cantidad ofertada\n",
    "#p= precio de mercado del producto\n",
    "#cp= costo unitario de produccion\n",
    "#cv= costo unitario de ventas\n",
    "#kT= cambio en el capital de trabajo\n",
    "#ISR= tasa fiscal\n",
    "#dep= depreciacion de maquinaria\n",
    "\n",
    "cash_flow=function(q,p,cp,cv,kT,ISR,dep) {\n",
    "    FCN = (q*p-q*(cv+cp)-dep)*(1-ISR)+dep-kT\n",
    "    return(FCN) #Devuelve el cash flow de un periodo\n",
    "}"
   ]
  },
  {
   "cell_type": "code",
   "execution_count": 13,
   "metadata": {
    "slideshow": {
     "slide_type": "subslide"
    }
   },
   "outputs": [],
   "source": [
    "#Como no podemos definir nuestro precio de mercado, se hace un proceso AR(1) \n",
    "#sobre el precio historico del producto\n",
    "\n",
    "#Obtenemos de excel los precios historicos de computadoras \n",
    "#con una periodicidad mensual de febrero 1992 a noviembre 2019\n",
    "#un total de 334 observaciones\n",
    "\n",
    "\n",
    "Datos=read.csv(\"Precio_electronicos.csv\")\n",
    "#Definimos nuestro precio como todos los datos de la columna correspondiente a\n",
    "#los precios de computadoras\n",
    "Precio=Datos$A34HNO"
   ]
  },
  {
   "cell_type": "code",
   "execution_count": 14,
   "metadata": {
    "slideshow": {
     "slide_type": "subslide"
    }
   },
   "outputs": [
    {
     "data": {
      "image/png": "[encoded data removed]",
      "text/plain": [
       "plot without title"
      ]
     },
     "metadata": {
      "image/png": {
       "height": 420,
       "width": 420
      },
      "text/plain": {
       "height": 420,
       "width": 420
      }
     },
     "output_type": "display_data"
    }
   ],
   "source": [
    "#Graficamos los precios de las computadoras\n",
    "plot(Precio,type=\"l\",xlab=\"t\",col=\"#00aebc\")"
   ]
  },
  {
   "cell_type": "code",
   "execution_count": 15,
   "metadata": {
    "slideshow": {
     "slide_type": "subslide"
    }
   },
   "outputs": [
    {
     "data": {
      "text/plain": [
       "\n",
       "Call:\n",
       "ar.ols(x = Precio, aic = TRUE, order.max = 1)\n",
       "\n",
       "Coefficients:\n",
       "     1  \n",
       "0.9411  \n",
       "\n",
       "Intercept: 1.603 (16.15) \n",
       "\n",
       "Order selected 1  sigma^2 estimated as  86861"
      ]
     },
     "metadata": {},
     "output_type": "display_data"
    }
   ],
   "source": [
    "#Calculamos un AR(1)\n",
    "Modelo_AR= ar.ols(Precio,aic=TRUE,order.max=1)\n",
    "Modelo_AR"
   ]
  },
  {
   "cell_type": "code",
   "execution_count": 16,
   "metadata": {
    "slideshow": {
     "slide_type": "fragment"
    }
   },
   "outputs": [],
   "source": [
    "#El modelo AR(1) de los precios es: Yt= intercepto + rho*Yt-1+epsilont\n",
    "\n",
    "#Le damos el valor al intercepto del Modelo AR(1)\n",
    "intercepto=Modelo_AR$x.intercept\n",
    "\n",
    "#Le damos valor al coeficiente del Modelo AR(1)\n",
    "rho=Modelo_AR$ar\n",
    "\n",
    "#El numero de observaciones usadas para estimar el Modelo AR(1)\n",
    "obs=Modelo_AR$n.obs\n",
    "\n",
    "#Definimos a sigma del error como la desv estandar de los residuos\n",
    "sigma=sd(Modelo_AR$resid[2:obs])"
   ]
  },
  {
   "cell_type": "code",
   "execution_count": 17,
   "metadata": {
    "slideshow": {
     "slide_type": "subslide"
    }
   },
   "outputs": [
    {
     "data": {
      "text/html": [
       "3680.48542380083"
      ],
      "text/latex": [
       "3680.48542380083"
      ],
      "text/markdown": [
       "3680.48542380083"
      ],
      "text/plain": [
       ", , 1\n",
       "\n",
       "         [,1]\n",
       "[1,] 3680.485\n"
      ]
     },
     "metadata": {},
     "output_type": "display_data"
    }
   ],
   "source": [
    "#Funcion para simular el precio de computadoras\n",
    "simular_AR1=function(intercept,rho_sim){\n",
    "    epsilon_sim=rnorm(1,mean=0,sd=sigma) #Simulamos epsilon\n",
    "    y=intercept+rho_sim*Precio[obs]+epsilon_sim\n",
    "    \n",
    "    return(y)\n",
    "}\n",
    "\n",
    "Precio_sim=simular_AR1(intercepto,rho)\n",
    "Precio_sim"
   ]
  },
  {
   "cell_type": "markdown",
   "metadata": {
    "slideshow": {
     "slide_type": "slide"
    }
   },
   "source": [
    "# SIMULACION DE VPNs DE DISTINTOS ESCENARIOS DEL PROYECTO "
   ]
  },
  {
   "cell_type": "code",
   "execution_count": 18,
   "metadata": {
    "slideshow": {
     "slide_type": "fragment"
    }
   },
   "outputs": [],
   "source": [
    "#Vector vacio donde se van a guardar los VPNs\n",
    "vec_vpn=rep(NaN,nSim)\n",
    "\n",
    "#Vector vacio donde se van a guardar las diferentes inversiones iniciales\n",
    "inv_inic= rep(NaN,nSim)"
   ]
  },
  {
   "cell_type": "code",
   "execution_count": 19,
   "metadata": {
    "slideshow": {
     "slide_type": "subslide"
    }
   },
   "outputs": [],
   "source": [
    "#Para cada simulacion\n",
    "for (t in 1:nSim){\n",
    "    #Sabemos que nuestra inversion inicial estara entre 100,000 y 1,000,000\n",
    "    inv_inic[t]=sample(100000:1000000,1) #Simulamos la inversion inicial\n",
    "    #Vector vacio en donde se va a guardar cada cashflow por el numero de periodos nT\n",
    "    vec_cashflow=rep(NaN,nT)\n",
    "    #El primer elemento del cashflow va a ser la inversion inicial pero en negativo\n",
    "    vec_cashflow[1]=-inv_inic[t]\n",
    "    #La depreciacion es el 20% de la inversion (maquinaria que vamos a comprar)\n",
    "    depreciacion=-vec_cashflow[1]*0.2\n",
    "    #El impuesto\n",
    "    ISR=0.25\n",
    "    for (i in 2:nT){\n",
    "        #Simulamos las siguientes variables:\n",
    "        #Sabemos que la cantidad del producto a ofertar va a estar entre 1,000 y 700 unidades al año\n",
    "        q=cantidad=sample(100:700,1)\n",
    "        #Sabemos el rango de nuestro cambio en el capital de trabajo\n",
    "        ckt=cambio_Ktrabajo=sample(-2000:2000,1)\n",
    "        #Como no podemos definir nuestro precio de mercado, se simula el precio de mercado\n",
    "        p=simular_AR1(intercepto,rho)\n",
    "        #Sabemos que nuestro costo unitario de produccion es el 60% del precio\n",
    "        cp=costo_unitario_prod=0.60*p\n",
    "        #Sabemos que nuestro costo unitario de venta es el 25% del precio\n",
    "        cv=costo_unitario_venta=0.25*p\n",
    "        #Cada cashflow se agrega al vector de cash flows de nT periodos\n",
    "        vec_cashflow[i]=cash_flow(q,p,cp,cv,ckt,ISR,depreciacion)\n",
    "    }\n",
    "    #Se calcula el VPN para cada vector de cashflows para 10,000 simulaciones\n",
    "    vec_vpn[t]=npv(r=tasa_desc,cf=vec_cashflow)\n",
    "}"
   ]
  },
  {
   "cell_type": "code",
   "execution_count": 20,
   "metadata": {
    "slideshow": {
     "slide_type": "skip"
    }
   },
   "outputs": [
    {
     "data": {
      "text/html": [
       "<style>\n",
       ".list-inline {list-style: none; margin:0; padding: 0}\n",
       ".list-inline>li {display: inline-block}\n",
       ".list-inline>li:not(:last-child)::after {content: \"\\00b7\"; padding: 0 .5ex}\n",
       "</style>\n",
       "<ol class=list-inline><li>262127.625966115</li><li>768036.827128124</li><li>357341.856216539</li><li>149894.749571808</li><li>189726.731475325</li><li>149120.250324944</li><li>270891.382388009</li><li>85559.2250589423</li><li>-97766.3965019184</li><li>435764.452048368</li><li>146525.005578654</li><li>257105.745871251</li><li>146943.964872673</li><li>541455.903136167</li><li>324101.505663289</li><li>261405.877565401</li><li>254363.110490487</li><li>672308.310811022</li><li>375208.653720941</li><li>442769.89518411</li><li>90278.8215764551</li><li>471134.980084521</li><li>621368.189866665</li><li>122698.169530811</li><li>14187.3603242048</li><li>210329.233653902</li><li>123095.826157828</li><li>267279.633505407</li><li>89270.7866158572</li><li>31473.9192574278</li><li>375431.934091648</li><li>479610.478829558</li><li>254140.032677886</li><li>309579.082530421</li><li>-69749.6038532848</li><li>405678.710383152</li><li>161551.719002951</li><li>471065.503625433</li><li>-39049.2880951148</li><li>67337.0229014296</li><li>263659.66549162</li><li>366637.947737174</li><li>-254094.999663998</li><li>409188.586842499</li><li>399456.118666509</li><li>271673.910316315</li><li>50651.593482292</li><li>235129.854627701</li><li>121227.660887741</li><li>122076.480861347</li><li>498598.131538396</li><li>655419.726099762</li><li>310009.339737275</li><li>731099.490771372</li><li>108813.811997163</li><li>517674.224172225</li><li>252613.425189741</li><li>206126.278983195</li><li>153229.801741423</li><li>598608.88788818</li><li>538465.124212695</li><li>118453.022258174</li><li>356189.057050678</li><li>442839.485036347</li><li>321248.168480622</li><li>288878.808757441</li><li>536529.802266294</li><li>367039.516794574</li><li>255952.616733083</li><li>86992.680499016</li><li>9469.00268145266</li><li>394027.874506215</li><li>548849.014272483</li><li>311619.40479519</li><li>115906.869627851</li><li>-66774.4852648212</li><li>498688.205589206</li><li>667052.820074533</li><li>-99463.6187919842</li><li>744607.64877043</li><li>393343.535652378</li><li>205812.739321933</li><li>337979.298412506</li><li>313213.365507872</li><li>543298.482335085</li><li>136352.896468405</li><li>-2254.83640246489</li><li>416807.582915713</li><li>34168.8062558189</li><li>65649.4382805256</li><li>-15034.4537223291</li><li>388746.380316923</li><li>280851.598842026</li><li>-41440.7175405384</li><li>133864.410260128</li><li>142074.237204398</li><li>542303.794123336</li><li>-39604.7073603392</li><li>128071.082569181</li><li>158065.933400754</li><li>725386.650268581</li><li>-106615.279844691</li><li>705718.978172462</li><li>-42564.7455553982</li><li>593922.914067156</li><li>-148631.028813031</li><li>77671.807865064</li><li>471242.235631399</li><li>107268.895099237</li><li>302601.571828963</li><li>414327.418927837</li><li>-139670.635100161</li><li>102653.538179462</li><li>472653.871864238</li><li>126368.602155767</li><li>82419.0351429103</li><li>261830.734833608</li><li>341764.881544429</li><li>278486.194249844</li><li>489628.005107199</li><li>562145.099334259</li><li>326879.3787393</li><li>658635.229072458</li><li>204340.441921653</li><li>329719.581717389</li><li>216943.052276077</li><li>253060.055496604</li><li>389792.988075211</li><li>-25480.4166956949</li><li>310949.560274038</li><li>531307.481357026</li><li>94303.2625281367</li><li>766285.619210214</li><li>637409.699226414</li><li>362614.88890574</li><li>86284.7165899834</li><li>534125.275357212</li><li>654547.933029243</li><li>97454.4103081975</li><li>186002.034996619</li><li>22307.528379188</li><li>185331.046823463</li><li>596929.694852816</li><li>297256.355087969</li><li>674136.469325988</li><li>166159.743369964</li><li>237585.496107984</li><li>340274.480848675</li><li>-12534.0418933813</li><li>-34376.4115255529</li><li>477682.014522081</li><li>-275.551138301496</li><li>285062.406088525</li><li>487673.122390894</li><li>639674.608793081</li><li>643245.495583133</li><li>107612.251432871</li><li>324236.174636401</li><li>512070.467986676</li><li>282592.799453608</li><li>195846.332877357</li><li>117510.986345219</li><li>94967.3962063107</li><li>462823.529171722</li><li>184168.209899345</li><li>158506.940529102</li><li>763938.401048946</li><li>441003.358402287</li><li>594938.071800461</li><li>162010.239208873</li><li>278194.341785648</li><li>194932.967379114</li><li>412346.746204213</li><li>-27323.7649893782</li><li>693119.30578914</li><li>-72171.6685526867</li><li>95353.1625769067</li><li>-26261.7523608778</li><li>708192.778920745</li><li>359098.758497835</li><li>256426.894455487</li><li>427608.163130007</li><li>62387.1168369517</li><li>223487.886306662</li><li>288867.996945301</li><li>182451.737749232</li><li>543493.754689309</li><li>362134.900111122</li><li>421759.125086608</li><li>233575.489963779</li><li>549035.706513418</li><li>-11277.9401696743</li><li>339514.651217059</li><li>335254.18638344</li><li>677248.422881492</li><li>279427.072624752</li><li>-263526.901866319</li><li>191535.324452358</li><li>65125.2666056941</li><li>332428.285129414</li><li>...</li><li>222630.307058922</li><li>220230.749435059</li><li>710663.957727666</li><li>463036.324418106</li><li>468448.049956548</li><li>250244.221905487</li><li>383092.086551718</li><li>365500.714674965</li><li>478102.562237527</li><li>558591.090443684</li><li>-6279.17531986861</li><li>644377.430100719</li><li>-89605.9947233767</li><li>463184.933033773</li><li>412969.926836376</li><li>76848.6108468029</li><li>630915.706489368</li><li>139945.054815894</li><li>310528.964227318</li><li>613114.362156717</li><li>263895.03254488</li><li>544021.750602525</li><li>142207.538135641</li><li>737815.244202881</li><li>190047.78808046</li><li>986277.58051979</li><li>11457.5462714024</li><li>567367.811310176</li><li>490236.109113866</li><li>517690.308630687</li><li>382035.268163122</li><li>382146.736261304</li><li>747684.80503089</li><li>582721.016959025</li><li>326539.927494586</li><li>186770.123583398</li><li>503584.955543181</li><li>523829.228844324</li><li>369840.275974513</li><li>478033.008702685</li><li>369198.931815651</li><li>408534.110792911</li><li>704458.63650775</li><li>745902.002871783</li><li>74341.5259781464</li><li>-174421.814251273</li><li>406926.226004507</li><li>399040.155210768</li><li>198862.126240201</li><li>101148.565082065</li><li>155064.851157584</li><li>423768.658553113</li><li>161338.139426347</li><li>-72724.5677537551</li><li>334216.596371992</li><li>365556.279221953</li><li>228439.589783393</li><li>446997.706924858</li><li>287296.633782689</li><li>176456.691968266</li><li>472892.045525109</li><li>227778.514733962</li><li>414011.31447186</li><li>233905.399958758</li><li>251344.362671464</li><li>618595.210647554</li><li>149151.6434153</li><li>516675.461171411</li><li>555610.498132983</li><li>65276.4436974861</li><li>-17624.395632738</li><li>465823.226685302</li><li>306286.112720603</li><li>438172.80977106</li><li>-21924.8810072042</li><li>-158867.741906996</li><li>482681.752033778</li><li>224939.256179797</li><li>217978.727990971</li><li>299961.604787893</li><li>568954.10700542</li><li>92011.3576157001</li><li>572739.910950728</li><li>409390.276866523</li><li>-41359.2059526796</li><li>820942.652990186</li><li>611499.844750024</li><li>364727.164764814</li><li>-145857.094676084</li><li>387688.855528266</li><li>125756.124250491</li><li>369672.298433476</li><li>150965.127615765</li><li>-85587.387516618</li><li>527333.950197113</li><li>67244.7410964214</li><li>294462.05178847</li><li>-133023.068618031</li><li>357758.974826115</li><li>526350.695489991</li><li>541227.095899988</li><li>177307.599602604</li><li>454403.021996572</li><li>618113.685872633</li><li>69361.952679534</li><li>457778.743577406</li><li>80258.7417146286</li><li>297854.369042314</li><li>1512.19798746612</li><li>231482.661555472</li><li>182145.672726233</li><li>404467.223747513</li><li>101506.11480575</li><li>41218.2387725734</li><li>304807.909663693</li><li>623377.130832511</li><li>113275.370235147</li><li>537836.091300195</li><li>432436.419452191</li><li>551578.331574925</li><li>289245.850436414</li><li>108397.531894296</li><li>337593.055222829</li><li>321728.455246191</li><li>403328.322321868</li><li>269542.971402557</li><li>303148.996490403</li><li>321832.000836249</li><li>736443.679211716</li><li>-11970.2201554443</li><li>-136181.613123656</li><li>437177.701200334</li><li>348382.115917233</li><li>455903.445637611</li><li>233638.512651611</li><li>342610.180889159</li><li>55006.4624089648</li><li>442151.976404929</li><li>599922.057147375</li><li>139736.035363704</li><li>334955.449193087</li><li>473093.933429319</li><li>601355.637611311</li><li>644360.445243072</li><li>698994.343458451</li><li>-236479.021971173</li><li>389957.161143016</li><li>399330.047610526</li><li>101078.871358134</li><li>346115.256213286</li><li>496691.769997087</li><li>19579.8194038237</li><li>463617.863972401</li><li>20542.9379405277</li><li>137307.745409832</li><li>-43227.746321004</li><li>436075.821079773</li><li>380663.443451303</li><li>423093.385250575</li><li>307701.035751555</li><li>170629.669226381</li><li>467218.573592919</li><li>176934.948599579</li><li>327417.309450902</li><li>220545.127692288</li><li>197561.989025251</li><li>108446.36750122</li><li>170429.637997781</li><li>246255.486029586</li><li>-43627.3184279794</li><li>528445.455007424</li><li>-108783.925376859</li><li>20654.6580946844</li><li>530606.109004193</li><li>142395.554869926</li><li>150095.333740707</li><li>536284.275834643</li><li>-179702.552564152</li><li>261352.507063071</li><li>491590.03604484</li><li>-196369.896598964</li><li>88789.747079998</li><li>522836.80007231</li><li>118059.076973814</li><li>-130269.454025262</li><li>170825.315167355</li><li>649384.865157885</li><li>652318.624480607</li><li>454443.223149527</li><li>-37091.1554296948</li><li>19564.9796889084</li><li>648439.136752665</li><li>-86396.4066058454</li><li>142958.553798862</li><li>344656.381998613</li><li>117309.071582327</li><li>601002.735608364</li><li>460299.892613753</li><li>446506.356898154</li><li>304566.293962299</li></ol>\n"
      ],
      "text/latex": [
       "\\begin{enumerate*}\n",
       "\\item 262127.625966115\n",
       "\\item 768036.827128124\n",
       "\\item 357341.856216539\n",
       "\\item 149894.749571808\n",
       "\\item 189726.731475325\n",
       "\\item 149120.250324944\n",
       "\\item 270891.382388009\n",
       "\\item 85559.2250589423\n",
       "\\item -97766.3965019184\n",
       "\\item 435764.452048368\n",
       "\\item 146525.005578654\n",
       "\\item 257105.745871251\n",
       "\\item 146943.964872673\n",
       "\\item 541455.903136167\n",
       "\\item 324101.505663289\n",
       "\\item 261405.877565401\n",
       "\\item 254363.110490487\n",
       "\\item 672308.310811022\n",
       "\\item 375208.653720941\n",
       "\\item 442769.89518411\n",
       "\\item 90278.8215764551\n",
       "\\item 471134.980084521\n",
       "\\item 621368.189866665\n",
       "\\item 122698.169530811\n",
       "\\item 14187.3603242048\n",
       "\\item 210329.233653902\n",
       "\\item 123095.826157828\n",
       "\\item 267279.633505407\n",
       "\\item 89270.7866158572\n",
       "\\item 31473.9192574278\n",
       "\\item 375431.934091648\n",
       "\\item 479610.478829558\n",
       "\\item 254140.032677886\n",
       "\\item 309579.082530421\n",
       "\\item -69749.6038532848\n",
       "\\item 405678.710383152\n",
       "\\item 161551.719002951\n",
       "\\item 471065.503625433\n",
       "\\item -39049.2880951148\n",
       "\\item 67337.0229014296\n",
       "\\item 263659.66549162\n",
       "\\item 366637.947737174\n",
       "\\item -254094.999663998\n",
       "\\item 409188.586842499\n",
       "\\item 399456.118666509\n",
       "\\item 271673.910316315\n",
       "\\item 50651.593482292\n",
       "\\item 235129.854627701\n",
       "\\item 121227.660887741\n",
       "\\item 122076.480861347\n",
       "\\item 498598.131538396\n",
       "\\item 655419.726099762\n",
       "\\item 310009.339737275\n",
       "\\item 731099.490771372\n",
       "\\item 108813.811997163\n",
       "\\item 517674.224172225\n",
       "\\item 252613.425189741\n",
       "\\item 206126.278983195\n",
       "\\item 153229.801741423\n",
       "\\item 598608.88788818\n",
       "\\item 538465.124212695\n",
       "\\item 118453.022258174\n",
       "\\item 356189.057050678\n",
       "\\item 442839.485036347\n",
       "\\item 321248.168480622\n",
       "\\item 288878.808757441\n",
       "\\item 536529.802266294\n",
       "\\item 367039.516794574\n",
       "\\item 255952.616733083\n",
       "\\item 86992.680499016\n",
       "\\item 9469.00268145266\n",
       "\\item 394027.874506215\n",
       "\\item 548849.014272483\n",
       "\\item 311619.40479519\n",
       "\\item 115906.869627851\n",
       "\\item -66774.4852648212\n",
       "\\item 498688.205589206\n",
       "\\item 667052.820074533\n",
       "\\item -99463.6187919842\n",
       "\\item 744607.64877043\n",
       "\\item 393343.535652378\n",
       "\\item 205812.739321933\n",
       "\\item 337979.298412506\n",
       "\\item 313213.365507872\n",
       "\\item 543298.482335085\n",
       "\\item 136352.896468405\n",
       "\\item -2254.83640246489\n",
       "\\item 416807.582915713\n",
       "\\item 34168.8062558189\n",
       "\\item 65649.4382805256\n",
       "\\item -15034.4537223291\n",
       "\\item 388746.380316923\n",
       "\\item 280851.598842026\n",
       "\\item -41440.7175405384\n",
       "\\item 133864.410260128\n",
       "\\item 142074.237204398\n",
       "\\item 542303.794123336\n",
       "\\item -39604.7073603392\n",
       "\\item 128071.082569181\n",
       "\\item 158065.933400754\n",
       "\\item 725386.650268581\n",
       "\\item -106615.279844691\n",
       "\\item 705718.978172462\n",
       "\\item -42564.7455553982\n",
       "\\item 593922.914067156\n",
       "\\item -148631.028813031\n",
       "\\item 77671.807865064\n",
       "\\item 471242.235631399\n",
       "\\item 107268.895099237\n",
       "\\item 302601.571828963\n",
       "\\item 414327.418927837\n",
       "\\item -139670.635100161\n",
       "\\item 102653.538179462\n",
       "\\item 472653.871864238\n",
       "\\item 126368.602155767\n",
       "\\item 82419.0351429103\n",
       "\\item 261830.734833608\n",
       "\\item 341764.881544429\n",
       "\\item 278486.194249844\n",
       "\\item 489628.005107199\n",
       "\\item 562145.099334259\n",
       "\\item 326879.3787393\n",
       "\\item 658635.229072458\n",
       "\\item 204340.441921653\n",
       "\\item 329719.581717389\n",
       "\\item 216943.052276077\n",
       "\\item 253060.055496604\n",
       "\\item 389792.988075211\n",
       "\\item -25480.4166956949\n",
       "\\item 310949.560274038\n",
       "\\item 531307.481357026\n",
       "\\item 94303.2625281367\n",
       "\\item 766285.619210214\n",
       "\\item 637409.699226414\n",
       "\\item 362614.88890574\n",
       "\\item 86284.7165899834\n",
       "\\item 534125.275357212\n",
       "\\item 654547.933029243\n",
       "\\item 97454.4103081975\n",
       "\\item 186002.034996619\n",
       "\\item 22307.528379188\n",
       "\\item 185331.046823463\n",
       "\\item 596929.694852816\n",
       "\\item 297256.355087969\n",
       "\\item 674136.469325988\n",
       "\\item 166159.743369964\n",
       "\\item 237585.496107984\n",
       "\\item 340274.480848675\n",
       "\\item -12534.0418933813\n",
       "\\item -34376.4115255529\n",
       "\\item 477682.014522081\n",
       "\\item -275.551138301496\n",
       "\\item 285062.406088525\n",
       "\\item 487673.122390894\n",
       "\\item 639674.608793081\n",
       "\\item 643245.495583133\n",
       "\\item 107612.251432871\n",
       "\\item 324236.174636401\n",
       "\\item 512070.467986676\n",
       "\\item 282592.799453608\n",
       "\\item 195846.332877357\n",
       "\\item 117510.986345219\n",
       "\\item 94967.3962063107\n",
       "\\item 462823.529171722\n",
       "\\item 184168.209899345\n",
       "\\item 158506.940529102\n",
       "\\item 763938.401048946\n",
       "\\item 441003.358402287\n",
       "\\item 594938.071800461\n",
       "\\item 162010.239208873\n",
       "\\item 278194.341785648\n",
       "\\item 194932.967379114\n",
       "\\item 412346.746204213\n",
       "\\item -27323.7649893782\n",
       "\\item 693119.30578914\n",
       "\\item -72171.6685526867\n",
       "\\item 95353.1625769067\n",
       "\\item -26261.7523608778\n",
       "\\item 708192.778920745\n",
       "\\item 359098.758497835\n",
       "\\item 256426.894455487\n",
       "\\item 427608.163130007\n",
       "\\item 62387.1168369517\n",
       "\\item 223487.886306662\n",
       "\\item 288867.996945301\n",
       "\\item 182451.737749232\n",
       "\\item 543493.754689309\n",
       "\\item 362134.900111122\n",
       "\\item 421759.125086608\n",
       "\\item 233575.489963779\n",
       "\\item 549035.706513418\n",
       "\\item -11277.9401696743\n",
       "\\item 339514.651217059\n",
       "\\item 335254.18638344\n",
       "\\item 677248.422881492\n",
       "\\item 279427.072624752\n",
       "\\item -263526.901866319\n",
       "\\item 191535.324452358\n",
       "\\item 65125.2666056941\n",
       "\\item 332428.285129414\n",
       "\\item ...\n",
       "\\item 222630.307058922\n",
       "\\item 220230.749435059\n",
       "\\item 710663.957727666\n",
       "\\item 463036.324418106\n",
       "\\item 468448.049956548\n",
       "\\item 250244.221905487\n",
       "\\item 383092.086551718\n",
       "\\item 365500.714674965\n",
       "\\item 478102.562237527\n",
       "\\item 558591.090443684\n",
       "\\item -6279.17531986861\n",
       "\\item 644377.430100719\n",
       "\\item -89605.9947233767\n",
       "\\item 463184.933033773\n",
       "\\item 412969.926836376\n",
       "\\item 76848.6108468029\n",
       "\\item 630915.706489368\n",
       "\\item 139945.054815894\n",
       "\\item 310528.964227318\n",
       "\\item 613114.362156717\n",
       "\\item 263895.03254488\n",
       "\\item 544021.750602525\n",
       "\\item 142207.538135641\n",
       "\\item 737815.244202881\n",
       "\\item 190047.78808046\n",
       "\\item 986277.58051979\n",
       "\\item 11457.5462714024\n",
       "\\item 567367.811310176\n",
       "\\item 490236.109113866\n",
       "\\item 517690.308630687\n",
       "\\item 382035.268163122\n",
       "\\item 382146.736261304\n",
       "\\item 747684.80503089\n",
       "\\item 582721.016959025\n",
       "\\item 326539.927494586\n",
       "\\item 186770.123583398\n",
       "\\item 503584.955543181\n",
       "\\item 523829.228844324\n",
       "\\item 369840.275974513\n",
       "\\item 478033.008702685\n",
       "\\item 369198.931815651\n",
       "\\item 408534.110792911\n",
       "\\item 704458.63650775\n",
       "\\item 745902.002871783\n",
       "\\item 74341.5259781464\n",
       "\\item -174421.814251273\n",
       "\\item 406926.226004507\n",
       "\\item 399040.155210768\n",
       "\\item 198862.126240201\n",
       "\\item 101148.565082065\n",
       "\\item 155064.851157584\n",
       "\\item 423768.658553113\n",
       "\\item 161338.139426347\n",
       "\\item -72724.5677537551\n",
       "\\item 334216.596371992\n",
       "\\item 365556.279221953\n",
       "\\item 228439.589783393\n",
       "\\item 446997.706924858\n",
       "\\item 287296.633782689\n",
       "\\item 176456.691968266\n",
       "\\item 472892.045525109\n",
       "\\item 227778.514733962\n",
       "\\item 414011.31447186\n",
       "\\item 233905.399958758\n",
       "\\item 251344.362671464\n",
       "\\item 618595.210647554\n",
       "\\item 149151.6434153\n",
       "\\item 516675.461171411\n",
       "\\item 555610.498132983\n",
       "\\item 65276.4436974861\n",
       "\\item -17624.395632738\n",
       "\\item 465823.226685302\n",
       "\\item 306286.112720603\n",
       "\\item 438172.80977106\n",
       "\\item -21924.8810072042\n",
       "\\item -158867.741906996\n",
       "\\item 482681.752033778\n",
       "\\item 224939.256179797\n",
       "\\item 217978.727990971\n",
       "\\item 299961.604787893\n",
       "\\item 568954.10700542\n",
       "\\item 92011.3576157001\n",
       "\\item 572739.910950728\n",
       "\\item 409390.276866523\n",
       "\\item -41359.2059526796\n",
       "\\item 820942.652990186\n",
       "\\item 611499.844750024\n",
       "\\item 364727.164764814\n",
       "\\item -145857.094676084\n",
       "\\item 387688.855528266\n",
       "\\item 125756.124250491\n",
       "\\item 369672.298433476\n",
       "\\item 150965.127615765\n",
       "\\item -85587.387516618\n",
       "\\item 527333.950197113\n",
       "\\item 67244.7410964214\n",
       "\\item 294462.05178847\n",
       "\\item -133023.068618031\n",
       "\\item 357758.974826115\n",
       "\\item 526350.695489991\n",
       "\\item 541227.095899988\n",
       "\\item 177307.599602604\n",
       "\\item 454403.021996572\n",
       "\\item 618113.685872633\n",
       "\\item 69361.952679534\n",
       "\\item 457778.743577406\n",
       "\\item 80258.7417146286\n",
       "\\item 297854.369042314\n",
       "\\item 1512.19798746612\n",
       "\\item 231482.661555472\n",
       "\\item 182145.672726233\n",
       "\\item 404467.223747513\n",
       "\\item 101506.11480575\n",
       "\\item 41218.2387725734\n",
       "\\item 304807.909663693\n",
       "\\item 623377.130832511\n",
       "\\item 113275.370235147\n",
       "\\item 537836.091300195\n",
       "\\item 432436.419452191\n",
       "\\item 551578.331574925\n",
       "\\item 289245.850436414\n",
       "\\item 108397.531894296\n",
       "\\item 337593.055222829\n",
       "\\item 321728.455246191\n",
       "\\item 403328.322321868\n",
       "\\item 269542.971402557\n",
       "\\item 303148.996490403\n",
       "\\item 321832.000836249\n",
       "\\item 736443.679211716\n",
       "\\item -11970.2201554443\n",
       "\\item -136181.613123656\n",
       "\\item 437177.701200334\n",
       "\\item 348382.115917233\n",
       "\\item 455903.445637611\n",
       "\\item 233638.512651611\n",
       "\\item 342610.180889159\n",
       "\\item 55006.4624089648\n",
       "\\item 442151.976404929\n",
       "\\item 599922.057147375\n",
       "\\item 139736.035363704\n",
       "\\item 334955.449193087\n",
       "\\item 473093.933429319\n",
       "\\item 601355.637611311\n",
       "\\item 644360.445243072\n",
       "\\item 698994.343458451\n",
       "\\item -236479.021971173\n",
       "\\item 389957.161143016\n",
       "\\item 399330.047610526\n",
       "\\item 101078.871358134\n",
       "\\item 346115.256213286\n",
       "\\item 496691.769997087\n",
       "\\item 19579.8194038237\n",
       "\\item 463617.863972401\n",
       "\\item 20542.9379405277\n",
       "\\item 137307.745409832\n",
       "\\item -43227.746321004\n",
       "\\item 436075.821079773\n",
       "\\item 380663.443451303\n",
       "\\item 423093.385250575\n",
       "\\item 307701.035751555\n",
       "\\item 170629.669226381\n",
       "\\item 467218.573592919\n",
       "\\item 176934.948599579\n",
       "\\item 327417.309450902\n",
       "\\item 220545.127692288\n",
       "\\item 197561.989025251\n",
       "\\item 108446.36750122\n",
       "\\item 170429.637997781\n",
       "\\item 246255.486029586\n",
       "\\item -43627.3184279794\n",
       "\\item 528445.455007424\n",
       "\\item -108783.925376859\n",
       "\\item 20654.6580946844\n",
       "\\item 530606.109004193\n",
       "\\item 142395.554869926\n",
       "\\item 150095.333740707\n",
       "\\item 536284.275834643\n",
       "\\item -179702.552564152\n",
       "\\item 261352.507063071\n",
       "\\item 491590.03604484\n",
       "\\item -196369.896598964\n",
       "\\item 88789.747079998\n",
       "\\item 522836.80007231\n",
       "\\item 118059.076973814\n",
       "\\item -130269.454025262\n",
       "\\item 170825.315167355\n",
       "\\item 649384.865157885\n",
       "\\item 652318.624480607\n",
       "\\item 454443.223149527\n",
       "\\item -37091.1554296948\n",
       "\\item 19564.9796889084\n",
       "\\item 648439.136752665\n",
       "\\item -86396.4066058454\n",
       "\\item 142958.553798862\n",
       "\\item 344656.381998613\n",
       "\\item 117309.071582327\n",
       "\\item 601002.735608364\n",
       "\\item 460299.892613753\n",
       "\\item 446506.356898154\n",
       "\\item 304566.293962299\n",
       "\\end{enumerate*}\n"
      ],
      "text/markdown": [
       "1. 262127.625966115\n",
       "2. 768036.827128124\n",
       "3. 357341.856216539\n",
       "4. 149894.749571808\n",
       "5. 189726.731475325\n",
       "6. 149120.250324944\n",
       "7. 270891.382388009\n",
       "8. 85559.2250589423\n",
       "9. -97766.3965019184\n",
       "10. 435764.452048368\n",
       "11. 146525.005578654\n",
       "12. 257105.745871251\n",
       "13. 146943.964872673\n",
       "14. 541455.903136167\n",
       "15. 324101.505663289\n",
       "16. 261405.877565401\n",
       "17. 254363.110490487\n",
       "18. 672308.310811022\n",
       "19. 375208.653720941\n",
       "20. 442769.89518411\n",
       "21. 90278.8215764551\n",
       "22. 471134.980084521\n",
       "23. 621368.189866665\n",
       "24. 122698.169530811\n",
       "25. 14187.3603242048\n",
       "26. 210329.233653902\n",
       "27. 123095.826157828\n",
       "28. 267279.633505407\n",
       "29. 89270.7866158572\n",
       "30. 31473.9192574278\n",
       "31. 375431.934091648\n",
       "32. 479610.478829558\n",
       "33. 254140.032677886\n",
       "34. 309579.082530421\n",
       "35. -69749.6038532848\n",
       "36. 405678.710383152\n",
       "37. 161551.719002951\n",
       "38. 471065.503625433\n",
       "39. -39049.2880951148\n",
       "40. 67337.0229014296\n",
       "41. 263659.66549162\n",
       "42. 366637.947737174\n",
       "43. -254094.999663998\n",
       "44. 409188.586842499\n",
       "45. 399456.118666509\n",
       "46. 271673.910316315\n",
       "47. 50651.593482292\n",
       "48. 235129.854627701\n",
       "49. 121227.660887741\n",
       "50. 122076.480861347\n",
       "51. 498598.131538396\n",
       "52. 655419.726099762\n",
       "53. 310009.339737275\n",
       "54. 731099.490771372\n",
       "55. 108813.811997163\n",
       "56. 517674.224172225\n",
       "57. 252613.425189741\n",
       "58. 206126.278983195\n",
       "59. 153229.801741423\n",
       "60. 598608.88788818\n",
       "61. 538465.124212695\n",
       "62. 118453.022258174\n",
       "63. 356189.057050678\n",
       "64. 442839.485036347\n",
       "65. 321248.168480622\n",
       "66. 288878.808757441\n",
       "67. 536529.802266294\n",
       "68. 367039.516794574\n",
       "69. 255952.616733083\n",
       "70. 86992.680499016\n",
       "71. 9469.00268145266\n",
       "72. 394027.874506215\n",
       "73. 548849.014272483\n",
       "74. 311619.40479519\n",
       "75. 115906.869627851\n",
       "76. -66774.4852648212\n",
       "77. 498688.205589206\n",
       "78. 667052.820074533\n",
       "79. -99463.6187919842\n",
       "80. 744607.64877043\n",
       "81. 393343.535652378\n",
       "82. 205812.739321933\n",
       "83. 337979.298412506\n",
       "84. 313213.365507872\n",
       "85. 543298.482335085\n",
       "86. 136352.896468405\n",
       "87. -2254.83640246489\n",
       "88. 416807.582915713\n",
       "89. 34168.8062558189\n",
       "90. 65649.4382805256\n",
       "91. -15034.4537223291\n",
       "92. 388746.380316923\n",
       "93. 280851.598842026\n",
       "94. -41440.7175405384\n",
       "95. 133864.410260128\n",
       "96. 142074.237204398\n",
       "97. 542303.794123336\n",
       "98. -39604.7073603392\n",
       "99. 128071.082569181\n",
       "100. 158065.933400754\n",
       "101. 725386.650268581\n",
       "102. -106615.279844691\n",
       "103. 705718.978172462\n",
       "104. -42564.7455553982\n",
       "105. 593922.914067156\n",
       "106. -148631.028813031\n",
       "107. 77671.807865064\n",
       "108. 471242.235631399\n",
       "109. 107268.895099237\n",
       "110. 302601.571828963\n",
       "111. 414327.418927837\n",
       "112. -139670.635100161\n",
       "113. 102653.538179462\n",
       "114. 472653.871864238\n",
       "115. 126368.602155767\n",
       "116. 82419.0351429103\n",
       "117. 261830.734833608\n",
       "118. 341764.881544429\n",
       "119. 278486.194249844\n",
       "120. 489628.005107199\n",
       "121. 562145.099334259\n",
       "122. 326879.3787393\n",
       "123. 658635.229072458\n",
       "124. 204340.441921653\n",
       "125. 329719.581717389\n",
       "126. 216943.052276077\n",
       "127. 253060.055496604\n",
       "128. 389792.988075211\n",
       "129. -25480.4166956949\n",
       "130. 310949.560274038\n",
       "131. 531307.481357026\n",
       "132. 94303.2625281367\n",
       "133. 766285.619210214\n",
       "134. 637409.699226414\n",
       "135. 362614.88890574\n",
       "136. 86284.7165899834\n",
       "137. 534125.275357212\n",
       "138. 654547.933029243\n",
       "139. 97454.4103081975\n",
       "140. 186002.034996619\n",
       "141. 22307.528379188\n",
       "142. 185331.046823463\n",
       "143. 596929.694852816\n",
       "144. 297256.355087969\n",
       "145. 674136.469325988\n",
       "146. 166159.743369964\n",
       "147. 237585.496107984\n",
       "148. 340274.480848675\n",
       "149. -12534.0418933813\n",
       "150. -34376.4115255529\n",
       "151. 477682.014522081\n",
       "152. -275.551138301496\n",
       "153. 285062.406088525\n",
       "154. 487673.122390894\n",
       "155. 639674.608793081\n",
       "156. 643245.495583133\n",
       "157. 107612.251432871\n",
       "158. 324236.174636401\n",
       "159. 512070.467986676\n",
       "160. 282592.799453608\n",
       "161. 195846.332877357\n",
       "162. 117510.986345219\n",
       "163. 94967.3962063107\n",
       "164. 462823.529171722\n",
       "165. 184168.209899345\n",
       "166. 158506.940529102\n",
       "167. 763938.401048946\n",
       "168. 441003.358402287\n",
       "169. 594938.071800461\n",
       "170. 162010.239208873\n",
       "171. 278194.341785648\n",
       "172. 194932.967379114\n",
       "173. 412346.746204213\n",
       "174. -27323.7649893782\n",
       "175. 693119.30578914\n",
       "176. -72171.6685526867\n",
       "177. 95353.1625769067\n",
       "178. -26261.7523608778\n",
       "179. 708192.778920745\n",
       "180. 359098.758497835\n",
       "181. 256426.894455487\n",
       "182. 427608.163130007\n",
       "183. 62387.1168369517\n",
       "184. 223487.886306662\n",
       "185. 288867.996945301\n",
       "186. 182451.737749232\n",
       "187. 543493.754689309\n",
       "188. 362134.900111122\n",
       "189. 421759.125086608\n",
       "190. 233575.489963779\n",
       "191. 549035.706513418\n",
       "192. -11277.9401696743\n",
       "193. 339514.651217059\n",
       "194. 335254.18638344\n",
       "195. 677248.422881492\n",
       "196. 279427.072624752\n",
       "197. -263526.901866319\n",
       "198. 191535.324452358\n",
       "199. 65125.2666056941\n",
       "200. 332428.285129414\n",
       "201. ...\n",
       "202. 222630.307058922\n",
       "203. 220230.749435059\n",
       "204. 710663.957727666\n",
       "205. 463036.324418106\n",
       "206. 468448.049956548\n",
       "207. 250244.221905487\n",
       "208. 383092.086551718\n",
       "209. 365500.714674965\n",
       "210. 478102.562237527\n",
       "211. 558591.090443684\n",
       "212. -6279.17531986861\n",
       "213. 644377.430100719\n",
       "214. -89605.9947233767\n",
       "215. 463184.933033773\n",
       "216. 412969.926836376\n",
       "217. 76848.6108468029\n",
       "218. 630915.706489368\n",
       "219. 139945.054815894\n",
       "220. 310528.964227318\n",
       "221. 613114.362156717\n",
       "222. 263895.03254488\n",
       "223. 544021.750602525\n",
       "224. 142207.538135641\n",
       "225. 737815.244202881\n",
       "226. 190047.78808046\n",
       "227. 986277.58051979\n",
       "228. 11457.5462714024\n",
       "229. 567367.811310176\n",
       "230. 490236.109113866\n",
       "231. 517690.308630687\n",
       "232. 382035.268163122\n",
       "233. 382146.736261304\n",
       "234. 747684.80503089\n",
       "235. 582721.016959025\n",
       "236. 326539.927494586\n",
       "237. 186770.123583398\n",
       "238. 503584.955543181\n",
       "239. 523829.228844324\n",
       "240. 369840.275974513\n",
       "241. 478033.008702685\n",
       "242. 369198.931815651\n",
       "243. 408534.110792911\n",
       "244. 704458.63650775\n",
       "245. 745902.002871783\n",
       "246. 74341.5259781464\n",
       "247. -174421.814251273\n",
       "248. 406926.226004507\n",
       "249. 399040.155210768\n",
       "250. 198862.126240201\n",
       "251. 101148.565082065\n",
       "252. 155064.851157584\n",
       "253. 423768.658553113\n",
       "254. 161338.139426347\n",
       "255. -72724.5677537551\n",
       "256. 334216.596371992\n",
       "257. 365556.279221953\n",
       "258. 228439.589783393\n",
       "259. 446997.706924858\n",
       "260. 287296.633782689\n",
       "261. 176456.691968266\n",
       "262. 472892.045525109\n",
       "263. 227778.514733962\n",
       "264. 414011.31447186\n",
       "265. 233905.399958758\n",
       "266. 251344.362671464\n",
       "267. 618595.210647554\n",
       "268. 149151.6434153\n",
       "269. 516675.461171411\n",
       "270. 555610.498132983\n",
       "271. 65276.4436974861\n",
       "272. -17624.395632738\n",
       "273. 465823.226685302\n",
       "274. 306286.112720603\n",
       "275. 438172.80977106\n",
       "276. -21924.8810072042\n",
       "277. -158867.741906996\n",
       "278. 482681.752033778\n",
       "279. 224939.256179797\n",
       "280. 217978.727990971\n",
       "281. 299961.604787893\n",
       "282. 568954.10700542\n",
       "283. 92011.3576157001\n",
       "284. 572739.910950728\n",
       "285. 409390.276866523\n",
       "286. -41359.2059526796\n",
       "287. 820942.652990186\n",
       "288. 611499.844750024\n",
       "289. 364727.164764814\n",
       "290. -145857.094676084\n",
       "291. 387688.855528266\n",
       "292. 125756.124250491\n",
       "293. 369672.298433476\n",
       "294. 150965.127615765\n",
       "295. -85587.387516618\n",
       "296. 527333.950197113\n",
       "297. 67244.7410964214\n",
       "298. 294462.05178847\n",
       "299. -133023.068618031\n",
       "300. 357758.974826115\n",
       "301. 526350.695489991\n",
       "302. 541227.095899988\n",
       "303. 177307.599602604\n",
       "304. 454403.021996572\n",
       "305. 618113.685872633\n",
       "306. 69361.952679534\n",
       "307. 457778.743577406\n",
       "308. 80258.7417146286\n",
       "309. 297854.369042314\n",
       "310. 1512.19798746612\n",
       "311. 231482.661555472\n",
       "312. 182145.672726233\n",
       "313. 404467.223747513\n",
       "314. 101506.11480575\n",
       "315. 41218.2387725734\n",
       "316. 304807.909663693\n",
       "317. 623377.130832511\n",
       "318. 113275.370235147\n",
       "319. 537836.091300195\n",
       "320. 432436.419452191\n",
       "321. 551578.331574925\n",
       "322. 289245.850436414\n",
       "323. 108397.531894296\n",
       "324. 337593.055222829\n",
       "325. 321728.455246191\n",
       "326. 403328.322321868\n",
       "327. 269542.971402557\n",
       "328. 303148.996490403\n",
       "329. 321832.000836249\n",
       "330. 736443.679211716\n",
       "331. -11970.2201554443\n",
       "332. -136181.613123656\n",
       "333. 437177.701200334\n",
       "334. 348382.115917233\n",
       "335. 455903.445637611\n",
       "336. 233638.512651611\n",
       "337. 342610.180889159\n",
       "338. 55006.4624089648\n",
       "339. 442151.976404929\n",
       "340. 599922.057147375\n",
       "341. 139736.035363704\n",
       "342. 334955.449193087\n",
       "343. 473093.933429319\n",
       "344. 601355.637611311\n",
       "345. 644360.445243072\n",
       "346. 698994.343458451\n",
       "347. -236479.021971173\n",
       "348. 389957.161143016\n",
       "349. 399330.047610526\n",
       "350. 101078.871358134\n",
       "351. 346115.256213286\n",
       "352. 496691.769997087\n",
       "353. 19579.8194038237\n",
       "354. 463617.863972401\n",
       "355. 20542.9379405277\n",
       "356. 137307.745409832\n",
       "357. -43227.746321004\n",
       "358. 436075.821079773\n",
       "359. 380663.443451303\n",
       "360. 423093.385250575\n",
       "361. 307701.035751555\n",
       "362. 170629.669226381\n",
       "363. 467218.573592919\n",
       "364. 176934.948599579\n",
       "365. 327417.309450902\n",
       "366. 220545.127692288\n",
       "367. 197561.989025251\n",
       "368. 108446.36750122\n",
       "369. 170429.637997781\n",
       "370. 246255.486029586\n",
       "371. -43627.3184279794\n",
       "372. 528445.455007424\n",
       "373. -108783.925376859\n",
       "374. 20654.6580946844\n",
       "375. 530606.109004193\n",
       "376. 142395.554869926\n",
       "377. 150095.333740707\n",
       "378. 536284.275834643\n",
       "379. -179702.552564152\n",
       "380. 261352.507063071\n",
       "381. 491590.03604484\n",
       "382. -196369.896598964\n",
       "383. 88789.747079998\n",
       "384. 522836.80007231\n",
       "385. 118059.076973814\n",
       "386. -130269.454025262\n",
       "387. 170825.315167355\n",
       "388. 649384.865157885\n",
       "389. 652318.624480607\n",
       "390. 454443.223149527\n",
       "391. -37091.1554296948\n",
       "392. 19564.9796889084\n",
       "393. 648439.136752665\n",
       "394. -86396.4066058454\n",
       "395. 142958.553798862\n",
       "396. 344656.381998613\n",
       "397. 117309.071582327\n",
       "398. 601002.735608364\n",
       "399. 460299.892613753\n",
       "400. 446506.356898154\n",
       "401. 304566.293962299\n",
       "\n",
       "\n"
      ],
      "text/plain": [
       "    [1]  262127.62597  768036.82713  357341.85622  149894.74957  189726.73148\n",
       "    [6]  149120.25032  270891.38239   85559.22506  -97766.39650  435764.45205\n",
       "   [11]  146525.00558  257105.74587  146943.96487  541455.90314  324101.50566\n",
       "   [16]  261405.87757  254363.11049  672308.31081  375208.65372  442769.89518\n",
       "   [21]   90278.82158  471134.98008  621368.18987  122698.16953   14187.36032\n",
       "   [26]  210329.23365  123095.82616  267279.63351   89270.78662   31473.91926\n",
       "   [31]  375431.93409  479610.47883  254140.03268  309579.08253  -69749.60385\n",
       "   [36]  405678.71038  161551.71900  471065.50363  -39049.28810   67337.02290\n",
       "   [41]  263659.66549  366637.94774 -254094.99966  409188.58684  399456.11867\n",
       "   [46]  271673.91032   50651.59348  235129.85463  121227.66089  122076.48086\n",
       "   [51]  498598.13154  655419.72610  310009.33974  731099.49077  108813.81200\n",
       "   [56]  517674.22417  252613.42519  206126.27898  153229.80174  598608.88789\n",
       "   [61]  538465.12421  118453.02226  356189.05705  442839.48504  321248.16848\n",
       "   [66]  288878.80876  536529.80227  367039.51679  255952.61673   86992.68050\n",
       "   [71]    9469.00268  394027.87451  548849.01427  311619.40480  115906.86963\n",
       "   [76]  -66774.48526  498688.20559  667052.82007  -99463.61879  744607.64877\n",
       "   [81]  393343.53565  205812.73932  337979.29841  313213.36551  543298.48234\n",
       "   [86]  136352.89647   -2254.83640  416807.58292   34168.80626   65649.43828\n",
       "   [91]  -15034.45372  388746.38032  280851.59884  -41440.71754  133864.41026\n",
       "   [96]  142074.23720  542303.79412  -39604.70736  128071.08257  158065.93340\n",
       "  [101]  725386.65027 -106615.27984  705718.97817  -42564.74556  593922.91407\n",
       "  [106] -148631.02881   77671.80787  471242.23563  107268.89510  302601.57183\n",
       "  [111]  414327.41893 -139670.63510  102653.53818  472653.87186  126368.60216\n",
       "  [116]   82419.03514  261830.73483  341764.88154  278486.19425  489628.00511\n",
       "  [121]  562145.09933  326879.37874  658635.22907  204340.44192  329719.58172\n",
       "  [126]  216943.05228  253060.05550  389792.98808  -25480.41670  310949.56027\n",
       "  [131]  531307.48136   94303.26253  766285.61921  637409.69923  362614.88891\n",
       "  [136]   86284.71659  534125.27536  654547.93303   97454.41031  186002.03500\n",
       "  [141]   22307.52838  185331.04682  596929.69485  297256.35509  674136.46933\n",
       "  [146]  166159.74337  237585.49611  340274.48085  -12534.04189  -34376.41153\n",
       "  [151]  477682.01452    -275.55114  285062.40609  487673.12239  639674.60879\n",
       "  [156]  643245.49558  107612.25143  324236.17464  512070.46799  282592.79945\n",
       "  [161]  195846.33288  117510.98635   94967.39621  462823.52917  184168.20990\n",
       "  [166]  158506.94053  763938.40105  441003.35840  594938.07180  162010.23921\n",
       "  [171]  278194.34179  194932.96738  412346.74620  -27323.76499  693119.30579\n",
       "  [176]  -72171.66855   95353.16258  -26261.75236  708192.77892  359098.75850\n",
       "  [181]  256426.89446  427608.16313   62387.11684  223487.88631  288867.99695\n",
       "  [186]  182451.73775  543493.75469  362134.90011  421759.12509  233575.48996\n",
       "  [191]  549035.70651  -11277.94017  339514.65122  335254.18638  677248.42288\n",
       "  [196]  279427.07262 -263526.90187  191535.32445   65125.26661  332428.28513\n",
       "  [201]  476461.04115  591352.80196  158893.95255   22856.04952  173531.17447\n",
       "  [206]  588331.05039  126437.12245  534265.78287   40151.74428  554116.83871\n",
       "  [211]  279516.51564  120187.16160  645421.75881  590813.64473   31751.18211\n",
       "  [216]  545446.81933  441220.34878 -283471.66941  421048.79470  306217.90538\n",
       "  [221]  543918.72610  681988.11244  414887.82052  423008.59604  248855.55619\n",
       "  [226] -222090.20274  176014.73855  282111.54449  163458.66758   20039.03035\n",
       "  [231]  575383.34802  222126.00567  232231.80150  556638.00742  111962.68555\n",
       "  [236]  632326.35998  280438.87767  397085.61620  481519.37350  581970.91893\n",
       "  [241]  360488.87154  115518.39171  503757.46766  162083.61454  660650.72483\n",
       "  [246]  625785.32950  406370.95434  691923.15875  198369.56921  315452.50725\n",
       "  [251]  301288.44758  492459.90911  432569.56518  530035.68752  728967.13750\n",
       "  [256]  268051.58867  416598.49361  314573.94084   99463.62556   95904.14455\n",
       "  [261]  445309.45118 -166138.85398  308708.18604  374368.06428    8270.55251\n",
       "  [266]  257722.65563  178011.97649  369426.70817  355122.61758   51227.37290\n",
       "  [271]  316868.10636  571020.41843  620637.15024   -4699.90347  424860.05339\n",
       "  [276]  228421.92047  550073.41546  595014.37232 -104034.47799  419940.98255\n",
       "  [281]  702468.35610  263683.32555  186434.43697    1851.04505  343056.80281\n",
       "  [286]  285326.76700  318452.58566  265294.32258  -67163.63729  254771.84613\n",
       "  [291]  140479.57626  695905.47006  264425.85847  403549.05543  380378.36323\n",
       "  [296]  221661.18958  462822.76784  323487.41740  543725.61303 -137748.06499\n",
       "  [301]  -84371.21334  -16722.90067  472745.12080  530904.67371 -189336.32207\n",
       "  [306]  310442.04420  295721.24465  -19320.70573  601982.67363  369419.47386\n",
       "  [311]  280354.30450  592724.46130  135657.10239  490100.74434  721475.87440\n",
       "  [316]  183725.25415  492357.80535  508094.41032  779445.08290  360884.58595\n",
       "  [321]   66932.39693  416902.74604  296185.05269   73318.44886  236485.81889\n",
       "  [326]  508020.04111  409128.19525  561643.11527  472055.50733  417187.04642\n",
       "  [331]  274469.33701  248701.42940  551117.69169  673192.15823  -84640.30436\n",
       "  [336]   30332.29226  374641.29026  490789.73755  269323.93521  189858.42336\n",
       "  [341]  -13794.45133  173549.22338    8613.32033  763213.14461  566010.53385\n",
       "  [346]  153175.55076  231787.06518  104720.81250  430566.31200  747952.54574\n",
       "  [351]  300781.60936  502084.18740   31195.70923  273254.15920  202555.79433\n",
       "  [356]  128366.46291  380388.20570  436558.32948  287519.81349   63155.61068\n",
       "  [361]  353657.63157 -205329.93844  485761.21944  378449.30240    -106.28970\n",
       "  [366]  551841.98213  155173.39580    4064.83563  438338.71606  595101.71103\n",
       "  [371]  268047.40002  559714.67651  203569.77515  163537.21931   12105.05524\n",
       "  [376]  400407.67251   97548.64776  499512.26998  228859.40106  121520.30710\n",
       "  [381]  528421.11841  123960.40243  188097.78370  482577.33538  225655.22504\n",
       "  [386]  102878.21773  461664.71577  474215.60783  684047.28620   13752.59607\n",
       "  [391]   20620.46806  -81706.84237  482448.47962  692224.16341   75099.00949\n",
       "  [396] -100297.09538  194089.18910  514657.07554    8343.93504   24466.26686\n",
       "  [401]  504653.43723  732223.77858 -125183.62845  247105.10752   20712.42658\n",
       "  [406]  280493.02756 -271653.45043  434172.85321  254620.91486  364763.19434\n",
       "  [411]  159993.68486 -258882.59479  828273.32982 -121987.90660 -264870.27017\n",
       "  [416]  488235.26315  135940.61800  167692.94981  531804.34449    1058.21562\n",
       "  [421]  570973.19120  288817.62082 -142494.57318  658783.20640  257932.29384\n",
       "  [426]  476038.56968  157153.93285  421805.05674  344742.35096  565378.44192\n",
       "  [431]  125358.83573  259530.06604  174416.85269  502348.69658  -45773.44377\n",
       "  [436]   69127.04656   -3236.72402  284617.03510  -47724.57673  668138.32749\n",
       "  [441]  353951.52150  916052.71367  333912.05016  325001.98650  520917.87084\n",
       "  [446] -166743.88096   69076.28385  470091.11695 -248757.48810  232600.09407\n",
       "  [451]  442247.46173  337055.32870  558747.99459  -26803.74541  590299.96906\n",
       "  [456]  202821.24310  265190.62693  517574.99557  291824.25875  309711.94521\n",
       "  [461]  409389.06023   -4835.93787  382122.68865  625155.85877  187923.48807\n",
       "  [466]  432627.45844  354488.97038  -40766.11461  408653.77650   -7990.59552\n",
       "  [471]   94221.27407  383651.96891  626456.51283  319151.32974  523807.12891\n",
       "  [476]  364101.57197  389789.55786  379634.91509  450283.02663  734395.44114\n",
       "  [481]  103743.49290  259555.11087   81522.19545  128486.52651  140662.95684\n",
       "  [486]  560750.52944  311263.94219   98475.00799  623714.90196  410222.94570\n",
       "  [491]  304066.16149   36396.52874   21782.82987  372569.93257  511674.99675\n",
       "  [496] -116901.97212  123790.89512  -24706.50643   -6040.06486  406734.07478\n",
       "  [501]  454320.45164  514731.28553  256489.89936  338607.21054  494837.11434\n",
       "  [506]  557413.96747 -110815.10721  535723.29492  300451.45225  428670.74096\n",
       "  [511]  158804.28876 -231105.19940  283883.89519  139499.23033 -186326.84400\n",
       "  [516]  100847.21211  349773.02467  657431.10609  250844.70339  299472.53237\n",
       "  [521]  296660.68465  -36057.35975  582657.16994  210813.39626  338431.40170\n",
       "  [526]  392940.33920  105466.13319 -180071.63359  503515.14486   -9570.75759\n",
       "  [531]  305966.54732  195493.30158   -3844.63480  -14733.67284   58685.99334\n",
       "  [536]  358155.75929  418262.48518  505952.49153  -71517.60765  595751.36296\n",
       "  [541]  769029.64691  538651.98958  182099.94452  285009.09894  405381.88538\n",
       "  [546]  161417.77273  -74103.95477  104613.92538  177070.55678  446011.96854\n",
       "  [551]  189540.14162  322981.69031  303660.28238  432789.17164  179392.63021\n",
       "  [556]  573490.06856  638100.26325  558580.03563  110357.33693  343676.46512\n",
       "  [561]  113073.45333  594726.70199  254406.40778   32344.66726  326693.59741\n",
       "  [566]  383585.26091  231220.20797  234440.65055  483335.09002  509161.39147\n",
       "  [571]  -74878.53998   73035.73109  420936.86921  345846.24442  -28153.80356\n",
       "  [576]  511785.98011  118992.69816  340769.47085   83594.94060  142688.70306\n",
       "  [581]  348496.02999 -158710.39338  -93541.28666  429859.14482  -47301.08682\n",
       "  [586]  101516.26591  342296.37031   71990.33282   35881.00519  447782.05184\n",
       "  [591]  -57442.25479  316002.88294  449390.30051  480972.33539  693793.39900\n",
       "  [596]  444515.05338  524706.83864  361226.77092   67710.20690  830107.80611\n",
       "  [601]  286731.63460  491743.78352  729613.34498  342086.27153  327651.67906\n",
       "  [606]  252132.18811  393056.85642  182987.52653  219539.11136  733779.11943\n",
       "  [611]   23314.07781  313649.07801  483494.89216  563467.66256  164612.68184\n",
       "  [616]  144334.52512  169969.57740   11583.42741  620180.78306  565235.02694\n",
       "  [621] -140977.76962  -15615.12714  669497.63075  100425.77929 -125563.95051\n",
       "  [626]  684299.37537  270396.00002  659010.62415  448905.06023  458295.32201\n",
       "  [631]  582614.13570  572292.76261   35465.88100  192833.35962  526326.34094\n",
       "  [636]  277921.76015  393235.30368  120927.05610  -76900.88110  666679.77882\n",
       "  [641]  190694.98014   92181.43168  426160.30149  570120.99628    8769.17415\n",
       "  [646]  485073.34545  586407.21135   53844.35102  854130.45666 -185468.17519\n",
       "  [651]  103133.14885  -82799.93128  294741.96423  136544.86162  179704.20157\n",
       "  [656]  453286.86355  501312.60056  699389.23903  629484.89535  511280.88928\n",
       "  [661]  144386.83873   75040.76054  762026.89062  336569.66614  287179.27395\n",
       "  [666]   67949.09891  509522.76629  268264.04800  838645.28460  149026.46736\n",
       "  [671]  121169.10115  399769.59560  446338.28051  428807.84527  209933.38566\n",
       "  [676]    -166.34869  649305.08222  156032.73815  459617.37567  247802.48305\n",
       "  [681]  384274.47184  285338.67071  550960.16871  368641.00680  264657.05706\n",
       "  [686]  543810.24552  192414.25810  364751.51637  197964.21001  228641.35402\n",
       "  [691]  385184.26465  269732.44088  261890.78026   10965.25230  442116.47550\n",
       "  [696] -174827.32859  206640.61571  541633.91842  264974.81522   17153.78653\n",
       "  [701]     634.35463  349842.05867  122601.97369  342188.02797  158792.29700\n",
       "  [706]  665500.60920   22366.81135  240646.00610  530036.53216  573352.08075\n",
       "  [711]  416937.56968  720942.56242  129784.92546  565613.57646  590806.48783\n",
       "  [716]  196556.11788  600831.67424  165174.62025  479422.56247   96401.49998\n",
       "  [721] -159014.12586  227571.41485  -35369.40593  471498.20467  236780.65751\n",
       "  [726]  507915.88975  474533.56614   55626.05104  260673.41580  363217.94313\n",
       "  [731]  587194.45179  437480.66244   40990.17025   63816.38599  -38195.82161\n",
       "  [736]  132120.94530 -155299.02372  335321.06883  -68437.23448  102589.85229\n",
       "  [741]  177851.16883 -247378.86035   56447.47127 -123522.61026  327531.61194\n",
       "  [746]  513521.05285 -141853.68846  295281.55400  -48184.44235  531665.92848\n",
       "  [751]   46156.27596   47436.29726  265626.60906  313947.42214 -253119.71322\n",
       "  [756]   48621.44917  429549.49739  138821.19119  123109.99359  609474.36987\n",
       "  [761]  280879.10347  412551.02375  203099.01700   75555.62539  304169.49612\n",
       "  [766]  -16355.94719  420794.50496  177355.74937 -205145.82807  582861.17784\n",
       "  [771]  342316.88731  -74406.84582  263421.40062  383617.10517  609450.52682\n",
       "  [776]  193681.09887  -43076.72752   91074.83992  675937.46502  243379.28979\n",
       "  [781]  572100.21220 -124169.41288   92281.93766  689473.81534  663917.39622\n",
       "  [786]  181520.00219  118827.85566  507395.60139 -223888.41872  466811.16596\n",
       "  [791]  -84639.69405  650696.79867  -44686.07239  548852.23893    4926.93921\n",
       "  [796]  223612.22312  283000.01213  -77255.13831  310335.45397  283414.13818\n",
       "  [801]  521580.02666  508324.88863  109909.51698  626929.18039  734334.55138\n",
       "  [806]  268318.20549  301939.90577  137474.66748  101220.15588  276695.70522\n",
       "  [811]  252563.19973  652694.74605  681809.85252  295675.25834  147528.49514\n",
       "  [816]  388337.31057  364224.29708     365.66691  365657.47617   52466.01476\n",
       "  [821]  101016.42670  205780.18350  744117.36237 -194983.19350  381168.74913\n",
       "  [826]  465938.12041  297883.75553  722943.74490  570542.35519  -63650.99792\n",
       "  [831]  491918.66743  311448.37060  368072.63872  482640.91616  110873.10571\n",
       "  [836]  445082.93913  583223.75439  436460.94246  570896.12479  534165.01204\n",
       "  [841]  -36592.48979  106843.05893  391194.69355  408967.56982  179597.39191\n",
       "  [846]    7522.24616  277702.54544  233035.62263  -35192.76609   26917.50351\n",
       "  [851] -156038.34722  354949.19559  537247.02815  -16314.13906   95263.24048\n",
       "  [856]   95986.27768 -175599.56741  649609.45589   78093.42094  113908.11325\n",
       "  [861]  440915.60247  563164.15750  478520.04422  337803.85894  562302.02772\n",
       "  [866]  239201.39919  585449.59736  314504.61905  379697.17934  179730.54501\n",
       "  [871]  131919.65024 -187388.41953 -131609.45071  295913.70832  178248.23932\n",
       "  [876]  235074.22001   80240.95102  127339.39194  487706.65096  784593.15342\n",
       "  [881]  173021.96918  365153.59559   69280.49079  305935.94406   54764.76095\n",
       "  [886]   15234.62344  320267.18642  217065.15920  423007.81211  159182.42374\n",
       "  [891]  442569.66628  -66121.48646  439467.22327  360271.42914   79744.81825\n",
       "  [896]  181462.94703  339655.74799  572479.21258  486338.93495   14560.32451\n",
       "  [901]  401452.32988  181399.41396  186345.34222  559024.89723   92438.59136\n",
       "  [906]  427968.91725 -128161.88721  364787.92313  551876.19979  707707.75939\n",
       "  [911]  291464.88910  178543.74039  482145.60549  465036.77710  592271.35238\n",
       "  [916]  403391.64882  136010.60797   42425.36261  574336.40340  542837.22565\n",
       "  [921]   10165.61838  573003.42134  136103.00192  448013.78925  607180.53121\n",
       "  [926]  -46112.10587  275872.87647  394983.13816  408749.99178  490317.29349\n",
       "  [931]  -56942.38976  461843.07690  301976.02265  442812.88102  320675.77193\n",
       "  [936]  197130.83091  145682.13341  885907.76775  242516.79394  658227.34669\n",
       "  [941]   -5976.33824  135253.68895   65440.22179  185747.44787  727948.18017\n",
       "  [946]  202271.97211  194699.99074  531223.72748  134538.62669  115568.78298\n",
       "  [951]  -63757.37121  -54358.70304  594542.84342  494149.68697  196820.60632\n",
       "  [956]  332710.57395   23506.27673  -85703.26584  763059.88496  342218.57434\n",
       "  [961]  182916.46592  -22603.95349  125228.84740  286781.30523  628373.40239\n",
       "  [966]  513961.87615  422822.58182  564113.48608  580985.24553  376475.28322\n",
       "  [971]    1693.25123  -13041.98075  350603.74972  426820.65839  563694.66803\n",
       "  [976]  600586.41626  581862.72849 -296156.61127   30019.60551  282522.43329\n",
       "  [981]  442564.96654 -115388.85749  516403.62054  406350.37640  623934.87856\n",
       "  [986]  359867.74172  494415.05977  298578.01364  257810.14761  481180.78934\n",
       "  [991]  354818.38087  231052.33795  413683.75139  -80474.13393  594798.72810\n",
       "  [996]  140301.49693  590296.57463  366498.28526  206537.76795  339474.01768\n",
       " [1001]  523619.27112  505073.29030   79324.02758  792893.26777  196968.20628\n",
       " [1006]  569868.02227  163229.94404  209993.74629  149700.07214  442128.43859\n",
       " [1011]  514805.09325   -2451.55919  667161.03812  150850.44266  227542.65370\n",
       " [1016]  599653.24474   95887.35462  558153.15451  182126.66225  624781.98948\n",
       " [1021]  -24028.07000  482130.17204  507274.34364  181880.99919  -18165.14209\n",
       " [1026]  143970.32800  572998.57995 -164001.74498   44230.44722  539877.24952\n",
       " [1031]  304996.08592  518337.48313 -160769.28309  598957.70976   -2305.00789\n",
       " [1036]  317348.53958  228890.62270  534063.39947  497102.87046 -138934.47287\n",
       " [1041]  443820.37575 -100776.06403   -7526.59792   77880.58595  262279.24580\n",
       " [1046]   83496.56449  249654.26660  104954.61016  260297.03329  132010.81350\n",
       " [1051]  509515.10057  239410.65641  417893.74829  264772.36522  615464.76049\n",
       " [1056]  442593.34744  574724.58276  554574.04141  493851.97884  168374.42150\n",
       " [1061]  423519.10667  354099.34347   55533.79695  421668.34670  279237.75526\n",
       " [1066]  284551.81066   82074.31058  229755.75981  274165.37498  496686.16047\n",
       " [1071]  -39464.91655  106014.57325  288533.12660  290210.22640  411064.43090\n",
       " [1076]  -17253.57070  340497.61084   89965.91513  351033.35949  525617.90820\n",
       " [1081]  384338.13704  294177.43285  438932.30758  366642.17082  518413.36171\n",
       " [1086]  323096.96130  485845.33157  346521.93621  409886.54375   20801.58041\n",
       " [1091]  279484.02670  229315.13110 -146718.61011  120150.35832  254727.34545\n",
       " [1096] -121193.11838  390936.25046  346528.61931   33520.23053  132030.33998\n",
       " [1101]  157400.49295  -31762.89642   38125.19352  313975.74123  385043.08857\n",
       " [1106]  630494.62251   62319.36958  265589.19958  615439.36526  373217.96362\n",
       " [1111]  340872.53258  619665.75959    2986.98701  584572.74388    1553.50352\n",
       " [1116]  206874.23437  496010.32727    1459.91618   72426.09759  425839.74203\n",
       " [1121]  480170.61021  455416.21358   74567.05047   17579.28147  120991.63202\n",
       " [1126]  721241.06030   77206.05425  284052.66919  410442.16224  -24459.78045\n",
       " [1131]  385958.37736   83812.00015  524425.00027  633592.69770  262556.99105\n",
       " [1136]  206535.43918  237237.06381  303693.05856  771588.01382  503835.35986\n",
       " [1141]  294188.82365  318539.74668  199337.31446  456778.70577  183975.41739\n",
       " [1146]  415193.69733    6724.71012  372917.85211  818841.48005  628542.63268\n",
       " [1151]   47636.93360  289559.84386  450691.50760  460628.09488  276990.87261\n",
       " [1156]  583533.20384  552983.33545  438586.97580  -33607.04214  551102.92777\n",
       " [1161]  418242.49895  347001.25779    4303.04729  297560.58709  320961.17764\n",
       " [1166]  -62213.01829  279576.08819  253325.03748  508426.80242  297711.01422\n",
       " [1171]  456137.28411  154815.21393  192119.89531  403476.62504   68605.10702\n",
       " [1176]  169487.74670  -72440.72802  583478.59300  354600.09406  411102.28512\n",
       " [1181]  149741.07674  334788.69227  190118.43241  683328.82601  618264.08271\n",
       " [1186]  676940.85093  130219.48104  -66294.64908  118801.90789  -65172.30142\n",
       " [1191]  288068.21251  585279.26245  515586.15478   82650.48197  589375.18524\n",
       " [1196]  896470.39299  -40712.78352  254354.16960 -175309.03394  225092.32020\n",
       " [1201]  130278.24043 -241041.24064  184349.06313  146503.44327  581270.87441\n",
       " [1206]  -65319.69018  300642.72288  476655.22954  119552.61231  421596.81264\n",
       " [1211]   -7560.88735  723678.27227  476147.70544  342283.19991  804728.46412\n",
       " [1216]  161629.49214  378129.47481  365252.11956  301258.51105  499361.47811\n",
       " [1221]  521420.59322  588756.87390  241863.79211  482698.08554  624680.08014\n",
       " [1226]  412078.71892  111069.98559  451155.50806  361721.90662  260842.13894\n",
       " [1231]  406057.36776  357984.26196  612518.35232  148143.37074  450219.75663\n",
       " [1236]   26324.11884   99920.00582  412635.67896  761392.29801  618149.50848\n",
       " [1241]  757726.48935  340797.89784  492188.96921  142264.28076  477600.08585\n",
       " [1246]  -74676.21522  485022.93644  441505.51000   38669.74745  455716.16510\n",
       " [1251]  503717.11335  414700.53836  651579.58283  759634.87339  410845.13851\n",
       " [1256]  115984.57874  198034.04481 -108324.21760  302807.36520  256883.96855\n",
       " [1261]  130376.53644  310398.84032  112100.87630  -60450.77368  302700.61945\n",
       " [1266]  585550.16423  -85645.36911  493310.58785  414410.26004  364181.92717\n",
       " [1271]  624572.88248  563331.88192  535686.30905  594596.58761   23569.19188\n",
       " [1276]   -4741.37479  476292.57070  307413.10701  507896.74899  623969.96586\n",
       " [1281]  311074.57107  622334.81859  103945.62599  343592.45357  612457.79451\n",
       " [1286] -102890.98130  211547.08134  586700.76246   42855.77123  403256.94794\n",
       " [1291]  450890.49178  -57981.20402  556887.67139   14133.94816   42544.40681\n",
       " [1296]  248800.91215  298536.08254  373674.38774  549710.28462  103365.79551\n",
       " [1301]  744833.17079  233155.90399  439675.20986  253776.78090  728297.19667\n",
       " [1306]  129404.76358  114080.37490  633215.17268   57578.22695  489453.23413\n",
       " [1311]  566269.12471  459523.58925  293973.56239  -48494.20521  526310.32902\n",
       " [1316]  534657.25897  705246.41516   53451.88866  205337.29060  308890.14908\n",
       " [1321]  415748.89099  178832.79226   66243.46678  478006.99232  218884.24669\n",
       " [1326]  240609.00846  500465.99170  202773.40670  489375.35304  316817.46893\n",
       " [1331]  487305.27151  332236.92067   75865.52831  438134.93605  118304.48380\n",
       " [1336]  472106.78173  673850.23524  303943.48737  142648.17601  586636.18935\n",
       " [1341]  483890.24448  593845.29404  123858.95610  406450.79045  321463.71377\n",
       " [1346]  431449.97037  538823.54457  431709.50516  421713.48448  683324.16678\n",
       " [1351]  213729.87892  200707.60320  347092.97507   69322.20616   96746.63192\n",
       " [1356]  422318.50705  657173.06994  180162.97869  148245.34648  466172.29726\n",
       " [1361]   86879.30393  180256.75270  547010.99270   51669.31513  591764.98809\n",
       " [1366]  354193.19021   11959.23726  529404.98277   65389.16034  325205.58296\n",
       " [1371]  327905.37947  444062.52389   63194.97887  116546.60754  335660.62738\n",
       " [1376]  148949.86788  143066.67472  368127.67768   83168.71669  502810.93864\n",
       " [1381]  250755.03860 -218162.74795  264474.28889  313124.77314  273630.76163\n",
       " [1386]  379616.94435  390142.58336  277399.21755  130723.94165  270800.80228\n",
       " [1391]  257942.38989  455399.29035  435029.27942  589618.33663 -124005.44386\n",
       " [1396]  565904.03306  244349.30472   62599.69227  392683.39148  508482.17263\n",
       " [1401]   11787.15652 -189818.86800   18516.65493  182821.14117  543612.92252\n",
       " [1406]  540342.18754  406919.25333  774546.87309   73509.73409  288358.44173\n",
       " [1411]  501943.83130  313082.43005  455880.47844  470128.00073   94663.34957\n",
       " [1416]    2720.16521  660236.61786  188188.09704  511547.54512  817387.52348\n",
       " [1421]  326900.19214  353915.89586  178241.54221  214424.91196   88736.23277\n",
       " [1426]   93339.47832 -141738.01759  510669.99445  515058.71553  591246.71387\n",
       " [1431]  -16504.66207 -131530.98920  357732.31793  662198.14507  -19611.72822\n",
       " [1436]  262832.52951  554554.68822  710599.81122  211226.20125  -30858.03036\n",
       " [1441]  273886.77662  319450.30314  154777.67416  562972.01246  315063.15253\n",
       " [1446]  398206.19989  676368.08514  176786.85076  273589.21964  227181.72658\n",
       " [1451]  770267.31421  278473.65379  463092.96964   14729.46634  557745.85116\n",
       " [1456]  159535.35077  351803.90985  339347.72598   40243.81262  374447.31989\n",
       " [1461]  332983.82916  206631.89694  638546.36011  396012.61922  150588.06007\n",
       " [1466] -181745.80356   33689.98678  172634.96580  428256.70417  413256.52399\n",
       " [1471]  206233.96547  225785.97586  149674.44381  215665.89412   65501.41395\n",
       " [1476]  496784.24438 -196325.38769  435679.69230  449277.14698  629201.22733\n",
       " [1481]   64550.40132  200636.69599  477406.23609  -29909.83525  351983.69480\n",
       " [1486]  535298.68280  -73269.38285  -60236.45483  -45539.69684  253307.97536\n",
       " [1491]   67277.19691  376257.00787  667288.49884  280935.96217  312776.83945\n",
       " [1496]  119487.97529  248954.33001  336394.90116   36462.63427  354664.59260\n",
       " [1501]  186378.51041  166569.20903  461236.14781  104503.29398   17078.15639\n",
       " [1506]  136422.60713  233255.21381  208301.05535  440289.50837  645334.80411\n",
       " [1511]  486785.98362  -67900.85108 -236396.97794  605462.31235  605766.55427\n",
       " [1516]  603476.32064  164218.46141  284349.56263  345507.26886  145366.27924\n",
       " [1521]  323364.96866  -44080.22863  121108.12023   26759.60763  111026.99951\n",
       " [1526] -143382.29968  644775.76403  549973.84802  -23812.26391  413247.76203\n",
       " [1531]  576567.53542   78960.84977   70187.58634  538717.01618   60036.90604\n",
       " [1536]  511248.54329  244251.35262  216241.78945  592599.34229   39752.63088\n",
       " [1541]  536045.64460  540811.72603  670065.19252  345644.01772  304234.54802\n",
       " [1546]  244692.82448   43885.12084  592721.64291  469600.46541  440028.16168\n",
       " [1551]  417195.13785  241355.16410 -106244.44051   11071.97230  586803.12952\n",
       " [1556]   39286.19126   88306.08194  531023.92612  -44314.86074  505806.31138\n",
       " [1561]  132135.77423  573657.72124  268804.97288  182912.53801   58402.91894\n",
       " [1566]  172327.77777  130914.83129   46290.13016  509864.54181  387609.62810\n",
       " [1571]   -8126.58990  231083.85867  358295.50357  343297.14067   13235.53734\n",
       " [1576]  652693.80127  231805.23662  284318.46573  275076.33310   31670.23944\n",
       " [1581]  713032.34452  730119.72920  472587.11070  604149.55177  209565.87940\n",
       " [1586]  196766.06313  -17234.89975  514445.30964  -20364.15727  141920.91790\n",
       " [1591]   -1163.14543   70185.40164  537497.95821  116854.23011   94019.08273\n",
       " [1596]  187856.66374  540955.47835  200294.76035  196731.68876  545352.33860\n",
       " [1601]  761188.32020  272981.14803  123063.09291  279335.05508  570784.19903\n",
       " [1606]   92107.57548  161156.94403  -67068.51550  523435.73709  464916.03721\n",
       " [1611]  683368.90285   55502.69904  378261.31759  278825.11626  254104.40501\n",
       " [1616]  588678.29715  501612.78309  254793.24446  541579.63718  140697.27715\n",
       " [1621]  216063.10518  474768.00215 -158629.73661  351344.78324  627544.69977\n",
       " [1626]   44351.77234  365331.94668 -148857.04137  282310.54915  223019.20836\n",
       " [1631]  322701.66430   21742.62861 -166954.46523  388130.68759  266394.66097\n",
       " [1636]  263190.83627   47550.60493  306993.76643  356687.79957   83158.44611\n",
       " [1641]  786216.34147  792594.61965  412897.82313   29912.49796  620926.84706\n",
       " [1646]  385340.38634  205033.27033  195748.85843  150995.72659   40372.58694\n",
       " [1651]  171639.85728  157911.04948  533732.64018  316700.90568  446249.29882\n",
       " [1656] -212967.52862   90612.99257  497378.18988 -108323.45954   30106.65672\n",
       " [1661]  -25355.57628  756896.88658  294532.04384  229067.44559    7547.94969\n",
       " [1666]  498932.93556  483135.24762  801433.31354  660499.22222  674386.84602\n",
       " [1671]  289310.69731  413495.97786  569600.39531  519964.55366  274564.65414\n",
       " [1676] -123311.99577  517908.96537  228869.55606  520819.33198  458381.16914\n",
       " [1681]  332354.03715  763778.68029  750721.41869 -231799.67431  124126.40838\n",
       " [1686]  458004.66583  516650.86528   -6640.46938  644605.65257  507828.57690\n",
       " [1691]  202700.04515  328626.87358  535009.30715  610298.47277  272059.31330\n",
       " [1696]  487075.16027  511117.83115  494765.66512  117206.06544  397428.43287\n",
       " [1701]  322822.66148  395518.27163  219697.16890  689709.08148  213857.73022\n",
       " [1706]  242868.37097  232135.65034  130909.94585  355307.29430  657154.76405\n",
       " [1711]  300884.33332   -5264.99876  357019.86206  326272.02057  400822.31071\n",
       " [1716]  124179.86736    -285.82264  352413.40116  472143.85456  483360.61948\n",
       " [1721]   97795.86941   47243.80947  562498.43498   36367.06798  205077.24504\n",
       " [1726]    3616.75753  419245.34115   74577.62797  149716.95001  410392.18540\n",
       " [1731]  683590.10360  508735.76244  444894.26589  523617.73852  595357.35020\n",
       " [1736]   39687.87796  219465.10012  337897.27240  553063.87461  308621.96717\n",
       " [1741]  336672.02709  558096.01203  316368.28177   81837.99182  206839.86879\n",
       " [1746]  330476.78057  642216.15020  345046.12516  267252.80232  117117.50801\n",
       " [1751]  602856.71688  382139.83415 -141149.93191  494823.55864  147383.56653\n",
       " [1756] -143346.17943  602480.11282  615102.16392  191406.52818  416557.94963\n",
       " [1761]  270257.60258  502804.14687  275304.55427  433761.29473  575056.16671\n",
       " [1766]  237662.53742   61947.24602  449100.89422  571520.86339  315605.79849\n",
       " [1771]  -97524.09821  234499.94186  177672.91743  507575.42689  323608.35709\n",
       " [1776]  135234.26028  255169.39130  689381.96205  477416.95897  138312.82491\n",
       " [1781]  498014.29228  225804.18560  388229.86640  -86742.04160  488373.35261\n",
       " [1786]  668143.18650   18708.48971  413662.44708  352283.56283  440658.23089\n",
       " [1791]  798228.51656  567502.83880  560924.54330   -6775.37781  235856.15025\n",
       " [1796]  470746.18939  218062.73534  621455.38505  223409.04612  147951.20995\n",
       " [1801]  710177.46222   76933.85092 -146992.55312  553864.92169  557510.27422\n",
       " [1806]  632191.98563  221338.20198  678730.93840  520821.72793  622651.75238\n",
       " [1811]  111327.98490  206950.86595  538784.10667  256506.87083  643249.07547\n",
       " [1816]  418183.46289  218403.40549  596243.91126  183970.76035  527460.18464\n",
       " [1821]  610766.33156  -95794.72273  156596.02797   89991.16638  197452.04263\n",
       " [1826]  271025.02804  483974.58983  593792.29014  553292.65090  465009.25036\n",
       " [1831]  220994.11308  537063.81313  202052.47396  437352.92057  285523.88999\n",
       " [1836]  193318.00082  432771.98009  443124.23049   44995.29901  299600.65529\n",
       " [1841]  130272.32928  393787.15604  143893.01062  243543.94314  534269.49078\n",
       " [1846]  343412.60459  427010.65997  306606.60693  -41268.33061  295470.84143\n",
       " [1851]  820956.89425  428779.18344   93176.33910   -3898.90216 -116358.56880\n",
       " [1856]  251265.79717  541953.24780  -24069.42349  -23567.09870  300213.37586\n",
       " [1861]  562901.36330   63750.23250  478371.98806  132443.66833  348563.37183\n",
       " [1866]  316401.97993  -95189.00197  482526.80184  -41152.78895  365836.79712\n",
       " [1871]  292635.15766  287234.30583  271155.24707  622179.88970  516319.12570\n",
       " [1876]  741915.00752  759926.61397  279175.21722  388169.33149  232115.70019\n",
       " [1881]  279093.23662  231536.00182  109046.18964  535770.58332  159131.70302\n",
       " [1886]  512557.36931   78177.03821  543597.25968  348049.26327  178973.86952\n",
       " [1891]  665606.15706 -117288.91024  693362.51437  140462.74451  241084.14570\n",
       " [1896]  196594.36393  237405.13080  -50283.40055  399773.94888 -231123.42049\n",
       " [1901]  648483.05520  300863.92358  291583.28071  468581.42790  280167.08592\n",
       " [1906]  399590.94588  486522.52914  -35180.09342  407771.92022  -58974.25259\n",
       " [1911]  -16166.11602  223444.50571  481207.99119   86839.14375  125003.47887\n",
       " [1916]  203483.63585  339179.61508    8201.94575  399010.59005  706093.97769\n",
       " [1921]  263231.03028  666916.25536  524348.98984    8219.71550  660318.62351\n",
       " [1926]  380324.50487  373669.56284  356588.31453  236975.36796  272455.35334\n",
       " [1931]  504012.11683  336952.20222  188093.54787  483778.08471  650665.59087\n",
       " [1936]   17823.78650   59804.33837  531851.57873   61670.08468  529599.92348\n",
       " [1941]  -35104.01854  259924.23535  266890.96241  110276.34235  131711.18455\n",
       " [1946]    8255.16468   31671.89564  263080.09773  174875.78142  330431.18210\n",
       " [1951]  245921.61553  583467.09761  334238.16215  490247.51286  320098.49485\n",
       " [1956]   49807.24843  648589.59716   82763.23134  523474.96343  219908.22567\n",
       " [1961]  -84583.32428  207539.04199  457275.57902  105884.49624  195521.26637\n",
       " [1966]   91158.13415  314089.57526    4153.09475  398515.48733   92589.90805\n",
       " [1971]  218315.14449  -26230.46646  331698.43857 -113848.68884  287795.14280\n",
       " [1976]  164064.74076   69952.44161  324763.03417  -94469.42756  487653.59859\n",
       " [1981]  534069.65343  439560.22664  390837.92586  103981.84193  178854.50642\n",
       " [1986]   66898.48740  421789.00782  641190.17998   80965.13982  371013.87705\n",
       " [1991]  827417.33249  311249.20076  185558.98324   65763.15205   53117.62934\n",
       " [1996]  -51187.99512  467943.16048  -24838.96565   50881.16148  188518.38591\n",
       " [2001]  592928.22642  798635.77391  143925.87269  143797.58925  364541.21813\n",
       " [2006]  322130.62250  392638.27827   61119.02348  456575.50810  795302.20169\n",
       " [2011]   62617.33981    -141.94740  265395.57916  177404.88487  396368.33939\n",
       " [2016]  405083.86940  384274.77454  164585.72172  368268.21740  493664.62787\n",
       " [2021]  507442.62728 -214298.07091  553366.54176  297612.17537  197840.08127\n",
       " [2026] -164391.80437  173210.68207  279901.66097   53690.75187 -104005.80755\n",
       " [2031]  185147.19958  800568.08127  925711.27284 -145503.66795  470059.73257\n",
       " [2036]   79857.58474  196984.73933  158416.01115  604217.07579  244288.25414\n",
       " [2041]  150406.40476  584686.42017  546395.02056  368386.64362   31476.90627\n",
       " [2046]  143135.07583  486611.83979  249270.81951  426848.22532  391825.47882\n",
       " [2051]  373874.84343  193123.49863    6026.72943  -74772.45583  -53981.85978\n",
       " [2056]   54268.91962  269251.76728   16244.35011  562806.72802  759579.85255\n",
       " [2061]  735597.22370  718327.27145  -65571.47156 -143638.03195 -112708.87345\n",
       " [2066]   46229.84494  -35796.02428    2822.63207  124769.32764  385886.75553\n",
       " [2071]  507083.28139  441224.22008  354412.80029  494015.58859  481721.82159\n",
       " [2076]  215574.31946  254247.03063    4785.96316  150385.54371   86919.68701\n",
       " [2081]  146880.28693  191158.81980  569174.48406  577256.65387  509832.99148\n",
       " [2086]  689922.47228 -101923.95677   59154.64676  542503.16696   -8386.37852\n",
       " [2091]  482396.42870  329099.61925  472547.02701  576644.44001  176954.24078\n",
       " [2096]  365071.63861  598842.86811  -18133.89214  341807.94811   91724.70898\n",
       " [2101]  340348.57092  236569.36998  515710.32326  296046.68568  422526.99668\n",
       " [2106]  186223.42156   80949.52645  239879.70486  650092.71170  538185.74295\n",
       " [2111]  390600.45670  447618.12005  630617.79683  359076.64439  260020.38097\n",
       " [2116]  145626.84903   -1835.66566  305734.51203  420519.36377  297691.72533\n",
       " [2121]  359609.73424  425742.90610   96568.01158   49146.86878   87778.83361\n",
       " [2126] -145090.41948  452787.86395  186645.04951  263487.03601  462109.11455\n",
       " [2131]  153624.49825  445894.53001  -85649.11716 -205882.45892  336320.47149\n",
       " [2136]  390321.39256  440910.30068  590437.61730  190383.10291  314222.96121\n",
       " [2141]  551058.95695  579713.20928  490569.87577  850430.38635  157691.49059\n",
       " [2146]  449126.75934   64627.50995  553772.48308  489057.23040  156134.69375\n",
       " [2151]  314755.26007  525286.27433  481838.70892  525097.42965  526195.48524\n",
       " [2156]  243742.14916  -15792.74453  253590.80216  320007.63846   99122.12527\n",
       " [2161]  231508.34527  453290.32209   72997.30405  -22146.29086  232062.53598\n",
       " [2166]  373572.20847  386764.87276  556931.71189  359116.10419  360123.99981\n",
       " [2171]  206301.21723  385093.23599  -55337.19461  424002.13324  653787.95854\n",
       " [2176]  433090.63206  209748.01910  233943.23650  -11372.16522   81190.62553\n",
       " [2181]  503832.34935  454776.82571  253138.88302  636472.65785  187715.09361\n",
       " [2186]   79435.07663  192880.05605  402636.20876   -3683.64920  317605.81484\n",
       " [2191]  198166.11428  416212.29237  258337.15317  236657.95224 -157968.47897\n",
       " [2196]  395429.33020  418736.86474  718122.64116  365881.79999  184945.11308\n",
       " [2201]  465420.46727  420380.48885  475801.11734  709650.18781  -64650.37795\n",
       " [2206]  432881.47224  375259.74789  -50761.79178  240433.37777 -147986.58134\n",
       " [2211]  181378.72623  442303.85185  411880.61522   34033.91071  185477.73315\n",
       " [2216]  -44670.70859 -115472.24129   76551.81885  168812.33933  -38561.26271\n",
       " [2221]   28619.77809  432054.74046  352707.01158  606481.54006  516615.55321\n",
       " [2226]  308601.74346    9599.77687  114144.13437   38246.29766  -52663.22426\n",
       " [2231]  425113.53982  412612.30130  382697.80526  431848.97384  562692.96979\n",
       " [2236]  -41517.61518  258707.76620   91621.05501  104051.56468  511033.87589\n",
       " [2241]  458730.27112  -12786.93353  410639.18478  353688.38463  596930.00654\n",
       " [2246]  346482.05313   21730.43813  574007.69285  162440.08775  459557.33018\n",
       " [2251]  176380.91335  172218.11766 -143766.88062   82415.21034  147055.80335\n",
       " [2256]  347628.90216  423293.20942  105086.16751  400663.30920  102440.87106\n",
       " [2261]  556603.12769   73102.54644  -23177.99111  566282.44397  592524.46216\n",
       " [2266]  348112.39055   53930.29729  415725.93303  360275.96295  168302.91935\n",
       " [2271]   89111.34159  380434.69704  202548.56466  167028.44400   53944.33618\n",
       " [2276]  698392.17772  356629.78850  433392.49451  314863.57037  588717.52791\n",
       " [2281]  136835.19728  124915.54860  107545.31962   61579.21446   18340.41265\n",
       " [2286] -181791.39235 -101375.42617  114838.22076   78549.03581  156872.46115\n",
       " [2291]  379893.33862  -10595.07801   69987.44938  334148.86431  304165.51173\n",
       " [2296]   49944.23253  466022.71268  447256.09624  472551.50021  540735.16454\n",
       " [2301]  536346.38496  132676.45689  456104.02778  281213.82282  232217.25635\n",
       " [2306]   16818.88226  157316.76002  -59916.56701  693898.15901  -19527.01893\n",
       " [2311]  130284.27003  218406.46035  341128.83994  276181.54093  403598.43918\n",
       " [2316]  413301.81250   91202.83186  137706.43761  263682.26053   48949.75744\n",
       " [2321]  402531.98385   23473.11225  392148.12624  110392.25243  348555.30349\n",
       " [2326]  402287.96171  -28564.03056  227257.15766  428200.83280  748651.13427\n",
       " [2331]  614376.05685  385151.59186  190489.79015  481544.09412   12201.98510\n",
       " [2336]  346980.07653   -4932.14571   89152.21432 -132006.77877  332815.74668\n",
       " [2341]   -9616.60865  397486.04635 -151597.06830  575150.20057   95291.05022\n",
       " [2346]  669097.98237  150791.99975  240956.40812   98423.33786 -124630.36881\n",
       " [2351]  -50086.19832  678586.61671  599295.69223  496282.64562  352316.49839\n",
       " [2356]  187296.95239 -223725.39485  522107.51919  271320.74367  333275.66037\n",
       " [2361]  504094.63239  572249.75078  512808.65815   -7855.30629  387538.85501\n",
       " [2366]  576488.79722  -31293.67486  475644.56136   19403.70073  247953.73965\n",
       " [2371]  193516.50932  261013.72772  445365.93037  546500.74474   79296.15253\n",
       " [2376] -111262.59618 -150479.98879   86131.01055  199945.61516  574631.64596\n",
       " [2381]  360815.83130  332559.20460  113644.69944  309177.05101   14854.21440\n",
       " [2386]  647319.68226  440176.37819  442142.48567  -15865.79928   48604.69729\n",
       " [2391]  -43499.37860  477802.66665  196733.60315  243537.77005  564619.75412\n",
       " [2396]  568406.58815  114784.82022  237378.14722  140591.75293  503936.09761\n",
       " [2401]  223017.97821 -130194.76363  512153.86936  267968.97742  338100.85014\n",
       " [2406]   59649.06420  334266.84130  -17266.54527  703792.99068  351948.00370\n",
       " [2411]  742849.61516  101551.95566  562836.44916  187501.74934  229859.98655\n",
       " [2416]  600695.67746  304791.44677  -17336.49653   47148.75668  172545.65169\n",
       " [2421]   43444.99150 -251715.58445  275615.85513  -49479.47592   90116.73888\n",
       " [2426]   98343.75160  -50970.55902  126821.94243  364422.56830   59092.97494\n",
       " [2431]  -95765.96627  449851.29798  233557.64979  157353.28570  166513.20494\n",
       " [2436]  321565.28256  510028.51637  451106.95457  204479.82337  331707.47770\n",
       " [2441]  329102.65786  416351.26485   62028.69157   37148.01684  567300.95873\n",
       " [2446]  249505.28397  269179.68823  239509.66214   44130.79505  -70936.66178\n",
       " [2451]  243557.31963 -117140.64531  105945.10327  355836.99930  508610.61389\n",
       " [2456]   26634.22991  282537.55422   21345.24689   24473.77536  290013.20396\n",
       " [2461]   73997.29841  530431.99944  292248.79683  314492.02070  462246.67467\n",
       " [2466]   43411.42390    3527.39978  136016.60977   74777.08492  652858.31899\n",
       " [2471]  734384.34374  642296.15672  448013.39278  485087.40158  208626.92345\n",
       " [2476]  425259.03665  547252.33916  583259.45242  -70265.17231  370203.92648\n",
       " [2481]   74653.39703  503956.67717  391475.38722  381041.18147  243167.00828\n",
       " [2486]  162034.03767  635233.40261   49207.64809   33726.67620  300780.54304\n",
       " [2491]  440884.73449  437179.30589  143820.39919  723767.98021  280140.12582\n",
       " [2496]  599347.56404  353165.96150  121048.06651  623583.34284 -253027.07371\n",
       " [2501]  401508.80731  149379.67529  422943.34412   79308.84095   16541.30361\n",
       " [2506]  486729.77775  -41550.03923  398291.83118  617921.45707  306675.94463\n",
       " [2511]  614056.87634  398072.82693  865091.04125  395080.43683  556895.69086\n",
       " [2516]   59098.52100  395784.42757  -81121.43205  490227.16734  514962.46648\n",
       " [2521]  153753.07979  395143.46752  535989.64022  251745.63761  445582.08125\n",
       " [2526] -189266.22910  517900.10748  -58140.45087  253659.96009  221160.11906\n",
       " [2531]   32011.68979  308370.69472  256829.25022  576437.65948 -136111.93130\n",
       " [2536]   42242.99434  214899.49070  296465.95897 -150888.07988  454038.29776\n",
       " [2541]  412762.54461  416592.16122  133453.70667  278329.45387  567118.81071\n",
       " [2546]  -75512.30462  109684.09786  321462.40741  -70871.36501  349316.18275\n",
       " [2551]  596372.42974  273307.71875  544493.51159  532921.74090  425722.56112\n",
       " [2556]  608595.44239  180951.47628  155254.20213  326324.22233  255854.71776\n",
       " [2561]  593915.74726  664777.57639  209202.39402  443035.72566  465882.78371\n",
       " [2566]   89763.15753  223937.55491  468209.00110  -77954.78410  -91389.71752\n",
       " [2571]  111808.62907  -94211.84927    9414.06306 -208754.82971  295597.34089\n",
       " [2576]   28508.64029  278201.22856  -79472.95659  363921.19560  339424.64775\n",
       " [2581]  235560.89156  501710.40714  405172.96632  223828.09137   35725.08082\n",
       " [2586] -135837.91787  428522.04927  118351.79573   92552.93138  603150.10794\n",
       " [2591]    5962.10781  253245.03871   94998.09690 -108977.35599  306108.15896\n",
       " [2596]  292736.74173  711873.78559   -5667.35490  298144.89125  274579.41941\n",
       " [2601]   95362.84294  333261.18483 -179160.32657  651999.63666  262632.99671\n",
       " [2606]  377799.39646  649542.06921  470523.24773  -20508.25258   95930.50415\n",
       " [2611]  589887.43750  401694.08964  226613.12816  499757.99801  417627.46021\n",
       " [2616]   24445.90746  243006.53100  684244.72855  -83977.13074  552628.19468\n",
       " [2621]  346036.93828  -66595.89569  334104.75045  398173.68030   90426.86317\n",
       " [2626]  392673.49435  131341.35087  -61142.34685  660953.88360   44491.88228\n",
       " [2631]  132020.09490  490015.21969  -33844.58012  141668.64014  213931.29560\n",
       " [2636]  127876.06360  488771.77375  349582.50455 -180729.83642  297645.65226\n",
       " [2641]  347413.34805  106903.46258  170491.12607  150734.18079  683026.45773\n",
       " [2646]  324181.08201   -7718.32556  250888.49609   11433.77795  678098.07526\n",
       " [2651]   12764.97948  637646.46821  385123.96678  489216.86619  215573.54139\n",
       " [2656]    4528.74461    2456.54226  169603.49053  208741.17997  623787.45342\n",
       " [2661]  212570.58998   56204.77118  565595.24039   67467.61016  534900.90637\n",
       " [2666]    5151.31548  -72290.88167  182775.83416  459382.89290  491890.26914\n",
       " [2671]  618517.38390  578346.83134  229465.19826  182621.43200  212908.54282\n",
       " [2676]  -19771.67788  353958.31503  483367.49866  133464.34290  576458.78503\n",
       " [2681]  633695.29253  225170.21453  128474.58148 -215038.27967   60364.48241\n",
       " [2686] -183189.45538  477698.22740  333522.61973  698634.17504  495497.73825\n",
       " [2691]  299667.67549  195050.51157  196965.08369   92266.10145  393077.09423\n",
       " [2696]  102058.21547  131025.14349  393777.86791  190301.25093  124771.08289\n",
       " [2701]  462169.89965   57939.37049  581929.50385  269936.75479  465636.68534\n",
       " [2706]  572733.99159  657997.02923  298467.17782  136471.50463  368592.08605\n",
       " [2711]  416632.15507  255323.84211  123894.78320  429131.76436  293331.82968\n",
       " [2716]  207687.12606  510026.01361  240382.26470   74100.76248  159470.96349\n",
       " [2721]   91567.82171  584627.66552  360928.17735  113967.41853  -14797.24841\n",
       " [2726]  438408.99712  -35398.04940  191267.22792  237000.72871   99042.21935\n",
       " [2731]  567956.27910  671878.57970  591220.66815  422058.60499  469937.19033\n",
       " [2736] -106051.46579  421599.89316   67682.26455  296319.02872  592462.05727\n",
       " [2741]  484410.90981  121698.72280   57810.08186  529990.38139  -89080.87150\n",
       " [2746]  -49347.26696  151993.38999  346151.29333 -219562.91041   33598.82809\n",
       " [2751]  274481.30964  272393.53538 -125404.69611  211903.05961  750389.09519\n",
       " [2756]  196248.58401  301393.72301  166933.77249  449542.91668  564386.04523\n",
       " [2761]  343682.59913  595938.17632  379020.48877   65374.70871  186738.48918\n",
       " [2766] -107588.24919 -189793.25847  122029.72035  118584.05735  285108.18809\n",
       " [2771]  404187.63108  469133.35528 -141842.27765  -34321.43394  135681.99593\n",
       " [2776]   97976.69589   -9214.51579   -3403.15657  668625.33786  275073.04031\n",
       " [2781]  421838.07962  453107.82760   85913.24977  105944.73727  576057.72690\n",
       " [2786] -165553.45931  155359.34856  697530.70373  504437.60592  662320.59960\n",
       " [2791]  300933.47679  380224.12585  521177.13671  407489.61860  319427.56317\n",
       " [2796]  -48626.35440  259330.26149  -81783.54698  590308.75334  363650.07186\n",
       " [2801]  384274.21351  509178.24563   82221.28637  356890.52333  583364.79579\n",
       " [2806]  648863.28982  142278.35589  405289.55271  558476.77954  311600.28576\n",
       " [2811]  168982.29191  -18872.99267  -46928.05763  750042.28744  714725.52164\n",
       " [2816]   21129.63268  445741.40059  179895.56653  115092.77059  251878.93103\n",
       " [2821]   52128.54580  377111.74583  290968.61298  298345.24289  -18867.25744\n",
       " [2826]  133920.10332  273593.05446  548885.21671    -222.53034  120170.41430\n",
       " [2831]  141358.67388  244426.58700  313190.51268   76568.59325   11577.21575\n",
       " [2836]  392966.93278  524961.81077   74573.92839  581141.14116  504678.91694\n",
       " [2841]  385960.32239   66113.42253  281573.74282  508516.02945  475919.48376\n",
       " [2846]   82383.98651  703096.19559   58460.36018   55617.91571  236604.02421\n",
       " [2851]  -66668.28881   47933.12398  184622.66675  531912.04286  361211.65360\n",
       " [2856]  593170.06906  518774.16157   17881.20373  362856.13499  -21921.50656\n",
       " [2861]  285448.49266  142580.26779  475415.61299  398902.52979  626700.34462\n",
       " [2866]  276435.23178 -245310.38257  130408.05958  753747.71753  162018.09846\n",
       " [2871]  109087.63581  631066.68676  536298.38835  479791.58198   83375.16863\n",
       " [2876] -161969.79589  282878.16038  558023.59605  323266.55608  147146.76197\n",
       " [2881]  564548.42410  241247.78637  201295.36903  -59747.30746   74364.69699\n",
       " [2886]  414654.23949  378761.42318  173943.75759  247006.39732  341212.64470\n",
       " [2891]  368835.06111  123228.69762  437058.13999  206267.58381  222112.67503\n",
       " [2896]  582008.42318  315570.58313  268886.08780 -226198.38610  131083.81413\n",
       " [2901]  317761.48922  211187.76122  698667.63633  711801.57274  740220.84675\n",
       " [2906] -242065.37917  441588.99769  129361.12324  389642.57641  281999.64184\n",
       " [2911]  497189.23957  575432.19651  548959.82283  128864.62301  401969.46080\n",
       " [2916]  324847.77417  592661.55711   87646.81194  -26956.31195  279692.17346\n",
       " [2921]  637293.76381 -101536.76519  -10127.81737  423429.62879   -7546.34745\n",
       " [2926]  156229.35279  496452.03216   79607.21090  437976.39703  -42846.17401\n",
       " [2931]  107561.23951  666593.67553  521206.26477  660585.58629  668072.64290\n",
       " [2936]  416214.98116  641791.57727  272731.98221  301633.54425  -27934.91901\n",
       " [2941]  217546.14818   -6251.33686   91752.08877  484473.78097  -28440.68279\n",
       " [2946]  140943.74337  153145.64974  -56767.52354  724387.88836   98705.14756\n",
       " [2951]  -59602.83848    1133.36128  353323.59154   61447.54624  216863.68267\n",
       " [2956]  467803.98123  309202.59738  520775.04566  534017.90452  337283.26937\n",
       " [2961]  133272.54369  341705.67401  493217.32011  -45336.24453  527094.97662\n",
       " [2966]  439807.44319   55410.61001  294007.10683  143444.52191   39270.28728\n",
       " [2971]  734452.06523  536938.95550  842826.01251  174019.81675  536613.99281\n",
       " [2976]  408102.90290  618359.29620  113315.21154  -98221.46901  530824.79982\n",
       " [2981]  359343.14027  563557.07672   86641.19307 -108515.05111  579122.88589\n",
       " [2986]  241372.99703  406537.95491   32221.98343   -2567.98640  307035.11320\n",
       " [2991]  658385.99524  536625.07354  155794.30898  139789.12839  493195.44905\n",
       " [2996]  347343.18596  190527.88258  434064.42655  425342.05314  260006.46359\n",
       " [3001]  452984.04685  296569.38798  826953.70883  321840.03060  332168.54083\n",
       " [3006]  583252.63880  497071.76752  418796.74925   79945.05370  600451.65119\n",
       " [3011]  -15854.76186   42208.46976  239984.33150  378171.56648  236483.76636\n",
       " [3016]  375208.11591   -8262.82438  -93232.05924  385204.75057  227396.47759\n",
       " [3021]  332634.59333  409860.35652  453924.25246  315822.71607   94167.68218\n",
       " [3026]  385673.54919  262776.35920   20593.63264 -158948.04431  182177.48841\n",
       " [3031]  408220.37986  110157.50907  536129.40864   10397.98711    5115.68413\n",
       " [3036]  -82120.10905  612812.68390  423473.32406  -69277.33168  547948.15659\n",
       " [3041]  310689.01604   18820.09151   35581.27544  107187.59041  382367.31483\n",
       " [3046]  404686.13400  598320.16454  367239.22285  -71945.89668  144365.29149\n",
       " [3051]  499791.94036  -34653.62209  608232.48309  182925.60909  466871.03042\n",
       " [3056]  465169.18758  375123.91597 -106599.60432   67338.47753  -26268.74348\n",
       " [3061]  589268.15918  284262.99708 -100290.45678  361091.63344  315121.06121\n",
       " [3066]  609733.29267  239080.62294  231724.87880   -8940.17839  638909.96429\n",
       " [3071]  383552.56342  464397.07391  448534.73681  589520.36049  109942.65660\n",
       " [3076]  -74534.51783  657435.74184  376135.67302  446478.23137  295480.33280\n",
       " [3081] -116898.59950  649609.68913  597069.38785  592735.38070  132130.92210\n",
       " [3086]  205364.13450  243235.46527  835766.38548  394553.51568  161914.04422\n",
       " [3091]  286546.92784   33373.83394   66810.56486  490139.44361   50444.08754\n",
       " [3096]  217179.80259 -100481.55849 -164286.47077  213025.45452   82898.80263\n",
       " [3101]  389568.16333  133692.17956 -128531.15288  283892.06757   71434.90343\n",
       " [3106]   71465.73863   17642.21953  449875.52113  409761.23650  169095.85159\n",
       " [3111]  199731.53962  547249.96476  680119.16369  101847.77143  415522.18614\n",
       " [3116]  340787.03884  110176.53965  243158.62722  490832.72714  506091.87623\n",
       " [3121]  179959.87095   65034.71065    5392.30612  378127.09689  546450.15212\n",
       " [3126]  494906.78078   50634.16279  235655.34351  120828.09565  -37973.58500\n",
       " [3131]  601332.88806  318593.30922  324275.64242  299419.77734  664175.71414\n",
       " [3136]  -58421.59614  138388.35936  265945.48454  494009.85785  353722.34200\n",
       " [3141]   87688.96034  721880.16072  286019.95404  561707.48177  648759.49338\n",
       " [3146]  226283.63555  151398.62299  112445.98727  281617.90263  157489.64497\n",
       " [3151]    -302.92426 -158300.26337 -204829.14409   51043.23351  308144.80454\n",
       " [3156]  398613.16162  650906.63680  314272.62547  -83432.69100  155126.23008\n",
       " [3161]  346525.08435  622521.27600  203663.73629  185949.58136   68621.69123\n",
       " [3166]  755087.67087  238897.38746 -156035.05831   10467.77730  174820.76358\n",
       " [3171]  200877.81333  -33338.35135 -166800.35101  424826.25673  178058.26000\n",
       " [3176]  363724.94584 -131028.88566 -140613.74494 -121186.47378  234340.65450\n",
       " [3181]   -9796.79748  656413.27083 -114586.02872  472822.35458  -73116.75548\n",
       " [3186]  188160.22911  232250.96658  368828.75620  299824.12145  530581.75123\n",
       " [3191]  150045.96198  437980.20700   57100.80838  572695.25427  365653.73567\n",
       " [3196]  528691.21755  348661.19672  334522.73337   57176.91428  244830.13643\n",
       " [3201]    4544.77875  -15344.32402   83679.85919  122977.66760  588540.37347\n",
       " [3206]  230964.45155  -16783.29397  411306.12799   85947.29617  167935.11349\n",
       " [3211]  607011.64682  -91566.45868  629090.47241  325908.01361  311809.95478\n",
       " [3216]  661480.89934  590297.69248  423814.84026  -87316.14729  318582.66028\n",
       " [3221]  469230.10650  294833.93972  482150.88582   91686.88543  130943.05751\n",
       " [3226]  629762.66459  354822.95614  -25144.83055  -22587.83822  -47880.30587\n",
       " [3231]  136326.77703  542482.54480  363931.27031  122159.69450  340782.40834\n",
       " [3236]  127421.29167  -10266.42003  345049.30897  217432.90879  531038.07004\n",
       " [3241]  388844.70300   99087.36509  -13141.30119  436376.08860  711671.79588\n",
       " [3246]  458209.26192  353937.57846  693380.74374  537968.98667  380741.45283\n",
       " [3251]  146233.55281  117072.51763  525015.79789  439003.16856  607247.30042\n",
       " [3256]  574891.19541  445970.72434  -75582.26469 -154421.90962  693482.18369\n",
       " [3261]   12733.27192  325742.49549  394354.15076   67578.53387  123616.74483\n",
       " [3266]  174650.07149  318292.10935 -112616.65534  191190.50488  541285.40975\n",
       " [3271]  562937.87944  527234.12814  633662.20033  -46228.99289  336015.47428\n",
       " [3276]  282826.31284  478251.19654   11977.21593   77973.33345  265992.32380\n",
       " [3281]  439574.12916  372388.55477  542667.86684  288368.76304  197166.57943\n",
       " [3286]  -35035.54655  630174.06735  210415.67705  247465.61522  -35849.71130\n",
       " [3291]  612223.61006   80218.17420  310717.87551  259266.96644  -37188.29081\n",
       " [3296]  513705.20085 -195470.85888  201886.32029  748353.48339  415239.87863\n",
       " [3301]  333523.70789  564399.30489  473968.46713  113982.16287  204147.33388\n",
       " [3306]  419735.81093  427440.71855   85573.53949 -137010.69340  532470.04674\n",
       " [3311]  -81028.28346  -41655.34471 -103699.04304  592814.29933   -4685.19841\n",
       " [3316]  776595.57372  463267.80741  203003.23923  737834.65669  394155.91195\n",
       " [3321]  359726.80704  247129.49420  259206.17864 -110730.99375  350126.89423\n",
       " [3326]   37240.87669  627620.49695  434528.67756  477299.09855  378525.84237\n",
       " [3331] -146534.73710   71412.22513  401364.21735  581188.31937  250205.40829\n",
       " [3336]  277394.66551    -384.85892   91112.13823   79972.73822 -230823.74533\n",
       " [3341]  -43796.27156   97406.97175  715811.38622  399041.29119  410804.58292\n",
       " [3346] -140868.16752  399777.73715   85424.52523  431083.23475  475766.80974\n",
       " [3351]  505782.09305  270143.56740  268905.06649  263091.12482 -149638.93437\n",
       " [3356]  239372.50587   38014.09939    5552.80829   72401.06145  406299.28443\n",
       " [3361] -101201.49256  457477.17312  112060.06184  538301.41423  136866.94555\n",
       " [3366]   40508.73159  407133.79875  108227.39876  625861.89939  181650.76000\n",
       " [3371]  156497.47392  476117.79744   46171.89146  -70674.61056  379657.63859\n",
       " [3376]  127761.55221    7217.78874  365204.18003  463241.46647  128582.09052\n",
       " [3381]  485797.70111    5638.82136  329749.07559  457724.15661  -10054.95450\n",
       " [3386]  278276.12958  675000.70255  250042.93605  -42364.04435  545881.46665\n",
       " [3391]   33094.53532  337965.44950   16298.99484  -85365.50714   98310.76293\n",
       " [3396]  141308.57583 -122249.29567   69319.55111    4476.99936   -2141.32445\n",
       " [3401]  678798.57368  503836.54026  419819.72706   34248.70918  203947.95546\n",
       " [3406]  309248.87067  277861.26095  126322.87983   54885.31529  794540.07164\n",
       " [3411]  601074.90111  412437.97005  671953.88035  117667.44587  279541.84469\n",
       " [3416]  145239.01319  500115.47306   23331.84512  679836.27386  -46256.21628\n",
       " [3421]  346336.52656    3565.21962  294004.54841  186127.37121   66271.42079\n",
       " [3426]  210867.13885  326752.64793  290688.88514  266675.52873  417191.50539\n",
       " [3431]  395759.98145  334324.71114  184042.16814  617027.61436  357185.59860\n",
       " [3436]  464547.28574  254339.41717  259479.67602  188552.45369  257839.36679\n",
       " [3441]  -45948.66866  132148.54603  146110.22282  295717.88392  108230.01271\n",
       " [3446]  -81433.36406  641508.34867  216456.60346  341730.10871  173277.29618\n",
       " [3451] -144200.20858  473660.96545  224910.37048  375623.74243  575539.24720\n",
       " [3456]  237778.99405   69936.09294  -65548.10099 -265774.53564  289799.42158\n",
       " [3461]  466682.73738  194135.45031  362395.97074  153370.58201   12081.01663\n",
       " [3466]  133228.91623  389310.67885  395173.26865  471447.37612  -86776.24266\n",
       " [3471]  253742.66729  310748.36761  589614.84180  374515.00685  422141.40129\n",
       " [3476]  266918.82055  -84666.76037  153317.72959  -64776.38985  286704.95338\n",
       " [3481]  608575.88545  -51168.51106  -91735.47430  477673.58694  183114.42150\n",
       " [3486]  430978.12306   92025.53929  361198.25641  771458.66649  439765.50770\n",
       " [3491]   38840.94604  251660.06175  544361.07959   84807.07104 -144567.28746\n",
       " [3496]  146581.46744  572150.41515  403087.76604  220233.52694  326984.02760\n",
       " [3501]  295923.19606  521790.62026  647472.47165   99827.38431  639811.19526\n",
       " [3506]  -78878.87651  402967.55335  -12707.84468 -116429.55074  481505.70262\n",
       " [3511]    4058.87761  186096.43141  519000.20960  493554.68728  214730.24189\n",
       " [3516]   29065.44067   -6664.94331  368728.31390  436703.39260   11472.39184\n",
       " [3521]  173356.40831  426449.34887  146867.29452  464488.85677  114927.66729\n",
       " [3526]  578304.77175  244807.75132  449928.03408  639440.47627  287614.71755\n",
       " [3531]  634291.11816  121560.00752  420129.91663  131093.11079  385457.72545\n",
       " [3536]  186267.41327  705096.32648  212934.17399  397369.98252  651170.62906\n",
       " [3541]  539227.08966  271931.89602  583269.29171  254361.66975  374738.46480\n",
       " [3546]   62566.90504 -167075.22730  396610.07122  354754.68207  217281.54228\n",
       " [3551]  386705.86818   51305.92041  232409.14210  389271.88939    6176.74969\n",
       " [3556]  307010.94363  247445.41850  107551.43278  -75914.11910 -128393.31911\n",
       " [3561]  348023.17016  620112.83798  112718.70847  326491.19094  230020.00915\n",
       " [3566]  402640.12863  660156.53324  382149.95232  833501.39712   68728.11729\n",
       " [3571]  365019.71836  165624.78304  479602.37761  740854.94223  184109.89359\n",
       " [3576]  382360.67426  288657.36795  493508.46736  141414.82147  175482.30582\n",
       " [3581]  260285.08621 -105485.56158  199435.37285  371692.26176  539799.08318\n",
       " [3586]  -85845.83368  380968.78391   82111.09008  242558.68937  302294.89084\n",
       " [3591]  326725.44726  -86560.62562  441304.46571  198843.38119   97661.62643\n",
       " [3596]  101998.19858  182531.84014  130043.83933  599838.09079  436671.20884\n",
       " [3601]    5281.83003  420425.65285  486200.56155  299195.72419  244877.32490\n",
       " [3606]   75123.10212   32317.85023  664965.69578  291225.97358  194096.74762\n",
       " [3611]  151801.55820  633986.58438  109625.80134   84698.33077   62595.89458\n",
       " [3616]  492834.30440  466640.06841   29329.26831  446871.39706  516023.03780\n",
       " [3621] -171891.02636  279051.06466  315399.14106  114341.27993  434486.49770\n",
       " [3626]  298362.03009  -62301.67106  256632.86637  198852.78058  417594.27669\n",
       " [3631]  487790.53837  519760.40848  579773.91530  315199.78922  206937.21396\n",
       " [3636]  475051.12600  650720.50437  384470.64526  -24249.06572 -217741.16967\n",
       " [3641]  660945.37942  727641.93792  509492.95176  311748.83558  590040.88332\n",
       " [3646]  423840.08504  224353.99128  180578.78330   53803.61592  287807.01552\n",
       " [3651]   79616.40386  348921.98229  179257.38909  275717.30915  609675.46455\n",
       " [3656]  315368.29382  419817.01890  509418.80745  254852.51088   37117.48335\n",
       " [3661]  640575.79358  512114.04938  444359.82400   40501.33347  425575.34451\n",
       " [3666]  543384.62358  445489.09488  -34766.69305  387095.25861  391256.91654\n",
       " [3671]  363151.01062  641352.29973  -31414.79077  514755.39899  396649.94938\n",
       " [3676]  229077.86573  653851.55996   80861.18492  519553.79469  210251.87147\n",
       " [3681]  564017.70414  656832.34592  219911.16075  307566.73832  152547.56499\n",
       " [3686]  422212.50428  136713.56179  456392.55407 -124915.23286  429113.18773\n",
       " [3691]  297266.26373  493411.85902  230742.88933  316137.01914  615262.07117\n",
       " [3696]   37085.42469    -332.35250   33863.60455 -113104.47392   81139.67820\n",
       " [3701]  249818.30258 -147638.04822   44116.12254  342644.28170  430853.42820\n",
       " [3706]  111641.81118  412677.06364  577220.53698  137306.33883  576075.45524\n",
       " [3711]  509698.49957  555529.62784  132924.51813  732941.08595 -148577.13704\n",
       " [3716]  544453.66706  146000.80530  190804.93269  610139.45239 -121400.10381\n",
       " [3721]  115988.85127  158046.28871  373866.48614  -54228.84477  336209.63285\n",
       " [3726] -125795.80881  356437.05502   11412.35906  322004.21355  516871.39211\n",
       " [3731]   89259.05290  568643.92112  151692.16516  450619.09984  187352.03866\n",
       " [3736]  411727.55522  828411.33176   59237.45019   48509.18206  723929.87219\n",
       " [3741]  523900.88997  373439.65680  351887.37137  -70211.78584  -39056.89163\n",
       " [3746]   46207.59378  177400.87300  180863.68966  195016.17119   54675.47944\n",
       " [3751]    6083.29605  388285.65770  701287.65210  369892.52261  -12745.96803\n",
       " [3756]  -15336.57397  274502.67091 -137008.77847  601869.84028  866503.60377\n",
       " [3761]  239233.17650  359994.86779  358060.10686  163111.24257  368050.94096\n",
       " [3766]   81219.99207  667899.26489  556460.66721  373751.26113  203706.77403\n",
       " [3771]  421103.20657  590154.28276   24148.87131  374297.28967  583124.14907\n",
       " [3776]  222110.19419   58068.56911  259128.31247   49342.78644  356501.56466\n",
       " [3781]  297338.87172 -112601.89838  314542.39395  132080.00409  552326.07378\n",
       " [3786]  331764.19171  170824.36673  387251.12543   56787.30303  172449.73773\n",
       " [3791]  534440.95967  329840.59204  256078.07829  151087.40348  320074.82742\n",
       " [3796]   87677.09496  -43108.41983  487318.41273   69967.38246  320742.19456\n",
       " [3801]  299444.13783  236777.82594  504890.69521  696212.43792  356767.97662\n",
       " [3806]  -18790.71655   42125.58798  572649.65510  197071.82333  615350.27583\n",
       " [3811]   -8553.97086  347748.31364  336394.26239   67721.60036  343713.87648\n",
       " [3816]  257644.34034  185308.56019  345504.95933  243116.01695  660718.02235\n",
       " [3821]  237563.71210  330115.33509  501555.45964 -148427.58763  -14059.70970\n",
       " [3826]  266891.23701  309390.88224  883135.77906  413952.72207  829368.31238\n",
       " [3831]  142844.83400   19063.93683  505426.27654  436199.90402  204407.41575\n",
       " [3836]   -5798.20243  181544.67061  203399.93549    2710.57308  339976.16294\n",
       " [3841]  502255.33992  592826.64597  590058.71271  368224.82278  335565.51702\n",
       " [3846]   57668.78550  385946.52149   40496.99614  337912.78334   19497.56377\n",
       " [3851]  545181.60337  255677.22010  675876.40161  191852.54872   10382.12978\n",
       " [3856] -127048.79065  106209.73856  372926.50239  324151.35907   48344.88836\n",
       " [3861]  378041.84052  249804.76318   80695.54819  475639.96097  567735.93169\n",
       " [3866] -122292.52697  158834.04887  439938.06067  616446.57740  395545.27807\n",
       " [3871]  506549.91552  246529.84709  167641.80452  503993.35505  196358.69061\n",
       " [3876]  633618.28065  444733.26496  647193.01608  682683.49035  654380.23972\n",
       " [3881]  108539.80091  319141.01110  606896.77119  516652.57619  -34753.62335\n",
       " [3886]  208619.64209  161147.46545  353656.58429  234486.58841  532340.81381\n",
       " [3891]  112148.48778  560287.57339  208647.07948 -199571.54807  690805.50453\n",
       " [3896]  306379.93871   27397.72478  346783.18300  363895.89350  296187.70205\n",
       " [3901]  498127.55832   86809.84279   -7705.31395   35398.96745  558391.52944\n",
       " [3906]  239482.38106    8566.26754  258056.45874  544560.02318  636678.53772\n",
       " [3911]  324297.39449  112678.16676  599142.40186   35206.66717  160931.57535\n",
       " [3916]  173855.88590  695060.49620  353360.18891    -878.24099  317214.79317\n",
       " [3921]  419664.00215  302375.61328  215943.13077  431600.52016  362571.60110\n",
       " [3926]  499906.74549   85102.19688  609153.86496  408098.53514  -53699.35398\n",
       " [3931]  272827.70842  193769.56870  -15392.39051   31001.41492  318649.85783\n",
       " [3936]  604988.98642  569333.35088  -27273.70114  328059.03582   51750.79345\n",
       " [3941]  165312.87722  584413.47672  452331.05446  114575.94626  274032.65604\n",
       " [3946]  494379.22613  539344.20829  698541.12025  505578.50166  552329.47965\n",
       " [3951]  412916.07881   64925.21742 -119120.25804  712203.79210  371433.32258\n",
       " [3956]  401539.34787  253071.28867  223949.24012  466641.83568  531599.31182\n",
       " [3961]   63125.01680  397149.11204  236550.71669  308797.31024  573449.99590\n",
       " [3966]  -59485.21160   80278.56105   49984.50434  294680.30604  385557.15988\n",
       " [3971]  197922.10204   64343.68144   38498.40805  385538.38738  449590.94512\n",
       " [3976]   48082.09367  204762.90757  168099.39103  446458.19225  443628.50267\n",
       " [3981]   25045.52724  193731.47914  553096.80508  491338.78910   27676.13425\n",
       " [3986]  188822.30643  183256.46460  509570.06326  517235.66304  250474.47791\n",
       " [3991]  609255.89481  360295.21247  208645.48858  -10224.25598  145344.22910\n",
       " [3996]  221051.49395  589905.73077  200983.14980  453879.72574 -244995.98375\n",
       " [4001]  121743.93581  -33006.10697  218377.50354  604811.28987  467336.45991\n",
       " [4006]   23598.44695 1029713.78450  395776.70115  -59042.62003   43982.15529\n",
       " [4011]  453056.48609  398994.18904   93626.68286  392840.45330  193927.44098\n",
       " [4016]   90574.02540  428875.03761  603740.83593  108707.16579  125987.14195\n",
       " [4021]  432603.39277  473769.40777  455997.16751  393057.24586  211515.77095\n",
       " [4026]  418202.49188  544929.26547  309983.00042   26434.73946  266984.39279\n",
       " [4031]  266297.91237   66711.07050  542396.11731   36970.13091   60285.21287\n",
       " [4036]  229392.83180   -2893.46141  427222.20120  715980.45405  404548.18144\n",
       " [4041]  552966.28743  366907.70449  -26349.26633  255709.43770  206737.21824\n",
       " [4046]   -5599.35742  -25414.27527  540588.45356  271437.59742  316210.45115\n",
       " [4051]  570017.46977  284297.52306  252600.57952  208300.67571  734303.70933\n",
       " [4056]  333422.52653  315103.75749  296304.33355  424166.66504  627841.53602\n",
       " [4061]  357174.64800  105953.34371  275677.32886   68418.17037  461447.25464\n",
       " [4066] -295161.20072  144595.71127  529578.75966  658976.60126  -32663.86689\n",
       " [4071]  392930.85263  318410.78737  609426.78974  494296.50048  817553.36335\n",
       " [4076]   51998.42696  480666.29377  623915.91328  436151.03465  606747.64706\n",
       " [4081]  130758.16450  346707.01490  431022.03763 -118948.24652  -80016.32503\n",
       " [4086]  699085.09138   41189.56811  145313.92723  508159.44583   79509.28701\n",
       " [4091]  346161.07088  153029.31484  616160.22025  164817.61879  399669.83171\n",
       " [4096]   37223.22405  -68947.82018  509507.28752   25296.54796  457288.54906\n",
       " [4101]  217871.92583  286034.14798  502024.04972  513323.88902  251979.67073\n",
       " [4106] -114332.20466  503939.98451  466883.32976  278386.62441  509714.02352\n",
       " [4111]  405194.70879  254022.41190  -49281.90237  242635.67844  366742.18007\n",
       " [4116]  471406.39979  273290.23031  429583.92686  687847.68496  242261.29660\n",
       " [4121]  307431.22995  318594.94508  330439.71122  269821.41645   93653.17208\n",
       " [4126]  103826.63766  509170.67025  576551.35772  113627.63179   90339.60879\n",
       " [4131]  381849.19189  110612.45467  465798.17286  112672.55347  475068.08546\n",
       " [4136]  103028.93307  -20320.21406  278031.48150   69434.83134  610774.75747\n",
       " [4141]  427486.29338  422037.82213  153542.28468   36311.19847  281327.55815\n",
       " [4146]  383789.90759  -52460.41942  275788.17711   45216.03724  458856.21929\n",
       " [4151]   85220.90441  267965.08439  720381.06604  133589.89491  111732.15302\n",
       " [4156]  -26005.26469  749846.96931  176902.57317  293589.62999  118241.96758\n",
       " [4161]  221163.61570  233847.59770 -176273.43004  119423.63767  157940.26546\n",
       " [4166]  337907.66318  128783.80894  210068.28541   93422.02060   50170.84843\n",
       " [4171]  340684.70241 -241174.48976  356678.42164  369402.18787  107924.99919\n",
       " [4176] -115158.84992  289497.78232  211820.33909  458843.47079  484533.04164\n",
       " [4181] -158746.74346   28738.83207  319650.90946  192206.02131  684077.92067\n",
       " [4186]  263382.10476  416093.33589  223171.80320   49506.39308  -30518.06108\n",
       " [4191]  294225.32587  129651.47466  337407.02108  537046.36086  542540.10121\n",
       " [4196] -211927.89006  239689.62684  108657.08648  433041.31588  175052.49177\n",
       " [4201]   48139.69279  198437.75950   16167.27156  423776.07005  194636.38678\n",
       " [4206] -205885.93937  798403.07426  572477.40693  310665.76740  -19048.62806\n",
       " [4211]  175378.08078  310987.93468  283742.64042   61149.75950   38131.30159\n",
       " [4216]  597900.77068  219369.52524  554453.65130  339563.39737  618444.71662\n",
       " [4221]  462331.35116  326764.54354  516084.26155  594967.18746  298979.36997\n",
       " [4226]    4284.03524  469345.55473   73140.95941  623563.16199  364088.09355\n",
       " [4231]  484094.70244  564161.25388  175614.08256  624775.14742  528995.88580\n",
       " [4236]  456023.94369  217177.78287  195151.45528  222455.33289  386111.05194\n",
       " [4241]  -68713.84931  157345.75782  670084.29662  315881.92894  608975.89743\n",
       " [4246]  414940.78302  197328.98980   13267.34629   59796.56479  351784.60078\n",
       " [4251]  275655.30016    5674.82760  302316.75902  179051.96880   46421.35529\n",
       " [4256]  208462.47668  523528.41801  336662.68341  503568.72171  399195.27703\n",
       " [4261]    2606.71750  176776.34958  372635.90927  302116.43942  792986.16485\n",
       " [4266]  375730.28389  243950.80081   85467.38280  304039.37865  257569.08916\n",
       " [4271]   49447.00870  247025.54986  498876.60588 -244253.65555  182207.29539\n",
       " [4276] -189577.17469  346503.39794  175793.69889  167171.82274  476207.81634\n",
       " [4281]  500610.82592  112512.48753  188403.00362  398482.04466   74063.72750\n",
       " [4286]  134101.43393  127880.41618  633144.75967  195161.68796  356515.04332\n",
       " [4291]  376772.33081  336676.89227  678419.15743  103124.48594  495012.51724\n",
       " [4296]  255232.99327  671064.71295  467873.63239  352576.57217   59444.45299\n",
       " [4301] -128343.43468   -8943.11911  338453.20448 -136143.02615 -188626.26844\n",
       " [4306]  475876.69950   -4156.24177  167718.93908  -61608.42051  145335.22317\n",
       " [4311]  554206.36750  304101.19344  273082.03177  379255.48232  336110.78252\n",
       " [4316]  251431.45895  201040.31709  -30145.62911  373874.54020  428048.52510\n",
       " [4321]  389888.90034  120832.24037  663337.11988  115785.06051  592842.15851\n",
       " [4326]  -55068.20967   74913.25415  333510.17313  420602.45880   25676.71889\n",
       " [4331]  431277.59322  290549.54006  752466.16099  244538.80059   29789.47175\n",
       " [4336]  129460.27379  681701.88521  304319.52694  646574.33707  256060.67272\n",
       " [4341]  260348.28475  -14570.80157  354539.96716  380043.76402   70634.24739\n",
       " [4346]  262318.36200  460516.50489 -184805.55740  487602.51123   71847.82255\n",
       " [4351]   16023.71069  133934.74254  903513.43785  531622.46566  -28331.42271\n",
       " [4356]  120518.19110  201334.43462  602839.85579  215475.48464  387194.72757\n",
       " [4361]   47667.01321  772874.49509  152934.67266  745054.02191  459472.50481\n",
       " [4366]  -47775.36535  347652.78765  136752.86898   81044.89984  581444.06986\n",
       " [4371]  536783.58891   77724.87137  202374.20828  128549.53177  -32454.67223\n",
       " [4376]  524541.15978  364366.58533  117565.96306  331040.72780  510094.87074\n",
       " [4381]  -46305.82050  359780.86655  613258.57716   37756.27743    -588.62022\n",
       " [4386]  141788.50146  505975.28275   86857.84643  133119.09044 -136981.73861\n",
       " [4391]  635235.84620  281748.89262  183083.97792  236204.30194  668203.20784\n",
       " [4396]  125929.25314  669190.34308 -100309.88629  149440.79924   53796.56910\n",
       " [4401]  -83757.57444  194792.11375  229076.51990   94733.20151  -79118.50638\n",
       " [4406]  520891.04470  759229.68600   57138.72679  708618.34632  297186.86916\n",
       " [4411]  554931.95926  191818.13069  -29107.22638   94727.66105  351837.07045\n",
       " [4416]  -46510.92590  604101.65687  563456.53043  210715.88634  193756.61843\n",
       " [4421]  595137.37770  597831.63748  396875.11694  182971.70421  428665.05523\n",
       " [4426] -113660.45951  328034.84353     363.68456  536978.30892  432685.80109\n",
       " [4431]     947.15053  211345.77103  592472.53352 -143346.41195  456048.77466\n",
       " [4436]  418056.09844  209647.60782   -4885.07403  217958.46860  365396.27815\n",
       " [4441]  345896.45233  -47720.58566  168165.53530  301856.37911  -26114.92979\n",
       " [4446]  209726.32479  601956.28105  547384.09626  611997.82238  596931.84218\n",
       " [4451] -106820.89862   59674.76021  197873.82981  448225.11056  402354.07183\n",
       " [4456]  256505.61679  362580.64278  314058.47717  461764.13827   56261.25670\n",
       " [4461]   27768.18956  492880.80007  421962.86911  -34881.79612  318687.09197\n",
       " [4466]   84051.48187  152442.40662  520132.20452  533982.43294  698064.39073\n",
       " [4471]  577003.29318  -78020.29817  490667.74924  375306.40049  286660.21177\n",
       " [4476]  -62568.58504  303236.27277  150850.94402   37143.12302  435328.84882\n",
       " [4481]  434145.36820  194715.97206  641726.18650  301151.10998  642777.00528\n",
       " [4486]  447282.68911  -24032.71924   54182.75680  704179.73623  360482.31190\n",
       " [4491]   63821.25381  295085.83792  576497.45206  326250.29750   93678.25775\n",
       " [4496]  593577.85531  475436.83731 -214619.39699  208579.38233 -201260.02706\n",
       " [4501]  571539.19187   96488.06587  430898.15337  559180.69971  -98383.32035\n",
       " [4506]  473574.52598  -17172.15332  -36100.05749   64488.93051  294223.67090\n",
       " [4511]  649890.37706  248863.37403  443952.97560  457090.85495  294733.08786\n",
       " [4516]  459201.31125  605940.67844  474396.52401   41214.47244   99232.47984\n",
       " [4521]  -33120.77134  371200.84181   71066.97638  165935.46274  332510.57774\n",
       " [4526]  132306.84774   74515.76697  495668.59885  400403.76957  121411.54881\n",
       " [4531]  454407.39859  563334.96839  344218.11325  -30583.74280  163968.93050\n",
       " [4536]  103806.25119  413574.86842  682616.92441  413608.33633  220481.40591\n",
       " [4541]  348042.96240  293966.32416  374618.27860  514100.83702  138536.66739\n",
       " [4546]   -4962.21023   -7052.11542  589392.72100  375842.41513  -26124.47000\n",
       " [4551]  169446.50554 -151814.29010  519514.14848  157055.45072  591161.26853\n",
       " [4556]  283763.21239  102607.90160  274828.88319  444708.65002  -52753.79966\n",
       " [4561]   98081.27448  141132.36416  134067.00031  328124.52395  624686.44815\n",
       " [4566]  626324.51658 -117665.84337  199030.90350  336091.30624  809483.11022\n",
       " [4571]  227448.17348   39147.19312  273756.40166  389431.09773  257400.70490\n",
       " [4576]  -23742.06271  174901.02525  834751.05484   63016.18635  -98574.07258\n",
       " [4581]  561860.11284  641990.23708  269503.37504  471711.58448  550658.35959\n",
       " [4586]  773641.75392  495012.82726  206120.98273  481215.00791  142202.95595\n",
       " [4591]  244962.32919  301879.59744  436104.71647  403024.97217  312931.28539\n",
       " [4596]  500861.22910  723905.80436   77955.52688  519274.29272 -164320.97542\n",
       " [4601]  512616.46344  481259.29795   59899.82696  140155.91197  242787.92869\n",
       " [4606]  129910.42431  371650.61115  474219.96714  566591.38014  289480.87356\n",
       " [4611]  419019.37592  508507.12912   57363.08775  244813.73434  695740.34278\n",
       " [4616]  755256.33506  441854.59704   90950.68874  702142.68765   46569.88553\n",
       " [4621]  456226.18651  198581.94810  249498.22998   64622.73642  -36609.27523\n",
       " [4626]  169755.10972  292162.86122  496110.10903  446189.44542  520282.52528\n",
       " [4631]  305340.02212   -3876.09527  510314.83419  527955.99722  -67938.46069\n",
       " [4636]  319565.66369  188225.66508  679802.62889  475346.47726  389775.52076\n",
       " [4641]  487347.90414   49407.11699  529763.93986  676812.52415   -3890.14540\n",
       " [4646]  244494.49591 -253244.54345  211354.48810  464425.83382  302258.80231\n",
       " [4651]  184581.00109  682642.17125  390256.17121  323031.92486    -780.40664\n",
       " [4656]  453393.60672  344899.96630  178013.81029  489441.04612  536119.91076\n",
       " [4661]  359559.08623   92424.60827  -64484.58034  387709.86567  285575.75290\n",
       " [4666]  381139.66316  527150.61149  195795.63341 -157247.45992  -44290.94788\n",
       " [4671]   72208.39716  444736.62078  229278.67169  391249.50698  237947.24732\n",
       " [4676]  395564.98123  324026.09695  175788.40019  285589.32873  562746.69481\n",
       " [4681]   10454.05612  464599.26242  -87213.64862  274795.94506  269147.76158\n",
       " [4686]  498826.40105  542013.00754  394854.18135  167746.28870  245553.45047\n",
       " [4691]  341442.13507  429651.99972  484800.12713  460650.00941  156193.12373\n",
       " [4696]  587065.83860  203390.69911  600005.06457  729319.07714  303482.30144\n",
       " [4701]  233215.44976  337749.01621  304216.66226  355052.31189   29031.23251\n",
       " [4706]  204148.80012  546581.95872  177890.34327  221473.16745  460543.97347\n",
       " [4711]  325286.33581  354004.70371  274506.11889  537515.37568  -67220.46995\n",
       " [4716]  621766.27204  483713.76357  216757.28715  339146.24969  582571.84712\n",
       " [4721]  618123.98812  170568.50351   94048.64614  238044.18052  311945.76169\n",
       " [4726]  301013.34610 -154243.21745  405288.13410  116322.95578  -46740.40935\n",
       " [4731]  457158.27431  456347.17056  158155.13013    3829.93367  731257.61286\n",
       " [4736] -113007.60531  638981.32872   16248.25603  165908.36700  361986.10763\n",
       " [4741] -120779.11035  298407.48378  381001.51143  192709.95096  520380.78581\n",
       " [4746]   98043.93434  219843.04152   23576.45824  338511.05035  127835.00831\n",
       " [4751]  334519.32504  557554.32443  416317.09661  -24189.01433  594381.70046\n",
       " [4756]  644297.55975  -90008.64988   60877.48078  299710.25706   32378.86015\n",
       " [4761]  538034.11971  -33030.13884  386943.61107  141922.71096  493762.89446\n",
       " [4766]  152911.28846   84564.12025  634525.46254  192464.14296  289044.31621\n",
       " [4771]  -42562.73053  385514.03848  474295.22189  249979.83775  153471.10006\n",
       " [4776]  244571.44840  122388.05888 -295431.85638  442904.70009  -26895.75878\n",
       " [4781] -161781.88441   13048.94185  304666.80362  325319.02073  111969.12195\n",
       " [4786]   83374.72565  254206.67840   31063.22759  315645.75740  410989.81765\n",
       " [4791]  -89228.44101   -8522.77105  -88375.90158  -68617.93257  174718.95290\n",
       " [4796]   82940.81190  -85216.92673  705889.92303  142774.50603  408455.83281\n",
       " [4801]  203028.98708  334976.46296  503125.88315 -138447.37908  189697.46934\n",
       " [4806]  341545.19641  328235.49577  644525.42214  -64099.50206  153908.60317\n",
       " [4811]  302260.20420    5435.61851  134984.39987  312357.10193  -62995.72501\n",
       " [4816]  291258.01697  459177.26102  197400.64364   11423.85741  417401.83752\n",
       " [4821]  568027.25245   84603.16330   48205.59019  614428.15087 -193643.58506\n",
       " [4826]  176296.34521  -57772.88019  446318.53372   60947.54378  421459.68711\n",
       " [4831]   14140.32197  308917.15350  401165.45213  307843.48256  477214.86675\n",
       " [4836]  551710.56790  591515.85726  668522.41664  360919.15229 -126543.52460\n",
       " [4841]  -37819.40773   69999.53513  -24979.88816  579146.28219  380088.02693\n",
       " [4846]  280824.98752  154057.60967  469679.68061  -73162.76351  623095.67034\n",
       " [4851]  385665.67997  253620.34940   26870.32364  730229.70828  237987.78799\n",
       " [4856]  125900.99813  313729.28965  392011.03145  228098.14930   62154.67342\n",
       " [4861]  245033.90847  247454.80004  617643.71588  201120.90517  690088.13316\n",
       " [4866]  448486.70927  272248.27439  626328.46919  489270.17308  -17661.93481\n",
       " [4871]  131095.06450  393154.24587  443004.51280  133430.64119  -29933.63632\n",
       " [4876]  234953.45648  398187.46344  336011.07004  437066.23732  680024.51356\n",
       " [4881]  631405.86228  689127.13421  -29485.18270  499795.27752  255864.32655\n",
       " [4886]  710379.49607  123672.64292  226112.93932  445705.30411  331076.19791\n",
       " [4891]  399462.72589  663298.00456  -31629.93697   11092.43619  482786.72973\n",
       " [4896]  504588.22990  310571.13166   28769.11861  366860.66773  291768.59098\n",
       " [4901]  420301.15605  354935.85908  276668.47636  469459.75155  302606.24305\n",
       " [4906]  352816.69365 -137603.48924  -27958.03344  346587.12941   85701.84472\n",
       " [4911] -286182.46433   90514.40660  169784.50449  519704.23119  573891.26808\n",
       " [4916]  117520.52732 -172886.86362  558023.51888  269066.74521  320101.36953\n",
       " [4921]  143253.71486  243804.98380  587127.07333 -202641.00604  251304.44374\n",
       " [4926]  322229.63704  319548.43493  429076.31455  255652.42673  226917.33144\n",
       " [4931]  -16221.73535  194416.32654  737278.90361  575297.83097  130448.50509\n",
       " [4936]  401161.92975  238713.65258 -171635.81381   23810.91899  468692.49084\n",
       " [4941]  227037.55126 -109068.33134  273593.46521  612991.32176   18152.24027\n",
       " [4946]  -25096.30355  152633.01672  -71337.25225  -50085.01723  519898.94780\n",
       " [4951]  133275.38034  368687.16652   23555.20585  677620.71185   93204.13047\n",
       " [4956] -114763.25069  102788.45828  306518.21730  571521.32246  733791.01784\n",
       " [4961]  254582.48616   21742.77052  507683.82085  473385.19978  363529.70527\n",
       " [4966]  161118.76387  569434.98609  316028.65430  102560.23495  354690.04246\n",
       " [4971]  410553.84106  290059.54722   75417.93878  481773.91386  281898.20835\n",
       " [4976]    4962.17816   -5765.07647  202404.81001  133747.41763  417249.98067\n",
       " [4981]  -16612.25025  212345.94861 -114464.89836  426298.66437   30361.77490\n",
       " [4986]  118318.65543  421601.22208  398300.44326  425306.74959  -85013.98274\n",
       " [4991]  308270.43198  327360.38577  702001.87916  -40165.41628  224024.83699\n",
       " [4996]  344159.82812  470199.16931  119170.51872  203585.06773  373137.01221\n",
       " [5001]  591991.78627  164901.26105  620028.30490  647530.46707  275887.22458\n",
       " [5006]  704288.01966  435395.29622  226859.92274  475229.59678  315143.98196\n",
       " [5011]  445983.81630 -120908.10996  337410.67955  -47425.91890  282289.63008\n",
       " [5016] -181373.03939  539584.35032 -115177.57429  312117.20076   16595.57740\n",
       " [5021]  314929.91788   88406.41871  631081.35533  -59233.75295  449569.39644\n",
       " [5026]  390088.18921  400876.84570  360755.57653   44091.76162  175074.26441\n",
       " [5031]  519244.83692  470231.83972  617047.40386 -160192.44579  372140.32442\n",
       " [5036]  283461.70572  355197.41638  125579.58707  554415.67891  120864.96153\n",
       " [5041]  148100.86739  694983.30153  479370.51055  223940.41754  815617.03088\n",
       " [5046]   99004.74426  115040.54357  181097.53163   96360.29180  237787.07853\n",
       " [5051]  316807.78354  488681.71588  287529.84529  504395.76376  580057.11339\n",
       " [5056]  -19128.08303  569211.45389  381349.51648  499914.85951  294588.18722\n",
       " [5061]  269665.54288  327939.66774  629148.77702  508531.61781  -13097.83299\n",
       " [5066] -121311.39884  -22914.65101  417606.69004  390902.88806  222473.20794\n",
       " [5071]  480730.45960  516732.18485  391532.97694   97201.55259   28435.42181\n",
       " [5076]  443739.88913   16405.84465   70271.65250  231340.28670  260272.54537\n",
       " [5081]  770113.56736  262116.63417  177278.98220  768247.04267  103763.14335\n",
       " [5086]  127071.85398  227567.18175  716941.62247  393314.29296  -41400.26432\n",
       " [5091] -109796.79046  399582.75755  241455.31965  385228.76305  506004.51617\n",
       " [5096]  534229.90701  619272.25229   72547.71909  415078.57204 -104568.23675\n",
       " [5101]  290505.95440  369380.18593 -204581.82250  115015.40568    3552.70967\n",
       " [5106]  390684.20417  731944.04772  -58148.81111  246258.14210  548796.02712\n",
       " [5111]  237272.33451  188192.39821  675769.12980  522532.59806  268126.53214\n",
       " [5116]  242058.84681  390198.85440 -169941.48780 -143012.21424  335933.58458\n",
       " [5121]   86359.56448  544543.67169  540754.57140  247152.62420  130860.33313\n",
       " [5126]  531528.82840  854563.09131  124107.38462  210836.98157  465662.52227\n",
       " [5131] -238813.35355  -54998.92886  186573.47733  441906.44231  716367.36289\n",
       " [5136]  452531.74223  102279.47788  427886.89430  133580.50106  554321.07515\n",
       " [5141]  -66662.42114  -88908.41168  296803.09219 -133632.74277 -109770.00668\n",
       " [5146]  419213.68536  581505.48107  368952.73857  698081.56714  160389.81660\n",
       " [5151]   -4660.47641  272790.39227  275087.41900  261011.42771  -84271.45847\n",
       " [5156]  -72177.32098  734548.11342  353132.24869   -4308.38627  168417.98620\n",
       " [5161]  163930.79100  527362.31933   64080.15902  399716.71664  181813.77215\n",
       " [5166]  494593.79624   98681.63790  181987.18654  392549.20493  645289.24905\n",
       " [5171]  241861.33552   18506.00522  267613.98809  352744.43172  148609.22193\n",
       " [5176]  491431.09113  429709.34897  462339.92091   26042.41771 -227198.30653\n",
       " [5181]  696519.91013  600445.53738  553881.61628  209807.05253  516540.39360\n",
       " [5186]  702757.49752  552451.96257  424489.29239  421134.58193  451381.94837\n",
       " [5191] -131395.63726  563319.34983  728310.59610  165598.80608  739758.59773\n",
       " [5196]   87402.26304  124824.35442  574636.75244     291.12464 -178954.92522\n",
       " [5201]  467674.42519  350697.44405  474502.36560   29641.59285   46269.17195\n",
       " [5206]  651987.71419   25822.26350  386112.60059   91047.41605  446739.70557\n",
       " [5211]  457066.05960  509556.59885   75476.39134  552224.12537  246034.71840\n",
       " [5216]  -58906.16227  163732.80465  258069.72298  -87038.71259  458925.59970\n",
       " [5221]  -16810.95899  122677.71564  219736.07636  252470.00391  -40467.55224\n",
       " [5226]  118382.81706 -202036.76602 -123105.13071  567227.04967   16335.07683\n",
       " [5231]   10257.37756  163643.75239   15717.50433  151735.08434  747155.71615\n",
       " [5236]  108539.62034  526962.08522  296211.96237  357455.51643  547097.31914\n",
       " [5241]   29000.96228  340268.44355  -42696.20875  600167.70285  499538.55182\n",
       " [5246]  471457.08580  566228.87345   40124.99382  307071.75202  133354.98348\n",
       " [5251]  108600.63899  414293.01565  178184.97005  194982.96533  123296.63844\n",
       " [5256]  375769.68465  450734.80660  219076.43714  522361.61287   75850.59144\n",
       " [5261]  111839.34890  362050.88605  297849.28189  567112.36392   79546.57100\n",
       " [5266]  210059.15171  300878.78409  356887.80361   -6783.33364  803989.31352\n",
       " [5271]  295748.78501  557395.05823  183918.07890  -37015.83671  631250.01735\n",
       " [5276]  204519.90475  141077.03970   59152.95186  509286.21718   -6995.98240\n",
       " [5281]  279036.14493  204886.82943  439151.47011  301096.75136  -85054.41545\n",
       " [5286]   50210.86236  689605.29292  416690.38761  126480.90077  282076.43115\n",
       " [5291]  551961.38040  432061.61796  497970.08515   59676.39837  667842.88953\n",
       " [5296]  759643.01382  544185.26949  424822.99199  800879.11997  246174.15021\n",
       " [5301]  337028.68186  205260.50734  360721.98497  486118.98515  749833.08902\n",
       " [5306]  461923.42626  158645.10633  310310.06057  194109.78737  229571.81963\n",
       " [5311]  -13569.35460   42386.45692  749936.15390  498003.79672  181434.95139\n",
       " [5316]  543312.85134  393255.21299  536642.26213  -13937.33060  133496.12855\n",
       " [5321]  450290.75860  285407.75925  189139.96020  226824.19258  218889.23370\n",
       " [5326]  382576.57528  618973.83334  329311.43199  605144.83281  361435.26033\n",
       " [5331]  174958.79354  186315.36357  196139.30124  131822.12524  165085.06822\n",
       " [5336]  294001.21380  170480.64542  355043.21639  752654.58011  663393.29100\n",
       " [5341]  803398.15405  245318.76227  569567.99371  162119.27631  250863.07430\n",
       " [5346]  433555.48005  167849.71122  501604.47954 -226365.40342  295713.62774\n",
       " [5351]  496851.89613  548438.32986  513796.25115  399953.16178  359511.75740\n",
       " [5356]  471885.54855 -156229.53808 -100612.01234  352012.58013  114653.68607\n",
       " [5361]  477647.21308  160610.75920  559260.26925  194412.92915  627000.57537\n",
       " [5366]  309146.76375  109250.50398  329635.21901  481699.84984 -139140.89081\n",
       " [5371]  492165.28698   90597.78516  341769.04586  489905.44748  211622.71487\n",
       " [5376]    9990.23166  -32790.83534  618863.28276  489351.93207  567343.68143\n",
       " [5381]  531303.22985  410635.94136  240184.33727 -195661.39177  193757.45671\n",
       " [5386]  427390.15081  670039.90534   -1182.27185  295741.56477  147061.36925\n",
       " [5391]  539172.79758  269166.01425  241342.05862  320402.03268  367928.14904\n",
       " [5396]   52427.34615  373260.81954  372107.97620  608536.75969  122980.36940\n",
       " [5401]  138282.90054  432332.10152  248357.35060  519251.13524  543284.25263\n",
       " [5406]  472378.83217  325606.05369  283418.64267  -19529.88532  111058.98225\n",
       " [5411]   43113.81119  279042.55254   89421.57655  228420.23914  559709.53690\n",
       " [5416]  130604.75039  197313.41062   56793.25330  210008.40039  335932.48700\n",
       " [5421] -118361.15926  700518.81114  611066.02450  591007.56955   39684.56328\n",
       " [5426]  687609.91725  388603.05323  169348.80127   -8250.13981  616493.74975\n",
       " [5431]  -94361.39824 -278999.93584    1459.40284   70325.15434  306932.75209\n",
       " [5436]  388616.77740  316686.99858  719719.08251  -89401.66416  368387.75827\n",
       " [5441]  164745.14868  162289.60308   26198.74710  345675.71511  523336.78837\n",
       " [5446]  386293.50477  595582.86474   22340.85619  709402.57026 -348631.75212\n",
       " [5451]  486862.06849  564537.80574 -129745.53505  247379.91143  436557.83469\n",
       " [5456]  193451.27077  479813.01751   81525.65191 -100615.85602   93820.46533\n",
       " [5461]  285575.86771 -152120.04474  494854.26046  661654.14374  804993.06782\n",
       " [5466]  190239.78321  354851.79014  315317.02181  426685.98873   28148.09019\n",
       " [5471]  388020.96765  197719.04394   63999.53434   64232.31717  446422.95652\n",
       " [5476]  474893.25934  -75281.58365  653969.44651  169176.54136  276747.51514\n",
       " [5481]  131850.98986  583422.29549   97769.01838  -29567.23040   88490.62227\n",
       " [5486]  376521.27454  528995.30523  463243.29519 -233816.83323   95009.77051\n",
       " [5491]  189533.83872  426261.70750  483195.16647  213441.35737  202585.22311\n",
       " [5496]  167602.20778  568195.20825  466314.15567   49087.78767 -205059.35827\n",
       " [5501]  411479.41539  385389.67354  391334.97957  321302.71158  298188.89940\n",
       " [5506]  104314.46811   83200.57346  104376.48718   94956.60758  -63732.60020\n",
       " [5511]  178970.19742  288006.55071  205715.32112  352748.36110  -57234.11568\n",
       " [5516]  218554.90104  237107.90142  145773.17630  136528.87912  470332.79364\n",
       " [5521]  146009.26334  142899.87771 -298257.46294  172768.37126   88154.25166\n",
       " [5526]  -70188.06396  283840.82725  257704.48674  604674.65508  759514.74649\n",
       " [5531]  372184.75302  475116.35819  423453.30894  -24942.73630  545832.38763\n",
       " [5536]  499331.50470  525132.61794 -104498.81110   83942.27802   60170.30949\n",
       " [5541]  287454.18326 -117629.25054  216775.43993  627107.64903  116141.50021\n",
       " [5546]  282303.57581  129918.18562  337015.53263 -154611.78653  196449.10233\n",
       " [5551]  233928.31990  -47184.72700   72956.39979  202729.20912  396017.73190\n",
       " [5556]  -10930.13158  437404.25719  218306.54251  605749.32719   30215.29202\n",
       " [5561]  456824.22407  536441.42934  239835.58752  361002.52870  182297.92624\n",
       " [5566]  356399.12237   96733.65773  918324.16290  208428.51307  519761.19437\n",
       " [5571]  -49661.63056  164619.89509  386414.48472   97912.92536  -41772.84044\n",
       " [5576]  467554.19276   29756.27587   73327.12935  476187.39579  153157.82031\n",
       " [5581]   89144.95638  738768.39884  684074.93863  636685.29367  240900.76663\n",
       " [5586]  -81972.27466  312967.14103  806752.76197  459931.40696   98598.93307\n",
       " [5591]  165375.18241   65719.90362  400794.82308  529118.10223  853209.24347\n",
       " [5596]  493597.03249   29966.91160  544913.75235  438729.07330  567715.98357\n",
       " [5601]  566239.68618  -22582.93618  187396.21552  175181.31209  236997.17619\n",
       " [5606]   26474.99731  149150.66064  208856.26639  169372.60474  368128.00773\n",
       " [5611]  347125.75993  620882.19443     511.88674  412567.18813  715760.03504\n",
       " [5616]   83846.19780  183766.22231  158208.94049  540856.10914  333770.86361\n",
       " [5621]  504483.95625   94509.86109  485125.26414   24256.01388  353015.91336\n",
       " [5626]  712054.40576  210115.57689  -30927.94534  283464.89714   44833.99015\n",
       " [5631]  131291.77377   77802.34627   79995.18818  450386.21246  256862.06940\n",
       " [5636]  105791.86905   40804.49134  -52902.79409  -89197.90511  115359.09385\n",
       " [5641]   20426.75462  178234.01254  180988.72698   15270.64321  223529.49503\n",
       " [5646]  304766.08740  371646.67725  601919.83259   83978.02909  562067.06076\n",
       " [5651]   99774.82386  404748.83724  257508.27866  428518.40800    9526.22624\n",
       " [5656]   75333.13032  -10164.76148  591487.23821 -154953.14830  358443.04601\n",
       " [5661]  311165.26911  345104.15836  202321.89702 -117907.36269  125704.88439\n",
       " [5666]  133672.99013  650014.81699  394842.90251  261168.30003  170382.80802\n",
       " [5671]  665047.63582  131223.43517  649548.75877  442612.96924  391342.46389\n",
       " [5676]  292049.92843  317063.08992  243246.13955  513670.63500  581814.09973\n",
       " [5681]   83385.34655  607347.52661  631328.99714  514790.78400  194002.24006\n",
       " [5686]  463889.93492  731413.26708  581433.49290  166094.95472  268467.43444\n",
       " [5691]  249258.38509   47013.77239  260696.17057  265276.80750  159721.32608\n",
       " [5696]  379718.14615  409638.79753  206360.98887  331180.42931  592167.82330\n",
       " [5701]  405615.69825  172068.65994  870435.99399  248886.50450  330776.06282\n",
       " [5706]  271570.75901  556899.75381   15624.33138  474947.22493   96509.01811\n",
       " [5711]  232997.94456  -63045.52547   66800.50242  267337.13860  531379.55985\n",
       " [5716]  449671.86805  -28213.76138     527.21547  257756.83287  401134.87844\n",
       " [5721]  181498.16318  -93177.13081  163988.32809   54292.59023   76164.51061\n",
       " [5726]  654958.57743  304524.79033  579545.95655  192746.27413  504604.80262\n",
       " [5731]  214403.10433  397722.98256   62311.45650  415459.81420    1676.16548\n",
       " [5736]  203119.98030  362521.62152  170062.55135  428350.01029  163159.51838\n",
       " [5741]   52537.59629  -87956.99934  377956.48970  208273.31967  513642.44856\n",
       " [5746]  204103.97004  370796.41095  222007.37257  440001.56677 -118277.98292\n",
       " [5751]  666899.29616   43829.78969 -107884.07993  156663.34883  365030.38894\n",
       " [5756]   75821.53603  163635.19052  467059.06124  143663.06273   28404.45153\n",
       " [5761]  540927.30636  106433.55356  166195.93034  811535.07434  562407.73830\n",
       " [5766]  395555.92270  340387.10243  512497.60762  382658.92942  480784.91423\n",
       " [5771]  159259.12326  268496.40160  744594.91906  671425.31685  627389.53351\n",
       " [5776]   27558.28766  -99530.26681  182122.09109  177361.55569  313946.71235\n",
       " [5781]  515928.71827  559868.92799  131726.00437  372377.55204  632251.89769\n",
       " [5786]  277739.49533  620244.09759  525059.36542  336871.47404  354801.73593\n",
       " [5791]  664532.37879  344251.46718  675293.47390  211587.65110  598025.79910\n",
       " [5796]  -33799.31501  635125.56887   32226.90545 -277264.52439 -144777.66114\n",
       " [5801]  735384.48629  249161.24592  548915.73892  647484.29737  440151.26571\n",
       " [5806]   27057.87899  -50266.05375  205761.54935  575650.20090  179000.43869\n",
       " [5811]  -52938.70187  115322.48161  176668.71167  130601.61005  376923.16618\n",
       " [5816]  132088.31040  359801.47880  362194.05950  -12907.01516  -73341.99880\n",
       " [5821]   49361.23853  455062.67123  392685.52149  399903.10072   80453.52062\n",
       " [5826]  295119.12382  -36335.70576  328996.69479  521163.79383  570679.79863\n",
       " [5831]  495407.47658  240543.86938  210596.67052  288496.90360  474818.72323\n",
       " [5836]  632394.10929  351999.67589  430356.16211  386373.80818  618713.99274\n",
       " [5841]  181396.12202  519361.00398  214539.83425  669758.27799  625435.96739\n",
       " [5846]   17562.67895  443855.97398  629996.37531  -53760.19206   37953.23916\n",
       " [5851]   86962.70944  453082.07447  729657.54547  -62846.22108  198768.82719\n",
       " [5856]  364872.85853  253724.68922  321694.89261  770416.67805  618593.17409\n",
       " [5861]  255589.91323  634530.62697  265755.97458  -27774.95472  160327.98592\n",
       " [5866]  270560.24409 -154785.38289  447994.66544  231228.99552  578811.82719\n",
       " [5871]   32651.27243  322357.17891  576520.51457  366669.19932  516523.96337\n",
       " [5876]   63212.21466  665636.49393  456922.52032   65741.03037  170694.97752\n",
       " [5881]  574872.73633  302706.11681   85903.65887  -82404.47818  750106.89710\n",
       " [5886]  -38698.29452  174722.95074  195882.47235  -42039.38332  186859.97556\n",
       " [5891]  694456.87200  465015.39501  636485.85635  406609.00275  421355.24705\n",
       " [5896]   91819.71908  357649.85570  304661.21226  440979.54404  324898.66580\n",
       " [5901]  276686.21867  448859.26750  262366.32379  295671.45499  757152.34494\n",
       " [5906]   10501.81169  424470.77953  716229.04463  572658.98808   27389.39565\n",
       " [5911]   57143.33089  211796.57260  416031.88314  416644.31713  329328.89547\n",
       " [5916]  265522.73011  332758.18352   68936.69873  -32437.59694  775604.18384\n",
       " [5921]  819638.97683  540329.22912  141660.05504  263173.48683  321068.94250\n",
       " [5926]  371918.30988  157077.55458  104369.51564  656252.58037  -22509.46246\n",
       " [5931]  338411.36967  181626.35209  229155.17481  315832.58012  335904.52733\n",
       " [5936]  835844.09702  168391.03168  288156.76174  289601.83915  357332.93721\n",
       " [5941]   68100.69520  421738.34100  418826.09752   75681.19067  126493.05570\n",
       " [5946]   29345.12204 -130566.96590   73102.70770    7180.57718  367965.21205\n",
       " [5951]  204424.14718  136616.67484  382483.54446  671745.42051  589926.72770\n",
       " [5956]  479590.55251  284456.92117  121263.21688  164910.35754  275604.87307\n",
       " [5961]  -50419.60414  -77080.32822   88807.96163  -26842.12352  533053.68583\n",
       " [5966]  563216.29553  448051.08897  -15884.92014  178368.52526   40542.12107\n",
       " [5971]  577266.28400  184645.71715  205790.86842  139504.58204  385005.30672\n",
       " [5976]  706197.27193  160763.41049  216990.11259  502922.99578  465024.29825\n",
       " [5981]  536202.33492  147781.90756  216352.48836  260210.83752  312903.31170\n",
       " [5986]  365997.07164  163371.98467  560280.55707  227129.88175   32229.44061\n",
       " [5991]  210757.42827  327698.92850  626873.33873  401934.98117  414430.21481\n",
       " [5996]  402787.55389   39407.13852    8466.82705  375052.13069 -116799.54671\n",
       " [6001]  412814.45891  588947.94703   66222.57084  561909.88320  -27117.55476\n",
       " [6006]  359414.17140  564392.09808   22245.52268  -35900.09844   60023.58051\n",
       " [6011]  880708.10839  447235.76958  359296.10461 -162920.10101  617978.02924\n",
       " [6016]  409617.48710 -140309.32117  410344.60906  546478.23635  319481.84010\n",
       " [6021]  290049.12248  498592.53233  459555.81541  300680.91664   30280.81944\n",
       " [6026]  196728.02101 -223623.18339  614872.21809  243533.35661   69690.48066\n",
       " [6031]  615239.27020  192184.44858  773790.69622  161981.48997  526063.01631\n",
       " [6036]  426250.04551  316779.79837  537678.83743  547677.01553  723172.96610\n",
       " [6041]  265412.45359  214892.14986 -167394.79234   30258.60802 -195556.68796\n",
       " [6046]  132793.98894  440667.11839  506604.45733  575845.33696  142113.38152\n",
       " [6051]  254989.75080  145107.37833 -108824.87461  130106.34731  239242.31886\n",
       " [6056]    1326.16416  261496.96171  275378.31286  337591.95721 -177684.10045\n",
       " [6061]  309604.03629  548601.07341  598727.15449  613902.71514   77412.86984\n",
       " [6066]  270169.05103  254681.75293  197825.74197   96351.53464     928.00326\n",
       " [6071]  369125.75109  487827.74552  289246.51557  -42984.09321  483329.75732\n",
       " [6076]  -14465.55394  458310.98928  100281.11191  113486.27923  516358.40789\n",
       " [6081]  432731.00671   29747.11147  232992.82916  690395.30035   35074.06226\n",
       " [6086]  475982.04845  -49715.52896 -215772.67618  -80896.52611  392135.98976\n",
       " [6091]  248036.16836   28537.35968   57052.30723  194601.57546  267889.40188\n",
       " [6096]  288362.55250  489683.35168  317758.90453   98979.72666  441168.30247\n",
       " [6101]  267564.30125  521383.78710  326647.62075  -31711.93687  326023.08065\n",
       " [6106]  587532.08649    1847.87955  597811.06130  695868.42747  462557.26881\n",
       " [6111] -198925.12538  -77238.77986   80485.45886  274744.65896  431791.11518\n",
       " [6116]  404536.87569  255571.26075  728490.23241  557882.10616  116417.61435\n",
       " [6121]  128002.45385  589406.53020   -7574.43974  235504.23352 -110249.96802\n",
       " [6126]    4899.00239   68047.76866  417942.50691  145725.56434  337674.29357\n",
       " [6131]  183012.04604  559778.62414 -137247.71543   21155.25193   -4771.49833\n",
       " [6136]  468976.73585    8057.88277  779190.83035  -46002.43539  399900.51463\n",
       " [6141]  169906.52863  216879.89271  215015.60963   -8921.47887  363235.68457\n",
       " [6146]  153981.97243  223910.96336  649254.85832   62007.04738  124586.15885\n",
       " [6151] -251603.68469  676426.22175  125070.21247  154461.51580  206171.29359\n",
       " [6156]  634983.09551  357272.14237  272909.63169   65858.24516   72808.55279\n",
       " [6161]  396395.54238  329129.33581  248299.56770  377770.11694 -155324.53188\n",
       " [6166]  445740.55846  252143.76561   67818.96457  591041.67671  -28713.91122\n",
       " [6171]  375790.07413 -157836.38722  217101.45495  375984.83938   63946.44758\n",
       " [6176]   -1826.52086  532121.39121  -60861.85174   12457.23825  200764.98615\n",
       " [6181]  186907.61000  554770.10500  110521.12904   32469.94725   11266.07151\n",
       " [6186]  270995.43549  202471.83527  -53084.73058  198222.42838  449008.02158\n",
       " [6191]  103835.51259 -115732.85524  353462.34995  633563.03695  242666.32522\n",
       " [6196]  701312.53494  445307.35966  334577.43149  254360.95884  510520.91389\n",
       " [6201]  141525.32470  748591.20497  475607.67722  407991.10789  650370.64546\n",
       " [6206]  399071.07349  -80071.96119  370799.34536  -17178.38750    9688.91265\n",
       " [6211]  399762.47839  165125.68844   -5192.33635  -90885.83480  255819.78583\n",
       " [6216]  228549.75948  455199.78692  174727.82225  159416.46914  309016.32235\n",
       " [6221]    9580.30678    3140.93919  252439.36199  137610.98776  603379.75505\n",
       " [6226]   44552.76612  -24307.71425  251973.28390  559028.67150  600910.67872\n",
       " [6231]  117402.67374  -49198.99774   36133.52589  200304.79930  409251.55748\n",
       " [6236]  495877.54745  651579.06263  126368.33379  263411.35165  338750.30966\n",
       " [6241]  543830.26972  127364.05533  542979.20218  431109.82837   -2015.42903\n",
       " [6246]  491112.99428  -24055.73496  394484.43440  332122.33300  604168.20581\n",
       " [6251]    3737.78198  101038.05423 -151406.65275  514372.17949  426525.34391\n",
       " [6256]  267087.41137  275945.89659  739016.28589  234053.13397  101503.82318\n",
       " [6261]  318142.62361  -18743.93019  132944.71316  502057.11362  181285.06037\n",
       " [6266]   41245.32065  581145.03953  322109.07129  850584.49557  446046.24727\n",
       " [6271]  460742.72172 -159684.70973  159327.15131  456617.46961  555525.97439\n",
       " [6276]  144653.36309  456455.64957   15470.87665  634868.71133   45166.16919\n",
       " [6281]  571780.82972  130243.62727   18529.16863  231517.71614  255062.24755\n",
       " [6286]  469332.72665   29924.35559  184370.86890   36877.29357  641534.16307\n",
       " [6291]  625619.79128  552202.66928  243405.50076  107365.96110  518178.96320\n",
       " [6296]  735975.45211   97900.23885  120826.82569   42772.97717  484773.85725\n",
       " [6301]   55401.83509  641542.06034  -16699.88471  118089.54882  274410.41201\n",
       " [6306]   84425.29372  459251.20803  492122.70985  -94917.69903  698391.61556\n",
       " [6311]  120004.08164  582546.36731  160486.58172 -235310.27424  351079.05956\n",
       " [6316]  184538.24153   15488.27409  846234.48355   11899.33874  544739.97501\n",
       " [6321]  515523.69262  110272.96783  420365.11762  462171.26292  559878.88112\n",
       " [6326]  698794.43137  274875.35531  448821.01855  407327.35253  450050.97251\n",
       " [6331]  476130.04913  455908.07065  255660.70605  120690.73659  446059.86040\n",
       " [6336]  -41610.83371  269266.77761  788954.41587   52603.23554  291850.94212\n",
       " [6341]  448661.81967   46325.00448  250479.34725   -6909.51903  683735.23442\n",
       " [6346]  416294.89747  290909.14018  325680.72601   13659.58323  125061.88233\n",
       " [6351]  191995.21062 -130892.06354  344994.80967  -62909.25796  303564.42816\n",
       " [6356]  163923.96871  112938.52680   69907.63796   95978.83499  699275.32934\n",
       " [6361]  748723.88324  535518.87185  235690.83455  661458.54286  498851.08621\n",
       " [6366]  266903.33644  217623.90948   94381.65131  293282.79115  238188.88340\n",
       " [6371]  261571.74464  368107.43986  610310.00504  373395.21004   11467.88364\n",
       " [6376]  415724.24420  186789.32135  568777.77556  222925.80765  134896.69463\n",
       " [6381]  404217.80558  276545.24254  410649.90819  300039.80565  387884.06253\n",
       " [6386]  185790.95030  699091.86760  468586.94723  192559.68710  589756.49867\n",
       " [6391]  128715.28109  602341.16709  398520.48247  -54231.27314  161359.61913\n",
       " [6396]  177179.52391  317233.99459  122501.23143  158183.05120  402622.58830\n",
       " [6401]  567572.81556  535593.47522  -50946.68036    2051.13201  120129.05213\n",
       " [6406]    7935.41270  -52294.01478  111898.09477  364553.63826   76157.89996\n",
       " [6411]  176468.17233  688901.59411   57771.00489  119744.82432  355300.09752\n",
       " [6416]  386227.04760  512866.08610   98417.40366  398490.93820  510732.21532\n",
       " [6421]  188752.73113  -24254.99952  246340.30215  183431.74271  561789.68700\n",
       " [6426]  483286.34547  428579.04072   70970.53440  593137.76918  204174.94205\n",
       " [6431]  251705.89365  546381.34665  587311.12571   96708.84927  283614.73673\n",
       " [6436]  320429.69705  317265.16864  172976.57161  516498.26116 -125175.44812\n",
       " [6441]  482915.05455  225131.73506  364589.55098  353949.80843  489321.08384\n",
       " [6446]  695278.75368  647710.62753  556881.97411 -186073.75705  294119.86904\n",
       " [6451]  274606.43416  129008.10244  337630.54459  -66273.08896  403674.49561\n",
       " [6456]  554357.33349  355093.28529  192054.16878   96741.77298  362736.98527\n",
       " [6461]   87010.61559 -199345.21607  -74362.15826   40049.31139  344745.40583\n",
       " [6466]  150559.42704  467593.93135  565210.92917  310720.24984  652701.87843\n",
       " [6471]  341073.49213   73793.29456  107517.35852  530727.50186  445534.76923\n",
       " [6476]  266181.92234  242749.77146  381166.51065  358173.08685  308243.70327\n",
       " [6481]  158096.43031  142725.10656  217370.03631   30460.24150  136246.62201\n",
       " [6486]  272052.87819 -180492.32690  -51309.81975  464426.94890  109649.20212\n",
       " [6491]   58562.45212  120915.89169  195856.14540  270717.85915  307946.65103\n",
       " [6496]  325834.12106  442819.10108  700709.46211  145722.90785  591198.63070\n",
       " [6501]  189535.35945 -114864.80007  666437.48262  208200.41857  359523.44612\n",
       " [6506]  728399.34665  303973.74881  220211.23270  530010.49507  479230.65143\n",
       " [6511]  298782.15620   28381.64931  136035.24096  168308.64596  182716.41982\n",
       " [6516]  404445.63444  -16704.69573  279968.89549  122750.94269  308564.23849\n",
       " [6521]  699338.55089  111483.28965  587761.48420  584976.53453  347998.82451\n",
       " [6526]  382755.70965  367489.46563   75031.85184  -14384.22302  415152.09185\n",
       " [6531]  337085.92649  373633.57092  569457.22650  284215.40939  310718.50575\n",
       " [6536]  711762.62834  547045.43060  472004.95725  784009.87724  395581.31334\n",
       " [6541]  275143.74256  606644.31099  415167.36236  207840.87471  232751.00114\n",
       " [6546]  508440.69830   87448.63575 -144891.73167  403230.31692 -164625.85956\n",
       " [6551]  538834.91618  114322.65491  413548.44499   50526.76362  475954.81791\n",
       " [6556]  576905.05024  158385.79723  236349.47409  610295.61658  325801.88070\n",
       " [6561]  358393.68215  252422.87672  387080.91103   78340.76943  269773.15350\n",
       " [6566]   49537.57198  537299.28869  -99052.18562  505119.01178  231739.32285\n",
       " [6571]  274348.12729  307192.32228  -79692.14786  608819.51304  420132.25766\n",
       " [6576]  175292.82291  249885.08880  211187.91532  -50561.28805  253473.15837\n",
       " [6581]   37621.50062 -186166.79346  294824.28755  114497.16871  664798.83460\n",
       " [6586]  521628.00221  500468.83157  -38822.99668 -109269.45454  159764.06433\n",
       " [6591]  136292.45258   42763.19905   68888.52929  362865.85248  367954.11513\n",
       " [6596]  565162.26387  572050.86378  103341.74104  310324.10841  634324.14803\n",
       " [6601]  263961.34930   68172.99520  260234.97088  494779.84865  233414.40294\n",
       " [6606]  255935.75156  419993.44147  614214.49373  348979.44513  649626.34374\n",
       " [6611]  -42654.19065  610519.72480  477141.62602  707292.36714  133839.47717\n",
       " [6616]  349467.23055  594999.74950  680485.19397  609889.13859  245395.52140\n",
       " [6621]  346036.96051  563408.31483  -36396.09681  160835.40134   99978.51867\n",
       " [6626]  -87168.17600  445731.39136 -119001.25117  411722.17895  256457.96221\n",
       " [6631]  386372.08899  667882.62877  418181.18686  155638.55810  149188.71964\n",
       " [6636]  297685.53300  525532.02179  541608.55482  100560.47799  236790.98780\n",
       " [6641]  134193.32082  180354.58768  219481.16689  104273.33637  355506.50086\n",
       " [6646]  412604.85051  267792.65267  552989.08545  130899.06488   -4097.81898\n",
       " [6651]  263018.40051   64120.62037  241925.19687  634056.82563  255177.88139\n",
       " [6656]  175996.93452  437506.28324  247959.49002  186413.36214  238209.51917\n",
       " [6661]  754827.19000    5443.38987  437348.81053  814242.65271  443998.27670\n",
       " [6666]  187240.08643  447898.17539  430083.30009  245107.59346  486169.67718\n",
       " [6671]  602322.59482  210242.47015  -93431.91656  576075.93489  262221.19441\n",
       " [6676]  -40811.49935  266886.78845  146821.84064  598239.55493  -25538.01042\n",
       " [6681]  -28870.44590 -115755.25091 -120434.03433 -129811.20340  437722.56323\n",
       " [6686]  414648.63777  -79786.31985  654143.76704  376508.66986  537018.05443\n",
       " [6691]   76845.13037  369166.19646  565588.60778  433049.18502   69155.36547\n",
       " [6696]  779950.05341  326165.25747  657087.08279  273883.29785   18192.27969\n",
       " [6701]  464012.94215   43688.80614   43759.10464  294424.04018  216658.47717\n",
       " [6706]  271394.62134  399678.58747  152571.23670  -51106.32321   59549.91221\n",
       " [6711]  329662.55860  168376.08745  540719.10322  355042.20766  136370.47898\n",
       " [6716]  519035.13911  333321.66764  674169.62488  279868.20176 -266443.84221\n",
       " [6721]  424964.31931  441203.14740   20959.98173  501329.51527  391473.33691\n",
       " [6726]  327262.14835  291941.75561  195228.81142  -17578.48817  626824.46932\n",
       " [6731]  529557.50817  580014.21831   16762.75415  154594.71944  169431.98131\n",
       " [6736] -140959.25444  280659.87558  177454.98189   16779.26615  490832.17646\n",
       " [6741]  733204.37186  124909.24841  545794.28514  386955.66502  141689.66193\n",
       " [6746]  332929.85698  339091.66399     653.29095  283750.49364  206581.54071\n",
       " [6751]  -29822.90478  170572.73202  570789.61174  632858.90008  423139.41261\n",
       " [6756]  116617.21885   14338.78992  184776.10788   59859.15314  384895.87361\n",
       " [6761]  423339.92458  363827.87854  180527.53053  197291.20788   95300.69273\n",
       " [6766]  229090.92739  455012.96452  717527.09117  253348.18116  599279.13996\n",
       " [6771]  424962.04083  273438.91793  666066.57166  287555.24118   89178.30395\n",
       " [6776]  318633.63951  -42959.60581  136700.51914  265251.49260  596899.57952\n",
       " [6781]  660930.17127  211069.46627  -72169.37659   89226.76936  279149.15461\n",
       " [6786]  -38409.13721  386038.01062   67166.50528  335694.35446 -112597.78734\n",
       " [6791]  203449.98039  804013.89975  247814.22820  377976.59107  707314.12686\n",
       " [6796]  345642.77665 -198246.56754  586479.06454  348888.24061  300135.10331\n",
       " [6801]  -16175.62257  -59547.38444 -133043.03656  -45538.43077  135999.19203\n",
       " [6806]  232356.22873  639598.27527  372892.60122  -49179.18769  662186.78487\n",
       " [6811]   16999.17294 -157036.17907  637871.57184  207579.96026   73517.95880\n",
       " [6816] -148686.81125  725565.63366  449795.20937  -45403.23222  212218.09337\n",
       " [6821]   80073.78399  675168.60039  469882.48552  -96007.00127  388008.84108\n",
       " [6826]  -19475.85405  663975.15168  670738.89369  164388.16147  570990.85823\n",
       " [6831]  106855.94351  235583.83616   67252.84363  147003.96029   62875.85200\n",
       " [6836]   76116.63320  454700.21307   27950.12964  106723.96991  400913.43932\n",
       " [6841]  448436.19279  -65160.65715  260197.63756  175440.60524  147989.86694\n",
       " [6846]   26212.31753  444655.05514  209109.92816  576425.10287  507265.93229\n",
       " [6851]  194673.22807  191530.46242   -7153.23431  -66635.73968   99586.96046\n",
       " [6856] -109978.79122   15589.22455  787109.13054  109794.02699  299767.67841\n",
       " [6861]  814650.78140 -171655.94401  225835.79547  480310.31050   35955.96148\n",
       " [6866]  -50856.87752  -58032.91531  -26703.05303  310734.43813  258178.35551\n",
       " [6871]  374869.73661 -276751.13552  352199.17386  173327.44974  458347.75875\n",
       " [6876]   87797.45535  394105.88831  580804.97269  330512.75889  -17291.12366\n",
       " [6881]  222732.69939  281385.17146  706705.83683  199956.66440  389606.86515\n",
       " [6886]  269385.99379   88899.30184  429104.47212  190413.90029 -130321.76599\n",
       " [6891]  249663.17695  519983.07064  298792.79199  693342.33597  514187.09474\n",
       " [6896]  283375.95317   33284.53698  206218.64841  135396.04620  142956.45331\n",
       " [6901]   95519.40382  592792.53661  574180.18552  586529.86807  468938.24348\n",
       " [6906]  476579.17519  705699.53301  607886.75164  354528.53857   18015.17593\n",
       " [6911]  281927.00014  119862.18306  -13215.42039  209586.90188  735710.76455\n",
       " [6916]  -41680.93031  124593.74540   80650.04977  432081.33987  554840.80565\n",
       " [6921]  598838.80518  605004.58592  116439.99931  526761.50090  457152.78285\n",
       " [6926]   -9731.63563  438722.73752   41965.92422  571166.61111  226577.75297\n",
       " [6931]  266679.30884  425188.44355  -85410.38673  260586.85051  354412.99587\n",
       " [6936]  495681.77981  350161.91536   16547.44920  -59078.37908  100880.03677\n",
       " [6941]   53621.09914  459098.46596  185599.49796  521016.91969  365562.34439\n",
       " [6946]  454788.84821  500521.22533  597174.63025  112801.48150   32521.53933\n",
       " [6951]   17696.76323  326863.71387  390933.44094  378023.08885  444264.53055\n",
       " [6956]  392385.89606   98251.15939   53818.82971  -58468.91314 -172226.02775\n",
       " [6961]  112598.22719  366551.49186 -149849.36216  551968.62581  148198.19805\n",
       " [6966]  192131.90650  441970.13904  177782.31200  343220.16516  516340.52091\n",
       " [6971]   68630.94973  504672.64558  634310.28653  318346.74949  693590.21415\n",
       " [6976]  274721.26872  204117.20486  170208.69532   30132.64135  178799.64108\n",
       " [6981]  322819.05552  -77551.54675  176863.56850  -19607.85025  402349.29790\n",
       " [6986]   21023.18471  107284.30255  416779.95464  520172.70210  176303.62006\n",
       " [6991] -136630.22765  484875.98887  273866.78344  139654.23116 -115283.37655\n",
       " [6996]  358948.60572  189095.76032 -146620.76007  302641.17835  113805.35292\n",
       " [7001]  231149.12600  145974.80703  407060.29636   49086.35678  511993.91060\n",
       " [7006]  393497.39614  696620.13917   93332.52122  -88358.63218  261892.38760\n",
       " [7011]  108942.89111  -75360.45263  750778.68346  158963.44711  193890.28384\n",
       " [7016]  -78937.96782  411192.34642 -170890.31448   77536.58455  219680.31190\n",
       " [7021]   58008.89427  559524.65320   75602.30285  110593.10769  474049.41341\n",
       " [7026]  299489.83688  -82481.53840  103263.62168  612670.24362   32283.21032\n",
       " [7031]  400529.31368  317088.83126  112507.75572  469713.14799 -137600.93248\n",
       " [7036]  395730.64757  215103.41712  212798.54736  415848.72475  448166.94006\n",
       " [7041] -132421.11405  -18475.18361  409799.80224    5112.23543  -47683.18430\n",
       " [7046]  323987.31777  727652.70363  750899.27530  104464.00905 -166998.85622\n",
       " [7051]  442692.94747  612072.80868  576309.12440  308287.37754  201442.23592\n",
       " [7056] -191425.82009   29425.77601  570691.20005  493175.41568  587486.26257\n",
       " [7061]  484624.19865  436710.08519  295351.47194  356220.63309  235963.90208\n",
       " [7066]   64155.56095  -92567.36734  375712.63754  314615.29129  598343.95348\n",
       " [7071]  460166.11121  264513.45445  123631.10180  443134.48289  588409.70489\n",
       " [7076]  591610.49097  642638.66640  430368.04638  136602.25635  507515.82005\n",
       " [7081]  180432.04721  471057.33708  570800.90922  636470.74608  443036.21825\n",
       " [7086]   19740.28400  249709.53786  176171.39482  274932.85162  189764.85797\n",
       " [7091]  273649.82628   56259.84767  163873.82888  611168.15066  318355.29767\n",
       " [7096]  354883.33270  189611.66405  234442.54702  276743.48952   41630.51887\n",
       " [7101]  106673.64763  558820.16556   95689.77653  206249.81356  -59615.11520\n",
       " [7106]  -48300.56814  462015.01125  172722.17153  390976.33833  351277.79288\n",
       " [7111]  134062.35961  359780.64720  155141.07987  708431.00744  354809.90048\n",
       " [7116]  307506.92483   89859.96531  262783.69657  -26016.87898  342601.65608\n",
       " [7121]  598163.02018 -134938.89971  251802.77378  301909.44006 -231473.14443\n",
       " [7126]  569325.18314  403078.48566  274102.44964  163850.56802  119247.15673\n",
       " [7131] -184221.02783  162560.80026   59441.78866  358854.08577   -4126.66286\n",
       " [7136] -164896.14728 -187709.62256     295.06520  337202.35113 -158999.62471\n",
       " [7141]  234778.32002   19712.56643  481054.64651  847863.94162  -63485.61039\n",
       " [7146]   89480.92188  -10834.91437  174184.06883  354680.20277  396466.96925\n",
       " [7151]  828107.28887  109609.46297  689702.27719  740350.31426  310938.14708\n",
       " [7156]  365315.17086 -147033.83278   24781.35819  599016.91404  180513.54169\n",
       " [7161]  556737.87946 -267333.91183  257930.91247  657413.26368  293467.20156\n",
       " [7166]  -77784.83862   84588.79600  -29719.49549  264644.32629  369874.29484\n",
       " [7171]  504904.12279  358200.97482  458629.15071  243715.75069  313458.72395\n",
       " [7176]  390933.27270  425125.98821  200216.37087  336466.06792  161579.19615\n",
       " [7181]  561362.98362  623674.37791  117531.45703  255517.13144   16975.49636\n",
       " [7186]  652127.39791  160551.34478  314740.15172 -118312.06472  169064.92105\n",
       " [7191]  678790.19446   71342.91224   12340.43041   75681.44342  719177.77223\n",
       " [7196]  253618.07009 -137225.73949  632704.23835   22893.53180  205433.82036\n",
       " [7201]   40939.44326  -82837.30298   92590.23601   92157.63633  779068.51305\n",
       " [7206]   63703.10462  368697.08145  301803.55413  608540.00409  228665.49538\n",
       " [7211]   -6249.98503  312439.60461  -73041.97811  397737.39969  704570.66608\n",
       " [7216]  485751.02161  427788.50542  244435.79871  328411.86301  323134.65420\n",
       " [7221]  790072.78942  114145.49668  589933.65881  465606.27318  363041.46153\n",
       " [7226]  -22226.77788  696748.93443  293818.04372  171062.21315  282577.72931\n",
       " [7231]  138451.27086  186126.48971  410422.40105  -25766.50747  328176.58580\n",
       " [7236]  272189.94992  319741.16482  258851.59882   90296.98386  620318.99573\n",
       " [7241]  519067.05555 -240857.28436   -8458.65922  265029.69083  394741.82088\n",
       " [7246]  176809.37773   92759.29392 -146879.86218  520720.41388  -42112.34430\n",
       " [7251]   51464.09212  189011.05612  337570.51433  643771.78392  403389.41619\n",
       " [7256] -119951.78318  577302.11092  140621.42644   24518.22814  334876.48499\n",
       " [7261]  249370.79956  180302.51518  267636.57063  209523.50905  279524.86708\n",
       " [7266]  321718.96277  254359.69120  226396.25756  401216.20069  546994.08444\n",
       " [7271]  413040.33722  291164.19241  101181.94456  518214.25279  415025.91136\n",
       " [7276] -209661.64825  249882.52554  140739.83449  252623.22213  355065.36577\n",
       " [7281] -146030.49189  729415.81613  636680.13889  379618.39477  347306.91502\n",
       " [7286]  -62784.98368  114137.00384   83785.20252  676310.36684   50867.75310\n",
       " [7291]  525989.02216   96586.48051   91757.66352  322177.89599  293685.84777\n",
       " [7296]    8462.48438  375414.44562 -213726.35437  592339.27137   31959.28748\n",
       " [7301]  576337.34540  289409.75090  663515.40918  125721.99429  350318.29589\n",
       " [7306]  143321.15582  594887.76744  521545.29805 -238083.39528  489786.10052\n",
       " [7311]  -29971.63123  432637.24614  116235.14390 -126063.09681  285384.51263\n",
       " [7316]  303499.82357  228299.89076  721161.00216  342650.93631   56340.13391\n",
       " [7321]  -22848.56218  195876.82208  383620.19352   97676.41197  103520.19239\n",
       " [7326]   44018.36434   33240.26469   35683.03300   12207.94517   53763.82947\n",
       " [7331]  442396.29690  -86455.45308  -72561.12323  304937.59208  586882.60242\n",
       " [7336]  162868.70455  449839.77682 -225684.02464  181310.27960  549613.82984\n",
       " [7341]  481476.78756  443308.26844  432896.77528   52610.38515  256824.71685\n",
       " [7346]  224669.15762   74552.15871  220148.61331  169934.34785  -96485.29207\n",
       " [7351]   11891.29714   -1778.28778  554287.86462  144731.55707   82173.49372\n",
       " [7356]  -64886.74020  140288.13446  707941.83689  384447.41988  409620.79699\n",
       " [7361]  337288.04921  433654.21911  304678.42749   90340.14653  150984.74568\n",
       " [7366]  201857.02035  677153.91639  427633.62584  360996.88723   74799.96387\n",
       " [7371]  438379.76949  194732.16782   -1398.65135  194310.18267  495512.49560\n",
       " [7376]  371838.03548  349143.55142  158474.86844  257729.49050  626878.26292\n",
       " [7381] -146465.64819  452392.30819  316015.25655    4971.52227  323743.11200\n",
       " [7386]  267588.19905   93831.23170  306405.56636   47880.43577  446166.23624\n",
       " [7391]  472142.20889  398982.51906  100708.48203   97624.34250  117377.18831\n",
       " [7396]  633090.16000  143237.19708  343056.72106  237588.94616  499994.18535\n",
       " [7401]    7119.44472  430968.87835  304843.25971  180183.70722  284594.83035\n",
       " [7406]  172260.87007    1740.05494  567855.87987   71713.89115  733586.47919\n",
       " [7411]  533661.34447     324.51757   61251.65321  -21283.29202  314375.76171\n",
       " [7416]  243970.96606  272774.07549  481679.66764  358364.26687     718.39339\n",
       " [7421]  562270.40965  117224.76114  617870.39385   -7035.06060  552480.87314\n",
       " [7426]  544613.62371  174357.62674  411810.74587 -140174.68325  291173.24178\n",
       " [7431]   62381.94096  245689.68793  148800.69392  312396.21398  686533.51022\n",
       " [7436]   75496.97943  481552.74350  602964.39903  106429.77229  293019.01537\n",
       " [7441]  256210.98273  437849.08002  686855.56962  228502.47459  563774.44258\n",
       " [7446]  -45343.18208  231694.98696  617385.15792  388001.16293  455473.69612\n",
       " [7451]  203869.87053  415255.08635  637241.95725  -65541.85933  719066.59356\n",
       " [7456]   14098.78688  104367.42810  127155.85895  188680.16543  305016.81567\n",
       " [7461]  362135.59564  548036.85693  542046.97693  494479.97881 -118660.94199\n",
       " [7466]  615662.12777  486679.43683  251824.61151  505513.73198  -82527.85787\n",
       " [7471]  226870.10370  251213.17308  730607.94451  229188.69488  561243.86709\n",
       " [7476]  579927.98010  482727.33750  121023.46916   11684.93538  257566.94719\n",
       " [7481]  112117.66544  194467.71544   57121.95822    -159.54863  242431.84190\n",
       " [7486]  451143.38395 -157761.12637  -12253.91961  307661.29552  247101.81979\n",
       " [7491]  523112.07545  663260.17405  203207.24992  154587.33054 -241762.94859\n",
       " [7496]  181627.88102  173877.95380  -33370.61230 -138661.57154  521529.57791\n",
       " [7501]  -18045.27941  229482.34406  288939.37493  485416.91828   52345.05375\n",
       " [7506] -104978.66417  638472.07339  505332.32743  407503.65789  421112.43522\n",
       " [7511]  377465.50380  176117.72148  269817.34601  608426.18768  235835.63983\n",
       " [7516]  592556.03796  159019.12119  -98114.01249 -152715.65630  465007.51541\n",
       " [7521]  104390.52839  -47527.41138  651344.48189  523141.25433 -137956.71658\n",
       " [7526]  464213.82522  189956.92726  199493.20622   31192.20671  276247.34196\n",
       " [7531]  254886.54582  501442.60069  455109.75549  352755.27983  698573.17659\n",
       " [7536]  371288.35422  173510.14221  582097.83958  170164.14454  366919.22456\n",
       " [7541]  267663.28058  377701.82290  -29103.65629  427853.98316 -187473.53569\n",
       " [7546]  150464.60114  561860.27267  576625.52462  473495.44511    3940.48673\n",
       " [7551]  -38848.01830  729278.49167  415896.91057  346964.30339 -183497.95969\n",
       " [7556]  191782.28964  654920.82764  501086.75334  -34275.59875  418431.26179\n",
       " [7561]  139922.33901  433878.08037  522470.21316  529825.87697  146468.56384\n",
       " [7566]  766181.91774  199119.54298   62673.51990   -8571.15277  404702.46710\n",
       " [7571]  239156.84349  433720.57092  396675.80226 -104814.83954   -1510.08544\n",
       " [7576]  112274.32776  297070.34232  437790.35665  450444.30133  628796.40140\n",
       " [7581]  403474.03521  548318.21844  377022.20154  214921.58773  214415.50909\n",
       " [7586]  376301.72468  375476.63104 -150554.90632  228088.75868   83836.12422\n",
       " [7591]  241144.37445  549390.03613   39165.16149  517799.38706  225242.94125\n",
       " [7596]  250773.41011   47007.02907  226374.60431  -73537.68910  392696.46934\n",
       " [7601]  394586.17869  237756.31049  -64242.19101   58935.43355   69076.30473\n",
       " [7606]  -24003.19053   94891.88370  220722.05188  452492.71083   66769.64566\n",
       " [7611] -188091.87978   80868.02436  418077.24210   98081.73942  379614.21913\n",
       " [7616]  -65691.04490  127619.49727  387732.75758  -60400.24436  743203.80613\n",
       " [7621]  409976.39405  167219.33967  252721.73082   54882.45124  731669.97988\n",
       " [7626] -130872.77516  434705.42891   46270.13775  -72478.84726  568087.46792\n",
       " [7631]  503581.68316  445163.18485  307486.42819  410617.11747  368408.61206\n",
       " [7636]  217423.85666   72183.79609  806648.68769  579407.92678   50710.65153\n",
       " [7641]  527565.75963  417508.08814  460630.40156   65711.06046  264650.24861\n",
       " [7646]  343261.00840  244884.44756   22624.67791  360626.65262   44863.96113\n",
       " [7651]  843675.45593  496007.56958   76384.68333  781694.67983  245921.40983\n",
       " [7656]  621846.73791  165723.86245  644265.65036  -22511.72560  159784.21981\n",
       " [7661]  360411.55478  160750.30608  401652.28487  220196.48778 -125300.49070\n",
       " [7666]  581238.45922  664999.28144  606807.56139  566118.00222  384910.23299\n",
       " [7671]  -26087.61454  139870.88518  534231.87708  395691.17878  215748.95025\n",
       " [7676]  592700.80057  850263.75963  -25285.75091  456319.54477  706222.23386\n",
       " [7681]  355576.53694  101991.98201  819434.97882  406498.81490   82692.52112\n",
       " [7686]  391019.20443  152719.44949  246922.61959  604494.71548  150069.16696\n",
       " [7691]   66393.93335  413528.32465  152766.15748  197966.82113  430280.52362\n",
       " [7696]  620010.78885  549109.29833   68733.26014  275345.52959  160856.32311\n",
       " [7701]  458650.30696  424834.37362  284826.80557  357293.17820  409334.12900\n",
       " [7706]  530066.80257  708229.51463  191274.03125  618713.72067 -106812.62014\n",
       " [7711]  616418.18001  381909.71380  320283.02524  328970.34319  284719.13970\n",
       " [7716]   11208.65400  869046.84903   40030.86410  117413.99722  116365.31328\n",
       " [7721]  128318.80503  599818.17974  603169.87003  231255.55598  382270.69802\n",
       " [7726]  517579.24908  170546.41936  224154.18543  -25646.10209  171685.74670\n",
       " [7731]  142212.30741  231497.99644  112426.60338  333720.99057  352182.45555\n",
       " [7736]  184714.27432  514130.87186  576972.98069   61984.96838   93474.10811\n",
       " [7741]  271334.44585   50184.46812  176003.08209   -1669.50427  311699.69690\n",
       " [7746]  266417.90662  147125.52341  428841.33389  390363.37592  345527.28302\n",
       " [7751]  512581.28300  224249.15933  200242.73049  686687.82362  394727.16820\n",
       " [7756]  275994.31341  571334.58916  -27134.79323  812940.02844  151587.23875\n",
       " [7761]  376915.13842  504680.39803    4980.70098  147013.73945   86062.97946\n",
       " [7766]  260664.15552  482124.82709  241061.26599  286420.22893  145560.99062\n",
       " [7771]  -10225.33595  581858.43097  486098.12717  148794.48759  412249.82027\n",
       " [7776]  394778.90055  383920.85936  -61092.71400  137575.08335  -46548.14513\n",
       " [7781]  248156.02494  197750.84250  216164.05985  305953.78109  -15923.02510\n",
       " [7786]  432928.87258  406821.08453  396275.00717  323525.91509  497550.19531\n",
       " [7791] -108588.60259  -42295.49339  189844.14428  -40609.92223    1968.29349\n",
       " [7796]  219729.11078  603260.66033  467681.50341  240592.53175  420662.88448\n",
       " [7801]  -35890.09722  206723.45523  -89977.39207  -53372.31301  585839.47108\n",
       " [7806]  483989.42535  -61626.04804  552016.92713  199887.72241  151017.14462\n",
       " [7811]  361918.39413  -25463.85961  581351.95597  544099.16065  404091.97659\n",
       " [7816]  547515.60676  483860.60313   77080.66835  566760.63290  353382.96386\n",
       " [7821]  617800.68097  -89689.76884  272863.07341  -15122.93137  210230.76794\n",
       " [7826]  220087.52100  542143.66795  157728.41265  143150.91071  631971.25104\n",
       " [7831]  399682.00652  120749.00754  586782.87286  -42939.71360  678387.56672\n",
       " [7836]  107452.18788  384397.37406  102991.18700   56927.02783  164974.48625\n",
       " [7841]   77048.42364  249429.78866  216939.21915  275619.30460  537204.79793\n",
       " [7846]  384712.82508  -63015.48022  175892.15118  -21803.25846  384678.99154\n",
       " [7851]  370398.50116  177879.60534  591718.77108  323702.33458  -34456.76044\n",
       " [7856]  210031.20221  248162.21199   -4388.66168  629499.79720  534209.39491\n",
       " [7861]  -93771.10614  565693.87733  238819.77248  431343.98419  380988.24013\n",
       " [7866]  403940.09712  355818.80397  135269.16748  496154.54684   35198.58602\n",
       " [7871]  382978.55780  462984.63938  567402.64136  342482.55580  -97324.67571\n",
       " [7876]  208684.93561  157297.64544  289271.32873  377660.05561  575744.61940\n",
       " [7881]  208143.68428  -35508.14840  649259.07445  577757.96760  233962.92765\n",
       " [7886]  483033.92092  105938.87451  437917.66414   24787.53594   46574.67780\n",
       " [7891]  451728.36698  207532.05533  539276.92758  412946.81809   27855.35622\n",
       " [7896]  356422.31065  542520.35457  426335.63267  526325.35423  287406.82122\n",
       " [7901]  664292.73728  -86672.35901  431447.24484  313518.10797  126857.62551\n",
       " [7906]  -51503.30668  534991.04880  233124.93205  148230.81101  261830.61146\n",
       " [7911]  -12866.27394  380751.95929  205106.88688  577051.86338  496661.96148\n",
       " [7916]  128656.37769  204747.90099  364495.22866  172873.49719   48542.05696\n",
       " [7921]  498640.31852  -67559.28929   55694.07484  376430.79735  198605.37331\n",
       " [7926]  380454.62739  330908.32001  449201.72537  -42686.01929  307975.07986\n",
       " [7931]   47627.67881  498229.93938  146290.00191  102383.81305  279319.17527\n",
       " [7936]   81733.05690  209385.91300  194166.70114   20181.88611  563365.47853\n",
       " [7941]  -45261.89011  255948.13547  307829.98679  366662.55880  376625.07500\n",
       " [7946]  339713.94693  263634.91426  177884.72479  521734.95353  140097.59085\n",
       " [7951]  342671.86938   52733.25468  775453.11514  556880.55671  312873.69204\n",
       " [7956]   16033.31618  696273.91520   96433.44177  548758.25865  531874.75939\n",
       " [7961]  503267.64464  485577.60007  142453.93851   25892.14931   60709.88960\n",
       " [7966]  147584.08338   31526.78045  250330.54823  589118.08806  178975.85600\n",
       " [7971]  470981.49698  -56557.76179  182019.91989  323361.18114  323385.82764\n",
       " [7976]  272674.01588  -13529.91531  655348.82103  253325.45341  -15441.89782\n",
       " [7981]  180935.99729  484971.42993  537559.47959  643485.52040  571632.85681\n",
       " [7986]  211336.98194  390031.53239  217026.58007  485108.63622  232026.81586\n",
       " [7991]  -69537.41605  514592.33501  159291.41058  246346.51972  -47999.50250\n",
       " [7996]   -1780.52873  308017.70976  356556.28658  284384.68806  292936.88878\n",
       " [8001]  503397.78128  218581.70330  -61300.87211  428121.66349  370312.25524\n",
       " [8006]  158434.16594  186389.60026  401648.51798  143738.75791  -59793.85203\n",
       " [8011]  329060.26930  328462.92456 -159454.77984  408430.56857  125491.58941\n",
       " [8016]   -7606.94387  775231.98458  548476.44142   85041.35659  569846.03623\n",
       " [8021]  276415.23157  -57430.99821  164415.78533   88203.01630  513011.40463\n",
       " [8026]  121257.31709  369335.49118  260537.18429   19891.33301   51385.48024\n",
       " [8031]  508395.22415  560428.03694  -43759.57747  577192.02206  275078.04684\n",
       " [8036]  509130.49284  604931.70123  -34114.83687  307528.94993 -113303.04064\n",
       " [8041]  335263.19092  -38019.27270  127100.25425  653108.97705  248595.09100\n",
       " [8046]  573855.95340  783999.71556  425588.54310  367930.12830  466756.78404\n",
       " [8051]   47817.00771  252650.68452  661160.16469   78552.19634  346576.18119\n",
       " [8056]  119372.61678  251697.18673  306050.49001 -158097.97509  189318.94157\n",
       " [8061]  173767.57137  140979.08494  138337.61225  375475.86451   65528.41628\n",
       " [8066]  543781.80145  128824.54075  572230.90463  484733.33894  590741.71130\n",
       " [8071]  580951.20470  170240.09711  461051.05123  317873.08290  204805.00819\n",
       " [8076]  525838.41824  309951.89833  177258.54905  212034.26253  393960.94876\n",
       " [8081]  533606.37357  357231.86243  264757.78349  124254.43703  100563.46477\n",
       " [8086]  457569.27452  128611.84750   96342.52305  649755.98768  318538.23794\n",
       " [8091]   72616.63651  261091.03998  426882.85098  322345.01887  335911.71279\n",
       " [8096]  465536.25689  527864.35811  640842.71305  276885.46863  483315.57826\n",
       " [8101]  337424.55484  248782.23630  664064.79188  401816.80270  482257.19316\n",
       " [8106]   42104.83550  409801.07082   47695.89056  283971.28818  251012.07545\n",
       " [8111]  471876.18183  262144.27259   85203.91306  289207.13623  116970.51278\n",
       " [8116] -144984.85198   41814.19758  177443.69495  479097.45835  553548.38485\n",
       " [8121]  527911.14394  -71702.20597  142962.05438  520099.88119  568451.75701\n",
       " [8126]  526468.83302  283998.92697   41911.99503   50073.34282   96400.08364\n",
       " [8131]  178356.50824  515337.35082  -86495.15001  649173.99832  574584.19951\n",
       " [8136]   42313.55296  480096.33506  664831.90208  335888.35133  404803.91250\n",
       " [8141]  386049.89812  510189.08410  183304.48381  534107.85888  523278.02264\n",
       " [8146]   12511.25330  784123.43468   46835.78787  467628.72688  384597.89482\n",
       " [8151]  638779.30708  416284.72989   33927.01066  132389.99957  388552.48117\n",
       " [8156]  253637.74969  487993.64980  453941.95979   25682.91540  509107.18924\n",
       " [8161]   24355.45060  150612.79677  209323.01099  597838.09084  194783.28202\n",
       " [8166]   28165.88095  219908.34804   99034.44548  254312.39173  618173.70612\n",
       " [8171]  442632.23542  478099.30539 -129116.47710  142688.36129  533394.62622\n",
       " [8176]  210993.12361  291311.09314  251984.89125  630011.84893  207934.78323\n",
       " [8181]  122405.28416  170612.90561  132277.83595  617823.50199  502034.79637\n",
       " [8186]  300908.83399  479322.53373  512489.21613   18213.01914  553729.29911\n",
       " [8191]  303364.52059  253015.96418  280668.60007  464471.53096  387815.92697\n",
       " [8196]  201108.46482   92945.04091  235059.34576  801403.77430  -19694.61440\n",
       " [8201]  -73767.18760   90660.88995  519075.79464  182267.75249  307160.27167\n",
       " [8206]   17608.91845  278747.74743  266971.15235  395543.85193  -13556.95619\n",
       " [8211] -113113.44357  -79225.14344  636080.21921  375350.97023  237409.57008\n",
       " [8216]   67512.76030  479872.66093  317891.69295   68633.62737 -162297.86742\n",
       " [8221]  266383.68086   77124.51929  376305.50056  425968.64828  338735.74226\n",
       " [8226]   13605.59886   17053.04996  166835.17357  383576.16243  448029.82016\n",
       " [8231]  212251.78232  327272.57171  110132.85719   82655.37936  514005.96319\n",
       " [8236]  132195.90718  -80715.73833  353042.37324  146621.01978  555457.47874\n",
       " [8241]  460054.72010  371579.63407  571521.37625  441222.77870  -14362.25278\n",
       " [8246]  338224.66507  442907.13661  324260.77797 -190226.73555  146436.58108\n",
       " [8251]  648703.84030  121909.17569 -232874.07605  568570.24117  594324.10643\n",
       " [8256]  262327.80384  511234.40449  -59051.41793  314105.55326   83952.46276\n",
       " [8261]  318476.87650  376726.71889  -59143.87584  290802.74221  305391.95041\n",
       " [8266]  375148.06453  191689.22590  504559.17640  158231.97051  630878.77273\n",
       " [8271]  536754.43539  154712.98801  365951.63142  194670.76530 -112334.31980\n",
       " [8276]  484860.06643  452321.07566  638362.01649  170503.43544  298894.21103\n",
       " [8281]  283112.56473   16557.97073  588805.00649  362053.53115  507373.79957\n",
       " [8286]  196699.09190  304967.03598  448902.00215   71343.01324  412568.60664\n",
       " [8291]  522827.31022  318018.45392  533068.13034   82420.01813 -190202.46173\n",
       " [8296]   17362.10193  -42534.30296   54813.88097  719706.11236   86027.86281\n",
       " [8301]  392889.15998  101478.96360  166207.90238  322430.39525  256585.26204\n",
       " [8306]  299256.65380  326485.71042  -41409.01630  129410.86042  489709.52145\n",
       " [8311]  605102.89457  -64371.32806 -129892.64717  308448.01017  126333.46010\n",
       " [8316] -124643.06435  132362.36984  203800.05531  543226.10448  200108.31224\n",
       " [8321]    8353.67716  832744.96332  -36850.83504   49354.93578  -73270.15408\n",
       " [8326]  147579.60990  -95776.96047  220970.88735  423582.68135  629088.82242\n",
       " [8331]  -18394.03440 -204797.75900 -211895.35068  253179.04774  147624.70495\n",
       " [8336]  445389.80836   77984.04911 -127798.92826  597680.74697  574654.65604\n",
       " [8341]  220591.58350  862841.71465  153945.11011  235951.27075  333931.78738\n",
       " [8346]   64438.34965  323757.74655  235627.59666  589981.18256  536363.81781\n",
       " [8351]  336059.65967  331801.70474  434699.98273  586859.41740  261418.26226\n",
       " [8356]  452571.32651  580102.75594   89365.38136  234642.83969  525747.17791\n",
       " [8361]  290423.62912  255195.82658  242920.94608  -79760.68713   79507.01316\n",
       " [8366]  222246.85988  121448.44240  181510.26940  220738.53891 -122710.10953\n",
       " [8371]  490630.36532  322772.38788  565219.85586  473480.01437   31554.65625\n",
       " [8376]  -88509.31981  692891.61546  520177.36375   62079.32015  -14509.52928\n",
       " [8381]     342.77250  116798.52515  522706.46541 -166308.01206  172997.25312\n",
       " [8386]  346742.59620  720881.54985  152771.70452  325316.26367  305757.73364\n",
       " [8391]  450658.60030   -8283.57674  376132.01336    8463.98517  212139.95752\n",
       " [8396]  626559.65181  534651.90930  537209.05112  694753.53952 -228498.96179\n",
       " [8401]  720402.46810  493668.73977  573548.74166   96203.73449  670888.57964\n",
       " [8406]  519548.63620  420375.37390  384358.99214  227066.31284  254761.90813\n",
       " [8411]  537674.03759  600737.72789  -11994.04636  537664.87963  314716.29671\n",
       " [8416]  458468.92400  312935.59259   56149.68186 -151356.26435   19633.19049\n",
       " [8421]  321280.21374  586788.31672  609129.02250  557964.95097   40272.32688\n",
       " [8426]  564829.63952    9765.74129  -88248.36372  -86766.32601   69618.53379\n",
       " [8431]  333271.31519  474712.32731  710999.66845   85060.31538  -75336.51523\n",
       " [8436]  339369.84332  188172.67289  490783.45378  528017.34567  490552.33010\n",
       " [8441]  282792.24354   20047.19649   22265.86852  117383.55582  386030.63074\n",
       " [8446]  339111.65090  109362.67148   73848.33503 -100332.49536  544234.10833\n",
       " [8451] -116885.44826  171070.28170  217747.45623   84444.58679  313889.00674\n",
       " [8456]  282805.67869   47477.36502   99123.79051  482371.82704  676761.70424\n",
       " [8461]  840436.39151  484021.50144  273911.57942  472236.22931  -95866.61702\n",
       " [8466]  339296.11833    6460.06248   46500.45273  303587.10886  721049.32557\n",
       " [8471]  335931.35034  236360.51609  346715.53307  580771.09589  470373.93185\n",
       " [8476]  164345.16010  152630.86671  281877.44466  337075.56905  281437.07237\n",
       " [8481]  694884.67172  673025.29265  -65649.54437  -22203.55638  474695.18979\n",
       " [8486]   76248.75231  233680.24955  584806.33128  248324.03425  142144.62273\n",
       " [8491]   40659.95758  430238.79336  452111.93352  123166.22970  555052.74257\n",
       " [8496]  225272.46673  614409.33865 -135756.22338   95616.32817  695882.09210\n",
       " [8501]  596971.35228 -237815.48948  528101.63166  406692.08447  626417.39571\n",
       " [8506]  637524.26219  496584.32104   19004.03838  154265.67177  -76960.04253\n",
       " [8511]   40732.41680  343260.93665   -3046.76854   17454.94398  472932.97317\n",
       " [8516]    1601.79055  512864.31136  426718.77794  -30271.57126  743263.86413\n",
       " [8521]  497944.54938  303973.86190   11605.08347  744951.20378  352190.67880\n",
       " [8526]   91735.45792  221938.20559  360628.75558  617986.77554  643501.33503\n",
       " [8531]  415699.50130 -299203.86993  337803.10630  -13140.03400   99441.03043\n",
       " [8536]    4762.44766 -141179.56025  159705.75385  593953.63568  268287.87594\n",
       " [8541]  586625.05883  592702.82708  665433.46314  459298.51039  376872.96119\n",
       " [8546]  401068.22781  138589.63839  535579.92639  376885.25210  571514.48551\n",
       " [8551]  634518.73288  127289.45815  592516.64240  470211.03531  266380.62313\n",
       " [8556]  312551.64841  319060.61498  337529.13853  419553.93423  605479.57770\n",
       " [8561]  620317.26821  490161.41811  223312.63558  -95220.99882 -103605.00820\n",
       " [8566]  223133.97928  247965.10129   -9116.61707   21457.31597  103014.44628\n",
       " [8571]  318935.50319    8903.01133   94879.48333   21320.76379  -10660.94099\n",
       " [8576]  275681.63525  110143.29165  389294.16373 -140591.06492  513851.60637\n",
       " [8581]  608847.45452  622412.27149  332853.25787  329576.13263  248466.69403\n",
       " [8586]   80485.50881  195597.79959  525828.32680  677735.76519  562328.04631\n",
       " [8591]  697681.27434  225950.75890  551162.48555  285188.51326  154631.30582\n",
       " [8596]  265154.87099  120933.44641  106738.67676  249887.40521  292329.43603\n",
       " [8601] -193126.53548   30520.71353  349858.59207   92560.45698  260688.17897\n",
       " [8606]  707801.64604  487292.32035  740513.33891  636976.66651  352010.40394\n",
       " [8611]  169061.08428  625727.38941  383452.12735  427938.44688  693976.56072\n",
       " [8616]  123727.81165   83166.78257  398887.50133  325497.78950  726179.71390\n",
       " [8621]  358309.70327  -61777.78034  666471.52594   31331.52945  269385.87626\n",
       " [8626]   67827.74882  -86914.06413  551017.45166  114823.60454  735773.08524\n",
       " [8631]  163596.65456  215946.42877  219543.23707  271817.24342  130964.71554\n",
       " [8636]  209330.31940  392023.24381  624953.01002  575782.27805   97664.67555\n",
       " [8641]  412973.49154   74971.92354  165355.78333  184657.78427  133060.15789\n",
       " [8646]  324449.02804  132203.88272 -109528.95317  537803.15224  249145.36270\n",
       " [8651]  -77702.58481 -113004.14611  445132.68595  629030.14372  616166.88198\n",
       " [8656]  702932.83830  241795.70827  642667.93776  208226.70033  296874.37418\n",
       " [8661]  364714.42944  211730.59463  432732.80621  659189.25310  112767.75612\n",
       " [8666]  286182.83725  424527.83100  101314.28542  -65070.48834  186408.98615\n",
       " [8671]  561022.68192  389701.38009  354674.07185  345478.52594  135520.84459\n",
       " [8676]  546334.92782  221380.06349  495201.84583  550879.30555   94070.05724\n",
       " [8681]  135530.58798  570407.49891  361554.37977  550241.30342  156811.33686\n",
       " [8686]  154485.22914  335863.36955  494531.15367  -28322.26369  467957.48582\n",
       " [8691]  365372.11363  467739.13731   35981.40721  535234.07993  553665.75399\n",
       " [8696]  285457.33863  -81015.67326  130965.40221  685231.94515  280941.96545\n",
       " [8701]  363541.86645  203567.49529  231606.95075  534956.64536  147184.74737\n",
       " [8706]  725481.28507   90427.55298  405904.63105   69564.39471  138731.71714\n",
       " [8711]  541953.27634 -219966.79174  -77716.83124    8556.54175  484403.02080\n",
       " [8716]  407423.89739   18758.09813  230290.41889  310652.51735  462466.41598\n",
       " [8721]  669414.69133  221211.45194  264860.66888  232313.58928   57600.28711\n",
       " [8726]  214440.99513  317720.89533  283942.98951   14358.85529  478340.98717\n",
       " [8731]  634909.23937  477808.99146  263588.50030  193451.16835   16709.13377\n",
       " [8736]  -22500.82469  473864.18056  331863.56314  444880.36602  389523.08914\n",
       " [8741]  100115.26654  620169.48924  748134.28833  218982.82490  -63124.28704\n",
       " [8746]  584451.47920  490201.34555   25685.81190  213552.25521   55603.66693\n",
       " [8751]  204265.19002  464233.83464  386368.75204  582823.63681   35327.25639\n",
       " [8756]  468049.54092  100956.66229  260884.62329  418563.04497  433473.15179\n",
       " [8761]  359182.25403  377256.52392  357290.88383  286110.26210  171309.52177\n",
       " [8766]  208471.93320  169844.10158  -72341.47089  -25741.65472  636222.03428\n",
       " [8771]  384994.35606  -22220.58767  218196.79380  603481.55742  206149.08622\n",
       " [8776]  137563.81249  186069.73743  308551.27466  655934.43770  276268.85683\n",
       " [8781]  457467.43258  476463.92528 -243027.67968  725154.54750  544334.07173\n",
       " [8786]  541040.25723  393469.64300  184920.80619    3994.73154  161469.44029\n",
       " [8791]  435170.15243  495904.01979  199676.84188  -41866.48180  100480.59948\n",
       " [8796]  406585.36164  594342.73067  342664.38320  555393.14089  -89095.65712\n",
       " [8801]  535276.62736   -3656.69500 -123763.29538  195311.68738  439798.55948\n",
       " [8806]   41672.68229  198702.55243   51850.77687  -83049.91821  271023.18307\n",
       " [8811]  614767.22181  348262.49238  244494.21168  344207.22482  694478.79765\n",
       " [8816]  315628.15095  370625.34141  598746.30428  304435.73123  770550.56019\n",
       " [8821]  154353.37645  622126.68902  417078.24735  486571.36285  196688.37442\n",
       " [8826]  484420.88263  139446.54086  513240.01988  532417.88204  115872.43895\n",
       " [8831]  619849.71702  534022.96430  198414.85216  532559.92664  207771.51349\n",
       " [8836]  159095.15948  540197.09795  111807.59189  210608.94899  177353.92247\n",
       " [8841]   72440.83001  476094.35931  -82250.90059  201894.56691  220501.65673\n",
       " [8846]  289630.20512  599297.05077 -270753.77497  554502.77418   95070.65525\n",
       " [8851]  448511.61074  170389.04132  388074.83169  514079.01940  250577.45899\n",
       " [8856]  756918.13569  261882.81531 -188709.08787  292014.41638  515361.20738\n",
       " [8861]  449574.17217  443249.61826   50481.04996   78064.44457  673484.84379\n",
       " [8866]  347250.16307  455922.91084   35585.62524  448219.64406  -90762.46938\n",
       " [8871]  153187.36027  208404.94908  425283.87692  281279.78663  262413.62093\n",
       " [8876]  -19777.23117  667637.88875  368277.22372  247160.87177  473721.03512\n",
       " [8881]  -92690.14117  123819.27686  307992.16711  186879.22984   86600.75630\n",
       " [8886]  369695.57587   87196.57981   23557.38853  249673.61691  579133.99445\n",
       " [8891]   37552.32854  570921.56694  -70789.82971  274906.13070  216517.64794\n",
       " [8896]  120678.69379  101016.91611  305302.46359  758703.03685  330276.04971\n",
       " [8901]  124678.30517  609605.62052  316765.59736  312459.98727  273340.12056\n",
       " [8906]  -88135.15018  359179.83404  120848.02925  664770.60289  -12773.06647\n",
       " [8911]  555555.04051  652682.45744  -68916.56682  263902.47750  626971.70212\n",
       " [8916]  300603.94649  161299.28427  489562.98620  372488.92833  473639.47129\n",
       " [8921]  -16219.35619   48947.28586  468287.85273  130491.19019  431670.61332\n",
       " [8926]  557411.24362  218921.27688  902405.60720  -85761.44008  181712.90013\n",
       " [8931]  238848.48107  833368.55779  747950.91154  520812.39259  338845.47617\n",
       " [8936]  263831.17440  414066.48093  624136.38952   38166.61383  470505.73083\n",
       " [8941]  323141.00853   45560.80652  659794.02962  662538.46353 -160764.69472\n",
       " [8946]   58964.08695  485615.84799  -47064.23061  132734.15299  232501.55926\n",
       " [8951]  -52177.13568 -205961.69866  618129.12445  482325.99411   67929.28006\n",
       " [8956]  436874.56221  467134.11723   79326.89343  633601.82554  575891.09708\n",
       " [8961]  499442.21563   16179.16895   -9372.54195   67208.09215  467613.25400\n",
       " [8966]  166245.89805  532943.59418   31146.05070  426832.39659  270618.30852\n",
       " [8971] -101961.56010  -90238.23450  241086.94617  534511.31557  206184.58911\n",
       " [8976]  317524.61008   -8664.92817  218599.97742  294444.28909  123563.11324\n",
       " [8981]  414248.54530  -69929.19443 -105546.60816 -155716.10399  683924.83360\n",
       " [8986]  322091.09666  608956.28865 -175631.55901  250866.42061  -50805.87042\n",
       " [8991]  335405.26101 -152135.99279  202134.27068  225284.69031 -188322.52330\n",
       " [8996]  116627.45961  427147.24860  188311.12202  221748.53179  624106.44047\n",
       " [9001]  343058.12511  394966.84550  546145.02689  327873.17544  412793.59557\n",
       " [9006]  657848.10967    -715.60958  216766.37344  659165.86364  665956.68808\n",
       " [9011]  147297.77776  -50223.01353  136297.63001  241799.48646  591826.34698\n",
       " [9016]   66293.99254   83499.04977   22793.74619   60012.40084  469862.86984\n",
       " [9021]  482676.54929  572145.26111  364229.94867  510494.04972  408315.30767\n",
       " [9026]  384399.13413  115111.27293  214682.03421  442899.94091  522713.46407\n",
       " [9031]  -99123.72106  276176.34631  460387.33437  120785.59486  149097.38751\n",
       " [9036]  399114.54352  458068.30215  133169.89154  254346.26651   13900.76368\n",
       " [9041]  204160.56943  119029.75207  360092.44924  605806.20337  351181.62972\n",
       " [9046]  381978.28340  403470.68200  420110.26978  321413.86111  726477.34438\n",
       " [9051]  -19093.42230   33642.41775  357917.91124   84467.26782  427432.37979\n",
       " [9056]  475815.44928  254685.52438  124968.04567  568073.64031  289390.28587\n",
       " [9061] -101284.23819   98291.33634   -4253.54353   -1955.03888  165796.91575\n",
       " [9066]  483901.85736   69310.39250  -48194.70516  -81537.51364 -176480.74571\n",
       " [9071]  575696.86893  714008.72458  267240.56440  510527.22588  490002.16959\n",
       " [9076]  -24354.63465  435405.98762  511336.16873  601754.41130  716756.58306\n",
       " [9081]  388125.69053  469816.33170  429123.92454  157875.54725  517612.09720\n",
       " [9086]  599671.64874  379840.72675  340902.42593  602250.56140  241009.30364\n",
       " [9091]  531208.58700  759501.10288   80030.34699 -226011.96318  625635.96567\n",
       " [9096]  490054.74406 -172383.38199   17555.00766  557228.52089  451476.41652\n",
       " [9101]   97566.38590  139243.96975  556451.50722  303999.38902  488993.14479\n",
       " [9106]  287857.63712  196119.13343   72656.95022  591560.92563  306678.07744\n",
       " [9111]  495156.40660  149172.98822  509112.12047     -41.73631  538327.99481\n",
       " [9116]  541075.90650  276124.41518  593823.62399  304415.78971   36976.40862\n",
       " [9121] -109944.91669  208267.83543  149401.74893  618286.62434  -50000.60422\n",
       " [9126]  528743.47188  -57202.52677  322667.10188 -104737.95221  556602.86329\n",
       " [9131]  502819.87650  178518.26419  341320.08231  446489.08960  153321.61368\n",
       " [9136]  274704.92790  429275.40355  -62989.79759  -10957.64504  303635.84951\n",
       " [9141]   75607.13911  346479.06860   86334.59589  283245.55108  649425.93560\n",
       " [9146]  292636.72986   74034.75633   84593.21178  209658.72322  302785.14112\n",
       " [9151]  623375.66349  158243.85017    5383.22611 -174030.63919  287140.79667\n",
       " [9156]  475386.89011 -131266.33616  403216.21640   23215.57183  513568.56023\n",
       " [9161]  237504.47257  460235.01055  212694.18918   63964.59011  566979.60375\n",
       " [9166]   16383.42685  607864.47668  136602.75721  197156.59096  571908.78345\n",
       " [9171]  270388.66989 -278536.65296  119584.09123  273385.52698   75012.64166\n",
       " [9176]  503885.18891  223282.72424  152281.92821  249352.95120  370196.11494\n",
       " [9181]   62137.07261  454541.15783   21999.14486  261994.32790  563506.03376\n",
       " [9186]   77673.67938  -32516.51638  629986.91777  261771.16397  704630.04471\n",
       " [9191]  331511.70212  349749.41634  608075.22207  217092.08151  159557.59643\n",
       " [9196]  219240.70450  422420.14841   49039.89857  175292.60966  366786.40600\n",
       " [9201] -138674.93740 -169101.63060  418747.89145  -27117.09567  316366.48403\n",
       " [9206]  595147.76232  415947.21152  308595.46783  311633.04627  494680.22937\n",
       " [9211]  395931.19454  640148.06044  -63065.27012 -136740.92946  311511.68522\n",
       " [9216]  437096.04733  146797.73760   78879.11025  774603.81330  282985.22844\n",
       " [9221]  124541.50966  239220.49307  154563.67013 -166713.13732  651514.39907\n",
       " [9226]  196226.76277  253416.66179  337093.41048  544172.90771  130489.14077\n",
       " [9231]  -58962.17160  396256.27073  -55838.06361  191270.31122  -45943.42291\n",
       " [9236]  133821.59612  447056.84774   63831.38046  -23406.76347  112800.21276\n",
       " [9241] -158877.77661  525397.78552  232626.36439  288480.29856  167017.43953\n",
       " [9246]  293650.33407  263536.07045  100251.33861 -144165.12022  309404.12641\n",
       " [9251]  533016.01049  206921.56340  550455.63312  172186.88031  300710.94469\n",
       " [9256]  255971.39133 -155443.92492   74651.23500  279474.59973  234036.49653\n",
       " [9261]   93475.59260  113934.29276  108453.44912  106464.28170  301183.28377\n",
       " [9266]  242103.20400  408354.71439  181327.01269  510339.49978  316598.26212\n",
       " [9271]  605127.96152  597962.70184  187943.64030  561119.66914 -194490.69295\n",
       " [9276]  224990.03441  347683.97011  568525.46787  121036.91136   54747.58822\n",
       " [9281]  105668.51419  100234.65035  282086.56916  179749.34069  377591.56464\n",
       " [9286]  501145.80157  467754.02372  -68719.26952  415006.66476  455697.00836\n",
       " [9291]  190356.39730  561085.65838  488402.49430   47362.33541 -195821.63831\n",
       " [9296]  -39936.68965  629910.42060  431796.07249  288128.90174  141240.22271\n",
       " [9301]  416889.48118  273565.88252  266416.16010  -45723.84406  164836.82963\n",
       " [9306]  276360.81641  177379.62878  243248.71513  214537.49351  560584.51436\n",
       " [9311]  198969.21985  503817.48272  396798.54784  115747.43011  242506.62457\n",
       " [9316]  198591.27431  308007.65607   89539.83014  335361.42501  337722.20587\n",
       " [9321]  -35161.06361  157754.57056  351380.91677  169773.29040  164515.90674\n",
       " [9326]  117189.86579  -35009.02522  684442.13550   74069.14525  577253.72762\n",
       " [9331]  572842.43891  303300.98998  662380.50192  619042.41795  453219.34929\n",
       " [9336]  112802.14648   45247.27894  270989.87384  183103.46115  407518.25117\n",
       " [9341]  102067.23069  247470.49909  313342.44921  355443.73485  504896.81717\n",
       " [9346]  -58179.27319  180010.76788  236037.23913  221041.09438  541232.40019\n",
       " [9351]  479790.82484  506760.76083  340859.26144  214315.50714  378606.62016\n",
       " [9356]  546606.74139  443180.34221  102871.11640  -22055.68292  673681.90130\n",
       " [9361]  601261.06413  389865.55421    6409.41227  288910.76063  323016.87480\n",
       " [9366]  107583.67375  458154.54384   -5570.97916  475928.15090  227980.93370\n",
       " [9371]  750008.29946   64466.19630  728513.18427   26194.86291  503398.70720\n",
       " [9376]  681311.63058  564506.12110  460313.08096   94391.40412  603524.19129\n",
       " [9381]  103953.12366   71861.25859  -22116.55641  521187.63180   12573.00592\n",
       " [9386]  -29400.72747  167489.86667  323528.02275  469027.24623  523944.09671\n",
       " [9391]  404820.42010  328017.49831  284403.53837  334074.08844  268216.65265\n",
       " [9396]  296946.36393  -10171.74250  -36467.26404  248187.85972  -86392.48413\n",
       " [9401]  214530.61521  109299.44535  248251.11404  199945.62833  186706.96543\n",
       " [9406]  360064.12430  407148.73247  297481.94809  516369.43197  415965.81296\n",
       " [9411]   23857.19437  380619.62223  550174.10229  485753.68166  403681.50947\n",
       " [9416]  380020.55757  390952.98093  693176.17047  106714.99454  156966.26166\n",
       " [9421]  434740.68511  257103.29603  -81560.34850  626480.60409  226657.40331\n",
       " [9426]  482671.58170  250291.45533  421467.60414  207590.86395  687115.80424\n",
       " [9431]  196969.54745  356970.79067  -13007.40850 -214191.18423  389310.44176\n",
       " [9436]  242821.46940   93894.13092  409849.27683  -41681.71177  494845.40271\n",
       " [9441]  422681.38887   38439.37918  256924.21201  120048.79880  116835.95314\n",
       " [9446]  341809.99229  187376.73187  139309.63800  396378.54641  384058.32905\n",
       " [9451]   48355.40338    2083.89247   70772.54848  480206.77319  139486.81078\n",
       " [9456]  453012.35870 -155344.73950  683767.92320  580045.39188  459861.48041\n",
       " [9461]  468725.02810   79326.21780  613511.61051  159078.21414  477954.97972\n",
       " [9466]  147989.89254  -10807.36600   32910.56068  503948.48330  340140.01614\n",
       " [9471] -179958.47609  365467.96418  418360.34263  662661.75168  415919.26309\n",
       " [9476] -178930.18209   90032.28526  471242.98473  704202.70482  668724.64806\n",
       " [9481]  -64842.66006  677419.36118   87072.52922 -350181.13693  223748.68209\n",
       " [9486]  224255.80634  275906.38769  -73136.23771   29614.48513  425046.84328\n",
       " [9491] -144829.81835  640407.17382  671425.95849  636107.01435  245572.48476\n",
       " [9496]  274829.11614  351226.05634  181377.61530  155175.94988  530212.18592\n",
       " [9501]  475110.55179  679115.71689  498293.44662  348678.38543  197927.46951\n",
       " [9506]  130087.17831 -207493.60939  286917.62735   66054.76175  692556.26562\n",
       " [9511]  365965.69654  378514.32879  -26171.39234  732231.92558  214625.38645\n",
       " [9516]  452595.29969  -82915.48796  521652.92000 -114517.83767  191819.10059\n",
       " [9521]  373356.00169  302075.00639  236807.68071   50299.59900  636667.01703\n",
       " [9526]  215068.68128  211682.00783  338914.54761  279887.23051  288083.02672\n",
       " [9531]  339046.34730   83901.68962 -236038.43573  556344.47796   74160.37776\n",
       " [9536]  257111.57884  468382.98212  284493.62421  226901.23109  514191.19896\n",
       " [9541]   88462.95876  461821.10078  443238.54039  427483.27794  455408.21650\n",
       " [9546]  569613.16651 -174525.54708  114313.03311  261445.57183  573925.38446\n",
       " [9551]  466710.42022  -97984.77611  200675.65760  323758.94130  -30949.65470\n",
       " [9556]  495280.77241    7321.96991  625448.93679   75850.23271  599842.82542\n",
       " [9561]   37707.61368  671442.80438  268381.81704  209451.04828 -173825.19070\n",
       " [9566]  143197.18595  330597.17498  276483.95836  192725.66777  485567.33805\n",
       " [9571]  133776.24398  160612.40601   23629.29638   65676.17846  294481.92889\n",
       " [9576]  342273.22210  199216.80017  222619.84591  407943.80961  239025.53629\n",
       " [9581]  522390.26377  517058.31424  266952.99552   54390.57099   72040.08134\n",
       " [9586]  -23490.49086  554039.05241  477622.71605  191882.18567  235684.70117\n",
       " [9591]  299407.88788  368248.60637  245322.49539  128574.20888  446192.27817\n",
       " [9596]  231900.22523  404302.68002  544869.80747  197879.76162  617935.24539\n",
       " [9601]  124276.43624  238770.37721    1339.75654  493530.60699  472887.19421\n",
       " [9606]  -30891.48651   86887.63111  736766.19964  368978.36646  570395.86249\n",
       " [9611] -205547.44952  232400.40087  318426.77177  125346.16151  459807.97037\n",
       " [9616]  363173.84859  315794.88977  494832.97184  450929.52269  463262.35428\n",
       " [9621]   39190.93006  409730.60546  248842.11352  422247.20656  757220.02881\n",
       " [9626]   31245.13637  553627.35378  556334.10193  722049.66186  350269.79513\n",
       " [9631]  278449.93928  -44990.19429  445602.37987  615668.78238  121822.05098\n",
       " [9636]   38531.35275  162618.00057  273432.87512  667911.57230  511379.61548\n",
       " [9641]  332626.83516  220873.67885  439246.18832  201579.38671  473547.32269\n",
       " [9646]  175434.73687  -15319.13133  637814.60144  476141.15030  226966.16833\n",
       " [9651]  452232.11068  298842.88587  275662.69444  424469.44901  611816.73640\n",
       " [9656]  255974.65910  220404.62376  225403.69024  219150.13244 -233405.25531\n",
       " [9661]  358705.05084  486873.31292   77474.47788  275577.26444  514792.58229\n",
       " [9666]  232338.52000  382072.75295   89254.93826  377741.51345  495862.23563\n",
       " [9671]  199157.44139  192996.85739  424310.12986  224032.16271  371111.08333\n",
       " [9676] -118194.89345  223849.99474  430812.70274  457107.85677 -189991.27528\n",
       " [9681]   -1953.04784   93643.58289 -105949.03331  587043.07140   46623.31924\n",
       " [9686]   71980.56179  219850.68947   -5716.70462  667515.53215  323631.22874\n",
       " [9691] -120017.81519  652739.63048  584215.59155  462572.65480  306687.06706\n",
       " [9696]  -99828.91954  343368.84645  365806.14625   89116.85012  134042.63659\n",
       " [9701]  329476.90125  245527.35695  287128.14867  131219.94042  512885.37369\n",
       " [9706]  266638.92591 -101913.05533  173047.54434  552064.56621  142409.31747\n",
       " [9711]  397801.28703  469930.46282  464926.98615  314897.32989  -23632.71282\n",
       " [9716] -243777.36912  345458.36862  179093.61992  199471.60180  662885.21146\n",
       " [9721]  314601.05700  -34843.48213  561182.75773  427206.50381  273262.52590\n",
       " [9726]  360732.12399  -81195.29783  312289.13013  439658.37878  526096.59162\n",
       " [9731]  149924.99674  122902.84218  442982.70520   12978.27400  255487.88653\n",
       " [9736]  194078.56921  122438.62578  -73557.59454 -115429.46858  326787.09100\n",
       " [9741]  659379.36987   58100.38928  341852.20250  340783.69324  100828.44950\n",
       " [9746]   43573.90554  459446.95307  255110.38661   59506.42013   70538.52386\n",
       " [9751]  516686.77730   -2894.38222  543780.01750  777567.23082  274490.91370\n",
       " [9756]  402739.77876  -52188.81924  250456.49526  520264.20083  643792.20474\n",
       " [9761]  311162.51960  111107.03918  320571.77376  569398.94408  365843.94438\n",
       " [9766]  425980.22855   95460.90425  553025.47949  -24996.48214  607504.11495\n",
       " [9771]  481595.30153  197710.28886  644227.06220   47375.49843  294501.16891\n",
       " [9776]  225792.95799  274683.10089  319400.84097   42890.51842  296287.23960\n",
       " [9781]  371484.99795  523842.12537   68576.02580   99030.56422  778467.30521\n",
       " [9786]  187935.24325  307755.74972  718450.12148   33034.11835  488637.17512\n",
       " [9791]  192950.15436   96564.86937  778768.43221  167349.08289  283662.74375\n",
       " [9796]  -58009.92439  560251.27679   60159.52499   90331.31420  542011.77456\n",
       " [9801]  222630.30706  220230.74944  710663.95773  463036.32442  468448.04996\n",
       " [9806]  250244.22191  383092.08655  365500.71467  478102.56224  558591.09044\n",
       " [9811]   -6279.17532  644377.43010  -89605.99472  463184.93303  412969.92684\n",
       " [9816]   76848.61085  630915.70649  139945.05482  310528.96423  613114.36216\n",
       " [9821]  263895.03254  544021.75060  142207.53814  737815.24420  190047.78808\n",
       " [9826]  986277.58052   11457.54627  567367.81131  490236.10911  517690.30863\n",
       " [9831]  382035.26816  382146.73626  747684.80503  582721.01696  326539.92749\n",
       " [9836]  186770.12358  503584.95554  523829.22884  369840.27597  478033.00870\n",
       " [9841]  369198.93182  408534.11079  704458.63651  745902.00287   74341.52598\n",
       " [9846] -174421.81425  406926.22600  399040.15521  198862.12624  101148.56508\n",
       " [9851]  155064.85116  423768.65855  161338.13943  -72724.56775  334216.59637\n",
       " [9856]  365556.27922  228439.58978  446997.70692  287296.63378  176456.69197\n",
       " [9861]  472892.04553  227778.51473  414011.31447  233905.39996  251344.36267\n",
       " [9866]  618595.21065  149151.64342  516675.46117  555610.49813   65276.44370\n",
       " [9871]  -17624.39563  465823.22669  306286.11272  438172.80977  -21924.88101\n",
       " [9876] -158867.74191  482681.75203  224939.25618  217978.72799  299961.60479\n",
       " [9881]  568954.10701   92011.35762  572739.91095  409390.27687  -41359.20595\n",
       " [9886]  820942.65299  611499.84475  364727.16476 -145857.09468  387688.85553\n",
       " [9891]  125756.12425  369672.29843  150965.12762  -85587.38752  527333.95020\n",
       " [9896]   67244.74110  294462.05179 -133023.06862  357758.97483  526350.69549\n",
       " [9901]  541227.09590  177307.59960  454403.02200  618113.68587   69361.95268\n",
       " [9906]  457778.74358   80258.74171  297854.36904    1512.19799  231482.66156\n",
       " [9911]  182145.67273  404467.22375  101506.11481   41218.23877  304807.90966\n",
       " [9916]  623377.13083  113275.37024  537836.09130  432436.41945  551578.33157\n",
       " [9921]  289245.85044  108397.53189  337593.05522  321728.45525  403328.32232\n",
       " [9926]  269542.97140  303148.99649  321832.00084  736443.67921  -11970.22016\n",
       " [9931] -136181.61312  437177.70120  348382.11592  455903.44564  233638.51265\n",
       " [9936]  342610.18089   55006.46241  442151.97640  599922.05715  139736.03536\n",
       " [9941]  334955.44919  473093.93343  601355.63761  644360.44524  698994.34346\n",
       " [9946] -236479.02197  389957.16114  399330.04761  101078.87136  346115.25621\n",
       " [9951]  496691.77000   19579.81940  463617.86397   20542.93794  137307.74541\n",
       " [9956]  -43227.74632  436075.82108  380663.44345  423093.38525  307701.03575\n",
       " [9961]  170629.66923  467218.57359  176934.94860  327417.30945  220545.12769\n",
       " [9966]  197561.98903  108446.36750  170429.63800  246255.48603  -43627.31843\n",
       " [9971]  528445.45501 -108783.92538   20654.65809  530606.10900  142395.55487\n",
       " [9976]  150095.33374  536284.27583 -179702.55256  261352.50706  491590.03604\n",
       " [9981] -196369.89660   88789.74708  522836.80007  118059.07697 -130269.45403\n",
       " [9986]  170825.31517  649384.86516  652318.62448  454443.22315  -37091.15543\n",
       " [9991]   19564.97969  648439.13675  -86396.40661  142958.55380  344656.38200\n",
       " [9996]  117309.07158  601002.73561  460299.89261  446506.35690  304566.29396"
      ]
     },
     "metadata": {},
     "output_type": "display_data"
    }
   ],
   "source": [
    "vec_vpn"
   ]
  },
  {
   "cell_type": "code",
   "execution_count": 21,
   "metadata": {
    "slideshow": {
     "slide_type": "subslide"
    }
   },
   "outputs": [
    {
     "data": {
      "text/html": [
       "284684.115506615"
      ],
      "text/latex": [
       "284684.115506615"
      ],
      "text/markdown": [
       "284684.115506615"
      ],
      "text/plain": [
       "[1] 284684.1"
      ]
     },
     "metadata": {},
     "output_type": "display_data"
    },
    {
     "data": {
      "image/png": "[encoded data removed]",
      "text/plain": [
       "Plot with title \"Histogram of vec_vpn\""
      ]
     },
     "metadata": {
      "image/png": {
       "height": 420,
       "width": 420
      },
      "text/plain": {
       "height": 420,
       "width": 420
      }
     },
     "output_type": "display_data"
    }
   ],
   "source": [
    "#Media de VPNs \n",
    "mean(vec_vpn)\n",
    "\n",
    "#Graficamos la distribucion de los VPNs\n",
    "hist(vec_vpn,col=\"#f39200\")"
   ]
  },
  {
   "cell_type": "code",
   "execution_count": 22,
   "metadata": {
    "slideshow": {
     "slide_type": "subslide"
    }
   },
   "outputs": [
    {
     "data": {
      "text/html": [
       "0.1228"
      ],
      "text/latex": [
       "0.1228"
      ],
      "text/markdown": [
       "0.1228"
      ],
      "text/plain": [
       "[1] 0.1228"
      ]
     },
     "metadata": {},
     "output_type": "display_data"
    }
   ],
   "source": [
    "#Vector vacio donde se va a guardar 1 si el VPN es positivo y 0 si es negativo\n",
    "vec_prob=rep(NaN,nSim)\n",
    "\n",
    "#Funcion de probabilidad que el VPN sea menor a un numero\n",
    "Menor = function(a){\n",
    "    for (i in 1:nSim) {\n",
    "        if (vec_vpn[i] < a)\n",
    "            vec_prob[i]=1\n",
    "        else\n",
    "            vec_prob[i]=0\n",
    "    }\n",
    "    Probabilidad = sum(vec_prob)/nSim\n",
    "    return(Probabilidad)\n",
    "}\n",
    "\n",
    "#La probabilidad que el VPN sea negativo\n",
    "Menor(0)"
   ]
  },
  {
   "cell_type": "code",
   "execution_count": 23,
   "metadata": {
    "slideshow": {
     "slide_type": "subslide"
    }
   },
   "outputs": [
    {
     "data": {
      "text/html": [
       "0.8772"
      ],
      "text/latex": [
       "0.8772"
      ],
      "text/markdown": [
       "0.8772"
      ],
      "text/plain": [
       "[1] 0.8772"
      ]
     },
     "metadata": {},
     "output_type": "display_data"
    },
    {
     "data": {
      "text/html": [
       "0.2042"
      ],
      "text/latex": [
       "0.2042"
      ],
      "text/markdown": [
       "0.2042"
      ],
      "text/plain": [
       "[1] 0.2042"
      ]
     },
     "metadata": {},
     "output_type": "display_data"
    }
   ],
   "source": [
    "#Funcion de probabilidad que el VPN sea mayor a un numero\n",
    "Mayor = function(a){\n",
    "    for (i in 1:nSim) {\n",
    "        if (vec_vpn[i] > a)\n",
    "            vec_prob[i]=1\n",
    "        else\n",
    "            vec_prob[i]=0\n",
    "    }\n",
    "    Probabilidad = sum(vec_prob)/nSim\n",
    "    return(Probabilidad)\n",
    "}\n",
    "\n",
    "#La probabilidad que el VPN sea positivo\n",
    "Mayor(0)\n",
    "\n",
    "#La probabilidad que el VPN sea mayor a 500,000\n",
    "Mayor(500000)\n"
   ]
  },
  {
   "cell_type": "markdown",
   "metadata": {
    "slideshow": {
     "slide_type": "slide"
    }
   },
   "source": [
    "# EJEMPLO ANALISIS SENSIBILIDAD #\n",
    "# Variable: Precio del Producto #"
   ]
  },
  {
   "cell_type": "code",
   "execution_count": 24,
   "metadata": {
    "slideshow": {
     "slide_type": "fragment"
    }
   },
   "outputs": [],
   "source": [
    "vec_vpn2=rep(NaN,nSim) #Creamos un vector que va a guardar todos los VPN por cada simulacion\n",
    "\n",
    "inv_ini2=-sample(50000:200000,1) #Esta es la inversion inicial\n",
    "q2=sample(100:700,1)\n",
    "p2=simular_AR1(intercepto,rho)\n",
    "cp2=0.60*p2 #Costo unitario de producción FIJO\n",
    "cv2=0.25*p2 #Costo unitario por venta FIJO\n",
    "ckt2=sample(-2000:2000,1) #Cambio de capital trabajo FIJO\n",
    "depreciacion2=-inv_ini2*0.2 #Esta es la depreciacion de la maquinaria que se va a comprar con la inversion inicial\n",
    "ISR=0.25\n",
    "\n",
    "vec_precio=rep(NaN,nSim)"
   ]
  },
  {
   "cell_type": "code",
   "execution_count": 25,
   "metadata": {
    "slideshow": {
     "slide_type": "subslide"
    }
   },
   "outputs": [],
   "source": [
    "for (t in 1:nSim){\n",
    "    vec_cashflow=rep(NaN,nT) #En este vector se guarda cada cashflow por la cantidad de periodos\n",
    "    vec_cashflow[1]=-inv_ini2 #Valor inicial de la inversión\n",
    "    vec_precio[t]=simular_AR1(intercepto,rho) #Vector de precios que se simulara para el analisis de sensibilidad\n",
    "    \n",
    "    for (i in 2:nT){\n",
    "        \n",
    "        #Agregamos al vector de cashflows el calculo del cashflow por cada periodo (nT)    \n",
    "        vec_cashflow[i]=cash_flow(q2,vec_precio[t],cp2,cv2,ckt2,ISR,depreciacion2)\n",
    "        \n",
    "        \n",
    "    }\n",
    "    #Agregamos al vector de VPNs el calculo del VPN por cada vector de cashflow\n",
    "    vec_vpn2[t]=npv(r=tasa_desc,cf=vec_cashflow)\n",
    "    \n",
    "}"
   ]
  },
  {
   "cell_type": "code",
   "execution_count": 26,
   "metadata": {
    "slideshow": {
     "slide_type": "skip"
    }
   },
   "outputs": [
    {
     "data": {
      "text/html": [
       "<style>\n",
       ".list-inline {list-style: none; margin:0; padding: 0}\n",
       ".list-inline>li {display: inline-block}\n",
       ".list-inline>li:not(:last-child)::after {content: \"\\00b7\"; padding: 0 .5ex}\n",
       "</style>\n",
       "<ol class=list-inline><li>282087.752799292</li><li>365011.513757329</li><li>271613.818603866</li><li>574312.051887041</li><li>317545.036089202</li><li>792767.032999419</li><li>194488.794597968</li><li>550935.975691612</li><li>394036.648384406</li><li>1006791.32957145</li><li>470314.993483078</li><li>701439.164195389</li><li>382879.227787995</li><li>613442.236590956</li><li>258107.264454997</li><li>260469.160922739</li><li>664714.138124224</li><li>448895.429405204</li><li>289424.023022536</li><li>223573.616657796</li><li>688108.688459083</li><li>57171.451950792</li><li>706268.073670357</li><li>481759.066219762</li><li>439169.331298133</li><li>562084.278236173</li><li>503255.561663941</li><li>14759.9049416845</li><li>429141.676635063</li><li>411733.913215236</li><li>759311.336116283</li><li>667481.596729597</li><li>425356.385407665</li><li>527958.146539074</li><li>337037.546352665</li><li>385529.232798152</li><li>148658.444807016</li><li>717787.68235383</li><li>151490.547908279</li><li>512602.009904696</li><li>639428.626045436</li><li>359997.449607483</li><li>131446.323706421</li><li>465594.914151073</li><li>657421.374960744</li><li>846672.177357875</li><li>435600.584915776</li><li>613936.408252785</li><li>270455.802337515</li><li>443634.491125449</li><li>434535.214761576</li><li>603743.263061119</li><li>483969.29813705</li><li>399013.869241376</li><li>474680.193026156</li><li>743916.596103406</li><li>417689.194236879</li><li>450307.774540286</li><li>300823.901510266</li><li>50172.9020491995</li><li>222497.260257099</li><li>331213.184885052</li><li>432419.145279585</li><li>444019.501147911</li><li>526720.030939293</li><li>389735.91761472</li><li>444744.041962864</li><li>585675.580445102</li><li>498168.566408974</li><li>401691.200893698</li><li>491559.477841046</li><li>461926.096190461</li><li>568602.076436203</li><li>319829.234693163</li><li>317853.827796928</li><li>254281.219468614</li><li>280027.189293979</li><li>179483.786082335</li><li>333962.287340256</li><li>384927.964620332</li><li>552240.872924113</li><li>787786.173495789</li><li>394674.781014794</li><li>486120.004859717</li><li>526450.26218098</li><li>455261.33403913</li><li>520810.717610138</li><li>256975.231462832</li><li>524040.148442725</li><li>355438.299699351</li><li>458193.77218897</li><li>267964.544595587</li><li>251068.940728502</li><li>346423.768449144</li><li>284703.835783175</li><li>530717.252895672</li><li>479440.20259387</li><li>674101.437693507</li><li>399160.669899723</li><li>587560.532801165</li><li>549064.026484985</li><li>123099.997505969</li><li>158036.335032371</li><li>250485.32346013</li><li>682868.835778843</li><li>231010.627816325</li><li>404624.601352459</li><li>424026.770659871</li><li>352127.327976385</li><li>325404.128692461</li><li>313375.686916006</li><li>527497.386403035</li><li>213136.788349035</li><li>874724.777545286</li><li>206232.116329437</li><li>571928.070813129</li><li>619997.581785991</li><li>582573.392817456</li><li>224660.983430247</li><li>343000.147150204</li><li>421049.399515287</li><li>534097.943599956</li><li>212401.069288765</li><li>200122.918171526</li><li>251110.539500942</li><li>472442.016146944</li><li>501804.002379757</li><li>301659.392224157</li><li>420089.985417892</li><li>447021.300043976</li><li>763804.537873969</li><li>223776.048459819</li><li>460248.93567666</li><li>540169.453399889</li><li>396621.204773467</li><li>413722.639601943</li><li>372024.63798525</li><li>460394.641510063</li><li>542370.598732944</li><li>813988.384349685</li><li>515786.454146451</li><li>573618.176273897</li><li>663869.10479895</li><li>541884.018013919</li><li>217749.710056152</li><li>307132.550110594</li><li>199932.760153338</li><li>663442.283752834</li><li>694182.773624818</li><li>674606.347261778</li><li>29367.3131813355</li><li>222172.372338928</li><li>395903.475813758</li><li>341714.896331783</li><li>-52006.1784936276</li><li>565545.538748238</li><li>436385.50963035</li><li>278982.59241008</li><li>427788.448093533</li><li>461842.849407416</li><li>249973.013186752</li><li>377314.834408727</li><li>413050.410690372</li><li>238427.525998194</li><li>413759.476778441</li><li>304701.213508794</li><li>391252.285606288</li><li>635196.578129775</li><li>670429.731354696</li><li>337206.923969791</li><li>472960.166285652</li><li>334330.772826584</li><li>340629.478817485</li><li>406256.575331672</li><li>139086.0372745</li><li>695656.561168533</li><li>443500.691626396</li><li>330941.645143313</li><li>631314.943715458</li><li>666683.063956643</li><li>393753.180960443</li><li>602023.524701203</li><li>446391.375560733</li><li>-78149.0105844214</li><li>452520.832503748</li><li>343710.651885339</li><li>181592.331774544</li><li>367545.042390619</li><li>325664.743679372</li><li>315759.372781177</li><li>318642.14078441</li><li>743633.738756746</li><li>264033.122425099</li><li>589046.39650018</li><li>236445.115943024</li><li>338361.117189056</li><li>415282.26015274</li><li>290359.507647218</li><li>399823.593112859</li><li>268203.314549095</li><li>...</li><li>544290.725526095</li><li>370148.997222746</li><li>427741.910487028</li><li>589986.634672135</li><li>344049.14564718</li><li>558525.78204915</li><li>255170.678611557</li><li>364335.522726221</li><li>486206.270713765</li><li>-6107.77998153107</li><li>209401.52154693</li><li>679598.169287743</li><li>928237.314554163</li><li>736578.943055665</li><li>452617.039067094</li><li>529126.571080561</li><li>476040.144070645</li><li>207594.030635106</li><li>108116.249059981</li><li>442153.100348117</li><li>348910.638510697</li><li>563715.588685706</li><li>448698.789036642</li><li>365749.037466998</li><li>633366.292932481</li><li>705234.099780817</li><li>506642.44056927</li><li>562465.862442625</li><li>618101.56452461</li><li>543759.839118336</li><li>256437.711757692</li><li>208264.467487008</li><li>473902.071858757</li><li>444883.980418136</li><li>416205.899330698</li><li>705660.196421487</li><li>490098.493800029</li><li>273411.564261389</li><li>287738.768747459</li><li>204236.41182418</li><li>378533.698042416</li><li>514374.273633336</li><li>507857.71522214</li><li>324890.543148445</li><li>491183.7311138</li><li>389954.784154359</li><li>410633.125051793</li><li>360640.095497674</li><li>361571.092862049</li><li>658339.897875401</li><li>604304.129384901</li><li>512204.911494066</li><li>446649.542938805</li><li>634537.51826859</li><li>551536.117025313</li><li>475941.09244228</li><li>926098.741666355</li><li>957499.663193545</li><li>593494.013574137</li><li>285690.887351742</li><li>673171.512861472</li><li>355569.732295616</li><li>589813.262391141</li><li>230217.988140475</li><li>439843.186158056</li><li>460353.047242279</li><li>777503.446626437</li><li>311878.81377862</li><li>428396.231110622</li><li>302587.295103832</li><li>582151.918481657</li><li>87743.943044596</li><li>556410.54259498</li><li>533313.244054646</li><li>176363.769607956</li><li>785077.064523067</li><li>418637.018011334</li><li>436219.235505046</li><li>691233.076628103</li><li>333508.779091372</li><li>313745.359413294</li><li>759753.402327211</li><li>369621.640990101</li><li>679349.298393724</li><li>789608.233131066</li><li>-142644.519393283</li><li>418965.390805601</li><li>419874.332655244</li><li>376796.705322533</li><li>334453.95530078</li><li>456260.230152999</li><li>605941.311912856</li><li>319622.741904311</li><li>530751.149249873</li><li>368178.408063648</li><li>338946.96066205</li><li>529134.840689703</li><li>421470.744358361</li><li>507679.85660132</li><li>671826.370182981</li><li>339723.836036035</li><li>510102.366388912</li><li>467232.754361897</li><li>714407.15632875</li><li>390949.750094379</li><li>641224.939197337</li><li>550378.415293522</li><li>322205.424455196</li><li>395697.77785204</li><li>591626.156070004</li><li>265750.698428051</li><li>445136.853707293</li><li>76757.6833428658</li><li>331401.998960234</li><li>510695.15050246</li><li>100578.622958283</li><li>331185.533107477</li><li>188799.226201157</li><li>585965.888485896</li><li>544626.584847169</li><li>372191.43275641</li><li>696827.414956087</li><li>516952.118054806</li><li>239449.970392641</li><li>140057.784987902</li><li>469769.095537716</li><li>411621.097287184</li><li>785829.921909447</li><li>445536.232651801</li><li>400338.679811965</li><li>155061.182870752</li><li>649227.098392748</li><li>465920.500051449</li><li>431317.507668477</li><li>379073.22526964</li><li>525715.611839129</li><li>238652.687459884</li><li>75849.1772933055</li><li>533906.353733217</li><li>561913.903772515</li><li>442160.10175142</li><li>719259.240910494</li><li>585486.51627723</li><li>103942.031273148</li><li>412080.753118816</li><li>443651.758944419</li><li>518148.797022034</li><li>482087.491492433</li><li>342872.174567768</li><li>350010.053712555</li><li>109485.357917446</li><li>148642.872631684</li><li>341154.5575433</li><li>302540.394783952</li><li>142790.669815876</li><li>719400.847222448</li><li>286264.742974038</li><li>477493.565985527</li><li>445007.166701391</li><li>755767.370121179</li><li>-24667.4717382627</li><li>726635.750450478</li><li>729161.325244257</li><li>570577.938781158</li><li>231514.323937508</li><li>807684.387736769</li><li>463690.83516524</li><li>354783.98561709</li><li>636241.869973049</li><li>18884.2694729688</li><li>291151.774508783</li><li>271200.727085467</li><li>413805.244586888</li><li>397371.961243042</li><li>578943.396814887</li><li>385395.964190361</li><li>345701.420882638</li><li>282210.613261237</li><li>449587.219992439</li><li>153064.175011123</li><li>355556.388973597</li><li>443800.674252968</li><li>431556.170769432</li><li>293452.163346255</li><li>473255.638703113</li><li>249271.284589726</li><li>627305.393671647</li><li>362972.250903608</li><li>377418.685759294</li><li>453702.423441879</li><li>170409.817161679</li><li>269016.373069862</li><li>324852.124777016</li><li>771335.223255448</li><li>439019.629874233</li><li>465156.683153804</li><li>636915.995974368</li><li>387259.135833514</li><li>353359.015886004</li><li>496283.433961235</li></ol>\n"
      ],
      "text/latex": [
       "\\begin{enumerate*}\n",
       "\\item 282087.752799292\n",
       "\\item 365011.513757329\n",
       "\\item 271613.818603866\n",
       "\\item 574312.051887041\n",
       "\\item 317545.036089202\n",
       "\\item 792767.032999419\n",
       "\\item 194488.794597968\n",
       "\\item 550935.975691612\n",
       "\\item 394036.648384406\n",
       "\\item 1006791.32957145\n",
       "\\item 470314.993483078\n",
       "\\item 701439.164195389\n",
       "\\item 382879.227787995\n",
       "\\item 613442.236590956\n",
       "\\item 258107.264454997\n",
       "\\item 260469.160922739\n",
       "\\item 664714.138124224\n",
       "\\item 448895.429405204\n",
       "\\item 289424.023022536\n",
       "\\item 223573.616657796\n",
       "\\item 688108.688459083\n",
       "\\item 57171.451950792\n",
       "\\item 706268.073670357\n",
       "\\item 481759.066219762\n",
       "\\item 439169.331298133\n",
       "\\item 562084.278236173\n",
       "\\item 503255.561663941\n",
       "\\item 14759.9049416845\n",
       "\\item 429141.676635063\n",
       "\\item 411733.913215236\n",
       "\\item 759311.336116283\n",
       "\\item 667481.596729597\n",
       "\\item 425356.385407665\n",
       "\\item 527958.146539074\n",
       "\\item 337037.546352665\n",
       "\\item 385529.232798152\n",
       "\\item 148658.444807016\n",
       "\\item 717787.68235383\n",
       "\\item 151490.547908279\n",
       "\\item 512602.009904696\n",
       "\\item 639428.626045436\n",
       "\\item 359997.449607483\n",
       "\\item 131446.323706421\n",
       "\\item 465594.914151073\n",
       "\\item 657421.374960744\n",
       "\\item 846672.177357875\n",
       "\\item 435600.584915776\n",
       "\\item 613936.408252785\n",
       "\\item 270455.802337515\n",
       "\\item 443634.491125449\n",
       "\\item 434535.214761576\n",
       "\\item 603743.263061119\n",
       "\\item 483969.29813705\n",
       "\\item 399013.869241376\n",
       "\\item 474680.193026156\n",
       "\\item 743916.596103406\n",
       "\\item 417689.194236879\n",
       "\\item 450307.774540286\n",
       "\\item 300823.901510266\n",
       "\\item 50172.9020491995\n",
       "\\item 222497.260257099\n",
       "\\item 331213.184885052\n",
       "\\item 432419.145279585\n",
       "\\item 444019.501147911\n",
       "\\item 526720.030939293\n",
       "\\item 389735.91761472\n",
       "\\item 444744.041962864\n",
       "\\item 585675.580445102\n",
       "\\item 498168.566408974\n",
       "\\item 401691.200893698\n",
       "\\item 491559.477841046\n",
       "\\item 461926.096190461\n",
       "\\item 568602.076436203\n",
       "\\item 319829.234693163\n",
       "\\item 317853.827796928\n",
       "\\item 254281.219468614\n",
       "\\item 280027.189293979\n",
       "\\item 179483.786082335\n",
       "\\item 333962.287340256\n",
       "\\item 384927.964620332\n",
       "\\item 552240.872924113\n",
       "\\item 787786.173495789\n",
       "\\item 394674.781014794\n",
       "\\item 486120.004859717\n",
       "\\item 526450.26218098\n",
       "\\item 455261.33403913\n",
       "\\item 520810.717610138\n",
       "\\item 256975.231462832\n",
       "\\item 524040.148442725\n",
       "\\item 355438.299699351\n",
       "\\item 458193.77218897\n",
       "\\item 267964.544595587\n",
       "\\item 251068.940728502\n",
       "\\item 346423.768449144\n",
       "\\item 284703.835783175\n",
       "\\item 530717.252895672\n",
       "\\item 479440.20259387\n",
       "\\item 674101.437693507\n",
       "\\item 399160.669899723\n",
       "\\item 587560.532801165\n",
       "\\item 549064.026484985\n",
       "\\item 123099.997505969\n",
       "\\item 158036.335032371\n",
       "\\item 250485.32346013\n",
       "\\item 682868.835778843\n",
       "\\item 231010.627816325\n",
       "\\item 404624.601352459\n",
       "\\item 424026.770659871\n",
       "\\item 352127.327976385\n",
       "\\item 325404.128692461\n",
       "\\item 313375.686916006\n",
       "\\item 527497.386403035\n",
       "\\item 213136.788349035\n",
       "\\item 874724.777545286\n",
       "\\item 206232.116329437\n",
       "\\item 571928.070813129\n",
       "\\item 619997.581785991\n",
       "\\item 582573.392817456\n",
       "\\item 224660.983430247\n",
       "\\item 343000.147150204\n",
       "\\item 421049.399515287\n",
       "\\item 534097.943599956\n",
       "\\item 212401.069288765\n",
       "\\item 200122.918171526\n",
       "\\item 251110.539500942\n",
       "\\item 472442.016146944\n",
       "\\item 501804.002379757\n",
       "\\item 301659.392224157\n",
       "\\item 420089.985417892\n",
       "\\item 447021.300043976\n",
       "\\item 763804.537873969\n",
       "\\item 223776.048459819\n",
       "\\item 460248.93567666\n",
       "\\item 540169.453399889\n",
       "\\item 396621.204773467\n",
       "\\item 413722.639601943\n",
       "\\item 372024.63798525\n",
       "\\item 460394.641510063\n",
       "\\item 542370.598732944\n",
       "\\item 813988.384349685\n",
       "\\item 515786.454146451\n",
       "\\item 573618.176273897\n",
       "\\item 663869.10479895\n",
       "\\item 541884.018013919\n",
       "\\item 217749.710056152\n",
       "\\item 307132.550110594\n",
       "\\item 199932.760153338\n",
       "\\item 663442.283752834\n",
       "\\item 694182.773624818\n",
       "\\item 674606.347261778\n",
       "\\item 29367.3131813355\n",
       "\\item 222172.372338928\n",
       "\\item 395903.475813758\n",
       "\\item 341714.896331783\n",
       "\\item -52006.1784936276\n",
       "\\item 565545.538748238\n",
       "\\item 436385.50963035\n",
       "\\item 278982.59241008\n",
       "\\item 427788.448093533\n",
       "\\item 461842.849407416\n",
       "\\item 249973.013186752\n",
       "\\item 377314.834408727\n",
       "\\item 413050.410690372\n",
       "\\item 238427.525998194\n",
       "\\item 413759.476778441\n",
       "\\item 304701.213508794\n",
       "\\item 391252.285606288\n",
       "\\item 635196.578129775\n",
       "\\item 670429.731354696\n",
       "\\item 337206.923969791\n",
       "\\item 472960.166285652\n",
       "\\item 334330.772826584\n",
       "\\item 340629.478817485\n",
       "\\item 406256.575331672\n",
       "\\item 139086.0372745\n",
       "\\item 695656.561168533\n",
       "\\item 443500.691626396\n",
       "\\item 330941.645143313\n",
       "\\item 631314.943715458\n",
       "\\item 666683.063956643\n",
       "\\item 393753.180960443\n",
       "\\item 602023.524701203\n",
       "\\item 446391.375560733\n",
       "\\item -78149.0105844214\n",
       "\\item 452520.832503748\n",
       "\\item 343710.651885339\n",
       "\\item 181592.331774544\n",
       "\\item 367545.042390619\n",
       "\\item 325664.743679372\n",
       "\\item 315759.372781177\n",
       "\\item 318642.14078441\n",
       "\\item 743633.738756746\n",
       "\\item 264033.122425099\n",
       "\\item 589046.39650018\n",
       "\\item 236445.115943024\n",
       "\\item 338361.117189056\n",
       "\\item 415282.26015274\n",
       "\\item 290359.507647218\n",
       "\\item 399823.593112859\n",
       "\\item 268203.314549095\n",
       "\\item ...\n",
       "\\item 544290.725526095\n",
       "\\item 370148.997222746\n",
       "\\item 427741.910487028\n",
       "\\item 589986.634672135\n",
       "\\item 344049.14564718\n",
       "\\item 558525.78204915\n",
       "\\item 255170.678611557\n",
       "\\item 364335.522726221\n",
       "\\item 486206.270713765\n",
       "\\item -6107.77998153107\n",
       "\\item 209401.52154693\n",
       "\\item 679598.169287743\n",
       "\\item 928237.314554163\n",
       "\\item 736578.943055665\n",
       "\\item 452617.039067094\n",
       "\\item 529126.571080561\n",
       "\\item 476040.144070645\n",
       "\\item 207594.030635106\n",
       "\\item 108116.249059981\n",
       "\\item 442153.100348117\n",
       "\\item 348910.638510697\n",
       "\\item 563715.588685706\n",
       "\\item 448698.789036642\n",
       "\\item 365749.037466998\n",
       "\\item 633366.292932481\n",
       "\\item 705234.099780817\n",
       "\\item 506642.44056927\n",
       "\\item 562465.862442625\n",
       "\\item 618101.56452461\n",
       "\\item 543759.839118336\n",
       "\\item 256437.711757692\n",
       "\\item 208264.467487008\n",
       "\\item 473902.071858757\n",
       "\\item 444883.980418136\n",
       "\\item 416205.899330698\n",
       "\\item 705660.196421487\n",
       "\\item 490098.493800029\n",
       "\\item 273411.564261389\n",
       "\\item 287738.768747459\n",
       "\\item 204236.41182418\n",
       "\\item 378533.698042416\n",
       "\\item 514374.273633336\n",
       "\\item 507857.71522214\n",
       "\\item 324890.543148445\n",
       "\\item 491183.7311138\n",
       "\\item 389954.784154359\n",
       "\\item 410633.125051793\n",
       "\\item 360640.095497674\n",
       "\\item 361571.092862049\n",
       "\\item 658339.897875401\n",
       "\\item 604304.129384901\n",
       "\\item 512204.911494066\n",
       "\\item 446649.542938805\n",
       "\\item 634537.51826859\n",
       "\\item 551536.117025313\n",
       "\\item 475941.09244228\n",
       "\\item 926098.741666355\n",
       "\\item 957499.663193545\n",
       "\\item 593494.013574137\n",
       "\\item 285690.887351742\n",
       "\\item 673171.512861472\n",
       "\\item 355569.732295616\n",
       "\\item 589813.262391141\n",
       "\\item 230217.988140475\n",
       "\\item 439843.186158056\n",
       "\\item 460353.047242279\n",
       "\\item 777503.446626437\n",
       "\\item 311878.81377862\n",
       "\\item 428396.231110622\n",
       "\\item 302587.295103832\n",
       "\\item 582151.918481657\n",
       "\\item 87743.943044596\n",
       "\\item 556410.54259498\n",
       "\\item 533313.244054646\n",
       "\\item 176363.769607956\n",
       "\\item 785077.064523067\n",
       "\\item 418637.018011334\n",
       "\\item 436219.235505046\n",
       "\\item 691233.076628103\n",
       "\\item 333508.779091372\n",
       "\\item 313745.359413294\n",
       "\\item 759753.402327211\n",
       "\\item 369621.640990101\n",
       "\\item 679349.298393724\n",
       "\\item 789608.233131066\n",
       "\\item -142644.519393283\n",
       "\\item 418965.390805601\n",
       "\\item 419874.332655244\n",
       "\\item 376796.705322533\n",
       "\\item 334453.95530078\n",
       "\\item 456260.230152999\n",
       "\\item 605941.311912856\n",
       "\\item 319622.741904311\n",
       "\\item 530751.149249873\n",
       "\\item 368178.408063648\n",
       "\\item 338946.96066205\n",
       "\\item 529134.840689703\n",
       "\\item 421470.744358361\n",
       "\\item 507679.85660132\n",
       "\\item 671826.370182981\n",
       "\\item 339723.836036035\n",
       "\\item 510102.366388912\n",
       "\\item 467232.754361897\n",
       "\\item 714407.15632875\n",
       "\\item 390949.750094379\n",
       "\\item 641224.939197337\n",
       "\\item 550378.415293522\n",
       "\\item 322205.424455196\n",
       "\\item 395697.77785204\n",
       "\\item 591626.156070004\n",
       "\\item 265750.698428051\n",
       "\\item 445136.853707293\n",
       "\\item 76757.6833428658\n",
       "\\item 331401.998960234\n",
       "\\item 510695.15050246\n",
       "\\item 100578.622958283\n",
       "\\item 331185.533107477\n",
       "\\item 188799.226201157\n",
       "\\item 585965.888485896\n",
       "\\item 544626.584847169\n",
       "\\item 372191.43275641\n",
       "\\item 696827.414956087\n",
       "\\item 516952.118054806\n",
       "\\item 239449.970392641\n",
       "\\item 140057.784987902\n",
       "\\item 469769.095537716\n",
       "\\item 411621.097287184\n",
       "\\item 785829.921909447\n",
       "\\item 445536.232651801\n",
       "\\item 400338.679811965\n",
       "\\item 155061.182870752\n",
       "\\item 649227.098392748\n",
       "\\item 465920.500051449\n",
       "\\item 431317.507668477\n",
       "\\item 379073.22526964\n",
       "\\item 525715.611839129\n",
       "\\item 238652.687459884\n",
       "\\item 75849.1772933055\n",
       "\\item 533906.353733217\n",
       "\\item 561913.903772515\n",
       "\\item 442160.10175142\n",
       "\\item 719259.240910494\n",
       "\\item 585486.51627723\n",
       "\\item 103942.031273148\n",
       "\\item 412080.753118816\n",
       "\\item 443651.758944419\n",
       "\\item 518148.797022034\n",
       "\\item 482087.491492433\n",
       "\\item 342872.174567768\n",
       "\\item 350010.053712555\n",
       "\\item 109485.357917446\n",
       "\\item 148642.872631684\n",
       "\\item 341154.5575433\n",
       "\\item 302540.394783952\n",
       "\\item 142790.669815876\n",
       "\\item 719400.847222448\n",
       "\\item 286264.742974038\n",
       "\\item 477493.565985527\n",
       "\\item 445007.166701391\n",
       "\\item 755767.370121179\n",
       "\\item -24667.4717382627\n",
       "\\item 726635.750450478\n",
       "\\item 729161.325244257\n",
       "\\item 570577.938781158\n",
       "\\item 231514.323937508\n",
       "\\item 807684.387736769\n",
       "\\item 463690.83516524\n",
       "\\item 354783.98561709\n",
       "\\item 636241.869973049\n",
       "\\item 18884.2694729688\n",
       "\\item 291151.774508783\n",
       "\\item 271200.727085467\n",
       "\\item 413805.244586888\n",
       "\\item 397371.961243042\n",
       "\\item 578943.396814887\n",
       "\\item 385395.964190361\n",
       "\\item 345701.420882638\n",
       "\\item 282210.613261237\n",
       "\\item 449587.219992439\n",
       "\\item 153064.175011123\n",
       "\\item 355556.388973597\n",
       "\\item 443800.674252968\n",
       "\\item 431556.170769432\n",
       "\\item 293452.163346255\n",
       "\\item 473255.638703113\n",
       "\\item 249271.284589726\n",
       "\\item 627305.393671647\n",
       "\\item 362972.250903608\n",
       "\\item 377418.685759294\n",
       "\\item 453702.423441879\n",
       "\\item 170409.817161679\n",
       "\\item 269016.373069862\n",
       "\\item 324852.124777016\n",
       "\\item 771335.223255448\n",
       "\\item 439019.629874233\n",
       "\\item 465156.683153804\n",
       "\\item 636915.995974368\n",
       "\\item 387259.135833514\n",
       "\\item 353359.015886004\n",
       "\\item 496283.433961235\n",
       "\\end{enumerate*}\n"
      ],
      "text/markdown": [
       "1. 282087.752799292\n",
       "2. 365011.513757329\n",
       "3. 271613.818603866\n",
       "4. 574312.051887041\n",
       "5. 317545.036089202\n",
       "6. 792767.032999419\n",
       "7. 194488.794597968\n",
       "8. 550935.975691612\n",
       "9. 394036.648384406\n",
       "10. 1006791.32957145\n",
       "11. 470314.993483078\n",
       "12. 701439.164195389\n",
       "13. 382879.227787995\n",
       "14. 613442.236590956\n",
       "15. 258107.264454997\n",
       "16. 260469.160922739\n",
       "17. 664714.138124224\n",
       "18. 448895.429405204\n",
       "19. 289424.023022536\n",
       "20. 223573.616657796\n",
       "21. 688108.688459083\n",
       "22. 57171.451950792\n",
       "23. 706268.073670357\n",
       "24. 481759.066219762\n",
       "25. 439169.331298133\n",
       "26. 562084.278236173\n",
       "27. 503255.561663941\n",
       "28. 14759.9049416845\n",
       "29. 429141.676635063\n",
       "30. 411733.913215236\n",
       "31. 759311.336116283\n",
       "32. 667481.596729597\n",
       "33. 425356.385407665\n",
       "34. 527958.146539074\n",
       "35. 337037.546352665\n",
       "36. 385529.232798152\n",
       "37. 148658.444807016\n",
       "38. 717787.68235383\n",
       "39. 151490.547908279\n",
       "40. 512602.009904696\n",
       "41. 639428.626045436\n",
       "42. 359997.449607483\n",
       "43. 131446.323706421\n",
       "44. 465594.914151073\n",
       "45. 657421.374960744\n",
       "46. 846672.177357875\n",
       "47. 435600.584915776\n",
       "48. 613936.408252785\n",
       "49. 270455.802337515\n",
       "50. 443634.491125449\n",
       "51. 434535.214761576\n",
       "52. 603743.263061119\n",
       "53. 483969.29813705\n",
       "54. 399013.869241376\n",
       "55. 474680.193026156\n",
       "56. 743916.596103406\n",
       "57. 417689.194236879\n",
       "58. 450307.774540286\n",
       "59. 300823.901510266\n",
       "60. 50172.9020491995\n",
       "61. 222497.260257099\n",
       "62. 331213.184885052\n",
       "63. 432419.145279585\n",
       "64. 444019.501147911\n",
       "65. 526720.030939293\n",
       "66. 389735.91761472\n",
       "67. 444744.041962864\n",
       "68. 585675.580445102\n",
       "69. 498168.566408974\n",
       "70. 401691.200893698\n",
       "71. 491559.477841046\n",
       "72. 461926.096190461\n",
       "73. 568602.076436203\n",
       "74. 319829.234693163\n",
       "75. 317853.827796928\n",
       "76. 254281.219468614\n",
       "77. 280027.189293979\n",
       "78. 179483.786082335\n",
       "79. 333962.287340256\n",
       "80. 384927.964620332\n",
       "81. 552240.872924113\n",
       "82. 787786.173495789\n",
       "83. 394674.781014794\n",
       "84. 486120.004859717\n",
       "85. 526450.26218098\n",
       "86. 455261.33403913\n",
       "87. 520810.717610138\n",
       "88. 256975.231462832\n",
       "89. 524040.148442725\n",
       "90. 355438.299699351\n",
       "91. 458193.77218897\n",
       "92. 267964.544595587\n",
       "93. 251068.940728502\n",
       "94. 346423.768449144\n",
       "95. 284703.835783175\n",
       "96. 530717.252895672\n",
       "97. 479440.20259387\n",
       "98. 674101.437693507\n",
       "99. 399160.669899723\n",
       "100. 587560.532801165\n",
       "101. 549064.026484985\n",
       "102. 123099.997505969\n",
       "103. 158036.335032371\n",
       "104. 250485.32346013\n",
       "105. 682868.835778843\n",
       "106. 231010.627816325\n",
       "107. 404624.601352459\n",
       "108. 424026.770659871\n",
       "109. 352127.327976385\n",
       "110. 325404.128692461\n",
       "111. 313375.686916006\n",
       "112. 527497.386403035\n",
       "113. 213136.788349035\n",
       "114. 874724.777545286\n",
       "115. 206232.116329437\n",
       "116. 571928.070813129\n",
       "117. 619997.581785991\n",
       "118. 582573.392817456\n",
       "119. 224660.983430247\n",
       "120. 343000.147150204\n",
       "121. 421049.399515287\n",
       "122. 534097.943599956\n",
       "123. 212401.069288765\n",
       "124. 200122.918171526\n",
       "125. 251110.539500942\n",
       "126. 472442.016146944\n",
       "127. 501804.002379757\n",
       "128. 301659.392224157\n",
       "129. 420089.985417892\n",
       "130. 447021.300043976\n",
       "131. 763804.537873969\n",
       "132. 223776.048459819\n",
       "133. 460248.93567666\n",
       "134. 540169.453399889\n",
       "135. 396621.204773467\n",
       "136. 413722.639601943\n",
       "137. 372024.63798525\n",
       "138. 460394.641510063\n",
       "139. 542370.598732944\n",
       "140. 813988.384349685\n",
       "141. 515786.454146451\n",
       "142. 573618.176273897\n",
       "143. 663869.10479895\n",
       "144. 541884.018013919\n",
       "145. 217749.710056152\n",
       "146. 307132.550110594\n",
       "147. 199932.760153338\n",
       "148. 663442.283752834\n",
       "149. 694182.773624818\n",
       "150. 674606.347261778\n",
       "151. 29367.3131813355\n",
       "152. 222172.372338928\n",
       "153. 395903.475813758\n",
       "154. 341714.896331783\n",
       "155. -52006.1784936276\n",
       "156. 565545.538748238\n",
       "157. 436385.50963035\n",
       "158. 278982.59241008\n",
       "159. 427788.448093533\n",
       "160. 461842.849407416\n",
       "161. 249973.013186752\n",
       "162. 377314.834408727\n",
       "163. 413050.410690372\n",
       "164. 238427.525998194\n",
       "165. 413759.476778441\n",
       "166. 304701.213508794\n",
       "167. 391252.285606288\n",
       "168. 635196.578129775\n",
       "169. 670429.731354696\n",
       "170. 337206.923969791\n",
       "171. 472960.166285652\n",
       "172. 334330.772826584\n",
       "173. 340629.478817485\n",
       "174. 406256.575331672\n",
       "175. 139086.0372745\n",
       "176. 695656.561168533\n",
       "177. 443500.691626396\n",
       "178. 330941.645143313\n",
       "179. 631314.943715458\n",
       "180. 666683.063956643\n",
       "181. 393753.180960443\n",
       "182. 602023.524701203\n",
       "183. 446391.375560733\n",
       "184. -78149.0105844214\n",
       "185. 452520.832503748\n",
       "186. 343710.651885339\n",
       "187. 181592.331774544\n",
       "188. 367545.042390619\n",
       "189. 325664.743679372\n",
       "190. 315759.372781177\n",
       "191. 318642.14078441\n",
       "192. 743633.738756746\n",
       "193. 264033.122425099\n",
       "194. 589046.39650018\n",
       "195. 236445.115943024\n",
       "196. 338361.117189056\n",
       "197. 415282.26015274\n",
       "198. 290359.507647218\n",
       "199. 399823.593112859\n",
       "200. 268203.314549095\n",
       "201. ...\n",
       "202. 544290.725526095\n",
       "203. 370148.997222746\n",
       "204. 427741.910487028\n",
       "205. 589986.634672135\n",
       "206. 344049.14564718\n",
       "207. 558525.78204915\n",
       "208. 255170.678611557\n",
       "209. 364335.522726221\n",
       "210. 486206.270713765\n",
       "211. -6107.77998153107\n",
       "212. 209401.52154693\n",
       "213. 679598.169287743\n",
       "214. 928237.314554163\n",
       "215. 736578.943055665\n",
       "216. 452617.039067094\n",
       "217. 529126.571080561\n",
       "218. 476040.144070645\n",
       "219. 207594.030635106\n",
       "220. 108116.249059981\n",
       "221. 442153.100348117\n",
       "222. 348910.638510697\n",
       "223. 563715.588685706\n",
       "224. 448698.789036642\n",
       "225. 365749.037466998\n",
       "226. 633366.292932481\n",
       "227. 705234.099780817\n",
       "228. 506642.44056927\n",
       "229. 562465.862442625\n",
       "230. 618101.56452461\n",
       "231. 543759.839118336\n",
       "232. 256437.711757692\n",
       "233. 208264.467487008\n",
       "234. 473902.071858757\n",
       "235. 444883.980418136\n",
       "236. 416205.899330698\n",
       "237. 705660.196421487\n",
       "238. 490098.493800029\n",
       "239. 273411.564261389\n",
       "240. 287738.768747459\n",
       "241. 204236.41182418\n",
       "242. 378533.698042416\n",
       "243. 514374.273633336\n",
       "244. 507857.71522214\n",
       "245. 324890.543148445\n",
       "246. 491183.7311138\n",
       "247. 389954.784154359\n",
       "248. 410633.125051793\n",
       "249. 360640.095497674\n",
       "250. 361571.092862049\n",
       "251. 658339.897875401\n",
       "252. 604304.129384901\n",
       "253. 512204.911494066\n",
       "254. 446649.542938805\n",
       "255. 634537.51826859\n",
       "256. 551536.117025313\n",
       "257. 475941.09244228\n",
       "258. 926098.741666355\n",
       "259. 957499.663193545\n",
       "260. 593494.013574137\n",
       "261. 285690.887351742\n",
       "262. 673171.512861472\n",
       "263. 355569.732295616\n",
       "264. 589813.262391141\n",
       "265. 230217.988140475\n",
       "266. 439843.186158056\n",
       "267. 460353.047242279\n",
       "268. 777503.446626437\n",
       "269. 311878.81377862\n",
       "270. 428396.231110622\n",
       "271. 302587.295103832\n",
       "272. 582151.918481657\n",
       "273. 87743.943044596\n",
       "274. 556410.54259498\n",
       "275. 533313.244054646\n",
       "276. 176363.769607956\n",
       "277. 785077.064523067\n",
       "278. 418637.018011334\n",
       "279. 436219.235505046\n",
       "280. 691233.076628103\n",
       "281. 333508.779091372\n",
       "282. 313745.359413294\n",
       "283. 759753.402327211\n",
       "284. 369621.640990101\n",
       "285. 679349.298393724\n",
       "286. 789608.233131066\n",
       "287. -142644.519393283\n",
       "288. 418965.390805601\n",
       "289. 419874.332655244\n",
       "290. 376796.705322533\n",
       "291. 334453.95530078\n",
       "292. 456260.230152999\n",
       "293. 605941.311912856\n",
       "294. 319622.741904311\n",
       "295. 530751.149249873\n",
       "296. 368178.408063648\n",
       "297. 338946.96066205\n",
       "298. 529134.840689703\n",
       "299. 421470.744358361\n",
       "300. 507679.85660132\n",
       "301. 671826.370182981\n",
       "302. 339723.836036035\n",
       "303. 510102.366388912\n",
       "304. 467232.754361897\n",
       "305. 714407.15632875\n",
       "306. 390949.750094379\n",
       "307. 641224.939197337\n",
       "308. 550378.415293522\n",
       "309. 322205.424455196\n",
       "310. 395697.77785204\n",
       "311. 591626.156070004\n",
       "312. 265750.698428051\n",
       "313. 445136.853707293\n",
       "314. 76757.6833428658\n",
       "315. 331401.998960234\n",
       "316. 510695.15050246\n",
       "317. 100578.622958283\n",
       "318. 331185.533107477\n",
       "319. 188799.226201157\n",
       "320. 585965.888485896\n",
       "321. 544626.584847169\n",
       "322. 372191.43275641\n",
       "323. 696827.414956087\n",
       "324. 516952.118054806\n",
       "325. 239449.970392641\n",
       "326. 140057.784987902\n",
       "327. 469769.095537716\n",
       "328. 411621.097287184\n",
       "329. 785829.921909447\n",
       "330. 445536.232651801\n",
       "331. 400338.679811965\n",
       "332. 155061.182870752\n",
       "333. 649227.098392748\n",
       "334. 465920.500051449\n",
       "335. 431317.507668477\n",
       "336. 379073.22526964\n",
       "337. 525715.611839129\n",
       "338. 238652.687459884\n",
       "339. 75849.1772933055\n",
       "340. 533906.353733217\n",
       "341. 561913.903772515\n",
       "342. 442160.10175142\n",
       "343. 719259.240910494\n",
       "344. 585486.51627723\n",
       "345. 103942.031273148\n",
       "346. 412080.753118816\n",
       "347. 443651.758944419\n",
       "348. 518148.797022034\n",
       "349. 482087.491492433\n",
       "350. 342872.174567768\n",
       "351. 350010.053712555\n",
       "352. 109485.357917446\n",
       "353. 148642.872631684\n",
       "354. 341154.5575433\n",
       "355. 302540.394783952\n",
       "356. 142790.669815876\n",
       "357. 719400.847222448\n",
       "358. 286264.742974038\n",
       "359. 477493.565985527\n",
       "360. 445007.166701391\n",
       "361. 755767.370121179\n",
       "362. -24667.4717382627\n",
       "363. 726635.750450478\n",
       "364. 729161.325244257\n",
       "365. 570577.938781158\n",
       "366. 231514.323937508\n",
       "367. 807684.387736769\n",
       "368. 463690.83516524\n",
       "369. 354783.98561709\n",
       "370. 636241.869973049\n",
       "371. 18884.2694729688\n",
       "372. 291151.774508783\n",
       "373. 271200.727085467\n",
       "374. 413805.244586888\n",
       "375. 397371.961243042\n",
       "376. 578943.396814887\n",
       "377. 385395.964190361\n",
       "378. 345701.420882638\n",
       "379. 282210.613261237\n",
       "380. 449587.219992439\n",
       "381. 153064.175011123\n",
       "382. 355556.388973597\n",
       "383. 443800.674252968\n",
       "384. 431556.170769432\n",
       "385. 293452.163346255\n",
       "386. 473255.638703113\n",
       "387. 249271.284589726\n",
       "388. 627305.393671647\n",
       "389. 362972.250903608\n",
       "390. 377418.685759294\n",
       "391. 453702.423441879\n",
       "392. 170409.817161679\n",
       "393. 269016.373069862\n",
       "394. 324852.124777016\n",
       "395. 771335.223255448\n",
       "396. 439019.629874233\n",
       "397. 465156.683153804\n",
       "398. 636915.995974368\n",
       "399. 387259.135833514\n",
       "400. 353359.015886004\n",
       "401. 496283.433961235\n",
       "\n",
       "\n"
      ],
      "text/plain": [
       "    [1]  282087.7528  365011.5138  271613.8186  574312.0519  317545.0361\n",
       "    [6]  792767.0330  194488.7946  550935.9757  394036.6484 1006791.3296\n",
       "   [11]  470314.9935  701439.1642  382879.2278  613442.2366  258107.2645\n",
       "   [16]  260469.1609  664714.1381  448895.4294  289424.0230  223573.6167\n",
       "   [21]  688108.6885   57171.4520  706268.0737  481759.0662  439169.3313\n",
       "   [26]  562084.2782  503255.5617   14759.9049  429141.6766  411733.9132\n",
       "   [31]  759311.3361  667481.5967  425356.3854  527958.1465  337037.5464\n",
       "   [36]  385529.2328  148658.4448  717787.6824  151490.5479  512602.0099\n",
       "   [41]  639428.6260  359997.4496  131446.3237  465594.9142  657421.3750\n",
       "   [46]  846672.1774  435600.5849  613936.4083  270455.8023  443634.4911\n",
       "   [51]  434535.2148  603743.2631  483969.2981  399013.8692  474680.1930\n",
       "   [56]  743916.5961  417689.1942  450307.7745  300823.9015   50172.9020\n",
       "   [61]  222497.2603  331213.1849  432419.1453  444019.5011  526720.0309\n",
       "   [66]  389735.9176  444744.0420  585675.5804  498168.5664  401691.2009\n",
       "   [71]  491559.4778  461926.0962  568602.0764  319829.2347  317853.8278\n",
       "   [76]  254281.2195  280027.1893  179483.7861  333962.2873  384927.9646\n",
       "   [81]  552240.8729  787786.1735  394674.7810  486120.0049  526450.2622\n",
       "   [86]  455261.3340  520810.7176  256975.2315  524040.1484  355438.2997\n",
       "   [91]  458193.7722  267964.5446  251068.9407  346423.7684  284703.8358\n",
       "   [96]  530717.2529  479440.2026  674101.4377  399160.6699  587560.5328\n",
       "  [101]  549064.0265  123099.9975  158036.3350  250485.3235  682868.8358\n",
       "  [106]  231010.6278  404624.6014  424026.7707  352127.3280  325404.1287\n",
       "  [111]  313375.6869  527497.3864  213136.7883  874724.7775  206232.1163\n",
       "  [116]  571928.0708  619997.5818  582573.3928  224660.9834  343000.1472\n",
       "  [121]  421049.3995  534097.9436  212401.0693  200122.9182  251110.5395\n",
       "  [126]  472442.0161  501804.0024  301659.3922  420089.9854  447021.3000\n",
       "  [131]  763804.5379  223776.0485  460248.9357  540169.4534  396621.2048\n",
       "  [136]  413722.6396  372024.6380  460394.6415  542370.5987  813988.3843\n",
       "  [141]  515786.4541  573618.1763  663869.1048  541884.0180  217749.7101\n",
       "  [146]  307132.5501  199932.7602  663442.2838  694182.7736  674606.3473\n",
       "  [151]   29367.3132  222172.3723  395903.4758  341714.8963  -52006.1785\n",
       "  [156]  565545.5387  436385.5096  278982.5924  427788.4481  461842.8494\n",
       "  [161]  249973.0132  377314.8344  413050.4107  238427.5260  413759.4768\n",
       "  [166]  304701.2135  391252.2856  635196.5781  670429.7314  337206.9240\n",
       "  [171]  472960.1663  334330.7728  340629.4788  406256.5753  139086.0373\n",
       "  [176]  695656.5612  443500.6916  330941.6451  631314.9437  666683.0640\n",
       "  [181]  393753.1810  602023.5247  446391.3756  -78149.0106  452520.8325\n",
       "  [186]  343710.6519  181592.3318  367545.0424  325664.7437  315759.3728\n",
       "  [191]  318642.1408  743633.7388  264033.1224  589046.3965  236445.1159\n",
       "  [196]  338361.1172  415282.2602  290359.5076  399823.5931  268203.3145\n",
       "  [201]  376283.6759  328212.7297  345879.7415  520494.5192  381629.9637\n",
       "  [206]  521500.2816  623041.7304  877687.7715  273837.0676  555511.6706\n",
       "  [211]  436948.3791  515700.6398  379959.6246  268030.6659  431929.8862\n",
       "  [216]   51885.8829  659126.6933  614655.6659  397078.5476  283260.7665\n",
       "  [221]  460868.2848  399100.4310  465383.1367  382323.4223  779525.8837\n",
       "  [226]  743859.0825  377582.1269  290822.7309  343241.9392  349219.7654\n",
       "  [231]  439678.7201  428161.8713  435892.2411  469963.1863  313275.9491\n",
       "  [236]  475468.7928  735895.3296  521424.6990  622435.3907  377861.3028\n",
       "  [241]  252148.1965  493138.6443  206973.4766  300529.6282  317792.4495\n",
       "  [246]  465169.1680  418482.2435  233833.5636  647067.9047  310354.4581\n",
       "  [251]  553782.9415  687467.8317  511475.6951  580692.2207  406332.6001\n",
       "  [256]  485781.9788  415729.1370  382477.1330  447258.1082  579305.0813\n",
       "  [261]  112259.2724  710183.2736  489512.5310  385520.0840  301794.0018\n",
       "  [266]  227921.6527  630451.1048  416952.9652  445918.6715  551200.3325\n",
       "  [271]  714237.1927  477384.0460  911310.0082  545342.8168  392466.9255\n",
       "  [276]  510520.7518  164325.6269  576565.9978  218715.9414  736052.2450\n",
       "  [281]  596782.0359  435405.4324  393217.2036  136178.4091  648965.2332\n",
       "  [286]  572074.6029  252232.4780  369182.4060  344769.3385  771548.4856\n",
       "  [291]  723592.4208  606296.5592  453997.6386  261867.8914  404730.7283\n",
       "  [296]  104555.0650  544707.3396  160875.9108  791308.4193  549521.8513\n",
       "  [301]   91975.8034  386672.1232  368682.3575  478173.7342  577331.2246\n",
       "  [306]  483774.2794  734285.1233  356573.8638  178674.5987  578441.1323\n",
       "  [311]  565370.1868  443600.8714  355175.6805  486589.5259  595953.1189\n",
       "  [316]  142113.8261  350661.0609  439041.4293  495770.6487  389151.3681\n",
       "  [321]  328741.6903  498664.6791  811394.9433  100111.4225  176001.8416\n",
       "  [326]  366903.8437  536522.7540  382454.5162  333841.3683  495511.9190\n",
       "  [331]  419510.5402  451881.9763  584914.3111  469284.0397  515466.7110\n",
       "  [336]  382005.0070  749835.2425  365634.7501  651189.8529  510932.5861\n",
       "  [341]  856862.0487  449903.3264  428917.8359  391400.9425  489688.9078\n",
       "  [346]  433899.7480  541805.1479  225422.9448  221928.0122  293199.0680\n",
       "  [351]  561333.5618  368384.4931  633402.9322  672165.9145  647184.1015\n",
       "  [356]  576292.8550  534233.5156  694057.6409  281844.0487  635285.3144\n",
       "  [361]  425556.6911  741286.4477  278119.1380  174228.9698  573680.3400\n",
       "  [366]  377470.4729  444299.0266  727342.5272  320744.9580  467427.9373\n",
       "  [371]  499566.8789  461731.0847  799944.8484  359735.4694  427861.4096\n",
       "  [376]  567983.5748  344847.7210  498958.5624  556112.6968  330973.5747\n",
       "  [381]  478836.0697   45660.2086  464355.7479  154433.7966  678265.8643\n",
       "  [386]   69238.5455  430440.2580  252822.7577  286732.6979  691209.7017\n",
       "  [391]  238528.4211  313868.3534  752003.9115  609263.7541  110173.3001\n",
       "  [396]  724509.6980  357747.0014  605634.8547  524870.7546  296821.0578\n",
       "  [401]  465311.2758   11183.7092  364477.0957  402671.6452   16044.5553\n",
       "  [406]  361785.2656  297500.5909  473638.9412  607809.3016  320052.7740\n",
       "  [411]  181836.5064  438325.7153  317281.8046  271325.8691  558779.4157\n",
       "  [416]  423003.0867  612027.3813  607014.3001  526585.0251  625851.0305\n",
       "  [421]  389586.8623  298352.9974  719624.6609  329615.0414  320531.2472\n",
       "  [426]  505523.3424  626451.0907  474663.6009  545110.1941  523124.8157\n",
       "  [431]  487431.9430  236930.6594  404590.5112  272474.0203  452091.7715\n",
       "  [436]  264898.6517  555776.6264  564273.8697  550348.5378  496858.1233\n",
       "  [441]  528003.2026  615429.3797  339872.2929  468175.8954  402884.6290\n",
       "  [446]  513537.9418  236228.2512  328335.3981  707088.3950  491184.4480\n",
       "  [451]  233271.0585  569450.9563  314883.5447  406616.4426  571328.2358\n",
       "  [456]  670693.2183  319222.4286  587194.6649  318730.0315  584188.9357\n",
       "  [461]  154233.7769  484639.4314  546495.6891  564530.6732  518212.2439\n",
       "  [466]  219529.3421  495154.2397  401898.1277  867544.4842  429475.9843\n",
       "  [471]  589401.3782  283529.6174  430767.4979  461301.2662  340406.6516\n",
       "  [476]  532831.2555  375906.0285  466771.6125  504302.2157  164722.5136\n",
       "  [481]  275203.3686  517959.2620  210809.6153  324282.4882   97596.0322\n",
       "  [486]  473120.0437  456307.9198  649909.1531  321204.8952  424782.8592\n",
       "  [491]  424584.7718  157343.3647  556804.2887  381579.1744  765278.8797\n",
       "  [496]  621012.9353  391276.8989  297625.1063  445464.4331  300028.5201\n",
       "  [501]   76071.6025  359067.2603  545178.6809  772352.6108  607293.8927\n",
       "  [506]  672057.0377  523241.8155  305098.8478  530679.1733  307910.4474\n",
       "  [511]  497847.3686  146672.1549  257244.9302  494009.3458  430763.0615\n",
       "  [516]  289364.2289  299037.1204  376306.8825  413586.6234  535297.4580\n",
       "  [521]  619622.4166  174551.4757  264732.6664  623983.1735  479628.2185\n",
       "  [526]  570334.7377  300615.9407  406184.2653  385657.4178  359734.5689\n",
       "  [531]  342733.0343  135075.0533  168534.4096  611889.9389  537057.3792\n",
       "  [536]  390616.8878  427379.2492  554661.0610  636433.2689  725418.4283\n",
       "  [541]  453363.0161  596206.6817  699828.4284  343900.2510  526890.0174\n",
       "  [546]  578780.6238  492099.8696  457339.4427  522104.3477  206099.0174\n",
       "  [551]  319045.4275  333587.6698  578854.4226  434372.5941   82062.2376\n",
       "  [556]  496670.4158  332805.2230  609358.0557  273077.2212  566435.1080\n",
       "  [561]  599750.2457  753216.0982  630891.4396  139497.6134  219392.1277\n",
       "  [566]  141724.3151  317280.6715  391959.1351  300566.5514  175722.9670\n",
       "  [571]  321763.2942  211707.9985  389938.2184  470471.7911  512583.1001\n",
       "  [576]  -28340.8130  291316.1956  838023.6317  450469.2311  464148.4279\n",
       "  [581]  405332.2170  551857.6193  279639.1704  415755.1868  311229.5537\n",
       "  [586]  490456.3060  656104.7066  431540.5799  415887.6587  716358.9810\n",
       "  [591]  250735.2434  433746.2005  606480.8602  353390.9718  722693.3850\n",
       "  [596]  313019.2544  592472.0605  660171.8743  275152.1279  430597.2189\n",
       "  [601]  374991.7973  381619.3504  514407.1284  280413.9223  272730.1043\n",
       "  [606]  474990.7904  527785.2414  121585.3795  360004.2962  109686.7707\n",
       "  [611]  347862.7418  527936.7474 -191893.6408  340286.0094  397405.4304\n",
       "  [616]  449890.2244  470674.9743  379410.8080  676401.5630  335574.0128\n",
       "  [621]  325354.6861  587051.4335  334667.4646  365837.8770  526669.0221\n",
       "  [626]  295095.9819  415867.7488  555342.4366  249653.1096  598311.4062\n",
       "  [631]  370314.8909  535765.6497  516745.7390  471199.3520  528558.6573\n",
       "  [636]  337752.0300  774687.3987  426115.3651  250768.6479  617631.3389\n",
       "  [641]  250766.7837  418858.6322  443541.1291  600189.9514  423268.4683\n",
       "  [646]  660796.6801  533148.0028  320560.6298  305541.7647  368223.1630\n",
       "  [651]  235491.4471  623896.4862  548216.3510  462604.3678   21134.6654\n",
       "  [656]  732647.1357  292689.7400  583534.8048  180404.4578  453751.6057\n",
       "  [661]  560285.6693  267153.0801  484160.6055  672585.9125  751340.6654\n",
       "  [666]  286381.0723  285150.5141  496327.0226  388597.8087  813102.9151\n",
       "  [671]  240828.9379  364484.5889  -34716.0736  197775.5272  591565.1636\n",
       "  [676]  546203.9506  789275.9753  156874.9210  549186.2109  356090.2557\n",
       "  [681]  -90782.3786  305957.2784  515343.8416  455565.5814  102485.8718\n",
       "  [686]  689790.7686  380479.9101  231559.6419  565912.3701  323730.5327\n",
       "  [691]  528073.5226  532728.8856 -133418.3269  431633.8305  657005.0389\n",
       "  [696]  936951.8637  615909.0156  762581.9926  576375.3504  749288.7431\n",
       "  [701]  506520.1616  639738.3607  466802.0044  429517.4345  519368.1009\n",
       "  [706]  106233.8719  272821.2740  362713.9109  345164.7960  350783.4212\n",
       "  [711]  680175.5521  240560.8203  266774.1154  289442.9087  410367.8795\n",
       "  [716]  564781.4993  461081.6291  509237.1920  493080.4178  574239.9603\n",
       "  [721]  567555.6336  672743.4349   30179.0267  636357.6693  437222.8949\n",
       "  [726]  344407.7321  413280.9956  544566.7839  492708.6703  577199.5323\n",
       "  [731]  211089.0010  499315.9431  334412.4050  154859.8729  679073.0038\n",
       "  [736]  -68649.4471  231817.3817  285635.8186  882352.4831  484246.5654\n",
       "  [741]  581249.3345  640393.3051  705086.8081  545121.9272  353595.9270\n",
       "  [746]  385678.9519  659987.6943  185063.9808  261524.6194  729342.3933\n",
       "  [751]  289605.9067  131718.8548  738471.7822  469890.1007  394966.5437\n",
       "  [756]  636980.8429  585531.1111  698962.5904  380330.0453  417380.2441\n",
       "  [761]  369300.3049  606225.2428  534045.6578  368514.6818  651556.3416\n",
       "  [766]  299125.3152  203634.9148  562447.4528  350120.4404  317192.9786\n",
       "  [771]  650452.8287   65561.3354  131138.9251  603448.4651  620434.1275\n",
       "  [776]  114270.2091  516072.7242  458435.2350  223432.4927  286235.5133\n",
       "  [781]  353163.6240  543105.1681  757920.8737  700126.6057  905799.9692\n",
       "  [786]  265474.6121  453860.9157  681670.0752  573061.9902  395083.9140\n",
       "  [791]  188156.1445   43243.7094  527421.5351  300631.8294  514985.3427\n",
       "  [796]  449942.5009  276543.9246  181101.7886  286995.5630  332607.9999\n",
       "  [801]  478557.0097  733151.6513  325565.9312  283195.6768  655799.5307\n",
       "  [806]  303544.0666  639161.6176  454767.8363  673370.2082  462750.8569\n",
       "  [811]  520846.1791  650005.0488  746710.3561  517854.1068  553190.6114\n",
       "  [816]  348438.3742  273951.0480  364102.4794  523470.7256  729425.4496\n",
       "  [821]  290521.8196  613521.7059  572953.0881  418946.8950  271872.1156\n",
       "  [826]  407207.9660  321387.1873  557642.8273  486509.9123  468173.8237\n",
       "  [831]  626762.9371  194215.7153  486970.2952  184836.8097  704218.7571\n",
       "  [836]   54604.0815  352259.0033  425309.1443  408001.7831  132904.0422\n",
       "  [841]  588725.7000  600685.8194  330367.9916  629461.8086  625446.0458\n",
       "  [846]  600104.4777  411610.9068  376006.7399  214794.9268  -35269.4105\n",
       "  [851]  634473.0677  680333.6774  777466.7855  254500.7670  454322.1881\n",
       "  [856]  515334.4306  482693.1647  346145.1437  339305.6965  252339.0783\n",
       "  [861]  549656.4965  546447.0325  122753.6793  510018.7497  529243.1260\n",
       "  [866]  286523.5176  625079.6037  720970.1512  563020.3202  427275.5342\n",
       "  [871]  682350.2638  636773.1910  494038.6459  577989.5857  480833.7901\n",
       "  [876]  520287.6020  415235.6167  263897.2444  269522.2688  526269.4224\n",
       "  [881]  242532.2170  536526.1343  430514.1729  185395.2291   88127.7163\n",
       "  [886]  287411.5660  417056.5461  472256.4147  546094.7124  189189.1604\n",
       "  [891]  478212.3387  502172.8964  538213.7718  374041.4118  319672.2370\n",
       "  [896]  228281.3364  736797.2260  534411.6651  612631.1204  393440.1240\n",
       "  [901]  239612.0827  484219.7435  523534.1078  323034.6561  292946.6413\n",
       "  [906]  587345.8412  631644.9497  618874.0098  351854.9673  394285.6986\n",
       "  [911]  369171.9320  426594.2415  479594.6035  202768.3275   52576.2603\n",
       "  [916]  424404.8445  447259.0078  244772.1097   52901.2330  437584.4299\n",
       "  [921]  587140.3904  377848.0669  443803.5981  336776.9074  284920.0762\n",
       "  [926]  275562.1816  661190.4952  457336.8216  668243.4987  410453.8371\n",
       "  [931]  510497.0261  182827.9040  504412.6764  161078.5577  227864.0968\n",
       "  [936]  632529.8977  509610.6918  504298.8950  390508.1943  -85144.3482\n",
       "  [941]  515706.2125  239486.9370  454732.5997  393393.4839  574277.2367\n",
       "  [946]  246927.4120  535912.2394  265356.1701  239926.6926  214619.0752\n",
       "  [951]  606257.1587  515233.9892  138979.2239  597449.0994  578459.9613\n",
       "  [956]   86114.8943  127821.2887  322010.7260  383521.6844  285668.0195\n",
       "  [961]  369559.9634  206154.3696  381132.0877  199294.4643  402402.9497\n",
       "  [966]  280835.4154  469157.7024  482156.1422  103103.7181  379566.3669\n",
       "  [971]  650292.8685  514595.7930   84218.8540  319554.5454  333693.7254\n",
       "  [976]  668744.7676  626611.3315  310755.7789  422456.6129  547567.7785\n",
       "  [981]  596491.7604  451421.6570   88946.8262  473711.7214  820624.2415\n",
       "  [986]  174637.1386  523260.8355  376890.2158  148907.0063  171270.1615\n",
       "  [991]  262792.0014  384500.0345  200000.2626  569237.1123  709678.8803\n",
       "  [996]  319171.0523  653919.3746  599528.7012  449851.7383  547332.0859\n",
       " [1001]  481498.9943  417256.6401  592987.1878  407302.6119  710566.8765\n",
       " [1006]  377653.4268  455770.3966  288938.7819  513725.8301  776744.8988\n",
       " [1011]  626277.0763  613439.6056  359675.0787  802513.2537  362656.2076\n",
       " [1016]  198728.7937  448194.6612  406190.1948  615677.9001  394658.5961\n",
       " [1021]  514529.9261  235756.0630  605464.9281  583897.5299  663689.5373\n",
       " [1026]  380627.0550  323243.0378  712110.1028  454695.1253  645748.8720\n",
       " [1031]  223211.5593  421319.6829  421193.7334  399459.4223  279525.5822\n",
       " [1036]  639126.1081  311952.7932  557933.7106  526127.5746   81296.5322\n",
       " [1041]  356572.8000  439455.5883  346680.3053  352130.6017  506999.7587\n",
       " [1046]  248760.3253  426060.4796  302422.0839  788554.1190  290849.2076\n",
       " [1051]  371952.9209  749806.9893  455754.9354  507026.2459  652824.2720\n",
       " [1056]  370414.8287  504703.7822  349351.1542  593380.0647  205748.2091\n",
       " [1061]  363776.6440  496140.3241  657225.2583  741376.9969  271717.3696\n",
       " [1066]  433302.2983   55248.0838  642722.8793  598778.4703  479143.5177\n",
       " [1071]  540906.0234  532779.2831  487779.4881  508736.8354  210488.5077\n",
       " [1076]  508156.7346  390945.8986  255962.6435  488529.5544  227572.9844\n",
       " [1081]  535725.4460  382687.3780  283806.3311  506831.3388  306565.8103\n",
       " [1086]  587362.4784  323494.4092  521167.9023  441635.7157  484763.5070\n",
       " [1091]  566376.7148   80086.5718  335886.8889  550089.8867  455227.2830\n",
       " [1096]  411619.8619  691336.6006  519929.1279  450600.3429  360270.5972\n",
       " [1101]  372187.0597  108667.5981  398477.1476  283966.7364  419883.7602\n",
       " [1106]  322340.5002  408586.8163   61326.5616  444135.8835  621452.7972\n",
       " [1111]  511703.4388  500741.8771  417620.3835  621447.4310  622078.5092\n",
       " [1116]  441825.0593  724884.6159  179617.9543  471743.8819  231007.6472\n",
       " [1121]  623593.6451  119686.6184  479705.9313  665206.9723  535675.7617\n",
       " [1126]  507516.0100  284113.6557  722507.0751  624938.6455  170052.8877\n",
       " [1131]  256683.1630  314864.6898  507332.8161  453215.3997  661925.2227\n",
       " [1136]  611066.3861  204080.6406  720351.0210  460009.8904  353873.8154\n",
       " [1141]  804476.9711  423082.5943  363881.9462  529101.2482   12886.1466\n",
       " [1146]  350184.3207  500205.5308  365952.8349  408481.4306  224096.3080\n",
       " [1151]   22831.4285  426174.0886  570957.6837  336113.6511  708278.5103\n",
       " [1156]  436603.7291  375498.4562  809263.7872  366378.6816  466731.9264\n",
       " [1161]  514832.9495  520699.7775  144147.5212  511344.3053  525145.2829\n",
       " [1166]  268282.7862  467589.3480   79147.4269  376431.7494  332322.9822\n",
       " [1171]  567994.1254  511806.3712  262787.2630  551491.9299  415000.1863\n",
       " [1176]   53602.9520  404572.4388  398460.4555  381068.8918  130773.0158\n",
       " [1181]  288503.9920  281645.3861  380191.8202  668069.8944  373571.1057\n",
       " [1186]  443197.6342  455528.6982  518137.3990  230913.2264 1005181.8478\n",
       " [1191]  337750.6290  452793.9712  498390.4192  520641.8239  170277.5432\n",
       " [1196]  809002.9430  406040.2939  575348.5207  350869.0607  660548.6096\n",
       " [1201]  381757.0258  550933.0453  353275.3108  359476.4229  129984.8233\n",
       " [1206]  487319.8137  491493.9047  444907.4994  449016.7536  266362.1161\n",
       " [1211]  729483.1358   99449.6591  490408.8585  589298.9305  432304.5465\n",
       " [1216]  462145.5137  197771.1550  329776.8650  332995.2288  508316.9519\n",
       " [1221]  470167.1662  593258.3398  672924.4355  683665.5809  417789.8961\n",
       " [1226]  548051.5174  287387.1419  628018.0832  386372.8772  376318.7581\n",
       " [1231]  354235.2961  311605.7172  521029.7110  492606.7250  206597.3169\n",
       " [1236]  601281.8420  564854.0280   58954.0070  374486.6946  672800.5330\n",
       " [1241]  416379.3359  444248.2093  678387.8179  346297.8887  402904.8813\n",
       " [1246]  458512.7376  198700.8590  251908.7837  284313.6971  453426.0899\n",
       " [1251]  321197.5197  318386.1298  458641.9486  335072.4650  475937.7061\n",
       " [1256]  339367.4363  359781.2750  267143.5787  494496.4371  482644.7070\n",
       " [1261]  649394.4902  327187.4209  660457.8604  471262.6882  626783.1874\n",
       " [1266]  374205.8359  443409.3890  328384.5131  546525.1130  527737.6530\n",
       " [1271]  112787.5953  726541.7862  574848.7000  275347.7320  406301.1036\n",
       " [1276]  895812.6070  289942.2168  524704.8584  659638.9171  357602.4329\n",
       " [1281]  368995.7372  446937.6440  833466.8476  258860.2458  211397.4943\n",
       " [1286]  676639.3951  398495.1869  679859.5663  548980.7415  321660.4833\n",
       " [1291]  377999.3912  401352.7226  414473.0463  582060.9598  435984.5676\n",
       " [1296]  357129.8117  586612.1400  582409.4457  768615.8457  402988.1595\n",
       " [1301]  440658.8020  327484.8763  409411.2546  443011.8907  425470.4852\n",
       " [1306]  480525.8294  624512.1359  604039.6342  597996.8402  451309.9342\n",
       " [1311]  438722.5063  398995.6984  269599.4078  359304.5762  135180.9424\n",
       " [1316]  257107.6119  237001.5598  402472.6980  590735.3049  413356.6422\n",
       " [1321]  136378.7684  661610.2268  600987.0201  447259.9778  517380.4570\n",
       " [1326]  651238.2455  274372.3791  605597.8382  302767.6053  330344.9673\n",
       " [1331]  -74977.0917  244167.4424  676842.3261  685936.9586   96072.3753\n",
       " [1336]  291057.9244  428855.3452  509479.7727  396519.9146  278397.2627\n",
       " [1341]  409594.5406  485373.0393  126470.1852  218505.5179  586878.0570\n",
       " [1346]  643297.8086  616109.5372  490498.3810  242609.4618  580145.6071\n",
       " [1351]  579243.0304  176494.2044  480693.2084  473383.1645  413753.3131\n",
       " [1356]  344288.9737  406171.8763  518552.2978  329135.0626  476457.9538\n",
       " [1361]  711058.2764  313479.1097  235637.9938  573840.7600  461364.4930\n",
       " [1366]  483643.4065  432858.9077  213560.9470  548699.4851  339892.4505\n",
       " [1371]  427144.2073  671683.2540  555264.0534  274867.9756  660437.3896\n",
       " [1376]  386449.3560  257674.6524  241608.2832  537723.6702  454121.7977\n",
       " [1381]  594430.1082  779988.8489  384664.4395  413820.9954  569545.9168\n",
       " [1386]  480375.5172  568321.8225  503714.5163  528602.2880  468773.6857\n",
       " [1391]  141568.0683  457563.2167  586456.6811  685210.5291  430781.1108\n",
       " [1396]  451473.8470  865295.8286  296303.6798  400386.8275  320302.8478\n",
       " [1401]  416007.2849  367333.7408  394359.2630  654718.7546  251989.8518\n",
       " [1406]  559860.6831  500974.9216  442092.5874   84632.3472  509292.8030\n",
       " [1411]  428974.6141  425799.3525  211367.8193  192277.0983  703898.5208\n",
       " [1416]  420739.5058  672350.3878  424247.1591  473563.7917  460925.5257\n",
       " [1421]  615377.0027  424442.2316  353498.7523  155938.6885   42401.3500\n",
       " [1426]  522887.8937  495492.8930  364070.8046  467862.5001  523366.2931\n",
       " [1431]  315989.2696  208815.5708  833293.4370   41304.1464  813814.1622\n",
       " [1436]  347852.6029  497919.2745  428115.9019  176221.1075  375289.1094\n",
       " [1441]  148062.7826  389677.0651  348794.9930  419243.1946  603110.9428\n",
       " [1446]  395931.8889  505267.7125  529601.7115  558826.7499  427445.1352\n",
       " [1451]  473759.9987  713208.7631  534098.3293  513393.1509  103261.1071\n",
       " [1456]  -52409.5815  369429.3325  136176.4482  278641.6180  299775.1806\n",
       " [1461]  460909.8342  467163.4374  130070.5345  269834.0752  382550.7541\n",
       " [1466]  464382.3211  607805.5675  254013.1774  549411.9223  212327.3932\n",
       " [1471]  595384.1969  357240.4914  374854.9276  388713.1487   30624.2035\n",
       " [1476]  797369.5646  591716.2027  745596.4246  390782.3766  316462.4794\n",
       " [1481]  658584.9579  354419.0371  479460.0172  467476.5343  642160.9778\n",
       " [1486]  588070.5253  517332.2276  176246.6986  722702.2647  383534.4832\n",
       " [1491]  515985.6435  418520.7408  501052.4223  679255.9167  317195.7761\n",
       " [1496]  417727.8388  719400.1951  240743.5522  278309.7136  353497.3771\n",
       " [1501]  403415.0858  260912.0915  349674.1117  174119.1054  308047.2548\n",
       " [1506]  358981.7579  308033.1248  522794.5003  514798.3587  432699.5653\n",
       " [1511]  275803.6521  421663.2538  376109.0058  769698.2409  413655.3539\n",
       " [1516]  144677.0119  250160.1557  -29267.7711  483028.8488  517748.0726\n",
       " [1521]  221316.5123  219667.7683  403229.0062  527064.8867  393193.9565\n",
       " [1526]  326142.7793  667948.5925  804031.1065  663265.4305  254067.6814\n",
       " [1531]  373565.0443  886883.6316  543368.9047  520708.1969  480554.0642\n",
       " [1536]  652720.1848  671530.6530  512616.3080  351507.6549  534132.1976\n",
       " [1541]  475649.7198  579341.4806  210981.4204  375953.1189  517412.8051\n",
       " [1546]  332716.2447  338963.8852  247644.0013  576255.2825  456504.9180\n",
       " [1551]  373928.3329  438391.7051  340811.6858  428428.9567  456045.8544\n",
       " [1556]  335894.6381  169981.2305  699046.3922  695845.6487  200398.6547\n",
       " [1561]  271088.4934  605070.1202  615643.9777  406346.9006  407879.4037\n",
       " [1566]  335357.0193  527117.3454  663181.2795  211428.0343  380815.4352\n",
       " [1571]  332582.6770  599233.5176  569107.7625  337737.0790  621009.1172\n",
       " [1576]  800077.6225  521462.3702  506621.8677  564465.5265  346757.4782\n",
       " [1581]  305017.6471  323270.0877  643162.7144   18037.1784  254912.8234\n",
       " [1586]  712307.1014  561265.8507  536978.6415  658577.8723  781580.8534\n",
       " [1591]  476525.2978  653764.6681  586690.2263  382011.8399  423266.4112\n",
       " [1596]  819293.7207  356100.5330  527805.6788   91192.3640  470748.3919\n",
       " [1601]  605071.4972  368145.4375  549319.1242  742136.4415  427735.2315\n",
       " [1606]  165783.9373  803566.9288  520290.3899  333464.9125  416129.5279\n",
       " [1611]  616447.9743  502934.2240  593300.1004  561908.2562  518840.6480\n",
       " [1616]  621608.8190  208788.7041  556856.7546  459100.8938  303629.4241\n",
       " [1621]  902190.3657  558581.2906  467643.8279  758962.2476  688083.0765\n",
       " [1626]  478225.2646  176069.6750  227107.5077  310372.7395  446647.4132\n",
       " [1631]  117534.4968  430826.8699  143437.2656  568664.5504  131152.3383\n",
       " [1636]  494033.2264   21183.4346  230496.7467  849555.0421  913959.5915\n",
       " [1641]  504891.3725  333688.9001  649076.7814  481445.1314  610466.0916\n",
       " [1646]  517189.1078  534305.6325  270131.5779  259526.1787  738123.0437\n",
       " [1651]  391797.4104  366755.1899  388971.7221  470800.8693  428303.0760\n",
       " [1656]  648469.7962  672255.2162  510026.4288  401483.0247  520481.5495\n",
       " [1661]  558516.1743  385343.7919  712851.8642  310995.9284  611809.4915\n",
       " [1666]  426442.1078  648543.8353  484777.4074  232328.9940  193648.8398\n",
       " [1671]  239757.1210  672032.0441  537400.3648  534230.1723  473219.2737\n",
       " [1676]  382418.8054  416012.1630  433797.7861  561681.3642  420006.0616\n",
       " [1681]    -274.3647  272069.4230  492728.8460  384155.8439  433174.9474\n",
       " [1686]  744991.1277  629975.4114  180205.5637  669767.8356  407345.2308\n",
       " [1691]  500576.5541 1046837.2445  342848.1291  321031.0346  251906.7243\n",
       " [1696]  686452.5592  483404.8140  336339.2135  412348.5915  456432.9990\n",
       " [1701]  486433.3678  101805.3569  589365.4043  353297.7635  335079.5653\n",
       " [1706]  280011.4167  416468.8296  408775.6227  122192.5174  372105.9207\n",
       " [1711]  568626.9050  464413.0179  293714.0130  421206.3987  414084.8213\n",
       " [1716]  642813.3179  208900.6528  466200.5711  515956.6024  320746.3639\n",
       " [1721]  478617.8399   -1660.0709  392379.9127  405264.3847  500762.6647\n",
       " [1726]  551632.5495  547208.8501  329053.0527  460702.1567  207620.1775\n",
       " [1731]  271154.6948  624658.8416  859964.3406  150723.8877  510025.1495\n",
       " [1736]  203809.4802  168545.1167  544799.4140  521220.3665  598776.6896\n",
       " [1741]  632085.9130  302801.1378  496821.4850  493287.9792  868529.5441\n",
       " [1746]  669482.8091  578121.2375  481291.8098  468359.1451  689091.6796\n",
       " [1751]  353498.5779  315203.2077  479106.7264  622762.0408  549510.9767\n",
       " [1756]  179077.6697  569403.2674   93892.8126  256778.5621  205695.8383\n",
       " [1761]  400478.0022  233496.7881  181379.8141  355839.1197  728236.2470\n",
       " [1766]   37686.5111  456819.5015  492072.1716  507204.1979  488357.0214\n",
       " [1771]  568081.2710  495286.3115  273071.9476  418582.6030  508026.9287\n",
       " [1776]  310393.0571  302946.6786  342847.7966  390676.5974  172644.4469\n",
       " [1781]  299900.3198  360469.6109  464276.0825  334350.6914  394574.7974\n",
       " [1786]   34492.2783  314027.5017  441599.0077  332276.8152  615757.5038\n",
       " [1791]  310346.9046  709780.8457  282996.2341  129677.6349  314247.6290\n",
       " [1796]  584133.2492  294053.5509  304745.6526  658240.0693  516556.0320\n",
       " [1801]  493076.7537  355297.5365  745494.9173  394010.0759  708379.3739\n",
       " [1806]  620961.7021  235882.1883  302513.8860  358028.7599  231037.3498\n",
       " [1811]  626874.7521  515616.9165  426074.7610  181525.7581  366291.1403\n",
       " [1816]  459814.6100  300265.6801   52817.1401  669008.8574  310854.0973\n",
       " [1821]  331917.5306  605548.3173  580878.0261  613769.4816  362335.5288\n",
       " [1826]  346978.1451  490137.9307  536065.3609  170334.4688  613910.4410\n",
       " [1831]   92739.8786  622164.7196  677495.0063  443189.4654  541216.8188\n",
       " [1836]  597961.9255  630941.4828  519535.8859  477789.3606  359573.2489\n",
       " [1841]  541295.9417  393781.5087  169251.3524  497883.8846  724368.8943\n",
       " [1846]  570826.7381  842259.1139  482163.8604  527065.2564  296667.1616\n",
       " [1851]  309850.1946  524826.4392  665484.5963  383216.1840  567203.1499\n",
       " [1856]  167476.1546  243742.3092  530791.9363  229325.7452  601354.2528\n",
       " [1861]  397864.0982  259334.0395  292598.2446  267117.9734  484729.7877\n",
       " [1866]  505870.2940  554481.4439  700759.1431   22716.5493  629135.6801\n",
       " [1871]   73976.5449  255691.4819  301134.0387  582320.0850  129320.4710\n",
       " [1876]   60253.2554  190011.2229  401529.3412  729773.3688  342316.1972\n",
       " [1881]  470707.4649  498495.6493  263808.6231  270571.2477  384705.4173\n",
       " [1886]  590217.6107  178977.8890  197621.2614  515406.8440  503523.1877\n",
       " [1891]  351380.9694  477191.7343  449483.5984  467782.8780  438083.0340\n",
       " [1896]  249824.6351  377761.9274  518205.5392  669148.7476  468152.7691\n",
       " [1901]  449057.5786  227341.2971  672870.9859  349658.9819  510849.0761\n",
       " [1906]  472034.6049  735630.4575  562015.8170  400228.1763  769034.8261\n",
       " [1911]  328580.1797  426945.1430  243657.1643  532691.2357  427394.4139\n",
       " [1916]  276140.9015  558847.3803  593742.7760  683517.0389  405637.4785\n",
       " [1921]  447674.8397  334435.4613  509034.8811  159228.2197  360596.7727\n",
       " [1926]  544548.1218  331029.9204  894950.6532  920797.3397  506274.1186\n",
       " [1931]  707135.6986  291801.3721  199792.6160  582905.9420  156841.1322\n",
       " [1936]  317178.4464  533081.2213  524359.6177  236178.9652  486271.7894\n",
       " [1941]  433684.1043  462500.0547  417110.7065  625118.2986  676748.6454\n",
       " [1946]  369490.1099  386334.0287  440688.2867  704828.7151  571090.3617\n",
       " [1951]  521463.9124  770555.3903  350824.2847  499391.4757  345659.3873\n",
       " [1956]  300470.6272   97346.9708  317242.1353  423794.2834  600217.6149\n",
       " [1961]  524155.2962  202786.9958  377178.2322  592872.4778  626639.3885\n",
       " [1966]  248942.3920  478112.1367  489623.7326  493550.5256  282397.4497\n",
       " [1971]  594116.5104  306638.3063  231110.8615  436392.3396  455851.1646\n",
       " [1976]  394147.1391  722174.7986  378341.3138  306575.5140  372059.7502\n",
       " [1981]  658552.9723  678982.7814  805682.3368  327456.7587  171728.8484\n",
       " [1986]  465481.1981  341365.9812  182781.2298  264880.6197  365334.6747\n",
       " [1991]  650503.0224  199445.4399  762287.6000  357421.3779 1193091.7842\n",
       " [1996]  475816.1409  398746.8049  347056.9535  677941.4449  360746.3347\n",
       " [2001]  317310.7873  318782.8648  781733.0877  -35521.3902  279275.9905\n",
       " [2006]  371682.0806  417458.7115  629132.9972  454091.1781  596147.2757\n",
       " [2011]  837101.7124  592123.9824   53523.3914  244683.2038  414029.8615\n",
       " [2016]  428261.0203  804989.0329  200576.3127  701957.8150  459037.1443\n",
       " [2021]  583834.1728  230260.6444  287559.3938  211484.8472  405048.8253\n",
       " [2026]  339381.5170  472390.3624  458453.3138  196247.4854  489692.2671\n",
       " [2031]  464031.5391  118408.1688  390257.6163  389861.2157  262104.3806\n",
       " [2036]  416311.5167  377655.6214  355707.3434  339929.6941  701610.3530\n",
       " [2041]  343335.0331  504291.6716  331698.8784  204056.9509  305986.8037\n",
       " [2046]   33612.1269  469266.7078  589529.3073  480293.5655  -13731.4575\n",
       " [2051]  243339.6911  406157.3201  257451.2346  639683.6320  612381.8147\n",
       " [2056]  654590.6619  381881.4235  609858.1323  187717.7590  328227.2102\n",
       " [2061]  667529.6877  469589.0341  757924.4012  633682.2919  566912.6446\n",
       " [2066]  345496.4166  369388.5176  337101.7287  477381.2682  303151.9639\n",
       " [2071]  522368.3797  891254.0616  405373.6011  374154.6140  610330.1409\n",
       " [2076]  420899.7308  490148.2228  633891.3242  347200.1160  452434.3929\n",
       " [2081]  647711.5822  575326.6172  661267.4651  482599.8068  497007.9710\n",
       " [2086]  507924.5309  296339.4860  849037.9747  556042.1307  178936.8325\n",
       " [2091]  185313.8840  368836.8972  580554.0263  111723.7378  521848.0023\n",
       " [2096]  450784.3701  508802.7192  248231.8160  245694.0447  554875.8764\n",
       " [2101]  423230.8986  598912.6839  625518.5464  312767.3392  389390.5272\n",
       " [2106]  503956.2988  720711.3982  158459.9224  829561.5418  397691.0134\n",
       " [2111]   87924.7774   81030.1608  670763.3162  537394.6043  570357.7928\n",
       " [2116]  727824.9721  405032.4221  641542.7593  266615.9346  106508.8440\n",
       " [2121]  379846.4190  531726.7416  789399.6374  508855.4280  508959.7627\n",
       " [2126]  560177.0861  570186.7941  451184.8739  706040.3211  367968.3686\n",
       " [2131]  580443.3051  753981.1838  115861.5838  511301.1318  361823.9019\n",
       " [2136]  324123.4617  758060.6547  349553.7815  461931.6614  289463.3081\n",
       " [2141]  318179.7976  451661.7401  464874.5667  797237.9701  469865.0424\n",
       " [2146]  498609.7623  331418.5058  436075.1010  327864.7337  561676.7454\n",
       " [2151]  612237.4353  721180.1754  127137.2124  501149.8460  348502.6603\n",
       " [2156]  624520.3303  153530.8602  107041.3791  533918.9446  631730.0765\n",
       " [2161]  177334.0951  486078.9890  393296.3955  167559.7705  585507.6468\n",
       " [2166]  304926.6576  284975.1979  266345.7092  727512.1765   55469.0722\n",
       " [2171]  317371.3235  144133.7511  521923.7751  425023.9546  271191.9423\n",
       " [2176]  282204.8588  442426.8635  380528.4698  418854.8915  166639.0775\n",
       " [2181]  546284.0199  536240.2553  526972.9057  453520.9443  654975.6064\n",
       " [2186]  437352.6319  193791.4030  773115.5745  231471.0737  969059.4631\n",
       " [2191]  473853.2915  424096.1348  240769.2148  449539.4436  530123.7467\n",
       " [2196]  364598.3584  337654.0512  664849.2132  684503.5603  436235.9387\n",
       " [2201]  374048.1239  610189.1968  412550.2164  689266.4658  -61742.8523\n",
       " [2206]  273705.8462  378065.0345  452742.5957  541991.6759  266820.9187\n",
       " [2211]  248088.3440  635401.8886  618995.0615  432660.2406  831744.4174\n",
       " [2216]  326244.9029  349625.2739  268461.9975  436676.2733  432728.9184\n",
       " [2221]  247131.2118  331648.0923  566014.4403  543049.5802  456149.2773\n",
       " [2226]  651488.9374  276044.4027  162981.8386  389915.7775  500964.5017\n",
       " [2231]  990754.2290  510959.0840  457664.9881  245016.9709  420704.5462\n",
       " [2236]  643749.3196  343662.4884  387287.7598  481516.4001  410684.9909\n",
       " [2241]  198969.9708  617454.4055  459459.9928  342422.8914  408127.5163\n",
       " [2246]  454966.8344  555112.4790  409002.0755  108210.5324  433308.5601\n",
       " [2251]  -44513.9009  386961.9811  531290.5360  299468.4689  314826.9695\n",
       " [2256]  458193.3171  590348.9856  338509.3746  348187.4926  334048.0957\n",
       " [2261]  384585.7450  459860.9170  596877.1177  328993.3565  445976.3511\n",
       " [2266]  696799.7311  361340.0478  586959.4161  550274.8207  547610.9267\n",
       " [2271]  244460.3374  356869.5146  350046.6628  503821.2303   68170.7599\n",
       " [2276]  709696.9315  792112.9864  544663.1498  225941.4141  237312.3525\n",
       " [2281]  248703.5189  505427.6145  286437.6559  205291.9784  584066.5417\n",
       " [2286]  480821.2875  523932.8445   22737.9042  473177.3394  579073.1588\n",
       " [2291]  437647.7230  773214.9444  312275.7130  578432.1935  249925.2308\n",
       " [2296]  648833.5825  486745.1142  200003.5782  308667.5591  289902.1618\n",
       " [2301]  718535.3022  461464.1711  122736.9676  596317.9851  340221.6924\n",
       " [2306]  244061.3788  459087.6096  372903.8070  326246.3391  321334.2267\n",
       " [2311]  518878.6577  222290.8973  811223.6146  210739.2839  332628.5693\n",
       " [2316]  383070.5996  547350.2747  506436.6906  647920.8664  497510.0926\n",
       " [2321]  411607.3927  455869.2000  319060.1819  538921.1723  437989.8527\n",
       " [2326]  456914.7224  312483.1698  157978.7345  343587.2251  725583.7829\n",
       " [2331]   47765.0961  452703.7155  616872.2542  250400.0126  411479.7288\n",
       " [2336]  596448.3876  405596.3937  135807.8229  330412.8029  353028.1014\n",
       " [2341]  494252.6428  374922.8256  410923.5396  638129.0316  565756.3034\n",
       " [2346]  136095.7046   69833.2358  625039.3966  428042.7268  535625.3967\n",
       " [2351]  573053.5922  381646.5477  358717.8324  510209.5261  489316.7163\n",
       " [2356]  322923.0745  584219.7058  395197.4772  388156.5741  839735.5246\n",
       " [2361]  659730.5169  514055.2605  444003.5679  646664.9281  223272.9020\n",
       " [2366]  416508.3800  285006.9221  186878.8088  187686.9785  595728.1604\n",
       " [2371]  671183.1498  202709.9804  606387.9862  613298.4250  427172.6495\n",
       " [2376]  404663.1065  390473.7497  364991.7678  422791.1666  571569.7186\n",
       " [2381]  467476.5919  300166.0253  515896.4545  207295.3505  289334.0846\n",
       " [2386]  244290.8412  330655.6552  445808.7611  461396.6279  338637.5929\n",
       " [2391]  564989.2851  315279.4804  593293.8643  533807.3765  405110.5576\n",
       " [2396]  368784.6807  317276.4722  521379.7718  372365.9270  409501.9362\n",
       " [2401]  573128.0044  345247.0127  523089.4253  620351.9928  577962.0441\n",
       " [2406]  106416.3519  534234.6664  436129.5091  586918.4283  363059.9891\n",
       " [2411]  748734.7830  398944.9934  581347.2415  428859.3963   79846.9731\n",
       " [2416]  630103.6043  362328.6048  395181.0149  650391.0791  564985.2803\n",
       " [2421]  422522.8220  199875.0334  405214.0243  193263.9809  671841.2165\n",
       " [2426]  413118.2950  462929.2875  346647.5663  490932.8359  539668.8553\n",
       " [2431]  502839.1371   90779.8067  444999.9194  534685.0208  364551.5072\n",
       " [2436]  486277.9605  903744.1190  266136.2262  336156.8494  532183.1181\n",
       " [2441]  384588.8168  597118.3645  625720.7591  389368.1652  510044.5790\n",
       " [2446]  630725.7597  564681.5632  322968.2268  481923.4738  462147.0171\n",
       " [2451]  713135.3619  430574.9538  523310.7765  116851.4634  531862.2495\n",
       " [2456]  353718.2536  604582.9439   57758.8561  129347.5808  345987.3020\n",
       " [2461]  124366.5092   53975.5881  438598.1114  565313.3712  202026.3203\n",
       " [2466]  694620.6998  395016.2721  601276.4173  455449.4643  395204.9782\n",
       " [2471]  461936.4720  589168.2946  321884.5112  106798.9779  332365.3667\n",
       " [2476]  837960.1949  -14853.1508  440403.9842  130543.4682  324918.9656\n",
       " [2481]  316600.2559  457531.0980  435750.3586  207528.0050  264889.7552\n",
       " [2486]  617555.7403  488696.1759  559111.7054  434583.9023  313180.2697\n",
       " [2491]  547485.9721  598442.7453  499193.0765  719098.2590  518455.5666\n",
       " [2496]  608024.9330  510607.3114  332353.7008  306953.9866  397290.8599\n",
       " [2501]  564996.0349  497178.7644  520405.8485  427477.0872  215031.9698\n",
       " [2506]  519538.0820  393206.8999  551631.3395  637069.9374  350198.6651\n",
       " [2511]  258695.0593  516998.4851  418647.5936  -49392.0352  646246.0254\n",
       " [2516]  492098.0848  242357.7625  432997.0652  351374.2008  344085.0201\n",
       " [2521]  159741.5185  414156.7497  708529.4182  259446.5646  118446.1506\n",
       " [2526]  420926.0925  415233.0777  378088.8635  358681.8340  455335.2273\n",
       " [2531]  469187.7196  491036.7323  298024.0389  136933.0011  420115.2397\n",
       " [2536]  782630.5074  617170.8772  668016.5768  282940.9184  591327.1990\n",
       " [2541]  429241.8925  134014.1515  538100.5468  465899.7013  309119.6996\n",
       " [2546]  659767.1586  520368.1938  186173.5287  409093.8967  418620.7560\n",
       " [2551]  313121.1977  598579.2326  383562.0325  829330.3443  706197.5514\n",
       " [2556]  143530.9449  527707.9701  119047.8827  704773.7180  477597.9565\n",
       " [2561]  518413.9495  549574.1675  576420.3453  215321.7176  553190.6144\n",
       " [2566]  550217.8598  397072.9794  464552.1887  481412.7068  262881.8314\n",
       " [2571]  469219.2519  232284.1487  783727.3447  423625.3205  192186.7450\n",
       " [2576]  605876.4237  568711.5647  460402.8317  619771.3902  225373.2071\n",
       " [2581]  415274.3131  449986.9854  474781.5758   68690.0996   21330.8987\n",
       " [2586]  386995.0416  196026.4788  125518.9440  366357.7193  525835.7032\n",
       " [2591]  759402.1843  673534.3181  600131.6066  226211.2089  132099.9067\n",
       " [2596]  605115.3811  674059.0511  232713.3797  595529.4019  582785.8473\n",
       " [2601]  412466.4822  111087.6885  848684.7352  495429.2669  387934.6235\n",
       " [2606]  389634.0526  464431.2357  785745.4653  229679.8461  583782.4218\n",
       " [2611]  511052.2237  674676.8119  335209.5607  376080.9179  750097.2827\n",
       " [2616]  435567.2779  717570.9668  617950.8294  541817.3417  246385.3120\n",
       " [2621]  495587.3446  687037.0921  197372.5960  265428.2468  504190.8102\n",
       " [2626]  682916.5214  540217.6064  359887.4346  424026.4723  871173.5915\n",
       " [2631]  284664.0124  542155.5776  263977.3507  307719.7335  463155.9973\n",
       " [2636]  500342.4880  318452.5218  249606.8680  435860.2813  337977.4382\n",
       " [2641]  374900.6316  439556.3319  273831.3074  775533.7968  755852.2713\n",
       " [2646]  375691.9838  554312.6144  499616.0827  406590.0760  492609.9903\n",
       " [2651]  448197.9789  346546.3315  619005.2069  566347.7725  480626.4539\n",
       " [2656]  523252.6589  132021.0441  345819.7870  446425.9928  479130.9848\n",
       " [2661]  295143.7460  607096.2832  605184.6424  629775.3951  569589.1532\n",
       " [2666]  392127.8399  428596.3132  283284.7808  279776.7561  391594.2226\n",
       " [2671]  577363.0961  539678.2432  385056.2039  297181.8072  453706.9699\n",
       " [2676]  409920.5562  337627.0336  409493.4665  277056.1755  630072.5767\n",
       " [2681]  392103.3581  463445.8190  379417.5701  460148.2586  336385.7530\n",
       " [2686]  515596.6581  535030.1404  209158.4305  301105.6346  493852.9885\n",
       " [2691]  376994.0241  131016.3945  198259.1933  575531.0313  498876.1364\n",
       " [2696]  774544.5670  378808.5004  405547.1442  721991.7873  339285.8900\n",
       " [2701]  591993.7961  424673.0351  260045.9346  350985.8227  480069.5244\n",
       " [2706]  385536.8301  258189.0502  642424.1879  707063.9510  288114.0921\n",
       " [2711]  397700.4265  328493.8636  576701.1359  463825.4422  550863.1169\n",
       " [2716]  462800.4113  542931.8559  234470.3444  526866.2244  334156.2638\n",
       " [2721]  445292.0792  425934.3633  286713.6221  601768.0589  543928.0213\n",
       " [2726]  387086.1576  564555.8141  587353.4884  195954.6197  341033.3757\n",
       " [2731]  461146.3760  536516.4519  500243.9530  521938.6494  648194.0999\n",
       " [2736]  326368.4645  395554.3653  292091.7607  463699.6068  588296.6797\n",
       " [2741]  254528.8595  271061.3928  716925.5257  477771.3541  254896.3032\n",
       " [2746]  420823.2588  742236.2960  377367.7980  377214.5930  223697.3498\n",
       " [2751]  550269.4203  678399.0798  401191.3730  602769.6253  551599.2195\n",
       " [2756]  113456.4457  470871.6455  284688.8110  407964.1027   90299.3901\n",
       " [2761]  296964.3242  497328.7137  313210.4911  443998.5689  577440.7792\n",
       " [2766]  519076.7036  385845.4430  404311.3372  465609.8427  259991.4921\n",
       " [2771]  451319.8312  508158.9917  521290.8295  720271.8646  360571.1823\n",
       " [2776]  377085.1914  205285.9862  427734.8915  609742.4864  -22868.6972\n",
       " [2781]  278663.5470  461075.0845  457448.0691  300503.3745  883962.3054\n",
       " [2786]  196874.4407  561305.4601  753859.3629   80962.5078  301855.8456\n",
       " [2791]  464017.9926  655775.8838  439044.4076  460286.6342  543900.2617\n",
       " [2796]  818553.5579  584263.1781  440770.8661  288894.1936  606020.0563\n",
       " [2801]  293074.2894  306602.3320  385920.5482  615426.5968  402135.3442\n",
       " [2806]  505717.3567  528288.0531  494844.2681  505397.9391  178181.1549\n",
       " [2811]  458633.3278  450294.4013  658414.7091  606496.5316  829504.1667\n",
       " [2816]  693915.5905  398776.1532  793938.4450  694202.5003  123741.4217\n",
       " [2821]  558411.3246   65895.1631  485842.2400  501300.2511  335605.7316\n",
       " [2826]  509182.3876  850186.6050  549368.2161  537133.8585  601556.2943\n",
       " [2831]  363607.8261  412783.8759  233849.0230  675843.3999  322189.3707\n",
       " [2836]  617682.2738  478385.7430  274774.3143  489660.1916  343439.3187\n",
       " [2841]  445041.8815  522982.4756  293524.2703  146231.0214  234655.9647\n",
       " [2846]  643950.8856  309127.3083  514478.5673  248510.6304  581051.7155\n",
       " [2851]  316711.2767  526238.7214  441998.6439  660243.7716  108256.6400\n",
       " [2856]  190619.6879  514650.6479  417911.0135  411546.2299  486809.7472\n",
       " [2861]  572541.9702  659763.2649   93894.5690  358779.9498  744478.6358\n",
       " [2866]  331009.1360  355780.3445  599990.9590  845630.4070  523405.7462\n",
       " [2871]  242713.0846  567959.3564  223818.7137  413012.8897  476315.3686\n",
       " [2876]  771407.8287  549614.8441  474835.6314   50054.1534  772372.5812\n",
       " [2881]  565735.7795  513603.4571  184212.0984  494072.6187  515102.3448\n",
       " [2886]  640380.7846  581290.7429  426759.6788  533823.3629   28214.5739\n",
       " [2891]  715142.6684  265492.5969  481581.0829  441996.6577  499630.6957\n",
       " [2896]  591834.0416   77028.5473  682371.0445  590394.7268  474874.2182\n",
       " [2901]  489299.4371  620800.7540  408060.3855  510517.3736  -42133.4385\n",
       " [2906]  691769.0533  437011.9792  306171.8287  380707.3249  733808.3492\n",
       " [2911]  271032.4490  178468.7754  539259.6149  388653.5961  250333.8746\n",
       " [2916]  421176.9366  569980.3897  329957.3718  476409.1949  644726.5648\n",
       " [2921]  736749.6861  220847.4227  203460.0788  369939.8350  368638.2624\n",
       " [2926]  712050.2952  415183.4669  383057.0320  932474.9385  617355.4289\n",
       " [2931]  755500.3525  672924.5259  395055.6833  649702.1334  457346.6757\n",
       " [2936]  237270.4764  337325.5768  435405.8084  479259.2328  395955.3831\n",
       " [2941]  302510.7836  517977.0612  318478.9224  563475.4841  490391.9414\n",
       " [2946]  302608.7524  251309.7236  615996.9566  668386.0835  569380.3668\n",
       " [2951]  223416.1139  511787.7281  455868.1433  157242.8204  414628.2826\n",
       " [2956]  528800.0123  393346.6970  109259.8774   61637.9963  533532.6161\n",
       " [2961]  680273.3703   55405.0863  606440.6746  558941.8762  398204.4956\n",
       " [2966]  641438.6228  851006.8195  438872.1895  476558.4764  455502.0295\n",
       " [2971]  583232.1759  268933.8605  659228.7911  217015.5986  605830.1352\n",
       " [2976]  352939.7706  397013.8218  504613.5828  639550.2907  359753.2828\n",
       " [2981]  340727.7539  480383.4202  148002.7586  466131.1943  426910.3790\n",
       " [2986]  489444.9752  503278.2834  553917.9785  343627.2889  436967.6272\n",
       " [2991]  410231.0356  425515.2952  272515.1717  391998.9017  261863.3492\n",
       " [2996]  -16048.4141  418592.0709  553607.8124  278329.9506  367583.1199\n",
       " [3001]  146381.8469  370026.4414  265923.6745  339282.0590  722964.5796\n",
       " [3006]  239699.4976  354919.0830  215070.7598  557727.9421  353518.2163\n",
       " [3011]  523584.7657 -164330.4583  381987.9770  296841.1865  213031.6791\n",
       " [3016]  388015.8603  454345.2881  965731.4649  398034.9681  429236.9602\n",
       " [3021]  602891.7519  377058.6662  400588.3404  449048.4738  378575.5311\n",
       " [3026]  107972.8972  690183.8415  510696.3252  653412.5406  400124.6164\n",
       " [3031]  314064.5564  621157.0598  338290.4133  606920.9143  180855.5130\n",
       " [3036]  297908.4334  508619.4465  509579.4803  223217.0194  580361.3318\n",
       " [3041]  586039.2431  233797.5859  470007.9839  416961.7742  319301.6757\n",
       " [3046]  466450.7430  478121.4883  -65203.5338  515364.0641  445365.0649\n",
       " [3051]  295844.6038  697639.0519  471817.6531  265566.5432  -10419.9887\n",
       " [3056]  417756.6668  746138.3070  348422.1515  404822.7094  474363.2292\n",
       " [3061]  377929.8341  298469.5234  420274.3807  340273.9387  411795.8071\n",
       " [3066]  316681.0266  393274.2025  448202.2153  414354.9873  294407.0621\n",
       " [3071]  519662.9029  567725.3252  491611.9774  774556.4685  412201.5041\n",
       " [3076]  337258.3522  510343.5525  512468.5484  395062.4841  582053.3169\n",
       " [3081]  361681.7926  281386.5863  320351.3851  255711.2923  515539.4192\n",
       " [3086]  567442.8499  367569.5231  658364.9638  330244.2052  227388.2045\n",
       " [3091]  208706.3552  255117.0453  478383.3187  391469.7819  598964.9198\n",
       " [3096]  458773.4154  671628.1051  552816.4336  217206.5075  269630.3698\n",
       " [3101]  305537.4253  344267.2819  541656.3732  706848.3955  424168.7519\n",
       " [3106]  117843.2167  328409.4682  828925.5964  252068.5760  292914.1472\n",
       " [3111]  268908.5882  213207.1424  470834.2237  441367.0682  632911.5043\n",
       " [3116]  482693.1904  776996.6264  397022.8845  407206.0303  499783.6239\n",
       " [3121]  277482.6805  520990.1236  406993.9303  229085.8230  360495.7340\n",
       " [3126]  477465.0116  432883.1231  264944.0470  803293.9650  685106.4572\n",
       " [3131]  415200.3092  674260.6928  211664.5880  537639.1526  455194.9459\n",
       " [3136]  499989.8901  397202.2419  464286.4568  436657.4552  282700.9443\n",
       " [3141]  490553.8347  654551.9045  -39154.9226  719616.0989  223971.4649\n",
       " [3146]  325564.2993  449287.9934  398989.0053  351863.2192  487899.3073\n",
       " [3151]  292957.2460  590521.2909  379732.7007  350509.7901  373638.9969\n",
       " [3156]  537034.7912  616935.7807  419658.7981  642303.6565  403423.7449\n",
       " [3161]  293086.2519  740811.6660  586895.9322  793268.9884  743086.9349\n",
       " [3166]  285666.7885  407303.5422  759160.8631  365690.2947  447255.6816\n",
       " [3171]  328331.7617  318536.3649  501381.3792  656351.1807  519866.1265\n",
       " [3176]  364164.2334  234713.9415  381232.3370  623690.1718  459926.0188\n",
       " [3181]  727908.6608  860648.8827  333911.9152  529501.1623  380553.4492\n",
       " [3186]  163904.8211  528001.7630  488614.3493  648533.3950  344706.5173\n",
       " [3191]  437633.4335  535784.6311  535271.4548  772302.8626  450144.7895\n",
       " [3196]  339669.2055  556292.4683  674550.5815  149744.8752  309928.8705\n",
       " [3201]  507829.6850  344280.6913  453718.4876  339471.6576  457912.0763\n",
       " [3206]  753386.2852  319887.8356  288872.9414  530759.8227  441997.1989\n",
       " [3211]  442135.0906  130429.4569  463388.3454  110006.1780   79265.8555\n",
       " [3216]  636772.1769  253889.5348  501181.8957  437566.8905   74008.5584\n",
       " [3221]  430453.7202  155311.4462  419427.7615  541033.8148  592965.5692\n",
       " [3226]  678025.4389  508166.3087  429859.0865  408416.2660  578344.3437\n",
       " [3231]  610878.6563  271622.6517  241352.2379  623627.9551  732782.7926\n",
       " [3236]  258253.9289  696333.8793  138843.9320  522054.5856  395750.2149\n",
       " [3241]  613481.9955  369091.9496  489433.6419  720980.0859   97490.3226\n",
       " [3246]  551820.4893  415760.6651  199751.8253  604204.0131   86017.7608\n",
       " [3251]  479452.4799  354002.9333  208829.1001  370173.4160  427486.0958\n",
       " [3256]  453722.4103  486707.6374  310254.8664  428442.6401  806701.7553\n",
       " [3261]  535224.8183  371817.6515  528821.2425  666051.3558  423463.2654\n",
       " [3266]  678053.2199  321720.7772  381520.2160  498715.7627  433512.1074\n",
       " [3271]  485737.2758  385259.3705  508953.0497  440941.7179  663390.8796\n",
       " [3276]  485631.9663  671370.2549  390446.5002  343633.5815  631682.3747\n",
       " [3281]  519653.1502  506887.8945  791686.3018  601425.7005  362428.4219\n",
       " [3286]  586575.3111  303297.7671  410599.4389  503511.0884  606081.7393\n",
       " [3291]  214598.3410  679992.2225  644721.5110  463940.8916  267495.2593\n",
       " [3296]  387922.3060  740316.4684  529542.0509  592462.6704  670331.4852\n",
       " [3301]   56315.3511  414803.3427  469255.1957  431694.3050  569081.5625\n",
       " [3306]  600123.1748  281063.7622  480548.1774  573831.0956  237468.0916\n",
       " [3311]  163601.6442  434614.7161  126936.7666  481360.6767  632718.8736\n",
       " [3316]  447581.8187  585645.6491  375575.5742  421205.4239  460928.4486\n",
       " [3321]  330018.1558  571478.9776  171928.0944  448083.1256  605367.4897\n",
       " [3326]  196946.4238  299122.1920  508469.0256  433031.3223   27185.0427\n",
       " [3331]  327171.7650  449416.6282  571238.3331  411749.5141  295885.2601\n",
       " [3336]  462643.6792  721562.8110  741195.4904  498870.5283  810950.8063\n",
       " [3341]  548446.4589  288164.8750  236924.9998   96753.9339  248700.8316\n",
       " [3346]  484050.2360  421527.0821  734477.8331  318037.7647  214019.0827\n",
       " [3351]  381572.3812  522658.8516  225180.2630  526540.9641  635817.1297\n",
       " [3356]  294903.9781  286370.4008  409187.9333  880111.8170   28907.6949\n",
       " [3361]  237070.0209  424531.5597  130017.3980  504826.2692  505355.1611\n",
       " [3366]  313244.3539  -15125.1945  316582.9913  145325.9193  465646.0411\n",
       " [3371]  336185.3854  528493.3670  634878.0368  309462.4712  692590.9538\n",
       " [3376]  632703.8312  487504.3457  615712.5327  488479.8359  383582.7250\n",
       " [3381]  470897.7329  450557.2725  347291.1449  423068.0951  228383.9851\n",
       " [3386]  271109.7991 1045106.4630  278210.3570  169533.3886  417919.9278\n",
       " [3391]  460052.0551  345780.6072  418988.4853  216222.1597  436039.0135\n",
       " [3396]  267514.1133  375169.7617  518149.7043  504265.2759  420404.6119\n",
       " [3401]  634430.2834  155103.4031  228236.7314  319240.0292  328529.8078\n",
       " [3406]  389840.2898  643253.1682  537626.0767  747712.0299  563492.7307\n",
       " [3411]  674841.8607  309744.7422  511214.8837  294104.2938  651667.8780\n",
       " [3416]  850693.9552  445503.2284  459860.6320  707058.0288  299307.1809\n",
       " [3421]   36958.6563  261840.3684  321530.1148  492565.1914  604535.9315\n",
       " [3426]   95499.9068  289157.2028 -124053.5419  305982.9525  396911.5260\n",
       " [3431]  397468.4341  421997.3825  234515.5367  422985.1975  712660.6025\n",
       " [3436]  713644.6849  465581.3424  655906.8441  478005.8522  242845.6740\n",
       " [3441]  512884.8277  272514.7510  450475.0484  303058.8981  512636.5670\n",
       " [3446]  527492.1503  396314.5427  845081.8397  355294.4229  103239.4025\n",
       " [3451]  518148.6574  268680.8354  736665.5523  239923.2220  573691.0999\n",
       " [3456]  533074.6456  566902.9837  273480.0284  449469.4731  599968.4177\n",
       " [3461]  545523.1002  484937.2779  635717.4143  519793.1471  280317.9052\n",
       " [3466]  411990.1255  590697.9466  344888.7977  344570.5991   94140.2794\n",
       " [3471]  351225.4623  396383.3839  553336.8400  181033.6270  309073.5528\n",
       " [3476]  397126.4146  494911.6355  618640.8560  860818.7739  390037.6746\n",
       " [3481]  441124.7744  660107.8346  718600.8845  175435.2265  326718.5315\n",
       " [3486]  540121.9377  213856.8508  590850.3521  478831.9951  309694.3339\n",
       " [3491]  288553.2277  537703.4919  531477.2729  454820.8443  566167.4398\n",
       " [3496]  539877.2192  670392.9239  290949.6482  457441.9014  194727.5581\n",
       " [3501]  272510.7727  478647.5346  477436.3755  554994.4972  554466.9246\n",
       " [3506]  339702.8866  629889.9495  259456.4857  103602.2564  432989.3525\n",
       " [3511]  257553.8618  285585.9278  767835.3072  317494.4328  249180.3831\n",
       " [3516]  480814.3147  425966.2363  265677.1351  566951.6260  261169.9928\n",
       " [3521]  539154.8355  314698.1494  588321.8447  674711.6473  582471.2516\n",
       " [3526]  412657.8094  452787.6909  339215.3278  272924.2830  580448.1170\n",
       " [3531]  539719.3932  586984.6488  552709.9740  214804.1544  503778.7403\n",
       " [3536]  625910.1104   74021.0168  531120.9465  505841.8613  485684.9019\n",
       " [3541]  498774.6396  602418.5103  797035.1091  516008.4905  362156.5694\n",
       " [3546]  611431.3805  510561.2403  410856.9100  539191.4275  273830.0387\n",
       " [3551]  676137.0313  666057.3082  628878.9932  438265.6624  381993.3580\n",
       " [3556]  445385.2970    3750.8153  307593.1148  549094.6641  503570.2307\n",
       " [3561]  523831.6609  376350.3231  351573.5385  912194.4957  328051.4967\n",
       " [3566]  663043.9723  648673.9971  374913.0892  270192.4371  627393.5817\n",
       " [3571]  504863.8945  507766.0573  323728.3234  898505.4162  457153.8071\n",
       " [3576]  583261.2848  269649.7615  591904.3554  506352.4911  -66452.4867\n",
       " [3581]  678473.2263  534078.4107  439532.1461  631976.1706  305229.6415\n",
       " [3586]  534609.8142  645933.5686  166655.0651  398363.9185  490926.7670\n",
       " [3591]  508503.1497  597973.9064  514802.8938  294516.3273  537831.0352\n",
       " [3596]  550989.3017  416653.9386  331512.4878  402555.5271  264128.6908\n",
       " [3601]  168143.7956  578410.8283  878931.8893  516387.0102  426260.4875\n",
       " [3606]  309905.4368  134437.2843  501352.5211  308299.8101  516975.3641\n",
       " [3611]  534058.7345  369011.2089  230843.3706  461992.8727  576189.2849\n",
       " [3616]  613930.5288  454174.5640  570362.9019  180160.6295  504541.2979\n",
       " [3621]  233481.9000  321844.2199  400763.0997  235685.3338  405760.8047\n",
       " [3626]  548417.8805  520953.4185  767436.7605  282520.7560  438794.1080\n",
       " [3631]  316500.4471  840727.1726  360108.0174  449224.4845  266402.9501\n",
       " [3636]  680999.2930  743822.3320  663223.3492  820665.6353  635317.8365\n",
       " [3641]  552848.2496  373999.8749  370081.3632  533670.8408  205081.0860\n",
       " [3646]  602292.0523  459057.1902  588211.6663  177700.7461  335230.8234\n",
       " [3651]  547454.8581  172347.6512  640734.2957  103553.0269  579796.8757\n",
       " [3656]  209879.5929  473322.0492  480284.5551  750125.2102  584921.7091\n",
       " [3661]  508275.9874  438604.2052  565772.5335  515479.5063  175071.7796\n",
       " [3666]  507563.9440  619456.2114  442218.1031  -43243.8557  279747.6191\n",
       " [3671]  314221.9341  573217.9979  108988.5249  464172.7045  138197.0924\n",
       " [3676]  342389.9936  504027.1548  655455.0256  422584.8932  466554.0994\n",
       " [3681]  546964.3148  492119.2422  413563.7817  451065.7496  224474.7781\n",
       " [3686]  461214.2526  704921.5009  209514.1420   87144.2191  189675.9338\n",
       " [3691]  330089.8363  259985.7020  292054.2871  685023.5040  481214.0982\n",
       " [3696]  584189.3277  436130.9787  597947.1745  257564.8879  373788.5361\n",
       " [3701]  101903.5087  123968.0154  363310.6186  332054.0222  363757.2295\n",
       " [3706]  222708.1868  375342.3084  146148.7287  313304.9425  527209.9637\n",
       " [3711]  419539.1901  377942.7025  394467.8437  595043.1765  379370.1685\n",
       " [3716]  420362.9686  747812.4764  235032.0813   76075.4499  302842.2729\n",
       " [3721]  507602.4884  597720.6508  475689.4922  250144.3753  771247.1826\n",
       " [3726]  439583.7303  646995.4367  488765.6394  366874.8394  238683.2366\n",
       " [3731]  300865.1255  661376.8604  329576.6520  222006.2441  446211.3471\n",
       " [3736]  417157.0023  378468.5589  202637.9585  466155.8526  413727.5754\n",
       " [3741]  675066.7379  199765.0582  522301.5122  291550.2745  552880.0655\n",
       " [3746]  175348.0953  643448.2455  535651.2206  518438.6674  103736.9459\n",
       " [3751]  468298.5881  313386.5503  270732.6266  582911.0122  447175.2694\n",
       " [3756]  659165.9672  350649.5287  540813.6790  304742.7403  519143.1507\n",
       " [3761]  490865.8924  565769.2453  618906.4583  412092.3626  440204.6218\n",
       " [3766]  247627.0553  344207.2544  716010.0540  615134.9297  391265.6390\n",
       " [3771]  480935.7974  489145.8346  548084.6526  377577.5986   40847.2754\n",
       " [3776]  635462.7441  194119.0631  516131.8641  430301.2884  402278.1931\n",
       " [3781]  414837.5707  523523.8969   53844.8452  369684.5609  266106.8169\n",
       " [3786]  354995.7696  647315.7603  239007.2374  716638.0469  421272.4806\n",
       " [3791]  352290.2212  258073.3330  679106.0729  219082.6647  697565.6474\n",
       " [3796]  466370.1871  297578.4778  598134.3642  266963.2967  360245.3980\n",
       " [3801]  512524.2853  458712.6518  298905.7361  609004.1730  731369.8277\n",
       " [3806]  688313.5014  546101.5202  358793.1043  522386.0854  419499.6333\n",
       " [3811]  429678.7353  570800.8854  595873.8039  521139.0510  836315.6843\n",
       " [3816]  376274.7069  318373.0870  471831.7311  573834.2474   44980.7449\n",
       " [3821]  236020.7901  594569.4035  607870.2347  314718.8632  617601.9144\n",
       " [3826]  643443.2977  444190.8536  152845.6738  694228.2998  526998.7434\n",
       " [3831]  526819.0954  548739.8579  622741.6327  595454.8879  483596.1268\n",
       " [3836]  147016.7109  454954.1878  467935.9375  613980.1892  495694.2489\n",
       " [3841]  568101.4424  254469.9475  552125.7901  599094.0355  438100.7383\n",
       " [3846]  377875.5678  355489.5795  603614.5961  590347.2588  445438.5177\n",
       " [3851]  313258.4863  482732.5460  609532.9845  176229.5738  386194.8174\n",
       " [3856]  568312.0717  136201.4972  295175.7177  462176.4714  259269.2940\n",
       " [3861]  169247.3535  485766.0301  282557.0821  428089.6845  395805.0072\n",
       " [3866]   41774.2858  456408.4009  252557.4809  733269.6189  521135.9587\n",
       " [3871]  498416.4054  225370.1960   -7137.7216  723918.6706  350351.7156\n",
       " [3876]  434608.1536  148522.6205  638515.3382  466352.2654  271171.2620\n",
       " [3881]  432393.1958  499585.6498  330775.1450  516598.3064  257249.6185\n",
       " [3886]  356659.5691  501373.3589  513162.8907  412975.3448  514348.7811\n",
       " [3891]  486740.9051  527815.5465  638389.4424  376233.0538  422449.5388\n",
       " [3896]  430260.4534  685707.9168  229857.8597  373076.6693  688409.0777\n",
       " [3901]  563228.4846  156255.6430  383417.1282  401950.1713  540575.7422\n",
       " [3906]  498499.2665  180148.0001  212867.1158  447346.1935  434673.2577\n",
       " [3911]  607782.9110  320450.7276  455994.8789  116666.0629  135809.1399\n",
       " [3916]  428655.1033  286360.8367  412415.4873  537664.9260  425038.2086\n",
       " [3921]  291082.6049  624699.2662  459679.0385  287388.1860  319093.8900\n",
       " [3926]  341296.0808  771359.1978  193896.4757  420234.3658  642099.7530\n",
       " [3931]  324006.1844  645108.5475  416177.1710  256664.7995  639346.2461\n",
       " [3936]  673760.3696  115699.9834  138153.4935  593486.7866  327878.8291\n",
       " [3941]  444298.7329  514734.2825  264725.4621  623635.1213   65861.5287\n",
       " [3946]   61581.3431  257387.3452  431273.6912  534770.4784  655964.5407\n",
       " [3951]  179747.5711  650007.9752  629704.6540  233637.7060  544236.4624\n",
       " [3956]  575576.5903  775729.3026  517794.3305  413711.4952  293451.9923\n",
       " [3961]  490179.1741  626245.9522  182200.7001  631473.2955  211312.8607\n",
       " [3966]  510438.6390  418756.5154  490516.3126  272789.4796  437053.3447\n",
       " [3971]  361524.0399  645832.0093  677559.4311  508085.5767  458602.8794\n",
       " [3976]  389438.6281  195264.9768  350011.8527  257772.0260  444815.5085\n",
       " [3981]  379525.0137  412426.1568  527844.2229  509943.1515  385873.5065\n",
       " [3986]  545795.7688  397273.4326  199502.4104  561029.4661  696110.9113\n",
       " [3991]  581346.2333  349827.2623  136024.7652  519349.6789  154079.3081\n",
       " [3996]  550840.8042  464147.5341  395375.6539  460431.7564  458542.2928\n",
       " [4001]  421247.2266  476564.1608  562757.1227  832814.0808  609648.8924\n",
       " [4006]  405464.8474  353200.0457  544617.6338  532806.3624  290599.5063\n",
       " [4011]  780540.3985  638729.8049  345333.7993  602295.3128  300617.6143\n",
       " [4016]  558088.6106  538332.2967  725628.3099  380102.4720  663169.5049\n",
       " [4021]  303818.0193   81622.2461  573643.2942  273736.0539  177273.6935\n",
       " [4026]  212613.5783  633754.1808  576283.1088  292297.9852  327736.9400\n",
       " [4031]  190118.8193  150633.8861  466141.9921  407739.6242  384619.1253\n",
       " [4036]  450467.2564  502312.5276  287346.9982  327349.6414  384745.0124\n",
       " [4041]  128418.3674  268794.8635  560481.3154  319246.7533  415947.5802\n",
       " [4046]  354876.4883  735506.7039   95852.2090  343899.3601  234720.7655\n",
       " [4051]  344359.6664  161827.6019  120375.5333  508967.2879  508658.3005\n",
       " [4056]  208877.8462  158708.5140  514187.0302  786544.9917  375306.3935\n",
       " [4061]  702071.2893  394859.5418  569627.8296  216668.0621  223729.9596\n",
       " [4066]  234386.0076  330277.8439  251479.3106  314084.5060  388397.7151\n",
       " [4071]  719468.5968   73587.4573  529140.8698  506810.6117  524519.9934\n",
       " [4076]  410481.3055   34032.2004  312380.3142  265106.0643  686500.8110\n",
       " [4081]  575194.4597  578981.5241  185126.0899  221289.6603  459743.3712\n",
       " [4086]  369573.3243  466759.9866  444636.3481  392086.2819  565651.1049\n",
       " [4091]  294988.7680  833030.9602  238381.0438  288395.4797  543173.7061\n",
       " [4096]  464427.1067  356896.6926  223991.3416  280853.5858  619417.7079\n",
       " [4101]  184221.1376  342007.5903  483937.5305  565539.0499  602813.3795\n",
       " [4106]  858425.1788  871736.6055  458419.3342  287502.8019  308182.2794\n",
       " [4111]  530263.7111  269684.4953  659313.9591  524839.3538  370783.4944\n",
       " [4116]  610465.9640  426092.8936  305929.3666  612750.1895  280318.4653\n",
       " [4121]  132073.1562  265278.8816  309469.7683  110885.0036  466040.8493\n",
       " [4126]  619197.7946  412648.5530  411029.3644  382377.0810  668845.5509\n",
       " [4131]  459336.1686  413406.7164  526890.6028  350929.3796  686352.8135\n",
       " [4136]  531662.5650  307550.6096  519326.4789  444446.8447  470488.0967\n",
       " [4141]  454545.6825  475834.9992  241969.0260  329534.9098  345042.8612\n",
       " [4146]  462288.9130  379470.0990  499941.9528  705516.2200  214999.7571\n",
       " [4151]  551162.7924  438199.2231  657069.4747  510832.5339  340521.4476\n",
       " [4156]  506514.4102  238983.4132  475961.4341  536286.5645  384325.5968\n",
       " [4161]  422458.3990  753129.9199  292790.1703  542802.2589  443847.5293\n",
       " [4166]  780605.0471  105171.2278  104698.3756  334613.2878  264636.9335\n",
       " [4171]  227607.3964  490872.5452  407087.7613  566997.9526  444544.9282\n",
       " [4176]  534276.3283  486225.6121 -115281.4361  467055.9347  106057.3840\n",
       " [4181]  765862.9022  323958.0370  494510.8922  620166.6636  429399.6749\n",
       " [4186]  490420.1699  495118.0845  463957.2442  437322.4965  491904.2474\n",
       " [4191]  500212.5744  488780.3715  526110.0587  574778.1187  509671.3111\n",
       " [4196]  388436.9707  328483.4158  506354.4374  570338.8091  424909.1795\n",
       " [4201]  279179.3466    -206.9000  394510.1765  470608.7769  366469.6529\n",
       " [4206]  628138.1487  756030.2866  353671.4099   95870.5789  145299.6929\n",
       " [4211]  413714.6807  573615.4235  317354.9997  460661.0198  368100.7756\n",
       " [4216]  558432.5832  401800.3564  521741.7659  269874.1112  538786.1917\n",
       " [4221]  313778.4495  381654.7952  478540.1727  587785.6309  439603.8281\n",
       " [4226]  362103.0367  473587.5057  518492.2645  786686.6212  233520.9166\n",
       " [4231]  992787.7124  306936.9953  353159.1640  401338.7332  362412.7683\n",
       " [4236]  680838.4406  328240.0510  363991.6982  423920.6186  326670.1583\n",
       " [4241]  501990.4738  232148.0423  323332.7976   16265.2371  660952.6134\n",
       " [4246]  -50528.7759  451099.5979  520165.9473  520222.2799  496447.6670\n",
       " [4251]  528073.5425  288977.8330  293484.4267  505212.8663  592057.8410\n",
       " [4256]  437742.1890  144476.9706  261288.2266  259218.8816  361675.5887\n",
       " [4261]  369568.4799  143976.4366  275339.4146  244588.8619  680358.2970\n",
       " [4266]  578780.5447  557496.1638  340152.1387  331018.4298  294140.1840\n",
       " [4271]  345511.2789  238727.6415  132151.0681  181662.5818  426177.2410\n",
       " [4276]  720802.9400  275423.4648  430727.4564  661915.8981  435261.6409\n",
       " [4281]  481106.0764  464658.2837  411802.5411  245503.6078  236855.8400\n",
       " [4286]  646365.5596  329731.9717  540011.5181  348917.1236  582007.3117\n",
       " [4291]  602655.6636  311677.4682  749429.2547  725165.3294  502388.3350\n",
       " [4296]  460186.9894  613002.4002  559360.2015  504465.4434    5510.7349\n",
       " [4301]  308260.5817  766173.7161  615422.9035  468987.8299  569285.0822\n",
       " [4306]   80883.3677  439039.9373  479056.1611  505321.3989  326090.2469\n",
       " [4311]  507775.9899  288244.1962  417217.0853  374493.0929  537297.9603\n",
       " [4316]  492739.7001  475116.0536  441298.5893  772732.3951  473754.3796\n",
       " [4321]  137242.1251  643730.6624  304463.5077  452340.9981  860481.8299\n",
       " [4326]  629368.2165  531083.6070  303559.8562  272937.3683  416397.9475\n",
       " [4331]  432875.8052  236158.9092  568200.6233  227822.7411  470855.6125\n",
       " [4336]   42798.3079  480190.3249  286391.7938  327622.1010  291577.4560\n",
       " [4341]  403642.2239  468966.1376  530180.0685  221339.1414  438414.8729\n",
       " [4346]  425081.6521  714261.4131  629772.5827  515353.3102  308584.3839\n",
       " [4351]  247221.1884  495935.0996  199609.9339  710234.5161  313816.0387\n",
       " [4356]  535279.9797  609441.0712  552526.7249  -27290.5258  340252.6060\n",
       " [4361]  295236.4469  790693.7835  363827.5393  544592.9214  346621.9202\n",
       " [4366]  433583.6632  415365.0324  457484.2466  682152.9870  360551.2103\n",
       " [4371]  195330.0824  514508.8147  308403.0906  389618.6907  143167.1722\n",
       " [4376]  357710.4583  636933.4189  714925.8151  630899.0135  460059.9507\n",
       " [4381]  343749.3129  582950.5524  687100.3047  696840.5443  282085.0051\n",
       " [4386]  582542.0385   67157.5539  502281.9073  431105.0347  262112.5498\n",
       " [4391]  681147.0569  308962.5334  466757.3179  355892.2111  482203.6649\n",
       " [4396]  278674.2874  792679.4926  475722.9602  265992.6914  340177.9631\n",
       " [4401]   84973.8635  540438.5450  357661.7220  482232.7345  657252.1307\n",
       " [4406]  587597.8276  816137.0571  817650.2519  323040.0854  329052.9938\n",
       " [4411]  419992.4269  732345.2323   84650.0281  385985.6449  326307.0098\n",
       " [4416]  232882.5418  563935.1068  273461.5885   48345.3409  584677.2026\n",
       " [4421]  258623.6188  638918.7225  368259.7558  227739.8375  240928.1169\n",
       " [4426]   -2233.9645  535277.7115  648816.9244  676610.2935  341799.4817\n",
       " [4431]  150891.2557  456221.0562  373410.3633  378132.0179  170473.3000\n",
       " [4436]  748716.2841  520649.4648  764428.3944  450499.2030  485809.4641\n",
       " [4441]  443060.1563  281672.4826  465147.1011  409735.9670  378891.7812\n",
       " [4446]  528358.6353  663007.8738  583052.4161  445950.8265  407483.5635\n",
       " [4451]  849693.3112  300138.6378  232556.3091  602047.7919  769486.2426\n",
       " [4456]  417754.6501  472812.6294  -18414.3452  314958.0491  472249.6395\n",
       " [4461]  127721.7044  610765.3709  528531.2692  494191.4259  615869.1446\n",
       " [4466]  644325.9135  403501.8198  348606.3789  499811.2045  486891.0840\n",
       " [4471]  457644.3220  685121.9224  606917.2239  458462.7932  561863.2654\n",
       " [4476]  295854.1728   74174.6060  366917.9870  272781.6214  421110.3698\n",
       " [4481]  410809.2343  474492.8949  267260.6586  459466.7537  309453.6036\n",
       " [4486]  631152.9274  424191.7848    2247.5252  329139.8837  519965.2841\n",
       " [4491]  312828.9450  462125.7809  558640.1293  462812.4004  635492.5994\n",
       " [4496]  441209.8468  788431.2996  280052.4943  192169.1937  507291.1122\n",
       " [4501]  600185.6275  292415.6057  348437.1672  618074.6904  408320.5171\n",
       " [4506]  598028.4685  192175.6295  533149.2115  316972.9397  704228.1044\n",
       " [4511]  506423.5851  259504.5423  242413.6618  420207.7685  286796.3805\n",
       " [4516]  560453.0896  526490.5039  489154.5428  505994.1783  477089.8789\n",
       " [4521]  371898.9983  418751.1810  605500.8556  434744.0688  445351.5608\n",
       " [4526]  545759.0559  243901.9997  394158.1104  380568.5077  486423.4100\n",
       " [4531]  316534.7916  504073.1699  582061.4578  431561.1135  395135.9636\n",
       " [4536]  226207.1240  487173.7000  354485.0107  615952.1631  316223.8943\n",
       " [4541]  225030.0902  280128.8978  151592.9237  488078.6832  204593.5157\n",
       " [4546]  585442.9093  787423.3229  842983.7635 -109186.7939  488698.2753\n",
       " [4551]  166948.4330  611487.1432  466612.7987  339470.8368  739291.1993\n",
       " [4556]  620748.7962  618874.8225  181719.2820  180362.7239  780003.8070\n",
       " [4561]  391369.8531  534678.4672  472851.8622  554075.0631  685661.2476\n",
       " [4566]  634744.0790  365337.0959  312601.2815  215462.0698  322038.5803\n",
       " [4571]  534103.8095  361464.7435  538310.9507  270200.9554  723956.3851\n",
       " [4576]  494836.0516  268113.1524  434633.4047  408283.5721  627152.5169\n",
       " [4581]  362912.6922  950860.3976  587712.8565  593239.0619  544274.2004\n",
       " [4586]  431505.7647  560698.7361  266860.0164  565773.8065  603555.8345\n",
       " [4591]  529350.5081  379824.7639  376340.4298  460742.0436  477215.6059\n",
       " [4596]  642416.5658  698973.6579  246538.2991  397906.7511  602619.8977\n",
       " [4601]  507783.7615  339605.8581  463839.4399  248444.1476  464558.8871\n",
       " [4606]  470135.4824  350239.4943  411655.9857  556866.2475  464047.3879\n",
       " [4611]  307229.8551  348482.7340  358606.4859  283097.5093  211081.2192\n",
       " [4616]  347398.7137  225677.5685  617429.1006  391000.3532  338008.8211\n",
       " [4621]  503750.1753  348665.2487  545534.4042   55688.6968  401352.3760\n",
       " [4626]  422069.0408  523225.7309  328041.7848  480967.2132  581201.7239\n",
       " [4631]  567773.2064  274759.1327  421287.5921  392087.5412  458170.9407\n",
       " [4636]  226902.2253  611367.1794  854650.6402  356020.7173  591937.7503\n",
       " [4641]  447211.3044  480021.0706  145168.2765  257832.6337  502857.0526\n",
       " [4646]  123083.2147  586399.5811  401447.7285  532155.3617  452256.5784\n",
       " [4651]  358091.0793  554238.6703  601939.4922  307040.5430  639131.2442\n",
       " [4656]  308738.3678  639760.1985  632130.9377   50694.5243  237556.7962\n",
       " [4661]  391987.1058  542302.3149  406251.0635  330193.8462  588113.3625\n",
       " [4666]  386421.2600  207625.4300  612846.2521  632907.3972  239352.4788\n",
       " [4671]   91177.1451  226860.9629  258750.4740  263413.8459  537457.5235\n",
       " [4676]  679160.0113  629093.1736  728495.1849  460506.3176  598164.2915\n",
       " [4681]  599792.3748  629591.4999  322588.8653   37236.5786  447021.0121\n",
       " [4686]  348379.5068  252950.3954  163121.0651  484511.0409  511301.7619\n",
       " [4691]  259839.2020  684826.4921  556452.5945  524604.7735  487679.2759\n",
       " [4696]  355139.9861  588116.5738  101249.7099  642258.3552  588382.0899\n",
       " [4701]  386907.7923  195751.0257  408278.0909  534246.6477  635605.6264\n",
       " [4706]  518090.4486  362515.6709  314767.1337  512361.7656  980730.8553\n",
       " [4711]  361148.2847  566408.1934  577725.8802 1151896.3496  339503.3161\n",
       " [4716]  636758.7787  254992.5550  315118.6983  492988.4333  613943.6074\n",
       " [4721]  315540.3615  280908.6067  579243.3292  680930.5149  281214.1143\n",
       " [4726]  274609.2281  298694.8777  262322.4100  715065.3637  365970.9477\n",
       " [4731]   81029.4727  184778.8402  796863.3611  594219.5210  453344.6066\n",
       " [4736]  286595.0108  343412.5597  459580.5904  422569.1006  603861.8164\n",
       " [4741]  186804.1523  408521.9663  279983.9601  804872.2795  386422.3017\n",
       " [4746]  108468.9012  554295.6323  309078.0743  722033.7384  435315.7395\n",
       " [4751]  747997.8731  432765.5354  568920.3427  338755.7278  675754.2653\n",
       " [4756]  463593.4286  462642.7844  257426.8513  284010.2730  458324.3642\n",
       " [4761]   22293.1665  245753.6444  626481.2999  492546.1079  628425.4809\n",
       " [4766]  387009.7556  450087.1509  767431.2948  512414.1612  522624.8187\n",
       " [4771]  407253.2548  389482.5588  454140.9644  836158.5269  475493.2071\n",
       " [4776]  411429.3021  248525.0231  362433.4070  370574.7203  373049.5125\n",
       " [4781]   49433.8379  621506.0787  525896.1479  259566.2520  230073.9853\n",
       " [4786]  756449.1935  274465.6130  633885.7636  439545.6180  363125.6550\n",
       " [4791]  622256.7903  217191.7268  347922.6277  521381.2769  212003.9120\n",
       " [4796]  163278.4521  490757.7503  752857.3999  419946.0592  498637.0241\n",
       " [4801]  626620.1864  647782.7130  293581.1097  562320.2727  346832.3678\n",
       " [4806]  188312.6899  234508.6578  590939.1447  248278.8582  493452.5127\n",
       " [4811]  227355.2378  421506.4642  492989.6657  475470.1940  520562.1143\n",
       " [4816]  421201.5215  531656.3647  355660.3600  787977.2295  416491.4644\n",
       " [4821]  676958.8105  790299.5722  460051.3897  188028.2078  470010.7881\n",
       " [4826]  487736.4139  498761.8443  211103.4617  586861.7785  492555.4023\n",
       " [4831]  714207.9274  250815.8464  244809.0785  671788.6187  159736.5776\n",
       " [4836]   24460.8144  254001.5316  404306.9960  558427.9408  658577.7110\n",
       " [4841]  578084.2396  499565.0453  789217.9579  397176.0001  533856.0936\n",
       " [4846]  168966.1049  577645.0348  349160.4583  436713.8973  696938.1518\n",
       " [4851]  396344.8566  423772.4222  210795.8312  603627.2603  523766.2064\n",
       " [4856]  632803.8514  759037.8181  659609.5064  176556.9706  309697.8780\n",
       " [4861]  510836.4572  661999.3094  613686.8209  702531.6001  612366.0648\n",
       " [4866]  425628.9720  577104.1438  476371.3282  280971.0362  103728.4091\n",
       " [4871]  687674.9610  601661.7886  548316.1402  522579.2094  618692.7511\n",
       " [4876]  450093.5553  391218.8534  508069.5064  696731.0086  284768.4783\n",
       " [4881]  454579.8640  689822.6905  463967.7869  359281.4058  481701.5823\n",
       " [4886]  820341.7178   41124.1377  865088.0777  422307.4756  471072.1794\n",
       " [4891]  378601.5839  430950.7728  443524.5883  491329.3894  527123.4371\n",
       " [4896]  527565.9451  453717.3281  351168.6161  308345.4924  480989.9797\n",
       " [4901]  604346.3667  137295.8363  510723.8673  253860.9163  562380.7215\n",
       " [4906]  400669.0768  320107.6693  299329.5278  522962.2138  567398.8144\n",
       " [4911]  609243.7404  278513.6835  528122.6936  378543.9988  215880.0740\n",
       " [4916]  587443.0565  120318.3463  840151.8384  304098.9730  386126.8602\n",
       " [4921]  818719.7373  545695.1901  669682.8373  507222.4751  219909.3195\n",
       " [4926]  616381.7610  647051.1371  209058.3623  208913.3497  132576.3890\n",
       " [4931]  531017.3374  585145.4698  302996.4210  523876.8214  329633.5287\n",
       " [4936]  586023.7028  859253.3256  575804.4452  726245.1037  317904.9914\n",
       " [4941]  640200.9532  618392.2303  644806.0784  532386.8349  459033.0639\n",
       " [4946]  570365.6489  556170.5725  421197.6239  572618.7973  563249.6248\n",
       " [4951]  400781.2691  365068.5012  705375.7033  300553.8842  817668.6867\n",
       " [4956]  517703.6474  450008.5136  232870.1231  313708.9094  368882.1036\n",
       " [4961]  411909.6615  493470.1667  592929.0196  449578.1108  543530.1460\n",
       " [4966]  536557.9028  513327.7532  633712.0376  197221.3217  435062.5415\n",
       " [4971]  261232.5124  683113.6712  252384.2229  589927.9208  548911.2863\n",
       " [4976]  586743.1719  779959.8475  357715.5439   85291.8353  594608.3720\n",
       " [4981]  676036.6475  283269.2981  495257.4617  570446.4113  204172.1099\n",
       " [4986]  517688.8909  569129.9800  670906.8453  394571.4002  274570.7093\n",
       " [4991]  479960.1638  347166.2515  508860.9585  249367.8968  319761.3293\n",
       " [4996]  446044.4269  663402.4748  706887.1048  288508.0593  315422.3046\n",
       " [5001]  568200.9341  352970.0545  386218.3785  662384.1446  223860.9899\n",
       " [5006]  345854.9030  849609.5321  608472.2756  754205.2789  700508.9372\n",
       " [5011]  258000.3033  470188.4716  384960.3029  304431.4296  499818.9896\n",
       " [5016]  180068.9316  627049.2304  747902.5580  576287.8616  264925.3591\n",
       " [5021]  630067.8959  503534.7348  305722.3481  390772.1371  579562.1107\n",
       " [5026]  473429.2106  260572.7748  443166.8911  412524.1113  728716.9248\n",
       " [5031]  503198.2999  345521.8338  258954.9907  680261.3497  672016.1360\n",
       " [5036]  558626.6588  381840.9050  394335.1230  589068.1775  382198.0517\n",
       " [5041]  503793.5070  458716.7066  334784.4884  442742.9219  405568.8743\n",
       " [5046]  404469.0726  316320.1139  574980.0757  362123.6213  271897.5287\n",
       " [5051]  622873.5398  444931.3746  720464.1960  352045.3151  234107.6224\n",
       " [5056]  366851.4787  742866.2665  246934.1461  289533.2786  440258.8117\n",
       " [5061]  694758.4644  731827.2092  389119.1114  220753.7016  429742.8427\n",
       " [5066]  401830.3346  330944.9195  471180.3403  311817.4534  145482.1867\n",
       " [5071]  483226.0412  420927.7499  626110.9162  229396.3303  628395.2980\n",
       " [5076]  179657.2634  223011.2530  485300.3898  337950.3513  642420.8100\n",
       " [5081]  127573.6517  415339.1723  725733.0214  430266.2330  451724.3510\n",
       " [5086]  473457.4018  393774.4022  527463.2631  883174.9248  203282.8040\n",
       " [5091]  624670.6298  734182.2235  508571.8870  430506.5506  393421.1322\n",
       " [5096]  357311.5974  344310.2098  610009.2814  428299.4481  478512.8384\n",
       " [5101]  302437.3081  774639.9991  312737.5944  357521.7598  175518.9520\n",
       " [5106]  714737.6244  377069.2203  345788.1413  370508.2661  280555.8900\n",
       " [5111]  282676.0726  388758.2615  145911.7137  599531.1647  725891.6361\n",
       " [5116]  313118.0881  186887.5164  430860.5093   50734.0385  427497.2907\n",
       " [5121]  559615.9647  367500.2101  624452.3120  515574.7977  532440.2052\n",
       " [5126]   75579.9678  495451.1290  326536.2255  276289.3620  436611.9646\n",
       " [5131]  519087.1310  518168.0493   95920.7426  409824.0638  620915.5886\n",
       " [5136]  437396.2157  364577.6417  625531.1670  155169.2048  515611.6586\n",
       " [5141]  399117.4803  387213.8860  643568.3082  714187.9103  270504.5745\n",
       " [5146]  270607.9402  514955.5512  276196.3606  531261.6934  366461.7030\n",
       " [5151]  666398.0463  608812.0021 -284623.1821  578426.0557  494507.3380\n",
       " [5156]  410536.7606  368763.6789  697311.7736  452959.8030  113290.2696\n",
       " [5161]  311345.9140  479190.5164  673416.6680  678028.9841  199900.2631\n",
       " [5166]  632478.3777  443186.6339  413595.0344  212453.6275  606936.5432\n",
       " [5171]  157790.0025  449834.6896  601800.8451  357834.3256  520420.0868\n",
       " [5176]  393978.1718  841850.2051  152602.6012  361710.8791  283048.9703\n",
       " [5181]  391056.4536  193302.9669  338608.4470  470477.9785  464295.5953\n",
       " [5186]  466172.4464  486355.5787  354782.6242  293894.8319  739752.8414\n",
       " [5191]  630638.8570  251112.5261  499478.9285  554328.6298  396292.9474\n",
       " [5196]  473740.8141  278131.1664  500068.7597  537380.0556  490539.5161\n",
       " [5201]  507970.6572  333894.1782  231147.0370  481379.0210  342810.0006\n",
       " [5206]  647767.9413  768406.5900  660057.7630  294418.0971  528910.6701\n",
       " [5211]  541901.9746  819259.8683  722780.3303  268070.5762  319190.3280\n",
       " [5216]  539449.0153  479287.5555  305622.1984  654705.0796  479845.5615\n",
       " [5221]  768799.1414  219756.0034  618046.8598  540133.1647  228047.3524\n",
       " [5226]  596458.6662  568764.9266  671186.0286  525256.6657  636535.4309\n",
       " [5231]  551449.2017  598532.7650  391911.4170   93543.5076  505278.4940\n",
       " [5236]  226951.9168  523325.8037  310424.8351  299081.3573  119325.3430\n",
       " [5241]   69376.7682  603329.4967  704333.5622  320901.2143  677291.1064\n",
       " [5246]  427292.2133  251148.2949  660490.5086  554317.1607  160704.1370\n",
       " [5251]  366930.7841  254498.0323  319269.7375  611548.8708  431547.5566\n",
       " [5256]  292554.7960  538257.0794  447338.4095  749807.1059  390283.5578\n",
       " [5261]  416954.7938  170293.0664  556591.3753  275899.2798  497779.9680\n",
       " [5266]  472526.5829  386588.9378  495063.4728  750603.3521  397481.6815\n",
       " [5271]  331253.7342  509172.4033  344984.1544  845683.2139  574309.3424\n",
       " [5276]  302026.2439  284135.4878  541921.6001  491165.7255  362315.2745\n",
       " [5281]  271425.0118  436032.3927  463868.8516  451646.2379  591339.5354\n",
       " [5286]  625206.8979  136132.2336  359528.2288  358115.8476  295014.4231\n",
       " [5291]  228634.2514  323861.0295  507577.9335  100577.6098  285935.1364\n",
       " [5296]  661162.9404  390068.7373   76349.0885   97076.1881  258327.7060\n",
       " [5301]  498554.5755  454194.3716  516463.6035  417833.5112  363613.1408\n",
       " [5306]  944847.4846  127862.3126  316396.6707  475603.6790  468725.2742\n",
       " [5311]  526033.5418  545933.7916  626929.2022  599138.6532  830556.6758\n",
       " [5316]  560505.4613  337978.2617  355286.5704  202955.8933  615252.4036\n",
       " [5321]  670229.3601  633139.6278  473199.8990  239529.4628  421600.7869\n",
       " [5326]  306175.8370  358921.4537  625575.7902  231342.6991  592639.2397\n",
       " [5331]  631698.2222  283402.8675  451913.9906  173284.8610  341605.9521\n",
       " [5336]  308043.1918  437342.7973  231178.5902  750718.3639  359345.3358\n",
       " [5341]  502713.9439  447636.0718  787766.8728  597158.3106  199713.5928\n",
       " [5346]  273675.1492  450857.9846  372887.9621  524017.6240  370721.5435\n",
       " [5351]  330184.8019  131445.3618  558833.1624  497300.5765  435745.6308\n",
       " [5356]  377347.6829  238317.5895  306582.6653  446464.6179  424402.8564\n",
       " [5361]  268151.2937  685247.8749   68604.8253  417793.7240  707535.7339\n",
       " [5366]  610994.8713  650218.4350  449677.0829  421924.3150  331040.5792\n",
       " [5371]  588149.6266  381512.5971  699048.7711  469164.3020  901295.2547\n",
       " [5376]  668405.7691  472019.2583  262987.3896  218409.8077  486619.1582\n",
       " [5381]  498747.6865  435207.7690  601833.2005  488602.6121  487405.7107\n",
       " [5386]  346446.0353  368602.8263  408770.7090  529497.7845  418077.3159\n",
       " [5391]  226570.2700  655758.0646  414548.5088  515538.9039  145202.7490\n",
       " [5396]  799279.5517  480292.0596  566210.5207  603472.2241  559184.3088\n",
       " [5401]  314160.4650  534526.8841  371039.5149  564819.4310  252868.1639\n",
       " [5406]  339889.5546  497169.4540  498940.3371  579325.7842  681955.0499\n",
       " [5411]  818080.2751  449686.3723  440441.6910  513250.2868  202965.2637\n",
       " [5416]  120915.1776  422038.4827  541424.1302  385650.8166  335090.2209\n",
       " [5421]  444595.7424  580373.9247  500364.3403  475874.6686  561623.7694\n",
       " [5426]  289156.5209  477717.6129  559386.0596  201056.2864  519727.0664\n",
       " [5431]  475896.2906  430680.3736  311820.8765  525676.9982  303299.5849\n",
       " [5436]  324682.7384  569424.8497  288120.1204  263778.3134  332315.0130\n",
       " [5441]  185379.5795  616805.7487  482398.0003  345268.5526  513628.1441\n",
       " [5446]  482078.6524  200801.0862  510010.5338  323405.5011  490005.0928\n",
       " [5451]  495841.4428  394966.2841  431153.0183  244959.2878  378061.1910\n",
       " [5456]  435773.5450  538136.8083  146280.0911  351600.9979  362984.7684\n",
       " [5461]  473711.6802  662265.9727  549371.7127  500856.3615  431455.8301\n",
       " [5466]  299622.7342  475456.8083  381843.7486  462482.3884  160415.3469\n",
       " [5471]  553002.3535  673379.7868  377582.8351  488733.2764  428727.0533\n",
       " [5476]  649557.7413  312842.3710  642895.3397  -45524.8813  227661.8244\n",
       " [5481]  597088.2528  147862.4016  172550.8465  460449.1739  289113.6244\n",
       " [5486]  265984.8466  513554.8781  418693.7715  325359.6343  531418.6187\n",
       " [5491]  593591.0521  500818.6781  612068.0646  423571.3387  473404.2184\n",
       " [5496]  202640.3679  507225.3694   21694.2393   29806.9721  189420.2180\n",
       " [5501]  767075.1188  416111.0954  210063.4578  342550.0615  440441.1732\n",
       " [5506]  417277.7207  463973.0462  402421.9304  662040.0044  473720.3752\n",
       " [5511]  529224.0825  215607.1194  403464.2467  288723.8286  335793.8232\n",
       " [5516]  774977.2036  514644.7389  262857.7280  475478.5538  373778.0090\n",
       " [5521]  470463.6386  430017.4585  154069.2814  377440.4756  403957.3956\n",
       " [5526]  396271.3791  472418.0651  387312.0479  552358.8628  -20158.7923\n",
       " [5531]  634570.8137  441089.3637  431529.2128  361667.5184  433802.7984\n",
       " [5536]  439327.6413  631346.5286  250031.7687  623238.4851  524409.0259\n",
       " [5541]  190474.8168  508727.2594  530042.6629  648688.1602  697668.5236\n",
       " [5546]  493499.3004  508249.9134  346548.0007  596069.4735  638386.8354\n",
       " [5551]  375527.2201  681727.4015  353904.9483  637881.9612  490825.0052\n",
       " [5556]  546793.1351  449147.7135  510472.0880  354720.3730  693845.5941\n",
       " [5561]  294071.0794  418545.2004  734037.4479  159425.3633  406846.0881\n",
       " [5566]  762359.3247  349594.6975  167741.0288  366734.7072  705465.9632\n",
       " [5571]  665740.9918  203675.9706   91561.9027  569362.1403  434263.1423\n",
       " [5576]  348787.6090  504653.5429  282243.0687  585927.8828  289310.0276\n",
       " [5581]  500845.1023  352264.9568  684839.9152  145124.3653  434402.0121\n",
       " [5586]  663732.5118  398381.9267  564481.6461  490957.3574  425665.1702\n",
       " [5591]  400862.4527  416094.6280  129248.5737  449874.8297  536629.0174\n",
       " [5596]  539555.0809  341829.1916  448370.3600  320532.0955  313636.9721\n",
       " [5601]  122769.3129  431596.8015  545235.9712  619666.0193  361520.0919\n",
       " [5606]  196192.1667  251113.3418  607170.8075  221600.6128  449079.1140\n",
       " [5611]  460596.8155  491951.9305  402423.0681  643717.7587  572827.6338\n",
       " [5616]  121812.6528  -40692.9004  372451.5401  293079.6282  224713.4640\n",
       " [5621]  340618.9380  224583.5477  538135.8433  130071.5539  554389.7406\n",
       " [5626]  215406.7321  432152.4904  511296.6113  270369.3076  378085.7528\n",
       " [5631]  415513.7033  377213.6808  541431.7575  184436.7176  292506.8218\n",
       " [5636]  572542.8856  300109.7222  128019.7573  572137.2921  398204.3533\n",
       " [5641]  381307.4777  301704.0185  122858.3359   94031.4734  519499.9865\n",
       " [5646]  280062.9727  415063.8666  537155.8373  135693.9612  281119.0671\n",
       " [5651]  335017.2476  446388.4711  454176.5448  266715.5580  501531.8777\n",
       " [5656]  620708.9379  276399.1604  521071.9867  645498.8387  103466.6607\n",
       " [5661]  651958.2521  452721.1837  505070.2197   91446.6721  475699.6947\n",
       " [5666]  250576.5865  394794.9784  691672.8364  810527.5033  538039.7326\n",
       " [5671]  383909.7979  356959.4712  340444.6424  104601.5614  546974.8964\n",
       " [5676]  384640.9617   57844.8610  321614.1819  507870.4016  460398.0344\n",
       " [5681]  472369.9913  302200.6626  373051.6849  550879.4249  826518.2472\n",
       " [5686]  300720.0358  537334.5522  502099.8447  783826.7573  433933.6916\n",
       " [5691]  577345.1873  549251.4348  415687.2741  444318.8495  263198.8252\n",
       " [5696]  739874.2175  100704.2623  429636.8469  388883.3539  379806.8801\n",
       " [5701]  317284.7198  168281.2075  319063.1525  410004.9351  637136.2385\n",
       " [5706]  485776.6695  161832.1638  145055.9759  656891.1910  622015.8947\n",
       " [5711]  450304.0251  344997.8922  486712.9751  380631.9334  269810.9983\n",
       " [5716]  565111.0018  707166.0687  612886.4784  133087.3325  285956.3712\n",
       " [5721]  220395.0434  333395.1530  419090.3350  231449.6731  459887.5871\n",
       " [5726]   90429.8260  555521.6608  584563.2839   94956.4878  206771.6924\n",
       " [5731]  778673.6919  550524.0629  228022.2935  483051.6186  557885.5023\n",
       " [5736]  500740.7071  461783.6650  505405.7251  242164.1589  337023.1922\n",
       " [5741]  265545.7871  374014.6829  496952.4539  752159.1672  452065.4383\n",
       " [5746]  567044.9121  367431.2845  397554.5827   33862.2829  352261.4983\n",
       " [5751]  362055.2039  421531.5881  804189.6141  482015.4209  485943.3775\n",
       " [5756]  -70675.6563  953493.9976  492962.8521  461411.3345  597188.1005\n",
       " [5761]  429736.1643  360111.2836  453905.3751  249390.3078  369583.9033\n",
       " [5766]  483338.0088  636363.7027  502603.4023  498869.3512  330067.8507\n",
       " [5771]  407868.1736  260223.0783  734544.6293  240642.4844  349585.3024\n",
       " [5776]  598596.2739  421982.7664  209535.3891  311566.4896  543133.8240\n",
       " [5781]  719341.2789  423106.4444  489026.8674  332874.6407  249170.8929\n",
       " [5786]  466288.2180  479407.9718  107706.4340  510040.1476  319437.6600\n",
       " [5791]  161814.1014  269584.6689  598349.6301  252663.5457   20346.1012\n",
       " [5796]  504446.4279  624842.5112  380458.8401  718928.4363  158179.0880\n",
       " [5801]  134919.0155  864164.8820  512703.7361  585529.8043  339387.2961\n",
       " [5806]  411921.1538  350560.2994   97010.7750  442184.9643  410500.1257\n",
       " [5811]  497874.7165  209974.3253  624336.4406  682285.1630  416167.8251\n",
       " [5816]  158914.8449  277541.5628  656279.2322  331616.6324  253675.7230\n",
       " [5821]  444444.1631  323244.2721  644828.7948  541764.3721  590266.2017\n",
       " [5826]  697442.1358  658087.8771  510433.2552  511922.5647  454051.9795\n",
       " [5831]  250598.3806  272812.3209  656808.9643  330254.7186  174228.6666\n",
       " [5836]  349284.9493  348577.9900  504501.8050  391383.5441  406727.3942\n",
       " [5841]  523250.9271  334991.9920  707854.0353  662364.6174  317883.2659\n",
       " [5846]  610577.1989  327914.1216  323241.1336  596469.0549  449298.3076\n",
       " [5851]  567104.9239  404941.4540  137291.1046  455253.9520  788942.9623\n",
       " [5856]  399358.7515  592684.6965  648632.8227  815312.7489  437367.9743\n",
       " [5861]  182403.5969  541813.0702  360171.0097  389553.2097  705597.0056\n",
       " [5866]  491619.2365  406129.3407  392053.9323  573255.3511  321405.9140\n",
       " [5871]  460597.6710  239566.9203  218203.1312  300558.1582  229988.1779\n",
       " [5876]  792364.7193  360524.9883  532361.7339  320849.0512  340971.6856\n",
       " [5881]   87095.0695  410085.5412  519909.6308  123160.8650   78144.6458\n",
       " [5886]  678101.3190  500483.2560  268519.9206  575682.5827  383892.4801\n",
       " [5891]  522622.9538  302566.4926  395977.7439  218598.6144  636883.8083\n",
       " [5896]  560769.1863  286849.7448  104507.4155  408656.3964  451359.9472\n",
       " [5901]  469349.8209  606896.9231  342594.2120  472799.2763  388204.4903\n",
       " [5906]  415043.3944  250744.8655  437836.2711  561594.4133  565667.5280\n",
       " [5911]  741137.9178  486583.8545  235051.9428  718523.7900  314605.8579\n",
       " [5916]  244009.3773  399152.0175  461503.3895  395866.5885  656254.0514\n",
       " [5921]  387601.9282  450551.3842  262461.6156   73363.9946  682198.5309\n",
       " [5926]  190770.4939  510134.3341  323389.5726  417198.5933  735653.8923\n",
       " [5931]  311809.3266  414839.3222  384319.2536  269583.9726  556849.9926\n",
       " [5936]  209468.7314  637882.3162  256436.4312  228242.4448  417577.4895\n",
       " [5941]  972498.1638  578144.3645  263742.9632   65116.5955  169841.1144\n",
       " [5946]  360397.6430   61851.3355  484852.2899  634051.8851  703003.2115\n",
       " [5951]  314752.1808  433183.9774  426687.2023  199323.3458  302770.3971\n",
       " [5956]  361732.6785  416324.4774  280005.6157  487513.8369  417989.5974\n",
       " [5961]  506712.1004  400769.5313  256658.6961  126010.9694  357653.4268\n",
       " [5966]  395586.1875  400353.0711  163518.2887  429327.3517  257893.7926\n",
       " [5971]  245967.7003  128528.1134  344774.5577  593557.8273  251149.1089\n",
       " [5976]  194124.1150  180499.7438  787193.2210  569978.1785  336549.8232\n",
       " [5981]  652166.5518  738365.8127  407041.4001  194766.7406  327495.7759\n",
       " [5986]  410837.1544  552112.3007  582208.9803  201528.3509  629573.4662\n",
       " [5991]  327392.7468  247848.4965  284107.1489  236899.2843  423790.2815\n",
       " [5996]  356774.7175  528681.9907  528782.5087  103293.8272  432532.4367\n",
       " [6001]  546334.0530  131210.5112  102451.9328  539547.2989  756364.8257\n",
       " [6006]  254056.3555  614020.9918  405454.1070   61343.4627   58777.0629\n",
       " [6011]  219175.3516  366362.3513  532273.2342  227305.4595  434570.2593\n",
       " [6016]  264656.2285  238989.9395  476947.5210  777512.6185   23852.8864\n",
       " [6021]  826315.3476  315267.3302  905639.1591  480180.3800  417787.6948\n",
       " [6026]  361739.6404  462001.0798  508070.4832  343096.5312  566290.8317\n",
       " [6031]  201634.8343  483137.4683  267828.8596  933040.1229  198128.2527\n",
       " [6036]  498563.7778  670233.3467  409932.4630  433431.2463  523225.0068\n",
       " [6041]  259577.8385  250845.8756  531240.8401  335325.6077  411764.6356\n",
       " [6046]  531366.5668  442684.3145  460898.7125  354975.1150   32424.0811\n",
       " [6051]  682541.0721  296996.4257  317542.3716  425554.9452  704378.1120\n",
       " [6056]  545171.1692  356116.8884  592507.2999  134432.8443  388170.5016\n",
       " [6061]  636216.5503  463948.2949  541303.2221  441287.2471  582702.8913\n",
       " [6066]  605810.2152  438405.8199  354257.5736  241667.6105  447642.3557\n",
       " [6071]  601187.9533  499053.1221  357221.6043  661138.7505  316994.4912\n",
       " [6076]  533009.6562  216743.7737  227759.1815  290619.6829  195757.6419\n",
       " [6081]  540510.8189  842890.0440  393805.3490  270568.6343  397124.9644\n",
       " [6086]  218788.0065  291827.3248  514782.2371  442044.6445  454893.9122\n",
       " [6091]  370728.8488  110229.5312  400579.6246  256663.5022  436359.2288\n",
       " [6096]  655070.5832  548133.3440  560757.1183  648255.6232  497915.0351\n",
       " [6101]  567548.0963  966119.3193  350264.4498  123826.1570  215664.4869\n",
       " [6106]  988147.6725  168266.3249  285244.3288  350026.6071  587823.9173\n",
       " [6111]  427762.5767  359316.6619  672450.9164  459555.5947  463965.9377\n",
       " [6116]  626417.8711  252304.1370  437418.0642  231042.2544  649874.1142\n",
       " [6121]  316293.8308  478236.6661  683470.8787  386160.6763  407210.2714\n",
       " [6126]  -30133.3005  322957.3033  396249.1249  445647.9558  507032.6953\n",
       " [6131]  485332.5933  320649.7405  307719.1843  265023.8730  624139.9690\n",
       " [6136]  342254.0708   43391.5067  528714.6010  584629.6889  563008.2011\n",
       " [6141]  526600.1544  235852.7168  567277.5181  358884.4269  447361.1005\n",
       " [6146]  525111.8037  528113.5797  628585.9315  309900.5829  142988.9649\n",
       " [6151]  421234.1392  653484.7639  283990.8653  356400.3794  513588.1593\n",
       " [6156]  800588.9954  549277.4112  415304.3869  583707.8066  473070.9164\n",
       " [6161]  452646.8336  411106.5276  402564.7363  541655.3691  485417.9351\n",
       " [6166]  277100.9519  244670.6890  606070.2629  165679.9137  295973.9105\n",
       " [6171]  377522.4869  119031.8023  532683.7708  576921.5163  708625.1305\n",
       " [6176]   13969.1655  708256.1392  325641.3573  237200.0034  535954.7343\n",
       " [6181]  743523.2730  536231.0144    5779.2714  476034.5248  273812.0949\n",
       " [6186]  561398.5875  337038.2988  401973.9466  504301.5990  386975.5859\n",
       " [6191]  816741.7960  610414.8242  403031.7619  349682.9442  407239.7447\n",
       " [6196]  294590.6304  391772.4597  290941.3758   56087.8036  510294.2744\n",
       " [6201]  173922.8352  389111.3438  358480.9115  611735.8272  331285.5721\n",
       " [6206]  325576.2495  453345.4772  661792.0020  401893.1255  610068.5078\n",
       " [6211]  320441.6092  561127.4554  341496.8634  287067.2189  417936.6810\n",
       " [6216]  455950.6959  494675.6533   36982.1077  356919.4565  282503.6511\n",
       " [6221]  575619.7488  610277.1332  537235.6096  766604.2459  617456.0047\n",
       " [6226]  786805.0943  359260.6657  563349.4107  292395.1636  403559.4539\n",
       " [6231]  395454.3046  331793.6605  664048.5462  282213.8851  396513.2375\n",
       " [6236]  245746.1262  167361.3622  115841.1370  498796.0239  364931.5857\n",
       " [6241]   94777.4099  424062.7800  402365.7862  863927.2073  406165.4736\n",
       " [6246]   24931.1295  650057.9762  111713.6500  436501.5853  331808.6710\n",
       " [6251]  317673.4938  466966.1014  626264.7635  766584.1628  698393.4989\n",
       " [6256]  576061.9661  719049.1678  521749.2210  176442.3325  479162.5434\n",
       " [6261]  465414.1653  311715.7305  304871.2988  237839.1163  203851.0201\n",
       " [6266]  324653.9555  616672.9923  379471.4668  553963.0451  339899.7007\n",
       " [6271]  275878.1429  786869.1379  185977.6455  357635.8311  247732.9450\n",
       " [6276]  139795.2204  292517.2638   80566.9887  605628.4370  816683.0618\n",
       " [6281]  346119.5150  610486.2645  485846.0674  399114.2218  607832.3596\n",
       " [6286]  539032.1030  382932.8570  449115.6817 1012744.2845  435083.8315\n",
       " [6291]  438721.7558   32221.3488  530651.9844  295107.9498  167500.6119\n",
       " [6296]  405218.8224  252969.2704  428322.7637  532067.9461  389933.8739\n",
       " [6301]  359349.0614  664392.9442  440352.3843  567521.9269  106243.2623\n",
       " [6306]  480777.0013  618545.2506  165499.2190  386088.6185  428379.7501\n",
       " [6311]  216271.3378  434820.9013  341280.5689  199091.3887  355409.6142\n",
       " [6316]  672241.6998  479836.5666  408812.7873  516418.4996  493294.8074\n",
       " [6321]  260734.7867  575613.6822  323692.2330  185468.5085  586028.4961\n",
       " [6326]  385600.7597  581577.5340  662380.1543  312836.9844  310050.3430\n",
       " [6331]  256333.1602  638529.1235  787294.9802  291971.2489  551174.8573\n",
       " [6336]  741988.4789  368360.2011  175659.4706  631264.1104  683593.0769\n",
       " [6341]  561534.7926  317417.9729  571438.0291  445386.7512  473946.0288\n",
       " [6346]  247034.3221  661894.7467  199286.2622  364766.1291  411915.1678\n",
       " [6351]  160739.0010  363924.5590  322646.7407  421487.7621  295332.8461\n",
       " [6356]  502756.7581  343620.9146  160919.3355  123368.5867  336178.7344\n",
       " [6361]  474005.9905  293660.7514  281447.9616  425193.9632  459226.0205\n",
       " [6366]  183091.7738  245404.7092   92231.9531  355543.3891  255716.6175\n",
       " [6371]  370547.1400  602319.1949  551787.2216  176138.2115  681630.5627\n",
       " [6376]  426416.9151  618949.5821  227536.0848  271580.6249  364526.1304\n",
       " [6381]  674122.2494  499351.3881  396936.3726  520472.6314  314328.7338\n",
       " [6386]  275166.4941  411486.2481  234484.4532  362638.0505  774389.4924\n",
       " [6391]  500876.7755  481874.2695  514847.6816  417363.1609  184103.3069\n",
       " [6396]  530160.3630  524583.0827  477019.3223  541108.7063  210298.6980\n",
       " [6401]  409662.9547  307160.7865  721380.1067  815924.3551  632572.8474\n",
       " [6406]  530456.1915  122481.4145  450327.9413  227446.2943  615227.0605\n",
       " [6411]  457110.4433  361845.5740  617030.0840  421666.5094  519335.9298\n",
       " [6416]  195382.7945  554751.5497  355123.8470  650007.3398  497852.8362\n",
       " [6421]  793673.6330  522002.6396  417080.0196  496728.7190   69295.9349\n",
       " [6426]  420820.4606  222916.0010  602028.2035  411188.2918  272383.0714\n",
       " [6431]  613568.0964  -45132.8667  186910.8027  204569.0850  267987.6158\n",
       " [6436]  671932.0433  470352.5967  -24268.1506  585297.2678  418302.9020\n",
       " [6441]  395535.6090  341699.1047  354024.2462  516166.5820  236183.6897\n",
       " [6446]  319173.6886  484653.7106  419946.6779  284938.0683  299559.4162\n",
       " [6451]  499071.9249  264697.6483  343948.2017  169006.0462   90972.0028\n",
       " [6456]  467163.9888  706680.5300  340639.3398  551660.4322  551152.5500\n",
       " [6461]  174755.5683  258315.4020  675692.8478  425525.3819  171985.7135\n",
       " [6466]  351420.6632  422636.8418  394750.9095  650528.4906  425110.0099\n",
       " [6471]  419127.3743  454620.8075  345432.3588  481824.6371  409947.5235\n",
       " [6476]  194527.4339  403295.3077  381562.4087  274417.5171  448565.4852\n",
       " [6481]  347155.1563  383282.4153  232226.0263  262996.6478  267300.3800\n",
       " [6486]  598915.7060  476463.5733  412748.7739  551693.8818  479600.7038\n",
       " [6491]  382599.2971  578415.3735  387206.0538  349060.8192  324749.1586\n",
       " [6496]  408264.9676  459399.3179  332181.2589  257652.3347  667838.3586\n",
       " [6501]  560026.8091  395443.3327  546126.7221  279538.1717  625087.6720\n",
       " [6506]  315709.8352  228704.8521  758102.6651  186567.6089  520873.1190\n",
       " [6511]  453554.9007  797891.5763  444195.4393  601330.8985  147745.3419\n",
       " [6516]  662859.4268  859113.7289  563198.0381  812552.3139  317079.1086\n",
       " [6521]  398482.8022  529473.0020  588724.0278  164115.2737  842788.7560\n",
       " [6526]  344437.8349  376175.4016  470108.3834  461052.5213  231001.8827\n",
       " [6531]  586004.6591  918400.0651  448706.9719  648928.5503  291318.6240\n",
       " [6536]  483554.8998  640604.1923  507845.0767  686725.1579  410478.9388\n",
       " [6541]  567513.7971  334370.6431  685963.2979  265548.9585  136469.6678\n",
       " [6546]  337801.3866  900220.5236   49552.3456  525229.5917  529533.0493\n",
       " [6551]  457529.5091  488735.1799  490745.1493   66241.4207  306326.0432\n",
       " [6556]  507205.4745  414645.9977  534638.1643  566799.1915  684521.3050\n",
       " [6561]  729168.1527  699852.8685  820961.7459  735411.5006  464157.8922\n",
       " [6566]  386412.9768  408038.0243  670502.9104  361789.2103  339914.3040\n",
       " [6571]  -23168.8556  276512.1302  389874.5072  522687.6651  278818.1626\n",
       " [6576]  496554.9084  541795.4230  208786.6106  422206.5689  293382.2207\n",
       " [6581]  501086.7645  381064.1033  466299.5338  559502.0843  621127.7536\n",
       " [6586]  321712.4645  685009.0307  419469.5381  524004.0738  565578.4315\n",
       " [6591]  202481.1829  394283.0121  394779.9324  397538.5805  397407.8795\n",
       " [6596]  578125.3189  322202.2696  594615.1875  247476.9185  112737.9465\n",
       " [6601]  645089.0592  224780.0931  417565.5290  388413.9617  428517.0573\n",
       " [6606]  314520.4247  240876.1969  356227.5437  389553.8889  224025.5295\n",
       " [6611]  359487.1376  529861.4140  376241.3871  521172.2608  228121.0020\n",
       " [6616]    9253.4817  250240.8464  664654.2821  227164.0540  638582.8019\n",
       " [6621]  461340.0963  557029.5374  332327.8117  411883.2899  505092.8525\n",
       " [6626]  482243.6596  482447.9764  199341.9055  363727.5528  273135.1928\n",
       " [6631]  764497.3296  273886.5208  467508.0048  377645.8518  462271.0429\n",
       " [6636]  280193.5991  180031.7248  383273.0078  342169.2857  104084.8321\n",
       " [6641]  355873.4858  658002.2203  443113.4114  321772.2755  610073.9305\n",
       " [6646]  645477.5211  535552.0095  735618.6724  418423.0211  446790.4935\n",
       " [6651]  385687.8020  375469.3360  487186.7537  443104.9881   46010.4323\n",
       " [6656]  578251.2165  746184.5983  581638.4309  514050.9446  300418.5772\n",
       " [6661]  401237.2972  543729.1591  568928.4663  788560.3862  524661.5190\n",
       " [6666]  247702.4680  239333.5387  297617.0807  486549.0385  358585.4426\n",
       " [6671]  250777.7169  377616.6103  233692.6777  188212.4508  362407.3071\n",
       " [6676]  504910.3588  733850.6626  668436.4577  419006.3043  294588.8935\n",
       " [6681]  152095.1328  461362.0434  281638.5683   78094.6793  126941.6596\n",
       " [6686]  703899.4940  580898.3536  323940.7663  488402.7881  615863.7690\n",
       " [6691]  468307.9802  531106.8824  421758.1158  407061.7881  453381.7244\n",
       " [6696]  194058.1272  578793.5644  404981.4515  692881.5796  294217.8876\n",
       " [6701]  119048.7752  359317.7669  357021.7617  331430.8849  387091.8250\n",
       " [6706]  234222.7507  369177.2166  353995.9205  440604.9273  226207.5397\n",
       " [6711]  142711.2747  212518.3815  483554.5307  315156.0554  273724.3950\n",
       " [6716]  508241.1675  576982.0861  556648.2553  443820.0553  376370.3359\n",
       " [6721]  482290.4870  211553.0477  362033.8121  535575.4100  514466.0340\n",
       " [6726]  433947.1149  194556.5100  426169.2349  535729.8617  308276.6265\n",
       " [6731]  190118.6011  497311.0218  298448.9629  176596.6415  333884.7884\n",
       " [6736]  314684.4260  437251.5078  381932.5942  241302.4136  436515.5283\n",
       " [6741]  575925.0742  455313.0214  460616.5635  396697.2306  499783.2089\n",
       " [6746]  599548.3902  315426.3377  524748.9025  523999.6541  663475.1605\n",
       " [6751]  281877.6405  502480.4671  421039.0148  101729.3255  567929.3071\n",
       " [6756]  443389.4922  360594.0916  457960.2361  368928.0102  367710.5653\n",
       " [6761]  327664.5880  261050.3486  572913.6431  442362.6106  411072.4872\n",
       " [6766]  386057.6962  370049.7039  470244.6265  247021.0516  542567.3039\n",
       " [6771]  386745.9993  380199.1961  517789.8874  275576.5393  424017.6606\n",
       " [6776]  274555.2669  453957.3639  407918.4541  359456.5474  183793.7196\n",
       " [6781]  324235.3408  212874.0374  833253.7088  493193.8650  422742.8684\n",
       " [6786]  408973.0430  418549.1116  270395.8385  200878.9733  538019.4888\n",
       " [6791]  745788.0743  476076.3013  315452.1230  614291.1932  911409.6650\n",
       " [6796]  507853.2527  609372.1423  377772.9459  259247.1915  599580.4335\n",
       " [6801]  480134.9603  362095.9271  631895.9631  595219.5738  187481.0911\n",
       " [6806]  650280.3344  279909.8879  634278.4334  211501.2062  371384.8089\n",
       " [6811]  258028.3932  557339.8356  293489.3176  823863.3328  644078.7875\n",
       " [6816]  360296.9741  369829.9345  152246.1305  521774.8740  383299.3675\n",
       " [6821]  498001.2501  685482.0135  438062.5429  724216.0106  415006.5893\n",
       " [6826]  590430.8054  238627.9642  770246.3704  707212.8283  394425.0668\n",
       " [6831]  304351.2263  597278.3270  563855.5712  435381.8391  579932.0219\n",
       " [6836]  308136.4832  315887.2982  342892.7226  678687.0877  208687.0545\n",
       " [6841]  376590.2929  492402.0183  627771.5250  387667.8299  280489.3924\n",
       " [6846]  834554.5346  409237.7108  300235.9286  319809.3279  412985.5159\n",
       " [6851]  131774.4920  277477.9229  577210.7978  250995.8609  746830.0307\n",
       " [6856]  683140.4245  282556.3645  444673.0895  558299.0730  601942.9878\n",
       " [6861]  683071.5232  354830.5582  619312.9684  417586.9423  158712.7144\n",
       " [6866]  264678.6574  425701.8967  623181.1052  492752.3953  204091.6564\n",
       " [6871]  458474.7086  157871.0626  634547.3083  427325.6899  691387.4741\n",
       " [6876]  360817.6173  537918.8424  517519.6645  322392.8588  265458.2037\n",
       " [6881]  248953.5289  801017.9345  235692.4025  188187.7505  355757.3187\n",
       " [6886]  745047.5358  681423.2572  781238.1460  118480.2607  212742.2235\n",
       " [6891]  467683.5661  428093.6083  448074.4985  132326.4684  629881.7900\n",
       " [6896]  390972.4628  394722.1091  650731.1853  290048.0780  229835.0579\n",
       " [6901]  257683.2172  287956.3794  453773.9035  350177.4620  277598.9869\n",
       " [6906]  249489.0040  568982.3184  720578.9296  546612.5694  578799.4190\n",
       " [6911]  490098.7726  763053.6960  455420.7580  711383.9058  592197.9120\n",
       " [6916]  645480.0206  624346.7265  587587.5558  477093.4379  525542.5726\n",
       " [6921]  609591.6386  355321.6163  668201.8697  683642.6817  110700.7352\n",
       " [6926]  460913.1421  636573.5337  218538.6623  522401.9819  731922.5429\n",
       " [6931]   56567.4641  175986.4538  563323.4705  693175.2668  427156.5683\n",
       " [6936]  459633.4644  184710.9199  417382.5848  537417.3812  780218.7645\n",
       " [6941]  229653.6630  684854.2622  206411.4341  291741.3764  533533.9553\n",
       " [6946]  593174.8563  473018.0175  479141.6818  486619.7493  201296.0979\n",
       " [6951]  190190.2564  370486.5799   81442.0420  174101.3234  469251.0053\n",
       " [6956]  607652.9342  119147.5037  426268.4423  612736.3922  435808.3635\n",
       " [6961]  510958.7360  534131.4901  288343.8567  304958.7311  458536.1220\n",
       " [6966]  602634.0630  485463.0616  519287.8953   25306.6821  614513.4181\n",
       " [6971]  474616.8038  300837.3654  442804.9259  686570.7150  310321.3322\n",
       " [6976]  500409.1275  620070.2615  191396.0423  602597.3867  440869.6826\n",
       " [6981]  641021.4172  220879.4960  611376.5734  289377.0131  562065.0262\n",
       " [6986]   34181.7666  339581.4672  159821.5216  280854.1045  510254.6712\n",
       " [6991]  694208.7729  451640.5582  643462.5391  478164.7962  -59022.7466\n",
       " [6996]   34409.0378  828667.2462  439099.8363  634816.4508  388506.5988\n",
       " [7001]  152055.2408  509569.1483  630999.4855  504428.9081  374260.3857\n",
       " [7006]  550624.8358  449077.2533  431018.3520  315777.8456  616956.6155\n",
       " [7011]   57105.0468  243647.4728  524700.3084  399981.7966  792393.7950\n",
       " [7016]  140502.0415  460400.1811  529960.5781  438783.2902  446690.0151\n",
       " [7021]  490018.3272   88641.4513  710001.0878  401004.4401  680040.9961\n",
       " [7026]  420642.6587  485970.7023  486233.2191  163523.6180  535239.9979\n",
       " [7031]  414194.5545  647178.2670  341459.5442  260258.1425  553118.2886\n",
       " [7036]  361358.1073  378763.6641  827695.2232  507694.1923  143396.2438\n",
       " [7041]  497348.2236  534006.7274  502287.4309  190774.5952  470892.2927\n",
       " [7046]  424147.4917   -5954.8387  603524.9457  818885.9435  668491.3232\n",
       " [7051]  178906.0313  595601.7767  475783.9750  426091.0275  253011.9124\n",
       " [7056]  257579.7890  682981.9053  401473.1097  541939.0656  290568.6707\n",
       " [7061]  227115.6949  193156.8558  205931.8391  416509.8373  706616.8073\n",
       " [7066]   71888.4355  532914.1566  622085.5147  535440.7252  249090.9611\n",
       " [7071]  533476.0162  307865.0370  566859.6361  176817.8813  125035.7327\n",
       " [7076]   65347.8357  383232.7967  333992.1865  369118.1381  669277.2743\n",
       " [7081]  430637.1256  356884.2001  532943.9249  558908.0247  569604.5463\n",
       " [7086]  357231.2904  194747.2589  358878.7893  191510.5081  421415.4492\n",
       " [7091]  424385.4684  499953.8995  381316.4076  268913.5444  422636.6854\n",
       " [7096]  211503.4361  580427.3555  -96312.2478  625063.3094  511087.2754\n",
       " [7101]  540402.3181  317366.7134  787419.7764  442354.3754   11727.7385\n",
       " [7106]  449272.2853  178895.2768  327304.0089  522263.0031  654629.9700\n",
       " [7111]  385367.2664  297574.8788  397256.0035  392703.9466  555894.9785\n",
       " [7116]  447396.5496  440082.1959  428318.8264    3819.1998  485076.5141\n",
       " [7121]  725474.8596  600230.6767  501647.2832  301155.0933  155534.0209\n",
       " [7126]  291125.2571  459697.6913  201735.1796  459804.6853  -18745.3825\n",
       " [7131]  289373.2066  505724.3992  689497.8358  344846.0702  466092.5815\n",
       " [7136]  337025.0282  217376.8256  398903.4527  584986.4583  523079.5189\n",
       " [7141]  467349.4598  268453.9894  288495.3010  619661.3291  328572.0320\n",
       " [7146]  473929.0663  436490.1550  540985.8964  322520.1025  472926.8648\n",
       " [7151]  532116.6424  609127.3253  344210.5159  383413.3633  370436.8728\n",
       " [7156]  180473.4820  568591.7584  491365.3786  584871.8124  677055.5916\n",
       " [7161]  466030.0680  631066.5003  299196.8701  674605.2107  643084.0966\n",
       " [7166]  585962.2992  557945.2112  428540.5072  249955.9631  588464.0175\n",
       " [7171]  351715.7402  448532.9591  562339.1300  467674.7799  480937.7901\n",
       " [7176]   76495.5927  477098.7392  506588.4232  470974.9023  564511.0736\n",
       " [7181]  635144.5641  721638.7535  397558.1956  292163.8376  191632.8446\n",
       " [7186]  289528.3137   44519.1889  627326.1737  675992.9416  329951.0297\n",
       " [7191]  536319.3612  400175.4161  161169.7574  382833.3594  440259.6736\n",
       " [7196]  427936.1101  113195.9008    9843.0433  856764.4086  539924.5088\n",
       " [7201]  459760.2749  265191.0588  485758.5561  829017.7522  621772.6535\n",
       " [7206]  216946.6763  643499.4135  369796.9591  189899.8082  701238.1020\n",
       " [7211]  364610.3221  370388.5120  203398.9513  604758.3934  180442.8604\n",
       " [7216]  591989.0900  261816.2356  610878.2650  199799.7460  585360.7390\n",
       " [7221]  451264.1207  385341.5129  658731.9770  282949.4531  130180.8497\n",
       " [7226]  492456.8101  766249.4839  197178.1384  -53331.0100  560034.3249\n",
       " [7231]  511393.5630  135279.3875  560703.4951  480776.6647  340614.7284\n",
       " [7236]  448196.4986  733975.9737  568475.9036  446211.6127  318282.8507\n",
       " [7241]  360725.0329  323176.5757  274475.8615  470870.1905  378769.7921\n",
       " [7246]  516244.0445  154829.9554  630011.9725  232002.7778  357885.5097\n",
       " [7251]  384897.5666  263278.3786 -133930.9935  310950.6964  797801.3690\n",
       " [7256]  737532.0849  313068.7093  581479.7992  730019.9400  598796.8320\n",
       " [7261]  215850.4916  583630.1687  834544.9132  467469.1745  434244.1680\n",
       " [7266]  697907.0661  598362.3278  106476.4913  559888.7246  319895.6175\n",
       " [7271]  337116.3128  206686.7166  639702.3982  294498.9485  718955.4037\n",
       " [7276]  364054.2165  551893.3499  700128.5647  280843.8231  298745.0119\n",
       " [7281]  429747.5388  294815.4614  331682.6190  639431.0387  640273.1521\n",
       " [7286]  480601.1269  731242.2324  580216.2948  320605.4874  663906.3120\n",
       " [7291]  465141.1550  418124.3484  748235.5108  203803.3242  343921.4125\n",
       " [7296]  249733.3940  662171.2159  476095.7271  412064.1162  510110.9824\n",
       " [7301]  108359.6229  544078.7470  418312.1489  -57486.2597  417820.5612\n",
       " [7306]  139345.9259  464783.4381  339939.2423  199193.3081  413441.4697\n",
       " [7311]  351044.7503  364733.0967  641462.3560   42438.8517  598060.0965\n",
       " [7316]  455025.9804  498420.1673  339699.8538  191178.5089  287348.9975\n",
       " [7321]  279100.8680  573879.8721  485759.6347  631236.4099  317557.7164\n",
       " [7326]  285820.2732  519956.8908  713753.1944  460670.5826  278068.8526\n",
       " [7331]  573242.5716  182923.1903  525365.5048  351512.2046  518599.2229\n",
       " [7336]  562266.7568  369554.5935  449958.8641  402534.0122  546852.9265\n",
       " [7341]  648354.1231  186032.7351  554966.2524  958611.1056  436225.5242\n",
       " [7346]  431118.5932  201569.3739  555527.5365  464412.7037  294249.5786\n",
       " [7351]  537257.3825  642820.0509  319883.6805  291518.1611  501035.1597\n",
       " [7356]   97993.5335  792101.3944  379909.0478  470463.0820  370612.8956\n",
       " [7361]  322509.6968  512101.4813  422070.2793  410024.1970  325713.3856\n",
       " [7366]  127187.3133  675268.4927  679514.7823  341873.7154  500372.2630\n",
       " [7371]  581192.7471  229971.1512  450780.6317  294641.0318  546611.5345\n",
       " [7376]  518076.4189  664635.9937  435723.6193  348455.3172  110410.6610\n",
       " [7381]  503271.5965  320669.2620  474657.1266  227664.0933  473716.1491\n",
       " [7386]  518648.7741  512905.3309  351724.8832  635738.5367  379028.7778\n",
       " [7391]  505012.1491  314301.9617  226871.7441  515392.4372  815612.1317\n",
       " [7396]  531199.9713  591772.8614  434513.1821  493743.4270  368396.5238\n",
       " [7401]  173543.5639  299274.0589  340913.3000  591969.9681  552491.2396\n",
       " [7406]  530829.3689  372561.6118  414657.6214  364225.0658  604921.8481\n",
       " [7411]  472565.0847  234742.6888  490178.1022  496729.7833  425373.8107\n",
       " [7416]  461919.9498  576723.7618  701725.1419  462431.5511  238555.2994\n",
       " [7421]  581073.5569  246277.3047  518300.7443  661083.3379  649219.3317\n",
       " [7426]  387313.4697  340012.0008  322323.4176  514627.9526  542614.4463\n",
       " [7431]  659387.7548  286313.8168  407835.7850  494532.6345  310811.2766\n",
       " [7436]  323900.9159  528739.1394  223940.7045  576582.5072  416643.8515\n",
       " [7441]  214026.9291  537549.2873  509560.2638  270157.2851  641726.5564\n",
       " [7446]  223087.8938  236239.5829  208768.7484  250041.8901  537267.4650\n",
       " [7451]  611656.9911  539393.2263  456798.4088  177563.3479  529215.5197\n",
       " [7456]  389181.2979  423846.0404  391961.5501  271379.9795  239154.7755\n",
       " [7461]  396286.1307  418372.9064  512961.9352  592575.2550  215985.7559\n",
       " [7466]  537934.7383  390013.0144  510392.9467  323331.5324  160414.0713\n",
       " [7471]  740014.6513  416908.0877  378954.9122  311842.5583  528074.1669\n",
       " [7476]  481397.9328  342625.6377  505896.5015  380650.0255  642905.1222\n",
       " [7481]  347990.8094  341768.2343  387480.9679  258769.8644  380034.6171\n",
       " [7486]  170667.5753  353760.2056  239792.7756  385942.4864  376944.0953\n",
       " [7491]  473175.3640  377317.0164  430873.9127  178820.9327  347992.7584\n",
       " [7496]  146373.0923  326669.7329  128432.0145  482474.5477  574365.9355\n",
       " [7501]  724459.5129  480072.5563  867019.0178  645939.9744  569493.4413\n",
       " [7506]  390008.6254  128988.2270  287032.2784  487249.2645  630401.1206\n",
       " [7511]  380846.3029  268165.9355  468639.4786  469806.7983  349117.4986\n",
       " [7516]  491330.9500  352482.8583  526853.7456  413423.4601  509200.1521\n",
       " [7521]  476674.3163  316211.4011  372243.8392  357081.4087  557549.6565\n",
       " [7526]  546642.7498  321376.3324  596607.3308  208623.7274  154975.0107\n",
       " [7531]  509527.9950  476492.6338  387793.0778  392975.7080  511043.4893\n",
       " [7536]  603664.4073  300916.3262  796079.0297  481503.6058  390189.4319\n",
       " [7541]  311573.8301  463547.1446  266792.0809  407826.9558  617445.4868\n",
       " [7546]  313806.8123  345805.0816  888195.9582  691314.9162  331905.2721\n",
       " [7551]  642607.0607  151834.1873   30200.8367  506882.7975  401093.3651\n",
       " [7556]  395799.1687  452328.3016  333940.7286  485071.7865  657249.5861\n",
       " [7561]  823030.2520  432915.8785  310233.3746  166261.7217  178224.1039\n",
       " [7566]  760787.1793  168212.6069  699141.7256  593715.7567  374946.2956\n",
       " [7571]  737625.4283  225401.4838  154912.8297  365975.4057  211211.9269\n",
       " [7576]  440140.6812  484805.6499  209760.1625  850796.3455  647556.9588\n",
       " [7581]  551477.8277  597908.6270  515828.1376  539099.5596  649808.7336\n",
       " [7586]  488540.8223  625771.7994  682599.7647  481441.5745  621096.1502\n",
       " [7591]  532500.0287  374661.2804  352199.8426  517485.6851  310727.3031\n",
       " [7596]  539518.2558  741468.7967  376393.4409  302822.1411  582136.9731\n",
       " [7601]  622341.9850  550585.1520  147605.8434  353447.8211  551256.3205\n",
       " [7606]  445687.2781  385957.8867  574808.7091  570971.6092  476018.5192\n",
       " [7611]  440455.7665  464177.6654  337629.9665  368471.2014  205746.2929\n",
       " [7616]  399771.3844  401770.6870  705039.6954  491943.9252  549163.3607\n",
       " [7621]  322945.4105  496773.6729  381393.4447  650670.9028   61463.4325\n",
       " [7626]  735199.4367  498829.7879  617105.0564  456039.2828  418137.7733\n",
       " [7631]  442625.6517  665852.9542  179182.9018  465204.3857  512945.6035\n",
       " [7636]  206117.4856  354959.1790  528871.4309  672332.1367  598044.2333\n",
       " [7641]  342233.8544  314064.9715  315417.1975  455582.0426  338643.2689\n",
       " [7646]  216224.8528  468945.0401  613042.1259  524885.0998  625662.4079\n",
       " [7651]  537834.9446  403867.5761  269843.1437  486144.8961  675672.1977\n",
       " [7656]  463742.4267  545379.1491  590888.6838  329975.9217  201700.4452\n",
       " [7661]  377757.1229  763307.0991  450006.5350  451927.7369  430159.3849\n",
       " [7666]  319846.2137  272248.6325  552740.4789  536155.5706  500489.0484\n",
       " [7671]  412666.1844  841575.4115  450385.5319  772643.7751  713082.2814\n",
       " [7676]  242424.5676  599850.3125  265809.9425   30196.2788  731405.4363\n",
       " [7681]  393583.9341  820930.5953   73019.6109  210679.2781  244175.1964\n",
       " [7686]  657456.0531  570496.1405  279715.8154  290087.0850  619845.9319\n",
       " [7691]  251379.6175  628329.2379  177346.1204  286101.0754  230238.3202\n",
       " [7696]  607731.0266  459696.5798  233287.9356  548883.0689  712920.4651\n",
       " [7701]  166236.7050  364192.1038  650238.8872  338644.0764  380896.3309\n",
       " [7706]  265286.6848  678408.5665  237685.3973  645222.6540  295531.5229\n",
       " [7711]  701120.4071  545336.7888  769489.9935  712932.3745  420078.5104\n",
       " [7716]  699090.7985  450228.4414  417318.7477  353150.1484  835748.4053\n",
       " [7721]  565308.3221  548185.2337  523329.9936  545074.8435  334080.2692\n",
       " [7726]  254338.1973  461841.0603  261401.6186  363553.8920  439902.6772\n",
       " [7731]  198992.1589  159696.5029  452312.7007  268535.0883  489996.7135\n",
       " [7736]  184084.6033  550107.1291  341368.5406  -70406.0128  497231.3582\n",
       " [7741]  465942.7373  627581.8806  395478.6099  442927.1026  518197.1829\n",
       " [7746]   -1255.0291  428849.8473  836509.0782  745325.8420  535521.6829\n",
       " [7751]  211694.1405  291938.4812  292437.2254  674279.8569  216142.2798\n",
       " [7756]  722225.9094  363538.6886  568019.2843  507133.1232  526699.6631\n",
       " [7761]  -15818.9944  586321.1706  545115.8551  395384.9519  642282.0137\n",
       " [7766]  272321.5358  478363.3954  458264.3100  741176.6612  521359.9620\n",
       " [7771]  306451.5404  440053.1248  411842.5659  -35623.9778  363745.0319\n",
       " [7776]  550862.1414  366870.6689  466141.8389  279159.8947  494812.6019\n",
       " [7781]  512515.1786  285402.3913  549264.9048  261385.4578  566618.8036\n",
       " [7786]  610278.5710  561581.9203   20198.3375  438894.5397  174872.4009\n",
       " [7791]  373575.8547  572051.0229  262066.6610  474000.4878  631329.6026\n",
       " [7796]  528441.0403  746732.9946  153334.3770  376576.3762  471073.9389\n",
       " [7801]  208386.1187  514857.6003  598382.8738  204533.8296  342980.8927\n",
       " [7806]  406137.1219  463954.7929  392647.2341  666434.2334  284354.6064\n",
       " [7811]  353602.7023  505805.7873  307633.8453  479828.7649  556344.5724\n",
       " [7816]  300059.7209  376051.9858  499050.4624  497437.9196  347705.1305\n",
       " [7821]  293463.3828  331843.8426  166972.3673  920428.1586  101752.1881\n",
       " [7826]  483914.6700  367748.1406  515270.7046  512460.4057  607375.1769\n",
       " [7831]  489994.4280  489099.8588  434404.1421  279642.5770  750645.6620\n",
       " [7836]  478533.0297  302546.7235  149509.2143  735121.6864  468500.1793\n",
       " [7841]  261136.9903  462043.7777  396388.3872  534614.5117  154244.5472\n",
       " [7846]  682954.3712  397208.7170  413709.2706  532955.4538  607217.1417\n",
       " [7851]  375507.6186  731078.1398  694350.9084  627382.8521  142924.8958\n",
       " [7856]  470200.9850  476667.8629  341996.0935  408144.8924  480004.3821\n",
       " [7861]  236207.6320  630410.5408  259435.4955  129203.9084  272298.3886\n",
       " [7866]  921683.5461  575677.2780  743993.2298  361074.8764  359117.1495\n",
       " [7871]  674224.1782  546024.3053  435443.4898  679965.1502  456626.8674\n",
       " [7876]  704541.9033  472011.1915  500636.3911  258123.7942  566771.2325\n",
       " [7881]  628462.0964  469605.2307  512500.9314  284501.7128  424728.1025\n",
       " [7886]  231395.7490  715330.4342  863192.9176  508088.1333  738543.2569\n",
       " [7891]  759242.3228  424946.5685  336913.5298  646629.4770  683948.8542\n",
       " [7896]  347300.6318  370796.1362  418508.2333  472171.9107  347737.1760\n",
       " [7901]  326146.1820  413113.1577  305499.2445  342380.4163  653256.7577\n",
       " [7906]  332441.0449  545799.8660  225347.4175  499815.4174  517079.2816\n",
       " [7911]  678307.8342  345164.2420  320501.3436  424222.7755  282300.1124\n",
       " [7916]  395932.7237  375586.2451  782352.9299  635482.8136  638499.3295\n",
       " [7921]  418834.2141  459419.6936  341049.4252  372654.8472  397181.8073\n",
       " [7926]  452998.5421  407236.8623  169871.1716  494492.8778  455647.2951\n",
       " [7931]  465152.4337  603582.3457  904725.4936  485002.6962  244721.9035\n",
       " [7936]  358861.5970  203013.2211  629035.6901  487783.4962  475391.5772\n",
       " [7941]  447232.0903  719754.7227  389848.9142  514754.9946  566045.0762\n",
       " [7946]  446409.0713  526585.2336  302433.3510  474258.4816  527838.9804\n",
       " [7951]  203234.9165  122422.3780  598271.9366  763502.5516  334594.4320\n",
       " [7956]  472309.3376  208821.9845  523089.5542  396427.7528  250683.5893\n",
       " [7961]  245363.4215  565480.6466  328019.7862  394122.7984  382609.2810\n",
       " [7966]  571818.5696  358724.9106   65477.0741  294885.6671  684736.4254\n",
       " [7971]  754822.7013  140419.4495  817310.9316  461823.0317  710195.3392\n",
       " [7976]  385683.5195   90649.1970  132465.3825  812139.2342  562808.3635\n",
       " [7981]  505488.7542  194073.0695  554912.8708  503778.7212  181848.0249\n",
       " [7986]  420880.1633  542517.6074  478755.7676  506257.1345  147518.2417\n",
       " [7991]  594434.3986  315583.6928  243808.2889  498373.4936  405824.8100\n",
       " [7996]   87318.0528  142720.8205  801901.4364  694956.3473  298476.5275\n",
       " [8001]  417286.2153  297502.7123  317048.2196  429966.2736  361307.1623\n",
       " [8006]  571512.1604  742739.3550  197730.4380  527661.5815  353619.6262\n",
       " [8011]  327535.7229  474878.0839  113117.7394  659568.6141  385699.9203\n",
       " [8016]  331038.6991  113311.0689  485993.4447  426839.2235  538114.7590\n",
       " [8021]  393258.3640  804886.4745  463485.5133  470327.4152  201377.6883\n",
       " [8026]  526502.1698  154316.7407  505562.5202  290019.6922  416741.5139\n",
       " [8031]  403519.8122  476896.3228  641697.8687  531982.2539  696110.8875\n",
       " [8036]  559379.2105  539415.4998  488168.8246  451566.6336  172360.9350\n",
       " [8041]  443549.5661  460735.8507  446443.7414  439239.6738  425649.3500\n",
       " [8046]  264163.0705  314106.5512  248159.6303   90983.4569  799759.4071\n",
       " [8051]  400293.4554  286498.4860  333227.3211  631273.2605  376307.8145\n",
       " [8056]  379495.7638  527453.5554  394021.3809  411845.9937  539689.9829\n",
       " [8061]  368918.8489  418847.2637  699662.6565  506947.2978  780298.0210\n",
       " [8066]   95219.7757  448196.6279  383658.5567  352689.1470  468913.7778\n",
       " [8071]  301696.7190  456198.4190  435542.6263  342638.4284  212285.9507\n",
       " [8076]  367336.5370  677189.9429  410135.8880  494752.7942  226440.9865\n",
       " [8081]  389543.1290  682272.1108  307570.2000  772976.6899  172994.6082\n",
       " [8086]  818111.6111  589378.7113  479211.7638  552520.1244  301102.1979\n",
       " [8091]  397852.0855  223855.1056  432808.6020  897316.6038  630092.0519\n",
       " [8096]  363107.3444  448438.8433  424470.7355  575390.2703  523249.1885\n",
       " [8101]  166915.5361  395349.5273  315076.4574  255529.9671  515654.8134\n",
       " [8106]  545764.9393  392628.9870  383185.9048  309615.1877  201614.5928\n",
       " [8111]  347478.2419  227545.9895  358553.7572  789090.5041  734796.4745\n",
       " [8116]  465657.3172  881113.7966  454294.2410  603478.1157  350435.4832\n",
       " [8121]  372730.9391  628290.8899  663424.8213  415502.6624  328713.8492\n",
       " [8126]  489316.7193  472606.8273  331546.9916  414943.3779  549551.8607\n",
       " [8131]  617134.7423  388942.2462  308713.2873  593248.4457  217546.2451\n",
       " [8136]  502365.2693  534764.7733  158371.8693  435932.0485  674880.0357\n",
       " [8141]  871179.2489  681048.1821  446831.2261  388365.3060  631276.1461\n",
       " [8146]  647151.8661  437191.1946  407677.6933  573094.7297  410573.6490\n",
       " [8151]  401219.1128  545424.1380  446970.8807  310332.9656  529202.7686\n",
       " [8156]  446894.0939  368318.6978  242787.3674  359143.7570  454204.8250\n",
       " [8161]  497061.3544  434595.6537  137211.5569  467265.5030  474842.4428\n",
       " [8166]  383504.0103  334915.4465  168933.9979  579824.8152  346979.1650\n",
       " [8171]  202646.9085  556606.3451  367924.1221  408191.5300  414991.5208\n",
       " [8176]  433256.3188  426579.4358  476436.3028  421825.5182  149309.1678\n",
       " [8181]  644387.4431  208381.8963  400266.5927  444086.1755  233297.0758\n",
       " [8186]  413555.0116  285495.9682  596564.7726  483629.9476  998366.1424\n",
       " [8191] -111436.5593  537896.0851  296386.9571  368800.6491  453345.4013\n",
       " [8196]  448556.5533  655235.4013  745558.4212  364409.9848  800721.5074\n",
       " [8201]  300385.7336  -41773.3562  427087.4019  654717.3449  562348.4226\n",
       " [8206]  702785.3398  216511.1059  533854.2212  306271.4756  283073.8844\n",
       " [8211]  482531.4499  273059.1097  433166.0283  599255.0856  515214.8400\n",
       " [8216]  419376.0233 1009817.3444  478089.7168  436964.1895  464200.0111\n",
       " [8221]  460385.1701  261426.8024  615795.4022  821799.5941  453068.2229\n",
       " [8226]  414999.2902  297455.5648  701457.5467  451127.3914  190327.5141\n",
       " [8231]  616368.4314  720219.6387  546469.9304  539994.5030  266388.4708\n",
       " [8236]  673657.8534  314946.6069  779498.3600  203640.3964  506021.1879\n",
       " [8241]  134671.8828  560234.0922  713402.8907  619110.4911  223145.1092\n",
       " [8246]  217979.6442  454153.3634  596276.3384  491372.1715  397595.5205\n",
       " [8251]  495266.4550  376295.3311  405565.0461  412937.6897  531553.3271\n",
       " [8256]   30672.0558  302228.9590  246206.8692  350896.8264  192848.4112\n",
       " [8261]  320737.9586  278579.1393  334214.3365  143994.0152  375363.0551\n",
       " [8266]  467767.8681  162093.3023  236300.3764  147629.0542  828849.1924\n",
       " [8271]  598870.5607  370075.4583  308619.4241  236040.9240  335213.4515\n",
       " [8276]  377469.6290  705416.3430  664941.9015  299626.1120  249115.5812\n",
       " [8281]  520813.9446  595114.6070  335717.5015  386948.9259  424449.5212\n",
       " [8286]  371624.3434  300897.9505  680748.1753  160783.6041  488020.8848\n",
       " [8291]  556661.0407  287080.3009  208632.5281  221609.3162  532929.2634\n",
       " [8296]  145951.4954  300499.8841  560770.8064  707811.7210  199116.4948\n",
       " [8301]  370770.5714  346434.2703  316643.8792  475381.0472  669068.4215\n",
       " [8306]  605295.2262  172732.9784  523871.4695  390630.7710  632814.1921\n",
       " [8311]  184556.0743  259194.0995  361259.9728  483513.8666  402883.1211\n",
       " [8316]  432407.6369  262195.6742  267934.0558  405330.0746  365758.4182\n",
       " [8321]  382349.1175  577974.2152  445782.3134  335028.7748  181961.4221\n",
       " [8326]  355713.8299  417198.6071  360673.3360  243608.0816  388626.1395\n",
       " [8331]  551061.6655  570578.3618  533082.2642  625235.6212  488767.0911\n",
       " [8336]  785878.2550  737777.1134  695785.7963  230684.4796  490955.1229\n",
       " [8341]  451738.0228  337382.4628  337142.7550  409131.4036  491658.8793\n",
       " [8346]  638041.7505  502307.1684  309083.1880  350878.3043  569962.5745\n",
       " [8351]  526946.5537  309820.6726  520690.7100  415100.8644  231956.9482\n",
       " [8356]  571929.2709  589762.5289  250734.3583  256899.8055  231686.5964\n",
       " [8361]  472843.1179  596434.4897  311422.7456  517016.4169  613852.8210\n",
       " [8366]  523042.5531  161504.8805  472727.1800  396782.6494  276999.0343\n",
       " [8371]  696825.6123  483612.1075  558915.6818  363859.2592  672873.0374\n",
       " [8376]  707356.0710  260232.3154  291116.4497  357058.0891  510523.8359\n",
       " [8381]  187168.5756  866581.0899  219770.6702  528165.1132  493259.2973\n",
       " [8386]  414767.4437  382706.9386  261795.1892  600867.9385  278990.4479\n",
       " [8391]  552737.8924  303102.1454  225007.6368  298358.1726  355259.3787\n",
       " [8396]  371675.6453  263330.7379  252352.3697  494332.9837  502170.2548\n",
       " [8401]  693697.1247  554866.3699  378225.8443  280229.8480  651522.8160\n",
       " [8406]  446986.5491  647502.4532  621394.8701  250734.3287  297217.5933\n",
       " [8411]  694294.0710  620078.0140  529112.5260  496378.1837  361681.1221\n",
       " [8416]  341433.5079  582287.1373  783502.7338  350408.5744  706274.8568\n",
       " [8421]  285123.9461  407961.5216  508860.3716  153766.3580  349070.6159\n",
       " [8426]  649299.5178  500903.6816  370803.0343  479528.8272  392889.9975\n",
       " [8431]  353526.4505  249742.7375  171526.5575  431951.4648  504635.1258\n",
       " [8436]  271681.2984  240258.4803  330586.4548  426278.2591  742706.0969\n",
       " [8441]  979344.9509  584157.4720  734538.7000  577348.5274  521029.3428\n",
       " [8446]  395969.6300  231154.5156  776236.8266  529218.1550  676169.2311\n",
       " [8451]  839064.7415  611134.9865  527723.5193  539555.3701  366844.1699\n",
       " [8456]  801838.6322  403071.4636  511615.5868  413230.4950   74678.1260\n",
       " [8461]  507499.3783  204416.5649  184682.0835  425494.6867  275747.5703\n",
       " [8466]  730418.1574  311307.9086  585073.9824  503072.4564  556709.8567\n",
       " [8471]  222424.1237   45102.7144  131335.1688  695115.5232  283306.3037\n",
       " [8476]  242536.0647  529371.1453  691856.4369  503420.0531  336664.0658\n",
       " [8481]  386734.0679  485634.4242  740412.8576  543574.7877  417104.2411\n",
       " [8486]  322496.2672  429685.1370  987118.8801  729989.0512  265263.2339\n",
       " [8491]  477110.1245  188552.8721  317546.8137  634111.3423  497570.0204\n",
       " [8496]   94214.3454  529378.1694  369563.2090  501223.9581  407238.7305\n",
       " [8501]  534600.5856  458187.4567  -31786.5393  534680.1527  383765.9002\n",
       " [8506]  556180.5620   63724.1296  366397.6986  591461.1281  427528.8103\n",
       " [8511]  546397.0164  610085.7743  348295.1228  403425.4520  509955.6643\n",
       " [8516]  773613.7686  549006.1786  308540.3395  570904.5008  386191.8872\n",
       " [8521]  525443.3056  350082.8777  187618.7948  306946.4543  787015.6416\n",
       " [8526]  475205.0309  553127.9684  352132.0316  163091.7414  279090.3209\n",
       " [8531]  461993.5456  461448.9912  541849.8252  350312.8101  239561.9796\n",
       " [8536]  524936.3986  575164.9400  388912.8792  621900.4056  334415.7491\n",
       " [8541]  435229.7864  513581.6650  526125.1469  477938.9658  489575.8629\n",
       " [8546]  316718.4195  698577.9701     173.2040  486099.0710  363297.5750\n",
       " [8551]  406063.5817  721962.6777  336919.3197  522300.5182  535477.4033\n",
       " [8556]  426782.8526  456930.5795  553055.1889  -74940.9640  127619.2429\n",
       " [8561]  793871.4749  559957.7738  544992.1495  766255.8753  302770.1417\n",
       " [8566]  224361.7486  760919.1763  127525.7677  351947.6008  773146.8237\n",
       " [8571]  506044.1863  682902.0506  334592.1569  560842.2362  638352.4276\n",
       " [8576]  517248.0475  235015.0137  617635.6633  490872.7598  456154.1650\n",
       " [8581]  186542.0931  572093.0621  284213.4887  288944.0198  633017.7960\n",
       " [8586]  691856.3393  668774.3696   10403.6455  300829.9590  555323.3281\n",
       " [8591]  653360.1440  501860.2373  648510.6678  300115.5915  438005.2703\n",
       " [8596]  362619.8153  348852.3139  559524.0082  680885.9664  491035.9503\n",
       " [8601]  683937.8607  447892.2241  311962.2876  339587.6129  139340.2555\n",
       " [8606]  254893.2357  593471.3551  223668.0529  285936.2082  116717.1396\n",
       " [8611]  568735.5651  394780.6267  543190.1601  174243.5208  525038.3797\n",
       " [8616]  457024.6037  517727.5318  345454.0889  610728.3682  634220.3018\n",
       " [8621]  388116.1948  310681.8494  290509.9855  465978.0617  296346.2080\n",
       " [8626]  311310.4461  623699.2091  631639.3994  627874.9655  346952.7180\n",
       " [8631]  602566.9200  586467.4753  472005.6742  508350.1485  183649.1290\n",
       " [8636]  549561.2262  217807.9491  343202.7549  712838.6346  285202.6961\n",
       " [8641]  416811.8935  326627.0992  473020.8955  253959.5742  420860.6825\n",
       " [8646]  549912.7276  571660.7467  559484.4642  546386.8388  378111.0226\n",
       " [8651]  213150.6549   -9534.7771  232018.6159  555097.6496  349803.7662\n",
       " [8656]  422419.2332   39127.8888  420668.6230  492142.9317  136387.9317\n",
       " [8661]  418094.1416  309197.4375  219566.9478  330685.3380  561584.1482\n",
       " [8666]  601201.2918  611761.4895  427538.8240  598486.5918  334689.2561\n",
       " [8671]  592155.1469  407430.6173  220578.8418  605428.4747  496649.5812\n",
       " [8676]  115484.1402  438057.5837  685481.6842  294972.3433  206514.8698\n",
       " [8681]  406398.6265  208397.0407  353718.1150  284155.9494  754023.7903\n",
       " [8686]  403827.5107  494789.0873  267204.6055  325172.4992  213346.4339\n",
       " [8691]  319628.3252   52169.5187  705812.3276  444084.5199  506217.9258\n",
       " [8696]  452176.8384  279662.1622  238696.1665  398230.7612  656453.0383\n",
       " [8701]  242666.1069  695508.1192  711703.4877  431570.6925  497251.1927\n",
       " [8706]  335132.6463  482263.3395  336439.1703  434582.0960  574267.6244\n",
       " [8711]  718194.5566  251881.2861  329145.5770  459800.2855  465493.8763\n",
       " [8716]  389755.3976  221001.6262  497905.2509  497046.5786  601432.6883\n",
       " [8721]  487253.6384  480054.4010  300076.7472  211238.2279   92804.9775\n",
       " [8726]  667908.7381  432255.4678  337873.2094  440460.9247  250265.8733\n",
       " [8731]  498121.2421  543992.4374  571830.9776  917696.8799  151555.9016\n",
       " [8736]  426515.9999  694632.4880  250806.1639  534342.4699  780755.2209\n",
       " [8741]  205753.4073  629616.6772  144546.8973  545960.3842  374582.1714\n",
       " [8746]  399051.5925  699312.4398  715447.0758  259010.9991  137230.2140\n",
       " [8751]  733629.9830  637289.2179  279864.5791  262654.0889  444287.4013\n",
       " [8756]  326337.4308  651477.4125  234710.1262  761627.6415  576600.1341\n",
       " [8761]  690612.7256  206971.9636  532998.5182  546280.9207  248370.2650\n",
       " [8766]  111373.6078  234872.3298  255999.8235  316287.6438  513531.7528\n",
       " [8771]  508054.0302  185065.5543  601002.6208  294140.4067  204092.4185\n",
       " [8776]  645570.6763  448858.8047  721231.0127  134953.2576  501676.5165\n",
       " [8781]  276742.3079  414497.2589  270856.6234  355408.0854  418652.6728\n",
       " [8786]  294623.0063  391539.8097  391585.5294  477657.2162  626048.1885\n",
       " [8791]  123527.5503  272700.7207  301039.4701  356825.3784  378458.6472\n",
       " [8796]  725207.1554  649332.0676  513877.6565  347901.6351  199192.6001\n",
       " [8801]   97124.8731  668705.3439  280234.8908  453932.8616   59731.0370\n",
       " [8806]  500025.7261  512020.9316  515316.0730  807186.9573  647724.4978\n",
       " [8811]  415333.3306  529312.8720  622787.5062  590697.5551   87699.7797\n",
       " [8816]  609892.5370  688093.5901  273986.8325  416170.2434  360428.7161\n",
       " [8821]  307183.0142  231434.6068  759909.4123  400476.8153  334934.5022\n",
       " [8826]  387788.5255  493844.0156  154574.0903  579874.8183  354152.2731\n",
       " [8831]  572858.2185  424124.7856  624251.0067  407277.3177  453834.0007\n",
       " [8836]  449500.2589  631115.6754  492259.2346  154009.8705  608764.0880\n",
       " [8841]  541744.5187  466801.0347  304515.2325  292526.3536  408187.0741\n",
       " [8846]  734412.1239  604023.6398  322596.0765  419630.3484  764018.8220\n",
       " [8851]  359957.5213  601569.5521  173378.7369  282283.2977  190187.4648\n",
       " [8856]  398419.7817  649197.0390  437190.6562  463761.9784  610393.5024\n",
       " [8861]  513967.2940  705025.2968  114460.1833  655524.0463  291326.6091\n",
       " [8866]  585079.0652  627699.4708  441553.6438  538479.4540  560298.6301\n",
       " [8871]  389000.8594  458572.6600  671810.9842  772677.0371  674122.6113\n",
       " [8876]  446674.8626  667329.5091  326942.0787  360980.9224   95069.9954\n",
       " [8881]  429470.1007  535813.4342  669433.2060  390630.0303  364865.6797\n",
       " [8886]  522041.6361  597992.9451  248424.5591  241284.5350  233628.1259\n",
       " [8891]  546279.9354  513710.7605  399064.4274  132941.0765  664827.4825\n",
       " [8896]  541085.9752  713902.7501  356172.1221  591555.8078  400106.8402\n",
       " [8901]   89048.9045  172979.1349  499785.5153  174825.7390  518427.5155\n",
       " [8906]  325909.3352  269777.2278  363255.9271  359286.6329  523933.3468\n",
       " [8911]  480792.7868  138853.5445  280846.9224  722788.0970  557965.9991\n",
       " [8916]  716557.0300  164111.4378  722518.5317  432201.6397  210728.3314\n",
       " [8921]  433976.9169  353589.8332  547462.2600  486973.8729  373012.0542\n",
       " [8926]  429796.5443  284171.0436  292390.1031  339602.2827  319995.0116\n",
       " [8931]  221046.2397  287765.2775  448718.7820  585575.6542  633617.1451\n",
       " [8936]  635765.8165  462801.9487  658409.3008  451511.5108  318216.3785\n",
       " [8941]  373841.9332  316182.8686  341425.0996  349152.5980  244775.6692\n",
       " [8946]  319892.4741  592920.7447  588539.3660  487189.4766  119790.6101\n",
       " [8951] -195035.6042  359753.9613  376446.3738  496843.7365  195491.4581\n",
       " [8956]  540735.6936  357686.9664  629132.4626  409329.7461  599053.7336\n",
       " [8961]  313015.1164  675613.7637  525848.3554  417479.5962  408417.0909\n",
       " [8966]  538394.9012  292587.6994  430373.9402  565032.4534  299875.3409\n",
       " [8971]  859239.1056  501433.8129  384649.2052  368504.8716  242197.2818\n",
       " [8976]  268586.0946  520288.5699  579366.5213  325811.4890  571716.4947\n",
       " [8981]  240085.2893  671072.6518  533626.8005  445791.6461  380656.4234\n",
       " [8986]  596961.2696  567546.8433  515655.7657  531701.5050  276000.3194\n",
       " [8991]  465280.1722  110267.7069  581480.8046  738664.7559  245595.2069\n",
       " [8996]  447112.6214  482417.9263  553985.2039  693737.3640  128453.4213\n",
       " [9001]  164812.9582  474066.3364  402490.1211  274383.7663  228242.6403\n",
       " [9006]  384556.5995  274369.5907  607899.3917  436136.1013  352510.2659\n",
       " [9011]  377614.1656  512770.8927   96902.2754   97049.4670  363957.3244\n",
       " [9016]  636151.8225   49382.3125  341731.6700  730937.7210  630092.8556\n",
       " [9021]  393119.1591  354220.9556  262187.8345  531935.4442  275507.2148\n",
       " [9026]  334401.6676  484818.2094  485790.2267  199782.8693  779961.0233\n",
       " [9031]  546788.6101  541387.2044  578597.1419  304674.6426  859424.6857\n",
       " [9036]  462004.2366  246221.0477  351930.8714  109374.0582  411629.9772\n",
       " [9041]  120548.3996  400468.6739  461274.1226  700374.4270  225548.5923\n",
       " [9046]  514697.6212  563288.9362  350681.8367  472702.3117  224587.7986\n",
       " [9051]  510756.2040  232512.4629  412059.7202  333888.1601  411358.9001\n",
       " [9056]  508234.7074   25823.1989  646018.0349  232719.5862  355865.7480\n",
       " [9061]  327181.7054  644268.5546  765680.1359  372119.3637  503125.0434\n",
       " [9066]  205560.0810  196819.6752  461246.6201  684188.0946  384018.4406\n",
       " [9071]  364304.1508  667258.9867  215699.7460  562375.9124  721195.5155\n",
       " [9076]  725747.4591  469058.2705   16435.3671  218673.8136  160667.8951\n",
       " [9081]  348773.5538  373556.9798  230994.2060  667657.0492  770649.5403\n",
       " [9086]  415159.9758  668245.5274  481498.9491  311886.0438  259189.6866\n",
       " [9091]  273360.4073  115730.4250  488157.6731  452534.5712  305523.6997\n",
       " [9096]  698159.2329  606981.4533  269361.5542  560727.5835  130300.5617\n",
       " [9101]  392903.0409  447378.5766  262944.5552  348170.8006  197129.9763\n",
       " [9106]  553237.7767  622876.6215  201170.3213  388687.9493  365491.2587\n",
       " [9111]  363256.6818  434199.8824  230607.2101  387065.0492  447932.5473\n",
       " [9116]  341097.4558  397923.0450  331991.7837  728187.2684  450433.1302\n",
       " [9121]  620279.4573  339171.9298  588985.1293  815883.0018  601513.0827\n",
       " [9126]  544278.8741  532890.2159  478222.1781  392339.6625  464957.0727\n",
       " [9131]  577887.1945  313533.8230  391744.8750  160311.3536  368453.9304\n",
       " [9136]  459566.0398  618527.0344  471467.3670  537000.6438  309583.4696\n",
       " [9141]  373813.0448  590425.1027  537343.0217  293780.3341  443211.7133\n",
       " [9146]  644971.2342  627078.1668   80023.2226  430645.3385  588134.5261\n",
       " [9151]  673903.6253  197931.7507  465091.6577  420677.1821  494835.1546\n",
       " [9156]  386836.8673  411904.2093  655973.3794  243418.5902  529134.7908\n",
       " [9161]  379086.7351  746883.8006  370483.5808  960420.0492  775130.1021\n",
       " [9166]  599706.6888  453766.6574  510163.6614  -90418.6605  533999.2290\n",
       " [9171]  505783.3151  527191.0665  489792.1444  383052.7597  197889.5984\n",
       " [9176]  559148.7738  573105.7591  376810.4520  360678.6376  376642.5475\n",
       " [9181]  284756.3248  413492.4902  618848.5064  282202.7146  444767.2143\n",
       " [9186]  957750.0646  364139.0996  461810.1161  379626.3656  495271.2635\n",
       " [9191]  574350.6910  377433.2692  313147.4760  352808.8336  639226.3842\n",
       " [9196]  522508.1463  863964.1917  588066.1428  377742.3192  375544.0694\n",
       " [9201]  405506.8846  643675.4037  286765.9146  192454.1955  164127.7218\n",
       " [9206]  536138.1578  541066.8593  532730.7453  301853.9252  208186.5003\n",
       " [9211]  197732.1797  401221.1800  255213.1673  474024.3520  607000.6340\n",
       " [9216]  386556.5799  737638.5548  386850.2543  614043.4476  409354.9513\n",
       " [9221]  147894.3101  205071.9825  487449.4120  864911.5627  460190.5623\n",
       " [9226]  387050.4171   64269.1637  435041.5025  402471.4042  579071.9937\n",
       " [9231]  421421.1569   11726.0954  260566.3522  169324.9948  529322.2284\n",
       " [9236]  669652.2829  526535.2862  191746.5874  219581.3053  264734.6493\n",
       " [9241]  458998.8053  565460.7699  478963.6097  553507.9154  597632.8703\n",
       " [9246]  368414.4059  323581.4138  355373.1395  487803.0185  187629.5441\n",
       " [9251]  539546.2035  503790.0533  400480.0359  330716.3834  402666.0285\n",
       " [9256]  377062.0763  610841.0770  340874.8138  307067.7671  489227.2108\n",
       " [9261]  526807.0814  220027.5819  291684.4245  330057.0518  479209.5113\n",
       " [9266]  500562.9873  464395.1440  548725.9947  361063.7036  409795.4385\n",
       " [9271]  468427.1938  234805.1205  565925.0538  318418.2307  507456.4192\n",
       " [9276]  326180.8648  733035.5570  618980.8092  469457.5756  405084.9822\n",
       " [9281]  464420.0689  395482.8856  180131.3453  469642.5733  185627.8278\n",
       " [9286]  522833.3174  310421.4533  533806.9847  512244.7726  499430.5095\n",
       " [9291]  592776.8121  389933.3754  320693.4798  524174.4142  762683.3608\n",
       " [9296]  648415.0140  430303.0612  318266.4442  601236.8003  511950.5582\n",
       " [9301]  319457.1963  696255.9027  656549.6757  252506.6529  846211.5781\n",
       " [9306]  747690.2132  395385.0656  474989.1814  587355.5107  617248.6895\n",
       " [9311]  209258.5976  424665.9560  223572.1059  342399.1945  209391.6318\n",
       " [9316]  679485.7338  309167.9398  455863.4701  372937.6843  384978.3311\n",
       " [9321]  835095.8235  456403.0849  515052.4662  152921.3274  617179.7804\n",
       " [9326]  192173.3928  488769.2127  471284.4747  305595.6711  604054.6064\n",
       " [9331]  484590.8658  338489.5096  375938.0314  557288.9904  660834.0756\n",
       " [9336]  698310.4926  127193.8279  344538.0685  426913.2285  547689.5735\n",
       " [9341]  619756.2336  283477.2348  239702.9315  608195.4610  369949.4125\n",
       " [9346]  269962.9669  126901.2018  487653.2603  108638.6552  756675.2048\n",
       " [9351]  461124.9254  293405.4322  288954.8409  454892.8733  560660.3442\n",
       " [9356]  628559.2999  316036.1447  321515.6169  388206.5560  344781.5828\n",
       " [9361]  332425.9501  274900.6770  158942.5913  572235.1783  309783.2919\n",
       " [9366]  584022.9026  366014.2803  473041.5312  201893.6670  366291.6600\n",
       " [9371]  633743.4704  416214.4670  359795.2099 -116354.2550  427163.3074\n",
       " [9376]  251945.8019  679805.6767  104608.2864  452334.0311  543563.8465\n",
       " [9381]  372739.5425  338002.2744  484865.9467  452834.6419  292587.2489\n",
       " [9386]  517538.2689  279997.8606  534749.6953  609640.9677  520668.3715\n",
       " [9391]  428742.4945  349499.0468  610442.1721  495401.0680  772892.2130\n",
       " [9396]  614591.8093  285568.5532  479748.2668  270840.3647  479194.7514\n",
       " [9401]  512422.2879  905921.2264  637133.9439  180566.5023  382278.7759\n",
       " [9406]  266433.6237  489818.9544  503116.1711   86712.7491  485511.7005\n",
       " [9411]  772143.8745  376837.3403  545938.5275  109307.6739  408543.1003\n",
       " [9416]  336711.1945  329269.8882  249936.2357  533123.9754  584186.0442\n",
       " [9421]  734468.0995  192282.8655  580496.7943  264341.4895  541109.0936\n",
       " [9426]  461560.9733   90918.3903  447763.5312  430515.3113  238893.5665\n",
       " [9431]  444735.0621  265271.1353  219944.9210  394293.6808  432406.5661\n",
       " [9436]  502530.5491  669248.5564  553731.1415  382327.6960  302296.8201\n",
       " [9441]  628725.1885  609304.1312  168789.6536  640078.0436  489164.4764\n",
       " [9446]  333068.2524  619289.6441  468187.9201  459858.0755  412899.8349\n",
       " [9451]  494197.2632  243408.3713   49256.6280  396967.8229   40724.6248\n",
       " [9456]  574858.2467  345773.6671  427486.1841  361729.0392  524646.4168\n",
       " [9461]  368422.7839  630156.0180  534568.3964  829920.0131  386499.3020\n",
       " [9466]  239108.3133  617775.8315  449938.5761  187095.5732  395615.9549\n",
       " [9471]  391589.6894  253335.7701  685270.4006  546362.0243  671853.0726\n",
       " [9476]  646771.5351  338689.5832  717101.2125  681259.2878  456332.0121\n",
       " [9481]  217821.3749  419622.4028  313151.6207  543369.1437  444001.6038\n",
       " [9486]  235297.9885  239542.0725  371474.7958  299055.0860  459054.0825\n",
       " [9491]  286576.3030  222662.0052  562050.2707  123629.6062  296523.9253\n",
       " [9496]  163050.4692  418656.8734  573496.3917  571115.1621  465822.8022\n",
       " [9501]  641628.9587  124495.0602  364062.7823  492134.2275  505494.6984\n",
       " [9506]  488483.1230  607821.2972  447982.0196  669869.0698  509155.7115\n",
       " [9511]  590180.2342   95595.7016  384714.9925  546654.5155  368355.1303\n",
       " [9516]  220709.9525  383323.7111  660136.8871  325124.8793  461453.3948\n",
       " [9521]  482340.7489  467313.4546  496884.3595  506226.5744  475122.7441\n",
       " [9526]  537074.2563  661023.6831  391750.1896  583135.2575  709081.7422\n",
       " [9531]  583621.8989  169832.2570  800521.0646  572385.9229  281662.1757\n",
       " [9536]  560871.1202  238065.6058  531262.4799  607651.3576  498808.7675\n",
       " [9541]  372928.0843   23166.5589  509951.3502  538517.8698  600159.0725\n",
       " [9546]  695913.5010  640709.9520  399723.2831  550976.5284  679492.8505\n",
       " [9551]  336389.6997  640643.7065  525257.2348  366893.7107  155535.7178\n",
       " [9556]  240033.6408  248678.1974  605961.8955  462644.1147  470545.7823\n",
       " [9561]  546031.6905  577668.2067  223530.5262  276014.5681  502542.8114\n",
       " [9566]  449543.6223  539835.5894  547020.6954  512703.7596  574724.7332\n",
       " [9571]  601309.4747  308601.1911  308524.9557  286174.4178  581364.9655\n",
       " [9576]  513183.2202  512836.3483  248722.2096  205797.2326  267972.6438\n",
       " [9581]  333279.1061  152411.0736  606681.3852  740553.3573  495316.2475\n",
       " [9586]  310516.0631  471364.5387  426910.1007  486140.0055   64562.6069\n",
       " [9591]  580531.9960  534720.8696  427853.7394  426230.6103  322824.8947\n",
       " [9596]  394164.1478  324639.4865  523269.2454  411245.9812  499972.6472\n",
       " [9601]  251294.9600  584883.6265  544953.0145  268032.0405  196251.9256\n",
       " [9606]  702767.0365  426554.4372  380994.8042  568356.4359  439666.8874\n",
       " [9611]  351569.2166  743336.5334  267252.0930  392501.6040  482919.0959\n",
       " [9616]  615109.3977  482356.7780  594947.8026  624985.1935  500933.1586\n",
       " [9621]  152158.0667  391469.8010  267851.1689  424732.2740   17166.9783\n",
       " [9626]  112512.7317  298670.8451  391497.8130  520942.5145  434172.1392\n",
       " [9631]  561341.6883  464672.5400  444585.3502  563168.1460  506550.9982\n",
       " [9636]  284308.3945  344238.8527  376944.7359  333305.2995  602187.8892\n",
       " [9641]  290429.9801  447829.7607  283072.5715  189117.8400  299773.6603\n",
       " [9646]  284720.4174  465450.5719  182239.1911  485225.0574  536816.1127\n",
       " [9651]  628466.0500  460303.6080  423619.3725  203567.1648  435708.6820\n",
       " [9656]  380350.0262  660669.9475  591568.4781  769018.1538  335409.7789\n",
       " [9661]  463576.4545  628981.0735  302323.6024  440136.0809  303993.9527\n",
       " [9666]  401924.5390  227136.6360  291194.4483  476260.9175  459084.2319\n",
       " [9671]  285641.3779  820330.4737  709934.6710  271203.6646  387546.3133\n",
       " [9676]  444594.9753  278941.7215  404026.2943  242457.2142  360719.6457\n",
       " [9681]  388189.9139  754885.1097  250703.8269  362485.1976  744486.0612\n",
       " [9686]  522832.4001  434145.0763  254507.5022  409173.5589  319006.6156\n",
       " [9691]  418127.3005  445909.4910  598292.1534  552751.1162  452680.3922\n",
       " [9696]  207783.1613  695297.4609  566632.6924  520041.3176  434646.3062\n",
       " [9701]  682684.9553  183722.6558  484887.7063  352638.9264  268108.3902\n",
       " [9706]  548932.0632  473581.6900  778799.7337  273711.8142  365611.7576\n",
       " [9711]  472286.2233  412132.0244   45021.0449  444123.7487  467211.8972\n",
       " [9716]  583228.0887  276300.8760  274907.4946  597465.6840  436617.5933\n",
       " [9721]  491869.1337  455901.8048  431233.8043  523371.2483  620789.5891\n",
       " [9726]  497462.1919  398719.3672  200823.4791  365439.3560   32592.3722\n",
       " [9731]  308710.1167  252135.9638  414424.8443  195041.9341  657644.6798\n",
       " [9736]   72056.3989  268280.1109  607985.8754  555247.0621  595659.1505\n",
       " [9741]  386826.2391  770667.4237  340214.7943  408860.1270  568031.7827\n",
       " [9746]  559068.3751  325521.2985  587060.0898  454859.5782  583977.7982\n",
       " [9751]  511513.2560  372933.0251  624153.3444  413092.0881  433386.3959\n",
       " [9756]  338429.9161  588560.8381  556809.9053  436882.2845 -258974.2962\n",
       " [9761]  588306.7603  463613.1168  285160.3836  850181.8034  690493.6431\n",
       " [9766]  578032.2590  301961.9777  302151.1538  585476.3633  403892.3317\n",
       " [9771]  227120.8877  414543.6847  574564.0289  403450.0651  588406.8492\n",
       " [9776]  623920.1925  501661.5333  683954.5145  475672.5590  359091.9408\n",
       " [9781]  488237.0466  -21751.6362  361711.7000  154228.2112  375914.6221\n",
       " [9786]  317485.1479  179159.9103  451283.2836  360179.6589  468761.4085\n",
       " [9791]   83506.2043  794267.4522  361832.2297  488076.2814  435731.5381\n",
       " [9796]  451350.5712  356269.9952  471616.1491  567775.0319  296895.5397\n",
       " [9801]  544290.7255  370148.9972  427741.9105  589986.6347  344049.1456\n",
       " [9806]  558525.7820  255170.6786  364335.5227  486206.2707   -6107.7800\n",
       " [9811]  209401.5215  679598.1693  928237.3146  736578.9431  452617.0391\n",
       " [9816]  529126.5711  476040.1441  207594.0306  108116.2491  442153.1003\n",
       " [9821]  348910.6385  563715.5887  448698.7890  365749.0375  633366.2929\n",
       " [9826]  705234.0998  506642.4406  562465.8624  618101.5645  543759.8391\n",
       " [9831]  256437.7118  208264.4675  473902.0719  444883.9804  416205.8993\n",
       " [9836]  705660.1964  490098.4938  273411.5643  287738.7687  204236.4118\n",
       " [9841]  378533.6980  514374.2736  507857.7152  324890.5431  491183.7311\n",
       " [9846]  389954.7842  410633.1251  360640.0955  361571.0929  658339.8979\n",
       " [9851]  604304.1294  512204.9115  446649.5429  634537.5183  551536.1170\n",
       " [9856]  475941.0924  926098.7417  957499.6632  593494.0136  285690.8874\n",
       " [9861]  673171.5129  355569.7323  589813.2624  230217.9881  439843.1862\n",
       " [9866]  460353.0472  777503.4466  311878.8138  428396.2311  302587.2951\n",
       " [9871]  582151.9185   87743.9430  556410.5426  533313.2441  176363.7696\n",
       " [9876]  785077.0645  418637.0180  436219.2355  691233.0766  333508.7791\n",
       " [9881]  313745.3594  759753.4023  369621.6410  679349.2984  789608.2331\n",
       " [9886] -142644.5194  418965.3908  419874.3327  376796.7053  334453.9553\n",
       " [9891]  456260.2302  605941.3119  319622.7419  530751.1492  368178.4081\n",
       " [9896]  338946.9607  529134.8407  421470.7444  507679.8566  671826.3702\n",
       " [9901]  339723.8360  510102.3664  467232.7544  714407.1563  390949.7501\n",
       " [9906]  641224.9392  550378.4153  322205.4245  395697.7779  591626.1561\n",
       " [9911]  265750.6984  445136.8537   76757.6833  331401.9990  510695.1505\n",
       " [9916]  100578.6230  331185.5331  188799.2262  585965.8885  544626.5848\n",
       " [9921]  372191.4328  696827.4150  516952.1181  239449.9704  140057.7850\n",
       " [9926]  469769.0955  411621.0973  785829.9219  445536.2327  400338.6798\n",
       " [9931]  155061.1829  649227.0984  465920.5001  431317.5077  379073.2253\n",
       " [9936]  525715.6118  238652.6875   75849.1773  533906.3537  561913.9038\n",
       " [9941]  442160.1018  719259.2409  585486.5163  103942.0313  412080.7531\n",
       " [9946]  443651.7589  518148.7970  482087.4915  342872.1746  350010.0537\n",
       " [9951]  109485.3579  148642.8726  341154.5575  302540.3948  142790.6698\n",
       " [9956]  719400.8472  286264.7430  477493.5660  445007.1667  755767.3701\n",
       " [9961]  -24667.4717  726635.7505  729161.3252  570577.9388  231514.3239\n",
       " [9966]  807684.3877  463690.8352  354783.9856  636241.8700   18884.2695\n",
       " [9971]  291151.7745  271200.7271  413805.2446  397371.9612  578943.3968\n",
       " [9976]  385395.9642  345701.4209  282210.6133  449587.2200  153064.1750\n",
       " [9981]  355556.3890  443800.6743  431556.1708  293452.1633  473255.6387\n",
       " [9986]  249271.2846  627305.3937  362972.2509  377418.6858  453702.4234\n",
       " [9991]  170409.8172  269016.3731  324852.1248  771335.2233  439019.6299\n",
       " [9996]  465156.6832  636915.9960  387259.1358  353359.0159  496283.4340"
      ]
     },
     "metadata": {},
     "output_type": "display_data"
    }
   ],
   "source": [
    "vec_vpn2 #Cambios en el valor presente neto ante cambio en el precio"
   ]
  },
  {
   "cell_type": "code",
   "execution_count": 28,
   "metadata": {
    "slideshow": {
     "slide_type": "subslide"
    }
   },
   "outputs": [
    {
     "data": {
      "image/png": "[encoded data removed]",
      "text/plain": [
       "Plot with title \"Análisis de sensibilidad de precio\""
      ]
     },
     "metadata": {
      "image/png": {
       "height": 420,
       "width": 420
      },
      "text/plain": {
       "height": 420,
       "width": 420
      }
     },
     "output_type": "display_data"
    }
   ],
   "source": [
    "# Gráficas de sensibilidad de precios\n",
    "plot(vec_precio,vec_vpn2,type=\"l\",xlim=c(2000,8000),xlab = \"Precio\",ylab=\"VPN\", main = \"Análisis de sensibilidad de precio\")"
   ]
  }
 ],
 "metadata": {
  "celltoolbar": "Slideshow",
  "kernelspec": {
   "display_name": "R",
   "language": "R",
   "name": "ir"
  },
  "language_info": {
   "codemirror_mode": "r",
   "file_extension": ".r",
   "mimetype": "text/x-r-source",
   "name": "R",
   "pygments_lexer": "r",
   "version": "3.6.2"
  }
 },
 "nbformat": 4,
 "nbformat_minor": 2
}
